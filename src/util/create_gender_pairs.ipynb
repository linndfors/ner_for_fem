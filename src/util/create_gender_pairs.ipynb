{
 "cells": [
  {
   "cell_type": "code",
   "execution_count": 1,
   "metadata": {},
   "outputs": [],
   "source": [
    "import pandas as pd\n",
    "import numpy as np\n",
    "import os\n",
    "import re\n",
    "import tqdm\n",
    "from typing import List, Dict\n",
    "import json\n",
    "import shutil"
   ]
  },
  {
   "cell_type": "code",
   "execution_count": 2,
   "metadata": {},
   "outputs": [
    {
     "name": "stderr",
     "output_type": "stream",
     "text": [
      "2025-04-22 10:29:14 INFO: Checking for updates to resources.json in case models have been updated.  Note: this behavior can be turned off with download_method=None or download_method=DownloadMethod.REUSE_RESOURCES\n"
     ]
    },
    {
     "data": {
      "application/vnd.jupyter.widget-view+json": {
       "model_id": "927bd3e412814e4188989a383975f3c8",
       "version_major": 2,
       "version_minor": 0
      },
      "text/plain": [
       "Downloading https://raw.githubusercontent.com/stanfordnlp/stanza-resources/main/resources_1.10.0.json:   0%|  …"
      ]
     },
     "metadata": {},
     "output_type": "display_data"
    },
    {
     "name": "stderr",
     "output_type": "stream",
     "text": [
      "2025-04-22 10:29:14 INFO: Downloaded file to /Users/linndfors/stanza_resources/resources.json\n",
      "2025-04-22 10:29:15 INFO: Loading these models for language: uk (Ukrainian):\n",
      "===========================\n",
      "| Processor | Package     |\n",
      "---------------------------\n",
      "| tokenize  | iu          |\n",
      "| mwt       | iu          |\n",
      "| pos       | iu_charlm   |\n",
      "| lemma     | iu_nocharlm |\n",
      "| depparse  | iu_charlm   |\n",
      "===========================\n",
      "\n",
      "2025-04-22 10:29:15 INFO: Using device: cpu\n",
      "2025-04-22 10:29:15 INFO: Loading: tokenize\n",
      "2025-04-22 10:29:17 INFO: Loading: mwt\n",
      "2025-04-22 10:29:17 INFO: Loading: pos\n",
      "2025-04-22 10:29:21 INFO: Loading: lemma\n",
      "2025-04-22 10:29:23 INFO: Loading: depparse\n",
      "2025-04-22 10:29:23 INFO: Done loading processors!\n"
     ]
    }
   ],
   "source": [
    "import stanza\n",
    "import pymorphy3\n",
    "import pymorphy2\n",
    "\n",
    "nlp = stanza.Pipeline('uk', processors='tokenize,mwt,pos,lemma,depparse')\n",
    "morph = pymorphy3.MorphAnalyzer()\n",
    "\n",
    "\n",
    "# # stanza.download('uk')"
   ]
  },
  {
   "cell_type": "code",
   "execution_count": 3,
   "metadata": {},
   "outputs": [],
   "source": [
    "parallel_dataset_ng_dataset = pd.read_csv(\"/Users/linndfors/study/diploma/ner_for_fem/data/csv_files_with_par_sentences/ng_parallel.csv\")\n",
    "parallel_dataset_bruk_dataset = pd.read_csv(\"/Users/linndfors/study/diploma/ner_for_fem/data/csv_files_with_par_sentences/bruk_parallel.csv\")"
   ]
  },
  {
   "cell_type": "code",
   "execution_count": 5,
   "metadata": {},
   "outputs": [
    {
     "data": {
      "text/html": [
       "<div>\n",
       "<style scoped>\n",
       "    .dataframe tbody tr th:only-of-type {\n",
       "        vertical-align: middle;\n",
       "    }\n",
       "\n",
       "    .dataframe tbody tr th {\n",
       "        vertical-align: top;\n",
       "    }\n",
       "\n",
       "    .dataframe thead th {\n",
       "        text-align: right;\n",
       "    }\n",
       "</style>\n",
       "<table border=\"1\" class=\"dataframe\">\n",
       "  <thead>\n",
       "    <tr style=\"text-align: right;\">\n",
       "      <th></th>\n",
       "      <th>original_sentence</th>\n",
       "      <th>orig_sent_id</th>\n",
       "      <th>changed_sentence</th>\n",
       "      <th>changed_sent_id</th>\n",
       "      <th>original_file_name</th>\n",
       "      <th>orig_ann</th>\n",
       "      <th>changed_ann</th>\n",
       "    </tr>\n",
       "  </thead>\n",
       "  <tbody>\n",
       "    <tr>\n",
       "      <th>0</th>\n",
       "      <td>Його редактором був поет-символіст Яків Савчен...</td>\n",
       "      <td>46</td>\n",
       "      <td>Його редакторкою була поетеса-символістка Анже...</td>\n",
       "      <td>46</td>\n",
       "      <td>e5e76a8efa0f.txt</td>\n",
       "      <td>{'T30': ('поет-символіст', 'JOB')}</td>\n",
       "      <td>{'T30': ('поетеса-символістка', 'JOB')}</td>\n",
       "    </tr>\n",
       "    <tr>\n",
       "      <th>1</th>\n",
       "      <td>Міжпредметні паралелі . Маніфест футуристів ск...</td>\n",
       "      <td>62</td>\n",
       "      <td>Міжпредметні паралелі . Маніфест футуристок ск...</td>\n",
       "      <td>62</td>\n",
       "      <td>e5e76a8efa0f.txt</td>\n",
       "      <td>{'T49': ('поет', 'JOB')}</td>\n",
       "      <td>{'T49': ('поетеса', 'JOB')}</td>\n",
       "    </tr>\n",
       "    <tr>\n",
       "      <th>2</th>\n",
       "      <td>Помітною була організація « Гарт » ( 1923 — 19...</td>\n",
       "      <td>96</td>\n",
       "      <td>Помітною була організація « Гарт » ( 1923 — 19...</td>\n",
       "      <td>96</td>\n",
       "      <td>e5e76a8efa0f.txt</td>\n",
       "      <td>{'T104': ('поет', 'JOB')}</td>\n",
       "      <td>{'T104': ('поетка', 'JOB')}</td>\n",
       "    </tr>\n",
       "    <tr>\n",
       "      <th>3</th>\n",
       "      <td>Її очолив байкар і прозаїк Сергій Пилипенко .</td>\n",
       "      <td>127</td>\n",
       "      <td>Її очолила байкарка і прозаїкиня Марія Пилипен...</td>\n",
       "      <td>127</td>\n",
       "      <td>e5e76a8efa0f.txt</td>\n",
       "      <td>{'T143': ('байкар', 'JOB'), 'T144': ('прозаїк'...</td>\n",
       "      <td>{'T143': ('байкарка', 'JOB'), 'T144': ('прозаї...</td>\n",
       "    </tr>\n",
       "    <tr>\n",
       "      <th>4</th>\n",
       "      <td>У Галицько-Волинському літописі згадується спі...</td>\n",
       "      <td>171</td>\n",
       "      <td>У Галицько-Волинському літописі згадується спі...</td>\n",
       "      <td>171</td>\n",
       "      <td>e5e76a8efa0f.txt</td>\n",
       "      <td>{'T218': ('співець', 'JOB')}</td>\n",
       "      <td>{'T218': ('співчиня', 'JOB')}</td>\n",
       "    </tr>\n",
       "  </tbody>\n",
       "</table>\n",
       "</div>"
      ],
      "text/plain": [
       "                                   original_sentence  orig_sent_id  \\\n",
       "0  Його редактором був поет-символіст Яків Савчен...            46   \n",
       "1  Міжпредметні паралелі . Маніфест футуристів ск...            62   \n",
       "2  Помітною була організація « Гарт » ( 1923 — 19...            96   \n",
       "3      Її очолив байкар і прозаїк Сергій Пилипенко .           127   \n",
       "4  У Галицько-Волинському літописі згадується спі...           171   \n",
       "\n",
       "                                    changed_sentence  changed_sent_id  \\\n",
       "0  Його редакторкою була поетеса-символістка Анже...               46   \n",
       "1  Міжпредметні паралелі . Маніфест футуристок ск...               62   \n",
       "2  Помітною була організація « Гарт » ( 1923 — 19...               96   \n",
       "3  Її очолила байкарка і прозаїкиня Марія Пилипен...              127   \n",
       "4  У Галицько-Волинському літописі згадується спі...              171   \n",
       "\n",
       "  original_file_name                                           orig_ann  \\\n",
       "0   e5e76a8efa0f.txt                 {'T30': ('поет-символіст', 'JOB')}   \n",
       "1   e5e76a8efa0f.txt                           {'T49': ('поет', 'JOB')}   \n",
       "2   e5e76a8efa0f.txt                          {'T104': ('поет', 'JOB')}   \n",
       "3   e5e76a8efa0f.txt  {'T143': ('байкар', 'JOB'), 'T144': ('прозаїк'...   \n",
       "4   e5e76a8efa0f.txt                       {'T218': ('співець', 'JOB')}   \n",
       "\n",
       "                                         changed_ann  \n",
       "0            {'T30': ('поетеса-символістка', 'JOB')}  \n",
       "1                        {'T49': ('поетеса', 'JOB')}  \n",
       "2                        {'T104': ('поетка', 'JOB')}  \n",
       "3  {'T143': ('байкарка', 'JOB'), 'T144': ('прозаї...  \n",
       "4                      {'T218': ('співчиня', 'JOB')}  "
      ]
     },
     "execution_count": 5,
     "metadata": {},
     "output_type": "execute_result"
    }
   ],
   "source": [
    "parallel_dataset_bruk_dataset.head()"
   ]
  },
  {
   "cell_type": "markdown",
   "metadata": {},
   "source": [
    "# Split: Female, Male, Common genders"
   ]
  },
  {
   "cell_type": "code",
   "execution_count": 3,
   "metadata": {},
   "outputs": [],
   "source": [
    "with open('/Users/linndfors/study/diploma/uk-gender-word-mapper/common_gender_words_list.txt') as file:\n",
    "    common_gender_words_list = [line.strip() for line in file if line.strip()]\n",
    "\n",
    "with open('/Users/linndfors/study/diploma/uk-gender-word-mapper/male_words_list.txt') as file:\n",
    "    male_list = [line.strip() for line in file if line.strip()]\n",
    "\n",
    "with open('/Users/linndfors/study/diploma/uk-gender-word-mapper/female_words_list.txt') as file:\n",
    "    female_list = [line.strip() for line in file if line.strip()]\n",
    "\n",
    "gender_dict_df = pd.read_csv(\"/Users/linndfors/study/diploma/uk-gender-word-mapper/gender_pairs_dictionary.csv\")\n",
    "\n",
    "gender_dict = {'male': [], 'female': []}\n",
    "\n",
    "for _, row in gender_dict_df.iterrows():\n",
    "    gender_dict['male'].append(row['male'])\n",
    "    female_values = [f.strip() for f in row['female'].split(',')]\n",
    "    gender_dict['female'].extend(female_values)\n",
    "\n",
    "gender_dict['female'] = list(set(gender_dict['female']))\n",
    "\n",
    "exceptions_common = [\"судді\",  \"глава\", \"голова\", \"керівництво\", \"в. о.\", \"головою\"]\n",
    "exceptions_male = ['ієромонах', 'прокурор', 'віце-премʼєр', 'премʼєр', 'начальник', 'міністр', 'директор', 'підрядник', 'генпідрядник', 'керівник', 'головнокомандувач']\n",
    "exceptions_female = ['премʼєрка', 'докторка', 'докторантка', 'директорка', 'міністерка', 'керівниця', 'начальниця', 'начальницю', 'генпідрядниця', 'прокурорка', 'ректорка']"
   ]
  },
  {
   "cell_type": "code",
   "execution_count": 4,
   "metadata": {},
   "outputs": [],
   "source": [
    "def parse_output(ent):\n",
    "    noun_dict = {\n",
    "        \"хліборобок\": \"хліборобка\",\n",
    "    \"культурологині\": \"культурологиня\",\n",
    "    \"директоркою\": \"директорка\",\n",
    "    \"слідчій\": \"слідча\",\n",
    "    \"прокурорка\": \"прокурорка\",\n",
    "    \"прокурорки\": \"прокурорка\",\n",
    "    \"Прокурорки\": \"прокурорка\",\n",
    "    \"прокуроркою\": \"прокурорка\",\n",
    "    \"прокурорці\": \"прокурорка\",\n",
    "    \"адміністраторок\": \"адміністраторка\",\n",
    "    \"слідчу\": \"слідча\",\n",
    "    \"слідча\": \"слідча\",\n",
    "    \"начальницею\": \"начальниця\",\n",
    "    \"податківка\": \"податківка\",\n",
    "    \"монопольниці\": \"монопольниця\",\n",
    "    \"начальницю\": \"начальниця\",\n",
    "    \"психіатрині\": \"психіатриня\",\n",
    "    \"наркологині\": \"наркологиня\",\n",
    "    \"міністерки\": \"міністерка\",\n",
    "    \"рітейлерками\": \"рітейлерка\",\n",
    "    \"начальниці\": \"начальниця\",\n",
    "    \"екологині\": \"екологиня\",\n",
    "    \"податківчині\": \"податківчиня\",\n",
    "    \"журналісткам\": \"журналістка\",\n",
    "    \"підрядницею\": \"підрядниця\",\n",
    "    \"директорка\": \"директорка\",\n",
    "    \"інженерка\": \"інженерка\",\n",
    "    \"службовиці\": \"службовиця\",\n",
    "    \"інженерці\": \"інженерка\",\n",
    "    \"податківниць\": \"податківниця\",\n",
    "    \"депутатку\": \"депутатка\",\n",
    "    \"керівниця\": \"керівниця\",\n",
    "    \"керівницею\": \"керівниця\",\n",
    "    \"юристок\": \"юристка\",\n",
    "    \"інспекторки\": \"інспекторка\",\n",
    "    \"інженерок\": \"інженерка\",\n",
    "    \"ревізорок\": \"ревізорка\",\n",
    "    \"нардепок\": \"нардепка\",\n",
    "    \"бізнесменок\": \"бізнесменка\",\n",
    "    \"генпідрядниці\": \"генпідрядниця\",\n",
    "    \"прокурор\": \"прокурор\",\n",
    "    \"віце-премʼєра\": \"віце-прем'єр\",\n",
    "    \"премʼєр\": \"прем'єр\",\n",
    "    \"начальника\": \"начальник\",\n",
    "    \"начальником\": \"начальник\",\n",
    "    \"міністра\": \"міністр\",\n",
    "    \"директором\": \"директор\",\n",
    "    \"підрядником\": \"підрядник\",\n",
    "    \"аграрія\": \"аграрій\",\n",
    "    \"депутата\": \"депутат\",\n",
    "    \"генпідрядника\": \"генпідрядник\",\n",
    "    \"генпідрядником\": \"генпідрядник\",\n",
    "    \"начальник\": \"начальник\",\n",
    "    \"керівником\": \"керівник\",\n",
    "    \"керівник\": \"керівник\",\n",
    "    \"судді\": \"суддя\",\n",
    "    \"ченці\": \"чернець\",\n",
    "    \"ченців\": \"чернець\",\n",
    "    \"глави\": \"глава\",\n",
    "    \"голови\": \"голова\",\n",
    "    \"керівництво\": \"керівництво\",\n",
    "    \"головою\": \"голова\",\n",
    "    \"князів\": \"князь\",\n",
    "    \"водія\": \"водій\",\n",
    "    \"хіміка\": \"хімік\",\n",
    "    \"хіміки\": \"хімік\",\n",
    "    \"ведучій\": \"ведуча\",\n",
    "    \"механіка\": \"механік\",\n",
    "    \"інокам\": \"інок\",\n",
    "    \"головнокомандувача\": \"головнокомандувач\",\n",
    "    \"наркологині\": \"наркологиня\",\n",
    "    \"членкині\": \"членкиня\",\n",
    "    \"інженерці\": \"інженерка\",\n",
    "    \"мисливствознавиці\": \"мисливствознавиця\",\n",
    "    \"логопедині\": \"логопединя\",\n",
    "    \"математикині\": \"математикиня\",\n",
    "    \"психологині\": \"психологиня\", \n",
    "    \"філологині\": \"філологиня\",\n",
    "    \"голопедині\": \"голопединя\",\n",
    "    \"урядовицs\": \"урядовиця\",\n",
    "    \"філософині\": \"філософиня\",\n",
    "    \"педагогині\": \"педагогиня\",\n",
    "    \"мера\": \"мер\"\n",
    "    }\n",
    "    if ent in noun_dict.keys():\n",
    "        return noun_dict[ent]\n",
    "    return"
   ]
  },
  {
   "cell_type": "code",
   "execution_count": 5,
   "metadata": {},
   "outputs": [],
   "source": [
    "def extract_main_word(text):\n",
    "    if \"-\" in text:\n",
    "        parts = text.split(\"-\")\n",
    "        main_word = parts[-1]\n",
    "        doc = nlp(main_word)\n",
    "        for sentence in doc.sentences:\n",
    "            for word in sentence.words:\n",
    "                return word.lemma\n",
    "\n",
    "    doc = nlp(text)\n",
    "\n",
    "    for sentence in doc.sentences:\n",
    "        for word in sentence.words:\n",
    "            if word.head == 0:\n",
    "                main_word = word\n",
    "                if main_word.text in {\"рок\", \"анти\", \"псевдо\", \"віце\", \"топ\"}:\n",
    "                    continue\n",
    "                return main_word.lemma\n",
    "    for sentence in doc.sentences:\n",
    "        for word in sentence.words:\n",
    "            return word.lemma\n",
    "        \n",
    "def extract_job_gender(entity):\n",
    "    entity = entity.lower()\n",
    "    job = nlp(entity)\n",
    "    join_sign = \" \" if \" \" in entity else (\"\" if \"-\" in entity else \"\")\n",
    "    job_ent_list = [word.lemma for sent in job.sentences for word in sent.words]\n",
    "    job_lemma = join_sign.join(job_ent_list)\n",
    "\n",
    "    if len(job_ent_list) > 1:\n",
    "        job_lemma = extract_main_word(job_lemma)\n",
    "\n",
    "    words = entity.split()\n",
    "    lemmatized_words = []\n",
    "    for word in words:\n",
    "        parsed_word = morph.parse(word)[0]\n",
    "        if 'plur' in parsed_word.tag:\n",
    "            singular_form = parsed_word.inflect({'sing'}).word if parsed_word.inflect({'sing'}) else parsed_word.normal_form\n",
    "            lemmatized_words.append(singular_form)\n",
    "        else:\n",
    "            lemmatized_words.append(parsed_word.normal_form)\n",
    "            \n",
    "    job_lemma_pymorphy = join_sign.join(lemmatized_words)\n",
    "\n",
    "    if len(job_ent_list) > 1:\n",
    "        job_lemma_pymorphy = extract_main_word(job_lemma_pymorphy)\n",
    "\n",
    "    ent_forms = [entity, job_lemma, job_lemma_pymorphy]\n",
    "\n",
    "    custom_dict_ent_value = parse_output(entity)\n",
    "    if custom_dict_ent_value:\n",
    "        ent_forms.append(custom_dict_ent_value)\n",
    "\n",
    "    for word in words:\n",
    "        for common_word in exceptions_common:\n",
    "            if common_word == word or common_word == parse_output(word):\n",
    "                return \"common\", job_lemma\n",
    "            \n",
    "        for female_word in exceptions_female:\n",
    "            if female_word == word or female_word == parse_output(word):\n",
    "                return \"female\", job_lemma\n",
    "            \n",
    "        for male_word in exceptions_male:\n",
    "            if male_word == word or male_word == parse_output(word):\n",
    "                return \"male\", job_lemma\n",
    "        \n",
    "    for x in ent_forms:\n",
    "        if (x in gender_dict['female']) or (x in female_list) or (\"знавиця\" in x):\n",
    "            return \"female\", job_lemma\n",
    "        elif (x in gender_dict['male']) or (x in male_list) or (\"знавець\" in x) or (x==\"мера\"):\n",
    "            return \"male\", job_lemma\n",
    "        elif x in common_gender_words_list:\n",
    "            return \"common\", job_lemma\n",
    "        \n",
    "    # print(\"unkown for:\", entity, \" - \", job_lemma, \" - \", job_lemma_pymorphy)\n",
    "    return \"unknown_gender\", job_lemma"
   ]
  },
  {
   "cell_type": "code",
   "execution_count": 6,
   "metadata": {},
   "outputs": [],
   "source": [
    "import ast\n",
    "\n",
    "def return_gendered_dict(parallel_dataset, annotation_col_name, swapped=0):\n",
    "    file_gender_dict = {\"male\": {}, \"female\": {}, \"common\": {}, \"unknown_gender\": {}}\n",
    "\n",
    "    total_job_counter = 0\n",
    "    job_list = []\n",
    "\n",
    "    for x, row in tqdm.tqdm(parallel_dataset.iterrows()):\n",
    "        filename = row['original_file_name']\n",
    "        if swapped:\n",
    "            filename = filename.replace(\".txt\", \"_1.txt\")\n",
    "        orig_annotation = row[annotation_col_name]\n",
    "\n",
    "        ann_str = orig_annotation.replace(\"'\", '\"')\n",
    "        ann_str = ann_str.replace(\"–\", '-')\n",
    "        json_ann = ast.literal_eval(ann_str)\n",
    "        \n",
    "        try:\n",
    "            for ent, feat in json_ann.items():\n",
    "                if feat[1] == 'JOB':\n",
    "                    total_job_counter += 1\n",
    "                    job_list.append(feat[0])\n",
    "                    gender_value, lemma_word = extract_job_gender(feat[0])\n",
    "                    \n",
    "                    if filename not in file_gender_dict[gender_value]:\n",
    "                        file_gender_dict[gender_value][filename] = [(ent, lemma_word)]\n",
    "                    else:\n",
    "                        file_gender_dict[gender_value][filename].append((ent, lemma_word))\n",
    "                    \n",
    "        except Exception as e:\n",
    "            print(f\"Issue with row: {row} - Error: {e}\")\n",
    "    return file_gender_dict, total_job_counter, job_list"
   ]
  },
  {
   "cell_type": "code",
   "execution_count": 7,
   "metadata": {},
   "outputs": [],
   "source": [
    "from collections import Counter\n",
    "\n",
    "def return_gender_stat(total_job_counter, file_gender_dict):\n",
    "    print(\"total size:\", total_job_counter)\n",
    "\n",
    "    for gender_class, val in file_gender_dict.items():\n",
    "        print(\"================\")\n",
    "        \n",
    "        print(\"gender:\", gender_class)\n",
    "\n",
    "        gender_entities = []\n",
    "\n",
    "        print(\"number of files for the gender:\", len(file_gender_dict[gender_class]))\n",
    "        number_of_ents = 0\n",
    "        for files, ents in file_gender_dict[gender_class].items():\n",
    "            number_of_ents += len(ents)\n",
    "            gender_entities += [pair[1] for pair in ents]\n",
    "            \n",
    "        print(\"number of entities for the gender:\", number_of_ents)\n",
    "        print(\"percentage:\", number_of_ents/total_job_counter)\n",
    "\n",
    "        counter = Counter(gender_entities)\n",
    "\n",
    "        print(\"The most popular entity:\", counter.most_common(1)[0][0])\n",
    "\n",
    "        print(\"================\")"
   ]
  },
  {
   "cell_type": "code",
   "execution_count": null,
   "metadata": {},
   "outputs": [],
   "source": [
    "def split_files(file_gender_dict, source_dir):\n",
    "    female_files = []\n",
    "    male_files = []\n",
    "    common_files = []\n",
    "\n",
    "    for filename, gen_stat in file_gender_dict.items():\n",
    "        if len(list(gen_stat.keys())) == 1:\n",
    "            full_path = os.path.join(source_dir, filename)\n",
    "            gen = list(gen_stat.keys())[0]\n",
    "            if gen == \"male\":\n",
    "                male_files.append(full_path)\n",
    "            elif gen == \"female\":\n",
    "                female_files.append(full_path)\n",
    "            elif gen == \"common\":\n",
    "                common_files.append(full_path)\n",
    "\n",
    "\n",
    "    return female_files, male_files, common_files"
   ]
  },
  {
   "cell_type": "code",
   "execution_count": null,
   "metadata": {},
   "outputs": [],
   "source": [
    "def return_gender_file_stat(file_gender_dict):\n",
    "    file_gen_stat_dict = {}\n",
    "\n",
    "    for gen, file_stat in file_gender_dict.items():\n",
    "        for filename, ents in file_stat.items():\n",
    "            if filename not in file_gen_stat_dict:\n",
    "                file_gen_stat_dict[filename] = {}\n",
    "            file_gen_stat_dict[filename][gen] = len(ents)\n",
    "    return file_gen_stat_dict"
   ]
  },
  {
   "cell_type": "markdown",
   "metadata": {},
   "source": [
    "## Original entitites"
   ]
  },
  {
   "cell_type": "markdown",
   "metadata": {},
   "source": [
    "### Ng"
   ]
  },
  {
   "cell_type": "code",
   "execution_count": 15,
   "metadata": {},
   "outputs": [
    {
     "name": "stderr",
     "output_type": "stream",
     "text": [
      "178it [00:58,  3.98it/s]"
     ]
    },
    {
     "name": "stdout",
     "output_type": "stream",
     "text": [
      "unkown for: податківці  -  податок  -  податківці\n"
     ]
    },
    {
     "name": "stderr",
     "output_type": "stream",
     "text": [
      "234it [01:16,  2.98it/s]"
     ]
    },
    {
     "name": "stdout",
     "output_type": "stream",
     "text": [
      "unkown for: _керівником  -  ткерівник  -  _керівник\n"
     ]
    },
    {
     "name": "stderr",
     "output_type": "stream",
     "text": [
      "311it [01:45,  2.76it/s]"
     ]
    },
    {
     "name": "stdout",
     "output_type": "stream",
     "text": [
      "unkown for: в. о. керівника  -  в  -  в.\n"
     ]
    },
    {
     "name": "stderr",
     "output_type": "stream",
     "text": [
      "317it [01:48,  1.77it/s]"
     ]
    },
    {
     "name": "stdout",
     "output_type": "stream",
     "text": [
      "unkown for: народного депутата-бютівця  -  бютівець  -  бютівець\n"
     ]
    },
    {
     "name": "stderr",
     "output_type": "stream",
     "text": [
      "328it [01:52,  1.65it/s]"
     ]
    },
    {
     "name": "stdout",
     "output_type": "stream",
     "text": [
      "unkown for: віце-премʼєра  -  прем’єрний  -  прем’єрый\n"
     ]
    },
    {
     "name": "stderr",
     "output_type": "stream",
     "text": [
      "506it [02:47,  4.70it/s]"
     ]
    },
    {
     "name": "stdout",
     "output_type": "stream",
     "text": [
      "unkown for: головні мисливствознавці держлісгоспів  -  мисливствітнавка  -  мисливствітнавка\n",
      "unkown for: аграрія  -  аграрія  -  аграріть\n"
     ]
    },
    {
     "name": "stderr",
     "output_type": "stream",
     "text": [
      "563it [03:00,  5.47it/s]"
     ]
    },
    {
     "name": "stdout",
     "output_type": "stream",
     "text": [
      "unkown for: смотрящим  -  смотрящий  -  смотреть\n"
     ]
    },
    {
     "name": "stderr",
     "output_type": "stream",
     "text": [
      "671it [03:27,  9.13it/s]"
     ]
    },
    {
     "name": "stdout",
     "output_type": "stream",
     "text": [
      "unkown for: службовці  -  службовка  -  службовці\n"
     ]
    },
    {
     "name": "stderr",
     "output_type": "stream",
     "text": [
      "742it [03:50,  2.37it/s]"
     ]
    },
    {
     "name": "stdout",
     "output_type": "stream",
     "text": [
      "unkown for: в. о. генерального директора  -  в  -  в.\n"
     ]
    },
    {
     "name": "stderr",
     "output_type": "stream",
     "text": [
      "784it [04:06,  5.70it/s]"
     ]
    },
    {
     "name": "stdout",
     "output_type": "stream",
     "text": [
      "unkown for: аграрії  -  аграрія  -  аграрії\n"
     ]
    },
    {
     "name": "stderr",
     "output_type": "stream",
     "text": [
      "865it [04:25,  6.39it/s]"
     ]
    },
    {
     "name": "stdout",
     "output_type": "stream",
     "text": [
      "unkown for: податківців  -  податокець  -  податківціть\n"
     ]
    },
    {
     "name": "stderr",
     "output_type": "stream",
     "text": [
      "908it [04:37,  4.97it/s]"
     ]
    },
    {
     "name": "stdout",
     "output_type": "stream",
     "text": [
      "unkown for: в. о. гендиректора держкомпанії  -  в  -  в.\n"
     ]
    },
    {
     "name": "stderr",
     "output_type": "stream",
     "text": [
      "930it [04:43,  4.40it/s]"
     ]
    },
    {
     "name": "stdout",
     "output_type": "stream",
     "text": [
      "unkown for: т. в. о. директора  -  в.  -  в.\n"
     ]
    },
    {
     "name": "stderr",
     "output_type": "stream",
     "text": [
      "953it [04:49,  4.08it/s]"
     ]
    },
    {
     "name": "stdout",
     "output_type": "stream",
     "text": [
      "unkown for: податківка  -  податківка  -  податківка\n"
     ]
    },
    {
     "name": "stderr",
     "output_type": "stream",
     "text": [
      "954it [04:49,  4.83it/s]"
     ]
    },
    {
     "name": "stdout",
     "output_type": "stream",
     "text": [
      "unkown for: податківка  -  податківка  -  податківка\n"
     ]
    },
    {
     "name": "stderr",
     "output_type": "stream",
     "text": [
      "972it [04:53,  4.92it/s]"
     ]
    },
    {
     "name": "stdout",
     "output_type": "stream",
     "text": [
      "unkown for: в. о. управління  -  в  -  в.\n"
     ]
    },
    {
     "name": "stderr",
     "output_type": "stream",
     "text": [
      "990it [04:57,  4.49it/s]"
     ]
    },
    {
     "name": "stdout",
     "output_type": "stream",
     "text": [
      "unkown for: віце-премʼєра  -  прем’єрний  -  прем’єрый\n"
     ]
    },
    {
     "name": "stderr",
     "output_type": "stream",
     "text": [
      "1021it [05:04,  3.35it/s]\n"
     ]
    }
   ],
   "source": [
    "orig_ng_file_gender_dict, orig_ng_total_job_counter, orig_ng_job_list = return_gendered_dict(parallel_dataset_ng_dataset, \"orig_ann\")"
   ]
  },
  {
   "cell_type": "code",
   "execution_count": 13,
   "metadata": {},
   "outputs": [
    {
     "name": "stdout",
     "output_type": "stream",
     "text": [
      "total size: 1338\n",
      "================\n",
      "gender: male\n",
      "number of files for the gender: 269\n",
      "number of entities for the gender: 1134\n",
      "The most popular entity: директор\n",
      "================\n",
      "================\n",
      "gender: female\n",
      "number of files for the gender: 16\n",
      "number of entities for the gender: 25\n",
      "The most popular entity: підприємиця\n",
      "================\n",
      "================\n",
      "gender: common\n",
      "number of files for the gender: 85\n",
      "number of entities for the gender: 161\n",
      "The most popular entity: голова\n",
      "================\n",
      "================\n",
      "gender: unknown_gender\n",
      "number of files for the gender: 16\n",
      "number of entities for the gender: 18\n",
      "The most popular entity: в\n",
      "================\n"
     ]
    }
   ],
   "source": [
    "return_gender_stat(orig_ng_total_job_counter, orig_ng_file_gender_dict)"
   ]
  },
  {
   "cell_type": "code",
   "execution_count": null,
   "metadata": {},
   "outputs": [],
   "source": [
    "# orig_ng_female_files, orig_ng_male_files, orig_ng_common_files = split_files(orig_ng_file_gender_dict, \"/Users/linndfors/study/diploma/ner_for_fem/data/data_for_ner/data_for_ner_balanced/ng\")"
   ]
  },
  {
   "cell_type": "code",
   "execution_count": 40,
   "metadata": {},
   "outputs": [],
   "source": [
    "orig_ng_file_gen_stat_dict = return_gender_file_stat(orig_ng_file_gender_dict)"
   ]
  },
  {
   "cell_type": "code",
   "execution_count": 41,
   "metadata": {},
   "outputs": [],
   "source": [
    "orig_ng_female_files, orig_ng_male_files, orig_ng_common_files = split_files(orig_ng_file_gen_stat_dict, \"/Users/linndfors/study/diploma/ner_for_fem/data/data_for_ner/data_for_ner_balanced/ng\")"
   ]
  },
  {
   "cell_type": "code",
   "execution_count": 42,
   "metadata": {},
   "outputs": [
    {
     "name": "stdout",
     "output_type": "stream",
     "text": [
      "Total size: 274\n",
      "Number of male only files: 166\n",
      "Number of female only files: 0\n",
      "Number of common only files: 4\n"
     ]
    }
   ],
   "source": [
    "print(f\"Total size: {len(orig_ng_file_gen_stat_dict.keys())}\")\n",
    "print(f\"Number of male only files: {len(orig_ng_male_files)}\")\n",
    "print(f\"Number of female only files: {len(orig_ng_female_files)}\")\n",
    "print(f\"Number of common only files: {len(orig_ng_common_files)}\")"
   ]
  },
  {
   "cell_type": "markdown",
   "metadata": {},
   "source": [
    "### BRUK"
   ]
  },
  {
   "cell_type": "code",
   "execution_count": 43,
   "metadata": {},
   "outputs": [
    {
     "name": "stderr",
     "output_type": "stream",
     "text": [
      "0it [00:00, ?it/s]"
     ]
    },
    {
     "name": "stderr",
     "output_type": "stream",
     "text": [
      "2it [00:00,  3.47it/s]"
     ]
    },
    {
     "name": "stdout",
     "output_type": "stream",
     "text": [
      "unkown for: поет-символіст  -  символіст  -  символіст\n"
     ]
    },
    {
     "name": "stderr",
     "output_type": "stream",
     "text": [
      "85it [00:19,  3.49it/s]"
     ]
    },
    {
     "name": "stdout",
     "output_type": "stream",
     "text": [
      "unkown for: підмайстра  -  підмайстр  -  підмайстр\n"
     ]
    },
    {
     "name": "stderr",
     "output_type": "stream",
     "text": [
      "88it [00:20,  5.13it/s]"
     ]
    },
    {
     "name": "stdout",
     "output_type": "stream",
     "text": [
      "unkown for: підмайстра  -  підмайстр  -  підмайстр\n"
     ]
    },
    {
     "name": "stderr",
     "output_type": "stream",
     "text": [
      "188it [00:57,  5.19it/s]"
     ]
    },
    {
     "name": "stdout",
     "output_type": "stream",
     "text": [
      "unkown for: гармаші  -  гармаша  -  гармаші\n"
     ]
    },
    {
     "name": "stderr",
     "output_type": "stream",
     "text": [
      "213it [01:01,  5.03it/s]"
     ]
    },
    {
     "name": "stdout",
     "output_type": "stream",
     "text": [
      "unkown for: спортсменок  -  спортсменок  -  спортсменки\n"
     ]
    },
    {
     "name": "stderr",
     "output_type": "stream",
     "text": [
      "221it [01:04,  2.18it/s]"
     ]
    },
    {
     "name": "stdout",
     "output_type": "stream",
     "text": [
      "unkown for: командувачів видів  -  вид  -  командувати\n"
     ]
    },
    {
     "name": "stderr",
     "output_type": "stream",
     "text": [
      "250it [01:10,  4.73it/s]"
     ]
    },
    {
     "name": "stdout",
     "output_type": "stream",
     "text": [
      "unkown for: вчені  -  вчень  -  вчені\n"
     ]
    },
    {
     "name": "stderr",
     "output_type": "stream",
     "text": [
      "255it [01:11,  7.02it/s]"
     ]
    },
    {
     "name": "stdout",
     "output_type": "stream",
     "text": [
      "unkown for: богословів  -  богослів  -  богословіть\n"
     ]
    },
    {
     "name": "stderr",
     "output_type": "stream",
     "text": [
      "335it [01:24,  4.00it/s]"
     ]
    },
    {
     "name": "stdout",
     "output_type": "stream",
     "text": [
      "unkown for: канд . істор . наук  -  наука  -  наука\n"
     ]
    },
    {
     "name": "stderr",
     "output_type": "stream",
     "text": [
      "336it [01:26,  1.74it/s]"
     ]
    },
    {
     "name": "stdout",
     "output_type": "stream",
     "text": [
      "unkown for: канд . істор . наук  -  наука  -  наука\n"
     ]
    },
    {
     "name": "stderr",
     "output_type": "stream",
     "text": [
      "337it [01:27,  1.51it/s]"
     ]
    },
    {
     "name": "stdout",
     "output_type": "stream",
     "text": [
      "unkown for: канд . істор . наук  -  наука  -  наука\n"
     ]
    },
    {
     "name": "stderr",
     "output_type": "stream",
     "text": [
      "340it [01:29,  1.42it/s]"
     ]
    },
    {
     "name": "stdout",
     "output_type": "stream",
     "text": [
      "unkown for: канд . істор . наук  -  наука  -  наука\n"
     ]
    },
    {
     "name": "stderr",
     "output_type": "stream",
     "text": [
      "342it [01:30,  1.97it/s]"
     ]
    },
    {
     "name": "stdout",
     "output_type": "stream",
     "text": [
      "unkown for: канд . істор . наук  -  наука  -  наука\n"
     ]
    },
    {
     "name": "stderr",
     "output_type": "stream",
     "text": [
      "368it [01:36,  8.86it/s]"
     ]
    },
    {
     "name": "stdout",
     "output_type": "stream",
     "text": [
      "unkown for: учителі-ченці  -  ченка  -  ченка\n"
     ]
    },
    {
     "name": "stderr",
     "output_type": "stream",
     "text": [
      "372it [01:38,  4.18it/s]"
     ]
    },
    {
     "name": "stdout",
     "output_type": "stream",
     "text": [
      "unkown for: учителів-ченців  -  ченц  -  ченцати\n"
     ]
    },
    {
     "name": "stderr",
     "output_type": "stream",
     "text": [
      "379it [01:42,  1.51it/s]"
     ]
    },
    {
     "name": "stdout",
     "output_type": "stream",
     "text": [
      "unkown for: учителі-ченці  -  ченка  -  ченка\n"
     ]
    },
    {
     "name": "stderr",
     "output_type": "stream",
     "text": [
      "381it [01:43,  2.05it/s]"
     ]
    },
    {
     "name": "stdout",
     "output_type": "stream",
     "text": [
      "unkown for: ктиторів  -  ктитор  -  ктиторіть\n"
     ]
    },
    {
     "name": "stderr",
     "output_type": "stream",
     "text": [
      "386it [01:44,  3.46it/s]"
     ]
    },
    {
     "name": "stdout",
     "output_type": "stream",
     "text": [
      "unkown for: ченців-законників  -  законник  -  законнити\n"
     ]
    },
    {
     "name": "stderr",
     "output_type": "stream",
     "text": [
      "393it [01:45,  7.63it/s]"
     ]
    },
    {
     "name": "stdout",
     "output_type": "stream",
     "text": [
      "unkown for: ченцях  -  ченці  -  ченци\n",
      "unkown for: ченцях  -  ченці  -  ченци\n"
     ]
    },
    {
     "name": "stderr",
     "output_type": "stream",
     "text": [
      "400it [01:46,  7.29it/s]"
     ]
    },
    {
     "name": "stdout",
     "output_type": "stream",
     "text": [
      "unkown for: ченцеві  -  ченцева  -  ченцеві\n"
     ]
    },
    {
     "name": "stderr",
     "output_type": "stream",
     "text": [
      "405it [01:47,  6.93it/s]"
     ]
    },
    {
     "name": "stdout",
     "output_type": "stream",
     "text": [
      "unkown for: келарів  -  келар  -  келаріть\n"
     ]
    },
    {
     "name": "stderr",
     "output_type": "stream",
     "text": [
      "413it [01:48,  6.46it/s]"
     ]
    },
    {
     "name": "stdout",
     "output_type": "stream",
     "text": [
      "unkown for: єпископів  -  єписокп  -  єпископіть\n"
     ]
    },
    {
     "name": "stderr",
     "output_type": "stream",
     "text": [
      "414it [01:49,  6.10it/s]"
     ]
    },
    {
     "name": "stdout",
     "output_type": "stream",
     "text": [
      "unkown for: біскупи  -  біскупа  -  біскупить\n"
     ]
    },
    {
     "name": "stderr",
     "output_type": "stream",
     "text": [
      "452it [01:55,  9.75it/s]"
     ]
    },
    {
     "name": "stdout",
     "output_type": "stream",
     "text": [
      "unkown for: нквд-исти  -  нквд-исти  -  нквд-исть\n"
     ]
    },
    {
     "name": "stderr",
     "output_type": "stream",
     "text": [
      "454it [01:56,  8.12it/s]"
     ]
    },
    {
     "name": "stdout",
     "output_type": "stream",
     "text": [
      "unkown for: податківцям  -  податокець  -  податківци\n"
     ]
    },
    {
     "name": "stderr",
     "output_type": "stream",
     "text": [
      "460it [01:58,  2.89it/s]"
     ]
    },
    {
     "name": "stdout",
     "output_type": "stream",
     "text": [
      "unkown for: медичної сестри  -  сестра  -  сестереть\n"
     ]
    },
    {
     "name": "stderr",
     "output_type": "stream",
     "text": [
      "462it [01:59,  2.68it/s]"
     ]
    },
    {
     "name": "stdout",
     "output_type": "stream",
     "text": [
      "unkown for: медсестри  -  медсестр  -  медсестрить\n"
     ]
    },
    {
     "name": "stderr",
     "output_type": "stream",
     "text": [
      "473it [02:01,  4.72it/s]"
     ]
    },
    {
     "name": "stdout",
     "output_type": "stream",
     "text": [
      "unkown for: поетів-авангардистів  -  авангардист  -  авангардисти\n"
     ]
    },
    {
     "name": "stderr",
     "output_type": "stream",
     "text": [
      "476it [02:02,  6.52it/s]"
     ]
    },
    {
     "name": "stdout",
     "output_type": "stream",
     "text": [
      "unkown for: лінгвісти  -  лінгвість  -  лінгвість\n"
     ]
    },
    {
     "name": "stderr",
     "output_type": "stream",
     "text": [
      "480it [02:03,  3.22it/s]"
     ]
    },
    {
     "name": "stdout",
     "output_type": "stream",
     "text": [
      "unkown for: урядовці  -  урядовка  -  урядовці\n"
     ]
    },
    {
     "name": "stderr",
     "output_type": "stream",
     "text": [
      "492it [02:05,  3.92it/s]"
     ]
    },
    {
     "name": "stdout",
     "output_type": "stream",
     "text": [
      "total size: 638\n",
      "================\n",
      "gender: male\n",
      "number of files for the gender: 122\n",
      "number of entities for the gender: 508\n",
      "The most popular entity: поет\n",
      "================\n",
      "================\n",
      "gender: female\n",
      "number of files for the gender: 23\n",
      "number of entities for the gender: 46\n",
      "The most popular entity: вчителька\n",
      "================\n",
      "================\n",
      "gender: common\n",
      "number of files for the gender: 24\n",
      "number of entities for the gender: 53\n",
      "The most popular entity: голова\n",
      "================\n",
      "================\n",
      "gender: unknown_gender\n",
      "number of files for the gender: 14\n",
      "number of entities for the gender: 31\n",
      "The most popular entity: наука\n",
      "================\n"
     ]
    },
    {
     "name": "stderr",
     "output_type": "stream",
     "text": [
      "\n"
     ]
    }
   ],
   "source": [
    "orig_bruk_file_gender_dict, orig_bruk_total_job_counter, orig_bruk_job_list = return_gendered_dict(parallel_dataset_bruk_dataset, \"orig_ann\")\n",
    "return_gender_stat(orig_bruk_total_job_counter, orig_bruk_file_gender_dict)\n",
    "# orig_bruk_female_files, orig_bruk_male_files, orig_bruk_common_files = split_files(orig_bruk_file_gender_dict, \"/Users/linndfors/study/diploma/ner_for_fem/data/data_for_ner/data_for_ner_balanced/bruk\")"
   ]
  },
  {
   "cell_type": "code",
   "execution_count": 47,
   "metadata": {},
   "outputs": [],
   "source": [
    "orig_bruk_file_gen_stat_dict = return_gender_file_stat(orig_bruk_file_gender_dict)\n",
    "orig_bruk_female_files, orig_bruk_male_files, orig_bruk_common_files = split_files(orig_bruk_file_gen_stat_dict, \"/Users/linndfors/study/diploma/ner_for_fem/data/data_for_ner/data_for_ner_balanced/bruk\")"
   ]
  },
  {
   "cell_type": "code",
   "execution_count": 48,
   "metadata": {},
   "outputs": [
    {
     "name": "stdout",
     "output_type": "stream",
     "text": [
      "Total size: 131\n",
      "Number of male only files: 84\n",
      "Number of female only files: 6\n",
      "Number of common only files: 3\n"
     ]
    }
   ],
   "source": [
    "print(f\"Total size: {len(orig_bruk_file_gen_stat_dict.keys())}\")\n",
    "print(f\"Number of male only files: {len(orig_bruk_male_files)}\")\n",
    "print(f\"Number of female only files: {len(orig_bruk_female_files)}\")\n",
    "print(f\"Number of common only files: {len(orig_bruk_common_files)}\")"
   ]
  },
  {
   "cell_type": "markdown",
   "metadata": {},
   "source": [
    "## Swapped entitites"
   ]
  },
  {
   "cell_type": "markdown",
   "metadata": {},
   "source": [
    "### Ng"
   ]
  },
  {
   "cell_type": "code",
   "execution_count": 49,
   "metadata": {},
   "outputs": [
    {
     "name": "stderr",
     "output_type": "stream",
     "text": [
      "84it [00:26,  3.94it/s]"
     ]
    },
    {
     "name": "stdout",
     "output_type": "stream",
     "text": [
      "unkown for: академічки  -  академічка  -  академічка\n"
     ]
    },
    {
     "name": "stderr",
     "output_type": "stream",
     "text": [
      "151it [01:01,  4.26it/s]"
     ]
    },
    {
     "name": "stdout",
     "output_type": "stream",
     "text": [
      "unkown for: бойовички  -  бойовичка  -  бойовичка\n"
     ]
    },
    {
     "name": "stderr",
     "output_type": "stream",
     "text": [
      "234it [01:42,  3.67it/s]"
     ]
    },
    {
     "name": "stdout",
     "output_type": "stream",
     "text": [
      "unkown for: _керівницею  -  хкерівниця  -  _керівница\n"
     ]
    },
    {
     "name": "stderr",
     "output_type": "stream",
     "text": [
      "255it [01:49,  3.61it/s]"
     ]
    },
    {
     "name": "stdout",
     "output_type": "stream",
     "text": [
      "unkown for: де  -  де  -  де\n"
     ]
    },
    {
     "name": "stderr",
     "output_type": "stream",
     "text": [
      "277it [01:54,  3.17it/s]"
     ]
    },
    {
     "name": "stdout",
     "output_type": "stream",
     "text": [
      "unkown for: членкині наглядової ради  -  рада  -  членкин\n"
     ]
    },
    {
     "name": "stderr",
     "output_type": "stream",
     "text": [
      "311it [02:04,  3.72it/s]"
     ]
    },
    {
     "name": "stdout",
     "output_type": "stream",
     "text": [
      "unkown for: в. о. керівниці  -  в.  -  в.\n"
     ]
    },
    {
     "name": "stderr",
     "output_type": "stream",
     "text": [
      "317it [02:06,  2.52it/s]"
     ]
    },
    {
     "name": "stdout",
     "output_type": "stream",
     "text": [
      "unkown for: народну депутатку-бютівку  -  бютівка  -  бютівка\n"
     ]
    },
    {
     "name": "stderr",
     "output_type": "stream",
     "text": [
      "328it [02:11,  1.34it/s]"
     ]
    },
    {
     "name": "stdout",
     "output_type": "stream",
     "text": [
      "unkown for: віце-премʼєра  -  прем’єрний  -  прем’єрый\n"
     ]
    },
    {
     "name": "stderr",
     "output_type": "stream",
     "text": [
      "359it [02:21,  2.76it/s]"
     ]
    },
    {
     "name": "stdout",
     "output_type": "stream",
     "text": [
      "unkown for: освітя́нок  -  освітя́нка  -  освітя́нки\n"
     ]
    },
    {
     "name": "stderr",
     "output_type": "stream",
     "text": [
      "428it [02:39,  4.96it/s]"
     ]
    },
    {
     "name": "stdout",
     "output_type": "stream",
     "text": [
      "unkown for: митниці  -  митниця  -  митниці\n"
     ]
    },
    {
     "name": "stderr",
     "output_type": "stream",
     "text": [
      "468it [02:48,  3.98it/s]"
     ]
    },
    {
     "name": "stdout",
     "output_type": "stream",
     "text": [
      "unkown for: головній інженерці  -  інженерець  -  головнити\n"
     ]
    },
    {
     "name": "stderr",
     "output_type": "stream",
     "text": [
      "505it [02:58,  3.65it/s]"
     ]
    },
    {
     "name": "stdout",
     "output_type": "stream",
     "text": [
      "unkown for: головні мисливствознавиці держлісгоспів  -  мисливствітнацець  -  держлісгоспіть\n"
     ]
    },
    {
     "name": "stderr",
     "output_type": "stream",
     "text": [
      "563it [03:12,  5.38it/s]"
     ]
    },
    {
     "name": "stdout",
     "output_type": "stream",
     "text": [
      "unkown for: смотрящою  -  смотрящий  -  смотрящий\n"
     ]
    },
    {
     "name": "stderr",
     "output_type": "stream",
     "text": [
      "599it [03:20,  5.24it/s]"
     ]
    },
    {
     "name": "stdout",
     "output_type": "stream",
     "text": [
      "unkown for: компанії  -  компанія  -  компанії\n"
     ]
    },
    {
     "name": "stderr",
     "output_type": "stream",
     "text": [
      "635it [03:30,  2.59it/s]"
     ]
    },
    {
     "name": "stdout",
     "output_type": "stream",
     "text": [
      "unkown for: завідувачку виробничого відділу  -  відділ  -  відділ\n"
     ]
    },
    {
     "name": "stderr",
     "output_type": "stream",
     "text": [
      "673it [03:42,  9.18it/s]"
     ]
    },
    {
     "name": "stdout",
     "output_type": "stream",
     "text": [
      "unkown for: нардепками  -  нардепок  -  нардепкой\n"
     ]
    },
    {
     "name": "stderr",
     "output_type": "stream",
     "text": [
      "680it [03:45,  2.96it/s]"
     ]
    },
    {
     "name": "stdout",
     "output_type": "stream",
     "text": [
      "unkown for: родина екс-презид  -  презид  -  презид\n"
     ]
    },
    {
     "name": "stderr",
     "output_type": "stream",
     "text": [
      "731it [03:56,  4.44it/s]"
     ]
    },
    {
     "name": "stdout",
     "output_type": "stream",
     "text": [
      "unkown for: інженерка лісового господарства  -  господарство  -  господарство\n"
     ]
    },
    {
     "name": "stderr",
     "output_type": "stream",
     "text": [
      "742it [04:05,  2.13it/s]"
     ]
    },
    {
     "name": "stdout",
     "output_type": "stream",
     "text": [
      "unkown for: в. о. генеральної директорки  -  в  -  в.\n"
     ]
    },
    {
     "name": "stderr",
     "output_type": "stream",
     "text": [
      "745it [04:07,  1.53it/s]"
     ]
    },
    {
     "name": "stdout",
     "output_type": "stream",
     "text": [
      "unkown for: сбушниці  -  сбушниця  -  сбушниці\n"
     ]
    },
    {
     "name": "stderr",
     "output_type": "stream",
     "text": [
      "774it [04:18,  2.69it/s]"
     ]
    },
    {
     "name": "stdout",
     "output_type": "stream",
     "text": [
      "unkown for: віце-премʼєрка  -  премʼєрка  -  премʼєркий\n"
     ]
    },
    {
     "name": "stderr",
     "output_type": "stream",
     "text": [
      "784it [04:20,  4.82it/s]"
     ]
    },
    {
     "name": "stdout",
     "output_type": "stream",
     "text": [
      "unkown for: аграрії  -  аграрія  -  аграрії\n"
     ]
    },
    {
     "name": "stderr",
     "output_type": "stream",
     "text": [
      "832it [04:33,  4.67it/s]"
     ]
    },
    {
     "name": "stdout",
     "output_type": "stream",
     "text": [
      "unkown for: прокуророк  -  прокуророк  -  прокуророк\n"
     ]
    },
    {
     "name": "stderr",
     "output_type": "stream",
     "text": [
      "851it [04:39,  3.04it/s]"
     ]
    },
    {
     "name": "stdout",
     "output_type": "stream",
     "text": [
      "unkown for: підрядницею департаменту  -  департамент  -  департамент\n"
     ]
    },
    {
     "name": "stderr",
     "output_type": "stream",
     "text": [
      "865it [04:43,  5.32it/s]"
     ]
    },
    {
     "name": "stdout",
     "output_type": "stream",
     "text": [
      "unkown for: податківниць  -  податківниця  -  податківниць\n"
     ]
    },
    {
     "name": "stderr",
     "output_type": "stream",
     "text": [
      "903it [04:56,  4.24it/s]"
     ]
    },
    {
     "name": "stdout",
     "output_type": "stream",
     "text": [
      "unkown for: прокуророк  -  прокуророк  -  прокуророк\n"
     ]
    },
    {
     "name": "stderr",
     "output_type": "stream",
     "text": [
      "908it [04:57,  3.14it/s]"
     ]
    },
    {
     "name": "stdout",
     "output_type": "stream",
     "text": [
      "unkown for: в. о. гендиректорки держкомпанії  -  в  -  в.\n"
     ]
    },
    {
     "name": "stderr",
     "output_type": "stream",
     "text": [
      "930it [05:05,  3.06it/s]"
     ]
    },
    {
     "name": "stdout",
     "output_type": "stream",
     "text": [
      "unkown for: т. в. о. директорки  -  т.  -  в.\n"
     ]
    },
    {
     "name": "stderr",
     "output_type": "stream",
     "text": [
      "963it [05:17,  3.75it/s]"
     ]
    },
    {
     "name": "stdout",
     "output_type": "stream",
     "text": [
      "unkown for: світлана зубачик  -  зубачик  -  зубачик\n"
     ]
    },
    {
     "name": "stderr",
     "output_type": "stream",
     "text": [
      "973it [05:19,  4.96it/s]"
     ]
    },
    {
     "name": "stdout",
     "output_type": "stream",
     "text": [
      "unkown for: в. о. управління  -  в  -  в.\n"
     ]
    },
    {
     "name": "stderr",
     "output_type": "stream",
     "text": [
      "1021it [05:30,  3.09it/s]"
     ]
    },
    {
     "name": "stdout",
     "output_type": "stream",
     "text": [
      "total size: 1338\n",
      "================\n",
      "gender: male\n",
      "number of files for the gender: 88\n",
      "number of entities for the gender: 146\n",
      "The most popular entity: слідчий\n",
      "================\n",
      "================\n",
      "gender: female\n",
      "number of files for the gender: 263\n",
      "number of entities for the gender: 1002\n",
      "The most popular entity: директорка\n",
      "================\n",
      "================\n",
      "gender: common\n",
      "number of files for the gender: 85\n",
      "number of entities for the gender: 160\n",
      "The most popular entity: голова\n",
      "================\n",
      "================\n",
      "gender: unknown_gender\n",
      "number of files for the gender: 30\n",
      "number of entities for the gender: 30\n",
      "The most popular entity: в\n",
      "================\n"
     ]
    },
    {
     "name": "stderr",
     "output_type": "stream",
     "text": [
      "\n"
     ]
    }
   ],
   "source": [
    "changed_ng_file_gender_dict, changed_ng_total_job_counter, changed_ng_job_list = return_gendered_dict(parallel_dataset_ng_dataset, \"changed_ann\", 1)\n",
    "return_gender_stat(changed_ng_total_job_counter, changed_ng_file_gender_dict)\n",
    "# changed_ng_female_files, changed_ng_male_files, changed_ng_common_files = split_files(changed_ng_file_gender_dict, \"/Users/linndfors/study/diploma/ner_for_fem/data/data_for_ner/data_for_ner_balanced/ng_changed\")"
   ]
  },
  {
   "cell_type": "code",
   "execution_count": 70,
   "metadata": {},
   "outputs": [],
   "source": [
    "changed_ng_file_gen_stat_dict = return_gender_file_stat(changed_ng_file_gender_dict)\n",
    "changed_ng_female_files, changed_ng_male_files, changed_ng_common_files = split_files(changed_ng_file_gen_stat_dict, \"/Users/linndfors/study/diploma/ner_for_fem/data/data_for_ner/data_for_ner_balanced/ng_changed\")"
   ]
  },
  {
   "cell_type": "code",
   "execution_count": 71,
   "metadata": {},
   "outputs": [
    {
     "name": "stdout",
     "output_type": "stream",
     "text": [
      "Total size: 274\n",
      "Number of male only files: 5\n",
      "Number of female only files: 114\n",
      "Number of common only files: 4\n"
     ]
    }
   ],
   "source": [
    "print(f\"Total size: {len(changed_ng_file_gen_stat_dict.keys())}\")\n",
    "print(f\"Number of male only files: {len(changed_ng_male_files)}\")\n",
    "print(f\"Number of female only files: {len(changed_ng_female_files)}\")\n",
    "print(f\"Number of common only files: {len(changed_ng_common_files)}\")"
   ]
  },
  {
   "cell_type": "markdown",
   "metadata": {},
   "source": [
    "### BRUK"
   ]
  },
  {
   "cell_type": "code",
   "execution_count": 68,
   "metadata": {},
   "outputs": [
    {
     "name": "stderr",
     "output_type": "stream",
     "text": [
      "1it [00:04,  4.56s/it]"
     ]
    },
    {
     "name": "stdout",
     "output_type": "stream",
     "text": [
      "unkown for: поетеса-символістка  -  символістка  -  символістка\n"
     ]
    },
    {
     "name": "stderr",
     "output_type": "stream",
     "text": [
      "7it [00:05,  2.98it/s]"
     ]
    },
    {
     "name": "stdout",
     "output_type": "stream",
     "text": [
      "unkown for: поетес  -  поетес  -  поетёс\n"
     ]
    },
    {
     "name": "stderr",
     "output_type": "stream",
     "text": [
      "26it [00:11,  4.25it/s]"
     ]
    },
    {
     "name": "stdout",
     "output_type": "stream",
     "text": [
      "unkown for: поетес  -  поетес  -  поетёс\n",
      "unkown for: поетес  -  поетес  -  поетёс\n"
     ]
    },
    {
     "name": "stderr",
     "output_type": "stream",
     "text": [
      "50it [00:16,  6.59it/s]"
     ]
    },
    {
     "name": "stdout",
     "output_type": "stream",
     "text": [
      "unkown for: орнітологині  -  орнітологин  -  орнітологині\n",
      "unkown for: орнітологині  -  орнітологин  -  орнітологині\n"
     ]
    },
    {
     "name": "stderr",
     "output_type": "stream",
     "text": [
      "63it [00:19,  2.44it/s]"
     ]
    },
    {
     "name": "stdout",
     "output_type": "stream",
     "text": [
      "unkown for: мол . наук . співробітниці  -  наука  -  наука\n"
     ]
    },
    {
     "name": "stderr",
     "output_type": "stream",
     "text": [
      "66it [00:19,  4.55it/s]"
     ]
    },
    {
     "name": "stdout",
     "output_type": "stream",
     "text": [
      "unkown for: пе  -  пе  -  пе\n"
     ]
    },
    {
     "name": "stderr",
     "output_type": "stream",
     "text": [
      "86it [00:26,  4.99it/s]"
     ]
    },
    {
     "name": "stdout",
     "output_type": "stream",
     "text": [
      "unkown for: підмайстрині  -  підмайстрина  -  підмайстрині\n",
      "unkown for: підмайстрині  -  підмайстрина  -  підмайстрині\n"
     ]
    },
    {
     "name": "stderr",
     "output_type": "stream",
     "text": [
      "108it [00:36,  4.55it/s]"
     ]
    },
    {
     "name": "stdout",
     "output_type": "stream",
     "text": [
      "unkown for: найманок  -  найманок  -  найманки\n"
     ]
    },
    {
     "name": "stderr",
     "output_type": "stream",
     "text": [
      "112it [00:36,  6.17it/s]"
     ]
    },
    {
     "name": "stdout",
     "output_type": "stream",
     "text": [
      "unkown for: солдаток  -  солдатко  -  солдатки\n"
     ]
    },
    {
     "name": "stderr",
     "output_type": "stream",
     "text": [
      "134it [00:39,  7.85it/s]"
     ]
    },
    {
     "name": "stdout",
     "output_type": "stream",
     "text": [
      "unkown for: хімікині  -  хімікина  -  хімікині\n",
      "unkown for: хімікині  -  хімікина  -  хімікині\n"
     ]
    },
    {
     "name": "stderr",
     "output_type": "stream",
     "text": [
      "137it [00:39,  7.94it/s]"
     ]
    },
    {
     "name": "stdout",
     "output_type": "stream",
     "text": [
      "unkown for: хімікині  -  хімікина  -  хімікині\n"
     ]
    },
    {
     "name": "stderr",
     "output_type": "stream",
     "text": [
      "146it [00:42,  4.12it/s]"
     ]
    },
    {
     "name": "stdout",
     "output_type": "stream",
     "text": [
      "unkown for: м президен  -  м  -  м\n"
     ]
    },
    {
     "name": "stderr",
     "output_type": "stream",
     "text": [
      "151it [00:42,  6.87it/s]"
     ]
    },
    {
     "name": "stdout",
     "output_type": "stream",
     "text": [
      "unkown for: сторожинь  -  сторожиня  -  сторожинить\n"
     ]
    },
    {
     "name": "stderr",
     "output_type": "stream",
     "text": [
      "184it [00:49,  3.76it/s]"
     ]
    },
    {
     "name": "stdout",
     "output_type": "stream",
     "text": [
      "unkown for: шоколадник  -  шоколадник  -  шоколадник\n",
      "unkown for: шоколадника  -  шоколадник  -  шоколадник\n"
     ]
    },
    {
     "name": "stderr",
     "output_type": "stream",
     "text": [
      "187it [00:49,  5.50it/s]"
     ]
    },
    {
     "name": "stdout",
     "output_type": "stream",
     "text": [
      "unkown for: гармашки  -  гармашка  -  гармашка\n"
     ]
    },
    {
     "name": "stderr",
     "output_type": "stream",
     "text": [
      "190it [00:50,  6.37it/s]"
     ]
    },
    {
     "name": "stdout",
     "output_type": "stream",
     "text": [
      "unkown for: отаманко  -  отаманко  -  отаманко\n"
     ]
    },
    {
     "name": "stderr",
     "output_type": "stream",
     "text": [
      "203it [00:51,  9.30it/s]"
     ]
    },
    {
     "name": "stdout",
     "output_type": "stream",
     "text": [
      "unkown for: старшинкам  -  старшинка  -  старшинку\n"
     ]
    },
    {
     "name": "stderr",
     "output_type": "stream",
     "text": [
      "219it [00:53,  8.65it/s]"
     ]
    },
    {
     "name": "stdout",
     "output_type": "stream",
     "text": [
      "unkown for: головнокомандувачки збройних сил україни  -  головнокомандувачка  -  українити\n"
     ]
    },
    {
     "name": "stderr",
     "output_type": "stream",
     "text": [
      "221it [00:55,  2.67it/s]"
     ]
    },
    {
     "name": "stdout",
     "output_type": "stream",
     "text": [
      "unkown for: командувачок видів  -  вид  -  видіти\n"
     ]
    },
    {
     "name": "stderr",
     "output_type": "stream",
     "text": [
      "245it [01:01,  5.45it/s]"
     ]
    },
    {
     "name": "stdout",
     "output_type": "stream",
     "text": [
      "unkown for: силовиць  -  силовиця  -  силовиць\n"
     ]
    },
    {
     "name": "stderr",
     "output_type": "stream",
     "text": [
      "250it [01:02,  5.27it/s]"
     ]
    },
    {
     "name": "stdout",
     "output_type": "stream",
     "text": [
      "unkown for: мікологині  -  мікологина  -  мікологині\n",
      "unkown for: вчені  -  вчень  -  вчені\n"
     ]
    },
    {
     "name": "stderr",
     "output_type": "stream",
     "text": [
      "255it [01:02,  7.78it/s]"
     ]
    },
    {
     "name": "stdout",
     "output_type": "stream",
     "text": [
      "unkown for: богословинь  -  богословиня  -  богословинить\n"
     ]
    },
    {
     "name": "stderr",
     "output_type": "stream",
     "text": [
      "290it [01:10,  4.27it/s]"
     ]
    },
    {
     "name": "stdout",
     "output_type": "stream",
     "text": [
      "unkown for: стрільчині  -  стрільчина  -  стрільчині\n"
     ]
    },
    {
     "name": "stderr",
     "output_type": "stream",
     "text": [
      "303it [01:12,  7.16it/s]"
     ]
    },
    {
     "name": "stdout",
     "output_type": "stream",
     "text": [
      "unkown for: няні  -  нян  -  няні\n"
     ]
    },
    {
     "name": "stderr",
     "output_type": "stream",
     "text": [
      "314it [01:14,  7.95it/s]"
     ]
    },
    {
     "name": "stdout",
     "output_type": "stream",
     "text": [
      "unkown for: механікині  -  механікина  -  механікині\n",
      "unkown for: механікині  -  механікина  -  механікині\n"
     ]
    },
    {
     "name": "stderr",
     "output_type": "stream",
     "text": [
      "319it [01:14,  7.37it/s]"
     ]
    },
    {
     "name": "stdout",
     "output_type": "stream",
     "text": [
      "unkown for: покоївця  -  покоївець  -  покоївцть\n"
     ]
    },
    {
     "name": "stderr",
     "output_type": "stream",
     "text": [
      "334it [01:19,  4.16it/s]"
     ]
    },
    {
     "name": "stdout",
     "output_type": "stream",
     "text": [
      "unkown for: авторок  -  авторок  -  авторок\n"
     ]
    },
    {
     "name": "stderr",
     "output_type": "stream",
     "text": [
      "335it [01:19,  3.83it/s]"
     ]
    },
    {
     "name": "stdout",
     "output_type": "stream",
     "text": [
      "unkown for: канд . істор . наук  -  наука  -  наука\n"
     ]
    },
    {
     "name": "stderr",
     "output_type": "stream",
     "text": [
      "336it [01:21,  1.32it/s]"
     ]
    },
    {
     "name": "stdout",
     "output_type": "stream",
     "text": [
      "unkown for: докторант відділу соціальної антропології  -  відділ  -  відділ\n",
      "unkown for: канд . істор . наук  -  наука  -  наука\n"
     ]
    },
    {
     "name": "stderr",
     "output_type": "stream",
     "text": [
      "337it [01:22,  1.17it/s]"
     ]
    },
    {
     "name": "stdout",
     "output_type": "stream",
     "text": [
      "unkown for: канд . істор . наук  -  наука  -  наука\n"
     ]
    },
    {
     "name": "stderr",
     "output_type": "stream",
     "text": [
      "340it [01:25,  1.37it/s]"
     ]
    },
    {
     "name": "stdout",
     "output_type": "stream",
     "text": [
      "unkown for: канд . істор . наук  -  наука  -  наука\n"
     ]
    },
    {
     "name": "stderr",
     "output_type": "stream",
     "text": [
      "341it [01:25,  1.49it/s]"
     ]
    },
    {
     "name": "stdout",
     "output_type": "stream",
     "text": [
      "unkown for: канд . істор . наук  -  наука  -  наука\n"
     ]
    },
    {
     "name": "stderr",
     "output_type": "stream",
     "text": [
      "357it [01:31,  5.52it/s]"
     ]
    },
    {
     "name": "stdout",
     "output_type": "stream",
     "text": [
      "unkown for: інокині  -  інокина  -  інокині\n"
     ]
    },
    {
     "name": "stderr",
     "output_type": "stream",
     "text": [
      "368it [01:32,  9.31it/s]"
     ]
    },
    {
     "name": "stdout",
     "output_type": "stream",
     "text": [
      "unkown for: ігумені  -  ігумень  -  ігумені\n"
     ]
    },
    {
     "name": "stderr",
     "output_type": "stream",
     "text": [
      "374it [01:34,  4.02it/s]"
     ]
    },
    {
     "name": "stdout",
     "output_type": "stream",
     "text": [
      "unkown for: ректорку  -  ректорк  -  ректорк\n"
     ]
    },
    {
     "name": "stderr",
     "output_type": "stream",
     "text": [
      "381it [01:36,  4.29it/s]"
     ]
    },
    {
     "name": "stdout",
     "output_type": "stream",
     "text": [
      "unkown for: ктиторок  -  ктиторок  -  ктиторок\n"
     ]
    },
    {
     "name": "stderr",
     "output_type": "stream",
     "text": [
      "385it [01:37,  4.15it/s]"
     ]
    },
    {
     "name": "stdout",
     "output_type": "stream",
     "text": [
      "unkown for: черниць-законниць  -  законниця  -  законниця\n"
     ]
    },
    {
     "name": "stderr",
     "output_type": "stream",
     "text": [
      "399it [01:39,  7.71it/s]"
     ]
    },
    {
     "name": "stdout",
     "output_type": "stream",
     "text": [
      "unkown for: голяку-ченці  -  ченка  -  ченка\n"
     ]
    },
    {
     "name": "stderr",
     "output_type": "stream",
     "text": [
      "403it [01:39,  7.52it/s]"
     ]
    },
    {
     "name": "stdout",
     "output_type": "stream",
     "text": [
      "unkown for: шафаркам  -  шафарок  -  шафарке\n",
      "unkown for: управителькам  -  управителький  -  управительке\n"
     ]
    },
    {
     "name": "stderr",
     "output_type": "stream",
     "text": [
      "404it [01:39,  6.39it/s]"
     ]
    },
    {
     "name": "stdout",
     "output_type": "stream",
     "text": [
      "unkown for: келарок  -  келарка  -  келарки\n"
     ]
    },
    {
     "name": "stderr",
     "output_type": "stream",
     "text": [
      "409it [01:40,  5.02it/s]"
     ]
    },
    {
     "name": "stdout",
     "output_type": "stream",
     "text": [
      "unkown for: єпископки  -  єпископка  -  єпископка\n"
     ]
    },
    {
     "name": "stderr",
     "output_type": "stream",
     "text": [
      "413it [01:41,  6.97it/s]"
     ]
    },
    {
     "name": "stdout",
     "output_type": "stream",
     "text": [
      "unkown for: єпискинь  -  єпискиня  -  єпискинуть\n",
      "unkown for: єпискиня  -  єпискиня  -  єпискиня\n"
     ]
    },
    {
     "name": "stderr",
     "output_type": "stream",
     "text": [
      "418it [01:42,  6.01it/s]"
     ]
    },
    {
     "name": "stdout",
     "output_type": "stream",
     "text": [
      "unkown for: хліборобок  -  хліборобок  -  хліборобкий\n"
     ]
    },
    {
     "name": "stderr",
     "output_type": "stream",
     "text": [
      "421it [01:42,  7.70it/s]"
     ]
    },
    {
     "name": "stdout",
     "output_type": "stream",
     "text": [
      "unkown for: хліборобок  -  хліборобок  -  хліборобкий\n"
     ]
    },
    {
     "name": "stderr",
     "output_type": "stream",
     "text": [
      "434it [01:44,  4.09it/s]"
     ]
    },
    {
     "name": "stdout",
     "output_type": "stream",
     "text": [
      "unkown for: коронні гетьманші  -  гетьманешь  -  гетьманешь\n"
     ]
    },
    {
     "name": "stderr",
     "output_type": "stream",
     "text": [
      "452it [01:48,  9.40it/s]"
     ]
    },
    {
     "name": "stdout",
     "output_type": "stream",
     "text": [
      "unkown for: нквд-истки  -  нквд-истка  -  нквд-исткать\n"
     ]
    },
    {
     "name": "stderr",
     "output_type": "stream",
     "text": [
      "453it [01:48,  7.92it/s]"
     ]
    },
    {
     "name": "stdout",
     "output_type": "stream",
     "text": [
      "unkown for: юристки  -  юристок  -  юристкать\n",
      "unkown for: податківцям  -  податокець  -  податківци\n"
     ]
    },
    {
     "name": "stderr",
     "output_type": "stream",
     "text": [
      "461it [01:51,  2.47it/s]"
     ]
    },
    {
     "name": "stdout",
     "output_type": "stream",
     "text": [
      "unkown for: медичного брата  -  брат  -  брат\n"
     ]
    },
    {
     "name": "stderr",
     "output_type": "stream",
     "text": [
      "467it [01:52,  5.33it/s]"
     ]
    },
    {
     "name": "stdout",
     "output_type": "stream",
     "text": [
      "unkown for: тренеркам  -  тренерк  -  тренерке\n"
     ]
    },
    {
     "name": "stderr",
     "output_type": "stream",
     "text": [
      "476it [01:54,  7.69it/s]"
     ]
    },
    {
     "name": "stdout",
     "output_type": "stream",
     "text": [
      "unkown for: академікині  -  академікина  -  академікині\n"
     ]
    },
    {
     "name": "stderr",
     "output_type": "stream",
     "text": [
      "492it [01:57,  4.19it/s]"
     ]
    },
    {
     "name": "stdout",
     "output_type": "stream",
     "text": [
      "total size: 638\n",
      "================\n",
      "gender: male\n",
      "number of files for the gender: 44\n",
      "number of entities for the gender: 80\n",
      "The most popular entity: вчитель\n",
      "================\n",
      "================\n",
      "gender: female\n",
      "number of files for the gender: 112\n",
      "number of entities for the gender: 445\n",
      "The most popular entity: черниця\n",
      "================\n",
      "================\n",
      "gender: common\n",
      "number of files for the gender: 24\n",
      "number of entities for the gender: 52\n",
      "The most popular entity: голова\n",
      "================\n",
      "================\n",
      "gender: unknown_gender\n",
      "number of files for the gender: 29\n",
      "number of entities for the gender: 61\n",
      "The most popular entity: наука\n",
      "================\n"
     ]
    },
    {
     "name": "stderr",
     "output_type": "stream",
     "text": [
      "\n"
     ]
    }
   ],
   "source": [
    "changed_bruk_file_gender_dict, changed_bruk_total_job_counter, changed_bruk_job_list = return_gendered_dict(parallel_dataset_bruk_dataset, \"changed_ann\", 1)\n",
    "return_gender_stat(changed_bruk_total_job_counter, changed_bruk_file_gender_dict)\n",
    "# changed_bruk_female_files, changed_bruk_male_files, changed_bruk_common_files = split_files(changed_bruk_file_gender_dict, \"/Users/linndfors/study/diploma/ner_for_fem/data/data_for_ner/data_for_ner_balanced/bruk_changed\")"
   ]
  },
  {
   "cell_type": "code",
   "execution_count": 72,
   "metadata": {},
   "outputs": [],
   "source": [
    "changed_bruk_file_gender_stat_dict = return_gender_file_stat(changed_bruk_file_gender_dict)\n",
    "\n",
    "changed_bruk_female_files, changed_bruk_male_files, changed_bruk_common_files = split_files(changed_bruk_file_gender_stat_dict, \"/Users/linndfors/study/diploma/ner_for_fem/data/data_for_ner/data_for_ner_balanced/bruk_changed\")"
   ]
  },
  {
   "cell_type": "code",
   "execution_count": 73,
   "metadata": {},
   "outputs": [
    {
     "name": "stdout",
     "output_type": "stream",
     "text": [
      "Total size: 131\n",
      "Number of male only files: 10\n",
      "Number of female only files: 60\n",
      "Number of common only files: 3\n"
     ]
    }
   ],
   "source": [
    "print(f\"Total size: {len(changed_bruk_file_gender_stat_dict.keys())}\")\n",
    "print(f\"Number of male only files: {len(changed_bruk_male_files)}\")\n",
    "print(f\"Number of female only files: {len(changed_bruk_female_files)}\")\n",
    "print(f\"Number of common only files: {len(changed_bruk_common_files)}\")"
   ]
  },
  {
   "cell_type": "markdown",
   "metadata": {},
   "source": [
    "## Match pairs"
   ]
  },
  {
   "cell_type": "code",
   "execution_count": 84,
   "metadata": {},
   "outputs": [
    {
     "data": {
      "text/plain": [
       "{'male': {'66395d7c394b_1.txt': [('T17', 'військовий')],\n",
       "  '1ed3fef56c8f_1.txt': [('T13', 'портьє')],\n",
       "  'aad4dce361f1_1.txt': [('T13', 'панотець')],\n",
       "  'bf4968831cc7_1.txt': [('T2', 'актор')],\n",
       "  '15238b87db03_1.txt': [('T5', 'методист')],\n",
       "  'efc2665e4bed_1.txt': [('T2', 'співробітник')],\n",
       "  '624df1293f3d_1.txt': [('T4', 'педагог'),\n",
       "   ('T14', 'вчитель'),\n",
       "   ('T23', 'вчитель')],\n",
       "  '0d902430768c_1.txt': [('T49', 'лікар'), ('T65', 'інженер')],\n",
       "  '326978d2c58c_1.txt': [('T7', 'лікар'),\n",
       "   ('T8', 'лікар'),\n",
       "   ('T9', 'секретар'),\n",
       "   ('T10', 'секретар'),\n",
       "   ('T11', 'психолог'),\n",
       "   ('T12', 'психолог'),\n",
       "   ('T17', 'мовознавець'),\n",
       "   ('T18', 'кандидат'),\n",
       "   ('T19', 'викладач')],\n",
       "  '6b5d4229b548_1.txt': [('T9', 'викладач')],\n",
       "  '9494fddb0caa_1.txt': [('T3', 'монах')],\n",
       "  'fabc18a7d8fd_1.txt': [('T18', 'вихователь'), ('T19', 'продавець')],\n",
       "  '4b1efc986bb8_1.txt': [('T20', 'учений')],\n",
       "  'e023d6d6f1a3_1.txt': [('T5', 'вчитель'),\n",
       "   ('T6', 'дільничний'),\n",
       "   ('T22', 'дільничний'),\n",
       "   ('T32', 'дільничний'),\n",
       "   ('T36', 'дільничний')],\n",
       "  '548f66f38090_1.txt': [('T11', 'курінний')],\n",
       "  'f4136bfda19a_1.txt': [('T27', 'вчений')],\n",
       "  '066ec5f0dea6_1.txt': [('T4', 'спортсмен'),\n",
       "   ('T13', 'майстер'),\n",
       "   ('T20', 'спортсмен')],\n",
       "  '6b60e6fb3d78_1.txt': [('T8', 'етнограф')],\n",
       "  '9c0774172f73_1.txt': [('T2', 'режисер')],\n",
       "  'bc755153f4f7_1.txt': [('T23', 'секретар')],\n",
       "  'b019e9b8d51d_1.txt': [('T48', 'військовий')],\n",
       "  '5e10574a909c_1.txt': [('T1', 'учений')],\n",
       "  '71a651d2dbec_1.txt': [('T3', 'секретар'),\n",
       "   ('T7', 'журналіст'),\n",
       "   ('T16', 'журналіст'),\n",
       "   ('T34', 'секретар'),\n",
       "   ('T41', 'журналіст'),\n",
       "   ('T54', 'медбрат')],\n",
       "  'dc1202fd9850_1.txt': [('T32', 'співак'), ('T37', 'кутюр’є')],\n",
       "  '13e0cb95075a_1.txt': [('T4', 'заступниця'), ('T12', 'заступниця')],\n",
       "  '1c325fde9ed4_1.txt': [('T4', 'вчитель')],\n",
       "  '132368095bab_1.txt': [('T31', 'беркутівець')],\n",
       "  '2fc890744f7c_1.txt': [('T5', 'ведучий')],\n",
       "  '0b962bee49bc_1.txt': [('T11', 'поет'), ('T14', 'поет'), ('T29', 'поет')],\n",
       "  '5764f733fff2_1.txt': [('T4', 'медбрат')],\n",
       "  '1484f7813550_1.txt': [('T10', 'вчитель')],\n",
       "  '17d3d678df81_1.txt': [('T11', 'служник')],\n",
       "  '766e1942f398_1.txt': [('T5', 'заступниця'), ('T10', 'заступниця')],\n",
       "  'f958ce8bb461_1.txt': [('T16', 'редактор'),\n",
       "   ('T19', 'співробітник'),\n",
       "   ('T27', 'співробітник'),\n",
       "   ('T33', 'співробітник'),\n",
       "   ('T40', 'письменник'),\n",
       "   ('T41', 'доктор'),\n",
       "   ('T42', 'професор')],\n",
       "  'd81f996d0ab8_1.txt': [('T14', 'слідчий')],\n",
       "  'e1d8841dcc68_1.txt': [('T21', 'ченець'), ('T151', 'митрополит')],\n",
       "  '232be2c6b5c2_1.txt': [('T19', 'заступниця')],\n",
       "  '3ba7ca929d68_1.txt': [('T3', 'обсмажувальник')],\n",
       "  'b576ac602665_1.txt': [('T23', 'папа')],\n",
       "  '937c38344fdf_1.txt': [('T17', 'гладіатор')],\n",
       "  'c0c436cc9cb6_1.txt': [('T23', 'медбрат')],\n",
       "  'a196488351f6_1.txt': [('T31', 'літературознавець')],\n",
       "  'a616672f4a8b_1.txt': [('T3', 'поет')],\n",
       "  '710044df1fe0_1.txt': [('T13', 'вчитель'), ('T28', 'садівник')]},\n",
       " 'female': {'e5e76a8efa0f_1.txt': [('T49', 'поетеса'),\n",
       "   ('T104', 'поетка'),\n",
       "   ('T143', 'байкарка'),\n",
       "   ('T144', 'прозаїкиня'),\n",
       "   ('T218', 'співчиня'),\n",
       "   ('T249', 'письменниця')],\n",
       "  'd07dfb774c28_1.txt': [('T5', 'режисерка'), ('T36', 'княгиня')],\n",
       "  '66395d7c394b_1.txt': [('T22', 'кореспондентка'), ('T29', 'священиця')],\n",
       "  '5207847a2e1d_1.txt': [('T1', 'поетеса'),\n",
       "   ('T3', 'драматургиня'),\n",
       "   ('T11', 'письменниця'),\n",
       "   ('T23', 'драматургиня')],\n",
       "  '1ed3fef56c8f_1.txt': [('T5', 'офіцерка'), ('T21', 'адміністраторка')],\n",
       "  'cee02d4c030f_1.txt': [('T2', 'губернаторка'),\n",
       "   ('T3', 'нардепка'),\n",
       "   ('T16', 'депутатка'),\n",
       "   ('T35', 'керівниця')],\n",
       "  '755c890a06fb_1.txt': [('T4', 'докторка')],\n",
       "  'd3669729136c_1.txt': [('T11', 'художниця')],\n",
       "  'f161f5134505_1.txt': [('T13', 'психіатриня')],\n",
       "  'e1dbe335e762_1.txt': [('T6', 'водійка')],\n",
       "  '2298b6b41bec_1.txt': [('T3', 'психологиня'),\n",
       "   ('T9', 'дослідниця'),\n",
       "   ('T11', 'психологин'),\n",
       "   ('T16', 'психологин'),\n",
       "   ('T19', 'психологиня')],\n",
       "  'b381bc7842b1_1.txt': [('T7', 'науковиця')],\n",
       "  '1448663b16b2_1.txt': [('T1', 'фотографка'), ('T2', 'тележурналістка')],\n",
       "  'bdda872d3ef9_1.txt': [('T16', 'тренерка')],\n",
       "  '85622bc925dc_1.txt': [('T8', 'депутатка'), ('T44', 'видавчиня')],\n",
       "  '87ae82667e2a_1.txt': [('T3', 'лекторка'), ('T18', 'режисерка')],\n",
       "  'fad2422a7bf3_1.txt': [('T17', 'художниця')],\n",
       "  'dc25535e13d7_1.txt': [('T7', 'заступниця')],\n",
       "  '92d38b895fa4_1.txt': [('T2', 'письменниця'),\n",
       "   ('T11', 'начальниця'),\n",
       "   ('T41', 'геологиня')],\n",
       "  'aad4dce361f1_1.txt': [('T2', 'священиця'), ('T18', 'кобзарка')],\n",
       "  '5a0aedfe0f5d_1.txt': [('T37', 'священиця')],\n",
       "  'e9061171da9d_1.txt': [('T2', 'начальниця'), ('T25', 'музейниця')],\n",
       "  'dcbb9ddb4aaa_1.txt': [('T2', 'охоронниця')],\n",
       "  'dac0de834f47_1.txt': [('T12', 'священиця'),\n",
       "   ('T14', 'священиця'),\n",
       "   ('T18', 'священиця')],\n",
       "  '547ce681ada8_1.txt': [('T4', 'співробітниця'),\n",
       "   ('T51', 'програмістка'),\n",
       "   ('T53', 'редакторка')],\n",
       "  '7b7daaeb9d7d_1.txt': [('T43', 'журналістка')],\n",
       "  '15238b87db03_1.txt': [('T9', 'доцентка'),\n",
       "   ('T12', 'викладачка'),\n",
       "   ('T15', 'викладачка'),\n",
       "   ('T18', 'викладачка')],\n",
       "  'efc2665e4bed_1.txt': [('T6', 'зоологиня')],\n",
       "  'a487d1895726_1.txt': [('T7', 'координаторка')],\n",
       "  'e010e86e436c_1.txt': [('T2', 'депутатка'),\n",
       "   ('T7', 'начальниця'),\n",
       "   ('T10', 'депутатка')],\n",
       "  '7b2c9399fee9_1.txt': [('T26', 'королева'),\n",
       "   ('T27', 'княгиня'),\n",
       "   ('T31', 'королево')],\n",
       "  '47eb526780b0_1.txt': [('T6', 'керівниця'),\n",
       "   ('T8', 'начальниця'),\n",
       "   ('T9', 'вчителька')],\n",
       "  '0d902430768c_1.txt': [('T4', 'шефина'),\n",
       "   ('T6', 'шефиня'),\n",
       "   ('T10', 'шефиня'),\n",
       "   ('T13', 'шефиня'),\n",
       "   ('T16', 'шефиня'),\n",
       "   ('T25', 'шефиня'),\n",
       "   ('T30', 'майстриня'),\n",
       "   ('T47', 'лікарка'),\n",
       "   ('T63', 'інженерка'),\n",
       "   ('T67', 'начальниця')],\n",
       "  'e21ddb9efb07_1.txt': [('T4', 'наука'),\n",
       "   ('T6', 'програмістка'),\n",
       "   ('T8', 'наука'),\n",
       "   ('T10', 'співробітниця'),\n",
       "   ('T12', 'наука'),\n",
       "   ('T14', 'наука'),\n",
       "   ('T15', 'професорка'),\n",
       "   ('T16', 'кореспондентка')],\n",
       "  '8cc49a8b2d76_1.txt': [('T9', 'меценатка'), ('T16', 'депутатка')],\n",
       "  '6b5d4229b548_1.txt': [('T2', 'слюсарка'),\n",
       "   ('T18', 'професорка'),\n",
       "   ('T37', 'депутатка')],\n",
       "  '164940c99b86_1.txt': [('T5', 'шахтарка'),\n",
       "   ('T9', 'голубівниця'),\n",
       "   ('T17', 'шахтарка')],\n",
       "  '9494fddb0caa_1.txt': [('T4', 'жовнірка'),\n",
       "   ('T7', 'жовнірка'),\n",
       "   ('T9', 'жовнірка'),\n",
       "   ('T12', 'найманка'),\n",
       "   ('T19', 'кучерка')],\n",
       "  'b09a79bafe6c_1.txt': [('T35', 'директорка')],\n",
       "  'd30e0fb50f0f_1.txt': [('T1', 'директорка'), ('T11', 'директорка')],\n",
       "  'e0493ec8466b_1.txt': [('T6', 'демографка'), ('T7', 'землеробка')],\n",
       "  '561acef3f531_1.txt': [('T1', 'газетярка'),\n",
       "   ('T2', 'підприємниця'),\n",
       "   ('T4', 'журналістка'),\n",
       "   ('T5', 'журналістка'),\n",
       "   ('T6', 'чиновниця'),\n",
       "   ('T8', 'журналістки'),\n",
       "   ('T14', 'підприємниця'),\n",
       "   ('T15', 'журналістка'),\n",
       "   ('T16', 'чиновниця'),\n",
       "   ('T22', 'редакторка'),\n",
       "   ('T24', 'журналістка')],\n",
       "  '257fca043205_1.txt': [('T12', 'студентка')],\n",
       "  '4b1efc986bb8_1.txt': [('T4', 'хімікиня'), ('T32', 'хімікиня')],\n",
       "  '9df8bcf8e17e_1.txt': [('T4', 'військовослужбовиця'),\n",
       "   ('T6', 'очільниця'),\n",
       "   ('T8', 'міністерка'),\n",
       "   ('T9', 'військовослужбовиця'),\n",
       "   ('T16', 'міністерка'),\n",
       "   ('T18', 'військовослужбовиця'),\n",
       "   ('T19', 'міністерка'),\n",
       "   ('T20', 'міністерка'),\n",
       "   ('T30', 'президентка'),\n",
       "   ('T35', 'очільниця')],\n",
       "  '3f4bafb349ae_1.txt': [('T7', 'поліцайка')],\n",
       "  '2cc21b456aad_1.txt': [('T9', 'письменниця'),\n",
       "   ('T10', 'мисливиця'),\n",
       "   ('T16', 'письменниця'),\n",
       "   ('T19', 'письменниця'),\n",
       "   ('T21', 'письменниця'),\n",
       "   ('T32', 'детективка')],\n",
       "  '647a3f078f3f_1.txt': [('T18', 'письменниця'),\n",
       "   ('T45', 'прокурорка'),\n",
       "   ('T68', 'ректорка')],\n",
       "  'e3c7064319e0_1.txt': [('T8', 'слідчий'), ('T13', 'секретарка')],\n",
       "  'e023d6d6f1a3_1.txt': [('T38', 'начальниця')],\n",
       "  'f4ca58272dbf_1.txt': [('T19', 'менеджерка')],\n",
       "  'f495f41dfa02_1.txt': [('T42', 'розвідниця')],\n",
       "  '18ec3aea7ed7_1.txt': [('T26', 'отаманка'),\n",
       "   ('T35', 'отаманка'),\n",
       "   ('T47', 'художниця')],\n",
       "  '5710814a4a84_1.txt': [('T46', 'художниця')],\n",
       "  'b3c847570902_1.txt': [('T26', 'президентка')],\n",
       "  '52049bc57554_1.txt': [('T1', 'отаманка'),\n",
       "   ('T6', 'міліціонерка'),\n",
       "   ('T10', 'міліціонерка'),\n",
       "   ('T12', 'міліціонерка'),\n",
       "   ('T13', 'міліціонерка'),\n",
       "   ('T14', 'міліціонерка')],\n",
       "  'bd86f567c746_1.txt': [('T13', 'лікарка'),\n",
       "   ('T14', 'співачка'),\n",
       "   ('T15', 'режисерка'),\n",
       "   ('T16', 'архітекторка'),\n",
       "   ('T17', 'фахівчиня'),\n",
       "   ('T18', 'спортсменка'),\n",
       "   ('T19', 'художниця'),\n",
       "   ('T20', 'бізнесвумен'),\n",
       "   ('T81', 'письменниця'),\n",
       "   ('T82', 'музикантка'),\n",
       "   ('T83', 'науковиця')],\n",
       "  '548f66f38090_1.txt': [('T1', 'стрільчиня'),\n",
       "   ('T3', 'стрільчиня'),\n",
       "   ('T9', 'отаманка'),\n",
       "   ('T13', 'сотниця'),\n",
       "   ('T21', 'сотниця'),\n",
       "   ('T23', 'отаманка'),\n",
       "   ('T26', 'полковниця'),\n",
       "   ('T30', 'полковниця'),\n",
       "   ('T31', 'полковниця'),\n",
       "   ('T32', 'полковниця'),\n",
       "   ('T34', 'полковниця'),\n",
       "   ('T39', 'поручниця'),\n",
       "   ('T41', 'сотниця'),\n",
       "   ('T43', 'поручниця'),\n",
       "   ('T45', 'отаманка'),\n",
       "   ('T52', 'отаманка'),\n",
       "   ('T56', 'отаманка')],\n",
       "  'f4136bfda19a_1.txt': [('T1', 'працівниця'),\n",
       "   ('T2', 'робітниця'),\n",
       "   ('T7', 'будівельниця'),\n",
       "   ('T13', 'експертка'),\n",
       "   ('T19', 'ліквідаторка'),\n",
       "   ('T20', 'експертка'),\n",
       "   ('T23', 'експертка'),\n",
       "   ('T25', 'науковиця'),\n",
       "   ('T26', 'інженерка')],\n",
       "  '066ec5f0dea6_1.txt': [('T6', 'тренерка')],\n",
       "  '27a1722d517c_1.txt': [('T6', 'редакторка'), ('T9', 'журналістка')],\n",
       "  '38603af07530_1.txt': [('T2', 'начальниця'), ('T9', 'військовослужбовиця')],\n",
       "  'c3402705f448_1.txt': [('T6', 'отаманка')],\n",
       "  'c6807dbff658_1.txt': [('T25', 'президентка')],\n",
       "  'b019e9b8d51d_1.txt': [('T1', 'аналітикиня'),\n",
       "   ('T5', 'аналітикиня'),\n",
       "   ('T8', 'політологиня'),\n",
       "   ('T13', 'міністерка'),\n",
       "   ('T15', 'офіцерка'),\n",
       "   ('T21', 'політологиня'),\n",
       "   ('T28', 'чиновниця'),\n",
       "   ('T32', 'радниця'),\n",
       "   ('T49', 'дипломатка'),\n",
       "   ('T56', 'радниця')],\n",
       "  '5e10574a909c_1.txt': [('T28', 'ботанічка'), ('T29', 'мікологиня')],\n",
       "  'ff069c11e13d_1.txt': [('T12', 'пастирка'),\n",
       "   ('T17', 'пасторка'),\n",
       "   ('T28', 'пастирка')],\n",
       "  '79812f4abec1_1.txt': [('T11', 'лісниця')],\n",
       "  'fc8f156aa82b_1.txt': [('T35', 'комісарка'), ('T36', 'комісарка')],\n",
       "  'ef1b6bd52747_1.txt': [('T31', 'мовознавиця')],\n",
       "  '74a7e2a340dd_1.txt': [('T1', 'журналістка'),\n",
       "   ('T9', 'гастролерка'),\n",
       "   ('T10', 'акторка')],\n",
       "  '1c37d315923c_1.txt': [('T16', 'поетеса'),\n",
       "   ('T37', 'поетеса'),\n",
       "   ('T39', 'поетеса'),\n",
       "   ('T40', 'поетеса'),\n",
       "   ('T61', 'поетеса'),\n",
       "   ('T62', 'поетеса')],\n",
       "  '5a75a46fecdf_1.txt': [('T1', 'міліціонерка'),\n",
       "   ('T11', 'міліціонерка'),\n",
       "   ('T17', 'учителька'),\n",
       "   ('T22', 'вчителька')],\n",
       "  '71a651d2dbec_1.txt': [('T4', 'охоронниця')],\n",
       "  'dc1202fd9850_1.txt': [('T11', 'постановниця'),\n",
       "   ('T34', 'дизайнерка'),\n",
       "   ('T35', 'стилістка'),\n",
       "   ('T36', 'візажистка')],\n",
       "  '0046ebeff13e_1.txt': [('T4', 'академікиня')],\n",
       "  '9fbfe077a27a_1.txt': [('T4', 'будівельниця'),\n",
       "   ('T14', 'керівниця'),\n",
       "   ('T15', 'менеджерка')],\n",
       "  '9d4b90129d10_1.txt': [('T9', 'начальниця')],\n",
       "  'f9a926049262_1.txt': [('T60', 'комісарка')],\n",
       "  '132368095bab_1.txt': [('T52', 'беркутівка'), ('T56', 'беркутівка')],\n",
       "  'f5bb37569413_1.txt': [('T2', 'режисерка'),\n",
       "   ('T24', 'наркомка'),\n",
       "   ('T27', 'академікиня'),\n",
       "   ('T30', 'академікиня')],\n",
       "  '46ae77c0ec97_1.txt': [('T18', 'служниця')],\n",
       "  '0b962bee49bc_1.txt': [('T50', 'юристка')],\n",
       "  'c0f24f5d70e3_1.txt': [('T8', 'вчителька'),\n",
       "   ('T54', 'економістка'),\n",
       "   ('T55', 'етнографка'),\n",
       "   ('T56', 'історикиня')],\n",
       "  '5764f733fff2_1.txt': [('T3', 'механікиня'),\n",
       "   ('T7', 'механікиня'),\n",
       "   ('T8', 'лікарка'),\n",
       "   ('T9', 'механікиня'),\n",
       "   ('T10', 'докторка'),\n",
       "   ('T12', 'механікиня')],\n",
       "  'e8188caa466c_1.txt': [('T25', 'хроністка'), ('T27', 'княгиня')],\n",
       "  '17d3d678df81_1.txt': [('T42', 'сопілкарка'),\n",
       "   ('T43', 'скрипалька'),\n",
       "   ('T45', 'писарка'),\n",
       "   ('T51', 'урядниця'),\n",
       "   ('T56', 'писарка'),\n",
       "   ('T62', 'писарка')],\n",
       "  'c28168a23912_1.txt': [('T6', 'нейробіологиня')],\n",
       "  'c375246adb0a_1.txt': [('T15', 'рокерка')],\n",
       "  '766e1942f398_1.txt': [('T6', 'начальниця'), ('T12', 'депутатка')],\n",
       "  'd530671576f8_1.txt': [('T4', 'наука'), ('T16', 'членкин')],\n",
       "  'f958ce8bb461_1.txt': [('T50', 'аналітикиня'),\n",
       "   ('T56', 'директорка'),\n",
       "   ('T59', 'керівниця')],\n",
       "  'd08ea0bbac66_1.txt': [('T6', 'корчмарка'),\n",
       "   ('T27', 'корчмарка'),\n",
       "   ('T43', 'корчмарк')],\n",
       "  'd81f996d0ab8_1.txt': [('T35', 'учителька'),\n",
       "   ('T41', 'учителька'),\n",
       "   ('T43', 'бібліотекарка'),\n",
       "   ('T46', 'викладачка'),\n",
       "   ('T48', 'помічниця'),\n",
       "   ('T50', 'словесність'),\n",
       "   ('T54', 'інспекторка')],\n",
       "  '6e4853575182_1.txt': [('T16', 'лікарка')],\n",
       "  'e1d8841dcc68_1.txt': [('T1', 'черниця'),\n",
       "   ('T3', 'черниця'),\n",
       "   ('T4', 'полемістка'),\n",
       "   ('T6', 'черниця'),\n",
       "   ('T10', 'інокиня'),\n",
       "   ('T11', 'черниця'),\n",
       "   ('T12', 'черниця'),\n",
       "   ('T16', 'інокиня'),\n",
       "   ('T17', 'інокиня'),\n",
       "   ('T18', 'інокиня'),\n",
       "   ('T20', 'черниця'),\n",
       "   ('T24', 'черниця'),\n",
       "   ('T26', 'полемістка'),\n",
       "   ('T27', 'поетеса'),\n",
       "   ('T34', 'поетеса'),\n",
       "   ('T35', 'авторка'),\n",
       "   ('T39', 'поетеса'),\n",
       "   ('T41', 'поетеса'),\n",
       "   ('T47', 'вчителька'),\n",
       "   ('T51', 'черниця'),\n",
       "   ('T53', 'ректорка'),\n",
       "   ('T55', 'поетеса'),\n",
       "   ('T57', 'митрополиток'),\n",
       "   ('T59', 'учителька'),\n",
       "   ('T60', 'черниця'),\n",
       "   ('T62', 'вчителька'),\n",
       "   ('T63', 'учителька'),\n",
       "   ('T65', 'вчителька'),\n",
       "   ('T66', 'черниця'),\n",
       "   ('T69', 'ректорка'),\n",
       "   ('T70', 'ректорка'),\n",
       "   ('T71', 'інокиня'),\n",
       "   ('T75', 'ректорка'),\n",
       "   ('T77', 'ректорка'),\n",
       "   ('T78', 'черниця'),\n",
       "   ('T79', 'студентка'),\n",
       "   ('T80', 'черниця'),\n",
       "   ('T81', 'черниця'),\n",
       "   ('T82', 'студентка'),\n",
       "   ('T84', 'учителька'),\n",
       "   ('T85', 'черниця'),\n",
       "   ('T88', 'черниця'),\n",
       "   ('T89', 'поетеса'),\n",
       "   ('T92', 'черниця'),\n",
       "   ('T93', 'ієромонахиня'),\n",
       "   ('T95', 'фундаторка'),\n",
       "   ('T96', 'черниця'),\n",
       "   ('T97', 'поетеса'),\n",
       "   ('T99', 'поетеса'),\n",
       "   ('T100', 'черниця'),\n",
       "   ('T102', 'черниця'),\n",
       "   ('T103', 'черниця'),\n",
       "   ('T104', 'священиця'),\n",
       "   ('T105', 'поетеса'),\n",
       "   ('T109', 'черниця'),\n",
       "   ('T110', 'поетеса'),\n",
       "   ('T111', 'черниця'),\n",
       "   ('T112', 'черниця'),\n",
       "   ('T113', 'черниця'),\n",
       "   ('T116', 'поетеса'),\n",
       "   ('T118', 'інокиня'),\n",
       "   ('T120', 'інокиня'),\n",
       "   ('T122', 'черниця'),\n",
       "   ('T125', 'інокиня'),\n",
       "   ('T127', 'інокиня'),\n",
       "   ('T128', 'черниця'),\n",
       "   ('T131', 'черниця'),\n",
       "   ('T132', 'авторка'),\n",
       "   ('T134', 'інокиня'),\n",
       "   ('T138', 'інокиня'),\n",
       "   ('T139', 'інокиня'),\n",
       "   ('T141', 'поетеса'),\n",
       "   ('T143', 'авторка'),\n",
       "   ('T146', 'черниця'),\n",
       "   ('T148', 'митрополитка'),\n",
       "   ('T152', 'черниця'),\n",
       "   ('T158', 'священиця'),\n",
       "   ('T159', 'авторка'),\n",
       "   ('T161', 'митрополиток'),\n",
       "   ('T165', 'черниця'),\n",
       "   ('T167', 'біскупка'),\n",
       "   ('T168', 'біскупка')],\n",
       "  '5085bb95b51a_1.txt': [('T4', 'депутатка'),\n",
       "   ('T22', 'журналістка'),\n",
       "   ('T28', 'журналістка'),\n",
       "   ('T29', 'редакторка'),\n",
       "   ('T31', 'журналістка'),\n",
       "   ('T34', 'журналістка'),\n",
       "   ('T39', 'журналістка')],\n",
       "  '8951230172d0_1.txt': [('T1', 'селекціонерка'),\n",
       "   ('T8', 'шахтарка'),\n",
       "   ('T11', 'шахтарка'),\n",
       "   ('T14', 'священиця'),\n",
       "   ('T15', 'таксистка'),\n",
       "   ('T17', 'шахтарка'),\n",
       "   ('T27', 'шахтарка'),\n",
       "   ('T49', 'працівниця'),\n",
       "   ('T52', 'директорка'),\n",
       "   ('T56', 'нелегалка'),\n",
       "   ('T57', 'президентка')],\n",
       "  'b87576a7425a_1.txt': [('T6', 'гетьманша')],\n",
       "  '06d78909a7ab_1.txt': [('T2', 'прибиральниця'), ('T3', 'директорка')],\n",
       "  '232be2c6b5c2_1.txt': [('T15', 'в.')],\n",
       "  '2846bf1d66a8_1.txt': [('T2', 'журналістка'),\n",
       "   ('T3', 'письменниця'),\n",
       "   ('T4', 'публіцистка'),\n",
       "   ('T7', 'редакторка'),\n",
       "   ('T15', 'редакторка'),\n",
       "   ('T19', 'журналістка'),\n",
       "   ('T20', 'журналістка')],\n",
       "  '0ac5140eb732_1.txt': [('T3', 'докторка'),\n",
       "   ('T7', 'докторка'),\n",
       "   ('T13', 'докторка'),\n",
       "   ('T17', 'докторка')],\n",
       "  'b84c8a869b51_1.txt': [('T2', 'депутатка')],\n",
       "  '937c38344fdf_1.txt': [('T7', 'священиця'),\n",
       "   ('T22', 'священиця'),\n",
       "   ('T27', 'священиця')],\n",
       "  'c0c436cc9cb6_1.txt': [('T3', 'начальниця'),\n",
       "   ('T5', 'начальниця'),\n",
       "   ('T7', 'директорка'),\n",
       "   ('T14', 'очільниця'),\n",
       "   ('T15', 'директорка'),\n",
       "   ('T22', 'логопедина'),\n",
       "   ('T24', 'логопедина'),\n",
       "   ('T34', 'директорка')],\n",
       "  'b987128d15d3_1.txt': [('T13', 'драматургиня')],\n",
       "  '91024fa21059_1.txt': [('T5', 'тренерка')],\n",
       "  'a196488351f6_1.txt': [('T1', 'перекладачка'),\n",
       "   ('T5', 'перекладачка'),\n",
       "   ('T10', 'перекладачка'),\n",
       "   ('T11', 'авангардистка')],\n",
       "  'a616672f4a8b_1.txt': [('T1', 'учителька'),\n",
       "   ('T8', 'лінгвістка'),\n",
       "   ('T9', 'психологин'),\n",
       "   ('T10', 'педагогина'),\n",
       "   ('T11', 'культурологин'),\n",
       "   ('T12', 'філософина'),\n",
       "   ('T22', 'письменниця'),\n",
       "   ('T23', 'мовознавиця'),\n",
       "   ('T24', 'учителька'),\n",
       "   ('T25', 'працівниця'),\n",
       "   ('T26', 'урядовиця')],\n",
       "  '710044df1fe0_1.txt': [('T7', 'математика'),\n",
       "   ('T10', 'вчителька'),\n",
       "   ('T11', 'вчителька'),\n",
       "   ('T25', 'директорка'),\n",
       "   ('T26', 'чиновниця'),\n",
       "   ('T31', 'садівниця')],\n",
       "  '09d6a57532b6_1.txt': [('T1', 'поетеса'),\n",
       "   ('T11', 'письменниця'),\n",
       "   ('T17', 'поетеса'),\n",
       "   ('T28', 'художниця'),\n",
       "   ('T34', 'поетеса'),\n",
       "   ('T38', 'чумачка')]},\n",
       " 'common': {'cee02d4c030f_1.txt': [('T11', 'голова'),\n",
       "   ('T33', 'голова'),\n",
       "   ('T43', 'голова'),\n",
       "   ('T67', 'голова')],\n",
       "  '10a2da5c514c_1.txt': [('T5', 'голова')],\n",
       "  'bdda872d3ef9_1.txt': [('T6', 'голова'), ('T12', 'голова')],\n",
       "  'e010e86e436c_1.txt': [('T5', 'голова')],\n",
       "  '8cc49a8b2d76_1.txt': [('T5', 'голова')],\n",
       "  '6b5d4229b548_1.txt': [('T38', 'осередок')],\n",
       "  'ea3fab248fbe_1.txt': [('T18', 'заступниця')],\n",
       "  '164940c99b86_1.txt': [('T13', 'судді')],\n",
       "  '561acef3f531_1.txt': [('T18', 'голова'), ('T26', 'голова')],\n",
       "  'e023d6d6f1a3_1.txt': [('T7', 'голова'),\n",
       "   ('T11', 'голова'),\n",
       "   ('T18', 'голова'),\n",
       "   ('T24', 'голова')],\n",
       "  '548f66f38090_1.txt': [('T15', 'старшина')],\n",
       "  '066ec5f0dea6_1.txt': [('T22', 'судді')],\n",
       "  'bc755153f4f7_1.txt': [('T15', 'в'), ('T18', 'голова'), ('T20', 'суддя')],\n",
       "  'c6807dbff658_1.txt': [('T1', 'судді'),\n",
       "   ('T2', 'суддя'),\n",
       "   ('T3', 'судді'),\n",
       "   ('T4', 'суддя'),\n",
       "   ('T5', 'судді'),\n",
       "   ('T6', 'судді'),\n",
       "   ('T7', 'суддя'),\n",
       "   ('T8', 'судді'),\n",
       "   ('T9', 'судді'),\n",
       "   ('T11', 'судді'),\n",
       "   ('T12', 'суддя'),\n",
       "   ('T13', 'суддя'),\n",
       "   ('T14', 'суддя'),\n",
       "   ('T19', 'судді'),\n",
       "   ('T22', 'суддя')],\n",
       "  'f5bb37569413_1.txt': [('T25', 'голова')],\n",
       "  '5764f733fff2_1.txt': [('T28', 'суддя')],\n",
       "  '17d3d678df81_1.txt': [('T41', 'музика'), ('T58', 'музика')],\n",
       "  'cad2484c0cc8_1.txt': [('T18', 'заступниця')],\n",
       "  'f958ce8bb461_1.txt': [('T22', 'голова')],\n",
       "  'e1d8841dcc68_1.txt': [('T56', 'голова')],\n",
       "  '232be2c6b5c2_1.txt': [('T6', 'голова'), ('T14', 'голова')],\n",
       "  '3ba7ca929d68_1.txt': [('T9', 'бариста')],\n",
       "  'c0c436cc9cb6_1.txt': [('T1', 'заступниця'),\n",
       "   ('T10', 'заступниця'),\n",
       "   ('T31', 'заступниця')],\n",
       "  '91024fa21059_1.txt': [('T19', 'голова')]},\n",
       " 'unknown_gender': {'e5e76a8efa0f_1.txt': [('T30', 'символістка'),\n",
       "   ('T233', 'поетес')],\n",
       "  'd3669729136c_1.txt': [('T9', 'поетес'), ('T10', 'поетес')],\n",
       "  'd3d5522aa52e_1.txt': [('T19', 'орнітологин'), ('T20', 'орнітологин')],\n",
       "  '547ce681ada8_1.txt': [('T48', 'наука'), ('T63', 'пе')],\n",
       "  '0d902430768c_1.txt': [('T18', 'підмайстрина'), ('T23', 'підмайстрина')],\n",
       "  '9494fddb0caa_1.txt': [('T2', 'найманок'), ('T8', 'солдатко')],\n",
       "  '4b1efc986bb8_1.txt': [('T1', 'хімікина'),\n",
       "   ('T15', 'хімікина'),\n",
       "   ('T17', 'хімікина')],\n",
       "  '9df8bcf8e17e_1.txt': [('T43', 'м')],\n",
       "  '2cc21b456aad_1.txt': [('T24', 'сторожиня')],\n",
       "  '17fbae84faea_1.txt': [('T1', 'шоколадник'), ('T2', 'шоколадник')],\n",
       "  '548f66f38090_1.txt': [('T2', 'гармашка'),\n",
       "   ('T14', 'отаманко'),\n",
       "   ('T49', 'старшинка')],\n",
       "  '38603af07530_1.txt': [('T4', 'головнокомандувачка'), ('T6', 'вид')],\n",
       "  'b019e9b8d51d_1.txt': [('T29', 'силовиця')],\n",
       "  '5e10574a909c_1.txt': [('T21', 'мікологина'), ('T26', 'вчень')],\n",
       "  'ff069c11e13d_1.txt': [('T6', 'богословиня')],\n",
       "  'f9a926049262_1.txt': [('T58', 'стрільчина')],\n",
       "  'c0f24f5d70e3_1.txt': [('T11', 'нян')],\n",
       "  '5764f733fff2_1.txt': [('T20', 'механікина'), ('T24', 'механікина')],\n",
       "  '17d3d678df81_1.txt': [('T13', 'покоївець')],\n",
       "  'a1a77d3d5b33_1.txt': [('T5', 'авторок')],\n",
       "  'f958ce8bb461_1.txt': [('T18', 'наука'),\n",
       "   ('T20', 'відділ'),\n",
       "   ('T26', 'наука'),\n",
       "   ('T32', 'наука'),\n",
       "   ('T49', 'наука'),\n",
       "   ('T55', 'наука')],\n",
       "  'e1d8841dcc68_1.txt': [('T13', 'інокина'),\n",
       "   ('T52', 'ігумень'),\n",
       "   ('T68', 'ректорк'),\n",
       "   ('T94', 'ктиторок'),\n",
       "   ('T101', 'законниця'),\n",
       "   ('T123', 'ченка'),\n",
       "   ('T135', 'шафарок'),\n",
       "   ('T136', 'управителький'),\n",
       "   ('T137', 'келарка'),\n",
       "   ('T157', 'єпископка'),\n",
       "   ('T163', 'єпискиня'),\n",
       "   ('T164', 'єпискиня')],\n",
       "  '5085bb95b51a_1.txt': [('T27', 'хліборобок'), ('T32', 'хліборобок')],\n",
       "  'b87576a7425a_1.txt': [('T19', 'гетьманешь')],\n",
       "  'b576ac602665_1.txt': [('T7', 'нквд-истка')],\n",
       "  'b84c8a869b51_1.txt': [('T12', 'юристок'), ('T13', 'податокець')],\n",
       "  'c0c436cc9cb6_1.txt': [('T21', 'брат')],\n",
       "  '91024fa21059_1.txt': [('T4', 'тренерк')],\n",
       "  'a616672f4a8b_1.txt': [('T6', 'академікина')]}}"
      ]
     },
     "execution_count": 84,
     "metadata": {},
     "output_type": "execute_result"
    }
   ],
   "source": [
    "changed_bruk_file_gender_dict"
   ]
  },
  {
   "cell_type": "code",
   "execution_count": 97,
   "metadata": {},
   "outputs": [
    {
     "name": "stdout",
     "output_type": "stream",
     "text": [
      "{'104263660695.txt': {'T25': ('директор', 'директорка'), 'T26': ('засновник', 'засновниця')}, 'bbc5330abbdc.txt': {'T25': ('міністр', 'міністерка')}, '989b35bbc2b6.txt': {'T25': ('засновник', 'засновниця'), 'T27': ('директор', 'директорка'), 'T29': ('керівник', 'керівниця')}, '8098d69d861f.txt': {'T49': ('засновник', 'засновниця'), 'T50': ('директор', 'директорка')}, '9c264bd5a100.txt': {'T12': ('голова', 'голова')}, '3e21f62b9a2f.txt': {'T18': ('засновник', 'засновниця'), 'T28': ('керівник', 'керівниця'), 'T29': ('засновник', 'засновниця'), 'T34': ('директор', 'директорка')}, '037bb6843538.txt': {'T15': ('депутат', 'депутатка'), 'T17': ('депутат', 'депутатка'), 'T35': ('співзасновник', 'співзасновниця'), 'T38': ('нардеп', 'нардепка'), 'T39': ('директор', 'директорка')}, '36aa8022709f.txt': {'T27': ('в', 'в')}, '4671f9337340.txt': {'T29': ('заступник', 'заступниця')}, 'db4996034aa6.txt': {'T12': ('засновник', 'засновниця')}, '7faf035614c1.txt': {'T34': ('голова', 'голова')}, '8806c823dee8.txt': {'T2': ('керівник', 'керівниця'), 'T18': ('начальник', 'начальниця'), 'T20': ('міністр', 'міністерка'), 'T22': ('заступник', 'заступниця'), 'T53': ('засновник', 'засновниця'), 'T60': ('представник', 'представниця')}, '883e1bd852d8.txt': {'T16': ('депутат', 'депутатка'), 'T25': ('засновник', 'засновниця')}, '3eef4bd7fc75.txt': {'T41': ('радник', 'радниця'), 'T46': ('митниця', 'митниця'), 'T56': ('заступник', 'заступниця')}, '02634352df22.txt': {'T12': ('страховик', 'страхувальниця'), 'T15': ('атомник', 'атомниця')}, '3fdf22393022.txt': {'T30': ('технічний', 'технічний')}, '7982679365fb.txt': {'T27': ('депутат', 'депутатка'), 'T37': ('депутат', 'депутатка')}, 'b4fe41ad2268.txt': {'T21': ('заступник', 'заступниця'), 'T36': ('радник', 'радниця'), 'T42': ('нардеп', 'нардепка'), 'T44': ('власник', 'власниця'), 'T55': ('міністр', 'міністерка')}, '6f6281133248.txt': {'T25': ('фопа', 'фопа')}, '63711262f9fb.txt': {'T12': ('інженер', 'інженерка'), 'T19': ('прокурор', 'прокурорка')}, '605d2142ccad.txt': {'T36': ('заступник', 'заступниця')}, '757fc6f23e18.txt': {'T17': ('екснардеп', 'екснардепка'), 'T22': ('керівник', 'керівниця'), 'T25': ('керівник', 'керівниця'), 'T34': ('помічник', 'помічниця'), 'T42': ('президент', 'президентка')}, '6d47a8c4d755.txt': {'T5': ('заступник', 'заступниця'), 'T13': ('директор', 'директорка'), 'T27': ('засновник', 'засновниця'), 'T37': ('нардеп', 'нардепка'), 'T56': ('керівник', 'керівниця')}, 'bf6104a5e8cc.txt': {'T21': ('засновник', 'засновниця'), 'T29': ('керівник', 'керівниця'), 'T37': ('міністр', 'міністерка')}, '5a43160b965d.txt': {'T26': ('засновник', 'засновниця'), 'T27': ('керівник', 'керівниця')}, '45ce670b36e1.txt': {'T28': ('голова', 'голова')}, '8e66b8ea5086.txt': {'T40': ('керівник', 'керівниця'), 'T42': ('міністр', 'міністерка'), 'T43': ('депутат', 'депутатка'), 'T46': ('партнер', 'партнерка')}, '1c48b2f37af3.txt': {'T23': ('голова', 'голова')}, '00edded01d7f.txt': {'T34': ('професор', 'професорка'), 'T44': ('начальник', 'начальниця')}, 'de4c2d20b24b.txt': {'T8': ('засновник', 'засновниця'), 'T22': ('засновник', 'засновниця')}, '5d7350e7d539.txt': {'T1': ('голова', 'голова'), 'T9': ('голова', 'голова'), 'T27': ('голова', 'голова'), 'T42': ('голова', 'голова')}, 'a4bdacf739df.txt': {'T13': ('міністр', 'міністерка'), 'T27': ('засновник', 'засновниця'), 'T29': ('депутат', 'депутатка'), 'T35': ('директор', 'директорка'), 'T41': ('директор', 'директорка'), 'T54': ('директор', 'директорка')}, '7d59bb5fe9f5.txt': {'T2': ('заступниця', 'заступник'), 'T7': ('заступник', 'заступниця'), 'T26': ('заступниця', 'заступник'), 'T44': ('голова', 'голова')}, '78153c6d7c59.txt': {'T7': ('депутат', 'депутатка'), 'T36': ('керівник', 'керівниця'), 'T41': ('нардеп', 'нардепка'), 'T44': ('засновник', 'засновниця'), 'T47': ('помічник', 'помічниця')}, 'bdb88360d4a8.txt': {'T33': ('депутат', 'депутатка'), 'T35': ('засновник', 'засновниця'), 'T39': ('генпрокурор', 'генпрокурорка'), 'T46': ('міністр', 'міністерка')}, 'd084adea3ae8.txt': {'T19': ('засновник', 'засновник')}, 'f5475c5dbfc9.txt': {'T20': ('комітет', 'комітет')}, '03d075bafb84.txt': {'T26': ('суддя', 'суддя'), 'T33': ('суддя', 'суддя')}, 'a04af354c8db.txt': {'T29': ('голова', 'голова'), 'T56': ('голова', 'голова')}, 'a767be7c3792.txt': {'T20': ('засновник', 'засновник')}, '372677bde8c8.txt': {'T17': ('дорожник', 'дорожниця')}, '0e6b8eb14491.txt': {'T29': ('засновник', 'засновниця')}, '01cfbeca9827.txt': {'T13': ('комунальник', 'комунальниця'), 'T18': ('директор', 'директорка'), 'T32': ('керівник', 'керівниця'), 'T38': ('директор', 'директорка'), 'T45': ('співзасновник', 'співзасновниця')}, 'ca414599779c.txt': {'T1': ('засновник', 'засновниця'), 'T14': ('засновник', 'засновниця'), 'T19': ('заступник', 'заступниця'), 'T22': ('керівник', 'керівниця'), 'T35': ('керівник', 'керівниця'), 'T38': ('експерт', 'експертка')}, '5e407e3ddb68.txt': {'T2': ('начальник', 'начальниця'), 'T11': ('інспектор', 'інспекторка'), 'T18': ('інспектор', 'інспекторка'), 'T19': ('інспектор', 'інспекторка'), 'T23': ('правоохоронець', 'правоохоронниця'), 'T24': ('начальник', 'начальниця'), 'T36': ('керівник', 'керівниця'), 'T37': ('засновник', 'засновниця')}, 'c99d1ad0cc3c.txt': {'T43': ('голова', 'голова')}, '23fed9919583.txt': {'T10': ('суддя', 'суддя')}, 'c1ddc42c47fb.txt': {'T27': ('директор', 'директорка'), 'T36': ('депутат', 'депутатка'), 'T38': ('мера', 'очільниця'), 'T42': ('депутат', 'депутатка')}, '0e31947e4561.txt': {'T2': ('підрядник', 'підрядниця'), 'T10': ('підрядник', 'підрядниця'), 'T21': ('директор', 'директорка'), 'T22': ('депутат', 'депутатка'), 'T30': ('засновник', 'засновниця'), 'T32': ('засновник', 'засновниця'), 'T34': ('директор', 'директорка'), 'T38': ('засновник', 'засновниця'), 'T39': ('директор', 'директорка'), 'T48': ('засновник', 'засновниця'), 'T49': ('директор', 'директорка')}, '1e8b049462e1.txt': {'T44': ('голова', 'голова')}, '06d7009e4925.txt': {'T2': ('експертний', 'експертний'), 'T16': ('інженер', 'інженерок'), 'T20': ('директор', 'директорка'), 'T21': ('експертний', 'експертний'), 'T27': ('засновник', 'засновниця'), 'T28': ('керівник', 'керівниця')}, 'a854e880d075.txt': {'T20': ('залізничник', 'залізничниця'), 'T53': ('керівник', 'керівниця')}, '5ae61df96054.txt': {'T11': ('депутат', 'депутатка'), 'T15': ('заступник', 'заступниця'), 'T18': ('замгубернатор', 'замгубернаторка')}, 'e54ada2b9649.txt': {'T15': ('засновник', 'засновниця'), 'T16': ('експерт', 'експертка')}, '9690987f7b71.txt': {'T1': ('завідувач', 'завідувачка'), 'T6': ('засновник', 'засновниця'), 'T8': ('слідчий', 'слідчий'), 'T12': ('керівник', 'керівниця'), 'T15': ('засновник', 'засновниця'), 'T16': ('комунальник', 'комунальниця'), 'T17': ('директор', 'директорка'), 'T26': ('керівник', 'керівниця'), 'T28': ('засновник', 'засновниця'), 'T31': ('керівник', 'керівниця')}, '6b71dda907fe.txt': {'T17': ('відділ', 'відділ')}, 'e32c3effa79e.txt': {'T7': ('депутат', 'депутатка'), 'T12': ('бізнесмен', 'бізнесвумен'), 'T14': ('начальник', 'відділ'), 'T17': ('лікар', 'лікарка'), 'T26': ('лісничий', 'ліснич'), 'T29': ('керівник', 'керівниця'), 'T32': ('спеціаліст', 'спеціалістка'), 'T35': ('засновник', 'засновниця'), 'T39': ('начальник', 'начальниця'), 'T43': ('начальник', 'начальниця'), 'T45': ('депутат', 'депутатка'), 'T53': ('директор', 'директорка'), 'T55': ('керівник', 'керівниця'), 'T57': ('міністр', 'міністерка'), 'T59': ('керівник', 'керівниця'), 'T60': ('керівник', 'керівниця')}, 'cdc9c08df7ac.txt': {'T26': ('контррозвідка', 'контррозвідка'), 'T30': ('спецслужба', 'спецслужба')}, '4ea65724096f.txt': {'T31': ('голова', 'голова'), 'T35': ('голова', 'голова')}, '4f2aecdde4c8.txt': {'T20': ('президент', 'президентка')}, '176e63516fab.txt': {'T26': ('дорожник', 'дорожниця')}, '5e33850771e3.txt': {'T1': ('заступник', 'заступник'), 'T6': ('прокурор', 'прокурор'), 'T10': ('прокурор', 'прокурор'), 'T13': ('адвокат', 'адвокат'), 'T29': ('прокурор', 'прокурор'), 'T38': ('прокурор', 'прокурор'), 'T43': ('прокурор', 'прокурор'), 'T51': ('прокурор', 'прокурор'), 'T54': ('прокурор', 'прокурор')}, '5111063957b7.txt': {'T1': ('суддя', 'суддя')}, '3b4ea1813b99.txt': {'T32': ('депутат', 'депутатка')}, 'c5930ba45ebe.txt': {'T33': ('засновник', 'засновниця'), 'T34': ('директор', 'директорка')}, '1257e7421756.txt': {'T25': ('судді', 'судді')}, '4bdc94abaa1c.txt': {'T1': ('інженер', 'інженерка'), 'T14': ('інженер', 'інженерка'), 'T40': ('директор', 'директорка')}, 'ab66959f7440.txt': {'T1': ('заступник', 'заступниця'), 'T4': ('слідчий', 'слідчий'), 'T7': ('заступник', 'заступниця'), 'T9': ('лікар', 'лікарка'), 'T11': ('лікар', 'лікарка'), 'T12': ('заступник', 'заступниця'), 'T19': ('посадовець', 'посадовиця'), 'T23': ('слідчий', 'слідчий'), 'T24': ('засновник', 'засновниця'), 'T27': ('керівник', 'керівниця')}, '64d0d60bba23.txt': {'T29': ('виконуючий', 'виконуючий'), 'T32': ('начальник', 'начальниця')}, 'e2e03aba8da3.txt': {'T1': ('заступник', 'заступниця'), 'T10': ('журналіст', 'журналістка'), 'T16': ('прокурор', 'прокурорка'), 'T17': ('журналіст', 'журналістка'), 'T20': ('прокурор', 'прокурорка'), 'T23': ('підприємець', 'підприємниця'), 'T28': ('заступник', 'заступниця'), 'T32': ('підприємець', 'підприємниця'), 'T36': ('прокурор', 'прокурорка')}, '61267204736d.txt': {'T26': ('засновник', 'засновниця')}, '33b6963bc554.txt': {'T37': ('заступник', 'заступник')}, 'e6f68e10e0e4.txt': {'T36': ('радник', 'радниця')}, 'd6ca19c4065e.txt': {'T50': ('голова', 'голова')}, '369c3876ae3d.txt': {'T16': ('засновник', 'засновниця'), 'T18': ('депутат', 'депутатка'), 'T26': ('засновник', 'засновниця')}, '6ada9307320e.txt': {'T35': ('керівник', 'керівниця'), 'T40': ('заступник', 'заступниця')}, '6920ac746f54.txt': {'T11': ('голова', 'голова'), 'T15': ('голова', 'голова')}, 'f82ca27cb935.txt': {'T39': ('директор', 'директорка')}, '97c7987b8f9c.txt': {'T17': ('рада', 'рада'), 'T25': ('голова', 'голова')}, 'cbf21c99c504.txt': {'T3': ('спеціаліст', 'спеціалістка'), 'T29': ('директор', 'директорка'), 'T34': ('відділ', 'відділ'), 'T39': ('чиновник', 'чиновниця'), 'T45': ('психіатр', 'психіатрина'), 'T46': ('нарколога', 'наркологин')}, 'e96b3ae1908b.txt': {'T5': ('заступник', 'заступниця')}, '605667093f7b.txt': {'T48': ('редактор', 'редакторка')}, 'c97bff36f45a.txt': {'T11': ('голова', 'голова')}, '2980d5c34788.txt': {'T25': ('директор', 'директорка'), 'T28': ('радник', 'радниця'), 'T31': ('депутат', 'депутатка'), 'T38': ('письменник', 'письменниця')}, 'c49d24717658.txt': {'T6': ('судді', 'судді'), 'T9': ('судді', 'судді'), 'T11': ('суддя', 'суддя'), 'T16': ('суддя', 'суддя'), 'T19': ('суддя', 'суддя'), 'T24': ('суддя', 'суддя'), 'T29': ('суддя', 'суддя'), 'T32': ('суддя', 'суддя'), 'T35': ('судді', 'судді'), 'T37': ('судді', 'судді'), 'T39': ('суддя', 'суддя'), 'T46': ('суддя', 'суддя'), 'T51': ('суддя', 'суддя'), 'T54': ('суддя', 'суддя'), 'T55': ('судді', 'судді')}, 'a56a7edf7859.txt': {'T28': ('співзасновник', 'співзасновниця'), 'T33': ('радник', 'радниця'), 'T43': ('посадовець', 'посадовиця')}, 'a4eee55da896.txt': {'T24': ('засновник', 'засновниця'), 'T37': ('очільник', 'очільниця'), 'T44': ('директор', 'директорка'), 'T46': ('співзасновник', 'співзасновниця'), 'T48': ('юрист', 'юристок')}, '7e6a2bdcfd1c.txt': {'T3': ('рітейлер', 'рітейлерко'), 'T8': ('рітейлер', 'рітейлерка'), 'T10': ('постачальник', 'постачальниця'), 'T22': ('оператор', 'операторка'), 'T26': ('рітейлер', 'рітейлерка'), 'T27': ('постачальник', 'постачальниця'), 'T30': ('оператор', 'операторка'), 'T32': ('рітейлер', 'рітейлерка'), 'T33': ('рітейлер', 'рітейлерка')}, 'e0c4e3168c81.txt': {'T30': ('губернатор', 'губернаторка'), 'T41': ('директор', 'директорка'), 'T47': ('менеджер', 'менеджерка')}, '02bebf42e010.txt': {'T1': ('суддя', 'суддя'), 'T13': ('суддя', 'суддя'), 'T17': ('судді', 'судді'), 'T25': ('судді', 'судді'), 'T29': ('суддя', 'суддя'), 'T30': ('суддя', 'суддя'), 'T37': ('суддя', 'суддя'), 'T38': ('суддя', 'суддя')}, 'c446d7d1cea2.txt': {'T4': ('чиновник', 'чиновниця'), 'T6': ('депутат', 'депутатка'), 'T12': ('міністр', 'міністерка'), 'T16': ('депутат', 'депутатка')}, 'cb8dd5ea2542.txt': {'T8': ('будівельник', 'будівельниця'), 'T23': ('засновник', 'засновниця'), 'T31': ('керівник', 'керівниця'), 'T32': ('засновник', 'засновниця'), 'T35': ('депутат', 'депутатка'), 'T38': ('президент', 'президентка'), 'T43': ('еколога', 'екологина')}, '8c6db2873e45.txt': {'T7': ('комісія', 'комісія'), 'T8': ('заступник', 'заступниця')}, 'd1d4639dbadd.txt': {'T23': ('підприємець', 'підприємниця'), 'T32': ('лікар', 'лікарка')}, '76cfe1c0a0b6.txt': {'T4': ('голова', 'голова'), 'T32': ('голова', 'голова')}, '3b285211209c.txt': {'T2': ('підприємець', 'підприємиця'), 'T3': ('підприємець', 'підприємиця'), 'T12': ('журналіст', 'журналістка'), 'T13': ('експерт', 'експертка'), 'T18': ('підприємець', 'підприємиця'), 'T20': ('підприємець', 'підприємиця')}, 'c09661af0a89.txt': {'T1': ('депутат', 'депутатка'), 'T4': ('депутат', 'депутатка'), 'T7': ('депутат', 'депутатка'), 'T17': ('депутат', 'депутатка'), 'T25': ('депутат', 'депутатка'), 'T31': ('депутат', 'депутатка'), 'T37': ('депутат', 'депутатка'), 'T48': ('депутат', 'депутатка'), 'T49': ('депутат', 'депутатка')}, '35a759d5871f.txt': {'T15': ('засновник', 'засновниця'), 'T16': ('директор', 'директорка'), 'T17': ('бухгалтер', 'бухгалтерка'), 'T18': ('прокурор', 'прокурорка'), 'T20': ('заступник', 'заступниця'), 'T25': ('замдиректор', 'замдиректорка'), 'T28': ('прокурор', 'прокурорка'), 'T33': ('начальник', 'начальниця'), 'T34': ('заступник', 'заступниця'), 'T37': ('керівник', 'керівниця')}, 'f2653a1e387d.txt': {'T5': ('міністр', 'міністерка')}, '30856acf29fc.txt': {'T37': ('засновник', 'засновниця'), 'T40': ('бізнесмен', 'бізнесменка'), 'T43': ('директор', 'директорка'), 'T45': ('засновник', 'засновниця')}, 'cb7958ff386e.txt': {'T45': ('голова', 'голова')}, 'd7e523681acc.txt': {'T10': ('начальник', 'начальниця'), 'T12': ('фахівець', 'фахівчиня')}, 'ba4204adf371.txt': {'T11': ('нардеп', 'нардепка'), 'T23': ('заступник', 'заступниця'), 'T25': ('співзасновник', 'співзасновниця'), 'T49': ('мер', 'очільниця'), 'T52': ('інженер', 'інженерка')}, 'bed0c1b62024.txt': {'T1': ('голова', 'голова'), 'T8': ('голова', 'голова'), 'T24': ('голова', 'голова')}, 'a9d2c035032d.txt': {'T48': ('керівництво', 'керівництво')}, 'f342f88df1c8.txt': {'T25': ('голова', 'голова')}, '003d28360166.txt': {'T35': ('директор', 'директорка'), 'T38': ('директор', 'директорка')}, '76b9b07172fb.txt': {'T19': ('голова', 'голова')}, '150446f83aa2.txt': {'T29': ('голова', 'голова')}, '4fa4b01c6204.txt': {'T18': ('суддя', 'суддя')}, 'b9ea4aa52bae.txt': {'T12': ('член', 'комітет'), 'T31': ('партнер', 'партнерка'), 'T32': ('депутат', 'депутатка'), 'T41': ('депутат', 'депутатка'), 'T47': ('член', 'членкиня'), 'T51': ('депутат', 'депутатка')}, '517bca22990a.txt': {'T1': ('голова', 'голова')}, 'd84580a3bacf.txt': {'T28': ('начальник', 'начальниця')}, 'e19e41e16752.txt': {'T7': ('засновник', 'засновниця'), 'T52': ('директор', 'директорка')}, '46b3a16d4154.txt': {'T14': ('депутат', 'депутатка'), 'T28': ('депутат', 'депутатка')}, '7d19fba564ad.txt': {'T24': ('член', 'членкиня'), 'T35': ('засновник', 'засновниця')}, '19ebc4aa5eb5.txt': {'T6': ('прикордонник', 'прикордонниця'), 'T27': ('відділ', 'відділ'), 'T29': ('підполковник', 'підполковниця'), 'T31': ('в.', 'т.')}, 'f50037706d0a.txt': {'T15': ('депутат', 'депутатка'), 'T17': ('антимонопольник', 'антимонопольниця'), 'T21': ('підприємець', 'підприємниця'), 'T22': ('депутат', 'депутатка'), 'T23': ('підприємець', 'підприємниця'), 'T25': ('депутат', 'депутатка'), 'T29': ('антимонопольник', 'антимонопопьниця'), 'T36': ('депутат', 'депутатка')}, '8e1267225acc.txt': {'T19': ('депутат', 'депутатка'), 'T30': ('партнер', 'партнерка'), 'T32': ('депутат', 'депутатка'), 'T34': ('очільник', 'очільниця')}, '357039d66ab7.txt': {'T8': ('продавець', 'продавчиня'), 'T19': ('президент', 'президентка')}, '258d2fd0d2fe.txt': {'T25': ('засновник', 'засновниця'), 'T27': ('депутат', 'депутатка'), 'T34': ('президент', 'президентка')}, '535022e2bdd2.txt': {'T9': ('ревізор', 'ревізорка'), 'T12': ('фінінспектор', 'фінінспекторка'), 'T13': ('дослідник', 'дослідниця'), 'T26': ('директор', 'директорка')}, '0f0e96425eed.txt': {'T23': ('засновник', 'засновниця'), 'T28': ('заступник', 'заступниця'), 'T41': ('директор', 'директорка')}, '798252fda0ab.txt': {'T35': ('засновник', 'засновниця'), 'T39': ('завідувач', 'завідувачка')}, '09e1dccb8839.txt': {'T25': ('суддя', 'суддя'), 'T29': ('суддя', 'суддя')}, '816a89664813.txt': {'T40': ('директор', 'директорка'), 'T42': ('засновник', 'засновниця'), 'T50': ('депутат', 'депутатка')}, 'ac13bf912fcb.txt': {'T13': ('директор', 'директорка')}, '5f0dd24186aa.txt': {'T19': ('мера', 'очільниця'), 'T30': ('директор', 'директорка')}, 'bf276ac58f0f.txt': {'T2': ('директор', 'директорка'), 'T4': ('директор', 'директорка'), 'T10': ('директор', 'директорка'), 'T16': ('директор', 'директорка'), 'T23': ('директор', 'директорка'), 'T25': ('керівник', 'керівниця'), 'T33': ('директор', 'директорка'), 'T40': ('інженер', 'інженерка'), 'T42': ('директор', 'директорка')}, '65a4cc6e3723.txt': {'T8': ('директор', 'директорка'), 'T19': ('журналіст', 'журналістка'), 'T30': ('заступник', 'заступниця')}, 'fc5b5a35776f.txt': {'T23': ('депутат', 'депутатка')}, '521b5669bca6.txt': {'T40': ('директор', 'директорка'), 'T52': ('директор', 'директорка'), 'T55': ('директор', 'директорка'), 'T58': ('засновник', 'засновниця')}, 'd4a86a1591b4.txt': {'T29': ('голова', 'голова')}, 'b991b2d46f85.txt': {'T23': ('директор', 'директорка'), 'T27': ('депутат', 'депутатка'), 'T32': ('директор', 'директорка'), 'T36': ('депутат', 'рада'), 'T39': ('заступник', 'заступниця')}, '0f94c5cc63c3.txt': {'T28': ('міністр', 'міністерка')}, '5a4b4498fe83.txt': {'T22': ('нардеп', 'нардепка'), 'T26': ('нардеп', 'нардепка'), 'T37': ('менеджера', 'менеджерка'), 'T39': ('директор', 'директорка'), 'T42': ('директор', 'директорка')}, 'fe12a985f7cd.txt': {'T46': ('голова', 'голова')}, 'ac7d3bf88e39.txt': {'T23': ('депутат', 'депутатка'), 'T32': ('бізнесмен', 'бізнесвумен'), 'T34': ('директор', 'директорка')}, '163e835b7aef.txt': {'T19': ('прокурор', 'прокурорка'), 'T22': ('прокурор', 'прокурорка'), 'T33': ('нардеп', 'нардепка'), 'T41': ('помічник', 'помічниця')}, '75e21fe4f3b7.txt': {'T21': ('депутат', 'депутатка'), 'T24': ('міністр', 'міністерка')}, 'd15b83fd32bd.txt': {'T32': ('директор', 'директорка')}, '79ccf625bc94.txt': {'T7': ('міліціонер', 'міліціонерка'), 'T8': ('лікар', 'лікарка'), 'T11': ('міліціонер', 'міліціонерка'), 'T12': ('лікар', 'лікарка')}, '18dbbac93012.txt': {'T33': ('підприємець', 'підприємниця')}, '3d437460799f.txt': {'T7': ('депутат', 'депутатка'), 'T9': ('депутат', 'депутатка'), 'T10': ('забудовник', 'забудовниця'), 'T11': ('депутат', 'депутатка'), 'T14': ('юрист', 'юристка'), 'T16': ('мера', 'очільниця'), 'T24': ('забудовник', 'забудовниця'), 'T33': ('забудовник', 'забудовниця'), 'T34': ('депутат', 'депутатка')}, '39c1d99f468f.txt': {'T35': ('директор', 'директорка'), 'T36': ('співзасновник', 'співзасновниця'), 'T38': ('нардеп', 'нардепка')}, '06826af4579d.txt': {'T2': ('підприємець', 'підприємниця'), 'T12': ('антимонопольник', 'антимонопопьниця'), 'T16': ('керівник', 'керівниця'), 'T24': ('начальник', 'начальниця')}, '872cdd84eee4.txt': {'T19': ('прокурор', 'прокурорка'), 'T32': ('підприємство', 'підприємство'), 'T37': ('депутат', 'депутатка')}, '1b68c2c76541.txt': {'T15': ('засновник', 'засновниця'), 'T16': ('директор', 'директорка'), 'T19': ('адвокат', 'адвокатка'), 'T21': ('юрисконсульт', 'юрисконсультка'), 'T23': ('засновник', 'засновниця'), 'T26': ('керівник', 'керівниця'), 'T33': ('керівник', 'керівниця'), 'T49': ('депутат', 'депутатка'), 'T52': ('заступник', 'заступниця'), 'T54': ('депутат', 'депутатка')}, '1c3533ec1df3.txt': {'T1': ('суддя', 'суддя'), 'T5': ('судді', 'судді'), 'T13': ('суддя', 'суддя'), 'T28': ('суддя', 'суддя'), 'T36': ('суддя', 'суддя'), 'T40': ('суддя', 'суддя'), 'T43': ('суддя', 'суддя')}, 'c9e6ab501a7e.txt': {'T27': ('голова', 'голова')}, '03b52358982b.txt': {'T30': ('суддя', 'суддя'), 'T31': ('суддя', 'суддя')}, '4de429586136.txt': {'T25': ('засновник', 'засновниця'), 'T29': ('засновник', 'засновниця'), 'T31': ('засновник', 'засновниця')}, 'b0163b57e788.txt': {'T1': ('судді', 'судді'), 'T6': ('судді', 'судді'), 'T13': ('суддя', 'суддя'), 'T20': ('судді', 'судді'), 'T28': ('суддя', 'суддя'), 'T36': ('суддя', 'суддя')}, '7f9631dbc39d.txt': {'T43': ('заступник', 'заступниця')}, '7ab185008967.txt': {'T32': ('директор', 'директорка'), 'T34': ('депутат', 'депутатка')}, 'c650874a1e16.txt': {'T8': ('очільник', 'очільниця'), 'T13': ('керівник', 'керівниця'), 'T20': ('правоохоронець', 'правоохоронниця'), 'T21': ('ексочільник', 'ексочільниця')}, '26c531a355cc.txt': {'T22': ('прокурор', 'прокурорка'), 'T35': ('міністр', 'міністерка')}, 'ab299615a1ce.txt': {'T1': ('директор', 'директорка'), 'T7': ('директор', 'директорка'), 'T10': ('директор', 'директорка'), 'T13': ('директор', 'директорка')}, '0e5456794c26.txt': {'T36': ('засновник', 'засновниця'), 'T38': ('депутат', 'депутатка')}, 'd080aa19c4bd.txt': {'T25': ('засновник', 'засновниця'), 'T35': ('директор', 'директорка'), 'T40': ('депутат', 'депутатка'), 'T49': ('засновник', 'засновниця'), 'T50': ('заступник', 'заступниця')}, '73eb785ac9bb.txt': {'T10': ('залізничник', 'залізничниця'), 'T15': ('виконавець', 'виконавиця'), 'T18': ('держвиконавець', 'держвиконавиця'), 'T26': ('засновник', 'засновниця'), 'T32': ('депутат', 'депутатка'), 'T36': ('президент', 'президентка')}, 'ba4d4c8da29b.txt': {'T44': ('директор', 'директорка'), 'T45': ('депутат', 'депутатка'), 'T55': ('директор', 'директорка')}, '16fb31bf76b8.txt': {'T21': ('голова', 'голова'), 'T39': ('голова', 'голова')}, '5d3d7e0d5bae.txt': {'T14': ('депутат', 'депутатка')}, 'b3e92d56950f.txt': {'T33': ('засновник', 'засновниця')}, '2c14409069b7.txt': {'T8': ('депутат', 'депутатка')}, '41cf54503fc6.txt': {'T20': ('голова', 'голова'), 'T53': ('голова', 'голова')}, '4e486c879cf1.txt': {'T26': ('директор', 'директорка'), 'T30': ('директор', 'директорка'), 'T32': ('керівник', 'керівниця'), 'T35': ('директор', 'директорка')}, '8f5d434373e2.txt': {'T27': ('заступник', 'заступниця'), 'T36': ('директор', 'директорка'), 'T38': ('керівник', 'керівниця'), 'T46': ('депутат', 'депутатка')}, '937ae8974dd6.txt': {'T8': ('антимонопольник', 'антимонопопьниця'), 'T13': ('антимонопольник', 'антимонопопьниця')}, 'c3156652dba3.txt': {'T16': ('юрист', 'юристок'), 'T24': ('радник', 'радниця'), 'T27': ('представник', 'представниця'), 'T29': ('представник', 'представниця'), 'T31': ('залізничник', 'залізничниця'), 'T32': ('радник', 'радниця')}, 'c8944932e85f.txt': {'T44': ('голова', 'голова')}, '64bbab373f73.txt': {'T21': ('голова', 'голова')}, 'fc3221dac69d.txt': {'T20': ('голова', 'голова')}, '39544dbbe184.txt': {'T36': ('заступник', 'заступниця')}, '510661e4d39d.txt': {'T9': ('керівник', 'керівниця'), 'T15': ('керівник', 'керівниця'), 'T25': ('керівник', 'керівниця'), 'T27': ('керівник', 'керівниця'), 'T30': ('засновник', 'засновниця'), 'T31': ('директор', 'директорка'), 'T33': ('керівник', 'керівниця')}, '6350e46219ca.txt': {'T14': ('водій', 'водійка'), 'T19': ('начальник', 'начальниця'), 'T41': ('нардеп', 'нардепка'), 'T45': ('прокурор', 'прокурорка')}, 'aeabc0bd5724.txt': {'T6': ('депутат', 'депутатка'), 'T13': ('директор', 'директорка'), 'T31': ('депутат', 'депутатка'), 'T33': ('засновник', 'засновниця')}, '39c7437146fd.txt': {'T1': ('депутат', 'депутатка'), 'T18': ('актор', 'акторка'), 'T25': ('нардеп', 'нардепка'), 'T32': ('нардеп', 'нардепка'), 'T38': ('нардеп', 'нардепка'), 'T39': ('депутат', 'депутатка'), 'T40': ('журналіст', 'журналістка')}, '17f81040ab50.txt': {'T16': ('засновник', 'засновниця'), 'T25': ('депутат', 'депутатка')}, '7eae7aa310d7.txt': {'T23': ('засновник', 'засновниця'), 'T25': ('журналіст', 'журналістка'), 'T26': ('експерт', 'експертка')}, 'b2541ea8cb83.txt': {'T28': ('директор', 'директорка')}, '432e298a1354.txt': {'T19': ('засновник', 'засновниця'), 'T22': ('заступник', 'заступниця'), 'T26': ('директор', 'директорка'), 'T28': ('директор', 'директорка')}, '1c3c6180ad96.txt': {'T36': ('голова', 'голова')}, '04b2cf6b449e.txt': {'T1': ('прокурор', 'прокурорка'), 'T19': ('прокурор', 'прокурорка'), 'T24': ('засновник', 'засновниця')}, '7248ab4edfe9.txt': {'T10': ('нардеп', 'нардепка')}, '9835fd136cb4.txt': {'T27': ('директор', 'директорка'), 'T34': ('засновник', 'засновниця'), 'T35': ('керівник', 'керівниця')}, '348b96a54914.txt': {'T21': ('губернатор', 'губернаторка'), 'T23': ('міністр', 'міністерка'), 'T33': ('депутат', 'депутатка'), 'T36': ('депутат', 'депутатка'), 'T40': ('міністр', 'міністерка'), 'T46': ('засновник', 'засновниця'), 'T50': ('депутат', 'депутатка')}, 'cc9eda5dc1f3.txt': {'T19': ('журналіст', 'журналістка'), 'T20': ('засновник', 'засновниця'), 'T24': ('замовник', 'замовниця'), 'T27': ('партнер', 'партнерка')}, 'd509463360e2.txt': {'T22': ('голова', 'голова')}, 'fa2b54229991.txt': {'T4': ('антимонопольник', 'антимонопольниця'), 'T14': ('детектив', 'детективка'), 'T33': ('держвиконавець', 'держвиконавиця')}, '1044724b1e84.txt': {'T45': ('заступник', 'заступниця')}, 'cffa0e3aa90f.txt': {'T12': ('нардеп', 'нардепка'), 'T16': ('депутат', 'депутатка'), 'T36': ('директор', 'директорка')}, '789ba2b89a05.txt': {'T23': ('посол', 'амбасадорка'), 'T26': ('посол', 'амбасадорка')}, 'f8ce14d569d1.txt': {'T3': ('голова', 'голова'), 'T6': ('голова', 'голова'), 'T38': ('голова', 'голова'), 'T40': ('голова', 'голова')}, '3e94fe6e9161.txt': {'T17': ('засновник', 'засновниця'), 'T20': ('директор', 'директорка')}, 'd81632a877d7.txt': {'T20': ('депутат', 'депутатка'), 'T24': ('депутат', 'депутатка')}, '94c633b4d39a.txt': {'T33': ('керівник', 'керівниця'), 'T36': ('засновник', 'засновниця'), 'T38': ('директор', 'директорка')}, 'd13ee85bbf5c.txt': {'T16': ('глава', 'глава')}, '1e9389b05e86.txt': {'T19': ('глава', 'глава')}, '0f9884d8a5e1.txt': {'T4': ('голова', 'голова'), 'T43': ('компанія', 'компанія')}, '05b89d1a90bf.txt': {'T15': ('президент', 'президентка'), 'T34': ('керівник', 'керівниця'), 'T42': ('замміністр', 'замміністерка')}, '87deabcc8f95.txt': {'T2': ('фоп', 'фоп')}, 'c07e05e53013.txt': {'T3': ('депутат', 'депутатка'), 'T32': ('засновник', 'засновниця'), 'T45': ('президент', 'президентка')}, '452ba42e97ec.txt': {'T12': ('військовослужбовець', 'військовослужбовиця'), 'T18': ('депутат', 'депутатка')}, '315a7f9491ac.txt': {'T36': ('заступник', 'заступниця')}, '00b1a798bebf.txt': {'T19': ('депутат', 'депутатка'), 'T30': ('менеджер', 'менеджерка'), 'T34': ('підприємець', 'підприємниця'), 'T36': ('депутат', 'депутатка'), 'T44': ('директор', 'директорка')}, '4ac82fdf4d4d.txt': {'T1': ('президент', 'президентка'), 'T24': ('директор', 'директорка')}, 'b72e7e33e081.txt': {'T11': ('адміністратор', 'адміністраторка')}, 'eed5beaf4033.txt': {'T29': ('директор', 'директорка'), 'T40': ('директор', 'директорка')}, 'f4119f5f8406.txt': {'T23': ('керівник', 'керівниця'), 'T34': ('директор', 'директорка'), 'T39': ('керівник', 'керівниця'), 'T40': ('нардеп', 'нардепка'), 'T42': ('президент', 'президентка')}, '54a45ec4929b.txt': {'T37': ('голова', 'голова')}, 'e37120a0aa66.txt': {'T14': ('розробник', 'розробниця')}, '9452af41a134.txt': {'T1': ('заступник', 'заступниця')}, '1adfefe0e695.txt': {'T26': ('нардеп', 'нардепка')}, '8936d7a04255.txt': {'T27': ('засновник', 'засновниця'), 'T29': ('депутат', 'депутатка'), 'T31': ('член', 'членкиня')}, '996f3a16780e.txt': {'T29': ('голова', 'голова')}, 'c2a04d86bfb8.txt': {'T35': ('заступник', 'заступниця')}, 'cf79fc17c020.txt': {'T37': ('президент', 'президентка')}, '30933a298472.txt': {'T12': ('глава', 'глава')}, '236f916f3d6f.txt': {'T19': ('суддя', 'суддя')}, '9893f2c9cae9.txt': {'T2': ('чиновник', 'чиновниця'), 'T6': ('чиновник', 'чиновниця'), 'T9': ('чиновник', 'чиновниця'), 'T11': ('зернотрейдер', 'зернотрейдерка'), 'T12': ('трейдер', 'трейдерка'), 'T13': ('трейдер', 'трейдерка'), 'T14': ('зернотрейдер', 'зернотрейдерка'), 'T15': ('чиновник', 'чиновниця'), 'T18': ('президент', 'президентка'), 'T27': ('зернотрейдер', 'зернотрейдерка')}, '67b6f23997c5.txt': {'T29': ('засновник', 'засновниця'), 'T35': ('директор', 'директорка'), 'T39': ('засновник', 'засновниця'), 'T42': ('директор', 'директорка'), 'T45': ('директор', 'директорка')}, '08c0799d889a.txt': {'T6': ('голова', 'голова'), 'T10': ('голова', 'голова'), 'T15': ('голова', 'голова'), 'T50': ('заступник', 'заступниця')}, 'f5e3415a3653.txt': {'T3': ('міністр', 'міністерка'), 'T12': ('співзасновник', 'співзасновниця'), 'T13': ('міністр', 'міністерка'), 'T22': ('міністр', 'міністерка'), 'T24': ('журналіст', 'журналістка'), 'T34': ('юрист', 'юристка'), 'T37': ('дачник', 'дачниця'), 'T38': ('міністр', 'міністерка')}, '66f7109b4b72.txt': {'T17': ('засновник', 'засновниця'), 'T31': ('засновник', 'засновниця'), 'T36': ('співзасновник', 'співзасновниця'), 'T39': ('засновник', 'засновниця'), 'T40': ('директор', 'директорка'), 'T43': ('директор', 'директорка')}, '8ae216cd6d99.txt': {'T10': ('голова', 'голова')}, 'ff85f24f2204.txt': {'T20': ('заступник', 'заступниця'), 'T23': ('керівник', 'керівниця'), 'T37': ('президент', 'президентка'), 'T38': ('депутат', 'депутатка'), 'T41': ('секретар', 'секретарка')}, '540d36b4fe1c.txt': {'T10': ('директор', 'директорка')}, '290f12765b32.txt': {'T44': ('голова', 'голова')}, '86c78648f86f.txt': {'T26': ('голова', 'голова')}, '5658ff392f11.txt': {'T25': ('радник', 'радниця')}, 'bd76ed4df58f.txt': {'T15': ('директор', 'директорка'), 'T33': ('чиновник', 'чиновниця')}, '386f07b6aca3.txt': {'T43': ('засновник', 'засновниця'), 'T44': ('директор', 'директорка')}, '3aa7c6a81ddd.txt': {'T7': ('міністр', 'міністерка')}, '1a15fc79575f.txt': {'T12': ('депутат', 'депутатка')}, 'aae1500a7f12.txt': {'T25': ('засновник', 'засновниця'), 'T32': ('міністр', 'міністерка'), 'T35': ('депутат', 'депутатка'), 'T41': ('чиновник', 'чиновниця'), 'T44': ('нардеп', 'нардепка'), 'T46': ('партнер', 'партнерка'), 'T47': ('міністр', 'міністерка'), 'T51': ('нардеп', 'нардепка')}, '59a9444d5c2d.txt': {'T74': ('голова', 'голова'), 'T79': ('рада', 'рада')}, '52a055482925.txt': {'T7': ('президент', 'президентка')}, 'ce52c670e720.txt': {'T11': ('директор', 'директорка'), 'T32': ('правоохоронець', 'правоохоронниця')}, 'fd7413336034.txt': {'T17': ('начальник', 'начальниця')}, '2d2e9cf66e5b.txt': {'T19': ('радник', 'радниця'), 'T23': ('підрядник', 'підрядниця'), 'T27': ('підрядник', 'підрядниця'), 'T33': ('директор', 'директорка')}, '16a112c13847.txt': {'T9': ('генпідрядник', 'генпідрядниця'), 'T16': ('директор', 'директорка'), 'T21': ('директор', 'директорка')}, '29ee46b3128e.txt': {'T17': ('депутат', 'депутатка'), 'T22': ('керівник', 'керівниця')}, '7ff7b6cfbbc2.txt': {'T16': ('засновник', 'засновниця'), 'T27': ('засновник', 'засновниця'), 'T32': ('засновник', 'засновниця')}, '3dfca2b9b104.txt': {'T23': ('голова', 'голова')}, '69dd300fd706.txt': {'T9': ('керівник', 'керівниця'), 'T22': ('засновник', 'засновниця'), 'T29': ('президент', 'президентка'), 'T34': ('директор', 'директорка'), 'T35': ('засновник', 'засновниця'), 'T41': ('депутат', 'депутатка')}, '62127c82f7cd.txt': {'T11': ('голова', 'голова')}, '82e415f0dd48.txt': {'T1': ('судді', 'судді'), 'T4': ('судді', 'судді'), 'T17': ('судді', 'судді'), 'T22': ('судді', 'судді'), 'T25': ('суддя', 'суддя'), 'T29': ('суддя', 'суддя')}, 'b060489eff8f.txt': {'T31': ('директор', 'директорка'), 'T39': ('заступник', 'заступниця'), 'T43': ('заступник', 'заступниця')}, '7d5bd98c3363.txt': {'T22': ('засновник', 'засновниця'), 'T23': ('директор', 'директорка'), 'T29': ('засновник', 'засновниця'), 'T35': ('директор', 'директорка'), 'T37': ('засновник', 'засновниця'), 'T42': ('директор', 'директорка'), 'T44': ('засновник', 'засновниця')}, '2850ba499aea.txt': {'T19': ('суддя', 'суддя')}, '9a51afb8d050.txt': {'T14': ('генпідрядник', 'генпідрядниця'), 'T31': ('бізнесмен', 'бізнесменка')}, 'b217b90e209d.txt': {'T17': ('засновник', 'засновниця'), 'T24': ('президент', 'президентка'), 'T27': ('співзасновник', 'співзасновниця'), 'T29': ('депутат', 'депутатка'), 'T31': ('засновник', 'засновниця'), 'T33': ('директор', 'директорка'), 'T38': ('директор', 'директорка')}, '3b570ac3116b.txt': {'T33': ('керівник', 'керівниця')}, '07c51f631d18.txt': {'T3': ('голова', 'голова'), 'T8': ('голова', 'голова'), 'T18': ('голова', 'голова')}, '2d37a2344b1e.txt': {'T6': ('депутат', 'депутатка')}, '19a095d6ed15.txt': {'T10': ('заступник', 'заступниця'), 'T12': ('прокурор', 'прокурорка'), 'T13': ('прокурор', 'прокурорка'), 'T27': ('керівник', 'керівниця')}, '25df43bd3fc5.txt': {'T27': ('мера', 'очільниця'), 'T39': ('засновник', 'засновниця'), 'T42': ('директор', 'директорка')}, 'b859478153e4.txt': {'T13': ('глава', 'глава'), 'T41': ('держава', 'держава')}, '47713afd9490.txt': {'T1': ('фоп', 'фоп'), 'T14': ('фоп', 'фоп'), 'T26': ('фоп', 'фоп')}, '7cf7a5aacb51.txt': {'T13': ('глава', 'голова')}, 'e0c33f29a3ae.txt': {'T21': ('судді', 'судді'), 'T24': ('судді', 'судді'), 'T28': ('суддя', 'суддя')}, 'a6b3166e4d3b.txt': {'T3': ('фоп', 'фоп')}}\n"
     ]
    }
   ],
   "source": [
    "import re\n",
    "\n",
    "aligned_pairs = {}\n",
    "\n",
    "def normalize_filename(name):\n",
    "    \"\"\"Remove '_1.txt' suffix to align with original filename\"\"\"\n",
    "    return re.sub(r'_1(?=\\.txt$)', '', name)\n",
    "\n",
    "def flatten_all_gender_dicts(gender_dict):\n",
    "    \"\"\"Flatten a nested gender-based dict into a flat filename -> items dict\"\"\"\n",
    "    flat = {}\n",
    "    for gender in ['male', 'female', 'common']:\n",
    "        if gender in gender_dict:\n",
    "            for fname, items in gender_dict[gender].items():\n",
    "                flat[fname] = items\n",
    "    return flat\n",
    "\n",
    "# Flatten both dicts without assuming gender order\n",
    "# original_flat = flatten_all_gender_dicts(orig_bruk_file_gender_dict)\n",
    "# swapped_flat = flatten_all_gender_dicts(changed_bruk_file_gender_dict)\n",
    "\n",
    "original_flat = flatten_all_gender_dicts(orig_ng_file_gender_dict)\n",
    "swapped_flat = flatten_all_gender_dicts(changed_ng_file_gender_dict)\n",
    "\n",
    "# Build aligned pairs: always (original, swapped)\n",
    "for swapped_fname, swapped_ents in swapped_flat.items():\n",
    "    orig_fname = normalize_filename(swapped_fname)\n",
    "    if orig_fname in original_flat:\n",
    "        orig_ents = dict(original_flat[orig_fname])\n",
    "        swapped_ents_dict = dict(swapped_ents)\n",
    "        paired = {\n",
    "            tid: (orig_ents[tid], swapped_ents_dict[tid])\n",
    "            for tid in orig_ents\n",
    "            if tid in swapped_ents_dict\n",
    "        }\n",
    "        if paired:\n",
    "            aligned_pairs[orig_fname] = paired\n",
    "\n",
    "print(aligned_pairs)\n"
   ]
  },
  {
   "cell_type": "code",
   "execution_count": 98,
   "metadata": {},
   "outputs": [],
   "source": [
    "import pandas as pd\n",
    "\n",
    "rows = []\n",
    "for filename, entity_dict in aligned_pairs.items():\n",
    "    for tid, (orig_text, swapped_text) in entity_dict.items():\n",
    "        rows.append({\n",
    "            \"filename\": filename,\n",
    "            \"entity_id\": tid,\n",
    "            \"original\": orig_text,\n",
    "            \"swapped\": swapped_text\n",
    "        })\n",
    "\n",
    "df = pd.DataFrame(rows)"
   ]
  },
  {
   "cell_type": "code",
   "execution_count": 99,
   "metadata": {},
   "outputs": [
    {
     "data": {
      "text/html": [
       "<div>\n",
       "<style scoped>\n",
       "    .dataframe tbody tr th:only-of-type {\n",
       "        vertical-align: middle;\n",
       "    }\n",
       "\n",
       "    .dataframe tbody tr th {\n",
       "        vertical-align: top;\n",
       "    }\n",
       "\n",
       "    .dataframe thead th {\n",
       "        text-align: right;\n",
       "    }\n",
       "</style>\n",
       "<table border=\"1\" class=\"dataframe\">\n",
       "  <thead>\n",
       "    <tr style=\"text-align: right;\">\n",
       "      <th></th>\n",
       "      <th>filename</th>\n",
       "      <th>entity_id</th>\n",
       "      <th>original</th>\n",
       "      <th>swapped</th>\n",
       "    </tr>\n",
       "  </thead>\n",
       "  <tbody>\n",
       "    <tr>\n",
       "      <th>0</th>\n",
       "      <td>104263660695.txt</td>\n",
       "      <td>T25</td>\n",
       "      <td>директор</td>\n",
       "      <td>директорка</td>\n",
       "    </tr>\n",
       "    <tr>\n",
       "      <th>1</th>\n",
       "      <td>104263660695.txt</td>\n",
       "      <td>T26</td>\n",
       "      <td>засновник</td>\n",
       "      <td>засновниця</td>\n",
       "    </tr>\n",
       "    <tr>\n",
       "      <th>2</th>\n",
       "      <td>bbc5330abbdc.txt</td>\n",
       "      <td>T25</td>\n",
       "      <td>міністр</td>\n",
       "      <td>міністерка</td>\n",
       "    </tr>\n",
       "    <tr>\n",
       "      <th>3</th>\n",
       "      <td>989b35bbc2b6.txt</td>\n",
       "      <td>T25</td>\n",
       "      <td>засновник</td>\n",
       "      <td>засновниця</td>\n",
       "    </tr>\n",
       "    <tr>\n",
       "      <th>4</th>\n",
       "      <td>989b35bbc2b6.txt</td>\n",
       "      <td>T27</td>\n",
       "      <td>директор</td>\n",
       "      <td>директорка</td>\n",
       "    </tr>\n",
       "  </tbody>\n",
       "</table>\n",
       "</div>"
      ],
      "text/plain": [
       "           filename entity_id   original     swapped\n",
       "0  104263660695.txt       T25   директор  директорка\n",
       "1  104263660695.txt       T26  засновник  засновниця\n",
       "2  bbc5330abbdc.txt       T25    міністр  міністерка\n",
       "3  989b35bbc2b6.txt       T25  засновник  засновниця\n",
       "4  989b35bbc2b6.txt       T27   директор  директорка"
      ]
     },
     "execution_count": 99,
     "metadata": {},
     "output_type": "execute_result"
    }
   ],
   "source": [
    "df.head()"
   ]
  },
  {
   "cell_type": "code",
   "execution_count": 100,
   "metadata": {},
   "outputs": [
    {
     "data": {
      "text/plain": [
       "(805, 4)"
      ]
     },
     "execution_count": 100,
     "metadata": {},
     "output_type": "execute_result"
    }
   ],
   "source": [
    "df.shape"
   ]
  },
  {
   "cell_type": "code",
   "execution_count": null,
   "metadata": {},
   "outputs": [],
   "source": [
    "df.to_csv(\"/Users/linndfors/study/diploma/ner_for_fem/data/utils_files/bruk_gender_pairs_from_swapping.csv\")\n",
    "# df.to_csv(\"/Users/linndfors/study/diploma/ner_for_fem/data/utils_files/ng_gender_pairs_from_swapping.csv\")"
   ]
  },
  {
   "cell_type": "markdown",
   "metadata": {},
   "source": [
    "## Collect dataset"
   ]
  },
  {
   "cell_type": "code",
   "execution_count": 60,
   "metadata": {},
   "outputs": [],
   "source": [
    "def move_file(filename, destination_dir):\n",
    "    file_name = os.path.basename(filename)\n",
    "\n",
    "    destination_path = os.path.join(destination_dir, file_name)\n",
    "\n",
    "    shutil.copy(filename, destination_path)\n",
    "\n",
    "def move_gender_files(gender_files_list, dest_dir):\n",
    "    \n",
    "    for gender_file in gender_files_list:\n",
    "        move_file(gender_file, dest_dir)\n",
    "\n",
    "        ann_gender_file = gender_file.replace(\".txt\", \".ann\")\n",
    "        move_file(ann_gender_file, dest_dir)\n",
    "        "
   ]
  },
  {
   "cell_type": "markdown",
   "metadata": {},
   "source": [
    "### Original"
   ]
  },
  {
   "cell_type": "markdown",
   "metadata": {},
   "source": [
    "Ng"
   ]
  },
  {
   "cell_type": "code",
   "execution_count": 89,
   "metadata": {},
   "outputs": [],
   "source": [
    "move_gender_files(orig_ng_male_files, '/Users/linndfors/study/diploma/ner_for_fem/data/data_for_ner/data_for_ner_gender/data_for_ner_male/ng')\n",
    "move_gender_files(orig_ng_female_files, '/Users/linndfors/study/diploma/ner_for_fem/data/data_for_ner/data_for_ner_gender/data_for_ner_female/ng')\n",
    "move_gender_files(orig_ng_common_files, '/Users/linndfors/study/diploma/ner_for_fem/data/data_for_ner/data_for_ner_gender/data_for_ner_common/ng')"
   ]
  },
  {
   "cell_type": "code",
   "execution_count": 62,
   "metadata": {},
   "outputs": [
    {
     "name": "stdout",
     "output_type": "stream",
     "text": [
      "male Total files: 1046\n",
      "female Total files: 828\n",
      "common Total files: 436\n"
     ]
    }
   ],
   "source": [
    "import os\n",
    "\n",
    "def count_files_recursive(directory):\n",
    "    count = 0\n",
    "    for root, dirs, files in os.walk(directory):\n",
    "        count += len(files)\n",
    "    return count\n",
    "\n",
    "directory_path = \"/Users/linndfors/study/diploma/ner_for_fem/data/data_for_ner/data_for_ner_gender/data_for_ner_male\"\n",
    "print(\"male Total files:\", count_files_recursive(directory_path))\n",
    "\n",
    "directory_path = \"/Users/linndfors/study/diploma/ner_for_fem/data/data_for_ner/data_for_ner_gender/data_for_ner_female\"\n",
    "print(\"female Total files:\", count_files_recursive(directory_path))\n",
    "\n",
    "directory_path = \"/Users/linndfors/study/diploma/ner_for_fem/data/data_for_ner/data_for_ner_gender/data_for_ner_common\"\n",
    "print(\"common Total files:\", count_files_recursive(directory_path))"
   ]
  },
  {
   "cell_type": "code",
   "execution_count": 93,
   "metadata": {},
   "outputs": [
    {
     "name": "stdout",
     "output_type": "stream",
     "text": [
      "male Total files: 530\n",
      "female Total files: 360\n",
      "common Total files: 28\n"
     ]
    }
   ],
   "source": [
    "import os\n",
    "\n",
    "def count_files_recursive(directory):\n",
    "    count = 0\n",
    "    for root, dirs, files in os.walk(directory):\n",
    "        count += len(files)\n",
    "    return count\n",
    "\n",
    "directory_path = \"/Users/linndfors/study/diploma/ner_for_fem/data/data_for_ner/data_for_ner_gender/data_for_ner_male\"\n",
    "print(\"male Total files:\", count_files_recursive(directory_path))\n",
    "\n",
    "directory_path = \"/Users/linndfors/study/diploma/ner_for_fem/data/data_for_ner/data_for_ner_gender/data_for_ner_female\"\n",
    "print(\"female Total files:\", count_files_recursive(directory_path))\n",
    "\n",
    "directory_path = \"/Users/linndfors/study/diploma/ner_for_fem/data/data_for_ner/data_for_ner_gender/data_for_ner_common\"\n",
    "print(\"common Total files:\", count_files_recursive(directory_path))"
   ]
  },
  {
   "cell_type": "markdown",
   "metadata": {},
   "source": [
    "BRUK"
   ]
  },
  {
   "cell_type": "code",
   "execution_count": 90,
   "metadata": {},
   "outputs": [],
   "source": [
    "move_gender_files(orig_bruk_male_files, '/Users/linndfors/study/diploma/ner_for_fem/data/data_for_ner/data_for_ner_gender/data_for_ner_male/bruk')\n",
    "move_gender_files(orig_bruk_female_files, '/Users/linndfors/study/diploma/ner_for_fem/data/data_for_ner/data_for_ner_gender/data_for_ner_female/bruk')\n",
    "move_gender_files(orig_bruk_common_files, '/Users/linndfors/study/diploma/ner_for_fem/data/data_for_ner/data_for_ner_gender/data_for_ner_common/bruk')"
   ]
  },
  {
   "cell_type": "markdown",
   "metadata": {},
   "source": [
    "### Swapped"
   ]
  },
  {
   "cell_type": "markdown",
   "metadata": {},
   "source": [
    "Ng"
   ]
  },
  {
   "cell_type": "code",
   "execution_count": 91,
   "metadata": {},
   "outputs": [],
   "source": [
    "move_gender_files(changed_ng_male_files, '/Users/linndfors/study/diploma/ner_for_fem/data/data_for_ner/data_for_ner_gender/data_for_ner_male/ng_changed')\n",
    "move_gender_files(changed_ng_female_files, '/Users/linndfors/study/diploma/ner_for_fem/data/data_for_ner/data_for_ner_gender/data_for_ner_female/ng_changed')\n",
    "move_gender_files(changed_ng_common_files, '/Users/linndfors/study/diploma/ner_for_fem/data/data_for_ner/data_for_ner_gender/data_for_ner_common/ng_changed')"
   ]
  },
  {
   "cell_type": "markdown",
   "metadata": {},
   "source": [
    "BRUK"
   ]
  },
  {
   "cell_type": "code",
   "execution_count": 92,
   "metadata": {},
   "outputs": [],
   "source": [
    "move_gender_files(changed_bruk_male_files, '/Users/linndfors/study/diploma/ner_for_fem/data/data_for_ner/data_for_ner_gender/data_for_ner_male/bruk_changed')\n",
    "move_gender_files(changed_bruk_female_files, '/Users/linndfors/study/diploma/ner_for_fem/data/data_for_ner/data_for_ner_gender/data_for_ner_female/bruk_changed')\n",
    "move_gender_files(changed_bruk_common_files, '/Users/linndfors/study/diploma/ner_for_fem/data/data_for_ner/data_for_ner_gender/data_for_ner_common/bruk_changed')"
   ]
  },
  {
   "cell_type": "markdown",
   "metadata": {},
   "source": [
    "## For filtered parallel sentence dataset"
   ]
  },
  {
   "cell_type": "code",
   "execution_count": 74,
   "metadata": {},
   "outputs": [],
   "source": [
    "import os\n",
    "import glob\n",
    "\n",
    "def extract_job_entities(directory):\n",
    "    pers_entities = {}\n",
    "    \n",
    "    ann_files = glob.glob(os.path.join(directory, \"*.ann\"))\n",
    "    print(ann_files)\n",
    "    \n",
    "    for ann_file in ann_files:\n",
    "        with open(ann_file, \"r\", encoding=\"utf-8\") as f:\n",
    "            for line in f:\n",
    "                parts = line.strip().split(\"\\t\")\n",
    "                if len(parts) == 5:\n",
    "                    \n",
    "                    entity_type = parts[1]\n",
    "                    \n",
    "                    if entity_type == \"JOB\":\n",
    "                        entity_text = parts[4]\n",
    "                        if ann_file in pers_entities:\n",
    "                            pers_entities[ann_file].append(entity_text)\n",
    "                        else:\n",
    "                            pers_entities[ann_file] = [entity_text]\n",
    "    \n",
    "    return pers_entities\n",
    "\n",
    "def return_gendered_PERS_dict(pers_dict):\n",
    "    file_gender_dict = {\"male\": {}, \"female\": {}, \"common\": {}, \"unknown_gender\": {}}\n",
    "\n",
    "    total_pers_counter = 0\n",
    "    pers_list = []\n",
    "\n",
    "    for filename, values in tqdm.tqdm(pers_dict.items()):\n",
    "        filename = filename.replace(\".ann\", \".txt\")\n",
    "        \n",
    "        try:\n",
    "            for ent in values:\n",
    "                total_pers_counter += 1\n",
    "                pers_list.append(ent)\n",
    "                # if len(ent.split(' ')) > 1:\n",
    "                #     ent = ent.split(' ')[0]\n",
    "                gender_value, lemma_word = extract_job_gender(ent)\n",
    "                # print(gender_value, lemma_word)\n",
    "                \n",
    "                if filename not in file_gender_dict[gender_value]:\n",
    "                    file_gender_dict[gender_value][filename] = [(ent, lemma_word)]\n",
    "                else:\n",
    "                    file_gender_dict[gender_value][filename].append((ent, lemma_word))\n",
    "                    \n",
    "        except Exception as e:\n",
    "            print(f\"Issue with row: {row} - Error: {e}\")\n",
    "    return file_gender_dict, total_pers_counter, pers_list"
   ]
  },
  {
   "cell_type": "code",
   "execution_count": null,
   "metadata": {},
   "outputs": [],
   "source": [
    "bruk_job_dict = extract_job_entities(\"/Users/linndfors/study/diploma/ner_for_fem/data/v2.0-swapped_filtering/data/bruk\")\n",
    "bruk_job_file_gender_dict, bruk_job_total_counter, bruk_job_list = return_gendered_PERS_dict(bruk_job_dict)"
   ]
  },
  {
   "cell_type": "code",
   "execution_count": 73,
   "metadata": {},
   "outputs": [
    {
     "name": "stdout",
     "output_type": "stream",
     "text": [
      "total size: 481\n",
      "================\n",
      "gender: male\n",
      "number of files for the gender: 39\n",
      "number of entities for the gender: 67\n",
      "percentage: 0.1392931392931393\n",
      "The most popular entity: вчитель\n",
      "================\n",
      "================\n",
      "gender: female\n",
      "number of files for the gender: 107\n",
      "number of entities for the gender: 343\n",
      "percentage: 0.7130977130977131\n",
      "The most popular entity: журналістка\n",
      "================\n",
      "================\n",
      "gender: common\n",
      "number of files for the gender: 21\n",
      "number of entities for the gender: 33\n",
      "percentage: 0.06860706860706861\n",
      "The most popular entity: голова\n",
      "================\n",
      "================\n",
      "gender: unknown_gender\n",
      "number of files for the gender: 23\n",
      "number of entities for the gender: 38\n",
      "percentage: 0.079002079002079\n",
      "The most popular entity: наука\n",
      "================\n"
     ]
    }
   ],
   "source": [
    "return_gender_stat(bruk_job_total_counter, bruk_job_file_gender_dict)"
   ]
  },
  {
   "cell_type": "code",
   "execution_count": 75,
   "metadata": {},
   "outputs": [
    {
     "name": "stdout",
     "output_type": "stream",
     "text": [
      "['/Users/linndfors/study/diploma/ner_for_fem/data/v2.0-swapped_filtering/data/ng/989b35bbc2b6-swapped.ann', '/Users/linndfors/study/diploma/ner_for_fem/data/v2.0-swapped_filtering/data/ng/5e33850771e3-swapped.ann', '/Users/linndfors/study/diploma/ner_for_fem/data/v2.0-swapped_filtering/data/ng/1c48b2f37af3-swapped.ann', '/Users/linndfors/study/diploma/ner_for_fem/data/v2.0-swapped_filtering/data/ng/0050229d8534-swapped.ann', '/Users/linndfors/study/diploma/ner_for_fem/data/v2.0-swapped_filtering/data/ng/150446f83aa2-swapped.ann', '/Users/linndfors/study/diploma/ner_for_fem/data/v2.0-swapped_filtering/data/ng/00edded01d7f-swapped.ann', '/Users/linndfors/study/diploma/ner_for_fem/data/v2.0-swapped_filtering/data/ng/f50037706d0a-swapped.ann', '/Users/linndfors/study/diploma/ner_for_fem/data/v2.0-swapped_filtering/data/ng/6d47a8c4d755-swapped.ann', '/Users/linndfors/study/diploma/ner_for_fem/data/v2.0-swapped_filtering/data/ng/5e407e3ddb68-swapped.ann', '/Users/linndfors/study/diploma/ner_for_fem/data/v2.0-swapped_filtering/data/ng/0e5456794c26-swapped.ann', '/Users/linndfors/study/diploma/ner_for_fem/data/v2.0-swapped_filtering/data/ng/cc9eda5dc1f3-swapped.ann', '/Users/linndfors/study/diploma/ner_for_fem/data/v2.0-swapped_filtering/data/ng/ac13bf912fcb-swapped.ann', '/Users/linndfors/study/diploma/ner_for_fem/data/v2.0-swapped_filtering/data/ng/432e298a1354-swapped.ann', '/Users/linndfors/study/diploma/ner_for_fem/data/v2.0-swapped_filtering/data/ng/23fed9919583-swapped.ann', '/Users/linndfors/study/diploma/ner_for_fem/data/v2.0-swapped_filtering/data/ng/17f81040ab50-swapped.ann', '/Users/linndfors/study/diploma/ner_for_fem/data/v2.0-swapped_filtering/data/ng/176e63516fab-swapped.ann', '/Users/linndfors/study/diploma/ner_for_fem/data/v2.0-swapped_filtering/data/ng/c446d7d1cea2-swapped.ann', '/Users/linndfors/study/diploma/ner_for_fem/data/v2.0-swapped_filtering/data/ng/f62160cb3ef6-swapped.ann', '/Users/linndfors/study/diploma/ner_for_fem/data/v2.0-swapped_filtering/data/ng/8e66b8ea5086-swapped.ann', '/Users/linndfors/study/diploma/ner_for_fem/data/v2.0-swapped_filtering/data/ng/f8ce14d569d1-swapped.ann', '/Users/linndfors/study/diploma/ner_for_fem/data/v2.0-swapped_filtering/data/ng/4ea65724096f-swapped.ann', '/Users/linndfors/study/diploma/ner_for_fem/data/v2.0-swapped_filtering/data/ng/e2e03aba8da3-swapped.ann', '/Users/linndfors/study/diploma/ner_for_fem/data/v2.0-swapped_filtering/data/ng/fc3221dac69d-swapped.ann', '/Users/linndfors/study/diploma/ner_for_fem/data/v2.0-swapped_filtering/data/ng/1e8b049462e1-swapped.ann', '/Users/linndfors/study/diploma/ner_for_fem/data/v2.0-swapped_filtering/data/ng/de4c2d20b24b-swapped.ann', '/Users/linndfors/study/diploma/ner_for_fem/data/v2.0-swapped_filtering/data/ng/7982679365fb-swapped.ann', '/Users/linndfors/study/diploma/ner_for_fem/data/v2.0-swapped_filtering/data/ng/d81632a877d7-swapped.ann', '/Users/linndfors/study/diploma/ner_for_fem/data/v2.0-swapped_filtering/data/ng/d4a86a1591b4-swapped.ann', '/Users/linndfors/study/diploma/ner_for_fem/data/v2.0-swapped_filtering/data/ng/1e9389b05e86-swapped.ann', '/Users/linndfors/study/diploma/ner_for_fem/data/v2.0-swapped_filtering/data/ng/bdb88360d4a8-swapped.ann', '/Users/linndfors/study/diploma/ner_for_fem/data/v2.0-swapped_filtering/data/ng/b3e92d56950f-swapped.ann', '/Users/linndfors/study/diploma/ner_for_fem/data/v2.0-swapped_filtering/data/ng/798252fda0ab-swapped.ann', '/Users/linndfors/study/diploma/ner_for_fem/data/v2.0-swapped_filtering/data/ng/18dbbac93012-swapped.ann', '/Users/linndfors/study/diploma/ner_for_fem/data/v2.0-swapped_filtering/data/ng/db4996034aa6-swapped.ann', '/Users/linndfors/study/diploma/ner_for_fem/data/v2.0-swapped_filtering/data/ng/2d37a2344b1e-swapped.ann', '/Users/linndfors/study/diploma/ner_for_fem/data/v2.0-swapped_filtering/data/ng/39c7437146fd-swapped.ann', '/Users/linndfors/study/diploma/ner_for_fem/data/v2.0-swapped_filtering/data/ng/7248ab4edfe9-swapped.ann', '/Users/linndfors/study/diploma/ner_for_fem/data/v2.0-swapped_filtering/data/ng/e0c4e3168c81-swapped.ann', '/Users/linndfors/study/diploma/ner_for_fem/data/v2.0-swapped_filtering/data/ng/1ce0dee84a4d-swapped.ann', '/Users/linndfors/study/diploma/ner_for_fem/data/v2.0-swapped_filtering/data/ng/3d437460799f-swapped.ann', '/Users/linndfors/study/diploma/ner_for_fem/data/v2.0-swapped_filtering/data/ng/9452af41a134-swapped.ann', '/Users/linndfors/study/diploma/ner_for_fem/data/v2.0-swapped_filtering/data/ng/c49d24717658-swapped.ann', '/Users/linndfors/study/diploma/ner_for_fem/data/v2.0-swapped_filtering/data/ng/03b52358982b-swapped.ann', '/Users/linndfors/study/diploma/ner_for_fem/data/v2.0-swapped_filtering/data/ng/39544dbbe184-swapped.ann', '/Users/linndfors/study/diploma/ner_for_fem/data/v2.0-swapped_filtering/data/ng/1a15fc79575f-swapped.ann', '/Users/linndfors/study/diploma/ner_for_fem/data/v2.0-swapped_filtering/data/ng/8936d7a04255-swapped.ann', '/Users/linndfors/study/diploma/ner_for_fem/data/v2.0-swapped_filtering/data/ng/00b1a798bebf-swapped.ann', '/Users/linndfors/study/diploma/ner_for_fem/data/v2.0-swapped_filtering/data/ng/b9ea4aa52bae-swapped.ann', '/Users/linndfors/study/diploma/ner_for_fem/data/v2.0-swapped_filtering/data/ng/7eae7aa310d7-swapped.ann', '/Users/linndfors/study/diploma/ner_for_fem/data/v2.0-swapped_filtering/data/ng/9c264bd5a100-swapped.ann', '/Users/linndfors/study/diploma/ner_for_fem/data/v2.0-swapped_filtering/data/ng/fc5b5a35776f-swapped.ann', '/Users/linndfors/study/diploma/ner_for_fem/data/v2.0-swapped_filtering/data/ng/872cdd84eee4-swapped.ann', '/Users/linndfors/study/diploma/ner_for_fem/data/v2.0-swapped_filtering/data/ng/3e21f62b9a2f-swapped.ann', '/Users/linndfors/study/diploma/ner_for_fem/data/v2.0-swapped_filtering/data/ng/4fa4b01c6204-swapped.ann', '/Users/linndfors/study/diploma/ner_for_fem/data/v2.0-swapped_filtering/data/ng/fe12a985f7cd-swapped.ann', '/Users/linndfors/study/diploma/ner_for_fem/data/v2.0-swapped_filtering/data/ng/517bca22990a-swapped.ann', '/Users/linndfors/study/diploma/ner_for_fem/data/v2.0-swapped_filtering/data/ng/a56a7edf7859-swapped.ann', '/Users/linndfors/study/diploma/ner_for_fem/data/v2.0-swapped_filtering/data/ng/d84580a3bacf-swapped.ann', '/Users/linndfors/study/diploma/ner_for_fem/data/v2.0-swapped_filtering/data/ng/05b89d1a90bf-swapped.ann', '/Users/linndfors/study/diploma/ner_for_fem/data/v2.0-swapped_filtering/data/ng/0f0e96425eed-swapped.ann', '/Users/linndfors/study/diploma/ner_for_fem/data/v2.0-swapped_filtering/data/ng/6920ac746f54-swapped.ann', '/Users/linndfors/study/diploma/ner_for_fem/data/v2.0-swapped_filtering/data/ng/258d2fd0d2fe-swapped.ann', '/Users/linndfors/study/diploma/ner_for_fem/data/v2.0-swapped_filtering/data/ng/ba4d4c8da29b-swapped.ann', '/Users/linndfors/study/diploma/ner_for_fem/data/v2.0-swapped_filtering/data/ng/e0c33f29a3ae-swapped.ann', '/Users/linndfors/study/diploma/ner_for_fem/data/v2.0-swapped_filtering/data/ng/2980d5c34788-swapped.ann', '/Users/linndfors/study/diploma/ner_for_fem/data/v2.0-swapped_filtering/data/ng/67b6f23997c5-swapped.ann', '/Users/linndfors/study/diploma/ner_for_fem/data/v2.0-swapped_filtering/data/ng/a4eee55da896-swapped.ann', '/Users/linndfors/study/diploma/ner_for_fem/data/v2.0-swapped_filtering/data/ng/8ae216cd6d99-swapped.ann', '/Users/linndfors/study/diploma/ner_for_fem/data/v2.0-swapped_filtering/data/ng/5a4b4498fe83-swapped.ann', '/Users/linndfors/study/diploma/ner_for_fem/data/v2.0-swapped_filtering/data/ng/12ca40b4ecac-swapped.ann', '/Users/linndfors/study/diploma/ner_for_fem/data/v2.0-swapped_filtering/data/ng/f5e3415a3653-swapped.ann', '/Users/linndfors/study/diploma/ner_for_fem/data/v2.0-swapped_filtering/data/ng/b060489eff8f-swapped.ann', '/Users/linndfors/study/diploma/ner_for_fem/data/v2.0-swapped_filtering/data/ng/4f2aecdde4c8-swapped.ann', '/Users/linndfors/study/diploma/ner_for_fem/data/v2.0-swapped_filtering/data/ng/76b9b07172fb-swapped.ann', '/Users/linndfors/study/diploma/ner_for_fem/data/v2.0-swapped_filtering/data/ng/9835fd136cb4-swapped.ann', '/Users/linndfors/study/diploma/ner_for_fem/data/v2.0-swapped_filtering/data/ng/76cfe1c0a0b6-swapped.ann', '/Users/linndfors/study/diploma/ner_for_fem/data/v2.0-swapped_filtering/data/ng/f2653a1e387d-swapped.ann', '/Users/linndfors/study/diploma/ner_for_fem/data/v2.0-swapped_filtering/data/ng/c9e6ab501a7e-swapped.ann', '/Users/linndfors/study/diploma/ner_for_fem/data/v2.0-swapped_filtering/data/ng/0f9884d8a5e1-swapped.ann', '/Users/linndfors/study/diploma/ner_for_fem/data/v2.0-swapped_filtering/data/ng/c3156652dba3-swapped.ann', '/Users/linndfors/study/diploma/ner_for_fem/data/v2.0-swapped_filtering/data/ng/ba4204adf371-swapped.ann', '/Users/linndfors/study/diploma/ner_for_fem/data/v2.0-swapped_filtering/data/ng/65a4cc6e3723-swapped.ann', '/Users/linndfors/study/diploma/ner_for_fem/data/v2.0-swapped_filtering/data/ng/1c3533ec1df3-swapped.ann', '/Users/linndfors/study/diploma/ner_for_fem/data/v2.0-swapped_filtering/data/ng/510661e4d39d-swapped.ann', '/Users/linndfors/study/diploma/ner_for_fem/data/v2.0-swapped_filtering/data/ng/e6f68e10e0e4-swapped.ann', '/Users/linndfors/study/diploma/ner_for_fem/data/v2.0-swapped_filtering/data/ng/0e31947e4561-swapped.ann', '/Users/linndfors/study/diploma/ner_for_fem/data/v2.0-swapped_filtering/data/ng/19a095d6ed15-swapped.ann', '/Users/linndfors/study/diploma/ner_for_fem/data/v2.0-swapped_filtering/data/ng/73eb785ac9bb-swapped.ann', '/Users/linndfors/study/diploma/ner_for_fem/data/v2.0-swapped_filtering/data/ng/35a759d5871f-swapped.ann', '/Users/linndfors/study/diploma/ner_for_fem/data/v2.0-swapped_filtering/data/ng/8806c823dee8-swapped.ann', '/Users/linndfors/study/diploma/ner_for_fem/data/v2.0-swapped_filtering/data/ng/a6b3166e4d3b-swapped.ann', '/Users/linndfors/study/diploma/ner_for_fem/data/v2.0-swapped_filtering/data/ng/1257e7421756-swapped.ann', '/Users/linndfors/study/diploma/ner_for_fem/data/v2.0-swapped_filtering/data/ng/52a055482925-swapped.ann', '/Users/linndfors/study/diploma/ner_for_fem/data/v2.0-swapped_filtering/data/ng/a4bdacf739df-swapped.ann', '/Users/linndfors/study/diploma/ner_for_fem/data/v2.0-swapped_filtering/data/ng/0e6b8eb14491-swapped.ann', '/Users/linndfors/study/diploma/ner_for_fem/data/v2.0-swapped_filtering/data/ng/36aa8022709f-swapped.ann', '/Users/linndfors/study/diploma/ner_for_fem/data/v2.0-swapped_filtering/data/ng/bf276ac58f0f-swapped.ann', '/Users/linndfors/study/diploma/ner_for_fem/data/v2.0-swapped_filtering/data/ng/c8944932e85f-swapped.ann', '/Users/linndfors/study/diploma/ner_for_fem/data/v2.0-swapped_filtering/data/ng/6350e46219ca-swapped.ann', '/Users/linndfors/study/diploma/ner_for_fem/data/v2.0-swapped_filtering/data/ng/4ac82fdf4d4d-swapped.ann', '/Users/linndfors/study/diploma/ner_for_fem/data/v2.0-swapped_filtering/data/ng/e19e41e16752-swapped.ann', '/Users/linndfors/study/diploma/ner_for_fem/data/v2.0-swapped_filtering/data/ng/c650874a1e16-swapped.ann', '/Users/linndfors/study/diploma/ner_for_fem/data/v2.0-swapped_filtering/data/ng/29ee46b3128e-swapped.ann', '/Users/linndfors/study/diploma/ner_for_fem/data/v2.0-swapped_filtering/data/ng/b2541ea8cb83-swapped.ann', '/Users/linndfors/study/diploma/ner_for_fem/data/v2.0-swapped_filtering/data/ng/b991b2d46f85-swapped.ann', '/Users/linndfors/study/diploma/ner_for_fem/data/v2.0-swapped_filtering/data/ng/97c7987b8f9c-swapped.ann', '/Users/linndfors/study/diploma/ner_for_fem/data/v2.0-swapped_filtering/data/ng/bed0c1b62024-swapped.ann', '/Users/linndfors/study/diploma/ner_for_fem/data/v2.0-swapped_filtering/data/ng/f4119f5f8406-swapped.ann', '/Users/linndfors/study/diploma/ner_for_fem/data/v2.0-swapped_filtering/data/ng/a9d2c035032d-swapped.ann', '/Users/linndfors/study/diploma/ner_for_fem/data/v2.0-swapped_filtering/data/ng/104263660695-swapped.ann', '/Users/linndfors/study/diploma/ner_for_fem/data/v2.0-swapped_filtering/data/ng/fd7413336034-swapped.ann', '/Users/linndfors/study/diploma/ner_for_fem/data/v2.0-swapped_filtering/data/ng/1adfefe0e695-swapped.ann', '/Users/linndfors/study/diploma/ner_for_fem/data/v2.0-swapped_filtering/data/ng/7d19fba564ad-swapped.ann', '/Users/linndfors/study/diploma/ner_for_fem/data/v2.0-swapped_filtering/data/ng/f82ca27cb935-swapped.ann', '/Users/linndfors/study/diploma/ner_for_fem/data/v2.0-swapped_filtering/data/ng/82e415f0dd48-swapped.ann', '/Users/linndfors/study/diploma/ner_for_fem/data/v2.0-swapped_filtering/data/ng/02bebf42e010-swapped.ann', '/Users/linndfors/study/diploma/ner_for_fem/data/v2.0-swapped_filtering/data/ng/e37120a0aa66-swapped.ann', '/Users/linndfors/study/diploma/ner_for_fem/data/v2.0-swapped_filtering/data/ng/9a51afb8d050-swapped.ann', '/Users/linndfors/study/diploma/ner_for_fem/data/v2.0-swapped_filtering/data/ng/5f0dd24186aa-swapped.ann', '/Users/linndfors/study/diploma/ner_for_fem/data/v2.0-swapped_filtering/data/ng/7f9631dbc39d-swapped.ann', '/Users/linndfors/study/diploma/ner_for_fem/data/v2.0-swapped_filtering/data/ng/372677bde8c8-swapped.ann', '/Users/linndfors/study/diploma/ner_for_fem/data/v2.0-swapped_filtering/data/ng/c5930ba45ebe-swapped.ann', '/Users/linndfors/study/diploma/ner_for_fem/data/v2.0-swapped_filtering/data/ng/605d2142ccad-swapped.ann', '/Users/linndfors/study/diploma/ner_for_fem/data/v2.0-swapped_filtering/data/ng/46b3a16d4154-swapped.ann', '/Users/linndfors/study/diploma/ner_for_fem/data/v2.0-swapped_filtering/data/ng/1044724b1e84-swapped.ann', '/Users/linndfors/study/diploma/ner_for_fem/data/v2.0-swapped_filtering/data/ng/d7e523681acc-swapped.ann', '/Users/linndfors/study/diploma/ner_for_fem/data/v2.0-swapped_filtering/data/ng/bd76ed4df58f-swapped.ann', '/Users/linndfors/study/diploma/ner_for_fem/data/v2.0-swapped_filtering/data/ng/41cf54503fc6-swapped.ann', '/Users/linndfors/study/diploma/ner_for_fem/data/v2.0-swapped_filtering/data/ng/521b5669bca6-swapped.ann', '/Users/linndfors/study/diploma/ner_for_fem/data/v2.0-swapped_filtering/data/ng/aeabc0bd5724-swapped.ann', '/Users/linndfors/study/diploma/ner_for_fem/data/v2.0-swapped_filtering/data/ng/b72e7e33e081-swapped.ann', '/Users/linndfors/study/diploma/ner_for_fem/data/v2.0-swapped_filtering/data/ng/ce52c670e720-swapped.ann', '/Users/linndfors/study/diploma/ner_for_fem/data/v2.0-swapped_filtering/data/ng/16fb31bf76b8-swapped.ann', '/Users/linndfors/study/diploma/ner_for_fem/data/v2.0-swapped_filtering/data/ng/9690987f7b71-swapped.ann', '/Users/linndfors/study/diploma/ner_for_fem/data/v2.0-swapped_filtering/data/ng/3fdf22393022-swapped.ann', '/Users/linndfors/study/diploma/ner_for_fem/data/v2.0-swapped_filtering/data/ng/c1ddc42c47fb-swapped.ann', '/Users/linndfors/study/diploma/ner_for_fem/data/v2.0-swapped_filtering/data/ng/78153c6d7c59-swapped.ann', '/Users/linndfors/study/diploma/ner_for_fem/data/v2.0-swapped_filtering/data/ng/4e486c879cf1-swapped.ann', '/Users/linndfors/study/diploma/ner_for_fem/data/v2.0-swapped_filtering/data/ng/39c1d99f468f-swapped.ann', '/Users/linndfors/study/diploma/ner_for_fem/data/v2.0-swapped_filtering/data/ng/06d7009e4925-swapped.ann', '/Users/linndfors/study/diploma/ner_for_fem/data/v2.0-swapped_filtering/data/ng/19ebc4aa5eb5-swapped.ann', '/Users/linndfors/study/diploma/ner_for_fem/data/v2.0-swapped_filtering/data/ng/037bb6843538-swapped.ann', '/Users/linndfors/study/diploma/ner_for_fem/data/v2.0-swapped_filtering/data/ng/6f6281133248-swapped.ann', '/Users/linndfors/study/diploma/ner_for_fem/data/v2.0-swapped_filtering/data/ng/ca414599779c-swapped.ann', '/Users/linndfors/study/diploma/ner_for_fem/data/v2.0-swapped_filtering/data/ng/cdc9c08df7ac-swapped.ann', '/Users/linndfors/study/diploma/ner_for_fem/data/v2.0-swapped_filtering/data/ng/07c51f631d18-swapped.ann', '/Users/linndfors/study/diploma/ner_for_fem/data/v2.0-swapped_filtering/data/ng/7e6a2bdcfd1c-swapped.ann', '/Users/linndfors/study/diploma/ner_for_fem/data/v2.0-swapped_filtering/data/ng/d6ca19c4065e-swapped.ann', '/Users/linndfors/study/diploma/ner_for_fem/data/v2.0-swapped_filtering/data/ng/4671f9337340-swapped.ann', '/Users/linndfors/study/diploma/ner_for_fem/data/v2.0-swapped_filtering/data/ng/6ada9307320e-swapped.ann', '/Users/linndfors/study/diploma/ner_for_fem/data/v2.0-swapped_filtering/data/ng/9893f2c9cae9-swapped.ann', '/Users/linndfors/study/diploma/ner_for_fem/data/v2.0-swapped_filtering/data/ng/33b6963bc554-swapped.ann', '/Users/linndfors/study/diploma/ner_for_fem/data/v2.0-swapped_filtering/data/ng/535022e2bdd2-swapped.ann', '/Users/linndfors/study/diploma/ner_for_fem/data/v2.0-swapped_filtering/data/ng/d15b83fd32bd-swapped.ann', '/Users/linndfors/study/diploma/ner_for_fem/data/v2.0-swapped_filtering/data/ng/fa2b54229991-swapped.ann', '/Users/linndfors/study/diploma/ner_for_fem/data/v2.0-swapped_filtering/data/ng/3b570ac3116b-swapped.ann', '/Users/linndfors/study/diploma/ner_for_fem/data/v2.0-swapped_filtering/data/ng/8098d69d861f-swapped.ann', '/Users/linndfors/study/diploma/ner_for_fem/data/v2.0-swapped_filtering/data/ng/236f916f3d6f-swapped.ann', '/Users/linndfors/study/diploma/ner_for_fem/data/v2.0-swapped_filtering/data/ng/7cf7a5aacb51-swapped.ann', '/Users/linndfors/study/diploma/ner_for_fem/data/v2.0-swapped_filtering/data/ng/30856acf29fc-swapped.ann', '/Users/linndfors/study/diploma/ner_for_fem/data/v2.0-swapped_filtering/data/ng/2850ba499aea-swapped.ann', '/Users/linndfors/study/diploma/ner_for_fem/data/v2.0-swapped_filtering/data/ng/163e835b7aef-swapped.ann', '/Users/linndfors/study/diploma/ner_for_fem/data/v2.0-swapped_filtering/data/ng/69dd300fd706-swapped.ann', '/Users/linndfors/study/diploma/ner_for_fem/data/v2.0-swapped_filtering/data/ng/47713afd9490-swapped.ann', '/Users/linndfors/study/diploma/ner_for_fem/data/v2.0-swapped_filtering/data/ng/348b96a54914-swapped.ann', '/Users/linndfors/study/diploma/ner_for_fem/data/v2.0-swapped_filtering/data/ng/605667093f7b-swapped.ann', '/Users/linndfors/study/diploma/ner_for_fem/data/v2.0-swapped_filtering/data/ng/ab66959f7440-swapped.ann', '/Users/linndfors/study/diploma/ner_for_fem/data/v2.0-swapped_filtering/data/ng/789ba2b89a05-swapped.ann', '/Users/linndfors/study/diploma/ner_for_fem/data/v2.0-swapped_filtering/data/ng/937ae8974dd6-swapped.ann', '/Users/linndfors/study/diploma/ner_for_fem/data/v2.0-swapped_filtering/data/ng/66f7109b4b72-swapped.ann', '/Users/linndfors/study/diploma/ner_for_fem/data/v2.0-swapped_filtering/data/ng/5111063957b7-swapped.ann', '/Users/linndfors/study/diploma/ner_for_fem/data/v2.0-swapped_filtering/data/ng/cbf21c99c504-swapped.ann', '/Users/linndfors/study/diploma/ner_for_fem/data/v2.0-swapped_filtering/data/ng/3eef4bd7fc75-swapped.ann', '/Users/linndfors/study/diploma/ner_for_fem/data/v2.0-swapped_filtering/data/ng/f5475c5dbfc9-swapped.ann', '/Users/linndfors/study/diploma/ner_for_fem/data/v2.0-swapped_filtering/data/ng/2c14409069b7-swapped.ann', '/Users/linndfors/study/diploma/ner_for_fem/data/v2.0-swapped_filtering/data/ng/01cfbeca9827-swapped.ann', '/Users/linndfors/study/diploma/ner_for_fem/data/v2.0-swapped_filtering/data/ng/996f3a16780e-swapped.ann', '/Users/linndfors/study/diploma/ner_for_fem/data/v2.0-swapped_filtering/data/ng/357039d66ab7-swapped.ann', '/Users/linndfors/study/diploma/ner_for_fem/data/v2.0-swapped_filtering/data/ng/1c3c6180ad96-swapped.ann', '/Users/linndfors/study/diploma/ner_for_fem/data/v2.0-swapped_filtering/data/ng/bf6104a5e8cc-swapped.ann', '/Users/linndfors/study/diploma/ner_for_fem/data/v2.0-swapped_filtering/data/ng/63711262f9fb-swapped.ann', '/Users/linndfors/study/diploma/ner_for_fem/data/v2.0-swapped_filtering/data/ng/c2a04d86bfb8-swapped.ann', '/Users/linndfors/study/diploma/ner_for_fem/data/v2.0-swapped_filtering/data/ng/b859478153e4-swapped.ann', '/Users/linndfors/study/diploma/ner_for_fem/data/v2.0-swapped_filtering/data/ng/26c531a355cc-swapped.ann', '/Users/linndfors/study/diploma/ner_for_fem/data/v2.0-swapped_filtering/data/ng/cffa0e3aa90f-swapped.ann', '/Users/linndfors/study/diploma/ner_for_fem/data/v2.0-swapped_filtering/data/ng/b4fe41ad2268-swapped.ann', '/Users/linndfors/study/diploma/ner_for_fem/data/v2.0-swapped_filtering/data/ng/7ff7b6cfbbc2-swapped.ann', '/Users/linndfors/study/diploma/ner_for_fem/data/v2.0-swapped_filtering/data/ng/c09661af0a89-swapped.ann', '/Users/linndfors/study/diploma/ner_for_fem/data/v2.0-swapped_filtering/data/ng/d1d4639dbadd-swapped.ann', '/Users/linndfors/study/diploma/ner_for_fem/data/v2.0-swapped_filtering/data/ng/7faf035614c1-swapped.ann', '/Users/linndfors/study/diploma/ner_for_fem/data/v2.0-swapped_filtering/data/ng/08c0799d889a-swapped.ann', '/Users/linndfors/study/diploma/ner_for_fem/data/v2.0-swapped_filtering/data/ng/eed5beaf4033-swapped.ann', '/Users/linndfors/study/diploma/ner_for_fem/data/v2.0-swapped_filtering/data/ng/a04af354c8db-swapped.ann', '/Users/linndfors/study/diploma/ner_for_fem/data/v2.0-swapped_filtering/data/ng/3dfca2b9b104-swapped.ann', '/Users/linndfors/study/diploma/ner_for_fem/data/v2.0-swapped_filtering/data/ng/e54ada2b9649-swapped.ann', '/Users/linndfors/study/diploma/ner_for_fem/data/v2.0-swapped_filtering/data/ng/5de8e21df21b-swapped.ann', '/Users/linndfors/study/diploma/ner_for_fem/data/v2.0-swapped_filtering/data/ng/b217b90e209d-swapped.ann', '/Users/linndfors/study/diploma/ner_for_fem/data/v2.0-swapped_filtering/data/ng/3e94fe6e9161-swapped.ann', '/Users/linndfors/study/diploma/ner_for_fem/data/v2.0-swapped_filtering/data/ng/0f94c5cc63c3-swapped.ann', '/Users/linndfors/study/diploma/ner_for_fem/data/v2.0-swapped_filtering/data/ng/bf3f1e807703-swapped.ann', '/Users/linndfors/study/diploma/ner_for_fem/data/v2.0-swapped_filtering/data/ng/cb8dd5ea2542-swapped.ann', '/Users/linndfors/study/diploma/ner_for_fem/data/v2.0-swapped_filtering/data/ng/ac7d3bf88e39-swapped.ann', '/Users/linndfors/study/diploma/ner_for_fem/data/v2.0-swapped_filtering/data/ng/7d59bb5fe9f5-swapped.ann', '/Users/linndfors/study/diploma/ner_for_fem/data/v2.0-swapped_filtering/data/ng/290f12765b32-swapped.ann', '/Users/linndfors/study/diploma/ner_for_fem/data/v2.0-swapped_filtering/data/ng/79ccf625bc94-swapped.ann', '/Users/linndfors/study/diploma/ner_for_fem/data/v2.0-swapped_filtering/data/ng/540d36b4fe1c-swapped.ann', '/Users/linndfors/study/diploma/ner_for_fem/data/v2.0-swapped_filtering/data/ng/25df43bd3fc5-swapped.ann', '/Users/linndfors/study/diploma/ner_for_fem/data/v2.0-swapped_filtering/data/ng/386f07b6aca3-swapped.ann', '/Users/linndfors/study/diploma/ner_for_fem/data/v2.0-swapped_filtering/data/ng/3aa7c6a81ddd-swapped.ann', '/Users/linndfors/study/diploma/ner_for_fem/data/v2.0-swapped_filtering/data/ng/4bdc94abaa1c-swapped.ann', '/Users/linndfors/study/diploma/ner_for_fem/data/v2.0-swapped_filtering/data/ng/883e1bd852d8-swapped.ann', '/Users/linndfors/study/diploma/ner_for_fem/data/v2.0-swapped_filtering/data/ng/5658ff392f11-swapped.ann', '/Users/linndfors/study/diploma/ner_for_fem/data/v2.0-swapped_filtering/data/ng/d509463360e2-swapped.ann', '/Users/linndfors/study/diploma/ner_for_fem/data/v2.0-swapped_filtering/data/ng/54a45ec4929b-swapped.ann', '/Users/linndfors/study/diploma/ner_for_fem/data/v2.0-swapped_filtering/data/ng/860e4c9353fc-swapped.ann', '/Users/linndfors/study/diploma/ner_for_fem/data/v2.0-swapped_filtering/data/ng/e32c3effa79e-swapped.ann', '/Users/linndfors/study/diploma/ner_for_fem/data/v2.0-swapped_filtering/data/ng/64d0d60bba23-swapped.ann', '/Users/linndfors/study/diploma/ner_for_fem/data/v2.0-swapped_filtering/data/ng/ab299615a1ce-swapped.ann', '/Users/linndfors/study/diploma/ner_for_fem/data/v2.0-swapped_filtering/data/ng/5d3d7e0d5bae-swapped.ann', '/Users/linndfors/study/diploma/ner_for_fem/data/v2.0-swapped_filtering/data/ng/aae1500a7f12-swapped.ann', '/Users/linndfors/study/diploma/ner_for_fem/data/v2.0-swapped_filtering/data/ng/5d7350e7d539-swapped.ann', '/Users/linndfors/study/diploma/ner_for_fem/data/v2.0-swapped_filtering/data/ng/2ff4fbe3fcc4-swapped.ann', '/Users/linndfors/study/diploma/ner_for_fem/data/v2.0-swapped_filtering/data/ng/3b285211209c-swapped.ann', '/Users/linndfors/study/diploma/ner_for_fem/data/v2.0-swapped_filtering/data/ng/452ba42e97ec-swapped.ann', '/Users/linndfors/study/diploma/ner_for_fem/data/v2.0-swapped_filtering/data/ng/cf79fc17c020-swapped.ann', '/Users/linndfors/study/diploma/ner_for_fem/data/v2.0-swapped_filtering/data/ng/d084adea3ae8-swapped.ann', '/Users/linndfors/study/diploma/ner_for_fem/data/v2.0-swapped_filtering/data/ng/b645c9653d72-swapped.ann', '/Users/linndfors/study/diploma/ner_for_fem/data/v2.0-swapped_filtering/data/ng/04b2cf6b449e-swapped.ann', '/Users/linndfors/study/diploma/ner_for_fem/data/v2.0-swapped_filtering/data/ng/bbc5330abbdc-swapped.ann', '/Users/linndfors/study/diploma/ner_for_fem/data/v2.0-swapped_filtering/data/ng/86c78648f86f-swapped.ann', '/Users/linndfors/study/diploma/ner_for_fem/data/v2.0-swapped_filtering/data/ng/16a112c13847-swapped.ann', '/Users/linndfors/study/diploma/ner_for_fem/data/v2.0-swapped_filtering/data/ng/94c633b4d39a-swapped.ann', '/Users/linndfors/study/diploma/ner_for_fem/data/v2.0-swapped_filtering/data/ng/3b4ea1813b99-swapped.ann', '/Users/linndfors/study/diploma/ner_for_fem/data/v2.0-swapped_filtering/data/ng/c97bff36f45a-swapped.ann', '/Users/linndfors/study/diploma/ner_for_fem/data/v2.0-swapped_filtering/data/ng/7d5bd98c3363-swapped.ann', '/Users/linndfors/study/diploma/ner_for_fem/data/v2.0-swapped_filtering/data/ng/61267204736d-swapped.ann', '/Users/linndfors/study/diploma/ner_for_fem/data/v2.0-swapped_filtering/data/ng/8e1267225acc-swapped.ann', '/Users/linndfors/study/diploma/ner_for_fem/data/v2.0-swapped_filtering/data/ng/59a9444d5c2d-swapped.ann', '/Users/linndfors/study/diploma/ner_for_fem/data/v2.0-swapped_filtering/data/ng/ff85f24f2204-swapped.ann', '/Users/linndfors/study/diploma/ner_for_fem/data/v2.0-swapped_filtering/data/ng/816a89664813-swapped.ann', '/Users/linndfors/study/diploma/ner_for_fem/data/v2.0-swapped_filtering/data/ng/87deabcc8f95-swapped.ann', '/Users/linndfors/study/diploma/ner_for_fem/data/v2.0-swapped_filtering/data/ng/2d2e9cf66e5b-swapped.ann', '/Users/linndfors/study/diploma/ner_for_fem/data/v2.0-swapped_filtering/data/ng/757fc6f23e18-swapped.ann', '/Users/linndfors/study/diploma/ner_for_fem/data/v2.0-swapped_filtering/data/ng/1b68c2c76541-swapped.ann', '/Users/linndfors/study/diploma/ner_for_fem/data/v2.0-swapped_filtering/data/ng/06826af4579d-swapped.ann', '/Users/linndfors/study/diploma/ner_for_fem/data/v2.0-swapped_filtering/data/ng/e96b3ae1908b-swapped.ann', '/Users/linndfors/study/diploma/ner_for_fem/data/v2.0-swapped_filtering/data/ng/f342f88df1c8-swapped.ann', '/Users/linndfors/study/diploma/ner_for_fem/data/v2.0-swapped_filtering/data/ng/7ab185008967-swapped.ann', '/Users/linndfors/study/diploma/ner_for_fem/data/v2.0-swapped_filtering/data/ng/369c3876ae3d-swapped.ann', '/Users/linndfors/study/diploma/ner_for_fem/data/v2.0-swapped_filtering/data/ng/02634352df22-swapped.ann', '/Users/linndfors/study/diploma/ner_for_fem/data/v2.0-swapped_filtering/data/ng/62127c82f7cd-swapped.ann', '/Users/linndfors/study/diploma/ner_for_fem/data/v2.0-swapped_filtering/data/ng/d080aa19c4bd-swapped.ann', '/Users/linndfors/study/diploma/ner_for_fem/data/v2.0-swapped_filtering/data/ng/a854e880d075-swapped.ann', '/Users/linndfors/study/diploma/ner_for_fem/data/v2.0-swapped_filtering/data/ng/c99d1ad0cc3c-swapped.ann', '/Users/linndfors/study/diploma/ner_for_fem/data/v2.0-swapped_filtering/data/ng/09e1dccb8839-swapped.ann', '/Users/linndfors/study/diploma/ner_for_fem/data/v2.0-swapped_filtering/data/ng/03d075bafb84-swapped.ann', '/Users/linndfors/study/diploma/ner_for_fem/data/v2.0-swapped_filtering/data/ng/cb7958ff386e-swapped.ann', '/Users/linndfors/study/diploma/ner_for_fem/data/v2.0-swapped_filtering/data/ng/30933a298472-swapped.ann', '/Users/linndfors/study/diploma/ner_for_fem/data/v2.0-swapped_filtering/data/ng/8c6db2873e45-swapped.ann', '/Users/linndfors/study/diploma/ner_for_fem/data/v2.0-swapped_filtering/data/ng/c07e05e53013-swapped.ann', '/Users/linndfors/study/diploma/ner_for_fem/data/v2.0-swapped_filtering/data/ng/8f5d434373e2-swapped.ann', '/Users/linndfors/study/diploma/ner_for_fem/data/v2.0-swapped_filtering/data/ng/d13ee85bbf5c-swapped.ann', '/Users/linndfors/study/diploma/ner_for_fem/data/v2.0-swapped_filtering/data/ng/003d28360166-swapped.ann', '/Users/linndfors/study/diploma/ner_for_fem/data/v2.0-swapped_filtering/data/ng/8b3ec884f52d-swapped.ann', '/Users/linndfors/study/diploma/ner_for_fem/data/v2.0-swapped_filtering/data/ng/5ae61df96054-swapped.ann', '/Users/linndfors/study/diploma/ner_for_fem/data/v2.0-swapped_filtering/data/ng/64bbab373f73-swapped.ann', '/Users/linndfors/study/diploma/ner_for_fem/data/v2.0-swapped_filtering/data/ng/315a7f9491ac-swapped.ann', '/Users/linndfors/study/diploma/ner_for_fem/data/v2.0-swapped_filtering/data/ng/75e21fe4f3b7-swapped.ann', '/Users/linndfors/study/diploma/ner_for_fem/data/v2.0-swapped_filtering/data/ng/a767be7c3792-swapped.ann']\n"
     ]
    },
    {
     "name": "stderr",
     "output_type": "stream",
     "text": [
      "100%|██████████| 269/269 [06:00<00:00,  1.34s/it]\n"
     ]
    }
   ],
   "source": [
    "ng_job_dict = extract_job_entities(\"/Users/linndfors/study/diploma/ner_for_fem/data/v2.0-swapped_filtering/data/ng\")\n",
    "ng_job_file_gender_dict, ng_job_total_counter, ng_job_list = return_gendered_PERS_dict(ng_job_dict)"
   ]
  },
  {
   "cell_type": "code",
   "execution_count": 76,
   "metadata": {},
   "outputs": [
    {
     "name": "stdout",
     "output_type": "stream",
     "text": [
      "total size: 1248\n",
      "================\n",
      "gender: male\n",
      "number of files for the gender: 71\n",
      "number of entities for the gender: 114\n",
      "percentage: 0.09134615384615384\n",
      "The most popular entity: засновник\n",
      "================\n",
      "================\n",
      "gender: female\n",
      "number of files for the gender: 257\n",
      "number of entities for the gender: 972\n",
      "percentage: 0.7788461538461539\n",
      "The most popular entity: директорка\n",
      "================\n",
      "================\n",
      "gender: common\n",
      "number of files for the gender: 78\n",
      "number of entities for the gender: 135\n",
      "percentage: 0.10817307692307693\n",
      "The most popular entity: голова\n",
      "================\n",
      "================\n",
      "gender: unknown_gender\n",
      "number of files for the gender: 26\n",
      "number of entities for the gender: 27\n",
      "percentage: 0.021634615384615384\n",
      "The most popular entity: в\n",
      "================\n"
     ]
    }
   ],
   "source": [
    "return_gender_stat(ng_job_total_counter, ng_job_file_gender_dict)"
   ]
  },
  {
   "cell_type": "code",
   "execution_count": 79,
   "metadata": {},
   "outputs": [
    {
     "name": "stdout",
     "output_type": "stream",
     "text": [
      "total: 1733\n",
      "male: 182\n",
      "female: 1316\n",
      "common: 170\n",
      "unknown: 65\n"
     ]
    }
   ],
   "source": [
    "print(\"total:\", 483 + 1250)\n",
    "print(\"male:\", 67 + 115)\n",
    "print(\"female:\", 345 + 971)\n",
    "print(\"common:\", 35 + 135)\n",
    "print(\"unknown:\", 38 + 27)"
   ]
  },
  {
   "cell_type": "markdown",
   "metadata": {},
   "source": [
    "----------"
   ]
  },
  {
   "cell_type": "markdown",
   "metadata": {},
   "source": []
  },
  {
   "cell_type": "markdown",
   "metadata": {},
   "source": []
  },
  {
   "cell_type": "code",
   "execution_count": 25,
   "metadata": {},
   "outputs": [],
   "source": [
    "all_sentences = pd.read_csv(\"all_parallel_sentence_both_datasets_with_filenames_and_labels.csv\")"
   ]
  },
  {
   "cell_type": "code",
   "execution_count": 36,
   "metadata": {},
   "outputs": [
    {
     "name": "stderr",
     "output_type": "stream",
     "text": [
      "1403it [07:46,  3.01it/s]\n"
     ]
    }
   ],
   "source": [
    "orig_all_file_gender_dict, orig_all_total_job_counter, orig_all_job_list = return_gendered_dict(all_sentences, \"orig_ann\")"
   ]
  },
  {
   "cell_type": "code",
   "execution_count": 39,
   "metadata": {},
   "outputs": [
    {
     "name": "stdout",
     "output_type": "stream",
     "text": [
      "total size: 1836\n",
      "================\n",
      "gender: male\n",
      "number of files for the gender: 385\n",
      "number of entities for the gender: 1559\n",
      "percentage: 0.849128540305011\n",
      "The most popular entity: директор\n",
      "================\n",
      "================\n",
      "gender: female\n",
      "number of files for the gender: 34\n",
      "number of entities for the gender: 61\n",
      "percentage: 0.0332244008714597\n",
      "The most popular entity: підприємиця\n",
      "================\n",
      "================\n",
      "gender: common\n",
      "number of files for the gender: 103\n",
      "number of entities for the gender: 174\n",
      "percentage: 0.09477124183006536\n",
      "The most popular entity: голова\n",
      "================\n",
      "================\n",
      "gender: unknown_gender\n",
      "number of files for the gender: 25\n",
      "number of entities for the gender: 42\n",
      "percentage: 0.02287581699346405\n",
      "The most popular entity: наука\n",
      "================\n"
     ]
    }
   ],
   "source": [
    "return_gender_stat(orig_all_total_job_counter, orig_all_file_gender_dict)"
   ]
  },
  {
   "cell_type": "code",
   "execution_count": 40,
   "metadata": {},
   "outputs": [
    {
     "name": "stderr",
     "output_type": "stream",
     "text": [
      "1403it [08:08,  2.87it/s]"
     ]
    },
    {
     "name": "stdout",
     "output_type": "stream",
     "text": [
      "total size: 1836\n",
      "================\n",
      "gender: male\n",
      "number of files for the gender: 112\n",
      "number of entities for the gender: 183\n",
      "percentage: 0.09967320261437909\n",
      "The most popular entity: засновник\n",
      "================\n",
      "================\n",
      "gender: female\n",
      "number of files for the gender: 369\n",
      "number of entities for the gender: 1405\n",
      "percentage: 0.7652505446623094\n",
      "The most popular entity: директорка\n",
      "================\n",
      "================\n",
      "gender: common\n",
      "number of files for the gender: 102\n",
      "number of entities for the gender: 173\n",
      "percentage: 0.09422657952069717\n",
      "The most popular entity: голова\n",
      "================\n",
      "================\n",
      "gender: unknown_gender\n",
      "number of files for the gender: 53\n",
      "number of entities for the gender: 75\n",
      "percentage: 0.04084967320261438\n",
      "The most popular entity: наука\n",
      "================\n"
     ]
    },
    {
     "name": "stderr",
     "output_type": "stream",
     "text": [
      "\n"
     ]
    }
   ],
   "source": [
    "changed_all_file_gender_dict, changed_all_total_job_counter, changed_all_job_list = return_gendered_dict(all_sentences, \"changed_ann\", 1)\n",
    "return_gender_stat(changed_all_total_job_counter, changed_all_file_gender_dict)"
   ]
  },
  {
   "cell_type": "markdown",
   "metadata": {},
   "source": [
    "# For PERS entities"
   ]
  },
  {
   "cell_type": "code",
   "execution_count": 45,
   "metadata": {},
   "outputs": [],
   "source": [
    "female_names = pd.read_csv(\"/Users/linndfors/study/diploma/ner_for_fem/src/female_fname_freq_dict.csv\")\n",
    "male_names = pd.read_csv(\"/Users/linndfors/study/diploma/ner_for_fem/src/male_fname_freq_dict.csv\")"
   ]
  },
  {
   "cell_type": "code",
   "execution_count": 46,
   "metadata": {},
   "outputs": [],
   "source": [
    "female_names_list = female_names['name'].values\n",
    "male_names_list = male_names['name'].values"
   ]
  },
  {
   "cell_type": "code",
   "execution_count": 47,
   "metadata": {},
   "outputs": [],
   "source": [
    "dict_df = pd.read_csv('/Users/linndfors/study/diploma/dict_uk/out/dict_corp_lt.txt', delimiter=' ', header=None, names=['word', 'lemma', 'grammar'])"
   ]
  },
  {
   "cell_type": "code",
   "execution_count": 48,
   "metadata": {},
   "outputs": [],
   "source": [
    "def define_sex(name):\n",
    "    try:\n",
    "        filtered_df = dict_df[(dict_df['lemma'] == name) & (dict_df['word'] == name)]\n",
    "        if not filtered_df.empty:\n",
    "            grammar_pers = filtered_df['grammar'].iloc[0]\n",
    "\n",
    "            if re.search(r'fname', grammar_pers):\n",
    "                if re.search(r'\\bf\\b', grammar_pers):\n",
    "                    return \"F\"\n",
    "                elif re.search(r'\\bm\\b', grammar_pers):\n",
    "                    return \"M\"\n",
    "                else:\n",
    "                    return \"U\"\n",
    "            elif re.search(r'lname', grammar_pers):\n",
    "                return \"U\"\n",
    "            else:\n",
    "                return \"U\"\n",
    "        else:\n",
    "            # print(\"No matches found for:\", name)\n",
    "            return \"U\"\n",
    "    except Exception as e:\n",
    "        # print(\"error\", e)\n",
    "        return \"U\""
   ]
  },
  {
   "cell_type": "code",
   "execution_count": null,
   "metadata": {},
   "outputs": [],
   "source": [
    "import os\n",
    "import glob\n",
    "\n",
    "def extract_gender(entity):\n",
    "\n",
    "    pers_parts = entity.split(\" \")\n",
    "    for i in pers_parts:\n",
    "        if define_sex(i) == \"F\":\n",
    "            return \"female\", i\n",
    "        elif define_sex(i) == \"M\":\n",
    "            return \"male\", i\n",
    "                \n",
    "    doc = nlp(entity)\n",
    "    \n",
    "    words = {word.lemma for sentence in doc.sentences for word in sentence.words}\n",
    "    words.update(entity.split(\" \"))\n",
    "\n",
    "    for x in words:\n",
    "        if x in female_names_list:\n",
    "            return \"female\", x\n",
    "        if x in male_names_list:\n",
    "            return \"male\", x\n",
    "        \n",
    "    # print(\"unkown for:\", entity)\n",
    "    return \"unknown_gender\", entity"
   ]
  },
  {
   "cell_type": "code",
   "execution_count": 62,
   "metadata": {},
   "outputs": [],
   "source": [
    "def extract_pers_entities(directory):\n",
    "    pers_entities = {}\n",
    "    \n",
    "    ann_files = glob.glob(os.path.join(directory, \"*.ann\"))\n",
    "    print(ann_files)\n",
    "    \n",
    "    for ann_file in ann_files:\n",
    "        with open(ann_file, \"r\", encoding=\"utf-8\") as f:\n",
    "            for line in f:\n",
    "                parts = line.strip().split(\"\\t\")\n",
    "                if len(parts) == 5:\n",
    "                    \n",
    "                    entity_type = parts[1]\n",
    "                    \n",
    "                    if entity_type == \"PERS\":\n",
    "                        entity_text = parts[4]\n",
    "                        if ann_file in pers_entities:\n",
    "                            pers_entities[ann_file].append(entity_text)\n",
    "                        else:\n",
    "                            pers_entities[ann_file] = [entity_text]\n",
    "    \n",
    "    return pers_entities\n",
    "\n",
    "def return_gendered_PERS_dict(pers_dict):\n",
    "    file_gender_dict = {\"male\": {}, \"female\": {}, \"unknown_gender\": {}}\n",
    "\n",
    "    total_pers_counter = 0\n",
    "    pers_list = []\n",
    "\n",
    "    for filename, values in tqdm.tqdm(pers_dict.items()):\n",
    "        filename = filename.replace(\".ann\", \".txt\")\n",
    "        \n",
    "        try:\n",
    "            for ent in values:\n",
    "                total_pers_counter += 1\n",
    "                pers_list.append(ent)\n",
    "                if len(ent.split(' ')) > 1:\n",
    "                    ent = ent.split(' ')[0]\n",
    "                gender_value, lemma_word = extract_gender(ent)\n",
    "                # print(gender_value, lemma_word)\n",
    "                \n",
    "                if filename not in file_gender_dict[gender_value]:\n",
    "                    file_gender_dict[gender_value][filename] = [(ent, lemma_word)]\n",
    "                else:\n",
    "                    file_gender_dict[gender_value][filename].append((ent, lemma_word))\n",
    "                    \n",
    "        except Exception as e:\n",
    "            print(f\"Issue with row: {row} - Error: {e}\")\n",
    "    return file_gender_dict, total_pers_counter, pers_list"
   ]
  },
  {
   "cell_type": "code",
   "execution_count": 51,
   "metadata": {},
   "outputs": [],
   "source": [
    "with open('ng_pers_orig_only_jobs_sents.txt', 'r', encoding='utf-8') as f:\n",
    "    loaded_list_ng = [line.strip() for line in f]\n",
    "\n",
    "with open('bruk_pers_orig_only_jobs_sents.txt', 'r', encoding='utf-8') as f:\n",
    "    loaded_list_bruk = [line.strip() for line in f]"
   ]
  },
  {
   "cell_type": "code",
   "execution_count": 14,
   "metadata": {},
   "outputs": [
    {
     "data": {
      "text/plain": [
       "{'male': 556, 'female': 197, 'unknown_gender': 432}"
      ]
     },
     "execution_count": 14,
     "metadata": {},
     "output_type": "execute_result"
    }
   ],
   "source": [
    "file_gender_dict"
   ]
  },
  {
   "cell_type": "code",
   "execution_count": 16,
   "metadata": {},
   "outputs": [
    {
     "data": {
      "text/plain": [
       "1185"
      ]
     },
     "execution_count": 16,
     "metadata": {},
     "output_type": "execute_result"
    }
   ],
   "source": [
    "556 -30 + 197 -17 + 432 - 80"
   ]
  },
  {
   "cell_type": "code",
   "execution_count": 19,
   "metadata": {},
   "outputs": [
    {
     "data": {
      "text/plain": [
       "{'male': 146, 'female': 54, 'unknown_gender': 169}"
      ]
     },
     "execution_count": 19,
     "metadata": {},
     "output_type": "execute_result"
    }
   ],
   "source": [
    "file_gender_dict_bruk"
   ]
  },
  {
   "cell_type": "code",
   "execution_count": 20,
   "metadata": {},
   "outputs": [
    {
     "data": {
      "text/plain": [
       "369"
      ]
     },
     "execution_count": 20,
     "metadata": {},
     "output_type": "execute_result"
    }
   ],
   "source": [
    "146 -5 + 54-3 + 169 - 35"
   ]
  },
  {
   "cell_type": "code",
   "execution_count": null,
   "metadata": {},
   "outputs": [],
   "source": [
    "1058 - ng\n",
    "326 - bruk\n",
    "1384 - total"
   ]
  },
  {
   "cell_type": "code",
   "execution_count": 18,
   "metadata": {},
   "outputs": [
    {
     "name": "stderr",
     "output_type": "stream",
     "text": [
      "100%|██████████| 369/369 [14:57<00:00,  2.43s/it]\n"
     ]
    }
   ],
   "source": [
    "file_gender_dict_bruk = {\"male\": 0, \"female\": 0, \"unknown_gender\": 0}\n",
    "\n",
    "for ent in tqdm.tqdm(loaded_list_bruk):\n",
    "    \n",
    "    if len(ent.split(' ')) > 1:\n",
    "        ent = ent.split(' ')[0]\n",
    "    gender_value, lemma_word = extract_gender(ent)\n",
    "    # print(ent, gender_value)\n",
    "    file_gender_dict_bruk[gender_value] += 1\n",
    "    # print(file_gender_dict)"
   ]
  },
  {
   "cell_type": "code",
   "execution_count": null,
   "metadata": {},
   "outputs": [],
   "source": [
    "file_gender_dict = {\"male\": 0, \"female\": 0, \"unknown_gender\": 0}\n",
    "\n",
    "for ent in tqdm.tqdm(loaded_list_ng):\n",
    "    \n",
    "    if len(ent.split(' ')) > 1:\n",
    "        ent = ent.split(' ')[0]\n",
    "    gender_value, lemma_word = extract_gender(ent)\n",
    "    # print(ent, gender_value)\n",
    "    file_gender_dict[gender_value] += 1\n",
    "    # print(file_gender_dict)"
   ]
  },
  {
   "cell_type": "code",
   "execution_count": null,
   "metadata": {},
   "outputs": [],
   "source": [
    "changed_bruk_pers_dict = extract_pers_entities(\"/Users/linndfors/study/diploma/ner_for_fem/data/DATA_FOR_BALANCED_NER/bruk_changed\")\n",
    "changed_bruk_file_gender_pers_dict, changed_bruk_total_pers_counter, changed_bruk_pers_list = return_gendered_PERS_dict(changed_bruk_pers_dict)"
   ]
  },
  {
   "cell_type": "code",
   "execution_count": 288,
   "metadata": {},
   "outputs": [
    {
     "name": "stdout",
     "output_type": "stream",
     "text": [
      "total size: 326\n",
      "================\n",
      "gender: male\n",
      "number of files for the gender: 32\n",
      "number of entities for the gender: 52\n",
      "The most popular entity: Сергій\n",
      "================\n",
      "================\n",
      "gender: female\n",
      "number of files for the gender: 67\n",
      "number of entities for the gender: 132\n",
      "The most popular entity: Олександра\n",
      "================\n",
      "================\n",
      "gender: unknown_gender\n",
      "number of files for the gender: 48\n",
      "number of entities for the gender: 142\n",
      "The most popular entity: А\n",
      "================\n"
     ]
    }
   ],
   "source": [
    "return_gender_stat(changed_bruk_total_pers_counter, changed_bruk_file_gender_pers_dict)\n",
    "changed_bruk_pers_female_files, changed_bruk_pers_male_files, changed_bruk_pers_common_files = split_files(changed_bruk_file_gender_pers_dict, \"/Users/linndfors/study/diploma/ner_for_fem/data/DATA_FOR_BALANCED_NER/bruk_changed\")"
   ]
  },
  {
   "cell_type": "code",
   "execution_count": null,
   "metadata": {},
   "outputs": [],
   "source": [
    "# changed_bruk_female_files, changed_bruk_male_files, changed_bruk_common_files = split_files(changed_bruk_file_gender_dict, \"/Users/linndfors/study/diploma/ner_for_fem/data/DATA_FOR_BALANCED_NER/bruk_changed\")"
   ]
  },
  {
   "cell_type": "code",
   "execution_count": 244,
   "metadata": {},
   "outputs": [
    {
     "name": "stderr",
     "output_type": "stream",
     "text": [
      "100%|██████████| 253/253 [39:13<00:00,  9.30s/it]   \n"
     ]
    }
   ],
   "source": [
    "changed_ng_pers_dict = extract_pers_entities(\"/Users/linndfors/study/diploma/ner_for_fem/data/DATA_FOR_BALANCED_NER/ng_changed\")\n",
    "changed_ng_file_gender_pers_dict, changed_ng_total_pers_counter, changed_ng_pers_list = return_gendered_PERS_dict(changed_ng_pers_dict)"
   ]
  },
  {
   "cell_type": "code",
   "execution_count": 286,
   "metadata": {},
   "outputs": [
    {
     "name": "stdout",
     "output_type": "stream",
     "text": [
      "total size: 1058\n",
      "================\n",
      "gender: male\n",
      "number of files for the gender: 106\n",
      "number of entities for the gender: 170\n",
      "The most popular entity: Валентин\n",
      "================\n",
      "================\n",
      "gender: female\n",
      "number of files for the gender: 225\n",
      "number of entities for the gender: 602\n",
      "The most popular entity: Олена\n",
      "================\n",
      "================\n",
      "gender: unknown_gender\n",
      "number of files for the gender: 145\n",
      "number of entities for the gender: 286\n",
      "The most popular entity: Світлани\n",
      "================\n"
     ]
    }
   ],
   "source": [
    "return_gender_stat(changed_ng_total_pers_counter, changed_ng_file_gender_pers_dict)\n",
    "changed_ng_pers_female_files, changed_ng_pers_male_files, changed_ng_pers_common_files = split_files(changed_ng_file_gender_pers_dict, \"/Users/linndfors/study/diploma/ner_for_fem/data/DATA_FOR_BALANCED_NER/ng_changed\")"
   ]
  },
  {
   "cell_type": "code",
   "execution_count": 276,
   "metadata": {},
   "outputs": [],
   "source": [
    "all_names = []\n",
    "\n",
    "for filaname, ents in changed_ng_file_gender_pers_dict['unknown_gender'].items():\n",
    "    for ent in ents:\n",
    "        all_names.append(ent[0])"
   ]
  },
  {
   "cell_type": "code",
   "execution_count": null,
   "metadata": {},
   "outputs": [
    {
     "name": "stdout",
     "output_type": "stream",
     "text": [
      "Counter({'Світлани': 7, 'Юлії': 7, 'Людмили': 5, 'Любові': 5, 'Павленко': 4, 'Олені': 4, 'Козименко': 4, 'Кузнєцова': 3, 'Непийвода': 3, 'Машненкова': 3, 'Лілії': 3, 'Ірині': 3, 'Кобринчук': 3, 'Янукович': 3, 'Андреїшин': 3, 'Кушнір': 3, 'Сміяненко': 3, 'Тарпан': 2, 'Філіпчук': 2, 'Ніколєнко': 2, 'Тютюнник': 2, 'Ганну': 2, 'Ріната': 2, 'Ярич': 2, 'Пелих': 2, 'Ніні': 2, 'Осипенко': 2, 'Кокседж': 2, 'Машненкову': 2, 'Наталію': 2, 'Борзих': 2, 'Корнієць': 2, 'Чепурненко': 2, 'Владислави': 2, 'Фірташа': 2, 'Ігоря': 2, 'Василенко': 2, 'Смик': 2, 'Любач': 2, 'Біловол': 2, 'Юлію': 2, 'Ковач': 2, 'Підвисоцька': 2, 'Шишацька': 2, 'Голяшкіної': 2, 'Григорія': 2, 'Тертиця': 2, 'Колуги': 2, 'Чернікова': 2, 'Васильєвою': 1, 'Кисельовою': 1, 'Котельникову': 1, 'Довгополова': 1, 'Ватерина': 1, 'Демішкан': 1, 'Сагайдак': 1, 'Остапенко': 1, 'Анісімових': 1, 'Котляров': 1, 'Анісімова': 1, 'Ахметова': 1, 'Анжеліці': 1, 'Кусок': 1, 'Медведчук': 1, 'Овчаренко': 1, 'Аблова': 1, 'Червачова': 1, 'Качаненку': 1, 'Качаненків': 1, 'Качаненко': 1, 'ICU': 1, 'Януковичі': 1, 'Хомутиннік': 1, 'Лобко': 1, 'Путілова': 1, 'Косенко': 1, 'Винник': 1, 'О.': 1, 'В.': 1, 'Пукшина': 1, 'Хмельницького': 1, 'Ірину': 1, 'Масенко': 1, 'Яцишина': 1, 'Павленка': 1, 'Єфімова': 1, 'акціонерів': 1, 'Тимошенко': 1, 'Пилипенко': 1, 'Дапринда': 1, 'Антоніні': 1, 'Гавриленко': 1, 'Чорнухою': 1, 'Мельник': 1, 'Ковалко': 1, 'Семені': 1, 'Гущин': 1, 'Діденко': 1, 'Безкоровайна': 1, 'Закамський': 1, 'Стрижова': 1, 'Корнійця': 1, 'Тетяну': 1, 'Фелліпса': 1, 'Олі': 1, 'Поліні': 1, 'Шевцова': 1, 'Бережанський': 1, 'Бережанського': 1, 'Буга': 1, 'Жванії': 1, 'Мартиненка': 1, 'Скарбовійчук': 1, 'Клюєвої': 1, 'Януковичої': 1, 'Ставицької': 1, 'Золотарьов': 1, 'Лимана': 1, 'Журавко': 1, 'Потінга': 1, 'Сергію': 1, 'Буряків': 1, 'Пелипас': 1, 'Пелипасу': 1, 'Інні': 1, 'Тетяні': 1, 'Фомин': 1, 'Колеснікови': 1, 'Кличко': 1, 'Плачкова': 1, 'Подолець': 1, 'Труфанова': 1, 'Георгії': 1, 'Лазаренка': 1, 'Едуарда': 1, 'Макарова': 1, 'Вакаревою': 1, 'Артему': 1, 'Гавриловської': 1, 'Зінова': 1, 'Антолія': 1, 'Чорбаджи': 1, 'Ключка': 1, 'Скіпором': 1, 'Олексадра': 1, 'Одаричка': 1, 'Іванов': 1, 'Біловола': 1, 'Водолазька': 1, 'Попов': 1, 'Януковичем': 1, 'нтки': 1, 'Злочевська': 1, 'Ткачук': 1, 'Севостьянов': 1, 'Загребельський': 1, 'Ахметовій': 1, 'Тамару': 1, 'Запорожець': 1, 'Іванющенка': 1, 'Сухович': 1, 'Шелельо': 1, 'Михайловська': 1, 'Баник': 1, 'Козименка': 1, 'Смєшко': 1, 'Олексія': 1, 'Дихне-молодший': 1, 'Богданна': 1, 'Непопа': 1, 'Непопом': 1, 'Машненкової': 1, 'Станіслави': 1, 'Януковича': 1, 'Irina': 1, 'Anna': 1, 'Войцеховського': 1, 'Тарутою': 1, 'Юліанни': 1, 'Пецух': 1, 'Пецухи': 1, 'Неговелової': 1, 'Беззубенко': 1, 'Світлані': 1, 'Науменка': 1, 'Ворошилова': 1, 'Ісік': 1, 'Голяшкін': 1, 'Голяшкіна': 1, 'Світлану': 1, 'Харченко': 1, 'Олійниця': 1, 'Стерпул': 1, 'Катвалюк': 1, 'Ігнатова': 1, 'Яковинець': 1, 'Жореса': 1, 'Масалітіна': 1, 'Рева': 1, 'Веліжанською': 1, 'Анетти': 1, 'Чернівецька': 1, 'Супруренко': 1, 'Черновецького': 1, 'Віри': 1})\n"
     ]
    }
   ],
   "source": [
    "name_counts = Counter(all_names)\n",
    "print(name_counts)"
   ]
  },
  {
   "cell_type": "code",
   "execution_count": 261,
   "metadata": {},
   "outputs": [
    {
     "name": "stdout",
     "output_type": "stream",
     "text": [
      "['/Users/linndfors/study/diploma/ner_for_fem/data/DATA_FOR_BALANCED_NER/bruk/68f6d1cfc486.ann', '/Users/linndfors/study/diploma/ner_for_fem/data/DATA_FOR_BALANCED_NER/bruk/dc25535e13d7.ann', '/Users/linndfors/study/diploma/ner_for_fem/data/DATA_FOR_BALANCED_NER/bruk/fad2422a7bf3.ann', '/Users/linndfors/study/diploma/ner_for_fem/data/DATA_FOR_BALANCED_NER/bruk/7e1defe0dda2.ann', '/Users/linndfors/study/diploma/ner_for_fem/data/DATA_FOR_BALANCED_NER/bruk/87ae82667e2a.ann', '/Users/linndfors/study/diploma/ner_for_fem/data/DATA_FOR_BALANCED_NER/bruk/b972a141f2be.ann', '/Users/linndfors/study/diploma/ner_for_fem/data/DATA_FOR_BALANCED_NER/bruk/85622bc925dc.ann', '/Users/linndfors/study/diploma/ner_for_fem/data/DATA_FOR_BALANCED_NER/bruk/36ac3bc5ed9c.ann', '/Users/linndfors/study/diploma/ner_for_fem/data/DATA_FOR_BALANCED_NER/bruk/3d0ab8ae38cf.ann', '/Users/linndfors/study/diploma/ner_for_fem/data/DATA_FOR_BALANCED_NER/bruk/ead06d34c49d.ann', '/Users/linndfors/study/diploma/ner_for_fem/data/DATA_FOR_BALANCED_NER/bruk/bdda872d3ef9.ann', '/Users/linndfors/study/diploma/ner_for_fem/data/DATA_FOR_BALANCED_NER/bruk/9047cfab803a.ann', '/Users/linndfors/study/diploma/ner_for_fem/data/DATA_FOR_BALANCED_NER/bruk/b381bc7842b1.ann', '/Users/linndfors/study/diploma/ner_for_fem/data/DATA_FOR_BALANCED_NER/bruk/1448663b16b2.ann', '/Users/linndfors/study/diploma/ner_for_fem/data/DATA_FOR_BALANCED_NER/bruk/15238b87db03.ann', '/Users/linndfors/study/diploma/ner_for_fem/data/DATA_FOR_BALANCED_NER/bruk/224b36fbfbcc.ann', '/Users/linndfors/study/diploma/ner_for_fem/data/DATA_FOR_BALANCED_NER/bruk/7b7daaeb9d7d.ann', '/Users/linndfors/study/diploma/ner_for_fem/data/DATA_FOR_BALANCED_NER/bruk/dac0de834f47.ann', '/Users/linndfors/study/diploma/ner_for_fem/data/DATA_FOR_BALANCED_NER/bruk/547ce681ada8.ann', '/Users/linndfors/study/diploma/ner_for_fem/data/DATA_FOR_BALANCED_NER/bruk/d9e8a7cc311c.ann', '/Users/linndfors/study/diploma/ner_for_fem/data/DATA_FOR_BALANCED_NER/bruk/dcbb9ddb4aaa.ann', '/Users/linndfors/study/diploma/ner_for_fem/data/DATA_FOR_BALANCED_NER/bruk/180138cd9639.ann', '/Users/linndfors/study/diploma/ner_for_fem/data/DATA_FOR_BALANCED_NER/bruk/c40c6b1a374b.ann', '/Users/linndfors/study/diploma/ner_for_fem/data/DATA_FOR_BALANCED_NER/bruk/34c595e3a367.ann', '/Users/linndfors/study/diploma/ner_for_fem/data/DATA_FOR_BALANCED_NER/bruk/072f485824e1.ann', '/Users/linndfors/study/diploma/ner_for_fem/data/DATA_FOR_BALANCED_NER/bruk/bf4968831cc7.ann', '/Users/linndfors/study/diploma/ner_for_fem/data/DATA_FOR_BALANCED_NER/bruk/e9061171da9d.ann', '/Users/linndfors/study/diploma/ner_for_fem/data/DATA_FOR_BALANCED_NER/bruk/5a0aedfe0f5d.ann', '/Users/linndfors/study/diploma/ner_for_fem/data/DATA_FOR_BALANCED_NER/bruk/311fe00ee2e4.ann', '/Users/linndfors/study/diploma/ner_for_fem/data/DATA_FOR_BALANCED_NER/bruk/db336c963a75.ann', '/Users/linndfors/study/diploma/ner_for_fem/data/DATA_FOR_BALANCED_NER/bruk/e3ddcae5caa8.ann', '/Users/linndfors/study/diploma/ner_for_fem/data/DATA_FOR_BALANCED_NER/bruk/aad4dce361f1.ann', '/Users/linndfors/study/diploma/ner_for_fem/data/DATA_FOR_BALANCED_NER/bruk/d3d5522aa52e.ann', '/Users/linndfors/study/diploma/ner_for_fem/data/DATA_FOR_BALANCED_NER/bruk/92d38b895fa4.ann', '/Users/linndfors/study/diploma/ner_for_fem/data/DATA_FOR_BALANCED_NER/bruk/e8d4b8d56a07.ann', '/Users/linndfors/study/diploma/ner_for_fem/data/DATA_FOR_BALANCED_NER/bruk/61828291f32e.ann', '/Users/linndfors/study/diploma/ner_for_fem/data/DATA_FOR_BALANCED_NER/bruk/53c39d8d97c8.ann', '/Users/linndfors/study/diploma/ner_for_fem/data/DATA_FOR_BALANCED_NER/bruk/97ff41bd2697.ann', '/Users/linndfors/study/diploma/ner_for_fem/data/DATA_FOR_BALANCED_NER/bruk/56937f9aa8ef.ann', '/Users/linndfors/study/diploma/ner_for_fem/data/DATA_FOR_BALANCED_NER/bruk/a711fba03583.ann', '/Users/linndfors/study/diploma/ner_for_fem/data/DATA_FOR_BALANCED_NER/bruk/0124bf2fdf35.ann', '/Users/linndfors/study/diploma/ner_for_fem/data/DATA_FOR_BALANCED_NER/bruk/ed66834dcf5e.ann', '/Users/linndfors/study/diploma/ner_for_fem/data/DATA_FOR_BALANCED_NER/bruk/66395d7c394b.ann', '/Users/linndfors/study/diploma/ner_for_fem/data/DATA_FOR_BALANCED_NER/bruk/d07dfb774c28.ann', '/Users/linndfors/study/diploma/ner_for_fem/data/DATA_FOR_BALANCED_NER/bruk/53332fd5b311.ann', '/Users/linndfors/study/diploma/ner_for_fem/data/DATA_FOR_BALANCED_NER/bruk/9ec3c336d10b.ann', '/Users/linndfors/study/diploma/ner_for_fem/data/DATA_FOR_BALANCED_NER/bruk/48f4aaf25376.ann', '/Users/linndfors/study/diploma/ner_for_fem/data/DATA_FOR_BALANCED_NER/bruk/e5e76a8efa0f.ann', '/Users/linndfors/study/diploma/ner_for_fem/data/DATA_FOR_BALANCED_NER/bruk/9c614dee720a.ann', '/Users/linndfors/study/diploma/ner_for_fem/data/DATA_FOR_BALANCED_NER/bruk/2298b6b41bec.ann', '/Users/linndfors/study/diploma/ner_for_fem/data/DATA_FOR_BALANCED_NER/bruk/d3669729136c.ann', '/Users/linndfors/study/diploma/ner_for_fem/data/DATA_FOR_BALANCED_NER/bruk/f161f5134505.ann', '/Users/linndfors/study/diploma/ner_for_fem/data/DATA_FOR_BALANCED_NER/bruk/e1dbe335e762.ann', '/Users/linndfors/study/diploma/ner_for_fem/data/DATA_FOR_BALANCED_NER/bruk/5f8e43b59919.ann', '/Users/linndfors/study/diploma/ner_for_fem/data/DATA_FOR_BALANCED_NER/bruk/755c890a06fb.ann', '/Users/linndfors/study/diploma/ner_for_fem/data/DATA_FOR_BALANCED_NER/bruk/d79269090caa.ann', '/Users/linndfors/study/diploma/ner_for_fem/data/DATA_FOR_BALANCED_NER/bruk/53aae78351c4.ann', '/Users/linndfors/study/diploma/ner_for_fem/data/DATA_FOR_BALANCED_NER/bruk/a2238b6b98a1.ann', '/Users/linndfors/study/diploma/ner_for_fem/data/DATA_FOR_BALANCED_NER/bruk/10a2da5c514c.ann', '/Users/linndfors/study/diploma/ner_for_fem/data/DATA_FOR_BALANCED_NER/bruk/7b12fd5b62eb.ann', '/Users/linndfors/study/diploma/ner_for_fem/data/DATA_FOR_BALANCED_NER/bruk/cee02d4c030f.ann', '/Users/linndfors/study/diploma/ner_for_fem/data/DATA_FOR_BALANCED_NER/bruk/1ed3fef56c8f.ann', '/Users/linndfors/study/diploma/ner_for_fem/data/DATA_FOR_BALANCED_NER/bruk/3a333ad5757c.ann', '/Users/linndfors/study/diploma/ner_for_fem/data/DATA_FOR_BALANCED_NER/bruk/5207847a2e1d.ann', '/Users/linndfors/study/diploma/ner_for_fem/data/DATA_FOR_BALANCED_NER/bruk/91752831aab3.ann', '/Users/linndfors/study/diploma/ner_for_fem/data/DATA_FOR_BALANCED_NER/bruk/49752e89b7ff.ann', '/Users/linndfors/study/diploma/ner_for_fem/data/DATA_FOR_BALANCED_NER/bruk/561acef3f531.ann', '/Users/linndfors/study/diploma/ner_for_fem/data/DATA_FOR_BALANCED_NER/bruk/b51682e6ced9.ann', '/Users/linndfors/study/diploma/ner_for_fem/data/DATA_FOR_BALANCED_NER/bruk/e0493ec8466b.ann', '/Users/linndfors/study/diploma/ner_for_fem/data/DATA_FOR_BALANCED_NER/bruk/7de94608e47e.ann', '/Users/linndfors/study/diploma/ner_for_fem/data/DATA_FOR_BALANCED_NER/bruk/c3943538d82d.ann', '/Users/linndfors/study/diploma/ner_for_fem/data/DATA_FOR_BALANCED_NER/bruk/d30e0fb50f0f.ann', '/Users/linndfors/study/diploma/ner_for_fem/data/DATA_FOR_BALANCED_NER/bruk/605bc326eeaf.ann', '/Users/linndfors/study/diploma/ner_for_fem/data/DATA_FOR_BALANCED_NER/bruk/9494fddb0caa.ann', '/Users/linndfors/study/diploma/ner_for_fem/data/DATA_FOR_BALANCED_NER/bruk/b09a79bafe6c.ann', '/Users/linndfors/study/diploma/ner_for_fem/data/DATA_FOR_BALANCED_NER/bruk/8f009118f3b6.ann', '/Users/linndfors/study/diploma/ner_for_fem/data/DATA_FOR_BALANCED_NER/bruk/164940c99b86.ann', '/Users/linndfors/study/diploma/ner_for_fem/data/DATA_FOR_BALANCED_NER/bruk/78acebed5a3b.ann', '/Users/linndfors/study/diploma/ner_for_fem/data/DATA_FOR_BALANCED_NER/bruk/a858c90660f4.ann', '/Users/linndfors/study/diploma/ner_for_fem/data/DATA_FOR_BALANCED_NER/bruk/f03cac92cb80.ann', '/Users/linndfors/study/diploma/ner_for_fem/data/DATA_FOR_BALANCED_NER/bruk/2cc21b456aad.ann', '/Users/linndfors/study/diploma/ner_for_fem/data/DATA_FOR_BALANCED_NER/bruk/647a3f078f3f.ann', '/Users/linndfors/study/diploma/ner_for_fem/data/DATA_FOR_BALANCED_NER/bruk/9df8bcf8e17e.ann', '/Users/linndfors/study/diploma/ner_for_fem/data/DATA_FOR_BALANCED_NER/bruk/3f4bafb349ae.ann', '/Users/linndfors/study/diploma/ner_for_fem/data/DATA_FOR_BALANCED_NER/bruk/7b791a89bdee.ann', '/Users/linndfors/study/diploma/ner_for_fem/data/DATA_FOR_BALANCED_NER/bruk/f334a9c15e7b.ann', '/Users/linndfors/study/diploma/ner_for_fem/data/DATA_FOR_BALANCED_NER/bruk/2e4c850037f4.ann', '/Users/linndfors/study/diploma/ner_for_fem/data/DATA_FOR_BALANCED_NER/bruk/40f14174262a.ann', '/Users/linndfors/study/diploma/ner_for_fem/data/DATA_FOR_BALANCED_NER/bruk/4b1efc986bb8.ann', '/Users/linndfors/study/diploma/ner_for_fem/data/DATA_FOR_BALANCED_NER/bruk/f6f948024e96.ann', '/Users/linndfors/study/diploma/ner_for_fem/data/DATA_FOR_BALANCED_NER/bruk/1b8aae94e457.ann', '/Users/linndfors/study/diploma/ner_for_fem/data/DATA_FOR_BALANCED_NER/bruk/804f1f7b3cba.ann', '/Users/linndfors/study/diploma/ner_for_fem/data/DATA_FOR_BALANCED_NER/bruk/54463e60c449.ann', '/Users/linndfors/study/diploma/ner_for_fem/data/DATA_FOR_BALANCED_NER/bruk/fabc18a7d8fd.ann', '/Users/linndfors/study/diploma/ner_for_fem/data/DATA_FOR_BALANCED_NER/bruk/257fca043205.ann', '/Users/linndfors/study/diploma/ner_for_fem/data/DATA_FOR_BALANCED_NER/bruk/8fd32472ba8c.ann', '/Users/linndfors/study/diploma/ner_for_fem/data/DATA_FOR_BALANCED_NER/bruk/e21ddb9efb07.ann', '/Users/linndfors/study/diploma/ner_for_fem/data/DATA_FOR_BALANCED_NER/bruk/0d902430768c.ann', '/Users/linndfors/study/diploma/ner_for_fem/data/DATA_FOR_BALANCED_NER/bruk/e38f3f589599.ann', '/Users/linndfors/study/diploma/ner_for_fem/data/DATA_FOR_BALANCED_NER/bruk/47eb526780b0.ann', '/Users/linndfors/study/diploma/ner_for_fem/data/DATA_FOR_BALANCED_NER/bruk/9675d79e8807.ann', '/Users/linndfors/study/diploma/ner_for_fem/data/DATA_FOR_BALANCED_NER/bruk/7b2c9399fee9.ann', '/Users/linndfors/study/diploma/ner_for_fem/data/DATA_FOR_BALANCED_NER/bruk/624df1293f3d.ann', '/Users/linndfors/study/diploma/ner_for_fem/data/DATA_FOR_BALANCED_NER/bruk/e010e86e436c.ann', '/Users/linndfors/study/diploma/ner_for_fem/data/DATA_FOR_BALANCED_NER/bruk/69d2ba355bb3.ann', '/Users/linndfors/study/diploma/ner_for_fem/data/DATA_FOR_BALANCED_NER/bruk/a487d1895726.ann', '/Users/linndfors/study/diploma/ner_for_fem/data/DATA_FOR_BALANCED_NER/bruk/54e33e2bc8c9.ann', '/Users/linndfors/study/diploma/ner_for_fem/data/DATA_FOR_BALANCED_NER/bruk/efc2665e4bed.ann', '/Users/linndfors/study/diploma/ner_for_fem/data/DATA_FOR_BALANCED_NER/bruk/858f4aec5f11.ann', '/Users/linndfors/study/diploma/ner_for_fem/data/DATA_FOR_BALANCED_NER/bruk/bf847eb38952.ann', '/Users/linndfors/study/diploma/ner_for_fem/data/DATA_FOR_BALANCED_NER/bruk/eb523e7caf23.ann', '/Users/linndfors/study/diploma/ner_for_fem/data/DATA_FOR_BALANCED_NER/bruk/c069c0fe5b09.ann', '/Users/linndfors/study/diploma/ner_for_fem/data/DATA_FOR_BALANCED_NER/bruk/6b5d4229b548.ann', '/Users/linndfors/study/diploma/ner_for_fem/data/DATA_FOR_BALANCED_NER/bruk/ea3fab248fbe.ann', '/Users/linndfors/study/diploma/ner_for_fem/data/DATA_FOR_BALANCED_NER/bruk/7c3e231cb1a1.ann', '/Users/linndfors/study/diploma/ner_for_fem/data/DATA_FOR_BALANCED_NER/bruk/db8a0528945d.ann', '/Users/linndfors/study/diploma/ner_for_fem/data/DATA_FOR_BALANCED_NER/bruk/326978d2c58c.ann', '/Users/linndfors/study/diploma/ner_for_fem/data/DATA_FOR_BALANCED_NER/bruk/ed833c6b7cd6.ann', '/Users/linndfors/study/diploma/ner_for_fem/data/DATA_FOR_BALANCED_NER/bruk/e09cf46f8336.ann', '/Users/linndfors/study/diploma/ner_for_fem/data/DATA_FOR_BALANCED_NER/bruk/8cc49a8b2d76.ann', '/Users/linndfors/study/diploma/ner_for_fem/data/DATA_FOR_BALANCED_NER/bruk/f5c129207e1e.ann', '/Users/linndfors/study/diploma/ner_for_fem/data/DATA_FOR_BALANCED_NER/bruk/350d55a9cd57.ann', '/Users/linndfors/study/diploma/ner_for_fem/data/DATA_FOR_BALANCED_NER/bruk/e0d737d53640.ann', '/Users/linndfors/study/diploma/ner_for_fem/data/DATA_FOR_BALANCED_NER/bruk/b48fcd1e4038.ann', '/Users/linndfors/study/diploma/ner_for_fem/data/DATA_FOR_BALANCED_NER/bruk/a1040e479610.ann', '/Users/linndfors/study/diploma/ner_for_fem/data/DATA_FOR_BALANCED_NER/bruk/7288b7c578ae.ann', '/Users/linndfors/study/diploma/ner_for_fem/data/DATA_FOR_BALANCED_NER/bruk/85c4d4a485ec.ann', '/Users/linndfors/study/diploma/ner_for_fem/data/DATA_FOR_BALANCED_NER/bruk/74a7e2a340dd.ann', '/Users/linndfors/study/diploma/ner_for_fem/data/DATA_FOR_BALANCED_NER/bruk/90150d8555dd.ann', '/Users/linndfors/study/diploma/ner_for_fem/data/DATA_FOR_BALANCED_NER/bruk/abb07434ad17.ann', '/Users/linndfors/study/diploma/ner_for_fem/data/DATA_FOR_BALANCED_NER/bruk/ef1b6bd52747.ann', '/Users/linndfors/study/diploma/ner_for_fem/data/DATA_FOR_BALANCED_NER/bruk/fc8f156aa82b.ann', '/Users/linndfors/study/diploma/ner_for_fem/data/DATA_FOR_BALANCED_NER/bruk/209e9f10fc09.ann', '/Users/linndfors/study/diploma/ner_for_fem/data/DATA_FOR_BALANCED_NER/bruk/79812f4abec1.ann', '/Users/linndfors/study/diploma/ner_for_fem/data/DATA_FOR_BALANCED_NER/bruk/ff069c11e13d.ann', '/Users/linndfors/study/diploma/ner_for_fem/data/DATA_FOR_BALANCED_NER/bruk/095a5debd3eb.ann', '/Users/linndfors/study/diploma/ner_for_fem/data/DATA_FOR_BALANCED_NER/bruk/d2c0db522075.ann', '/Users/linndfors/study/diploma/ner_for_fem/data/DATA_FOR_BALANCED_NER/bruk/6b06f950414e.ann', '/Users/linndfors/study/diploma/ner_for_fem/data/DATA_FOR_BALANCED_NER/bruk/1c325fde9ed4.ann', '/Users/linndfors/study/diploma/ner_for_fem/data/DATA_FOR_BALANCED_NER/bruk/da7b7891d3ff.ann', '/Users/linndfors/study/diploma/ner_for_fem/data/DATA_FOR_BALANCED_NER/bruk/9fbfe077a27a.ann', '/Users/linndfors/study/diploma/ner_for_fem/data/DATA_FOR_BALANCED_NER/bruk/13e0cb95075a.ann', '/Users/linndfors/study/diploma/ner_for_fem/data/DATA_FOR_BALANCED_NER/bruk/3b3e40997071.ann', '/Users/linndfors/study/diploma/ner_for_fem/data/DATA_FOR_BALANCED_NER/bruk/0046ebeff13e.ann', '/Users/linndfors/study/diploma/ner_for_fem/data/DATA_FOR_BALANCED_NER/bruk/885fcaa2ed90.ann', '/Users/linndfors/study/diploma/ner_for_fem/data/DATA_FOR_BALANCED_NER/bruk/d605697acd36.ann', '/Users/linndfors/study/diploma/ner_for_fem/data/DATA_FOR_BALANCED_NER/bruk/dc1202fd9850.ann', '/Users/linndfors/study/diploma/ner_for_fem/data/DATA_FOR_BALANCED_NER/bruk/5a75a46fecdf.ann', '/Users/linndfors/study/diploma/ner_for_fem/data/DATA_FOR_BALANCED_NER/bruk/71a651d2dbec.ann', '/Users/linndfors/study/diploma/ner_for_fem/data/DATA_FOR_BALANCED_NER/bruk/cff8a0408e5d.ann', '/Users/linndfors/study/diploma/ner_for_fem/data/DATA_FOR_BALANCED_NER/bruk/11ee9b83c9c2.ann', '/Users/linndfors/study/diploma/ner_for_fem/data/DATA_FOR_BALANCED_NER/bruk/38a3cffd4beb.ann', '/Users/linndfors/study/diploma/ner_for_fem/data/DATA_FOR_BALANCED_NER/bruk/89117d2e88a0.ann', '/Users/linndfors/study/diploma/ner_for_fem/data/DATA_FOR_BALANCED_NER/bruk/1c37d315923c.ann', '/Users/linndfors/study/diploma/ner_for_fem/data/DATA_FOR_BALANCED_NER/bruk/bd86f567c746.ann', '/Users/linndfors/study/diploma/ner_for_fem/data/DATA_FOR_BALANCED_NER/bruk/8051a5966e78.ann', '/Users/linndfors/study/diploma/ner_for_fem/data/DATA_FOR_BALANCED_NER/bruk/52049bc57554.ann', '/Users/linndfors/study/diploma/ner_for_fem/data/DATA_FOR_BALANCED_NER/bruk/b3c847570902.ann', '/Users/linndfors/study/diploma/ner_for_fem/data/DATA_FOR_BALANCED_NER/bruk/4067c1915516.ann', '/Users/linndfors/study/diploma/ner_for_fem/data/DATA_FOR_BALANCED_NER/bruk/f89275b78518.ann', '/Users/linndfors/study/diploma/ner_for_fem/data/DATA_FOR_BALANCED_NER/bruk/f579476e6692.ann', '/Users/linndfors/study/diploma/ner_for_fem/data/DATA_FOR_BALANCED_NER/bruk/5710814a4a84.ann', '/Users/linndfors/study/diploma/ner_for_fem/data/DATA_FOR_BALANCED_NER/bruk/7b5796884bc9.ann', '/Users/linndfors/study/diploma/ner_for_fem/data/DATA_FOR_BALANCED_NER/bruk/18ec3aea7ed7.ann', '/Users/linndfors/study/diploma/ner_for_fem/data/DATA_FOR_BALANCED_NER/bruk/f495f41dfa02.ann', '/Users/linndfors/study/diploma/ner_for_fem/data/DATA_FOR_BALANCED_NER/bruk/e023d6d6f1a3.ann', '/Users/linndfors/study/diploma/ner_for_fem/data/DATA_FOR_BALANCED_NER/bruk/f4ca58272dbf.ann', '/Users/linndfors/study/diploma/ner_for_fem/data/DATA_FOR_BALANCED_NER/bruk/e3c7064319e0.ann', '/Users/linndfors/study/diploma/ner_for_fem/data/DATA_FOR_BALANCED_NER/bruk/5e10574a909c.ann', '/Users/linndfors/study/diploma/ner_for_fem/data/DATA_FOR_BALANCED_NER/bruk/c6807dbff658.ann', '/Users/linndfors/study/diploma/ner_for_fem/data/DATA_FOR_BALANCED_NER/bruk/8e5453dbd6f4.ann', '/Users/linndfors/study/diploma/ner_for_fem/data/DATA_FOR_BALANCED_NER/bruk/5025975880fb.ann', '/Users/linndfors/study/diploma/ner_for_fem/data/DATA_FOR_BALANCED_NER/bruk/b019e9b8d51d.ann', '/Users/linndfors/study/diploma/ner_for_fem/data/DATA_FOR_BALANCED_NER/bruk/bc755153f4f7.ann', '/Users/linndfors/study/diploma/ner_for_fem/data/DATA_FOR_BALANCED_NER/bruk/e053b1d934d3.ann', '/Users/linndfors/study/diploma/ner_for_fem/data/DATA_FOR_BALANCED_NER/bruk/6d620fe63e14.ann', '/Users/linndfors/study/diploma/ner_for_fem/data/DATA_FOR_BALANCED_NER/bruk/9c0774172f73.ann', '/Users/linndfors/study/diploma/ner_for_fem/data/DATA_FOR_BALANCED_NER/bruk/c3402705f448.ann', '/Users/linndfors/study/diploma/ner_for_fem/data/DATA_FOR_BALANCED_NER/bruk/6b60e6fb3d78.ann', '/Users/linndfors/study/diploma/ner_for_fem/data/DATA_FOR_BALANCED_NER/bruk/38603af07530.ann', '/Users/linndfors/study/diploma/ner_for_fem/data/DATA_FOR_BALANCED_NER/bruk/8c7ec62e35ac.ann', '/Users/linndfors/study/diploma/ner_for_fem/data/DATA_FOR_BALANCED_NER/bruk/34a0fdd811de.ann', '/Users/linndfors/study/diploma/ner_for_fem/data/DATA_FOR_BALANCED_NER/bruk/27a1722d517c.ann', '/Users/linndfors/study/diploma/ner_for_fem/data/DATA_FOR_BALANCED_NER/bruk/fe18230930c4.ann', '/Users/linndfors/study/diploma/ner_for_fem/data/DATA_FOR_BALANCED_NER/bruk/5d4e6be6d046.ann', '/Users/linndfors/study/diploma/ner_for_fem/data/DATA_FOR_BALANCED_NER/bruk/066ec5f0dea6.ann', '/Users/linndfors/study/diploma/ner_for_fem/data/DATA_FOR_BALANCED_NER/bruk/f4136bfda19a.ann', '/Users/linndfors/study/diploma/ner_for_fem/data/DATA_FOR_BALANCED_NER/bruk/548f66f38090.ann', '/Users/linndfors/study/diploma/ner_for_fem/data/DATA_FOR_BALANCED_NER/bruk/63eeded4491d.ann', '/Users/linndfors/study/diploma/ner_for_fem/data/DATA_FOR_BALANCED_NER/bruk/17fbae84faea.ann', '/Users/linndfors/study/diploma/ner_for_fem/data/DATA_FOR_BALANCED_NER/bruk/facfaebdda53.ann', '/Users/linndfors/study/diploma/ner_for_fem/data/DATA_FOR_BALANCED_NER/bruk/937c38344fdf.ann', '/Users/linndfors/study/diploma/ner_for_fem/data/DATA_FOR_BALANCED_NER/bruk/835125e08bbe.ann', '/Users/linndfors/study/diploma/ner_for_fem/data/DATA_FOR_BALANCED_NER/bruk/3071b42b697b.ann', '/Users/linndfors/study/diploma/ner_for_fem/data/DATA_FOR_BALANCED_NER/bruk/b84c8a869b51.ann', '/Users/linndfors/study/diploma/ner_for_fem/data/DATA_FOR_BALANCED_NER/bruk/5007c900c375.ann', '/Users/linndfors/study/diploma/ner_for_fem/data/DATA_FOR_BALANCED_NER/bruk/b576ac602665.ann', '/Users/linndfors/study/diploma/ner_for_fem/data/DATA_FOR_BALANCED_NER/bruk/2936652097f4.ann', '/Users/linndfors/study/diploma/ner_for_fem/data/DATA_FOR_BALANCED_NER/bruk/c839868dc209.ann', '/Users/linndfors/study/diploma/ner_for_fem/data/DATA_FOR_BALANCED_NER/bruk/0ac5140eb732.ann', '/Users/linndfors/study/diploma/ner_for_fem/data/DATA_FOR_BALANCED_NER/bruk/3ba7ca929d68.ann', '/Users/linndfors/study/diploma/ner_for_fem/data/DATA_FOR_BALANCED_NER/bruk/2846bf1d66a8.ann', '/Users/linndfors/study/diploma/ner_for_fem/data/DATA_FOR_BALANCED_NER/bruk/232be2c6b5c2.ann', '/Users/linndfors/study/diploma/ner_for_fem/data/DATA_FOR_BALANCED_NER/bruk/2f18f73184c6.ann', '/Users/linndfors/study/diploma/ner_for_fem/data/DATA_FOR_BALANCED_NER/bruk/4b9c4f7467c3.ann', '/Users/linndfors/study/diploma/ner_for_fem/data/DATA_FOR_BALANCED_NER/bruk/2043b8e17afd.ann', '/Users/linndfors/study/diploma/ner_for_fem/data/DATA_FOR_BALANCED_NER/bruk/06d78909a7ab.ann', '/Users/linndfors/study/diploma/ner_for_fem/data/DATA_FOR_BALANCED_NER/bruk/b87576a7425a.ann', '/Users/linndfors/study/diploma/ner_for_fem/data/DATA_FOR_BALANCED_NER/bruk/09d6a57532b6.ann', '/Users/linndfors/study/diploma/ner_for_fem/data/DATA_FOR_BALANCED_NER/bruk/db78e47ddc2b.ann', '/Users/linndfors/study/diploma/ner_for_fem/data/DATA_FOR_BALANCED_NER/bruk/710044df1fe0.ann', '/Users/linndfors/study/diploma/ner_for_fem/data/DATA_FOR_BALANCED_NER/bruk/a196488351f6.ann', '/Users/linndfors/study/diploma/ner_for_fem/data/DATA_FOR_BALANCED_NER/bruk/a616672f4a8b.ann', '/Users/linndfors/study/diploma/ner_for_fem/data/DATA_FOR_BALANCED_NER/bruk/91024fa21059.ann', '/Users/linndfors/study/diploma/ner_for_fem/data/DATA_FOR_BALANCED_NER/bruk/ec56de093e26.ann', '/Users/linndfors/study/diploma/ner_for_fem/data/DATA_FOR_BALANCED_NER/bruk/1001d3d44d5d.ann', '/Users/linndfors/study/diploma/ner_for_fem/data/DATA_FOR_BALANCED_NER/bruk/8319d005221b.ann', '/Users/linndfors/study/diploma/ner_for_fem/data/DATA_FOR_BALANCED_NER/bruk/9e763fde7f9d.ann', '/Users/linndfors/study/diploma/ner_for_fem/data/DATA_FOR_BALANCED_NER/bruk/b987128d15d3.ann', '/Users/linndfors/study/diploma/ner_for_fem/data/DATA_FOR_BALANCED_NER/bruk/d027e35c242d.ann', '/Users/linndfors/study/diploma/ner_for_fem/data/DATA_FOR_BALANCED_NER/bruk/c0c436cc9cb6.ann', '/Users/linndfors/study/diploma/ner_for_fem/data/DATA_FOR_BALANCED_NER/bruk/ff44a42fbce8.ann', '/Users/linndfors/study/diploma/ner_for_fem/data/DATA_FOR_BALANCED_NER/bruk/24dc7f2b8dba.ann', '/Users/linndfors/study/diploma/ner_for_fem/data/DATA_FOR_BALANCED_NER/bruk/276b7d4811fe.ann', '/Users/linndfors/study/diploma/ner_for_fem/data/DATA_FOR_BALANCED_NER/bruk/0b09727dad40.ann', '/Users/linndfors/study/diploma/ner_for_fem/data/DATA_FOR_BALANCED_NER/bruk/09a740046a57.ann', '/Users/linndfors/study/diploma/ner_for_fem/data/DATA_FOR_BALANCED_NER/bruk/9d8a2d411738.ann', '/Users/linndfors/study/diploma/ner_for_fem/data/DATA_FOR_BALANCED_NER/bruk/85ff05f88182.ann', '/Users/linndfors/study/diploma/ner_for_fem/data/DATA_FOR_BALANCED_NER/bruk/5764f733fff2.ann', '/Users/linndfors/study/diploma/ner_for_fem/data/DATA_FOR_BALANCED_NER/bruk/c0f24f5d70e3.ann', '/Users/linndfors/study/diploma/ner_for_fem/data/DATA_FOR_BALANCED_NER/bruk/0b962bee49bc.ann', '/Users/linndfors/study/diploma/ner_for_fem/data/DATA_FOR_BALANCED_NER/bruk/ce0f43ec1ab3.ann', '/Users/linndfors/study/diploma/ner_for_fem/data/DATA_FOR_BALANCED_NER/bruk/9289f89ef36f.ann', '/Users/linndfors/study/diploma/ner_for_fem/data/DATA_FOR_BALANCED_NER/bruk/2fc890744f7c.ann', '/Users/linndfors/study/diploma/ner_for_fem/data/DATA_FOR_BALANCED_NER/bruk/46ae77c0ec97.ann', '/Users/linndfors/study/diploma/ner_for_fem/data/DATA_FOR_BALANCED_NER/bruk/f5bb37569413.ann', '/Users/linndfors/study/diploma/ner_for_fem/data/DATA_FOR_BALANCED_NER/bruk/f9a926049262.ann', '/Users/linndfors/study/diploma/ner_for_fem/data/DATA_FOR_BALANCED_NER/bruk/132368095bab.ann', '/Users/linndfors/study/diploma/ner_for_fem/data/DATA_FOR_BALANCED_NER/bruk/9d4b90129d10.ann', '/Users/linndfors/study/diploma/ner_for_fem/data/DATA_FOR_BALANCED_NER/bruk/8951230172d0.ann', '/Users/linndfors/study/diploma/ner_for_fem/data/DATA_FOR_BALANCED_NER/bruk/5085bb95b51a.ann', '/Users/linndfors/study/diploma/ner_for_fem/data/DATA_FOR_BALANCED_NER/bruk/e1d8841dcc68.ann', '/Users/linndfors/study/diploma/ner_for_fem/data/DATA_FOR_BALANCED_NER/bruk/6e4853575182.ann', '/Users/linndfors/study/diploma/ner_for_fem/data/DATA_FOR_BALANCED_NER/bruk/d81f996d0ab8.ann', '/Users/linndfors/study/diploma/ner_for_fem/data/DATA_FOR_BALANCED_NER/bruk/dd433aaa7ea6.ann', '/Users/linndfors/study/diploma/ner_for_fem/data/DATA_FOR_BALANCED_NER/bruk/d08ea0bbac66.ann', '/Users/linndfors/study/diploma/ner_for_fem/data/DATA_FOR_BALANCED_NER/bruk/6fd76ff76fe1.ann', '/Users/linndfors/study/diploma/ner_for_fem/data/DATA_FOR_BALANCED_NER/bruk/f958ce8bb461.ann', '/Users/linndfors/study/diploma/ner_for_fem/data/DATA_FOR_BALANCED_NER/bruk/814169a89f24.ann', '/Users/linndfors/study/diploma/ner_for_fem/data/DATA_FOR_BALANCED_NER/bruk/a1a77d3d5b33.ann', '/Users/linndfors/study/diploma/ner_for_fem/data/DATA_FOR_BALANCED_NER/bruk/d530671576f8.ann', '/Users/linndfors/study/diploma/ner_for_fem/data/DATA_FOR_BALANCED_NER/bruk/cf3bc90c93e7.ann', '/Users/linndfors/study/diploma/ner_for_fem/data/DATA_FOR_BALANCED_NER/bruk/e622bcc4a6c5.ann', '/Users/linndfors/study/diploma/ner_for_fem/data/DATA_FOR_BALANCED_NER/bruk/c375246adb0a.ann', '/Users/linndfors/study/diploma/ner_for_fem/data/DATA_FOR_BALANCED_NER/bruk/766e1942f398.ann', '/Users/linndfors/study/diploma/ner_for_fem/data/DATA_FOR_BALANCED_NER/bruk/cad2484c0cc8.ann', '/Users/linndfors/study/diploma/ner_for_fem/data/DATA_FOR_BALANCED_NER/bruk/c28168a23912.ann', '/Users/linndfors/study/diploma/ner_for_fem/data/DATA_FOR_BALANCED_NER/bruk/b6756b05bab3.ann', '/Users/linndfors/study/diploma/ner_for_fem/data/DATA_FOR_BALANCED_NER/bruk/17d3d678df81.ann', '/Users/linndfors/study/diploma/ner_for_fem/data/DATA_FOR_BALANCED_NER/bruk/3d5cec7abaca.ann', '/Users/linndfors/study/diploma/ner_for_fem/data/DATA_FOR_BALANCED_NER/bruk/1484f7813550.ann', '/Users/linndfors/study/diploma/ner_for_fem/data/DATA_FOR_BALANCED_NER/bruk/e8188caa466c.ann']\n"
     ]
    },
    {
     "name": "stderr",
     "output_type": "stream",
     "text": [
      "100%|██████████| 231/231 [2:59:33<00:00, 46.64s/it]  \n"
     ]
    }
   ],
   "source": [
    "bruk_pers_dict = extract_pers_entities(\"/Users/linndfors/study/diploma/ner_for_fem/data/DATA_FOR_BALANCED_NER/bruk\")\n",
    "bruk_file_gender_pers_dict, bruk_total_pers_counter, bruk_pers_list = return_gendered_PERS_dict(bruk_pers_dict)"
   ]
  },
  {
   "cell_type": "code",
   "execution_count": 284,
   "metadata": {},
   "outputs": [
    {
     "name": "stdout",
     "output_type": "stream",
     "text": [
      "total size: 4415\n",
      "================\n",
      "gender: male\n",
      "number of files for the gender: 176\n",
      "number of entities for the gender: 1274\n",
      "The most popular entity: Андрій\n",
      "================\n",
      "================\n",
      "gender: female\n",
      "number of files for the gender: 135\n",
      "number of entities for the gender: 970\n",
      "The most popular entity: Аліна\n",
      "================\n",
      "================\n",
      "gender: unknown_gender\n",
      "number of files for the gender: 200\n",
      "number of entities for the gender: 2171\n",
      "The most popular entity: Бог\n",
      "================\n"
     ]
    }
   ],
   "source": [
    "return_gender_stat(bruk_total_pers_counter, bruk_file_gender_pers_dict)\n",
    "orig_bruk_pers_female_files, orig_bruk_pers_male_files, orig_bruk_pers_common_files = split_files(bruk_file_gender_pers_dict, \"/Users/linndfors/study/diploma/ner_for_fem/data/DATA_FOR_BALANCED_NER/bruk\")"
   ]
  },
  {
   "cell_type": "code",
   "execution_count": 1,
   "metadata": {},
   "outputs": [],
   "source": [
    "import pandas as pd"
   ]
  },
  {
   "cell_type": "code",
   "execution_count": 263,
   "metadata": {},
   "outputs": [
    {
     "name": "stdout",
     "output_type": "stream",
     "text": [
      "['/Users/linndfors/study/diploma/ner_for_fem/data/DATA_FOR_BALANCED_NER/ng/b4fe41ad2268.ann', '/Users/linndfors/study/diploma/ner_for_fem/data/DATA_FOR_BALANCED_NER/ng/150446f83aa2.ann', '/Users/linndfors/study/diploma/ner_for_fem/data/DATA_FOR_BALANCED_NER/ng/ee7cde9751a7.ann', '/Users/linndfors/study/diploma/ner_for_fem/data/DATA_FOR_BALANCED_NER/ng/3fdf22393022.ann', '/Users/linndfors/study/diploma/ner_for_fem/data/DATA_FOR_BALANCED_NER/ng/76b9b07172fb.ann', '/Users/linndfors/study/diploma/ner_for_fem/data/DATA_FOR_BALANCED_NER/ng/7982679365fb.ann', '/Users/linndfors/study/diploma/ner_for_fem/data/DATA_FOR_BALANCED_NER/ng/003d28360166.ann', '/Users/linndfors/study/diploma/ner_for_fem/data/DATA_FOR_BALANCED_NER/ng/02634352df22.ann', '/Users/linndfors/study/diploma/ner_for_fem/data/DATA_FOR_BALANCED_NER/ng/a9d2c035032d.ann', '/Users/linndfors/study/diploma/ner_for_fem/data/DATA_FOR_BALANCED_NER/ng/3eef4bd7fc75.ann', '/Users/linndfors/study/diploma/ner_for_fem/data/DATA_FOR_BALANCED_NER/ng/f342f88df1c8.ann', '/Users/linndfors/study/diploma/ner_for_fem/data/DATA_FOR_BALANCED_NER/ng/bed0c1b62024.ann', '/Users/linndfors/study/diploma/ner_for_fem/data/DATA_FOR_BALANCED_NER/ng/d7e523681acc.ann', '/Users/linndfors/study/diploma/ner_for_fem/data/DATA_FOR_BALANCED_NER/ng/ba4204adf371.ann', '/Users/linndfors/study/diploma/ner_for_fem/data/DATA_FOR_BALANCED_NER/ng/cb7958ff386e.ann', '/Users/linndfors/study/diploma/ner_for_fem/data/DATA_FOR_BALANCED_NER/ng/6dd15465059a.ann', '/Users/linndfors/study/diploma/ner_for_fem/data/DATA_FOR_BALANCED_NER/ng/883e1bd852d8.ann', '/Users/linndfors/study/diploma/ner_for_fem/data/DATA_FOR_BALANCED_NER/ng/8806c823dee8.ann', '/Users/linndfors/study/diploma/ner_for_fem/data/DATA_FOR_BALANCED_NER/ng/418cf6ff9844.ann', '/Users/linndfors/study/diploma/ner_for_fem/data/DATA_FOR_BALANCED_NER/ng/258d2fd0d2fe.ann', '/Users/linndfors/study/diploma/ner_for_fem/data/DATA_FOR_BALANCED_NER/ng/357039d66ab7.ann', '/Users/linndfors/study/diploma/ner_for_fem/data/DATA_FOR_BALANCED_NER/ng/535022e2bdd2.ann', '/Users/linndfors/study/diploma/ner_for_fem/data/DATA_FOR_BALANCED_NER/ng/bbbc95618194.ann', '/Users/linndfors/study/diploma/ner_for_fem/data/DATA_FOR_BALANCED_NER/ng/8b3ec884f52d.ann', '/Users/linndfors/study/diploma/ner_for_fem/data/DATA_FOR_BALANCED_NER/ng/19ebc4aa5eb5.ann', '/Users/linndfors/study/diploma/ner_for_fem/data/DATA_FOR_BALANCED_NER/ng/8e1267225acc.ann', '/Users/linndfors/study/diploma/ner_for_fem/data/DATA_FOR_BALANCED_NER/ng/f50037706d0a.ann', '/Users/linndfors/study/diploma/ner_for_fem/data/DATA_FOR_BALANCED_NER/ng/7d19fba564ad.ann', '/Users/linndfors/study/diploma/ner_for_fem/data/DATA_FOR_BALANCED_NER/ng/46b3a16d4154.ann', '/Users/linndfors/study/diploma/ner_for_fem/data/DATA_FOR_BALANCED_NER/ng/e19e41e16752.ann', '/Users/linndfors/study/diploma/ner_for_fem/data/DATA_FOR_BALANCED_NER/ng/3262eb989bd6.ann', '/Users/linndfors/study/diploma/ner_for_fem/data/DATA_FOR_BALANCED_NER/ng/6d7cbd85036c.ann', '/Users/linndfors/study/diploma/ner_for_fem/data/DATA_FOR_BALANCED_NER/ng/757fc6f23e18.ann', '/Users/linndfors/study/diploma/ner_for_fem/data/DATA_FOR_BALANCED_NER/ng/d84580a3bacf.ann', '/Users/linndfors/study/diploma/ner_for_fem/data/DATA_FOR_BALANCED_NER/ng/517bca22990a.ann', '/Users/linndfors/study/diploma/ner_for_fem/data/DATA_FOR_BALANCED_NER/ng/b9ea4aa52bae.ann', '/Users/linndfors/study/diploma/ner_for_fem/data/DATA_FOR_BALANCED_NER/ng/605d2142ccad.ann', '/Users/linndfors/study/diploma/ner_for_fem/data/DATA_FOR_BALANCED_NER/ng/4fa4b01c6204.ann', '/Users/linndfors/study/diploma/ner_for_fem/data/DATA_FOR_BALANCED_NER/ng/63711262f9fb.ann', '/Users/linndfors/study/diploma/ner_for_fem/data/DATA_FOR_BALANCED_NER/ng/6f6281133248.ann', '/Users/linndfors/study/diploma/ner_for_fem/data/DATA_FOR_BALANCED_NER/ng/02bebf42e010.ann', '/Users/linndfors/study/diploma/ner_for_fem/data/DATA_FOR_BALANCED_NER/ng/e0c4e3168c81.ann', '/Users/linndfors/study/diploma/ner_for_fem/data/DATA_FOR_BALANCED_NER/ng/7e6a2bdcfd1c.ann', '/Users/linndfors/study/diploma/ner_for_fem/data/DATA_FOR_BALANCED_NER/ng/3e21f62b9a2f.ann', '/Users/linndfors/study/diploma/ner_for_fem/data/DATA_FOR_BALANCED_NER/ng/a56a7edf7859.ann', '/Users/linndfors/study/diploma/ner_for_fem/data/DATA_FOR_BALANCED_NER/ng/a4eee55da896.ann', '/Users/linndfors/study/diploma/ner_for_fem/data/DATA_FOR_BALANCED_NER/ng/9c264bd5a100.ann', '/Users/linndfors/study/diploma/ner_for_fem/data/DATA_FOR_BALANCED_NER/ng/8098d69d861f.ann', '/Users/linndfors/study/diploma/ner_for_fem/data/DATA_FOR_BALANCED_NER/ng/989b35bbc2b6.ann', '/Users/linndfors/study/diploma/ner_for_fem/data/DATA_FOR_BALANCED_NER/ng/2980d5c34788.ann', '/Users/linndfors/study/diploma/ner_for_fem/data/DATA_FOR_BALANCED_NER/ng/c49d24717658.ann', '/Users/linndfors/study/diploma/ner_for_fem/data/DATA_FOR_BALANCED_NER/ng/1d88edf10c84.ann', '/Users/linndfors/study/diploma/ner_for_fem/data/DATA_FOR_BALANCED_NER/ng/bbc5330abbdc.ann', '/Users/linndfors/study/diploma/ner_for_fem/data/DATA_FOR_BALANCED_NER/ng/c97bff36f45a.ann', '/Users/linndfors/study/diploma/ner_for_fem/data/DATA_FOR_BALANCED_NER/ng/605667093f7b.ann', '/Users/linndfors/study/diploma/ner_for_fem/data/DATA_FOR_BALANCED_NER/ng/e96b3ae1908b.ann', '/Users/linndfors/study/diploma/ner_for_fem/data/DATA_FOR_BALANCED_NER/ng/cbf21c99c504.ann', '/Users/linndfors/study/diploma/ner_for_fem/data/DATA_FOR_BALANCED_NER/ng/97c7987b8f9c.ann', '/Users/linndfors/study/diploma/ner_for_fem/data/DATA_FOR_BALANCED_NER/ng/104263660695.ann', '/Users/linndfors/study/diploma/ner_for_fem/data/DATA_FOR_BALANCED_NER/ng/7faf035614c1.ann', '/Users/linndfors/study/diploma/ner_for_fem/data/DATA_FOR_BALANCED_NER/ng/30856acf29fc.ann', '/Users/linndfors/study/diploma/ner_for_fem/data/DATA_FOR_BALANCED_NER/ng/f2653a1e387d.ann', '/Users/linndfors/study/diploma/ner_for_fem/data/DATA_FOR_BALANCED_NER/ng/db4996034aa6.ann', '/Users/linndfors/study/diploma/ner_for_fem/data/DATA_FOR_BALANCED_NER/ng/4671f9337340.ann', '/Users/linndfors/study/diploma/ner_for_fem/data/DATA_FOR_BALANCED_NER/ng/36aa8022709f.ann', '/Users/linndfors/study/diploma/ner_for_fem/data/DATA_FOR_BALANCED_NER/ng/2ff4fbe3fcc4.ann', '/Users/linndfors/study/diploma/ner_for_fem/data/DATA_FOR_BALANCED_NER/ng/c09661af0a89.ann', '/Users/linndfors/study/diploma/ner_for_fem/data/DATA_FOR_BALANCED_NER/ng/3b285211209c.ann', '/Users/linndfors/study/diploma/ner_for_fem/data/DATA_FOR_BALANCED_NER/ng/35a759d5871f.ann', '/Users/linndfors/study/diploma/ner_for_fem/data/DATA_FOR_BALANCED_NER/ng/76cfe1c0a0b6.ann', '/Users/linndfors/study/diploma/ner_for_fem/data/DATA_FOR_BALANCED_NER/ng/d1d4639dbadd.ann', '/Users/linndfors/study/diploma/ner_for_fem/data/DATA_FOR_BALANCED_NER/ng/037bb6843538.ann', '/Users/linndfors/study/diploma/ner_for_fem/data/DATA_FOR_BALANCED_NER/ng/fba30fed0dbd.ann', '/Users/linndfors/study/diploma/ner_for_fem/data/DATA_FOR_BALANCED_NER/ng/c446d7d1cea2.ann', '/Users/linndfors/study/diploma/ner_for_fem/data/DATA_FOR_BALANCED_NER/ng/cb8dd5ea2542.ann', '/Users/linndfors/study/diploma/ner_for_fem/data/DATA_FOR_BALANCED_NER/ng/8c6db2873e45.ann', '/Users/linndfors/study/diploma/ner_for_fem/data/DATA_FOR_BALANCED_NER/ng/16fb31bf76b8.ann', '/Users/linndfors/study/diploma/ner_for_fem/data/DATA_FOR_BALANCED_NER/ng/73eb785ac9bb.ann', '/Users/linndfors/study/diploma/ner_for_fem/data/DATA_FOR_BALANCED_NER/ng/ba4d4c8da29b.ann', '/Users/linndfors/study/diploma/ner_for_fem/data/DATA_FOR_BALANCED_NER/ng/9cd323d79912.ann', '/Users/linndfors/study/diploma/ner_for_fem/data/DATA_FOR_BALANCED_NER/ng/d080aa19c4bd.ann', '/Users/linndfors/study/diploma/ner_for_fem/data/DATA_FOR_BALANCED_NER/ng/ab299615a1ce.ann', '/Users/linndfors/study/diploma/ner_for_fem/data/DATA_FOR_BALANCED_NER/ng/0e5456794c26.ann', '/Users/linndfors/study/diploma/ner_for_fem/data/DATA_FOR_BALANCED_NER/ng/a04af354c8db.ann', '/Users/linndfors/study/diploma/ner_for_fem/data/DATA_FOR_BALANCED_NER/ng/03d075bafb84.ann', '/Users/linndfors/study/diploma/ner_for_fem/data/DATA_FOR_BALANCED_NER/ng/c650874a1e16.ann', '/Users/linndfors/study/diploma/ner_for_fem/data/DATA_FOR_BALANCED_NER/ng/f5475c5dbfc9.ann', '/Users/linndfors/study/diploma/ner_for_fem/data/DATA_FOR_BALANCED_NER/ng/26c531a355cc.ann', '/Users/linndfors/study/diploma/ner_for_fem/data/DATA_FOR_BALANCED_NER/ng/7ab185008967.ann', '/Users/linndfors/study/diploma/ner_for_fem/data/DATA_FOR_BALANCED_NER/ng/d084adea3ae8.ann', '/Users/linndfors/study/diploma/ner_for_fem/data/DATA_FOR_BALANCED_NER/ng/47713afd9490.ann', '/Users/linndfors/study/diploma/ner_for_fem/data/DATA_FOR_BALANCED_NER/ng/12ca40b4ecac.ann', '/Users/linndfors/study/diploma/ner_for_fem/data/DATA_FOR_BALANCED_NER/ng/7f9631dbc39d.ann', '/Users/linndfors/study/diploma/ner_for_fem/data/DATA_FOR_BALANCED_NER/ng/b0163b57e788.ann', '/Users/linndfors/study/diploma/ner_for_fem/data/DATA_FOR_BALANCED_NER/ng/bdb88360d4a8.ann', '/Users/linndfors/study/diploma/ner_for_fem/data/DATA_FOR_BALANCED_NER/ng/4de429586136.ann', '/Users/linndfors/study/diploma/ner_for_fem/data/DATA_FOR_BALANCED_NER/ng/78153c6d7c59.ann', '/Users/linndfors/study/diploma/ner_for_fem/data/DATA_FOR_BALANCED_NER/ng/03b52358982b.ann', '/Users/linndfors/study/diploma/ner_for_fem/data/DATA_FOR_BALANCED_NER/ng/346183e7b6b1.ann', '/Users/linndfors/study/diploma/ner_for_fem/data/DATA_FOR_BALANCED_NER/ng/c9e6ab501a7e.ann', '/Users/linndfors/study/diploma/ner_for_fem/data/DATA_FOR_BALANCED_NER/ng/1c3c6180ad96.ann', '/Users/linndfors/study/diploma/ner_for_fem/data/DATA_FOR_BALANCED_NER/ng/c99d1ad0cc3c.ann', '/Users/linndfors/study/diploma/ner_for_fem/data/DATA_FOR_BALANCED_NER/ng/acabbef68eb1.ann', '/Users/linndfors/study/diploma/ner_for_fem/data/DATA_FOR_BALANCED_NER/ng/432e298a1354.ann', '/Users/linndfors/study/diploma/ner_for_fem/data/DATA_FOR_BALANCED_NER/ng/b2541ea8cb83.ann', '/Users/linndfors/study/diploma/ner_for_fem/data/DATA_FOR_BALANCED_NER/ng/7eae7aa310d7.ann', '/Users/linndfors/study/diploma/ner_for_fem/data/DATA_FOR_BALANCED_NER/ng/17f81040ab50.ann', '/Users/linndfors/study/diploma/ner_for_fem/data/DATA_FOR_BALANCED_NER/ng/5e407e3ddb68.ann', '/Users/linndfors/study/diploma/ner_for_fem/data/DATA_FOR_BALANCED_NER/ng/39c7437146fd.ann', '/Users/linndfors/study/diploma/ner_for_fem/data/DATA_FOR_BALANCED_NER/ng/aeabc0bd5724.ann', '/Users/linndfors/study/diploma/ner_for_fem/data/DATA_FOR_BALANCED_NER/ng/ca414599779c.ann', '/Users/linndfors/study/diploma/ner_for_fem/data/DATA_FOR_BALANCED_NER/ng/510661e4d39d.ann', '/Users/linndfors/study/diploma/ner_for_fem/data/DATA_FOR_BALANCED_NER/ng/6350e46219ca.ann', '/Users/linndfors/study/diploma/ner_for_fem/data/DATA_FOR_BALANCED_NER/ng/fc3221dac69d.ann', '/Users/linndfors/study/diploma/ner_for_fem/data/DATA_FOR_BALANCED_NER/ng/64bbab373f73.ann', '/Users/linndfors/study/diploma/ner_for_fem/data/DATA_FOR_BALANCED_NER/ng/39544dbbe184.ann', '/Users/linndfors/study/diploma/ner_for_fem/data/DATA_FOR_BALANCED_NER/ng/372677bde8c8.ann', '/Users/linndfors/study/diploma/ner_for_fem/data/DATA_FOR_BALANCED_NER/ng/0e6b8eb14491.ann', '/Users/linndfors/study/diploma/ner_for_fem/data/DATA_FOR_BALANCED_NER/ng/01cfbeca9827.ann', '/Users/linndfors/study/diploma/ner_for_fem/data/DATA_FOR_BALANCED_NER/ng/c3156652dba3.ann', '/Users/linndfors/study/diploma/ner_for_fem/data/DATA_FOR_BALANCED_NER/ng/8f5d434373e2.ann', '/Users/linndfors/study/diploma/ner_for_fem/data/DATA_FOR_BALANCED_NER/ng/937ae8974dd6.ann', '/Users/linndfors/study/diploma/ner_for_fem/data/DATA_FOR_BALANCED_NER/ng/c8944932e85f.ann', '/Users/linndfors/study/diploma/ner_for_fem/data/DATA_FOR_BALANCED_NER/ng/4e486c879cf1.ann', '/Users/linndfors/study/diploma/ner_for_fem/data/DATA_FOR_BALANCED_NER/ng/2c14409069b7.ann', '/Users/linndfors/study/diploma/ner_for_fem/data/DATA_FOR_BALANCED_NER/ng/b3e92d56950f.ann', '/Users/linndfors/study/diploma/ner_for_fem/data/DATA_FOR_BALANCED_NER/ng/a767be7c3792.ann', '/Users/linndfors/study/diploma/ner_for_fem/data/DATA_FOR_BALANCED_NER/ng/41cf54503fc6.ann', '/Users/linndfors/study/diploma/ner_for_fem/data/DATA_FOR_BALANCED_NER/ng/19a1d1f0d66f.ann', '/Users/linndfors/study/diploma/ner_for_fem/data/DATA_FOR_BALANCED_NER/ng/5d3d7e0d5bae.ann', '/Users/linndfors/study/diploma/ner_for_fem/data/DATA_FOR_BALANCED_NER/ng/fc5b5a35776f.ann', '/Users/linndfors/study/diploma/ner_for_fem/data/DATA_FOR_BALANCED_NER/ng/65a4cc6e3723.ann', '/Users/linndfors/study/diploma/ner_for_fem/data/DATA_FOR_BALANCED_NER/ng/bf276ac58f0f.ann', '/Users/linndfors/study/diploma/ner_for_fem/data/DATA_FOR_BALANCED_NER/ng/5f0dd24186aa.ann', '/Users/linndfors/study/diploma/ner_for_fem/data/DATA_FOR_BALANCED_NER/ng/ac13bf912fcb.ann', '/Users/linndfors/study/diploma/ner_for_fem/data/DATA_FOR_BALANCED_NER/ng/816a89664813.ann', '/Users/linndfors/study/diploma/ner_for_fem/data/DATA_FOR_BALANCED_NER/ng/5a43160b965d.ann', '/Users/linndfors/study/diploma/ner_for_fem/data/DATA_FOR_BALANCED_NER/ng/bf6104a5e8cc.ann', '/Users/linndfors/study/diploma/ner_for_fem/data/DATA_FOR_BALANCED_NER/ng/798252fda0ab.ann', '/Users/linndfors/study/diploma/ner_for_fem/data/DATA_FOR_BALANCED_NER/ng/09e1dccb8839.ann', '/Users/linndfors/study/diploma/ner_for_fem/data/DATA_FOR_BALANCED_NER/ng/5de8e21df21b.ann', '/Users/linndfors/study/diploma/ner_for_fem/data/DATA_FOR_BALANCED_NER/ng/2dfb84287371.ann', '/Users/linndfors/study/diploma/ner_for_fem/data/DATA_FOR_BALANCED_NER/ng/6d47a8c4d755.ann', '/Users/linndfors/study/diploma/ner_for_fem/data/DATA_FOR_BALANCED_NER/ng/0f0e96425eed.ann', '/Users/linndfors/study/diploma/ner_for_fem/data/DATA_FOR_BALANCED_NER/ng/a9db5c13ade2.ann', '/Users/linndfors/study/diploma/ner_for_fem/data/DATA_FOR_BALANCED_NER/ng/64d2d9e1ae2f.ann', '/Users/linndfors/study/diploma/ner_for_fem/data/DATA_FOR_BALANCED_NER/ng/1c3533ec1df3.ann', '/Users/linndfors/study/diploma/ner_for_fem/data/DATA_FOR_BALANCED_NER/ng/7d59bb5fe9f5.ann', '/Users/linndfors/study/diploma/ner_for_fem/data/DATA_FOR_BALANCED_NER/ng/a4bdacf739df.ann', '/Users/linndfors/study/diploma/ner_for_fem/data/DATA_FOR_BALANCED_NER/ng/06826af4579d.ann', '/Users/linndfors/study/diploma/ner_for_fem/data/DATA_FOR_BALANCED_NER/ng/872cdd84eee4.ann', '/Users/linndfors/study/diploma/ner_for_fem/data/DATA_FOR_BALANCED_NER/ng/1b68c2c76541.ann', '/Users/linndfors/study/diploma/ner_for_fem/data/DATA_FOR_BALANCED_NER/ng/5d7350e7d539.ann', '/Users/linndfors/study/diploma/ner_for_fem/data/DATA_FOR_BALANCED_NER/ng/de4c2d20b24b.ann', '/Users/linndfors/study/diploma/ner_for_fem/data/DATA_FOR_BALANCED_NER/ng/00edded01d7f.ann', '/Users/linndfors/study/diploma/ner_for_fem/data/DATA_FOR_BALANCED_NER/ng/39c1d99f468f.ann', '/Users/linndfors/study/diploma/ner_for_fem/data/DATA_FOR_BALANCED_NER/ng/3d437460799f.ann', '/Users/linndfors/study/diploma/ner_for_fem/data/DATA_FOR_BALANCED_NER/ng/18dbbac93012.ann', '/Users/linndfors/study/diploma/ner_for_fem/data/DATA_FOR_BALANCED_NER/ng/1c48b2f37af3.ann', '/Users/linndfors/study/diploma/ner_for_fem/data/DATA_FOR_BALANCED_NER/ng/75e21fe4f3b7.ann', '/Users/linndfors/study/diploma/ner_for_fem/data/DATA_FOR_BALANCED_NER/ng/860e4c9353fc.ann', '/Users/linndfors/study/diploma/ner_for_fem/data/DATA_FOR_BALANCED_NER/ng/79ccf625bc94.ann', '/Users/linndfors/study/diploma/ner_for_fem/data/DATA_FOR_BALANCED_NER/ng/d15b83fd32bd.ann', '/Users/linndfors/study/diploma/ner_for_fem/data/DATA_FOR_BALANCED_NER/ng/ac7d3bf88e39.ann', '/Users/linndfors/study/diploma/ner_for_fem/data/DATA_FOR_BALANCED_NER/ng/fe12a985f7cd.ann', '/Users/linndfors/study/diploma/ner_for_fem/data/DATA_FOR_BALANCED_NER/ng/8e66b8ea5086.ann', '/Users/linndfors/study/diploma/ner_for_fem/data/DATA_FOR_BALANCED_NER/ng/163e835b7aef.ann', '/Users/linndfors/study/diploma/ner_for_fem/data/DATA_FOR_BALANCED_NER/ng/0f94c5cc63c3.ann', '/Users/linndfors/study/diploma/ner_for_fem/data/DATA_FOR_BALANCED_NER/ng/b991b2d46f85.ann', '/Users/linndfors/study/diploma/ner_for_fem/data/DATA_FOR_BALANCED_NER/ng/5a4b4498fe83.ann', '/Users/linndfors/study/diploma/ner_for_fem/data/DATA_FOR_BALANCED_NER/ng/d4a86a1591b4.ann', '/Users/linndfors/study/diploma/ner_for_fem/data/DATA_FOR_BALANCED_NER/ng/521b5669bca6.ann', '/Users/linndfors/study/diploma/ner_for_fem/data/DATA_FOR_BALANCED_NER/ng/45ce670b36e1.ann', '/Users/linndfors/study/diploma/ner_for_fem/data/DATA_FOR_BALANCED_NER/ng/f4119f5f8406.ann', '/Users/linndfors/study/diploma/ner_for_fem/data/DATA_FOR_BALANCED_NER/ng/e32c3effa79e.ann', '/Users/linndfors/study/diploma/ner_for_fem/data/DATA_FOR_BALANCED_NER/ng/6b71dda907fe.ann', '/Users/linndfors/study/diploma/ner_for_fem/data/DATA_FOR_BALANCED_NER/ng/7cf7a5aacb51.ann', '/Users/linndfors/study/diploma/ner_for_fem/data/DATA_FOR_BALANCED_NER/ng/b72e7e33e081.ann', '/Users/linndfors/study/diploma/ner_for_fem/data/DATA_FOR_BALANCED_NER/ng/eed5beaf4033.ann', '/Users/linndfors/study/diploma/ner_for_fem/data/DATA_FOR_BALANCED_NER/ng/00b1a798bebf.ann', '/Users/linndfors/study/diploma/ner_for_fem/data/DATA_FOR_BALANCED_NER/ng/4ac82fdf4d4d.ann', '/Users/linndfors/study/diploma/ner_for_fem/data/DATA_FOR_BALANCED_NER/ng/9690987f7b71.ann', '/Users/linndfors/study/diploma/ner_for_fem/data/DATA_FOR_BALANCED_NER/ng/315a7f9491ac.ann', '/Users/linndfors/study/diploma/ner_for_fem/data/DATA_FOR_BALANCED_NER/ng/452ba42e97ec.ann', '/Users/linndfors/study/diploma/ner_for_fem/data/DATA_FOR_BALANCED_NER/ng/c07e05e53013.ann', '/Users/linndfors/study/diploma/ner_for_fem/data/DATA_FOR_BALANCED_NER/ng/67b6f23997c5.ann', '/Users/linndfors/study/diploma/ner_for_fem/data/DATA_FOR_BALANCED_NER/ng/9893f2c9cae9.ann', '/Users/linndfors/study/diploma/ner_for_fem/data/DATA_FOR_BALANCED_NER/ng/30933a298472.ann', '/Users/linndfors/study/diploma/ner_for_fem/data/DATA_FOR_BALANCED_NER/ng/236f916f3d6f.ann', '/Users/linndfors/study/diploma/ner_for_fem/data/DATA_FOR_BALANCED_NER/ng/cf79fc17c020.ann', '/Users/linndfors/study/diploma/ner_for_fem/data/DATA_FOR_BALANCED_NER/ng/91203928109a.ann', '/Users/linndfors/study/diploma/ner_for_fem/data/DATA_FOR_BALANCED_NER/ng/c2a04d86bfb8.ann', '/Users/linndfors/study/diploma/ner_for_fem/data/DATA_FOR_BALANCED_NER/ng/996f3a16780e.ann', '/Users/linndfors/study/diploma/ner_for_fem/data/DATA_FOR_BALANCED_NER/ng/8936d7a04255.ann', '/Users/linndfors/study/diploma/ner_for_fem/data/DATA_FOR_BALANCED_NER/ng/176e63516fab.ann', '/Users/linndfors/study/diploma/ner_for_fem/data/DATA_FOR_BALANCED_NER/ng/9452af41a134.ann', '/Users/linndfors/study/diploma/ner_for_fem/data/DATA_FOR_BALANCED_NER/ng/1adfefe0e695.ann', '/Users/linndfors/study/diploma/ner_for_fem/data/DATA_FOR_BALANCED_NER/ng/e37120a0aa66.ann', '/Users/linndfors/study/diploma/ner_for_fem/data/DATA_FOR_BALANCED_NER/ng/54a45ec4929b.ann', '/Users/linndfors/study/diploma/ner_for_fem/data/DATA_FOR_BALANCED_NER/ng/4f2aecdde4c8.ann', '/Users/linndfors/study/diploma/ner_for_fem/data/DATA_FOR_BALANCED_NER/ng/cdc9c08df7ac.ann', '/Users/linndfors/study/diploma/ner_for_fem/data/DATA_FOR_BALANCED_NER/ng/4ea65724096f.ann', '/Users/linndfors/study/diploma/ner_for_fem/data/DATA_FOR_BALANCED_NER/ng/fa2b54229991.ann', '/Users/linndfors/study/diploma/ner_for_fem/data/DATA_FOR_BALANCED_NER/ng/bfde3140955d.ann', '/Users/linndfors/study/diploma/ner_for_fem/data/DATA_FOR_BALANCED_NER/ng/1044724b1e84.ann', '/Users/linndfors/study/diploma/ner_for_fem/data/DATA_FOR_BALANCED_NER/ng/06d7009e4925.ann', '/Users/linndfors/study/diploma/ner_for_fem/data/DATA_FOR_BALANCED_NER/ng/0e31947e4561.ann', '/Users/linndfors/study/diploma/ner_for_fem/data/DATA_FOR_BALANCED_NER/ng/1e8b049462e1.ann', '/Users/linndfors/study/diploma/ner_for_fem/data/DATA_FOR_BALANCED_NER/ng/0ed906ef8bab.ann', '/Users/linndfors/study/diploma/ner_for_fem/data/DATA_FOR_BALANCED_NER/ng/c1ddc42c47fb.ann', '/Users/linndfors/study/diploma/ner_for_fem/data/DATA_FOR_BALANCED_NER/ng/23fed9919583.ann', '/Users/linndfors/study/diploma/ner_for_fem/data/DATA_FOR_BALANCED_NER/ng/d509463360e2.ann', '/Users/linndfors/study/diploma/ner_for_fem/data/DATA_FOR_BALANCED_NER/ng/cc9eda5dc1f3.ann', '/Users/linndfors/study/diploma/ner_for_fem/data/DATA_FOR_BALANCED_NER/ng/348b96a54914.ann', '/Users/linndfors/study/diploma/ner_for_fem/data/DATA_FOR_BALANCED_NER/ng/9835fd136cb4.ann', '/Users/linndfors/study/diploma/ner_for_fem/data/DATA_FOR_BALANCED_NER/ng/7248ab4edfe9.ann', '/Users/linndfors/study/diploma/ner_for_fem/data/DATA_FOR_BALANCED_NER/ng/04b2cf6b449e.ann', '/Users/linndfors/study/diploma/ner_for_fem/data/DATA_FOR_BALANCED_NER/ng/e54ada2b9649.ann', '/Users/linndfors/study/diploma/ner_for_fem/data/DATA_FOR_BALANCED_NER/ng/87deabcc8f95.ann', '/Users/linndfors/study/diploma/ner_for_fem/data/DATA_FOR_BALANCED_NER/ng/5f0403bf5093.ann', '/Users/linndfors/study/diploma/ner_for_fem/data/DATA_FOR_BALANCED_NER/ng/05b89d1a90bf.ann', '/Users/linndfors/study/diploma/ner_for_fem/data/DATA_FOR_BALANCED_NER/ng/0f9884d8a5e1.ann', '/Users/linndfors/study/diploma/ner_for_fem/data/DATA_FOR_BALANCED_NER/ng/1e9389b05e86.ann', '/Users/linndfors/study/diploma/ner_for_fem/data/DATA_FOR_BALANCED_NER/ng/d13ee85bbf5c.ann', '/Users/linndfors/study/diploma/ner_for_fem/data/DATA_FOR_BALANCED_NER/ng/5ae61df96054.ann', '/Users/linndfors/study/diploma/ner_for_fem/data/DATA_FOR_BALANCED_NER/ng/94c633b4d39a.ann', '/Users/linndfors/study/diploma/ner_for_fem/data/DATA_FOR_BALANCED_NER/ng/a854e880d075.ann', '/Users/linndfors/study/diploma/ner_for_fem/data/DATA_FOR_BALANCED_NER/ng/d81632a877d7.ann', '/Users/linndfors/study/diploma/ner_for_fem/data/DATA_FOR_BALANCED_NER/ng/f8ce14d569d1.ann', '/Users/linndfors/study/diploma/ner_for_fem/data/DATA_FOR_BALANCED_NER/ng/3e94fe6e9161.ann', '/Users/linndfors/study/diploma/ner_for_fem/data/DATA_FOR_BALANCED_NER/ng/789ba2b89a05.ann', '/Users/linndfors/study/diploma/ner_for_fem/data/DATA_FOR_BALANCED_NER/ng/1ce0dee84a4d.ann', '/Users/linndfors/study/diploma/ner_for_fem/data/DATA_FOR_BALANCED_NER/ng/cffa0e3aa90f.ann', '/Users/linndfors/study/diploma/ner_for_fem/data/DATA_FOR_BALANCED_NER/ng/7d5bd98c3363.ann', '/Users/linndfors/study/diploma/ner_for_fem/data/DATA_FOR_BALANCED_NER/ng/369c3876ae3d.ann', '/Users/linndfors/study/diploma/ner_for_fem/data/DATA_FOR_BALANCED_NER/ng/b060489eff8f.ann', '/Users/linndfors/study/diploma/ner_for_fem/data/DATA_FOR_BALANCED_NER/ng/6ada9307320e.ann', '/Users/linndfors/study/diploma/ner_for_fem/data/DATA_FOR_BALANCED_NER/ng/f62160cb3ef6.ann', '/Users/linndfors/study/diploma/ner_for_fem/data/DATA_FOR_BALANCED_NER/ng/d6ca19c4065e.ann', '/Users/linndfors/study/diploma/ner_for_fem/data/DATA_FOR_BALANCED_NER/ng/82e415f0dd48.ann', '/Users/linndfors/study/diploma/ner_for_fem/data/DATA_FOR_BALANCED_NER/ng/62127c82f7cd.ann', '/Users/linndfors/study/diploma/ner_for_fem/data/DATA_FOR_BALANCED_NER/ng/69dd300fd706.ann', '/Users/linndfors/study/diploma/ner_for_fem/data/DATA_FOR_BALANCED_NER/ng/7ff7b6cfbbc2.ann', '/Users/linndfors/study/diploma/ner_for_fem/data/DATA_FOR_BALANCED_NER/ng/3dfca2b9b104.ann', '/Users/linndfors/study/diploma/ner_for_fem/data/DATA_FOR_BALANCED_NER/ng/e6f68e10e0e4.ann', '/Users/linndfors/study/diploma/ner_for_fem/data/DATA_FOR_BALANCED_NER/ng/29ee46b3128e.ann', '/Users/linndfors/study/diploma/ner_for_fem/data/DATA_FOR_BALANCED_NER/ng/16a112c13847.ann', '/Users/linndfors/study/diploma/ner_for_fem/data/DATA_FOR_BALANCED_NER/ng/2d2e9cf66e5b.ann', '/Users/linndfors/study/diploma/ner_for_fem/data/DATA_FOR_BALANCED_NER/ng/fd7413336034.ann', '/Users/linndfors/study/diploma/ner_for_fem/data/DATA_FOR_BALANCED_NER/ng/33b6963bc554.ann', '/Users/linndfors/study/diploma/ner_for_fem/data/DATA_FOR_BALANCED_NER/ng/ce52c670e720.ann', '/Users/linndfors/study/diploma/ner_for_fem/data/DATA_FOR_BALANCED_NER/ng/f82ca27cb935.ann', '/Users/linndfors/study/diploma/ner_for_fem/data/DATA_FOR_BALANCED_NER/ng/6920ac746f54.ann', '/Users/linndfors/study/diploma/ner_for_fem/data/DATA_FOR_BALANCED_NER/ng/254bbb126618.ann', '/Users/linndfors/study/diploma/ner_for_fem/data/DATA_FOR_BALANCED_NER/ng/632545bf4092.ann', '/Users/linndfors/study/diploma/ner_for_fem/data/DATA_FOR_BALANCED_NER/ng/b859478153e4.ann', '/Users/linndfors/study/diploma/ner_for_fem/data/DATA_FOR_BALANCED_NER/ng/2d37a2344b1e.ann', '/Users/linndfors/study/diploma/ner_for_fem/data/DATA_FOR_BALANCED_NER/ng/25df43bd3fc5.ann', '/Users/linndfors/study/diploma/ner_for_fem/data/DATA_FOR_BALANCED_NER/ng/19a095d6ed15.ann', '/Users/linndfors/study/diploma/ner_for_fem/data/DATA_FOR_BALANCED_NER/ng/07c51f631d18.ann', '/Users/linndfors/study/diploma/ner_for_fem/data/DATA_FOR_BALANCED_NER/ng/3b570ac3116b.ann', '/Users/linndfors/study/diploma/ner_for_fem/data/DATA_FOR_BALANCED_NER/ng/b217b90e209d.ann', '/Users/linndfors/study/diploma/ner_for_fem/data/DATA_FOR_BALANCED_NER/ng/9a51afb8d050.ann', '/Users/linndfors/study/diploma/ner_for_fem/data/DATA_FOR_BALANCED_NER/ng/2850ba499aea.ann', '/Users/linndfors/study/diploma/ner_for_fem/data/DATA_FOR_BALANCED_NER/ng/d35f629ccc4c.ann', '/Users/linndfors/study/diploma/ner_for_fem/data/DATA_FOR_BALANCED_NER/ng/86c78648f86f.ann', '/Users/linndfors/study/diploma/ner_for_fem/data/DATA_FOR_BALANCED_NER/ng/290f12765b32.ann', '/Users/linndfors/study/diploma/ner_for_fem/data/DATA_FOR_BALANCED_NER/ng/540d36b4fe1c.ann', '/Users/linndfors/study/diploma/ner_for_fem/data/DATA_FOR_BALANCED_NER/ng/bf3f1e807703.ann', '/Users/linndfors/study/diploma/ner_for_fem/data/DATA_FOR_BALANCED_NER/ng/66f7109b4b72.ann', '/Users/linndfors/study/diploma/ner_for_fem/data/DATA_FOR_BALANCED_NER/ng/ff85f24f2204.ann', '/Users/linndfors/study/diploma/ner_for_fem/data/DATA_FOR_BALANCED_NER/ng/8ae216cd6d99.ann', '/Users/linndfors/study/diploma/ner_for_fem/data/DATA_FOR_BALANCED_NER/ng/1257e7421756.ann', '/Users/linndfors/study/diploma/ner_for_fem/data/DATA_FOR_BALANCED_NER/ng/f5e3415a3653.ann', '/Users/linndfors/study/diploma/ner_for_fem/data/DATA_FOR_BALANCED_NER/ng/c5930ba45ebe.ann', '/Users/linndfors/study/diploma/ner_for_fem/data/DATA_FOR_BALANCED_NER/ng/0050229d8534.ann', '/Users/linndfors/study/diploma/ner_for_fem/data/DATA_FOR_BALANCED_NER/ng/3b4ea1813b99.ann', '/Users/linndfors/study/diploma/ner_for_fem/data/DATA_FOR_BALANCED_NER/ng/08c0799d889a.ann', '/Users/linndfors/study/diploma/ner_for_fem/data/DATA_FOR_BALANCED_NER/ng/5e33850771e3.ann', '/Users/linndfors/study/diploma/ner_for_fem/data/DATA_FOR_BALANCED_NER/ng/5111063957b7.ann', '/Users/linndfors/study/diploma/ner_for_fem/data/DATA_FOR_BALANCED_NER/ng/b645c9653d72.ann', '/Users/linndfors/study/diploma/ner_for_fem/data/DATA_FOR_BALANCED_NER/ng/3889f1eef7a7.ann', '/Users/linndfors/study/diploma/ner_for_fem/data/DATA_FOR_BALANCED_NER/ng/61267204736d.ann', '/Users/linndfors/study/diploma/ner_for_fem/data/DATA_FOR_BALANCED_NER/ng/e2e03aba8da3.ann', '/Users/linndfors/study/diploma/ner_for_fem/data/DATA_FOR_BALANCED_NER/ng/52a055482925.ann', '/Users/linndfors/study/diploma/ner_for_fem/data/DATA_FOR_BALANCED_NER/ng/59a9444d5c2d.ann', '/Users/linndfors/study/diploma/ner_for_fem/data/DATA_FOR_BALANCED_NER/ng/aae1500a7f12.ann', '/Users/linndfors/study/diploma/ner_for_fem/data/DATA_FOR_BALANCED_NER/ng/1a15fc79575f.ann', '/Users/linndfors/study/diploma/ner_for_fem/data/DATA_FOR_BALANCED_NER/ng/3aa7c6a81ddd.ann', '/Users/linndfors/study/diploma/ner_for_fem/data/DATA_FOR_BALANCED_NER/ng/a6b3166e4d3b.ann', '/Users/linndfors/study/diploma/ner_for_fem/data/DATA_FOR_BALANCED_NER/ng/64d0d60bba23.ann', '/Users/linndfors/study/diploma/ner_for_fem/data/DATA_FOR_BALANCED_NER/ng/e0c33f29a3ae.ann', '/Users/linndfors/study/diploma/ner_for_fem/data/DATA_FOR_BALANCED_NER/ng/ab66959f7440.ann', '/Users/linndfors/study/diploma/ner_for_fem/data/DATA_FOR_BALANCED_NER/ng/386f07b6aca3.ann', '/Users/linndfors/study/diploma/ner_for_fem/data/DATA_FOR_BALANCED_NER/ng/bd76ed4df58f.ann', '/Users/linndfors/study/diploma/ner_for_fem/data/DATA_FOR_BALANCED_NER/ng/5658ff392f11.ann', '/Users/linndfors/study/diploma/ner_for_fem/data/DATA_FOR_BALANCED_NER/ng/7516eb24dae3.ann', '/Users/linndfors/study/diploma/ner_for_fem/data/DATA_FOR_BALANCED_NER/ng/4bdc94abaa1c.ann']\n"
     ]
    },
    {
     "name": "stderr",
     "output_type": "stream",
     "text": [
      "100%|██████████| 279/279 [1:09:37<00:00, 14.97s/it]\n"
     ]
    }
   ],
   "source": [
    "ng_pers_dict = extract_pers_entities(\"/Users/linndfors/study/diploma/ner_for_fem/data/DATA_FOR_BALANCED_NER/ng\")\n",
    "ng_file_gender_pers_dict, ng_total_pers_counter, ng_pers_list = return_gendered_PERS_dict(ng_pers_dict)"
   ]
  },
  {
   "cell_type": "code",
   "execution_count": 278,
   "metadata": {},
   "outputs": [
    {
     "name": "stdout",
     "output_type": "stream",
     "text": [
      "total size: 1820\n",
      "================\n",
      "gender: male\n",
      "number of files for the gender: 252\n",
      "number of entities for the gender: 846\n",
      "The most popular entity: Сергій\n",
      "================\n",
      "================\n",
      "gender: female\n",
      "number of files for the gender: 158\n",
      "number of entities for the gender: 316\n",
      "The most popular entity: Олена\n",
      "================\n",
      "================\n",
      "gender: unknown_gender\n",
      "number of files for the gender: 205\n",
      "number of entities for the gender: 658\n",
      "The most popular entity: Ігоря\n",
      "================\n"
     ]
    }
   ],
   "source": [
    "return_gender_stat(ng_total_pers_counter, ng_file_gender_pers_dict)\n",
    "orig_ng_pers_female_files, orig_ng_pers_male_files, orig_ng_pers_common_files = split_files(ng_file_gender_pers_dict, \"/Users/linndfors/study/diploma/ner_for_fem/data/DATA_FOR_BALANCED_NER/ng\")"
   ]
  },
  {
   "cell_type": "code",
   "execution_count": 281,
   "metadata": {},
   "outputs": [
    {
     "data": {
      "text/plain": [
       "252"
      ]
     },
     "execution_count": 281,
     "metadata": {},
     "output_type": "execute_result"
    }
   ],
   "source": [
    "len(orig_ng_pers_male_files)"
   ]
  },
  {
   "cell_type": "markdown",
   "metadata": {},
   "source": [
    "### Move files"
   ]
  },
  {
   "cell_type": "markdown",
   "metadata": {},
   "source": [
    "orig ng"
   ]
  },
  {
   "cell_type": "code",
   "execution_count": null,
   "metadata": {},
   "outputs": [],
   "source": [
    "move_gender_files(orig_ng_pers_male_files, '/Users/linndfors/study/diploma/ner_for_fem/data/data_for_ner/data_for_ner_pers/data_for_ner_male/ng')\n",
    "move_gender_files(orig_ng_pers_female_files, '/Users/linndfors/study/diploma/ner_for_fem/data/data_for_ner/data_for_ner_pers/data_for_ner_female/ng')\n",
    "# move_gender_files(orig_ng_pers_common_files, '/Users/linndfors/study/diploma/ner_for_fem/data/data_for_ner/data_for_ner_pers/data_for_ner_common/ng')"
   ]
  },
  {
   "cell_type": "markdown",
   "metadata": {},
   "source": [
    "orig bruk"
   ]
  },
  {
   "cell_type": "code",
   "execution_count": null,
   "metadata": {},
   "outputs": [],
   "source": [
    "move_gender_files(orig_bruk_pers_male_files, '/Users/linndfors/study/diploma/ner_for_fem/data/data_for_ner/data_for_ner_pers/data_for_ner_male/bruk')\n",
    "move_gender_files(orig_bruk_pers_female_files, '/Users/linndfors/study/diploma/ner_for_fem/data/data_for_ner/data_for_ner_pers/data_for_ner_female/bruk')\n",
    "# move_gender_files(orig_bruk_pers_common_files, '/Users/linndfors/study/diploma/ner_for_fem/data/data_for_ner/data_for_ner_pers/data_for_ner_common/bruk')"
   ]
  },
  {
   "cell_type": "markdown",
   "metadata": {},
   "source": [
    "swapped ng"
   ]
  },
  {
   "cell_type": "code",
   "execution_count": 287,
   "metadata": {},
   "outputs": [],
   "source": [
    "move_gender_files(changed_ng_pers_male_files, '/Users/linndfors/study/diploma/ner_for_fem/data/data_for_ner/data_for_ner_pers/data_for_ner_male/ng_changed')\n",
    "move_gender_files(changed_ng_pers_female_files, '/Users/linndfors/study/diploma/ner_for_fem/data/data_for_ner/data_for_ner_pers/data_for_ner_female/ng_changed')\n",
    "# move_gender_files(changed_ng_pers_common_files, '/Users/linndfors/study/diploma/ner_for_fem/data/data_for_ner/data_for_ner_pers/data_for_ner_common/ng')"
   ]
  },
  {
   "cell_type": "markdown",
   "metadata": {},
   "source": [
    "swapped bruk"
   ]
  },
  {
   "cell_type": "code",
   "execution_count": 290,
   "metadata": {},
   "outputs": [],
   "source": [
    "move_gender_files(changed_bruk_pers_male_files, '/Users/linndfors/study/diploma/ner_for_fem/data/data_for_ner/data_for_ner_pers/data_for_ner_male/bruk_changed')\n",
    "move_gender_files(changed_bruk_pers_female_files, '/Users/linndfors/study/diploma/ner_for_fem/data/data_for_ner/data_for_ner_pers/data_for_ner_female/bruk_changed')\n",
    "# move_gender_files(orig_bruk_pers_common_files, '/Users/linndfors/study/diploma/ner_for_fem/data/data_for_ner/data_for_ner_pers/data_for_ner_common/bruk')"
   ]
  },
  {
   "cell_type": "markdown",
   "metadata": {},
   "source": [
    "## PERS for filtered dataset"
   ]
  },
  {
   "cell_type": "code",
   "execution_count": null,
   "metadata": {},
   "outputs": [],
   "source": [
    "ng_pers_dict = extract_pers_entities(\"/Users/linndfors/study/diploma/ner_for_fem/data/v2.0-swapped_filtering/data/ng\")\n",
    "ng_file_gender_pers_dict, ng_total_pers_counter, ng_pers_list = return_gendered_PERS_dict(ng_pers_dict)"
   ]
  },
  {
   "cell_type": "code",
   "execution_count": 60,
   "metadata": {},
   "outputs": [
    {
     "name": "stdout",
     "output_type": "stream",
     "text": [
      "total size: 1003\n",
      "================\n",
      "gender: male\n",
      "number of files for the gender: 80\n",
      "number of entities for the gender: 126\n",
      "percentage: 0.12562313060817548\n",
      "The most popular entity: Олександр\n",
      "================\n",
      "================\n",
      "gender: female\n",
      "number of files for the gender: 223\n",
      "number of entities for the gender: 604\n",
      "percentage: 0.6021934197407777\n",
      "The most popular entity: Олена\n",
      "================\n",
      "================\n",
      "gender: unknown_gender\n",
      "number of files for the gender: 139\n",
      "number of entities for the gender: 273\n",
      "percentage: 0.27218344965104685\n",
      "The most popular entity: Юлії\n",
      "================\n"
     ]
    }
   ],
   "source": [
    "return_gender_stat(ng_total_pers_counter, ng_file_gender_pers_dict)"
   ]
  },
  {
   "cell_type": "code",
   "execution_count": 64,
   "metadata": {},
   "outputs": [
    {
     "name": "stdout",
     "output_type": "stream",
     "text": [
      "['/Users/linndfors/study/diploma/ner_for_fem/data/v2.0-swapped_filtering/data/bruk/17d3d678df81-swapped.ann', '/Users/linndfors/study/diploma/ner_for_fem/data/v2.0-swapped_filtering/data/bruk/fabc18a7d8fd-swapped.ann', '/Users/linndfors/study/diploma/ner_for_fem/data/v2.0-swapped_filtering/data/bruk/85622bc925dc-swapped.ann', '/Users/linndfors/study/diploma/ner_for_fem/data/v2.0-swapped_filtering/data/bruk/cee02d4c030f-swapped.ann', '/Users/linndfors/study/diploma/ner_for_fem/data/v2.0-swapped_filtering/data/bruk/0b962bee49bc-swapped.ann', '/Users/linndfors/study/diploma/ner_for_fem/data/v2.0-swapped_filtering/data/bruk/aad4dce361f1-swapped.ann', '/Users/linndfors/study/diploma/ner_for_fem/data/v2.0-swapped_filtering/data/bruk/ea3fab248fbe-swapped.ann', '/Users/linndfors/study/diploma/ner_for_fem/data/v2.0-swapped_filtering/data/bruk/326978d2c58c-swapped.ann', '/Users/linndfors/study/diploma/ner_for_fem/data/v2.0-swapped_filtering/data/bruk/0d902430768c-swapped.ann', '/Users/linndfors/study/diploma/ner_for_fem/data/v2.0-swapped_filtering/data/bruk/a616672f4a8b-swapped.ann', '/Users/linndfors/study/diploma/ner_for_fem/data/v2.0-swapped_filtering/data/bruk/7b2c9399fee9-swapped.ann', '/Users/linndfors/study/diploma/ner_for_fem/data/v2.0-swapped_filtering/data/bruk/a196488351f6-swapped.ann', '/Users/linndfors/study/diploma/ner_for_fem/data/v2.0-swapped_filtering/data/bruk/ef1b6bd52747-swapped.ann', '/Users/linndfors/study/diploma/ner_for_fem/data/v2.0-swapped_filtering/data/bruk/755c890a06fb-swapped.ann', '/Users/linndfors/study/diploma/ner_for_fem/data/v2.0-swapped_filtering/data/bruk/9494fddb0caa-swapped.ann', '/Users/linndfors/study/diploma/ner_for_fem/data/v2.0-swapped_filtering/data/bruk/5e10574a909c-swapped.ann', '/Users/linndfors/study/diploma/ner_for_fem/data/v2.0-swapped_filtering/data/bruk/1c37d315923c-swapped.ann', '/Users/linndfors/study/diploma/ner_for_fem/data/v2.0-swapped_filtering/data/bruk/b09a79bafe6c-swapped.ann', '/Users/linndfors/study/diploma/ner_for_fem/data/v2.0-swapped_filtering/data/bruk/6e4853575182-swapped.ann', '/Users/linndfors/study/diploma/ner_for_fem/data/v2.0-swapped_filtering/data/bruk/d530671576f8-swapped.ann', '/Users/linndfors/study/diploma/ner_for_fem/data/v2.0-swapped_filtering/data/bruk/cad2484c0cc8-swapped.ann', '/Users/linndfors/study/diploma/ner_for_fem/data/v2.0-swapped_filtering/data/bruk/5a75a46fecdf-swapped.ann', '/Users/linndfors/study/diploma/ner_for_fem/data/v2.0-swapped_filtering/data/bruk/d3669729136c-swapped.ann', '/Users/linndfors/study/diploma/ner_for_fem/data/v2.0-swapped_filtering/data/bruk/f4ca58272dbf-swapped.ann', '/Users/linndfors/study/diploma/ner_for_fem/data/v2.0-swapped_filtering/data/bruk/e8188caa466c-swapped.ann', '/Users/linndfors/study/diploma/ner_for_fem/data/v2.0-swapped_filtering/data/bruk/15238b87db03-swapped.ann', '/Users/linndfors/study/diploma/ner_for_fem/data/v2.0-swapped_filtering/data/bruk/2846bf1d66a8-swapped.ann', '/Users/linndfors/study/diploma/ner_for_fem/data/v2.0-swapped_filtering/data/bruk/e9061171da9d-swapped.ann', '/Users/linndfors/study/diploma/ner_for_fem/data/v2.0-swapped_filtering/data/bruk/5764f733fff2-swapped.ann', '/Users/linndfors/study/diploma/ner_for_fem/data/v2.0-swapped_filtering/data/bruk/8cc49a8b2d76-swapped.ann', '/Users/linndfors/study/diploma/ner_for_fem/data/v2.0-swapped_filtering/data/bruk/1c325fde9ed4-swapped.ann', '/Users/linndfors/study/diploma/ner_for_fem/data/v2.0-swapped_filtering/data/bruk/4b1efc986bb8-swapped.ann', '/Users/linndfors/study/diploma/ner_for_fem/data/v2.0-swapped_filtering/data/bruk/710044df1fe0-swapped.ann', '/Users/linndfors/study/diploma/ner_for_fem/data/v2.0-swapped_filtering/data/bruk/dcbb9ddb4aaa-swapped.ann', '/Users/linndfors/study/diploma/ner_for_fem/data/v2.0-swapped_filtering/data/bruk/d30e0fb50f0f-swapped.ann', '/Users/linndfors/study/diploma/ner_for_fem/data/v2.0-swapped_filtering/data/bruk/09d6a57532b6-swapped.ann', '/Users/linndfors/study/diploma/ner_for_fem/data/v2.0-swapped_filtering/data/bruk/f161f5134505-swapped.ann', '/Users/linndfors/study/diploma/ner_for_fem/data/v2.0-swapped_filtering/data/bruk/92d38b895fa4-swapped.ann', '/Users/linndfors/study/diploma/ner_for_fem/data/v2.0-swapped_filtering/data/bruk/b87576a7425a-swapped.ann', '/Users/linndfors/study/diploma/ner_for_fem/data/v2.0-swapped_filtering/data/bruk/bdda872d3ef9-swapped.ann', '/Users/linndfors/study/diploma/ner_for_fem/data/v2.0-swapped_filtering/data/bruk/bf4968831cc7-swapped.ann', '/Users/linndfors/study/diploma/ner_for_fem/data/v2.0-swapped_filtering/data/bruk/e5e76a8efa0f-swapped.ann', '/Users/linndfors/study/diploma/ner_for_fem/data/v2.0-swapped_filtering/data/bruk/efc2665e4bed-swapped.ann', '/Users/linndfors/study/diploma/ner_for_fem/data/v2.0-swapped_filtering/data/bruk/0ac5140eb732-swapped.ann', '/Users/linndfors/study/diploma/ner_for_fem/data/v2.0-swapped_filtering/data/bruk/547ce681ada8-swapped.ann', '/Users/linndfors/study/diploma/ner_for_fem/data/v2.0-swapped_filtering/data/bruk/132368095bab-swapped.ann', '/Users/linndfors/study/diploma/ner_for_fem/data/v2.0-swapped_filtering/data/bruk/6b60e6fb3d78-swapped.ann', '/Users/linndfors/study/diploma/ner_for_fem/data/v2.0-swapped_filtering/data/bruk/9fbfe077a27a-swapped.ann', '/Users/linndfors/study/diploma/ner_for_fem/data/v2.0-swapped_filtering/data/bruk/257fca043205-swapped.ann', '/Users/linndfors/study/diploma/ner_for_fem/data/v2.0-swapped_filtering/data/bruk/3f4bafb349ae-swapped.ann', '/Users/linndfors/study/diploma/ner_for_fem/data/v2.0-swapped_filtering/data/bruk/f5bb37569413-swapped.ann', '/Users/linndfors/study/diploma/ner_for_fem/data/v2.0-swapped_filtering/data/bruk/27a1722d517c-swapped.ann', '/Users/linndfors/study/diploma/ner_for_fem/data/v2.0-swapped_filtering/data/bruk/b84c8a869b51-swapped.ann', '/Users/linndfors/study/diploma/ner_for_fem/data/v2.0-swapped_filtering/data/bruk/647a3f078f3f-swapped.ann', '/Users/linndfors/study/diploma/ner_for_fem/data/v2.0-swapped_filtering/data/bruk/c28168a23912-swapped.ann', '/Users/linndfors/study/diploma/ner_for_fem/data/v2.0-swapped_filtering/data/bruk/a1a77d3d5b33-swapped.ann', '/Users/linndfors/study/diploma/ner_for_fem/data/v2.0-swapped_filtering/data/bruk/a487d1895726-swapped.ann', '/Users/linndfors/study/diploma/ner_for_fem/data/v2.0-swapped_filtering/data/bruk/b576ac602665-swapped.ann', '/Users/linndfors/study/diploma/ner_for_fem/data/v2.0-swapped_filtering/data/bruk/e21ddb9efb07-swapped.ann', '/Users/linndfors/study/diploma/ner_for_fem/data/v2.0-swapped_filtering/data/bruk/3ba7ca929d68-swapped.ann', '/Users/linndfors/study/diploma/ner_for_fem/data/v2.0-swapped_filtering/data/bruk/9d4b90129d10-swapped.ann', '/Users/linndfors/study/diploma/ner_for_fem/data/v2.0-swapped_filtering/data/bruk/e1dbe335e762-swapped.ann', '/Users/linndfors/study/diploma/ner_for_fem/data/v2.0-swapped_filtering/data/bruk/fad2422a7bf3-swapped.ann', '/Users/linndfors/study/diploma/ner_for_fem/data/v2.0-swapped_filtering/data/bruk/f9a926049262-swapped.ann', '/Users/linndfors/study/diploma/ner_for_fem/data/v2.0-swapped_filtering/data/bruk/b381bc7842b1-swapped.ann', '/Users/linndfors/study/diploma/ner_for_fem/data/v2.0-swapped_filtering/data/bruk/dc25535e13d7-swapped.ann', '/Users/linndfors/study/diploma/ner_for_fem/data/v2.0-swapped_filtering/data/bruk/d3d5522aa52e-swapped.ann', '/Users/linndfors/study/diploma/ner_for_fem/data/v2.0-swapped_filtering/data/bruk/c0c436cc9cb6-swapped.ann', '/Users/linndfors/study/diploma/ner_for_fem/data/v2.0-swapped_filtering/data/bruk/8951230172d0-swapped.ann', '/Users/linndfors/study/diploma/ner_for_fem/data/v2.0-swapped_filtering/data/bruk/e023d6d6f1a3-swapped.ann', '/Users/linndfors/study/diploma/ner_for_fem/data/v2.0-swapped_filtering/data/bruk/066ec5f0dea6-swapped.ann', '/Users/linndfors/study/diploma/ner_for_fem/data/v2.0-swapped_filtering/data/bruk/7b7daaeb9d7d-swapped.ann', '/Users/linndfors/study/diploma/ner_for_fem/data/v2.0-swapped_filtering/data/bruk/561acef3f531-swapped.ann', '/Users/linndfors/study/diploma/ner_for_fem/data/v2.0-swapped_filtering/data/bruk/5085bb95b51a-swapped.ann', '/Users/linndfors/study/diploma/ner_for_fem/data/v2.0-swapped_filtering/data/bruk/f495f41dfa02-swapped.ann', '/Users/linndfors/study/diploma/ner_for_fem/data/v2.0-swapped_filtering/data/bruk/e3c7064319e0-swapped.ann', '/Users/linndfors/study/diploma/ner_for_fem/data/v2.0-swapped_filtering/data/bruk/232be2c6b5c2-swapped.ann', '/Users/linndfors/study/diploma/ner_for_fem/data/v2.0-swapped_filtering/data/bruk/fc8f156aa82b-swapped.ann', '/Users/linndfors/study/diploma/ner_for_fem/data/v2.0-swapped_filtering/data/bruk/52049bc57554-swapped.ann', '/Users/linndfors/study/diploma/ner_for_fem/data/v2.0-swapped_filtering/data/bruk/06d78909a7ab-swapped.ann', '/Users/linndfors/study/diploma/ner_for_fem/data/v2.0-swapped_filtering/data/bruk/e0493ec8466b-swapped.ann', '/Users/linndfors/study/diploma/ner_for_fem/data/v2.0-swapped_filtering/data/bruk/10a2da5c514c-swapped.ann', '/Users/linndfors/study/diploma/ner_for_fem/data/v2.0-swapped_filtering/data/bruk/ff069c11e13d-swapped.ann', '/Users/linndfors/study/diploma/ner_for_fem/data/v2.0-swapped_filtering/data/bruk/bc755153f4f7-swapped.ann', '/Users/linndfors/study/diploma/ner_for_fem/data/v2.0-swapped_filtering/data/bruk/13e0cb95075a-swapped.ann', '/Users/linndfors/study/diploma/ner_for_fem/data/v2.0-swapped_filtering/data/bruk/79812f4abec1-swapped.ann', '/Users/linndfors/study/diploma/ner_for_fem/data/v2.0-swapped_filtering/data/bruk/c0f24f5d70e3-swapped.ann', '/Users/linndfors/study/diploma/ner_for_fem/data/v2.0-swapped_filtering/data/bruk/e010e86e436c-swapped.ann', '/Users/linndfors/study/diploma/ner_for_fem/data/v2.0-swapped_filtering/data/bruk/2cc21b456aad-swapped.ann', '/Users/linndfors/study/diploma/ner_for_fem/data/v2.0-swapped_filtering/data/bruk/5a0aedfe0f5d-swapped.ann', '/Users/linndfors/study/diploma/ner_for_fem/data/v2.0-swapped_filtering/data/bruk/9df8bcf8e17e-swapped.ann', '/Users/linndfors/study/diploma/ner_for_fem/data/v2.0-swapped_filtering/data/bruk/1448663b16b2-swapped.ann', '/Users/linndfors/study/diploma/ner_for_fem/data/v2.0-swapped_filtering/data/bruk/2fc890744f7c-swapped.ann', '/Users/linndfors/study/diploma/ner_for_fem/data/v2.0-swapped_filtering/data/bruk/0046ebeff13e-swapped.ann', '/Users/linndfors/study/diploma/ner_for_fem/data/v2.0-swapped_filtering/data/bruk/f4136bfda19a-swapped.ann', '/Users/linndfors/study/diploma/ner_for_fem/data/v2.0-swapped_filtering/data/bruk/87ae82667e2a-swapped.ann', '/Users/linndfors/study/diploma/ner_for_fem/data/v2.0-swapped_filtering/data/bruk/5207847a2e1d-swapped.ann', '/Users/linndfors/study/diploma/ner_for_fem/data/v2.0-swapped_filtering/data/bruk/2298b6b41bec-swapped.ann', '/Users/linndfors/study/diploma/ner_for_fem/data/v2.0-swapped_filtering/data/bruk/548f66f38090-swapped.ann', '/Users/linndfors/study/diploma/ner_for_fem/data/v2.0-swapped_filtering/data/bruk/91024fa21059-swapped.ann', '/Users/linndfors/study/diploma/ner_for_fem/data/v2.0-swapped_filtering/data/bruk/46ae77c0ec97-swapped.ann', '/Users/linndfors/study/diploma/ner_for_fem/data/v2.0-swapped_filtering/data/bruk/38603af07530-swapped.ann', '/Users/linndfors/study/diploma/ner_for_fem/data/v2.0-swapped_filtering/data/bruk/b019e9b8d51d-swapped.ann', '/Users/linndfors/study/diploma/ner_for_fem/data/v2.0-swapped_filtering/data/bruk/624df1293f3d-swapped.ann', '/Users/linndfors/study/diploma/ner_for_fem/data/v2.0-swapped_filtering/data/bruk/6b5d4229b548-swapped.ann', '/Users/linndfors/study/diploma/ner_for_fem/data/v2.0-swapped_filtering/data/bruk/c375246adb0a-swapped.ann', '/Users/linndfors/study/diploma/ner_for_fem/data/v2.0-swapped_filtering/data/bruk/b987128d15d3-swapped.ann', '/Users/linndfors/study/diploma/ner_for_fem/data/v2.0-swapped_filtering/data/bruk/b3c847570902-swapped.ann', '/Users/linndfors/study/diploma/ner_for_fem/data/v2.0-swapped_filtering/data/bruk/66395d7c394b-swapped.ann', '/Users/linndfors/study/diploma/ner_for_fem/data/v2.0-swapped_filtering/data/bruk/74a7e2a340dd-swapped.ann', '/Users/linndfors/study/diploma/ner_for_fem/data/v2.0-swapped_filtering/data/bruk/766e1942f398-swapped.ann', '/Users/linndfors/study/diploma/ner_for_fem/data/v2.0-swapped_filtering/data/bruk/937c38344fdf-swapped.ann', '/Users/linndfors/study/diploma/ner_for_fem/data/v2.0-swapped_filtering/data/bruk/bd86f567c746-swapped.ann', '/Users/linndfors/study/diploma/ner_for_fem/data/v2.0-swapped_filtering/data/bruk/18ec3aea7ed7-swapped.ann', '/Users/linndfors/study/diploma/ner_for_fem/data/v2.0-swapped_filtering/data/bruk/71a651d2dbec-swapped.ann', '/Users/linndfors/study/diploma/ner_for_fem/data/v2.0-swapped_filtering/data/bruk/5710814a4a84-swapped.ann', '/Users/linndfors/study/diploma/ner_for_fem/data/v2.0-swapped_filtering/data/bruk/d08ea0bbac66-swapped.ann', '/Users/linndfors/study/diploma/ner_for_fem/data/v2.0-swapped_filtering/data/bruk/17fbae84faea-swapped.ann', '/Users/linndfors/study/diploma/ner_for_fem/data/v2.0-swapped_filtering/data/bruk/c3402705f448-swapped.ann', '/Users/linndfors/study/diploma/ner_for_fem/data/v2.0-swapped_filtering/data/bruk/1ed3fef56c8f-swapped.ann', '/Users/linndfors/study/diploma/ner_for_fem/data/v2.0-swapped_filtering/data/bruk/dc1202fd9850-swapped.ann', '/Users/linndfors/study/diploma/ner_for_fem/data/v2.0-swapped_filtering/data/bruk/47eb526780b0-swapped.ann', '/Users/linndfors/study/diploma/ner_for_fem/data/v2.0-swapped_filtering/data/bruk/d81f996d0ab8-swapped.ann', '/Users/linndfors/study/diploma/ner_for_fem/data/v2.0-swapped_filtering/data/bruk/164940c99b86-swapped.ann', '/Users/linndfors/study/diploma/ner_for_fem/data/v2.0-swapped_filtering/data/bruk/d07dfb774c28-swapped.ann', '/Users/linndfors/study/diploma/ner_for_fem/data/v2.0-swapped_filtering/data/bruk/f958ce8bb461-swapped.ann']\n"
     ]
    },
    {
     "name": "stderr",
     "output_type": "stream",
     "text": [
      "100%|██████████| 91/91 [09:49<00:00,  6.48s/it]\n"
     ]
    }
   ],
   "source": [
    "bruk_pers_dict = extract_pers_entities(\"/Users/linndfors/study/diploma/ner_for_fem/data/v2.0-swapped_filtering/data/bruk\")\n",
    "bruk_file_gender_pers_dict, bruk_total_pers_counter, bruk_pers_list = return_gendered_PERS_dict(bruk_pers_dict)"
   ]
  },
  {
   "cell_type": "code",
   "execution_count": 65,
   "metadata": {},
   "outputs": [
    {
     "name": "stdout",
     "output_type": "stream",
     "text": [
      "total size: 279\n",
      "================\n",
      "gender: male\n",
      "number of files for the gender: 25\n",
      "number of entities for the gender: 30\n",
      "percentage: 0.10752688172043011\n",
      "The most popular entity: Василь\n",
      "================\n",
      "================\n",
      "gender: female\n",
      "number of files for the gender: 65\n",
      "number of entities for the gender: 126\n",
      "percentage: 0.45161290322580644\n",
      "The most popular entity: Олександра\n",
      "================\n",
      "================\n",
      "gender: unknown_gender\n",
      "number of files for the gender: 46\n",
      "number of entities for the gender: 123\n",
      "percentage: 0.44086021505376344\n",
      "The most popular entity: Т\n",
      "================\n"
     ]
    }
   ],
   "source": [
    "return_gender_stat(bruk_total_pers_counter, bruk_file_gender_pers_dict)"
   ]
  },
  {
   "cell_type": "code",
   "execution_count": 71,
   "metadata": {},
   "outputs": [
    {
     "name": "stdout",
     "output_type": "stream",
     "text": [
      "total: 1282\n",
      "male: 156\n",
      "female: 730\n",
      "unknown: 396\n"
     ]
    }
   ],
   "source": [
    "print(\"total:\", 1282)\n",
    "print(\"male:\", 126 + 30)\n",
    "print(\"female:\", 604 + 126)\n",
    "print(\"unknown:\", 123 + 273)"
   ]
  }
 ],
 "metadata": {
  "kernelspec": {
   "display_name": "new_venv",
   "language": "python",
   "name": "python3"
  },
  "language_info": {
   "codemirror_mode": {
    "name": "ipython",
    "version": 3
   },
   "file_extension": ".py",
   "mimetype": "text/x-python",
   "name": "python",
   "nbconvert_exporter": "python",
   "pygments_lexer": "ipython3",
   "version": "3.10.16"
  }
 },
 "nbformat": 4,
 "nbformat_minor": 2
}
