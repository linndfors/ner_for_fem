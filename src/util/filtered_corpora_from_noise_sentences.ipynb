{
 "cells": [
  {
   "cell_type": "code",
   "execution_count": 1,
   "id": "ea73b2ce",
   "metadata": {},
   "outputs": [],
   "source": [
    "import pandas as pd"
   ]
  },
  {
   "cell_type": "code",
   "execution_count": 31,
   "id": "0441ecea",
   "metadata": {},
   "outputs": [],
   "source": [
    "bruk_sents = pd.read_csv(\"/Users/linndfors/study/diploma/ner_for_fem/data/csv_files_with_par_sentences/bruk_parallel.csv\")\n",
    "ng_sents = pd.read_csv(\"/Users/linndfors/study/diploma/ner_for_fem/data/csv_files_with_par_sentences/ng_parallel.csv\")"
   ]
  },
  {
   "cell_type": "code",
   "execution_count": 6,
   "id": "b3fbddea",
   "metadata": {},
   "outputs": [
    {
     "data": {
      "text/html": [
       "<div>\n",
       "<style scoped>\n",
       "    .dataframe tbody tr th:only-of-type {\n",
       "        vertical-align: middle;\n",
       "    }\n",
       "\n",
       "    .dataframe tbody tr th {\n",
       "        vertical-align: top;\n",
       "    }\n",
       "\n",
       "    .dataframe thead th {\n",
       "        text-align: right;\n",
       "    }\n",
       "</style>\n",
       "<table border=\"1\" class=\"dataframe\">\n",
       "  <thead>\n",
       "    <tr style=\"text-align: right;\">\n",
       "      <th></th>\n",
       "      <th>original_sentence</th>\n",
       "      <th>orig_sent_id</th>\n",
       "      <th>changed_sentence</th>\n",
       "      <th>changed_sent_id</th>\n",
       "      <th>original_file_name</th>\n",
       "      <th>orig_ann</th>\n",
       "      <th>changed_ann</th>\n",
       "    </tr>\n",
       "  </thead>\n",
       "  <tbody>\n",
       "    <tr>\n",
       "      <th>0</th>\n",
       "      <td>Його редактором був поет-символіст Яків Савчен...</td>\n",
       "      <td>46</td>\n",
       "      <td>Його редакторкою була поетеса-символістка Анже...</td>\n",
       "      <td>46</td>\n",
       "      <td>e5e76a8efa0f.txt</td>\n",
       "      <td>{'T30': ('поет-символіст', 'JOB')}</td>\n",
       "      <td>{'T30': ('поетеса-символістка', 'JOB')}</td>\n",
       "    </tr>\n",
       "    <tr>\n",
       "      <th>1</th>\n",
       "      <td>Міжпредметні паралелі . Маніфест футуристів ск...</td>\n",
       "      <td>62</td>\n",
       "      <td>Міжпредметні паралелі . Маніфест футуристок ск...</td>\n",
       "      <td>62</td>\n",
       "      <td>e5e76a8efa0f.txt</td>\n",
       "      <td>{'T49': ('поет', 'JOB')}</td>\n",
       "      <td>{'T49': ('поетеса', 'JOB')}</td>\n",
       "    </tr>\n",
       "    <tr>\n",
       "      <th>2</th>\n",
       "      <td>Помітною була організація « Гарт » ( 1923 — 19...</td>\n",
       "      <td>96</td>\n",
       "      <td>Помітною була організація « Гарт » ( 1923 — 19...</td>\n",
       "      <td>96</td>\n",
       "      <td>e5e76a8efa0f.txt</td>\n",
       "      <td>{'T104': ('поет', 'JOB')}</td>\n",
       "      <td>{'T104': ('поетка', 'JOB')}</td>\n",
       "    </tr>\n",
       "    <tr>\n",
       "      <th>3</th>\n",
       "      <td>Її очолив байкар і прозаїк Сергій Пилипенко .</td>\n",
       "      <td>127</td>\n",
       "      <td>Її очолила байкарка і прозаїкиня Марія Пилипен...</td>\n",
       "      <td>127</td>\n",
       "      <td>e5e76a8efa0f.txt</td>\n",
       "      <td>{'T143': ('байкар', 'JOB'), 'T144': ('прозаїк'...</td>\n",
       "      <td>{'T143': ('байкарка', 'JOB'), 'T144': ('прозаї...</td>\n",
       "    </tr>\n",
       "    <tr>\n",
       "      <th>4</th>\n",
       "      <td>У Галицько-Волинському літописі згадується спі...</td>\n",
       "      <td>171</td>\n",
       "      <td>У Галицько-Волинському літописі згадується спі...</td>\n",
       "      <td>171</td>\n",
       "      <td>e5e76a8efa0f.txt</td>\n",
       "      <td>{'T218': ('співець', 'JOB')}</td>\n",
       "      <td>{'T218': ('співчиня', 'JOB')}</td>\n",
       "    </tr>\n",
       "  </tbody>\n",
       "</table>\n",
       "</div>"
      ],
      "text/plain": [
       "                                   original_sentence  orig_sent_id  \\\n",
       "0  Його редактором був поет-символіст Яків Савчен...            46   \n",
       "1  Міжпредметні паралелі . Маніфест футуристів ск...            62   \n",
       "2  Помітною була організація « Гарт » ( 1923 — 19...            96   \n",
       "3      Її очолив байкар і прозаїк Сергій Пилипенко .           127   \n",
       "4  У Галицько-Волинському літописі згадується спі...           171   \n",
       "\n",
       "                                    changed_sentence  changed_sent_id  \\\n",
       "0  Його редакторкою була поетеса-символістка Анже...               46   \n",
       "1  Міжпредметні паралелі . Маніфест футуристок ск...               62   \n",
       "2  Помітною була організація « Гарт » ( 1923 — 19...               96   \n",
       "3  Її очолила байкарка і прозаїкиня Марія Пилипен...              127   \n",
       "4  У Галицько-Волинському літописі згадується спі...              171   \n",
       "\n",
       "  original_file_name                                           orig_ann  \\\n",
       "0   e5e76a8efa0f.txt                 {'T30': ('поет-символіст', 'JOB')}   \n",
       "1   e5e76a8efa0f.txt                           {'T49': ('поет', 'JOB')}   \n",
       "2   e5e76a8efa0f.txt                          {'T104': ('поет', 'JOB')}   \n",
       "3   e5e76a8efa0f.txt  {'T143': ('байкар', 'JOB'), 'T144': ('прозаїк'...   \n",
       "4   e5e76a8efa0f.txt                       {'T218': ('співець', 'JOB')}   \n",
       "\n",
       "                                         changed_ann  \n",
       "0            {'T30': ('поетеса-символістка', 'JOB')}  \n",
       "1                        {'T49': ('поетеса', 'JOB')}  \n",
       "2                        {'T104': ('поетка', 'JOB')}  \n",
       "3  {'T143': ('байкарка', 'JOB'), 'T144': ('прозаї...  \n",
       "4                      {'T218': ('співчиня', 'JOB')}  "
      ]
     },
     "execution_count": 6,
     "metadata": {},
     "output_type": "execute_result"
    }
   ],
   "source": [
    "bruk_sents.head()"
   ]
  },
  {
   "cell_type": "code",
   "execution_count": 38,
   "id": "21a62e74",
   "metadata": {},
   "outputs": [],
   "source": [
    "all_sentences = pd.concat([bruk_sents, ng_sents])"
   ]
  },
  {
   "cell_type": "code",
   "execution_count": 7,
   "id": "83f80d89",
   "metadata": {},
   "outputs": [],
   "source": [
    "test_swapped = pd.read_csv(\"/Users/linndfors/study/diploma/ner_for_fem/data/utils_files/test_swapped.csv\", index_col=0)\n",
    "dev_swapped = pd.read_csv(\"/Users/linndfors/study/diploma/ner_for_fem/data/utils_files/dev_swapped.csv\", index_col=0)\n",
    "df_after_annotation = pd.concat([dev_swapped, test_swapped]).reset_index()"
   ]
  },
  {
   "cell_type": "code",
   "execution_count": 20,
   "id": "c311cd4e",
   "metadata": {},
   "outputs": [],
   "source": [
    "doubled_sents = []\n",
    "\n",
    "for x, row in df_after_annotation.iterrows():\n",
    "    if row['Оригінальне речення'] == row['Змінене речення'] and row['Коректність речення'] == 'Правильне':\n",
    "        doubled_sents.append(row['Оригінальне речення'])"
   ]
  },
  {
   "cell_type": "code",
   "execution_count": 23,
   "id": "6aa23d1e",
   "metadata": {},
   "outputs": [],
   "source": [
    "dismiss_sents = list(df_after_annotation[df_after_annotation['Коректність речення']=='Важко визначити']['Оригінальне речення'].values)"
   ]
  },
  {
   "cell_type": "code",
   "execution_count": 17,
   "id": "d0ed3f2f",
   "metadata": {},
   "outputs": [
    {
     "data": {
      "text/plain": [
       "59"
      ]
     },
     "execution_count": 17,
     "metadata": {},
     "output_type": "execute_result"
    }
   ],
   "source": [
    "len(dismiss_sents)"
   ]
  },
  {
   "cell_type": "code",
   "execution_count": 25,
   "id": "4c110e9a",
   "metadata": {},
   "outputs": [],
   "source": [
    "bad_sentes_need_to_be_removed = dismiss_sents + doubled_sents"
   ]
  },
  {
   "cell_type": "code",
   "execution_count": 26,
   "id": "0485dfcd",
   "metadata": {},
   "outputs": [
    {
     "data": {
      "text/plain": [
       "119"
      ]
     },
     "execution_count": 26,
     "metadata": {},
     "output_type": "execute_result"
    }
   ],
   "source": [
    "len(bad_sentes_need_to_be_removed)"
   ]
  },
  {
   "cell_type": "markdown",
   "id": "c97921a2",
   "metadata": {},
   "source": [
    "## Filter par sentences"
   ]
  },
  {
   "cell_type": "code",
   "execution_count": 40,
   "id": "9b48a463",
   "metadata": {},
   "outputs": [
    {
     "data": {
      "text/plain": [
       "(1513, 7)"
      ]
     },
     "execution_count": 40,
     "metadata": {},
     "output_type": "execute_result"
    }
   ],
   "source": [
    "all_sentences.shape"
   ]
  },
  {
   "cell_type": "code",
   "execution_count": 42,
   "id": "b5ebc97d",
   "metadata": {},
   "outputs": [],
   "source": [
    "all_sentences_filtered = all_sentences[\n",
    "    (~all_sentences['original_sentence'].isin(doubled_sents)) &\n",
    "    (~all_sentences['original_sentence'].isin(dismiss_sents))\n",
    "]\n"
   ]
  },
  {
   "cell_type": "code",
   "execution_count": 43,
   "id": "2a28aad1",
   "metadata": {},
   "outputs": [
    {
     "data": {
      "text/plain": [
       "(1403, 7)"
      ]
     },
     "execution_count": 43,
     "metadata": {},
     "output_type": "execute_result"
    }
   ],
   "source": [
    "all_sentences_filtered.shape"
   ]
  },
  {
   "cell_type": "code",
   "execution_count": 45,
   "id": "8cc6e043",
   "metadata": {},
   "outputs": [],
   "source": [
    "all_sentences_filtered.to_csv(\"all_parallel_sentence_both_datasets_with_filenames_and_labels.csv\", index=0)"
   ]
  },
  {
   "cell_type": "markdown",
   "id": "18068a47",
   "metadata": {},
   "source": [
    "## Find files with bad sentences"
   ]
  },
  {
   "cell_type": "code",
   "execution_count": null,
   "id": "4d58cd96",
   "metadata": {},
   "outputs": [],
   "source": [
    "bruk_sent_c, ng_sents_c = {}, {}\n",
    "\n",
    "for bad_sent in bad_sentes_need_to_be_removed:\n",
    "\n",
    "    if bad_sent in ng_sents['original_sentence'].values:\n",
    "\n",
    "        filename = ng_sents[ng_sents['original_sentence']==bad_sent]['original_file_name'].iloc[0]\n",
    "\n",
    "        if filename in ng_sents_c.keys():\n",
    "            ng_sents_c[filename].append(bad_sent)\n",
    "        else:\n",
    "            ng_sents_c[filename] = [bad_sent]\n",
    "\n",
    "    elif bad_sent in bruk_sents['original_sentence'].values:\n",
    "\n",
    "        filename = bruk_sents[bruk_sents['original_sentence']==bad_sent]['original_file_name'].iloc[0]\n",
    "\n",
    "        if filename in bruk_sent_c.keys():\n",
    "            bruk_sent_c[filename].append(bad_sent)\n",
    "        else:\n",
    "            bruk_sent_c[filename] = [bad_sent]"
   ]
  },
  {
   "cell_type": "code",
   "execution_count": null,
   "id": "dcb31891",
   "metadata": {},
   "outputs": [],
   "source": [
    "import os\n",
    "\n",
    "def update_ann_for_removed_sentences(txt_path, ann_path, sentences_to_remove):\n",
    "    with open(txt_path, \"r\", encoding=\"utf-8\") as f:\n",
    "        original_text = f.read()\n",
    "\n",
    "    sentences = original_text.split('\\n')\n",
    "    sentence_spans = []\n",
    "    start = 0\n",
    "    for s in sentences:\n",
    "        end = start + len(s)\n",
    "        sentence_spans.append((start, end))\n",
    "        start = end + 1\n",
    "\n",
    "    sentences_to_remove_set = set(sentences_to_remove)\n",
    "    removed_spans = []\n",
    "    shift_mapping = {}\n",
    "    new_sentences = []\n",
    "    current_index = 0\n",
    "\n",
    "    for s, (start, end) in zip(sentences, sentence_spans):\n",
    "        if s in sentences_to_remove_set:\n",
    "            removed_spans.append((start, end))\n",
    "            continue\n",
    "        new_sentences.append(s)\n",
    "        shift_mapping[(start, end)] = (current_index, current_index + len(s))\n",
    "        current_index += len(s) + 1\n",
    "\n",
    "    new_text = '\\n'.join(new_sentences)\n",
    "\n",
    "    updated_ann_lines = []\n",
    "    new_tid_counter = 1\n",
    "\n",
    "    with open(ann_path, \"r\", encoding=\"utf-8\") as f:\n",
    "        for line in f:\n",
    "            if not line.startswith(\"T\"):\n",
    "                updated_ann_lines.append(line.strip())\n",
    "                continue\n",
    "\n",
    "            parts = line.strip().split('\\t')\n",
    "            if len(parts) != 5:\n",
    "                continue\n",
    "\n",
    "            tid, label, start_str, end_str, entity = parts\n",
    "            start, end = int(start_str), int(end_str)\n",
    "\n",
    "            if any(rs <= start < re or rs < end <= re or (start <= rs and end >= re) for (rs, re) in removed_spans):\n",
    "                continue\n",
    "\n",
    "            for (orig_start, orig_end), (new_start, _) in shift_mapping.items():\n",
    "                if orig_start <= start < orig_end:\n",
    "                    offset = new_start - orig_start\n",
    "                    new_ann_start = start + offset\n",
    "                    new_ann_end = end + offset\n",
    "                    new_tid = f\"T{new_tid_counter}\"\n",
    "                    new_line = f\"{new_tid}\\t{label}\\t{new_ann_start}\\t{new_ann_end}\\t{entity}\"\n",
    "                    updated_ann_lines.append(new_line)\n",
    "                    new_tid_counter += 1\n",
    "                    break\n",
    "\n",
    "    with open(txt_path, \"w\", encoding=\"utf-8\") as f:\n",
    "        f.write(new_text)\n",
    "    with open(ann_path, \"w\", encoding=\"utf-8\") as f:\n",
    "        f.write('\\n'.join(updated_ann_lines) + '\\n')\n",
    "\n",
    "    print(f\"✅ Updated files saved to:\\n- {txt_path}\\n- {ann_path}\")\n"
   ]
  },
  {
   "cell_type": "code",
   "execution_count": 61,
   "id": "113a4df7",
   "metadata": {},
   "outputs": [],
   "source": [
    "def get_deleted_sentence_lengths(file_path, delete_list):\n",
    "    sentence_lengths = []\n",
    "\n",
    "    with open(file_path, 'r', encoding='utf-8') as f:\n",
    "        sentences = f.read().split('\\n')\n",
    "\n",
    "    for sentence in sentences:\n",
    "        if sentence in delete_list:\n",
    "            print(len(sentence) + 1, sentence)\n",
    "\n",
    "    return sentence_lengths"
   ]
  }
 ],
 "metadata": {
  "kernelspec": {
   "display_name": "new_venv",
   "language": "python",
   "name": "python3"
  },
  "language_info": {
   "codemirror_mode": {
    "name": "ipython",
    "version": 3
   },
   "file_extension": ".py",
   "mimetype": "text/x-python",
   "name": "python",
   "nbconvert_exporter": "python",
   "pygments_lexer": "ipython3",
   "version": "3.10.16"
  }
 },
 "nbformat": 4,
 "nbformat_minor": 5
}
