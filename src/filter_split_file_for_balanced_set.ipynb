{
 "cells": [
  {
   "cell_type": "code",
   "execution_count": 1,
   "id": "c9475bba",
   "metadata": {},
   "outputs": [],
   "source": [
    "import os\n",
    "\n",
    "def clean_list_file(list_path, search_dir):\n",
    "    # Read IDs from list file\n",
    "    with open(list_path, 'r', encoding='utf-8') as f:\n",
    "        ids = [line.strip() for line in f if line.strip()]\n",
    "\n",
    "    # Build a set of existing .txt file basenames (without extension) from all subdirs\n",
    "    existing_ids = set()\n",
    "    for root, _, files in os.walk(search_dir):\n",
    "        for file in files:\n",
    "            if file.endswith('.txt'):\n",
    "                existing_ids.add(os.path.splitext(file)[0])\n",
    "\n",
    "    # Keep only IDs that are found among .txt files\n",
    "    filtered_ids = [id_ for id_ in ids if id_ in existing_ids or id_ in [\"DEV\", \"TEST\", \"TRAIN\", \" \", \"\\n\"]]\n",
    "\n",
    "    # Overwrite the list file with only existing IDs\n",
    "    with open(list_path, 'w', encoding='utf-8') as f:\n",
    "        for id_ in filtered_ids:\n",
    "            f.write(id_ + '\\n')\n",
    "\n",
    "    print(f\"Updated list saved. {len(filtered_ids)} out of {len(ids)} entries kept.\")"
   ]
  },
  {
   "cell_type": "code",
   "execution_count": null,
   "id": "c0760901",
   "metadata": {},
   "outputs": [
    {
     "name": "stdout",
     "output_type": "stream",
     "text": [
      "Updated list saved. 397 out of 407 entries kept.\n"
     ]
    }
   ],
   "source": [
    "clean_list_file('/Users/linndfors/study/diploma/ner_for_fem/data/v2.0-swapped_filtering/data/dev-test-split.txt', '/Users/linndfors/study/diploma/ner_for_fem/data/v2.0-swapped_filtering/data')"
   ]
  },
  {
   "cell_type": "code",
   "execution_count": 3,
   "id": "4c80a3f3",
   "metadata": {},
   "outputs": [
    {
     "name": "stdout",
     "output_type": "stream",
     "text": [
      "Updated list saved. 957 out of 967 entries kept.\n"
     ]
    }
   ],
   "source": [
    "clean_list_file(\"/Users/linndfors/study/diploma/ner_for_fem/data/v2.0-balanced_filtering/data/dev-test-split.txt\", \"/Users/linndfors/study/diploma/ner_for_fem/data/v2.0-balanced_filtering/data\")"
   ]
  }
 ],
 "metadata": {
  "kernelspec": {
   "display_name": "new_venv",
   "language": "python",
   "name": "python3"
  },
  "language_info": {
   "codemirror_mode": {
    "name": "ipython",
    "version": 3
   },
   "file_extension": ".py",
   "mimetype": "text/x-python",
   "name": "python",
   "nbconvert_exporter": "python",
   "pygments_lexer": "ipython3",
   "version": "3.10.16"
  }
 },
 "nbformat": 4,
 "nbformat_minor": 5
}
