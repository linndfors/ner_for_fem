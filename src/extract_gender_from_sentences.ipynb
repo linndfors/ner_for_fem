{
 "cells": [
  {
   "cell_type": "code",
   "execution_count": 1,
   "metadata": {},
   "outputs": [],
   "source": [
    "import pandas as pd\n",
    "import os\n",
    "import re\n",
    "import tqdm\n",
    "from typing import List, Dict\n",
    "import json"
   ]
  },
  {
   "cell_type": "code",
   "execution_count": null,
   "metadata": {},
   "outputs": [],
   "source": [
    "# swapped_bruk_folder = \"/Users/linndfors/study/diploma/ner_for_fem/data/data_for_ner/data_for_ner_swapped/bruk_changed\"\n",
    "# swapped_ng_folder = \"/Users/linndfors/study/diploma/ner_for_fem/data/data_for_ner/data_for_ner_swapped/ng_changed\"\n",
    "\n",
    "# orig_bruk_folder = \"/Users/linndfors/study/diploma/ner_for_fem/data/data_for_ner/data_for_ner_orig/bruk\"\n",
    "# orig_ng_folder = \"/Users/linndfors/study/diploma/ner_for_fem/data/data_for_ner/data_for_ner_orig/ng\"\n",
    "\n",
    "swapped_bruk_folder = \"/Users/linndfors/study/diploma/ner_for_fem/data/DATA_FOR_BALANCED_NER/bruk_changed\"\n",
    "swapped_ng_folder = \"/Users/linndfors/study/diploma/ner_for_fem/data/DATA_FOR_BALANCED_NER/ng_changed\"\n",
    "\n",
    "orig_bruk_folder = \"/Users/linndfors/study/diploma/ner_for_fem/data/DATA_FOR_BALANCED_NER/bruk\"\n",
    "orig_ng_folder = \"/Users/linndfors/study/diploma/ner_for_fem/data/DATA_FOR_BALANCED_NER/ng\""
   ]
  },
  {
   "cell_type": "markdown",
   "metadata": {},
   "source": [
    "## Creating parallel dataset"
   ]
  },
  {
   "cell_type": "code",
   "execution_count": null,
   "metadata": {},
   "outputs": [],
   "source": [
    "def parse_ann_file(ann_file):\n",
    "    entities = []\n",
    "\n",
    "    with open(ann_file, \"r\", encoding=\"utf-8\") as f:\n",
    "        for line in f:\n",
    "            try:\n",
    "                parts = line.strip().split(\"\\t\")\n",
    "                if len(parts) < 3:\n",
    "                    continue\n",
    "                label = parts[1]\n",
    "                start = parts[2]\n",
    "                end = parts[3]\n",
    "                text = parts[4]\n",
    "\n",
    "                entities.append({\"ind\": parts[0], \"text\": text, \"start\": start, \"end\": end, \"label\": label})\n",
    "            except:\n",
    "                continue\n",
    "                # print(\"issue with row:\", line)\n",
    "\n",
    "    return entities\n",
    "\n",
    "\n",
    "def extract_entities(txt_file: str, ann_file: str):\n",
    "    labeled_sentences_list = []\n",
    "    sentences = []\n",
    "\n",
    "    with open(txt_file, \"r\", encoding=\"utf-8\") as f:\n",
    "        sentence_lines = f.readlines()\n",
    "\n",
    "    entities = parse_ann_file(ann_file)\n",
    "    empty_lines_count = sentence_lines.count(\"\\n\")\n",
    "    \n",
    "    actual_counter = -1\n",
    "    used_tags = []\n",
    "    sent_end = 0\n",
    "    for ind, sentence in enumerate(sentence_lines):\n",
    "        actual_counter += 1\n",
    "        sent_end += len(sentence)\n",
    "        labeled_dict = {}\n",
    "        job = False\n",
    "\n",
    "        if sentence == \"\\n\":\n",
    "            actual_counter -= 1\n",
    "        sentence = sentence.strip()\n",
    "\n",
    "        for ent in entities:\n",
    "            if re.search(rf\"\\b{re.escape(ent['text'])}\\b\", sentence):\n",
    "                if ent[\"label\"] == \"JOB\" and ent['ind'] not in used_tags and int(ent['start']) < sent_end:\n",
    "                    labeled_dict[ent['ind']] = (ent[\"text\"], ent[\"label\"])\n",
    "                    used_tags.append(ent['ind'])\n",
    "                    job = True\n",
    "\n",
    "        if job:  # Save sentences only if they contain a JOB entity\n",
    "            labeled_sentences_list.append(labeled_dict)\n",
    "            sentences.append((ind, sentence, actual_counter))\n",
    "\n",
    "    return labeled_sentences_list, sentences, empty_lines_count, len(sentence_lines)\n",
    "\n",
    "\n",
    "def get_sentences_with_job_titles(txt_file_names: List[str]):\n",
    "    sentence_with_jobs = {}\n",
    "\n",
    "    for txt_file in txt_file_names:\n",
    "        ann_file = txt_file.replace(\".txt\", \".ann\")\n",
    "        labeled_sentences_list, sentences, empty_lines_count, numb_of_sents = extract_entities(txt_file, ann_file)\n",
    "        for i in range(len(sentences)):\n",
    "            sentence_with_jobs[sentences[i][1]] = (sentences[i][0], labeled_sentences_list[i],  empty_lines_count, numb_of_sents, sentences[i][2])\n",
    "\n",
    "    return sentence_with_jobs\n",
    "\n",
    "\n",
    "def process_files(original_folder: str, changed_folder: str):\n",
    "    dataset = []\n",
    "\n",
    "    original_files = [f for f in os.listdir(original_folder) if f.endswith('.txt')]\n",
    "    # changed_files = [f for f in os.listdir(changed_folder) if f.endswith('.txt')]\n",
    "\n",
    "    for filename in tqdm.tqdm(original_files):\n",
    "        # try:\n",
    "        orig_txt_path = os.path.join(original_folder, filename)\n",
    "        changed_txt_path = os.path.join(changed_folder, filename.replace('.txt', '_1.txt'))\n",
    "\n",
    "        if not os.path.exists(changed_txt_path):\n",
    "            raise FileNotFoundError(f\"Missing corresponding file for {filename} in the changed folder.\")\n",
    "\n",
    "        job_sentences = get_sentences_with_job_titles([orig_txt_path])\n",
    "\n",
    "        with open(changed_txt_path, 'r', encoding='utf-8') as f:\n",
    "            changed_sentences = f.readlines()\n",
    "\n",
    "        for orig_sent, val in job_sentences.items():\n",
    "            # val[0]\n",
    "            if len(changed_sentences) != val[3]:\n",
    "                if len(changed_sentences) + val[2] == val[3]:\n",
    "                    # print(len(val))\n",
    "                    # print(val[4])\n",
    "                    # if len(val) <5:\n",
    "                    #     print(\"here\")\n",
    "                    #     print(val)\n",
    "                    #     # return\n",
    "                    changed_sent = changed_sentences[val[4]]\n",
    "                    dataset.append([orig_sent, val[0], changed_sent, val[4], filename, val[1]])\n",
    "                else:\n",
    "                    print(f\"Cannot process file {filename}\")\n",
    "                    print(\"need len:\", val[3], 'empty sents:', val[2])\n",
    "                    print(\"actual len:\", len(changed_sentences))\n",
    "                    return\n",
    "            else:\n",
    "                changed_sent = changed_sentences[val[0]]\n",
    "                dataset.append([orig_sent, val[0], changed_sent.strip(), val[0], filename, val[1]])\n",
    "            # except Exception as e:\n",
    "            #     print(f\"Cannot process file totaly {filename}: {str(e)} \\n val: {val}\")\n",
    "        # for orig_sentence in job_sentences.keys():\n",
    "        #     if orig_sentence in changed_sentences:\n",
    "        #         dataset.append([orig_sentence, orig_sentence, filename])\n",
    "    # except Exception as e:\n",
    "    #     print(f\"Error processing file {filename}: {str(e)}\")\n",
    "\n",
    "    columns = [\"original_sentence\", \"orig_sent_id\", \"changed_sentence\", \"changed_sent_id\", \"original_file_name\", \"orig_ann\"]\n",
    "    return pd.DataFrame(dataset, columns=columns)"
   ]
  },
  {
   "cell_type": "code",
   "execution_count": null,
   "metadata": {},
   "outputs": [
    {
     "name": "stdout",
     "output_type": "stream",
     "text": [
      "44\n"
     ]
    }
   ],
   "source": [
    "# with open(\"/Users/linndfors/study/diploma/ner_for_fem/data/data_for_ner/data_for_ner_orig/bruk/c0c436cc9cb6.txt\", 'r', encoding='utf-8') as f:\n",
    "#     orig_sent = f.readlines()\n",
    "#     print(len(orig_sent))"
   ]
  },
  {
   "cell_type": "code",
   "execution_count": 49,
   "metadata": {},
   "outputs": [
    {
     "name": "stderr",
     "output_type": "stream",
     "text": [
      "100%|██████████| 262/262 [00:06<00:00, 40.34it/s]\n"
     ]
    }
   ],
   "source": [
    "parallel_dataset_bruk_dataset = process_files(orig_bruk_folder, swapped_bruk_folder)"
   ]
  },
  {
   "cell_type": "code",
   "execution_count": null,
   "metadata": {},
   "outputs": [],
   "source": [
    "# parallel_dataset_bruk_dataset[parallel_dataset_bruk_dataset['original_file_name']=='0ac5140eb732.txt']"
   ]
  },
  {
   "cell_type": "code",
   "execution_count": 52,
   "metadata": {},
   "outputs": [
    {
     "data": {
      "text/html": [
       "<div>\n",
       "<style scoped>\n",
       "    .dataframe tbody tr th:only-of-type {\n",
       "        vertical-align: middle;\n",
       "    }\n",
       "\n",
       "    .dataframe tbody tr th {\n",
       "        vertical-align: top;\n",
       "    }\n",
       "\n",
       "    .dataframe thead th {\n",
       "        text-align: right;\n",
       "    }\n",
       "</style>\n",
       "<table border=\"1\" class=\"dataframe\">\n",
       "  <thead>\n",
       "    <tr style=\"text-align: right;\">\n",
       "      <th></th>\n",
       "      <th>original_sentence</th>\n",
       "      <th>orig_sent_id</th>\n",
       "      <th>changed_sentence</th>\n",
       "      <th>changed_sent_id</th>\n",
       "      <th>original_file_name</th>\n",
       "      <th>orig_ann</th>\n",
       "    </tr>\n",
       "  </thead>\n",
       "  <tbody>\n",
       "    <tr>\n",
       "      <th>0</th>\n",
       "      <td>Його редактором був поет-символіст Яків Савчен...</td>\n",
       "      <td>46</td>\n",
       "      <td>Його редакторкою була поетеса-символістка Анже...</td>\n",
       "      <td>46</td>\n",
       "      <td>e5e76a8efa0f.txt</td>\n",
       "      <td>{'T30': ('поет-символіст', 'JOB')}</td>\n",
       "    </tr>\n",
       "    <tr>\n",
       "      <th>1</th>\n",
       "      <td>Міжпредметні паралелі . Маніфест футуристів ск...</td>\n",
       "      <td>62</td>\n",
       "      <td>Міжпредметні паралелі . Маніфест футуристок ск...</td>\n",
       "      <td>62</td>\n",
       "      <td>e5e76a8efa0f.txt</td>\n",
       "      <td>{'T49': ('поет', 'JOB')}</td>\n",
       "    </tr>\n",
       "    <tr>\n",
       "      <th>2</th>\n",
       "      <td>Помітною була організація « Гарт » ( 1923 — 19...</td>\n",
       "      <td>96</td>\n",
       "      <td>Помітною була організація « Гарт » ( 1923 — 19...</td>\n",
       "      <td>96</td>\n",
       "      <td>e5e76a8efa0f.txt</td>\n",
       "      <td>{'T104': ('поет', 'JOB')}</td>\n",
       "    </tr>\n",
       "    <tr>\n",
       "      <th>3</th>\n",
       "      <td>Її очолив байкар і прозаїк Сергій Пилипенко .</td>\n",
       "      <td>127</td>\n",
       "      <td>Її очолила байкарка і прозаїкиня Марія Пилипен...</td>\n",
       "      <td>127</td>\n",
       "      <td>e5e76a8efa0f.txt</td>\n",
       "      <td>{'T143': ('байкар', 'JOB'), 'T144': ('прозаїк'...</td>\n",
       "    </tr>\n",
       "    <tr>\n",
       "      <th>4</th>\n",
       "      <td>У Галицько-Волинському літописі згадується спі...</td>\n",
       "      <td>171</td>\n",
       "      <td>У Галицько-Волинському літописі згадується спі...</td>\n",
       "      <td>171</td>\n",
       "      <td>e5e76a8efa0f.txt</td>\n",
       "      <td>{'T218': ('співець', 'JOB')}</td>\n",
       "    </tr>\n",
       "  </tbody>\n",
       "</table>\n",
       "</div>"
      ],
      "text/plain": [
       "                                   original_sentence  orig_sent_id  \\\n",
       "0  Його редактором був поет-символіст Яків Савчен...            46   \n",
       "1  Міжпредметні паралелі . Маніфест футуристів ск...            62   \n",
       "2  Помітною була організація « Гарт » ( 1923 — 19...            96   \n",
       "3      Її очолив байкар і прозаїк Сергій Пилипенко .           127   \n",
       "4  У Галицько-Волинському літописі згадується спі...           171   \n",
       "\n",
       "                                    changed_sentence  changed_sent_id  \\\n",
       "0  Його редакторкою була поетеса-символістка Анже...               46   \n",
       "1  Міжпредметні паралелі . Маніфест футуристок ск...               62   \n",
       "2  Помітною була організація « Гарт » ( 1923 — 19...               96   \n",
       "3  Її очолила байкарка і прозаїкиня Марія Пилипен...              127   \n",
       "4  У Галицько-Волинському літописі згадується спі...              171   \n",
       "\n",
       "  original_file_name                                           orig_ann  \n",
       "0   e5e76a8efa0f.txt                 {'T30': ('поет-символіст', 'JOB')}  \n",
       "1   e5e76a8efa0f.txt                           {'T49': ('поет', 'JOB')}  \n",
       "2   e5e76a8efa0f.txt                          {'T104': ('поет', 'JOB')}  \n",
       "3   e5e76a8efa0f.txt  {'T143': ('байкар', 'JOB'), 'T144': ('прозаїк'...  \n",
       "4   e5e76a8efa0f.txt                       {'T218': ('співець', 'JOB')}  "
      ]
     },
     "execution_count": 52,
     "metadata": {},
     "output_type": "execute_result"
    }
   ],
   "source": [
    "parallel_dataset_bruk_dataset.head()"
   ]
  },
  {
   "cell_type": "code",
   "execution_count": 53,
   "metadata": {},
   "outputs": [
    {
     "name": "stderr",
     "output_type": "stream",
     "text": [
      "  0%|          | 0/298 [00:00<?, ?it/s]"
     ]
    },
    {
     "name": "stderr",
     "output_type": "stream",
     "text": [
      "100%|██████████| 298/298 [00:03<00:00, 90.87it/s] \n"
     ]
    }
   ],
   "source": [
    "parallel_dataset_ng_dataset = process_files(orig_ng_folder, swapped_ng_folder)"
   ]
  },
  {
   "cell_type": "code",
   "execution_count": 56,
   "metadata": {},
   "outputs": [
    {
     "data": {
      "text/html": [
       "<div>\n",
       "<style scoped>\n",
       "    .dataframe tbody tr th:only-of-type {\n",
       "        vertical-align: middle;\n",
       "    }\n",
       "\n",
       "    .dataframe tbody tr th {\n",
       "        vertical-align: top;\n",
       "    }\n",
       "\n",
       "    .dataframe thead th {\n",
       "        text-align: right;\n",
       "    }\n",
       "</style>\n",
       "<table border=\"1\" class=\"dataframe\">\n",
       "  <thead>\n",
       "    <tr style=\"text-align: right;\">\n",
       "      <th></th>\n",
       "      <th>original_sentence</th>\n",
       "      <th>orig_sent_id</th>\n",
       "      <th>changed_sentence</th>\n",
       "      <th>changed_sent_id</th>\n",
       "      <th>original_file_name</th>\n",
       "      <th>orig_ann</th>\n",
       "      <th>changed_ann</th>\n",
       "    </tr>\n",
       "  </thead>\n",
       "  <tbody>\n",
       "    <tr>\n",
       "      <th>0</th>\n",
       "      <td>Слідчі встановили, що у 2018-2019 рр. управлін...</td>\n",
       "      <td>2</td>\n",
       "      <td>Слідчі встановили, що у 2018-2019 рр. управлін...</td>\n",
       "      <td>2</td>\n",
       "      <td>104263660695.txt</td>\n",
       "      <td>{'T6': ('Слідчі', 'JOB')}</td>\n",
       "      <td>{'T6': ('Слідчі', 'JOB')}</td>\n",
       "    </tr>\n",
       "    <tr>\n",
       "      <th>1</th>\n",
       "      <td>Суд надав слідчим доступ до документації щодо ...</td>\n",
       "      <td>7</td>\n",
       "      <td>Суд надав слідчій доступ до документації щодо ...</td>\n",
       "      <td>7</td>\n",
       "      <td>104263660695.txt</td>\n",
       "      <td>{'T23': ('слідчим', 'JOB')}</td>\n",
       "      <td>{'T23': ('слідчій', 'JOB')}</td>\n",
       "    </tr>\n",
       "    <tr>\n",
       "      <th>2</th>\n",
       "      <td>Директором та засновником ТОВ «Армшляхбуд», ст...</td>\n",
       "      <td>8</td>\n",
       "      <td>Директоркою та засновницею ТОВ «Армшляхбуд», с...</td>\n",
       "      <td>8</td>\n",
       "      <td>104263660695.txt</td>\n",
       "      <td>{'T25': ('Директором', 'JOB'), 'T26': ('заснов...</td>\n",
       "      <td>{'T25': ('Директоркою', 'JOB'), 'T26': ('засно...</td>\n",
       "    </tr>\n",
       "    <tr>\n",
       "      <th>3</th>\n",
       "      <td>Співвласником цієї компанії у свою чергу з час...</td>\n",
       "      <td>5</td>\n",
       "      <td>Співвласницею цієї компанії у свою чергу з час...</td>\n",
       "      <td>5</td>\n",
       "      <td>97c7987b8f9c.txt</td>\n",
       "      <td>{'T17': ('голова наглядової ради', 'JOB')}</td>\n",
       "      <td>{'T17': ('голова наглядової ради', 'JOB')}</td>\n",
       "    </tr>\n",
       "    <tr>\n",
       "      <th>4</th>\n",
       "      <td>Одесит Іван Плачков почав працювати в компанії...</td>\n",
       "      <td>6</td>\n",
       "      <td>Одеситка Іванна Плачкова почала працювати в ко...</td>\n",
       "      <td>6</td>\n",
       "      <td>97c7987b8f9c.txt</td>\n",
       "      <td>{'T25': ('головою правління', 'JOB')}</td>\n",
       "      <td>{'T25': ('головою правління', 'JOB')}</td>\n",
       "    </tr>\n",
       "  </tbody>\n",
       "</table>\n",
       "</div>"
      ],
      "text/plain": [
       "                                   original_sentence  orig_sent_id  \\\n",
       "0  Слідчі встановили, що у 2018-2019 рр. управлін...             2   \n",
       "1  Суд надав слідчим доступ до документації щодо ...             7   \n",
       "2  Директором та засновником ТОВ «Армшляхбуд», ст...             8   \n",
       "3  Співвласником цієї компанії у свою чергу з час...             5   \n",
       "4  Одесит Іван Плачков почав працювати в компанії...             6   \n",
       "\n",
       "                                    changed_sentence  changed_sent_id  \\\n",
       "0  Слідчі встановили, що у 2018-2019 рр. управлін...                2   \n",
       "1  Суд надав слідчій доступ до документації щодо ...                7   \n",
       "2  Директоркою та засновницею ТОВ «Армшляхбуд», с...                8   \n",
       "3  Співвласницею цієї компанії у свою чергу з час...                5   \n",
       "4  Одеситка Іванна Плачкова почала працювати в ко...                6   \n",
       "\n",
       "  original_file_name                                           orig_ann  \\\n",
       "0   104263660695.txt                          {'T6': ('Слідчі', 'JOB')}   \n",
       "1   104263660695.txt                        {'T23': ('слідчим', 'JOB')}   \n",
       "2   104263660695.txt  {'T25': ('Директором', 'JOB'), 'T26': ('заснов...   \n",
       "3   97c7987b8f9c.txt         {'T17': ('голова наглядової ради', 'JOB')}   \n",
       "4   97c7987b8f9c.txt              {'T25': ('головою правління', 'JOB')}   \n",
       "\n",
       "                                         changed_ann  \n",
       "0                          {'T6': ('Слідчі', 'JOB')}  \n",
       "1                        {'T23': ('слідчій', 'JOB')}  \n",
       "2  {'T25': ('Директоркою', 'JOB'), 'T26': ('засно...  \n",
       "3         {'T17': ('голова наглядової ради', 'JOB')}  \n",
       "4              {'T25': ('головою правління', 'JOB')}  "
      ]
     },
     "execution_count": 56,
     "metadata": {},
     "output_type": "execute_result"
    }
   ],
   "source": [
    "parallel_dataset_ng_dataset.head()"
   ]
  },
  {
   "cell_type": "code",
   "execution_count": 63,
   "metadata": {},
   "outputs": [
    {
     "data": {
      "text/html": [
       "<div>\n",
       "<style scoped>\n",
       "    .dataframe tbody tr th:only-of-type {\n",
       "        vertical-align: middle;\n",
       "    }\n",
       "\n",
       "    .dataframe tbody tr th {\n",
       "        vertical-align: top;\n",
       "    }\n",
       "\n",
       "    .dataframe thead th {\n",
       "        text-align: right;\n",
       "    }\n",
       "</style>\n",
       "<table border=\"1\" class=\"dataframe\">\n",
       "  <thead>\n",
       "    <tr style=\"text-align: right;\">\n",
       "      <th></th>\n",
       "      <th>original_sentence</th>\n",
       "      <th>orig_sent_id</th>\n",
       "      <th>changed_sentence</th>\n",
       "      <th>changed_sent_id</th>\n",
       "      <th>original_file_name</th>\n",
       "      <th>orig_ann</th>\n",
       "      <th>changed_ann</th>\n",
       "    </tr>\n",
       "  </thead>\n",
       "  <tbody>\n",
       "    <tr>\n",
       "      <th>620</th>\n",
       "      <td>Службові особи лісових господарств Житомирсько...</td>\n",
       "      <td>0</td>\n",
       "      <td>Службові особи лісових господарств Житомирсько...</td>\n",
       "      <td>0</td>\n",
       "      <td>0e31947e4561.txt</td>\n",
       "      <td>{'T2': ('підрядниками', 'JOB')}</td>\n",
       "      <td>{'T2': ('підрядницями', 'JOB')}</td>\n",
       "    </tr>\n",
       "    <tr>\n",
       "      <th>621</th>\n",
       "      <td>Приміром, слідство вказує, що одним із підрядн...</td>\n",
       "      <td>4</td>\n",
       "      <td>Приміром, слідство вказує, що одним із підрядн...</td>\n",
       "      <td>4</td>\n",
       "      <td>0e31947e4561.txt</td>\n",
       "      <td>{'T10': ('підрядників', 'JOB')}</td>\n",
       "      <td>{'T10': ('підрядниць', 'JOB')}</td>\n",
       "    </tr>\n",
       "    <tr>\n",
       "      <th>622</th>\n",
       "      <td>Слідчі встановили, що значну частину робіт для...</td>\n",
       "      <td>5</td>\n",
       "      <td>Слідчі встановили, що значну частину робіт для...</td>\n",
       "      <td>5</td>\n",
       "      <td>0e31947e4561.txt</td>\n",
       "      <td>{'T12': ('Слідчі', 'JOB')}</td>\n",
       "      <td>{'T12': ('Слідчі', 'JOB')}</td>\n",
       "    </tr>\n",
       "    <tr>\n",
       "      <th>623</th>\n",
       "      <td>Суд надав слідчим доступ до документації остан...</td>\n",
       "      <td>7</td>\n",
       "      <td>Суд надав слідчим доступ до документації остан...</td>\n",
       "      <td>7</td>\n",
       "      <td>0e31947e4561.txt</td>\n",
       "      <td>{'T15': ('слідчим', 'JOB')}</td>\n",
       "      <td>{'T15': ('слідчим', 'JOB')}</td>\n",
       "    </tr>\n",
       "    <tr>\n",
       "      <th>624</th>\n",
       "      <td>У 2011 році директором фірми був тодішній депу...</td>\n",
       "      <td>9</td>\n",
       "      <td>У 2011 році директоркою фірми була тодішня деп...</td>\n",
       "      <td>9</td>\n",
       "      <td>0e31947e4561.txt</td>\n",
       "      <td>{'T21': ('директором', 'JOB'), 'T22': ('депута...</td>\n",
       "      <td>{'T21': ('директоркою', 'JOB'), 'T22': ('депут...</td>\n",
       "    </tr>\n",
       "    <tr>\n",
       "      <th>625</th>\n",
       "      <td>Надалі засновниками компанії ставали лондонськ...</td>\n",
       "      <td>12</td>\n",
       "      <td>Надалі засновницями компанії ставали лондонськ...</td>\n",
       "      <td>12</td>\n",
       "      <td>0e31947e4561.txt</td>\n",
       "      <td>{'T30': ('засновниками', 'JOB'), 'T32': ('засн...</td>\n",
       "      <td>{'T30': ('засновницями', 'JOB'), 'T32': ('засн...</td>\n",
       "    </tr>\n",
       "    <tr>\n",
       "      <th>626</th>\n",
       "      <td>Нинішнім засновником і директором компанії, як...</td>\n",
       "      <td>13</td>\n",
       "      <td>Нинішньою засновницею і директоркою компанії, ...</td>\n",
       "      <td>13</td>\n",
       "      <td>0e31947e4561.txt</td>\n",
       "      <td>{'T38': ('засновником', 'JOB'), 'T39': ('дирек...</td>\n",
       "      <td>{'T38': ('засновницею', 'JOB'), 'T39': ('дирек...</td>\n",
       "    </tr>\n",
       "    <tr>\n",
       "      <th>627</th>\n",
       "      <td>Засновником і директором ПП «Індустріальна ком...</td>\n",
       "      <td>15</td>\n",
       "      <td>Засновницею і директоркою ПП «Індустріальна ко...</td>\n",
       "      <td>15</td>\n",
       "      <td>0e31947e4561.txt</td>\n",
       "      <td>{'T48': ('Засновником', 'JOB'), 'T49': ('дирек...</td>\n",
       "      <td>{'T48': ('Засновницею', 'JOB'), 'T49': ('дирек...</td>\n",
       "    </tr>\n",
       "  </tbody>\n",
       "</table>\n",
       "</div>"
      ],
      "text/plain": [
       "                                     original_sentence  orig_sent_id  \\\n",
       "620  Службові особи лісових господарств Житомирсько...             0   \n",
       "621  Приміром, слідство вказує, що одним із підрядн...             4   \n",
       "622  Слідчі встановили, що значну частину робіт для...             5   \n",
       "623  Суд надав слідчим доступ до документації остан...             7   \n",
       "624  У 2011 році директором фірми був тодішній депу...             9   \n",
       "625  Надалі засновниками компанії ставали лондонськ...            12   \n",
       "626  Нинішнім засновником і директором компанії, як...            13   \n",
       "627  Засновником і директором ПП «Індустріальна ком...            15   \n",
       "\n",
       "                                      changed_sentence  changed_sent_id  \\\n",
       "620  Службові особи лісових господарств Житомирсько...                0   \n",
       "621  Приміром, слідство вказує, що одним із підрядн...                4   \n",
       "622  Слідчі встановили, що значну частину робіт для...                5   \n",
       "623  Суд надав слідчим доступ до документації остан...                7   \n",
       "624  У 2011 році директоркою фірми була тодішня деп...                9   \n",
       "625  Надалі засновницями компанії ставали лондонськ...               12   \n",
       "626  Нинішньою засновницею і директоркою компанії, ...               13   \n",
       "627  Засновницею і директоркою ПП «Індустріальна ко...               15   \n",
       "\n",
       "    original_file_name                                           orig_ann  \\\n",
       "620   0e31947e4561.txt                    {'T2': ('підрядниками', 'JOB')}   \n",
       "621   0e31947e4561.txt                    {'T10': ('підрядників', 'JOB')}   \n",
       "622   0e31947e4561.txt                         {'T12': ('Слідчі', 'JOB')}   \n",
       "623   0e31947e4561.txt                        {'T15': ('слідчим', 'JOB')}   \n",
       "624   0e31947e4561.txt  {'T21': ('директором', 'JOB'), 'T22': ('депута...   \n",
       "625   0e31947e4561.txt  {'T30': ('засновниками', 'JOB'), 'T32': ('засн...   \n",
       "626   0e31947e4561.txt  {'T38': ('засновником', 'JOB'), 'T39': ('дирек...   \n",
       "627   0e31947e4561.txt  {'T48': ('Засновником', 'JOB'), 'T49': ('дирек...   \n",
       "\n",
       "                                           changed_ann  \n",
       "620                    {'T2': ('підрядницями', 'JOB')}  \n",
       "621                     {'T10': ('підрядниць', 'JOB')}  \n",
       "622                         {'T12': ('Слідчі', 'JOB')}  \n",
       "623                        {'T15': ('слідчим', 'JOB')}  \n",
       "624  {'T21': ('директоркою', 'JOB'), 'T22': ('депут...  \n",
       "625  {'T30': ('засновницями', 'JOB'), 'T32': ('засн...  \n",
       "626  {'T38': ('засновницею', 'JOB'), 'T39': ('дирек...  \n",
       "627  {'T48': ('Засновницею', 'JOB'), 'T49': ('дирек...  "
      ]
     },
     "execution_count": 63,
     "metadata": {},
     "output_type": "execute_result"
    }
   ],
   "source": [
    "parallel_dataset_ng_dataset[parallel_dataset_ng_dataset['original_file_name']=='0e31947e4561.txt']\n"
   ]
  },
  {
   "cell_type": "code",
   "execution_count": 60,
   "metadata": {},
   "outputs": [],
   "source": [
    "def find_changed_ann(orig_annotation, filename, path):\n",
    "    \n",
    "    list_of_inds = [ind for ind, ent in orig_annotation.items()]\n",
    "\n",
    "    changed_ann_file = path + filename.replace(\".txt\", \"_1.ann\")\n",
    "\n",
    "    entities = parse_ann_file(changed_ann_file)\n",
    "    labeled_dict = {}\n",
    "\n",
    "    for ent in entities:\n",
    "           if ent['ind'] in list_of_inds:\n",
    "                labeled_dict[ent[\"ind\"]] = (ent['text'], ent[\"label\"])\n",
    "    return labeled_dict\n",
    "\n",
    "parallel_dataset_bruk_dataset['changed_ann'] = parallel_dataset_bruk_dataset.apply(lambda x: find_changed_ann(x['orig_ann'], x['original_file_name'], \"/Users/linndfors/study/diploma/ner_for_fem/data/data_for_ner/data_for_ner_swapped/bruk_changed/\"), axis=1)\n",
    "parallel_dataset_ng_dataset['changed_ann'] = parallel_dataset_ng_dataset.apply(lambda x: find_changed_ann(x['orig_ann'], x['original_file_name'], \"/Users/linndfors/study/diploma/ner_for_fem/data/data_for_ner/data_for_ner_swapped/ng_changed/\"), axis=1)"
   ]
  },
  {
   "cell_type": "code",
   "execution_count": null,
   "metadata": {},
   "outputs": [],
   "source": [
    "# /Users/linndfors/study/diploma/ner_for_fem/data/data_for_ner/data_for_ner_orig/bruk/87ae82667e2a.txt "
   ]
  },
  {
   "cell_type": "code",
   "execution_count": 61,
   "metadata": {},
   "outputs": [],
   "source": [
    "parallel_dataset_bruk_dataset.to_csv(\"/Users/linndfors/study/diploma/ner_for_fem/data/csv_files_with_par_sentences/bruk_parallel.csv\", index=0)\n",
    "parallel_dataset_ng_dataset.to_csv(\"/Users/linndfors/study/diploma/ner_for_fem/data/csv_files_with_par_sentences/ng_parallel.csv\", index=0)"
   ]
  },
  {
   "cell_type": "code",
   "execution_count": 62,
   "metadata": {},
   "outputs": [
    {
     "data": {
      "text/html": [
       "<div>\n",
       "<style scoped>\n",
       "    .dataframe tbody tr th:only-of-type {\n",
       "        vertical-align: middle;\n",
       "    }\n",
       "\n",
       "    .dataframe tbody tr th {\n",
       "        vertical-align: top;\n",
       "    }\n",
       "\n",
       "    .dataframe thead th {\n",
       "        text-align: right;\n",
       "    }\n",
       "</style>\n",
       "<table border=\"1\" class=\"dataframe\">\n",
       "  <thead>\n",
       "    <tr style=\"text-align: right;\">\n",
       "      <th></th>\n",
       "      <th>original_sentence</th>\n",
       "      <th>orig_sent_id</th>\n",
       "      <th>changed_sentence</th>\n",
       "      <th>changed_sent_id</th>\n",
       "      <th>original_file_name</th>\n",
       "      <th>orig_ann</th>\n",
       "      <th>changed_ann</th>\n",
       "    </tr>\n",
       "  </thead>\n",
       "  <tbody>\n",
       "    <tr>\n",
       "      <th>41</th>\n",
       "      <td>В наших умовах у таких « рольових коконах » пр...</td>\n",
       "      <td>6</td>\n",
       "      <td>В наших умовах у таких « рольових коконах » пр...</td>\n",
       "      <td>3</td>\n",
       "      <td>87ae82667e2a.txt</td>\n",
       "      <td>{'T3': ('лектори', 'JOB')}</td>\n",
       "      <td>{'T3': ('лекторки', 'JOB')}</td>\n",
       "    </tr>\n",
       "    <tr>\n",
       "      <th>42</th>\n",
       "      <td>Можливо , комусь ця думка здасться блюзнірчою ...</td>\n",
       "      <td>16</td>\n",
       "      <td>Можливо , комусь ця думка здасться блюзнірчою ...</td>\n",
       "      <td>8</td>\n",
       "      <td>87ae82667e2a.txt</td>\n",
       "      <td>{'T18': ('режисером', 'JOB')}</td>\n",
       "      <td>{'T18': ('режисеркою', 'JOB')}</td>\n",
       "    </tr>\n",
       "    <tr>\n",
       "      <th>73</th>\n",
       "      <td>Коломийська влада в особі міського голови Ігор...</td>\n",
       "      <td>2</td>\n",
       "      <td>Коломийська влада в особі міської голови Анаст...</td>\n",
       "      <td>1</td>\n",
       "      <td>e010e86e436c.txt</td>\n",
       "      <td>{'T5': ('міського голови', 'JOB'), 'T7': ('нач...</td>\n",
       "      <td>{'T5': ('міської голови', 'JOB'), 'T7': ('нача...</td>\n",
       "    </tr>\n",
       "    <tr>\n",
       "      <th>74</th>\n",
       "      <td>Народний депутат України Андрій Іванчук , пере...</td>\n",
       "      <td>7</td>\n",
       "      <td>Народна депутатка України Марія Іванчук , пере...</td>\n",
       "      <td>5</td>\n",
       "      <td>e010e86e436c.txt</td>\n",
       "      <td>{'T10': ('Народний депутат', 'JOB')}</td>\n",
       "      <td>{'T10': ('Народна депутатка', 'JOB')}</td>\n",
       "    </tr>\n",
       "    <tr>\n",
       "      <th>75</th>\n",
       "      <td>Львів ще від часів українських королів і князі...</td>\n",
       "      <td>23</td>\n",
       "      <td>Львів ще від часів українських королев і княги...</td>\n",
       "      <td>12</td>\n",
       "      <td>7b2c9399fee9.txt</td>\n",
       "      <td>{'T26': ('королів', 'JOB'), 'T27': ('князів', ...</td>\n",
       "      <td>{'T26': ('королев', 'JOB'), 'T27': ('княгинь',...</td>\n",
       "    </tr>\n",
       "    <tr>\n",
       "      <th>...</th>\n",
       "      <td>...</td>\n",
       "      <td>...</td>\n",
       "      <td>...</td>\n",
       "      <td>...</td>\n",
       "      <td>...</td>\n",
       "      <td>...</td>\n",
       "      <td>...</td>\n",
       "    </tr>\n",
       "    <tr>\n",
       "      <th>259</th>\n",
       "      <td>І Лянґе зрозумів , що він більше не має сил об...</td>\n",
       "      <td>25</td>\n",
       "      <td>І Лянґе зрозуміла , що вона більше не має сил ...</td>\n",
       "      <td>13</td>\n",
       "      <td>ef1b6bd52747.txt</td>\n",
       "      <td>{'T31': ('мовознавцем', 'JOB')}</td>\n",
       "      <td>{'T31': ('мовознавицею', 'JOB')}</td>\n",
       "    </tr>\n",
       "    <tr>\n",
       "      <th>293</th>\n",
       "      <td>Тож фон Трієру я винна окрему дяку : з усіх мо...</td>\n",
       "      <td>4</td>\n",
       "      <td>Тож фон Трієру я винна окрему дяку : з усіх мо...</td>\n",
       "      <td>2</td>\n",
       "      <td>f5bb37569413.txt</td>\n",
       "      <td>{'T2': ('режисера', 'JOB')}</td>\n",
       "      <td>{'T2': ('режисерки', 'JOB')}</td>\n",
       "    </tr>\n",
       "    <tr>\n",
       "      <th>294</th>\n",
       "      <td>З погляду бджоли , різниці між мною і колишнім...</td>\n",
       "      <td>48</td>\n",
       "      <td>З погляду бджоли , різниці між мною і колишньо...</td>\n",
       "      <td>24</td>\n",
       "      <td>f5bb37569413.txt</td>\n",
       "      <td>{'T24': ('наркомом', 'JOB'), 'T25': ('головою'...</td>\n",
       "      <td>{'T24': ('наркомкою', 'JOB'), 'T25': ('головою...</td>\n",
       "    </tr>\n",
       "    <tr>\n",
       "      <th>295</th>\n",
       "      <td>І за яким хріном ми з академіком Петросянцем б...</td>\n",
       "      <td>56</td>\n",
       "      <td>І за яким хріном ми з академікинею Петросянець...</td>\n",
       "      <td>28</td>\n",
       "      <td>f5bb37569413.txt</td>\n",
       "      <td>{'T30': ('академіком', 'JOB')}</td>\n",
       "      <td>{'T30': ('академікинею', 'JOB')}</td>\n",
       "    </tr>\n",
       "    <tr>\n",
       "      <th>297</th>\n",
       "      <td>Насупившись , керівниця « маркетингу » , зиркн...</td>\n",
       "      <td>8</td>\n",
       "      <td>Насупившись , керівник « маркетингу » , зиркну...</td>\n",
       "      <td>5</td>\n",
       "      <td>2fc890744f7c.txt</td>\n",
       "      <td>{'T5': ('ведучій', 'JOB')}</td>\n",
       "      <td>{'T5': ('ведучому', 'JOB')}</td>\n",
       "    </tr>\n",
       "  </tbody>\n",
       "</table>\n",
       "<p>76 rows × 7 columns</p>\n",
       "</div>"
      ],
      "text/plain": [
       "                                     original_sentence  orig_sent_id  \\\n",
       "41   В наших умовах у таких « рольових коконах » пр...             6   \n",
       "42   Можливо , комусь ця думка здасться блюзнірчою ...            16   \n",
       "73   Коломийська влада в особі міського голови Ігор...             2   \n",
       "74   Народний депутат України Андрій Іванчук , пере...             7   \n",
       "75   Львів ще від часів українських королів і князі...            23   \n",
       "..                                                 ...           ...   \n",
       "259  І Лянґе зрозумів , що він більше не має сил об...            25   \n",
       "293  Тож фон Трієру я винна окрему дяку : з усіх мо...             4   \n",
       "294  З погляду бджоли , різниці між мною і колишнім...            48   \n",
       "295  І за яким хріном ми з академіком Петросянцем б...            56   \n",
       "297  Насупившись , керівниця « маркетингу » , зиркн...             8   \n",
       "\n",
       "                                      changed_sentence  changed_sent_id  \\\n",
       "41   В наших умовах у таких « рольових коконах » пр...                3   \n",
       "42   Можливо , комусь ця думка здасться блюзнірчою ...                8   \n",
       "73   Коломийська влада в особі міської голови Анаст...                1   \n",
       "74   Народна депутатка України Марія Іванчук , пере...                5   \n",
       "75   Львів ще від часів українських королев і княги...               12   \n",
       "..                                                 ...              ...   \n",
       "259  І Лянґе зрозуміла , що вона більше не має сил ...               13   \n",
       "293  Тож фон Трієру я винна окрему дяку : з усіх мо...                2   \n",
       "294  З погляду бджоли , різниці між мною і колишньо...               24   \n",
       "295  І за яким хріном ми з академікинею Петросянець...               28   \n",
       "297  Насупившись , керівник « маркетингу » , зиркну...                5   \n",
       "\n",
       "    original_file_name                                           orig_ann  \\\n",
       "41    87ae82667e2a.txt                         {'T3': ('лектори', 'JOB')}   \n",
       "42    87ae82667e2a.txt                      {'T18': ('режисером', 'JOB')}   \n",
       "73    e010e86e436c.txt  {'T5': ('міського голови', 'JOB'), 'T7': ('нач...   \n",
       "74    e010e86e436c.txt               {'T10': ('Народний депутат', 'JOB')}   \n",
       "75    7b2c9399fee9.txt  {'T26': ('королів', 'JOB'), 'T27': ('князів', ...   \n",
       "..                 ...                                                ...   \n",
       "259   ef1b6bd52747.txt                    {'T31': ('мовознавцем', 'JOB')}   \n",
       "293   f5bb37569413.txt                        {'T2': ('режисера', 'JOB')}   \n",
       "294   f5bb37569413.txt  {'T24': ('наркомом', 'JOB'), 'T25': ('головою'...   \n",
       "295   f5bb37569413.txt                     {'T30': ('академіком', 'JOB')}   \n",
       "297   2fc890744f7c.txt                         {'T5': ('ведучій', 'JOB')}   \n",
       "\n",
       "                                           changed_ann  \n",
       "41                         {'T3': ('лекторки', 'JOB')}  \n",
       "42                      {'T18': ('режисеркою', 'JOB')}  \n",
       "73   {'T5': ('міської голови', 'JOB'), 'T7': ('нача...  \n",
       "74               {'T10': ('Народна депутатка', 'JOB')}  \n",
       "75   {'T26': ('королев', 'JOB'), 'T27': ('княгинь',...  \n",
       "..                                                 ...  \n",
       "259                   {'T31': ('мовознавицею', 'JOB')}  \n",
       "293                       {'T2': ('режисерки', 'JOB')}  \n",
       "294  {'T24': ('наркомкою', 'JOB'), 'T25': ('головою...  \n",
       "295                   {'T30': ('академікинею', 'JOB')}  \n",
       "297                        {'T5': ('ведучому', 'JOB')}  \n",
       "\n",
       "[76 rows x 7 columns]"
      ]
     },
     "execution_count": 62,
     "metadata": {},
     "output_type": "execute_result"
    }
   ],
   "source": [
    "parallel_dataset_bruk_dataset[parallel_dataset_bruk_dataset['orig_sent_id'] != parallel_dataset_bruk_dataset['changed_sent_id']]"
   ]
  },
  {
   "cell_type": "code",
   "execution_count": 7,
   "metadata": {},
   "outputs": [],
   "source": [
    "parallel_dataset_ng_dataset = pd.read_csv(\"/Users/linndfors/study/diploma/ner_for_fem/data/csv_files_with_par_sentences/ng_parallel.csv\")"
   ]
  },
  {
   "cell_type": "markdown",
   "metadata": {},
   "source": [
    "## Split: Female, Male, Common genders"
   ]
  },
  {
   "cell_type": "code",
   "execution_count": null,
   "metadata": {},
   "outputs": [],
   "source": [
    "with open('/Users/linndfors/study/diploma/uk-gender-word-mapper/common_gender_words_list.txt') as file:\n",
    "    common_gender_words_list = [line.strip() for line in file if line.strip()]\n",
    "\n",
    "with open('/Users/linndfors/study/diploma/uk-gender-word-mapper/male_words_list.txt') as file:\n",
    "    male_list = [line.strip() for line in file if line.strip()]\n",
    "\n",
    "with open('/Users/linndfors/study/diploma/uk-gender-word-mapper/female_words_list.txt') as file:\n",
    "    female_list = [line.strip() for line in file if line.strip()]\n",
    "\n",
    "gender_dict_df = pd.read_csv(\"/Users/linndfors/study/diploma/uk-gender-word-mapper/gender_pairs_dictionary.csv\")\n",
    "\n",
    "gender_dict = {'male': [], 'female': []}\n",
    "\n",
    "for _, row in gender_dict_df.iterrows():\n",
    "    gender_dict['male'].append(row['male'])\n",
    "    female_values = [f.strip() for f in row['female'].split(',')]\n",
    "    gender_dict['female'].extend(female_values)\n",
    "\n",
    "gender_dict['female'] = list(set(gender_dict['female']))\n",
    "\n",
    "exceptions_male = ['прокурор', 'віце-премʼєра', 'премʼєр', 'начальника', 'начальником', 'міністра', 'директором', 'підрядником', 'аграрія', 'депутата', 'генпідрядника', 'начальник', 'керівником', 'керівник']\n",
    "exceptions_female = ['слідчій', 'прокурорка', 'прокурорки', 'Прокурорки', 'прокуроркою', 'прокурорки', 'адміністраторок', 'прокурорці', 'слідчу', 'слідча' , 'начальницею', 'податківка', 'монопольниці' \"начальницею\", \"начальницю\", \"психіатрині\", 'наркологині', 'міністерки', 'рітейлерками', 'начальниці', 'екологині', 'податківчині', 'журналісткам', 'начальниці', \n",
    "'підрядницею', 'директорка', 'інженерка', 'начальниця', 'службовиці', 'інженерці', 'податківниць', 'депутатку', 'керівниця', 'начальницею'\n",
    "'керівницею', 'юристок', 'інспекторки', 'інженерок', 'ревізорок', 'нардепок', 'бізнесменок', 'начальницю', 'генпідрядниці', ]"
   ]
  },
  {
   "cell_type": "code",
   "execution_count": null,
   "metadata": {},
   "outputs": [],
   "source": [
    "import stanza\n",
    "import pymorphy3\n",
    "import pymorphy2\n",
    "\n",
    "nlp = stanza.Pipeline('uk', processors='tokenize,mwt,pos,lemma,depparse')\n",
    "morph = pymorphy3.MorphAnalyzer()\n",
    "\n",
    "\n",
    "# # stanza.download('uk')\n",
    "# nlp = stanza.Pipeline('uk', processors='tokenize,mwt,pos,lemma')"
   ]
  },
  {
   "cell_type": "code",
   "execution_count": null,
   "metadata": {},
   "outputs": [
    {
     "name": "stdout",
     "output_type": "stream",
     "text": [
      "докторантка\n"
     ]
    }
   ],
   "source": [
    "# def extract_main_word(text):\n",
    "#     # Process the text with Stanza\n",
    "#     doc = nlp(text)\n",
    "    \n",
    "#     # Check the dependency parse for the main word\n",
    "#     for sentence in doc.sentences:\n",
    "#         # Get the head word based on dependencies\n",
    "#         for word in sentence.words:\n",
    "#             if word.head == 0:  # The head of the sentence (the main word)\n",
    "#                 return word.lemma\n",
    "\n",
    "#     # Fallback if no head word found\n",
    "#     return None\n",
    "\n",
    "# # Test the function\n",
    "# text = \"докторантка відділу соціальної антропології\"\n",
    "# main_word = extract_main_word(text)\n",
    "# print(main_word)"
   ]
  },
  {
   "cell_type": "code",
   "execution_count": null,
   "metadata": {},
   "outputs": [
    {
     "name": "stdout",
     "output_type": "stream",
     "text": [
      "lemma: судді\n",
      "Corrected lemma: судді\n"
     ]
    }
   ],
   "source": [
    "# entity = 'судді'\n",
    "# job = nlp(entity)\n",
    "\n",
    "# job_ent_list = [word.lemma for sent in job.sentences for word in sent.words]\n",
    "# job_lemma = \" \".join(job_ent_list)\n",
    "\n",
    "# print(\"Corrected lemma:\", job_lemma)\n",
    "\n",
    "# # if len(job_ent_list) > 1:\n",
    "# #     job_lemma = extract_main_word(job_lemma)\n",
    "# #     print(\"main word:\", job_lemma)"
   ]
  },
  {
   "cell_type": "code",
   "execution_count": null,
   "metadata": {},
   "outputs": [],
   "source": [
    "# text = \"топ-менеджерів\"\n",
    "# main_word = extract_main_word(text)\n",
    "# print(f\"Main word of '{text}': {main_word}\")"
   ]
  },
  {
   "cell_type": "code",
   "execution_count": null,
   "metadata": {},
   "outputs": [],
   "source": [
    "\n",
    "# # Initialize pymorphy3 analyzer\n",
    "\n",
    "# def get_lemma_from_pymorphy(entity):\n",
    "#     # Split the entity into words and lemmatize each word\n",
    "#     words = entity.split()  # Split by spaces to handle multi-word entities\n",
    "#     lemmatized_words = [morph.parse(word)[0].normal_form for word in words]\n",
    "    \n",
    "#     # Join the lemmatized words back into a single string\n",
    "#     return \" \".join(lemmatized_words)\n",
    "# get_lemma_from_pymorphy(\"голові\")\n"
   ]
  },
  {
   "cell_type": "code",
   "execution_count": 71,
   "metadata": {},
   "outputs": [],
   "source": [
    "def extract_main_word(text):\n",
    "    if \"-\" in text:\n",
    "        parts = text.split(\"-\")\n",
    "        main_word = parts[-1]\n",
    "        doc = nlp(main_word)\n",
    "        for sentence in doc.sentences:\n",
    "            for word in sentence.words:\n",
    "                return word.lemma\n",
    "\n",
    "    doc = nlp(text)\n",
    "\n",
    "\n",
    "    for sentence in doc.sentences:\n",
    "        for word in sentence.words:\n",
    "            if word.head == 0:\n",
    "                main_word = word\n",
    "                if main_word.text in {\"рок\", \"анти\", \"псевдо\", \"віце\", \"топ\"}:\n",
    "                    continue\n",
    "                return main_word.lemma\n",
    "    for sentence in doc.sentences:\n",
    "        for word in sentence.words:\n",
    "            return word.lemma\n",
    "        \n",
    "def extract_gender(entity):\n",
    "    entity = entity.lower()\n",
    "    job = nlp(entity)\n",
    "    join_sign = \" \" if \" \" in entity else (\"\" if \"-\" in entity else \"\")\n",
    "    job_ent_list = [word.lemma for sent in job.sentences for word in sent.words]\n",
    "    job_lemma = join_sign.join(job_ent_list)\n",
    "\n",
    "    if len(job_ent_list) > 1:\n",
    "        job_lemma = extract_main_word(job_lemma)\n",
    "\n",
    "    words = entity.split()\n",
    "    lemmatized_words = []\n",
    "    for word in words:\n",
    "        parsed_word = morph.parse(word)[0]\n",
    "        if 'plur' in parsed_word.tag:\n",
    "            singular_form = parsed_word.inflect({'sing'}).word if parsed_word.inflect({'sing'}) else parsed_word.normal_form\n",
    "            lemmatized_words.append(singular_form)\n",
    "        else:\n",
    "            lemmatized_words.append(parsed_word.normal_form)\n",
    "            \n",
    "    job_lemma_pymorphy = join_sign.join(lemmatized_words)\n",
    "\n",
    "    if len(job_ent_list) > 1:\n",
    "        job_lemma_pymorphy = extract_main_word(job_lemma_pymorphy)\n",
    "        \n",
    "    for x in [entity, job_lemma, job_lemma_pymorphy]:\n",
    "        for common_word in [\"судді\", \"ченці\", \"ченців\", \"глави\", \"голови\", \"керівництво\", \"в. о.\", \"головою\"]:\n",
    "            if common_word in x:\n",
    "                return \"common\"\n",
    "            \n",
    "        for female_word in exceptions_female:\n",
    "            if female_word in x:\n",
    "                return \"female\"\n",
    "            \n",
    "        for male_word in exceptions_male:\n",
    "            if male_word in x:\n",
    "                return \"male\"\n",
    "            \n",
    "        if (x in gender_dict['female']) or (x in female_list) or (\"знавиця\" in x):\n",
    "            return \"female\"\n",
    "        elif (x in gender_dict['male']) or (x in male_list) or (\"знавець\" in x) or (x==\"мера\"):\n",
    "            return \"male\"\n",
    "        elif x in common_gender_words_list:\n",
    "            return \"common\"\n",
    "        \n",
    "    print(\"unkown for:\", entity, \" - \", job_lemma, \" - \", job_lemma_pymorphy)\n",
    "    return \"unknown_gender\""
   ]
  },
  {
   "cell_type": "markdown",
   "metadata": {},
   "source": [
    "### Original entitites"
   ]
  },
  {
   "cell_type": "code",
   "execution_count": 72,
   "metadata": {},
   "outputs": [
    {
     "name": "stderr",
     "output_type": "stream",
     "text": [
      "178it [01:01,  5.16it/s]"
     ]
    },
    {
     "name": "stdout",
     "output_type": "stream",
     "text": [
      "unkown for: податківці  -  податок  -  податківці\n"
     ]
    },
    {
     "name": "stderr",
     "output_type": "stream",
     "text": [
      "506it [02:34,  4.21it/s]"
     ]
    },
    {
     "name": "stdout",
     "output_type": "stream",
     "text": [
      "unkown for: головні мисливствознавці держлісгоспів  -  мисливствітнавка  -  мисливствітнавка\n"
     ]
    },
    {
     "name": "stderr",
     "output_type": "stream",
     "text": [
      "563it [02:47,  4.98it/s]"
     ]
    },
    {
     "name": "stdout",
     "output_type": "stream",
     "text": [
      "unkown for: смотрящим  -  смотрящий  -  смотреть\n"
     ]
    },
    {
     "name": "stderr",
     "output_type": "stream",
     "text": [
      "670it [03:23,  8.55it/s]"
     ]
    },
    {
     "name": "stdout",
     "output_type": "stream",
     "text": [
      "unkown for: службовці  -  службовка  -  службовці\n"
     ]
    },
    {
     "name": "stderr",
     "output_type": "stream",
     "text": [
      "687it [03:29,  2.89it/s]"
     ]
    },
    {
     "name": "stdout",
     "output_type": "stream",
     "text": [
      "unkown for: директор департаменту з питань традиційних та альтернативних палив  -  департамент  -  палити\n"
     ]
    },
    {
     "name": "stderr",
     "output_type": "stream",
     "text": [
      "865it [04:45,  3.87it/s]"
     ]
    },
    {
     "name": "stdout",
     "output_type": "stream",
     "text": [
      "unkown for: податківців  -  податокець  -  податківціть\n"
     ]
    },
    {
     "name": "stderr",
     "output_type": "stream",
     "text": [
      "1021it [05:36,  3.04it/s]\n"
     ]
    }
   ],
   "source": [
    "import ast\n",
    "\n",
    "file_gender_dict = {\"male\": {}, \"female\": {}, \"common\": {}, \"unknown_gender\": {}}\n",
    "\n",
    "total_job_counter = 0\n",
    "job_list = []\n",
    "\n",
    "for x, row in tqdm.tqdm(parallel_dataset_ng_dataset.iterrows()):\n",
    "    filename = row['original_file_name']\n",
    "    orig_annotation = row['orig_ann']\n",
    "\n",
    "    ann_str = orig_annotation.replace(\"'\", '\"')\n",
    "    ann_str = ann_str.replace(\"–\", '-')\n",
    "    json_ann = ast.literal_eval(ann_str)\n",
    "    \n",
    "    try:\n",
    "        for ent, feat in json_ann.items():\n",
    "            if feat[1] == 'JOB':\n",
    "                total_job_counter += 1\n",
    "                job_list.append(feat[0])\n",
    "                gender_value = extract_gender(feat[0])\n",
    "                \n",
    "                if filename not in file_gender_dict[gender_value]:\n",
    "                    file_gender_dict[gender_value][filename] = [(ent, feat[0])]\n",
    "                else:\n",
    "                    file_gender_dict[gender_value][filename].append((ent, feat[0]))\n",
    "                \n",
    "    except Exception as e:\n",
    "        print(f\"Issue with row: {row} - Error: {e}\")"
   ]
  },
  {
   "cell_type": "code",
   "execution_count": 73,
   "metadata": {},
   "outputs": [
    {
     "name": "stdout",
     "output_type": "stream",
     "text": [
      "total size: 1338\n",
      "gender: male\n",
      "size: 269\n",
      "gender: female\n",
      "size: 16\n",
      "gender: common\n",
      "size: 93\n",
      "gender: unknown_gender\n",
      "size: 6\n"
     ]
    }
   ],
   "source": [
    "print(\"total size:\", total_job_counter)\n",
    "\n",
    "for gender_class, val in file_gender_dict.items():\n",
    "    print(\"gender:\", gender_class)\n",
    "    print(\"size:\", len(file_gender_dict[gender_class]))"
   ]
  },
  {
   "cell_type": "code",
   "execution_count": 80,
   "metadata": {},
   "outputs": [],
   "source": [
    "orig_female_files = []\n",
    "orig_male_files = []\n",
    "orig_common_files = []"
   ]
  },
  {
   "cell_type": "code",
   "execution_count": 81,
   "metadata": {},
   "outputs": [],
   "source": [
    "for gen, file_with_ent in file_gender_dict.items():\n",
    "    for filename, ent_with_ind in file_with_ent.items():\n",
    "        if gen == \"male\":\n",
    "            orig_male_files.append(filename)\n",
    "        elif gen == \"female\":\n",
    "            orig_female_files.append(filename)\n",
    "        elif gen == \"common\":\n",
    "            orig_common_files.append(filename)"
   ]
  },
  {
   "cell_type": "markdown",
   "metadata": {},
   "source": [
    "### Swapped entitites"
   ]
  },
  {
   "cell_type": "code",
   "execution_count": 76,
   "metadata": {},
   "outputs": [
    {
     "name": "stderr",
     "output_type": "stream",
     "text": [
      "2it [00:00,  8.22it/s]"
     ]
    },
    {
     "name": "stdout",
     "output_type": "stream",
     "text": [
      "gender: female\n"
     ]
    },
    {
     "name": "stderr",
     "output_type": "stream",
     "text": [
      "44it [00:15,  7.17it/s]"
     ]
    },
    {
     "name": "stdout",
     "output_type": "stream",
     "text": [
      "gender: female\n"
     ]
    },
    {
     "name": "stderr",
     "output_type": "stream",
     "text": [
      "84it [00:22,  6.54it/s]"
     ]
    },
    {
     "name": "stdout",
     "output_type": "stream",
     "text": [
      "unkown for: академічки  -  академічка  -  академічка\n"
     ]
    },
    {
     "name": "stderr",
     "output_type": "stream",
     "text": [
      "150it [00:43,  5.03it/s]"
     ]
    },
    {
     "name": "stdout",
     "output_type": "stream",
     "text": [
      "unkown for: бойовички  -  бойовичка  -  бойовичка\n"
     ]
    },
    {
     "name": "stderr",
     "output_type": "stream",
     "text": [
      "255it [01:19,  5.12it/s]"
     ]
    },
    {
     "name": "stdout",
     "output_type": "stream",
     "text": [
      "unkown for: де  -  де  -  де\n"
     ]
    },
    {
     "name": "stderr",
     "output_type": "stream",
     "text": [
      "278it [01:24,  4.13it/s]"
     ]
    },
    {
     "name": "stdout",
     "output_type": "stream",
     "text": [
      "unkown for: членкині наглядової ради  -  рада  -  членкин\n"
     ]
    },
    {
     "name": "stderr",
     "output_type": "stream",
     "text": [
      "359it [01:45,  3.95it/s]"
     ]
    },
    {
     "name": "stdout",
     "output_type": "stream",
     "text": [
      "unkown for: освітя́нок  -  освітя́нка  -  освітя́нки\n"
     ]
    },
    {
     "name": "stderr",
     "output_type": "stream",
     "text": [
      "384it [01:51,  3.51it/s]"
     ]
    },
    {
     "name": "stdout",
     "output_type": "stream",
     "text": [
      "unkown for: директоркою комунального підприємства  -  підприємство  -  підприємство\n"
     ]
    },
    {
     "name": "stderr",
     "output_type": "stream",
     "text": [
      "429it [02:02,  6.42it/s]"
     ]
    },
    {
     "name": "stdout",
     "output_type": "stream",
     "text": [
      "unkown for: митниці  -  митниця  -  митниці\n"
     ]
    },
    {
     "name": "stderr",
     "output_type": "stream",
     "text": [
      "473it [02:13,  5.04it/s]"
     ]
    },
    {
     "name": "stdout",
     "output_type": "stream",
     "text": [
      "gender: female\n"
     ]
    },
    {
     "name": "stderr",
     "output_type": "stream",
     "text": [
      "505it [02:21,  3.71it/s]"
     ]
    },
    {
     "name": "stdout",
     "output_type": "stream",
     "text": [
      "unkown for: головні мисливствознавиці держлісгоспів  -  мисливствітнацець  -  держлісгоспіть\n"
     ]
    },
    {
     "name": "stderr",
     "output_type": "stream",
     "text": [
      "564it [02:33,  6.89it/s]"
     ]
    },
    {
     "name": "stdout",
     "output_type": "stream",
     "text": [
      "unkown for: смотрящою  -  смотрящий  -  смотрящий\n"
     ]
    },
    {
     "name": "stderr",
     "output_type": "stream",
     "text": [
      "598it [02:41,  4.84it/s]"
     ]
    },
    {
     "name": "stdout",
     "output_type": "stream",
     "text": [
      "unkown for: компанії  -  компанія  -  компанії\n"
     ]
    },
    {
     "name": "stderr",
     "output_type": "stream",
     "text": [
      "637it [02:50,  3.85it/s]"
     ]
    },
    {
     "name": "stdout",
     "output_type": "stream",
     "text": [
      "unkown for: завідувачку виробничого відділу  -  відділ  -  відділ\n"
     ]
    },
    {
     "name": "stderr",
     "output_type": "stream",
     "text": [
      "680it [03:01,  2.69it/s]"
     ]
    },
    {
     "name": "stdout",
     "output_type": "stream",
     "text": [
      "unkown for: родина екс-презид  -  презид  -  презид\n"
     ]
    },
    {
     "name": "stderr",
     "output_type": "stream",
     "text": [
      "746it [03:21,  2.31it/s]"
     ]
    },
    {
     "name": "stdout",
     "output_type": "stream",
     "text": [
      "unkown for: сбушниці  -  сбушниця  -  сбушниці\n"
     ]
    },
    {
     "name": "stderr",
     "output_type": "stream",
     "text": [
      "962it [04:33,  1.28it/s]"
     ]
    },
    {
     "name": "stdout",
     "output_type": "stream",
     "text": [
      "unkown for: світлана зубачик  -  зубачик  -  зубачик\n"
     ]
    },
    {
     "name": "stderr",
     "output_type": "stream",
     "text": [
      "1021it [04:51,  3.50it/s]\n"
     ]
    }
   ],
   "source": [
    "file_gender_dict_swapped = {\"male\": {}, \"female\": {}, \"common\": {}, \"unknown_gender\": {}}\n",
    "\n",
    "total_job_counter_swapped = 0\n",
    "job_list_swapped = []\n",
    "\n",
    "for x, row in tqdm.tqdm(parallel_dataset_ng_dataset.iterrows()):\n",
    "    filename = row['original_file_name']\n",
    "    filename = filename.replace(\".txt\", \"_1.txt\")\n",
    "    changed_annotation = row['changed_ann']\n",
    "\n",
    "    ann_str = changed_annotation.replace(\"'\", '\"')\n",
    "    ann_str = ann_str.replace(\"–\", '-')\n",
    "    json_ann = ast.literal_eval(ann_str)\n",
    "    \n",
    "    try:\n",
    "        for ent, feat in json_ann.items():\n",
    "            if feat[1] == 'JOB':\n",
    "                total_job_counter_swapped += 1\n",
    "                job_list_swapped.append(feat[0])\n",
    "                gender_value = extract_gender(feat[0])\n",
    "\n",
    "                if (feat[0]=='слідчій'):\n",
    "                    print(\"gender:\", gender_value)\n",
    "                \n",
    "                if filename not in file_gender_dict_swapped[gender_value]:\n",
    "                    file_gender_dict_swapped[gender_value][filename] = [(ent, feat[0])]\n",
    "                else:\n",
    "                    file_gender_dict_swapped[gender_value][filename].append((ent, feat[0]))\n",
    "                \n",
    "    except Exception as e:\n",
    "        print(f\"Issue with row: {row} - Error: {e}\")"
   ]
  },
  {
   "cell_type": "code",
   "execution_count": 77,
   "metadata": {},
   "outputs": [
    {
     "name": "stdout",
     "output_type": "stream",
     "text": [
      "total size: 1338\n",
      "gender: male\n",
      "size: 107\n",
      "gender: female\n",
      "size: 260\n",
      "gender: common\n",
      "size: 91\n",
      "gender: unknown_gender\n",
      "size: 14\n"
     ]
    }
   ],
   "source": [
    "print(\"total size:\", total_job_counter_swapped)\n",
    "\n",
    "for gender_class, val in file_gender_dict_swapped.items():\n",
    "    print(\"gender:\", gender_class)\n",
    "    print(\"size:\", len(file_gender_dict_swapped[gender_class]))"
   ]
  },
  {
   "cell_type": "code",
   "execution_count": 82,
   "metadata": {},
   "outputs": [],
   "source": [
    "swapped_female_files = []\n",
    "swapped_male_files = []\n",
    "swapped_common_files = []"
   ]
  },
  {
   "cell_type": "code",
   "execution_count": 83,
   "metadata": {},
   "outputs": [],
   "source": [
    "for gen, file_with_ent in file_gender_dict_swapped.items():\n",
    "    for filename, ent_with_ind in file_with_ent.items():\n",
    "        if gen == \"male\":\n",
    "            swapped_male_files.append(filename)\n",
    "        elif gen == \"female\":\n",
    "            swapped_female_files.append(filename)\n",
    "        elif gen == \"common\":\n",
    "            swapped_common_files.append(filename)"
   ]
  },
  {
   "cell_type": "code",
   "execution_count": 84,
   "metadata": {},
   "outputs": [],
   "source": [
    "# swapped_female_files_global = [\"/Users/linndfors/study/diploma/ner_for_fem/data/data_for_ner/data_for_ner_balanced/bruk_changed/\" + filename for filename in swapped_female_files]\n",
    "# swapped_male_files_global = [\"/Users/linndfors/study/diploma/ner_for_fem/data/data_for_ner/data_for_ner_balanced/bruk_changed/\" + filename for filename in swapped_male_files]\n",
    "# swapped_common_files_global = [\"/Users/linndfors/study/diploma/ner_for_fem/data/data_for_ner/data_for_ner_balanced/bruk_changed/\" + filename for filename in swapped_common_files]\n",
    "\n",
    "swapped_female_files_global = [\"/Users/linndfors/study/diploma/ner_for_fem/data/DATA_FOR_BALANCED_NER/ng_changed/\" + filename for filename in swapped_female_files]\n",
    "swapped_male_files_global = [\"/Users/linndfors/study/diploma/ner_for_fem/data/DATA_FOR_BALANCED_NER/ng_changed/\" + filename for filename in swapped_male_files]\n",
    "swapped_common_files_global = [\"/Users/linndfors/study/diploma/ner_for_fem/data/DATA_FOR_BALANCED_NER/ng_changed/\" + filename for filename in swapped_common_files]"
   ]
  },
  {
   "cell_type": "code",
   "execution_count": 85,
   "metadata": {},
   "outputs": [],
   "source": [
    "# orig_male_files = [\"/Users/linndfors/study/diploma/ner_for_fem/data/data_for_ner/data_for_ner_balanced/bruk/\" + filename for filename in orig_male_files]\n",
    "# orig_female_files = [\"/Users/linndfors/study/diploma/ner_for_fem/data/data_for_ner/data_for_ner_balanced/bruk/\" + filename for filename in orig_female_files]\n",
    "# orig_common_files = [\"/Users/linndfors/study/diploma/ner_for_fem/data/data_for_ner/data_for_ner_balanced/bruk/\" + filename for filename in orig_common_files]\n",
    "\n",
    "orig_male_files = [\"/Users/linndfors/study/diploma/ner_for_fem/data/DATA_FOR_BALANCED_NER/ng/\" + filename for filename in orig_male_files]\n",
    "orig_female_files = [\"/Users/linndfors/study/diploma/ner_for_fem/data/DATA_FOR_BALANCED_NER/ng/\" + filename for filename in orig_female_files]\n",
    "orig_common_files = [\"/Users/linndfors/study/diploma/ner_for_fem/data/DATA_FOR_BALANCED_NER/ng/\" + filename for filename in orig_common_files]"
   ]
  },
  {
   "cell_type": "code",
   "execution_count": 86,
   "metadata": {},
   "outputs": [],
   "source": [
    "# bruk_male_files = swapped_male_files_global + orig_male_files\n",
    "# bruk_female_files = swapped_female_files_global + orig_female_files\n",
    "# bruk_common_files = swapped_common_files_global + orig_common_files\n",
    "\n",
    "ng_male_files = swapped_male_files_global + orig_male_files\n",
    "ng_female_files = swapped_female_files_global + orig_female_files\n",
    "ng_common_files = swapped_common_files_global + orig_common_files"
   ]
  },
  {
   "cell_type": "code",
   "execution_count": 88,
   "metadata": {},
   "outputs": [],
   "source": [
    "import shutil"
   ]
  },
  {
   "cell_type": "markdown",
   "metadata": {},
   "source": [
    "Push files with specific gender to their directories"
   ]
  },
  {
   "cell_type": "code",
   "execution_count": null,
   "metadata": {},
   "outputs": [],
   "source": [
    "# # TODO\n",
    "\n",
    "# find this file in \"/Users/linndfors/study/diploma/ner_for_fem/data/DATA_FOR_BALANCED_NER\"\n",
    "# if it is swapped check if I push right annotation (only pers and job)"
   ]
  },
  {
   "cell_type": "code",
   "execution_count": 100,
   "metadata": {},
   "outputs": [],
   "source": [
    "# for male_file in ng_male_files:\n",
    "#     # source_path = male_file\n",
    "#     source_path = male_file.replace(\".txt\", \".ann\")\n",
    "#     destination_dir = '/Users/linndfors/study/diploma/ner_for_fem/data/data_for_ner/data_for_ner_gender/data_for_ner_male/ng'\n",
    "\n",
    "#     file_name = os.path.basename(source_path)\n",
    "\n",
    "#     destination_path = os.path.join(destination_dir, file_name)\n",
    "\n",
    "#     shutil.copy(source_path, destination_path)\n",
    "\n",
    "# for female_file in ng_female_files:\n",
    "#     # source_path = female_file\n",
    "#     source_path = female_file.replace(\".txt\", \".ann\")\n",
    "#     destination_dir = '/Users/linndfors/study/diploma/ner_for_fem/data/data_for_ner/data_for_ner_gender/data_for_ner_female/ng'\n",
    "\n",
    "#     file_name = os.path.basename(source_path)\n",
    "\n",
    "#     destination_path = os.path.join(destination_dir, file_name)\n",
    "\n",
    "#     shutil.copy(source_path, destination_path)\n",
    "\n",
    "for common_file in ng_common_files:\n",
    "    # source_path = common_file\n",
    "    source_path = common_file.replace(\".txt\", \".ann\")\n",
    "    destination_dir = '/Users/linndfors/study/diploma/ner_for_fem/data/data_for_ner/data_for_ner_gender/data_for_ner_common/ng'\n",
    "\n",
    "    file_name = os.path.basename(source_path)\n",
    "\n",
    "    destination_path = os.path.join(destination_dir, file_name)\n",
    "\n",
    "    shutil.copy(source_path, destination_path)"
   ]
  }
 ],
 "metadata": {
  "kernelspec": {
   "display_name": "new_venv",
   "language": "python",
   "name": "python3"
  },
  "language_info": {
   "codemirror_mode": {
    "name": "ipython",
    "version": 3
   },
   "file_extension": ".py",
   "mimetype": "text/x-python",
   "name": "python",
   "nbconvert_exporter": "python",
   "pygments_lexer": "ipython3",
   "version": "3.10.16"
  }
 },
 "nbformat": 4,
 "nbformat_minor": 2
}
