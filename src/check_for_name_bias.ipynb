{
 "cells": [
  {
   "cell_type": "code",
   "execution_count": 1,
   "id": "ba92dd65",
   "metadata": {},
   "outputs": [],
   "source": [
    "import pandas as pd\n",
    "import spacy\n",
    "import re\n",
    "import tqdm\n",
    "from collections import Counter\n"
   ]
  },
  {
   "cell_type": "code",
   "execution_count": 2,
   "id": "2b4e258c",
   "metadata": {},
   "outputs": [
    {
     "name": "stderr",
     "output_type": "stream",
     "text": [
      "/Users/linndfors/study/diploma/new_venv/lib/python3.10/site-packages/transformers/utils/generic.py:441: UserWarning: torch.utils._pytree._register_pytree_node is deprecated. Please use torch.utils._pytree.register_pytree_node instead.\n",
      "  _torch_pytree._register_pytree_node(\n",
      "/Users/linndfors/study/diploma/new_venv/lib/python3.10/site-packages/transformers/utils/generic.py:309: UserWarning: torch.utils._pytree._register_pytree_node is deprecated. Please use torch.utils._pytree.register_pytree_node instead.\n",
      "  _torch_pytree._register_pytree_node(\n",
      "/Users/linndfors/study/diploma/new_venv/lib/python3.10/site-packages/spacy_transformers/layers/hf_shim.py:137: UserWarning: Error loading saved torch state_dict with strict=True, likely due to differences between 'transformers' versions. Attempting to load with strict=False as a fallback...\n",
      "\n",
      "If you see errors or degraded performance, download a newer compatible model or retrain your custom model with the current 'transformers' and 'spacy-transformers' versions. For more details and available updates, run: python -m spacy validate\n",
      "  warnings.warn(warn_msg)\n"
     ]
    }
   ],
   "source": [
    "ner_nlp = spacy.load(\"uk_ner_web_trf_13class\")"
   ]
  },
  {
   "cell_type": "code",
   "execution_count": 3,
   "id": "3300f2ea",
   "metadata": {},
   "outputs": [],
   "source": [
    "df = pd.read_csv(\"/Users/linndfors/study/diploma/ner_for_fem/src/MAIN_finetuned_aya_for_the_test_parallel_dataset.csv\")"
   ]
  },
  {
   "cell_type": "code",
   "execution_count": 4,
   "id": "594ea22b",
   "metadata": {},
   "outputs": [
    {
     "data": {
      "text/html": [
       "<div>\n",
       "<style scoped>\n",
       "    .dataframe tbody tr th:only-of-type {\n",
       "        vertical-align: middle;\n",
       "    }\n",
       "\n",
       "    .dataframe tbody tr th {\n",
       "        vertical-align: top;\n",
       "    }\n",
       "\n",
       "    .dataframe thead th {\n",
       "        text-align: right;\n",
       "    }\n",
       "</style>\n",
       "<table border=\"1\" class=\"dataframe\">\n",
       "  <thead>\n",
       "    <tr style=\"text-align: right;\">\n",
       "      <th></th>\n",
       "      <th>finetuned</th>\n",
       "      <th>references</th>\n",
       "      <th>inputs</th>\n",
       "      <th>double_finetuned</th>\n",
       "    </tr>\n",
       "  </thead>\n",
       "  <tbody>\n",
       "    <tr>\n",
       "      <th>0</th>\n",
       "      <td>офіцерка</td>\n",
       "      <td>офіцерка</td>\n",
       "      <td>офіцер</td>\n",
       "      <td>офіцер</td>\n",
       "    </tr>\n",
       "    <tr>\n",
       "      <th>1</th>\n",
       "      <td>мільярдер</td>\n",
       "      <td>мільярдер</td>\n",
       "      <td>мільярдерка</td>\n",
       "      <td>мільярдерка</td>\n",
       "    </tr>\n",
       "    <tr>\n",
       "      <th>2</th>\n",
       "      <td>пакистанець</td>\n",
       "      <td>пакистанець</td>\n",
       "      <td>пакистанка</td>\n",
       "      <td>пакистанка</td>\n",
       "    </tr>\n",
       "    <tr>\n",
       "      <th>3</th>\n",
       "      <td>Статутні внески найбільшого розміру не задекла...</td>\n",
       "      <td>Статутні внески найбільшого розміру не задекла...</td>\n",
       "      <td>Статутні внески найбільшого розміру не задекла...</td>\n",
       "      <td>Статутні внески найбільшого розміру не задекла...</td>\n",
       "    </tr>\n",
       "    <tr>\n",
       "      <th>4</th>\n",
       "      <td>отоларингологиня</td>\n",
       "      <td>отоларингологиня</td>\n",
       "      <td>отоларинголог</td>\n",
       "      <td>отоларинголог</td>\n",
       "    </tr>\n",
       "  </tbody>\n",
       "</table>\n",
       "</div>"
      ],
      "text/plain": [
       "                                           finetuned  \\\n",
       "0                                           офіцерка   \n",
       "1                                          мільярдер   \n",
       "2                                        пакистанець   \n",
       "3  Статутні внески найбільшого розміру не задекла...   \n",
       "4                                   отоларингологиня   \n",
       "\n",
       "                                          references  \\\n",
       "0                                           офіцерка   \n",
       "1                                          мільярдер   \n",
       "2                                        пакистанець   \n",
       "3  Статутні внески найбільшого розміру не задекла...   \n",
       "4                                   отоларингологиня   \n",
       "\n",
       "                                              inputs  \\\n",
       "0                                             офіцер   \n",
       "1                                        мільярдерка   \n",
       "2                                         пакистанка   \n",
       "3  Статутні внески найбільшого розміру не задекла...   \n",
       "4                                      отоларинголог   \n",
       "\n",
       "                                    double_finetuned  \n",
       "0                                             офіцер  \n",
       "1                                        мільярдерка  \n",
       "2                                         пакистанка  \n",
       "3  Статутні внески найбільшого розміру не задекла...  \n",
       "4                                      отоларинголог  "
      ]
     },
     "execution_count": 4,
     "metadata": {},
     "output_type": "execute_result"
    }
   ],
   "source": [
    "df.head()"
   ]
  },
  {
   "cell_type": "code",
   "execution_count": 5,
   "id": "b7f91129",
   "metadata": {},
   "outputs": [],
   "source": [
    "dict_df = pd.read_csv('/Users/linndfors/study/diploma/dict_uk/out/dict_corp_lt.txt', delimiter=' ', header=None, names=['word', 'lemma', 'grammar'])"
   ]
  },
  {
   "cell_type": "code",
   "execution_count": 6,
   "id": "f82eddab",
   "metadata": {},
   "outputs": [],
   "source": [
    "def define_sex(name):\n",
    "\n",
    "    filtered_df = dict_df[(dict_df['lemma'] == name) & (dict_df['word'] == name)]\n",
    "    if not filtered_df.empty:\n",
    "        grammar_pers = filtered_df['grammar'].iloc[0]\n",
    "        if re.search(r'fname', grammar_pers):\n",
    "            if re.search(r'\\bf\\b', grammar_pers):\n",
    "                return \"F\"\n",
    "            elif re.search(r'\\bm\\b', grammar_pers):\n",
    "                return \"M\"\n",
    "            else:\n",
    "                return \"U\"\n",
    "        elif re.search(r'lname', grammar_pers):\n",
    "            return \"L\"\n",
    "        else:\n",
    "            return \"U\"\n",
    "    else:\n",
    "        # print(\"No matches found for:\", name)\n",
    "        return \"U\"\n",
    "    # except Exception as e:\n",
    "    #     # print(\"error\", e)\n",
    "    #     return \"U\""
   ]
  },
  {
   "cell_type": "code",
   "execution_count": 9,
   "id": "87ca9159",
   "metadata": {},
   "outputs": [
    {
     "data": {
      "text/plain": [
       "['Наталія',\n",
       " 'Козловська',\n",
       " 'Ірина',\n",
       " 'Сердюк',\n",
       " 'Ірина',\n",
       " 'Романенко',\n",
       " 'Анатолія',\n",
       " 'Наталія',\n",
       " 'Олександр',\n",
       " 'Таран',\n",
       " 'Марія',\n",
       " 'Біла',\n",
       " 'Ткачук',\n",
       " 'Ігор',\n",
       " 'Валентина',\n",
       " 'Злочевська',\n",
       " 'Іванющенко',\n",
       " 'Валентина',\n",
       " 'Харитонова',\n",
       " 'Наталія',\n",
       " 'Володимир',\n",
       " 'Гущин',\n",
       " 'Сергій',\n",
       " 'Діденко',\n",
       " 'Світлана',\n",
       " 'Діброва',\n",
       " 'Олександр',\n",
       " 'Севостьянова',\n",
       " 'Валерій',\n",
       " 'Пономарьов',\n",
       " 'Наталія',\n",
       " 'Вовк',\n",
       " 'Пономарьова',\n",
       " 'Валентин',\n",
       " 'Карпенко',\n",
       " 'Азарова',\n",
       " 'Анатолія',\n",
       " 'Колеснікова',\n",
       " 'Анатолія',\n",
       " 'Нещерет',\n",
       " 'Левченко',\n",
       " 'Люба',\n",
       " 'Баканова',\n",
       " 'Павлов',\n",
       " 'Павлова',\n",
       " 'Станімір',\n",
       " 'Шуліка',\n",
       " 'Сергій',\n",
       " 'Сердюк',\n",
       " 'Наталія',\n",
       " \"Дерев'янко\",\n",
       " 'Лянґе',\n",
       " 'Лянґе',\n",
       " 'Гірняк',\n",
       " 'Валентина',\n",
       " 'Ігор',\n",
       " 'Антон',\n",
       " 'Юрій',\n",
       " 'Дараган',\n",
       " 'Леонід',\n",
       " 'Мосендз',\n",
       " 'Євген',\n",
       " 'Маланюк',\n",
       " 'Олекса',\n",
       " 'Стефанович',\n",
       " 'Олег',\n",
       " 'Ольжич',\n",
       " 'Олена',\n",
       " 'Теліга',\n",
       " 'Галя',\n",
       " 'Мазуренко',\n",
       " 'Оксана',\n",
       " 'Лятуринська',\n",
       " 'Іван',\n",
       " 'Ірлявський',\n",
       " 'Наталія',\n",
       " 'Тетяна',\n",
       " 'Азарова',\n",
       " 'Олег',\n",
       " 'Лідія',\n",
       " 'Супруненко',\n",
       " 'Кирило',\n",
       " 'Савін',\n",
       " 'Скачко',\n",
       " 'Скачко',\n",
       " 'Олександр',\n",
       " 'Гордієнко',\n",
       " 'Анатолія',\n",
       " 'Тетяна',\n",
       " 'Глазкова',\n",
       " 'Якимчук',\n",
       " 'Олександра',\n",
       " 'Наталія',\n",
       " 'Іванчук',\n",
       " 'Бережанський',\n",
       " 'Наталія',\n",
       " 'Наталія',\n",
       " 'Пилипчук',\n",
       " 'Сергій',\n",
       " 'Ворошилов',\n",
       " 'Одарич',\n",
       " 'Наталія',\n",
       " 'Бродська',\n",
       " 'Борзих',\n",
       " 'Оксана',\n",
       " 'Гупало',\n",
       " 'Ірина',\n",
       " 'Сулім',\n",
       " 'Петра',\n",
       " 'Федорук',\n",
       " 'Валентина',\n",
       " 'Борзих',\n",
       " 'Олександр',\n",
       " 'Пономарьов',\n",
       " 'Роман',\n",
       " 'Олійник',\n",
       " 'Анатолія',\n",
       " 'Труфанов',\n",
       " 'Сергій',\n",
       " 'Лілія',\n",
       " 'Янукович',\n",
       " 'Олег',\n",
       " 'Смолінський',\n",
       " 'Олександра',\n",
       " 'Кузьменко',\n",
       " 'Олександра',\n",
       " 'Тимошенко',\n",
       " 'Яценко',\n",
       " 'Вільгельм',\n",
       " 'Шмідт',\n",
       " 'Тютюнник',\n",
       " 'Лейк',\n",
       " 'Христоф',\n",
       " 'Юрій',\n",
       " 'Павленко',\n",
       " 'Микола',\n",
       " 'Бондаренко',\n",
       " 'Міщенко',\n",
       " 'Валентина',\n",
       " 'Зайчук',\n",
       " 'Ялова',\n",
       " 'Микола',\n",
       " 'Микола',\n",
       " 'Микола',\n",
       " 'Зубач',\n",
       " 'Олександра',\n",
       " 'Ірина',\n",
       " 'Марія',\n",
       " 'Кущ',\n",
       " 'Степан',\n",
       " 'Ганна',\n",
       " 'Олександра',\n",
       " 'Наталія',\n",
       " 'Валентина',\n",
       " 'Роєнко',\n",
       " 'Олександр',\n",
       " 'Світлана',\n",
       " 'Єрмолаєва',\n",
       " 'Олександр',\n",
       " 'Янукович',\n",
       " 'Володимир',\n",
       " 'Палій',\n",
       " 'Литвяк',\n",
       " 'Наталія',\n",
       " 'Артеменко',\n",
       " 'Голяшкіна',\n",
       " 'Олександр',\n",
       " 'Супруненко',\n",
       " 'Олексій',\n",
       " 'Олександр',\n",
       " 'Дудченко',\n",
       " 'Наталія',\n",
       " 'Злочевська',\n",
       " 'Валентина',\n",
       " 'Валентина',\n",
       " 'Соколова',\n",
       " 'Анна',\n",
       " 'Шуляк',\n",
       " 'Анатолій',\n",
       " 'Салій',\n",
       " 'Аркадій',\n",
       " 'Азаров',\n",
       " 'Климентій',\n",
       " 'Філіпчук',\n",
       " 'Людмила',\n",
       " 'Владислава',\n",
       " 'Каськів',\n",
       " 'Юлія',\n",
       " 'Лазебна',\n",
       " 'Наталія',\n",
       " 'Савчук',\n",
       " 'Попова',\n",
       " 'Попов',\n",
       " 'Синчак',\n",
       " 'Валентина',\n",
       " 'Бондаренко',\n",
       " 'Марія',\n",
       " 'Марінетті',\n",
       " 'Голяшкіна',\n",
       " 'Володимир',\n",
       " 'Гуцал',\n",
       " 'Євген',\n",
       " 'Кондратюк',\n",
       " \"В'ячеслав\",\n",
       " 'Супруненко',\n",
       " 'Смик',\n",
       " 'Сергій',\n",
       " 'Біловол',\n",
       " 'Ігор',\n",
       " 'Федорчук',\n",
       " 'Олександра',\n",
       " 'Попова',\n",
       " 'Валентина',\n",
       " 'Осипенко',\n",
       " 'Зінаїда',\n",
       " 'Павленко',\n",
       " 'Рената',\n",
       " 'Валентина',\n",
       " 'Шкіль',\n",
       " 'Роман',\n",
       " 'Гавриленко',\n",
       " 'Валентина',\n",
       " 'Руснак',\n",
       " 'Олена',\n",
       " 'Тамара',\n",
       " 'Сафіулліна',\n",
       " 'Катерина',\n",
       " 'Ярослава',\n",
       " 'Дубневич',\n",
       " 'Вишенська',\n",
       " 'Олена',\n",
       " 'Павлишина',\n",
       " 'Наталія',\n",
       " 'Шевцова',\n",
       " 'Чепурненко',\n",
       " 'Олександр',\n",
       " 'Тулуб',\n",
       " 'Світлана',\n",
       " 'Близнюк',\n",
       " 'Мирослав',\n",
       " 'Азаров',\n",
       " 'Пелих',\n",
       " 'Гоголь',\n",
       " 'Наталія',\n",
       " 'Петрова',\n",
       " 'Світлана',\n",
       " 'Скіпор',\n",
       " 'Палій',\n",
       " 'Близнюк',\n",
       " 'Микола',\n",
       " 'Олена',\n",
       " 'Попова',\n",
       " 'Дмитро',\n",
       " 'Олександра',\n",
       " 'Василенко',\n",
       " 'Микола',\n",
       " 'Ященко',\n",
       " 'Наталія',\n",
       " 'Наталія',\n",
       " 'Брунько',\n",
       " 'Олена',\n",
       " 'Валерій',\n",
       " 'Наталія',\n",
       " 'Плачкова',\n",
       " 'Валентина',\n",
       " 'Скіпор',\n",
       " 'Володимир',\n",
       " 'Наталія',\n",
       " 'Петренко',\n",
       " 'Євгенія',\n",
       " 'Брагіна',\n",
       " 'Олександр',\n",
       " 'Черняєв']"
      ]
     },
     "execution_count": 9,
     "metadata": {},
     "output_type": "execute_result"
    }
   ],
   "source": [
    "unknown_pers"
   ]
  },
  {
   "cell_type": "code",
   "execution_count": 11,
   "id": "9420d860",
   "metadata": {},
   "outputs": [
    {
     "name": "stderr",
     "output_type": "stream",
     "text": [
      "100%|██████████| 523/523 [12:06<00:00,  1.39s/it]\n"
     ]
    }
   ],
   "source": [
    "res = {\"L\": [], \"F\": [], \"M\": [], \"U\": []}\n",
    "\n",
    "person_entities_counter = 0\n",
    "unknown_gender = 0\n",
    "unknown_pers = []\n",
    "\n",
    "for x in tqdm.tqdm(df['finetuned']):\n",
    "    doc = ner_nlp(x)\n",
    "    # print(x)\n",
    "    person_entities = [ent.text for ent in doc.ents if ent.label_ == \"PERS\"]\n",
    "    # print(person_entities)\n",
    "    person_entities_counter += len(person_entities)\n",
    "    for pers in person_entities:\n",
    "        for n in pers.split(\" \"):\n",
    "            gen = define_sex(n)\n",
    "            if gen in res.keys():\n",
    "                res[gen].append(n)\n",
    "            else:\n",
    "                unknown_pers.append(n)\n",
    "                # print(n, gen)"
   ]
  },
  {
   "cell_type": "code",
   "execution_count": null,
   "id": "f80c7a21",
   "metadata": {},
   "outputs": [
    {
     "name": "stdout",
     "output_type": "stream",
     "text": [
      "Number of PERS entities detected: 280\n",
      "Number of unknown PERS entities: 226\n"
     ]
    }
   ],
   "source": [
    "print(\"Number of PERS entities detected:\", person_entities_counter)\n",
    "print(\"Number of unknown PERS entities:\", len(unknown_pers))"
   ]
  },
  {
   "cell_type": "code",
   "execution_count": 13,
   "id": "56fcb006",
   "metadata": {},
   "outputs": [
    {
     "data": {
      "text/plain": [
       "[]"
      ]
     },
     "execution_count": 13,
     "metadata": {},
     "output_type": "execute_result"
    }
   ],
   "source": [
    "unknown_pers"
   ]
  },
  {
   "cell_type": "code",
   "execution_count": 16,
   "id": "ef6f9c88",
   "metadata": {},
   "outputs": [],
   "source": [
    "def calculate_name_frequency(name_dict):\n",
    "    stats = {}\n",
    "    counter_gender = {'L': 0, 'M': 0 , 'F': 0, 'U': 0}\n",
    "    counter = 0\n",
    "    \n",
    "    for group, names in name_dict.items():\n",
    "        name_count = Counter(names)\n",
    "        counter += len(name_count)\n",
    "        stats[group] = name_count\n",
    "        for _, n in name_count.items():\n",
    "            counter_gender[group] += n\n",
    "    \n",
    "    print(\"Total:\", counter)\n",
    "    print(counter_gender)\n",
    "    \n",
    "    return stats, counter, counter_gender"
   ]
  },
  {
   "cell_type": "code",
   "execution_count": 17,
   "id": "81856a1f",
   "metadata": {},
   "outputs": [
    {
     "name": "stdout",
     "output_type": "stream",
     "text": [
      "Total: 351\n",
      "{'L': 136, 'M': 56, 'F': 81, 'U': 226}\n"
     ]
    }
   ],
   "source": [
    "name_stat = calculate_name_frequency(res)"
   ]
  },
  {
   "cell_type": "code",
   "execution_count": 18,
   "id": "d986607c",
   "metadata": {},
   "outputs": [
    {
     "name": "stdout",
     "output_type": "stream",
     "text": [
      "Total: 170\n",
      "{'L': 136, 'M': 56, 'F': 81}\n"
     ]
    }
   ],
   "source": [
    "name_stat = calculate_name_frequency(res)"
   ]
  },
  {
   "cell_type": "code",
   "execution_count": null,
   "id": "d6739061",
   "metadata": {},
   "outputs": [],
   "source": [
    "def calculate_top_name_frequency(name_dict, top_n=5):\n",
    "    stats = {}\n",
    "    \n",
    "    for group, names in name_dict.items():\n",
    "        name_count = Counter(names)\n",
    "        \n",
    "        top_names = name_count.most_common(top_n)\n",
    "        stats[group] = top_names\n",
    "    \n",
    "    return stats"
   ]
  },
  {
   "cell_type": "code",
   "execution_count": 14,
   "id": "b55be1b4",
   "metadata": {},
   "outputs": [
    {
     "name": "stdout",
     "output_type": "stream",
     "text": [
      "Top 10 statistics for L:\n",
      "  Супруненко: 3\n",
      "  Попова: 3\n",
      "  Сердюк: 2\n",
      "  Злочевська: 2\n",
      "  Пономарьов: 2\n",
      "\n",
      "Top 10 statistics for F:\n",
      "  Наталія: 20\n",
      "  Валентина: 13\n",
      "  Олександра: 7\n",
      "  Анатолія: 5\n",
      "  Олена: 5\n",
      "\n",
      "Top 10 statistics for M:\n",
      "  Олександр: 10\n",
      "  Микола: 6\n",
      "  Сергій: 5\n",
      "  Володимир: 4\n",
      "  Ігор: 3\n",
      "\n"
     ]
    }
   ],
   "source": [
    "top_name_statistics = calculate_top_name_frequency(res, top_n=5)\n",
    "\n",
    "for group, stats in top_name_statistics.items():\n",
    "    print(f\"Top 10 statistics for {group}:\")\n",
    "    for name, count in stats:\n",
    "        print(f\"  {name}: {count}\")\n",
    "    print()"
   ]
  },
  {
   "cell_type": "code",
   "execution_count": 19,
   "id": "fac717ce",
   "metadata": {},
   "outputs": [
    {
     "name": "stderr",
     "output_type": "stream",
     "text": [
      "  0%|          | 0/523 [00:00<?, ?it/s]"
     ]
    },
    {
     "name": "stderr",
     "output_type": "stream",
     "text": [
      "100%|██████████| 523/523 [12:13<00:00,  1.40s/it]\n"
     ]
    }
   ],
   "source": [
    "orig_res = {\"L\": [], \"F\": [], \"M\": []}\n",
    "\n",
    "for x in tqdm.tqdm(df['inputs']):\n",
    "    doc = ner_nlp(x)\n",
    "\n",
    "    person_entities = [ent.text for ent in doc.ents if ent.label_ == \"PERS\"]\n",
    "    for pers in person_entities:\n",
    "        for n in pers.split(\" \"):\n",
    "            gen = define_sex(n)\n",
    "            if gen in orig_res.keys():\n",
    "                orig_res[gen].append(n)\n",
    "                # print(n, gen)"
   ]
  },
  {
   "cell_type": "code",
   "execution_count": 22,
   "id": "740e8e75",
   "metadata": {},
   "outputs": [
    {
     "name": "stdout",
     "output_type": "stream",
     "text": [
      "Total: 187\n",
      "{'L': 138, 'M': 65, 'F': 72}\n"
     ]
    }
   ],
   "source": [
    "name_stat = calculate_name_frequency(orig_res)"
   ]
  },
  {
   "cell_type": "code",
   "execution_count": 23,
   "id": "0b6edabd",
   "metadata": {},
   "outputs": [
    {
     "name": "stdout",
     "output_type": "stream",
     "text": [
      "Top 5 statistics for L:\n",
      "  Янукович: 4\n",
      "  Іванющенко: 3\n",
      "  Сердюк: 2\n",
      "  Злочевський: 2\n",
      "  Пономарьов: 2\n",
      "\n",
      "Top 5 statistics for F:\n",
      "  Марія: 6\n",
      "  Олена: 6\n",
      "  Ірина: 5\n",
      "  Олександра: 5\n",
      "  Оксана: 4\n",
      "\n",
      "Top 5 statistics for M:\n",
      "  Олександр: 6\n",
      "  Сергій: 6\n",
      "  Микола: 5\n",
      "  Андрій: 4\n",
      "  Іван: 4\n",
      "\n"
     ]
    }
   ],
   "source": [
    "top_name_statistics = calculate_top_name_frequency(orig_res, top_n=5)\n",
    "\n",
    "for group, stats in top_name_statistics.items():\n",
    "    print(f\"Top 5 statistics for {group}:\")\n",
    "    for name, count in stats:\n",
    "        print(f\"  {name}: {count}\")\n",
    "    print()"
   ]
  }
 ],
 "metadata": {
  "kernelspec": {
   "display_name": "new_venv",
   "language": "python",
   "name": "python3"
  },
  "language_info": {
   "codemirror_mode": {
    "name": "ipython",
    "version": 3
   },
   "file_extension": ".py",
   "mimetype": "text/x-python",
   "name": "python",
   "nbconvert_exporter": "python",
   "pygments_lexer": "ipython3",
   "version": "3.10.16"
  }
 },
 "nbformat": 4,
 "nbformat_minor": 5
}
