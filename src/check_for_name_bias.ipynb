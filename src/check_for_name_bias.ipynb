{
 "cells": [
  {
   "cell_type": "code",
   "execution_count": null,
   "id": "ba92dd65",
   "metadata": {},
   "outputs": [],
   "source": [
    "import pandas as pd\n",
    "import spacy\n",
    "import re\n",
    "import tqdm\n",
    "from collections import Counter\n"
   ]
  },
  {
   "cell_type": "code",
   "execution_count": 2,
   "id": "2b4e258c",
   "metadata": {},
   "outputs": [
    {
     "name": "stderr",
     "output_type": "stream",
     "text": [
      "/Users/linndfors/study/diploma/new_venv/lib/python3.10/site-packages/transformers/utils/generic.py:441: UserWarning: torch.utils._pytree._register_pytree_node is deprecated. Please use torch.utils._pytree.register_pytree_node instead.\n",
      "  _torch_pytree._register_pytree_node(\n",
      "/Users/linndfors/study/diploma/new_venv/lib/python3.10/site-packages/transformers/utils/generic.py:309: UserWarning: torch.utils._pytree._register_pytree_node is deprecated. Please use torch.utils._pytree.register_pytree_node instead.\n",
      "  _torch_pytree._register_pytree_node(\n",
      "/Users/linndfors/study/diploma/new_venv/lib/python3.10/site-packages/spacy_transformers/layers/hf_shim.py:137: UserWarning: Error loading saved torch state_dict with strict=True, likely due to differences between 'transformers' versions. Attempting to load with strict=False as a fallback...\n",
      "\n",
      "If you see errors or degraded performance, download a newer compatible model or retrain your custom model with the current 'transformers' and 'spacy-transformers' versions. For more details and available updates, run: python -m spacy validate\n",
      "  warnings.warn(warn_msg)\n"
     ]
    }
   ],
   "source": [
    "ner_nlp = spacy.load(\"uk_ner_web_trf_13class\")"
   ]
  },
  {
   "cell_type": "code",
   "execution_count": 4,
   "id": "3300f2ea",
   "metadata": {},
   "outputs": [],
   "source": [
    "df = pd.read_csv(\"/Users/linndfors/study/diploma/ner_for_fem/src/MAIN_finetuned_aya_for_the_test_parallel_dataset.csv\")"
   ]
  },
  {
   "cell_type": "code",
   "execution_count": 5,
   "id": "594ea22b",
   "metadata": {},
   "outputs": [
    {
     "data": {
      "text/html": [
       "<div>\n",
       "<style scoped>\n",
       "    .dataframe tbody tr th:only-of-type {\n",
       "        vertical-align: middle;\n",
       "    }\n",
       "\n",
       "    .dataframe tbody tr th {\n",
       "        vertical-align: top;\n",
       "    }\n",
       "\n",
       "    .dataframe thead th {\n",
       "        text-align: right;\n",
       "    }\n",
       "</style>\n",
       "<table border=\"1\" class=\"dataframe\">\n",
       "  <thead>\n",
       "    <tr style=\"text-align: right;\">\n",
       "      <th></th>\n",
       "      <th>finetuned</th>\n",
       "      <th>references</th>\n",
       "      <th>inputs</th>\n",
       "      <th>double_finetuned</th>\n",
       "    </tr>\n",
       "  </thead>\n",
       "  <tbody>\n",
       "    <tr>\n",
       "      <th>0</th>\n",
       "      <td>офіцерка</td>\n",
       "      <td>офіцерка</td>\n",
       "      <td>офіцер</td>\n",
       "      <td>офіцер</td>\n",
       "    </tr>\n",
       "    <tr>\n",
       "      <th>1</th>\n",
       "      <td>мільярдер</td>\n",
       "      <td>мільярдер</td>\n",
       "      <td>мільярдерка</td>\n",
       "      <td>мільярдерка</td>\n",
       "    </tr>\n",
       "    <tr>\n",
       "      <th>2</th>\n",
       "      <td>пакистанець</td>\n",
       "      <td>пакистанець</td>\n",
       "      <td>пакистанка</td>\n",
       "      <td>пакистанка</td>\n",
       "    </tr>\n",
       "    <tr>\n",
       "      <th>3</th>\n",
       "      <td>Статутні внески найбільшого розміру не задекла...</td>\n",
       "      <td>Статутні внески найбільшого розміру не задекла...</td>\n",
       "      <td>Статутні внески найбільшого розміру не задекла...</td>\n",
       "      <td>Статутні внески найбільшого розміру не задекла...</td>\n",
       "    </tr>\n",
       "    <tr>\n",
       "      <th>4</th>\n",
       "      <td>отоларингологиня</td>\n",
       "      <td>отоларингологиня</td>\n",
       "      <td>отоларинголог</td>\n",
       "      <td>отоларинголог</td>\n",
       "    </tr>\n",
       "  </tbody>\n",
       "</table>\n",
       "</div>"
      ],
      "text/plain": [
       "                                           finetuned  \\\n",
       "0                                           офіцерка   \n",
       "1                                          мільярдер   \n",
       "2                                        пакистанець   \n",
       "3  Статутні внески найбільшого розміру не задекла...   \n",
       "4                                   отоларингологиня   \n",
       "\n",
       "                                          references  \\\n",
       "0                                           офіцерка   \n",
       "1                                          мільярдер   \n",
       "2                                        пакистанець   \n",
       "3  Статутні внески найбільшого розміру не задекла...   \n",
       "4                                   отоларингологиня   \n",
       "\n",
       "                                              inputs  \\\n",
       "0                                             офіцер   \n",
       "1                                        мільярдерка   \n",
       "2                                         пакистанка   \n",
       "3  Статутні внески найбільшого розміру не задекла...   \n",
       "4                                      отоларинголог   \n",
       "\n",
       "                                    double_finetuned  \n",
       "0                                             офіцер  \n",
       "1                                        мільярдерка  \n",
       "2                                         пакистанка  \n",
       "3  Статутні внески найбільшого розміру не задекла...  \n",
       "4                                      отоларинголог  "
      ]
     },
     "execution_count": 5,
     "metadata": {},
     "output_type": "execute_result"
    }
   ],
   "source": [
    "df.head()"
   ]
  },
  {
   "cell_type": "code",
   "execution_count": 6,
   "id": "b7f91129",
   "metadata": {},
   "outputs": [],
   "source": [
    "dict_df = pd.read_csv('/Users/linndfors/study/diploma/dict_uk/out/dict_corp_lt.txt', delimiter=' ', header=None, names=['word', 'lemma', 'grammar'])"
   ]
  },
  {
   "cell_type": "code",
   "execution_count": 7,
   "id": "f82eddab",
   "metadata": {},
   "outputs": [],
   "source": [
    "def define_sex(name):\n",
    "\n",
    "    filtered_df = dict_df[(dict_df['lemma'] == name) & (dict_df['word'] == name)]\n",
    "    if not filtered_df.empty:\n",
    "        grammar_pers = filtered_df['grammar'].iloc[0]\n",
    "        if re.search(r'fname', grammar_pers):\n",
    "            if re.search(r'\\bf\\b', grammar_pers):\n",
    "                return \"F\"\n",
    "            elif re.search(r'\\bm\\b', grammar_pers):\n",
    "                return \"M\"\n",
    "            else:\n",
    "                return \"U\"\n",
    "        elif re.search(r'lname', grammar_pers):\n",
    "            return \"L\"\n",
    "        else:\n",
    "            return \"U\"\n",
    "    else:\n",
    "        # print(\"No matches found for:\", name)\n",
    "        return \"U\"\n",
    "    # except Exception as e:\n",
    "    #     # print(\"error\", e)\n",
    "    #     return \"U\""
   ]
  },
  {
   "cell_type": "code",
   "execution_count": 9,
   "id": "9420d860",
   "metadata": {},
   "outputs": [
    {
     "name": "stderr",
     "output_type": "stream",
     "text": [
      "100%|██████████| 523/523 [12:25<00:00,  1.43s/it]\n"
     ]
    }
   ],
   "source": [
    "res = {\"L\": [], \"F\": [], \"M\": []}\n",
    "\n",
    "for x in tqdm.tqdm(df['finetuned']):\n",
    "    doc = ner_nlp(x)\n",
    "\n",
    "    person_entities = [ent.text for ent in doc.ents if ent.label_ == \"PERS\"]\n",
    "    for pers in person_entities:\n",
    "        for n in pers.split(\" \"):\n",
    "            gen = define_sex(n)\n",
    "            if gen in res.keys():\n",
    "                res[gen].append(n)\n",
    "                # print(n, gen)"
   ]
  },
  {
   "cell_type": "code",
   "execution_count": 17,
   "id": "ef6f9c88",
   "metadata": {},
   "outputs": [],
   "source": [
    "def calculate_name_frequency(name_dict):\n",
    "    stats = {}\n",
    "    counter_gender = {'L': 0, 'M': 0 , 'F': 0}\n",
    "    counter = 0\n",
    "    \n",
    "    for group, names in name_dict.items():\n",
    "        name_count = Counter(names)\n",
    "        counter += len(name_count)\n",
    "        stats[group] = name_count\n",
    "        for _, n in name_count.items():\n",
    "            counter_gender[group] += n\n",
    "    \n",
    "    print(\"Total:\", counter)\n",
    "    print(counter_gender)\n",
    "    \n",
    "    return stats, counter, counter_gender"
   ]
  },
  {
   "cell_type": "code",
   "execution_count": 18,
   "id": "d986607c",
   "metadata": {},
   "outputs": [
    {
     "name": "stdout",
     "output_type": "stream",
     "text": [
      "Total: 170\n",
      "{'L': 136, 'M': 56, 'F': 81}\n"
     ]
    }
   ],
   "source": [
    "name_stat = calculate_name_frequency(res)"
   ]
  },
  {
   "cell_type": "code",
   "execution_count": null,
   "id": "d6739061",
   "metadata": {},
   "outputs": [],
   "source": [
    "def calculate_top_name_frequency(name_dict, top_n=5):\n",
    "    stats = {}\n",
    "    \n",
    "    for group, names in name_dict.items():\n",
    "        name_count = Counter(names)\n",
    "        \n",
    "        top_names = name_count.most_common(top_n)\n",
    "        stats[group] = top_names\n",
    "    \n",
    "    return stats"
   ]
  },
  {
   "cell_type": "code",
   "execution_count": 14,
   "id": "b55be1b4",
   "metadata": {},
   "outputs": [
    {
     "name": "stdout",
     "output_type": "stream",
     "text": [
      "Top 10 statistics for L:\n",
      "  Супруненко: 3\n",
      "  Попова: 3\n",
      "  Сердюк: 2\n",
      "  Злочевська: 2\n",
      "  Пономарьов: 2\n",
      "\n",
      "Top 10 statistics for F:\n",
      "  Наталія: 20\n",
      "  Валентина: 13\n",
      "  Олександра: 7\n",
      "  Анатолія: 5\n",
      "  Олена: 5\n",
      "\n",
      "Top 10 statistics for M:\n",
      "  Олександр: 10\n",
      "  Микола: 6\n",
      "  Сергій: 5\n",
      "  Володимир: 4\n",
      "  Ігор: 3\n",
      "\n"
     ]
    }
   ],
   "source": [
    "top_name_statistics = calculate_top_name_frequency(res, top_n=5)\n",
    "\n",
    "for group, stats in top_name_statistics.items():\n",
    "    print(f\"Top 10 statistics for {group}:\")\n",
    "    for name, count in stats:\n",
    "        print(f\"  {name}: {count}\")\n",
    "    print()"
   ]
  },
  {
   "cell_type": "code",
   "execution_count": 19,
   "id": "fac717ce",
   "metadata": {},
   "outputs": [
    {
     "name": "stderr",
     "output_type": "stream",
     "text": [
      "  0%|          | 0/523 [00:00<?, ?it/s]"
     ]
    },
    {
     "name": "stderr",
     "output_type": "stream",
     "text": [
      "100%|██████████| 523/523 [12:13<00:00,  1.40s/it]\n"
     ]
    }
   ],
   "source": [
    "orig_res = {\"L\": [], \"F\": [], \"M\": []}\n",
    "\n",
    "for x in tqdm.tqdm(df['inputs']):\n",
    "    doc = ner_nlp(x)\n",
    "\n",
    "    person_entities = [ent.text for ent in doc.ents if ent.label_ == \"PERS\"]\n",
    "    for pers in person_entities:\n",
    "        for n in pers.split(\" \"):\n",
    "            gen = define_sex(n)\n",
    "            if gen in orig_res.keys():\n",
    "                orig_res[gen].append(n)\n",
    "                # print(n, gen)"
   ]
  },
  {
   "cell_type": "code",
   "execution_count": 22,
   "id": "740e8e75",
   "metadata": {},
   "outputs": [
    {
     "name": "stdout",
     "output_type": "stream",
     "text": [
      "Total: 187\n",
      "{'L': 138, 'M': 65, 'F': 72}\n"
     ]
    }
   ],
   "source": [
    "name_stat = calculate_name_frequency(orig_res)"
   ]
  },
  {
   "cell_type": "code",
   "execution_count": 23,
   "id": "0b6edabd",
   "metadata": {},
   "outputs": [
    {
     "name": "stdout",
     "output_type": "stream",
     "text": [
      "Top 5 statistics for L:\n",
      "  Янукович: 4\n",
      "  Іванющенко: 3\n",
      "  Сердюк: 2\n",
      "  Злочевський: 2\n",
      "  Пономарьов: 2\n",
      "\n",
      "Top 5 statistics for F:\n",
      "  Марія: 6\n",
      "  Олена: 6\n",
      "  Ірина: 5\n",
      "  Олександра: 5\n",
      "  Оксана: 4\n",
      "\n",
      "Top 5 statistics for M:\n",
      "  Олександр: 6\n",
      "  Сергій: 6\n",
      "  Микола: 5\n",
      "  Андрій: 4\n",
      "  Іван: 4\n",
      "\n"
     ]
    }
   ],
   "source": [
    "top_name_statistics = calculate_top_name_frequency(orig_res, top_n=5)\n",
    "\n",
    "for group, stats in top_name_statistics.items():\n",
    "    print(f\"Top 5 statistics for {group}:\")\n",
    "    for name, count in stats:\n",
    "        print(f\"  {name}: {count}\")\n",
    "    print()"
   ]
  }
 ],
 "metadata": {
  "kernelspec": {
   "display_name": "new_venv",
   "language": "python",
   "name": "python3"
  },
  "language_info": {
   "codemirror_mode": {
    "name": "ipython",
    "version": 3
   },
   "file_extension": ".py",
   "mimetype": "text/x-python",
   "name": "python",
   "nbconvert_exporter": "python",
   "pygments_lexer": "ipython3",
   "version": "3.10.15"
  }
 },
 "nbformat": 4,
 "nbformat_minor": 5
}
