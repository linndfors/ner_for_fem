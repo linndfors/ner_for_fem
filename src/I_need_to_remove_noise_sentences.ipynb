{
 "cells": [
  {
   "cell_type": "code",
   "execution_count": 1,
   "id": "ea73b2ce",
   "metadata": {},
   "outputs": [],
   "source": [
    "import pandas as pd"
   ]
  },
  {
   "cell_type": "code",
   "execution_count": 31,
   "id": "0441ecea",
   "metadata": {},
   "outputs": [],
   "source": [
    "bruk_sents = pd.read_csv(\"/Users/linndfors/study/diploma/ner_for_fem/data/csv_files_with_par_sentences/bruk_parallel.csv\")\n",
    "ng_sents = pd.read_csv(\"/Users/linndfors/study/diploma/ner_for_fem/data/csv_files_with_par_sentences/ng_parallel.csv\")"
   ]
  },
  {
   "cell_type": "code",
   "execution_count": 6,
   "id": "b3fbddea",
   "metadata": {},
   "outputs": [
    {
     "data": {
      "text/html": [
       "<div>\n",
       "<style scoped>\n",
       "    .dataframe tbody tr th:only-of-type {\n",
       "        vertical-align: middle;\n",
       "    }\n",
       "\n",
       "    .dataframe tbody tr th {\n",
       "        vertical-align: top;\n",
       "    }\n",
       "\n",
       "    .dataframe thead th {\n",
       "        text-align: right;\n",
       "    }\n",
       "</style>\n",
       "<table border=\"1\" class=\"dataframe\">\n",
       "  <thead>\n",
       "    <tr style=\"text-align: right;\">\n",
       "      <th></th>\n",
       "      <th>original_sentence</th>\n",
       "      <th>orig_sent_id</th>\n",
       "      <th>changed_sentence</th>\n",
       "      <th>changed_sent_id</th>\n",
       "      <th>original_file_name</th>\n",
       "      <th>orig_ann</th>\n",
       "      <th>changed_ann</th>\n",
       "    </tr>\n",
       "  </thead>\n",
       "  <tbody>\n",
       "    <tr>\n",
       "      <th>0</th>\n",
       "      <td>Його редактором був поет-символіст Яків Савчен...</td>\n",
       "      <td>46</td>\n",
       "      <td>Його редакторкою була поетеса-символістка Анже...</td>\n",
       "      <td>46</td>\n",
       "      <td>e5e76a8efa0f.txt</td>\n",
       "      <td>{'T30': ('поет-символіст', 'JOB')}</td>\n",
       "      <td>{'T30': ('поетеса-символістка', 'JOB')}</td>\n",
       "    </tr>\n",
       "    <tr>\n",
       "      <th>1</th>\n",
       "      <td>Міжпредметні паралелі . Маніфест футуристів ск...</td>\n",
       "      <td>62</td>\n",
       "      <td>Міжпредметні паралелі . Маніфест футуристок ск...</td>\n",
       "      <td>62</td>\n",
       "      <td>e5e76a8efa0f.txt</td>\n",
       "      <td>{'T49': ('поет', 'JOB')}</td>\n",
       "      <td>{'T49': ('поетеса', 'JOB')}</td>\n",
       "    </tr>\n",
       "    <tr>\n",
       "      <th>2</th>\n",
       "      <td>Помітною була організація « Гарт » ( 1923 — 19...</td>\n",
       "      <td>96</td>\n",
       "      <td>Помітною була організація « Гарт » ( 1923 — 19...</td>\n",
       "      <td>96</td>\n",
       "      <td>e5e76a8efa0f.txt</td>\n",
       "      <td>{'T104': ('поет', 'JOB')}</td>\n",
       "      <td>{'T104': ('поетка', 'JOB')}</td>\n",
       "    </tr>\n",
       "    <tr>\n",
       "      <th>3</th>\n",
       "      <td>Її очолив байкар і прозаїк Сергій Пилипенко .</td>\n",
       "      <td>127</td>\n",
       "      <td>Її очолила байкарка і прозаїкиня Марія Пилипен...</td>\n",
       "      <td>127</td>\n",
       "      <td>e5e76a8efa0f.txt</td>\n",
       "      <td>{'T143': ('байкар', 'JOB'), 'T144': ('прозаїк'...</td>\n",
       "      <td>{'T143': ('байкарка', 'JOB'), 'T144': ('прозаї...</td>\n",
       "    </tr>\n",
       "    <tr>\n",
       "      <th>4</th>\n",
       "      <td>У Галицько-Волинському літописі згадується спі...</td>\n",
       "      <td>171</td>\n",
       "      <td>У Галицько-Волинському літописі згадується спі...</td>\n",
       "      <td>171</td>\n",
       "      <td>e5e76a8efa0f.txt</td>\n",
       "      <td>{'T218': ('співець', 'JOB')}</td>\n",
       "      <td>{'T218': ('співчиня', 'JOB')}</td>\n",
       "    </tr>\n",
       "  </tbody>\n",
       "</table>\n",
       "</div>"
      ],
      "text/plain": [
       "                                   original_sentence  orig_sent_id  \\\n",
       "0  Його редактором був поет-символіст Яків Савчен...            46   \n",
       "1  Міжпредметні паралелі . Маніфест футуристів ск...            62   \n",
       "2  Помітною була організація « Гарт » ( 1923 — 19...            96   \n",
       "3      Її очолив байкар і прозаїк Сергій Пилипенко .           127   \n",
       "4  У Галицько-Волинському літописі згадується спі...           171   \n",
       "\n",
       "                                    changed_sentence  changed_sent_id  \\\n",
       "0  Його редакторкою була поетеса-символістка Анже...               46   \n",
       "1  Міжпредметні паралелі . Маніфест футуристок ск...               62   \n",
       "2  Помітною була організація « Гарт » ( 1923 — 19...               96   \n",
       "3  Її очолила байкарка і прозаїкиня Марія Пилипен...              127   \n",
       "4  У Галицько-Волинському літописі згадується спі...              171   \n",
       "\n",
       "  original_file_name                                           orig_ann  \\\n",
       "0   e5e76a8efa0f.txt                 {'T30': ('поет-символіст', 'JOB')}   \n",
       "1   e5e76a8efa0f.txt                           {'T49': ('поет', 'JOB')}   \n",
       "2   e5e76a8efa0f.txt                          {'T104': ('поет', 'JOB')}   \n",
       "3   e5e76a8efa0f.txt  {'T143': ('байкар', 'JOB'), 'T144': ('прозаїк'...   \n",
       "4   e5e76a8efa0f.txt                       {'T218': ('співець', 'JOB')}   \n",
       "\n",
       "                                         changed_ann  \n",
       "0            {'T30': ('поетеса-символістка', 'JOB')}  \n",
       "1                        {'T49': ('поетеса', 'JOB')}  \n",
       "2                        {'T104': ('поетка', 'JOB')}  \n",
       "3  {'T143': ('байкарка', 'JOB'), 'T144': ('прозаї...  \n",
       "4                      {'T218': ('співчиня', 'JOB')}  "
      ]
     },
     "execution_count": 6,
     "metadata": {},
     "output_type": "execute_result"
    }
   ],
   "source": [
    "bruk_sents.head()"
   ]
  },
  {
   "cell_type": "code",
   "execution_count": 38,
   "id": "21a62e74",
   "metadata": {},
   "outputs": [],
   "source": [
    "all_sentences = pd.concat([bruk_sents, ng_sents])"
   ]
  },
  {
   "cell_type": "code",
   "execution_count": 7,
   "id": "83f80d89",
   "metadata": {},
   "outputs": [],
   "source": [
    "test_swapped = pd.read_csv(\"/Users/linndfors/study/diploma/ner_for_fem/data/utils_files/test_swapped.csv\", index_col=0)\n",
    "dev_swapped = pd.read_csv(\"/Users/linndfors/study/diploma/ner_for_fem/data/utils_files/dev_swapped.csv\", index_col=0)\n",
    "df_after_annotation = pd.concat([dev_swapped, test_swapped]).reset_index()"
   ]
  },
  {
   "cell_type": "code",
   "execution_count": 20,
   "id": "c311cd4e",
   "metadata": {},
   "outputs": [],
   "source": [
    "doubled_sents = []\n",
    "\n",
    "for x, row in df_after_annotation.iterrows():\n",
    "    if row['Оригінальне речення'] == row['Змінене речення'] and row['Коректність речення'] == 'Правильне':\n",
    "        doubled_sents.append(row['Оригінальне речення'])"
   ]
  },
  {
   "cell_type": "code",
   "execution_count": 23,
   "id": "6aa23d1e",
   "metadata": {},
   "outputs": [],
   "source": [
    "dismiss_sents = list(df_after_annotation[df_after_annotation['Коректність речення']=='Важко визначити']['Оригінальне речення'].values)"
   ]
  },
  {
   "cell_type": "code",
   "execution_count": 17,
   "id": "d0ed3f2f",
   "metadata": {},
   "outputs": [
    {
     "data": {
      "text/plain": [
       "59"
      ]
     },
     "execution_count": 17,
     "metadata": {},
     "output_type": "execute_result"
    }
   ],
   "source": [
    "len(dismiss_sents)"
   ]
  },
  {
   "cell_type": "code",
   "execution_count": 25,
   "id": "4c110e9a",
   "metadata": {},
   "outputs": [],
   "source": [
    "bad_sentes_need_to_be_removed = dismiss_sents + doubled_sents"
   ]
  },
  {
   "cell_type": "code",
   "execution_count": 26,
   "id": "0485dfcd",
   "metadata": {},
   "outputs": [
    {
     "data": {
      "text/plain": [
       "119"
      ]
     },
     "execution_count": 26,
     "metadata": {},
     "output_type": "execute_result"
    }
   ],
   "source": [
    "len(bad_sentes_need_to_be_removed)"
   ]
  },
  {
   "cell_type": "markdown",
   "id": "c97921a2",
   "metadata": {},
   "source": [
    "## Filter par senetnces"
   ]
  },
  {
   "cell_type": "code",
   "execution_count": 40,
   "id": "9b48a463",
   "metadata": {},
   "outputs": [
    {
     "data": {
      "text/plain": [
       "(1513, 7)"
      ]
     },
     "execution_count": 40,
     "metadata": {},
     "output_type": "execute_result"
    }
   ],
   "source": [
    "all_sentences.shape"
   ]
  },
  {
   "cell_type": "code",
   "execution_count": 42,
   "id": "b5ebc97d",
   "metadata": {},
   "outputs": [],
   "source": [
    "all_sentences_filtered = all_sentences[\n",
    "    (~all_sentences['original_sentence'].isin(doubled_sents)) &\n",
    "    (~all_sentences['original_sentence'].isin(dismiss_sents))\n",
    "]\n"
   ]
  },
  {
   "cell_type": "code",
   "execution_count": 43,
   "id": "2a28aad1",
   "metadata": {},
   "outputs": [
    {
     "data": {
      "text/plain": [
       "(1403, 7)"
      ]
     },
     "execution_count": 43,
     "metadata": {},
     "output_type": "execute_result"
    }
   ],
   "source": [
    "all_sentences_filtered.shape"
   ]
  },
  {
   "cell_type": "code",
   "execution_count": 45,
   "id": "8cc6e043",
   "metadata": {},
   "outputs": [],
   "source": [
    "all_sentences_filtered.to_csv(\"all_parallel_sentence_both_datasets_with_filenames_and_labels.csv\", index=0)"
   ]
  },
  {
   "cell_type": "markdown",
   "id": "18068a47",
   "metadata": {},
   "source": [
    "## Find files with bad senetnces"
   ]
  },
  {
   "cell_type": "code",
   "execution_count": 48,
   "id": "4d58cd96",
   "metadata": {},
   "outputs": [
    {
     "name": "stdout",
     "output_type": "stream",
     "text": [
      "unknown sentence\n",
      "unknown sentence\n",
      "unknown sentence\n",
      "unknown sentence\n",
      "unknown sentence\n",
      "unknown sentence\n",
      "unknown sentence\n",
      "unknown sentence\n",
      "unknown sentence\n"
     ]
    }
   ],
   "source": [
    "bruk_sent_c, ng_sents_c = {}, {}\n",
    "\n",
    "for bad_sent in bad_sentes_need_to_be_removed:\n",
    "\n",
    "    if bad_sent in ng_sents['original_sentence'].values:\n",
    "\n",
    "        filename = ng_sents[ng_sents['original_sentence']==bad_sent]['original_file_name'].iloc[0]\n",
    "\n",
    "        if filename in ng_sents_c.keys():\n",
    "            ng_sents_c[filename].append(bad_sent)\n",
    "        else:\n",
    "            ng_sents_c[filename] = [bad_sent]\n",
    "\n",
    "        # ng_sents_c.append((bad_sent, )\n",
    "    elif bad_sent in bruk_sents['original_sentence'].values:\n",
    "\n",
    "        filename = bruk_sents[bruk_sents['original_sentence']==bad_sent]['original_file_name'].iloc[0]\n",
    "\n",
    "        if filename in bruk_sent_c.keys():\n",
    "            bruk_sent_c[filename].append(bad_sent)\n",
    "        else:\n",
    "            bruk_sent_c[filename] = [bad_sent]\n",
    "\n",
    "        # bruk_sent_c.append((bad_sent, bruk_sents[bruk_sents['original_sentence']==bad_sent]['original_file_name']))\n",
    "    else:\n",
    "        print(\"unknown sentence\")"
   ]
  },
  {
   "cell_type": "code",
   "execution_count": null,
   "id": "d97eb782",
   "metadata": {},
   "outputs": [],
   "source": [
    "/Users/linndfors/study/diploma/ner_for_fem/data/v2.0-swapped_filtering/data/bruk/aad4dce361f1-swapped.txt +\n",
    "/Users/linndfors/study/diploma/ner_for_fem/data/v2.0-swapped_filtering/data/bruk/dac0de834f47-swapped.txt +\n",
    "/Users/linndfors/study/diploma/ner_for_fem/data/v2.0-swapped_filtering/data/bruk/547ce681ada8-swapped.txt +\n",
    "/Users/linndfors/study/diploma/ner_for_fem/data/v2.0-swapped_filtering/data/bruk/9494fddb0caa-swapped.txt +\n",
    "/Users/linndfors/study/diploma/ner_for_fem/data/v2.0-swapped_filtering/data/bruk/9df8bcf8e17e-swapped.txt +\n",
    "/Users/linndfors/study/diploma/ner_for_fem/data/v2.0-swapped_filtering/data/bruk/647a3f078f3f-swapped.txt +\n",
    "/Users/linndfors/study/diploma/ner_for_fem/data/v2.0-swapped_filtering/data/bruk/38603af07530-swapped.txt +\n",
    "/Users/linndfors/study/diploma/ner_for_fem/data/v2.0-swapped_filtering/data/bruk/9c0774172f73-swapped.txt +\n",
    "/Users/linndfors/study/diploma/ner_for_fem/data/v2.0-swapped_filtering/data/bruk/ff069c11e13d-swapped.txt +\n",
    "/Users/linndfors/study/diploma/ner_for_fem/data/v2.0-swapped_filtering/data/bruk/1484f7813550-swapped.txt +\n",
    "/Users/linndfors/study/diploma/ner_for_fem/data/v2.0-swapped_filtering/data/bruk/5085bb95b51a-swapped.txt +\n",
    "/Users/linndfors/study/diploma/ner_for_fem/data/v2.0-swapped_filtering/data/bruk/e5e76a8efa0f-swapped.txt +\n",
    "/Users/linndfors/study/diploma/ner_for_fem/data/v2.0-swapped_filtering/data/bruk/47eb526780b0-swapped.txt +\n",
    "/Users/linndfors/study/diploma/ner_for_fem/data/v2.0-swapped_filtering/data/bruk/326978d2c58c-swapped.txt +\n",
    "/Users/linndfors/study/diploma/ner_for_fem/data/v2.0-swapped_filtering/data/bruk/066ec5f0dea6-swapped.txt +\n",
    "/Users/linndfors/study/diploma/ner_for_fem/data/v2.0-swapped_filtering/data/bruk/1c37d315923c-swapped.txt +\n",
    "/Users/linndfors/study/diploma/ner_for_fem/data/v2.0-swapped_filtering/data/bruk/c0f24f5d70e3-swapped.txt +\n",
    "/Users/linndfors/study/diploma/ner_for_fem/data/v2.0-swapped_filtering/data/bruk/e1d8841dcc68-swapped.txt +\n",
    "/Users/linndfors/study/diploma/ner_for_fem/data/v2.0-swapped_filtering/data/bruk/b84c8a869b51-swapped.txt +\n",
    "/Users/linndfors/study/diploma/ner_for_fem/data/v2.0-swapped_filtering/data/bruk/561acef3f531-swapped.txt +\n",
    "/Users/linndfors/study/diploma/ner_for_fem/data/v2.0-swapped_filtering/data/bruk/c6807dbff658-swapped.txt +\n",
    "/Users/linndfors/study/diploma/ner_for_fem/data/v2.0-swapped_filtering/data/bruk/5e10574a909c-swapped.txt +\n",
    "/Users/linndfors/study/diploma/ner_for_fem/data/v2.0-swapped_filtering/data/bruk/548f66f38090-swapped.txt +"
   ]
  },
  {
   "cell_type": "code",
   "execution_count": 81,
   "id": "dcb31891",
   "metadata": {},
   "outputs": [],
   "source": [
    "import os\n",
    "\n",
    "def update_ann_for_removed_sentences(txt_path, ann_path, sentences_to_remove):\n",
    "    with open(txt_path, \"r\", encoding=\"utf-8\") as f:\n",
    "        original_text = f.read()\n",
    "\n",
    "    # Split into sentences and track spans\n",
    "    sentences = original_text.split('\\n')\n",
    "    sentence_spans = []\n",
    "    start = 0\n",
    "    for s in sentences:\n",
    "        end = start + len(s)\n",
    "        sentence_spans.append((start, end))\n",
    "        start = end + 1  # account for '\\n'\n",
    "\n",
    "    # Prepare tracking\n",
    "    sentences_to_remove_set = set(sentences_to_remove)\n",
    "    removed_spans = []\n",
    "    shift_mapping = {}\n",
    "    new_sentences = []\n",
    "    current_index = 0\n",
    "\n",
    "    for s, (start, end) in zip(sentences, sentence_spans):\n",
    "        if s in sentences_to_remove_set:\n",
    "            removed_spans.append((start, end))\n",
    "            continue\n",
    "        new_sentences.append(s)\n",
    "        shift_mapping[(start, end)] = (current_index, current_index + len(s))\n",
    "        current_index += len(s) + 1  # +1 for '\\n'\n",
    "\n",
    "    new_text = '\\n'.join(new_sentences)\n",
    "\n",
    "    # Update annotations\n",
    "    updated_ann_lines = []\n",
    "    new_tid_counter = 1\n",
    "\n",
    "    with open(ann_path, \"r\", encoding=\"utf-8\") as f:\n",
    "        for line in f:\n",
    "            if not line.startswith(\"T\"):\n",
    "                updated_ann_lines.append(line.strip())\n",
    "                continue\n",
    "\n",
    "            parts = line.strip().split('\\t')\n",
    "            if len(parts) != 5:\n",
    "                continue\n",
    "\n",
    "            tid, label, start_str, end_str, entity = parts\n",
    "            start, end = int(start_str), int(end_str)\n",
    "\n",
    "            # Skip if annotation is in a removed sentence\n",
    "            if any(rs <= start < re or rs < end <= re or (start <= rs and end >= re) for (rs, re) in removed_spans):\n",
    "                continue\n",
    "\n",
    "            # Adjust offsets\n",
    "            for (orig_start, orig_end), (new_start, _) in shift_mapping.items():\n",
    "                if orig_start <= start < orig_end:\n",
    "                    offset = new_start - orig_start\n",
    "                    new_ann_start = start + offset\n",
    "                    new_ann_end = end + offset\n",
    "                    new_tid = f\"T{new_tid_counter}\"\n",
    "                    new_line = f\"{new_tid}\\t{label}\\t{new_ann_start}\\t{new_ann_end}\\t{entity}\"\n",
    "                    updated_ann_lines.append(new_line)\n",
    "                    new_tid_counter += 1\n",
    "                    break\n",
    "\n",
    "    # Save the new versions\n",
    "    with open(txt_path, \"w\", encoding=\"utf-8\") as f:\n",
    "        f.write(new_text)\n",
    "    with open(ann_path, \"w\", encoding=\"utf-8\") as f:\n",
    "        f.write('\\n'.join(updated_ann_lines) + '\\n')\n",
    "\n",
    "    print(f\"✅ Updated files saved to:\\n- {txt_path}\\n- {ann_path}\")\n"
   ]
  },
  {
   "cell_type": "code",
   "execution_count": 97,
   "id": "35cbd1a0",
   "metadata": {},
   "outputs": [
    {
     "name": "stdout",
     "output_type": "stream",
     "text": [
      "['Найважчим випробуванням для всіх моїх колег було матвійчукове правління на посаді голови облдержадміністрації .']\n",
      "✅ Updated files saved to:\n",
      "- /Users/linndfors/study/diploma/ner_for_fem/data/v2.0-swapped_filtering/data/bruk/561acef3f531-swapped.txt\n",
      "- /Users/linndfors/study/diploma/ner_for_fem/data/v2.0-swapped_filtering/data/bruk/561acef3f531-swapped.ann\n"
     ]
    }
   ],
   "source": [
    "# Example: remove sentence 1 and 3 (0-based index)\n",
    "filename = \"561acef3f531\"\n",
    "txt_file = f\"/Users/linndfors/study/diploma/ner_for_fem/data/v2.0-swapped_filtering/data/bruk/{filename}-swapped.txt\"\n",
    "ann_file = f\"/Users/linndfors/study/diploma/ner_for_fem/data/v2.0-swapped_filtering/data/bruk/{filename}-swapped.ann\"\n",
    "sentences_to_remove = bruk_sent_c[filename+\".txt\"]\n",
    "print(sentences_to_remove)\n",
    "# sentences_to_remove = ['Окрім того , варто зазначити , що продовжили існувати почесні нагрудні знаки начальниці Генерального штабу — Головнокомандувачки Збройних Сил України та командувачок видів Збройних Сил України , адже вони не мають статусу відомчих заохочувальних відзнак .']\n",
    "update_ann_for_removed_sentences(txt_file, ann_file, sentences_to_remove)\n"
   ]
  },
  {
   "cell_type": "code",
   "execution_count": 61,
   "id": "113a4df7",
   "metadata": {},
   "outputs": [],
   "source": [
    "def get_deleted_sentence_lengths(file_path, delete_list):\n",
    "    sentence_lengths = []\n",
    "\n",
    "    with open(file_path, 'r', encoding='utf-8') as f:\n",
    "        sentences = f.read().split('\\n')\n",
    "\n",
    "    for sentence in sentences:\n",
    "        if sentence in delete_list:\n",
    "            print(len(sentence) + 1, sentence)\n",
    "\n",
    "    return sentence_lengths"
   ]
  },
  {
   "cell_type": "code",
   "execution_count": 66,
   "id": "325fd556",
   "metadata": {},
   "outputs": [
    {
     "data": {
      "text/plain": [
       "150"
      ]
     },
     "execution_count": 66,
     "metadata": {},
     "output_type": "execute_result"
    }
   ],
   "source": [
    "len(\"\"\"Адже до того всі няні та гувернанти ходили з головним болем , обв’язавши вуха хустками і позатикавши їх шматочками корпії — так називалася тоді вата .\"\"\")"
   ]
  },
  {
   "cell_type": "code",
   "execution_count": 63,
   "id": "98bfa2f0",
   "metadata": {},
   "outputs": [
    {
     "data": {
      "text/plain": [
       "111"
      ]
     },
     "execution_count": 63,
     "metadata": {},
     "output_type": "execute_result"
    }
   ],
   "source": [
    "len('Найважчим випробуванням для всіх моїх колег було матвійчукове правління на посаді голови облдержадміністрації .')"
   ]
  },
  {
   "cell_type": "code",
   "execution_count": 62,
   "id": "378e0c6b",
   "metadata": {},
   "outputs": [
    {
     "name": "stdout",
     "output_type": "stream",
     "text": [
      "112 Найважчим випробуванням для всіх моїх колег було матвійчукове правління на посаді голови облдержадміністрації .\n"
     ]
    }
   ],
   "source": [
    "lengths = get_deleted_sentence_lengths(\"/Users/linndfors/study/diploma/ner_for_fem/data/v2.0-swapped_filtering/data/bruk/561acef3f531-swapped.txt\", 'Найважчим випробуванням для всіх моїх колег було матвійчукове правління на посаді голови облдержадміністрації .')"
   ]
  },
  {
   "cell_type": "code",
   "execution_count": 50,
   "id": "68a8d519",
   "metadata": {},
   "outputs": [
    {
     "data": {
      "text/plain": [
       "{'aad4dce361f1.txt': ['Може , тому і під храм підгадували кобзарі свої цехові збори — сходку , щоб менше на них звертали увагу , щоб менше впадала в око велика кількість мандрівних сліпців .'],\n",
       " 'dac0de834f47.txt': ['\" Але ж , – запитаєте ви , – в церкві сповідаються перед священиком .',\n",
       "  'До чиїх ніг нам падати ? \" Щоб таких питань не виникало , уважно дослухаймось до слів священика , якими він звертається до нас перед Сповіддю : \" Ось , чадо , Христос невидимо стоїть і приймає твою сповідь , а я тільки свідок , щоб свідчити перед Ним про все , що ти скажеш мені \" .',\n",
       "  'Отже , сповідаємося перед Богом у присутності священика .'],\n",
       " '547ce681ada8.txt': ['У словоформах кра-єм , сто-ю , до-ять ті самі літери вжито замість буквосполучення йе , йу , йа . Для уніфікації представлення основи та флексії відділяємо формальні ( графічні ) флексії ь та й у формах кра-й , олен-ь , сті-й , кин-ь ( як один з показників нульової флексії і пом’якшення основи на відміну від джбан-0 , пекар-0 , вдар-0 , де нульова флексія вказує і на твердість кінцевого приголосного основи ) , син-ього — з пом’якшеним кінцевим приголосним на відміну від зелен-ого .'],\n",
       " '9494fddb0caa.txt': ['Атака розпочалась тієї ж миті , тільки Христоф та двоє найманців , досі виряджених у монахів , лишилися на місці .'],\n",
       " '9df8bcf8e17e.txt': ['Так , було розроблено та погоджено з комісією Державних нагород та геральдики при Президентові України нові медалі та нагрудні знаки , які може отримати військовослужбовець за зразкове виконання свого службового обов’язку .',\n",
       "  'Але нові відзнаки відрізняються від скасованих не лише назвою , а й виглядом та розмірами , адже Указом Президента встановлено , що тепер розмір нагрудного знака не може перевищувати 45 мм .'],\n",
       " '647a3f078f3f.txt': ['Отож уявіть собі , яке творче піднесення огорнуло Михайлину й нас усіх довкола неї , коли ректор Українського католицького університету о . Борис Ґудзяк від імені усієї університетської спільноти запросив її як почесного гостя для виголошення напутнього слова до наших випускників .'],\n",
       " '38603af07530.txt': ['Окрім того , варто зазначити , що продовжили існувати почесні нагрудні знаки начальника Генерального штабу — Головнокомандувача Збройних Сил України та командувачів видів Збройних Сил України , адже вони не мають статусу відомчих заохочувальних відзнак .'],\n",
       " '9c0774172f73.txt': ['Автором сценарію виступив Сергій Бібік , режисер – Станіслав Цехмістренко .'],\n",
       " 'ff069c11e13d.txt': ['Читання за календарем дозволяють пастирю проповідувати , а громаді чути всю волю Божу : весь Закон і все Євангеліє , всі доктрини , і , зокрема , доктрину про Виправдання та доктрину про Освячення .',\n",
       "  'І коли насправді проповідується саме текст ( як і вимагається в нашій спільноті ) , тоді ми уникнемо завеликого наголосу на одній доктрині , яку особливо любить місцевий пастир .',\n",
       "  'Це особливо актуально нині , коли більшість пастирів нашої Церкви працює на світських роботах та фізично не може приділити підготовці до проповіді стільки часу , скільки хотіли б .'],\n",
       " '1484f7813550.txt': ['Мама була моєю першою вчителькою в початковій школі .'],\n",
       " '5085bb95b51a.txt': ['Пізніше журналісти « Червоного прапора » , продовжуючи ініціативу Івана Сподаренка друкувати нариси щотижня у недільному випуску , стали готувати їх ширше й цікавіше , з використанням фото і документів з життя героя , оцінок друзів , товаришів .'],\n",
       " 'e5e76a8efa0f.txt': ['« Празька школа » — так називають українських поетів міжвоєнного двадцятиліття , що творили у Празі та Подєбрадах ( Юрій Дараган , Леонід Мосендз , Євген Маланюк , Олекса Стефанович , Олег Ольжич , Олена Теліга , Галя Мазуренко , Оксана Лятуринська , Іван Ірлявський та інші ) .',\n",
       "  \"Значну роль у розвитку української літератури відіграли письменники , які мешкали у Варшаві . Євген Маланюк , Наталя Лівицька-Холодна 1929 року об'єдналися в групу « Танк » , згодом до неї увійшли Леонід Мосендз , Павло Чирський , Павло Зайцев , Юрій Липа та інші .\"],\n",
       " '47eb526780b0.txt': ['Але не можна твердити , що неокортекс сам виступає одноосібним керівником , оскільки через вплив лімбічної системи його логічні та структуровані рішення набувають емоційного забарвлення і навіть відчуваються на тілесному рівні , що й відрізняє людину від комп’ютера .'],\n",
       " '326978d2c58c.txt': ['Як часто ви вагаєтесь щодо того , як правильно назвати жінку за професією чи видом діяльності : лікар чи лікарка , секретар чи секретарка , психолог чи психологиня ?'],\n",
       " '066ec5f0dea6.txt': ['П’ятиденний марафон жіночого боксу зібрав у ФОК « Олімпія » двісті кращих спортсменок України у трьох вікових категоріях : юніорки , молодь та дорослі .'],\n",
       " '1c37d315923c.txt': ['Що з часів « Інкарнації » змінилось принципово ? « Напевно я росту , стаюся тихою » , « я вже вмію знаходити шлях – іще не смиренно та вже без гордині » - це про себе , це точний сьогоднішній зліпок з поета Кіяновської ?',\n",
       "  'Я навіть поставила би під сумнів таке поняття - « поет Кіяновська » . « Поет Кіяновська » - насправді не поет .'],\n",
       " 'c0f24f5d70e3.txt': ['Адже до того всі няньки та гувернантки ходили з головним болем , обв’язавши вуха хустками і позатикавши їх шматочками корпії — так називалася тоді вата .'],\n",
       " 'e1d8841dcc68.txt': ['Отож , голяку-ченцю не легко живеться , як і бідакам у світі , таких і до монастиря неохоче беруть .',\n",
       "  'Уніятські ченці тоді об’єднувались в ордені св . Василія Великого ( василіяни ) , а інші були підлеглі митрополиту ( в Дермані , Дубні та інших місцях ) .',\n",
       "  'До речі , підданих митрополит мав багато , а ченців мало : в Березвечах — три , в Бориса та Гліба — два , в Дубні — чотири , в Дермані — шість ; немало монастирів стояли порожні , відали ними світські люди та єпископи чи священики , бо маєтності зберігалися , — такий стан був загальний і свідчив про занепад монастирів , що були колись православні .',\n",
       "  'Подається історична довідка про стосунки єпископів із монастирями , ще за православної церкви .',\n",
       "  'За традицією мав управляти обителями єпископ , бо він чернець .',\n",
       "  'Однак у римо-католицькій церкві « орденів багато » , тож задля різнорідності звичаїв біскуп не може ними управляти , адже біскупи все-таки належали до білого духовенства ( світського ) . Оповідається історія Василіянського ордену .'],\n",
       " 'b84c8a869b51.txt': ['Однак юристи не виключають , що добрі наміри законодавців можуть обернутися для підприємств зайвим головним болем , а податківцям дадуть ще один привід для застосування санкцій .'],\n",
       " '561acef3f531.txt': ['Найважчим випробуванням для всіх моїх колег було матвійчукове правління на посаді голови облдержадміністрації .'],\n",
       " 'c6807dbff658.txt': ['На мою думку , необхідно ввести систему статистики кожного окремого суду та особисто судді на відповідних інтернет-сайтах судів .',\n",
       "  'Статистичні дані суду включатимуть такі дані : кількість та поіменний список суддів ; кількість справ та їх розділ за категоріями ( кількість цивільних , трудових спорів тощо ) ; кількість проваджень у суді , які були переглянуті в судах вищих інстанцій , із зазначенням кінцевих рішень судів вищих інстанцій ( скасування , зміна тощо ) .',\n",
       "  'Вона включатиме такі дані : кількість справ , що розглядалася суддею ; кількість проваджень , що були оскаржені в судах вищої інстанції ( із зазначенням результатів ) , стаж роботи на посаді судді .',\n",
       "  'Важливо надати користувачам можливість швидкого доступу до кінцевих рішень судді в кожному провадженні .',\n",
       "  'Варто зазначити , що можливість залишення відгуків про суддю чи суд є не доцільною , адже за результатами розгляду провадження сторони часто не можуть об’єктивно оцінювати роботу судді чи суду .',\n",
       "  'Адже великий відсоток скасованих ( з ухваленням нового рішення ) та змінених рішень може вказувати , з одного боку , на невизнання однією зі сторін судового рішення як справедливого та правосудного ; з іншого боку , це вказує на можливе неякісне виконання обов’язків судді .',\n",
       "  'Як наслідок , якщо у судді більшість справ ( > 50 % загальної кількості справ ) були скасовані ( з ухваленням нового рішення ) або змінені , то це може слугувати додатковою підставою для відводу судді .',\n",
       "  'Таке положення , у разі його закріплення у відповідному законодавстві , по-перше , створить додаткові стимули для якісної роботи судів та суддів , а по-друге , покращить зовнішню комунікацію судів з українським суспільством .',\n",
       "  'Необхідно « направити » суддів на пошук більшої кількості та кращої якості джерел для підтвердження правосудності свого рішення , а також зробити мову рішення доступнішою для населення .',\n",
       "  'Адже сьогодні більшість суддів в Україні застосовують переважно позитивістський підхід : навіщо шукати та посилатися на міжнародно-правові джерела , норми Конституції України , рішення ЄСПЛ , доктринальні джерела та ін . , якщо можна зробити посилання на декілька законів та / чи підзаконних нормативно-правових актів .',\n",
       "  'Для того , щоб судді підходили до написання судових рішень нестандартно ( у порівнянні з сьогоднішніми реаліями судової системи України ) , вбачається можливим проведення Всеукраїнського конкурсу судових рішень .'],\n",
       " '5e10574a909c.txt': ['У результаті довготривалих дискусій учених гриби були визнані окремим самостійним царством , проте з яскраво вираженим походженням від різних джгутикових та безджгутикових одноклітинних організмів ( поліфілія ) .',\n",
       "  'Тому не дивно , що вчені тривалий час відносили їх до грибів , з якими вони мають зовнішню подібність .'],\n",
       " '548f66f38090.txt': ['Старшини Галицької армії .']}"
      ]
     },
     "execution_count": 50,
     "metadata": {},
     "output_type": "execute_result"
    }
   ],
   "source": [
    "bruk_sent_c"
   ]
  },
  {
   "cell_type": "code",
   "execution_count": null,
   "id": "5e1a77de",
   "metadata": {},
   "outputs": [],
   "source": [
    "/Users/linndfors/study/diploma/ner_for_fem/data/v2.0-swapped_filtering/data/ng/30856acf29fc-swapped.txt +\n",
    "/Users/linndfors/study/diploma/ner_for_fem/data/v2.0-swapped_filtering/data/ng/517bca22990a-swapped.txt +\n",
    "/Users/linndfors/study/diploma/ner_for_fem/data/v2.0-swapped_filtering/data/ng/7d59bb5fe9f5-swapped.txt +\n",
    "/Users/linndfors/study/diploma/ner_for_fem/data/v2.0-swapped_filtering/data/ng/4de429586136-swapped.txt +\n",
    "/Users/linndfors/study/diploma/ner_for_fem/data/v2.0-swapped_filtering/data/ng/05b89d1a90bf-swapped.txt +\n",
    "/Users/linndfors/study/diploma/ner_for_fem/data/v2.0-swapped_filtering/data/ng/00b1a798bebf-swapped.txt +\n",
    "/Users/linndfors/study/diploma/ner_for_fem/data/v2.0-swapped_filtering/data/ng/bf3f1e807703-swapped.txt +\n",
    "/Users/linndfors/study/diploma/ner_for_fem/data/v2.0-swapped_filtering/data/ng/6920ac746f54-swapped.txt +\n",
    "/Users/linndfors/study/diploma/ner_for_fem/data/v2.0-swapped_filtering/data/ng/45ce670b36e1-swapped.txt +\n",
    "/Users/linndfors/study/diploma/ner_for_fem/data/v2.0-swapped_filtering/data/ng/fa2b54229991-swapped.txt +\n",
    "/Users/linndfors/study/diploma/ner_for_fem/data/v2.0-swapped_filtering/data/ng/1ce0dee84a4d-swapped.txt +\n",
    "/Users/linndfors/study/diploma/ner_for_fem/data/v2.0-swapped_filtering/data/ng/c07e05e53013-swapped.txt +\n",
    "/Users/linndfors/study/diploma/ner_for_fem/data/v2.0-swapped_filtering/data/ng/176e63516fab-swapped.txt +\n",
    "/Users/linndfors/study/diploma/ner_for_fem/data/v2.0-swapped_filtering/data/ng/9893f2c9cae9-swapped.txt +\n",
    "/Users/linndfors/study/diploma/ner_for_fem/data/v2.0-swapped_filtering/data/ng/5e33850771e3-swapped.txt +\n",
    "/Users/linndfors/study/diploma/ner_for_fem/data/v2.0-swapped_filtering/data/ng/3b4ea1813b99-swapped.txt +\n",
    "/Users/linndfors/study/diploma/ner_for_fem/data/v2.0-swapped_filtering/data/ng/c5930ba45ebe-swapped.txt +\n",
    "/Users/linndfors/study/diploma/ner_for_fem/data/v2.0-swapped_filtering/data/ng/66f7109b4b72-swapped.txt +\n",
    "/Users/linndfors/study/diploma/ner_for_fem/data/v2.0-swapped_filtering/data/ng/b645c9653d72-swapped.txt +\n",
    "/Users/linndfors/study/diploma/ner_for_fem/data/v2.0-swapped_filtering/data/ng/82e415f0dd48-swapped.txt +\n",
    "/Users/linndfors/study/diploma/ner_for_fem/data/v2.0-swapped_filtering/data/ng/104263660695-swapped.txt +\n",
    "/Users/linndfors/study/diploma/ner_for_fem/data/v2.0-swapped_filtering/data/ng/989b35bbc2b6-swapped.txt +\n",
    "/Users/linndfors/study/diploma/ner_for_fem/data/v2.0-swapped_filtering/data/ng/8098d69d861f-swapped.txt +\n",
    "/Users/linndfors/study/diploma/ner_for_fem/data/v2.0-swapped_filtering/data/ng/9c264bd5a100-swapped.txt +\n",
    "/Users/linndfors/study/diploma/ner_for_fem/data/v2.0-swapped_filtering/data/ng/02bebf42e010-swapped.txt +\n",
    "/Users/linndfors/study/diploma/ner_for_fem/data/v2.0-swapped_filtering/data/ng/8806c823dee8-swapped.txt +\n",
    "/Users/linndfors/study/diploma/ner_for_fem/data/v2.0-swapped_filtering/data/ng/a9d2c035032d-swapped.txt +\n",
    "/Users/linndfors/study/diploma/ner_for_fem/data/v2.0-swapped_filtering/data/ng/de4c2d20b24b-swapped.txt +\n",
    "/Users/linndfors/study/diploma/ner_for_fem/data/v2.0-swapped_filtering/data/ng/1c3533ec1df3-swapped.txt +\n",
    "/Users/linndfors/study/diploma/ner_for_fem/data/v2.0-swapped_filtering/data/ng/b0163b57e788-swapped.txt +\n",
    "/Users/linndfors/study/diploma/ner_for_fem/data/v2.0-swapped_filtering/data/ng/01cfbeca9827-swapped.txt +\n",
    "/Users/linndfors/study/diploma/ner_for_fem/data/v2.0-swapped_filtering/data/ng/5e407e3ddb68-swapped.txt +\n",
    "/Users/linndfors/study/diploma/ner_for_fem/data/v2.0-swapped_filtering/data/ng/06d7009e4925-swapped.txt +\n",
    "/Users/linndfors/study/diploma/ner_for_fem/data/v2.0-swapped_filtering/data/ng/f8ce14d569d1-swapped.txt +\n",
    "/Users/linndfors/study/diploma/ner_for_fem/data/v2.0-swapped_filtering/data/ng/a854e880d075-swapped.txt +\n",
    "/Users/linndfors/study/diploma/ner_for_fem/data/v2.0-swapped_filtering/data/ng/e54ada2b9649-swapped.txt +\n",
    "/Users/linndfors/study/diploma/ner_for_fem/data/v2.0-swapped_filtering/data/ng/6b71dda907fe-swapped.txt +\n",
    "/Users/linndfors/study/diploma/ner_for_fem/data/v2.0-swapped_filtering/data/ng/236f916f3d6f-swapped.txt +\n",
    "/Users/linndfors/study/diploma/ner_for_fem/data/v2.0-swapped_filtering/data/ng/08c0799d889a-swapped.txt +\n",
    "/Users/linndfors/study/diploma/ner_for_fem/data/v2.0-swapped_filtering/data/ng/86c78648f86f-swapped.txt +\n",
    "/Users/linndfors/study/diploma/ner_for_fem/data/v2.0-swapped_filtering/data/ng/ab66959f7440-swapped.txt +\n",
    "/Users/linndfors/study/diploma/ner_for_fem/data/v2.0-swapped_filtering/data/ng/e6f68e10e0e4-swapped.txt +\n",
    "/Users/linndfors/study/diploma/ner_for_fem/data/v2.0-swapped_filtering/data/ng/c49d24717658-swapped.txt +\n",
    "/Users/linndfors/study/diploma/ner_for_fem/data/v2.0-swapped_filtering/data/ng/7faf035614c1-swapped.txt +\n",
    "/Users/linndfors/study/diploma/ner_for_fem/data/v2.0-swapped_filtering/data/ng/5a43160b965d-swapped.txt -1 ???\n",
    "/Users/linndfors/study/diploma/ner_for_fem/data/v2.0-swapped_filtering/data/ng/03b52358982b-swapped.txt +\n",
    "/Users/linndfors/study/diploma/ner_for_fem/data/v2.0-swapped_filtering/data/ng/bdb88360d4a8-swapped.txt +\n",
    "/Users/linndfors/study/diploma/ner_for_fem/data/v2.0-swapped_filtering/data/ng/0e31947e4561-swapped.txt +\n",
    "/Users/linndfors/study/diploma/ner_for_fem/data/v2.0-swapped_filtering/data/ng/4ea65724096f-swapped.txt +\n",
    "/Users/linndfors/study/diploma/ner_for_fem/data/v2.0-swapped_filtering/data/ng/6ada9307320e-swapped.txt +\n",
    "/Users/linndfors/study/diploma/ner_for_fem/data/v2.0-swapped_filtering/data/ng/07c51f631d18-swapped.txt +\n",
    "/Users/linndfors/study/diploma/ner_for_fem/data/v2.0-swapped_filtering/data/ng/f82ca27cb935-swapped.txt +"
   ]
  },
  {
   "cell_type": "code",
   "execution_count": 145,
   "id": "2fde05ca",
   "metadata": {},
   "outputs": [
    {
     "name": "stdout",
     "output_type": "stream",
     "text": [
      "['Але через шість років – в жовтні 2012-го Апеляційний суд Кіровоградської області вирішив, що договір між військовими і «Агрорембудсервіс» є нікчемним.']\n",
      "✅ Updated files saved to:\n",
      "- /Users/linndfors/study/diploma/ner_for_fem/data/v2.0-swapped_filtering/data/ng/f82ca27cb935-swapped.txt\n",
      "- /Users/linndfors/study/diploma/ner_for_fem/data/v2.0-swapped_filtering/data/ng/f82ca27cb935-swapped.ann\n"
     ]
    }
   ],
   "source": [
    " # Example: remove sentence 1 and 3 (0-based index)\n",
    "filename = \"f82ca27cb935\"\n",
    "txt_file = f\"/Users/linndfors/study/diploma/ner_for_fem/data/v2.0-swapped_filtering/data/ng/{filename}-swapped.txt\"\n",
    "ann_file = f\"/Users/linndfors/study/diploma/ner_for_fem/data/v2.0-swapped_filtering/data/ng/{filename}-swapped.ann\"\n",
    "sentences_to_remove = ng_sents_c[filename+\".txt\"]\n",
    "print(sentences_to_remove)\n",
    "# sentences_to_remove = [\"«Мегатрейд-Схід» і Довгополова є співзасновницями донецького підприємства «Дорожньо-ремонтно-будівельне об'єднання 1».\"]\n",
    "update_ann_for_removed_sentences(txt_file, ann_file, sentences_to_remove)\n"
   ]
  },
  {
   "cell_type": "code",
   "execution_count": 57,
   "id": "a48b6f2c",
   "metadata": {},
   "outputs": [
    {
     "data": {
      "text/plain": [
       "{'30856acf29fc.txt': [\"Засновниками ТОВ «Північне Причорномор'я» є Пантелій Міхайлуце та одеський бізнесмен Дмитро Шкрабов, що відомий як чоловік «одеської Барбі».\"],\n",
       " '517bca22990a.txt': ['Суд наклав арешт на житловий будинок, що за даними слідства належить голові Всеукраїнської профспілки працівників галузі земельних відносин України Дмитру Філіпчуку, затриманому за вимагання $100 тис.'],\n",
       " '7d59bb5fe9f5.txt': ['Правопорушення стосується періоду, упродовж якого Бережанська займала посаду заступника голови Херсонського ОТВ АМКУ-начальника відділу досліджень і розслідувань.',\n",
       "  'Того ж дня чиновниця подала декларацію перед звільненням, у якій не вказала фірму чоловіка ПП «Землемір».'],\n",
       " '4de429586136.txt': ['Протягом 2004-2013 рр. засновниками ТОВ «Біо-Оріяна» були ТОВ «Комерційно-виробнича фірма «Сінтек» і киянка Лариса Петренко.',\n",
       "  'Остання вийшла зі складу засновників, де залишилася лише фірма «Сінтек», засновниками якої є Олександр Яковлєв і Надія Яковлєва.'],\n",
       " '05b89d1a90bf.txt': ['ТОВ «Черкасиміськбуд» засновано Надією Шаповал, у минулому відомою як керівник первинного осередку Партії промисловців і підприємців.'],\n",
       " '00b1a798bebf.txt': ['Дмитро Іванов прописаний за однією адресою в Мелітополі з Оленою Івановою – бізнес-партнера депутата Мелітопольської міської ради від партії «БПП «Солідарність» Сергія Біловола по фірмі «Фундамент-М» (за деякими даними Іванова – сестра Біловола).'],\n",
       " 'bf3f1e807703.txt': ['Її власницею є Ірина Гуназа, відома як представник партії «Україна майбутнього» Святослава Олійника, екс-замгубернатора Ігоря Коломойського.'],\n",
       " '6920ac746f54.txt': ['Засновниками ТОВ «Енергогазінвестконсалт» є Олена Смик з Глевахи і столичне ТОВ «Обрій», засновницею якого є та ж Смик.',\n",
       "  'Крім того, розпорядження голови Генічеська РДА, на підставі якого у грудні 2009-го був укладений договір, скасоване розпорядженням голови Херсонської облдержадміністрації від 01.09.2010.'],\n",
       " '45ce670b36e1.txt': ['«За» дозвіл Ахметову голосували голова АМКУ Юрій Терентьєв, його заступниці Марія Ніжнік і Ніна Сідоренко, а також держуповноважена Марія Процишен.'],\n",
       " 'fa2b54229991.txt': ['Шостий апеляційний адміністративний суд направив для розгляду до суду першої інстанції справу за позовом ПАТ «Укрнафта» проти АМКУ про визнання протиправними дії антимонопольників в частині використання матеріалів НАБУ у розслідуванні змови підприємств групи «Приват» на ринку пального.'],\n",
       " '1ce0dee84a4d.txt': [\"Засновниками комбінату є Алла Кущ і ТОВ «Прайд», де власниками значаться Юлія Старосвітська, Ганна Алад'єва, Олександр Водолазький і Наталія Бєлкіна.\"],\n",
       " 'c07e05e53013.txt': ['Однак, після того, як на початку червня цього року суд припинив санацію держпідприємства, фонд «Інноваційні стратегії» вийшов зі складу засновників «Праймтранс Компані», де його замінили вказані віргінські компанії.'],\n",
       " '176e63516fab.txt': ['Традиційно дорожники прописували необхідність надання підрядниками підтвердження щодо наявності або залучення асфальтобетонного заводу взагалі на будь якій відстані, найчастіше йдеться про довідку в довільній формі.'],\n",
       " '9893f2c9cae9.txt': ['Аграрії раділи недовго, пише Марія Попова у «ЛІГАБізнесІнформ».'],\n",
       " '5e33850771e3.txt': [\"Окрім прибутку в 500 тис. в декларації за 2016 р. у прокурора Борзих з'явився і автомобіль – Toyota Camry 2006 р.в. придбана ним за 300 тис. грн.\"],\n",
       " '3b4ea1813b99.txt': ['ТОВ «Каштан-Плюс» належить Ганні Олексенко, яка також є директором, Валентині Гладун та Дмитру Олексенку.'],\n",
       " 'c5930ba45ebe.txt': ['Наразі засновником та директором ПП «Зіко-Буд» вказана Ірина Заремба.'],\n",
       " '66f7109b4b72.txt': [\"«Мегатрейд-Схід» і Довгополов є співзасновниками донецького підприємства «Дорожньо-ремонтно-будівельне об'єднання 1».\"],\n",
       " 'b645c9653d72.txt': ['Новий керівник передав комплекс наземного обслуговування пасажирів приватним компаніям з орбіти монополіста українського неба Ігоря Коломойського.'],\n",
       " '82e415f0dd48.txt': ['Нагадаємо, 19 серпня арешт на вказані кошти слідчий наклала слідчий суддя Наталія Зубачик.'],\n",
       " '104263660695.txt': ['Слідчі встановили, що у 2018-2019 рр. управління ЖКГ Чернігівської міськради та ТОВ «Армшляхбуд» уклали низку договорів на загальну суму 91,89 млн грн.'],\n",
       " '989b35bbc2b6.txt': ['Суд надав слідчим доступ до документації фірми.'],\n",
       " '8098d69d861f.txt': [\"За версією слідчих Генпрокуратури, у 2011-2015 рр. невстановлені службові особи ДП «НАЕК «Енергоатому» за змовою з іншими особами, організували привласнення державних коштів та сприяння підконтрольним їм підприємствам в мінімізації податкових зобов'язань.\",\n",
       "  \"Також слідчі ГПУ з'ясували, що тендерна документація «Кабельтехпостачу» містила неправдиві відомості щодо офісу фірми, складських приміщень і дилерських договорів із виробником ТОВ «Крок -ГТ».\"],\n",
       " '9c264bd5a100.txt': [\"Нагадаємо, у вересні 2019 року суд у рамках кримінального розслідування ДБР надав слідчим дозвіл на проведення обшуку у ДАБІ України та у столичному ДАБК для вилучення документів по ряду об'єктів будівництва, серед яких було і ЖК на вул Московській, 7.\"],\n",
       " '02bebf42e010.txt': ['А ось суддя з роботи повертається в житло на Печерську, яке оформлене на його матір.',\n",
       "  'Відповідно до законодавства, держава забезпечує суддів, які потребують поліпшення житлових умов, службовим житлом.'],\n",
       " '8806c823dee8.txt': [\"Слідчі встановили, що у серпні-грудні 2015 року «Компанія «Зевс ЛТД» поставила на користь підприємств, підконтрольних терористичній організації ДНР, м'яса та м'ясопродукції на 1,5 тис. тонн на суму близько 100 млн грн.\"],\n",
       " 'a9d2c035032d.txt': ['Але керівництво фірми цю інформацію спростувало.'],\n",
       " 'de4c2d20b24b.txt': ['Одягнені в жилетки «Онуру», військові ремонтували вулиці Городоцьку, Коперника та Б. Хмельницького.',\n",
       "  'Військових фірма найняла на підставі договору на загальнобудівельні роботи, восьмигодинний робочий день при цьому був оцінений в 120 грн.'],\n",
       " '1c3533ec1df3.txt': ['Про це свідчать дані декларацій судді за 2015, 2014 і 2013 роки.',\n",
       "  'Сьогодні є суддею господарського суду Одеської області.'],\n",
       " 'b0163b57e788.txt': [\"Офіційно сім'я судді не має власної нерухомості у столиці.\"],\n",
       " '01cfbeca9827.txt': ['Слідчі отримали доступ до бухгалтерських документів «ЛБК «Наш Дом», які веде і зберігає у себе київське ТОВ «БОФ «Максим-Теко».'],\n",
       " '5e407e3ddb68.txt': ['Суд надав слідчим дозвіл на вилучення документів з Управління Держпраці, які стосуються перевірки ТОВ «Філ-буд».'],\n",
       " '06d7009e4925.txt': ['Суд дав слідчим доступ до ресєтраційних документів фірми та інформації про надходження коштів на рахунок фірми в Ощадбанку з 12 березня 2014 року по 14 вересня 2015 року.'],\n",
       " 'f8ce14d569d1.txt': [\"Тому Старовижівська районна рада попросила голову ОДА посприяти у скасуванні наказу голови Держгеокадастру та зобов'язати керівництво управління Держгеокадастру у Волинській області надалі надавати дозволи на складання проектів землеустрою щодо відведення земельних ділянок у власність виключно за наявності відповідних погоджень органів місцевого самоврядування, на території яких вони знаходяться.\"],\n",
       " 'a854e880d075.txt': ['Суд надав слідчим Генеральної прокуратури, які розслідують кримінальне провадження № 42016000000002788 від 08.10.2016, доступ до банківських рахунків «НВП «Інтертерм» та фіктивних фірм.'],\n",
       " 'e54ada2b9649.txt': ['А вже в березні цього року слідчі Львівської місцевої прокуратури відкрили кримінальне провадження за підозрою у причетності посадових осіб «Тек-гідроаеробуд» розтраті та привласненні бюджетних коштів під час реконструкції центру.'],\n",
       " '6b71dda907fe.txt': ['24 січня цього року під час обшуку у виробничих приміщеннях ДП «Селидіввугілля» слідчі виявили 8 кріплень КГПС «Супутник», які знаходяться у незадовільно технічному стані.'],\n",
       " '236f916f3d6f.txt': ['Колегія суддів під головування Олени Поляк прийшла до висновку, що ОГ «Лісове» вже 12 років добросовісно користується угіддями, і всі ці роки не було нарікань ні збоку сільрад, ні прокуратури.'],\n",
       " '08c0799d889a.txt': ['Таким чином обласна прокуратура забезпечила виконання рішення госпсуду Дніпропетровської області, який у березні цього року визнав недійсними розпорядження голови Васильківської райдержадміністрації та угоди про поновлення договорів оренди ділянок площею 7,65 га.',\n",
       "  'Разом з тим Васильківська РДА, виконуючи розпорядження голови ОДА, при укладенні договорів оренди із ТОВ «Демурінський ГЗК» не змінила призначення ділянок, визначивши їх як сільськогосподарські.'],\n",
       " '86c78648f86f.txt': [\"Госпсуд Дніпропетровської області відхилив доводи «Метиди» про те, що підставою для передачі ділянки в оренду фірмі стало розпорядження голови Дніпропетровської РДА, оскільки для укладення такого договору обов'язково має бути рішення РДА.\"],\n",
       " 'ab66959f7440.txt': ['З судових матеріалів відомо, що слідчі провели обшуки «Харківська міська дитяча лікарня № 5» та наклали арешт на обладнання «АРС-2015».'],\n",
       " 'e6f68e10e0e4.txt': [\"25 жовтня суд надав слідчим доступ до договорів, актів виконаних робіт, платіжних доручень, що стали підставами для проведення ДП «Дирекція по будівництву об'єктів» впродовж 2015-2016 рр фінансових операцій з бюджетними коштами, передбаченими для закупівлі гірничо-шахтного обладнання та будівництва шахти №10 «Нововолинська» ДП «Волиньвугілля».\"],\n",
       " 'c49d24717658.txt': ['Про це свідчить електронна декларація судді у реєстрі НАЗК.',\n",
       "  'Згідно з офіційними деклараціями про доходи, суддя має службову квартирою площею 90 кв. м. Ця квартира належить Госпсуду Києва і перебуває в користуванні судді з 2012 року.',\n",
       "  'У 2014 році суддя також декларувала цінні папери номінальною вартістю 0,52 млн грн.'],\n",
       " '7faf035614c1.txt': ['Слідчі звернулись до суду з клопотанням надати доступ до банківських рахунків «Сервісбуд-Інвест» та фізичних осіб, яким фірма перерахувала кошти.'],\n",
       " '5a43160b965d.txt': ['Суд задовольнив клопотання слідчих управління ГУ Національної поліції в Донецькій області, які розслідують кримінальне провадження № 42017050000000313 від 31.03.2017, і надав їм доступ до документації щодо ремонту інтернатів.'],\n",
       " '03b52358982b.txt': ['До аналогічного висновку дійшла і колегія суддів апеляційного суду.'],\n",
       " 'bdb88360d4a8.txt': ['Суд надав слідчим доступ до оригіналів тендерної документації та пропозицій учасників, які знаходяться в Управлінні капбудівництва.',\n",
       "  'Суд надав слідчим доступ до оригіналів документів до цих угодах.'],\n",
       " '0e31947e4561.txt': ['Суд надав слідчим доступ до документації останнього.'],\n",
       " '4ea65724096f.txt': [\"ПрАТ «Сєвєродонецьке науково-виробниче об'єднання «Імпульс» контролюється головою правління Володимиром Єлісєєвим.\"],\n",
       " '6ada9307320e.txt': ['Слідчі також встановили, що 28 грудня управління з виконання політики міської ради з ЖКГ уклало договір купівлі-продажу, згідно з яким воно придбало снігоприбиральний КрАЗ за 205 тис грн.',\n",
       "  'Слідчі СВ Лисичанського ВП ГУ Національної полі в Луганській області, які розслідують кримінальне провадження 42017131240000001 від 11.01.2017, звернулися до суду з клопотанням арештувати снігоприбиральний транспортний засіб.'],\n",
       " '07c51f631d18.txt': [\"У тендерній документації вказано, що «згідно з повідомленнями правоохоронних органів на сьогодні існує реальна загроза виникнення небезпеки життю і здоров'ю голови правління НАК «Нафтогаз України».\"],\n",
       " 'f82ca27cb935.txt': ['Але через шість років – в жовтні 2012-го Апеляційний суд Кіровоградської області вирішив, що договір між військовими і «Агрорембудсервіс» є нікчемним.']}"
      ]
     },
     "execution_count": 57,
     "metadata": {},
     "output_type": "execute_result"
    }
   ],
   "source": [
    "ng_sents_c"
   ]
  }
 ],
 "metadata": {
  "kernelspec": {
   "display_name": "new_venv",
   "language": "python",
   "name": "python3"
  },
  "language_info": {
   "codemirror_mode": {
    "name": "ipython",
    "version": 3
   },
   "file_extension": ".py",
   "mimetype": "text/x-python",
   "name": "python",
   "nbconvert_exporter": "python",
   "pygments_lexer": "ipython3",
   "version": "3.10.16"
  }
 },
 "nbformat": 4,
 "nbformat_minor": 5
}
