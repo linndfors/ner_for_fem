{
 "cells": [
  {
   "cell_type": "code",
   "execution_count": 1,
   "metadata": {},
   "outputs": [],
   "source": [
    "import pandas as pd\n",
    "import os\n",
    "import re\n",
    "import tqdm\n",
    "from typing import List, Dict\n",
    "import json\n",
    "import shutil"
   ]
  },
  {
   "cell_type": "code",
   "execution_count": 2,
   "metadata": {},
   "outputs": [
    {
     "name": "stderr",
     "output_type": "stream",
     "text": [
      "/Users/linndfors/study/diploma/new_venv/lib/python3.10/site-packages/transformers/utils/generic.py:441: UserWarning: torch.utils._pytree._register_pytree_node is deprecated. Please use torch.utils._pytree.register_pytree_node instead.\n",
      "  _torch_pytree._register_pytree_node(\n",
      "2025-04-04 23:24:07 INFO: Checking for updates to resources.json in case models have been updated.  Note: this behavior can be turned off with download_method=None or download_method=DownloadMethod.REUSE_RESOURCES\n"
     ]
    },
    {
     "data": {
      "application/vnd.jupyter.widget-view+json": {
       "model_id": "5c6a85c32bdd434a9e0bc9d9b46e0fdf",
       "version_major": 2,
       "version_minor": 0
      },
      "text/plain": [
       "Downloading https://raw.githubusercontent.com/stanfordnlp/stanza-resources/main/resources_1.10.0.json:   0%|  …"
      ]
     },
     "metadata": {},
     "output_type": "display_data"
    },
    {
     "name": "stderr",
     "output_type": "stream",
     "text": [
      "2025-04-04 23:24:07 INFO: Downloaded file to /Users/linndfors/stanza_resources/resources.json\n",
      "2025-04-04 23:24:09 INFO: Loading these models for language: uk (Ukrainian):\n",
      "===========================\n",
      "| Processor | Package     |\n",
      "---------------------------\n",
      "| tokenize  | iu          |\n",
      "| mwt       | iu          |\n",
      "| pos       | iu_charlm   |\n",
      "| lemma     | iu_nocharlm |\n",
      "| depparse  | iu_charlm   |\n",
      "===========================\n",
      "\n",
      "2025-04-04 23:24:09 INFO: Using device: cpu\n",
      "2025-04-04 23:24:09 INFO: Loading: tokenize\n",
      "2025-04-04 23:24:10 INFO: Loading: mwt\n",
      "2025-04-04 23:24:10 INFO: Loading: pos\n",
      "2025-04-04 23:24:15 INFO: Loading: lemma\n",
      "2025-04-04 23:24:16 INFO: Loading: depparse\n",
      "2025-04-04 23:24:17 INFO: Done loading processors!\n"
     ]
    }
   ],
   "source": [
    "import stanza\n",
    "import pymorphy3\n",
    "import pymorphy2\n",
    "\n",
    "nlp = stanza.Pipeline('uk', processors='tokenize,mwt,pos,lemma,depparse')\n",
    "morph = pymorphy3.MorphAnalyzer()\n",
    "\n",
    "\n",
    "# # stanza.download('uk')"
   ]
  },
  {
   "cell_type": "code",
   "execution_count": 3,
   "metadata": {},
   "outputs": [],
   "source": [
    "parallel_dataset_ng_dataset = pd.read_csv(\"/Users/linndfors/study/diploma/ner_for_fem/data/csv_files_with_par_sentences/ng_parallel.csv\")\n",
    "parallel_dataset_bruk_dataset = pd.read_csv(\"/Users/linndfors/study/diploma/ner_for_fem/data/csv_files_with_par_sentences/bruk_parallel.csv\")"
   ]
  },
  {
   "cell_type": "code",
   "execution_count": 4,
   "metadata": {},
   "outputs": [
    {
     "data": {
      "text/html": [
       "<div>\n",
       "<style scoped>\n",
       "    .dataframe tbody tr th:only-of-type {\n",
       "        vertical-align: middle;\n",
       "    }\n",
       "\n",
       "    .dataframe tbody tr th {\n",
       "        vertical-align: top;\n",
       "    }\n",
       "\n",
       "    .dataframe thead th {\n",
       "        text-align: right;\n",
       "    }\n",
       "</style>\n",
       "<table border=\"1\" class=\"dataframe\">\n",
       "  <thead>\n",
       "    <tr style=\"text-align: right;\">\n",
       "      <th></th>\n",
       "      <th>original_sentence</th>\n",
       "      <th>orig_sent_id</th>\n",
       "      <th>changed_sentence</th>\n",
       "      <th>changed_sent_id</th>\n",
       "      <th>original_file_name</th>\n",
       "      <th>orig_ann</th>\n",
       "      <th>changed_ann</th>\n",
       "    </tr>\n",
       "  </thead>\n",
       "  <tbody>\n",
       "    <tr>\n",
       "      <th>0</th>\n",
       "      <td>Його редактором був поет-символіст Яків Савчен...</td>\n",
       "      <td>46</td>\n",
       "      <td>Його редакторкою була поетеса-символістка Анже...</td>\n",
       "      <td>46</td>\n",
       "      <td>e5e76a8efa0f.txt</td>\n",
       "      <td>{'T30': ('поет-символіст', 'JOB')}</td>\n",
       "      <td>{'T30': ('поетеса-символістка', 'JOB')}</td>\n",
       "    </tr>\n",
       "    <tr>\n",
       "      <th>1</th>\n",
       "      <td>Міжпредметні паралелі . Маніфест футуристів ск...</td>\n",
       "      <td>62</td>\n",
       "      <td>Міжпредметні паралелі . Маніфест футуристок ск...</td>\n",
       "      <td>62</td>\n",
       "      <td>e5e76a8efa0f.txt</td>\n",
       "      <td>{'T49': ('поет', 'JOB')}</td>\n",
       "      <td>{'T49': ('поетеса', 'JOB')}</td>\n",
       "    </tr>\n",
       "    <tr>\n",
       "      <th>2</th>\n",
       "      <td>Помітною була організація « Гарт » ( 1923 — 19...</td>\n",
       "      <td>96</td>\n",
       "      <td>Помітною була організація « Гарт » ( 1923 — 19...</td>\n",
       "      <td>96</td>\n",
       "      <td>e5e76a8efa0f.txt</td>\n",
       "      <td>{'T104': ('поет', 'JOB')}</td>\n",
       "      <td>{'T104': ('поетка', 'JOB')}</td>\n",
       "    </tr>\n",
       "    <tr>\n",
       "      <th>3</th>\n",
       "      <td>Її очолив байкар і прозаїк Сергій Пилипенко .</td>\n",
       "      <td>127</td>\n",
       "      <td>Її очолила байкарка і прозаїкиня Марія Пилипен...</td>\n",
       "      <td>127</td>\n",
       "      <td>e5e76a8efa0f.txt</td>\n",
       "      <td>{'T143': ('байкар', 'JOB'), 'T144': ('прозаїк'...</td>\n",
       "      <td>{'T143': ('байкарка', 'JOB'), 'T144': ('прозаї...</td>\n",
       "    </tr>\n",
       "    <tr>\n",
       "      <th>4</th>\n",
       "      <td>У Галицько-Волинському літописі згадується спі...</td>\n",
       "      <td>171</td>\n",
       "      <td>У Галицько-Волинському літописі згадується спі...</td>\n",
       "      <td>171</td>\n",
       "      <td>e5e76a8efa0f.txt</td>\n",
       "      <td>{'T218': ('співець', 'JOB')}</td>\n",
       "      <td>{'T218': ('співчиня', 'JOB')}</td>\n",
       "    </tr>\n",
       "  </tbody>\n",
       "</table>\n",
       "</div>"
      ],
      "text/plain": [
       "                                   original_sentence  orig_sent_id  \\\n",
       "0  Його редактором був поет-символіст Яків Савчен...            46   \n",
       "1  Міжпредметні паралелі . Маніфест футуристів ск...            62   \n",
       "2  Помітною була організація « Гарт » ( 1923 — 19...            96   \n",
       "3      Її очолив байкар і прозаїк Сергій Пилипенко .           127   \n",
       "4  У Галицько-Волинському літописі згадується спі...           171   \n",
       "\n",
       "                                    changed_sentence  changed_sent_id  \\\n",
       "0  Його редакторкою була поетеса-символістка Анже...               46   \n",
       "1  Міжпредметні паралелі . Маніфест футуристок ск...               62   \n",
       "2  Помітною була організація « Гарт » ( 1923 — 19...               96   \n",
       "3  Її очолила байкарка і прозаїкиня Марія Пилипен...              127   \n",
       "4  У Галицько-Волинському літописі згадується спі...              171   \n",
       "\n",
       "  original_file_name                                           orig_ann  \\\n",
       "0   e5e76a8efa0f.txt                 {'T30': ('поет-символіст', 'JOB')}   \n",
       "1   e5e76a8efa0f.txt                           {'T49': ('поет', 'JOB')}   \n",
       "2   e5e76a8efa0f.txt                          {'T104': ('поет', 'JOB')}   \n",
       "3   e5e76a8efa0f.txt  {'T143': ('байкар', 'JOB'), 'T144': ('прозаїк'...   \n",
       "4   e5e76a8efa0f.txt                       {'T218': ('співець', 'JOB')}   \n",
       "\n",
       "                                         changed_ann  \n",
       "0            {'T30': ('поетеса-символістка', 'JOB')}  \n",
       "1                        {'T49': ('поетеса', 'JOB')}  \n",
       "2                        {'T104': ('поетка', 'JOB')}  \n",
       "3  {'T143': ('байкарка', 'JOB'), 'T144': ('прозаї...  \n",
       "4                      {'T218': ('співчиня', 'JOB')}  "
      ]
     },
     "execution_count": 4,
     "metadata": {},
     "output_type": "execute_result"
    }
   ],
   "source": [
    "parallel_dataset_bruk_dataset.head()"
   ]
  },
  {
   "cell_type": "markdown",
   "metadata": {},
   "source": [
    "# Split: Female, Male, Common genders"
   ]
  },
  {
   "cell_type": "code",
   "execution_count": 5,
   "metadata": {},
   "outputs": [],
   "source": [
    "with open('/Users/linndfors/study/diploma/uk-gender-word-mapper/common_gender_words_list.txt') as file:\n",
    "    common_gender_words_list = [line.strip() for line in file if line.strip()]\n",
    "\n",
    "with open('/Users/linndfors/study/diploma/uk-gender-word-mapper/male_words_list.txt') as file:\n",
    "    male_list = [line.strip() for line in file if line.strip()]\n",
    "\n",
    "with open('/Users/linndfors/study/diploma/uk-gender-word-mapper/female_words_list.txt') as file:\n",
    "    female_list = [line.strip() for line in file if line.strip()]\n",
    "\n",
    "gender_dict_df = pd.read_csv(\"/Users/linndfors/study/diploma/uk-gender-word-mapper/gender_pairs_dictionary.csv\")\n",
    "\n",
    "gender_dict = {'male': [], 'female': []}\n",
    "\n",
    "for _, row in gender_dict_df.iterrows():\n",
    "    gender_dict['male'].append(row['male'])\n",
    "    female_values = [f.strip() for f in row['female'].split(',')]\n",
    "    gender_dict['female'].extend(female_values)\n",
    "\n",
    "gender_dict['female'] = list(set(gender_dict['female']))\n",
    "\n",
    "exceptions_common = [\"судді\",  \"глава\", \"голова\", \"керівництво\", \"в. о.\", \"головою\"]\n",
    "exceptions_male = ['ієромонах', 'прокурор', 'віце-премʼєр', 'премʼєр', 'начальник', 'міністр', 'директор', 'підрядник', 'генпідрядник', 'керівник', 'головнокомандувач']\n",
    "exceptions_female = ['премʼєрка', 'докторка', 'докторантка', 'директорка', 'міністерка', 'керівниця', 'начальниця', 'начальницю', 'генпідрядниця', 'прокурорка', 'ректорка']"
   ]
  },
  {
   "cell_type": "code",
   "execution_count": 6,
   "metadata": {},
   "outputs": [],
   "source": [
    "def parse_output(ent):\n",
    "    noun_dict = {\n",
    "        \"хліборобок\": \"хліборобка\",\n",
    "    \"культурологині\": \"культурологиня\",\n",
    "    \"директоркою\": \"директорка\",\n",
    "    \"слідчій\": \"слідча\",\n",
    "    \"прокурорка\": \"прокурорка\",\n",
    "    \"прокурорки\": \"прокурорка\",\n",
    "    \"Прокурорки\": \"прокурорка\",\n",
    "    \"прокуроркою\": \"прокурорка\",\n",
    "    \"прокурорці\": \"прокурорка\",\n",
    "    \"адміністраторок\": \"адміністраторка\",\n",
    "    \"слідчу\": \"слідча\",\n",
    "    \"слідча\": \"слідча\",\n",
    "    \"начальницею\": \"начальниця\",\n",
    "    \"податківка\": \"податківка\",\n",
    "    \"монопольниці\": \"монопольниця\",\n",
    "    \"начальницю\": \"начальниця\",\n",
    "    \"психіатрині\": \"психіатриня\",\n",
    "    \"наркологині\": \"наркологиня\",\n",
    "    \"міністерки\": \"міністерка\",\n",
    "    \"рітейлерками\": \"рітейлерка\",\n",
    "    \"начальниці\": \"начальниця\",\n",
    "    \"екологині\": \"екологиня\",\n",
    "    \"податківчині\": \"податківчиня\",\n",
    "    \"журналісткам\": \"журналістка\",\n",
    "    \"підрядницею\": \"підрядниця\",\n",
    "    \"директорка\": \"директорка\",\n",
    "    \"інженерка\": \"інженерка\",\n",
    "    \"службовиці\": \"службовиця\",\n",
    "    \"інженерці\": \"інженерка\",\n",
    "    \"податківниць\": \"податківниця\",\n",
    "    \"депутатку\": \"депутатка\",\n",
    "    \"керівниця\": \"керівниця\",\n",
    "    \"керівницею\": \"керівниця\",\n",
    "    \"юристок\": \"юристка\",\n",
    "    \"інспекторки\": \"інспекторка\",\n",
    "    \"інженерок\": \"інженерка\",\n",
    "    \"ревізорок\": \"ревізорка\",\n",
    "    \"нардепок\": \"нардепка\",\n",
    "    \"бізнесменок\": \"бізнесменка\",\n",
    "    \"генпідрядниці\": \"генпідрядниця\",\n",
    "    \"прокурор\": \"прокурор\",\n",
    "    \"віце-премʼєра\": \"віце-прем'єр\",\n",
    "    \"премʼєр\": \"прем'єр\",\n",
    "    \"начальника\": \"начальник\",\n",
    "    \"начальником\": \"начальник\",\n",
    "    \"міністра\": \"міністр\",\n",
    "    \"директором\": \"директор\",\n",
    "    \"підрядником\": \"підрядник\",\n",
    "    \"аграрія\": \"аграрій\",\n",
    "    \"депутата\": \"депутат\",\n",
    "    \"генпідрядника\": \"генпідрядник\",\n",
    "    \"генпідрядником\": \"генпідрядник\",\n",
    "    \"начальник\": \"начальник\",\n",
    "    \"керівником\": \"керівник\",\n",
    "    \"керівник\": \"керівник\",\n",
    "    \"судді\": \"суддя\",\n",
    "    \"ченці\": \"чернець\",\n",
    "    \"ченців\": \"чернець\",\n",
    "    \"глави\": \"глава\",\n",
    "    \"голови\": \"голова\",\n",
    "    \"керівництво\": \"керівництво\",\n",
    "    \"головою\": \"голова\",\n",
    "    \"князів\": \"князь\",\n",
    "    \"водія\": \"водій\",\n",
    "    \"хіміка\": \"хімік\",\n",
    "    \"хіміки\": \"хімік\",\n",
    "    \"ведучій\": \"ведуча\",\n",
    "    \"механіка\": \"механік\",\n",
    "    \"інокам\": \"інок\",\n",
    "    \"головнокомандувача\": \"головнокомандувач\",\n",
    "    \"наркологині\": \"наркологиня\",\n",
    "    \"членкині\": \"членкиня\",\n",
    "    \"інженерці\": \"інженерка\",\n",
    "    \"мисливствознавиці\": \"мисливствознавиця\",\n",
    "    \"логопедині\": \"логопединя\",\n",
    "    \"математикині\": \"математикиня\",\n",
    "    \"психологині\": \"психологиня\", \n",
    "    \"філологині\": \"філологиня\",\n",
    "    \"голопедині\": \"голопединя\",\n",
    "    \"урядовицs\": \"урядовиця\",\n",
    "    \"філософині\": \"філософиня\",\n",
    "    \"педагогині\": \"педагогиня\",\n",
    "    \"мера\": \"мер\"\n",
    "    }\n",
    "    if ent in noun_dict.keys():\n",
    "        return noun_dict[ent]\n",
    "    return"
   ]
  },
  {
   "cell_type": "code",
   "execution_count": 7,
   "metadata": {},
   "outputs": [],
   "source": [
    "def extract_main_word(text):\n",
    "    if \"-\" in text:\n",
    "        parts = text.split(\"-\")\n",
    "        main_word = parts[-1]\n",
    "        doc = nlp(main_word)\n",
    "        for sentence in doc.sentences:\n",
    "            for word in sentence.words:\n",
    "                return word.lemma\n",
    "\n",
    "    doc = nlp(text)\n",
    "\n",
    "    for sentence in doc.sentences:\n",
    "        for word in sentence.words:\n",
    "            if word.head == 0:\n",
    "                main_word = word\n",
    "                if main_word.text in {\"рок\", \"анти\", \"псевдо\", \"віце\", \"топ\"}:\n",
    "                    continue\n",
    "                return main_word.lemma\n",
    "    for sentence in doc.sentences:\n",
    "        for word in sentence.words:\n",
    "            return word.lemma\n",
    "        \n",
    "def extract_gender(entity):\n",
    "    entity = entity.lower()\n",
    "    job = nlp(entity)\n",
    "    join_sign = \" \" if \" \" in entity else (\"\" if \"-\" in entity else \"\")\n",
    "    job_ent_list = [word.lemma for sent in job.sentences for word in sent.words]\n",
    "    job_lemma = join_sign.join(job_ent_list)\n",
    "\n",
    "    if len(job_ent_list) > 1:\n",
    "        job_lemma = extract_main_word(job_lemma)\n",
    "\n",
    "    words = entity.split()\n",
    "    lemmatized_words = []\n",
    "    for word in words:\n",
    "        parsed_word = morph.parse(word)[0]\n",
    "        if 'plur' in parsed_word.tag:\n",
    "            singular_form = parsed_word.inflect({'sing'}).word if parsed_word.inflect({'sing'}) else parsed_word.normal_form\n",
    "            lemmatized_words.append(singular_form)\n",
    "        else:\n",
    "            lemmatized_words.append(parsed_word.normal_form)\n",
    "            \n",
    "    job_lemma_pymorphy = join_sign.join(lemmatized_words)\n",
    "\n",
    "    if len(job_ent_list) > 1:\n",
    "        job_lemma_pymorphy = extract_main_word(job_lemma_pymorphy)\n",
    "\n",
    "    ent_forms = [entity, job_lemma, job_lemma_pymorphy]\n",
    "\n",
    "    custom_dict_ent_value = parse_output(entity)\n",
    "    if custom_dict_ent_value:\n",
    "        ent_forms.append(custom_dict_ent_value)\n",
    "\n",
    "    for word in words:\n",
    "        for common_word in exceptions_common:\n",
    "            if common_word == word or common_word == parse_output(word):\n",
    "                return \"common\", job_lemma\n",
    "            \n",
    "        for female_word in exceptions_female:\n",
    "            if female_word == word or female_word == parse_output(word):\n",
    "                return \"female\", job_lemma\n",
    "            \n",
    "        for male_word in exceptions_male:\n",
    "            if male_word == word or male_word == parse_output(word):\n",
    "                return \"male\", job_lemma\n",
    "        \n",
    "    for x in ent_forms:\n",
    "        if (x in gender_dict['female']) or (x in female_list) or (\"знавиця\" in x):\n",
    "            return \"female\", job_lemma\n",
    "        elif (x in gender_dict['male']) or (x in male_list) or (\"знавець\" in x) or (x==\"мера\"):\n",
    "            return \"male\", job_lemma\n",
    "        elif x in common_gender_words_list:\n",
    "            return \"common\", job_lemma\n",
    "        \n",
    "    print(\"unkown for:\", entity, \" - \", job_lemma, \" - \", job_lemma_pymorphy)\n",
    "    return \"unknown_gender\", job_lemma"
   ]
  },
  {
   "cell_type": "code",
   "execution_count": 8,
   "metadata": {},
   "outputs": [],
   "source": [
    "import ast\n",
    "\n",
    "def return_gendered_dict(parallel_dataset, annotation_col_name, swapped=0):\n",
    "    file_gender_dict = {\"male\": {}, \"female\": {}, \"common\": {}, \"unknown_gender\": {}}\n",
    "\n",
    "    total_job_counter = 0\n",
    "    job_list = []\n",
    "\n",
    "    for x, row in tqdm.tqdm(parallel_dataset.iterrows()):\n",
    "        filename = row['original_file_name']\n",
    "        if swapped:\n",
    "            filename = filename.replace(\".txt\", \"_1.txt\")\n",
    "        orig_annotation = row[annotation_col_name]\n",
    "\n",
    "        ann_str = orig_annotation.replace(\"'\", '\"')\n",
    "        ann_str = ann_str.replace(\"–\", '-')\n",
    "        json_ann = ast.literal_eval(ann_str)\n",
    "        \n",
    "        try:\n",
    "            for ent, feat in json_ann.items():\n",
    "                if feat[1] == 'JOB':\n",
    "                    total_job_counter += 1\n",
    "                    job_list.append(feat[0])\n",
    "                    gender_value, lemma_word = extract_gender(feat[0])\n",
    "                    \n",
    "                    if filename not in file_gender_dict[gender_value]:\n",
    "                        file_gender_dict[gender_value][filename] = [(ent, lemma_word)]\n",
    "                    else:\n",
    "                        file_gender_dict[gender_value][filename].append((ent, lemma_word))\n",
    "                    \n",
    "        except Exception as e:\n",
    "            print(f\"Issue with row: {row} - Error: {e}\")\n",
    "    return file_gender_dict, total_job_counter, job_list"
   ]
  },
  {
   "cell_type": "code",
   "execution_count": 9,
   "metadata": {},
   "outputs": [],
   "source": [
    "from collections import Counter\n",
    "\n",
    "def return_gender_stat(total_job_counter, file_gender_dict):\n",
    "    print(\"total size:\", total_job_counter)\n",
    "\n",
    "    for gender_class, val in file_gender_dict.items():\n",
    "        print(\"================\")\n",
    "        \n",
    "        print(\"gender:\", gender_class)\n",
    "\n",
    "        gender_entities = []\n",
    "\n",
    "        print(\"number of files for the gender:\", len(file_gender_dict[gender_class]))\n",
    "        number_of_ents = 0\n",
    "        for files, ents in file_gender_dict[gender_class].items():\n",
    "            number_of_ents += len(ents)\n",
    "            gender_entities += [pair[1] for pair in ents]\n",
    "            \n",
    "        print(\"number of entities for the gender:\", number_of_ents)\n",
    "\n",
    "        counter = Counter(gender_entities)\n",
    "\n",
    "        print(\"The most popular entity:\", counter.most_common(1)[0][0])\n",
    "\n",
    "        print(\"================\")"
   ]
  },
  {
   "cell_type": "code",
   "execution_count": 10,
   "metadata": {},
   "outputs": [],
   "source": [
    "def split_files(file_gender_dict, source_dir):\n",
    "    female_files = []\n",
    "    male_files = []\n",
    "    common_files = []\n",
    "\n",
    "    for gen, file_with_ent in file_gender_dict.items():\n",
    "        for filename, ent_with_ind in file_with_ent.items():\n",
    "            full_path = os.path.join(source_dir, filename)\n",
    "            if gen == \"male\":\n",
    "                male_files.append(full_path)\n",
    "            elif gen == \"female\":\n",
    "                female_files.append(full_path)\n",
    "            elif gen == \"common\":\n",
    "                common_files.append(full_path)\n",
    "\n",
    "    return female_files, male_files, common_files"
   ]
  },
  {
   "cell_type": "markdown",
   "metadata": {},
   "source": [
    "## Original entitites"
   ]
  },
  {
   "cell_type": "markdown",
   "metadata": {},
   "source": [
    "### Ng"
   ]
  },
  {
   "cell_type": "code",
   "execution_count": 12,
   "metadata": {},
   "outputs": [
    {
     "name": "stderr",
     "output_type": "stream",
     "text": [
      "178it [01:05,  2.91it/s]"
     ]
    },
    {
     "name": "stdout",
     "output_type": "stream",
     "text": [
      "unkown for: податківці  -  податок  -  податківці\n"
     ]
    },
    {
     "name": "stderr",
     "output_type": "stream",
     "text": [
      "234it [01:32,  3.64it/s]"
     ]
    },
    {
     "name": "stdout",
     "output_type": "stream",
     "text": [
      "unkown for: _керівником  -  ткерівник  -  _керівник\n"
     ]
    },
    {
     "name": "stderr",
     "output_type": "stream",
     "text": [
      "311it [01:57,  1.78it/s]"
     ]
    },
    {
     "name": "stdout",
     "output_type": "stream",
     "text": [
      "unkown for: в. о. керівника  -  в  -  в.\n"
     ]
    },
    {
     "name": "stderr",
     "output_type": "stream",
     "text": [
      "317it [01:58,  2.85it/s]"
     ]
    },
    {
     "name": "stdout",
     "output_type": "stream",
     "text": [
      "unkown for: народного депутата-бютівця  -  бютівець  -  бютівець\n"
     ]
    },
    {
     "name": "stderr",
     "output_type": "stream",
     "text": [
      "328it [02:03,  1.21it/s]"
     ]
    },
    {
     "name": "stdout",
     "output_type": "stream",
     "text": [
      "unkown for: віце-премʼєра  -  прем’єрний  -  прем’єрый\n"
     ]
    },
    {
     "name": "stderr",
     "output_type": "stream",
     "text": [
      "505it [03:00,  1.98it/s]"
     ]
    },
    {
     "name": "stdout",
     "output_type": "stream",
     "text": [
      "unkown for: головні мисливствознавці держлісгоспів  -  мисливствітнавка  -  мисливствітнавка\n",
      "unkown for: аграрія  -  аграрія  -  аграріть\n"
     ]
    },
    {
     "name": "stderr",
     "output_type": "stream",
     "text": [
      "563it [03:13,  5.37it/s]"
     ]
    },
    {
     "name": "stdout",
     "output_type": "stream",
     "text": [
      "unkown for: смотрящим  -  смотрящий  -  смотреть\n"
     ]
    },
    {
     "name": "stderr",
     "output_type": "stream",
     "text": [
      "670it [03:40,  6.00it/s]"
     ]
    },
    {
     "name": "stdout",
     "output_type": "stream",
     "text": [
      "unkown for: службовці  -  службовка  -  службовці\n"
     ]
    },
    {
     "name": "stderr",
     "output_type": "stream",
     "text": [
      "742it [04:10,  1.19it/s]"
     ]
    },
    {
     "name": "stdout",
     "output_type": "stream",
     "text": [
      "unkown for: в. о. генерального директора  -  в  -  в.\n"
     ]
    },
    {
     "name": "stderr",
     "output_type": "stream",
     "text": [
      "785it [04:34,  4.48it/s]"
     ]
    },
    {
     "name": "stdout",
     "output_type": "stream",
     "text": [
      "unkown for: аграрії  -  аграрія  -  аграрії\n"
     ]
    },
    {
     "name": "stderr",
     "output_type": "stream",
     "text": [
      "865it [04:55,  4.99it/s]"
     ]
    },
    {
     "name": "stdout",
     "output_type": "stream",
     "text": [
      "unkown for: податківців  -  податокець  -  податківціть\n"
     ]
    },
    {
     "name": "stderr",
     "output_type": "stream",
     "text": [
      "909it [05:09,  4.33it/s]"
     ]
    },
    {
     "name": "stdout",
     "output_type": "stream",
     "text": [
      "unkown for: в. о. гендиректора держкомпанії  -  в  -  в.\n"
     ]
    },
    {
     "name": "stderr",
     "output_type": "stream",
     "text": [
      "930it [05:22,  1.04it/s]"
     ]
    },
    {
     "name": "stdout",
     "output_type": "stream",
     "text": [
      "unkown for: т. в. о. директора  -  в.  -  в.\n"
     ]
    },
    {
     "name": "stderr",
     "output_type": "stream",
     "text": [
      "953it [05:31,  3.73it/s]"
     ]
    },
    {
     "name": "stdout",
     "output_type": "stream",
     "text": [
      "unkown for: податківка  -  податківка  -  податківка\n"
     ]
    },
    {
     "name": "stderr",
     "output_type": "stream",
     "text": [
      "954it [05:32,  4.51it/s]"
     ]
    },
    {
     "name": "stdout",
     "output_type": "stream",
     "text": [
      "unkown for: податківка  -  податківка  -  податківка\n"
     ]
    },
    {
     "name": "stderr",
     "output_type": "stream",
     "text": [
      "973it [05:36,  4.49it/s]"
     ]
    },
    {
     "name": "stdout",
     "output_type": "stream",
     "text": [
      "unkown for: в. о. управління  -  в  -  в.\n"
     ]
    },
    {
     "name": "stderr",
     "output_type": "stream",
     "text": [
      "990it [05:40,  4.80it/s]"
     ]
    },
    {
     "name": "stdout",
     "output_type": "stream",
     "text": [
      "unkown for: віце-премʼєра  -  прем’єрний  -  прем’єрый\n"
     ]
    },
    {
     "name": "stderr",
     "output_type": "stream",
     "text": [
      "1021it [05:48,  2.93it/s]\n"
     ]
    }
   ],
   "source": [
    "orig_ng_file_gender_dict, orig_ng_total_job_counter, orig_ng_job_list = return_gendered_dict(parallel_dataset_ng_dataset, \"orig_ann\")"
   ]
  },
  {
   "cell_type": "code",
   "execution_count": 13,
   "metadata": {},
   "outputs": [
    {
     "name": "stdout",
     "output_type": "stream",
     "text": [
      "total size: 1338\n",
      "================\n",
      "gender: male\n",
      "number of files for the gender: 269\n",
      "number of entities for the gender: 1134\n",
      "The most popular entity: директор\n",
      "================\n",
      "================\n",
      "gender: female\n",
      "number of files for the gender: 16\n",
      "number of entities for the gender: 25\n",
      "The most popular entity: підприємиця\n",
      "================\n",
      "================\n",
      "gender: common\n",
      "number of files for the gender: 85\n",
      "number of entities for the gender: 161\n",
      "The most popular entity: голова\n",
      "================\n",
      "================\n",
      "gender: unknown_gender\n",
      "number of files for the gender: 16\n",
      "number of entities for the gender: 18\n",
      "The most popular entity: в\n",
      "================\n"
     ]
    }
   ],
   "source": [
    "return_gender_stat(orig_ng_total_job_counter, orig_ng_file_gender_dict)"
   ]
  },
  {
   "cell_type": "code",
   "execution_count": 24,
   "metadata": {},
   "outputs": [],
   "source": [
    "orig_ng_female_files, orig_ng_male_files, orig_ng_common_files = split_files(orig_ng_file_gender_dict, \"/Users/linndfors/study/diploma/ner_for_fem/data/data_for_ner/data_for_ner_balanced/ng\")"
   ]
  },
  {
   "cell_type": "markdown",
   "metadata": {},
   "source": [
    "### BRUK"
   ]
  },
  {
   "cell_type": "code",
   "execution_count": 23,
   "metadata": {},
   "outputs": [
    {
     "name": "stderr",
     "output_type": "stream",
     "text": [
      "3it [00:00,  6.34it/s]"
     ]
    },
    {
     "name": "stdout",
     "output_type": "stream",
     "text": [
      "unkown for: поет-символіст  -  символіст  -  символіст\n"
     ]
    },
    {
     "name": "stderr",
     "output_type": "stream",
     "text": [
      "86it [00:13,  6.15it/s]"
     ]
    },
    {
     "name": "stdout",
     "output_type": "stream",
     "text": [
      "unkown for: підмайстра  -  підмайстр  -  підмайстр\n",
      "unkown for: підмайстра  -  підмайстр  -  підмайстр\n"
     ]
    },
    {
     "name": "stderr",
     "output_type": "stream",
     "text": [
      "188it [00:38,  6.05it/s]"
     ]
    },
    {
     "name": "stdout",
     "output_type": "stream",
     "text": [
      "unkown for: гармаші  -  гармаша  -  гармаші\n"
     ]
    },
    {
     "name": "stderr",
     "output_type": "stream",
     "text": [
      "213it [00:42,  7.60it/s]"
     ]
    },
    {
     "name": "stdout",
     "output_type": "stream",
     "text": [
      "unkown for: спортсменок  -  спортсменок  -  спортсменки\n"
     ]
    },
    {
     "name": "stderr",
     "output_type": "stream",
     "text": [
      "221it [00:44,  3.04it/s]"
     ]
    },
    {
     "name": "stdout",
     "output_type": "stream",
     "text": [
      "unkown for: командувачів видів  -  вид  -  командувати\n"
     ]
    },
    {
     "name": "stderr",
     "output_type": "stream",
     "text": [
      "251it [00:50,  5.24it/s]"
     ]
    },
    {
     "name": "stdout",
     "output_type": "stream",
     "text": [
      "unkown for: вчені  -  вчень  -  вчені\n"
     ]
    },
    {
     "name": "stderr",
     "output_type": "stream",
     "text": [
      "254it [00:51,  6.15it/s]"
     ]
    },
    {
     "name": "stdout",
     "output_type": "stream",
     "text": [
      "unkown for: богословів  -  богослів  -  богословіть\n"
     ]
    },
    {
     "name": "stderr",
     "output_type": "stream",
     "text": [
      "335it [01:05,  3.90it/s]"
     ]
    },
    {
     "name": "stdout",
     "output_type": "stream",
     "text": [
      "unkown for: канд . істор . наук  -  наука  -  наука\n"
     ]
    },
    {
     "name": "stderr",
     "output_type": "stream",
     "text": [
      "336it [01:07,  1.44it/s]"
     ]
    },
    {
     "name": "stdout",
     "output_type": "stream",
     "text": [
      "unkown for: канд . істор . наук  -  наука  -  наука\n"
     ]
    },
    {
     "name": "stderr",
     "output_type": "stream",
     "text": [
      "337it [01:09,  1.03it/s]"
     ]
    },
    {
     "name": "stdout",
     "output_type": "stream",
     "text": [
      "unkown for: канд . істор . наук  -  наука  -  наука\n"
     ]
    },
    {
     "name": "stderr",
     "output_type": "stream",
     "text": [
      "340it [01:14,  1.27s/it]"
     ]
    },
    {
     "name": "stdout",
     "output_type": "stream",
     "text": [
      "unkown for: канд . істор . наук  -  наука  -  наука\n"
     ]
    },
    {
     "name": "stderr",
     "output_type": "stream",
     "text": [
      "341it [01:14,  1.09s/it]"
     ]
    },
    {
     "name": "stdout",
     "output_type": "stream",
     "text": [
      "unkown for: канд . істор . наук  -  наука  -  наука\n"
     ]
    },
    {
     "name": "stderr",
     "output_type": "stream",
     "text": [
      "368it [01:26,  8.44it/s]"
     ]
    },
    {
     "name": "stdout",
     "output_type": "stream",
     "text": [
      "unkown for: учителі-ченці  -  ченка  -  ченка\n"
     ]
    },
    {
     "name": "stderr",
     "output_type": "stream",
     "text": [
      "372it [01:27,  3.61it/s]"
     ]
    },
    {
     "name": "stdout",
     "output_type": "stream",
     "text": [
      "unkown for: учителів-ченців  -  ченц  -  ченцати\n"
     ]
    },
    {
     "name": "stderr",
     "output_type": "stream",
     "text": [
      "379it [01:30,  2.70it/s]"
     ]
    },
    {
     "name": "stdout",
     "output_type": "stream",
     "text": [
      "unkown for: учителі-ченці  -  ченка  -  ченка\n"
     ]
    },
    {
     "name": "stderr",
     "output_type": "stream",
     "text": [
      "381it [01:30,  3.43it/s]"
     ]
    },
    {
     "name": "stdout",
     "output_type": "stream",
     "text": [
      "unkown for: ктиторів  -  ктитор  -  ктиторіть\n"
     ]
    },
    {
     "name": "stderr",
     "output_type": "stream",
     "text": [
      "386it [01:32,  4.11it/s]"
     ]
    },
    {
     "name": "stdout",
     "output_type": "stream",
     "text": [
      "unkown for: ченців-законників  -  законник  -  законнити\n"
     ]
    },
    {
     "name": "stderr",
     "output_type": "stream",
     "text": [
      "392it [01:32,  7.38it/s]"
     ]
    },
    {
     "name": "stdout",
     "output_type": "stream",
     "text": [
      "unkown for: ченцях  -  ченці  -  ченци\n",
      "unkown for: ченцях  -  ченці  -  ченци\n"
     ]
    },
    {
     "name": "stderr",
     "output_type": "stream",
     "text": [
      "400it [01:34,  6.83it/s]"
     ]
    },
    {
     "name": "stdout",
     "output_type": "stream",
     "text": [
      "unkown for: ченцеві  -  ченцева  -  ченцеві\n"
     ]
    },
    {
     "name": "stderr",
     "output_type": "stream",
     "text": [
      "405it [01:34,  6.19it/s]"
     ]
    },
    {
     "name": "stdout",
     "output_type": "stream",
     "text": [
      "unkown for: келарів  -  келар  -  келаріть\n"
     ]
    },
    {
     "name": "stderr",
     "output_type": "stream",
     "text": [
      "412it [01:36,  6.17it/s]"
     ]
    },
    {
     "name": "stdout",
     "output_type": "stream",
     "text": [
      "unkown for: єпископів  -  єписокп  -  єпископіть\n"
     ]
    },
    {
     "name": "stderr",
     "output_type": "stream",
     "text": [
      "414it [01:36,  5.29it/s]"
     ]
    },
    {
     "name": "stdout",
     "output_type": "stream",
     "text": [
      "unkown for: біскупи  -  біскупа  -  біскупить\n"
     ]
    },
    {
     "name": "stderr",
     "output_type": "stream",
     "text": [
      "452it [01:45,  9.40it/s]"
     ]
    },
    {
     "name": "stdout",
     "output_type": "stream",
     "text": [
      "unkown for: нквд-исти  -  нквд-исти  -  нквд-исть\n"
     ]
    },
    {
     "name": "stderr",
     "output_type": "stream",
     "text": [
      "454it [01:45,  8.26it/s]"
     ]
    },
    {
     "name": "stdout",
     "output_type": "stream",
     "text": [
      "unkown for: податківцям  -  податокець  -  податківци\n"
     ]
    },
    {
     "name": "stderr",
     "output_type": "stream",
     "text": [
      "461it [01:48,  2.18it/s]"
     ]
    },
    {
     "name": "stdout",
     "output_type": "stream",
     "text": [
      "unkown for: медичної сестри  -  сестра  -  сестереть\n"
     ]
    },
    {
     "name": "stderr",
     "output_type": "stream",
     "text": [
      "462it [01:48,  2.46it/s]"
     ]
    },
    {
     "name": "stdout",
     "output_type": "stream",
     "text": [
      "unkown for: медсестри  -  медсестр  -  медсестрить\n"
     ]
    },
    {
     "name": "stderr",
     "output_type": "stream",
     "text": [
      "473it [01:51,  4.74it/s]"
     ]
    },
    {
     "name": "stdout",
     "output_type": "stream",
     "text": [
      "unkown for: поетів-авангардистів  -  авангардист  -  авангардисти\n"
     ]
    },
    {
     "name": "stderr",
     "output_type": "stream",
     "text": [
      "476it [01:51,  6.47it/s]"
     ]
    },
    {
     "name": "stdout",
     "output_type": "stream",
     "text": [
      "unkown for: лінгвісти  -  лінгвість  -  лінгвість\n"
     ]
    },
    {
     "name": "stderr",
     "output_type": "stream",
     "text": [
      "480it [01:53,  3.40it/s]"
     ]
    },
    {
     "name": "stdout",
     "output_type": "stream",
     "text": [
      "unkown for: урядовці  -  урядовка  -  урядовці\n"
     ]
    },
    {
     "name": "stderr",
     "output_type": "stream",
     "text": [
      "492it [01:54,  4.28it/s]"
     ]
    },
    {
     "name": "stdout",
     "output_type": "stream",
     "text": [
      "total size: 638\n",
      "================\n",
      "gender: male\n",
      "number of files for the gender: 122\n",
      "number of entities for the gender: 508\n",
      "The most popular entity: поет\n",
      "================\n",
      "================\n",
      "gender: female\n",
      "number of files for the gender: 23\n",
      "number of entities for the gender: 46\n",
      "The most popular entity: вчителька\n",
      "================\n",
      "================\n",
      "gender: common\n",
      "number of files for the gender: 24\n",
      "number of entities for the gender: 53\n",
      "The most popular entity: голова\n",
      "================\n",
      "================\n",
      "gender: unknown_gender\n",
      "number of files for the gender: 14\n",
      "number of entities for the gender: 31\n",
      "The most popular entity: наука\n",
      "================\n"
     ]
    },
    {
     "name": "stderr",
     "output_type": "stream",
     "text": [
      "\n"
     ]
    }
   ],
   "source": [
    "orig_bruk_file_gender_dict, orig_bruk_total_job_counter, orig_bruk_job_list = return_gendered_dict(parallel_dataset_bruk_dataset, \"orig_ann\")\n",
    "return_gender_stat(orig_bruk_total_job_counter, orig_bruk_file_gender_dict)\n",
    "orig_bruk_female_files, orig_bruk_male_files, orig_bruk_common_files = split_files(orig_bruk_file_gender_dict, \"/Users/linndfors/study/diploma/ner_for_fem/data/data_for_ner/data_for_ner_balanced/bruk\")"
   ]
  },
  {
   "cell_type": "markdown",
   "metadata": {},
   "source": [
    "## Swapped entitites"
   ]
  },
  {
   "cell_type": "markdown",
   "metadata": {},
   "source": [
    "### Ng"
   ]
  },
  {
   "cell_type": "code",
   "execution_count": 22,
   "metadata": {},
   "outputs": [
    {
     "name": "stderr",
     "output_type": "stream",
     "text": [
      "84it [00:16,  6.03it/s]"
     ]
    },
    {
     "name": "stdout",
     "output_type": "stream",
     "text": [
      "unkown for: академічки  -  академічка  -  академічка\n"
     ]
    },
    {
     "name": "stderr",
     "output_type": "stream",
     "text": [
      "150it [00:38,  6.37it/s]"
     ]
    },
    {
     "name": "stdout",
     "output_type": "stream",
     "text": [
      "unkown for: бойовички  -  бойовичка  -  бойовичка\n"
     ]
    },
    {
     "name": "stderr",
     "output_type": "stream",
     "text": [
      "234it [01:10,  2.04it/s]"
     ]
    },
    {
     "name": "stdout",
     "output_type": "stream",
     "text": [
      "unkown for: _керівницею  -  хкерівниця  -  _керівница\n"
     ]
    },
    {
     "name": "stderr",
     "output_type": "stream",
     "text": [
      "255it [01:18,  4.04it/s]"
     ]
    },
    {
     "name": "stdout",
     "output_type": "stream",
     "text": [
      "unkown for: де  -  де  -  де\n"
     ]
    },
    {
     "name": "stderr",
     "output_type": "stream",
     "text": [
      "277it [01:24,  2.57it/s]"
     ]
    },
    {
     "name": "stdout",
     "output_type": "stream",
     "text": [
      "unkown for: членкині наглядової ради  -  рада  -  членкин\n"
     ]
    },
    {
     "name": "stderr",
     "output_type": "stream",
     "text": [
      "311it [01:35,  2.76it/s]"
     ]
    },
    {
     "name": "stdout",
     "output_type": "stream",
     "text": [
      "unkown for: в. о. керівниці  -  в.  -  в.\n"
     ]
    },
    {
     "name": "stderr",
     "output_type": "stream",
     "text": [
      "317it [01:37,  2.19it/s]"
     ]
    },
    {
     "name": "stdout",
     "output_type": "stream",
     "text": [
      "unkown for: народну депутатку-бютівку  -  бютівка  -  бютівка\n"
     ]
    },
    {
     "name": "stderr",
     "output_type": "stream",
     "text": [
      "328it [01:41,  1.64it/s]"
     ]
    },
    {
     "name": "stdout",
     "output_type": "stream",
     "text": [
      "unkown for: віце-премʼєра  -  прем’єрний  -  прем’єрый\n"
     ]
    },
    {
     "name": "stderr",
     "output_type": "stream",
     "text": [
      "359it [01:51,  3.12it/s]"
     ]
    },
    {
     "name": "stdout",
     "output_type": "stream",
     "text": [
      "unkown for: освітя́нок  -  освітя́нка  -  освітя́нки\n"
     ]
    },
    {
     "name": "stderr",
     "output_type": "stream",
     "text": [
      "429it [02:11,  6.23it/s]"
     ]
    },
    {
     "name": "stdout",
     "output_type": "stream",
     "text": [
      "unkown for: митниці  -  митниця  -  митниці\n"
     ]
    },
    {
     "name": "stderr",
     "output_type": "stream",
     "text": [
      "468it [02:21,  3.61it/s]"
     ]
    },
    {
     "name": "stdout",
     "output_type": "stream",
     "text": [
      "unkown for: головній інженерці  -  інженерець  -  головнити\n"
     ]
    },
    {
     "name": "stderr",
     "output_type": "stream",
     "text": [
      "505it [02:31,  3.39it/s]"
     ]
    },
    {
     "name": "stdout",
     "output_type": "stream",
     "text": [
      "unkown for: головні мисливствознавиці держлісгоспів  -  мисливствітнацець  -  держлісгоспіть\n"
     ]
    },
    {
     "name": "stderr",
     "output_type": "stream",
     "text": [
      "563it [02:45,  5.37it/s]"
     ]
    },
    {
     "name": "stdout",
     "output_type": "stream",
     "text": [
      "unkown for: смотрящою  -  смотрящий  -  смотрящий\n"
     ]
    },
    {
     "name": "stderr",
     "output_type": "stream",
     "text": [
      "599it [02:55,  5.05it/s]"
     ]
    },
    {
     "name": "stdout",
     "output_type": "stream",
     "text": [
      "unkown for: компанії  -  компанія  -  компанії\n"
     ]
    },
    {
     "name": "stderr",
     "output_type": "stream",
     "text": [
      "637it [03:06,  2.44it/s]"
     ]
    },
    {
     "name": "stdout",
     "output_type": "stream",
     "text": [
      "unkown for: завідувачку виробничого відділу  -  відділ  -  відділ\n"
     ]
    },
    {
     "name": "stderr",
     "output_type": "stream",
     "text": [
      "673it [03:15,  9.07it/s]"
     ]
    },
    {
     "name": "stdout",
     "output_type": "stream",
     "text": [
      "unkown for: нардепками  -  нардепок  -  нардепкой\n"
     ]
    },
    {
     "name": "stderr",
     "output_type": "stream",
     "text": [
      "680it [03:18,  2.84it/s]"
     ]
    },
    {
     "name": "stdout",
     "output_type": "stream",
     "text": [
      "unkown for: родина екс-презид  -  презид  -  презид\n"
     ]
    },
    {
     "name": "stderr",
     "output_type": "stream",
     "text": [
      "732it [03:30,  4.99it/s]"
     ]
    },
    {
     "name": "stdout",
     "output_type": "stream",
     "text": [
      "unkown for: інженерка лісового господарства  -  господарство  -  господарство\n"
     ]
    },
    {
     "name": "stderr",
     "output_type": "stream",
     "text": [
      "742it [03:37,  2.67it/s]"
     ]
    },
    {
     "name": "stdout",
     "output_type": "stream",
     "text": [
      "unkown for: в. о. генеральної директорки  -  в  -  в.\n"
     ]
    },
    {
     "name": "stderr",
     "output_type": "stream",
     "text": [
      "746it [03:39,  2.09it/s]"
     ]
    },
    {
     "name": "stdout",
     "output_type": "stream",
     "text": [
      "unkown for: сбушниці  -  сбушниця  -  сбушниці\n"
     ]
    },
    {
     "name": "stderr",
     "output_type": "stream",
     "text": [
      "774it [03:48,  3.23it/s]"
     ]
    },
    {
     "name": "stdout",
     "output_type": "stream",
     "text": [
      "unkown for: віце-премʼєрка  -  премʼєрка  -  премʼєркий\n"
     ]
    },
    {
     "name": "stderr",
     "output_type": "stream",
     "text": [
      "785it [03:51,  6.77it/s]"
     ]
    },
    {
     "name": "stdout",
     "output_type": "stream",
     "text": [
      "unkown for: аграрії  -  аграрія  -  аграрії\n"
     ]
    },
    {
     "name": "stderr",
     "output_type": "stream",
     "text": [
      "831it [04:00,  4.55it/s]"
     ]
    },
    {
     "name": "stdout",
     "output_type": "stream",
     "text": [
      "unkown for: прокуророк  -  прокуророк  -  прокуророк\n"
     ]
    },
    {
     "name": "stderr",
     "output_type": "stream",
     "text": [
      "851it [04:06,  2.54it/s]"
     ]
    },
    {
     "name": "stdout",
     "output_type": "stream",
     "text": [
      "unkown for: підрядницею департаменту  -  департамент  -  департамент\n"
     ]
    },
    {
     "name": "stderr",
     "output_type": "stream",
     "text": [
      "865it [04:10,  4.91it/s]"
     ]
    },
    {
     "name": "stdout",
     "output_type": "stream",
     "text": [
      "unkown for: податківниць  -  податківниця  -  податківниць\n"
     ]
    },
    {
     "name": "stderr",
     "output_type": "stream",
     "text": [
      "904it [04:23,  5.94it/s]"
     ]
    },
    {
     "name": "stdout",
     "output_type": "stream",
     "text": [
      "unkown for: прокуророк  -  прокуророк  -  прокуророк\n"
     ]
    },
    {
     "name": "stderr",
     "output_type": "stream",
     "text": [
      "909it [04:24,  5.05it/s]"
     ]
    },
    {
     "name": "stdout",
     "output_type": "stream",
     "text": [
      "unkown for: в. о. гендиректорки держкомпанії  -  в  -  в.\n"
     ]
    },
    {
     "name": "stderr",
     "output_type": "stream",
     "text": [
      "930it [04:31,  4.12it/s]"
     ]
    },
    {
     "name": "stdout",
     "output_type": "stream",
     "text": [
      "unkown for: т. в. о. директорки  -  т.  -  в.\n"
     ]
    },
    {
     "name": "stderr",
     "output_type": "stream",
     "text": [
      "963it [04:40,  3.49it/s]"
     ]
    },
    {
     "name": "stdout",
     "output_type": "stream",
     "text": [
      "unkown for: світлана зубачик  -  зубачик  -  зубачик\n"
     ]
    },
    {
     "name": "stderr",
     "output_type": "stream",
     "text": [
      "973it [04:42,  4.78it/s]"
     ]
    },
    {
     "name": "stdout",
     "output_type": "stream",
     "text": [
      "unkown for: в. о. управління  -  в  -  в.\n"
     ]
    },
    {
     "name": "stderr",
     "output_type": "stream",
     "text": [
      "1021it [04:55,  3.46it/s]"
     ]
    },
    {
     "name": "stdout",
     "output_type": "stream",
     "text": [
      "total size: 1338\n",
      "================\n",
      "gender: male\n",
      "number of files for the gender: 88\n",
      "number of entities for the gender: 146\n",
      "The most popular entity: слідчий\n",
      "================\n",
      "================\n",
      "gender: female\n",
      "number of files for the gender: 263\n",
      "number of entities for the gender: 1002\n",
      "The most popular entity: директорка\n",
      "================\n",
      "================\n",
      "gender: common\n",
      "number of files for the gender: 85\n",
      "number of entities for the gender: 160\n",
      "The most popular entity: голова\n",
      "================\n",
      "================\n",
      "gender: unknown_gender\n",
      "number of files for the gender: 30\n",
      "number of entities for the gender: 30\n",
      "The most popular entity: в\n",
      "================\n"
     ]
    },
    {
     "name": "stderr",
     "output_type": "stream",
     "text": [
      "\n"
     ]
    }
   ],
   "source": [
    "changed_ng_file_gender_dict, changed_ng_total_job_counter, changed_ng_job_list = return_gendered_dict(parallel_dataset_ng_dataset, \"changed_ann\", 1)\n",
    "return_gender_stat(changed_ng_total_job_counter, changed_ng_file_gender_dict)\n",
    "changed_ng_female_files, changed_ng_male_files, changed_ng_common_files = split_files(changed_ng_file_gender_dict, \"/Users/linndfors/study/diploma/ner_for_fem/data/data_for_ner/data_for_ner_balanced/ng_changed\")"
   ]
  },
  {
   "cell_type": "markdown",
   "metadata": {},
   "source": [
    "### BRUK"
   ]
  },
  {
   "cell_type": "code",
   "execution_count": 21,
   "metadata": {},
   "outputs": [
    {
     "name": "stderr",
     "output_type": "stream",
     "text": [
      "0it [00:00, ?it/s]"
     ]
    },
    {
     "name": "stderr",
     "output_type": "stream",
     "text": [
      "2it [00:00,  3.19it/s]"
     ]
    },
    {
     "name": "stdout",
     "output_type": "stream",
     "text": [
      "unkown for: поетеса-символістка  -  символістка  -  символістка\n"
     ]
    },
    {
     "name": "stderr",
     "output_type": "stream",
     "text": [
      "7it [00:01,  6.62it/s]"
     ]
    },
    {
     "name": "stdout",
     "output_type": "stream",
     "text": [
      "unkown for: поетес  -  поетес  -  поетёс\n"
     ]
    },
    {
     "name": "stderr",
     "output_type": "stream",
     "text": [
      "26it [00:06,  5.74it/s]"
     ]
    },
    {
     "name": "stdout",
     "output_type": "stream",
     "text": [
      "unkown for: поетес  -  поетес  -  поетёс\n",
      "unkown for: поетес  -  поетес  -  поетёс\n"
     ]
    },
    {
     "name": "stderr",
     "output_type": "stream",
     "text": [
      "50it [00:10,  7.48it/s]"
     ]
    },
    {
     "name": "stdout",
     "output_type": "stream",
     "text": [
      "unkown for: орнітологині  -  орнітологин  -  орнітологині\n",
      "unkown for: орнітологині  -  орнітологин  -  орнітологині\n"
     ]
    },
    {
     "name": "stderr",
     "output_type": "stream",
     "text": [
      "62it [00:13,  4.41it/s]"
     ]
    },
    {
     "name": "stdout",
     "output_type": "stream",
     "text": [
      "unkown for: мол . наук . співробітниці  -  наука  -  наука\n"
     ]
    },
    {
     "name": "stderr",
     "output_type": "stream",
     "text": [
      "66it [00:14,  3.82it/s]"
     ]
    },
    {
     "name": "stdout",
     "output_type": "stream",
     "text": [
      "unkown for: пе  -  пе  -  пе\n"
     ]
    },
    {
     "name": "stderr",
     "output_type": "stream",
     "text": [
      "85it [00:22,  2.55it/s]"
     ]
    },
    {
     "name": "stdout",
     "output_type": "stream",
     "text": [
      "unkown for: підмайстрині  -  підмайстрина  -  підмайстрині\n"
     ]
    },
    {
     "name": "stderr",
     "output_type": "stream",
     "text": [
      "87it [00:22,  2.75it/s]"
     ]
    },
    {
     "name": "stdout",
     "output_type": "stream",
     "text": [
      "unkown for: підмайстрині  -  підмайстрина  -  підмайстрині\n"
     ]
    },
    {
     "name": "stderr",
     "output_type": "stream",
     "text": [
      "108it [00:35,  3.81it/s]"
     ]
    },
    {
     "name": "stdout",
     "output_type": "stream",
     "text": [
      "unkown for: найманок  -  найманок  -  найманки\n"
     ]
    },
    {
     "name": "stderr",
     "output_type": "stream",
     "text": [
      "112it [00:35,  6.85it/s]"
     ]
    },
    {
     "name": "stdout",
     "output_type": "stream",
     "text": [
      "unkown for: солдаток  -  солдатко  -  солдатки\n"
     ]
    },
    {
     "name": "stderr",
     "output_type": "stream",
     "text": [
      "134it [00:38,  6.54it/s]"
     ]
    },
    {
     "name": "stdout",
     "output_type": "stream",
     "text": [
      "unkown for: хімікині  -  хімікина  -  хімікині\n"
     ]
    },
    {
     "name": "stderr",
     "output_type": "stream",
     "text": [
      "135it [00:39,  5.84it/s]"
     ]
    },
    {
     "name": "stdout",
     "output_type": "stream",
     "text": [
      "unkown for: хімікині  -  хімікина  -  хімікині\n",
      "unkown for: хімікині  -  хімікина  -  хімікині\n"
     ]
    },
    {
     "name": "stderr",
     "output_type": "stream",
     "text": [
      "147it [00:42,  3.82it/s]"
     ]
    },
    {
     "name": "stdout",
     "output_type": "stream",
     "text": [
      "unkown for: м президен  -  м  -  м\n"
     ]
    },
    {
     "name": "stderr",
     "output_type": "stream",
     "text": [
      "152it [00:43,  4.34it/s]"
     ]
    },
    {
     "name": "stdout",
     "output_type": "stream",
     "text": [
      "unkown for: сторожинь  -  сторожиня  -  сторожинить\n"
     ]
    },
    {
     "name": "stderr",
     "output_type": "stream",
     "text": [
      "184it [00:54,  2.55it/s]"
     ]
    },
    {
     "name": "stdout",
     "output_type": "stream",
     "text": [
      "unkown for: шоколадник  -  шоколадник  -  шоколадник\n",
      "unkown for: шоколадника  -  шоколадник  -  шоколадник\n"
     ]
    },
    {
     "name": "stderr",
     "output_type": "stream",
     "text": [
      "187it [00:55,  4.60it/s]"
     ]
    },
    {
     "name": "stdout",
     "output_type": "stream",
     "text": [
      "unkown for: гармашки  -  гармашка  -  гармашка\n"
     ]
    },
    {
     "name": "stderr",
     "output_type": "stream",
     "text": [
      "191it [00:55,  5.74it/s]"
     ]
    },
    {
     "name": "stdout",
     "output_type": "stream",
     "text": [
      "unkown for: отаманко  -  отаманко  -  отаманко\n"
     ]
    },
    {
     "name": "stderr",
     "output_type": "stream",
     "text": [
      "202it [00:57,  6.40it/s]"
     ]
    },
    {
     "name": "stdout",
     "output_type": "stream",
     "text": [
      "unkown for: старшинкам  -  старшинка  -  старшинку\n"
     ]
    },
    {
     "name": "stderr",
     "output_type": "stream",
     "text": [
      "219it [01:01,  6.94it/s]"
     ]
    },
    {
     "name": "stdout",
     "output_type": "stream",
     "text": [
      "unkown for: головнокомандувачки збройних сил україни  -  головнокомандувачка  -  українити\n"
     ]
    },
    {
     "name": "stderr",
     "output_type": "stream",
     "text": [
      "221it [01:03,  1.91it/s]"
     ]
    },
    {
     "name": "stdout",
     "output_type": "stream",
     "text": [
      "unkown for: командувачок видів  -  вид  -  видіти\n"
     ]
    },
    {
     "name": "stderr",
     "output_type": "stream",
     "text": [
      "245it [01:09,  4.01it/s]"
     ]
    },
    {
     "name": "stdout",
     "output_type": "stream",
     "text": [
      "unkown for: силовиць  -  силовиця  -  силовиць\n"
     ]
    },
    {
     "name": "stderr",
     "output_type": "stream",
     "text": [
      "250it [01:10,  4.46it/s]"
     ]
    },
    {
     "name": "stdout",
     "output_type": "stream",
     "text": [
      "unkown for: мікологині  -  мікологина  -  мікологині\n",
      "unkown for: вчені  -  вчень  -  вчені\n"
     ]
    },
    {
     "name": "stderr",
     "output_type": "stream",
     "text": [
      "254it [01:11,  6.18it/s]"
     ]
    },
    {
     "name": "stdout",
     "output_type": "stream",
     "text": [
      "unkown for: богословинь  -  богословиня  -  богословинить\n"
     ]
    },
    {
     "name": "stderr",
     "output_type": "stream",
     "text": [
      "290it [01:19,  3.27it/s]"
     ]
    },
    {
     "name": "stdout",
     "output_type": "stream",
     "text": [
      "unkown for: стрільчині  -  стрільчина  -  стрільчині\n"
     ]
    },
    {
     "name": "stderr",
     "output_type": "stream",
     "text": [
      "304it [01:22,  5.99it/s]"
     ]
    },
    {
     "name": "stdout",
     "output_type": "stream",
     "text": [
      "unkown for: няні  -  нян  -  няні\n"
     ]
    },
    {
     "name": "stderr",
     "output_type": "stream",
     "text": [
      "314it [01:24,  7.70it/s]"
     ]
    },
    {
     "name": "stdout",
     "output_type": "stream",
     "text": [
      "unkown for: механікині  -  механікина  -  механікині\n",
      "unkown for: механікині  -  механікина  -  механікині\n"
     ]
    },
    {
     "name": "stderr",
     "output_type": "stream",
     "text": [
      "318it [01:25,  7.97it/s]"
     ]
    },
    {
     "name": "stdout",
     "output_type": "stream",
     "text": [
      "unkown for: покоївця  -  покоївець  -  покоївцть\n"
     ]
    },
    {
     "name": "stderr",
     "output_type": "stream",
     "text": [
      "333it [01:30,  2.26it/s]"
     ]
    },
    {
     "name": "stdout",
     "output_type": "stream",
     "text": [
      "unkown for: авторок  -  авторок  -  авторок\n"
     ]
    },
    {
     "name": "stderr",
     "output_type": "stream",
     "text": [
      "335it [01:31,  2.87it/s]"
     ]
    },
    {
     "name": "stdout",
     "output_type": "stream",
     "text": [
      "unkown for: канд . істор . наук  -  наука  -  наука\n"
     ]
    },
    {
     "name": "stderr",
     "output_type": "stream",
     "text": [
      "336it [01:33,  1.28it/s]"
     ]
    },
    {
     "name": "stdout",
     "output_type": "stream",
     "text": [
      "unkown for: докторант відділу соціальної антропології  -  відділ  -  відділ\n",
      "unkown for: канд . істор . наук  -  наука  -  наука\n"
     ]
    },
    {
     "name": "stderr",
     "output_type": "stream",
     "text": [
      "337it [01:34,  1.17it/s]"
     ]
    },
    {
     "name": "stdout",
     "output_type": "stream",
     "text": [
      "unkown for: канд . істор . наук  -  наука  -  наука\n"
     ]
    },
    {
     "name": "stderr",
     "output_type": "stream",
     "text": [
      "340it [01:36,  1.37it/s]"
     ]
    },
    {
     "name": "stdout",
     "output_type": "stream",
     "text": [
      "unkown for: канд . істор . наук  -  наука  -  наука\n"
     ]
    },
    {
     "name": "stderr",
     "output_type": "stream",
     "text": [
      "341it [01:36,  1.48it/s]"
     ]
    },
    {
     "name": "stdout",
     "output_type": "stream",
     "text": [
      "unkown for: канд . істор . наук  -  наука  -  наука\n"
     ]
    },
    {
     "name": "stderr",
     "output_type": "stream",
     "text": [
      "358it [01:42,  6.45it/s]"
     ]
    },
    {
     "name": "stdout",
     "output_type": "stream",
     "text": [
      "unkown for: інокині  -  інокина  -  інокині\n"
     ]
    },
    {
     "name": "stderr",
     "output_type": "stream",
     "text": [
      "368it [01:43,  8.92it/s]"
     ]
    },
    {
     "name": "stdout",
     "output_type": "stream",
     "text": [
      "unkown for: ігумені  -  ігумень  -  ігумені\n"
     ]
    },
    {
     "name": "stderr",
     "output_type": "stream",
     "text": [
      "374it [01:45,  3.31it/s]"
     ]
    },
    {
     "name": "stdout",
     "output_type": "stream",
     "text": [
      "unkown for: ректорку  -  ректорк  -  ректорк\n"
     ]
    },
    {
     "name": "stderr",
     "output_type": "stream",
     "text": [
      "381it [01:47,  3.92it/s]"
     ]
    },
    {
     "name": "stdout",
     "output_type": "stream",
     "text": [
      "unkown for: ктиторок  -  ктиторок  -  ктиторок\n"
     ]
    },
    {
     "name": "stderr",
     "output_type": "stream",
     "text": [
      "386it [01:48,  4.26it/s]"
     ]
    },
    {
     "name": "stdout",
     "output_type": "stream",
     "text": [
      "unkown for: черниць-законниць  -  законниця  -  законниця\n"
     ]
    },
    {
     "name": "stderr",
     "output_type": "stream",
     "text": [
      "399it [01:50,  7.84it/s]"
     ]
    },
    {
     "name": "stdout",
     "output_type": "stream",
     "text": [
      "unkown for: голяку-ченці  -  ченка  -  ченка\n"
     ]
    },
    {
     "name": "stderr",
     "output_type": "stream",
     "text": [
      "403it [01:51,  7.25it/s]"
     ]
    },
    {
     "name": "stdout",
     "output_type": "stream",
     "text": [
      "unkown for: шафаркам  -  шафарок  -  шафарке\n",
      "unkown for: управителькам  -  управителький  -  управительке\n"
     ]
    },
    {
     "name": "stderr",
     "output_type": "stream",
     "text": [
      "405it [01:51,  7.51it/s]"
     ]
    },
    {
     "name": "stdout",
     "output_type": "stream",
     "text": [
      "unkown for: келарок  -  келарка  -  келарки\n"
     ]
    },
    {
     "name": "stderr",
     "output_type": "stream",
     "text": [
      "409it [01:52,  5.49it/s]"
     ]
    },
    {
     "name": "stdout",
     "output_type": "stream",
     "text": [
      "unkown for: єпископки  -  єпископка  -  єпископка\n"
     ]
    },
    {
     "name": "stderr",
     "output_type": "stream",
     "text": [
      "413it [01:52,  6.75it/s]"
     ]
    },
    {
     "name": "stdout",
     "output_type": "stream",
     "text": [
      "unkown for: єпискинь  -  єпискиня  -  єпискинуть\n",
      "unkown for: єпискиня  -  єпискиня  -  єпискиня\n"
     ]
    },
    {
     "name": "stderr",
     "output_type": "stream",
     "text": [
      "416it [01:53,  5.32it/s]"
     ]
    },
    {
     "name": "stdout",
     "output_type": "stream",
     "text": [
      "unkown for: хліборобок  -  хліборобок  -  хліборобкий\n"
     ]
    },
    {
     "name": "stderr",
     "output_type": "stream",
     "text": [
      "421it [01:54,  6.98it/s]"
     ]
    },
    {
     "name": "stdout",
     "output_type": "stream",
     "text": [
      "unkown for: хліборобок  -  хліборобок  -  хліборобкий\n"
     ]
    },
    {
     "name": "stderr",
     "output_type": "stream",
     "text": [
      "434it [01:55,  4.86it/s]"
     ]
    },
    {
     "name": "stdout",
     "output_type": "stream",
     "text": [
      "unkown for: коронні гетьманші  -  гетьманешь  -  гетьманешь\n"
     ]
    },
    {
     "name": "stderr",
     "output_type": "stream",
     "text": [
      "452it [02:00,  7.89it/s]"
     ]
    },
    {
     "name": "stdout",
     "output_type": "stream",
     "text": [
      "unkown for: нквд-истки  -  нквд-истка  -  нквд-исткать\n"
     ]
    },
    {
     "name": "stderr",
     "output_type": "stream",
     "text": [
      "454it [02:00,  7.56it/s]"
     ]
    },
    {
     "name": "stdout",
     "output_type": "stream",
     "text": [
      "unkown for: юристки  -  юристок  -  юристкать\n",
      "unkown for: податківцям  -  податокець  -  податківци\n"
     ]
    },
    {
     "name": "stderr",
     "output_type": "stream",
     "text": [
      "461it [02:03,  2.45it/s]"
     ]
    },
    {
     "name": "stdout",
     "output_type": "stream",
     "text": [
      "unkown for: медичного брата  -  брат  -  брат\n"
     ]
    },
    {
     "name": "stderr",
     "output_type": "stream",
     "text": [
      "467it [02:04,  5.51it/s]"
     ]
    },
    {
     "name": "stdout",
     "output_type": "stream",
     "text": [
      "unkown for: тренеркам  -  тренерк  -  тренерке\n"
     ]
    },
    {
     "name": "stderr",
     "output_type": "stream",
     "text": [
      "475it [02:05,  6.95it/s]"
     ]
    },
    {
     "name": "stdout",
     "output_type": "stream",
     "text": [
      "unkown for: академікині  -  академікина  -  академікині\n"
     ]
    },
    {
     "name": "stderr",
     "output_type": "stream",
     "text": [
      "492it [02:09,  3.81it/s]"
     ]
    },
    {
     "name": "stdout",
     "output_type": "stream",
     "text": [
      "total size: 638\n",
      "================\n",
      "gender: male\n",
      "number of files for the gender: 44\n",
      "number of entities for the gender: 80\n",
      "The most popular entity: вчитель\n",
      "================\n",
      "================\n",
      "gender: female\n",
      "number of files for the gender: 112\n",
      "number of entities for the gender: 445\n",
      "The most popular entity: черниця\n",
      "================\n",
      "================\n",
      "gender: common\n",
      "number of files for the gender: 24\n",
      "number of entities for the gender: 52\n",
      "The most popular entity: голова\n",
      "================\n",
      "================\n",
      "gender: unknown_gender\n",
      "number of files for the gender: 29\n",
      "number of entities for the gender: 61\n",
      "The most popular entity: наука\n",
      "================\n"
     ]
    },
    {
     "name": "stderr",
     "output_type": "stream",
     "text": [
      "\n"
     ]
    }
   ],
   "source": [
    "changed_bruk_file_gender_dict, changed_bruk_total_job_counter, changed_bruk_job_list = return_gendered_dict(parallel_dataset_bruk_dataset, \"changed_ann\", 1)\n",
    "return_gender_stat(changed_bruk_total_job_counter, changed_bruk_file_gender_dict)\n",
    "changed_bruk_female_files, changed_bruk_male_files, changed_bruk_common_files = split_files(changed_bruk_file_gender_dict, \"/Users/linndfors/study/diploma/ner_for_fem/data/data_for_ner/data_for_ner_balanced/bruk_changed\")"
   ]
  },
  {
   "cell_type": "markdown",
   "metadata": {},
   "source": [
    "## Collect dataset"
   ]
  },
  {
   "cell_type": "code",
   "execution_count": 33,
   "metadata": {},
   "outputs": [],
   "source": [
    "def move_file(filename, destination_dir):\n",
    "    file_name = os.path.basename(filename)\n",
    "\n",
    "    destination_path = os.path.join(destination_dir, file_name)\n",
    "\n",
    "    shutil.copy(filename, destination_path)\n",
    "\n",
    "def move_gender_files(gender_files_list, dest_dir):\n",
    "    \n",
    "    for gender_file in gender_files_list:\n",
    "        move_file(gender_file, dest_dir)\n",
    "\n",
    "        ann_gender_file = gender_file.replace(\".txt\", \".ann\")\n",
    "        move_file(ann_gender_file, dest_dir)\n",
    "        "
   ]
  },
  {
   "cell_type": "markdown",
   "metadata": {},
   "source": [
    "### Original"
   ]
  },
  {
   "cell_type": "markdown",
   "metadata": {},
   "source": [
    "Ng"
   ]
  },
  {
   "cell_type": "code",
   "execution_count": 25,
   "metadata": {},
   "outputs": [],
   "source": [
    "move_gender_files(orig_ng_male_files, '/Users/linndfors/study/diploma/ner_for_fem/data/data_for_ner/data_for_ner_gender/data_for_ner_male/ng')\n",
    "move_gender_files(orig_ng_female_files, '/Users/linndfors/study/diploma/ner_for_fem/data/data_for_ner/data_for_ner_gender/data_for_ner_female/ng')\n",
    "move_gender_files(orig_ng_common_files, '/Users/linndfors/study/diploma/ner_for_fem/data/data_for_ner/data_for_ner_gender/data_for_ner_common/ng')"
   ]
  },
  {
   "cell_type": "markdown",
   "metadata": {},
   "source": [
    "BRUK"
   ]
  },
  {
   "cell_type": "code",
   "execution_count": 26,
   "metadata": {},
   "outputs": [],
   "source": [
    "move_gender_files(orig_bruk_male_files, '/Users/linndfors/study/diploma/ner_for_fem/data/data_for_ner/data_for_ner_gender/data_for_ner_male/bruk')\n",
    "move_gender_files(orig_bruk_female_files, '/Users/linndfors/study/diploma/ner_for_fem/data/data_for_ner/data_for_ner_gender/data_for_ner_female/bruk')\n",
    "move_gender_files(orig_bruk_common_files, '/Users/linndfors/study/diploma/ner_for_fem/data/data_for_ner/data_for_ner_gender/data_for_ner_common/bruk')"
   ]
  },
  {
   "cell_type": "markdown",
   "metadata": {},
   "source": [
    "### Swapped"
   ]
  },
  {
   "cell_type": "markdown",
   "metadata": {},
   "source": [
    "Ng"
   ]
  },
  {
   "cell_type": "code",
   "execution_count": 34,
   "metadata": {},
   "outputs": [],
   "source": [
    "move_gender_files(changed_ng_male_files, '/Users/linndfors/study/diploma/ner_for_fem/data/data_for_ner/data_for_ner_gender/data_for_ner_male/ng_changed')\n",
    "move_gender_files(changed_ng_female_files, '/Users/linndfors/study/diploma/ner_for_fem/data/data_for_ner/data_for_ner_gender/data_for_ner_female/ng_changed')\n",
    "move_gender_files(changed_ng_common_files, '/Users/linndfors/study/diploma/ner_for_fem/data/data_for_ner/data_for_ner_gender/data_for_ner_common/ng_changed')"
   ]
  },
  {
   "cell_type": "markdown",
   "metadata": {},
   "source": [
    "BRUK"
   ]
  },
  {
   "cell_type": "code",
   "execution_count": 29,
   "metadata": {},
   "outputs": [],
   "source": [
    "move_gender_files(changed_bruk_male_files, '/Users/linndfors/study/diploma/ner_for_fem/data/data_for_ner/data_for_ner_gender/data_for_ner_male/bruk_changed')\n",
    "move_gender_files(changed_bruk_female_files, '/Users/linndfors/study/diploma/ner_for_fem/data/data_for_ner/data_for_ner_gender/data_for_ner_female/bruk_changed')\n",
    "move_gender_files(changed_bruk_common_files, '/Users/linndfors/study/diploma/ner_for_fem/data/data_for_ner/data_for_ner_gender/data_for_ner_common/bruk_changed')"
   ]
  },
  {
   "cell_type": "markdown",
   "metadata": {},
   "source": [
    "# For PERS entities"
   ]
  },
  {
   "cell_type": "code",
   "execution_count": 160,
   "metadata": {},
   "outputs": [],
   "source": [
    "female_names = pd.read_csv(\"/Users/linndfors/study/diploma/ner_for_fem/src/female_fname_freq_dict.csv\")\n",
    "male_names = pd.read_csv(\"/Users/linndfors/study/diploma/ner_for_fem/src/male_fname_freq_dict.csv\")"
   ]
  },
  {
   "cell_type": "code",
   "execution_count": 162,
   "metadata": {},
   "outputs": [],
   "source": [
    "female_names_list = female_names['name'].values\n",
    "male_names_list = male_names['name'].values"
   ]
  },
  {
   "cell_type": "code",
   "execution_count": null,
   "metadata": {},
   "outputs": [],
   "source": [
    "dict_df = pd.read_csv('/Users/linndfors/study/diploma/dict_uk/out/dict_corp_lt.txt', delimiter=' ', header=None, names=['word', 'lemma', 'grammar'])\n"
   ]
  },
  {
   "cell_type": "code",
   "execution_count": 259,
   "metadata": {},
   "outputs": [],
   "source": [
    "def define_sex(name):\n",
    "    try:\n",
    "        filtered_df = dict_df[(dict_df['lemma'] == name) & (dict_df['word'] == name)]\n",
    "        if not filtered_df.empty:\n",
    "            grammar_pers = filtered_df['grammar'].iloc[0]\n",
    "\n",
    "            if re.search(r'fname', grammar_pers):\n",
    "                if re.search(r'\\bf\\b', grammar_pers):\n",
    "                    return \"F\"\n",
    "                elif re.search(r'\\bm\\b', grammar_pers):\n",
    "                    return \"M\"\n",
    "                else:\n",
    "                    return \"U\"\n",
    "            elif re.search(r'lname', grammar_pers):\n",
    "                return \"U\"\n",
    "            else:\n",
    "                return \"U\"\n",
    "        else:\n",
    "            # print(\"No matches found for:\", name)\n",
    "            return \"U\"\n",
    "    except Exception as e:\n",
    "        # print(\"error\", e)\n",
    "        return \"U\""
   ]
  },
  {
   "cell_type": "code",
   "execution_count": 260,
   "metadata": {},
   "outputs": [],
   "source": [
    "import os\n",
    "import glob\n",
    "\n",
    "def extract_gender(entity):\n",
    "\n",
    "    pers_parts = entity.split(\" \")\n",
    "    for i in pers_parts:\n",
    "        if define_sex(i) == \"F\":\n",
    "            return \"female\", i\n",
    "        elif define_sex(i) == \"M\":\n",
    "            return \"male\", i\n",
    "        \n",
    "    doc = nlp(entity)\n",
    "    \n",
    "    words = {word.lemma for sentence in doc.sentences for word in sentence.words}\n",
    "    words.update(entity.split(\" \"))\n",
    "\n",
    "    for x in words:\n",
    "        if x in female_names_list:\n",
    "            return \"female\", x\n",
    "        if x in male_names_list:\n",
    "            return \"male\", x\n",
    "        \n",
    "    # print(\"unkown for:\", entity)\n",
    "    return \"unknown_gender\", entity\n",
    "\n",
    "def extract_pers_entities(directory):\n",
    "    pers_entities = {}\n",
    "    \n",
    "    ann_files = glob.glob(os.path.join(directory, \"*.ann\"))\n",
    "    print(ann_files)\n",
    "    \n",
    "    for ann_file in ann_files:\n",
    "        with open(ann_file, \"r\", encoding=\"utf-8\") as f:\n",
    "            for line in f:\n",
    "                parts = line.strip().split(\"\\t\")\n",
    "                if len(parts) == 5:\n",
    "                    \n",
    "                    entity_type = parts[1]\n",
    "                    \n",
    "                    if entity_type == \"PERS\":\n",
    "                        entity_text = parts[4]\n",
    "                        if ann_file in pers_entities:\n",
    "                            pers_entities[ann_file].append(entity_text)\n",
    "                        else:\n",
    "                            pers_entities[ann_file] = [entity_text]\n",
    "    \n",
    "    return pers_entities"
   ]
  },
  {
   "cell_type": "code",
   "execution_count": 235,
   "metadata": {},
   "outputs": [],
   "source": [
    "def return_gendered_PERS_dict(pers_dict):\n",
    "    file_gender_dict = {\"male\": {}, \"female\": {}, \"unknown_gender\": {}}\n",
    "\n",
    "    total_pers_counter = 0\n",
    "    pers_list = []\n",
    "\n",
    "    for filename, values in tqdm.tqdm(pers_dict.items()):\n",
    "        filename = filename.replace(\".ann\", \".txt\")\n",
    "        \n",
    "        try:\n",
    "            for ent in values:\n",
    "                total_pers_counter += 1\n",
    "                pers_list.append(ent)\n",
    "                if len(ent.split(' ')) > 1:\n",
    "                    ent = ent.split(' ')[0]\n",
    "                gender_value, lemma_word = extract_gender(ent)\n",
    "                \n",
    "                if filename not in file_gender_dict[gender_value]:\n",
    "                    file_gender_dict[gender_value][filename] = [(ent, lemma_word)]\n",
    "                else:\n",
    "                    file_gender_dict[gender_value][filename].append((ent, lemma_word))\n",
    "                    \n",
    "        except Exception as e:\n",
    "            print(f\"Issue with row: {row} - Error: {e}\")\n",
    "    return file_gender_dict, total_pers_counter, pers_list"
   ]
  },
  {
   "cell_type": "code",
   "execution_count": null,
   "metadata": {},
   "outputs": [],
   "source": []
  },
  {
   "cell_type": "code",
   "execution_count": null,
   "metadata": {},
   "outputs": [],
   "source": [
    "changed_bruk_pers_dict = extract_pers_entities(\"/Users/linndfors/study/diploma/ner_for_fem/data/DATA_FOR_BALANCED_NER/bruk_changed\")\n",
    "changed_bruk_file_gender_pers_dict, changed_bruk_total_pers_counter, changed_bruk_pers_list = return_gendered_PERS_dict(changed_bruk_pers_dict)"
   ]
  },
  {
   "cell_type": "code",
   "execution_count": 288,
   "metadata": {},
   "outputs": [
    {
     "name": "stdout",
     "output_type": "stream",
     "text": [
      "total size: 326\n",
      "================\n",
      "gender: male\n",
      "number of files for the gender: 32\n",
      "number of entities for the gender: 52\n",
      "The most popular entity: Сергій\n",
      "================\n",
      "================\n",
      "gender: female\n",
      "number of files for the gender: 67\n",
      "number of entities for the gender: 132\n",
      "The most popular entity: Олександра\n",
      "================\n",
      "================\n",
      "gender: unknown_gender\n",
      "number of files for the gender: 48\n",
      "number of entities for the gender: 142\n",
      "The most popular entity: А\n",
      "================\n"
     ]
    }
   ],
   "source": [
    "return_gender_stat(changed_bruk_total_pers_counter, changed_bruk_file_gender_pers_dict)\n",
    "changed_bruk_pers_female_files, changed_bruk_pers_male_files, changed_bruk_pers_common_files = split_files(changed_bruk_file_gender_pers_dict, \"/Users/linndfors/study/diploma/ner_for_fem/data/DATA_FOR_BALANCED_NER/bruk_changed\")"
   ]
  },
  {
   "cell_type": "code",
   "execution_count": null,
   "metadata": {},
   "outputs": [],
   "source": [
    "# changed_bruk_female_files, changed_bruk_male_files, changed_bruk_common_files = split_files(changed_bruk_file_gender_dict, \"/Users/linndfors/study/diploma/ner_for_fem/data/DATA_FOR_BALANCED_NER/bruk_changed\")"
   ]
  },
  {
   "cell_type": "code",
   "execution_count": 244,
   "metadata": {},
   "outputs": [
    {
     "name": "stderr",
     "output_type": "stream",
     "text": [
      "100%|██████████| 253/253 [39:13<00:00,  9.30s/it]   \n"
     ]
    }
   ],
   "source": [
    "changed_ng_pers_dict = extract_pers_entities(\"/Users/linndfors/study/diploma/ner_for_fem/data/DATA_FOR_BALANCED_NER/ng_changed\")\n",
    "changed_ng_file_gender_pers_dict, changed_ng_total_pers_counter, changed_ng_pers_list = return_gendered_PERS_dict(changed_ng_pers_dict)"
   ]
  },
  {
   "cell_type": "code",
   "execution_count": 286,
   "metadata": {},
   "outputs": [
    {
     "name": "stdout",
     "output_type": "stream",
     "text": [
      "total size: 1058\n",
      "================\n",
      "gender: male\n",
      "number of files for the gender: 106\n",
      "number of entities for the gender: 170\n",
      "The most popular entity: Валентин\n",
      "================\n",
      "================\n",
      "gender: female\n",
      "number of files for the gender: 225\n",
      "number of entities for the gender: 602\n",
      "The most popular entity: Олена\n",
      "================\n",
      "================\n",
      "gender: unknown_gender\n",
      "number of files for the gender: 145\n",
      "number of entities for the gender: 286\n",
      "The most popular entity: Світлани\n",
      "================\n"
     ]
    }
   ],
   "source": [
    "return_gender_stat(changed_ng_total_pers_counter, changed_ng_file_gender_pers_dict)\n",
    "changed_ng_pers_female_files, changed_ng_pers_male_files, changed_ng_pers_common_files = split_files(changed_ng_file_gender_pers_dict, \"/Users/linndfors/study/diploma/ner_for_fem/data/DATA_FOR_BALANCED_NER/ng_changed\")"
   ]
  },
  {
   "cell_type": "code",
   "execution_count": 276,
   "metadata": {},
   "outputs": [],
   "source": [
    "all_names = []\n",
    "\n",
    "for filaname, ents in changed_ng_file_gender_pers_dict['unknown_gender'].items():\n",
    "    for ent in ents:\n",
    "        all_names.append(ent[0])"
   ]
  },
  {
   "cell_type": "code",
   "execution_count": null,
   "metadata": {},
   "outputs": [
    {
     "name": "stdout",
     "output_type": "stream",
     "text": [
      "Counter({'Світлани': 7, 'Юлії': 7, 'Людмили': 5, 'Любові': 5, 'Павленко': 4, 'Олені': 4, 'Козименко': 4, 'Кузнєцова': 3, 'Непийвода': 3, 'Машненкова': 3, 'Лілії': 3, 'Ірині': 3, 'Кобринчук': 3, 'Янукович': 3, 'Андреїшин': 3, 'Кушнір': 3, 'Сміяненко': 3, 'Тарпан': 2, 'Філіпчук': 2, 'Ніколєнко': 2, 'Тютюнник': 2, 'Ганну': 2, 'Ріната': 2, 'Ярич': 2, 'Пелих': 2, 'Ніні': 2, 'Осипенко': 2, 'Кокседж': 2, 'Машненкову': 2, 'Наталію': 2, 'Борзих': 2, 'Корнієць': 2, 'Чепурненко': 2, 'Владислави': 2, 'Фірташа': 2, 'Ігоря': 2, 'Василенко': 2, 'Смик': 2, 'Любач': 2, 'Біловол': 2, 'Юлію': 2, 'Ковач': 2, 'Підвисоцька': 2, 'Шишацька': 2, 'Голяшкіної': 2, 'Григорія': 2, 'Тертиця': 2, 'Колуги': 2, 'Чернікова': 2, 'Васильєвою': 1, 'Кисельовою': 1, 'Котельникову': 1, 'Довгополова': 1, 'Ватерина': 1, 'Демішкан': 1, 'Сагайдак': 1, 'Остапенко': 1, 'Анісімових': 1, 'Котляров': 1, 'Анісімова': 1, 'Ахметова': 1, 'Анжеліці': 1, 'Кусок': 1, 'Медведчук': 1, 'Овчаренко': 1, 'Аблова': 1, 'Червачова': 1, 'Качаненку': 1, 'Качаненків': 1, 'Качаненко': 1, 'ICU': 1, 'Януковичі': 1, 'Хомутиннік': 1, 'Лобко': 1, 'Путілова': 1, 'Косенко': 1, 'Винник': 1, 'О.': 1, 'В.': 1, 'Пукшина': 1, 'Хмельницького': 1, 'Ірину': 1, 'Масенко': 1, 'Яцишина': 1, 'Павленка': 1, 'Єфімова': 1, 'акціонерів': 1, 'Тимошенко': 1, 'Пилипенко': 1, 'Дапринда': 1, 'Антоніні': 1, 'Гавриленко': 1, 'Чорнухою': 1, 'Мельник': 1, 'Ковалко': 1, 'Семені': 1, 'Гущин': 1, 'Діденко': 1, 'Безкоровайна': 1, 'Закамський': 1, 'Стрижова': 1, 'Корнійця': 1, 'Тетяну': 1, 'Фелліпса': 1, 'Олі': 1, 'Поліні': 1, 'Шевцова': 1, 'Бережанський': 1, 'Бережанського': 1, 'Буга': 1, 'Жванії': 1, 'Мартиненка': 1, 'Скарбовійчук': 1, 'Клюєвої': 1, 'Януковичої': 1, 'Ставицької': 1, 'Золотарьов': 1, 'Лимана': 1, 'Журавко': 1, 'Потінга': 1, 'Сергію': 1, 'Буряків': 1, 'Пелипас': 1, 'Пелипасу': 1, 'Інні': 1, 'Тетяні': 1, 'Фомин': 1, 'Колеснікови': 1, 'Кличко': 1, 'Плачкова': 1, 'Подолець': 1, 'Труфанова': 1, 'Георгії': 1, 'Лазаренка': 1, 'Едуарда': 1, 'Макарова': 1, 'Вакаревою': 1, 'Артему': 1, 'Гавриловської': 1, 'Зінова': 1, 'Антолія': 1, 'Чорбаджи': 1, 'Ключка': 1, 'Скіпором': 1, 'Олексадра': 1, 'Одаричка': 1, 'Іванов': 1, 'Біловола': 1, 'Водолазька': 1, 'Попов': 1, 'Януковичем': 1, 'нтки': 1, 'Злочевська': 1, 'Ткачук': 1, 'Севостьянов': 1, 'Загребельський': 1, 'Ахметовій': 1, 'Тамару': 1, 'Запорожець': 1, 'Іванющенка': 1, 'Сухович': 1, 'Шелельо': 1, 'Михайловська': 1, 'Баник': 1, 'Козименка': 1, 'Смєшко': 1, 'Олексія': 1, 'Дихне-молодший': 1, 'Богданна': 1, 'Непопа': 1, 'Непопом': 1, 'Машненкової': 1, 'Станіслави': 1, 'Януковича': 1, 'Irina': 1, 'Anna': 1, 'Войцеховського': 1, 'Тарутою': 1, 'Юліанни': 1, 'Пецух': 1, 'Пецухи': 1, 'Неговелової': 1, 'Беззубенко': 1, 'Світлані': 1, 'Науменка': 1, 'Ворошилова': 1, 'Ісік': 1, 'Голяшкін': 1, 'Голяшкіна': 1, 'Світлану': 1, 'Харченко': 1, 'Олійниця': 1, 'Стерпул': 1, 'Катвалюк': 1, 'Ігнатова': 1, 'Яковинець': 1, 'Жореса': 1, 'Масалітіна': 1, 'Рева': 1, 'Веліжанською': 1, 'Анетти': 1, 'Чернівецька': 1, 'Супруренко': 1, 'Черновецького': 1, 'Віри': 1})\n"
     ]
    }
   ],
   "source": [
    "name_counts = Counter(all_names)\n",
    "print(name_counts)"
   ]
  },
  {
   "cell_type": "code",
   "execution_count": 261,
   "metadata": {},
   "outputs": [
    {
     "name": "stdout",
     "output_type": "stream",
     "text": [
      "['/Users/linndfors/study/diploma/ner_for_fem/data/DATA_FOR_BALANCED_NER/bruk/68f6d1cfc486.ann', '/Users/linndfors/study/diploma/ner_for_fem/data/DATA_FOR_BALANCED_NER/bruk/dc25535e13d7.ann', '/Users/linndfors/study/diploma/ner_for_fem/data/DATA_FOR_BALANCED_NER/bruk/fad2422a7bf3.ann', '/Users/linndfors/study/diploma/ner_for_fem/data/DATA_FOR_BALANCED_NER/bruk/7e1defe0dda2.ann', '/Users/linndfors/study/diploma/ner_for_fem/data/DATA_FOR_BALANCED_NER/bruk/87ae82667e2a.ann', '/Users/linndfors/study/diploma/ner_for_fem/data/DATA_FOR_BALANCED_NER/bruk/b972a141f2be.ann', '/Users/linndfors/study/diploma/ner_for_fem/data/DATA_FOR_BALANCED_NER/bruk/85622bc925dc.ann', '/Users/linndfors/study/diploma/ner_for_fem/data/DATA_FOR_BALANCED_NER/bruk/36ac3bc5ed9c.ann', '/Users/linndfors/study/diploma/ner_for_fem/data/DATA_FOR_BALANCED_NER/bruk/3d0ab8ae38cf.ann', '/Users/linndfors/study/diploma/ner_for_fem/data/DATA_FOR_BALANCED_NER/bruk/ead06d34c49d.ann', '/Users/linndfors/study/diploma/ner_for_fem/data/DATA_FOR_BALANCED_NER/bruk/bdda872d3ef9.ann', '/Users/linndfors/study/diploma/ner_for_fem/data/DATA_FOR_BALANCED_NER/bruk/9047cfab803a.ann', '/Users/linndfors/study/diploma/ner_for_fem/data/DATA_FOR_BALANCED_NER/bruk/b381bc7842b1.ann', '/Users/linndfors/study/diploma/ner_for_fem/data/DATA_FOR_BALANCED_NER/bruk/1448663b16b2.ann', '/Users/linndfors/study/diploma/ner_for_fem/data/DATA_FOR_BALANCED_NER/bruk/15238b87db03.ann', '/Users/linndfors/study/diploma/ner_for_fem/data/DATA_FOR_BALANCED_NER/bruk/224b36fbfbcc.ann', '/Users/linndfors/study/diploma/ner_for_fem/data/DATA_FOR_BALANCED_NER/bruk/7b7daaeb9d7d.ann', '/Users/linndfors/study/diploma/ner_for_fem/data/DATA_FOR_BALANCED_NER/bruk/dac0de834f47.ann', '/Users/linndfors/study/diploma/ner_for_fem/data/DATA_FOR_BALANCED_NER/bruk/547ce681ada8.ann', '/Users/linndfors/study/diploma/ner_for_fem/data/DATA_FOR_BALANCED_NER/bruk/d9e8a7cc311c.ann', '/Users/linndfors/study/diploma/ner_for_fem/data/DATA_FOR_BALANCED_NER/bruk/dcbb9ddb4aaa.ann', '/Users/linndfors/study/diploma/ner_for_fem/data/DATA_FOR_BALANCED_NER/bruk/180138cd9639.ann', '/Users/linndfors/study/diploma/ner_for_fem/data/DATA_FOR_BALANCED_NER/bruk/c40c6b1a374b.ann', '/Users/linndfors/study/diploma/ner_for_fem/data/DATA_FOR_BALANCED_NER/bruk/34c595e3a367.ann', '/Users/linndfors/study/diploma/ner_for_fem/data/DATA_FOR_BALANCED_NER/bruk/072f485824e1.ann', '/Users/linndfors/study/diploma/ner_for_fem/data/DATA_FOR_BALANCED_NER/bruk/bf4968831cc7.ann', '/Users/linndfors/study/diploma/ner_for_fem/data/DATA_FOR_BALANCED_NER/bruk/e9061171da9d.ann', '/Users/linndfors/study/diploma/ner_for_fem/data/DATA_FOR_BALANCED_NER/bruk/5a0aedfe0f5d.ann', '/Users/linndfors/study/diploma/ner_for_fem/data/DATA_FOR_BALANCED_NER/bruk/311fe00ee2e4.ann', '/Users/linndfors/study/diploma/ner_for_fem/data/DATA_FOR_BALANCED_NER/bruk/db336c963a75.ann', '/Users/linndfors/study/diploma/ner_for_fem/data/DATA_FOR_BALANCED_NER/bruk/e3ddcae5caa8.ann', '/Users/linndfors/study/diploma/ner_for_fem/data/DATA_FOR_BALANCED_NER/bruk/aad4dce361f1.ann', '/Users/linndfors/study/diploma/ner_for_fem/data/DATA_FOR_BALANCED_NER/bruk/d3d5522aa52e.ann', '/Users/linndfors/study/diploma/ner_for_fem/data/DATA_FOR_BALANCED_NER/bruk/92d38b895fa4.ann', '/Users/linndfors/study/diploma/ner_for_fem/data/DATA_FOR_BALANCED_NER/bruk/e8d4b8d56a07.ann', '/Users/linndfors/study/diploma/ner_for_fem/data/DATA_FOR_BALANCED_NER/bruk/61828291f32e.ann', '/Users/linndfors/study/diploma/ner_for_fem/data/DATA_FOR_BALANCED_NER/bruk/53c39d8d97c8.ann', '/Users/linndfors/study/diploma/ner_for_fem/data/DATA_FOR_BALANCED_NER/bruk/97ff41bd2697.ann', '/Users/linndfors/study/diploma/ner_for_fem/data/DATA_FOR_BALANCED_NER/bruk/56937f9aa8ef.ann', '/Users/linndfors/study/diploma/ner_for_fem/data/DATA_FOR_BALANCED_NER/bruk/a711fba03583.ann', '/Users/linndfors/study/diploma/ner_for_fem/data/DATA_FOR_BALANCED_NER/bruk/0124bf2fdf35.ann', '/Users/linndfors/study/diploma/ner_for_fem/data/DATA_FOR_BALANCED_NER/bruk/ed66834dcf5e.ann', '/Users/linndfors/study/diploma/ner_for_fem/data/DATA_FOR_BALANCED_NER/bruk/66395d7c394b.ann', '/Users/linndfors/study/diploma/ner_for_fem/data/DATA_FOR_BALANCED_NER/bruk/d07dfb774c28.ann', '/Users/linndfors/study/diploma/ner_for_fem/data/DATA_FOR_BALANCED_NER/bruk/53332fd5b311.ann', '/Users/linndfors/study/diploma/ner_for_fem/data/DATA_FOR_BALANCED_NER/bruk/9ec3c336d10b.ann', '/Users/linndfors/study/diploma/ner_for_fem/data/DATA_FOR_BALANCED_NER/bruk/48f4aaf25376.ann', '/Users/linndfors/study/diploma/ner_for_fem/data/DATA_FOR_BALANCED_NER/bruk/e5e76a8efa0f.ann', '/Users/linndfors/study/diploma/ner_for_fem/data/DATA_FOR_BALANCED_NER/bruk/9c614dee720a.ann', '/Users/linndfors/study/diploma/ner_for_fem/data/DATA_FOR_BALANCED_NER/bruk/2298b6b41bec.ann', '/Users/linndfors/study/diploma/ner_for_fem/data/DATA_FOR_BALANCED_NER/bruk/d3669729136c.ann', '/Users/linndfors/study/diploma/ner_for_fem/data/DATA_FOR_BALANCED_NER/bruk/f161f5134505.ann', '/Users/linndfors/study/diploma/ner_for_fem/data/DATA_FOR_BALANCED_NER/bruk/e1dbe335e762.ann', '/Users/linndfors/study/diploma/ner_for_fem/data/DATA_FOR_BALANCED_NER/bruk/5f8e43b59919.ann', '/Users/linndfors/study/diploma/ner_for_fem/data/DATA_FOR_BALANCED_NER/bruk/755c890a06fb.ann', '/Users/linndfors/study/diploma/ner_for_fem/data/DATA_FOR_BALANCED_NER/bruk/d79269090caa.ann', '/Users/linndfors/study/diploma/ner_for_fem/data/DATA_FOR_BALANCED_NER/bruk/53aae78351c4.ann', '/Users/linndfors/study/diploma/ner_for_fem/data/DATA_FOR_BALANCED_NER/bruk/a2238b6b98a1.ann', '/Users/linndfors/study/diploma/ner_for_fem/data/DATA_FOR_BALANCED_NER/bruk/10a2da5c514c.ann', '/Users/linndfors/study/diploma/ner_for_fem/data/DATA_FOR_BALANCED_NER/bruk/7b12fd5b62eb.ann', '/Users/linndfors/study/diploma/ner_for_fem/data/DATA_FOR_BALANCED_NER/bruk/cee02d4c030f.ann', '/Users/linndfors/study/diploma/ner_for_fem/data/DATA_FOR_BALANCED_NER/bruk/1ed3fef56c8f.ann', '/Users/linndfors/study/diploma/ner_for_fem/data/DATA_FOR_BALANCED_NER/bruk/3a333ad5757c.ann', '/Users/linndfors/study/diploma/ner_for_fem/data/DATA_FOR_BALANCED_NER/bruk/5207847a2e1d.ann', '/Users/linndfors/study/diploma/ner_for_fem/data/DATA_FOR_BALANCED_NER/bruk/91752831aab3.ann', '/Users/linndfors/study/diploma/ner_for_fem/data/DATA_FOR_BALANCED_NER/bruk/49752e89b7ff.ann', '/Users/linndfors/study/diploma/ner_for_fem/data/DATA_FOR_BALANCED_NER/bruk/561acef3f531.ann', '/Users/linndfors/study/diploma/ner_for_fem/data/DATA_FOR_BALANCED_NER/bruk/b51682e6ced9.ann', '/Users/linndfors/study/diploma/ner_for_fem/data/DATA_FOR_BALANCED_NER/bruk/e0493ec8466b.ann', '/Users/linndfors/study/diploma/ner_for_fem/data/DATA_FOR_BALANCED_NER/bruk/7de94608e47e.ann', '/Users/linndfors/study/diploma/ner_for_fem/data/DATA_FOR_BALANCED_NER/bruk/c3943538d82d.ann', '/Users/linndfors/study/diploma/ner_for_fem/data/DATA_FOR_BALANCED_NER/bruk/d30e0fb50f0f.ann', '/Users/linndfors/study/diploma/ner_for_fem/data/DATA_FOR_BALANCED_NER/bruk/605bc326eeaf.ann', '/Users/linndfors/study/diploma/ner_for_fem/data/DATA_FOR_BALANCED_NER/bruk/9494fddb0caa.ann', '/Users/linndfors/study/diploma/ner_for_fem/data/DATA_FOR_BALANCED_NER/bruk/b09a79bafe6c.ann', '/Users/linndfors/study/diploma/ner_for_fem/data/DATA_FOR_BALANCED_NER/bruk/8f009118f3b6.ann', '/Users/linndfors/study/diploma/ner_for_fem/data/DATA_FOR_BALANCED_NER/bruk/164940c99b86.ann', '/Users/linndfors/study/diploma/ner_for_fem/data/DATA_FOR_BALANCED_NER/bruk/78acebed5a3b.ann', '/Users/linndfors/study/diploma/ner_for_fem/data/DATA_FOR_BALANCED_NER/bruk/a858c90660f4.ann', '/Users/linndfors/study/diploma/ner_for_fem/data/DATA_FOR_BALANCED_NER/bruk/f03cac92cb80.ann', '/Users/linndfors/study/diploma/ner_for_fem/data/DATA_FOR_BALANCED_NER/bruk/2cc21b456aad.ann', '/Users/linndfors/study/diploma/ner_for_fem/data/DATA_FOR_BALANCED_NER/bruk/647a3f078f3f.ann', '/Users/linndfors/study/diploma/ner_for_fem/data/DATA_FOR_BALANCED_NER/bruk/9df8bcf8e17e.ann', '/Users/linndfors/study/diploma/ner_for_fem/data/DATA_FOR_BALANCED_NER/bruk/3f4bafb349ae.ann', '/Users/linndfors/study/diploma/ner_for_fem/data/DATA_FOR_BALANCED_NER/bruk/7b791a89bdee.ann', '/Users/linndfors/study/diploma/ner_for_fem/data/DATA_FOR_BALANCED_NER/bruk/f334a9c15e7b.ann', '/Users/linndfors/study/diploma/ner_for_fem/data/DATA_FOR_BALANCED_NER/bruk/2e4c850037f4.ann', '/Users/linndfors/study/diploma/ner_for_fem/data/DATA_FOR_BALANCED_NER/bruk/40f14174262a.ann', '/Users/linndfors/study/diploma/ner_for_fem/data/DATA_FOR_BALANCED_NER/bruk/4b1efc986bb8.ann', '/Users/linndfors/study/diploma/ner_for_fem/data/DATA_FOR_BALANCED_NER/bruk/f6f948024e96.ann', '/Users/linndfors/study/diploma/ner_for_fem/data/DATA_FOR_BALANCED_NER/bruk/1b8aae94e457.ann', '/Users/linndfors/study/diploma/ner_for_fem/data/DATA_FOR_BALANCED_NER/bruk/804f1f7b3cba.ann', '/Users/linndfors/study/diploma/ner_for_fem/data/DATA_FOR_BALANCED_NER/bruk/54463e60c449.ann', '/Users/linndfors/study/diploma/ner_for_fem/data/DATA_FOR_BALANCED_NER/bruk/fabc18a7d8fd.ann', '/Users/linndfors/study/diploma/ner_for_fem/data/DATA_FOR_BALANCED_NER/bruk/257fca043205.ann', '/Users/linndfors/study/diploma/ner_for_fem/data/DATA_FOR_BALANCED_NER/bruk/8fd32472ba8c.ann', '/Users/linndfors/study/diploma/ner_for_fem/data/DATA_FOR_BALANCED_NER/bruk/e21ddb9efb07.ann', '/Users/linndfors/study/diploma/ner_for_fem/data/DATA_FOR_BALANCED_NER/bruk/0d902430768c.ann', '/Users/linndfors/study/diploma/ner_for_fem/data/DATA_FOR_BALANCED_NER/bruk/e38f3f589599.ann', '/Users/linndfors/study/diploma/ner_for_fem/data/DATA_FOR_BALANCED_NER/bruk/47eb526780b0.ann', '/Users/linndfors/study/diploma/ner_for_fem/data/DATA_FOR_BALANCED_NER/bruk/9675d79e8807.ann', '/Users/linndfors/study/diploma/ner_for_fem/data/DATA_FOR_BALANCED_NER/bruk/7b2c9399fee9.ann', '/Users/linndfors/study/diploma/ner_for_fem/data/DATA_FOR_BALANCED_NER/bruk/624df1293f3d.ann', '/Users/linndfors/study/diploma/ner_for_fem/data/DATA_FOR_BALANCED_NER/bruk/e010e86e436c.ann', '/Users/linndfors/study/diploma/ner_for_fem/data/DATA_FOR_BALANCED_NER/bruk/69d2ba355bb3.ann', '/Users/linndfors/study/diploma/ner_for_fem/data/DATA_FOR_BALANCED_NER/bruk/a487d1895726.ann', '/Users/linndfors/study/diploma/ner_for_fem/data/DATA_FOR_BALANCED_NER/bruk/54e33e2bc8c9.ann', '/Users/linndfors/study/diploma/ner_for_fem/data/DATA_FOR_BALANCED_NER/bruk/efc2665e4bed.ann', '/Users/linndfors/study/diploma/ner_for_fem/data/DATA_FOR_BALANCED_NER/bruk/858f4aec5f11.ann', '/Users/linndfors/study/diploma/ner_for_fem/data/DATA_FOR_BALANCED_NER/bruk/bf847eb38952.ann', '/Users/linndfors/study/diploma/ner_for_fem/data/DATA_FOR_BALANCED_NER/bruk/eb523e7caf23.ann', '/Users/linndfors/study/diploma/ner_for_fem/data/DATA_FOR_BALANCED_NER/bruk/c069c0fe5b09.ann', '/Users/linndfors/study/diploma/ner_for_fem/data/DATA_FOR_BALANCED_NER/bruk/6b5d4229b548.ann', '/Users/linndfors/study/diploma/ner_for_fem/data/DATA_FOR_BALANCED_NER/bruk/ea3fab248fbe.ann', '/Users/linndfors/study/diploma/ner_for_fem/data/DATA_FOR_BALANCED_NER/bruk/7c3e231cb1a1.ann', '/Users/linndfors/study/diploma/ner_for_fem/data/DATA_FOR_BALANCED_NER/bruk/db8a0528945d.ann', '/Users/linndfors/study/diploma/ner_for_fem/data/DATA_FOR_BALANCED_NER/bruk/326978d2c58c.ann', '/Users/linndfors/study/diploma/ner_for_fem/data/DATA_FOR_BALANCED_NER/bruk/ed833c6b7cd6.ann', '/Users/linndfors/study/diploma/ner_for_fem/data/DATA_FOR_BALANCED_NER/bruk/e09cf46f8336.ann', '/Users/linndfors/study/diploma/ner_for_fem/data/DATA_FOR_BALANCED_NER/bruk/8cc49a8b2d76.ann', '/Users/linndfors/study/diploma/ner_for_fem/data/DATA_FOR_BALANCED_NER/bruk/f5c129207e1e.ann', '/Users/linndfors/study/diploma/ner_for_fem/data/DATA_FOR_BALANCED_NER/bruk/350d55a9cd57.ann', '/Users/linndfors/study/diploma/ner_for_fem/data/DATA_FOR_BALANCED_NER/bruk/e0d737d53640.ann', '/Users/linndfors/study/diploma/ner_for_fem/data/DATA_FOR_BALANCED_NER/bruk/b48fcd1e4038.ann', '/Users/linndfors/study/diploma/ner_for_fem/data/DATA_FOR_BALANCED_NER/bruk/a1040e479610.ann', '/Users/linndfors/study/diploma/ner_for_fem/data/DATA_FOR_BALANCED_NER/bruk/7288b7c578ae.ann', '/Users/linndfors/study/diploma/ner_for_fem/data/DATA_FOR_BALANCED_NER/bruk/85c4d4a485ec.ann', '/Users/linndfors/study/diploma/ner_for_fem/data/DATA_FOR_BALANCED_NER/bruk/74a7e2a340dd.ann', '/Users/linndfors/study/diploma/ner_for_fem/data/DATA_FOR_BALANCED_NER/bruk/90150d8555dd.ann', '/Users/linndfors/study/diploma/ner_for_fem/data/DATA_FOR_BALANCED_NER/bruk/abb07434ad17.ann', '/Users/linndfors/study/diploma/ner_for_fem/data/DATA_FOR_BALANCED_NER/bruk/ef1b6bd52747.ann', '/Users/linndfors/study/diploma/ner_for_fem/data/DATA_FOR_BALANCED_NER/bruk/fc8f156aa82b.ann', '/Users/linndfors/study/diploma/ner_for_fem/data/DATA_FOR_BALANCED_NER/bruk/209e9f10fc09.ann', '/Users/linndfors/study/diploma/ner_for_fem/data/DATA_FOR_BALANCED_NER/bruk/79812f4abec1.ann', '/Users/linndfors/study/diploma/ner_for_fem/data/DATA_FOR_BALANCED_NER/bruk/ff069c11e13d.ann', '/Users/linndfors/study/diploma/ner_for_fem/data/DATA_FOR_BALANCED_NER/bruk/095a5debd3eb.ann', '/Users/linndfors/study/diploma/ner_for_fem/data/DATA_FOR_BALANCED_NER/bruk/d2c0db522075.ann', '/Users/linndfors/study/diploma/ner_for_fem/data/DATA_FOR_BALANCED_NER/bruk/6b06f950414e.ann', '/Users/linndfors/study/diploma/ner_for_fem/data/DATA_FOR_BALANCED_NER/bruk/1c325fde9ed4.ann', '/Users/linndfors/study/diploma/ner_for_fem/data/DATA_FOR_BALANCED_NER/bruk/da7b7891d3ff.ann', '/Users/linndfors/study/diploma/ner_for_fem/data/DATA_FOR_BALANCED_NER/bruk/9fbfe077a27a.ann', '/Users/linndfors/study/diploma/ner_for_fem/data/DATA_FOR_BALANCED_NER/bruk/13e0cb95075a.ann', '/Users/linndfors/study/diploma/ner_for_fem/data/DATA_FOR_BALANCED_NER/bruk/3b3e40997071.ann', '/Users/linndfors/study/diploma/ner_for_fem/data/DATA_FOR_BALANCED_NER/bruk/0046ebeff13e.ann', '/Users/linndfors/study/diploma/ner_for_fem/data/DATA_FOR_BALANCED_NER/bruk/885fcaa2ed90.ann', '/Users/linndfors/study/diploma/ner_for_fem/data/DATA_FOR_BALANCED_NER/bruk/d605697acd36.ann', '/Users/linndfors/study/diploma/ner_for_fem/data/DATA_FOR_BALANCED_NER/bruk/dc1202fd9850.ann', '/Users/linndfors/study/diploma/ner_for_fem/data/DATA_FOR_BALANCED_NER/bruk/5a75a46fecdf.ann', '/Users/linndfors/study/diploma/ner_for_fem/data/DATA_FOR_BALANCED_NER/bruk/71a651d2dbec.ann', '/Users/linndfors/study/diploma/ner_for_fem/data/DATA_FOR_BALANCED_NER/bruk/cff8a0408e5d.ann', '/Users/linndfors/study/diploma/ner_for_fem/data/DATA_FOR_BALANCED_NER/bruk/11ee9b83c9c2.ann', '/Users/linndfors/study/diploma/ner_for_fem/data/DATA_FOR_BALANCED_NER/bruk/38a3cffd4beb.ann', '/Users/linndfors/study/diploma/ner_for_fem/data/DATA_FOR_BALANCED_NER/bruk/89117d2e88a0.ann', '/Users/linndfors/study/diploma/ner_for_fem/data/DATA_FOR_BALANCED_NER/bruk/1c37d315923c.ann', '/Users/linndfors/study/diploma/ner_for_fem/data/DATA_FOR_BALANCED_NER/bruk/bd86f567c746.ann', '/Users/linndfors/study/diploma/ner_for_fem/data/DATA_FOR_BALANCED_NER/bruk/8051a5966e78.ann', '/Users/linndfors/study/diploma/ner_for_fem/data/DATA_FOR_BALANCED_NER/bruk/52049bc57554.ann', '/Users/linndfors/study/diploma/ner_for_fem/data/DATA_FOR_BALANCED_NER/bruk/b3c847570902.ann', '/Users/linndfors/study/diploma/ner_for_fem/data/DATA_FOR_BALANCED_NER/bruk/4067c1915516.ann', '/Users/linndfors/study/diploma/ner_for_fem/data/DATA_FOR_BALANCED_NER/bruk/f89275b78518.ann', '/Users/linndfors/study/diploma/ner_for_fem/data/DATA_FOR_BALANCED_NER/bruk/f579476e6692.ann', '/Users/linndfors/study/diploma/ner_for_fem/data/DATA_FOR_BALANCED_NER/bruk/5710814a4a84.ann', '/Users/linndfors/study/diploma/ner_for_fem/data/DATA_FOR_BALANCED_NER/bruk/7b5796884bc9.ann', '/Users/linndfors/study/diploma/ner_for_fem/data/DATA_FOR_BALANCED_NER/bruk/18ec3aea7ed7.ann', '/Users/linndfors/study/diploma/ner_for_fem/data/DATA_FOR_BALANCED_NER/bruk/f495f41dfa02.ann', '/Users/linndfors/study/diploma/ner_for_fem/data/DATA_FOR_BALANCED_NER/bruk/e023d6d6f1a3.ann', '/Users/linndfors/study/diploma/ner_for_fem/data/DATA_FOR_BALANCED_NER/bruk/f4ca58272dbf.ann', '/Users/linndfors/study/diploma/ner_for_fem/data/DATA_FOR_BALANCED_NER/bruk/e3c7064319e0.ann', '/Users/linndfors/study/diploma/ner_for_fem/data/DATA_FOR_BALANCED_NER/bruk/5e10574a909c.ann', '/Users/linndfors/study/diploma/ner_for_fem/data/DATA_FOR_BALANCED_NER/bruk/c6807dbff658.ann', '/Users/linndfors/study/diploma/ner_for_fem/data/DATA_FOR_BALANCED_NER/bruk/8e5453dbd6f4.ann', '/Users/linndfors/study/diploma/ner_for_fem/data/DATA_FOR_BALANCED_NER/bruk/5025975880fb.ann', '/Users/linndfors/study/diploma/ner_for_fem/data/DATA_FOR_BALANCED_NER/bruk/b019e9b8d51d.ann', '/Users/linndfors/study/diploma/ner_for_fem/data/DATA_FOR_BALANCED_NER/bruk/bc755153f4f7.ann', '/Users/linndfors/study/diploma/ner_for_fem/data/DATA_FOR_BALANCED_NER/bruk/e053b1d934d3.ann', '/Users/linndfors/study/diploma/ner_for_fem/data/DATA_FOR_BALANCED_NER/bruk/6d620fe63e14.ann', '/Users/linndfors/study/diploma/ner_for_fem/data/DATA_FOR_BALANCED_NER/bruk/9c0774172f73.ann', '/Users/linndfors/study/diploma/ner_for_fem/data/DATA_FOR_BALANCED_NER/bruk/c3402705f448.ann', '/Users/linndfors/study/diploma/ner_for_fem/data/DATA_FOR_BALANCED_NER/bruk/6b60e6fb3d78.ann', '/Users/linndfors/study/diploma/ner_for_fem/data/DATA_FOR_BALANCED_NER/bruk/38603af07530.ann', '/Users/linndfors/study/diploma/ner_for_fem/data/DATA_FOR_BALANCED_NER/bruk/8c7ec62e35ac.ann', '/Users/linndfors/study/diploma/ner_for_fem/data/DATA_FOR_BALANCED_NER/bruk/34a0fdd811de.ann', '/Users/linndfors/study/diploma/ner_for_fem/data/DATA_FOR_BALANCED_NER/bruk/27a1722d517c.ann', '/Users/linndfors/study/diploma/ner_for_fem/data/DATA_FOR_BALANCED_NER/bruk/fe18230930c4.ann', '/Users/linndfors/study/diploma/ner_for_fem/data/DATA_FOR_BALANCED_NER/bruk/5d4e6be6d046.ann', '/Users/linndfors/study/diploma/ner_for_fem/data/DATA_FOR_BALANCED_NER/bruk/066ec5f0dea6.ann', '/Users/linndfors/study/diploma/ner_for_fem/data/DATA_FOR_BALANCED_NER/bruk/f4136bfda19a.ann', '/Users/linndfors/study/diploma/ner_for_fem/data/DATA_FOR_BALANCED_NER/bruk/548f66f38090.ann', '/Users/linndfors/study/diploma/ner_for_fem/data/DATA_FOR_BALANCED_NER/bruk/63eeded4491d.ann', '/Users/linndfors/study/diploma/ner_for_fem/data/DATA_FOR_BALANCED_NER/bruk/17fbae84faea.ann', '/Users/linndfors/study/diploma/ner_for_fem/data/DATA_FOR_BALANCED_NER/bruk/facfaebdda53.ann', '/Users/linndfors/study/diploma/ner_for_fem/data/DATA_FOR_BALANCED_NER/bruk/937c38344fdf.ann', '/Users/linndfors/study/diploma/ner_for_fem/data/DATA_FOR_BALANCED_NER/bruk/835125e08bbe.ann', '/Users/linndfors/study/diploma/ner_for_fem/data/DATA_FOR_BALANCED_NER/bruk/3071b42b697b.ann', '/Users/linndfors/study/diploma/ner_for_fem/data/DATA_FOR_BALANCED_NER/bruk/b84c8a869b51.ann', '/Users/linndfors/study/diploma/ner_for_fem/data/DATA_FOR_BALANCED_NER/bruk/5007c900c375.ann', '/Users/linndfors/study/diploma/ner_for_fem/data/DATA_FOR_BALANCED_NER/bruk/b576ac602665.ann', '/Users/linndfors/study/diploma/ner_for_fem/data/DATA_FOR_BALANCED_NER/bruk/2936652097f4.ann', '/Users/linndfors/study/diploma/ner_for_fem/data/DATA_FOR_BALANCED_NER/bruk/c839868dc209.ann', '/Users/linndfors/study/diploma/ner_for_fem/data/DATA_FOR_BALANCED_NER/bruk/0ac5140eb732.ann', '/Users/linndfors/study/diploma/ner_for_fem/data/DATA_FOR_BALANCED_NER/bruk/3ba7ca929d68.ann', '/Users/linndfors/study/diploma/ner_for_fem/data/DATA_FOR_BALANCED_NER/bruk/2846bf1d66a8.ann', '/Users/linndfors/study/diploma/ner_for_fem/data/DATA_FOR_BALANCED_NER/bruk/232be2c6b5c2.ann', '/Users/linndfors/study/diploma/ner_for_fem/data/DATA_FOR_BALANCED_NER/bruk/2f18f73184c6.ann', '/Users/linndfors/study/diploma/ner_for_fem/data/DATA_FOR_BALANCED_NER/bruk/4b9c4f7467c3.ann', '/Users/linndfors/study/diploma/ner_for_fem/data/DATA_FOR_BALANCED_NER/bruk/2043b8e17afd.ann', '/Users/linndfors/study/diploma/ner_for_fem/data/DATA_FOR_BALANCED_NER/bruk/06d78909a7ab.ann', '/Users/linndfors/study/diploma/ner_for_fem/data/DATA_FOR_BALANCED_NER/bruk/b87576a7425a.ann', '/Users/linndfors/study/diploma/ner_for_fem/data/DATA_FOR_BALANCED_NER/bruk/09d6a57532b6.ann', '/Users/linndfors/study/diploma/ner_for_fem/data/DATA_FOR_BALANCED_NER/bruk/db78e47ddc2b.ann', '/Users/linndfors/study/diploma/ner_for_fem/data/DATA_FOR_BALANCED_NER/bruk/710044df1fe0.ann', '/Users/linndfors/study/diploma/ner_for_fem/data/DATA_FOR_BALANCED_NER/bruk/a196488351f6.ann', '/Users/linndfors/study/diploma/ner_for_fem/data/DATA_FOR_BALANCED_NER/bruk/a616672f4a8b.ann', '/Users/linndfors/study/diploma/ner_for_fem/data/DATA_FOR_BALANCED_NER/bruk/91024fa21059.ann', '/Users/linndfors/study/diploma/ner_for_fem/data/DATA_FOR_BALANCED_NER/bruk/ec56de093e26.ann', '/Users/linndfors/study/diploma/ner_for_fem/data/DATA_FOR_BALANCED_NER/bruk/1001d3d44d5d.ann', '/Users/linndfors/study/diploma/ner_for_fem/data/DATA_FOR_BALANCED_NER/bruk/8319d005221b.ann', '/Users/linndfors/study/diploma/ner_for_fem/data/DATA_FOR_BALANCED_NER/bruk/9e763fde7f9d.ann', '/Users/linndfors/study/diploma/ner_for_fem/data/DATA_FOR_BALANCED_NER/bruk/b987128d15d3.ann', '/Users/linndfors/study/diploma/ner_for_fem/data/DATA_FOR_BALANCED_NER/bruk/d027e35c242d.ann', '/Users/linndfors/study/diploma/ner_for_fem/data/DATA_FOR_BALANCED_NER/bruk/c0c436cc9cb6.ann', '/Users/linndfors/study/diploma/ner_for_fem/data/DATA_FOR_BALANCED_NER/bruk/ff44a42fbce8.ann', '/Users/linndfors/study/diploma/ner_for_fem/data/DATA_FOR_BALANCED_NER/bruk/24dc7f2b8dba.ann', '/Users/linndfors/study/diploma/ner_for_fem/data/DATA_FOR_BALANCED_NER/bruk/276b7d4811fe.ann', '/Users/linndfors/study/diploma/ner_for_fem/data/DATA_FOR_BALANCED_NER/bruk/0b09727dad40.ann', '/Users/linndfors/study/diploma/ner_for_fem/data/DATA_FOR_BALANCED_NER/bruk/09a740046a57.ann', '/Users/linndfors/study/diploma/ner_for_fem/data/DATA_FOR_BALANCED_NER/bruk/9d8a2d411738.ann', '/Users/linndfors/study/diploma/ner_for_fem/data/DATA_FOR_BALANCED_NER/bruk/85ff05f88182.ann', '/Users/linndfors/study/diploma/ner_for_fem/data/DATA_FOR_BALANCED_NER/bruk/5764f733fff2.ann', '/Users/linndfors/study/diploma/ner_for_fem/data/DATA_FOR_BALANCED_NER/bruk/c0f24f5d70e3.ann', '/Users/linndfors/study/diploma/ner_for_fem/data/DATA_FOR_BALANCED_NER/bruk/0b962bee49bc.ann', '/Users/linndfors/study/diploma/ner_for_fem/data/DATA_FOR_BALANCED_NER/bruk/ce0f43ec1ab3.ann', '/Users/linndfors/study/diploma/ner_for_fem/data/DATA_FOR_BALANCED_NER/bruk/9289f89ef36f.ann', '/Users/linndfors/study/diploma/ner_for_fem/data/DATA_FOR_BALANCED_NER/bruk/2fc890744f7c.ann', '/Users/linndfors/study/diploma/ner_for_fem/data/DATA_FOR_BALANCED_NER/bruk/46ae77c0ec97.ann', '/Users/linndfors/study/diploma/ner_for_fem/data/DATA_FOR_BALANCED_NER/bruk/f5bb37569413.ann', '/Users/linndfors/study/diploma/ner_for_fem/data/DATA_FOR_BALANCED_NER/bruk/f9a926049262.ann', '/Users/linndfors/study/diploma/ner_for_fem/data/DATA_FOR_BALANCED_NER/bruk/132368095bab.ann', '/Users/linndfors/study/diploma/ner_for_fem/data/DATA_FOR_BALANCED_NER/bruk/9d4b90129d10.ann', '/Users/linndfors/study/diploma/ner_for_fem/data/DATA_FOR_BALANCED_NER/bruk/8951230172d0.ann', '/Users/linndfors/study/diploma/ner_for_fem/data/DATA_FOR_BALANCED_NER/bruk/5085bb95b51a.ann', '/Users/linndfors/study/diploma/ner_for_fem/data/DATA_FOR_BALANCED_NER/bruk/e1d8841dcc68.ann', '/Users/linndfors/study/diploma/ner_for_fem/data/DATA_FOR_BALANCED_NER/bruk/6e4853575182.ann', '/Users/linndfors/study/diploma/ner_for_fem/data/DATA_FOR_BALANCED_NER/bruk/d81f996d0ab8.ann', '/Users/linndfors/study/diploma/ner_for_fem/data/DATA_FOR_BALANCED_NER/bruk/dd433aaa7ea6.ann', '/Users/linndfors/study/diploma/ner_for_fem/data/DATA_FOR_BALANCED_NER/bruk/d08ea0bbac66.ann', '/Users/linndfors/study/diploma/ner_for_fem/data/DATA_FOR_BALANCED_NER/bruk/6fd76ff76fe1.ann', '/Users/linndfors/study/diploma/ner_for_fem/data/DATA_FOR_BALANCED_NER/bruk/f958ce8bb461.ann', '/Users/linndfors/study/diploma/ner_for_fem/data/DATA_FOR_BALANCED_NER/bruk/814169a89f24.ann', '/Users/linndfors/study/diploma/ner_for_fem/data/DATA_FOR_BALANCED_NER/bruk/a1a77d3d5b33.ann', '/Users/linndfors/study/diploma/ner_for_fem/data/DATA_FOR_BALANCED_NER/bruk/d530671576f8.ann', '/Users/linndfors/study/diploma/ner_for_fem/data/DATA_FOR_BALANCED_NER/bruk/cf3bc90c93e7.ann', '/Users/linndfors/study/diploma/ner_for_fem/data/DATA_FOR_BALANCED_NER/bruk/e622bcc4a6c5.ann', '/Users/linndfors/study/diploma/ner_for_fem/data/DATA_FOR_BALANCED_NER/bruk/c375246adb0a.ann', '/Users/linndfors/study/diploma/ner_for_fem/data/DATA_FOR_BALANCED_NER/bruk/766e1942f398.ann', '/Users/linndfors/study/diploma/ner_for_fem/data/DATA_FOR_BALANCED_NER/bruk/cad2484c0cc8.ann', '/Users/linndfors/study/diploma/ner_for_fem/data/DATA_FOR_BALANCED_NER/bruk/c28168a23912.ann', '/Users/linndfors/study/diploma/ner_for_fem/data/DATA_FOR_BALANCED_NER/bruk/b6756b05bab3.ann', '/Users/linndfors/study/diploma/ner_for_fem/data/DATA_FOR_BALANCED_NER/bruk/17d3d678df81.ann', '/Users/linndfors/study/diploma/ner_for_fem/data/DATA_FOR_BALANCED_NER/bruk/3d5cec7abaca.ann', '/Users/linndfors/study/diploma/ner_for_fem/data/DATA_FOR_BALANCED_NER/bruk/1484f7813550.ann', '/Users/linndfors/study/diploma/ner_for_fem/data/DATA_FOR_BALANCED_NER/bruk/e8188caa466c.ann']\n"
     ]
    },
    {
     "name": "stderr",
     "output_type": "stream",
     "text": [
      "100%|██████████| 231/231 [2:59:33<00:00, 46.64s/it]  \n"
     ]
    }
   ],
   "source": [
    "bruk_pers_dict = extract_pers_entities(\"/Users/linndfors/study/diploma/ner_for_fem/data/DATA_FOR_BALANCED_NER/bruk\")\n",
    "bruk_file_gender_pers_dict, bruk_total_pers_counter, bruk_pers_list = return_gendered_PERS_dict(bruk_pers_dict)"
   ]
  },
  {
   "cell_type": "code",
   "execution_count": 284,
   "metadata": {},
   "outputs": [
    {
     "name": "stdout",
     "output_type": "stream",
     "text": [
      "total size: 4415\n",
      "================\n",
      "gender: male\n",
      "number of files for the gender: 176\n",
      "number of entities for the gender: 1274\n",
      "The most popular entity: Андрій\n",
      "================\n",
      "================\n",
      "gender: female\n",
      "number of files for the gender: 135\n",
      "number of entities for the gender: 970\n",
      "The most popular entity: Аліна\n",
      "================\n",
      "================\n",
      "gender: unknown_gender\n",
      "number of files for the gender: 200\n",
      "number of entities for the gender: 2171\n",
      "The most popular entity: Бог\n",
      "================\n"
     ]
    }
   ],
   "source": [
    "return_gender_stat(bruk_total_pers_counter, bruk_file_gender_pers_dict)\n",
    "orig_bruk_pers_female_files, orig_bruk_pers_male_files, orig_bruk_pers_common_files = split_files(bruk_file_gender_pers_dict, \"/Users/linndfors/study/diploma/ner_for_fem/data/DATA_FOR_BALANCED_NER/bruk\")"
   ]
  },
  {
   "cell_type": "code",
   "execution_count": 263,
   "metadata": {},
   "outputs": [
    {
     "name": "stdout",
     "output_type": "stream",
     "text": [
      "['/Users/linndfors/study/diploma/ner_for_fem/data/DATA_FOR_BALANCED_NER/ng/b4fe41ad2268.ann', '/Users/linndfors/study/diploma/ner_for_fem/data/DATA_FOR_BALANCED_NER/ng/150446f83aa2.ann', '/Users/linndfors/study/diploma/ner_for_fem/data/DATA_FOR_BALANCED_NER/ng/ee7cde9751a7.ann', '/Users/linndfors/study/diploma/ner_for_fem/data/DATA_FOR_BALANCED_NER/ng/3fdf22393022.ann', '/Users/linndfors/study/diploma/ner_for_fem/data/DATA_FOR_BALANCED_NER/ng/76b9b07172fb.ann', '/Users/linndfors/study/diploma/ner_for_fem/data/DATA_FOR_BALANCED_NER/ng/7982679365fb.ann', '/Users/linndfors/study/diploma/ner_for_fem/data/DATA_FOR_BALANCED_NER/ng/003d28360166.ann', '/Users/linndfors/study/diploma/ner_for_fem/data/DATA_FOR_BALANCED_NER/ng/02634352df22.ann', '/Users/linndfors/study/diploma/ner_for_fem/data/DATA_FOR_BALANCED_NER/ng/a9d2c035032d.ann', '/Users/linndfors/study/diploma/ner_for_fem/data/DATA_FOR_BALANCED_NER/ng/3eef4bd7fc75.ann', '/Users/linndfors/study/diploma/ner_for_fem/data/DATA_FOR_BALANCED_NER/ng/f342f88df1c8.ann', '/Users/linndfors/study/diploma/ner_for_fem/data/DATA_FOR_BALANCED_NER/ng/bed0c1b62024.ann', '/Users/linndfors/study/diploma/ner_for_fem/data/DATA_FOR_BALANCED_NER/ng/d7e523681acc.ann', '/Users/linndfors/study/diploma/ner_for_fem/data/DATA_FOR_BALANCED_NER/ng/ba4204adf371.ann', '/Users/linndfors/study/diploma/ner_for_fem/data/DATA_FOR_BALANCED_NER/ng/cb7958ff386e.ann', '/Users/linndfors/study/diploma/ner_for_fem/data/DATA_FOR_BALANCED_NER/ng/6dd15465059a.ann', '/Users/linndfors/study/diploma/ner_for_fem/data/DATA_FOR_BALANCED_NER/ng/883e1bd852d8.ann', '/Users/linndfors/study/diploma/ner_for_fem/data/DATA_FOR_BALANCED_NER/ng/8806c823dee8.ann', '/Users/linndfors/study/diploma/ner_for_fem/data/DATA_FOR_BALANCED_NER/ng/418cf6ff9844.ann', '/Users/linndfors/study/diploma/ner_for_fem/data/DATA_FOR_BALANCED_NER/ng/258d2fd0d2fe.ann', '/Users/linndfors/study/diploma/ner_for_fem/data/DATA_FOR_BALANCED_NER/ng/357039d66ab7.ann', '/Users/linndfors/study/diploma/ner_for_fem/data/DATA_FOR_BALANCED_NER/ng/535022e2bdd2.ann', '/Users/linndfors/study/diploma/ner_for_fem/data/DATA_FOR_BALANCED_NER/ng/bbbc95618194.ann', '/Users/linndfors/study/diploma/ner_for_fem/data/DATA_FOR_BALANCED_NER/ng/8b3ec884f52d.ann', '/Users/linndfors/study/diploma/ner_for_fem/data/DATA_FOR_BALANCED_NER/ng/19ebc4aa5eb5.ann', '/Users/linndfors/study/diploma/ner_for_fem/data/DATA_FOR_BALANCED_NER/ng/8e1267225acc.ann', '/Users/linndfors/study/diploma/ner_for_fem/data/DATA_FOR_BALANCED_NER/ng/f50037706d0a.ann', '/Users/linndfors/study/diploma/ner_for_fem/data/DATA_FOR_BALANCED_NER/ng/7d19fba564ad.ann', '/Users/linndfors/study/diploma/ner_for_fem/data/DATA_FOR_BALANCED_NER/ng/46b3a16d4154.ann', '/Users/linndfors/study/diploma/ner_for_fem/data/DATA_FOR_BALANCED_NER/ng/e19e41e16752.ann', '/Users/linndfors/study/diploma/ner_for_fem/data/DATA_FOR_BALANCED_NER/ng/3262eb989bd6.ann', '/Users/linndfors/study/diploma/ner_for_fem/data/DATA_FOR_BALANCED_NER/ng/6d7cbd85036c.ann', '/Users/linndfors/study/diploma/ner_for_fem/data/DATA_FOR_BALANCED_NER/ng/757fc6f23e18.ann', '/Users/linndfors/study/diploma/ner_for_fem/data/DATA_FOR_BALANCED_NER/ng/d84580a3bacf.ann', '/Users/linndfors/study/diploma/ner_for_fem/data/DATA_FOR_BALANCED_NER/ng/517bca22990a.ann', '/Users/linndfors/study/diploma/ner_for_fem/data/DATA_FOR_BALANCED_NER/ng/b9ea4aa52bae.ann', '/Users/linndfors/study/diploma/ner_for_fem/data/DATA_FOR_BALANCED_NER/ng/605d2142ccad.ann', '/Users/linndfors/study/diploma/ner_for_fem/data/DATA_FOR_BALANCED_NER/ng/4fa4b01c6204.ann', '/Users/linndfors/study/diploma/ner_for_fem/data/DATA_FOR_BALANCED_NER/ng/63711262f9fb.ann', '/Users/linndfors/study/diploma/ner_for_fem/data/DATA_FOR_BALANCED_NER/ng/6f6281133248.ann', '/Users/linndfors/study/diploma/ner_for_fem/data/DATA_FOR_BALANCED_NER/ng/02bebf42e010.ann', '/Users/linndfors/study/diploma/ner_for_fem/data/DATA_FOR_BALANCED_NER/ng/e0c4e3168c81.ann', '/Users/linndfors/study/diploma/ner_for_fem/data/DATA_FOR_BALANCED_NER/ng/7e6a2bdcfd1c.ann', '/Users/linndfors/study/diploma/ner_for_fem/data/DATA_FOR_BALANCED_NER/ng/3e21f62b9a2f.ann', '/Users/linndfors/study/diploma/ner_for_fem/data/DATA_FOR_BALANCED_NER/ng/a56a7edf7859.ann', '/Users/linndfors/study/diploma/ner_for_fem/data/DATA_FOR_BALANCED_NER/ng/a4eee55da896.ann', '/Users/linndfors/study/diploma/ner_for_fem/data/DATA_FOR_BALANCED_NER/ng/9c264bd5a100.ann', '/Users/linndfors/study/diploma/ner_for_fem/data/DATA_FOR_BALANCED_NER/ng/8098d69d861f.ann', '/Users/linndfors/study/diploma/ner_for_fem/data/DATA_FOR_BALANCED_NER/ng/989b35bbc2b6.ann', '/Users/linndfors/study/diploma/ner_for_fem/data/DATA_FOR_BALANCED_NER/ng/2980d5c34788.ann', '/Users/linndfors/study/diploma/ner_for_fem/data/DATA_FOR_BALANCED_NER/ng/c49d24717658.ann', '/Users/linndfors/study/diploma/ner_for_fem/data/DATA_FOR_BALANCED_NER/ng/1d88edf10c84.ann', '/Users/linndfors/study/diploma/ner_for_fem/data/DATA_FOR_BALANCED_NER/ng/bbc5330abbdc.ann', '/Users/linndfors/study/diploma/ner_for_fem/data/DATA_FOR_BALANCED_NER/ng/c97bff36f45a.ann', '/Users/linndfors/study/diploma/ner_for_fem/data/DATA_FOR_BALANCED_NER/ng/605667093f7b.ann', '/Users/linndfors/study/diploma/ner_for_fem/data/DATA_FOR_BALANCED_NER/ng/e96b3ae1908b.ann', '/Users/linndfors/study/diploma/ner_for_fem/data/DATA_FOR_BALANCED_NER/ng/cbf21c99c504.ann', '/Users/linndfors/study/diploma/ner_for_fem/data/DATA_FOR_BALANCED_NER/ng/97c7987b8f9c.ann', '/Users/linndfors/study/diploma/ner_for_fem/data/DATA_FOR_BALANCED_NER/ng/104263660695.ann', '/Users/linndfors/study/diploma/ner_for_fem/data/DATA_FOR_BALANCED_NER/ng/7faf035614c1.ann', '/Users/linndfors/study/diploma/ner_for_fem/data/DATA_FOR_BALANCED_NER/ng/30856acf29fc.ann', '/Users/linndfors/study/diploma/ner_for_fem/data/DATA_FOR_BALANCED_NER/ng/f2653a1e387d.ann', '/Users/linndfors/study/diploma/ner_for_fem/data/DATA_FOR_BALANCED_NER/ng/db4996034aa6.ann', '/Users/linndfors/study/diploma/ner_for_fem/data/DATA_FOR_BALANCED_NER/ng/4671f9337340.ann', '/Users/linndfors/study/diploma/ner_for_fem/data/DATA_FOR_BALANCED_NER/ng/36aa8022709f.ann', '/Users/linndfors/study/diploma/ner_for_fem/data/DATA_FOR_BALANCED_NER/ng/2ff4fbe3fcc4.ann', '/Users/linndfors/study/diploma/ner_for_fem/data/DATA_FOR_BALANCED_NER/ng/c09661af0a89.ann', '/Users/linndfors/study/diploma/ner_for_fem/data/DATA_FOR_BALANCED_NER/ng/3b285211209c.ann', '/Users/linndfors/study/diploma/ner_for_fem/data/DATA_FOR_BALANCED_NER/ng/35a759d5871f.ann', '/Users/linndfors/study/diploma/ner_for_fem/data/DATA_FOR_BALANCED_NER/ng/76cfe1c0a0b6.ann', '/Users/linndfors/study/diploma/ner_for_fem/data/DATA_FOR_BALANCED_NER/ng/d1d4639dbadd.ann', '/Users/linndfors/study/diploma/ner_for_fem/data/DATA_FOR_BALANCED_NER/ng/037bb6843538.ann', '/Users/linndfors/study/diploma/ner_for_fem/data/DATA_FOR_BALANCED_NER/ng/fba30fed0dbd.ann', '/Users/linndfors/study/diploma/ner_for_fem/data/DATA_FOR_BALANCED_NER/ng/c446d7d1cea2.ann', '/Users/linndfors/study/diploma/ner_for_fem/data/DATA_FOR_BALANCED_NER/ng/cb8dd5ea2542.ann', '/Users/linndfors/study/diploma/ner_for_fem/data/DATA_FOR_BALANCED_NER/ng/8c6db2873e45.ann', '/Users/linndfors/study/diploma/ner_for_fem/data/DATA_FOR_BALANCED_NER/ng/16fb31bf76b8.ann', '/Users/linndfors/study/diploma/ner_for_fem/data/DATA_FOR_BALANCED_NER/ng/73eb785ac9bb.ann', '/Users/linndfors/study/diploma/ner_for_fem/data/DATA_FOR_BALANCED_NER/ng/ba4d4c8da29b.ann', '/Users/linndfors/study/diploma/ner_for_fem/data/DATA_FOR_BALANCED_NER/ng/9cd323d79912.ann', '/Users/linndfors/study/diploma/ner_for_fem/data/DATA_FOR_BALANCED_NER/ng/d080aa19c4bd.ann', '/Users/linndfors/study/diploma/ner_for_fem/data/DATA_FOR_BALANCED_NER/ng/ab299615a1ce.ann', '/Users/linndfors/study/diploma/ner_for_fem/data/DATA_FOR_BALANCED_NER/ng/0e5456794c26.ann', '/Users/linndfors/study/diploma/ner_for_fem/data/DATA_FOR_BALANCED_NER/ng/a04af354c8db.ann', '/Users/linndfors/study/diploma/ner_for_fem/data/DATA_FOR_BALANCED_NER/ng/03d075bafb84.ann', '/Users/linndfors/study/diploma/ner_for_fem/data/DATA_FOR_BALANCED_NER/ng/c650874a1e16.ann', '/Users/linndfors/study/diploma/ner_for_fem/data/DATA_FOR_BALANCED_NER/ng/f5475c5dbfc9.ann', '/Users/linndfors/study/diploma/ner_for_fem/data/DATA_FOR_BALANCED_NER/ng/26c531a355cc.ann', '/Users/linndfors/study/diploma/ner_for_fem/data/DATA_FOR_BALANCED_NER/ng/7ab185008967.ann', '/Users/linndfors/study/diploma/ner_for_fem/data/DATA_FOR_BALANCED_NER/ng/d084adea3ae8.ann', '/Users/linndfors/study/diploma/ner_for_fem/data/DATA_FOR_BALANCED_NER/ng/47713afd9490.ann', '/Users/linndfors/study/diploma/ner_for_fem/data/DATA_FOR_BALANCED_NER/ng/12ca40b4ecac.ann', '/Users/linndfors/study/diploma/ner_for_fem/data/DATA_FOR_BALANCED_NER/ng/7f9631dbc39d.ann', '/Users/linndfors/study/diploma/ner_for_fem/data/DATA_FOR_BALANCED_NER/ng/b0163b57e788.ann', '/Users/linndfors/study/diploma/ner_for_fem/data/DATA_FOR_BALANCED_NER/ng/bdb88360d4a8.ann', '/Users/linndfors/study/diploma/ner_for_fem/data/DATA_FOR_BALANCED_NER/ng/4de429586136.ann', '/Users/linndfors/study/diploma/ner_for_fem/data/DATA_FOR_BALANCED_NER/ng/78153c6d7c59.ann', '/Users/linndfors/study/diploma/ner_for_fem/data/DATA_FOR_BALANCED_NER/ng/03b52358982b.ann', '/Users/linndfors/study/diploma/ner_for_fem/data/DATA_FOR_BALANCED_NER/ng/346183e7b6b1.ann', '/Users/linndfors/study/diploma/ner_for_fem/data/DATA_FOR_BALANCED_NER/ng/c9e6ab501a7e.ann', '/Users/linndfors/study/diploma/ner_for_fem/data/DATA_FOR_BALANCED_NER/ng/1c3c6180ad96.ann', '/Users/linndfors/study/diploma/ner_for_fem/data/DATA_FOR_BALANCED_NER/ng/c99d1ad0cc3c.ann', '/Users/linndfors/study/diploma/ner_for_fem/data/DATA_FOR_BALANCED_NER/ng/acabbef68eb1.ann', '/Users/linndfors/study/diploma/ner_for_fem/data/DATA_FOR_BALANCED_NER/ng/432e298a1354.ann', '/Users/linndfors/study/diploma/ner_for_fem/data/DATA_FOR_BALANCED_NER/ng/b2541ea8cb83.ann', '/Users/linndfors/study/diploma/ner_for_fem/data/DATA_FOR_BALANCED_NER/ng/7eae7aa310d7.ann', '/Users/linndfors/study/diploma/ner_for_fem/data/DATA_FOR_BALANCED_NER/ng/17f81040ab50.ann', '/Users/linndfors/study/diploma/ner_for_fem/data/DATA_FOR_BALANCED_NER/ng/5e407e3ddb68.ann', '/Users/linndfors/study/diploma/ner_for_fem/data/DATA_FOR_BALANCED_NER/ng/39c7437146fd.ann', '/Users/linndfors/study/diploma/ner_for_fem/data/DATA_FOR_BALANCED_NER/ng/aeabc0bd5724.ann', '/Users/linndfors/study/diploma/ner_for_fem/data/DATA_FOR_BALANCED_NER/ng/ca414599779c.ann', '/Users/linndfors/study/diploma/ner_for_fem/data/DATA_FOR_BALANCED_NER/ng/510661e4d39d.ann', '/Users/linndfors/study/diploma/ner_for_fem/data/DATA_FOR_BALANCED_NER/ng/6350e46219ca.ann', '/Users/linndfors/study/diploma/ner_for_fem/data/DATA_FOR_BALANCED_NER/ng/fc3221dac69d.ann', '/Users/linndfors/study/diploma/ner_for_fem/data/DATA_FOR_BALANCED_NER/ng/64bbab373f73.ann', '/Users/linndfors/study/diploma/ner_for_fem/data/DATA_FOR_BALANCED_NER/ng/39544dbbe184.ann', '/Users/linndfors/study/diploma/ner_for_fem/data/DATA_FOR_BALANCED_NER/ng/372677bde8c8.ann', '/Users/linndfors/study/diploma/ner_for_fem/data/DATA_FOR_BALANCED_NER/ng/0e6b8eb14491.ann', '/Users/linndfors/study/diploma/ner_for_fem/data/DATA_FOR_BALANCED_NER/ng/01cfbeca9827.ann', '/Users/linndfors/study/diploma/ner_for_fem/data/DATA_FOR_BALANCED_NER/ng/c3156652dba3.ann', '/Users/linndfors/study/diploma/ner_for_fem/data/DATA_FOR_BALANCED_NER/ng/8f5d434373e2.ann', '/Users/linndfors/study/diploma/ner_for_fem/data/DATA_FOR_BALANCED_NER/ng/937ae8974dd6.ann', '/Users/linndfors/study/diploma/ner_for_fem/data/DATA_FOR_BALANCED_NER/ng/c8944932e85f.ann', '/Users/linndfors/study/diploma/ner_for_fem/data/DATA_FOR_BALANCED_NER/ng/4e486c879cf1.ann', '/Users/linndfors/study/diploma/ner_for_fem/data/DATA_FOR_BALANCED_NER/ng/2c14409069b7.ann', '/Users/linndfors/study/diploma/ner_for_fem/data/DATA_FOR_BALANCED_NER/ng/b3e92d56950f.ann', '/Users/linndfors/study/diploma/ner_for_fem/data/DATA_FOR_BALANCED_NER/ng/a767be7c3792.ann', '/Users/linndfors/study/diploma/ner_for_fem/data/DATA_FOR_BALANCED_NER/ng/41cf54503fc6.ann', '/Users/linndfors/study/diploma/ner_for_fem/data/DATA_FOR_BALANCED_NER/ng/19a1d1f0d66f.ann', '/Users/linndfors/study/diploma/ner_for_fem/data/DATA_FOR_BALANCED_NER/ng/5d3d7e0d5bae.ann', '/Users/linndfors/study/diploma/ner_for_fem/data/DATA_FOR_BALANCED_NER/ng/fc5b5a35776f.ann', '/Users/linndfors/study/diploma/ner_for_fem/data/DATA_FOR_BALANCED_NER/ng/65a4cc6e3723.ann', '/Users/linndfors/study/diploma/ner_for_fem/data/DATA_FOR_BALANCED_NER/ng/bf276ac58f0f.ann', '/Users/linndfors/study/diploma/ner_for_fem/data/DATA_FOR_BALANCED_NER/ng/5f0dd24186aa.ann', '/Users/linndfors/study/diploma/ner_for_fem/data/DATA_FOR_BALANCED_NER/ng/ac13bf912fcb.ann', '/Users/linndfors/study/diploma/ner_for_fem/data/DATA_FOR_BALANCED_NER/ng/816a89664813.ann', '/Users/linndfors/study/diploma/ner_for_fem/data/DATA_FOR_BALANCED_NER/ng/5a43160b965d.ann', '/Users/linndfors/study/diploma/ner_for_fem/data/DATA_FOR_BALANCED_NER/ng/bf6104a5e8cc.ann', '/Users/linndfors/study/diploma/ner_for_fem/data/DATA_FOR_BALANCED_NER/ng/798252fda0ab.ann', '/Users/linndfors/study/diploma/ner_for_fem/data/DATA_FOR_BALANCED_NER/ng/09e1dccb8839.ann', '/Users/linndfors/study/diploma/ner_for_fem/data/DATA_FOR_BALANCED_NER/ng/5de8e21df21b.ann', '/Users/linndfors/study/diploma/ner_for_fem/data/DATA_FOR_BALANCED_NER/ng/2dfb84287371.ann', '/Users/linndfors/study/diploma/ner_for_fem/data/DATA_FOR_BALANCED_NER/ng/6d47a8c4d755.ann', '/Users/linndfors/study/diploma/ner_for_fem/data/DATA_FOR_BALANCED_NER/ng/0f0e96425eed.ann', '/Users/linndfors/study/diploma/ner_for_fem/data/DATA_FOR_BALANCED_NER/ng/a9db5c13ade2.ann', '/Users/linndfors/study/diploma/ner_for_fem/data/DATA_FOR_BALANCED_NER/ng/64d2d9e1ae2f.ann', '/Users/linndfors/study/diploma/ner_for_fem/data/DATA_FOR_BALANCED_NER/ng/1c3533ec1df3.ann', '/Users/linndfors/study/diploma/ner_for_fem/data/DATA_FOR_BALANCED_NER/ng/7d59bb5fe9f5.ann', '/Users/linndfors/study/diploma/ner_for_fem/data/DATA_FOR_BALANCED_NER/ng/a4bdacf739df.ann', '/Users/linndfors/study/diploma/ner_for_fem/data/DATA_FOR_BALANCED_NER/ng/06826af4579d.ann', '/Users/linndfors/study/diploma/ner_for_fem/data/DATA_FOR_BALANCED_NER/ng/872cdd84eee4.ann', '/Users/linndfors/study/diploma/ner_for_fem/data/DATA_FOR_BALANCED_NER/ng/1b68c2c76541.ann', '/Users/linndfors/study/diploma/ner_for_fem/data/DATA_FOR_BALANCED_NER/ng/5d7350e7d539.ann', '/Users/linndfors/study/diploma/ner_for_fem/data/DATA_FOR_BALANCED_NER/ng/de4c2d20b24b.ann', '/Users/linndfors/study/diploma/ner_for_fem/data/DATA_FOR_BALANCED_NER/ng/00edded01d7f.ann', '/Users/linndfors/study/diploma/ner_for_fem/data/DATA_FOR_BALANCED_NER/ng/39c1d99f468f.ann', '/Users/linndfors/study/diploma/ner_for_fem/data/DATA_FOR_BALANCED_NER/ng/3d437460799f.ann', '/Users/linndfors/study/diploma/ner_for_fem/data/DATA_FOR_BALANCED_NER/ng/18dbbac93012.ann', '/Users/linndfors/study/diploma/ner_for_fem/data/DATA_FOR_BALANCED_NER/ng/1c48b2f37af3.ann', '/Users/linndfors/study/diploma/ner_for_fem/data/DATA_FOR_BALANCED_NER/ng/75e21fe4f3b7.ann', '/Users/linndfors/study/diploma/ner_for_fem/data/DATA_FOR_BALANCED_NER/ng/860e4c9353fc.ann', '/Users/linndfors/study/diploma/ner_for_fem/data/DATA_FOR_BALANCED_NER/ng/79ccf625bc94.ann', '/Users/linndfors/study/diploma/ner_for_fem/data/DATA_FOR_BALANCED_NER/ng/d15b83fd32bd.ann', '/Users/linndfors/study/diploma/ner_for_fem/data/DATA_FOR_BALANCED_NER/ng/ac7d3bf88e39.ann', '/Users/linndfors/study/diploma/ner_for_fem/data/DATA_FOR_BALANCED_NER/ng/fe12a985f7cd.ann', '/Users/linndfors/study/diploma/ner_for_fem/data/DATA_FOR_BALANCED_NER/ng/8e66b8ea5086.ann', '/Users/linndfors/study/diploma/ner_for_fem/data/DATA_FOR_BALANCED_NER/ng/163e835b7aef.ann', '/Users/linndfors/study/diploma/ner_for_fem/data/DATA_FOR_BALANCED_NER/ng/0f94c5cc63c3.ann', '/Users/linndfors/study/diploma/ner_for_fem/data/DATA_FOR_BALANCED_NER/ng/b991b2d46f85.ann', '/Users/linndfors/study/diploma/ner_for_fem/data/DATA_FOR_BALANCED_NER/ng/5a4b4498fe83.ann', '/Users/linndfors/study/diploma/ner_for_fem/data/DATA_FOR_BALANCED_NER/ng/d4a86a1591b4.ann', '/Users/linndfors/study/diploma/ner_for_fem/data/DATA_FOR_BALANCED_NER/ng/521b5669bca6.ann', '/Users/linndfors/study/diploma/ner_for_fem/data/DATA_FOR_BALANCED_NER/ng/45ce670b36e1.ann', '/Users/linndfors/study/diploma/ner_for_fem/data/DATA_FOR_BALANCED_NER/ng/f4119f5f8406.ann', '/Users/linndfors/study/diploma/ner_for_fem/data/DATA_FOR_BALANCED_NER/ng/e32c3effa79e.ann', '/Users/linndfors/study/diploma/ner_for_fem/data/DATA_FOR_BALANCED_NER/ng/6b71dda907fe.ann', '/Users/linndfors/study/diploma/ner_for_fem/data/DATA_FOR_BALANCED_NER/ng/7cf7a5aacb51.ann', '/Users/linndfors/study/diploma/ner_for_fem/data/DATA_FOR_BALANCED_NER/ng/b72e7e33e081.ann', '/Users/linndfors/study/diploma/ner_for_fem/data/DATA_FOR_BALANCED_NER/ng/eed5beaf4033.ann', '/Users/linndfors/study/diploma/ner_for_fem/data/DATA_FOR_BALANCED_NER/ng/00b1a798bebf.ann', '/Users/linndfors/study/diploma/ner_for_fem/data/DATA_FOR_BALANCED_NER/ng/4ac82fdf4d4d.ann', '/Users/linndfors/study/diploma/ner_for_fem/data/DATA_FOR_BALANCED_NER/ng/9690987f7b71.ann', '/Users/linndfors/study/diploma/ner_for_fem/data/DATA_FOR_BALANCED_NER/ng/315a7f9491ac.ann', '/Users/linndfors/study/diploma/ner_for_fem/data/DATA_FOR_BALANCED_NER/ng/452ba42e97ec.ann', '/Users/linndfors/study/diploma/ner_for_fem/data/DATA_FOR_BALANCED_NER/ng/c07e05e53013.ann', '/Users/linndfors/study/diploma/ner_for_fem/data/DATA_FOR_BALANCED_NER/ng/67b6f23997c5.ann', '/Users/linndfors/study/diploma/ner_for_fem/data/DATA_FOR_BALANCED_NER/ng/9893f2c9cae9.ann', '/Users/linndfors/study/diploma/ner_for_fem/data/DATA_FOR_BALANCED_NER/ng/30933a298472.ann', '/Users/linndfors/study/diploma/ner_for_fem/data/DATA_FOR_BALANCED_NER/ng/236f916f3d6f.ann', '/Users/linndfors/study/diploma/ner_for_fem/data/DATA_FOR_BALANCED_NER/ng/cf79fc17c020.ann', '/Users/linndfors/study/diploma/ner_for_fem/data/DATA_FOR_BALANCED_NER/ng/91203928109a.ann', '/Users/linndfors/study/diploma/ner_for_fem/data/DATA_FOR_BALANCED_NER/ng/c2a04d86bfb8.ann', '/Users/linndfors/study/diploma/ner_for_fem/data/DATA_FOR_BALANCED_NER/ng/996f3a16780e.ann', '/Users/linndfors/study/diploma/ner_for_fem/data/DATA_FOR_BALANCED_NER/ng/8936d7a04255.ann', '/Users/linndfors/study/diploma/ner_for_fem/data/DATA_FOR_BALANCED_NER/ng/176e63516fab.ann', '/Users/linndfors/study/diploma/ner_for_fem/data/DATA_FOR_BALANCED_NER/ng/9452af41a134.ann', '/Users/linndfors/study/diploma/ner_for_fem/data/DATA_FOR_BALANCED_NER/ng/1adfefe0e695.ann', '/Users/linndfors/study/diploma/ner_for_fem/data/DATA_FOR_BALANCED_NER/ng/e37120a0aa66.ann', '/Users/linndfors/study/diploma/ner_for_fem/data/DATA_FOR_BALANCED_NER/ng/54a45ec4929b.ann', '/Users/linndfors/study/diploma/ner_for_fem/data/DATA_FOR_BALANCED_NER/ng/4f2aecdde4c8.ann', '/Users/linndfors/study/diploma/ner_for_fem/data/DATA_FOR_BALANCED_NER/ng/cdc9c08df7ac.ann', '/Users/linndfors/study/diploma/ner_for_fem/data/DATA_FOR_BALANCED_NER/ng/4ea65724096f.ann', '/Users/linndfors/study/diploma/ner_for_fem/data/DATA_FOR_BALANCED_NER/ng/fa2b54229991.ann', '/Users/linndfors/study/diploma/ner_for_fem/data/DATA_FOR_BALANCED_NER/ng/bfde3140955d.ann', '/Users/linndfors/study/diploma/ner_for_fem/data/DATA_FOR_BALANCED_NER/ng/1044724b1e84.ann', '/Users/linndfors/study/diploma/ner_for_fem/data/DATA_FOR_BALANCED_NER/ng/06d7009e4925.ann', '/Users/linndfors/study/diploma/ner_for_fem/data/DATA_FOR_BALANCED_NER/ng/0e31947e4561.ann', '/Users/linndfors/study/diploma/ner_for_fem/data/DATA_FOR_BALANCED_NER/ng/1e8b049462e1.ann', '/Users/linndfors/study/diploma/ner_for_fem/data/DATA_FOR_BALANCED_NER/ng/0ed906ef8bab.ann', '/Users/linndfors/study/diploma/ner_for_fem/data/DATA_FOR_BALANCED_NER/ng/c1ddc42c47fb.ann', '/Users/linndfors/study/diploma/ner_for_fem/data/DATA_FOR_BALANCED_NER/ng/23fed9919583.ann', '/Users/linndfors/study/diploma/ner_for_fem/data/DATA_FOR_BALANCED_NER/ng/d509463360e2.ann', '/Users/linndfors/study/diploma/ner_for_fem/data/DATA_FOR_BALANCED_NER/ng/cc9eda5dc1f3.ann', '/Users/linndfors/study/diploma/ner_for_fem/data/DATA_FOR_BALANCED_NER/ng/348b96a54914.ann', '/Users/linndfors/study/diploma/ner_for_fem/data/DATA_FOR_BALANCED_NER/ng/9835fd136cb4.ann', '/Users/linndfors/study/diploma/ner_for_fem/data/DATA_FOR_BALANCED_NER/ng/7248ab4edfe9.ann', '/Users/linndfors/study/diploma/ner_for_fem/data/DATA_FOR_BALANCED_NER/ng/04b2cf6b449e.ann', '/Users/linndfors/study/diploma/ner_for_fem/data/DATA_FOR_BALANCED_NER/ng/e54ada2b9649.ann', '/Users/linndfors/study/diploma/ner_for_fem/data/DATA_FOR_BALANCED_NER/ng/87deabcc8f95.ann', '/Users/linndfors/study/diploma/ner_for_fem/data/DATA_FOR_BALANCED_NER/ng/5f0403bf5093.ann', '/Users/linndfors/study/diploma/ner_for_fem/data/DATA_FOR_BALANCED_NER/ng/05b89d1a90bf.ann', '/Users/linndfors/study/diploma/ner_for_fem/data/DATA_FOR_BALANCED_NER/ng/0f9884d8a5e1.ann', '/Users/linndfors/study/diploma/ner_for_fem/data/DATA_FOR_BALANCED_NER/ng/1e9389b05e86.ann', '/Users/linndfors/study/diploma/ner_for_fem/data/DATA_FOR_BALANCED_NER/ng/d13ee85bbf5c.ann', '/Users/linndfors/study/diploma/ner_for_fem/data/DATA_FOR_BALANCED_NER/ng/5ae61df96054.ann', '/Users/linndfors/study/diploma/ner_for_fem/data/DATA_FOR_BALANCED_NER/ng/94c633b4d39a.ann', '/Users/linndfors/study/diploma/ner_for_fem/data/DATA_FOR_BALANCED_NER/ng/a854e880d075.ann', '/Users/linndfors/study/diploma/ner_for_fem/data/DATA_FOR_BALANCED_NER/ng/d81632a877d7.ann', '/Users/linndfors/study/diploma/ner_for_fem/data/DATA_FOR_BALANCED_NER/ng/f8ce14d569d1.ann', '/Users/linndfors/study/diploma/ner_for_fem/data/DATA_FOR_BALANCED_NER/ng/3e94fe6e9161.ann', '/Users/linndfors/study/diploma/ner_for_fem/data/DATA_FOR_BALANCED_NER/ng/789ba2b89a05.ann', '/Users/linndfors/study/diploma/ner_for_fem/data/DATA_FOR_BALANCED_NER/ng/1ce0dee84a4d.ann', '/Users/linndfors/study/diploma/ner_for_fem/data/DATA_FOR_BALANCED_NER/ng/cffa0e3aa90f.ann', '/Users/linndfors/study/diploma/ner_for_fem/data/DATA_FOR_BALANCED_NER/ng/7d5bd98c3363.ann', '/Users/linndfors/study/diploma/ner_for_fem/data/DATA_FOR_BALANCED_NER/ng/369c3876ae3d.ann', '/Users/linndfors/study/diploma/ner_for_fem/data/DATA_FOR_BALANCED_NER/ng/b060489eff8f.ann', '/Users/linndfors/study/diploma/ner_for_fem/data/DATA_FOR_BALANCED_NER/ng/6ada9307320e.ann', '/Users/linndfors/study/diploma/ner_for_fem/data/DATA_FOR_BALANCED_NER/ng/f62160cb3ef6.ann', '/Users/linndfors/study/diploma/ner_for_fem/data/DATA_FOR_BALANCED_NER/ng/d6ca19c4065e.ann', '/Users/linndfors/study/diploma/ner_for_fem/data/DATA_FOR_BALANCED_NER/ng/82e415f0dd48.ann', '/Users/linndfors/study/diploma/ner_for_fem/data/DATA_FOR_BALANCED_NER/ng/62127c82f7cd.ann', '/Users/linndfors/study/diploma/ner_for_fem/data/DATA_FOR_BALANCED_NER/ng/69dd300fd706.ann', '/Users/linndfors/study/diploma/ner_for_fem/data/DATA_FOR_BALANCED_NER/ng/7ff7b6cfbbc2.ann', '/Users/linndfors/study/diploma/ner_for_fem/data/DATA_FOR_BALANCED_NER/ng/3dfca2b9b104.ann', '/Users/linndfors/study/diploma/ner_for_fem/data/DATA_FOR_BALANCED_NER/ng/e6f68e10e0e4.ann', '/Users/linndfors/study/diploma/ner_for_fem/data/DATA_FOR_BALANCED_NER/ng/29ee46b3128e.ann', '/Users/linndfors/study/diploma/ner_for_fem/data/DATA_FOR_BALANCED_NER/ng/16a112c13847.ann', '/Users/linndfors/study/diploma/ner_for_fem/data/DATA_FOR_BALANCED_NER/ng/2d2e9cf66e5b.ann', '/Users/linndfors/study/diploma/ner_for_fem/data/DATA_FOR_BALANCED_NER/ng/fd7413336034.ann', '/Users/linndfors/study/diploma/ner_for_fem/data/DATA_FOR_BALANCED_NER/ng/33b6963bc554.ann', '/Users/linndfors/study/diploma/ner_for_fem/data/DATA_FOR_BALANCED_NER/ng/ce52c670e720.ann', '/Users/linndfors/study/diploma/ner_for_fem/data/DATA_FOR_BALANCED_NER/ng/f82ca27cb935.ann', '/Users/linndfors/study/diploma/ner_for_fem/data/DATA_FOR_BALANCED_NER/ng/6920ac746f54.ann', '/Users/linndfors/study/diploma/ner_for_fem/data/DATA_FOR_BALANCED_NER/ng/254bbb126618.ann', '/Users/linndfors/study/diploma/ner_for_fem/data/DATA_FOR_BALANCED_NER/ng/632545bf4092.ann', '/Users/linndfors/study/diploma/ner_for_fem/data/DATA_FOR_BALANCED_NER/ng/b859478153e4.ann', '/Users/linndfors/study/diploma/ner_for_fem/data/DATA_FOR_BALANCED_NER/ng/2d37a2344b1e.ann', '/Users/linndfors/study/diploma/ner_for_fem/data/DATA_FOR_BALANCED_NER/ng/25df43bd3fc5.ann', '/Users/linndfors/study/diploma/ner_for_fem/data/DATA_FOR_BALANCED_NER/ng/19a095d6ed15.ann', '/Users/linndfors/study/diploma/ner_for_fem/data/DATA_FOR_BALANCED_NER/ng/07c51f631d18.ann', '/Users/linndfors/study/diploma/ner_for_fem/data/DATA_FOR_BALANCED_NER/ng/3b570ac3116b.ann', '/Users/linndfors/study/diploma/ner_for_fem/data/DATA_FOR_BALANCED_NER/ng/b217b90e209d.ann', '/Users/linndfors/study/diploma/ner_for_fem/data/DATA_FOR_BALANCED_NER/ng/9a51afb8d050.ann', '/Users/linndfors/study/diploma/ner_for_fem/data/DATA_FOR_BALANCED_NER/ng/2850ba499aea.ann', '/Users/linndfors/study/diploma/ner_for_fem/data/DATA_FOR_BALANCED_NER/ng/d35f629ccc4c.ann', '/Users/linndfors/study/diploma/ner_for_fem/data/DATA_FOR_BALANCED_NER/ng/86c78648f86f.ann', '/Users/linndfors/study/diploma/ner_for_fem/data/DATA_FOR_BALANCED_NER/ng/290f12765b32.ann', '/Users/linndfors/study/diploma/ner_for_fem/data/DATA_FOR_BALANCED_NER/ng/540d36b4fe1c.ann', '/Users/linndfors/study/diploma/ner_for_fem/data/DATA_FOR_BALANCED_NER/ng/bf3f1e807703.ann', '/Users/linndfors/study/diploma/ner_for_fem/data/DATA_FOR_BALANCED_NER/ng/66f7109b4b72.ann', '/Users/linndfors/study/diploma/ner_for_fem/data/DATA_FOR_BALANCED_NER/ng/ff85f24f2204.ann', '/Users/linndfors/study/diploma/ner_for_fem/data/DATA_FOR_BALANCED_NER/ng/8ae216cd6d99.ann', '/Users/linndfors/study/diploma/ner_for_fem/data/DATA_FOR_BALANCED_NER/ng/1257e7421756.ann', '/Users/linndfors/study/diploma/ner_for_fem/data/DATA_FOR_BALANCED_NER/ng/f5e3415a3653.ann', '/Users/linndfors/study/diploma/ner_for_fem/data/DATA_FOR_BALANCED_NER/ng/c5930ba45ebe.ann', '/Users/linndfors/study/diploma/ner_for_fem/data/DATA_FOR_BALANCED_NER/ng/0050229d8534.ann', '/Users/linndfors/study/diploma/ner_for_fem/data/DATA_FOR_BALANCED_NER/ng/3b4ea1813b99.ann', '/Users/linndfors/study/diploma/ner_for_fem/data/DATA_FOR_BALANCED_NER/ng/08c0799d889a.ann', '/Users/linndfors/study/diploma/ner_for_fem/data/DATA_FOR_BALANCED_NER/ng/5e33850771e3.ann', '/Users/linndfors/study/diploma/ner_for_fem/data/DATA_FOR_BALANCED_NER/ng/5111063957b7.ann', '/Users/linndfors/study/diploma/ner_for_fem/data/DATA_FOR_BALANCED_NER/ng/b645c9653d72.ann', '/Users/linndfors/study/diploma/ner_for_fem/data/DATA_FOR_BALANCED_NER/ng/3889f1eef7a7.ann', '/Users/linndfors/study/diploma/ner_for_fem/data/DATA_FOR_BALANCED_NER/ng/61267204736d.ann', '/Users/linndfors/study/diploma/ner_for_fem/data/DATA_FOR_BALANCED_NER/ng/e2e03aba8da3.ann', '/Users/linndfors/study/diploma/ner_for_fem/data/DATA_FOR_BALANCED_NER/ng/52a055482925.ann', '/Users/linndfors/study/diploma/ner_for_fem/data/DATA_FOR_BALANCED_NER/ng/59a9444d5c2d.ann', '/Users/linndfors/study/diploma/ner_for_fem/data/DATA_FOR_BALANCED_NER/ng/aae1500a7f12.ann', '/Users/linndfors/study/diploma/ner_for_fem/data/DATA_FOR_BALANCED_NER/ng/1a15fc79575f.ann', '/Users/linndfors/study/diploma/ner_for_fem/data/DATA_FOR_BALANCED_NER/ng/3aa7c6a81ddd.ann', '/Users/linndfors/study/diploma/ner_for_fem/data/DATA_FOR_BALANCED_NER/ng/a6b3166e4d3b.ann', '/Users/linndfors/study/diploma/ner_for_fem/data/DATA_FOR_BALANCED_NER/ng/64d0d60bba23.ann', '/Users/linndfors/study/diploma/ner_for_fem/data/DATA_FOR_BALANCED_NER/ng/e0c33f29a3ae.ann', '/Users/linndfors/study/diploma/ner_for_fem/data/DATA_FOR_BALANCED_NER/ng/ab66959f7440.ann', '/Users/linndfors/study/diploma/ner_for_fem/data/DATA_FOR_BALANCED_NER/ng/386f07b6aca3.ann', '/Users/linndfors/study/diploma/ner_for_fem/data/DATA_FOR_BALANCED_NER/ng/bd76ed4df58f.ann', '/Users/linndfors/study/diploma/ner_for_fem/data/DATA_FOR_BALANCED_NER/ng/5658ff392f11.ann', '/Users/linndfors/study/diploma/ner_for_fem/data/DATA_FOR_BALANCED_NER/ng/7516eb24dae3.ann', '/Users/linndfors/study/diploma/ner_for_fem/data/DATA_FOR_BALANCED_NER/ng/4bdc94abaa1c.ann']\n"
     ]
    },
    {
     "name": "stderr",
     "output_type": "stream",
     "text": [
      "100%|██████████| 279/279 [1:09:37<00:00, 14.97s/it]\n"
     ]
    }
   ],
   "source": [
    "ng_pers_dict = extract_pers_entities(\"/Users/linndfors/study/diploma/ner_for_fem/data/DATA_FOR_BALANCED_NER/ng\")\n",
    "ng_file_gender_pers_dict, ng_total_pers_counter, ng_pers_list = return_gendered_PERS_dict(ng_pers_dict)"
   ]
  },
  {
   "cell_type": "code",
   "execution_count": 278,
   "metadata": {},
   "outputs": [
    {
     "name": "stdout",
     "output_type": "stream",
     "text": [
      "total size: 1820\n",
      "================\n",
      "gender: male\n",
      "number of files for the gender: 252\n",
      "number of entities for the gender: 846\n",
      "The most popular entity: Сергій\n",
      "================\n",
      "================\n",
      "gender: female\n",
      "number of files for the gender: 158\n",
      "number of entities for the gender: 316\n",
      "The most popular entity: Олена\n",
      "================\n",
      "================\n",
      "gender: unknown_gender\n",
      "number of files for the gender: 205\n",
      "number of entities for the gender: 658\n",
      "The most popular entity: Ігоря\n",
      "================\n"
     ]
    }
   ],
   "source": [
    "return_gender_stat(ng_total_pers_counter, ng_file_gender_pers_dict)\n",
    "orig_ng_pers_female_files, orig_ng_pers_male_files, orig_ng_pers_common_files = split_files(ng_file_gender_pers_dict, \"/Users/linndfors/study/diploma/ner_for_fem/data/DATA_FOR_BALANCED_NER/ng\")"
   ]
  },
  {
   "cell_type": "code",
   "execution_count": 281,
   "metadata": {},
   "outputs": [
    {
     "data": {
      "text/plain": [
       "252"
      ]
     },
     "execution_count": 281,
     "metadata": {},
     "output_type": "execute_result"
    }
   ],
   "source": [
    "len(orig_ng_pers_male_files)"
   ]
  },
  {
   "cell_type": "markdown",
   "metadata": {},
   "source": [
    "### Move files"
   ]
  },
  {
   "cell_type": "markdown",
   "metadata": {},
   "source": [
    "orig ng"
   ]
  },
  {
   "cell_type": "code",
   "execution_count": null,
   "metadata": {},
   "outputs": [],
   "source": [
    "move_gender_files(orig_ng_pers_male_files, '/Users/linndfors/study/diploma/ner_for_fem/data/data_for_ner/data_for_ner_pers/data_for_ner_male/ng')\n",
    "move_gender_files(orig_ng_pers_female_files, '/Users/linndfors/study/diploma/ner_for_fem/data/data_for_ner/data_for_ner_pers/data_for_ner_female/ng')\n",
    "# move_gender_files(orig_ng_pers_common_files, '/Users/linndfors/study/diploma/ner_for_fem/data/data_for_ner/data_for_ner_pers/data_for_ner_common/ng')"
   ]
  },
  {
   "cell_type": "markdown",
   "metadata": {},
   "source": [
    "orig bruk"
   ]
  },
  {
   "cell_type": "code",
   "execution_count": null,
   "metadata": {},
   "outputs": [],
   "source": [
    "move_gender_files(orig_bruk_pers_male_files, '/Users/linndfors/study/diploma/ner_for_fem/data/data_for_ner/data_for_ner_pers/data_for_ner_male/bruk')\n",
    "move_gender_files(orig_bruk_pers_female_files, '/Users/linndfors/study/diploma/ner_for_fem/data/data_for_ner/data_for_ner_pers/data_for_ner_female/bruk')\n",
    "# move_gender_files(orig_bruk_pers_common_files, '/Users/linndfors/study/diploma/ner_for_fem/data/data_for_ner/data_for_ner_pers/data_for_ner_common/bruk')"
   ]
  },
  {
   "cell_type": "markdown",
   "metadata": {},
   "source": [
    "swapped ng"
   ]
  },
  {
   "cell_type": "code",
   "execution_count": 287,
   "metadata": {},
   "outputs": [],
   "source": [
    "move_gender_files(changed_ng_pers_male_files, '/Users/linndfors/study/diploma/ner_for_fem/data/data_for_ner/data_for_ner_pers/data_for_ner_male/ng_changed')\n",
    "move_gender_files(changed_ng_pers_female_files, '/Users/linndfors/study/diploma/ner_for_fem/data/data_for_ner/data_for_ner_pers/data_for_ner_female/ng_changed')\n",
    "# move_gender_files(changed_ng_pers_common_files, '/Users/linndfors/study/diploma/ner_for_fem/data/data_for_ner/data_for_ner_pers/data_for_ner_common/ng')"
   ]
  },
  {
   "cell_type": "markdown",
   "metadata": {},
   "source": [
    "swapped bruk"
   ]
  },
  {
   "cell_type": "code",
   "execution_count": 290,
   "metadata": {},
   "outputs": [],
   "source": [
    "move_gender_files(changed_bruk_pers_male_files, '/Users/linndfors/study/diploma/ner_for_fem/data/data_for_ner/data_for_ner_pers/data_for_ner_male/bruk_changed')\n",
    "move_gender_files(changed_bruk_pers_female_files, '/Users/linndfors/study/diploma/ner_for_fem/data/data_for_ner/data_for_ner_pers/data_for_ner_female/bruk_changed')\n",
    "# move_gender_files(orig_bruk_pers_common_files, '/Users/linndfors/study/diploma/ner_for_fem/data/data_for_ner/data_for_ner_pers/data_for_ner_common/bruk')"
   ]
  }
 ],
 "metadata": {
  "kernelspec": {
   "display_name": "new_venv",
   "language": "python",
   "name": "python3"
  },
  "language_info": {
   "codemirror_mode": {
    "name": "ipython",
    "version": 3
   },
   "file_extension": ".py",
   "mimetype": "text/x-python",
   "name": "python",
   "nbconvert_exporter": "python",
   "pygments_lexer": "ipython3",
   "version": "3.10.16"
  }
 },
 "nbformat": 4,
 "nbformat_minor": 2
}
