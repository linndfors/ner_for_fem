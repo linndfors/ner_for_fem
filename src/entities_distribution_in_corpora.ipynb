{
 "cells": [
  {
   "cell_type": "code",
   "execution_count": 1,
   "id": "38e4445a",
   "metadata": {},
   "outputs": [],
   "source": [
    "import pandas as pd\n",
    "import os\n",
    "from collections import defaultdict\n",
    "import json"
   ]
  },
  {
   "cell_type": "code",
   "execution_count": 2,
   "id": "af6c9130",
   "metadata": {},
   "outputs": [],
   "source": [
    "\n",
    "\n",
    "# List of valid entity classes (ignoring the numbers)\n",
    "ENTITY_CLASSES = {\n",
    "    \"ART\", \"DATE\", \"DOC\", \"JOB\", \"LOC\", \"MISC\", \"MON\",\n",
    "    \"ORG\", \"PCT\", \"PERIOD\", \"PERS\", \"QUANT\", \"TIME\"\n",
    "}\n",
    "\n",
    "def count_all_entities(directory_path):\n",
    "    entity_counts = defaultdict(int)\n",
    "\n",
    "    for filename in os.listdir(directory_path):\n",
    "        if filename.endswith(\".ann\"):\n",
    "            filepath = os.path.join(directory_path, filename)\n",
    "            with open(filepath, \"r\", encoding=\"utf-8\") as f:\n",
    "                for line in f:\n",
    "                    if line.startswith(\"T\"):\n",
    "                        parts = line.strip().split(\"\\t\")\n",
    "                        if len(parts) >= 2:\n",
    "                            entity_info = parts[1]\n",
    "                            entity_type = entity_info.split()[0]\n",
    "                            if entity_type in ENTITY_CLASSES:\n",
    "                                entity_counts[entity_type] += 1\n",
    "    return dict(entity_counts)"
   ]
  },
  {
   "cell_type": "code",
   "execution_count": 6,
   "id": "da8a1fe1",
   "metadata": {},
   "outputs": [
    {
     "name": "stdout",
     "output_type": "stream",
     "text": [
      "{'JOB': 485, 'PERS': 280, 'ORG': 100, 'LOC': 91, 'DATE': 45, 'MISC': 21, 'PERIOD': 11, 'ART': 23, 'DOC': 6, 'QUANT': 13, 'TIME': 2}\n"
     ]
    }
   ],
   "source": [
    "directory = \"/Users/linndfors/study/diploma/ner_for_fem/data/v2.0-swapped_filtering/data/bruk\"\n",
    "result = count_all_entities(directory)\n",
    "print(result)"
   ]
  },
  {
   "cell_type": "code",
   "execution_count": 7,
   "id": "2ead62a7",
   "metadata": {},
   "outputs": [
    {
     "name": "stdout",
     "output_type": "stream",
     "text": [
      "{'DATE': 329, 'JOB': 1248, 'PERS': 1003, 'ORG': 1167, 'LOC': 250, 'QUANT': 27, 'MON': 108, 'PCT': 48, 'PERIOD': 77, 'ART': 25, 'DOC': 12, 'MISC': 14, 'TIME': 1}\n"
     ]
    }
   ],
   "source": [
    "directory = \"/Users/linndfors/study/diploma/ner_for_fem/data/v2.0-swapped_filtering/data/ng\"\n",
    "result_1 = count_all_entities(directory)\n",
    "print(result_1)"
   ]
  },
  {
   "cell_type": "code",
   "execution_count": null,
   "id": "f0460ce0",
   "metadata": {},
   "outputs": [
    {
     "name": "stdout",
     "output_type": "stream",
     "text": [
      "{'DATE': 374, 'JOB': 1733, 'PERS': 1283, 'ORG': 1267, 'LOC': 341, 'QUANT': 40, 'MON': 108, 'PCT': 48, 'PERIOD': 88, 'ART': 48, 'DOC': 18, 'MISC': 35, 'TIME': 3}\n"
     ]
    }
   ],
   "source": [
    "from collections import Counter\n",
    "\n",
    "dict1 = {'JOB': 485, 'PERS': 280, 'ORG': 100, 'LOC': 91, 'DATE': 45, 'MISC': 21, 'PERIOD': 11, 'ART': 23, 'DOC': 6, 'QUANT': 13, 'TIME': 2}\n",
    "dict2 = {'DATE': 329, 'JOB': 1248, 'PERS': 1003, 'ORG': 1167, 'LOC': 250, 'QUANT': 27, 'MON': 108, 'PCT': 48, 'PERIOD': 77, 'ART': 25, 'DOC': 12, 'MISC': 14, 'TIME': 1}\n",
    "\n",
    "combined = Counter(result_1) + Counter(result)\n",
    "\n",
    "print(dict(combined))"
   ]
  },
  {
   "cell_type": "code",
   "execution_count": 9,
   "id": "17150c21",
   "metadata": {},
   "outputs": [],
   "source": [
    "total = 0\n",
    "\n",
    "for x, val in combined.items():\n",
    "    total += val"
   ]
  },
  {
   "cell_type": "code",
   "execution_count": 10,
   "id": "cf3cb86e",
   "metadata": {},
   "outputs": [
    {
     "data": {
      "text/plain": [
       "5386"
      ]
     },
     "execution_count": 10,
     "metadata": {},
     "output_type": "execute_result"
    }
   ],
   "source": [
    "total"
   ]
  },
  {
   "cell_type": "markdown",
   "id": "1adb9fde",
   "metadata": {},
   "source": [
    "## Balanced dataset"
   ]
  },
  {
   "cell_type": "code",
   "execution_count": 3,
   "id": "97dffc06",
   "metadata": {},
   "outputs": [
    {
     "name": "stdout",
     "output_type": "stream",
     "text": [
      "{'JOB': 1123, 'PERS': 4695, 'ORG': 882, 'LOC': 1711, 'MISC': 434, 'DATE': 596, 'PERIOD': 266, 'PCT': 77, 'MON': 46, 'ART': 339, 'QUANT': 119, 'TIME': 38, 'DOC': 40}\n"
     ]
    }
   ],
   "source": [
    "directory = \"/Users/linndfors/study/diploma/ner_for_fem/data/v2.0-balanced_filtering/data/bruk\"\n",
    "result_bruk = count_all_entities(directory)\n",
    "print(result_bruk)"
   ]
  },
  {
   "cell_type": "code",
   "execution_count": 4,
   "id": "caf3b663",
   "metadata": {},
   "outputs": [
    {
     "name": "stdout",
     "output_type": "stream",
     "text": [
      "{'ORG': 5598, 'DATE': 1825, 'PERIOD': 418, 'MON': 1005, 'ART': 344, 'MISC': 116, 'LOC': 1630, 'PERS': 2823, 'JOB': 2592, 'PCT': 234, 'QUANT': 303, 'DOC': 120, 'TIME': 5}\n"
     ]
    }
   ],
   "source": [
    "directory = \"/Users/linndfors/study/diploma/ner_for_fem/data/v2.0-balanced_filtering/data/ng\"\n",
    "result_ng = count_all_entities(directory)\n",
    "print(result_ng)"
   ]
  },
  {
   "cell_type": "code",
   "execution_count": 5,
   "id": "9d0d1b0a",
   "metadata": {},
   "outputs": [
    {
     "name": "stdout",
     "output_type": "stream",
     "text": [
      "{'JOB': 3715, 'PERS': 7518, 'ORG': 6480, 'LOC': 3341, 'MISC': 550, 'DATE': 2421, 'PERIOD': 684, 'PCT': 311, 'MON': 1051, 'ART': 683, 'QUANT': 422, 'TIME': 43, 'DOC': 160}\n"
     ]
    }
   ],
   "source": [
    "from collections import Counter\n",
    "\n",
    "combined = Counter(result_bruk) + Counter(result_ng)\n",
    "\n",
    "print(dict(combined))"
   ]
  },
  {
   "cell_type": "code",
   "execution_count": null,
   "id": "b89d3e90",
   "metadata": {},
   "outputs": [],
   "source": [
    "ART: 683, +\n",
    "DATE: 2421, +\n",
    "DOC: 160, +\n",
    "JOB: 3715, +\n",
    "'LOC': 3341, +\n",
    "'MISC': 550, +\n",
    "'MON': 1051 +\n",
    "'ORG': 6480, +\n",
    "'PCT': 311, +\n",
    "'PERIOD': 684, +\n",
    "'PERS': 7518, - -> 7517\n",
    "'QUANT': 422, +\n",
    "'TIME': 43, +"
   ]
  },
  {
   "cell_type": "markdown",
   "id": "537ec8e7",
   "metadata": {},
   "source": [
    "## Original"
   ]
  },
  {
   "cell_type": "code",
   "execution_count": 29,
   "id": "a3c04416",
   "metadata": {},
   "outputs": [
    {
     "name": "stdout",
     "output_type": "stream",
     "text": [
      "{'ORG': 782, 'LOC': 1620, 'MISC': 413, 'PERS': 4415, 'PCT': 77, 'MON': 46, 'PERIOD': 255, 'DATE': 551, 'JOB': 638, 'ART': 316, 'QUANT': 106, 'TIME': 36, 'DOC': 34}\n"
     ]
    }
   ],
   "source": [
    "directory = \"/Users/linndfors/study/diploma/ner-uk/v2.0/data/bruk\"\n",
    "result = count_all_entities(directory)\n",
    "print(result)"
   ]
  },
  {
   "cell_type": "code",
   "execution_count": 30,
   "id": "e32a0ff3",
   "metadata": {},
   "outputs": [
    {
     "name": "stdout",
     "output_type": "stream",
     "text": [
      "{'ORG': 4431, 'DATE': 1496, 'PERIOD': 341, 'MON': 897, 'ART': 319, 'MISC': 102, 'LOC': 1380, 'PERS': 1820, 'JOB': 1344, 'PCT': 186, 'QUANT': 276, 'DOC': 108, 'TIME': 4}\n"
     ]
    }
   ],
   "source": [
    "directory = \"/Users/linndfors/study/diploma/ner-uk/v2.0/data/ng\"\n",
    "result = count_all_entities(directory)\n",
    "print(result)"
   ]
  }
 ],
 "metadata": {
  "kernelspec": {
   "display_name": "new_venv",
   "language": "python",
   "name": "python3"
  },
  "language_info": {
   "codemirror_mode": {
    "name": "ipython",
    "version": 3
   },
   "file_extension": ".py",
   "mimetype": "text/x-python",
   "name": "python",
   "nbconvert_exporter": "python",
   "pygments_lexer": "ipython3",
   "version": "3.10.16"
  }
 },
 "nbformat": 4,
 "nbformat_minor": 5
}
