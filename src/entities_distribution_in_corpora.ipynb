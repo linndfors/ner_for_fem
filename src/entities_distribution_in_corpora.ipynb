{
 "cells": [
  {
   "cell_type": "code",
   "execution_count": 1,
   "id": "38e4445a",
   "metadata": {},
   "outputs": [],
   "source": [
    "import pandas as pd\n",
    "import os\n",
    "from collections import defaultdict\n",
    "import json"
   ]
  },
  {
   "cell_type": "code",
   "execution_count": 6,
   "id": "af6c9130",
   "metadata": {},
   "outputs": [],
   "source": [
    "ENTITY_CLASSES = {\n",
    "    \"ART\", \"DATE\", \"DOC\", \"JOB\", \"LOC\", \"MISC\", \"MON\",\n",
    "    \"ORG\", \"PCT\", \"PERIOD\", \"PERS\", \"QUANT\", \"TIME\"\n",
    "}\n",
    "\n",
    "def count_all_entities(directory_path):\n",
    "    entity_counts = defaultdict(int)\n",
    "\n",
    "    for filename in os.listdir(directory_path):\n",
    "        if filename.endswith(\".ann\"):\n",
    "            filepath = os.path.join(directory_path, filename)\n",
    "            with open(filepath, \"r\", encoding=\"utf-8\") as f:\n",
    "                for line in f:\n",
    "                    if line.startswith(\"T\"):\n",
    "                        parts = line.strip().split(\"\\t\")\n",
    "                        if len(parts) >= 2:\n",
    "                            entity_info = parts[1]\n",
    "                            entity_type = entity_info.split()[0]\n",
    "                            if entity_type in ENTITY_CLASSES:\n",
    "                                entity_counts[entity_type] += 1\n",
    "    return dict(entity_counts)"
   ]
  },
  {
   "cell_type": "code",
   "execution_count": 13,
   "id": "2ead62a7",
   "metadata": {},
   "outputs": [
    {
     "name": "stdout",
     "output_type": "stream",
     "text": [
      "{'ART': 25, 'DATE': 329, 'DOC': 12, 'JOB': 1248, 'LOC': 250, 'MISC': 14, 'MON': 108, 'ORG': 1167, 'PCT': 48, 'PERIOD': 77, 'PERS': 1003, 'QUANT': 27, 'TIME': 1}\n"
     ]
    }
   ],
   "source": [
    "directory = \"/Users/linndfors/study/diploma/ner_for_fem/data/v2.0-swapped_filtering/data/ng\"\n",
    "result_ng_swapped = count_all_entities(directory)\n",
    "result_ng_swapped = dict(sorted(result_ng_swapped.items()))\n",
    "print(result_ng_swapped)"
   ]
  },
  {
   "cell_type": "code",
   "execution_count": 15,
   "id": "34250f7b",
   "metadata": {},
   "outputs": [
    {
     "name": "stdout",
     "output_type": "stream",
     "text": [
      "{'ART': 23, 'DATE': 45, 'DOC': 6, 'JOB': 485, 'LOC': 91, 'MISC': 21, 'ORG': 100, 'PERIOD': 11, 'PERS': 280, 'QUANT': 13, 'TIME': 2}\n"
     ]
    }
   ],
   "source": [
    "directory = \"/Users/linndfors/study/diploma/ner_for_fem/data/v2.0-swapped_filtering/data/bruk\"\n",
    "result_bruk_swapped = count_all_entities(directory)\n",
    "result_bruk_swapped = dict(sorted(result_bruk_swapped.items()))\n",
    "print(result_bruk_swapped)"
   ]
  },
  {
   "cell_type": "code",
   "execution_count": 14,
   "id": "f0460ce0",
   "metadata": {},
   "outputs": [
    {
     "name": "stdout",
     "output_type": "stream",
     "text": [
      "{'ART': 48, 'DATE': 374, 'DOC': 18, 'JOB': 1733, 'LOC': 341, 'MISC': 35, 'ORG': 1267, 'PERIOD': 88, 'PERS': 1283, 'QUANT': 40, 'TIME': 3, 'MON': 108, 'PCT': 48}\n"
     ]
    }
   ],
   "source": [
    "from collections import Counter\n",
    "\n",
    "combined = Counter(result_bruk_swapped) + Counter(result_ng_swapped)\n",
    "\n",
    "print(dict(combined))"
   ]
  },
  {
   "cell_type": "code",
   "execution_count": 17,
   "id": "4a724eae",
   "metadata": {},
   "outputs": [
    {
     "name": "stdout",
     "output_type": "stream",
     "text": [
      "1077\n"
     ]
    }
   ],
   "source": [
    "total = 0\n",
    "\n",
    "for x, val in result_bruk_swapped.items():\n",
    "    total += val\n",
    "\n",
    "print(total)"
   ]
  },
  {
   "cell_type": "code",
   "execution_count": 18,
   "id": "5f5dea17",
   "metadata": {},
   "outputs": [
    {
     "name": "stdout",
     "output_type": "stream",
     "text": [
      "4309\n"
     ]
    }
   ],
   "source": [
    "total = 0\n",
    "\n",
    "for x, val in result_ng_swapped.items():\n",
    "    total += val\n",
    "\n",
    "print(total)"
   ]
  },
  {
   "cell_type": "code",
   "execution_count": 16,
   "id": "17150c21",
   "metadata": {},
   "outputs": [
    {
     "name": "stdout",
     "output_type": "stream",
     "text": [
      "5386\n"
     ]
    }
   ],
   "source": [
    "total = 0\n",
    "\n",
    "for x, val in combined.items():\n",
    "    total += val\n",
    "\n",
    "print(total)"
   ]
  },
  {
   "cell_type": "markdown",
   "id": "1adb9fde",
   "metadata": {},
   "source": [
    "## Balanced dataset"
   ]
  },
  {
   "cell_type": "code",
   "execution_count": 20,
   "id": "caf3b663",
   "metadata": {},
   "outputs": [
    {
     "name": "stdout",
     "output_type": "stream",
     "text": [
      "{'ART': 344, 'DATE': 1825, 'DOC': 120, 'JOB': 2592, 'LOC': 1630, 'MISC': 116, 'MON': 1005, 'ORG': 5598, 'PCT': 234, 'PERIOD': 418, 'PERS': 2823, 'QUANT': 303, 'TIME': 5}\n"
     ]
    }
   ],
   "source": [
    "directory = \"/Users/linndfors/study/diploma/ner_for_fem/data/v2.0-balanced_filtering/data/ng\"\n",
    "result_ng = count_all_entities(directory)\n",
    "result_ng = dict(sorted(result_ng.items()))\n",
    "print(result_ng)"
   ]
  },
  {
   "cell_type": "code",
   "execution_count": 21,
   "id": "57e73f13",
   "metadata": {},
   "outputs": [
    {
     "name": "stdout",
     "output_type": "stream",
     "text": [
      "{'ART': 339, 'DATE': 596, 'DOC': 40, 'JOB': 1123, 'LOC': 1711, 'MISC': 434, 'MON': 46, 'ORG': 882, 'PCT': 77, 'PERIOD': 266, 'PERS': 4695, 'QUANT': 119, 'TIME': 38}\n"
     ]
    }
   ],
   "source": [
    "directory = \"/Users/linndfors/study/diploma/ner_for_fem/data/v2.0-balanced_filtering/data/bruk\"\n",
    "result_bruk = count_all_entities(directory)\n",
    "result_bruk = dict(sorted(result_bruk.items()))\n",
    "print(result_bruk)"
   ]
  },
  {
   "cell_type": "code",
   "execution_count": 22,
   "id": "9d0d1b0a",
   "metadata": {},
   "outputs": [
    {
     "name": "stdout",
     "output_type": "stream",
     "text": [
      "{'ART': 683, 'DATE': 2421, 'DOC': 160, 'JOB': 3715, 'LOC': 3341, 'MISC': 550, 'MON': 1051, 'ORG': 6480, 'PCT': 311, 'PERIOD': 684, 'PERS': 7518, 'QUANT': 422, 'TIME': 43}\n"
     ]
    }
   ],
   "source": [
    "from collections import Counter\n",
    "\n",
    "combined = Counter(result_bruk) + Counter(result_ng)\n",
    "\n",
    "print(dict(combined))"
   ]
  },
  {
   "cell_type": "code",
   "execution_count": 24,
   "id": "4203c31f",
   "metadata": {},
   "outputs": [
    {
     "name": "stdout",
     "output_type": "stream",
     "text": [
      "17013\n"
     ]
    }
   ],
   "source": [
    "total = 0\n",
    "\n",
    "for x, val in result_ng.items():\n",
    "    total += val\n",
    "\n",
    "print(total)"
   ]
  },
  {
   "cell_type": "code",
   "execution_count": 25,
   "id": "9bef6bc8",
   "metadata": {},
   "outputs": [
    {
     "name": "stdout",
     "output_type": "stream",
     "text": [
      "10366\n"
     ]
    }
   ],
   "source": [
    "total = 0\n",
    "\n",
    "for x, val in result_bruk.items():\n",
    "    total += val\n",
    "\n",
    "print(total)"
   ]
  },
  {
   "cell_type": "code",
   "execution_count": 23,
   "id": "9c0d9bab",
   "metadata": {},
   "outputs": [
    {
     "name": "stdout",
     "output_type": "stream",
     "text": [
      "27379\n"
     ]
    }
   ],
   "source": [
    "total = 0\n",
    "\n",
    "for x, val in combined.items():\n",
    "    total += val\n",
    "\n",
    "print(total)"
   ]
  },
  {
   "cell_type": "markdown",
   "id": "537ec8e7",
   "metadata": {},
   "source": [
    "## Original"
   ]
  },
  {
   "cell_type": "code",
   "execution_count": 29,
   "id": "a3c04416",
   "metadata": {},
   "outputs": [
    {
     "name": "stdout",
     "output_type": "stream",
     "text": [
      "{'ORG': 782, 'LOC': 1620, 'MISC': 413, 'PERS': 4415, 'PCT': 77, 'MON': 46, 'PERIOD': 255, 'DATE': 551, 'JOB': 638, 'ART': 316, 'QUANT': 106, 'TIME': 36, 'DOC': 34}\n"
     ]
    }
   ],
   "source": [
    "directory = \"/Users/linndfors/study/diploma/ner-uk/v2.0/data/bruk\"\n",
    "result = count_all_entities(directory)\n",
    "print(result)"
   ]
  },
  {
   "cell_type": "code",
   "execution_count": 30,
   "id": "e32a0ff3",
   "metadata": {},
   "outputs": [
    {
     "name": "stdout",
     "output_type": "stream",
     "text": [
      "{'ORG': 4431, 'DATE': 1496, 'PERIOD': 341, 'MON': 897, 'ART': 319, 'MISC': 102, 'LOC': 1380, 'PERS': 1820, 'JOB': 1344, 'PCT': 186, 'QUANT': 276, 'DOC': 108, 'TIME': 4}\n"
     ]
    }
   ],
   "source": [
    "directory = \"/Users/linndfors/study/diploma/ner-uk/v2.0/data/ng\"\n",
    "result = count_all_entities(directory)\n",
    "print(result)"
   ]
  }
 ],
 "metadata": {
  "kernelspec": {
   "display_name": "new_venv",
   "language": "python",
   "name": "python3"
  },
  "language_info": {
   "codemirror_mode": {
    "name": "ipython",
    "version": 3
   },
   "file_extension": ".py",
   "mimetype": "text/x-python",
   "name": "python",
   "nbconvert_exporter": "python",
   "pygments_lexer": "ipython3",
   "version": "3.10.16"
  }
 },
 "nbformat": 4,
 "nbformat_minor": 5
}
