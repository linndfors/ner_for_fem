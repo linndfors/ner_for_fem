{
 "cells": [
  {
   "cell_type": "code",
   "execution_count": 1,
   "metadata": {},
   "outputs": [],
   "source": [
    "import pandas as pd\n",
    "import json\n",
    "import ast"
   ]
  },
  {
   "cell_type": "code",
   "execution_count": 8,
   "metadata": {},
   "outputs": [],
   "source": [
    "parallel_dataset_bruk_dataset = pd.read_csv(\"/Users/linndfors/study/diploma/ner_for_fem/data/csv_files_with_par_sentences/bruk_parallel.csv\")\n",
    "parallel_dataset_ng_dataset = pd.read_csv(\"/Users/linndfors/study/diploma/ner_for_fem/data/csv_files_with_par_sentences/ng_parallel.csv\")"
   ]
  },
  {
   "cell_type": "code",
   "execution_count": 9,
   "metadata": {},
   "outputs": [],
   "source": [
    "def format_ann(ann_str):\n",
    "    try:\n",
    "        ann_str = ann_str.replace(\"'\", '\"')\n",
    "        ann_str = ann_str.replace(\"–\", '-')\n",
    "        json_ann = ast.literal_eval(ann_str)\n",
    "        annotations = set(json_ann.values())\n",
    "        return annotations\n",
    "    \n",
    "    except (json.JSONDecodeError, ValueError) as e:\n",
    "        print(f\"Error parsing annotation: {e}\")\n",
    "        return None\n",
    "    \n",
    "def format_df(df):\n",
    "    df['ann'] = df.apply(lambda x: format_ann(x['orig_ann']), axis=1)\n",
    "    sentence_and_ann = df[['original_sentence', 'changed_sentence', 'ann']]\n",
    "    return sentence_and_ann"
   ]
  },
  {
   "cell_type": "code",
   "execution_count": 13,
   "metadata": {},
   "outputs": [],
   "source": [
    "bruk_sentence_and_ann_df = format_df(parallel_dataset_bruk_dataset)\n",
    "ng_sentence_and_ann_df = format_df(parallel_dataset_ng_dataset)"
   ]
  },
  {
   "cell_type": "code",
   "execution_count": 14,
   "metadata": {},
   "outputs": [
    {
     "data": {
      "text/html": [
       "<div>\n",
       "<style scoped>\n",
       "    .dataframe tbody tr th:only-of-type {\n",
       "        vertical-align: middle;\n",
       "    }\n",
       "\n",
       "    .dataframe tbody tr th {\n",
       "        vertical-align: top;\n",
       "    }\n",
       "\n",
       "    .dataframe thead th {\n",
       "        text-align: right;\n",
       "    }\n",
       "</style>\n",
       "<table border=\"1\" class=\"dataframe\">\n",
       "  <thead>\n",
       "    <tr style=\"text-align: right;\">\n",
       "      <th></th>\n",
       "      <th>original_sentence</th>\n",
       "      <th>changed_sentence</th>\n",
       "      <th>ann</th>\n",
       "    </tr>\n",
       "  </thead>\n",
       "  <tbody>\n",
       "    <tr>\n",
       "      <th>0</th>\n",
       "      <td>Слідчі встановили, що у 2018-2019 рр. управлін...</td>\n",
       "      <td>Слідчі встановили, що у 2018-2019 рр. управлін...</td>\n",
       "      <td>{(Слідчі, JOB)}</td>\n",
       "    </tr>\n",
       "    <tr>\n",
       "      <th>1</th>\n",
       "      <td>Суд надав слідчим доступ до документації щодо ...</td>\n",
       "      <td>Суд надав слідчій доступ до документації щодо ...</td>\n",
       "      <td>{(слідчим, JOB)}</td>\n",
       "    </tr>\n",
       "    <tr>\n",
       "      <th>2</th>\n",
       "      <td>Директором та засновником ТОВ «Армшляхбуд», ст...</td>\n",
       "      <td>Директоркою та засновницею ТОВ «Армшляхбуд», с...</td>\n",
       "      <td>{(Директором, JOB), (засновником, JOB)}</td>\n",
       "    </tr>\n",
       "    <tr>\n",
       "      <th>3</th>\n",
       "      <td>Співвласником цієї компанії у свою чергу з час...</td>\n",
       "      <td>Співвласницею цієї компанії у свою чергу з час...</td>\n",
       "      <td>{(голова наглядової ради, JOB)}</td>\n",
       "    </tr>\n",
       "    <tr>\n",
       "      <th>4</th>\n",
       "      <td>Одесит Іван Плачков почав працювати в компанії...</td>\n",
       "      <td>Одеситка Іванна Плачкова почала працювати в ко...</td>\n",
       "      <td>{(головою правління, JOB)}</td>\n",
       "    </tr>\n",
       "  </tbody>\n",
       "</table>\n",
       "</div>"
      ],
      "text/plain": [
       "                                   original_sentence  \\\n",
       "0  Слідчі встановили, що у 2018-2019 рр. управлін...   \n",
       "1  Суд надав слідчим доступ до документації щодо ...   \n",
       "2  Директором та засновником ТОВ «Армшляхбуд», ст...   \n",
       "3  Співвласником цієї компанії у свою чергу з час...   \n",
       "4  Одесит Іван Плачков почав працювати в компанії...   \n",
       "\n",
       "                                    changed_sentence  \\\n",
       "0  Слідчі встановили, що у 2018-2019 рр. управлін...   \n",
       "1  Суд надав слідчій доступ до документації щодо ...   \n",
       "2  Директоркою та засновницею ТОВ «Армшляхбуд», с...   \n",
       "3  Співвласницею цієї компанії у свою чергу з час...   \n",
       "4  Одеситка Іванна Плачкова почала працювати в ко...   \n",
       "\n",
       "                                       ann  \n",
       "0                          {(Слідчі, JOB)}  \n",
       "1                         {(слідчим, JOB)}  \n",
       "2  {(Директором, JOB), (засновником, JOB)}  \n",
       "3          {(голова наглядової ради, JOB)}  \n",
       "4               {(головою правління, JOB)}  "
      ]
     },
     "execution_count": 14,
     "metadata": {},
     "output_type": "execute_result"
    }
   ],
   "source": [
    "ng_sentence_and_ann_df.head()"
   ]
  },
  {
   "cell_type": "code",
   "execution_count": null,
   "metadata": {},
   "outputs": [
    {
     "data": {
      "text/plain": [
       "492"
      ]
     },
     "execution_count": 11,
     "metadata": {},
     "output_type": "execute_result"
    }
   ],
   "source": [
    "len(bruk_sentence_and_ann_df)"
   ]
  },
  {
   "cell_type": "code",
   "execution_count": 12,
   "metadata": {},
   "outputs": [
    {
     "data": {
      "text/plain": [
       "1021"
      ]
     },
     "execution_count": 12,
     "metadata": {},
     "output_type": "execute_result"
    }
   ],
   "source": [
    "len(ng_sentence_and_ann_df)"
   ]
  },
  {
   "cell_type": "code",
   "execution_count": null,
   "metadata": {},
   "outputs": [],
   "source": [
    "parallel_df = pd.concat([ng_sentence_and_ann_df, bruk_sentence_and_ann_df])"
   ]
  },
  {
   "cell_type": "code",
   "execution_count": 19,
   "metadata": {},
   "outputs": [],
   "source": [
    "parallel_df.reset_index(drop=True, inplace=True)"
   ]
  },
  {
   "cell_type": "code",
   "execution_count": 21,
   "metadata": {},
   "outputs": [
    {
     "data": {
      "text/html": [
       "<div>\n",
       "<style scoped>\n",
       "    .dataframe tbody tr th:only-of-type {\n",
       "        vertical-align: middle;\n",
       "    }\n",
       "\n",
       "    .dataframe tbody tr th {\n",
       "        vertical-align: top;\n",
       "    }\n",
       "\n",
       "    .dataframe thead th {\n",
       "        text-align: right;\n",
       "    }\n",
       "</style>\n",
       "<table border=\"1\" class=\"dataframe\">\n",
       "  <thead>\n",
       "    <tr style=\"text-align: right;\">\n",
       "      <th></th>\n",
       "      <th>original_sentence</th>\n",
       "      <th>changed_sentence</th>\n",
       "      <th>ann</th>\n",
       "    </tr>\n",
       "  </thead>\n",
       "  <tbody>\n",
       "    <tr>\n",
       "      <th>0</th>\n",
       "      <td>Слідчі встановили, що у 2018-2019 рр. управлін...</td>\n",
       "      <td>Слідчі встановили, що у 2018-2019 рр. управлін...</td>\n",
       "      <td>{(Слідчі, JOB)}</td>\n",
       "    </tr>\n",
       "    <tr>\n",
       "      <th>1</th>\n",
       "      <td>Суд надав слідчим доступ до документації щодо ...</td>\n",
       "      <td>Суд надав слідчій доступ до документації щодо ...</td>\n",
       "      <td>{(слідчим, JOB)}</td>\n",
       "    </tr>\n",
       "    <tr>\n",
       "      <th>2</th>\n",
       "      <td>Директором та засновником ТОВ «Армшляхбуд», ст...</td>\n",
       "      <td>Директоркою та засновницею ТОВ «Армшляхбуд», с...</td>\n",
       "      <td>{(Директором, JOB), (засновником, JOB)}</td>\n",
       "    </tr>\n",
       "    <tr>\n",
       "      <th>3</th>\n",
       "      <td>Співвласником цієї компанії у свою чергу з час...</td>\n",
       "      <td>Співвласницею цієї компанії у свою чергу з час...</td>\n",
       "      <td>{(голова наглядової ради, JOB)}</td>\n",
       "    </tr>\n",
       "    <tr>\n",
       "      <th>4</th>\n",
       "      <td>Одесит Іван Плачков почав працювати в компанії...</td>\n",
       "      <td>Одеситка Іванна Плачкова почала працювати в ко...</td>\n",
       "      <td>{(головою правління, JOB)}</td>\n",
       "    </tr>\n",
       "  </tbody>\n",
       "</table>\n",
       "</div>"
      ],
      "text/plain": [
       "                                   original_sentence  \\\n",
       "0  Слідчі встановили, що у 2018-2019 рр. управлін...   \n",
       "1  Суд надав слідчим доступ до документації щодо ...   \n",
       "2  Директором та засновником ТОВ «Армшляхбуд», ст...   \n",
       "3  Співвласником цієї компанії у свою чергу з час...   \n",
       "4  Одесит Іван Плачков почав працювати в компанії...   \n",
       "\n",
       "                                    changed_sentence  \\\n",
       "0  Слідчі встановили, що у 2018-2019 рр. управлін...   \n",
       "1  Суд надав слідчій доступ до документації щодо ...   \n",
       "2  Директоркою та засновницею ТОВ «Армшляхбуд», с...   \n",
       "3  Співвласницею цієї компанії у свою чергу з час...   \n",
       "4  Одеситка Іванна Плачкова почала працювати в ко...   \n",
       "\n",
       "                                       ann  \n",
       "0                          {(Слідчі, JOB)}  \n",
       "1                         {(слідчим, JOB)}  \n",
       "2  {(Директором, JOB), (засновником, JOB)}  \n",
       "3          {(голова наглядової ради, JOB)}  \n",
       "4               {(головою правління, JOB)}  "
      ]
     },
     "execution_count": 21,
     "metadata": {},
     "output_type": "execute_result"
    }
   ],
   "source": [
    "parallel_df.head()"
   ]
  },
  {
   "cell_type": "code",
   "execution_count": null,
   "metadata": {},
   "outputs": [],
   "source": [
    "# parallel_df.to_csv(\"/Users/linndfors/study/diploma/ner_for_fem/data/csv_files_with_par_sentences/parallel_df.csv\", index=0)"
   ]
  }
 ],
 "metadata": {
  "kernelspec": {
   "display_name": "new_venv",
   "language": "python",
   "name": "python3"
  },
  "language_info": {
   "codemirror_mode": {
    "name": "ipython",
    "version": 3
   },
   "file_extension": ".py",
   "mimetype": "text/x-python",
   "name": "python",
   "nbconvert_exporter": "python",
   "pygments_lexer": "ipython3",
   "version": "3.10.16"
  }
 },
 "nbformat": 4,
 "nbformat_minor": 2
}
