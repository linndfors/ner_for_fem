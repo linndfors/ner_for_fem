{
 "cells": [
  {
   "cell_type": "code",
   "execution_count": 64,
   "metadata": {},
   "outputs": [],
   "source": [
    "import pandas as pd\n",
    "import json\n",
    "import ast\n",
    "import numpy as np\n",
    "from sklearn.model_selection import train_test_split\n",
    "\n"
   ]
  },
  {
   "cell_type": "markdown",
   "metadata": {},
   "source": [
    "## Extract parallel senetnces"
   ]
  },
  {
   "cell_type": "code",
   "execution_count": 45,
   "metadata": {},
   "outputs": [],
   "source": [
    "parallel_dataset_bruk_dataset = pd.read_csv(\"/Users/linndfors/study/diploma/ner_for_fem/data/csv_files_with_par_sentences/bruk_parallel.csv\")\n",
    "parallel_dataset_ng_dataset = pd.read_csv(\"/Users/linndfors/study/diploma/ner_for_fem/data/csv_files_with_par_sentences/ng_parallel.csv\")"
   ]
  },
  {
   "cell_type": "code",
   "execution_count": 46,
   "metadata": {},
   "outputs": [],
   "source": [
    "bruk_sentence_and_ann_df = parallel_dataset_bruk_dataset[['original_sentence', 'changed_sentence']]\n",
    "ng_sentence_and_ann_df = parallel_dataset_ng_dataset[['original_sentence', 'changed_sentence']]"
   ]
  },
  {
   "cell_type": "code",
   "execution_count": 47,
   "metadata": {},
   "outputs": [],
   "source": [
    "parallel_df = pd.concat([ng_sentence_and_ann_df, bruk_sentence_and_ann_df])\n",
    "parallel_df.reset_index(drop=True, inplace=True)"
   ]
  },
  {
   "cell_type": "code",
   "execution_count": 48,
   "metadata": {},
   "outputs": [
    {
     "data": {
      "text/plain": [
       "(1513, 2)"
      ]
     },
     "execution_count": 48,
     "metadata": {},
     "output_type": "execute_result"
    }
   ],
   "source": [
    "parallel_df.shape"
   ]
  },
  {
   "cell_type": "code",
   "execution_count": 49,
   "metadata": {},
   "outputs": [
    {
     "data": {
      "text/html": [
       "<div>\n",
       "<style scoped>\n",
       "    .dataframe tbody tr th:only-of-type {\n",
       "        vertical-align: middle;\n",
       "    }\n",
       "\n",
       "    .dataframe tbody tr th {\n",
       "        vertical-align: top;\n",
       "    }\n",
       "\n",
       "    .dataframe thead th {\n",
       "        text-align: right;\n",
       "    }\n",
       "</style>\n",
       "<table border=\"1\" class=\"dataframe\">\n",
       "  <thead>\n",
       "    <tr style=\"text-align: right;\">\n",
       "      <th></th>\n",
       "      <th>original_sentence</th>\n",
       "      <th>changed_sentence</th>\n",
       "    </tr>\n",
       "  </thead>\n",
       "  <tbody>\n",
       "    <tr>\n",
       "      <th>0</th>\n",
       "      <td>Слідчі встановили, що у 2018-2019 рр. управлін...</td>\n",
       "      <td>Слідчі встановили, що у 2018-2019 рр. управлін...</td>\n",
       "    </tr>\n",
       "    <tr>\n",
       "      <th>1</th>\n",
       "      <td>Суд надав слідчим доступ до документації щодо ...</td>\n",
       "      <td>Суд надав слідчій доступ до документації щодо ...</td>\n",
       "    </tr>\n",
       "    <tr>\n",
       "      <th>2</th>\n",
       "      <td>Директором та засновником ТОВ «Армшляхбуд», ст...</td>\n",
       "      <td>Директоркою та засновницею ТОВ «Армшляхбуд», с...</td>\n",
       "    </tr>\n",
       "    <tr>\n",
       "      <th>3</th>\n",
       "      <td>Співвласником цієї компанії у свою чергу з час...</td>\n",
       "      <td>Співвласницею цієї компанії у свою чергу з час...</td>\n",
       "    </tr>\n",
       "    <tr>\n",
       "      <th>4</th>\n",
       "      <td>Одесит Іван Плачков почав працювати в компанії...</td>\n",
       "      <td>Одеситка Іванна Плачкова почала працювати в ко...</td>\n",
       "    </tr>\n",
       "  </tbody>\n",
       "</table>\n",
       "</div>"
      ],
      "text/plain": [
       "                                   original_sentence  \\\n",
       "0  Слідчі встановили, що у 2018-2019 рр. управлін...   \n",
       "1  Суд надав слідчим доступ до документації щодо ...   \n",
       "2  Директором та засновником ТОВ «Армшляхбуд», ст...   \n",
       "3  Співвласником цієї компанії у свою чергу з час...   \n",
       "4  Одесит Іван Плачков почав працювати в компанії...   \n",
       "\n",
       "                                    changed_sentence  \n",
       "0  Слідчі встановили, що у 2018-2019 рр. управлін...  \n",
       "1  Суд надав слідчій доступ до документації щодо ...  \n",
       "2  Директоркою та засновницею ТОВ «Армшляхбуд», с...  \n",
       "3  Співвласницею цієї компанії у свою чергу з час...  \n",
       "4  Одеситка Іванна Плачкова почала працювати в ко...  "
      ]
     },
     "execution_count": 49,
     "metadata": {},
     "output_type": "execute_result"
    }
   ],
   "source": [
    "parallel_df.head()"
   ]
  },
  {
   "cell_type": "code",
   "execution_count": 26,
   "metadata": {},
   "outputs": [],
   "source": [
    "parallel_df.to_csv(\"/Users/linndfors/study/diploma/ner_for_fem/data/csv_files_with_par_sentences/parallel_df.csv\", index=0)"
   ]
  },
  {
   "cell_type": "code",
   "execution_count": 50,
   "metadata": {},
   "outputs": [],
   "source": [
    "parallel_df = parallel_df.rename(columns={'original_sentence': \"inputs\", 'changed_sentence': 'targets'})"
   ]
  },
  {
   "cell_type": "code",
   "execution_count": 51,
   "metadata": {},
   "outputs": [],
   "source": [
    "parallel_df = parallel_df.sample(frac=1, random_state=42).reset_index(drop=True)\n",
    "\n",
    "swap_mask = np.random.choice([True, False], size=len(parallel_df))  # Randomly decide which rows to swap\n",
    "\n",
    "# Store original values to prevent overwriting columns prematurely\n",
    "inputs_copy = parallel_df['inputs'].copy()\n",
    "targets_copy = parallel_df['targets'].copy()\n",
    "\n",
    "# Swap the 'inputs' and 'targets' values for the selected rows\n",
    "parallel_df['inputs'] = np.where(swap_mask, targets_copy, inputs_copy)\n",
    "parallel_df['targets'] = np.where(swap_mask, inputs_copy, targets_copy)"
   ]
  },
  {
   "cell_type": "code",
   "execution_count": 52,
   "metadata": {},
   "outputs": [
    {
     "data": {
      "text/html": [
       "<div>\n",
       "<style scoped>\n",
       "    .dataframe tbody tr th:only-of-type {\n",
       "        vertical-align: middle;\n",
       "    }\n",
       "\n",
       "    .dataframe tbody tr th {\n",
       "        vertical-align: top;\n",
       "    }\n",
       "\n",
       "    .dataframe thead th {\n",
       "        text-align: right;\n",
       "    }\n",
       "</style>\n",
       "<table border=\"1\" class=\"dataframe\">\n",
       "  <thead>\n",
       "    <tr style=\"text-align: right;\">\n",
       "      <th></th>\n",
       "      <th>inputs</th>\n",
       "      <th>targets</th>\n",
       "    </tr>\n",
       "  </thead>\n",
       "  <tbody>\n",
       "    <tr>\n",
       "      <th>0</th>\n",
       "      <td>Єдиним конкурентом на тендері було Управління ...</td>\n",
       "      <td>Єдиною конкуренткою на тендері було Управління...</td>\n",
       "    </tr>\n",
       "    <tr>\n",
       "      <th>1</th>\n",
       "      <td>Це мати Ірини Скарбовійчук, дружини Руслана Ск...</td>\n",
       "      <td>Це мати Івана Скарбовійчука, чоловіка Ганни Ск...</td>\n",
       "    </tr>\n",
       "    <tr>\n",
       "      <th>2</th>\n",
       "      <td>19 травня цього року вдома у директора «Аннтей...</td>\n",
       "      <td>19 травня цього року вдома у директорки «Аннте...</td>\n",
       "    </tr>\n",
       "    <tr>\n",
       "      <th>3</th>\n",
       "      <td>Родичі колишньої народної депутатки з фракції ...</td>\n",
       "      <td>Родичі колишнього народного депутата з фракції...</td>\n",
       "    </tr>\n",
       "    <tr>\n",
       "      <th>4</th>\n",
       "      <td>Однак наприкінці 2017 року директор «Харківгор...</td>\n",
       "      <td>Однак наприкінці 2017 року директорка «Харківг...</td>\n",
       "    </tr>\n",
       "  </tbody>\n",
       "</table>\n",
       "</div>"
      ],
      "text/plain": [
       "                                              inputs  \\\n",
       "0  Єдиним конкурентом на тендері було Управління ...   \n",
       "1  Це мати Ірини Скарбовійчук, дружини Руслана Ск...   \n",
       "2  19 травня цього року вдома у директора «Аннтей...   \n",
       "3  Родичі колишньої народної депутатки з фракції ...   \n",
       "4  Однак наприкінці 2017 року директор «Харківгор...   \n",
       "\n",
       "                                             targets  \n",
       "0  Єдиною конкуренткою на тендері було Управління...  \n",
       "1  Це мати Івана Скарбовійчука, чоловіка Ганни Ск...  \n",
       "2  19 травня цього року вдома у директорки «Аннте...  \n",
       "3  Родичі колишнього народного депутата з фракції...  \n",
       "4  Однак наприкінці 2017 року директорка «Харківг...  "
      ]
     },
     "execution_count": 52,
     "metadata": {},
     "output_type": "execute_result"
    }
   ],
   "source": [
    "parallel_df.head()"
   ]
  },
  {
   "cell_type": "code",
   "execution_count": 53,
   "metadata": {},
   "outputs": [],
   "source": [
    "parallel_df['inputs'] = parallel_df.apply(lambda x: \"Перефразуй це речення, змінивши гендерні сутності на протилежні (чоловічий <-> жіночий): \" + x['inputs'], axis=1)"
   ]
  },
  {
   "cell_type": "code",
   "execution_count": 54,
   "metadata": {},
   "outputs": [
    {
     "data": {
      "text/html": [
       "<div>\n",
       "<style scoped>\n",
       "    .dataframe tbody tr th:only-of-type {\n",
       "        vertical-align: middle;\n",
       "    }\n",
       "\n",
       "    .dataframe tbody tr th {\n",
       "        vertical-align: top;\n",
       "    }\n",
       "\n",
       "    .dataframe thead th {\n",
       "        text-align: right;\n",
       "    }\n",
       "</style>\n",
       "<table border=\"1\" class=\"dataframe\">\n",
       "  <thead>\n",
       "    <tr style=\"text-align: right;\">\n",
       "      <th></th>\n",
       "      <th>inputs</th>\n",
       "      <th>targets</th>\n",
       "    </tr>\n",
       "  </thead>\n",
       "  <tbody>\n",
       "    <tr>\n",
       "      <th>0</th>\n",
       "      <td>Перефразуй це речення, змінивши гендерні сутно...</td>\n",
       "      <td>Єдиною конкуренткою на тендері було Управління...</td>\n",
       "    </tr>\n",
       "    <tr>\n",
       "      <th>1</th>\n",
       "      <td>Перефразуй це речення, змінивши гендерні сутно...</td>\n",
       "      <td>Це мати Івана Скарбовійчука, чоловіка Ганни Ск...</td>\n",
       "    </tr>\n",
       "    <tr>\n",
       "      <th>2</th>\n",
       "      <td>Перефразуй це речення, змінивши гендерні сутно...</td>\n",
       "      <td>19 травня цього року вдома у директорки «Аннте...</td>\n",
       "    </tr>\n",
       "    <tr>\n",
       "      <th>3</th>\n",
       "      <td>Перефразуй це речення, змінивши гендерні сутно...</td>\n",
       "      <td>Родичі колишнього народного депутата з фракції...</td>\n",
       "    </tr>\n",
       "    <tr>\n",
       "      <th>4</th>\n",
       "      <td>Перефразуй це речення, змінивши гендерні сутно...</td>\n",
       "      <td>Однак наприкінці 2017 року директорка «Харківг...</td>\n",
       "    </tr>\n",
       "  </tbody>\n",
       "</table>\n",
       "</div>"
      ],
      "text/plain": [
       "                                              inputs  \\\n",
       "0  Перефразуй це речення, змінивши гендерні сутно...   \n",
       "1  Перефразуй це речення, змінивши гендерні сутно...   \n",
       "2  Перефразуй це речення, змінивши гендерні сутно...   \n",
       "3  Перефразуй це речення, змінивши гендерні сутно...   \n",
       "4  Перефразуй це речення, змінивши гендерні сутно...   \n",
       "\n",
       "                                             targets  \n",
       "0  Єдиною конкуренткою на тендері було Управління...  \n",
       "1  Це мати Івана Скарбовійчука, чоловіка Ганни Ск...  \n",
       "2  19 травня цього року вдома у директорки «Аннте...  \n",
       "3  Родичі колишнього народного депутата з фракції...  \n",
       "4  Однак наприкінці 2017 року директорка «Харківг...  "
      ]
     },
     "execution_count": 54,
     "metadata": {},
     "output_type": "execute_result"
    }
   ],
   "source": [
    "parallel_df.head()"
   ]
  },
  {
   "cell_type": "markdown",
   "metadata": {},
   "source": [
    "## Add word pairs (male-female)"
   ]
  },
  {
   "cell_type": "code",
   "execution_count": 55,
   "metadata": {},
   "outputs": [],
   "source": [
    "gender_dict_df = pd.read_csv(\"/Users/linndfors/study/diploma/uk-gender-word-mapper/gender_pairs_dictionary.csv\")"
   ]
  },
  {
   "cell_type": "code",
   "execution_count": 56,
   "metadata": {},
   "outputs": [],
   "source": [
    "gender_dict_df = gender_dict_df.rename(columns={'male': \"inputs\", 'female': 'targets'})"
   ]
  },
  {
   "cell_type": "code",
   "execution_count": null,
   "metadata": {},
   "outputs": [],
   "source": [
    "# gender_dict_df_half_1 = gender_dict_df[:len(gender_dict_df)//2]\n",
    "# gender_dict_df_half_1 = gender_dict_df_half_1.rename(columns={'male': \"inputs\", 'female': 'targets'})\n",
    "\n",
    "# gender_dict_df_half_2 = gender_dict_df[len(gender_dict_df)//2:]\n",
    "# gender_dict_df_half_2 = gender_dict_df_half_2.rename(columns={'female': \"inputs\", 'male': 'targets'})\n",
    "# gender_dict_df_half_2 = gender_dict_df_half_2[[gender_dict_df_half_2.columns[-1]] + list(gender_dict_df_half_2.columns[:-1])]"
   ]
  },
  {
   "cell_type": "code",
   "execution_count": null,
   "metadata": {},
   "outputs": [],
   "source": [
    "# parallel_df_words = pd.concat([gender_dict_df_half_1, gender_dict_df_half_2])\n",
    "# parallel_df_words.reset_index(drop=True, inplace=True)"
   ]
  },
  {
   "cell_type": "code",
   "execution_count": 57,
   "metadata": {},
   "outputs": [],
   "source": [
    "df = gender_dict_df.sample(frac=1, random_state=42).reset_index(drop=True)\n",
    "\n",
    "swap_mask = np.random.choice([True, False], size=len(df))  # Randomly decide which rows to swap\n",
    "\n",
    "# Store original values to prevent overwriting columns prematurely\n",
    "inputs_copy = df['inputs'].copy()\n",
    "targets_copy = df['targets'].copy()\n",
    "\n",
    "# Swap the 'inputs' and 'targets' values for the selected rows\n",
    "df['inputs'] = np.where(swap_mask, targets_copy, inputs_copy)\n",
    "df['targets'] = np.where(swap_mask, inputs_copy, targets_copy)"
   ]
  },
  {
   "cell_type": "code",
   "execution_count": 58,
   "metadata": {},
   "outputs": [
    {
     "data": {
      "text/html": [
       "<div>\n",
       "<style scoped>\n",
       "    .dataframe tbody tr th:only-of-type {\n",
       "        vertical-align: middle;\n",
       "    }\n",
       "\n",
       "    .dataframe tbody tr th {\n",
       "        vertical-align: top;\n",
       "    }\n",
       "\n",
       "    .dataframe thead th {\n",
       "        text-align: right;\n",
       "    }\n",
       "</style>\n",
       "<table border=\"1\" class=\"dataframe\">\n",
       "  <thead>\n",
       "    <tr style=\"text-align: right;\">\n",
       "      <th></th>\n",
       "      <th>inputs</th>\n",
       "      <th>targets</th>\n",
       "    </tr>\n",
       "  </thead>\n",
       "  <tbody>\n",
       "    <tr>\n",
       "      <th>0</th>\n",
       "      <td>житель</td>\n",
       "      <td>жителька</td>\n",
       "    </tr>\n",
       "    <tr>\n",
       "      <th>1</th>\n",
       "      <td>памфлетист</td>\n",
       "      <td>памфлетистка</td>\n",
       "    </tr>\n",
       "    <tr>\n",
       "      <th>2</th>\n",
       "      <td>кар’єрист</td>\n",
       "      <td>кар’єристка</td>\n",
       "    </tr>\n",
       "    <tr>\n",
       "      <th>3</th>\n",
       "      <td>перевізниця</td>\n",
       "      <td>перевізник</td>\n",
       "    </tr>\n",
       "    <tr>\n",
       "      <th>4</th>\n",
       "      <td>диверсантка</td>\n",
       "      <td>диверсант</td>\n",
       "    </tr>\n",
       "    <tr>\n",
       "      <th>...</th>\n",
       "      <td>...</td>\n",
       "      <td>...</td>\n",
       "    </tr>\n",
       "    <tr>\n",
       "      <th>1096</th>\n",
       "      <td>корейка</td>\n",
       "      <td>кореєць</td>\n",
       "    </tr>\n",
       "    <tr>\n",
       "      <th>1097</th>\n",
       "      <td>вболівальник</td>\n",
       "      <td>вболівальниця</td>\n",
       "    </tr>\n",
       "    <tr>\n",
       "      <th>1098</th>\n",
       "      <td>хабарник</td>\n",
       "      <td>хабарниця</td>\n",
       "    </tr>\n",
       "    <tr>\n",
       "      <th>1099</th>\n",
       "      <td>юрист</td>\n",
       "      <td>юристка</td>\n",
       "    </tr>\n",
       "    <tr>\n",
       "      <th>1100</th>\n",
       "      <td>реставратор</td>\n",
       "      <td>реставраторка</td>\n",
       "    </tr>\n",
       "  </tbody>\n",
       "</table>\n",
       "<p>1101 rows × 2 columns</p>\n",
       "</div>"
      ],
      "text/plain": [
       "            inputs        targets\n",
       "0           житель       жителька\n",
       "1       памфлетист   памфлетистка\n",
       "2        кар’єрист    кар’єристка\n",
       "3      перевізниця     перевізник\n",
       "4      диверсантка      диверсант\n",
       "...            ...            ...\n",
       "1096       корейка        кореєць\n",
       "1097  вболівальник  вболівальниця\n",
       "1098      хабарник      хабарниця\n",
       "1099         юрист        юристка\n",
       "1100   реставратор  реставраторка\n",
       "\n",
       "[1101 rows x 2 columns]"
      ]
     },
     "execution_count": 58,
     "metadata": {},
     "output_type": "execute_result"
    }
   ],
   "source": [
    "df"
   ]
  },
  {
   "cell_type": "code",
   "execution_count": 60,
   "metadata": {},
   "outputs": [],
   "source": [
    "df['inputs'] = df.apply(lambda x: \"Перефразуй це слово, змінивши його гендер на протилежний (чоловічий <-> жіночий): \" + x['inputs'], axis=1)"
   ]
  },
  {
   "cell_type": "code",
   "execution_count": 61,
   "metadata": {},
   "outputs": [
    {
     "data": {
      "text/html": [
       "<div>\n",
       "<style scoped>\n",
       "    .dataframe tbody tr th:only-of-type {\n",
       "        vertical-align: middle;\n",
       "    }\n",
       "\n",
       "    .dataframe tbody tr th {\n",
       "        vertical-align: top;\n",
       "    }\n",
       "\n",
       "    .dataframe thead th {\n",
       "        text-align: right;\n",
       "    }\n",
       "</style>\n",
       "<table border=\"1\" class=\"dataframe\">\n",
       "  <thead>\n",
       "    <tr style=\"text-align: right;\">\n",
       "      <th></th>\n",
       "      <th>inputs</th>\n",
       "      <th>targets</th>\n",
       "    </tr>\n",
       "  </thead>\n",
       "  <tbody>\n",
       "    <tr>\n",
       "      <th>0</th>\n",
       "      <td>Перефразуй це слово, змінивши його гендер на п...</td>\n",
       "      <td>жителька</td>\n",
       "    </tr>\n",
       "    <tr>\n",
       "      <th>1</th>\n",
       "      <td>Перефразуй це слово, змінивши його гендер на п...</td>\n",
       "      <td>памфлетистка</td>\n",
       "    </tr>\n",
       "    <tr>\n",
       "      <th>2</th>\n",
       "      <td>Перефразуй це слово, змінивши його гендер на п...</td>\n",
       "      <td>кар’єристка</td>\n",
       "    </tr>\n",
       "    <tr>\n",
       "      <th>3</th>\n",
       "      <td>Перефразуй це слово, змінивши його гендер на п...</td>\n",
       "      <td>перевізник</td>\n",
       "    </tr>\n",
       "    <tr>\n",
       "      <th>4</th>\n",
       "      <td>Перефразуй це слово, змінивши його гендер на п...</td>\n",
       "      <td>диверсант</td>\n",
       "    </tr>\n",
       "  </tbody>\n",
       "</table>\n",
       "</div>"
      ],
      "text/plain": [
       "                                              inputs       targets\n",
       "0  Перефразуй це слово, змінивши його гендер на п...      жителька\n",
       "1  Перефразуй це слово, змінивши його гендер на п...  памфлетистка\n",
       "2  Перефразуй це слово, змінивши його гендер на п...   кар’єристка\n",
       "3  Перефразуй це слово, змінивши його гендер на п...    перевізник\n",
       "4  Перефразуй це слово, змінивши його гендер на п...     диверсант"
      ]
     },
     "execution_count": 61,
     "metadata": {},
     "output_type": "execute_result"
    }
   ],
   "source": [
    "df.head()"
   ]
  },
  {
   "cell_type": "code",
   "execution_count": 62,
   "metadata": {},
   "outputs": [],
   "source": [
    "parallel_df_enhanced = pd.concat([parallel_df, df])"
   ]
  },
  {
   "cell_type": "code",
   "execution_count": 63,
   "metadata": {},
   "outputs": [
    {
     "data": {
      "text/html": [
       "<div>\n",
       "<style scoped>\n",
       "    .dataframe tbody tr th:only-of-type {\n",
       "        vertical-align: middle;\n",
       "    }\n",
       "\n",
       "    .dataframe tbody tr th {\n",
       "        vertical-align: top;\n",
       "    }\n",
       "\n",
       "    .dataframe thead th {\n",
       "        text-align: right;\n",
       "    }\n",
       "</style>\n",
       "<table border=\"1\" class=\"dataframe\">\n",
       "  <thead>\n",
       "    <tr style=\"text-align: right;\">\n",
       "      <th></th>\n",
       "      <th>inputs</th>\n",
       "      <th>targets</th>\n",
       "    </tr>\n",
       "  </thead>\n",
       "  <tbody>\n",
       "    <tr>\n",
       "      <th>0</th>\n",
       "      <td>Перефразуй це речення, змінивши гендерні сутно...</td>\n",
       "      <td>Єдиною конкуренткою на тендері було Управління...</td>\n",
       "    </tr>\n",
       "    <tr>\n",
       "      <th>1</th>\n",
       "      <td>Перефразуй це речення, змінивши гендерні сутно...</td>\n",
       "      <td>Це мати Івана Скарбовійчука, чоловіка Ганни Ск...</td>\n",
       "    </tr>\n",
       "    <tr>\n",
       "      <th>2</th>\n",
       "      <td>Перефразуй це речення, змінивши гендерні сутно...</td>\n",
       "      <td>19 травня цього року вдома у директорки «Аннте...</td>\n",
       "    </tr>\n",
       "    <tr>\n",
       "      <th>3</th>\n",
       "      <td>Перефразуй це речення, змінивши гендерні сутно...</td>\n",
       "      <td>Родичі колишнього народного депутата з фракції...</td>\n",
       "    </tr>\n",
       "    <tr>\n",
       "      <th>4</th>\n",
       "      <td>Перефразуй це речення, змінивши гендерні сутно...</td>\n",
       "      <td>Однак наприкінці 2017 року директорка «Харківг...</td>\n",
       "    </tr>\n",
       "  </tbody>\n",
       "</table>\n",
       "</div>"
      ],
      "text/plain": [
       "                                              inputs  \\\n",
       "0  Перефразуй це речення, змінивши гендерні сутно...   \n",
       "1  Перефразуй це речення, змінивши гендерні сутно...   \n",
       "2  Перефразуй це речення, змінивши гендерні сутно...   \n",
       "3  Перефразуй це речення, змінивши гендерні сутно...   \n",
       "4  Перефразуй це речення, змінивши гендерні сутно...   \n",
       "\n",
       "                                             targets  \n",
       "0  Єдиною конкуренткою на тендері було Управління...  \n",
       "1  Це мати Івана Скарбовійчука, чоловіка Ганни Ск...  \n",
       "2  19 травня цього року вдома у директорки «Аннте...  \n",
       "3  Родичі колишнього народного депутата з фракції...  \n",
       "4  Однак наприкінці 2017 року директорка «Харківг...  "
      ]
     },
     "execution_count": 63,
     "metadata": {},
     "output_type": "execute_result"
    }
   ],
   "source": [
    "parallel_df_enhanced.head()"
   ]
  },
  {
   "cell_type": "code",
   "execution_count": 65,
   "metadata": {},
   "outputs": [],
   "source": [
    "shuffled_df = parallel_df_enhanced.sample(frac=1, random_state=42).reset_index(drop=True)"
   ]
  },
  {
   "cell_type": "code",
   "execution_count": 70,
   "metadata": {},
   "outputs": [
    {
     "data": {
      "text/html": [
       "<div>\n",
       "<style scoped>\n",
       "    .dataframe tbody tr th:only-of-type {\n",
       "        vertical-align: middle;\n",
       "    }\n",
       "\n",
       "    .dataframe tbody tr th {\n",
       "        vertical-align: top;\n",
       "    }\n",
       "\n",
       "    .dataframe thead th {\n",
       "        text-align: right;\n",
       "    }\n",
       "</style>\n",
       "<table border=\"1\" class=\"dataframe\">\n",
       "  <thead>\n",
       "    <tr style=\"text-align: right;\">\n",
       "      <th></th>\n",
       "      <th>inputs</th>\n",
       "      <th>targets</th>\n",
       "    </tr>\n",
       "  </thead>\n",
       "  <tbody>\n",
       "    <tr>\n",
       "      <th>0</th>\n",
       "      <td>Перефразуй це слово, змінивши його гендер на п...</td>\n",
       "      <td>патрульний</td>\n",
       "    </tr>\n",
       "    <tr>\n",
       "      <th>1</th>\n",
       "      <td>Перефразуй це речення, змінивши гендерні сутно...</td>\n",
       "      <td>Після відлучення групи Фірташа від ОПЗ постача...</td>\n",
       "    </tr>\n",
       "    <tr>\n",
       "      <th>2</th>\n",
       "      <td>Перефразуй це слово, змінивши його гендер на п...</td>\n",
       "      <td>дзвонар</td>\n",
       "    </tr>\n",
       "    <tr>\n",
       "      <th>3</th>\n",
       "      <td>Перефразуй це речення, змінивши гендерні сутно...</td>\n",
       "      <td>Тяганина між забудовником і депутатами загрожу...</td>\n",
       "    </tr>\n",
       "    <tr>\n",
       "      <th>4</th>\n",
       "      <td>Перефразуй це слово, змінивши його гендер на п...</td>\n",
       "      <td>монтажник</td>\n",
       "    </tr>\n",
       "    <tr>\n",
       "      <th>5</th>\n",
       "      <td>Перефразуй це речення, змінивши гендерні сутно...</td>\n",
       "      <td>Випивши , майстриня багато розповідала про жит...</td>\n",
       "    </tr>\n",
       "    <tr>\n",
       "      <th>6</th>\n",
       "      <td>Перефразуй це речення, змінивши гендерні сутно...</td>\n",
       "      <td>Лідія Левицька зареєструвалася як підприємець ...</td>\n",
       "    </tr>\n",
       "    <tr>\n",
       "      <th>7</th>\n",
       "      <td>Перефразуй це речення, змінивши гендерні сутно...</td>\n",
       "      <td>Відповідальна редакторка — докторка філологічн...</td>\n",
       "    </tr>\n",
       "    <tr>\n",
       "      <th>8</th>\n",
       "      <td>Перефразуй це речення, змінивши гендерні сутно...</td>\n",
       "      <td>Депутатка від «Самопомочі» Валентина Федишина ...</td>\n",
       "    </tr>\n",
       "    <tr>\n",
       "      <th>9</th>\n",
       "      <td>Перефразуй це слово, змінивши його гендер на п...</td>\n",
       "      <td>розкрадачка</td>\n",
       "    </tr>\n",
       "  </tbody>\n",
       "</table>\n",
       "</div>"
      ],
      "text/plain": [
       "                                              inputs  \\\n",
       "0  Перефразуй це слово, змінивши його гендер на п...   \n",
       "1  Перефразуй це речення, змінивши гендерні сутно...   \n",
       "2  Перефразуй це слово, змінивши його гендер на п...   \n",
       "3  Перефразуй це речення, змінивши гендерні сутно...   \n",
       "4  Перефразуй це слово, змінивши його гендер на п...   \n",
       "5  Перефразуй це речення, змінивши гендерні сутно...   \n",
       "6  Перефразуй це речення, змінивши гендерні сутно...   \n",
       "7  Перефразуй це речення, змінивши гендерні сутно...   \n",
       "8  Перефразуй це речення, змінивши гендерні сутно...   \n",
       "9  Перефразуй це слово, змінивши його гендер на п...   \n",
       "\n",
       "                                             targets  \n",
       "0                                         патрульний  \n",
       "1  Після відлучення групи Фірташа від ОПЗ постача...  \n",
       "2                                            дзвонар  \n",
       "3  Тяганина між забудовником і депутатами загрожу...  \n",
       "4                                          монтажник  \n",
       "5  Випивши , майстриня багато розповідала про жит...  \n",
       "6  Лідія Левицька зареєструвалася як підприємець ...  \n",
       "7  Відповідальна редакторка — докторка філологічн...  \n",
       "8  Депутатка від «Самопомочі» Валентина Федишина ...  \n",
       "9                                        розкрадачка  "
      ]
     },
     "execution_count": 70,
     "metadata": {},
     "output_type": "execute_result"
    }
   ],
   "source": [
    "shuffled_df.head(10)"
   ]
  },
  {
   "cell_type": "code",
   "execution_count": 71,
   "metadata": {},
   "outputs": [],
   "source": [
    "shuffled_df.to_csv(\"/Users/linndfors/study/diploma/ner_for_fem/data/csv_files_with_par_sentences/parallel_for_llm_df.csv\", index=0)"
   ]
  },
  {
   "cell_type": "markdown",
   "metadata": {},
   "source": [
    "### Split"
   ]
  },
  {
   "cell_type": "code",
   "execution_count": 72,
   "metadata": {},
   "outputs": [],
   "source": [
    "train_df, test_df = train_test_split(shuffled_df, test_size=0.2, random_state=42)"
   ]
  },
  {
   "cell_type": "code",
   "execution_count": 73,
   "metadata": {},
   "outputs": [
    {
     "name": "stdout",
     "output_type": "stream",
     "text": [
      "Train Set:\n",
      "2091\n",
      "\n",
      "Test Set:\n",
      "523\n"
     ]
    }
   ],
   "source": [
    "print(\"Train Set:\")\n",
    "print(len(train_df))\n",
    "print(\"\\nTest Set:\")\n",
    "print(len(test_df))"
   ]
  },
  {
   "cell_type": "code",
   "execution_count": 74,
   "metadata": {},
   "outputs": [],
   "source": [
    "train_df.to_csv(\"/Users/linndfors/study/diploma/ner_for_fem/data/csv_files_with_par_sentences/train_parallel_for_llm_df.csv\", index=0)\n",
    "test_df.to_csv(\"/Users/linndfors/study/diploma/ner_for_fem/data/csv_files_with_par_sentences/test_parallel_for_llm_df.csv\", index=0)"
   ]
  },
  {
   "cell_type": "code",
   "execution_count": 75,
   "metadata": {},
   "outputs": [
    {
     "data": {
      "text/html": [
       "<div>\n",
       "<style scoped>\n",
       "    .dataframe tbody tr th:only-of-type {\n",
       "        vertical-align: middle;\n",
       "    }\n",
       "\n",
       "    .dataframe tbody tr th {\n",
       "        vertical-align: top;\n",
       "    }\n",
       "\n",
       "    .dataframe thead th {\n",
       "        text-align: right;\n",
       "    }\n",
       "</style>\n",
       "<table border=\"1\" class=\"dataframe\">\n",
       "  <thead>\n",
       "    <tr style=\"text-align: right;\">\n",
       "      <th></th>\n",
       "      <th>inputs</th>\n",
       "      <th>targets</th>\n",
       "    </tr>\n",
       "  </thead>\n",
       "  <tbody>\n",
       "    <tr>\n",
       "      <th>166</th>\n",
       "      <td>Перефразуй це слово, змінивши його гендер на п...</td>\n",
       "      <td>неформалка</td>\n",
       "    </tr>\n",
       "    <tr>\n",
       "      <th>2576</th>\n",
       "      <td>Перефразуй це слово, змінивши його гендер на п...</td>\n",
       "      <td>фундаторка</td>\n",
       "    </tr>\n",
       "    <tr>\n",
       "      <th>49</th>\n",
       "      <td>Перефразуй це слово, змінивши його гендер на п...</td>\n",
       "      <td>абонентка</td>\n",
       "    </tr>\n",
       "    <tr>\n",
       "      <th>2375</th>\n",
       "      <td>Перефразуй це речення, змінивши гендерні сутно...</td>\n",
       "      <td>Переможні битви війська Богдани Хмельницької у...</td>\n",
       "    </tr>\n",
       "    <tr>\n",
       "      <th>961</th>\n",
       "      <td>Перефразуй це речення, змінивши гендерні сутно...</td>\n",
       "      <td>— Як скажеш , батьку ! — хором відповіли « пол...</td>\n",
       "    </tr>\n",
       "  </tbody>\n",
       "</table>\n",
       "</div>"
      ],
      "text/plain": [
       "                                                 inputs  \\\n",
       "166   Перефразуй це слово, змінивши його гендер на п...   \n",
       "2576  Перефразуй це слово, змінивши його гендер на п...   \n",
       "49    Перефразуй це слово, змінивши його гендер на п...   \n",
       "2375  Перефразуй це речення, змінивши гендерні сутно...   \n",
       "961   Перефразуй це речення, змінивши гендерні сутно...   \n",
       "\n",
       "                                                targets  \n",
       "166                                          неформалка  \n",
       "2576                                         фундаторка  \n",
       "49                                            абонентка  \n",
       "2375  Переможні битви війська Богдани Хмельницької у...  \n",
       "961   — Як скажеш , батьку ! — хором відповіли « пол...  "
      ]
     },
     "execution_count": 75,
     "metadata": {},
     "output_type": "execute_result"
    }
   ],
   "source": [
    "train_df.head()"
   ]
  },
  {
   "cell_type": "code",
   "execution_count": 76,
   "metadata": {},
   "outputs": [
    {
     "data": {
      "text/html": [
       "<div>\n",
       "<style scoped>\n",
       "    .dataframe tbody tr th:only-of-type {\n",
       "        vertical-align: middle;\n",
       "    }\n",
       "\n",
       "    .dataframe tbody tr th {\n",
       "        vertical-align: top;\n",
       "    }\n",
       "\n",
       "    .dataframe thead th {\n",
       "        text-align: right;\n",
       "    }\n",
       "</style>\n",
       "<table border=\"1\" class=\"dataframe\">\n",
       "  <thead>\n",
       "    <tr style=\"text-align: right;\">\n",
       "      <th></th>\n",
       "      <th>inputs</th>\n",
       "      <th>targets</th>\n",
       "    </tr>\n",
       "  </thead>\n",
       "  <tbody>\n",
       "    <tr>\n",
       "      <th>2437</th>\n",
       "      <td>Перефразуй це слово, змінивши його гендер на п...</td>\n",
       "      <td>офіцерка</td>\n",
       "    </tr>\n",
       "    <tr>\n",
       "      <th>1033</th>\n",
       "      <td>Перефразуй це слово, змінивши його гендер на п...</td>\n",
       "      <td>мільярдер</td>\n",
       "    </tr>\n",
       "    <tr>\n",
       "      <th>2575</th>\n",
       "      <td>Перефразуй це слово, змінивши його гендер на п...</td>\n",
       "      <td>пакистанець</td>\n",
       "    </tr>\n",
       "    <tr>\n",
       "      <th>1124</th>\n",
       "      <td>Перефразуй це речення, змінивши гендерні сутно...</td>\n",
       "      <td>Статутні внески найбільшого розміру не задекла...</td>\n",
       "    </tr>\n",
       "    <tr>\n",
       "      <th>1942</th>\n",
       "      <td>Перефразуй це слово, змінивши його гендер на п...</td>\n",
       "      <td>отоларингологиня</td>\n",
       "    </tr>\n",
       "  </tbody>\n",
       "</table>\n",
       "</div>"
      ],
      "text/plain": [
       "                                                 inputs  \\\n",
       "2437  Перефразуй це слово, змінивши його гендер на п...   \n",
       "1033  Перефразуй це слово, змінивши його гендер на п...   \n",
       "2575  Перефразуй це слово, змінивши його гендер на п...   \n",
       "1124  Перефразуй це речення, змінивши гендерні сутно...   \n",
       "1942  Перефразуй це слово, змінивши його гендер на п...   \n",
       "\n",
       "                                                targets  \n",
       "2437                                           офіцерка  \n",
       "1033                                          мільярдер  \n",
       "2575                                        пакистанець  \n",
       "1124  Статутні внески найбільшого розміру не задекла...  \n",
       "1942                                   отоларингологиня  "
      ]
     },
     "execution_count": 76,
     "metadata": {},
     "output_type": "execute_result"
    }
   ],
   "source": [
    "test_df.head()"
   ]
  }
 ],
 "metadata": {
  "kernelspec": {
   "display_name": "new_venv",
   "language": "python",
   "name": "python3"
  },
  "language_info": {
   "codemirror_mode": {
    "name": "ipython",
    "version": 3
   },
   "file_extension": ".py",
   "mimetype": "text/x-python",
   "name": "python",
   "nbconvert_exporter": "python",
   "pygments_lexer": "ipython3",
   "version": "3.10.16"
  }
 },
 "nbformat": 4,
 "nbformat_minor": 2
}
