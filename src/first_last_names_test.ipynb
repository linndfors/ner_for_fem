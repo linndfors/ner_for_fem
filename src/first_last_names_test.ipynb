{
 "cells": [
  {
   "cell_type": "code",
   "execution_count": 91,
   "metadata": {},
   "outputs": [],
   "source": [
    "import pandas as pd\n",
    "import numpy as np\n",
    "import re\n",
    "import tqdm"
   ]
  },
  {
   "cell_type": "code",
   "execution_count": 92,
   "metadata": {},
   "outputs": [],
   "source": [
    "first_names_df = pd.read_csv(\"/Users/linndfors/study/diploma/ner_for_fem/src/first_names.with_freqs.csv\")"
   ]
  },
  {
   "cell_type": "code",
   "execution_count": 93,
   "metadata": {},
   "outputs": [
    {
     "data": {
      "text/html": [
       "<div>\n",
       "<style scoped>\n",
       "    .dataframe tbody tr th:only-of-type {\n",
       "        vertical-align: middle;\n",
       "    }\n",
       "\n",
       "    .dataframe tbody tr th {\n",
       "        vertical-align: top;\n",
       "    }\n",
       "\n",
       "    .dataframe thead th {\n",
       "        text-align: right;\n",
       "    }\n",
       "</style>\n",
       "<table border=\"1\" class=\"dataframe\">\n",
       "  <thead>\n",
       "    <tr style=\"text-align: right;\">\n",
       "      <th></th>\n",
       "      <th>name</th>\n",
       "      <th>freq</th>\n",
       "    </tr>\n",
       "  </thead>\n",
       "  <tbody>\n",
       "    <tr>\n",
       "      <th>0</th>\n",
       "      <td>Олександр</td>\n",
       "      <td>0.040368</td>\n",
       "    </tr>\n",
       "    <tr>\n",
       "      <th>1</th>\n",
       "      <td>Володимир</td>\n",
       "      <td>0.034634</td>\n",
       "    </tr>\n",
       "    <tr>\n",
       "      <th>2</th>\n",
       "      <td>Марія</td>\n",
       "      <td>0.032823</td>\n",
       "    </tr>\n",
       "    <tr>\n",
       "      <th>3</th>\n",
       "      <td>Микола</td>\n",
       "      <td>0.032038</td>\n",
       "    </tr>\n",
       "    <tr>\n",
       "      <th>4</th>\n",
       "      <td>Тетяна</td>\n",
       "      <td>0.031082</td>\n",
       "    </tr>\n",
       "  </tbody>\n",
       "</table>\n",
       "</div>"
      ],
      "text/plain": [
       "        name      freq\n",
       "0  Олександр  0.040368\n",
       "1  Володимир  0.034634\n",
       "2      Марія  0.032823\n",
       "3     Микола  0.032038\n",
       "4     Тетяна  0.031082"
      ]
     },
     "execution_count": 93,
     "metadata": {},
     "output_type": "execute_result"
    }
   ],
   "source": [
    "first_names_df.head()"
   ]
  },
  {
   "cell_type": "code",
   "execution_count": 14,
   "metadata": {},
   "outputs": [
    {
     "data": {
      "text/plain": [
       "(82179, 2)"
      ]
     },
     "execution_count": 14,
     "metadata": {},
     "output_type": "execute_result"
    }
   ],
   "source": [
    "first_names_df.shape"
   ]
  },
  {
   "cell_type": "code",
   "execution_count": 95,
   "metadata": {},
   "outputs": [],
   "source": [
    "first_names_df = first_names_df[:267]"
   ]
  },
  {
   "cell_type": "code",
   "execution_count": 96,
   "metadata": {},
   "outputs": [],
   "source": [
    "dict_df = pd.read_csv('/Users/linndfors/study/diploma/dict_uk/out/dict_corp_lt.txt', delimiter=' ', header=None, names=['word', 'lemma', 'grammar'])"
   ]
  },
  {
   "cell_type": "code",
   "execution_count": 97,
   "metadata": {},
   "outputs": [],
   "source": [
    "def define_sex(name):\n",
    "    try:\n",
    "        filtered_df = dict_df[(dict_df['lemma'] == name) & (dict_df['word'] == name)]\n",
    "        if not filtered_df.empty:\n",
    "            grammar_pers = filtered_df['grammar'].iloc[0]\n",
    "\n",
    "            if re.search(r'\\bf\\b', grammar_pers):\n",
    "                return \"F\"\n",
    "            elif re.search(r'\\bm\\b', grammar_pers):\n",
    "                return \"M\"\n",
    "            else:\n",
    "                return \"Unknown\"\n",
    "        else:\n",
    "            print(\"No matches found for:\", name)\n",
    "            return \"Unknown\"\n",
    "    except Exception as e:\n",
    "        print(\"error\", e)\n",
    "        return \"Unknown\""
   ]
  },
  {
   "cell_type": "code",
   "execution_count": 98,
   "metadata": {},
   "outputs": [
    {
     "name": "stdout",
     "output_type": "stream",
     "text": [
      "No matches found for: Зинаіда\n",
      "No matches found for: Лилія\n",
      "No matches found for: Таісія\n",
      "No matches found for: Прасков'я\n",
      "No matches found for: Жана\n",
      "No matches found for: Павліна\n",
      "No matches found for: Прасковія\n",
      "No matches found for: Дарья\n",
      "No matches found for: Євгена\n",
      "No matches found for: Полина\n",
      "No matches found for: Нелля\n",
      "No matches found for: Леоніда\n",
      "No matches found for: Раіса\n",
      "No matches found for: Таіса\n",
      "No matches found for: Зінаіда\n",
      "No matches found for: Олєся\n",
      "No matches found for: Рима\n",
      "No matches found for: Домніка\n",
      "No matches found for: Матрона\n"
     ]
    }
   ],
   "source": [
    "first_names_df['sex'] = first_names_df['name'].apply(define_sex)"
   ]
  },
  {
   "cell_type": "code",
   "execution_count": 99,
   "metadata": {},
   "outputs": [
    {
     "data": {
      "text/plain": [
       "(267, 3)"
      ]
     },
     "execution_count": 99,
     "metadata": {},
     "output_type": "execute_result"
    }
   ],
   "source": [
    "first_names_df.shape"
   ]
  },
  {
   "cell_type": "code",
   "execution_count": 100,
   "metadata": {},
   "outputs": [],
   "source": [
    "first_names_with_sex_df = first_names_df[first_names_df['sex'].isin(['F', 'M'])]"
   ]
  },
  {
   "cell_type": "code",
   "execution_count": 101,
   "metadata": {},
   "outputs": [
    {
     "data": {
      "text/plain": [
       "(248, 3)"
      ]
     },
     "execution_count": 101,
     "metadata": {},
     "output_type": "execute_result"
    }
   ],
   "source": [
    "first_names_with_sex_df.shape"
   ]
  },
  {
   "cell_type": "code",
   "execution_count": 103,
   "metadata": {},
   "outputs": [
    {
     "data": {
      "text/html": [
       "<div>\n",
       "<style scoped>\n",
       "    .dataframe tbody tr th:only-of-type {\n",
       "        vertical-align: middle;\n",
       "    }\n",
       "\n",
       "    .dataframe tbody tr th {\n",
       "        vertical-align: top;\n",
       "    }\n",
       "\n",
       "    .dataframe thead th {\n",
       "        text-align: right;\n",
       "    }\n",
       "</style>\n",
       "<table border=\"1\" class=\"dataframe\">\n",
       "  <thead>\n",
       "    <tr style=\"text-align: right;\">\n",
       "      <th></th>\n",
       "      <th>name</th>\n",
       "      <th>freq</th>\n",
       "      <th>sex</th>\n",
       "    </tr>\n",
       "  </thead>\n",
       "  <tbody>\n",
       "    <tr>\n",
       "      <th>0</th>\n",
       "      <td>Олександр</td>\n",
       "      <td>0.040368</td>\n",
       "      <td>M</td>\n",
       "    </tr>\n",
       "    <tr>\n",
       "      <th>1</th>\n",
       "      <td>Володимир</td>\n",
       "      <td>0.034634</td>\n",
       "      <td>M</td>\n",
       "    </tr>\n",
       "    <tr>\n",
       "      <th>2</th>\n",
       "      <td>Марія</td>\n",
       "      <td>0.032823</td>\n",
       "      <td>F</td>\n",
       "    </tr>\n",
       "    <tr>\n",
       "      <th>3</th>\n",
       "      <td>Микола</td>\n",
       "      <td>0.032038</td>\n",
       "      <td>M</td>\n",
       "    </tr>\n",
       "    <tr>\n",
       "      <th>4</th>\n",
       "      <td>Тетяна</td>\n",
       "      <td>0.031082</td>\n",
       "      <td>F</td>\n",
       "    </tr>\n",
       "    <tr>\n",
       "      <th>5</th>\n",
       "      <td>Сергій</td>\n",
       "      <td>0.029062</td>\n",
       "      <td>M</td>\n",
       "    </tr>\n",
       "    <tr>\n",
       "      <th>6</th>\n",
       "      <td>Олена</td>\n",
       "      <td>0.028661</td>\n",
       "      <td>F</td>\n",
       "    </tr>\n",
       "    <tr>\n",
       "      <th>7</th>\n",
       "      <td>Ганна</td>\n",
       "      <td>0.027882</td>\n",
       "      <td>F</td>\n",
       "    </tr>\n",
       "    <tr>\n",
       "      <th>8</th>\n",
       "      <td>Ольга</td>\n",
       "      <td>0.026218</td>\n",
       "      <td>F</td>\n",
       "    </tr>\n",
       "    <tr>\n",
       "      <th>9</th>\n",
       "      <td>Наталія</td>\n",
       "      <td>0.024431</td>\n",
       "      <td>F</td>\n",
       "    </tr>\n",
       "  </tbody>\n",
       "</table>\n",
       "</div>"
      ],
      "text/plain": [
       "        name      freq sex\n",
       "0  Олександр  0.040368   M\n",
       "1  Володимир  0.034634   M\n",
       "2      Марія  0.032823   F\n",
       "3     Микола  0.032038   M\n",
       "4     Тетяна  0.031082   F\n",
       "5     Сергій  0.029062   M\n",
       "6      Олена  0.028661   F\n",
       "7      Ганна  0.027882   F\n",
       "8      Ольга  0.026218   F\n",
       "9    Наталія  0.024431   F"
      ]
     },
     "execution_count": 103,
     "metadata": {},
     "output_type": "execute_result"
    }
   ],
   "source": [
    "first_names_with_sex_df.head(10)"
   ]
  },
  {
   "cell_type": "code",
   "execution_count": 166,
   "metadata": {},
   "outputs": [],
   "source": [
    "first_names_with_sex_df.to_csv(\"first_names_frequency_popular.csv\")"
   ]
  },
  {
   "cell_type": "code",
   "execution_count": 104,
   "metadata": {},
   "outputs": [],
   "source": [
    "def generate_random_name(df, n=1, sex=None):\n",
    "    \"\"\"\n",
    "    Generate random names based on frequency and optional sex filter.\n",
    "    \n",
    "    Args:\n",
    "        df (pd.DataFrame): DataFrame containing 'name', 'freq', and 'sex' columns.\n",
    "        n (int): Number of random names to generate.\n",
    "        sex (str or None): 'M' for male, 'F' for female, or None for no filter.\n",
    "        \n",
    "    Returns:\n",
    "        list: List of randomly selected names.\n",
    "    \"\"\"\n",
    "    # Filter by sex if provided\n",
    "    if sex:\n",
    "        df = df[df['sex'] == sex]\n",
    "    \n",
    "    names = df['name']\n",
    "    frequencies = df['freq']\n",
    "    \n",
    "    # Use numpy to randomly choose names weighted by frequency\n",
    "    return list(np.random.choice(names, size=n, p=frequencies/np.sum(frequencies)))"
   ]
  },
  {
   "cell_type": "code",
   "execution_count": 182,
   "metadata": {},
   "outputs": [
    {
     "name": "stdout",
     "output_type": "stream",
     "text": [
      "['Валерій', 'Олег', 'Олег']\n"
     ]
    }
   ],
   "source": [
    "print(generate_random_name(first_names_with_sex_df, 3, 'M'))"
   ]
  }
 ],
 "metadata": {
  "kernelspec": {
   "display_name": "new_venv",
   "language": "python",
   "name": "python3"
  },
  "language_info": {
   "codemirror_mode": {
    "name": "ipython",
    "version": 3
   },
   "file_extension": ".py",
   "mimetype": "text/x-python",
   "name": "python",
   "nbconvert_exporter": "python",
   "pygments_lexer": "ipython3",
   "version": "3.10.16"
  }
 },
 "nbformat": 4,
 "nbformat_minor": 2
}
