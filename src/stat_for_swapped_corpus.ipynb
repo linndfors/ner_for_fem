{
 "cells": [
  {
   "cell_type": "code",
   "execution_count": 3,
   "id": "421e17e1",
   "metadata": {},
   "outputs": [
    {
     "name": "stdout",
     "output_type": "stream",
     "text": [
      "Label      | Count\n",
      "--------------------\n",
      "JOB        | 635  \n",
      "PERS       | 326  \n",
      "ART        | 39   \n",
      "DATE       | 52   \n",
      "DOC        | 9    \n",
      "LOC        | 107  \n",
      "MISC       | 23   \n",
      "MON        | 0    \n",
      "ORG        | 117  \n",
      "PCT        | 1    \n",
      "PERIOD     | 11   \n",
      "QUANT      | 13   \n",
      "TIME       | 2    \n"
     ]
    }
   ],
   "source": [
    "import os\n",
    "from collections import Counter\n",
    "\n",
    "# Path to the folder with .ann files\n",
    "ann_folder = \"/Users/linndfors/study/diploma/ner_for_fem/data/v2.0-swapped/data/bruk\"\n",
    "\n",
    "# List of target labels\n",
    "labels = [\n",
    "    \"JOB\", \"PERS\", \"ART\", \"DATE\", \"DOC\", \"LOC\", \"MISC\",\n",
    "    \"MON\", \"ORG\", \"PCT\", \"PERIOD\", \"QUANT\", \"TIME\"\n",
    "]\n",
    "\n",
    "# Initialize counter\n",
    "label_counts = Counter()\n",
    "\n",
    "# Iterate through all .ann files\n",
    "for filename in os.listdir(ann_folder):\n",
    "    if filename.endswith(\".ann\"):\n",
    "        with open(os.path.join(ann_folder, filename), \"r\", encoding=\"utf-8\") as f:\n",
    "            for line in f:\n",
    "                parts = line.strip().split(\"\\t\")\n",
    "                if len(parts) >= 2:\n",
    "                    label_info = parts[1].split()\n",
    "                    if label_info:\n",
    "                        label = label_info[0]\n",
    "                        if label in labels:\n",
    "                            label_counts[label] += 1\n",
    "\n",
    "# Print the table\n",
    "print(f\"{'Label':<10} | {'Count':<5}\")\n",
    "print(\"-\" * 20)\n",
    "for label in labels:\n",
    "    count = label_counts.get(label, 0)\n",
    "    print(f\"{label:<10} | {count:<5}\")\n"
   ]
  },
  {
   "cell_type": "code",
   "execution_count": null,
   "id": "a970df83",
   "metadata": {},
   "outputs": [],
   "source": []
  }
 ],
 "metadata": {
  "kernelspec": {
   "display_name": "new_venv",
   "language": "python",
   "name": "python3"
  },
  "language_info": {
   "codemirror_mode": {
    "name": "ipython",
    "version": 3
   },
   "file_extension": ".py",
   "mimetype": "text/x-python",
   "name": "python",
   "nbconvert_exporter": "python",
   "pygments_lexer": "ipython3",
   "version": "3.10.16"
  }
 },
 "nbformat": 4,
 "nbformat_minor": 5
}
