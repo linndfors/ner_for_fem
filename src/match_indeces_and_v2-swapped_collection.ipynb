{
 "cells": [
  {
   "cell_type": "code",
   "execution_count": null,
   "metadata": {},
   "outputs": [],
   "source": [
    "import pandas as pd\n",
    "import os\n",
    "import shutil\n",
    "from pathlib import Path"
   ]
  },
  {
   "cell_type": "code",
   "execution_count": null,
   "metadata": {},
   "outputs": [],
   "source": [
    "swapped_bruk_folder = \"/Users/linndfors/study/diploma/data_to_change_T_numbers_NER/bruk_changed\"\n",
    "swapped_ng_folder = \"/Users/linndfors/study/diploma/data_to_change_T_numbers_NER/ng_changed\"\n",
    "\n",
    "orig_bruk_folder = \"/Users/linndfors/study/diploma/ner_for_fem/data/DATA_FOR_BALANCED_NER/bruk\"\n",
    "orig_ng_folder = \"/Users/linndfors/study/diploma/ner_for_fem/data/DATA_FOR_BALANCED_NER/ng\""
   ]
  },
  {
   "cell_type": "code",
   "execution_count": null,
   "metadata": {},
   "outputs": [],
   "source": [
    "def save_indices_to_meta(source_path, indices):\n",
    "    meta_filename = source_path.replace(\".ann\", \".meta\")\n",
    "    with open(meta_filename, 'w', encoding='utf-8') as meta_file:\n",
    "        for index in indices.values():\n",
    "            meta_file.write(f\"{index}\\n\")"
   ]
  },
  {
   "cell_type": "code",
   "execution_count": null,
   "metadata": {},
   "outputs": [],
   "source": [
    "def find_entity_line(text, start_idx, end_idx):\n",
    "    lines = text.split(\"\\n\")\n",
    "    char_index = 0\n",
    "\n",
    "    for i, line in enumerate(lines):\n",
    "        line_start = char_index\n",
    "        line_end = line_start + len(line)\n",
    "        \n",
    "        if line_start <= start_idx < line_end:\n",
    "            return i, line\n",
    "        \n",
    "        char_index = line_end + 1\n",
    "    print(\"no match for the\", start_idx, end_idx)\n",
    "    return None, None \n",
    "\n",
    "def find_orig_sent_id(orig_path_ann, tag):\n",
    "    with open(orig_path_ann, 'r', encoding='utf-8') as file:\n",
    "            ann_lines = file.readlines()\n",
    "\n",
    "    orig_path_txt = orig_path_ann.replace(\".ann\", \".txt\")\n",
    "    with open(orig_path_txt, 'r', encoding='utf-8') as file:\n",
    "            text = file.read()\n",
    "\n",
    "    for line in ann_lines:\n",
    "        parts = line.strip().split('\\t')\n",
    "        if len(parts) >= 3:\n",
    "            if parts[0] == tag:\n",
    "                start_ind, end_ind = int(parts[2]), int(parts[3])\n",
    "                sent_ind = find_entity_line(text, start_ind, end_ind)\n",
    "                return sent_ind[0]\n",
    "            \n",
    "def find_indeces(source_path, orig_path):\n",
    "    filename = os.path.basename(source_path) \n",
    "\n",
    "    orig_filename = filename.replace(\"_1_filtered.ann\", \".ann\")\n",
    "    orig_file_path = os.path.join(orig_path, orig_filename)\n",
    "    tags_with_indx = {}\n",
    "\n",
    "    with open(source_path, 'r', encoding='utf-8') as file:\n",
    "            ann_lines = file.readlines()\n",
    "\n",
    "    for line in ann_lines:\n",
    "        parts = line.strip().split('\\t')\n",
    "        if len(parts) >= 3:\n",
    "            if parts[1] in [\"JOB\", \"PERS\"]:\n",
    "                tag = parts[0]\n",
    "                orig_sent_id = find_orig_sent_id(orig_file_path, tag)\n",
    "                if orig_sent_id is None:\n",
    "                    print(f\"Cannot find a relevant index for file {source_path}, the row: {parts}\")\n",
    "                    return\n",
    "                else:\n",
    "                    tags_with_indx[tag] = orig_sent_id\n",
    "\n",
    "    save_indices_to_meta(source_path, tags_with_indx)\n"
   ]
  },
  {
   "cell_type": "code",
   "execution_count": null,
   "metadata": {},
   "outputs": [],
   "source": [
    "# find_indeces(\"/Users/linndfors/study/diploma/data_to_change_T_numbers_NER/bruk_changed/0ac5140eb732_1_filtered.ann\", \"/Users/linndfors/study/diploma/ner_for_fem/data/DATA_FOR_BALANCED_NER/bruk\")"
   ]
  },
  {
   "cell_type": "code",
   "execution_count": null,
   "metadata": {},
   "outputs": [],
   "source": [
    "def process_ann_files(directory, orig_path):\n",
    "    for filename in os.listdir(directory):\n",
    "        if filename.endswith(\".ann\"):\n",
    "            source_path = os.path.join(directory, filename)\n",
    "            find_indeces(source_path, orig_path)"
   ]
  },
  {
   "cell_type": "code",
   "execution_count": null,
   "metadata": {},
   "outputs": [],
   "source": [
    "def copy_meta_files(src_dir, dest_dir):\n",
    "    Path(dest_dir).mkdir(parents=True, exist_ok=True)\n",
    "    \n",
    "    for filepath in Path(src_dir).rglob('*.meta'):\n",
    "        if filepath.is_file():\n",
    "            modified_filepath = str(filepath).replace(\"_1_filtered\", \"_1\")\n",
    "            \n",
    "            dest_filepath = Path(dest_dir) / Path(modified_filepath).name\n",
    "            shutil.copy(filepath, dest_filepath)\n",
    "            # print(f\"Copied: {dest_filepath.name} to {dest_filepath}\")"
   ]
  },
  {
   "cell_type": "markdown",
   "metadata": {},
   "source": [
    "### bruk"
   ]
  },
  {
   "cell_type": "code",
   "execution_count": null,
   "metadata": {},
   "outputs": [],
   "source": [
    "process_ann_files(\"/Users/linndfors/study/diploma/data_to_change_T_numbers_NER/bruk_changed\", \"/Users/linndfors/study/diploma/ner_for_fem/data/DATA_FOR_BALANCED_NER/bruk\")"
   ]
  },
  {
   "cell_type": "code",
   "execution_count": null,
   "metadata": {},
   "outputs": [],
   "source": [
    "src_directory = \"/Users/linndfors/study/diploma/data_to_change_T_numbers_NER/bruk_changed\"\n",
    "dest_directory = \"/Users/linndfors/study/diploma/ner_for_fem/data/DATA_FOR_BALANCED_NER/bruk_changed\"\n",
    "\n",
    "copy_meta_files(src_directory, dest_directory)"
   ]
  },
  {
   "cell_type": "markdown",
   "metadata": {},
   "source": [
    "### ng"
   ]
  },
  {
   "cell_type": "code",
   "execution_count": null,
   "metadata": {},
   "outputs": [],
   "source": [
    "process_ann_files(\"/Users/linndfors/study/diploma/data_to_change_T_numbers_NER/ng_changed\", \"/Users/linndfors/study/diploma/ner_for_fem/data/DATA_FOR_BALANCED_NER/ng\")"
   ]
  },
  {
   "cell_type": "code",
   "execution_count": null,
   "metadata": {},
   "outputs": [],
   "source": [
    "src_directory = \"/Users/linndfors/study/diploma/data_to_change_T_numbers_NER/ng_changed\"\n",
    "dest_directory = \"/Users/linndfors/study/diploma/ner_for_fem/data/DATA_FOR_BALANCED_NER/ng_changed\"\n",
    "\n",
    "copy_meta_files(src_directory, dest_directory)"
   ]
  },
  {
   "cell_type": "markdown",
   "metadata": {},
   "source": [
    "# To v2.0-swapped"
   ]
  },
  {
   "cell_type": "code",
   "execution_count": null,
   "metadata": {},
   "outputs": [],
   "source": [
    "def rename_and_move_files(src_dir, dest_dir):\n",
    "    Path(dest_dir).mkdir(parents=True, exist_ok=True)\n",
    "\n",
    "    for filepath in Path(src_dir).rglob('*_1*'):\n",
    "        new_name = filepath.name.replace('_1', '-swapped')\n",
    "        new_path = Path(dest_dir) / new_name\n",
    "        \n",
    "        shutil.copy(filepath, new_path)\n",
    "        # print(f'Copied & Renamed: {filepath.name} -> {new_name}')"
   ]
  },
  {
   "cell_type": "code",
   "execution_count": null,
   "metadata": {},
   "outputs": [],
   "source": [
    "src_directory = \"/Users/linndfors/study/diploma/ner_for_fem/data/DATA_FOR_BALANCED_NER/bruk_changed\"\n",
    "dest_directory = \"/Users/linndfors/study/diploma/ner_for_fem/data/v2.0-swapped/bruk\"\n",
    "\n",
    "rename_and_move_files(src_directory, dest_directory)"
   ]
  },
  {
   "cell_type": "code",
   "execution_count": null,
   "metadata": {},
   "outputs": [],
   "source": [
    "src_directory = \"/Users/linndfors/study/diploma/ner_for_fem/data/DATA_FOR_BALANCED_NER/ng_changed\"\n",
    "dest_directory = \"/Users/linndfors/study/diploma/ner_for_fem/data/v2.0-swapped/ng\"\n",
    "\n",
    "rename_and_move_files(src_directory, dest_directory)"
   ]
  },
  {
   "cell_type": "markdown",
   "metadata": {},
   "source": [
    "add original files"
   ]
  },
  {
   "cell_type": "code",
   "execution_count": null,
   "metadata": {},
   "outputs": [],
   "source": [
    "def copy_all_files(src_dir, dest_dir):\n",
    "    Path(dest_dir).mkdir(parents=True, exist_ok=True)\n",
    "\n",
    "    for file in Path(src_dir).iterdir():\n",
    "        if file.is_file():\n",
    "            shutil.copy(file, dest_dir)\n",
    "            # print(f\"Copied: {file.name} -> {dest_dir}\")"
   ]
  },
  {
   "cell_type": "code",
   "execution_count": null,
   "metadata": {},
   "outputs": [],
   "source": [
    "src_directory = \"/Users/linndfors/study/diploma/ner_for_fem/data/DATA_FOR_BALANCED_NER/ng\"\n",
    "dest_directory = \"/Users/linndfors/study/diploma/ner_for_fem/data/v2.0-swapped/ng\"\n",
    "\n",
    "copy_all_files(src_directory, dest_directory)"
   ]
  },
  {
   "cell_type": "code",
   "execution_count": null,
   "metadata": {},
   "outputs": [],
   "source": [
    "src_directory = \"/Users/linndfors/study/diploma/ner_for_fem/data/DATA_FOR_BALANCED_NER/bruk\"\n",
    "dest_directory = \"/Users/linndfors/study/diploma/ner_for_fem/data/v2.0-swapped/bruk\"\n",
    "\n",
    "copy_all_files(src_directory, dest_directory)"
   ]
  }
 ],
 "metadata": {
  "kernelspec": {
   "display_name": "new_venv",
   "language": "python",
   "name": "python3"
  },
  "language_info": {
   "codemirror_mode": {
    "name": "ipython",
    "version": 3
   },
   "file_extension": ".py",
   "mimetype": "text/x-python",
   "name": "python",
   "nbconvert_exporter": "python",
   "pygments_lexer": "ipython3",
   "version": "3.10.16"
  }
 },
 "nbformat": 4,
 "nbformat_minor": 2
}
