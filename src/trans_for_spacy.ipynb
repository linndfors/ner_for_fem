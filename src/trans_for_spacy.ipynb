{
 "cells": [
  {
   "cell_type": "code",
   "execution_count": null,
   "metadata": {},
   "outputs": [],
   "source": [
    "# !pip install -q transformers"
   ]
  },
  {
   "cell_type": "code",
   "execution_count": 1,
   "metadata": {},
   "outputs": [
    {
     "name": "stderr",
     "output_type": "stream",
     "text": [
      "/Users/linndfors/study/diploma/new_venv/lib/python3.10/site-packages/transformers/utils/generic.py:441: UserWarning: torch.utils._pytree._register_pytree_node is deprecated. Please use torch.utils._pytree.register_pytree_node instead.\n",
      "  _torch_pytree._register_pytree_node(\n"
     ]
    },
    {
     "data": {
      "application/vnd.jupyter.widget-view+json": {
       "model_id": "9837cc3747734a6bafa11ec6b8ef3b7b",
       "version_major": 2,
       "version_minor": 0
      },
      "text/plain": [
       "Downloading https://raw.githubusercontent.com/stanfordnlp/stanza-resources/main/resources_1.10.0.json:   0%|  …"
      ]
     },
     "metadata": {},
     "output_type": "display_data"
    },
    {
     "name": "stderr",
     "output_type": "stream",
     "text": [
      "2025-03-03 00:14:15 INFO: Downloaded file to /Users/linndfors/stanza_resources/resources.json\n",
      "2025-03-03 00:14:15 INFO: Downloading default packages for language: uk (Ukrainian) ...\n"
     ]
    },
    {
     "data": {
      "application/vnd.jupyter.widget-view+json": {
       "model_id": "2b34b414532d4ea0b91c479ac6d9f490",
       "version_major": 2,
       "version_minor": 0
      },
      "text/plain": [
       "Downloading https://huggingface.co/stanfordnlp/stanza-uk/resolve/v1.10.0/models/default.zip:   0%|          | …"
      ]
     },
     "metadata": {},
     "output_type": "display_data"
    },
    {
     "name": "stderr",
     "output_type": "stream",
     "text": [
      "2025-03-03 00:14:26 INFO: Downloaded file to /Users/linndfors/stanza_resources/uk/default.zip\n",
      "2025-03-03 00:14:29 INFO: Finished downloading models and saved to /Users/linndfors/stanza_resources\n"
     ]
    }
   ],
   "source": [
    "import stanza\n",
    "\n",
    "stanza.download('uk')"
   ]
  },
  {
   "cell_type": "code",
   "execution_count": null,
   "metadata": {},
   "outputs": [],
   "source": [
    "import stanza\n",
    "\n",
    "# Define the training and dev (validation) file paths\n",
    "train_file = 'path/to/your/train.conllu'\n",
    "dev_file = 'path/to/your/dev.conllu'\n",
    "model_name = 'uk_custom_ner'\n",
    "\n",
    "# Configure the training pipeline\n",
    "config = {\n",
    "    'train_file': train_file,\n",
    "    'eval_file': dev_file,\n",
    "    'lang': 'uk',\n",
    "    'shorthand': 'uk_custom',\n",
    "    'save_name': model_name,\n",
    "    'ner_max_epochs': 50, # Adjust as needed\n",
    "    'ner_batch_size': 32, # Adjust as needed\n",
    "    'treebank': 'custom',\n",
    "    'processors': 'tokenize,mwt,pos,lemma,ner'\n",
    "}\n",
    "\n",
    "# Train the NER model\n",
    "stanza.train(config)\n",
    "\n",
    "print(f\"Trained NER model saved as {model_name}.\")"
   ]
  },
  {
   "cell_type": "code",
   "execution_count": 7,
   "metadata": {},
   "outputs": [
    {
     "name": "stdout",
     "output_type": "stream",
     "text": [
      "\u001b[38;5;4mℹ Saving to output directory: output\u001b[0m\n",
      "\u001b[38;5;4mℹ Using CPU\u001b[0m\n",
      "\u001b[38;5;4mℹ To switch to GPU 0, use the option: --gpu-id 0\u001b[0m\n",
      "\u001b[1m\n",
      "=========================== Initializing pipeline ===========================\u001b[0m\n",
      "/Users/linndfors/study/diploma/new_venv/lib/python3.10/site-packages/transformers/utils/generic.py:441: UserWarning: torch.utils._pytree._register_pytree_node is deprecated. Please use torch.utils._pytree.register_pytree_node instead.\n",
      "  _torch_pytree._register_pytree_node(\n",
      "/Users/linndfors/study/diploma/new_venv/lib/python3.10/site-packages/transformers/utils/generic.py:309: UserWarning: torch.utils._pytree._register_pytree_node is deprecated. Please use torch.utils._pytree.register_pytree_node instead.\n",
      "  _torch_pytree._register_pytree_node(\n",
      "/Users/linndfors/study/diploma/new_venv/lib/python3.10/site-packages/huggingface_hub/file_download.py:795: FutureWarning: `resume_download` is deprecated and will be removed in version 1.0.0. Downloads always resume when possible. If you want to force a new download, use `force_download=True`.\n",
      "  warnings.warn(\n",
      "tokenizer_config.json: 100%|████████████████████| 466/466 [00:00<00:00, 202kB/s]\n",
      "vocab.json: 100%|██████████████████████████| 1.72M/1.72M [00:00<00:00, 3.78MB/s]\n",
      "merges.txt: 100%|██████████████████████████| 1.38M/1.38M [00:00<00:00, 3.16MB/s]\n",
      "tokenizer.json: 100%|██████████████████████| 3.95M/3.95M [00:00<00:00, 6.79MB/s]\n",
      "special_tokens_map.json: 100%|█████████████████| 239/239 [00:00<00:00, 1.63MB/s]\n",
      "config.json: 100%|█████████████████████████████| 682/682 [00:00<00:00, 4.58MB/s]\n",
      "model.safetensors: 100%|███████████████████| 1.42G/1.42G [00:28<00:00, 50.5MB/s]\n",
      "Some weights of RobertaModel were not initialized from the model checkpoint at benjamin/roberta-large-wechsel-ukrainian and are newly initialized: ['roberta.pooler.dense.weight', 'roberta.pooler.dense.bias']\n",
      "You should probably TRAIN this model on a down-stream task to be able to use it for predictions and inference.\n",
      "\u001b[38;5;2m✔ Initialized pipeline\u001b[0m\n",
      "\u001b[1m\n",
      "============================= Training pipeline =============================\u001b[0m\n",
      "\u001b[38;5;4mℹ Pipeline: ['transformer', 'ner']\u001b[0m\n",
      "\u001b[38;5;4mℹ Initial learn rate: 1e-05\u001b[0m\n",
      "E    #       LOSS TRANS...  LOSS NER  ENTS_F  ENTS_P  ENTS_R  SCORE \n",
      "---  ------  -------------  --------  ------  ------  ------  ------\n",
      "^C\n",
      "\n",
      "\u001b[31mAborted.\u001b[0m\n"
     ]
    }
   ],
   "source": [
    "!python -m spacy train /Users/linndfors/study/diploma/ner_for_fem/config.cfg --output ./output"
   ]
  },
  {
   "cell_type": "code",
   "execution_count": 15,
   "metadata": {},
   "outputs": [
    {
     "name": "stdout",
     "output_type": "stream",
     "text": [
      "\u001b[38;5;4mℹ Auto-detected token-per-line NER format\u001b[0m\n",
      "\u001b[38;5;4mℹ Grouping every 1 sentences into a document.\u001b[0m\n",
      "\u001b[38;5;3m⚠ To generate better training data, you may want to group sentences\n",
      "into documents with `-n 10`.\u001b[0m\n",
      "/Users/linndfors/study/diploma/new_venv/lib/python3.10/site-packages/transformers/utils/generic.py:441: UserWarning: torch.utils._pytree._register_pytree_node is deprecated. Please use torch.utils._pytree.register_pytree_node instead.\n",
      "  _torch_pytree._register_pytree_node(\n",
      "/Users/linndfors/study/diploma/new_venv/lib/python3.10/site-packages/transformers/utils/generic.py:309: UserWarning: torch.utils._pytree._register_pytree_node is deprecated. Please use torch.utils._pytree.register_pytree_node instead.\n",
      "  _torch_pytree._register_pytree_node(\n",
      "\u001b[38;5;2m✔ Generated output file (1 documents): test.json\u001b[0m\n"
     ]
    }
   ],
   "source": [
    "!python -m spacy convert /Users/linndfors/study/diploma/ner_for_fem/data/res/Ukrainian-languk-2.0-outer/test.iob ./ -t json -c iob"
   ]
  },
  {
   "cell_type": "code",
   "execution_count": 16,
   "metadata": {},
   "outputs": [
    {
     "name": "stdout",
     "output_type": "stream",
     "text": [
      "/Users/linndfors/study/diploma/new_venv/lib/python3.10/site-packages/transformers/utils/generic.py:441: UserWarning: torch.utils._pytree._register_pytree_node is deprecated. Please use torch.utils._pytree.register_pytree_node instead.\n",
      "  _torch_pytree._register_pytree_node(\n",
      "/Users/linndfors/study/diploma/new_venv/lib/python3.10/site-packages/transformers/utils/generic.py:309: UserWarning: torch.utils._pytree._register_pytree_node is deprecated. Please use torch.utils._pytree.register_pytree_node instead.\n",
      "  _torch_pytree._register_pytree_node(\n",
      "\u001b[38;5;2m✔ Generated output file (9739 documents): test.spacy\u001b[0m\n"
     ]
    }
   ],
   "source": [
    "!python -m spacy convert /Users/linndfors/study/diploma/ner_for_fem/src/test.json ./ -t spacy"
   ]
  },
  {
   "cell_type": "code",
   "execution_count": 7,
   "metadata": {},
   "outputs": [
    {
     "name": "stdout",
     "output_type": "stream",
     "text": [
      "All files have been renamed successfully!\n"
     ]
    }
   ],
   "source": [
    "from pathlib import Path\n",
    "\n",
    "# Define your directory\n",
    "directory = Path(\"/Users/linndfors/study/diploma/ner_for_fem/data/data_for_ner_new/ng_changed\")\n",
    "\n",
    "for file in directory.iterdir():\n",
    "    if file.is_file():  # Ensure it's a file (not a folder)\n",
    "        new_name = file.stem + \"_1\" + file.suffix  # Add \"_1\" before extension\n",
    "        new_path = file.with_name(new_name)\n",
    "        file.rename(new_path)\n",
    "\n",
    "print(\"All files have been renamed successfully!\")"
   ]
  },
  {
   "cell_type": "code",
   "execution_count": 8,
   "metadata": {},
   "outputs": [
    {
     "name": "stdout",
     "output_type": "stream",
     "text": [
      "File processed successfully! Output saved to /Users/linndfors/study/diploma/ner_for_fem/data/dev-test-split-balanced.txt\n"
     ]
    }
   ],
   "source": [
    "from pathlib import Path\n",
    "\n",
    "# Define input and output file paths\n",
    "input_file = Path(\"/Users/linndfors/study/diploma/ner_for_fem/data/dev-test-split.txt\")  # Replace with your actual file path\n",
    "output_file = Path(\"/Users/linndfors/study/diploma/ner_for_fem/data/dev-test-split-balanced.txt\")  # Replace with the desired output file name\n",
    "\n",
    "# Read the original file and process lines\n",
    "with input_file.open(\"r\") as f:\n",
    "    lines = [line.strip() for line in f]  # Read and remove any extra spaces/newlines\n",
    "\n",
    "# Create new lines with \"_1\" added\n",
    "modified_lines = [line + \"\\n\" + line + \"_1\" for line in lines]\n",
    "\n",
    "# Write to the new file\n",
    "with output_file.open(\"w\") as f:\n",
    "    f.write(\"\\n\".join(modified_lines))\n",
    "\n",
    "print(f\"File processed successfully! Output saved to {output_file}\")\n"
   ]
  }
 ],
 "metadata": {
  "kernelspec": {
   "display_name": "new_venv",
   "language": "python",
   "name": "python3"
  },
  "language_info": {
   "codemirror_mode": {
    "name": "ipython",
    "version": 3
   },
   "file_extension": ".py",
   "mimetype": "text/x-python",
   "name": "python",
   "nbconvert_exporter": "python",
   "pygments_lexer": "ipython3",
   "version": "3.10.16"
  }
 },
 "nbformat": 4,
 "nbformat_minor": 2
}
