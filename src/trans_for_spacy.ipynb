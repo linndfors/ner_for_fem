{
 "cells": [
  {
   "cell_type": "markdown",
   "metadata": {},
   "source": [
    "### test"
   ]
  },
  {
   "cell_type": "code",
   "execution_count": 5,
   "metadata": {},
   "outputs": [
    {
     "name": "stdout",
     "output_type": "stream",
     "text": [
      "\u001b[38;5;4mℹ Auto-detected token-per-line NER format\u001b[0m\n",
      "\u001b[38;5;4mℹ Grouping every 1 sentences into a document.\u001b[0m\n",
      "\u001b[38;5;3m⚠ To generate better training data, you may want to group sentences\n",
      "into documents with `-n 10`.\u001b[0m\n",
      "\u001b[38;5;2m✔ Generated output file (1 documents):\n",
      "/Users/linndfors/study/diploma/ner_for_fem/data/spacy_files_for_ner/swapped_ner/test.json\u001b[0m\n",
      "\u001b[38;5;2m✔ Generated output file (222 documents):\n",
      "/Users/linndfors/study/diploma/ner_for_fem/data/spacy_files_for_ner/swapped_ner/test.spacy\u001b[0m\n"
     ]
    }
   ],
   "source": [
    "!python -m spacy convert /Users/linndfors/study/diploma/ner_for_fem/data/iob_format/swapped_iob_format/Ukrainian-languk-2.0-outer/test.iob /Users/linndfors/study/diploma/ner_for_fem/data/spacy_files_for_ner/swapped_ner -t json -c iob\n",
    "!python -m spacy convert /Users/linndfors/study/diploma/ner_for_fem/data/spacy_files_for_ner/swapped_ner/test.json /Users/linndfors/study/diploma/ner_for_fem/data/spacy_files_for_ner/swapped_ner -t spacy"
   ]
  },
  {
   "cell_type": "markdown",
   "metadata": {},
   "source": [
    "### train"
   ]
  },
  {
   "cell_type": "code",
   "execution_count": 2,
   "metadata": {},
   "outputs": [
    {
     "name": "stdout",
     "output_type": "stream",
     "text": [
      "\u001b[38;5;4mℹ Auto-detected token-per-line NER format\u001b[0m\n",
      "\u001b[38;5;4mℹ Grouping every 1 sentences into a document.\u001b[0m\n",
      "\u001b[38;5;3m⚠ To generate better training data, you may want to group sentences\n",
      "into documents with `-n 10`.\u001b[0m\n",
      "\u001b[38;5;2m✔ Generated output file (1 documents):\n",
      "/Users/linndfors/study/diploma/ner_for_fem/data/spacy_files_for_ner/balanced_ner/train.json\u001b[0m\n",
      "\u001b[38;5;2m✔ Generated output file (10381 documents):\n",
      "/Users/linndfors/study/diploma/ner_for_fem/data/spacy_files_for_ner/balanced_ner/train.spacy\u001b[0m\n"
     ]
    }
   ],
   "source": [
    "!python -m spacy convert /Users/linndfors/study/diploma/ner_for_fem/data/iob_format/balanced_iob_format/Ukrainian-languk-2.0-outer/train.iob /Users/linndfors/study/diploma/ner_for_fem/data/spacy_files_for_ner/balanced_ner -t json -c iob\n",
    "!python -m spacy convert /Users/linndfors/study/diploma/ner_for_fem/data/spacy_files_for_ner/balanced_ner/train.json /Users/linndfors/study/diploma/ner_for_fem/data/spacy_files_for_ner/balanced_ner -t spacy"
   ]
  },
  {
   "cell_type": "markdown",
   "metadata": {},
   "source": [
    "### dev"
   ]
  },
  {
   "cell_type": "code",
   "execution_count": 3,
   "metadata": {},
   "outputs": [
    {
     "name": "stdout",
     "output_type": "stream",
     "text": [
      "\u001b[38;5;4mℹ Auto-detected token-per-line NER format\u001b[0m\n",
      "\u001b[38;5;4mℹ Grouping every 1 sentences into a document.\u001b[0m\n",
      "\u001b[38;5;3m⚠ To generate better training data, you may want to group sentences\n",
      "into documents with `-n 10`.\u001b[0m\n",
      "\u001b[38;5;2m✔ Generated output file (1 documents):\n",
      "/Users/linndfors/study/diploma/ner_for_fem/data/spacy_files_for_ner/balanced_ner/dev.json\u001b[0m\n",
      "\u001b[38;5;2m✔ Generated output file (1264 documents):\n",
      "/Users/linndfors/study/diploma/ner_for_fem/data/spacy_files_for_ner/balanced_ner/dev.spacy\u001b[0m\n"
     ]
    }
   ],
   "source": [
    "!python -m spacy convert /Users/linndfors/study/diploma/ner_for_fem/data/iob_format/balanced_iob_format/Ukrainian-languk-2.0-outer/dev.iob /Users/linndfors/study/diploma/ner_for_fem/data/spacy_files_for_ner/balanced_ner -t json -c iob\n",
    "!python -m spacy convert /Users/linndfors/study/diploma/ner_for_fem/data/spacy_files_for_ner/balanced_ner/dev.json /Users/linndfors/study/diploma/ner_for_fem/data/spacy_files_for_ner/balanced_ner -t spacy"
   ]
  }
 ],
 "metadata": {
  "kernelspec": {
   "display_name": "new_venv",
   "language": "python",
   "name": "python3"
  },
  "language_info": {
   "codemirror_mode": {
    "name": "ipython",
    "version": 3
   },
   "file_extension": ".py",
   "mimetype": "text/x-python",
   "name": "python",
   "nbconvert_exporter": "python",
   "pygments_lexer": "ipython3",
   "version": "3.10.16"
  }
 },
 "nbformat": 4,
 "nbformat_minor": 2
}
