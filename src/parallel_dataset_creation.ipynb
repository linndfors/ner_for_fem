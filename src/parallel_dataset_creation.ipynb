{
 "cells": [
  {
   "cell_type": "code",
   "execution_count": null,
   "metadata": {},
   "outputs": [],
   "source": [
    "import pandas as pd\n",
    "import os\n",
    "import re\n",
    "import tqdm\n",
    "from typing import List, Dict\n",
    "import json"
   ]
  },
  {
   "cell_type": "code",
   "execution_count": 2,
   "metadata": {},
   "outputs": [],
   "source": [
    "swapped_bruk_folder = \"/Users/linndfors/study/diploma/ner_for_fem/data/data_for_ner/data_for_ner_swapped/bruk_changed\"\n",
    "swapped_ng_folder = \"/Users/linndfors/study/diploma/ner_for_fem/data/data_for_ner/data_for_ner_swapped/ng_changed\"\n",
    "\n",
    "orig_bruk_folder = \"/Users/linndfors/study/diploma/ner_for_fem/data/data_for_ner/data_for_ner_orig/bruk\"\n",
    "orig_ng_folder = \"/Users/linndfors/study/diploma/ner_for_fem/data/data_for_ner/data_for_ner_orig/ng\""
   ]
  },
  {
   "cell_type": "code",
   "execution_count": null,
   "metadata": {},
   "outputs": [],
   "source": [
    "def parse_ann_file(ann_file):\n",
    "    entities = []\n",
    "\n",
    "    with open(ann_file, \"r\", encoding=\"utf-8\") as f:\n",
    "        for line in f:\n",
    "            try:\n",
    "                parts = line.strip().split(\"\\t\")\n",
    "                if len(parts) < 3:\n",
    "                    continue\n",
    "                label = parts[1]\n",
    "                start = parts[2]\n",
    "                end = parts[3]\n",
    "                text = parts[4]\n",
    "\n",
    "                entities.append({\"ind\": parts[0], \"text\": text, \"start\": start, \"end\": end, \"label\": label})\n",
    "            except:\n",
    "                continue\n",
    "                # print(\"issue with row:\", line)\n",
    "\n",
    "    return entities\n",
    "\n",
    "\n",
    "def extract_entities(txt_file: str, ann_file: str):\n",
    "    labeled_sentences_list = []\n",
    "    sentences = []\n",
    "\n",
    "    with open(txt_file, \"r\", encoding=\"utf-8\") as f:\n",
    "        sentence_lines = f.readlines()\n",
    "\n",
    "    entities = parse_ann_file(ann_file)\n",
    "    empty_lines_count = sentence_lines.count(\"\\n\")\n",
    "    \n",
    "    actual_counter = -1\n",
    "    used_tags = []\n",
    "    sent_end = 0\n",
    "    for ind, sentence in enumerate(sentence_lines):\n",
    "        actual_counter += 1\n",
    "        sent_end += len(sentence)\n",
    "        labeled_dict = {}\n",
    "        job = False\n",
    "\n",
    "        if sentence == \"\\n\":\n",
    "            actual_counter -= 1\n",
    "        sentence = sentence.strip()\n",
    "\n",
    "        for ent in entities:\n",
    "            if re.search(rf\"\\b{re.escape(ent['text'])}\\b\", sentence):\n",
    "                if ent[\"label\"] == \"JOB\" and ent['ind'] not in used_tags and int(ent['start']) < sent_end:\n",
    "                    labeled_dict[ent['ind']] = (ent[\"text\"], ent[\"label\"])\n",
    "                    used_tags.append(ent['ind'])\n",
    "                    job = True\n",
    "\n",
    "        if job:  # Save sentences only if they contain a JOB entity\n",
    "            labeled_sentences_list.append(labeled_dict)\n",
    "            sentences.append((ind, sentence, actual_counter))\n",
    "\n",
    "    return labeled_sentences_list, sentences, empty_lines_count, len(sentence_lines)\n",
    "\n",
    "\n",
    "def get_sentences_with_job_titles(txt_file_names: List[str]):\n",
    "    sentence_with_jobs = {}\n",
    "\n",
    "    for txt_file in txt_file_names:\n",
    "        ann_file = txt_file.replace(\".txt\", \".ann\")\n",
    "        labeled_sentences_list, sentences, empty_lines_count, numb_of_sents = extract_entities(txt_file, ann_file)\n",
    "        for i in range(len(sentences)):\n",
    "            sentence_with_jobs[sentences[i][1]] = (sentences[i][0], labeled_sentences_list[i],  empty_lines_count, numb_of_sents, sentences[i][2])\n",
    "\n",
    "    return sentence_with_jobs\n",
    "\n",
    "\n",
    "def process_files(original_folder: str, changed_folder: str):\n",
    "    dataset = []\n",
    "\n",
    "    original_files = [f for f in os.listdir(original_folder) if f.endswith('.txt')]\n",
    "    # changed_files = [f for f in os.listdir(changed_folder) if f.endswith('.txt')]\n",
    "\n",
    "    for filename in tqdm.tqdm(original_files):\n",
    "        # try:\n",
    "        orig_txt_path = os.path.join(original_folder, filename)\n",
    "        changed_txt_path = os.path.join(changed_folder, filename.replace('.txt', '_1.txt'))\n",
    "\n",
    "        if not os.path.exists(changed_txt_path):\n",
    "            raise FileNotFoundError(f\"Missing corresponding file for {filename} in the changed folder.\")\n",
    "\n",
    "        job_sentences = get_sentences_with_job_titles([orig_txt_path])\n",
    "\n",
    "        with open(changed_txt_path, 'r', encoding='utf-8') as f:\n",
    "            changed_sentences = f.readlines()\n",
    "\n",
    "        for orig_sent, val in job_sentences.items():\n",
    "            # val[0]\n",
    "            if len(changed_sentences) != val[3]:\n",
    "                if len(changed_sentences) + val[2] == val[3]:\n",
    "                    # print(len(val))\n",
    "                    # print(val[4])\n",
    "                    # if len(val) <5:\n",
    "                    #     print(\"here\")\n",
    "                    #     print(val)\n",
    "                    #     # return\n",
    "                    changed_sent = changed_sentences[val[4]]\n",
    "                    dataset.append([orig_sent, val[0], changed_sent, val[4], filename, val[1]])\n",
    "                else:\n",
    "                    print(f\"Cannot process file {filename}\")\n",
    "                    print(\"need len:\", val[3], 'empty sents:', val[2])\n",
    "                    print(\"actual len:\", len(changed_sentences))\n",
    "                    return\n",
    "            else:\n",
    "                changed_sent = changed_sentences[val[0]]\n",
    "                dataset.append([orig_sent, val[0], changed_sent.strip(), val[0], filename, val[1]])\n",
    "            # except Exception as e:\n",
    "            #     print(f\"Cannot process file totaly {filename}: {str(e)} \\n val: {val}\")\n",
    "        # for orig_sentence in job_sentences.keys():\n",
    "        #     if orig_sentence in changed_sentences:\n",
    "        #         dataset.append([orig_sentence, orig_sentence, filename])\n",
    "    # except Exception as e:\n",
    "    #     print(f\"Error processing file {filename}: {str(e)}\")\n",
    "\n",
    "    columns = [\"original_sentence\", \"orig_sent_id\", \"changed_sentence\", \"changed_sent_id\", \"original_file_name\", \"orig_ann\"]\n",
    "    return pd.DataFrame(dataset, columns=columns)"
   ]
  },
  {
   "cell_type": "code",
   "execution_count": null,
   "metadata": {},
   "outputs": [
    {
     "name": "stdout",
     "output_type": "stream",
     "text": [
      "44\n"
     ]
    }
   ],
   "source": [
    "# with open(\"/Users/linndfors/study/diploma/ner_for_fem/data/data_for_ner/data_for_ner_orig/bruk/c0c436cc9cb6.txt\", 'r', encoding='utf-8') as f:\n",
    "#     orig_sent = f.readlines()\n",
    "#     print(len(orig_sent))"
   ]
  },
  {
   "cell_type": "code",
   "execution_count": 49,
   "metadata": {},
   "outputs": [
    {
     "name": "stderr",
     "output_type": "stream",
     "text": [
      "100%|██████████| 262/262 [00:06<00:00, 40.34it/s]\n"
     ]
    }
   ],
   "source": [
    "parallel_dataset_bruk_dataset = process_files(orig_bruk_folder, swapped_bruk_folder)"
   ]
  },
  {
   "cell_type": "code",
   "execution_count": null,
   "metadata": {},
   "outputs": [],
   "source": [
    "# parallel_dataset_bruk_dataset[parallel_dataset_bruk_dataset['original_file_name']=='0ac5140eb732.txt']"
   ]
  },
  {
   "cell_type": "code",
   "execution_count": 52,
   "metadata": {},
   "outputs": [
    {
     "data": {
      "text/html": [
       "<div>\n",
       "<style scoped>\n",
       "    .dataframe tbody tr th:only-of-type {\n",
       "        vertical-align: middle;\n",
       "    }\n",
       "\n",
       "    .dataframe tbody tr th {\n",
       "        vertical-align: top;\n",
       "    }\n",
       "\n",
       "    .dataframe thead th {\n",
       "        text-align: right;\n",
       "    }\n",
       "</style>\n",
       "<table border=\"1\" class=\"dataframe\">\n",
       "  <thead>\n",
       "    <tr style=\"text-align: right;\">\n",
       "      <th></th>\n",
       "      <th>original_sentence</th>\n",
       "      <th>orig_sent_id</th>\n",
       "      <th>changed_sentence</th>\n",
       "      <th>changed_sent_id</th>\n",
       "      <th>original_file_name</th>\n",
       "      <th>orig_ann</th>\n",
       "    </tr>\n",
       "  </thead>\n",
       "  <tbody>\n",
       "    <tr>\n",
       "      <th>0</th>\n",
       "      <td>Його редактором був поет-символіст Яків Савчен...</td>\n",
       "      <td>46</td>\n",
       "      <td>Його редакторкою була поетеса-символістка Анже...</td>\n",
       "      <td>46</td>\n",
       "      <td>e5e76a8efa0f.txt</td>\n",
       "      <td>{'T30': ('поет-символіст', 'JOB')}</td>\n",
       "    </tr>\n",
       "    <tr>\n",
       "      <th>1</th>\n",
       "      <td>Міжпредметні паралелі . Маніфест футуристів ск...</td>\n",
       "      <td>62</td>\n",
       "      <td>Міжпредметні паралелі . Маніфест футуристок ск...</td>\n",
       "      <td>62</td>\n",
       "      <td>e5e76a8efa0f.txt</td>\n",
       "      <td>{'T49': ('поет', 'JOB')}</td>\n",
       "    </tr>\n",
       "    <tr>\n",
       "      <th>2</th>\n",
       "      <td>Помітною була організація « Гарт » ( 1923 — 19...</td>\n",
       "      <td>96</td>\n",
       "      <td>Помітною була організація « Гарт » ( 1923 — 19...</td>\n",
       "      <td>96</td>\n",
       "      <td>e5e76a8efa0f.txt</td>\n",
       "      <td>{'T104': ('поет', 'JOB')}</td>\n",
       "    </tr>\n",
       "    <tr>\n",
       "      <th>3</th>\n",
       "      <td>Її очолив байкар і прозаїк Сергій Пилипенко .</td>\n",
       "      <td>127</td>\n",
       "      <td>Її очолила байкарка і прозаїкиня Марія Пилипен...</td>\n",
       "      <td>127</td>\n",
       "      <td>e5e76a8efa0f.txt</td>\n",
       "      <td>{'T143': ('байкар', 'JOB'), 'T144': ('прозаїк'...</td>\n",
       "    </tr>\n",
       "    <tr>\n",
       "      <th>4</th>\n",
       "      <td>У Галицько-Волинському літописі згадується спі...</td>\n",
       "      <td>171</td>\n",
       "      <td>У Галицько-Волинському літописі згадується спі...</td>\n",
       "      <td>171</td>\n",
       "      <td>e5e76a8efa0f.txt</td>\n",
       "      <td>{'T218': ('співець', 'JOB')}</td>\n",
       "    </tr>\n",
       "  </tbody>\n",
       "</table>\n",
       "</div>"
      ],
      "text/plain": [
       "                                   original_sentence  orig_sent_id  \\\n",
       "0  Його редактором був поет-символіст Яків Савчен...            46   \n",
       "1  Міжпредметні паралелі . Маніфест футуристів ск...            62   \n",
       "2  Помітною була організація « Гарт » ( 1923 — 19...            96   \n",
       "3      Її очолив байкар і прозаїк Сергій Пилипенко .           127   \n",
       "4  У Галицько-Волинському літописі згадується спі...           171   \n",
       "\n",
       "                                    changed_sentence  changed_sent_id  \\\n",
       "0  Його редакторкою була поетеса-символістка Анже...               46   \n",
       "1  Міжпредметні паралелі . Маніфест футуристок ск...               62   \n",
       "2  Помітною була організація « Гарт » ( 1923 — 19...               96   \n",
       "3  Її очолила байкарка і прозаїкиня Марія Пилипен...              127   \n",
       "4  У Галицько-Волинському літописі згадується спі...              171   \n",
       "\n",
       "  original_file_name                                           orig_ann  \n",
       "0   e5e76a8efa0f.txt                 {'T30': ('поет-символіст', 'JOB')}  \n",
       "1   e5e76a8efa0f.txt                           {'T49': ('поет', 'JOB')}  \n",
       "2   e5e76a8efa0f.txt                          {'T104': ('поет', 'JOB')}  \n",
       "3   e5e76a8efa0f.txt  {'T143': ('байкар', 'JOB'), 'T144': ('прозаїк'...  \n",
       "4   e5e76a8efa0f.txt                       {'T218': ('співець', 'JOB')}  "
      ]
     },
     "execution_count": 52,
     "metadata": {},
     "output_type": "execute_result"
    }
   ],
   "source": [
    "parallel_dataset_bruk_dataset.head()"
   ]
  },
  {
   "cell_type": "code",
   "execution_count": 53,
   "metadata": {},
   "outputs": [
    {
     "name": "stderr",
     "output_type": "stream",
     "text": [
      "  0%|          | 0/298 [00:00<?, ?it/s]"
     ]
    },
    {
     "name": "stderr",
     "output_type": "stream",
     "text": [
      "100%|██████████| 298/298 [00:03<00:00, 90.87it/s] \n"
     ]
    }
   ],
   "source": [
    "parallel_dataset_ng_dataset = process_files(orig_ng_folder, swapped_ng_folder)"
   ]
  },
  {
   "cell_type": "code",
   "execution_count": 56,
   "metadata": {},
   "outputs": [
    {
     "data": {
      "text/html": [
       "<div>\n",
       "<style scoped>\n",
       "    .dataframe tbody tr th:only-of-type {\n",
       "        vertical-align: middle;\n",
       "    }\n",
       "\n",
       "    .dataframe tbody tr th {\n",
       "        vertical-align: top;\n",
       "    }\n",
       "\n",
       "    .dataframe thead th {\n",
       "        text-align: right;\n",
       "    }\n",
       "</style>\n",
       "<table border=\"1\" class=\"dataframe\">\n",
       "  <thead>\n",
       "    <tr style=\"text-align: right;\">\n",
       "      <th></th>\n",
       "      <th>original_sentence</th>\n",
       "      <th>orig_sent_id</th>\n",
       "      <th>changed_sentence</th>\n",
       "      <th>changed_sent_id</th>\n",
       "      <th>original_file_name</th>\n",
       "      <th>orig_ann</th>\n",
       "      <th>changed_ann</th>\n",
       "    </tr>\n",
       "  </thead>\n",
       "  <tbody>\n",
       "    <tr>\n",
       "      <th>0</th>\n",
       "      <td>Слідчі встановили, що у 2018-2019 рр. управлін...</td>\n",
       "      <td>2</td>\n",
       "      <td>Слідчі встановили, що у 2018-2019 рр. управлін...</td>\n",
       "      <td>2</td>\n",
       "      <td>104263660695.txt</td>\n",
       "      <td>{'T6': ('Слідчі', 'JOB')}</td>\n",
       "      <td>{'T6': ('Слідчі', 'JOB')}</td>\n",
       "    </tr>\n",
       "    <tr>\n",
       "      <th>1</th>\n",
       "      <td>Суд надав слідчим доступ до документації щодо ...</td>\n",
       "      <td>7</td>\n",
       "      <td>Суд надав слідчій доступ до документації щодо ...</td>\n",
       "      <td>7</td>\n",
       "      <td>104263660695.txt</td>\n",
       "      <td>{'T23': ('слідчим', 'JOB')}</td>\n",
       "      <td>{'T23': ('слідчій', 'JOB')}</td>\n",
       "    </tr>\n",
       "    <tr>\n",
       "      <th>2</th>\n",
       "      <td>Директором та засновником ТОВ «Армшляхбуд», ст...</td>\n",
       "      <td>8</td>\n",
       "      <td>Директоркою та засновницею ТОВ «Армшляхбуд», с...</td>\n",
       "      <td>8</td>\n",
       "      <td>104263660695.txt</td>\n",
       "      <td>{'T25': ('Директором', 'JOB'), 'T26': ('заснов...</td>\n",
       "      <td>{'T25': ('Директоркою', 'JOB'), 'T26': ('засно...</td>\n",
       "    </tr>\n",
       "    <tr>\n",
       "      <th>3</th>\n",
       "      <td>Співвласником цієї компанії у свою чергу з час...</td>\n",
       "      <td>5</td>\n",
       "      <td>Співвласницею цієї компанії у свою чергу з час...</td>\n",
       "      <td>5</td>\n",
       "      <td>97c7987b8f9c.txt</td>\n",
       "      <td>{'T17': ('голова наглядової ради', 'JOB')}</td>\n",
       "      <td>{'T17': ('голова наглядової ради', 'JOB')}</td>\n",
       "    </tr>\n",
       "    <tr>\n",
       "      <th>4</th>\n",
       "      <td>Одесит Іван Плачков почав працювати в компанії...</td>\n",
       "      <td>6</td>\n",
       "      <td>Одеситка Іванна Плачкова почала працювати в ко...</td>\n",
       "      <td>6</td>\n",
       "      <td>97c7987b8f9c.txt</td>\n",
       "      <td>{'T25': ('головою правління', 'JOB')}</td>\n",
       "      <td>{'T25': ('головою правління', 'JOB')}</td>\n",
       "    </tr>\n",
       "  </tbody>\n",
       "</table>\n",
       "</div>"
      ],
      "text/plain": [
       "                                   original_sentence  orig_sent_id  \\\n",
       "0  Слідчі встановили, що у 2018-2019 рр. управлін...             2   \n",
       "1  Суд надав слідчим доступ до документації щодо ...             7   \n",
       "2  Директором та засновником ТОВ «Армшляхбуд», ст...             8   \n",
       "3  Співвласником цієї компанії у свою чергу з час...             5   \n",
       "4  Одесит Іван Плачков почав працювати в компанії...             6   \n",
       "\n",
       "                                    changed_sentence  changed_sent_id  \\\n",
       "0  Слідчі встановили, що у 2018-2019 рр. управлін...                2   \n",
       "1  Суд надав слідчій доступ до документації щодо ...                7   \n",
       "2  Директоркою та засновницею ТОВ «Армшляхбуд», с...                8   \n",
       "3  Співвласницею цієї компанії у свою чергу з час...                5   \n",
       "4  Одеситка Іванна Плачкова почала працювати в ко...                6   \n",
       "\n",
       "  original_file_name                                           orig_ann  \\\n",
       "0   104263660695.txt                          {'T6': ('Слідчі', 'JOB')}   \n",
       "1   104263660695.txt                        {'T23': ('слідчим', 'JOB')}   \n",
       "2   104263660695.txt  {'T25': ('Директором', 'JOB'), 'T26': ('заснов...   \n",
       "3   97c7987b8f9c.txt         {'T17': ('голова наглядової ради', 'JOB')}   \n",
       "4   97c7987b8f9c.txt              {'T25': ('головою правління', 'JOB')}   \n",
       "\n",
       "                                         changed_ann  \n",
       "0                          {'T6': ('Слідчі', 'JOB')}  \n",
       "1                        {'T23': ('слідчій', 'JOB')}  \n",
       "2  {'T25': ('Директоркою', 'JOB'), 'T26': ('засно...  \n",
       "3         {'T17': ('голова наглядової ради', 'JOB')}  \n",
       "4              {'T25': ('головою правління', 'JOB')}  "
      ]
     },
     "execution_count": 56,
     "metadata": {},
     "output_type": "execute_result"
    }
   ],
   "source": [
    "parallel_dataset_ng_dataset.head()"
   ]
  },
  {
   "cell_type": "code",
   "execution_count": 63,
   "metadata": {},
   "outputs": [
    {
     "data": {
      "text/html": [
       "<div>\n",
       "<style scoped>\n",
       "    .dataframe tbody tr th:only-of-type {\n",
       "        vertical-align: middle;\n",
       "    }\n",
       "\n",
       "    .dataframe tbody tr th {\n",
       "        vertical-align: top;\n",
       "    }\n",
       "\n",
       "    .dataframe thead th {\n",
       "        text-align: right;\n",
       "    }\n",
       "</style>\n",
       "<table border=\"1\" class=\"dataframe\">\n",
       "  <thead>\n",
       "    <tr style=\"text-align: right;\">\n",
       "      <th></th>\n",
       "      <th>original_sentence</th>\n",
       "      <th>orig_sent_id</th>\n",
       "      <th>changed_sentence</th>\n",
       "      <th>changed_sent_id</th>\n",
       "      <th>original_file_name</th>\n",
       "      <th>orig_ann</th>\n",
       "      <th>changed_ann</th>\n",
       "    </tr>\n",
       "  </thead>\n",
       "  <tbody>\n",
       "    <tr>\n",
       "      <th>620</th>\n",
       "      <td>Службові особи лісових господарств Житомирсько...</td>\n",
       "      <td>0</td>\n",
       "      <td>Службові особи лісових господарств Житомирсько...</td>\n",
       "      <td>0</td>\n",
       "      <td>0e31947e4561.txt</td>\n",
       "      <td>{'T2': ('підрядниками', 'JOB')}</td>\n",
       "      <td>{'T2': ('підрядницями', 'JOB')}</td>\n",
       "    </tr>\n",
       "    <tr>\n",
       "      <th>621</th>\n",
       "      <td>Приміром, слідство вказує, що одним із підрядн...</td>\n",
       "      <td>4</td>\n",
       "      <td>Приміром, слідство вказує, що одним із підрядн...</td>\n",
       "      <td>4</td>\n",
       "      <td>0e31947e4561.txt</td>\n",
       "      <td>{'T10': ('підрядників', 'JOB')}</td>\n",
       "      <td>{'T10': ('підрядниць', 'JOB')}</td>\n",
       "    </tr>\n",
       "    <tr>\n",
       "      <th>622</th>\n",
       "      <td>Слідчі встановили, що значну частину робіт для...</td>\n",
       "      <td>5</td>\n",
       "      <td>Слідчі встановили, що значну частину робіт для...</td>\n",
       "      <td>5</td>\n",
       "      <td>0e31947e4561.txt</td>\n",
       "      <td>{'T12': ('Слідчі', 'JOB')}</td>\n",
       "      <td>{'T12': ('Слідчі', 'JOB')}</td>\n",
       "    </tr>\n",
       "    <tr>\n",
       "      <th>623</th>\n",
       "      <td>Суд надав слідчим доступ до документації остан...</td>\n",
       "      <td>7</td>\n",
       "      <td>Суд надав слідчим доступ до документації остан...</td>\n",
       "      <td>7</td>\n",
       "      <td>0e31947e4561.txt</td>\n",
       "      <td>{'T15': ('слідчим', 'JOB')}</td>\n",
       "      <td>{'T15': ('слідчим', 'JOB')}</td>\n",
       "    </tr>\n",
       "    <tr>\n",
       "      <th>624</th>\n",
       "      <td>У 2011 році директором фірми був тодішній депу...</td>\n",
       "      <td>9</td>\n",
       "      <td>У 2011 році директоркою фірми була тодішня деп...</td>\n",
       "      <td>9</td>\n",
       "      <td>0e31947e4561.txt</td>\n",
       "      <td>{'T21': ('директором', 'JOB'), 'T22': ('депута...</td>\n",
       "      <td>{'T21': ('директоркою', 'JOB'), 'T22': ('депут...</td>\n",
       "    </tr>\n",
       "    <tr>\n",
       "      <th>625</th>\n",
       "      <td>Надалі засновниками компанії ставали лондонськ...</td>\n",
       "      <td>12</td>\n",
       "      <td>Надалі засновницями компанії ставали лондонськ...</td>\n",
       "      <td>12</td>\n",
       "      <td>0e31947e4561.txt</td>\n",
       "      <td>{'T30': ('засновниками', 'JOB'), 'T32': ('засн...</td>\n",
       "      <td>{'T30': ('засновницями', 'JOB'), 'T32': ('засн...</td>\n",
       "    </tr>\n",
       "    <tr>\n",
       "      <th>626</th>\n",
       "      <td>Нинішнім засновником і директором компанії, як...</td>\n",
       "      <td>13</td>\n",
       "      <td>Нинішньою засновницею і директоркою компанії, ...</td>\n",
       "      <td>13</td>\n",
       "      <td>0e31947e4561.txt</td>\n",
       "      <td>{'T38': ('засновником', 'JOB'), 'T39': ('дирек...</td>\n",
       "      <td>{'T38': ('засновницею', 'JOB'), 'T39': ('дирек...</td>\n",
       "    </tr>\n",
       "    <tr>\n",
       "      <th>627</th>\n",
       "      <td>Засновником і директором ПП «Індустріальна ком...</td>\n",
       "      <td>15</td>\n",
       "      <td>Засновницею і директоркою ПП «Індустріальна ко...</td>\n",
       "      <td>15</td>\n",
       "      <td>0e31947e4561.txt</td>\n",
       "      <td>{'T48': ('Засновником', 'JOB'), 'T49': ('дирек...</td>\n",
       "      <td>{'T48': ('Засновницею', 'JOB'), 'T49': ('дирек...</td>\n",
       "    </tr>\n",
       "  </tbody>\n",
       "</table>\n",
       "</div>"
      ],
      "text/plain": [
       "                                     original_sentence  orig_sent_id  \\\n",
       "620  Службові особи лісових господарств Житомирсько...             0   \n",
       "621  Приміром, слідство вказує, що одним із підрядн...             4   \n",
       "622  Слідчі встановили, що значну частину робіт для...             5   \n",
       "623  Суд надав слідчим доступ до документації остан...             7   \n",
       "624  У 2011 році директором фірми був тодішній депу...             9   \n",
       "625  Надалі засновниками компанії ставали лондонськ...            12   \n",
       "626  Нинішнім засновником і директором компанії, як...            13   \n",
       "627  Засновником і директором ПП «Індустріальна ком...            15   \n",
       "\n",
       "                                      changed_sentence  changed_sent_id  \\\n",
       "620  Службові особи лісових господарств Житомирсько...                0   \n",
       "621  Приміром, слідство вказує, що одним із підрядн...                4   \n",
       "622  Слідчі встановили, що значну частину робіт для...                5   \n",
       "623  Суд надав слідчим доступ до документації остан...                7   \n",
       "624  У 2011 році директоркою фірми була тодішня деп...                9   \n",
       "625  Надалі засновницями компанії ставали лондонськ...               12   \n",
       "626  Нинішньою засновницею і директоркою компанії, ...               13   \n",
       "627  Засновницею і директоркою ПП «Індустріальна ко...               15   \n",
       "\n",
       "    original_file_name                                           orig_ann  \\\n",
       "620   0e31947e4561.txt                    {'T2': ('підрядниками', 'JOB')}   \n",
       "621   0e31947e4561.txt                    {'T10': ('підрядників', 'JOB')}   \n",
       "622   0e31947e4561.txt                         {'T12': ('Слідчі', 'JOB')}   \n",
       "623   0e31947e4561.txt                        {'T15': ('слідчим', 'JOB')}   \n",
       "624   0e31947e4561.txt  {'T21': ('директором', 'JOB'), 'T22': ('депута...   \n",
       "625   0e31947e4561.txt  {'T30': ('засновниками', 'JOB'), 'T32': ('засн...   \n",
       "626   0e31947e4561.txt  {'T38': ('засновником', 'JOB'), 'T39': ('дирек...   \n",
       "627   0e31947e4561.txt  {'T48': ('Засновником', 'JOB'), 'T49': ('дирек...   \n",
       "\n",
       "                                           changed_ann  \n",
       "620                    {'T2': ('підрядницями', 'JOB')}  \n",
       "621                     {'T10': ('підрядниць', 'JOB')}  \n",
       "622                         {'T12': ('Слідчі', 'JOB')}  \n",
       "623                        {'T15': ('слідчим', 'JOB')}  \n",
       "624  {'T21': ('директоркою', 'JOB'), 'T22': ('депут...  \n",
       "625  {'T30': ('засновницями', 'JOB'), 'T32': ('засн...  \n",
       "626  {'T38': ('засновницею', 'JOB'), 'T39': ('дирек...  \n",
       "627  {'T48': ('Засновницею', 'JOB'), 'T49': ('дирек...  "
      ]
     },
     "execution_count": 63,
     "metadata": {},
     "output_type": "execute_result"
    }
   ],
   "source": [
    "parallel_dataset_ng_dataset[parallel_dataset_ng_dataset['original_file_name']=='0e31947e4561.txt']\n"
   ]
  },
  {
   "cell_type": "code",
   "execution_count": 60,
   "metadata": {},
   "outputs": [],
   "source": [
    "def find_changed_ann(orig_annotation, filename, path):\n",
    "    \n",
    "    list_of_inds = [ind for ind, ent in orig_annotation.items()]\n",
    "\n",
    "    changed_ann_file = path + filename.replace(\".txt\", \"_1.ann\")\n",
    "\n",
    "    entities = parse_ann_file(changed_ann_file)\n",
    "    labeled_dict = {}\n",
    "\n",
    "    for ent in entities:\n",
    "           if ent['ind'] in list_of_inds:\n",
    "                labeled_dict[ent[\"ind\"]] = (ent['text'], ent[\"label\"])\n",
    "    return labeled_dict\n",
    "\n",
    "parallel_dataset_bruk_dataset['changed_ann'] = parallel_dataset_bruk_dataset.apply(lambda x: find_changed_ann(x['orig_ann'], x['original_file_name'], \"/Users/linndfors/study/diploma/ner_for_fem/data/data_for_ner/data_for_ner_swapped/bruk_changed/\"), axis=1)\n",
    "parallel_dataset_ng_dataset['changed_ann'] = parallel_dataset_ng_dataset.apply(lambda x: find_changed_ann(x['orig_ann'], x['original_file_name'], \"/Users/linndfors/study/diploma/ner_for_fem/data/data_for_ner/data_for_ner_swapped/ng_changed/\"), axis=1)"
   ]
  },
  {
   "cell_type": "code",
   "execution_count": null,
   "metadata": {},
   "outputs": [],
   "source": [
    "# /Users/linndfors/study/diploma/ner_for_fem/data/data_for_ner/data_for_ner_orig/bruk/87ae82667e2a.txt "
   ]
  },
  {
   "cell_type": "code",
   "execution_count": 61,
   "metadata": {},
   "outputs": [],
   "source": [
    "parallel_dataset_bruk_dataset.to_csv(\"/Users/linndfors/study/diploma/ner_for_fem/data/csv_files_with_par_sentences/bruk_parallel.csv\", index=0)\n",
    "parallel_dataset_ng_dataset.to_csv(\"/Users/linndfors/study/diploma/ner_for_fem/data/csv_files_with_par_sentences/ng_parallel.csv\", index=0)"
   ]
  },
  {
   "cell_type": "code",
   "execution_count": 62,
   "metadata": {},
   "outputs": [
    {
     "data": {
      "text/html": [
       "<div>\n",
       "<style scoped>\n",
       "    .dataframe tbody tr th:only-of-type {\n",
       "        vertical-align: middle;\n",
       "    }\n",
       "\n",
       "    .dataframe tbody tr th {\n",
       "        vertical-align: top;\n",
       "    }\n",
       "\n",
       "    .dataframe thead th {\n",
       "        text-align: right;\n",
       "    }\n",
       "</style>\n",
       "<table border=\"1\" class=\"dataframe\">\n",
       "  <thead>\n",
       "    <tr style=\"text-align: right;\">\n",
       "      <th></th>\n",
       "      <th>original_sentence</th>\n",
       "      <th>orig_sent_id</th>\n",
       "      <th>changed_sentence</th>\n",
       "      <th>changed_sent_id</th>\n",
       "      <th>original_file_name</th>\n",
       "      <th>orig_ann</th>\n",
       "      <th>changed_ann</th>\n",
       "    </tr>\n",
       "  </thead>\n",
       "  <tbody>\n",
       "    <tr>\n",
       "      <th>41</th>\n",
       "      <td>В наших умовах у таких « рольових коконах » пр...</td>\n",
       "      <td>6</td>\n",
       "      <td>В наших умовах у таких « рольових коконах » пр...</td>\n",
       "      <td>3</td>\n",
       "      <td>87ae82667e2a.txt</td>\n",
       "      <td>{'T3': ('лектори', 'JOB')}</td>\n",
       "      <td>{'T3': ('лекторки', 'JOB')}</td>\n",
       "    </tr>\n",
       "    <tr>\n",
       "      <th>42</th>\n",
       "      <td>Можливо , комусь ця думка здасться блюзнірчою ...</td>\n",
       "      <td>16</td>\n",
       "      <td>Можливо , комусь ця думка здасться блюзнірчою ...</td>\n",
       "      <td>8</td>\n",
       "      <td>87ae82667e2a.txt</td>\n",
       "      <td>{'T18': ('режисером', 'JOB')}</td>\n",
       "      <td>{'T18': ('режисеркою', 'JOB')}</td>\n",
       "    </tr>\n",
       "    <tr>\n",
       "      <th>73</th>\n",
       "      <td>Коломийська влада в особі міського голови Ігор...</td>\n",
       "      <td>2</td>\n",
       "      <td>Коломийська влада в особі міської голови Анаст...</td>\n",
       "      <td>1</td>\n",
       "      <td>e010e86e436c.txt</td>\n",
       "      <td>{'T5': ('міського голови', 'JOB'), 'T7': ('нач...</td>\n",
       "      <td>{'T5': ('міської голови', 'JOB'), 'T7': ('нача...</td>\n",
       "    </tr>\n",
       "    <tr>\n",
       "      <th>74</th>\n",
       "      <td>Народний депутат України Андрій Іванчук , пере...</td>\n",
       "      <td>7</td>\n",
       "      <td>Народна депутатка України Марія Іванчук , пере...</td>\n",
       "      <td>5</td>\n",
       "      <td>e010e86e436c.txt</td>\n",
       "      <td>{'T10': ('Народний депутат', 'JOB')}</td>\n",
       "      <td>{'T10': ('Народна депутатка', 'JOB')}</td>\n",
       "    </tr>\n",
       "    <tr>\n",
       "      <th>75</th>\n",
       "      <td>Львів ще від часів українських королів і князі...</td>\n",
       "      <td>23</td>\n",
       "      <td>Львів ще від часів українських королев і княги...</td>\n",
       "      <td>12</td>\n",
       "      <td>7b2c9399fee9.txt</td>\n",
       "      <td>{'T26': ('королів', 'JOB'), 'T27': ('князів', ...</td>\n",
       "      <td>{'T26': ('королев', 'JOB'), 'T27': ('княгинь',...</td>\n",
       "    </tr>\n",
       "    <tr>\n",
       "      <th>...</th>\n",
       "      <td>...</td>\n",
       "      <td>...</td>\n",
       "      <td>...</td>\n",
       "      <td>...</td>\n",
       "      <td>...</td>\n",
       "      <td>...</td>\n",
       "      <td>...</td>\n",
       "    </tr>\n",
       "    <tr>\n",
       "      <th>259</th>\n",
       "      <td>І Лянґе зрозумів , що він більше не має сил об...</td>\n",
       "      <td>25</td>\n",
       "      <td>І Лянґе зрозуміла , що вона більше не має сил ...</td>\n",
       "      <td>13</td>\n",
       "      <td>ef1b6bd52747.txt</td>\n",
       "      <td>{'T31': ('мовознавцем', 'JOB')}</td>\n",
       "      <td>{'T31': ('мовознавицею', 'JOB')}</td>\n",
       "    </tr>\n",
       "    <tr>\n",
       "      <th>293</th>\n",
       "      <td>Тож фон Трієру я винна окрему дяку : з усіх мо...</td>\n",
       "      <td>4</td>\n",
       "      <td>Тож фон Трієру я винна окрему дяку : з усіх мо...</td>\n",
       "      <td>2</td>\n",
       "      <td>f5bb37569413.txt</td>\n",
       "      <td>{'T2': ('режисера', 'JOB')}</td>\n",
       "      <td>{'T2': ('режисерки', 'JOB')}</td>\n",
       "    </tr>\n",
       "    <tr>\n",
       "      <th>294</th>\n",
       "      <td>З погляду бджоли , різниці між мною і колишнім...</td>\n",
       "      <td>48</td>\n",
       "      <td>З погляду бджоли , різниці між мною і колишньо...</td>\n",
       "      <td>24</td>\n",
       "      <td>f5bb37569413.txt</td>\n",
       "      <td>{'T24': ('наркомом', 'JOB'), 'T25': ('головою'...</td>\n",
       "      <td>{'T24': ('наркомкою', 'JOB'), 'T25': ('головою...</td>\n",
       "    </tr>\n",
       "    <tr>\n",
       "      <th>295</th>\n",
       "      <td>І за яким хріном ми з академіком Петросянцем б...</td>\n",
       "      <td>56</td>\n",
       "      <td>І за яким хріном ми з академікинею Петросянець...</td>\n",
       "      <td>28</td>\n",
       "      <td>f5bb37569413.txt</td>\n",
       "      <td>{'T30': ('академіком', 'JOB')}</td>\n",
       "      <td>{'T30': ('академікинею', 'JOB')}</td>\n",
       "    </tr>\n",
       "    <tr>\n",
       "      <th>297</th>\n",
       "      <td>Насупившись , керівниця « маркетингу » , зиркн...</td>\n",
       "      <td>8</td>\n",
       "      <td>Насупившись , керівник « маркетингу » , зиркну...</td>\n",
       "      <td>5</td>\n",
       "      <td>2fc890744f7c.txt</td>\n",
       "      <td>{'T5': ('ведучій', 'JOB')}</td>\n",
       "      <td>{'T5': ('ведучому', 'JOB')}</td>\n",
       "    </tr>\n",
       "  </tbody>\n",
       "</table>\n",
       "<p>76 rows × 7 columns</p>\n",
       "</div>"
      ],
      "text/plain": [
       "                                     original_sentence  orig_sent_id  \\\n",
       "41   В наших умовах у таких « рольових коконах » пр...             6   \n",
       "42   Можливо , комусь ця думка здасться блюзнірчою ...            16   \n",
       "73   Коломийська влада в особі міського голови Ігор...             2   \n",
       "74   Народний депутат України Андрій Іванчук , пере...             7   \n",
       "75   Львів ще від часів українських королів і князі...            23   \n",
       "..                                                 ...           ...   \n",
       "259  І Лянґе зрозумів , що він більше не має сил об...            25   \n",
       "293  Тож фон Трієру я винна окрему дяку : з усіх мо...             4   \n",
       "294  З погляду бджоли , різниці між мною і колишнім...            48   \n",
       "295  І за яким хріном ми з академіком Петросянцем б...            56   \n",
       "297  Насупившись , керівниця « маркетингу » , зиркн...             8   \n",
       "\n",
       "                                      changed_sentence  changed_sent_id  \\\n",
       "41   В наших умовах у таких « рольових коконах » пр...                3   \n",
       "42   Можливо , комусь ця думка здасться блюзнірчою ...                8   \n",
       "73   Коломийська влада в особі міської голови Анаст...                1   \n",
       "74   Народна депутатка України Марія Іванчук , пере...                5   \n",
       "75   Львів ще від часів українських королев і княги...               12   \n",
       "..                                                 ...              ...   \n",
       "259  І Лянґе зрозуміла , що вона більше не має сил ...               13   \n",
       "293  Тож фон Трієру я винна окрему дяку : з усіх мо...                2   \n",
       "294  З погляду бджоли , різниці між мною і колишньо...               24   \n",
       "295  І за яким хріном ми з академікинею Петросянець...               28   \n",
       "297  Насупившись , керівник « маркетингу » , зиркну...                5   \n",
       "\n",
       "    original_file_name                                           orig_ann  \\\n",
       "41    87ae82667e2a.txt                         {'T3': ('лектори', 'JOB')}   \n",
       "42    87ae82667e2a.txt                      {'T18': ('режисером', 'JOB')}   \n",
       "73    e010e86e436c.txt  {'T5': ('міського голови', 'JOB'), 'T7': ('нач...   \n",
       "74    e010e86e436c.txt               {'T10': ('Народний депутат', 'JOB')}   \n",
       "75    7b2c9399fee9.txt  {'T26': ('королів', 'JOB'), 'T27': ('князів', ...   \n",
       "..                 ...                                                ...   \n",
       "259   ef1b6bd52747.txt                    {'T31': ('мовознавцем', 'JOB')}   \n",
       "293   f5bb37569413.txt                        {'T2': ('режисера', 'JOB')}   \n",
       "294   f5bb37569413.txt  {'T24': ('наркомом', 'JOB'), 'T25': ('головою'...   \n",
       "295   f5bb37569413.txt                     {'T30': ('академіком', 'JOB')}   \n",
       "297   2fc890744f7c.txt                         {'T5': ('ведучій', 'JOB')}   \n",
       "\n",
       "                                           changed_ann  \n",
       "41                         {'T3': ('лекторки', 'JOB')}  \n",
       "42                      {'T18': ('режисеркою', 'JOB')}  \n",
       "73   {'T5': ('міської голови', 'JOB'), 'T7': ('нача...  \n",
       "74               {'T10': ('Народна депутатка', 'JOB')}  \n",
       "75   {'T26': ('королев', 'JOB'), 'T27': ('княгинь',...  \n",
       "..                                                 ...  \n",
       "259                   {'T31': ('мовознавицею', 'JOB')}  \n",
       "293                       {'T2': ('режисерки', 'JOB')}  \n",
       "294  {'T24': ('наркомкою', 'JOB'), 'T25': ('головою...  \n",
       "295                   {'T30': ('академікинею', 'JOB')}  \n",
       "297                        {'T5': ('ведучому', 'JOB')}  \n",
       "\n",
       "[76 rows x 7 columns]"
      ]
     },
     "execution_count": 62,
     "metadata": {},
     "output_type": "execute_result"
    }
   ],
   "source": [
    "parallel_dataset_bruk_dataset[parallel_dataset_bruk_dataset['orig_sent_id'] != parallel_dataset_bruk_dataset['changed_sent_id']]"
   ]
  },
  {
   "cell_type": "markdown",
   "metadata": {},
   "source": [
    "## Split: Female, Male, Common genders"
   ]
  },
  {
   "cell_type": "code",
   "execution_count": null,
   "metadata": {},
   "outputs": [],
   "source": [
    "with open('/Users/linndfors/study/diploma/uk-gender-word-mapper/common_gender_words_list.txt') as file:\n",
    "    common_gender_words_list = [line.strip() for line in file if line.strip()]\n",
    "\n",
    "with open('/Users/linndfors/study/diploma/uk-gender-word-mapper/male_words_list.txt') as file:\n",
    "    male_list = [line.strip() for line in file if line.strip()]\n",
    "\n",
    "with open('/Users/linndfors/study/diploma/uk-gender-word-mapper/female_words_list.txt') as file:\n",
    "    female_list = [line.strip() for line in file if line.strip()]\n",
    "\n",
    "gender_dict_df = pd.read_csv(\"/Users/linndfors/study/diploma/uk-gender-word-mapper/gender_pairs_dictionary.csv\")\n",
    "\n",
    "gender_dict = {'male': [], 'female': []}\n",
    "\n",
    "for _, row in gender_dict_df.iterrows():\n",
    "    gender_dict['male'].append(row['male'])\n",
    "    female_values = [f.strip() for f in row['female'].split(',')]\n",
    "    gender_dict['female'].extend(female_values)\n",
    "\n",
    "gender_dict['female'] = list(set(gender_dict['female']))"
   ]
  },
  {
   "cell_type": "code",
   "execution_count": 374,
   "metadata": {},
   "outputs": [
    {
     "name": "stderr",
     "output_type": "stream",
     "text": [
      "2025-03-17 22:05:17 INFO: Checking for updates to resources.json in case models have been updated.  Note: this behavior can be turned off with download_method=None or download_method=DownloadMethod.REUSE_RESOURCES\n"
     ]
    },
    {
     "data": {
      "application/vnd.jupyter.widget-view+json": {
       "model_id": "1df1dd00bb3f4b17b962409ccf3f143b",
       "version_major": 2,
       "version_minor": 0
      },
      "text/plain": [
       "Downloading https://raw.githubusercontent.com/stanfordnlp/stanza-resources/main/resources_1.10.0.json:   0%|  …"
      ]
     },
     "metadata": {},
     "output_type": "display_data"
    },
    {
     "name": "stderr",
     "output_type": "stream",
     "text": [
      "2025-03-17 22:05:17 INFO: Downloaded file to /Users/linndfors/stanza_resources/resources.json\n",
      "2025-03-17 22:05:19 INFO: Loading these models for language: uk (Ukrainian):\n",
      "===========================\n",
      "| Processor | Package     |\n",
      "---------------------------\n",
      "| tokenize  | iu          |\n",
      "| mwt       | iu          |\n",
      "| pos       | iu_charlm   |\n",
      "| lemma     | iu_nocharlm |\n",
      "| depparse  | iu_charlm   |\n",
      "===========================\n",
      "\n",
      "2025-03-17 22:05:19 INFO: Using device: cpu\n",
      "2025-03-17 22:05:19 INFO: Loading: tokenize\n",
      "2025-03-17 22:05:19 INFO: Loading: mwt\n",
      "2025-03-17 22:05:19 INFO: Loading: pos\n",
      "2025-03-17 22:05:32 INFO: Loading: lemma\n",
      "2025-03-17 22:05:38 INFO: Loading: depparse\n",
      "2025-03-17 22:05:39 INFO: Done loading processors!\n"
     ]
    }
   ],
   "source": [
    "import stanza\n",
    "import pymorphy3\n",
    "import pymorphy2\n",
    "\n",
    "nlp = stanza.Pipeline('uk', processors='tokenize,mwt,pos,lemma,depparse')\n",
    "morph = pymorphy3.MorphAnalyzer()\n",
    "\n",
    "\n",
    "# # # stanza.download('uk')\n",
    "# nlp = stanza.Pipeline('uk', processors='tokenize,mwt,pos,lemma')"
   ]
  },
  {
   "cell_type": "code",
   "execution_count": null,
   "metadata": {},
   "outputs": [
    {
     "name": "stdout",
     "output_type": "stream",
     "text": [
      "докторантка\n"
     ]
    }
   ],
   "source": [
    "# def extract_main_word(text):\n",
    "#     # Process the text with Stanza\n",
    "#     doc = nlp(text)\n",
    "    \n",
    "#     # Check the dependency parse for the main word\n",
    "#     for sentence in doc.sentences:\n",
    "#         # Get the head word based on dependencies\n",
    "#         for word in sentence.words:\n",
    "#             if word.head == 0:  # The head of the sentence (the main word)\n",
    "#                 return word.lemma\n",
    "\n",
    "#     # Fallback if no head word found\n",
    "#     return None\n",
    "\n",
    "# # Test the function\n",
    "# text = \"докторантка відділу соціальної антропології\"\n",
    "# main_word = extract_main_word(text)\n",
    "# print(main_word)"
   ]
  },
  {
   "cell_type": "code",
   "execution_count": null,
   "metadata": {},
   "outputs": [
    {
     "name": "stdout",
     "output_type": "stream",
     "text": [
      "lemma: судді\n",
      "Corrected lemma: судді\n"
     ]
    }
   ],
   "source": [
    "# entity = 'судді'\n",
    "# job = nlp(entity)\n",
    "\n",
    "# job_ent_list = [word.lemma for sent in job.sentences for word in sent.words]\n",
    "# job_lemma = \" \".join(job_ent_list)\n",
    "\n",
    "# print(\"Corrected lemma:\", job_lemma)\n",
    "\n",
    "# # if len(job_ent_list) > 1:\n",
    "# #     job_lemma = extract_main_word(job_lemma)\n",
    "# #     print(\"main word:\", job_lemma)"
   ]
  },
  {
   "cell_type": "code",
   "execution_count": null,
   "metadata": {},
   "outputs": [],
   "source": [
    "# text = \"топ-менеджерів\"\n",
    "# main_word = extract_main_word(text)\n",
    "# print(f\"Main word of '{text}': {main_word}\")"
   ]
  },
  {
   "cell_type": "code",
   "execution_count": null,
   "metadata": {},
   "outputs": [],
   "source": [
    "\n",
    "# # Initialize pymorphy3 analyzer\n",
    "\n",
    "# def get_lemma_from_pymorphy(entity):\n",
    "#     # Split the entity into words and lemmatize each word\n",
    "#     words = entity.split()  # Split by spaces to handle multi-word entities\n",
    "#     lemmatized_words = [morph.parse(word)[0].normal_form for word in words]\n",
    "    \n",
    "#     # Join the lemmatized words back into a single string\n",
    "#     return \" \".join(lemmatized_words)\n",
    "# get_lemma_from_pymorphy(\"голові\")\n"
   ]
  },
  {
   "cell_type": "code",
   "execution_count": 385,
   "metadata": {},
   "outputs": [],
   "source": [
    "def extract_main_word(text):\n",
    "    if \"-\" in text:\n",
    "        parts = text.split(\"-\")\n",
    "        main_word = parts[-1]\n",
    "        doc = nlp(main_word)\n",
    "        for sentence in doc.sentences:\n",
    "            for word in sentence.words:\n",
    "                return word.lemma\n",
    "\n",
    "    doc = nlp(text)\n",
    "\n",
    "\n",
    "    for sentence in doc.sentences:\n",
    "        for word in sentence.words:\n",
    "            if word.head == 0:\n",
    "                main_word = word\n",
    "                if main_word.text in {\"рок\", \"анти\", \"псевдо\", \"віце\", \"топ\"}:\n",
    "                    continue\n",
    "                return main_word.lemma\n",
    "    for sentence in doc.sentences:\n",
    "        for word in sentence.words:\n",
    "            return word.lemma\n",
    "        \n",
    "def extract_gender(entity):\n",
    "    entity = entity.lower()\n",
    "    job = nlp(entity)\n",
    "    join_sign = \" \" if \" \" in entity else (\"\" if \"-\" in entity else \"\")\n",
    "    job_ent_list = [word.lemma for sent in job.sentences for word in sent.words]\n",
    "    job_lemma = join_sign.join(job_ent_list)\n",
    "\n",
    "    if len(job_ent_list) > 1:\n",
    "        job_lemma = extract_main_word(job_lemma)\n",
    "\n",
    "    words = entity.split()\n",
    "    lemmatized_words = []\n",
    "    for word in words:\n",
    "        parsed_word = morph.parse(word)[0]\n",
    "        if 'plur' in parsed_word.tag:\n",
    "            singular_form = parsed_word.inflect({'sing'}).word if parsed_word.inflect({'sing'}) else parsed_word.normal_form\n",
    "            lemmatized_words.append(singular_form)\n",
    "        else:\n",
    "            lemmatized_words.append(parsed_word.normal_form)\n",
    "            \n",
    "    job_lemma_pymorphy = join_sign.join(lemmatized_words)\n",
    "\n",
    "    if len(job_ent_list) > 1:\n",
    "        job_lemma_pymorphy = extract_main_word(job_lemma_pymorphy)\n",
    "        \n",
    "    for x in [job_lemma, entity, job_lemma_pymorphy]:\n",
    "        if x in [\"судді\", \"ченці\", \"ченців\"]:\n",
    "            return \"common\"\n",
    "        elif (x in gender_dict['female']) or (x in female_list) or (\"знавиця\" in x):\n",
    "            return \"female\"\n",
    "        elif (x in gender_dict['male']) or (x in male_list) or (\"знавець\" in x) or (x==\"мера\"):\n",
    "            return \"male\"\n",
    "        elif x in common_gender_words_list:\n",
    "            return \"common\"\n",
    "        \n",
    "    print(\"unkown for:\", entity, \" - \", job_lemma, \" - \", job_lemma_pymorphy)\n",
    "    return \"unknown_gender\""
   ]
  },
  {
   "cell_type": "code",
   "execution_count": 386,
   "metadata": {},
   "outputs": [
    {
     "name": "stderr",
     "output_type": "stream",
     "text": [
      "7it [00:03,  1.47it/s]"
     ]
    },
    {
     "name": "stdout",
     "output_type": "stream",
     "text": [
      "unkown for: начальником відділу  -  відділ  -  відділ\n"
     ]
    },
    {
     "name": "stderr",
     "output_type": "stream",
     "text": [
      "10it [00:05,  1.76it/s]"
     ]
    },
    {
     "name": "stdout",
     "output_type": "stream",
     "text": [
      "unkown for: начальника відділу  -  відділ  -  відділ\n"
     ]
    },
    {
     "name": "stderr",
     "output_type": "stream",
     "text": [
      "19it [00:08,  1.83it/s]"
     ]
    },
    {
     "name": "stdout",
     "output_type": "stream",
     "text": [
      "unkown for: першого віце – прем'єр – міністра україни  -  перший  -  українити\n"
     ]
    },
    {
     "name": "stderr",
     "output_type": "stream",
     "text": [
      "133it [00:45,  2.12it/s]"
     ]
    },
    {
     "name": "stdout",
     "output_type": "stream",
     "text": [
      "unkown for: в. о. голови  -  в  -  головити\n"
     ]
    },
    {
     "name": "stderr",
     "output_type": "stream",
     "text": [
      "181it [01:05,  4.60it/s]"
     ]
    },
    {
     "name": "stdout",
     "output_type": "stream",
     "text": [
      "unkown for: керівництво  -  керівництво  -  керівництво\n",
      "unkown for: податківці  -  податок  -  податківці\n"
     ]
    },
    {
     "name": "stderr",
     "output_type": "stream",
     "text": [
      "185it [01:07,  2.40it/s]"
     ]
    },
    {
     "name": "stdout",
     "output_type": "stream",
     "text": [
      "unkown for: голови митниці  -  митниця  -  головити\n"
     ]
    },
    {
     "name": "stderr",
     "output_type": "stream",
     "text": [
      "198it [01:10,  4.33it/s]"
     ]
    },
    {
     "name": "stdout",
     "output_type": "stream",
     "text": [
      "unkown for: начальником виробничо-технічного відділу  -  технічний  -  технічний\n"
     ]
    },
    {
     "name": "stderr",
     "output_type": "stream",
     "text": [
      "222it [01:20,  1.53it/s]"
     ]
    },
    {
     "name": "stdout",
     "output_type": "stream",
     "text": [
      "unkown for: керівник проектів та програм у сфері науково-технічної діяльності компанії  -  технічний  -  технічний\n"
     ]
    },
    {
     "name": "stderr",
     "output_type": "stream",
     "text": [
      "235it [01:25,  2.92it/s]"
     ]
    },
    {
     "name": "stdout",
     "output_type": "stream",
     "text": [
      "unkown for: начальника відділу  -  відділ  -  відділ\n"
     ]
    },
    {
     "name": "stderr",
     "output_type": "stream",
     "text": [
      "237it [01:25,  2.99it/s]"
     ]
    },
    {
     "name": "stdout",
     "output_type": "stream",
     "text": [
      "unkown for: _керівником  -  ткерівник  -  _керівник\n"
     ]
    },
    {
     "name": "stderr",
     "output_type": "stream",
     "text": [
      "250it [01:28,  5.76it/s]"
     ]
    },
    {
     "name": "stdout",
     "output_type": "stream",
     "text": [
      "unkown for: начальник відділу міжнародних проектів  -  відділ  -  відділ\n"
     ]
    },
    {
     "name": "stderr",
     "output_type": "stream",
     "text": [
      "251it [01:31,  1.01it/s]"
     ]
    },
    {
     "name": "stdout",
     "output_type": "stream",
     "text": [
      "unkown for: т. в. о. начальника управління міжнародного співробітництва  -  в.  -  т.\n"
     ]
    },
    {
     "name": "stderr",
     "output_type": "stream",
     "text": [
      "267it [01:36,  4.24it/s]"
     ]
    },
    {
     "name": "stdout",
     "output_type": "stream",
     "text": [
      "unkown for: начальника відділу  -  відділ  -  відділ\n"
     ]
    },
    {
     "name": "stderr",
     "output_type": "stream",
     "text": [
      "314it [01:50,  2.79it/s]"
     ]
    },
    {
     "name": "stdout",
     "output_type": "stream",
     "text": [
      "unkown for: в. о. керівника  -  в  -  в.\n"
     ]
    },
    {
     "name": "stderr",
     "output_type": "stream",
     "text": [
      "320it [01:53,  2.19it/s]"
     ]
    },
    {
     "name": "stdout",
     "output_type": "stream",
     "text": [
      "unkown for: народного депутата-бютівця  -  бютівець  -  бютівець\n"
     ]
    },
    {
     "name": "stderr",
     "output_type": "stream",
     "text": [
      "331it [01:58,  1.16it/s]"
     ]
    },
    {
     "name": "stdout",
     "output_type": "stream",
     "text": [
      "unkown for: віце-прем'єра  -  прем’єрний  -  прем’єрый\n"
     ]
    },
    {
     "name": "stderr",
     "output_type": "stream",
     "text": [
      "336it [01:59,  3.54it/s]"
     ]
    },
    {
     "name": "stdout",
     "output_type": "stream",
     "text": [
      "unkown for: прем'єр  -  прем’єра  -  прем'єр\n"
     ]
    },
    {
     "name": "stderr",
     "output_type": "stream",
     "text": [
      "350it [02:05,  2.65it/s]"
     ]
    },
    {
     "name": "stdout",
     "output_type": "stream",
     "text": [
      "unkown for: в. о. начальника  -  в  -  в.\n"
     ]
    },
    {
     "name": "stderr",
     "output_type": "stream",
     "text": [
      "387it [02:17,  2.50it/s]"
     ]
    },
    {
     "name": "stdout",
     "output_type": "stream",
     "text": [
      "unkown for: директором комунального підприємства  -  підприємство  -  підприємство\n"
     ]
    },
    {
     "name": "stderr",
     "output_type": "stream",
     "text": [
      "418it [02:28,  1.69it/s]"
     ]
    },
    {
     "name": "stdout",
     "output_type": "stream",
     "text": [
      "unkown for: начальника відділу досліджень і розслідувань  -  відділ  -  відділ\n"
     ]
    },
    {
     "name": "stderr",
     "output_type": "stream",
     "text": [
      "469it [02:41,  3.16it/s]"
     ]
    },
    {
     "name": "stdout",
     "output_type": "stream",
     "text": [
      "unkown for: голови тендерного комітету  -  комітет  -  головити\n"
     ]
    },
    {
     "name": "stderr",
     "output_type": "stream",
     "text": [
      "509it [02:53,  2.93it/s]"
     ]
    },
    {
     "name": "stdout",
     "output_type": "stream",
     "text": [
      "unkown for: головні мисливствознавці держлісгоспів  -  мисливствітнавка  -  мисливствітнавка\n",
      "unkown for: аграрія  -  аграрія  -  аграріть\n"
     ]
    },
    {
     "name": "stderr",
     "output_type": "stream",
     "text": [
      "567it [03:07,  4.98it/s]"
     ]
    },
    {
     "name": "stdout",
     "output_type": "stream",
     "text": [
      "unkown for: смотрящим  -  смотрящий  -  смотреть\n"
     ]
    },
    {
     "name": "stderr",
     "output_type": "stream",
     "text": [
      "640it [03:27,  3.69it/s]"
     ]
    },
    {
     "name": "stdout",
     "output_type": "stream",
     "text": [
      "unkown for: начальник юридично-експертного відділу  -  експертний  -  експертный\n"
     ]
    },
    {
     "name": "stderr",
     "output_type": "stream",
     "text": [
      "642it [03:29,  1.97it/s]"
     ]
    },
    {
     "name": "stdout",
     "output_type": "stream",
     "text": [
      "unkown for: начальник юридично-експертного відділу  -  експертний  -  експертный\n"
     ]
    },
    {
     "name": "stderr",
     "output_type": "stream",
     "text": [
      "662it [03:36,  2.12it/s]"
     ]
    },
    {
     "name": "stdout",
     "output_type": "stream",
     "text": [
      "unkown for: в. о. начальника управління  -  в  -  в.\n"
     ]
    },
    {
     "name": "stderr",
     "output_type": "stream",
     "text": [
      "674it [03:38,  6.35it/s]"
     ]
    },
    {
     "name": "stdout",
     "output_type": "stream",
     "text": [
      "unkown for: службовці  -  службовка  -  службовці\n"
     ]
    },
    {
     "name": "stderr",
     "output_type": "stream",
     "text": [
      "691it [03:44,  2.22it/s]"
     ]
    },
    {
     "name": "stdout",
     "output_type": "stream",
     "text": [
      "unkown for: директор департаменту з питань традиційних та альтернативних палив  -  департамент  -  палити\n"
     ]
    },
    {
     "name": "stderr",
     "output_type": "stream",
     "text": [
      "736it [03:57,  2.68it/s]"
     ]
    },
    {
     "name": "stdout",
     "output_type": "stream",
     "text": [
      "unkown for: прокурор відділу процесуального керівництва у кримінальних провадженнях слідчих  -  відділ  -  відділ\n"
     ]
    },
    {
     "name": "stderr",
     "output_type": "stream",
     "text": [
      "748it [04:06,  2.19it/s]"
     ]
    },
    {
     "name": "stdout",
     "output_type": "stream",
     "text": [
      "unkown for: в. о. генерального директора  -  в  -  в.\n"
     ]
    },
    {
     "name": "stderr",
     "output_type": "stream",
     "text": [
      "753it [04:11,  1.42it/s]"
     ]
    },
    {
     "name": "stdout",
     "output_type": "stream",
     "text": [
      "unkown for: голови економічної контррозвідки  -  контррозвідка  -  головити\n"
     ]
    },
    {
     "name": "stderr",
     "output_type": "stream",
     "text": [
      "754it [04:11,  1.53it/s]"
     ]
    },
    {
     "name": "stdout",
     "output_type": "stream",
     "text": [
      "unkown for: головою спецслужби  -  спецслужба  -  спецслужбіти\n"
     ]
    },
    {
     "name": "stderr",
     "output_type": "stream",
     "text": [
      "791it [04:25,  5.87it/s]"
     ]
    },
    {
     "name": "stdout",
     "output_type": "stream",
     "text": [
      "unkown for: аграрії  -  аграрія  -  аграрії\n"
     ]
    },
    {
     "name": "stderr",
     "output_type": "stream",
     "text": [
      "857it [04:44,  2.35it/s]"
     ]
    },
    {
     "name": "stdout",
     "output_type": "stream",
     "text": [
      "unkown for: підрядником департаменту  -  департамент  -  департамент\n"
     ]
    },
    {
     "name": "stderr",
     "output_type": "stream",
     "text": [
      "871it [04:47,  5.68it/s]"
     ]
    },
    {
     "name": "stdout",
     "output_type": "stream",
     "text": [
      "unkown for: податківців  -  податокець  -  податківціть\n"
     ]
    },
    {
     "name": "stderr",
     "output_type": "stream",
     "text": [
      "915it [05:04,  3.65it/s]"
     ]
    },
    {
     "name": "stdout",
     "output_type": "stream",
     "text": [
      "unkown for: в. о. гендиректора держкомпанії  -  в  -  в.\n"
     ]
    },
    {
     "name": "stderr",
     "output_type": "stream",
     "text": [
      "932it [05:10,  2.81it/s]"
     ]
    },
    {
     "name": "stdout",
     "output_type": "stream",
     "text": [
      "unkown for: генпідрядника  -  генпідрядник  -  генпідрядник\n"
     ]
    },
    {
     "name": "stderr",
     "output_type": "stream",
     "text": [
      "937it [05:12,  2.19it/s]"
     ]
    },
    {
     "name": "stdout",
     "output_type": "stream",
     "text": [
      "unkown for: т. в. о. директора  -  в.  -  в.\n"
     ]
    },
    {
     "name": "stderr",
     "output_type": "stream",
     "text": [
      "959it [05:20,  2.38it/s]"
     ]
    },
    {
     "name": "stdout",
     "output_type": "stream",
     "text": [
      "unkown for: податківка  -  податківка  -  податківка\n"
     ]
    },
    {
     "name": "stderr",
     "output_type": "stream",
     "text": [
      "961it [05:20,  2.73it/s]"
     ]
    },
    {
     "name": "stdout",
     "output_type": "stream",
     "text": [
      "unkown for: податківка  -  податківка  -  податківка\n"
     ]
    },
    {
     "name": "stderr",
     "output_type": "stream",
     "text": [
      "980it [05:29,  2.87it/s]"
     ]
    },
    {
     "name": "stdout",
     "output_type": "stream",
     "text": [
      "unkown for: в. о. управління  -  в  -  в.\n"
     ]
    },
    {
     "name": "stderr",
     "output_type": "stream",
     "text": [
      "996it [05:34,  3.97it/s]"
     ]
    },
    {
     "name": "stdout",
     "output_type": "stream",
     "text": [
      "unkown for: генпідрядником  -  генпідрядник  -  генпідрядник\n"
     ]
    },
    {
     "name": "stderr",
     "output_type": "stream",
     "text": [
      "997it [05:35,  3.43it/s]"
     ]
    },
    {
     "name": "stdout",
     "output_type": "stream",
     "text": [
      "unkown for: віце-прем'єра  -  прем’єрний  -  прем’єрый\n"
     ]
    },
    {
     "name": "stderr",
     "output_type": "stream",
     "text": [
      "1022it [05:45,  2.08it/s]"
     ]
    },
    {
     "name": "stdout",
     "output_type": "stream",
     "text": [
      "unkown for: глави держави  -  держава  -  державити\n"
     ]
    },
    {
     "name": "stderr",
     "output_type": "stream",
     "text": [
      "1028it [05:47,  2.96it/s]\n"
     ]
    }
   ],
   "source": [
    "file_gender_dict = {\"male\": {}, \"female\": {}, \"common\": {}, \"unknown_gender\": {}}\n",
    "\n",
    "total_job_counter = 0\n",
    "job_list = []\n",
    "\n",
    "for x, row in tqdm.tqdm(parallel_dataset_ng_dataset.iterrows()):\n",
    "    filename = row['original_file_name']\n",
    "    orig_annotation = row['orig_ann']\n",
    "    \n",
    "    try:\n",
    "        for ent, feat in orig_annotation.items():\n",
    "            if feat[1] == 'JOB':\n",
    "                total_job_counter += 1\n",
    "                job_list.append(ent)\n",
    "                gender_value = extract_gender(ent)\n",
    "                \n",
    "                if filename not in file_gender_dict[gender_value]:\n",
    "                    file_gender_dict[gender_value][filename] = [(ent, feat[0])]\n",
    "                else:\n",
    "                    file_gender_dict[gender_value][filename].append((ent, feat[0]))\n",
    "                \n",
    "    except Exception as e:\n",
    "        print(f\"Issue with row: {row} - Error: {e}\")"
   ]
  },
  {
   "cell_type": "code",
   "execution_count": 387,
   "metadata": {},
   "outputs": [
    {
     "name": "stdout",
     "output_type": "stream",
     "text": [
      "total size: 1353\n",
      "gender: male\n",
      "size: 267\n",
      "gender: female\n",
      "size: 16\n",
      "gender: common\n",
      "size: 68\n",
      "gender: unknown_gender\n",
      "size: 39\n"
     ]
    }
   ],
   "source": [
    "print(\"total size:\", total_job_counter)\n",
    "\n",
    "for gender_class, val in file_gender_dict.items():\n",
    "    print(\"gender:\", gender_class)\n",
    "    print(\"size:\", len(file_gender_dict[gender_class]))"
   ]
  },
  {
   "cell_type": "code",
   "execution_count": 388,
   "metadata": {},
   "outputs": [],
   "source": [
    "orig_female_files = []\n",
    "orig_male_files = []\n",
    "orig_common_files = []"
   ]
  },
  {
   "cell_type": "code",
   "execution_count": 389,
   "metadata": {},
   "outputs": [],
   "source": [
    "for gen, file_with_ent in file_gender_dict.items():\n",
    "    for filename, ent_with_ind in file_with_ent.items():\n",
    "        if gen == \"male\":\n",
    "            orig_male_files.append(filename)\n",
    "        elif gen == \"female\":\n",
    "            orig_female_files.append(filename)\n",
    "        elif gen == \"common\":\n",
    "            orig_common_files.append(filename)"
   ]
  },
  {
   "cell_type": "code",
   "execution_count": 390,
   "metadata": {},
   "outputs": [
    {
     "name": "stderr",
     "output_type": "stream",
     "text": [
      "7it [00:04,  1.40it/s]"
     ]
    },
    {
     "name": "stdout",
     "output_type": "stream",
     "text": [
      "unkown for: начальницею відділу  -  відділ  -  відділ\n"
     ]
    },
    {
     "name": "stderr",
     "output_type": "stream",
     "text": [
      "9it [00:06,  1.15it/s]"
     ]
    },
    {
     "name": "stdout",
     "output_type": "stream",
     "text": [
      "unkown for: начальницю відділу  -  відділ  -  відділ\n"
     ]
    },
    {
     "name": "stderr",
     "output_type": "stream",
     "text": [
      "11it [00:06,  1.70it/s]"
     ]
    },
    {
     "name": "stdout",
     "output_type": "stream",
     "text": [
      "unkown for: психіатрині  -  психіатрина  -  психіатрині\n",
      "unkown for: наркологині  -  наркологин  -  наркологині\n"
     ]
    },
    {
     "name": "stderr",
     "output_type": "stream",
     "text": [
      "19it [00:10,  1.61it/s]"
     ]
    },
    {
     "name": "stdout",
     "output_type": "stream",
     "text": [
      "unkown for: першої віце – прем'єр – міністерки україни  -  перший  -  українити\n"
     ]
    },
    {
     "name": "stderr",
     "output_type": "stream",
     "text": [
      "62it [00:19,  3.91it/s]"
     ]
    },
    {
     "name": "stdout",
     "output_type": "stream",
     "text": [
      "unkown for: рітейлерками  -  рітейлерко  -  рітейлеркой\n"
     ]
    },
    {
     "name": "stderr",
     "output_type": "stream",
     "text": [
      "85it [00:24,  3.34it/s]"
     ]
    },
    {
     "name": "stdout",
     "output_type": "stream",
     "text": [
      "unkown for: академічки  -  академічка  -  академічка\n"
     ]
    },
    {
     "name": "stderr",
     "output_type": "stream",
     "text": [
      "87it [00:25,  2.63it/s]"
     ]
    },
    {
     "name": "stdout",
     "output_type": "stream",
     "text": [
      "unkown for: екологині  -  екологина  -  екологині\n"
     ]
    },
    {
     "name": "stderr",
     "output_type": "stream",
     "text": [
      "128it [00:43,  1.25it/s]"
     ]
    },
    {
     "name": "stdout",
     "output_type": "stream",
     "text": [
      "unkown for: начальниці відділу розслідувань недобросовісної конкуренції невиробничої сфери  -  відділ  -  відділ\n"
     ]
    },
    {
     "name": "stderr",
     "output_type": "stream",
     "text": [
      "133it [00:46,  2.17it/s]"
     ]
    },
    {
     "name": "stdout",
     "output_type": "stream",
     "text": [
      "unkown for: в. о. голови  -  в  -  головити\n"
     ]
    },
    {
     "name": "stderr",
     "output_type": "stream",
     "text": [
      "152it [00:54,  4.99it/s]"
     ]
    },
    {
     "name": "stdout",
     "output_type": "stream",
     "text": [
      "unkown for: бойовички  -  бойовичка  -  бойовичка\n"
     ]
    },
    {
     "name": "stderr",
     "output_type": "stream",
     "text": [
      "181it [01:05,  4.10it/s]"
     ]
    },
    {
     "name": "stdout",
     "output_type": "stream",
     "text": [
      "unkown for: керівництво  -  керівництво  -  керівництво\n",
      "unkown for: податківчині  -  податківчина  -  податківчині\n"
     ]
    },
    {
     "name": "stderr",
     "output_type": "stream",
     "text": [
      "185it [01:07,  2.26it/s]"
     ]
    },
    {
     "name": "stdout",
     "output_type": "stream",
     "text": [
      "unkown for: голови митниці  -  митниця  -  головити\n"
     ]
    },
    {
     "name": "stderr",
     "output_type": "stream",
     "text": [
      "189it [01:09,  2.78it/s]"
     ]
    },
    {
     "name": "stdout",
     "output_type": "stream",
     "text": [
      "unkown for: журналісткам  -  журналістки  -  журналістке\n"
     ]
    },
    {
     "name": "stderr",
     "output_type": "stream",
     "text": [
      "198it [01:11,  4.15it/s]"
     ]
    },
    {
     "name": "stdout",
     "output_type": "stream",
     "text": [
      "unkown for: начальником виробничо-технічного відділу  -  технічний  -  технічний\n"
     ]
    },
    {
     "name": "stderr",
     "output_type": "stream",
     "text": [
      "222it [01:22,  1.42it/s]"
     ]
    },
    {
     "name": "stdout",
     "output_type": "stream",
     "text": [
      "unkown for: керівниця проєктів та програм у сфері науково-технічної діяльності компанії  -  технічний  -  технічний\n"
     ]
    },
    {
     "name": "stderr",
     "output_type": "stream",
     "text": [
      "235it [01:26,  2.72it/s]"
     ]
    },
    {
     "name": "stdout",
     "output_type": "stream",
     "text": [
      "unkown for: начальниці відділу  -  відділ  -  відділ\n"
     ]
    },
    {
     "name": "stderr",
     "output_type": "stream",
     "text": [
      "237it [01:27,  2.91it/s]"
     ]
    },
    {
     "name": "stdout",
     "output_type": "stream",
     "text": [
      "unkown for: _керівницею  -  хкерівниця  -  _керівница\n"
     ]
    },
    {
     "name": "stderr",
     "output_type": "stream",
     "text": [
      "250it [01:30,  5.99it/s]"
     ]
    },
    {
     "name": "stdout",
     "output_type": "stream",
     "text": [
      "unkown for: начальниця відділу міжнародних проектів  -  відділ  -  відділ\n"
     ]
    },
    {
     "name": "stderr",
     "output_type": "stream",
     "text": [
      "251it [01:32,  1.37it/s]"
     ]
    },
    {
     "name": "stdout",
     "output_type": "stream",
     "text": [
      "unkown for: т. в. о. начальниці управління міжнародного співробітництва  -  т.  -  в.\n"
     ]
    },
    {
     "name": "stderr",
     "output_type": "stream",
     "text": [
      "252it [01:34,  1.23it/s]"
     ]
    },
    {
     "name": "stdout",
     "output_type": "stream",
     "text": [
      "unkown for: де  -  де  -  де\n",
      "unkown for: антимонопольниць  -  антимонопольниця  -  антимонопольниць\n"
     ]
    },
    {
     "name": "stderr",
     "output_type": "stream",
     "text": [
      "258it [01:36,  3.16it/s]"
     ]
    },
    {
     "name": "stdout",
     "output_type": "stream",
     "text": [
      "unkown for: де  -  де  -  де\n"
     ]
    },
    {
     "name": "stderr",
     "output_type": "stream",
     "text": [
      "266it [01:38,  3.22it/s]"
     ]
    },
    {
     "name": "stdout",
     "output_type": "stream",
     "text": [
      "unkown for: начальниці відділу  -  відділ  -  відділ\n"
     ]
    },
    {
     "name": "stderr",
     "output_type": "stream",
     "text": [
      "280it [01:42,  2.78it/s]"
     ]
    },
    {
     "name": "stdout",
     "output_type": "stream",
     "text": [
      "unkown for: членкині наглядової ради  -  рада  -  членкин\n"
     ]
    },
    {
     "name": "stderr",
     "output_type": "stream",
     "text": [
      "314it [01:53,  2.67it/s]"
     ]
    },
    {
     "name": "stdout",
     "output_type": "stream",
     "text": [
      "unkown for: в. о. керівниці  -  в.  -  в.\n"
     ]
    },
    {
     "name": "stderr",
     "output_type": "stream",
     "text": [
      "320it [01:55,  2.45it/s]"
     ]
    },
    {
     "name": "stdout",
     "output_type": "stream",
     "text": [
      "unkown for: народну депутатку-бютівку  -  бютівка  -  бютівка\n"
     ]
    },
    {
     "name": "stderr",
     "output_type": "stream",
     "text": [
      "331it [02:01,  1.24it/s]"
     ]
    },
    {
     "name": "stdout",
     "output_type": "stream",
     "text": [
      "unkown for: віце-прем'єра  -  прем’єрний  -  прем’єрый\n"
     ]
    },
    {
     "name": "stderr",
     "output_type": "stream",
     "text": [
      "350it [02:08,  1.98it/s]"
     ]
    },
    {
     "name": "stdout",
     "output_type": "stream",
     "text": [
      "unkown for: в. о. начальниці  -  в.  -  в.\n"
     ]
    },
    {
     "name": "stderr",
     "output_type": "stream",
     "text": [
      "362it [02:12,  2.74it/s]"
     ]
    },
    {
     "name": "stdout",
     "output_type": "stream",
     "text": [
      "unkown for: освітя́нок  -  освітя́нка  -  освітя́нки\n"
     ]
    },
    {
     "name": "stderr",
     "output_type": "stream",
     "text": [
      "387it [02:20,  2.56it/s]"
     ]
    },
    {
     "name": "stdout",
     "output_type": "stream",
     "text": [
      "unkown for: директоркою комунального підприємства  -  підприємство  -  підприємство\n"
     ]
    },
    {
     "name": "stderr",
     "output_type": "stream",
     "text": [
      "418it [02:30,  1.61it/s]"
     ]
    },
    {
     "name": "stdout",
     "output_type": "stream",
     "text": [
      "unkown for: начальниці відділу досліджень і розслідувань  -  відділ  -  відділ\n"
     ]
    },
    {
     "name": "stderr",
     "output_type": "stream",
     "text": [
      "469it [02:43,  3.21it/s]"
     ]
    },
    {
     "name": "stdout",
     "output_type": "stream",
     "text": [
      "unkown for: голови тендерного комітету  -  комітет  -  головити\n"
     ]
    },
    {
     "name": "stderr",
     "output_type": "stream",
     "text": [
      "472it [02:45,  2.87it/s]"
     ]
    },
    {
     "name": "stdout",
     "output_type": "stream",
     "text": [
      "unkown for: головній інженерці  -  інженерець  -  головнити\n"
     ]
    },
    {
     "name": "stderr",
     "output_type": "stream",
     "text": [
      "509it [02:59,  2.70it/s]"
     ]
    },
    {
     "name": "stdout",
     "output_type": "stream",
     "text": [
      "unkown for: головні мисливствознавиці держлісгоспів  -  мисливствітнацець  -  держлісгоспіть\n"
     ]
    },
    {
     "name": "stderr",
     "output_type": "stream",
     "text": [
      "527it [03:04,  5.15it/s]"
     ]
    },
    {
     "name": "stdout",
     "output_type": "stream",
     "text": [
      "unkown for: юристок  -  юристок  -  юристок\n"
     ]
    },
    {
     "name": "stderr",
     "output_type": "stream",
     "text": [
      "567it [03:15,  4.91it/s]"
     ]
    },
    {
     "name": "stdout",
     "output_type": "stream",
     "text": [
      "unkown for: смотрящою  -  смотрящий  -  смотрящий\n"
     ]
    },
    {
     "name": "stderr",
     "output_type": "stream",
     "text": [
      "595it [03:24,  2.49it/s]"
     ]
    },
    {
     "name": "stdout",
     "output_type": "stream",
     "text": [
      "unkown for: держекоінспекторки  -  держекоінспоректор  -  держекоінспекторка\n"
     ]
    },
    {
     "name": "stderr",
     "output_type": "stream",
     "text": [
      "603it [03:26,  4.78it/s]"
     ]
    },
    {
     "name": "stdout",
     "output_type": "stream",
     "text": [
      "unkown for: компанії  -  компанія  -  компанії\n"
     ]
    },
    {
     "name": "stderr",
     "output_type": "stream",
     "text": [
      "639it [03:40,  2.64it/s]"
     ]
    },
    {
     "name": "stdout",
     "output_type": "stream",
     "text": [
      "unkown for: начальниця юридично-експертного відділу  -  експертний  -  експертный\n"
     ]
    },
    {
     "name": "stderr",
     "output_type": "stream",
     "text": [
      "641it [03:40,  2.49it/s]"
     ]
    },
    {
     "name": "stdout",
     "output_type": "stream",
     "text": [
      "unkown for: завідувачку виробничого відділу  -  відділ  -  відділ\n",
      "unkown for: інженерок  -  інженерок  -  інженерки\n"
     ]
    },
    {
     "name": "stderr",
     "output_type": "stream",
     "text": [
      "642it [03:41,  1.86it/s]"
     ]
    },
    {
     "name": "stdout",
     "output_type": "stream",
     "text": [
      "unkown for: начальниця юридично-експертного відділу  -  експертний  -  експертный\n"
     ]
    },
    {
     "name": "stderr",
     "output_type": "stream",
     "text": [
      "645it [03:42,  3.00it/s]"
     ]
    },
    {
     "name": "stdout",
     "output_type": "stream",
     "text": [
      "unkown for: антимонопольниць  -  антимонопольниця  -  антимонопольниць\n"
     ]
    },
    {
     "name": "stderr",
     "output_type": "stream",
     "text": [
      "654it [03:47,  1.83it/s]"
     ]
    },
    {
     "name": "stdout",
     "output_type": "stream",
     "text": [
      "unkown for: начальницею відділу майна та приватизації  -  відділ  -  відділ\n"
     ]
    },
    {
     "name": "stderr",
     "output_type": "stream",
     "text": [
      "662it [03:53,  1.42it/s]"
     ]
    },
    {
     "name": "stdout",
     "output_type": "stream",
     "text": [
      "unkown for: в. о. начальниці управління  -  в  -  в.\n"
     ]
    },
    {
     "name": "stderr",
     "output_type": "stream",
     "text": [
      "674it [03:55,  5.70it/s]"
     ]
    },
    {
     "name": "stdout",
     "output_type": "stream",
     "text": [
      "unkown for: службовиці  -  службовице  -  службовиці\n"
     ]
    },
    {
     "name": "stderr",
     "output_type": "stream",
     "text": [
      "677it [03:55,  5.67it/s]"
     ]
    },
    {
     "name": "stdout",
     "output_type": "stream",
     "text": [
      "unkown for: нардепками  -  нардепок  -  нардепкой\n"
     ]
    },
    {
     "name": "stderr",
     "output_type": "stream",
     "text": [
      "679it [03:56,  3.43it/s]"
     ]
    },
    {
     "name": "stdout",
     "output_type": "stream",
     "text": [
      "unkown for: замгубернаторкою  -  замгубернаторка  -  замгубернаторка\n"
     ]
    },
    {
     "name": "stderr",
     "output_type": "stream",
     "text": [
      "682it [03:59,  1.55it/s]"
     ]
    },
    {
     "name": "stdout",
     "output_type": "stream",
     "text": [
      "unkown for: родина екс-презид  -  презид  -  презид\n"
     ]
    },
    {
     "name": "stderr",
     "output_type": "stream",
     "text": [
      "684it [04:00,  1.82it/s]"
     ]
    },
    {
     "name": "stdout",
     "output_type": "stream",
     "text": [
      "unkown for: родина екс-презид  -  презид  -  презид\n"
     ]
    },
    {
     "name": "stderr",
     "output_type": "stream",
     "text": [
      "688it [04:01,  2.27it/s]"
     ]
    },
    {
     "name": "stdout",
     "output_type": "stream",
     "text": [
      "unkown for: начальниці рекламного відділу  -  відділ  -  відділ\n"
     ]
    },
    {
     "name": "stderr",
     "output_type": "stream",
     "text": [
      "691it [04:03,  1.60it/s]"
     ]
    },
    {
     "name": "stdout",
     "output_type": "stream",
     "text": [
      "unkown for: директорка департаменту з питань традиційних та альтернативних палив  -  департамент  -  палити\n"
     ]
    },
    {
     "name": "stderr",
     "output_type": "stream",
     "text": [
      "736it [04:19,  2.31it/s]"
     ]
    },
    {
     "name": "stdout",
     "output_type": "stream",
     "text": [
      "unkown for: прокурорка відділу процесуального керівництва у кримінальних провадженнях слідчих  -  відділ  -  відділ\n"
     ]
    },
    {
     "name": "stderr",
     "output_type": "stream",
     "text": [
      "738it [04:20,  3.41it/s]"
     ]
    },
    {
     "name": "stdout",
     "output_type": "stream",
     "text": [
      "unkown for: начальниця відділу лісового господарства  -  відділ  -  відділ\n",
      "unkown for: інженерка лісового господарства  -  господарство  -  господарство\n"
     ]
    },
    {
     "name": "stderr",
     "output_type": "stream",
     "text": [
      "747it [04:30,  1.58it/s]"
     ]
    },
    {
     "name": "stdout",
     "output_type": "stream",
     "text": [
      "unkown for: в. о. генеральної директорки  -  в  -  в.\n"
     ]
    },
    {
     "name": "stderr",
     "output_type": "stream",
     "text": [
      "752it [04:34,  1.35it/s]"
     ]
    },
    {
     "name": "stdout",
     "output_type": "stream",
     "text": [
      "unkown for: сбушниці  -  сбушниця  -  сбушниці\n"
     ]
    },
    {
     "name": "stderr",
     "output_type": "stream",
     "text": [
      "753it [04:35,  1.27it/s]"
     ]
    },
    {
     "name": "stdout",
     "output_type": "stream",
     "text": [
      "unkown for: голови економічної контррозвідки  -  контррозвідка  -  головити\n"
     ]
    },
    {
     "name": "stderr",
     "output_type": "stream",
     "text": [
      "754it [04:35,  1.43it/s]"
     ]
    },
    {
     "name": "stdout",
     "output_type": "stream",
     "text": [
      "unkown for: головою спецслужби  -  спецслужба  -  спецслужбіти\n",
      "unkown for: ревізорок  -  ревізорок  -  ревізоркий\n"
     ]
    },
    {
     "name": "stderr",
     "output_type": "stream",
     "text": [
      "768it [04:41,  2.05it/s]"
     ]
    },
    {
     "name": "stdout",
     "output_type": "stream",
     "text": [
      "unkown for: нардепок  -  нардепок  -  нардепки\n"
     ]
    },
    {
     "name": "stderr",
     "output_type": "stream",
     "text": [
      "789it [04:50,  3.07it/s]"
     ]
    },
    {
     "name": "stdout",
     "output_type": "stream",
     "text": [
      "unkown for: бізнесменок  -  бізнесменок  -  бізнесменки\n"
     ]
    },
    {
     "name": "stderr",
     "output_type": "stream",
     "text": [
      "790it [04:51,  3.66it/s]"
     ]
    },
    {
     "name": "stdout",
     "output_type": "stream",
     "text": [
      "unkown for: аграрії  -  аграрія  -  аграрії\n"
     ]
    },
    {
     "name": "stderr",
     "output_type": "stream",
     "text": [
      "837it [05:04,  2.91it/s]"
     ]
    },
    {
     "name": "stdout",
     "output_type": "stream",
     "text": [
      "unkown for: прокуророк  -  прокуророк  -  прокуророк\n"
     ]
    },
    {
     "name": "stderr",
     "output_type": "stream",
     "text": [
      "855it [05:13,  1.57it/s]"
     ]
    },
    {
     "name": "stdout",
     "output_type": "stream",
     "text": [
      "unkown for: екс-замгубернаторки  -  замгубернаторка  -  замгубернаторка\n"
     ]
    },
    {
     "name": "stderr",
     "output_type": "stream",
     "text": [
      "856it [05:13,  1.62it/s]"
     ]
    },
    {
     "name": "stdout",
     "output_type": "stream",
     "text": [
      "unkown for: підрядницею департаменту  -  департамент  -  департамент\n"
     ]
    },
    {
     "name": "stderr",
     "output_type": "stream",
     "text": [
      "871it [05:19,  2.22it/s]"
     ]
    },
    {
     "name": "stdout",
     "output_type": "stream",
     "text": [
      "unkown for: податківниць  -  податківниця  -  податківниць\n"
     ]
    },
    {
     "name": "stderr",
     "output_type": "stream",
     "text": [
      "910it [05:36,  3.23it/s]"
     ]
    },
    {
     "name": "stdout",
     "output_type": "stream",
     "text": [
      "unkown for: прокуророк  -  прокуророк  -  прокуророк\n"
     ]
    },
    {
     "name": "stderr",
     "output_type": "stream",
     "text": [
      "915it [05:37,  3.20it/s]"
     ]
    },
    {
     "name": "stdout",
     "output_type": "stream",
     "text": [
      "unkown for: в. о. гендиректорки держкомпанії  -  в  -  в.\n"
     ]
    },
    {
     "name": "stderr",
     "output_type": "stream",
     "text": [
      "932it [05:45,  2.54it/s]"
     ]
    },
    {
     "name": "stdout",
     "output_type": "stream",
     "text": [
      "unkown for: генпідрядниці  -  генпідрядниця  -  генпідрядниці\n"
     ]
    },
    {
     "name": "stderr",
     "output_type": "stream",
     "text": [
      "937it [05:47,  2.46it/s]"
     ]
    },
    {
     "name": "stdout",
     "output_type": "stream",
     "text": [
      "unkown for: т. в. о. директорки  -  т.  -  в.\n"
     ]
    },
    {
     "name": "stderr",
     "output_type": "stream",
     "text": [
      "952it [05:52,  2.80it/s]"
     ]
    },
    {
     "name": "stdout",
     "output_type": "stream",
     "text": [
      "unkown for: екологині  -  екологина  -  екологині\n"
     ]
    },
    {
     "name": "stderr",
     "output_type": "stream",
     "text": [
      "953it [05:52,  3.26it/s]"
     ]
    },
    {
     "name": "stdout",
     "output_type": "stream",
     "text": [
      "unkown for: екологині  -  екологина  -  екологині\n"
     ]
    },
    {
     "name": "stderr",
     "output_type": "stream",
     "text": [
      "956it [05:55,  1.34it/s]"
     ]
    },
    {
     "name": "stdout",
     "output_type": "stream",
     "text": [
      "unkown for: начальницю відділу податків і зборів з юридичних осіб  -  відділ  -  податкути\n"
     ]
    },
    {
     "name": "stderr",
     "output_type": "stream",
     "text": [
      "968it [05:59,  2.40it/s]"
     ]
    },
    {
     "name": "stdout",
     "output_type": "stream",
     "text": [
      "unkown for: світлана зубачик  -  зубачик  -  зубачик\n"
     ]
    },
    {
     "name": "stderr",
     "output_type": "stream",
     "text": [
      "970it [06:00,  2.78it/s]"
     ]
    },
    {
     "name": "stdout",
     "output_type": "stream",
     "text": [
      "unkown for: світлана зубачик  -  зубачик  -  зубачик\n"
     ]
    },
    {
     "name": "stderr",
     "output_type": "stream",
     "text": [
      "980it [06:03,  3.92it/s]"
     ]
    },
    {
     "name": "stdout",
     "output_type": "stream",
     "text": [
      "unkown for: в. о. управління  -  в  -  в.\n"
     ]
    },
    {
     "name": "stderr",
     "output_type": "stream",
     "text": [
      "996it [06:07,  4.40it/s]"
     ]
    },
    {
     "name": "stdout",
     "output_type": "stream",
     "text": [
      "unkown for: генпідрядницею  -  генпідрядниця  -  генпідрядница\n"
     ]
    },
    {
     "name": "stderr",
     "output_type": "stream",
     "text": [
      "1022it [06:18,  2.59it/s]"
     ]
    },
    {
     "name": "stdout",
     "output_type": "stream",
     "text": [
      "unkown for: глави держави  -  держава  -  державити\n"
     ]
    },
    {
     "name": "stderr",
     "output_type": "stream",
     "text": [
      "1028it [06:19,  2.71it/s]\n"
     ]
    }
   ],
   "source": [
    "file_gender_dict_swapped = {\"male\": {}, \"female\": {}, \"common\": {}, \"unknown_gender\": {}}\n",
    "\n",
    "total_job_counter_swapped = 0\n",
    "job_list_swapped = []\n",
    "\n",
    "for x, row in tqdm.tqdm(parallel_dataset_ng_dataset.iterrows()):\n",
    "    filename = row['original_file_name']\n",
    "    filename = filename.replace(\".txt\", \"_1.txt\")\n",
    "    orig_annotation = row['changed_ann']\n",
    "    \n",
    "    try:\n",
    "        for ent, feat in orig_annotation.items():\n",
    "            if feat[1] == 'JOB':\n",
    "                total_job_counter_swapped += 1\n",
    "                job_list_swapped.append(ent)\n",
    "                gender_value = extract_gender(ent)\n",
    "                \n",
    "                if filename not in file_gender_dict_swapped[gender_value]:\n",
    "                    file_gender_dict_swapped[gender_value][filename] = [(ent, feat[0])]\n",
    "                else:\n",
    "                    file_gender_dict_swapped[gender_value][filename].append((ent, feat[0]))\n",
    "                \n",
    "    except Exception as e:\n",
    "        print(f\"Issue with row: {row} - Error: {e}\")"
   ]
  },
  {
   "cell_type": "code",
   "execution_count": 391,
   "metadata": {},
   "outputs": [
    {
     "name": "stdout",
     "output_type": "stream",
     "text": [
      "total size: 1353\n",
      "gender: male\n",
      "size: 79\n",
      "gender: female\n",
      "size: 262\n",
      "gender: common\n",
      "size: 68\n",
      "gender: unknown_gender\n",
      "size: 62\n"
     ]
    }
   ],
   "source": [
    "print(\"total size:\", total_job_counter_swapped)\n",
    "\n",
    "for gender_class, val in file_gender_dict_swapped.items():\n",
    "    print(\"gender:\", gender_class)\n",
    "    print(\"size:\", len(file_gender_dict_swapped[gender_class]))"
   ]
  },
  {
   "cell_type": "code",
   "execution_count": 392,
   "metadata": {},
   "outputs": [],
   "source": [
    "swapped_female_files = []\n",
    "swapped_male_files = []\n",
    "swapped_common_files = []"
   ]
  },
  {
   "cell_type": "code",
   "execution_count": 393,
   "metadata": {},
   "outputs": [],
   "source": [
    "for gen, file_with_ent in file_gender_dict_swapped.items():\n",
    "    for filename, ent_with_ind in file_with_ent.items():\n",
    "        if gen == \"male\":\n",
    "            swapped_male_files.append(filename)\n",
    "        elif gen == \"female\":\n",
    "            swapped_female_files.append(filename)\n",
    "        elif gen == \"common\":\n",
    "            swapped_common_files.append(filename)"
   ]
  },
  {
   "cell_type": "code",
   "execution_count": 395,
   "metadata": {},
   "outputs": [],
   "source": [
    "# swapped_female_files_global = [\"/Users/linndfors/study/diploma/ner_for_fem/data/data_for_ner/data_for_ner_balanced/bruk_changed/\" + filename for filename in swapped_female_files]\n",
    "# swapped_male_files_global = [\"/Users/linndfors/study/diploma/ner_for_fem/data/data_for_ner/data_for_ner_balanced/bruk_changed/\" + filename for filename in swapped_male_files]\n",
    "# swapped_common_files_global = [\"/Users/linndfors/study/diploma/ner_for_fem/data/data_for_ner/data_for_ner_balanced/bruk_changed/\" + filename for filename in swapped_common_files]\n",
    "\n",
    "swapped_female_files_global = [\"/Users/linndfors/study/diploma/ner_for_fem/data/data_for_ner/data_for_ner_balanced/ng_changed/\" + filename for filename in swapped_female_files]\n",
    "swapped_male_files_global = [\"/Users/linndfors/study/diploma/ner_for_fem/data/data_for_ner/data_for_ner_balanced/ng_changed/\" + filename for filename in swapped_male_files]\n",
    "swapped_common_files_global = [\"/Users/linndfors/study/diploma/ner_for_fem/data/data_for_ner/data_for_ner_balanced/ng_changed/\" + filename for filename in swapped_common_files]"
   ]
  },
  {
   "cell_type": "code",
   "execution_count": 396,
   "metadata": {},
   "outputs": [],
   "source": [
    "# orig_male_files = [\"/Users/linndfors/study/diploma/ner_for_fem/data/data_for_ner/data_for_ner_balanced/bruk/\" + filename for filename in orig_male_files]\n",
    "# orig_female_files = [\"/Users/linndfors/study/diploma/ner_for_fem/data/data_for_ner/data_for_ner_balanced/bruk/\" + filename for filename in orig_female_files]\n",
    "# orig_common_files = [\"/Users/linndfors/study/diploma/ner_for_fem/data/data_for_ner/data_for_ner_balanced/bruk/\" + filename for filename in orig_common_files]\n",
    "\n",
    "orig_male_files = [\"/Users/linndfors/study/diploma/ner_for_fem/data/data_for_ner/data_for_ner_balanced/ng/\" + filename for filename in orig_male_files]\n",
    "orig_female_files = [\"/Users/linndfors/study/diploma/ner_for_fem/data/data_for_ner/data_for_ner_balanced/ng/\" + filename for filename in orig_female_files]\n",
    "orig_common_files = [\"/Users/linndfors/study/diploma/ner_for_fem/data/data_for_ner/data_for_ner_balanced/ng/\" + filename for filename in orig_common_files]"
   ]
  },
  {
   "cell_type": "code",
   "execution_count": 397,
   "metadata": {},
   "outputs": [],
   "source": [
    "# bruk_male_files = swapped_male_files_global + orig_male_files\n",
    "# bruk_female_files = swapped_female_files_global + orig_female_files\n",
    "# bruk_common_files = swapped_common_files_global + orig_common_files\n",
    "\n",
    "ng_male_files = swapped_male_files_global + orig_male_files\n",
    "ng_female_files = swapped_female_files_global + orig_female_files\n",
    "ng_common_files = swapped_common_files_global + orig_common_files"
   ]
  },
  {
   "cell_type": "code",
   "execution_count": 399,
   "metadata": {},
   "outputs": [],
   "source": [
    "import shutil"
   ]
  },
  {
   "cell_type": "code",
   "execution_count": 405,
   "metadata": {},
   "outputs": [],
   "source": [
    "# for male_file in ng_male_files:\n",
    "#     # source_path = male_file\n",
    "#     source_path = male_file.replace(\".txt\", \".ann\")\n",
    "#     destination_dir = '/Users/linndfors/study/diploma/ner_for_fem/data/data_for_ner/data_for_ner_gender/data_for_ner_male/ng'\n",
    "\n",
    "#     file_name = os.path.basename(source_path)\n",
    "\n",
    "#     destination_path = os.path.join(destination_dir, file_name)\n",
    "\n",
    "#     shutil.copy(source_path, destination_path)\n",
    "\n",
    "# for female_file in ng_female_files:\n",
    "#     # source_path = female_file\n",
    "#     source_path = female_file.replace(\".txt\", \".ann\")\n",
    "#     destination_dir = '/Users/linndfors/study/diploma/ner_for_fem/data/data_for_ner/data_for_ner_gender/data_for_ner_female/ng'\n",
    "\n",
    "#     file_name = os.path.basename(source_path)\n",
    "\n",
    "#     destination_path = os.path.join(destination_dir, file_name)\n",
    "\n",
    "#     shutil.copy(source_path, destination_path)\n",
    "\n",
    "for common_file in ng_common_files:\n",
    "    # source_path = common_file\n",
    "    source_path = common_file.replace(\".txt\", \".ann\")\n",
    "    destination_dir = '/Users/linndfors/study/diploma/ner_for_fem/data/data_for_ner/data_for_ner_gender/data_for_ner_common/ng'\n",
    "\n",
    "    file_name = os.path.basename(source_path)\n",
    "\n",
    "    destination_path = os.path.join(destination_dir, file_name)\n",
    "\n",
    "    shutil.copy(source_path, destination_path)"
   ]
  }
 ],
 "metadata": {
  "kernelspec": {
   "display_name": "new_venv",
   "language": "python",
   "name": "python3"
  },
  "language_info": {
   "codemirror_mode": {
    "name": "ipython",
    "version": 3
   },
   "file_extension": ".py",
   "mimetype": "text/x-python",
   "name": "python",
   "nbconvert_exporter": "python",
   "pygments_lexer": "ipython3",
   "version": "3.10.16"
  }
 },
 "nbformat": 4,
 "nbformat_minor": 2
}
