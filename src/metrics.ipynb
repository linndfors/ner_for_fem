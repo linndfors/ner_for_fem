{
 "cells": [
  {
   "cell_type": "code",
   "execution_count": 1,
   "metadata": {},
   "outputs": [
    {
     "name": "stderr",
     "output_type": "stream",
     "text": [
      "/Users/linndfors/study/diploma/new_venv/lib/python3.10/site-packages/transformers/utils/generic.py:441: UserWarning: torch.utils._pytree._register_pytree_node is deprecated. Please use torch.utils._pytree.register_pytree_node instead.\n",
      "  _torch_pytree._register_pytree_node(\n"
     ]
    }
   ],
   "source": [
    "import pandas as pd\n",
    "import tqdm\n",
    "from collections import Counter\n",
    "import stanza\n"
   ]
  },
  {
   "cell_type": "code",
   "execution_count": 97,
   "metadata": {},
   "outputs": [],
   "source": [
    "def check_annotations(text, ann_file):\n",
    "    # Read the annotations\n",
    "    annotations = []\n",
    "    \n",
    "    with open(ann_file, 'r', encoding='utf-8') as f:\n",
    "        for line in f:\n",
    "            try:\n",
    "                parts = line.strip().split('\\t')\n",
    "                ann_id = parts[0]\n",
    "                label = parts[1]\n",
    "                start_idx = int(parts[2])\n",
    "                end_idx = int(parts[3])\n",
    "                entity = parts[4]\n",
    "                annotations.append((ann_id, label, start_idx, end_idx, entity))\n",
    "            except:\n",
    "                pass\n",
    "                # print()\n",
    "    \n",
    "    \n",
    "    # Check each annotation\n",
    "    errors = set()\n",
    "    for ann_id, label, start_idx, end_idx, entity in annotations:\n",
    "        entity_text = text[start_idx:end_idx]\n",
    "        if entity_text != entity and entity_text != entity+\"\\n\":\n",
    "            # print(f\"Mismatch in {ann_id}: Expected '{entity}' but found '{entity_text}' (Indices: {start_idx}-{end_idx})\")\n",
    "            errors.add(ann_file)\n",
    "    \n",
    "    return errors\n"
   ]
  },
  {
   "cell_type": "code",
   "execution_count": 102,
   "metadata": {},
   "outputs": [
    {
     "name": "stdout",
     "output_type": "stream",
     "text": [
      "{'/Users/linndfors/study/diploma/ner_for_fem/data/data_for_ner_new_balanced/ng_changed/cc9eda5dc1f3_1.ann'}\n",
      "{'/Users/linndfors/study/diploma/ner_for_fem/data/data_for_ner_new_balanced/ng_changed/3b285211209c_1.ann'}\n",
      "{'/Users/linndfors/study/diploma/ner_for_fem/data/data_for_ner_new_balanced/ng_changed/47713afd9490_1.ann'}\n",
      "{'/Users/linndfors/study/diploma/ner_for_fem/data/data_for_ner_new_balanced/ng_changed/8c6db2873e45_1.ann'}\n",
      "{'/Users/linndfors/study/diploma/ner_for_fem/data/data_for_ner_new_balanced/ng_changed/c97bff36f45a_1.ann'}\n",
      "{'/Users/linndfors/study/diploma/ner_for_fem/data/data_for_ner_new_balanced/ng_changed/6350e46219ca_1.ann'}\n",
      "{'/Users/linndfors/study/diploma/ner_for_fem/data/data_for_ner_new_balanced/ng_changed/6dd15465059a_1.ann'}\n",
      "{'/Users/linndfors/study/diploma/ner_for_fem/data/data_for_ner_new_balanced/ng_changed/76b9b07172fb_1.ann'}\n",
      "{'/Users/linndfors/study/diploma/ner_for_fem/data/data_for_ner_new_balanced/ng_changed/996f3a16780e_1.ann'}\n",
      "{'/Users/linndfors/study/diploma/ner_for_fem/data/data_for_ner_new_balanced/ng_changed/a6b3166e4d3b_1.ann'}\n",
      "{'/Users/linndfors/study/diploma/ner_for_fem/data/data_for_ner_new_balanced/ng_changed/ba4204adf371_1.ann'}\n",
      "{'/Users/linndfors/study/diploma/ner_for_fem/data/data_for_ner_new_balanced/ng_changed/7516eb24dae3_1.ann'}\n",
      "{'/Users/linndfors/study/diploma/ner_for_fem/data/data_for_ner_new_balanced/ng_changed/798252fda0ab_1.ann'}\n",
      "{'/Users/linndfors/study/diploma/ner_for_fem/data/data_for_ner_new_balanced/ng_changed/e2e03aba8da3_1.ann'}\n",
      "{'/Users/linndfors/study/diploma/ner_for_fem/data/data_for_ner_new_balanced/ng_changed/ac7d3bf88e39_1.ann'}\n",
      "{'/Users/linndfors/study/diploma/ner_for_fem/data/data_for_ner_new_balanced/ng_changed/41cf54503fc6_1.ann'}\n",
      "{'/Users/linndfors/study/diploma/ner_for_fem/data/data_for_ner_new_balanced/ng_changed/2dfb84287371_1.ann'}\n",
      "{'/Users/linndfors/study/diploma/ner_for_fem/data/data_for_ner_new_balanced/ng_changed/6b71dda907fe_1.ann'}\n",
      "{'/Users/linndfors/study/diploma/ner_for_fem/data/data_for_ner_new_balanced/ng_changed/348b96a54914_1.ann'}\n",
      "{'/Users/linndfors/study/diploma/ner_for_fem/data/data_for_ner_new_balanced/ng_changed/369c3876ae3d_1.ann'}\n",
      "{'/Users/linndfors/study/diploma/ner_for_fem/data/data_for_ner_new_balanced/ng_changed/a04af354c8db_1.ann'}\n",
      "{'/Users/linndfors/study/diploma/ner_for_fem/data/data_for_ner_new_balanced/ng_changed/00b1a798bebf_1.ann'}\n",
      "{'/Users/linndfors/study/diploma/ner_for_fem/data/data_for_ner_new_balanced/ng_changed/c09661af0a89_1.ann'}\n",
      "{'/Users/linndfors/study/diploma/ner_for_fem/data/data_for_ner_new_balanced/ng_changed/540d36b4fe1c_1.ann'}\n",
      "{'/Users/linndfors/study/diploma/ner_for_fem/data/data_for_ner_new_balanced/ng_changed/45ce670b36e1_1.ann'}\n",
      "{'/Users/linndfors/study/diploma/ner_for_fem/data/data_for_ner_new_balanced/ng_changed/eed5beaf4033_1.ann'}\n",
      "{'/Users/linndfors/study/diploma/ner_for_fem/data/data_for_ner_new_balanced/ng_changed/6d47a8c4d755_1.ann'}\n",
      "{'/Users/linndfors/study/diploma/ner_for_fem/data/data_for_ner_new_balanced/ng_changed/3262eb989bd6_1.ann'}\n",
      "{'/Users/linndfors/study/diploma/ner_for_fem/data/data_for_ner_new_balanced/ng_changed/db4996034aa6_1.ann'}\n",
      "{'/Users/linndfors/study/diploma/ner_for_fem/data/data_for_ner_new_balanced/ng_changed/5a4b4498fe83_1.ann'}\n",
      "{'/Users/linndfors/study/diploma/ner_for_fem/data/data_for_ner_new_balanced/ng_changed/02bebf42e010_1.ann'}\n",
      "{'/Users/linndfors/study/diploma/ner_for_fem/data/data_for_ner_new_balanced/ng_changed/7982679365fb_1.ann'}\n",
      "{'/Users/linndfors/study/diploma/ner_for_fem/data/data_for_ner_new_balanced/ng_changed/0e5456794c26_1.ann'}\n",
      "{'/Users/linndfors/study/diploma/ner_for_fem/data/data_for_ner_new_balanced/ng_changed/7eae7aa310d7_1.ann'}\n",
      "{'/Users/linndfors/study/diploma/ner_for_fem/data/data_for_ner_new_balanced/ng_changed/e37120a0aa66_1.ann'}\n",
      "{'/Users/linndfors/study/diploma/ner_for_fem/data/data_for_ner_new_balanced/ng_changed/1c3533ec1df3_1.ann'}\n",
      "{'/Users/linndfors/study/diploma/ner_for_fem/data/data_for_ner_new_balanced/ng_changed/c99d1ad0cc3c_1.ann'}\n"
     ]
    }
   ],
   "source": [
    "import os\n",
    "\n",
    "# Directory path\n",
    "# dir_path = '/Users/linndfors/study/diploma/ner_for_fem/data/orig_data/ng_changed'\n",
    "dir_path = \"/Users/linndfors/study/diploma/ner_for_fem/data/data_for_ner_new_balanced/ng_changed\"\n",
    "\n",
    "# Iterate over all files in the directory\n",
    "for filename in os.listdir(dir_path):\n",
    "    if filename.endswith('.txt'):\n",
    "        file_path = os.path.join(dir_path, filename)\n",
    "        with open(file_path, 'r', encoding='utf-8') as file:\n",
    "            text = file.read()\n",
    "        ann_file = file_path.replace(\".txt\", '.ann')\n",
    "        changed_ann_file = ann_file.replace(\"data_for_ner_new_balanced/\", \"orig_data/\")\n",
    "        if changed_ann_file not in list_of_files_to_ignore:\n",
    "            error = check_annotations(text, ann_file)\n",
    "            if error:\n",
    "                print(error)\n",
    "            # break\n",
    "            # else:\n",
    "            #     print(\"All annotations are correct.\")"
   ]
  },
  {
   "cell_type": "code",
   "execution_count": 80,
   "metadata": {},
   "outputs": [],
   "source": [
    "list_of_files_to_ignore = ['/Users/linndfors/study/diploma/ner_for_fem/data/orig_data/ng_changed/02bebf42e010.ann',\n",
    "                           '/Users/linndfors/study/diploma/ner_for_fem/data/orig_data/ng_changed/8c6db2873e45.ann',\n",
    "                           '/Users/linndfors/study/diploma/ner_for_fem/data/orig_data/ng_changed/3b285211209c.ann',\n",
    "                           '/Users/linndfors/study/diploma/ner_for_fem/data/orig_data/ng_changed/c09661af0a89.ann',\n",
    "                           '/Users/linndfors/study/diploma/ner_for_fem/data/orig_data/ng_changed/db4996034aa6.ann',\n",
    "                           '/Users/linndfors/study/diploma/ner_for_fem/data/orig_data/ng_changed/6dd15465059a.ann',\n",
    "                           '/Users/linndfors/study/diploma/ner_for_fem/data/orig_data/ng_changed/ba4204adf371.ann',\n",
    "                           '/Users/linndfors/study/diploma/ner_for_fem/data/orig_data/ng_changed/7982679365fb.ann',\n",
    "                           '/Users/linndfors/study/diploma/ner_for_fem/data/orig_data/ng_changed/76b9b07172fb.ann',\n",
    "                           '/Users/linndfors/study/diploma/ner_for_fem/data/orig_data/ng_changed/3262eb989bd6.ann',\n",
    "                           '/Users/linndfors/study/diploma/ner_for_fem/data/orig_data/ng_changed/6d47a8c4d755.ann',\n",
    "                           '/Users/linndfors/study/diploma/ner_for_fem/data/orig_data/ng_changed/2dfb84287371.ann',\n",
    "                           '/Users/linndfors/study/diploma/ner_for_fem/data/orig_data/ng_changed/798252fda0ab.ann',\n",
    "                           '/Users/linndfors/study/diploma/ner_for_fem/data/orig_data/ng_changed/45ce670b36e1.ann',\n",
    "                           '/Users/linndfors/study/diploma/ner_for_fem/data/orig_data/ng_changed/5a4b4498fe83.ann',\n",
    "                           '/Users/linndfors/study/diploma/ner_for_fem/data/orig_data/ng_changed/ac7d3bf88e39.ann',\n",
    "                           '/Users/linndfors/study/diploma/ner_for_fem/data/orig_data/ng_changed/1c3533ec1df3.ann',\n",
    "                           '/Users/linndfors/study/diploma/ner_for_fem/data/orig_data/ng_changed/47713afd9490.ann',\n",
    "                           '/Users/linndfors/study/diploma/ner_for_fem/data/orig_data/ng_changed/0e5456794c26.ann',\n",
    "                           '/Users/linndfors/study/diploma/ner_for_fem/data/orig_data/ng_changed/41cf54503fc6.ann',\n",
    "                           '/Users/linndfors/study/diploma/ner_for_fem/data/orig_data/ng_changed/6350e46219ca.ann',\n",
    "                           '/Users/linndfors/study/diploma/ner_for_fem/data/orig_data/ng_changed/7eae7aa310d7.ann',\n",
    "                           '/Users/linndfors/study/diploma/ner_for_fem/data/orig_data/ng_changed/348b96a54914.ann',\n",
    "                           '/Users/linndfors/study/diploma/ner_for_fem/data/orig_data/ng_changed/cc9eda5dc1f3.ann',\n",
    "                           '/Users/linndfors/study/diploma/ner_for_fem/data/orig_data/ng_changed/6b71dda907fe.ann',\n",
    "                           '/Users/linndfors/study/diploma/ner_for_fem/data/orig_data/ng_changed/eed5beaf4033.ann',\n",
    "                           '/Users/linndfors/study/diploma/ner_for_fem/data/orig_data/ng_changed/e37120a0aa66.ann',\n",
    "                           '/Users/linndfors/study/diploma/ner_for_fem/data/orig_data/ng_changed/996f3a16780e.ann',\n",
    "                           '/Users/linndfors/study/diploma/ner_for_fem/data/orig_data/ng_changed/540d36b4fe1c.ann',\n",
    "                           '/Users/linndfors/study/diploma/ner_for_fem/data/orig_data/ng_changed/7516eb24dae3.ann',\n",
    "                           '/Users/linndfors/study/diploma/ner_for_fem/data/orig_data/ng_changed/a6b3166e4d3b.ann',\n",
    "                           '/Users/linndfors/study/diploma/ner_for_fem/data/orig_data/ng_changed/e2e03aba8da3.ann',\n",
    "                           '/Users/linndfors/study/diploma/ner_for_fem/data/orig_data/ng_changed/369c3876ae3d.ann',\n",
    "                           '/Users/linndfors/study/diploma/ner_for_fem/data/orig_data/ng_changed/c97bff36f45a.ann',\n",
    "                           '/Users/linndfors/study/diploma/ner_for_fem/data/orig_data/ng_changed/c99d1ad0cc3c.ann',\n",
    "                           '/Users/linndfors/study/diploma/ner_for_fem/data/orig_data/ng_changed/00b1a798bebf.ann'\n",
    "                           ]"
   ]
  },
  {
   "cell_type": "code",
   "execution_count": null,
   "metadata": {},
   "outputs": [
    {
     "name": "stdout",
     "output_type": "stream",
     "text": [
      "Сергієм Мержинським Сергієм Мержинським\n",
      "Леся Леся\n",
      "Ялти Ялти\n",
      "Мержинському Мержинському\n",
      "Порвалася нескінчена розмова Порвалася нескінчена розмова\n",
      "Леся Леся\n",
      "Ай-Петрі Ай-Петрі\n",
      "Ломикамінь Ломикамінь\n",
      "Леся Леся\n",
      "матері-України матері-України\n",
      "Поет Поет\n",
      "Україна Україна\n",
      "Ялта Ялта\n",
      "поет поет\n",
      "Климента Квітку Климента Квітку\n",
      "1907 р . 1907 р .\n",
      "Крим Крим\n",
      "Климента Квітку Климента Квітку\n",
      "Климент Климент\n",
      "Лесю Лесю\n",
      "9 років 9 років\n",
      "Квітка Квітка\n",
      "Лесю Лесю\n",
      "Крим Крим\n",
      "Леся Леся\n",
      "Кленею Кленею\n",
      "Квітку Квітку\n",
      "37 років 37 років\n",
      "поет поет\n",
      "Квітка Квітка\n",
      "Леся Леся\n",
      "Крим Крим\n",
      "Климент Климент\n",
      "Ялту Ялту\n",
      "Амвросій Метлинський Амвросій Метлинський\n",
      "Степан Руданський Степан Руданський\n",
      "Христя Алчевська Христя Алчевська\n",
      "Дніпрова Чайка Дніпрова Чайка\n",
      "Михайло Коцюбинський Михайло Коцюбинський\n",
      "Микола Чернявський Микола Чернявський\n",
      "Агатангел Кримський Агатангел Кримський\n",
      "Олександр Олесь Олександр Олесь\n",
      "Охріменків Охріменків\n",
      "Ялті Ялті\n",
      "1904 1904\n",
      "1904 до 1918 року 1904 до 1918 року\n",
      "1918 року 1918 року\n",
      "Український театр Український театр\n",
      "Криму Криму\n",
      "Юристка Юристка\n",
      "Квітка Квітка\n",
      "Климент Квітка Климент Квітка\n",
      "Леся Леся\n",
      "1917 року 1917 року\n",
      "Мелодії з голосу Лесі Українки Мелодії з голосу Лесі Українки\n",
      "Лесиного Лесиного\n",
      "Ялті Ялті\n",
      "Климент Васильович Климент Васильович\n",
      "1953 року 1953 року\n",
      "40 років 40 років\n",
      "Ялті Ялті\n",
      "вулиці Літкенса , 8 вулиці Літкенса , 8\n",
      "Лесі Українці Лесі Українці\n",
      "Лесі Українки Лесі Українки\n",
      "All annotations are correct.\n"
     ]
    }
   ],
   "source": [
    "with open('/Users/linndfors/study/diploma/ner_for_fem/data/orig_data/bruk_changed/0b962bee49bc.txt', 'r', encoding='utf-8') as f:\n",
    "   text = f.read()\n",
    "\n"
   ]
  },
  {
   "cell_type": "code",
   "execution_count": null,
   "metadata": {},
   "outputs": [],
   "source": [
    "# test_gender_swapped_df = pd.read_csv(\"/Users/linndfors/study/diploma/ner_for_fem/FOR_ANNOTATION_FINAL/test_swapped_with_ann_with_names_changed.csv\")\n",
    "# dev_gender_swapped_df = pd.read_csv(\"/Users/linndfors/study/diploma/ner_for_fem/FOR_ANNOTATION_FINAL/dev_swapped_with_ann_with_names_changed.csv\")"
   ]
  },
  {
   "cell_type": "markdown",
   "metadata": {},
   "source": [
    "## How to evaluate the gender-swapper?\n",
    "\n",
    "<b>Qualitative</b>:\n",
    "- manual erros analysis - Annotators\n",
    "- generated names are dictionary words of the needed gender\n",
    "- generated feminitives are dictionary words \n",
    "- Check for the agreement accuracy (pymorhy lib to check gender to avoid “вона робив”) stanza - DONE\n",
    "- Cross similarity (double gender-swapping)\n",
    "- POS consistency (whether words changed their part of speech) stanza - No sense\n",
    "- After annotation we can check which words were the reason of mistakes\n",
    "\n",
    "<b>Quantitative</b>:\n",
    "- does the n of tokens coincide\n",
    "- BERTScore (BLEU, ROUGE, and METEOR) (measuring how similar the changed text is to the original text) medium_article\n",
    "- Retrain the NER model on the gender-swapped dataset\n",
    "- the variety of feminitive forms generated (Names)\n",
    "- different LLMs results comparison"
   ]
  },
  {
   "cell_type": "markdown",
   "metadata": {},
   "source": [
    "## Check for the agreement accuracy (pymorhy lib to check gender to avoid “вона робив”) stanza"
   ]
  },
  {
   "cell_type": "code",
   "execution_count": 89,
   "metadata": {},
   "outputs": [],
   "source": [
    "# !pip install stanza"
   ]
  },
  {
   "cell_type": "code",
   "execution_count": null,
   "metadata": {},
   "outputs": [
    {
     "name": "stdout",
     "output_type": "stream",
     "text": [
      "Downloading Ukrainian model...\n"
     ]
    },
    {
     "data": {
      "application/vnd.jupyter.widget-view+json": {
       "model_id": "c5e0f2b728db4dc6914dbaea201fcba7",
       "version_major": 2,
       "version_minor": 0
      },
      "text/plain": [
       "Downloading https://raw.githubusercontent.com/stanfordnlp/stanza-resources/main/resources_1.10.0.json:   0%|  …"
      ]
     },
     "metadata": {},
     "output_type": "display_data"
    },
    {
     "name": "stderr",
     "output_type": "stream",
     "text": [
      "2025-03-04 23:32:55 INFO: Downloaded file to /Users/linndfors/stanza_resources/resources.json\n",
      "2025-03-04 23:32:55 INFO: Downloading default packages for language: uk (Ukrainian) ...\n",
      "2025-03-04 23:32:57 INFO: File exists: /Users/linndfors/stanza_resources/uk/default.zip\n",
      "2025-03-04 23:33:02 INFO: Finished downloading models and saved to /Users/linndfors/stanza_resources\n"
     ]
    }
   ],
   "source": [
    "print(\"Downloading Ukrainian model...\")\n",
    "stanza.download('uk')"
   ]
  },
  {
   "cell_type": "code",
   "execution_count": 65,
   "metadata": {},
   "outputs": [],
   "source": [
    "uk_nlp = stanza.Pipeline('uk', verbose=False, use_gpu=False)"
   ]
  },
  {
   "cell_type": "code",
   "execution_count": 16,
   "metadata": {},
   "outputs": [],
   "source": [
    "def check_gender_agreement_in_sentences(sentences):\n",
    "    results = {}\n",
    "    for sentence in tqdm.tqdm(sentences):\n",
    "        doc = uk_nlp(sentence)\n",
    "        \n",
    "\n",
    "        for sent in doc.sentences:\n",
    "            for word in sent.words:\n",
    "                try:\n",
    "                    if word.deprel in [\"nsubj\", \"nsubj:pass\"] and \"Gender\" in str(word.feats):\n",
    "                        if \"Animacy=Inan\" not in str(word.feats):\n",
    "                            subj_text = word.text\n",
    "                            subj_feats = word.feats\n",
    "                            subj_gender = [feat.split('=')[1] for feat in subj_feats.split('|') if feat.startswith('Gender')][0]\n",
    "                            subj_number = [feat.split('=')[1] for feat in subj_feats.split('|') if feat.startswith('Number')][0]\n",
    "\n",
    "                            head_id = word.head\n",
    "                            if head_id > 0:\n",
    "                                verb = sent.words[head_id - 1]\n",
    "                                if verb.pos == \"VERB\" and \"Gender\" in str(verb.feats):\n",
    "                                    verb_text = verb.text\n",
    "                                    verb_feats = verb.feats\n",
    "                                    verb_gender = [feat.split('=')[1] for feat in verb_feats.split('|') if feat.startswith('Gender')][0]\n",
    "                                    verb_number = [feat.split('=')[1] for feat in verb_feats.split('|') if feat.startswith('Number')][0]\n",
    "\n",
    "                                    if subj_gender == verb_gender and subj_number == verb_number:\n",
    "                                        pass\n",
    "                                        # print(f\"AGREE: {subj_text} ({subj_feats}) і {verb_text} ({verb_feats})\")\n",
    "                                    else:\n",
    "                                        results[sentence] = (subj_text, verb_text)\n",
    "                                        # print(\"\\nSentence:\", sentence)\n",
    "                                        # print(f\"XXX NOT AGREE XXX: {subj_text} ({subj_feats}) і {verb_text} ({verb_feats})\")\n",
    "                except Exception as e:\n",
    "                    print(f\"Error {e}; in the following sentence: {sentence}\")\n",
    "    return results"
   ]
  },
  {
   "cell_type": "code",
   "execution_count": null,
   "metadata": {},
   "outputs": [
    {
     "name": "stderr",
     "output_type": "stream",
     "text": [
      "  0%|          | 0/518 [00:00<?, ?it/s]"
     ]
    },
    {
     "name": "stderr",
     "output_type": "stream",
     "text": [
      "  6%|▌         | 31/518 [00:47<19:03,  2.35s/it]"
     ]
    },
    {
     "name": "stdout",
     "output_type": "stream",
     "text": [
      "Error list index out of range; in the following sentence: В наших умовах у таких «рольових коконах» продовжували дефілювати партійні ортодоксики, лектора ЦК Компартії, які своєю поведінкою дуже нагадували героїню Кіри Сазерленд (чи то героїня «Меланхолії» через двадцять п’ять років наслідує їх?..) , та ще офіцерки КҐБ, які єдині тоді мусили бути щасливі, бо їм додалося праці: в кінці травня одна така приходила вербувати й мене (цей сюжет я потім використала для схожого епізоду в біографії Віктора в «Музеї покинутих секретів»), і ми з нею близько трьох годин мужньо блукали вулицями «на свіжому повітрі», дивуючи нечастих перехожих (вона, правда, запропонувала піти до ресторану – на той час гуляти «на свіжому повітрі» вже не рекомендувалося ц\n"
     ]
    },
    {
     "name": "stderr",
     "output_type": "stream",
     "text": [
      " 56%|█████▌    | 289/518 [05:11<05:30,  1.44s/it]"
     ]
    },
    {
     "name": "stdout",
     "output_type": "stream",
     "text": [
      "Error list index out of range; in the following sentence: Обидві Колеснікови згадувались як членкині наглядової ради ЗАТ «Енергомережа» до того, як фірму очолила Ольга Крючкова, що останні роки представляє інтереси нардепки від БПП Ігоря Кононенка.\n"
     ]
    },
    {
     "name": "stderr",
     "output_type": "stream",
     "text": [
      "100%|██████████| 518/518 [08:57<00:00,  1.04s/it]\n"
     ]
    }
   ],
   "source": [
    "results_of_agreement_test = check_gender_agreement_in_sentences(list(test_gender_swapped_df['swapped']))"
   ]
  },
  {
   "cell_type": "code",
   "execution_count": 101,
   "metadata": {},
   "outputs": [
    {
     "data": {
      "text/plain": [
       "19"
      ]
     },
     "execution_count": 101,
     "metadata": {},
     "output_type": "execute_result"
    }
   ],
   "source": [
    "len(results_of_agreement_test)"
   ]
  },
  {
   "cell_type": "code",
   "execution_count": 66,
   "metadata": {},
   "outputs": [
    {
     "name": "stderr",
     "output_type": "stream",
     "text": [
      "100%|██████████| 1024/1024 [19:01<00:00,  1.11s/it]\n"
     ]
    }
   ],
   "source": [
    "results_of_agreement_dev = check_gender_agreement_in_sentences(list(dev_gender_swapped_df['swapped']))"
   ]
  },
  {
   "cell_type": "code",
   "execution_count": 102,
   "metadata": {},
   "outputs": [
    {
     "data": {
      "text/plain": [
       "45"
      ]
     },
     "execution_count": 102,
     "metadata": {},
     "output_type": "execute_result"
    }
   ],
   "source": [
    "len(results_of_agreement_dev)"
   ]
  },
  {
   "cell_type": "code",
   "execution_count": 106,
   "metadata": {},
   "outputs": [
    {
     "name": "stdout",
     "output_type": "stream",
     "text": [
      "agreement mistake for dev set: 0.0439\n"
     ]
    }
   ],
   "source": [
    "print('agreement mistake for dev set:', \"{:.4f}\".format((len(results_of_agreement_dev) / len(dev_gender_swapped_df['swapped']))))"
   ]
  },
  {
   "cell_type": "code",
   "execution_count": 105,
   "metadata": {},
   "outputs": [
    {
     "name": "stdout",
     "output_type": "stream",
     "text": [
      "agreement mistake for test set: 0.0367\n"
     ]
    }
   ],
   "source": [
    "print('agreement mistake for test set:', \"{:.4f}\".format((len(results_of_agreement_test) / len(test_gender_swapped_df['swapped']))))\n"
   ]
  },
  {
   "cell_type": "code",
   "execution_count": 25,
   "metadata": {},
   "outputs": [],
   "source": [
    "with open('/Users/linndfors/study/diploma/uk-gender-word-mapper/common_gender_words_list.txt', 'r', encoding='utf-8') as file:\n",
    "    common_gender_words_list = file.read().splitlines()"
   ]
  },
  {
   "cell_type": "code",
   "execution_count": 34,
   "metadata": {},
   "outputs": [
    {
     "name": "stdout",
     "output_type": "stream",
     "text": [
      "4 out of 19 agreement mistakes are common gender words\n"
     ]
    }
   ],
   "source": [
    "counter = 0\n",
    "\n",
    "for k, v in results_of_agreement_test.items():\n",
    "    v1, v2 = v\n",
    "    if v1.lower() in common_gender_words_list or v2.lower() in common_gender_words_list:\n",
    "        counter += 1\n",
    "\n",
    "\n",
    "print(f'{counter} out of {len(results_of_agreement_test)} agreement mistakes are common gender words')"
   ]
  },
  {
   "cell_type": "markdown",
   "metadata": {},
   "source": [
    "## Tokens count"
   ]
  },
  {
   "cell_type": "code",
   "execution_count": 38,
   "metadata": {},
   "outputs": [],
   "source": [
    "def token_count_match(df):\n",
    "    result = []\n",
    "\n",
    "    for i, row in tqdm.tqdm(df.iterrows()):\n",
    "        tokens_1 = len(uk_nlp(row['original']).sentences[0].tokens)\n",
    "        tokens_2 = len(uk_nlp(row['swapped']).sentences[0].tokens)\n",
    "        \n",
    "        if tokens_1 != tokens_2:\n",
    "            result.append((row['original'], row['swapped']))\n",
    "    return result"
   ]
  },
  {
   "cell_type": "code",
   "execution_count": 39,
   "metadata": {},
   "outputs": [
    {
     "name": "stderr",
     "output_type": "stream",
     "text": [
      "518it [17:51,  2.07s/it]\n"
     ]
    }
   ],
   "source": [
    "result_of_token_count_matching = token_count_match(test_gender_swapped_df)"
   ]
  },
  {
   "cell_type": "code",
   "execution_count": 41,
   "metadata": {},
   "outputs": [
    {
     "data": {
      "text/plain": [
       "16"
      ]
     },
     "execution_count": 41,
     "metadata": {},
     "output_type": "execute_result"
    }
   ],
   "source": [
    "len(result_of_token_count_matching)"
   ]
  },
  {
   "cell_type": "code",
   "execution_count": 107,
   "metadata": {},
   "outputs": [
    {
     "name": "stdout",
     "output_type": "stream",
     "text": [
      "tokens count mistake for test set: 0.031\n"
     ]
    }
   ],
   "source": [
    "print('tokens count mistake for test set:', \"{:.3f}\".format((len(result_of_token_count_matching) / len(test_gender_swapped_df))))"
   ]
  },
  {
   "cell_type": "markdown",
   "metadata": {},
   "source": [
    "## POS comparison"
   ]
  },
  {
   "cell_type": "code",
   "execution_count": 15,
   "metadata": {},
   "outputs": [],
   "source": [
    "def compare_pos_tags(df):\n",
    "    # results = []\n",
    "\n",
    "    for _, row in tqdm(df.iterrows()):\n",
    "        sent1, sent2 = row['original'], row['swapped']\n",
    "\n",
    "        doc1 = uk_nlp(sent1)\n",
    "        doc2 = uk_nlp(sent2)\n",
    "        error_flag = False\n",
    "\n",
    "        tokens1 = [(word.text, word.upos) for sent in doc1.sentences for word in sent.words]\n",
    "        tokens2 = [(word.text, word.upos) for sent in doc2.sentences for word in sent.words]\n",
    "\n",
    "        for (tok1, pos1), (tok2, pos2) in zip(tokens1, tokens2):\n",
    "            if tok1 != tok2:\n",
    "                if pos1 != pos2:\n",
    "                    error_flag = True\n",
    "                    print(\"XX BAD XX\", (tok1, pos1, tok2, pos2))\n",
    "        if error_flag:\n",
    "            print(sent1)\n",
    "            print(sent2)"
   ]
  },
  {
   "cell_type": "code",
   "execution_count": 16,
   "metadata": {},
   "outputs": [],
   "source": [
    "for_pos_check_gender_swapped_df = gender_swapped_df.copy()"
   ]
  },
  {
   "cell_type": "code",
   "execution_count": 17,
   "metadata": {},
   "outputs": [
    {
     "data": {
      "text/plain": [
       "539"
      ]
     },
     "execution_count": 17,
     "metadata": {},
     "output_type": "execute_result"
    }
   ],
   "source": [
    "len(for_pos_check_gender_swapped_df)"
   ]
  },
  {
   "cell_type": "code",
   "execution_count": 18,
   "metadata": {},
   "outputs": [
    {
     "name": "stderr",
     "output_type": "stream",
     "text": [
      "15it [00:37,  2.46s/it]"
     ]
    },
    {
     "name": "stdout",
     "output_type": "stream",
     "text": [
      "XX BAD XX ('кокетлива', 'NOUN', 'кокетливий', 'ADJ')\n",
      "В часи , коли талановитий драматург досягнув піку слави й популярності , при королівському дворі в Англії користувалася увагою кокетлива й вишукана Емілія Бассано Ланьєр .\n",
      "В часи, коли талановита драматургиня досягла піку слави й популярності, при королівському дворі в Англії користувалася увагою кокетливий й вишуканий Еміль Бассано Ланьєр.\n"
     ]
    },
    {
     "name": "stderr",
     "output_type": "stream",
     "text": [
      "37it [01:27,  4.11s/it]"
     ]
    },
    {
     "name": "stdout",
     "output_type": "stream",
     "text": [
      "XX BAD XX ('свіжому', 'ADJ', 'свіж', 'NOUN')\n",
      "В наших умовах у таких « рольових коконах » продовжували дефілювати партійні ортодокси , лектори ЦК Компартії , які своєю поведінкою дуже нагадували героя Кіфера Сазерленда ( чи то герой « Меланхолії » через двадцять п’ять років наслідує їх ?.. ) , та ще офіцери КҐБ , які єдині тоді мусили бути щасливі , бо їм додалося праці : в кінці травня один такий приходив вербувати й мене ( цей сюжет я потім використала для схожого епізоду в біографії Дарини в « Музеї покинутих секретів » ) , і ми з ним близько трьох годин мужньо блукали вулицями « на свіжому повітрі » , дивуючи нечастих перехожих ( він , правда , запропонував піти до ресторану – на той час гуляти « на свіжому повітрі » вже не рекомендувалося цілком офіційно , – але на це я згодитись не могла : ресторан – то вже , як не крути , « початок угоди » , після якого відмовлятися від « співпраці » було б набагато складніше , і наковтатися трохи зайвих мікрорентґенів – яка вже різниця , кількома більше чи кількома менше ? – було однозначно привабливішою опцією ) .\n",
      "В наших умовах у таких « рольових коконах » продовжували дефілювати партійні ортодоксички , лекторки ЦК Компартії , які своєю поведінкою дуже нагадували героїню Кіфера Сазерленда ( чи то героїня « Меланхолії » через двадцять п’ять років наслідує їх ?.. ) , та ще офіцерки КҐБ , які єдині тоді мусили бути щасливі , бо їм додалося праці : в кінці травня одна така приходила вербувати й мене ( цей сюжет я потім використала для схожого епізоду в біографії Дарини в « Музеї покинутих секретів » ) , і ми з нею близько трьох годин мужньо блукали вулицями « на свіж\n"
     ]
    },
    {
     "name": "stderr",
     "output_type": "stream",
     "text": [
      "45it [01:43,  2.05s/it]"
     ]
    },
    {
     "name": "stdout",
     "output_type": "stream",
     "text": [
      "XX BAD XX ('її', 'DET', 'його', 'PRON')\n",
      "Батько вважав її хорошим педагогом , хоч насправді вона була просто привабливою жінкою , доброю і не надто вимогливою .\n",
      "Мати вважала його хорошою педагогинею, хоч насправді він був просто привабливим чоловіком, добрим і не надто вимогливим.\n"
     ]
    },
    {
     "name": "stderr",
     "output_type": "stream",
     "text": [
      "54it [02:01,  1.74s/it]"
     ]
    },
    {
     "name": "stdout",
     "output_type": "stream",
     "text": [
      "XX BAD XX ('Шеф', 'NOUN', 'Шефа', 'PROPN')\n",
      "Шеф погодився , часто говорив потім , що зробив добре діло , але говорив так , ніби шкодував за вдіяним . « Марік , — звертався він до нового підмайстра , — потрібно завжди шанувати батьків .\n",
      "Шефа погодилась, часто говорила потім, що зробила добре діло, але говорила так, ніби шкодувала за вдіяним. «Марина, — зверталась вона до нової підмайстрині, — потрібно завжди шанувати батьків.\n"
     ]
    },
    {
     "name": "stderr",
     "output_type": "stream",
     "text": [
      "61it [02:12,  1.82s/it]"
     ]
    },
    {
     "name": "stdout",
     "output_type": "stream",
     "text": [
      "XX BAD XX ('-', 'PUNCT', 'мама', 'NOUN')\n",
      "XX BAD XX ('тато', 'NOUN', ',', 'PUNCT')\n",
      "XX BAD XX (',', 'PUNCT', 'інженерка', 'NOUN')\n",
      "XX BAD XX ('інженер', 'NOUN', ',', 'PUNCT')\n",
      "XX BAD XX (',', 'PUNCT', 'Павлов', 'PROPN')\n",
      "XX BAD XX ('Павлова', 'PROPN', '-', 'PUNCT')\n",
      "За радянської влади в будинку жили чотири родини — Коліна родина займала дві кімнати на першому поверсі , поруч із ними жили Павлови — Павлов-тато , інженер , Павлова мама , теж інженер , і їхня донька — істеричка й інтриганка .\n",
      "За радянської влади в будинку жили чотири родини — Коліної родина займала дві кімнати на першому поверсі, поруч із ними жили Павлови — Павлова мама, інженерка, Павлов-тато, теж інженер, і їхня донька — істеричка й інтриганка.\n"
     ]
    },
    {
     "name": "stderr",
     "output_type": "stream",
     "text": [
      "89it [03:04,  1.57s/it]"
     ]
    },
    {
     "name": "stdout",
     "output_type": "stream",
     "text": [
      "XX BAD XX ('отаман', 'NOUN', 'отаманша', 'ADJ')\n",
      "Сотник Станімір ураз виструнчився у військову поставу й суворим командирським голосом сказав , що відмова від виконання наказу карається за всіма законами воєнного часу , тому він , отаман Шуліка , постане перед польовим судом .\n",
      "Сотниця Станіслава ураз виструнчилась у військову поставу й суворим командирським голосом сказала, що відмова від виконання наказу карається за всіма законами воєнного часу, тому вона, отаманша Шуліка, постане перед польовим судом.\n"
     ]
    },
    {
     "name": "stderr",
     "output_type": "stream",
     "text": [
      "92it [03:10,  1.89s/it]"
     ]
    },
    {
     "name": "stdout",
     "output_type": "stream",
     "text": [
      "XX BAD XX ('Станімір', 'NOUN', 'Станіслава', 'PROPN')\n",
      "Станімір із Гірняком теж потяглися до кобур , але тут Шуліка й собі прибрав військову позу , витягся , розправив плечі , розпушив вуса й сказав отаманським голосом :\n",
      "Станіслава із Гірнячкою теж потяглися до кобур , але тут Шуліка й собі прибрала військову позу , витяглася , розправила плечі , розпушила вуса й сказала отаманським голосом :\n"
     ]
    },
    {
     "name": "stderr",
     "output_type": "stream",
     "text": [
      "98it [03:21,  2.16s/it]"
     ]
    },
    {
     "name": "stdout",
     "output_type": "stream",
     "text": [
      "XX BAD XX ('той', 'DET', 'та', 'CCONJ')\n",
      "Щоб довідатися , що це за партизанська хитрість , сотник Станімір послав туди стежу на чолі з поручником Гірняком , але той не знайшов від повстанців і сліду .\n",
      "Щоб довідатися, що це за партизанська хитрість, сотниця Станіслава послала туди стежу на чолі з поручницею Гірняк, але та не знайшла від повстанців і сліду.\n"
     ]
    },
    {
     "name": "stderr",
     "output_type": "stream",
     "text": [
      "159it [05:37,  2.61s/it]"
     ]
    },
    {
     "name": "stdout",
     "output_type": "stream",
     "text": [
      "XX BAD XX ('Інок', 'PROPN', 'Інока', 'NOUN')\n",
      "XX BAD XX ('бувши', 'AUX', 'будучи', 'VERB')\n",
      "Інок не повинен турбуватися про завтрашній день , має сповідатися про свої гріхи , його ж життя має стати богобаченням , він повинен жити цілком « у послушанні монастирському » , не догоджати своїй волі , бувши відреченим од світу , жити не для себе , а для Христа , тобто здійснювати не свою волю .\n",
      "Інока не повинна турбуватися про завтрашній день , має сповідатися про свої гріхи , її ж життя має стати богобаченням , вона повинна жити цілком « у послушанні монастирському » , не догоджати своїй волі , будучи відреченою од світу , жити не для себе , а для Христя , тобто здійснювати не свою волю .\n"
     ]
    },
    {
     "name": "stderr",
     "output_type": "stream",
     "text": [
      "164it [05:46,  1.76s/it]"
     ]
    },
    {
     "name": "stdout",
     "output_type": "stream",
     "text": [
      "XX BAD XX ('інок', 'PRON', 'інока', 'NOUN')\n",
      "Він ніби розвиває думку полеміста , що інок при своєму убогому та повстримному існуванні перебуває в постійній війні зі світовими звабами та в гріховних помислах .\n",
      "Вона ніби розвиває думку полемістки , що інока при своєму убогому та повстримному існуванні перебуває в постійній війні зі світовими звабами та в гріховних помислах .\n"
     ]
    },
    {
     "name": "stderr",
     "output_type": "stream",
     "text": [
      "174it [06:16,  2.88s/it]"
     ]
    },
    {
     "name": "stdout",
     "output_type": "stream",
     "text": [
      "XX BAD XX ('той', 'DET', 'та', 'CCONJ')\n",
      "Деякі речі в « Ляментації » звучать як доноси на ректора : що той , беручи гроші за молебні , молебнів не проводить , або ж , що братія « не часто оббиває церковні пороги » , як і сам ректор .\n",
      "Деякі речі в « Ляментації » звучать як доноси на ректорку : що та, беручи гроші за молебні, молебнів не проводить, або ж, що братія « не часто оббиває церковні пороги », як і сама ректорка .\n"
     ]
    },
    {
     "name": "stderr",
     "output_type": "stream",
     "text": [
      "176it [06:18,  1.95s/it]"
     ]
    },
    {
     "name": "stdout",
     "output_type": "stream",
     "text": [
      "XX BAD XX ('щодо', 'ADP', 'regarding', 'X')\n",
      "Зберігся щодо цього лист В . Ясинського до Л . Барановича , в якому ректор сам вельми уболівав за цю трагедію .\n",
      "Зберігся regarding цього листа В . Ясинської до Л . Барановичa, в якому ректорка сама вельми уболівава за цю трагедію.\n"
     ]
    },
    {
     "name": "stderr",
     "output_type": "stream",
     "text": [
      "198it [06:53,  1.69s/it]"
     ]
    },
    {
     "name": "stdout",
     "output_type": "stream",
     "text": [
      "XX BAD XX ('ченцю', 'ADV', 'ченці', 'NOUN')\n",
      "Отож , голяку-ченцю не легко живеться , як і бідакам у світі , таких і до монастиря неохоче беруть .\n",
      "Отож , голяку-ченці не легко живеться , як і бідакам у світі , таких і до монастиря неохоче беруть .\n"
     ]
    },
    {
     "name": "stderr",
     "output_type": "stream",
     "text": [
      "200it [06:58,  2.19s/it]"
     ]
    },
    {
     "name": "stdout",
     "output_type": "stream",
     "text": [
      "XX BAD XX ('інок', 'PRON', 'інокиня', 'NOUN')\n",
      "В « Безженному іночому житті » говориться , що хоча інок вільний од жінки та дітей , але має потребу в господині , а ще хоче « усяке й багато » , отож мусить , бідака , потерпати .\n",
      "В «Безженному жіночому житті» говориться, що хоча інокиня вільна од чоловіків та дітей, але має потребу в господареві, а ще хоче «усяке й багато», отож мусить, бідака, потерпати.\n"
     ]
    },
    {
     "name": "stderr",
     "output_type": "stream",
     "text": [
      "201it [06:59,  1.86s/it]"
     ]
    },
    {
     "name": "stdout",
     "output_type": "stream",
     "text": [
      "XX BAD XX ('Одружений', 'NOUN', 'Одружена', 'ADJ')\n",
      "XX BAD XX ('Бога', 'NOUN', 'Божої', 'ADJ')\n",
      "Одружений має у скорботах утіху , а ченцеві потіха лише від Бога — твір не без гумору .\n",
      "Одружена має у скорботах утіху, а черниці потіха лише від Божої — твір не без гумору.\n"
     ]
    },
    {
     "name": "stderr",
     "output_type": "stream",
     "text": [
      "209it [07:10,  1.35s/it]"
     ]
    },
    {
     "name": "stdout",
     "output_type": "stream",
     "text": [
      "XX BAD XX ('Великого', 'PROPN', 'Великої', 'ADJ')\n",
      "Уніятські ченці тоді об’єднувались в ордені св . Василія Великого ( василіяни ) , а інші були підлеглі митрополиту ( в Дермані , Дубні та інших місцях ) .\n",
      "Уніятські черниці тоді об’єднувались в ордені св . Василії Великої ( василіянки ) , а інші були підлеглі митрополиту ( в Дермані , Дубні та інших місцях ) .\n"
     ]
    },
    {
     "name": "stderr",
     "output_type": "stream",
     "text": [
      "215it [07:25,  2.13s/it]"
     ]
    },
    {
     "name": "stdout",
     "output_type": "stream",
     "text": [
      "XX BAD XX ('.', 'PUNCT', 'Оповідається', 'VERB')\n",
      "XX BAD XX ('Оповідається', 'VERB', 'історія', 'NOUN')\n",
      "XX BAD XX ('історія', 'NOUN', 'Василіянського', 'ADJ')\n",
      "XX BAD XX ('Василіянського', 'ADJ', 'ордену', 'NOUN')\n",
      "XX BAD XX ('ордену', 'NOUN', '.', 'PUNCT')\n",
      "Однак у римо-католицькій церкві « орденів багато » , тож задля різнорідності звичаїв біскуп не може ними управляти , адже біскупи все-таки належали до білого духовенства ( світського ) . Оповідається історія Василіянського ордену .\n",
      "Однак у римо-католицькій церкві « орденів багато », тож задля різнорідності звичаїв біскупка не може ними управляти, адже біскупки все-таки належали до білого духовенства ( світського ). Оповідається історія Василіянського ордену.\n"
     ]
    },
    {
     "name": "stderr",
     "output_type": "stream",
     "text": [
      "220it [07:33,  1.68s/it]"
     ]
    },
    {
     "name": "stdout",
     "output_type": "stream",
     "text": [
      "XX BAD XX ('Рильського', 'PROPN', 'Рильської', 'ADJ')\n",
      "Тому спроба Рильського перекладати Міцкевича є подвигом ( при тому , що за саму польську барокову метафізичну поезію ніхто з українських перекладачів наразі не брався ) .\n",
      "Тому спроба Рильської перекладати Міцкевич є подвигом ( при тому , що за саму польську барокову метафізичну поезію ніхто з українських перекладачок наразі не брався ) .\n"
     ]
    },
    {
     "name": "stderr",
     "output_type": "stream",
     "text": [
      "282it [09:12,  1.53s/it]"
     ]
    },
    {
     "name": "stdout",
     "output_type": "stream",
     "text": [
      "XX BAD XX (',', 'PUNCT', 'володіє', 'VERB')\n",
      "XX BAD XX ('згідно', 'ADV', '10', 'NUM')\n",
      "XX BAD XX ('з', 'ADP', ',', 'PUNCT')\n",
      "XX BAD XX ('останніми', 'ADJ', '22', 'NUM')\n",
      "XX BAD XX ('SMIDA', 'X', 'акцій', 'NOUN')\n",
      "XX BAD XX (',', 'PUNCT', 'ПрАТ', 'NOUN')\n",
      "XX BAD XX ('володіє', 'VERB', '«', 'PUNCT')\n",
      "XX BAD XX ('10', 'NUM', 'Бердянський', 'ADJ')\n",
      "XX BAD XX (',', 'PUNCT', 'райагропромпостач', 'NOUN')\n",
      "XX BAD XX ('22', 'NUM', '»', 'PUNCT')\n",
      "XX BAD XX ('%', 'NOUN', ',', 'PUNCT')\n",
      "XX BAD XX ('«', 'PUNCT', 'якого', 'DET')\n",
      "XX BAD XX ('Бердянський', 'ADJ', 'Олександр', 'PROPN')\n",
      "XX BAD XX ('райагропромпостач', 'NOUN', 'Пономарьов', 'PROPN')\n",
      "XX BAD XX ('»', 'PUNCT', 'був', 'AUX')\n",
      "XX BAD XX (',', 'PUNCT', 'до', 'ADP')\n",
      "XX BAD XX ('головою', 'NOUN', 'свого', 'DET')\n",
      "XX BAD XX ('якого', 'DET', 'народною', 'ADJ')\n",
      "XX BAD XX ('Олександр', 'PROPN', 'депутаткою', 'NOUN')\n",
      "XX BAD XX ('Пономарьов', 'PROPN', '.', 'PUNCT')\n",
      "Олена Добича, згідно з останніми даними SMIDA, володіє 10,22% акцій ПрАТ «Бердянський райагропромпостач», головою правління якого Олександр Пономарьов був до свого обрання народним депутатом.\n",
      "Олега Добич володіє 10,22% акцій ПрАТ «Бердянський райагропромпостач», головою правління якого Олександр Пономарьов був до свого обрання народною депутаткою.\n"
     ]
    },
    {
     "name": "stderr",
     "output_type": "stream",
     "text": [
      "285it [09:18,  1.91s/it]"
     ]
    },
    {
     "name": "stdout",
     "output_type": "stream",
     "text": [
      "XX BAD XX ('Слідчий', 'NOUN', 'Слідча', 'ADJ')\n",
      "Слідчий повідомив, що до прокуратури звернувся з заявою голова Громадської ради при виконавчому комітеті Лиманської міськради.\n",
      "Слідча повідомила, що до прокуратури звернулася з заявою голова Громадської ради при виконавчому комітеті Лиманської міськради.\n"
     ]
    },
    {
     "name": "stderr",
     "output_type": "stream",
     "text": [
      "287it [09:23,  1.93s/it]"
     ]
    },
    {
     "name": "stdout",
     "output_type": "stream",
     "text": [
      "XX BAD XX ('слідчий', 'NOUN', 'слідча', 'ADJ')\n",
      "В суді слідчий клопотав накласти арешт на вилучені документи і суд це клопотання задовольнив.\n",
      "В суді слідча клопотала накласти арешт на вилучені документи і суд це клопотання задовольнив.\n"
     ]
    },
    {
     "name": "stderr",
     "output_type": "stream",
     "text": [
      "327it [10:24,  1.26s/it]"
     ]
    },
    {
     "name": "stdout",
     "output_type": "stream",
     "text": [
      "XX BAD XX ('АІС', 'NOUN', 'АІС-', 'PROPN')\n",
      "XX BAD XX ('-', 'PUNCT', 'Полтава', 'PROPN')\n",
      "XX BAD XX ('Полтава', 'PROPN', '»', 'PUNCT')\n",
      "XX BAD XX ('»', 'PUNCT', 'значиться', 'VERB')\n",
      "XX BAD XX ('значиться', 'VERB', 'Валентина', 'PROPN')\n",
      "XX BAD XX ('Вашак', 'PROPN', '.', 'PUNCT')\n",
      "Директором «АІС-Полтава» значиться Вадим Вашак.\n",
      "Директоркою «АІС-Полтава» значиться Валентина Вашак.\n"
     ]
    },
    {
     "name": "stderr",
     "output_type": "stream",
     "text": [
      "374it [11:31,  1.64s/it]"
     ]
    },
    {
     "name": "stdout",
     "output_type": "stream",
     "text": [
      "XX BAD XX (',', 'PUNCT', 'є', 'AUX')\n",
      "XX BAD XX ('є', 'VERB', 'Назарія', 'PROPN')\n",
      "XX BAD XX ('Гончаренко', 'PROPN', '-', 'PUNCT')\n",
      "XX BAD XX ('-', 'PUNCT', 'бухгалтерка', 'NOUN')\n",
      "XX BAD XX ('бухгалтер', 'NOUN', 'у', 'ADP')\n",
      "XX BAD XX ('у', 'ADP', 'ТОВ', 'NOUN')\n",
      "XX BAD XX ('ТОВ', 'NOUN', '«', 'PUNCT')\n",
      "XX BAD XX ('«', 'PUNCT', 'Річ', 'NOUN')\n",
      "XX BAD XX ('Річ', 'NOUN', '-', 'PUNCT')\n",
      "XX BAD XX ('-', 'PUNCT', 'М', 'PROPN')\n",
      "XX BAD XX ('М', 'PROPN', '»', 'PUNCT')\n",
      "XX BAD XX (',', 'PUNCT', 'яке', 'DET')\n",
      "XX BAD XX ('яке', 'DET', 'належить', 'VERB')\n",
      "XX BAD XX ('належить', 'VERB', 'головному', 'ADJ')\n",
      "XX BAD XX ('головному', 'ADJ', 'інженерці', 'NOUN')\n",
      "XX BAD XX ('інженеру', 'NOUN', '«', 'PUNCT')\n",
      "XX BAD XX ('«', 'PUNCT', 'Київпастрансу', 'PROPN')\n",
      "XX BAD XX ('Київпастрансу', 'PROPN', '»', 'PUNCT')\n",
      "XX BAD XX ('»', 'PUNCT', 'Юрії', 'PROPN')\n",
      "XX BAD XX ('Бомбандьорову', 'PROPN', '.', 'PUNCT')\n",
      "Одним із найбільших акціонерів КЗЕТ, є Надія Гончаренко -бухгалтер у ТОВ «Річ-М», яке належить головному інженеру «Київпастрансу» Юрію Бомбандьорову.\n",
      "Однією із найбільших акціонерок КЗЕТ є Назарія Гончаренко - бухгалтерка у ТОВ «Річ-М», яке належить головному інженерці «Київпастрансу» Юрії Бомбандьоровій.\n"
     ]
    },
    {
     "name": "stderr",
     "output_type": "stream",
     "text": [
      "432it [13:12,  1.39s/it]"
     ]
    },
    {
     "name": "stdout",
     "output_type": "stream",
     "text": [
      "XX BAD XX ('уповноважена', 'ADJ', 'уповноважений', 'NOUN')\n",
      "Про це повідомила державна уповноважена АМКУ Світлана Панаіотіді.\n",
      "Про це повідомив державний уповноважений АМКУ Сергій Панаіотіді.\n"
     ]
    },
    {
     "name": "stderr",
     "output_type": "stream",
     "text": [
      "438it [13:22,  1.72s/it]"
     ]
    },
    {
     "name": "stdout",
     "output_type": "stream",
     "text": [
      "XX BAD XX (\"прем'єр\", 'ADJ', \"прем'єрка\", 'NOUN')\n",
      "Вдячність свідомим громадянам, що досконально вивчають портал держзакупівель і оприлюднюють підозрілу інформацію, висловив віце-прем'єр – міністр фінансів РФ Олексій Кудрін.\n",
      "Вдячність свідомим громадянам, що досконально вивчають портал держзакупівель і оприлюднюють підозрілу інформацію, висловила віце-прем'єрка – міністерка фінансів РФ Олександра Кудріна.\n"
     ]
    },
    {
     "name": "stderr",
     "output_type": "stream",
     "text": [
      "461it [13:57,  1.73s/it]"
     ]
    },
    {
     "name": "stdout",
     "output_type": "stream",
     "text": [
      "XX BAD XX ('Плюс', 'PROPN', '-', 'PUNCT')\n",
      "XX BAD XX ('»', 'PUNCT', 'Плюс', 'PROPN')\n",
      "XX BAD XX ('перебуває', 'VERB', '»', 'PUNCT')\n",
      "XX BAD XX ('у', 'ADP', 'перебуває', 'VERB')\n",
      "XX BAD XX ('дружніх', 'ADJ', 'у', 'ADP')\n",
      "XX BAD XX ('відносинах', 'NOUN', 'дружніх', 'ADJ')\n",
      "XX BAD XX ('з', 'ADP', 'відносинах', 'NOUN')\n",
      "XX BAD XX ('депутатом', 'NOUN', 'з', 'ADP')\n",
      "XX BAD XX ('Черкаської', 'ADJ', 'депутаткою', 'NOUN')\n",
      "XX BAD XX ('міськради', 'NOUN', 'Черкаської', 'ADJ')\n",
      "XX BAD XX ('від', 'ADP', 'міськради', 'NOUN')\n",
      "XX BAD XX ('«', 'PUNCT', 'від', 'ADP')\n",
      "XX BAD XX ('Батьківщини', 'NOUN', '«', 'PUNCT')\n",
      "XX BAD XX ('»', 'PUNCT', 'Батьківщини', 'NOUN')\n",
      "XX BAD XX ('Юрієм', 'PROPN', '»', 'PUNCT')\n",
      "XX BAD XX (',', 'PUNCT', 'Тренкіною', 'PROPN')\n",
      "XX BAD XX ('родині', 'NOUN', ',', 'PUNCT')\n",
      "XX BAD XX ('якого', 'DET', 'родині', 'NOUN')\n",
      "XX BAD XX ('належить', 'VERB', 'якої', 'DET')\n",
      "XX BAD XX ('ТОВ', 'NOUN', 'належить', 'VERB')\n",
      "XX BAD XX ('«', 'PUNCT', 'ТОВ', 'NOUN')\n",
      "XX BAD XX ('Хлібний', 'ADJ', '«', 'PUNCT')\n",
      "XX BAD XX ('Дім', 'NOUN', 'Хлібний', 'ADJ')\n",
      "XX BAD XX ('–', 'PUNCT', 'Дім', 'NOUN')\n",
      "XX BAD XX ('Україна', 'PROPN', '–', 'PUNCT')\n",
      "XX BAD XX ('»', 'PUNCT', 'Україна', 'PROPN')\n",
      "За даними черкаської поліції, керівництво «Каштан- Плюс» перебуває у дружніх відносинах з депутатом Черкаської міськради від «Батьківщини» Юрієм Тренкіним, родині якого належить ТОВ «Хлібний Дім – Україна».\n",
      "За даними черкаської поліції, керівництво «Каштан- Плюс» перебуває у дружніх відносинах з депутаткою Черкаської міськради від «Батьківщини» Юлією Тренкіною, родині якої належить ТОВ «Хлібний Дім – Україна».\n"
     ]
    },
    {
     "name": "stderr",
     "output_type": "stream",
     "text": [
      "467it [14:06,  1.19s/it]"
     ]
    },
    {
     "name": "stdout",
     "output_type": "stream",
     "text": [
      "XX BAD XX ('цьому', 'PRON', 'цій', 'DET')\n",
      "Завдяки цьому екс-міністр може убезпечити своє майно від арешту.\n",
      "Завдяки цій екс-міністрці може убезпечити своє майно від арешту.\n"
     ]
    },
    {
     "name": "stderr",
     "output_type": "stream",
     "text": [
      "484it [14:29,  1.25s/it]"
     ]
    },
    {
     "name": "stdout",
     "output_type": "stream",
     "text": [
      "XX BAD XX ('фірму', 'NOUN', 'а', 'CCONJ')\n",
      "XX BAD XX ('контролювало', 'VERB', 'фірму', 'NOUN')\n",
      "XX BAD XX ('бізнес', 'NOUN', 'контролювало', 'VERB')\n",
      "XX BAD XX ('-', 'PUNCT', 'бізнес', 'NOUN')\n",
      "XX BAD XX ('середовище', 'NOUN', '-', 'PUNCT')\n",
      "XX BAD XX ('Миколи', 'PROPN', 'екс-міністринь', 'NOUN')\n",
      "XX BAD XX (',', 'PUNCT', 'Присяжнюк', 'PROPN')\n",
      "XX BAD XX ('Едуарда', 'PROPN', ',', 'PUNCT')\n",
      "XX BAD XX ('і', 'CCONJ', 'Ставицької', 'PROPN')\n",
      "XX BAD XX ('колишнього', 'ADJ', 'і', 'CCONJ')\n",
      "XX BAD XX ('депутата', 'NOUN', 'народної', 'ADJ')\n",
      "XX BAD XX ('Юрія', 'PROPN', 'депутатки', 'NOUN')\n",
      "XX BAD XX ('.', 'PUNCT', 'Іванющенко', 'PROPN')\n",
      "За часів Януковича фірму контролювало бізнес-середовище екс-міністрів Миколи Присяжнюка, Едуарда Ставицького і колишнього народного депутата Юрія Іванющенка.\n",
      "За часів Янукович а фірму контролювало бізнес-середовище екс-міністринь Олени Присяжнюк, Еліни Ставицької і колишньої народної депутатки Юлії Іванющенко.\n"
     ]
    },
    {
     "name": "stderr",
     "output_type": "stream",
     "text": [
      "488it [14:35,  1.50s/it]"
     ]
    },
    {
     "name": "stdout",
     "output_type": "stream",
     "text": [
      "XX BAD XX ('призначено', 'VERB', 'призначеною', 'ADJ')\n",
      "Євгена Дихне було призначено в. о. гендиректора держкомпанії «Міжнародний аеропорт «Бориспіль» у вересні 2014.\n",
      "Євгенія Дихна було призначеною в. о. гендиректорки держкомпанії «Міжнародний аеропорт «Бориспіль» у вересні 2014.\n"
     ]
    },
    {
     "name": "stderr",
     "output_type": "stream",
     "text": [
      "502it [14:55,  2.17s/it]"
     ]
    },
    {
     "name": "stdout",
     "output_type": "stream",
     "text": [
      "XX BAD XX ('який', 'DET', ',', 'PUNCT')\n",
      "XX BAD XX ('володіє', 'VERB', 'яка', 'DET')\n",
      "XX BAD XX ('100', 'NUM', 'володіє', 'VERB')\n",
      "XX BAD XX ('%', 'NOUN', '100', 'NUM')\n",
      "XX BAD XX ('статутного', 'ADJ', '%', 'NOUN')\n",
      "XX BAD XX ('капіталу', 'NOUN', 'статутного', 'ADJ')\n",
      "XX BAD XX ('є', 'AUX', 'капіталу', 'NOUN')\n",
      "XX BAD XX ('громадянин', 'NOUN', ',', 'PUNCT')\n",
      "XX BAD XX ('України', 'PROPN', 'є', 'AUX')\n",
      "XX BAD XX ('Ткачук', 'PROPN', 'громадянка', 'NOUN')\n",
      "XX BAD XX (',', 'PUNCT', 'Ірина', 'PROPN')\n",
      "XX BAD XX ('який', 'DET', 'Борисівна', 'PROPN')\n",
      "XX BAD XX ('також', 'ADV', ',', 'PUNCT')\n",
      "XX BAD XX ('є', 'AUX', 'яка', 'DET')\n",
      "XX BAD XX ('одним', 'DET', 'також', 'ADV')\n",
      "XX BAD XX ('з', 'ADP', 'є', 'AUX')\n",
      "XX BAD XX ('засновників', 'NOUN', 'одною', 'DET')\n",
      "XX BAD XX ('ТОВ', 'NOUN', 'з', 'ADP')\n",
      "XX BAD XX ('«', 'PUNCT', 'засновниць', 'NOUN')\n",
      "XX BAD XX ('Авіаресурс', 'PROPN', 'ТОВ', 'NOUN')\n",
      "XX BAD XX (',', 'PUNCT', 'Авіаресурс', 'PROPN')\n",
      "XX BAD XX ('та', 'CCONJ', '»', 'PUNCT')\n",
      "XX BAD XX ('володіє', 'VERB', ',', 'PUNCT')\n",
      "XX BAD XX ('50', 'NUM', 'та', 'CCONJ')\n",
      "XX BAD XX ('%', 'NOUN', 'володіє', 'VERB')\n",
      "XX BAD XX ('статутного', 'ADJ', '50', 'NUM')\n",
      "XX BAD XX ('…', 'PUNCT', '%', 'NOUN')\n",
      "XX BAD XX (',', 'PUNCT', 'статутного', 'ADJ')\n",
      "XX BAD XX ('тобто', 'SCONJ', '…', 'PUNCT')\n",
      "XX BAD XX ('є', 'AUX', ',', 'PUNCT')\n",
      "XX BAD XX (\"пов'язаною\", 'ADJ', 'тобто', 'SCONJ')\n",
      "XX BAD XX ('особою', 'NOUN', 'є', 'AUX')\n",
      "XX BAD XX ('між', 'ADP', \"пов'язаною\", 'ADJ')\n",
      "XX BAD XX ('«', 'PUNCT', 'між', 'ADP')\n",
      "XX BAD XX ('та', 'CCONJ', 'авіаресурс', 'NOUN')\n",
      "XX BAD XX ('ТОВ', 'NOUN', '»', 'PUNCT')\n",
      "XX BAD XX ('«', 'PUNCT', 'та', 'CCONJ')\n",
      "XX BAD XX ('Український', 'ADJ', 'ТОВ', 'NOUN')\n",
      "XX BAD XX ('Авіаційний', 'ADJ', '«', 'PUNCT')\n",
      "XX BAD XX ('Сервіс', 'NOUN', 'Український', 'ADJ')\n",
      "XX BAD XX ('»', 'PUNCT', 'Авіаційний', 'ADJ')\n",
      "XX BAD XX (',', 'PUNCT', 'Сервіс', 'NOUN')\n",
      "XX BAD XX ('констатував', 'VERB', ',', 'PUNCT')\n",
      "XX BAD XX ('тендерний', 'ADJ', '–', 'PUNCT')\n",
      "XX BAD XX ('комітет', 'NOUN', 'констатував', 'VERB')\n",
      "XX BAD XX ('.', 'PUNCT', 'міліцейської', 'ADJ')\n",
      "Уважно вивчивши надані документи …, засновником ТОВ «Український Авіаційний Сервіс» який володіє 100% статутного капіталу є громадянин України Ткачук Ігор Борисовичі, який також є одним з засновників ТОВ «Авіаресурс», та володіє 50% статутного …, тобто є пов'язаною особою між ТОВ «авіаресурс» та ТОВ «Український Авіаційний Сервіс», – констатував тендерний комітет міліцейської частини.\n",
      "Уважно вивчивши надані документи …, засновницею ТОВ «Український Авіаційний Сервіс», яка володіє 100% статутного капіталу, є громадянка України Ткачук Ірина Борисівна, яка також є одною з засновниць ТОВ «Авіаресурс», та володіє 50% статутного …, тобто є пов'язаною особою між ТОВ «авіаресурс» та ТОВ «Український Авіаційний Сервіс», – констатував тендерний комітет міліцейської частини.\n"
     ]
    },
    {
     "name": "stderr",
     "output_type": "stream",
     "text": [
      "513it [15:13,  1.88s/it]"
     ]
    },
    {
     "name": "stdout",
     "output_type": "stream",
     "text": [
      "XX BAD XX ('слідчий', 'NOUN', 'слідча', 'ADJ')\n",
      "XX BAD XX ('наклала', 'VERB', 'суддя', 'NOUN')\n",
      "XX BAD XX ('слідчий', 'ADJ', 'Наталій', 'PROPN')\n",
      "XX BAD XX ('суддя', 'NOUN', 'Зубачик', 'PROPN')\n",
      "XX BAD XX ('Наталія', 'PROPN', '.', 'PUNCT')\n",
      "Нагадаємо, 19 серпня арешт на вказані кошти слідчий наклала слідчий суддя Наталія Зубачик.\n",
      "Нагадаємо, 19 серпня арешт на вказані кошти слідча суддя Наталій Зубачик.\n"
     ]
    },
    {
     "name": "stderr",
     "output_type": "stream",
     "text": [
      "539it [15:53,  1.77s/it]\n"
     ]
    }
   ],
   "source": [
    "compare_pos_tags(for_pos_check_gender_swapped_df)"
   ]
  },
  {
   "cell_type": "code",
   "execution_count": 3,
   "metadata": {},
   "outputs": [],
   "source": [
    "import os\n",
    "import numpy as np\n",
    "import spacy\n",
    "import tqdm\n",
    "from langchain_text_splitters import RecursiveCharacterTextSplitter"
   ]
  },
  {
   "cell_type": "code",
   "execution_count": 13,
   "metadata": {},
   "outputs": [
    {
     "name": "stderr",
     "output_type": "stream",
     "text": [
      "/Users/linndfors/study/diploma/new_venv/lib/python3.10/site-packages/transformers/utils/generic.py:309: UserWarning: torch.utils._pytree._register_pytree_node is deprecated. Please use torch.utils._pytree.register_pytree_node instead.\n",
      "  _torch_pytree._register_pytree_node(\n",
      "/Users/linndfors/study/diploma/new_venv/lib/python3.10/site-packages/spacy_transformers/layers/hf_shim.py:137: UserWarning: Error loading saved torch state_dict with strict=True, likely due to differences between 'transformers' versions. Attempting to load with strict=False as a fallback...\n",
      "\n",
      "If you see errors or degraded performance, download a newer compatible model or retrain your custom model with the current 'transformers' and 'spacy-transformers' versions. For more details and available updates, run: python -m spacy validate\n",
      "  warnings.warn(warn_msg)\n"
     ]
    }
   ],
   "source": [
    "ner_nlp = spacy.load(\"uk_ner_web_trf_13class\")"
   ]
  },
  {
   "cell_type": "code",
   "execution_count": null,
   "metadata": {},
   "outputs": [],
   "source": [
    "import json\n",
    "\n",
    "with open (\"../fem_dictionary.json\") as js:\n",
    "    musc_dict = json.load(js)\n",
    "\n",
    "fem_dict = dict(reversed(list(musc_dict.items())))"
   ]
  },
  {
   "cell_type": "code",
   "execution_count": 129,
   "metadata": {},
   "outputs": [
    {
     "data": {
      "text/plain": [
       "12"
      ]
     },
     "execution_count": 129,
     "metadata": {},
     "output_type": "execute_result"
    }
   ],
   "source": [
    "len(ner_results_swapped)"
   ]
  },
  {
   "cell_type": "code",
   "execution_count": 130,
   "metadata": {},
   "outputs": [
    {
     "data": {
      "text/plain": [
       "spacy.tokens.doc.Doc"
      ]
     },
     "execution_count": 130,
     "metadata": {},
     "output_type": "execute_result"
    }
   ],
   "source": [
    "type(ner_results_swapped)"
   ]
  },
  {
   "cell_type": "code",
   "execution_count": null,
   "metadata": {},
   "outputs": [
    {
     "name": "stdout",
     "output_type": "stream",
     "text": [
      "good example from dict: депутат - депутатка\n",
      "\n",
      "good example from dict: президент - президентка\n",
      "\n",
      "X this pair not from the dict: комунальник - комунальниця\n",
      "\n",
      "X this pair not from the dict: судді - судді\n",
      "\n",
      "X this pair not from the dict: судді - судді\n",
      "\n",
      "X this pair not from the dict: судді - судді\n",
      "\n",
      "X this pair not from the dict: суддя - суддя\n",
      "\n",
      "X this pair not from the dict: суддя - суддя\n",
      "\n",
      "X this pair not from the dict: суддя - суддя\n",
      "\n",
      "X this pair not from the dict: суддя - суддя\n",
      "\n",
      "X this pair not from the dict: суддя - суддя\n",
      "\n",
      "X this pair not from the dict: судді - судді\n",
      "\n",
      "X this pair not from the dict: судді - судді\n",
      "\n",
      "X this pair not from the dict: суддя - суддя\n",
      "\n",
      "X this pair not from the dict: суддя - суддя\n",
      "\n",
      "X this pair not from the dict: суддя - суддя\n",
      "\n",
      "X this pair not from the dict: суддя - суддя\n",
      "\n",
      "X this pair not from the dict: судді - судді\n",
      "\n",
      "good example from dict: директор - директорка\n",
      "\n",
      "good example from dict: чиновник - чиновниця\n",
      "\n",
      "good example from dict: депутат - депутатка\n",
      "\n",
      "X this pair not from the dict: екс - екс\n",
      "\n",
      "X this pair not from the dict: - - -\n",
      "\n",
      "good example from dict: міністр - міністерка\n",
      "\n",
      "relevant feminitive to the депутат would be депутатка, but it is депутаток\n",
      "\n",
      "relevant feminitive to the підприємець would be підприємиця, but it is підприємниця\n",
      "\n",
      "relevant feminitive to the лікар would be лікарка, but it is лікар\n",
      "\n",
      "relevant feminitive to the підприємець would be підприємиця, but it is підприємниця\n",
      "\n",
      "relevant feminitive to the підприємець would be підприємиця, but it is підприємець\n",
      "\n",
      "good example from dict: журналіст - журналістка\n",
      "\n",
      "good example from dict: експерт - експертка\n",
      "\n",
      "relevant feminitive to the підприємець would be підприємиця, but it is підприємниця\n",
      "\n",
      "good example from dict: президент - президентка\n",
      "\n",
      "good example from dict: губернатор - губернаторка\n",
      "\n",
      "good example from dict: засновник - засновниця\n",
      "\n",
      "good example from dict: директор - директорка\n",
      "\n",
      "good example from dict: засновник - засновниця\n",
      "\n",
      "good example from dict: директор - директорка\n",
      "\n",
      "X this pair not from the dict: голова - голова\n",
      "\n",
      "relevant feminitive to the депутат would be депутатка, but it is депутат\n",
      "\n",
      "good example from dict: засновник - засновниця\n",
      "\n",
      "X this pair not from the dict: голова - голова\n",
      "\n",
      "relevant feminitive to the слідчий would be слідча, but it is слідчий\n",
      "\n",
      "X this pair not from the dict: голова - голова\n",
      "\n",
      "relevant feminitive to the слідчий would be слідча, but it is слідчий\n",
      "\n",
      "good example from dict: засновник - засновниця\n",
      "\n",
      "good example from dict: прокурор - прокурорка\n",
      "\n",
      "good example from dict: юрист - юристка\n",
      "\n",
      "X this pair not from the dict: екснардеп - екснардепець\n",
      "\n",
      "good example from dict: керівник - керівниця\n",
      "\n",
      "good example from dict: керівник - керівниця\n",
      "\n",
      "good example from dict: засновник - засновниця\n",
      "\n",
      "X this pair not from the dict: екс - екс\n",
      "\n",
      "X this pair not from the dict: - - -\n",
      "\n",
      "good example from dict: помічник - помічниця\n",
      "\n",
      "X this pair not from the dict: екснардепа - екснардепа\n",
      "\n",
      "X this pair not from the dict: віце - віце\n",
      "\n",
      "X this pair not from the dict: - - -\n",
      "\n",
      "good example from dict: президент - президентка\n",
      "\n",
      "good example from dict: депутат - депутатка\n",
      "\n",
      "good example from dict: депутат - депутатка\n",
      "\n",
      "relevant feminitive to the депутат would be депутатка, but it is депутаток\n",
      "\n",
      "good example from dict: президент - президентка\n",
      "\n",
      "good example from dict: директор - директорка\n",
      "\n",
      "relevant feminitive to the бізнесмен would be бізнесвумен, but it is бізнесменка\n",
      "\n",
      "X this pair not from the dict: нардеп - нардепка\n",
      "\n",
      "good example from dict: керівник - керівниця\n",
      "\n",
      "relevant feminitive to the слідчий would be слідча, but it is слідчий\n",
      "\n",
      "good example from dict: засновник - засновниця\n",
      "\n",
      "good example from dict: керівник - керівниця\n",
      "\n",
      "good example from dict: директор - директорка\n",
      "\n",
      "good example from dict: засновник - засновниця\n",
      "\n",
      "good example from dict: засновник - засновниця\n",
      "\n",
      "good example from dict: директор - директорка\n",
      "\n",
      "good example from dict: журналіст - журналістка\n",
      "\n",
      "X this pair not from the dict: голова - голова\n",
      "\n",
      "X this pair not from the dict: заступниця - заступник\n",
      "\n",
      "X this pair not from the dict: держуповноважен - держуповноважений\n",
      "\n",
      "X this pair not from the dict: нардеп - нардепка\n",
      "\n",
      "X this pair not from the dict: екс - екс\n",
      "\n",
      "X this pair not from the dict: - - -\n",
      "\n",
      "X this pair not from the dict: нардеп - нардепка\n",
      "\n",
      "good example from dict: менеджер - менеджерка\n",
      "\n",
      "good example from dict: прокурор - прокурорка\n",
      "\n",
      "good example from dict: прокурор - прокурорка\n",
      "\n",
      "X this pair not from the dict: екс - екс\n",
      "\n",
      "X this pair not from the dict: - - -\n",
      "\n",
      "X this pair not from the dict: нардеп - нардепка\n",
      "\n",
      "relevant feminitive to the керівник would be керівниця, but it is керівник\n",
      "\n",
      "good example from dict: керівник - керівниця\n",
      "\n",
      "X this pair not from the dict: екс - екс\n",
      "\n",
      "X this pair not from the dict: - - -\n",
      "\n",
      "X this pair not from the dict: голова - голова\n",
      "\n",
      "good example from dict: співзасновник - співзасновниця\n",
      "\n",
      "X this pair not from the dict: гендиректор - гендиректорка\n",
      "\n",
      "X this pair not from the dict: нардеп - нардепка\n",
      "\n",
      "X this pair not from the dict: екс - екс\n",
      "\n",
      "X this pair not from the dict: - - -\n",
      "\n",
      "good example from dict: депутат - депутатка\n",
      "\n",
      "X this pair not from the dict: - - -\n",
      "\n",
      "good example from dict: засновник - засновниця\n",
      "\n",
      "X this pair not from the dict: екс - екс\n",
      "\n",
      "X this pair not from the dict: - - -\n",
      "\n",
      "X this pair not from the dict: генпрокурор - генпрокурорка\n",
      "\n",
      "relevant feminitive to the депутат would be депутатка, but it is депутаток\n",
      "\n",
      "good example from dict: юрист - юристка\n",
      "\n",
      "X this pair not from the dict: мера - мерка\n",
      "\n",
      "good example from dict: забудовник - забудовниця\n",
      "\n",
      "relevant feminitive to the депутат would be депутатка, but it is депутаток\n",
      "\n",
      "good example from dict: керівник - керівниця\n",
      "\n",
      "X this pair not from the dict: детектив - детективка\n",
      "\n",
      "relevant feminitive to the депутат would be депутатка, but it is депутаток\n",
      "\n",
      "X this pair not from the dict: екс - екс\n",
      "\n",
      "X this pair not from the dict: - - -\n",
      "\n",
      "X this pair not from the dict: нардеп - нардепка\n",
      "\n",
      "good example from dict: засновник - засновниця\n",
      "\n",
      "good example from dict: прикордонник - прикордонниця\n",
      "\n",
      "good example from dict: експерт - експертка\n",
      "\n",
      "X this pair not from the dict: залізничник - залізничниця\n",
      "\n",
      "X this pair not from the dict: суддя - суддя\n",
      "\n",
      "relevant feminitive to the слідчий would be слідча, but it is слідчий\n",
      "\n",
      "relevant feminitive to the слідчий would be слідча, but it is слідчий\n",
      "\n",
      "X this pair not from the dict: екс - екс\n",
      "\n",
      "X this pair not from the dict: - - -\n",
      "\n",
      "relevant feminitive to the міністр would be міністерка, but it is міністр\n",
      "\n",
      "good example from dict: журналіст - журналістка\n",
      "\n",
      "good example from dict: директор - директорка\n",
      "\n",
      "X this pair not from the dict: - бухгалтер - бухгалтерка\n",
      "\n",
      "good example from dict: очільник - очільниця\n",
      "\n",
      "good example from dict: керівник - керівниця\n",
      "\n",
      "good example from dict: правоохоронець - правоохоронниця\n",
      "\n",
      "X this pair not from the dict: ексочільник - ексочільниця\n",
      "\n",
      "good example from dict: засновник - засновниця\n",
      "\n",
      "relevant feminitive to the засновник would be засновниця, but it is засновник\n",
      "\n",
      "X this pair not from the dict: антимонопольник - антимонопольниця\n",
      "\n",
      "X this pair not from the dict: антимонопольник - антимонопольниця\n",
      "\n",
      "good example from dict: депутат - депутатка\n",
      "\n",
      "good example from dict: засновник - засновниця\n",
      "\n",
      "good example from dict: засновник - засновниця\n",
      "\n",
      "good example from dict: прокурор - прокурорка\n",
      "\n",
      "good example from dict: прокурор - прокурорка\n",
      "\n",
      "relevant feminitive to the засновник would be засновниця, but it is засновник\n",
      "\n",
      "relevant feminitive to the слідчий would be слідча, but it is слідчий\n",
      "\n",
      "relevant feminitive to the слідчий would be слідча, but it is слідчий\n",
      "\n",
      "X this pair not from the dict: суддя - суддя\n",
      "\n",
      "relevant feminitive to the слідчий would be слідча, but it is слідчий\n",
      "\n",
      "relevant feminitive to the правоохоронець would be правоохоронниця, but it is правоохоронець\n",
      "\n",
      "relevant feminitive to the слідчий would be слідча, but it is слідчий\n",
      "\n",
      "good example from dict: директор - директорка\n",
      "\n",
      "good example from dict: депутат - депутатка\n",
      "\n",
      "good example from dict: засновник - засновниця\n",
      "\n",
      "good example from dict: засновник - засновниця\n",
      "\n",
      "good example from dict: директор - директорка\n",
      "\n",
      "good example from dict: засновник - засновниця\n",
      "\n",
      "good example from dict: директор - директорка\n",
      "\n",
      "good example from dict: директор - директорка\n",
      "\n",
      "X this pair not from the dict: детектив - детективка\n",
      "\n",
      "X this pair not from the dict: держвиконавець - держвиконавиця\n",
      "\n",
      "good example from dict: начальник - начальниця\n",
      "\n",
      "good example from dict: керівник - керівниця\n",
      "\n",
      "good example from dict: співзасновник - співзасновниця\n",
      "\n",
      "X this pair not from the dict: співзасновниця - співзасновник\n",
      "\n",
      "X this pair not from the dict: екс - екс\n",
      "\n",
      "X this pair not from the dict: - - -\n",
      "\n",
      "good example from dict: міністр - міністерка\n",
      "\n",
      "X this pair not from the dict: екс - екс\n",
      "\n",
      "X this pair not from the dict: - - -\n",
      "\n",
      "X this pair not from the dict: нардеп - нардеп\n",
      "\n",
      "X this pair not from the dict: порошенківець - порошенківка\n",
      "\n",
      "X this pair not from the dict: екс - екс\n",
      "\n",
      "X this pair not from the dict: - - -\n",
      "\n",
      "X this pair not from the dict: нардеп - нардепка\n",
      "\n",
      "relevant feminitive to the депутат would be депутатка, but it is депутаток\n",
      "\n",
      "relevant feminitive to the посол would be пані посол, амбасадорка, but it is посолка\n",
      "\n",
      "relevant feminitive to the посол would be пані посол, амбасадорка, but it is посол\n",
      "\n",
      "good example from dict: засновник - засновниця\n",
      "\n",
      "X this pair not from the dict: екс - екс\n",
      "\n",
      "X this pair not from the dict: - - -\n",
      "\n",
      "good example from dict: президент - президентка\n",
      "\n",
      "relevant feminitive to the ревізор would be ревізорка, but it is ревізорок\n",
      "\n",
      "good example from dict: аудитор - аудиторка\n",
      "\n",
      "X this pair not from the dict: дорожник - дорожниця\n",
      "\n",
      "good example from dict: депутат - депутатка\n",
      "\n",
      "good example from dict: підприємець - підприємиця\n",
      "\n",
      "good example from dict: начальник - начальниця\n",
      "\n",
      "X this pair not from the dict: голова - голова\n",
      "\n",
      "good example from dict: директор - директорка\n",
      "\n",
      "X this pair not from the dict: глава - глава\n",
      "\n",
      "X this pair not from the dict: блоггер - блогерка\n",
      "\n",
      "good example from dict: чиновник - чиновниця\n",
      "\n",
      "good example from dict: чиновник - чиновниця\n",
      "\n",
      "good example from dict: президент - президентка\n",
      "\n",
      "X this pair not from the dict: зернотрейдер - зернотрейдерка\n",
      "\n",
      "good example from dict: прокурор - прокурорка\n",
      "\n",
      "good example from dict: прокурор - прокурорка\n",
      "\n",
      "good example from dict: адвокат - адвокатка\n",
      "\n",
      "good example from dict: прокурор - прокурорка\n",
      "\n",
      "good example from dict: прокурор - прокурорка\n",
      "\n",
      "good example from dict: прокурор - прокурорка\n",
      "\n",
      "relevant feminitive to the прокурор would be прокурорка, but it is прокуророк\n",
      "\n",
      "good example from dict: директор - директорка\n",
      "\n",
      "good example from dict: депутат - депутатка\n",
      "\n",
      "good example from dict: директор - директорка\n",
      "\n",
      "X this pair not from the dict: засновниця - засновник\n",
      "\n",
      "good example from dict: керівник - керівниця\n",
      "\n",
      "good example from dict: засновник - засновниця\n",
      "\n",
      "relevant feminitive to the директор would be директорка, but it is директор\n",
      "\n",
      "good example from dict: засновник - засновниця\n",
      "\n",
      "good example from dict: директор - директорка\n",
      "\n",
      "X this pair not from the dict: екс - екс\n",
      "\n",
      "X this pair not from the dict: - - -\n",
      "\n",
      "relevant feminitive to the міністр would be міністерка, but it is міністр\n",
      "\n",
      "good example from dict: співзасновник - співзасновниця\n",
      "\n",
      "X this pair not from the dict: екс - екс\n",
      "\n",
      "X this pair not from the dict: - - -\n",
      "\n",
      "relevant feminitive to the міністр would be міністерка, but it is міністрка\n",
      "\n",
      "X this pair not from the dict: екс - екс\n",
      "\n",
      "X this pair not from the dict: - - -\n",
      "\n",
      "good example from dict: міністр - міністерка\n",
      "\n",
      "good example from dict: журналіст - журналістка\n",
      "\n",
      "good example from dict: юрист - юристка\n",
      "\n",
      "good example from dict: міністр - міністерка\n",
      "\n",
      "good example from dict: засновник - засновниця\n",
      "\n",
      "good example from dict: співзасновник - співзасновниця\n",
      "\n",
      "good example from dict: директор - директорка\n",
      "\n",
      "good example from dict: прем’єр - прем’єрка\n",
      "\n",
      "X this pair not from the dict: голова - голова\n",
      "\n",
      "good example from dict: керівник - керівниця\n",
      "\n",
      "good example from dict: директор - директорка\n",
      "\n",
      "X this pair not from the dict: екс - екс\n",
      "\n",
      "X this pair not from the dict: - - -\n",
      "\n",
      "relevant feminitive to the міністр would be міністерка, but it is міністрина\n",
      "\n",
      "X this pair not from the dict: екс - екс\n",
      "\n",
      "X this pair not from the dict: - - -\n",
      "\n",
      "good example from dict: чиновник - чиновниця\n",
      "\n",
      "good example from dict: керівник - керівниця\n",
      "\n",
      "relevant feminitive to the керівник would be керівниця, but it is керівник\n",
      "\n",
      "good example from dict: директор - директорка\n",
      "\n",
      "good example from dict: керівник - керівниця\n",
      "\n",
      "X this pair not from the dict: екс - екс\n",
      "\n",
      "X this pair not from the dict: - - -\n",
      "\n",
      "X this pair not from the dict: нардеп - нардепка\n",
      "\n",
      "good example from dict: директор - директорка\n",
      "\n",
      "good example from dict: правоохоронець - правоохоронниця\n",
      "\n",
      "good example from dict: засновник - засновниця\n",
      "\n",
      "good example from dict: засновник - засновниця\n",
      "\n",
      "X this pair not from the dict: екс - екс\n",
      "\n",
      "X this pair not from the dict: - - -\n",
      "\n",
      "good example from dict: депутат - депутатка\n",
      "\n",
      "X this pair not from the dict: нардеп - нардепка\n",
      "\n",
      "X this pair not from the dict: судді - судді\n",
      "\n",
      "X this pair not from the dict: суддя - суддя\n",
      "\n",
      "X this pair not from the dict: детектив - детективка\n",
      "\n",
      "X this pair not from the dict: детектив - детективка\n",
      "\n",
      "good example from dict: керівник - керівниця\n",
      "\n",
      "good example from dict: директор - директорка\n",
      "\n",
      "X this pair not from the dict: екс - - екс -\n",
      "\n",
      "relevant feminitive to the бізнесмен would be бізнесвумен, but it is бізнесменка\n",
      "\n",
      "X this pair not from the dict: віце - - віце -\n",
      "\n",
      "relevant feminitive to the прем’єр would be прем’єрка, but it is прем’єр\n",
      "\n",
      "X this pair not from the dict: охоронець - охоронниця\n",
      "\n",
      "X this pair not from the dict: охоронець - охоронець\n",
      "\n",
      "good example from dict: керівник - керівниця\n",
      "\n",
      "good example from dict: працівник - працівниця\n",
      "\n",
      "X this pair not from the dict: охоронець - охоронниця\n",
      "\n",
      "X this pair not from the dict: охоронець - охоронниця\n",
      "\n",
      "X this pair not from the dict: глава - глава\n",
      "\n",
      "good example from dict: президент - президентка\n",
      "\n",
      "good example from dict: директор - директорка\n",
      "\n",
      "good example from dict: засновник - засновниця\n",
      "\n",
      "good example from dict: співзасновник - співзасновниця\n",
      "\n",
      "good example from dict: директор - директорка\n",
      "\n",
      "relevant feminitive to the військовий would be військова, but it is військовий\n",
      "\n",
      "good example from dict: директор - директорка\n",
      "\n"
     ]
    }
   ],
   "source": [
    "dict_samples = 0\n",
    "not_dict_samples = 0\n",
    "total_samples = 0\n",
    "\n",
    "for x, row in gender_swapped_df.iterrows():\n",
    "    ner_results_orig = ner_nlp(row['original'])\n",
    "    ner_results_swapped = ner_nlp(row['swapped'])\n",
    "    if len(ner_results_orig.ents) == len(ner_results_swapped.ents):\n",
    "        for i, _ in enumerate(ner_results_orig.ents):\n",
    "            try:\n",
    "                if ner_results_orig.ents[i].label_ == \"JOB\" and ner_results_swapped.ents[i].label_ == \"JOB\":\n",
    "                    # print(\"lemma:\", ner_results_orig.ents[i].lemma_, \"\\n-------\")\n",
    "                    if \" \" not in ner_results_orig.ents[i].text:\n",
    "                        total_samples += 1\n",
    "                        orig_doc = uk_nlp(ner_results_orig.ents[i].text)\n",
    "                        swapped_doc = uk_nlp(ner_results_swapped.ents[i].text)\n",
    "                        \n",
    "                        orig_nominative = \" \".join([word.lemma for sent in orig_doc.sentences for word in sent.words])\n",
    "                        swapped_nominative = \" \".join([word.lemma for sent in swapped_doc.sentences for word in sent.words])\n",
    "                        \n",
    "                        # print(\"lemma:\", orig_nominative, \",\", swapped_nominative, \"\\n-------------\")\n",
    "                        if orig_nominative in musc_dict.keys():\n",
    "                            if swapped_nominative != musc_dict[orig_nominative]:\n",
    "                                print(f\"relevant feminitive to the {orig_nominative} would be {musc_dict[orig_nominative]}, but it is {swapped_nominative}\")\n",
    "                                not_dict_samples += 1\n",
    "                            else:\n",
    "                                print(f\"good example from dict: {orig_nominative} - {swapped_nominative}\")\n",
    "                                dict_samples += 1\n",
    "                        elif orig_nominative in fem_dict.keys():\n",
    "                            if swapped_nominative != fem_dict[orig_nominative]:\n",
    "                                print(f\"relevant feminitive to the {orig_nominative} would be {fem_dict[orig_nominative]}, but it is {swapped_nominative}\")\n",
    "                                not_dict_samples += 1\n",
    "                            else:\n",
    "                                print(f\"GOOD example from dict: {orig_nominative} - {swapped_nominative}\")\n",
    "                                dict_samples += 1\n",
    "                        else:\n",
    "                            print(f\"X this pair not from the dict: {orig_nominative} - {swapped_nominative}\")\n",
    "                            not_dict_samples += 1\n",
    "                        # print(ner_results_orig.ents[i].label_ , ner_results_orig.ents[i].text)\n",
    "                        # print(ner_results_swapped.ents[i].label_ , ner_results_swapped.ents[i].text)\n",
    "                        print()\n",
    "                    # job_entities_list.append(ent.text)\n",
    "        # return job_entities_list\n",
    "            except Exception as e:\n",
    "                print(e)\n",
    "                print()"
   ]
  },
  {
   "cell_type": "code",
   "execution_count": 134,
   "metadata": {},
   "outputs": [
    {
     "name": "stdout",
     "output_type": "stream",
     "text": [
      "all pairs of JOB entity: 274\n",
      "percentage of dict pairs = 45.25547445255474 %\n",
      "percentage of non dict pairs = 54.74452554744526 %\n"
     ]
    }
   ],
   "source": [
    "print(\"all pairs of JOB entity:\", total_samples)\n",
    "print(\"percentage of dict pairs =\", dict_samples/total_samples * 100, \"%\")\n",
    "print(\"percentage of non dict pairs =\", not_dict_samples/total_samples * 100, \"%\")"
   ]
  },
  {
   "cell_type": "markdown",
   "metadata": {},
   "source": [
    "## NER"
   ]
  },
  {
   "cell_type": "code",
   "execution_count": 19,
   "metadata": {},
   "outputs": [],
   "source": [
    "import spacy"
   ]
  },
  {
   "cell_type": "code",
   "execution_count": 20,
   "metadata": {},
   "outputs": [
    {
     "name": "stderr",
     "output_type": "stream",
     "text": [
      "/Users/linndfors/study/diploma/new_venv/lib/python3.10/site-packages/transformers/utils/generic.py:441: UserWarning: torch.utils._pytree._register_pytree_node is deprecated. Please use torch.utils._pytree.register_pytree_node instead.\n",
      "  _torch_pytree._register_pytree_node(\n",
      "/Users/linndfors/study/diploma/new_venv/lib/python3.10/site-packages/transformers/utils/generic.py:309: UserWarning: torch.utils._pytree._register_pytree_node is deprecated. Please use torch.utils._pytree.register_pytree_node instead.\n",
      "  _torch_pytree._register_pytree_node(\n",
      "/Users/linndfors/study/diploma/new_venv/lib/python3.10/site-packages/spacy_transformers/layers/hf_shim.py:137: UserWarning: Error loading saved torch state_dict with strict=True, likely due to differences between 'transformers' versions. Attempting to load with strict=False as a fallback...\n",
      "\n",
      "If you see errors or degraded performance, download a newer compatible model or retrain your custom model with the current 'transformers' and 'spacy-transformers' versions. For more details and available updates, run: python -m spacy validate\n",
      "  warnings.warn(warn_msg)\n"
     ]
    }
   ],
   "source": [
    "nlp = spacy.load(\"uk_ner_web_trf_13class\")"
   ]
  },
  {
   "cell_type": "markdown",
   "metadata": {},
   "source": [
    "TEST"
   ]
  },
  {
   "cell_type": "code",
   "execution_count": 33,
   "metadata": {},
   "outputs": [],
   "source": [
    "test_swapped = pd.read_csv(\"test_swapped.csv\")\n",
    "dev_swapped = pd.read_csv(\"/Users/linndfors/study/diploma/ner_for_fem/src/dev_swapped.csv\")"
   ]
  },
  {
   "cell_type": "code",
   "execution_count": 34,
   "metadata": {},
   "outputs": [],
   "source": [
    "swapped_df = pd.concat([dev_swapped, test_swapped])  # ignore_index=True - Reset index after concat"
   ]
  },
  {
   "cell_type": "code",
   "execution_count": 35,
   "metadata": {},
   "outputs": [
    {
     "data": {
      "text/html": [
       "<div>\n",
       "<style scoped>\n",
       "    .dataframe tbody tr th:only-of-type {\n",
       "        vertical-align: middle;\n",
       "    }\n",
       "\n",
       "    .dataframe tbody tr th {\n",
       "        vertical-align: top;\n",
       "    }\n",
       "\n",
       "    .dataframe thead th {\n",
       "        text-align: right;\n",
       "    }\n",
       "</style>\n",
       "<table border=\"1\" class=\"dataframe\">\n",
       "  <thead>\n",
       "    <tr style=\"text-align: right;\">\n",
       "      <th></th>\n",
       "      <th>Оригінальне речення</th>\n",
       "      <th>Змінене речення</th>\n",
       "      <th>Анотації</th>\n",
       "      <th>Коректність речення</th>\n",
       "      <th>Виправлене речення</th>\n",
       "      <th>Помічник/ця</th>\n",
       "    </tr>\n",
       "  </thead>\n",
       "  <tbody>\n",
       "    <tr>\n",
       "      <th>0</th>\n",
       "      <td>Виставу за п'єсою російського класика Льва Тол...</td>\n",
       "      <td>Виставу за п'єсою російського класика Льва Тол...</td>\n",
       "      <td>{'Льва Толстого': 'PERS', 'режисера': 'JOB', '...</td>\n",
       "      <td>Містить помилки</td>\n",
       "      <td>Виставу за п'єсою російської класикині Марії Т...</td>\n",
       "      <td>Оля Н</td>\n",
       "    </tr>\n",
       "    <tr>\n",
       "      <th>1</th>\n",
       "      <td>Віртуозні Лесь Задніпровський – князь Абрезков...</td>\n",
       "      <td>Віртуозні Ганна Задніпровська – княгиня Абрезк...</td>\n",
       "      <td>{'Лесь Задніпровський': 'PERS', 'князь': 'JOB'...</td>\n",
       "      <td>Містить помилки</td>\n",
       "      <td>Віртуозні Ганна Задніпровська – княгиня Абрезк...</td>\n",
       "      <td>NaN</td>\n",
       "    </tr>\n",
       "    <tr>\n",
       "      <th>2</th>\n",
       "      <td>Старша в Києві , одружена з військовим , чолов...</td>\n",
       "      <td>Старша в Києві , одружена з військовою , чолов...</td>\n",
       "      <td>{'військовим': 'JOB'}</td>\n",
       "      <td>Містить помилки</td>\n",
       "      <td>Старша в Києві , одружена з військовою , жінка...</td>\n",
       "      <td>NaN</td>\n",
       "    </tr>\n",
       "    <tr>\n",
       "      <th>3</th>\n",
       "      <td>Ні , не так - автор статті , позаштатний корес...</td>\n",
       "      <td>Ні , не так - авторка статті , позаштатна коре...</td>\n",
       "      <td>{'позаштатний кореспондент': 'JOB'}</td>\n",
       "      <td>Правильне</td>\n",
       "      <td>NaN</td>\n",
       "      <td>NaN</td>\n",
       "    </tr>\n",
       "    <tr>\n",
       "      <th>4</th>\n",
       "      <td>І лектори в сірих піджаках із червоними парткв...</td>\n",
       "      <td>І лектори в сірих піджаках із червоними парткв...</td>\n",
       "      <td>{'священиків': 'JOB'}</td>\n",
       "      <td>Правильне</td>\n",
       "      <td>NaN</td>\n",
       "      <td>NaN</td>\n",
       "    </tr>\n",
       "  </tbody>\n",
       "</table>\n",
       "</div>"
      ],
      "text/plain": [
       "                                 Оригінальне речення  \\\n",
       "0  Виставу за п'єсою російського класика Льва Тол...   \n",
       "1  Віртуозні Лесь Задніпровський – князь Абрезков...   \n",
       "2  Старша в Києві , одружена з військовим , чолов...   \n",
       "3  Ні , не так - автор статті , позаштатний корес...   \n",
       "4  І лектори в сірих піджаках із червоними парткв...   \n",
       "\n",
       "                                     Змінене речення  \\\n",
       "0  Виставу за п'єсою російського класика Льва Тол...   \n",
       "1  Віртуозні Ганна Задніпровська – княгиня Абрезк...   \n",
       "2  Старша в Києві , одружена з військовою , чолов...   \n",
       "3  Ні , не так - авторка статті , позаштатна коре...   \n",
       "4  І лектори в сірих піджаках із червоними парткв...   \n",
       "\n",
       "                                            Анотації Коректність речення  \\\n",
       "0  {'Льва Толстого': 'PERS', 'режисера': 'JOB', '...     Містить помилки   \n",
       "1  {'Лесь Задніпровський': 'PERS', 'князь': 'JOB'...     Містить помилки   \n",
       "2                              {'військовим': 'JOB'}     Містить помилки   \n",
       "3                {'позаштатний кореспондент': 'JOB'}           Правильне   \n",
       "4                              {'священиків': 'JOB'}           Правильне   \n",
       "\n",
       "                                  Виправлене речення Помічник/ця  \n",
       "0  Виставу за п'єсою російської класикині Марії Т...       Оля Н  \n",
       "1  Віртуозні Ганна Задніпровська – княгиня Абрезк...         NaN  \n",
       "2  Старша в Києві , одружена з військовою , жінка...         NaN  \n",
       "3                                                NaN         NaN  \n",
       "4                                                NaN         NaN  "
      ]
     },
     "execution_count": 35,
     "metadata": {},
     "output_type": "execute_result"
    }
   ],
   "source": [
    "swapped_df.head()"
   ]
  },
  {
   "cell_type": "code",
   "execution_count": 36,
   "metadata": {},
   "outputs": [],
   "source": [
    "swapped_df['gender-swapped'] = swapped_df.apply(lambda x: x['Виправлене речення'] if x['Виправлене речення'] and x['Коректність речення']=='Містить помилки' else x['Змінене речення'], axis=1)"
   ]
  },
  {
   "cell_type": "code",
   "execution_count": 37,
   "metadata": {},
   "outputs": [],
   "source": [
    "test_swapped_new = swapped_df.loc[test_swapped.index].copy()"
   ]
  },
  {
   "cell_type": "code",
   "execution_count": 38,
   "metadata": {},
   "outputs": [
    {
     "data": {
      "text/html": [
       "<div>\n",
       "<style scoped>\n",
       "    .dataframe tbody tr th:only-of-type {\n",
       "        vertical-align: middle;\n",
       "    }\n",
       "\n",
       "    .dataframe tbody tr th {\n",
       "        vertical-align: top;\n",
       "    }\n",
       "\n",
       "    .dataframe thead th {\n",
       "        text-align: right;\n",
       "    }\n",
       "</style>\n",
       "<table border=\"1\" class=\"dataframe\">\n",
       "  <thead>\n",
       "    <tr style=\"text-align: right;\">\n",
       "      <th></th>\n",
       "      <th>Оригінальне речення</th>\n",
       "      <th>Змінене речення</th>\n",
       "      <th>Анотації</th>\n",
       "      <th>Коректність речення</th>\n",
       "      <th>Виправлене речення</th>\n",
       "      <th>Помічник/ця</th>\n",
       "      <th>gender-swapped</th>\n",
       "    </tr>\n",
       "  </thead>\n",
       "  <tbody>\n",
       "    <tr>\n",
       "      <th>0</th>\n",
       "      <td>Виставу за п'єсою російського класика Льва Тол...</td>\n",
       "      <td>Виставу за п'єсою російського класика Льва Тол...</td>\n",
       "      <td>{'Льва Толстого': 'PERS', 'режисера': 'JOB', '...</td>\n",
       "      <td>Містить помилки</td>\n",
       "      <td>Виставу за п'єсою російської класикині Марії Т...</td>\n",
       "      <td>Оля Н</td>\n",
       "      <td>Виставу за п'єсою російської класикині Марії Т...</td>\n",
       "    </tr>\n",
       "    <tr>\n",
       "      <th>0</th>\n",
       "      <td>Його редактором був поет-символіст Яків Савчен...</td>\n",
       "      <td>Її редакторкою була поетеса-символістка Анжела...</td>\n",
       "      <td>{'поет-символіст': 'JOB', 'Яків Савченко': 'PE...</td>\n",
       "      <td>Містить помилки</td>\n",
       "      <td>Його редакторкою була поетеса-символістка Анже...</td>\n",
       "      <td>Оля Н</td>\n",
       "      <td>Його редакторкою була поетеса-символістка Анже...</td>\n",
       "    </tr>\n",
       "    <tr>\n",
       "      <th>1</th>\n",
       "      <td>Віртуозні Лесь Задніпровський – князь Абрезков...</td>\n",
       "      <td>Віртуозні Ганна Задніпровська – княгиня Абрезк...</td>\n",
       "      <td>{'Лесь Задніпровський': 'PERS', 'князь': 'JOB'...</td>\n",
       "      <td>Містить помилки</td>\n",
       "      <td>Віртуозні Ганна Задніпровська – княгиня Абрезк...</td>\n",
       "      <td>NaN</td>\n",
       "      <td>Віртуозні Ганна Задніпровська – княгиня Абрезк...</td>\n",
       "    </tr>\n",
       "    <tr>\n",
       "      <th>1</th>\n",
       "      <td>Міжпредметні паралелі . Маніфест футуристів ск...</td>\n",
       "      <td>Міжпредметні паралелі . Маніфест футуристок ск...</td>\n",
       "      <td>{'поет': 'JOB', 'Філіппо Марінетті': 'PERS'}</td>\n",
       "      <td>Правильне</td>\n",
       "      <td>NaN</td>\n",
       "      <td>NaN</td>\n",
       "      <td>Міжпредметні паралелі . Маніфест футуристок ск...</td>\n",
       "    </tr>\n",
       "    <tr>\n",
       "      <th>2</th>\n",
       "      <td>Старша в Києві , одружена з військовим , чолов...</td>\n",
       "      <td>Старша в Києві , одружена з військовою , чолов...</td>\n",
       "      <td>{'військовим': 'JOB'}</td>\n",
       "      <td>Містить помилки</td>\n",
       "      <td>Старша в Києві , одружена з військовою , жінка...</td>\n",
       "      <td>NaN</td>\n",
       "      <td>Старша в Києві , одружена з військовою , жінка...</td>\n",
       "    </tr>\n",
       "  </tbody>\n",
       "</table>\n",
       "</div>"
      ],
      "text/plain": [
       "                                 Оригінальне речення  \\\n",
       "0  Виставу за п'єсою російського класика Льва Тол...   \n",
       "0  Його редактором був поет-символіст Яків Савчен...   \n",
       "1  Віртуозні Лесь Задніпровський – князь Абрезков...   \n",
       "1  Міжпредметні паралелі . Маніфест футуристів ск...   \n",
       "2  Старша в Києві , одружена з військовим , чолов...   \n",
       "\n",
       "                                     Змінене речення  \\\n",
       "0  Виставу за п'єсою російського класика Льва Тол...   \n",
       "0  Її редакторкою була поетеса-символістка Анжела...   \n",
       "1  Віртуозні Ганна Задніпровська – княгиня Абрезк...   \n",
       "1  Міжпредметні паралелі . Маніфест футуристок ск...   \n",
       "2  Старша в Києві , одружена з військовою , чолов...   \n",
       "\n",
       "                                            Анотації Коректність речення  \\\n",
       "0  {'Льва Толстого': 'PERS', 'режисера': 'JOB', '...     Містить помилки   \n",
       "0  {'поет-символіст': 'JOB', 'Яків Савченко': 'PE...     Містить помилки   \n",
       "1  {'Лесь Задніпровський': 'PERS', 'князь': 'JOB'...     Містить помилки   \n",
       "1       {'поет': 'JOB', 'Філіппо Марінетті': 'PERS'}           Правильне   \n",
       "2                              {'військовим': 'JOB'}     Містить помилки   \n",
       "\n",
       "                                  Виправлене речення Помічник/ця  \\\n",
       "0  Виставу за п'єсою російської класикині Марії Т...       Оля Н   \n",
       "0  Його редакторкою була поетеса-символістка Анже...       Оля Н   \n",
       "1  Віртуозні Ганна Задніпровська – княгиня Абрезк...         NaN   \n",
       "1                                                NaN         NaN   \n",
       "2  Старша в Києві , одружена з військовою , жінка...         NaN   \n",
       "\n",
       "                                      gender-swapped  \n",
       "0  Виставу за п'єсою російської класикині Марії Т...  \n",
       "0  Його редакторкою була поетеса-символістка Анже...  \n",
       "1  Віртуозні Ганна Задніпровська – княгиня Абрезк...  \n",
       "1  Міжпредметні паралелі . Маніфест футуристок ск...  \n",
       "2  Старша в Києві , одружена з військовою , жінка...  "
      ]
     },
     "execution_count": 38,
     "metadata": {},
     "output_type": "execute_result"
    }
   ],
   "source": [
    "test_swapped_new.head()"
   ]
  },
  {
   "cell_type": "code",
   "execution_count": null,
   "metadata": {},
   "outputs": [
    {
     "name": "stderr",
     "output_type": "stream",
     "text": [
      "  0%|          | 0/518 [00:00<?, ?it/s]"
     ]
    },
    {
     "name": "stderr",
     "output_type": "stream",
     "text": [
      "100%|██████████| 518/518 [14:20<00:00,  1.66s/it]\n"
     ]
    }
   ],
   "source": [
    "actual_counter_JB, actual_counter_PR = 0, 0\n",
    "numb_of_JB, numb_of_PR = 0, 0\n",
    "swapped_jobs, original_jobs = [], []\n",
    "swapped_pers, original_pers = [], []\n",
    "\n",
    "for idx in tqdm.tqdm(range(len(test_swapped_new))):\n",
    "    row = test_swapped_new.iloc[idx]\n",
    "\n",
    "    orig_doc = nlp(row['Оригінальне речення'])\n",
    "    for ent in orig_doc.ents:\n",
    "        if ent.label_ == 'JOB':\n",
    "            numb_of_JB += 1\n",
    "            original_jobs.append(ent.text)\n",
    "        if ent.label_ == 'PERS':\n",
    "            numb_of_PR += 1\n",
    "            gpt_pers.append(ent.text)\n",
    "\n",
    "    swapped_doc = nlp(row['gender-swapped'])\n",
    "    for ent in swapped_doc.ents:\n",
    "        if ent.label_ == 'JOB':\n",
    "            actual_counter_JB += 1\n",
    "            swapped_jobs.append(ent.text)\n",
    "        if ent.label_ == 'PERS':\n",
    "            actual_counter_PR += 1\n",
    "            swapped_pers.append(ent.text)"
   ]
  },
  {
   "cell_type": "code",
   "execution_count": 175,
   "metadata": {},
   "outputs": [
    {
     "data": {
      "text/plain": [
       "False"
      ]
     },
     "execution_count": 175,
     "metadata": {},
     "output_type": "execute_result"
    }
   ],
   "source": [
    "'-' in job_entities"
   ]
  },
  {
   "cell_type": "code",
   "execution_count": 58,
   "metadata": {},
   "outputs": [
    {
     "name": "stdout",
     "output_type": "stream",
     "text": [
      "5\n"
     ]
    }
   ],
   "source": [
    "# swapped_pers.count(\"-\")\n",
    "print(gpt_pers.count(\"-\"))"
   ]
  },
  {
   "cell_type": "code",
   "execution_count": null,
   "metadata": {},
   "outputs": [
    {
     "name": "stderr",
     "output_type": "stream",
     "text": [
      "100%|██████████| 1036/1036 [00:00<00:00, 8832.64it/s]\n"
     ]
    }
   ],
   "source": [
    "import ast\n",
    "\n",
    "numb_of_JB_orig, numb_of_PR_orig = 0, 0\n",
    "job_entities = [] \n",
    "pers_entities = []\n",
    "\n",
    "for idx in tqdm.tqdm(range(len(test_swapped_new))):\n",
    "    row = test_swapped_new.iloc[idx]\n",
    "    \n",
    "    annotations = ast.literal_eval(row['Анотації'])\n",
    "    \n",
    "    numb_of_job_ents = list(annotations.values()).count(\"JOB\")\n",
    "    numb_of_JB_orig += numb_of_job_ents\n",
    "    job_entities.extend([key for key, value in annotations.items() if value == \"JOB\"])\n",
    "    \n",
    "    numb_of_pers_ents = list(annotations.values()).count(\"PERS\")\n",
    "    numb_of_PR_orig += numb_of_pers_ents\n",
    "    pers_entities.extend([key for key, value in annotations.items() if value == \"PERS\"])"
   ]
  },
  {
   "cell_type": "code",
   "execution_count": 172,
   "metadata": {},
   "outputs": [
    {
     "name": "stdout",
     "output_type": "stream",
     "text": [
      "Number of JOB entities: 1357\n",
      "Number of PERS entities: 932\n"
     ]
    }
   ],
   "source": [
    "print(f\"Number of JOB entities: {numb_of_JB_orig}\")\n",
    "print(f\"Number of PERS entities: {numb_of_PR_orig}\")"
   ]
  },
  {
   "cell_type": "code",
   "execution_count": 47,
   "metadata": {},
   "outputs": [
    {
     "name": "stdout",
     "output_type": "stream",
     "text": [
      "JOB TITLE entities detected in ORIG dataset: 535. Accuracy: 39.4 %\n",
      "JOB TITLE entities detected in SWAP dataset: 506. Accuracy: 37.3 %\n",
      "\n",
      "**************\n",
      "\n",
      "PERS entities detected in ORIG dataset: 429. Accuracy: 46.0 %\n",
      "PERS entities detected in SWAP dataset: 430. Accuracy: 46.1 %\n"
     ]
    }
   ],
   "source": [
    "print(f\"JOB TITLE entities detected in ORIG dataset: {actual_counter_JB}. Accuracy: {(actual_counter_JB*100/numb_of_JB_orig):.1f} %\")\n",
    "print(f\"JOB TITLE entities detected in SWAP dataset: {numb_of_JB}. Accuracy: {(numb_of_JB*100/numb_of_JB_orig):.1f} %\")\n",
    "\n",
    "print(\"\\n**************\\n\")\n",
    "\n",
    "print(f\"PERS entities detected in ORIG dataset: {actual_counter_PR}. Accuracy: {(actual_counter_PR*100/numb_of_PR_orig):.1f} %\")\n",
    "print(f\"PERS entities detected in SWAP dataset: {numb_of_PR}. Accuracy: {(numb_of_PR*100/numb_of_PR_orig):.1f} %\")"
   ]
  },
  {
   "cell_type": "markdown",
   "metadata": {},
   "source": [
    "### Check JOB TITLES gender using dictionary"
   ]
  },
  {
   "cell_type": "code",
   "execution_count": 122,
   "metadata": {},
   "outputs": [],
   "source": [
    "with open ('/Users/linndfors/study/diploma/uk-gender-word-mapper/common_gender_words_list.txt') as file:\n",
    "    common_gender_words_list = file.read().split(\"\\n\")"
   ]
  },
  {
   "cell_type": "code",
   "execution_count": 97,
   "metadata": {},
   "outputs": [],
   "source": [
    "gender_dict_df = pd.read_csv(\"/Users/linndfors/study/diploma/uk-gender-word-mapper/gender_pairs_dictionary.csv\")"
   ]
  },
  {
   "cell_type": "code",
   "execution_count": 98,
   "metadata": {},
   "outputs": [
    {
     "data": {
      "text/html": [
       "<div>\n",
       "<style scoped>\n",
       "    .dataframe tbody tr th:only-of-type {\n",
       "        vertical-align: middle;\n",
       "    }\n",
       "\n",
       "    .dataframe tbody tr th {\n",
       "        vertical-align: top;\n",
       "    }\n",
       "\n",
       "    .dataframe thead th {\n",
       "        text-align: right;\n",
       "    }\n",
       "</style>\n",
       "<table border=\"1\" class=\"dataframe\">\n",
       "  <thead>\n",
       "    <tr style=\"text-align: right;\">\n",
       "      <th></th>\n",
       "      <th>male</th>\n",
       "      <th>female</th>\n",
       "    </tr>\n",
       "  </thead>\n",
       "  <tbody>\n",
       "    <tr>\n",
       "      <th>0</th>\n",
       "      <td>абітурієнт</td>\n",
       "      <td>абітурієнтка</td>\n",
       "    </tr>\n",
       "    <tr>\n",
       "      <th>1</th>\n",
       "      <td>абонент</td>\n",
       "      <td>абонентка</td>\n",
       "    </tr>\n",
       "    <tr>\n",
       "      <th>2</th>\n",
       "      <td>абориген</td>\n",
       "      <td>аборигенка</td>\n",
       "    </tr>\n",
       "    <tr>\n",
       "      <th>3</th>\n",
       "      <td>абстракціоніст</td>\n",
       "      <td>абстракціоністка</td>\n",
       "    </tr>\n",
       "    <tr>\n",
       "      <th>4</th>\n",
       "      <td>авантюрист</td>\n",
       "      <td>авантюристка</td>\n",
       "    </tr>\n",
       "  </tbody>\n",
       "</table>\n",
       "</div>"
      ],
      "text/plain": [
       "             male            female\n",
       "0      абітурієнт      абітурієнтка\n",
       "1         абонент         абонентка\n",
       "2        абориген        аборигенка\n",
       "3  абстракціоніст  абстракціоністка\n",
       "4      авантюрист      авантюристка"
      ]
     },
     "execution_count": 98,
     "metadata": {},
     "output_type": "execute_result"
    }
   ],
   "source": [
    "gender_dict_df.head()"
   ]
  },
  {
   "cell_type": "code",
   "execution_count": null,
   "metadata": {},
   "outputs": [],
   "source": [
    "gender_dict = {'male': [], 'female': []}\n",
    "\n",
    "for _, row in gender_dict_df.iterrows():\n",
    "    gender_dict['male'].append(row['male'])\n",
    "    female_values = [f.strip() for f in row['female'].split(',')]\n",
    "    gender_dict['female'].extend(female_values)\n",
    "\n",
    "gender_dict['female'] = list(set(gender_dict['female']))"
   ]
  },
  {
   "cell_type": "code",
   "execution_count": 141,
   "metadata": {},
   "outputs": [],
   "source": [
    "def male_female_res(list_of_jobs, gen_dict):\n",
    "    female_counter, male_counter, unknown_counter, common_gender_counter = 0, 0, 0, 0\n",
    "    female_list, male_list, unknown_list, common_gender_list = [], [], [], []\n",
    "    for x in tqdm.tqdm(list_of_jobs):\n",
    "        if x and x != \"-\":\n",
    "            job = uk_nlp(x)\n",
    "            job_lemma = \" \".join([word.lemma for sent in job.sentences for word in sent.words])\n",
    "            # print(x, \" - \", job_lemma)\n",
    "            if (job_lemma in gen_dict['female']) or (x in gen_dict['female']):\n",
    "                female_counter += 1\n",
    "                female_list.append(x)\n",
    "            elif (job_lemma in gen_dict['male']) or (x in gen_dict['male']):\n",
    "                male_counter += 1\n",
    "                male_list.append(x)\n",
    "            elif (job_lemma in common_gender_words_list) or (x in common_gender_words_list):\n",
    "                common_gender_counter += 1\n",
    "                common_gender_list.append(x)\n",
    "            else:\n",
    "                unknown_counter += 1\n",
    "                unknown_list.append(x)\n",
    "    return female_counter, male_counter, female_list, male_list, unknown_counter, unknown_list, common_gender_counter, common_gender_list"
   ]
  },
  {
   "cell_type": "code",
   "execution_count": null,
   "metadata": {},
   "outputs": [],
   "source": [
    "def report_for_results(female_counter, male_counter, female_list, male_list, unknown_counter, unknown_list, common_gender_counter, common_gender_list):\n",
    "    total = female_counter + male_counter + unknown_counter + common_gender_counter\n",
    "\n",
    "    # print(f\"{len(swapped_jobs) - total} - JOB outliers\")\n",
    "\n",
    "    female_perc = (female_counter / total) * 100 if total > 0 else 0\n",
    "    male_perc = (male_counter / total) * 100 if total > 0 else 0\n",
    "    common_perc = (common_gender_counter / total) * 100 if total > 0 else 0\n",
    "    unknown_perc = (unknown_counter / total) * 100 if total > 0 else 0\n",
    "\n",
    "    most_popular_female = Counter(female_list).most_common(1)\n",
    "    most_popular_male = Counter(male_list).most_common(1)\n",
    "    most_popular_unknown = Counter(unknown_list).most_common(1)\n",
    "    most_popular_common = Counter(common_gender_list).most_common(1)\n",
    "\n",
    "    result = (\n",
    "    f\"Total jobs: {total}\\n\"\n",
    "    f\"Female jobs: {female_counter} ({female_perc:.2f}%)\\n\"\n",
    "    f\"Male jobs: {male_counter} ({male_perc:.2f}%)\\n\"\n",
    "    f\"Common gender jobs: {common_gender_counter} ({common_perc:.2f}%)\\n\"\n",
    "    f\"Unknown jobs: {unknown_counter} ({unknown_perc:.2f}%)\\n\"\n",
    "    )\n",
    "\n",
    "    def print_most_popular_entity(most_popular_ent, gender):\n",
    "        if most_popular_ent:\n",
    "            return f\"Most popular {gender} job: {most_popular_ent[0][0]} ({most_popular_ent[0][1]} occurrences)\\n\"\n",
    "        \n",
    "    result += \"\\n\"\n",
    "    result += print_most_popular_entity(most_popular_female, \"female\")\n",
    "    result += print_most_popular_entity(most_popular_male, \"male\")\n",
    "    result += print_most_popular_entity(most_popular_common, \"common\")\n",
    "    result += print_most_popular_entity(most_popular_unknown, \"unknown\")\n",
    "\n",
    "    print(result)\n",
    "\n",
    "    return result"
   ]
  },
  {
   "cell_type": "code",
   "execution_count": null,
   "metadata": {},
   "outputs": [
    {
     "name": "stderr",
     "output_type": "stream",
     "text": [
      "100%|██████████| 535/535 [01:47<00:00,  4.97it/s]"
     ]
    },
    {
     "name": "stdout",
     "output_type": "stream",
     "text": [
      "28 - JOB outliers\n",
      "Total jobs: 507\n",
      "Female jobs: 250 (49.31%)\n",
      "Male jobs: 41 (8.09%)\n",
      "Common gender jobs: 29 (5.72%)\n",
      "Unknown jobs: 187 (36.88%)\n",
      "\n",
      "Most popular female job: директоркою (15 occurrences)\n",
      "Most popular male job: слідчим (4 occurrences)\n",
      "Most popular common job: суддя (10 occurrences)\n",
      "Most popular unknown job: екс (22 occurrences)\n",
      "\n"
     ]
    },
    {
     "name": "stderr",
     "output_type": "stream",
     "text": [
      "\n"
     ]
    }
   ],
   "source": [
    "# статистика по знайдених в свопі\n",
    "female_counter, male_counter, female_list, male_list, unknown_counter, unknown_list, common_gender_counter, common_gender_list = male_female_res(swapped_jobs, gender_dict)\n",
    "swapped_job_stat = report_for_results(female_counter, male_counter, female_list, male_list, unknown_counter, unknown_list, common_gender_counter, common_gender_list)"
   ]
  },
  {
   "cell_type": "code",
   "execution_count": 147,
   "metadata": {},
   "outputs": [
    {
     "name": "stdout",
     "output_type": "stream",
     "text": [
      "{'кандидат філологічних наук', 'наркомкою', 'митрополитки', 'голови правління', 'начальницею управління (квартирно-експлуатаційного)', 'ігумені', 'Луцької міської голови', 'ексочільниці', 'військових прокуророк', 'гендиректоркою', 'слідча суддя', 'священиці', 'глави', 'заступницею голови', 'заступниця голови', 'ієромонахиня', 'скотарі', 'комерційна директорка', 'генеральної директорки', 'демографок', 'перша заступниця голови', 'орнітологині', 'ректорку', 'міністерка палива та енергетики України', 'радниця Президента', 'єпископки', 'законодавців', 'голова наглядової ради', 'парламентська помічниця', 'віце', 'приватної детективки', 'юристки', 'радниця голови', 'зернотрейдерок', 'підмайстрині', 'залізничниці', 'детективками', 'глава', 'Президента України', 'в. о. гендиректорки', 'нардепка', 'народною депутаткою', 'Детективка', '-бухгалтер', 'заступницю мера', 'народних депутаток', 'народна депутатка', 'голова комітету студентського , аматорського та масового футзалу', 'митрополиткою', 'головній інженерці', 'детективки', 'головою правління', 'Головна військова прокурорка', 'культурологині', 'першою заступницею Голови', 'екс', 'мовознавець', 'єпискиня', 'головною редакторкою', 'заступницю керівника', 'екснардепці', 'народній депутатці', 'бізнес', 'няні', 'детективкам', \"Першої віце – прем'єр – міністерки України\", 'детективка', 'держуповноважений', 'силовиць', 'податківцям', 'військової прокурорки', \"заступниця міністра охорони здоров'я\", 'співчиня', 'міністерка фінансів РФ', 'митрополитці', 'Комунальниці', 'старший викладач', 'інженерки геодезистки', 'заступниці Генпрокурора', 'держвиконавиця', 'нардепки', 'детективок', 'міністерка оборони', \"віце-прем'єр міністра\", 'заступниця міністра', 'байкарка', 'державний уповноважений', 'начальником виробничо-технічного відділу', 'нардепкою', 'підприємниця', 'головна суддя', 'трейдерка', 'в. о. управління з виконання політики', 'першою заступницею міської голови', 'стрільчині', 'начальницею відділу', 'учителькам', 'поручницею', 'заступницею директорки', 'екснардепки', 'в . о . голови', 'народним депутатом', 'народної депутатки', 'прокуророк', 'порошенківки', 'мовознавиці', 'землеробки', 'дорожниці', 'ревізорок', 'генпрокурорки', 'режисеркою', 'комісарок', 'сотниця', 'бізнесменки', 'психологині', 'антимонопольниці', 'зернотрейдерка', 'головної інженерки', 'юридична радниця', 'глави держави', 'заступницею гендиректора', 'міністерка економічного розвитку', 'урядовиці', 'судді', 'перша заступниця директорки', 'екс-', 'Головного військового прокурора', '«'}\n",
      "Number of unique unknown words: 128\n"
     ]
    }
   ],
   "source": [
    "unknown_swapped_words = set(unknown_list)\n",
    "print(unknown_swapped_words)\n",
    "print(f\"Number of unique unknown words: {len(unknown_swapped_words)}\")"
   ]
  },
  {
   "cell_type": "code",
   "execution_count": null,
   "metadata": {},
   "outputs": [
    {
     "name": "stderr",
     "output_type": "stream",
     "text": [
      "100%|██████████| 506/506 [01:37<00:00,  5.21it/s]"
     ]
    },
    {
     "name": "stdout",
     "output_type": "stream",
     "text": [
      "53 - JOB outliers\n",
      "Total jobs: 482\n",
      "Female jobs: 12 (2.49%)\n",
      "Male jobs: 248 (51.45%)\n",
      "Common gender jobs: 28 (5.81%)\n",
      "Unknown jobs: 194 (40.25%)\n",
      "\n",
      "Most popular female job: вчителька (2 occurrences)\n",
      "Most popular male job: директором (18 occurrences)\n",
      "Most popular common job: суддя (9 occurrences)\n",
      "Most popular unknown job: екс (22 occurrences)\n",
      "\n"
     ]
    },
    {
     "name": "stderr",
     "output_type": "stream",
     "text": [
      "\n"
     ]
    }
   ],
   "source": [
    "# статистика по знайдених в оригінальному\n",
    "\n",
    "female_counter_orig, male_counter_orig, female_list_orig, male_list_orig, unknown_counter_orig, unknown_list_orig, common_gender_counter_orig, common_gender_list_orig = male_female_res(original_jobs, gender_dict)\n",
    "gpt_job_stat = report_for_results(female_counter_orig, male_counter_orig, female_list_orig, male_list_orig, unknown_counter_orig, unknown_list_orig, common_gender_counter_orig, common_gender_list_orig)"
   ]
  },
  {
   "cell_type": "code",
   "execution_count": 149,
   "metadata": {},
   "outputs": [
    {
     "name": "stdout",
     "output_type": "stream",
     "text": [
      "{'заступником голови', 'перший заступник директора', 'голови правління', 'антимонопольники', 'начальник цеху', 'народного депутата', 'заступника мера', 'блоггер', 'заступник голови', 'корчмаря', 'Луцького міського голови', 'головний суддя', 'екснардепу', 'народному депутату', 'юридичний радник', 'глави', 'землероби', 'комерційний директор', 'підмайстра', 'заступником гендиректора', 'міністр економічного розвитку', 'педагоги', 'зернотрейдерів', 'детективами', 'ченця', 'міністр оборони', 'нардепом', 'заступника Генпрокурора', 'священика', \"Першого віце – прем'єр – міністра України\", 'скотарі', 'урядовці', 'майстру спорту', 'міністр палива та енергетики України', 'приватним підприємцем', 'військового прокурора', 'членом наглядової ради', 'держуповноважена', 'віце-', 'міського голови', 'актриса', 'законодавців', 'голова наглядової ради', 'віце', 'митрополитом', 'комісарів', 'ексочільника', 'начальником управління (квартирно-експлуатаційного)', 'підполковник поліції', 'генпрокурора', 'залізничники', 'мовознавці', 'лінгвісти', 'заслуженого тренера', 'мера', 'генерального директора', 'глава', 'парламентський помічник', 'Президента України', 'інженера геодезиста', 'Головний військовий прокурор', 'першим заступником Голови', 'радник Президента', 'митрополиту', '-бухгалтер', 'державна уповноважена', 'силовиків', 'няньки', 'головним редактором', 'голова правління', 'нардеп', 'голова комітету студентського , аматорського та масового футзалу', 'заступника керівника департаменту', 'головою правління', 'заступником директора', 'гендиректором', 'екс', 'детективам', 'зернотрейдер', 'охоронця', 'бізнес', 'народних депутатів', 'наркомом', 'військових прокурорів', 'психологи', 'податківцям', 'єпископів', 'екснардепа', 'міський голова', 'радник голови', 'демографів', 'сторожів', 'детектив', 'Комунальники', 'слідчий суддя', \"віце-прем'єр міністра\", 'в. о. гендиректора', 'сотник', 'начальником виробничо-технічного відділу', 'ієромонах', 'першим заступником міського голови', \"заступник міністра охорони здоров'я\", 'менеджера', 'заступник міністра', 'охоронці', 'детективів', 'старша викладачка', 'в. о. управління з виконання політики', 'держвиконавець', 'перший заступник голови', 'дорожники', 'в . о . голови', 'головного інженера', 'митрополита', 'начальником відділу', 'народним депутатом', 'кандидатка філологічних наук', 'порошенківця', 'єпископи', 'нардепа', 'народний депутат', \"прем'єр\", 'мовознавиця', 'охоронців', 'глави держави', 'детективи', 'судді', 'поручником', 'єпископ', 'головному інженеру', 'екс-', 'Головного військового прокурора'}\n",
      "Number of unique unknown words: 132\n"
     ]
    }
   ],
   "source": [
    "unknown_orig_words = set(unknown_list_orig)\n",
    "print(unknown_orig_words)\n",
    "print(f\"Number of unique unknown words: {len(unknown_orig_words)}\")"
   ]
  },
  {
   "cell_type": "code",
   "execution_count": null,
   "metadata": {},
   "outputs": [
    {
     "name": "stderr",
     "output_type": "stream",
     "text": [
      "100%|██████████| 1357/1357 [04:01<00:00,  5.62it/s]"
     ]
    },
    {
     "name": "stdout",
     "output_type": "stream",
     "text": [
      "-822 - JOB outliers\n",
      "Total jobs: 1357\n",
      "Female jobs: 47 (3.46%)\n",
      "Male jobs: 681 (50.18%)\n",
      "Common gender jobs: 62 (4.57%)\n",
      "Unknown jobs: 567 (41.78%)\n",
      "\n",
      "Most popular female job: поетеса (6 occurrences)\n",
      "Most popular male job: директором (26 occurrences)\n",
      "Most popular common job: голова (15 occurrences)\n",
      "Most popular unknown job: судді (20 occurrences)\n",
      "\n"
     ]
    },
    {
     "name": "stderr",
     "output_type": "stream",
     "text": [
      "\n"
     ]
    }
   ],
   "source": [
    "# статистика по проанотованих (оригінал тест)\n",
    "\n",
    "female_counter_test, male_counter_test, female_list_test, male_list_test, unknown_counter_test, unknown_list_test, common_gender_counter_test, common_gender_list_test = male_female_res(job_entities, gender_dict)\n",
    "test_job_stat = report_for_results(female_counter_test, male_counter_test, female_list_test, male_list_test, unknown_counter_test, unknown_list_test, common_gender_counter_test, common_gender_list_test)"
   ]
  },
  {
   "cell_type": "code",
   "execution_count": null,
   "metadata": {},
   "outputs": [
    {
     "name": "stdout",
     "output_type": "stream",
     "text": [
      "Accuracy for detected female JOB titles: 25.53%\n",
      "Accuracy for detected male JOB titles: 36.42%\n",
      "Accuracy for detected common JOB titles: 45.16%\n"
     ]
    }
   ],
   "source": [
    "#  Як ner розпізнає JOB, залежно від статі\n",
    "\n",
    "print(f\"Accuracy for detected female JOB titles: {female_counter_orig*100/female_counter_test:.2f}%\")\n",
    "print(f\"Accuracy for detected male JOB titles: {male_counter_orig*100/male_counter_test:.2f}%\")\n",
    "print(f\"Accuracy for detected common JOB titles: {common_gender_counter_orig*100/common_gender_counter_test:.2f}%\")"
   ]
  },
  {
   "cell_type": "code",
   "execution_count": null,
   "metadata": {},
   "outputs": [
    {
     "name": "stdout",
     "output_type": "stream",
     "text": [
      "Accuracy for male swapped to female: 36.71%\n",
      "Accuracy for female swapped to male: 87.23%\n"
     ]
    }
   ],
   "source": [
    "# Яка якість gender-swap\n",
    "\n",
    "# після свопу мало стати 681 female і 47 male\n",
    "# swapped Female jobs: 250 (49.31%)\n",
    "# swapped Male jobs: 41 (8.09%)\n",
    "\n",
    "print(f\"Accuracy for male swapped to female: {100*250/681:.2f}%\")\n",
    "print(f\"Accuracy for female swapped to male: {100*41/47:.2f}%\")"
   ]
  },
  {
   "cell_type": "code",
   "execution_count": null,
   "metadata": {},
   "outputs": [],
   "source": [
    "# female_counter, male_counter, female_list, male_list, unknown_counter, unknown_list, common_gender_counter, common_gender_list = male_female_res(original_jobs, gender_dict)\n",
    "# balanced_df_job_stat = report_for_results(female_counter, male_counter, female_list, male_list, unknown_counter, unknown_list, common_gender_counter, common_gender_list)"
   ]
  },
  {
   "cell_type": "code",
   "execution_count": 139,
   "metadata": {},
   "outputs": [
    {
     "data": {
      "text/plain": [
       "['байкарка',\n",
       " 'співчиня',\n",
       " 'нардепка',\n",
       " 'Луцької міської голови',\n",
       " 'радниця голови',\n",
       " 'перша заступниця голови',\n",
       " 'народних депутаток',\n",
       " 'режисеркою',\n",
       " 'орнітологині',\n",
       " 'підмайстрині',\n",
       " 'мовознавець',\n",
       " 'кандидат філологічних наук',\n",
       " 'старший викладач',\n",
       " 'заступниця голови',\n",
       " 'демографок',\n",
       " 'землеробки',\n",
       " 'скотарі',\n",
       " 'приватної детективки',\n",
       " 'сотниця',\n",
       " 'поручницею',\n",
       " 'судді',\n",
       " 'голова комітету студентського , аматорського та масового футзалу',\n",
       " 'в . о . голови',\n",
       " 'головна суддя',\n",
       " 'міністерка оборони',\n",
       " 'силовиць',\n",
       " 'Президента України',\n",
       " 'радниця Президента',\n",
       " \"заступниця міністра охорони здоров'я\",\n",
       " 'заступниця міністра',\n",
       " 'стрільчині',\n",
       " 'комісарок',\n",
       " 'наркомкою',\n",
       " 'няні',\n",
       " 'заступниця голови',\n",
       " 'ігумені',\n",
       " 'митрополитки',\n",
       " 'учителькам',\n",
       " 'ректорку',\n",
       " 'ієромонахиня',\n",
       " 'священиці',\n",
       " 'митрополитці',\n",
       " 'єпископки',\n",
       " 'митрополиткою',\n",
       " 'єпискиня',\n",
       " 'юристки',\n",
       " 'законодавців',\n",
       " 'податківцям',\n",
       " 'психологині',\n",
       " 'культурологині',\n",
       " 'мовознавиці',\n",
       " 'урядовиці',\n",
       " 'голова наглядової ради',\n",
       " 'головою правління',\n",
       " 'міністерка палива та енергетики України',\n",
       " 'начальницею відділу',\n",
       " 'головною редакторкою',\n",
       " 'Комунальниці',\n",
       " \"Першої віце – прем'єр – міністерки України\",\n",
       " 'судді',\n",
       " 'судді',\n",
       " 'судді',\n",
       " 'судді',\n",
       " 'судді',\n",
       " 'судді',\n",
       " 'екс',\n",
       " 'підприємниця',\n",
       " 'заступницею голови',\n",
       " \"віце-прем'єр міністра\",\n",
       " 'народна депутатка',\n",
       " 'головою правління',\n",
       " 'народним депутатом',\n",
       " 'начальником виробничо-технічного відділу',\n",
       " 'інженерки геодезистки',\n",
       " 'екснардепці',\n",
       " 'екс',\n",
       " 'екснардепки',\n",
       " 'віце',\n",
       " 'перша заступниця директорки',\n",
       " 'бізнесменки',\n",
       " 'нардепки',\n",
       " 'народної депутатки',\n",
       " 'заступницю керівника',\n",
       " 'держуповноважений',\n",
       " 'нардепкою',\n",
       " 'екс',\n",
       " 'нардепкою',\n",
       " 'екс',\n",
       " 'нардепка',\n",
       " 'парламентська помічниця',\n",
       " 'міністерка економічного розвитку',\n",
       " 'народною депутаткою',\n",
       " 'екс',\n",
       " 'гендиректоркою',\n",
       " 'нардепка',\n",
       " 'екс',\n",
       " 'екс',\n",
       " 'генпрокурорки',\n",
       " 'голови правління',\n",
       " 'голови правління',\n",
       " 'голови правління',\n",
       " 'голови правління',\n",
       " 'детективкам',\n",
       " 'Детективка',\n",
       " 'екс',\n",
       " 'нардепки',\n",
       " 'залізничниці',\n",
       " 'екс',\n",
       " 'головної інженерки',\n",
       " '-бухгалтер',\n",
       " 'головній інженерці',\n",
       " 'ексочільниці',\n",
       " 'заступниці Генпрокурора',\n",
       " 'народною депутаткою',\n",
       " 'антимонопольниці',\n",
       " 'антимонопольниці',\n",
       " 'військової прокурорки',\n",
       " 'першою заступницею міської голови',\n",
       " 'екс',\n",
       " '«',\n",
       " 'перша заступниця директорки',\n",
       " 'комерційна директорка',\n",
       " 'детективок',\n",
       " 'держвиконавиця',\n",
       " 'заступницею гендиректора',\n",
       " 'екс',\n",
       " 'екс',\n",
       " 'нардепки',\n",
       " 'порошенківки',\n",
       " 'екс',\n",
       " 'нардепки',\n",
       " 'народній депутатці',\n",
       " 'екс',\n",
       " 'ревізорок',\n",
       " 'головою правління',\n",
       " 'державний уповноважений',\n",
       " 'дорожниці',\n",
       " 'начальницею управління (квартирно-експлуатаційного)',\n",
       " 'віце',\n",
       " 'міністерка фінансів РФ',\n",
       " 'глава',\n",
       " 'зернотрейдерок',\n",
       " 'трейдерка',\n",
       " 'зернотрейдерка',\n",
       " 'зернотрейдерок',\n",
       " 'Головного військового прокурора',\n",
       " 'прокуророк',\n",
       " 'Головна військова прокурорка',\n",
       " 'військових прокуророк',\n",
       " 'екс',\n",
       " 'екс',\n",
       " 'екс',\n",
       " 'генеральної директорки',\n",
       " 'заступницею директорки',\n",
       " 'екс',\n",
       " 'народної депутатки',\n",
       " 'екс',\n",
       " 'нардепка',\n",
       " 'бізнес',\n",
       " 'екс',\n",
       " 'нардепка',\n",
       " 'в. о. гендиректорки',\n",
       " 'екс',\n",
       " 'нардепки',\n",
       " 'юридична радниця',\n",
       " 'екс',\n",
       " 'нардепки',\n",
       " 'судді',\n",
       " 'детективками',\n",
       " 'судді',\n",
       " 'детективками',\n",
       " 'судді',\n",
       " 'слідча суддя',\n",
       " 'детективки',\n",
       " 'детективка',\n",
       " 'в. о. управління з виконання політики',\n",
       " 'заступницю мера',\n",
       " 'першою заступницею Голови',\n",
       " 'екс-',\n",
       " 'заступниці Генпрокурора',\n",
       " 'бізнесменки',\n",
       " 'віце',\n",
       " 'голови правління',\n",
       " 'голови правління',\n",
       " 'голови правління',\n",
       " 'глави',\n",
       " 'глави держави']"
      ]
     },
     "execution_count": 139,
     "metadata": {},
     "output_type": "execute_result"
    }
   ],
   "source": [
    "unknown_list"
   ]
  },
  {
   "cell_type": "markdown",
   "metadata": {},
   "source": [
    "## After annotation"
   ]
  },
  {
   "cell_type": "code",
   "execution_count": 1,
   "metadata": {},
   "outputs": [],
   "source": [
    "import pandas as pd\n",
    "import spacy"
   ]
  },
  {
   "cell_type": "code",
   "execution_count": 2,
   "metadata": {},
   "outputs": [],
   "source": [
    "test_swapped = pd.read_csv(\"/Users/linndfors/study/diploma/ner_for_fem/data/utils_files/test_swapped.csv\", index_col=0)\n",
    "dev_swapped = pd.read_csv(\"/Users/linndfors/study/diploma/ner_for_fem/data/utils_files/dev_swapped.csv\", index_col=0)"
   ]
  },
  {
   "cell_type": "code",
   "execution_count": 3,
   "metadata": {},
   "outputs": [],
   "source": [
    "df_after_annotation = pd.concat([dev_swapped, test_swapped]).reset_index()"
   ]
  },
  {
   "cell_type": "code",
   "execution_count": 13,
   "metadata": {},
   "outputs": [
    {
     "data": {
      "text/plain": [
       "0       Містить помилки\n",
       "1       Містить помилки\n",
       "2       Містить помилки\n",
       "3             Правильне\n",
       "4             Правильне\n",
       "             ...       \n",
       "1537          Правильне\n",
       "1538          Правильне\n",
       "1539          Правильне\n",
       "1540          Правильне\n",
       "1541          Правильне\n",
       "Name: Коректність речення, Length: 1542, dtype: object"
      ]
     },
     "execution_count": 13,
     "metadata": {},
     "output_type": "execute_result"
    }
   ],
   "source": [
    "df_after_annotation['Коректність речення']"
   ]
  },
  {
   "cell_type": "code",
   "execution_count": 15,
   "metadata": {},
   "outputs": [
    {
     "data": {
      "text/plain": [
       "60"
      ]
     },
     "execution_count": 15,
     "metadata": {},
     "output_type": "execute_result"
    }
   ],
   "source": [
    "c"
   ]
  },
  {
   "cell_type": "code",
   "execution_count": 7,
   "metadata": {},
   "outputs": [
    {
     "data": {
      "text/plain": [
       "False    1473\n",
       "True       69\n",
       "Name: count, dtype: int64"
      ]
     },
     "execution_count": 7,
     "metadata": {},
     "output_type": "execute_result"
    }
   ],
   "source": [
    "(df_after_annotation['Оригінальне речення'] == df_after_annotation['Змінене речення']).value_counts()"
   ]
  },
  {
   "cell_type": "code",
   "execution_count": 5,
   "metadata": {},
   "outputs": [
    {
     "data": {
      "text/plain": [
       "Помічник/ця\n",
       "Сніжанна Б              23\n",
       "Олеся Д.                19\n",
       "Тарас Я.                17\n",
       "Оля Н.                  11\n",
       "Сніжанна Б.             10\n",
       "Андрій Рудницький        9\n",
       "Анастасія Г              8\n",
       "Крищук Катерина          7\n",
       "Анна К.                  7\n",
       "Вікторія Мокряк          6\n",
       "Юлія М.                  6\n",
       "Таміла К.                4\n",
       "Королевська Ольга        4\n",
       "Олександр К.             3\n",
       "Дуда Луїза               3\n",
       "Анастасія Г\\n            3\n",
       "Оля Н                    3\n",
       "Ольга Ш.                 2\n",
       "Королевська О.           2\n",
       "Петро І.                 2\n",
       "Королевська О.Д          1\n",
       "Андрій Р.                1\n",
       " Сніжанна Б.             1\n",
       "Мар'яна                  1\n",
       "Юлія М                   1\n",
       "Олеся Д,                 1\n",
       "\\n Андрій Рудницький     1\n",
       "Name: count, dtype: int64"
      ]
     },
     "execution_count": 5,
     "metadata": {},
     "output_type": "execute_result"
    }
   ],
   "source": [
    "df_after_annotation['Помічник/ця'].value_counts()"
   ]
  },
  {
   "cell_type": "code",
   "execution_count": 4,
   "metadata": {},
   "outputs": [
    {
     "data": {
      "text/html": [
       "<div>\n",
       "<style scoped>\n",
       "    .dataframe tbody tr th:only-of-type {\n",
       "        vertical-align: middle;\n",
       "    }\n",
       "\n",
       "    .dataframe tbody tr th {\n",
       "        vertical-align: top;\n",
       "    }\n",
       "\n",
       "    .dataframe thead th {\n",
       "        text-align: right;\n",
       "    }\n",
       "</style>\n",
       "<table border=\"1\" class=\"dataframe\">\n",
       "  <thead>\n",
       "    <tr style=\"text-align: right;\">\n",
       "      <th></th>\n",
       "      <th>Оригінальне речення</th>\n",
       "      <th>Змінене речення</th>\n",
       "      <th>Анотації</th>\n",
       "      <th>Коректність речення</th>\n",
       "      <th>Виправлене речення</th>\n",
       "      <th>Помічник/ця</th>\n",
       "    </tr>\n",
       "  </thead>\n",
       "  <tbody>\n",
       "    <tr>\n",
       "      <th>0</th>\n",
       "      <td>Виставу за п'єсою російського класика Льва Тол...</td>\n",
       "      <td>Виставу за п'єсою російського класика Льва Тол...</td>\n",
       "      <td>{'Льва Толстого': 'PERS', 'режисера': 'JOB', '...</td>\n",
       "      <td>Містить помилки</td>\n",
       "      <td>Виставу за п'єсою російської класикині Марії Т...</td>\n",
       "      <td>Оля Н</td>\n",
       "    </tr>\n",
       "    <tr>\n",
       "      <th>1</th>\n",
       "      <td>Віртуозні Лесь Задніпровський – князь Абрезков...</td>\n",
       "      <td>Віртуозні Ганна Задніпровська – княгиня Абрезк...</td>\n",
       "      <td>{'Лесь Задніпровський': 'PERS', 'князь': 'JOB'...</td>\n",
       "      <td>Містить помилки</td>\n",
       "      <td>Віртуозні Ганна Задніпровська – княгиня Абрезк...</td>\n",
       "      <td>NaN</td>\n",
       "    </tr>\n",
       "    <tr>\n",
       "      <th>2</th>\n",
       "      <td>Старша в Києві , одружена з військовим , чолов...</td>\n",
       "      <td>Старша в Києві , одружена з військовою , чолов...</td>\n",
       "      <td>{'військовим': 'JOB'}</td>\n",
       "      <td>Містить помилки</td>\n",
       "      <td>Старша в Києві , одружена з військовою , жінка...</td>\n",
       "      <td>NaN</td>\n",
       "    </tr>\n",
       "    <tr>\n",
       "      <th>3</th>\n",
       "      <td>Ні , не так - автор статті , позаштатний корес...</td>\n",
       "      <td>Ні , не так - авторка статті , позаштатна коре...</td>\n",
       "      <td>{'позаштатний кореспондент': 'JOB'}</td>\n",
       "      <td>Правильне</td>\n",
       "      <td>NaN</td>\n",
       "      <td>NaN</td>\n",
       "    </tr>\n",
       "    <tr>\n",
       "      <th>4</th>\n",
       "      <td>І лектори в сірих піджаках із червоними парткв...</td>\n",
       "      <td>І лектори в сірих піджаках із червоними парткв...</td>\n",
       "      <td>{'священиків': 'JOB'}</td>\n",
       "      <td>Правильне</td>\n",
       "      <td>NaN</td>\n",
       "      <td>NaN</td>\n",
       "    </tr>\n",
       "  </tbody>\n",
       "</table>\n",
       "</div>"
      ],
      "text/plain": [
       "                                 Оригінальне речення  \\\n",
       "0  Виставу за п'єсою російського класика Льва Тол...   \n",
       "1  Віртуозні Лесь Задніпровський – князь Абрезков...   \n",
       "2  Старша в Києві , одружена з військовим , чолов...   \n",
       "3  Ні , не так - автор статті , позаштатний корес...   \n",
       "4  І лектори в сірих піджаках із червоними парткв...   \n",
       "\n",
       "                                     Змінене речення  \\\n",
       "0  Виставу за п'єсою російського класика Льва Тол...   \n",
       "1  Віртуозні Ганна Задніпровська – княгиня Абрезк...   \n",
       "2  Старша в Києві , одружена з військовою , чолов...   \n",
       "3  Ні , не так - авторка статті , позаштатна коре...   \n",
       "4  І лектори в сірих піджаках із червоними парткв...   \n",
       "\n",
       "                                            Анотації Коректність речення  \\\n",
       "0  {'Льва Толстого': 'PERS', 'режисера': 'JOB', '...     Містить помилки   \n",
       "1  {'Лесь Задніпровський': 'PERS', 'князь': 'JOB'...     Містить помилки   \n",
       "2                              {'військовим': 'JOB'}     Містить помилки   \n",
       "3                {'позаштатний кореспондент': 'JOB'}           Правильне   \n",
       "4                              {'священиків': 'JOB'}           Правильне   \n",
       "\n",
       "                                  Виправлене речення Помічник/ця  \n",
       "0  Виставу за п'єсою російської класикині Марії Т...       Оля Н  \n",
       "1  Віртуозні Ганна Задніпровська – княгиня Абрезк...         NaN  \n",
       "2  Старша в Києві , одружена з військовою , жінка...         NaN  \n",
       "3                                                NaN         NaN  \n",
       "4                                                NaN         NaN  "
      ]
     },
     "execution_count": 4,
     "metadata": {},
     "output_type": "execute_result"
    }
   ],
   "source": [
    "df_after_annotation.head()"
   ]
  },
  {
   "cell_type": "code",
   "execution_count": 60,
   "metadata": {},
   "outputs": [
    {
     "name": "stdout",
     "output_type": "stream",
     "text": [
      "Size of the dataset: 1542\n",
      "\n",
      "Correct sentence: 58.4 %\n",
      "Uncorrect sentence: 37.5%\n",
      "Difficult to determine: 3.8%\n"
     ]
    }
   ],
   "source": [
    "print(f\"Size of the dataset: {len(df_after_annotation)}\\n\")\n",
    "\n",
    "print(f\"Correct sentence: {len(df_after_annotation[df_after_annotation['Коректність речення']=='Правильне']) * 100 / len(df_after_annotation):.1f} %\")\n",
    "print(f\"Uncorrect sentence: {len(df_after_annotation[df_after_annotation['Коректність речення']=='Містить помилки']) * 100 / len(df_after_annotation):.1f}%\")\n",
    "print(f\"Difficult to determine: {len(df_after_annotation[df_after_annotation['Коректність речення']=='Важко визначити']) * 100 / len(df_after_annotation):.1f}%\")"
   ]
  },
  {
   "cell_type": "code",
   "execution_count": 6,
   "metadata": {},
   "outputs": [
    {
     "name": "stderr",
     "output_type": "stream",
     "text": [
      "/Users/linndfors/study/diploma/new_venv/lib/python3.10/site-packages/transformers/utils/generic.py:309: UserWarning: torch.utils._pytree._register_pytree_node is deprecated. Please use torch.utils._pytree.register_pytree_node instead.\n",
      "  _torch_pytree._register_pytree_node(\n",
      "/Users/linndfors/study/diploma/new_venv/lib/python3.10/site-packages/spacy_transformers/layers/hf_shim.py:137: UserWarning: Error loading saved torch state_dict with strict=True, likely due to differences between 'transformers' versions. Attempting to load with strict=False as a fallback...\n",
      "\n",
      "If you see errors or degraded performance, download a newer compatible model or retrain your custom model with the current 'transformers' and 'spacy-transformers' versions. For more details and available updates, run: python -m spacy validate\n",
      "  warnings.warn(warn_msg)\n"
     ]
    }
   ],
   "source": [
    "ner_nlp = spacy.load(\"uk_ner_web_trf_13class\")"
   ]
  },
  {
   "cell_type": "code",
   "execution_count": 61,
   "metadata": {},
   "outputs": [
    {
     "name": "stderr",
     "output_type": "stream",
     "text": [
      "1542it [19:22,  1.33it/s]\n"
     ]
    }
   ],
   "source": [
    "# Initialize counters\n",
    "orig_vs_gpt_match = 0\n",
    "gpt_vs_ann_match = 0\n",
    "orig_vs_false_gpt = 0\n",
    "orig_vs_ann_match = 0\n",
    "total_with_ann = 0\n",
    "total = 0\n",
    "\n",
    "# Iterate over the rows\n",
    "for x, row in tqdm.tqdm(df_after_annotation.iterrows()):\n",
    "    ann_swapped_sent = None\n",
    "    orig_sent = ner_nlp(row['Оригінальне речення'])\n",
    "    gpt_swapped_sent = ner_nlp(row['Змінене речення'])\n",
    "\n",
    "    # Metric 1: orig vs gpt\n",
    "    if len(orig_sent) == len(gpt_swapped_sent):\n",
    "        orig_vs_gpt_match += 1\n",
    "        if row['Коректність речення'] == \"Містить помилки\":\n",
    "            orig_vs_false_gpt += 1\n",
    "\n",
    "    if row['Коректність речення'] == \"Містить помилки\":\n",
    "        ann_swapped_sent = ner_nlp(row['Виправлене речення'])\n",
    "        total_with_ann += 1\n",
    "\n",
    "        # Metric 2: gpt vs ann\n",
    "        if len(gpt_swapped_sent) == len(ann_swapped_sent):\n",
    "            gpt_vs_ann_match += 1\n",
    "\n",
    "        # Metric 3: orig vs ann\n",
    "        if len(orig_sent) == len(ann_swapped_sent):\n",
    "            orig_vs_ann_match += 1\n",
    "\n",
    "    total += 1"
   ]
  },
  {
   "cell_type": "code",
   "execution_count": 62,
   "metadata": {},
   "outputs": [
    {
     "name": "stdout",
     "output_type": "stream",
     "text": [
      "Total sentences: 1542\n",
      "Total with annotated correction: 579\n",
      "\n",
      "Metric 1 - Orig vs GPT token count match: 1496 (97.02%)\n",
      "Metric 2 - GPT vs Annotated token count match: 557 (96.20%)\n",
      "Metric 3 - Orig vs Annotated token count match: 550 (94.99%)\n",
      "Metric 4 - Orig vs wrong GPT token count match: 550 (94.99%)\n"
     ]
    }
   ],
   "source": [
    "# Report results\n",
    "print(\"Total sentences:\", total)\n",
    "print(\"Total with annotated correction:\", total_with_ann)\n",
    "print(\"\\nMetric 1 - Orig vs GPT token count match:\", orig_vs_gpt_match, f\"({orig_vs_gpt_match / total:.2%})\")\n",
    "print(\"Metric 2 - GPT vs Annotated token count match:\", gpt_vs_ann_match, f\"({gpt_vs_ann_match / total_with_ann:.2%})\")\n",
    "print(\"Metric 3 - Orig vs Annotated token count match:\", orig_vs_ann_match, f\"({orig_vs_ann_match / total_with_ann:.2%})\")\n",
    "print(\"Metric 4 - Orig vs wrong GPT token count match:\", orig_vs_false_gpt, f\"({orig_vs_false_gpt / total_with_ann:.2%})\")\n",
    "\n",
    "# print(\"Metric 3 - Orig vs Annotated token count match:\", orig_vs_ann_match, f\"({(orig_vs_ann_match + total - total_with_ann) / total:.2%})\")"
   ]
  },
  {
   "cell_type": "markdown",
   "metadata": {},
   "source": [
    "## LLMs comparrison"
   ]
  },
  {
   "cell_type": "code",
   "execution_count": 2,
   "metadata": {},
   "outputs": [],
   "source": [
    "finetuned_df = pd.read_csv(\"/Users/linndfors/study/diploma/aya-finetuned_eval_results(comparisson)/MAIN_finetuned_aya_for_the_test_parallel_dataset.csv\")"
   ]
  },
  {
   "cell_type": "code",
   "execution_count": 3,
   "metadata": {},
   "outputs": [
    {
     "data": {
      "text/html": [
       "<div>\n",
       "<style scoped>\n",
       "    .dataframe tbody tr th:only-of-type {\n",
       "        vertical-align: middle;\n",
       "    }\n",
       "\n",
       "    .dataframe tbody tr th {\n",
       "        vertical-align: top;\n",
       "    }\n",
       "\n",
       "    .dataframe thead th {\n",
       "        text-align: right;\n",
       "    }\n",
       "</style>\n",
       "<table border=\"1\" class=\"dataframe\">\n",
       "  <thead>\n",
       "    <tr style=\"text-align: right;\">\n",
       "      <th></th>\n",
       "      <th>finetuned</th>\n",
       "      <th>references</th>\n",
       "      <th>inputs</th>\n",
       "      <th>double_finetuned</th>\n",
       "    </tr>\n",
       "  </thead>\n",
       "  <tbody>\n",
       "    <tr>\n",
       "      <th>0</th>\n",
       "      <td>офіцерка</td>\n",
       "      <td>офіцерка</td>\n",
       "      <td>офіцер</td>\n",
       "      <td>офіцер</td>\n",
       "    </tr>\n",
       "    <tr>\n",
       "      <th>1</th>\n",
       "      <td>мільярдер</td>\n",
       "      <td>мільярдер</td>\n",
       "      <td>мільярдерка</td>\n",
       "      <td>мільярдерка</td>\n",
       "    </tr>\n",
       "    <tr>\n",
       "      <th>2</th>\n",
       "      <td>пакистанець</td>\n",
       "      <td>пакистанець</td>\n",
       "      <td>пакистанка</td>\n",
       "      <td>пакистанка</td>\n",
       "    </tr>\n",
       "    <tr>\n",
       "      <th>3</th>\n",
       "      <td>Статутні внески найбільшого розміру не задекла...</td>\n",
       "      <td>Статутні внески найбільшого розміру не задекла...</td>\n",
       "      <td>Статутні внески найбільшого розміру не задекла...</td>\n",
       "      <td>Статутні внески найбільшого розміру не задекла...</td>\n",
       "    </tr>\n",
       "    <tr>\n",
       "      <th>4</th>\n",
       "      <td>отоларингологиня</td>\n",
       "      <td>отоларингологиня</td>\n",
       "      <td>отоларинголог</td>\n",
       "      <td>отоларинголог</td>\n",
       "    </tr>\n",
       "    <tr>\n",
       "      <th>...</th>\n",
       "      <td>...</td>\n",
       "      <td>...</td>\n",
       "      <td>...</td>\n",
       "      <td>...</td>\n",
       "    </tr>\n",
       "    <tr>\n",
       "      <th>518</th>\n",
       "      <td>Зазначається, що це спільна власність судді та...</td>\n",
       "      <td>Зазначається, що це спільна власність судді та...</td>\n",
       "      <td>Зазначається, що це спільна власність судді та...</td>\n",
       "      <td>Зазначається, що це спільна власність судді та...</td>\n",
       "    </tr>\n",
       "    <tr>\n",
       "      <th>519</th>\n",
       "      <td>Львів», які перевірила декларації депутатів ЛМ...</td>\n",
       "      <td>Львів», які перевірила декларації депутатів ЛМ...</td>\n",
       "      <td>Львів», які перевірила декларації депутаток ЛМ...</td>\n",
       "      <td>Львів», які перевірила декларації депутаток ЛМ...</td>\n",
       "    </tr>\n",
       "    <tr>\n",
       "      <th>520</th>\n",
       "      <td>- А ти що - підглядав? - питає міліціонер.</td>\n",
       "      <td>- А ти що - підглядав ? - питає міліціонер .</td>\n",
       "      <td>- А ти що - підглядав ? - питає міліціонерка .\\n</td>\n",
       "      <td>- А ти що - підглядав? - питає міліціонерка.</td>\n",
       "    </tr>\n",
       "    <tr>\n",
       "      <th>521</th>\n",
       "      <td>Працівник розплідника Брагіна Олександр Черняє...</td>\n",
       "      <td>Працівник розплідника Брагіна Олександр Черняє...</td>\n",
       "      <td>Працівниця розплідника Брагіна Олександра Черн...</td>\n",
       "      <td>Працівниця розплідника Брагіна Валентина Черня...</td>\n",
       "    </tr>\n",
       "    <tr>\n",
       "      <th>522</th>\n",
       "      <td>кар’єристка</td>\n",
       "      <td>кар’єристка</td>\n",
       "      <td>кар’єрист</td>\n",
       "      <td>кар’єрист</td>\n",
       "    </tr>\n",
       "  </tbody>\n",
       "</table>\n",
       "<p>523 rows × 4 columns</p>\n",
       "</div>"
      ],
      "text/plain": [
       "                                             finetuned  \\\n",
       "0                                             офіцерка   \n",
       "1                                            мільярдер   \n",
       "2                                          пакистанець   \n",
       "3    Статутні внески найбільшого розміру не задекла...   \n",
       "4                                     отоларингологиня   \n",
       "..                                                 ...   \n",
       "518  Зазначається, що це спільна власність судді та...   \n",
       "519  Львів», які перевірила декларації депутатів ЛМ...   \n",
       "520         - А ти що - підглядав? - питає міліціонер.   \n",
       "521  Працівник розплідника Брагіна Олександр Черняє...   \n",
       "522                                        кар’єристка   \n",
       "\n",
       "                                            references  \\\n",
       "0                                             офіцерка   \n",
       "1                                            мільярдер   \n",
       "2                                          пакистанець   \n",
       "3    Статутні внески найбільшого розміру не задекла...   \n",
       "4                                     отоларингологиня   \n",
       "..                                                 ...   \n",
       "518  Зазначається, що це спільна власність судді та...   \n",
       "519  Львів», які перевірила декларації депутатів ЛМ...   \n",
       "520       - А ти що - підглядав ? - питає міліціонер .   \n",
       "521  Працівник розплідника Брагіна Олександр Черняє...   \n",
       "522                                        кар’єристка   \n",
       "\n",
       "                                                inputs  \\\n",
       "0                                               офіцер   \n",
       "1                                          мільярдерка   \n",
       "2                                           пакистанка   \n",
       "3    Статутні внески найбільшого розміру не задекла...   \n",
       "4                                        отоларинголог   \n",
       "..                                                 ...   \n",
       "518  Зазначається, що це спільна власність судді та...   \n",
       "519  Львів», які перевірила декларації депутаток ЛМ...   \n",
       "520   - А ти що - підглядав ? - питає міліціонерка .\\n   \n",
       "521  Працівниця розплідника Брагіна Олександра Черн...   \n",
       "522                                          кар’єрист   \n",
       "\n",
       "                                      double_finetuned  \n",
       "0                                               офіцер  \n",
       "1                                          мільярдерка  \n",
       "2                                           пакистанка  \n",
       "3    Статутні внески найбільшого розміру не задекла...  \n",
       "4                                        отоларинголог  \n",
       "..                                                 ...  \n",
       "518  Зазначається, що це спільна власність судді та...  \n",
       "519  Львів», які перевірила декларації депутаток ЛМ...  \n",
       "520       - А ти що - підглядав? - питає міліціонерка.  \n",
       "521  Працівниця розплідника Брагіна Валентина Черня...  \n",
       "522                                          кар’єрист  \n",
       "\n",
       "[523 rows x 4 columns]"
      ]
     },
     "execution_count": 3,
     "metadata": {},
     "output_type": "execute_result"
    }
   ],
   "source": [
    "finetuned_df"
   ]
  },
  {
   "cell_type": "code",
   "execution_count": 30,
   "metadata": {},
   "outputs": [
    {
     "data": {
      "text/plain": [
       "177"
      ]
     },
     "execution_count": 30,
     "metadata": {},
     "output_type": "execute_result"
    }
   ],
   "source": [
    "len(\"Це особливо актуально нині, коли більшість паствинь нашої Церкви працює на світських роботах та фізично не може приділити підготовці до проповіді стільки часу, скільки хотіли б.\")"
   ]
  },
  {
   "cell_type": "code",
   "execution_count": 34,
   "metadata": {},
   "outputs": [
    {
     "name": "stderr",
     "output_type": "stream",
     "text": [
      "523it [07:44,  1.13it/s]\n"
     ]
    }
   ],
   "source": [
    "swapped_vs_finetuned_match = 0\n",
    "orig_and_double_finetuned_match = 0\n",
    "eval_total = 0\n",
    "\n",
    "for x, row in tqdm.tqdm(finetuned_df.iterrows()):\n",
    "    swapped = ner_nlp(row['references'])\n",
    "    finetuned = ner_nlp(row['finetuned'])\n",
    "    orig = ner_nlp(row['inputs'])\n",
    "    double_finetuned = ner_nlp(row['double_finetuned'])\n",
    "\n",
    "    if len(swapped) == len(finetuned):\n",
    "        swapped_vs_finetuned_match += 1\n",
    "\n",
    "    if len(orig) == len(double_finetuned):\n",
    "        orig_and_double_finetuned_match += 1\n",
    "\n",
    "    eval_total += 1"
   ]
  },
  {
   "cell_type": "code",
   "execution_count": 67,
   "metadata": {},
   "outputs": [],
   "source": [
    "def extract_job_entities(doc):\n",
    "    return list(ent.text for ent in doc.ents if ent.label_ == \"JOB\")"
   ]
  },
  {
   "cell_type": "code",
   "execution_count": 72,
   "metadata": {},
   "outputs": [],
   "source": [
    "swapped = ner_nlp(\"офіцерка\")"
   ]
  },
  {
   "cell_type": "code",
   "execution_count": 73,
   "metadata": {},
   "outputs": [
    {
     "data": {
      "text/plain": [
       "[]"
      ]
     },
     "execution_count": 73,
     "metadata": {},
     "output_type": "execute_result"
    }
   ],
   "source": [
    "list(ent.text for ent in swapped.ents if ent.label_ == \"JOB\")"
   ]
  },
  {
   "cell_type": "code",
   "execution_count": 84,
   "metadata": {},
   "outputs": [
    {
     "name": "stderr",
     "output_type": "stream",
     "text": [
      "100%|██████████| 523/523 [00:00<00:00, 7635.03it/s]\n"
     ]
    }
   ],
   "source": [
    "import tqdm\n",
    "\n",
    "ref_finetuned_exact_match = 0\n",
    "orig_double_finetuned_exact_match = 0\n",
    "total_rows = len(finetuned_df)\n",
    "\n",
    "for _, row in tqdm.tqdm(finetuned_df.iterrows(), total=total_rows):\n",
    "    if row['references'] == row['finetuned']:\n",
    "        ref_finetuned_exact_match += 1\n",
    "    if row['inputs'] == row['double_finetuned']:\n",
    "        orig_double_finetuned_exact_match += 1"
   ]
  },
  {
   "cell_type": "code",
   "execution_count": 85,
   "metadata": {},
   "outputs": [
    {
     "name": "stdout",
     "output_type": "stream",
     "text": [
      "Exact JOB match between reference and finetuned: 43.98%\n",
      "Exact JOB match between original and double-finetuned: 52.01%\n"
     ]
    }
   ],
   "source": [
    "ref_finetuned_exact_match_pct = (ref_finetuned_exact_match / total_rows) * 100\n",
    "orig_double_finetuned_exact_match_pct = (orig_double_finetuned_exact_match / total_rows) * 100\n",
    "\n",
    "print(f\"Exact JOB match between reference and finetuned: {ref_finetuned_exact_match_pct:.2f}%\")\n",
    "print(f\"Exact JOB match between original and double-finetuned: {orig_double_finetuned_exact_match_pct:.2f}%\")"
   ]
  },
  {
   "cell_type": "code",
   "execution_count": null,
   "metadata": {},
   "outputs": [
    {
     "name": "stderr",
     "output_type": "stream",
     "text": [
      "  0%|          | 0/523 [00:00<?, ?it/s]"
     ]
    },
    {
     "name": "stderr",
     "output_type": "stream",
     "text": [
      "  1%|▏         | 7/523 [00:07<11:07,  1.29s/it]"
     ]
    },
    {
     "name": "stdout",
     "output_type": "stream",
     "text": [
      "спікерки - спікера\n"
     ]
    },
    {
     "name": "stderr",
     "output_type": "stream",
     "text": [
      "  2%|▏         | 9/523 [00:11<13:44,  1.60s/it]"
     ]
    },
    {
     "name": "stdout",
     "output_type": "stream",
     "text": [
      "голова комітету студентського , аматорського та масового футзалу - голова комітету студентського, аматорського та масового футзалу\n",
      "в . о . голови - в. о. голови\n",
      "головний суддя - головний суддя чемпіонату\n",
      "голова комітету студентського , аматорського та масового футзалу - голова комітету студентського, аматорського та масового футзалу\n",
      "в . о . голови - в. о. голови\n",
      "головна суддя - головний суддя чемпіонату\n"
     ]
    },
    {
     "name": "stderr",
     "output_type": "stream",
     "text": [
      "  3%|▎         | 14/523 [00:16<08:45,  1.03s/it]"
     ]
    },
    {
     "name": "stdout",
     "output_type": "stream",
     "text": [
      "засновницею - засновником\n"
     ]
    },
    {
     "name": "stderr",
     "output_type": "stream",
     "text": [
      "  3%|▎         | 16/523 [00:17<08:02,  1.05it/s]"
     ]
    },
    {
     "name": "stdout",
     "output_type": "stream",
     "text": [
      "пастирів - пастухов\n"
     ]
    },
    {
     "name": "stderr",
     "output_type": "stream",
     "text": [
      "  4%|▎         | 19/523 [00:21<09:08,  1.09s/it]"
     ]
    },
    {
     "name": "stdout",
     "output_type": "stream",
     "text": [
      "мер - очільник\n"
     ]
    },
    {
     "name": "stderr",
     "output_type": "stream",
     "text": [
      "  4%|▍         | 23/523 [00:23<06:29,  1.28it/s]"
     ]
    },
    {
     "name": "stdout",
     "output_type": "stream",
     "text": [
      "замміністерка - замміністра фінансів\n"
     ]
    },
    {
     "name": "stderr",
     "output_type": "stream",
     "text": [
      "  7%|▋         | 36/523 [00:34<06:55,  1.17it/s]"
     ]
    },
    {
     "name": "stdout",
     "output_type": "stream",
     "text": [
      "завідувачку виробничого відділу - завідувачка виробничого відділу\n",
      "завідувача виробничого відділу - завідувач виробничого відділу\n",
      "інженерів - інженер\n"
     ]
    },
    {
     "name": "stderr",
     "output_type": "stream",
     "text": [
      "  9%|▉         | 48/523 [00:42<05:34,  1.42it/s]"
     ]
    },
    {
     "name": "stdout",
     "output_type": "stream",
     "text": [
      "першого замміністра юстиції - першої замміністра юстиції\n",
      "першого замміністра юстиції - першої замміністра юстиції\n"
     ]
    },
    {
     "name": "stderr",
     "output_type": "stream",
     "text": [
      " 10%|█         | 54/523 [00:47<06:19,  1.24it/s]"
     ]
    },
    {
     "name": "stdout",
     "output_type": "stream",
     "text": [
      "президента - президентки\n"
     ]
    },
    {
     "name": "stderr",
     "output_type": "stream",
     "text": [
      " 12%|█▏        | 61/523 [00:54<08:58,  1.17s/it]"
     ]
    },
    {
     "name": "stdout",
     "output_type": "stream",
     "text": [
      "премʼєра - премʼєрки\n"
     ]
    },
    {
     "name": "stderr",
     "output_type": "stream",
     "text": [
      " 16%|█▋        | 86/523 [01:17<08:30,  1.17s/it]"
     ]
    },
    {
     "name": "stdout",
     "output_type": "stream",
     "text": [
      "інженерка - інженер\n",
      "інженер - інженерка\n",
      "інженер - інженерка\n"
     ]
    },
    {
     "name": "stderr",
     "output_type": "stream",
     "text": [
      " 19%|█▉        | 99/523 [01:40<11:57,  1.69s/it]"
     ]
    },
    {
     "name": "stdout",
     "output_type": "stream",
     "text": [
      "мовознавцем - студентом\n"
     ]
    },
    {
     "name": "stderr",
     "output_type": "stream",
     "text": [
      " 21%|██        | 109/523 [01:51<06:39,  1.04it/s]"
     ]
    },
    {
     "name": "stdout",
     "output_type": "stream",
     "text": [
      "заступника начальника - заступниці начальниці\n"
     ]
    },
    {
     "name": "stderr",
     "output_type": "stream",
     "text": [
      " 26%|██▌       | 136/523 [02:19<08:29,  1.32s/it]"
     ]
    },
    {
     "name": "stdout",
     "output_type": "stream",
     "text": [
      "меценаток - меценатки\n"
     ]
    },
    {
     "name": "stderr",
     "output_type": "stream",
     "text": [
      " 26%|██▌       | 137/523 [02:20<07:51,  1.22s/it]"
     ]
    },
    {
     "name": "stdout",
     "output_type": "stream",
     "text": [
      "засновницями - засновниками\n",
      "засновниками - засновницями\n"
     ]
    },
    {
     "name": "stderr",
     "output_type": "stream",
     "text": [
      " 26%|██▋       | 138/523 [02:22<09:43,  1.51s/it]"
     ]
    },
    {
     "name": "stdout",
     "output_type": "stream",
     "text": [
      "секретар - секретарка\n",
      "журналістів - журналісток\n"
     ]
    },
    {
     "name": "stderr",
     "output_type": "stream",
     "text": [
      " 28%|██▊       | 145/523 [02:29<05:34,  1.13it/s]"
     ]
    },
    {
     "name": "stdout",
     "output_type": "stream",
     "text": [
      "екологині - екологиці\n"
     ]
    },
    {
     "name": "stderr",
     "output_type": "stream",
     "text": [
      " 28%|██▊       | 146/523 [02:30<05:18,  1.18it/s]"
     ]
    },
    {
     "name": "stdout",
     "output_type": "stream",
     "text": [
      "беркутівка - беркутівець\n"
     ]
    },
    {
     "name": "stderr",
     "output_type": "stream",
     "text": [
      " 28%|██▊       | 147/523 [02:30<04:44,  1.32it/s]"
     ]
    },
    {
     "name": "stdout",
     "output_type": "stream",
     "text": [
      "дільничний - дільничий\n",
      "дільнична - дільнича\n"
     ]
    },
    {
     "name": "stderr",
     "output_type": "stream",
     "text": [
      " 29%|██▊       | 150/523 [02:33<05:31,  1.13it/s]"
     ]
    },
    {
     "name": "stdout",
     "output_type": "stream",
     "text": [
      "смотрящим - смотрящою\n"
     ]
    },
    {
     "name": "stderr",
     "output_type": "stream",
     "text": [
      " 30%|███       | 158/523 [02:40<05:50,  1.04it/s]"
     ]
    },
    {
     "name": "stdout",
     "output_type": "stream",
     "text": [
      "музики - музиканки\n",
      "скрипалька - скрипачка\n",
      "музики - музиканти\n",
      "скрипаль - скрипач\n"
     ]
    },
    {
     "name": "stderr",
     "output_type": "stream",
     "text": [
      " 31%|███       | 160/523 [02:42<05:47,  1.05it/s]"
     ]
    },
    {
     "name": "stdout",
     "output_type": "stream",
     "text": [
      "першою заступницею начальника - першою заступницею начальниці\n"
     ]
    },
    {
     "name": "stderr",
     "output_type": "stream",
     "text": [
      " 31%|███       | 163/523 [02:45<06:28,  1.08s/it]"
     ]
    },
    {
     "name": "stdout",
     "output_type": "stream",
     "text": [
      "начальниці відділу досліджень і розслідувань - начальника відділу досліджень і розслідувань\n"
     ]
    },
    {
     "name": "stderr",
     "output_type": "stream",
     "text": [
      " 33%|███▎      | 170/523 [02:52<04:59,  1.18it/s]"
     ]
    },
    {
     "name": "stdout",
     "output_type": "stream",
     "text": [
      "першим заступником голови - першою заступницею голови\n"
     ]
    },
    {
     "name": "stderr",
     "output_type": "stream",
     "text": [
      " 34%|███▍      | 179/523 [03:02<05:47,  1.01s/it]"
     ]
    },
    {
     "name": "stdout",
     "output_type": "stream",
     "text": [
      "прокурора - прокурорки\n"
     ]
    },
    {
     "name": "stderr",
     "output_type": "stream",
     "text": [
      " 35%|███▍      | 182/523 [03:06<06:30,  1.14s/it]"
     ]
    },
    {
     "name": "stdout",
     "output_type": "stream",
     "text": [
      "ревізорки - ревізорині\n"
     ]
    },
    {
     "name": "stderr",
     "output_type": "stream",
     "text": [
      " 36%|███▌      | 188/523 [03:14<05:43,  1.02s/it]"
     ]
    },
    {
     "name": "stdout",
     "output_type": "stream",
     "text": [
      "мера - очільника\n"
     ]
    },
    {
     "name": "stderr",
     "output_type": "stream",
     "text": [
      " 37%|███▋      | 192/523 [03:19<07:32,  1.37s/it]"
     ]
    },
    {
     "name": "stdout",
     "output_type": "stream",
     "text": [
      "Головного військового прокурора - Головної військової прокурорки\n"
     ]
    },
    {
     "name": "stderr",
     "output_type": "stream",
     "text": [
      " 37%|███▋      | 195/523 [03:22<05:50,  1.07s/it]"
     ]
    },
    {
     "name": "stdout",
     "output_type": "stream",
     "text": [
      "мер - очільник\n"
     ]
    },
    {
     "name": "stderr",
     "output_type": "stream",
     "text": [
      " 37%|███▋      | 196/523 [03:24<07:47,  1.43s/it]"
     ]
    },
    {
     "name": "stdout",
     "output_type": "stream",
     "text": [
      "мер - очільник\n"
     ]
    },
    {
     "name": "stderr",
     "output_type": "stream",
     "text": [
      " 38%|███▊      | 199/523 [03:29<08:05,  1.50s/it]"
     ]
    },
    {
     "name": "stdout",
     "output_type": "stream",
     "text": [
      "народним депутатом - народною депутаткою\n"
     ]
    },
    {
     "name": "stderr",
     "output_type": "stream",
     "text": [
      " 39%|███▊      | 202/523 [03:31<05:48,  1.08s/it]"
     ]
    },
    {
     "name": "stdout",
     "output_type": "stream",
     "text": [
      "власницею - представник\n",
      "представник - екс\n",
      "екс - -\n",
      "- - замгубернатора\n",
      "представниця - власницею\n",
      "екс - представниця\n",
      "- - екс\n",
      "замгубернаторки - -\n"
     ]
    },
    {
     "name": "stderr",
     "output_type": "stream",
     "text": [
      " 40%|████      | 211/523 [03:38<04:36,  1.13it/s]"
     ]
    },
    {
     "name": "stdout",
     "output_type": "stream",
     "text": [
      "керівниці - керівника\n"
     ]
    },
    {
     "name": "stderr",
     "output_type": "stream",
     "text": [
      " 42%|████▏     | 218/523 [03:45<04:03,  1.25it/s]"
     ]
    },
    {
     "name": "stdout",
     "output_type": "stream",
     "text": [
      "директором - директоркою\n"
     ]
    },
    {
     "name": "stderr",
     "output_type": "stream",
     "text": [
      " 46%|████▋     | 243/523 [04:08<04:48,  1.03s/it]"
     ]
    },
    {
     "name": "stdout",
     "output_type": "stream",
     "text": [
      "найманців - найманці\n",
      "найманки - найманці\n"
     ]
    },
    {
     "name": "stderr",
     "output_type": "stream",
     "text": [
      " 47%|████▋     | 244/523 [04:09<05:01,  1.08s/it]"
     ]
    },
    {
     "name": "stdout",
     "output_type": "stream",
     "text": [
      "заступниця начальника - заступниця начальниці\n",
      "приватної підприємниці - приватного підприємця\n"
     ]
    },
    {
     "name": "stderr",
     "output_type": "stream",
     "text": [
      " 49%|████▉     | 255/523 [04:20<05:40,  1.27s/it]"
     ]
    },
    {
     "name": "stdout",
     "output_type": "stream",
     "text": [
      "ведучий - ведущий\n"
     ]
    },
    {
     "name": "stderr",
     "output_type": "stream",
     "text": [
      " 57%|█████▋    | 296/523 [04:57<03:21,  1.13it/s]"
     ]
    },
    {
     "name": "stdout",
     "output_type": "stream",
     "text": [
      "начальниці - начальниці відділу охорони здоров’я\n"
     ]
    },
    {
     "name": "stderr",
     "output_type": "stream",
     "text": [
      " 58%|█████▊    | 305/523 [05:11<06:43,  1.85s/it]"
     ]
    },
    {
     "name": "stdout",
     "output_type": "stream",
     "text": [
      "очільницю - очільницею\n"
     ]
    },
    {
     "name": "stderr",
     "output_type": "stream",
     "text": [
      " 59%|█████▊    | 307/523 [05:15<07:01,  1.95s/it]"
     ]
    },
    {
     "name": "stdout",
     "output_type": "stream",
     "text": [
      "детективками - детективами\n",
      "детективками - детективами\n"
     ]
    },
    {
     "name": "stderr",
     "output_type": "stream",
     "text": [
      " 59%|█████▉    | 311/523 [05:19<04:03,  1.15s/it]"
     ]
    },
    {
     "name": "stdout",
     "output_type": "stream",
     "text": [
      "академікинею - академікою\n"
     ]
    },
    {
     "name": "stderr",
     "output_type": "stream",
     "text": [
      " 61%|██████    | 320/523 [05:26<03:05,  1.09it/s]"
     ]
    },
    {
     "name": "stdout",
     "output_type": "stream",
     "text": [
      "бізнесменка - бізнесмен\n",
      "очільниці - мерки\n"
     ]
    },
    {
     "name": "stderr",
     "output_type": "stream",
     "text": [
      " 63%|██████▎   | 329/523 [05:37<04:42,  1.45s/it]"
     ]
    },
    {
     "name": "stdout",
     "output_type": "stream",
     "text": [
      "заступниця міського голови - заступниця міської голови\n"
     ]
    },
    {
     "name": "stderr",
     "output_type": "stream",
     "text": [
      " 64%|██████▎   | 333/523 [05:41<03:14,  1.03s/it]"
     ]
    },
    {
     "name": "stdout",
     "output_type": "stream",
     "text": [
      "мер - очільник\n"
     ]
    },
    {
     "name": "stderr",
     "output_type": "stream",
     "text": [
      " 67%|██████▋   | 349/523 [05:54<02:37,  1.10it/s]"
     ]
    },
    {
     "name": "stdout",
     "output_type": "stream",
     "text": [
      "очільника - очільниці\n"
     ]
    },
    {
     "name": "stderr",
     "output_type": "stream",
     "text": [
      " 68%|██████▊   | 356/523 [06:03<03:52,  1.39s/it]"
     ]
    },
    {
     "name": "stdout",
     "output_type": "stream",
     "text": [
      "політологиня - політолог\n"
     ]
    },
    {
     "name": "stderr",
     "output_type": "stream",
     "text": [
      " 69%|██████▊   | 359/523 [06:07<03:46,  1.38s/it]"
     ]
    },
    {
     "name": "stdout",
     "output_type": "stream",
     "text": [
      "службовці - службовики\n"
     ]
    },
    {
     "name": "stderr",
     "output_type": "stream",
     "text": [
      " 70%|██████▉   | 364/523 [06:11<02:36,  1.01it/s]"
     ]
    },
    {
     "name": "stdout",
     "output_type": "stream",
     "text": [
      "засновник - засновником\n"
     ]
    },
    {
     "name": "stderr",
     "output_type": "stream",
     "text": [
      " 70%|██████▉   | 366/523 [06:12<02:13,  1.17it/s]"
     ]
    },
    {
     "name": "stdout",
     "output_type": "stream",
     "text": [
      "депутатка - депутат\n",
      "очільниці - меркині\n"
     ]
    },
    {
     "name": "stderr",
     "output_type": "stream",
     "text": [
      " 72%|███████▏  | 375/523 [06:19<01:40,  1.47it/s]"
     ]
    },
    {
     "name": "stdout",
     "output_type": "stream",
     "text": [
      "голова - глава\n"
     ]
    },
    {
     "name": "stderr",
     "output_type": "stream",
     "text": [
      " 75%|███████▍  | 390/523 [06:31<02:05,  1.06it/s]"
     ]
    },
    {
     "name": "stdout",
     "output_type": "stream",
     "text": [
      "заступниці Генпрокурора - заступника Генпрокурора\n"
     ]
    },
    {
     "name": "stderr",
     "output_type": "stream",
     "text": [
      " 75%|███████▌  | 393/523 [06:33<01:43,  1.25it/s]"
     ]
    },
    {
     "name": "stdout",
     "output_type": "stream",
     "text": [
      "в. о. генеральної директорки - в. о. генерального директора\n"
     ]
    },
    {
     "name": "stderr",
     "output_type": "stream",
     "text": [
      " 76%|███████▌  | 396/523 [06:36<01:46,  1.19it/s]"
     ]
    },
    {
     "name": "stdout",
     "output_type": "stream",
     "text": [
      "екс - екс-\n",
      "- - помічниці\n",
      "помічниці - екснардепки\n",
      "помічнику - помічниці\n"
     ]
    },
    {
     "name": "stderr",
     "output_type": "stream",
     "text": [
      " 77%|███████▋  | 403/523 [06:42<01:40,  1.19it/s]"
     ]
    },
    {
     "name": "stdout",
     "output_type": "stream",
     "text": [
      "прокурорка - прокурор\n"
     ]
    },
    {
     "name": "stderr",
     "output_type": "stream",
     "text": [
      " 79%|███████▊  | 411/523 [06:46<01:06,  1.68it/s]"
     ]
    },
    {
     "name": "stdout",
     "output_type": "stream",
     "text": [
      "підприємниць - підприємиці\n"
     ]
    },
    {
     "name": "stderr",
     "output_type": "stream",
     "text": [
      " 79%|███████▉  | 412/523 [06:47<01:14,  1.49it/s]"
     ]
    },
    {
     "name": "stdout",
     "output_type": "stream",
     "text": [
      "мільйонера - мільйонерки\n"
     ]
    },
    {
     "name": "stderr",
     "output_type": "stream",
     "text": [
      " 79%|███████▉  | 413/523 [06:48<01:26,  1.27it/s]"
     ]
    },
    {
     "name": "stdout",
     "output_type": "stream",
     "text": [
      "міністерки молоді та спорту - міністра молоді та спорту\n"
     ]
    },
    {
     "name": "stderr",
     "output_type": "stream",
     "text": [
      " 82%|████████▏ | 427/523 [07:08<03:05,  1.94s/it]"
     ]
    },
    {
     "name": "stdout",
     "output_type": "stream",
     "text": [
      "нелегалку - -\n",
      "президентку - нелегалку\n"
     ]
    },
    {
     "name": "stderr",
     "output_type": "stream",
     "text": [
      " 82%|████████▏ | 428/523 [07:09<02:39,  1.68s/it]"
     ]
    },
    {
     "name": "stdout",
     "output_type": "stream",
     "text": [
      "директором - директоркою\n"
     ]
    },
    {
     "name": "stderr",
     "output_type": "stream",
     "text": [
      " 82%|████████▏ | 430/523 [07:11<02:01,  1.30s/it]"
     ]
    },
    {
     "name": "stdout",
     "output_type": "stream",
     "text": [
      "помічниця інспектора студентів - помічник інспекторки студенток\n"
     ]
    },
    {
     "name": "stderr",
     "output_type": "stream",
     "text": [
      " 83%|████████▎ | 434/523 [07:14<01:32,  1.04s/it]"
     ]
    },
    {
     "name": "stdout",
     "output_type": "stream",
     "text": [
      "міністерки - міністра регіонального розвитку, будівництва та ЖКГ\n"
     ]
    },
    {
     "name": "stderr",
     "output_type": "stream",
     "text": [
      " 83%|████████▎ | 435/523 [07:15<01:27,  1.01it/s]"
     ]
    },
    {
     "name": "stdout",
     "output_type": "stream",
     "text": [
      "премʼєрка - премʼєр\n"
     ]
    },
    {
     "name": "stderr",
     "output_type": "stream",
     "text": [
      " 84%|████████▍ | 441/523 [07:20<01:05,  1.25it/s]"
     ]
    },
    {
     "name": "stdout",
     "output_type": "stream",
     "text": [
      "Засновницями - Засновниками\n"
     ]
    },
    {
     "name": "stderr",
     "output_type": "stream",
     "text": [
      " 85%|████████▍ | 443/523 [07:22<01:17,  1.03it/s]"
     ]
    },
    {
     "name": "stdout",
     "output_type": "stream",
     "text": [
      "постачальниць - постачальників\n"
     ]
    },
    {
     "name": "stderr",
     "output_type": "stream",
     "text": [
      " 88%|████████▊ | 461/523 [07:36<00:51,  1.20it/s]"
     ]
    },
    {
     "name": "stdout",
     "output_type": "stream",
     "text": [
      "поліцайок - поліцейських\n",
      "поліцаїв - поліцейських\n"
     ]
    },
    {
     "name": "stderr",
     "output_type": "stream",
     "text": [
      " 89%|████████▉ | 465/523 [07:43<01:36,  1.66s/it]"
     ]
    },
    {
     "name": "stdout",
     "output_type": "stream",
     "text": [
      "заступниця директора - заступник директора\n"
     ]
    },
    {
     "name": "stderr",
     "output_type": "stream",
     "text": [
      " 90%|████████▉ | 469/523 [07:47<01:11,  1.32s/it]"
     ]
    },
    {
     "name": "stdout",
     "output_type": "stream",
     "text": [
      "журналістку - журналістки\n"
     ]
    },
    {
     "name": "stderr",
     "output_type": "stream",
     "text": [
      " 91%|█████████ | 475/523 [07:56<01:16,  1.59s/it]"
     ]
    },
    {
     "name": "stdout",
     "output_type": "stream",
     "text": [
      "координатора - координаторки\n"
     ]
    },
    {
     "name": "stderr",
     "output_type": "stream",
     "text": [
      " 93%|█████████▎| 489/523 [08:13<00:44,  1.30s/it]"
     ]
    },
    {
     "name": "stdout",
     "output_type": "stream",
     "text": [
      "керівниця - керівниці\n"
     ]
    },
    {
     "name": "stderr",
     "output_type": "stream",
     "text": [
      " 96%|█████████▋| 504/523 [08:26<00:15,  1.19it/s]"
     ]
    },
    {
     "name": "stdout",
     "output_type": "stream",
     "text": [
      "Міністерки оборони України - Міністрки оборони України\n"
     ]
    },
    {
     "name": "stderr",
     "output_type": "stream",
     "text": [
      " 97%|█████████▋| 506/523 [08:28<00:14,  1.15it/s]"
     ]
    },
    {
     "name": "stdout",
     "output_type": "stream",
     "text": [
      "військовослужбовиця - військовослужбовець\n"
     ]
    },
    {
     "name": "stderr",
     "output_type": "stream",
     "text": [
      " 97%|█████████▋| 508/523 [08:30<00:15,  1.01s/it]"
     ]
    },
    {
     "name": "stdout",
     "output_type": "stream",
     "text": [
      "засновницями - засновниками\n"
     ]
    },
    {
     "name": "stderr",
     "output_type": "stream",
     "text": [
      " 99%|█████████▊| 516/523 [08:38<00:06,  1.07it/s]"
     ]
    },
    {
     "name": "stdout",
     "output_type": "stream",
     "text": [
      "тренерів - тренерок\n"
     ]
    },
    {
     "name": "stderr",
     "output_type": "stream",
     "text": [
      "100%|██████████| 523/523 [08:44<00:00,  1.00s/it]\n"
     ]
    },
    {
     "ename": "TypeError",
     "evalue": "sum() takes at most 2 arguments (4 given)",
     "output_type": "error",
     "traceback": [
      "\u001b[0;31m---------------------------------------------------------------------------\u001b[0m",
      "\u001b[0;31mTypeError\u001b[0m                                 Traceback (most recent call last)",
      "Cell \u001b[0;32mIn[87], line 50\u001b[0m\n\u001b[1;32m     41\u001b[0m             \u001b[38;5;28mprint\u001b[39m(orig_jobs[n], \u001b[38;5;124m\"\u001b[39m\u001b[38;5;124m-\u001b[39m\u001b[38;5;124m\"\u001b[39m, double_finetuned_jobs[n])\n\u001b[1;32m     42\u001b[0m     \u001b[38;5;66;03m# if ref_jobs or finetuned_jobs:\u001b[39;00m\n\u001b[1;32m     43\u001b[0m     \u001b[38;5;66;03m#     if ref_jobs == finetuned_jobs:\u001b[39;00m\n\u001b[1;32m     44\u001b[0m     \u001b[38;5;66;03m#         # print(\"good:\", ref_jobs, finetuned_jobs)\u001b[39;00m\n\u001b[0;32m   (...)\u001b[0m\n\u001b[1;32m     48\u001b[0m     \u001b[38;5;66;03m#     if orig_jobs == double_finetuned_jobs:\u001b[39;00m\n\u001b[1;32m     49\u001b[0m     \u001b[38;5;66;03m#         orig_double_finetuned_match_count += 1\u001b[39;00m\n\u001b[0;32m---> 50\u001b[0m total_job_ents \u001b[38;5;241m=\u001b[39m \u001b[38;5;28;43msum\u001b[39;49m\u001b[43m(\u001b[49m\u001b[43mref_jobs\u001b[49m\u001b[43m,\u001b[49m\u001b[43m \u001b[49m\u001b[43morig_jobs\u001b[49m\u001b[43m,\u001b[49m\u001b[43m \u001b[49m\u001b[43mfinetuned_jobs\u001b[49m\u001b[43m,\u001b[49m\u001b[43m \u001b[49m\u001b[43mdouble_finetuned_jobs\u001b[49m\u001b[43m)\u001b[49m\n",
      "\u001b[0;31mTypeError\u001b[0m: sum() takes at most 2 arguments (4 given)"
     ]
    }
   ],
   "source": [
    "import tqdm\n",
    "\n",
    "\n",
    "ref_finetuned_match_count = 0\n",
    "orig_double_finetuned_match_count = 0\n",
    "total_job_ents = 0\n",
    "\n",
    "ref_jobs_c, orig_jobs_c, finetuned_jobs_c, double_finetuned_jobs_c = 0,0,0,0\n",
    "\n",
    "for _, row in tqdm.tqdm(finetuned_df.iterrows(), total=total_rows):\n",
    "    swapped = ner_nlp(row['references'])\n",
    "    finetuned = ner_nlp(row['finetuned'])\n",
    "    orig = ner_nlp(row['inputs'])\n",
    "    double_finetuned = ner_nlp(row['double_finetuned'])\n",
    "\n",
    "    orig_jobs = extract_job_entities(orig)\n",
    "    ref_jobs = extract_job_entities(swapped)\n",
    "    finetuned_jobs = extract_job_entities(finetuned)\n",
    "    double_finetuned_jobs = extract_job_entities(double_finetuned)\n",
    "\n",
    "    ref_jobs_c += len(ref_jobs)\n",
    "    orig_jobs_c += len(orig_jobs)\n",
    "    finetuned_jobs_c += len(finetuned_jobs)\n",
    "    double_finetuned_jobs_c += len(double_finetuned_jobs)\n",
    "\n",
    "\n",
    "    len_of_job_list_swapped = min(len(ref_jobs), len(finetuned_jobs))\n",
    "    \n",
    "    for n in range(len_of_job_list_swapped):\n",
    "        if ref_jobs[n] == finetuned_jobs[n]:\n",
    "            ref_finetuned_match_count += 1\n",
    "        else:\n",
    "            print(ref_jobs[n], \"-\", finetuned_jobs[n])\n",
    "\n",
    "    len_of_job_list_orig = min(len(orig_jobs), len(double_finetuned_jobs))\n",
    "\n",
    "    for n in range(len_of_job_list_orig):\n",
    "        if orig_jobs[n] == double_finetuned_jobs[n]:\n",
    "            orig_double_finetuned_match_count += 1\n",
    "        else:\n",
    "            print(orig_jobs[n], \"-\", double_finetuned_jobs[n])\n",
    "\n",
    "# total_job_ents = sum(ref_jobs, orig_jobs, finetuned_jobs, double_finetuned_jobs)"
   ]
  },
  {
   "cell_type": "code",
   "execution_count": 89,
   "metadata": {},
   "outputs": [
    {
     "name": "stdout",
     "output_type": "stream",
     "text": [
      "Exact JOB match between reference and finetuned: 82.65%\n",
      "Exact JOB match between original and double-finetuned: 87.92%\n"
     ]
    }
   ],
   "source": [
    "ref_finetuned_match_pct = (ref_finetuned_match_count / ref_jobs_c) * 100\n",
    "orig_double_finetuned_match_pct = (orig_double_finetuned_match_count / orig_jobs_c) * 100\n",
    "\n",
    "print(f\"Exact JOB match between reference and finetuned: {ref_finetuned_match_pct:.2f}%\")\n",
    "print(f\"Exact JOB match between original and double-finetuned: {orig_double_finetuned_match_pct:.2f}%\")"
   ]
  },
  {
   "cell_type": "code",
   "execution_count": 35,
   "metadata": {},
   "outputs": [
    {
     "name": "stdout",
     "output_type": "stream",
     "text": [
      "Total sentences: 523\n",
      "\n",
      "Metric 1 - Swapped vs Finetuned token count match: 481 (91.97%)\n",
      "Metric 2 - Orig vs Double Finetuned token count match: 487 (93.12%)\n"
     ]
    }
   ],
   "source": [
    "print(\"Total sentences:\", eval_total)\n",
    "print(\"\\nMetric 1 - Swapped vs Finetuned token count match:\", swapped_vs_finetuned_match, f\"({swapped_vs_finetuned_match / eval_total:.2%})\")\n",
    "print(\"Metric 2 - Orig vs Double Finetuned token count match:\", orig_and_double_finetuned_match, f\"({orig_and_double_finetuned_match / eval_total:.2%})\")"
   ]
  },
  {
   "cell_type": "code",
   "execution_count": 56,
   "metadata": {},
   "outputs": [],
   "source": [
    "orig_df = pd.read_csv(\"/Users/linndfors/study/diploma/aya-finetuned_eval_results(comparisson)/MAIN_original_aya_for_the_test_parallel_dataset_1.csv\")"
   ]
  },
  {
   "cell_type": "code",
   "execution_count": 57,
   "metadata": {},
   "outputs": [
    {
     "data": {
      "text/html": [
       "<div>\n",
       "<style scoped>\n",
       "    .dataframe tbody tr th:only-of-type {\n",
       "        vertical-align: middle;\n",
       "    }\n",
       "\n",
       "    .dataframe tbody tr th {\n",
       "        vertical-align: top;\n",
       "    }\n",
       "\n",
       "    .dataframe thead th {\n",
       "        text-align: right;\n",
       "    }\n",
       "</style>\n",
       "<table border=\"1\" class=\"dataframe\">\n",
       "  <thead>\n",
       "    <tr style=\"text-align: right;\">\n",
       "      <th></th>\n",
       "      <th>references</th>\n",
       "      <th>inputs</th>\n",
       "      <th>original</th>\n",
       "      <th>double_original</th>\n",
       "    </tr>\n",
       "  </thead>\n",
       "  <tbody>\n",
       "    <tr>\n",
       "      <th>0</th>\n",
       "      <td>офіцерка</td>\n",
       "      <td>офіцер</td>\n",
       "      <td>офіцер</td>\n",
       "      <td>офіцер - жінка</td>\n",
       "    </tr>\n",
       "    <tr>\n",
       "      <th>1</th>\n",
       "      <td>мільярдер</td>\n",
       "      <td>мільярдерка</td>\n",
       "      <td>мільярдер</td>\n",
       "      <td>мільярдерка</td>\n",
       "    </tr>\n",
       "    <tr>\n",
       "      <th>2</th>\n",
       "      <td>пакистанець</td>\n",
       "      <td>пакистанка</td>\n",
       "      <td>пакистанець</td>\n",
       "      <td>пакистанка</td>\n",
       "    </tr>\n",
       "    <tr>\n",
       "      <th>3</th>\n",
       "      <td>Статутні внески найбільшого розміру не задекла...</td>\n",
       "      <td>Статутні внески найбільшого розміру не задекла...</td>\n",
       "      <td>Статутний внесок найбільшого розміру не задекл...</td>\n",
       "      <td>Статутний внесок найбільшого розміру не задекл...</td>\n",
       "    </tr>\n",
       "    <tr>\n",
       "      <th>4</th>\n",
       "      <td>отоларингологиня</td>\n",
       "      <td>отоларинголог</td>\n",
       "      <td>отоларинголог - жінка</td>\n",
       "      <td>отоларинголог - чоловік</td>\n",
       "    </tr>\n",
       "  </tbody>\n",
       "</table>\n",
       "</div>"
      ],
      "text/plain": [
       "                                          references  \\\n",
       "0                                           офіцерка   \n",
       "1                                          мільярдер   \n",
       "2                                        пакистанець   \n",
       "3  Статутні внески найбільшого розміру не задекла...   \n",
       "4                                   отоларингологиня   \n",
       "\n",
       "                                              inputs  \\\n",
       "0                                             офіцер   \n",
       "1                                        мільярдерка   \n",
       "2                                         пакистанка   \n",
       "3  Статутні внески найбільшого розміру не задекла...   \n",
       "4                                      отоларинголог   \n",
       "\n",
       "                                            original  \\\n",
       "0                                             офіцер   \n",
       "1                                          мільярдер   \n",
       "2                                        пакистанець   \n",
       "3  Статутний внесок найбільшого розміру не задекл...   \n",
       "4                              отоларинголог - жінка   \n",
       "\n",
       "                                     double_original  \n",
       "0                                     офіцер - жінка  \n",
       "1                                        мільярдерка  \n",
       "2                                         пакистанка  \n",
       "3  Статутний внесок найбільшого розміру не задекл...  \n",
       "4                            отоларинголог - чоловік  "
      ]
     },
     "execution_count": 57,
     "metadata": {},
     "output_type": "execute_result"
    }
   ],
   "source": [
    "orig_df.head()"
   ]
  },
  {
   "cell_type": "code",
   "execution_count": null,
   "metadata": {},
   "outputs": [],
   "source": [
    "# def edit_ents(raw_output, orig_row):\n",
    "#     if not orig_row.strip().endswith(\".\") and raw_output.endswith(\".\"):\n",
    "#         raw_output = raw_output[:-1]\n",
    "\n",
    "#     if orig_row[0].islower():\n",
    "#         return raw_output[0].lower() + raw_output[1:]\n",
    "#     return raw_output"
   ]
  },
  {
   "cell_type": "code",
   "execution_count": null,
   "metadata": {},
   "outputs": [],
   "source": [
    "# orig_df['original'] = orig_df.apply(lambda x: edit_ents(x['original'], x['inputs']), axis=1)\n",
    "# orig_df['double_original'] = orig_df.apply(lambda x: edit_ents(x['double_original'], x['original']), axis=1)"
   ]
  },
  {
   "cell_type": "code",
   "execution_count": null,
   "metadata": {},
   "outputs": [],
   "source": [
    "# orig_df.to_csv(\"/Users/linndfors/study/diploma/aya-finetuned_eval_results(comparisson)/MAIN_original_aya_for_the_test_parallel_dataset_1.csv\",index=0)"
   ]
  },
  {
   "cell_type": "code",
   "execution_count": null,
   "metadata": {},
   "outputs": [],
   "source": [
    "swapped_vs_original_match = 0\n",
    "orig_and_double_original_match = 0\n",
    "eval_orig_total = 0\n",
    "\n",
    "for x, row in tqdm.tqdm(orig_df.iterrows()):\n",
    "    swapped = ner_nlp(row['references'])\n",
    "    original = ner_nlp(row['original'])\n",
    "    orig = ner_nlp(row['inputs'])\n",
    "    double_original = ner_nlp(row['double_original'])\n",
    "\n",
    "    if len(swapped) == len(original):\n",
    "        swapped_vs_original_match += 1\n",
    "\n",
    "    if len(orig) == len(double_original):\n",
    "        orig_and_double_original_match += 1\n",
    "\n",
    "    eval_orig_total += 1"
   ]
  },
  {
   "cell_type": "code",
   "execution_count": null,
   "metadata": {},
   "outputs": [
    {
     "name": "stdout",
     "output_type": "stream",
     "text": [
      "Total sentences: 523\n",
      "\n",
      "Metric 1 - Swapped vs Original Aya token count match: 364 (69.60%)\n",
      "Metric 2 - Orig vs Double Original Aya token count match: 336 (64.24%)\n"
     ]
    }
   ],
   "source": [
    "print(\"Total sentences:\", eval_orig_total)\n",
    "print(\"\\nMetric 1 - Swapped vs Original Aya token count match:\", swapped_vs_original_match, f\"({swapped_vs_original_match / eval_orig_total:.2%})\")\n",
    "print(\"Metric 2 - Orig vs Double Original Aya token count match:\", orig_and_double_original_match, f\"({orig_and_double_original_match / eval_orig_total:.2%})\")"
   ]
  },
  {
   "cell_type": "code",
   "execution_count": 98,
   "metadata": {},
   "outputs": [
    {
     "name": "stderr",
     "output_type": "stream",
     "text": [
      "523it [06:56,  1.25it/s]\n"
     ]
    }
   ],
   "source": [
    "ref_orig_aya_match_count = 0\n",
    "orig_double_orig_aya_match_count = 0\n",
    "total_job_ents = 0\n",
    "\n",
    "ref_jobs_c, orig_jobs_c, original_jobs_c, double_original_jobs_c = 0,0,0,0\n",
    "\n",
    "for _, row in tqdm.tqdm(orig_df.iterrows()):\n",
    "    swapped = ner_nlp(row['references'])\n",
    "    original = ner_nlp(row['original'])\n",
    "    orig = ner_nlp(row['inputs'])\n",
    "    double_original = ner_nlp(row['double_original'])\n",
    "\n",
    "    orig_jobs = extract_job_entities(orig)\n",
    "    ref_jobs = extract_job_entities(swapped)\n",
    "    original_jobs = extract_job_entities(original)\n",
    "    double_original_jobs = extract_job_entities(double_original)\n",
    "\n",
    "    ref_jobs_c += len(ref_jobs)\n",
    "    orig_jobs_c += len(orig_jobs)\n",
    "    original_jobs_c += len(original_jobs)\n",
    "    double_original_jobs_c += len(double_original_jobs)\n",
    "\n",
    "    len_of_job_list_swapped = min(len(ref_jobs), len(original_jobs))\n",
    "    \n",
    "    for n in range(len_of_job_list_swapped):\n",
    "        if ref_jobs[n] == original_jobs[n]:\n",
    "            ref_orig_aya_match_count += 1\n",
    "        # else:\n",
    "        #     print(ref_jobs[n], \"-\", original_jobs[n])\n",
    "\n",
    "    len_of_job_list_orig = min(len(orig_jobs), len(double_original_jobs))\n",
    "\n",
    "    for n in range(len_of_job_list_orig):\n",
    "        if orig_jobs[n] == double_original_jobs[n]:\n",
    "            orig_double_orig_aya_match_count += 1\n",
    "        # else:\n",
    "        #     print(orig_jobs[n], \"-\", double_original_jobs[n])\n"
   ]
  },
  {
   "cell_type": "code",
   "execution_count": 99,
   "metadata": {},
   "outputs": [
    {
     "name": "stdout",
     "output_type": "stream",
     "text": [
      "Exact JOB match between reference and orig Aya: 30.36%\n",
      "Exact JOB match between original and double-orig Aya: 76.09%\n"
     ]
    }
   ],
   "source": [
    "ref_original_match_pct = (ref_orig_aya_match_count / ref_jobs_c) * 100\n",
    "orig_double_original_match_pct = (orig_double_orig_aya_match_count / orig_jobs_c) * 100\n",
    "\n",
    "print(f\"Exact JOB match between reference and orig Aya: {ref_original_match_pct:.2f}%\")\n",
    "print(f\"Exact JOB match between original and double-orig Aya: {orig_double_original_match_pct:.2f}%\")"
   ]
  },
  {
   "cell_type": "code",
   "execution_count": 38,
   "metadata": {},
   "outputs": [],
   "source": [
    "gpt_df = pd.read_csv(\"/Users/linndfors/study/diploma/aya-finetuned_eval_results(comparisson)/MAIN_gpt_for_the_test_parallel_dataset.csv\")"
   ]
  },
  {
   "cell_type": "code",
   "execution_count": 39,
   "metadata": {},
   "outputs": [
    {
     "data": {
      "text/html": [
       "<div>\n",
       "<style scoped>\n",
       "    .dataframe tbody tr th:only-of-type {\n",
       "        vertical-align: middle;\n",
       "    }\n",
       "\n",
       "    .dataframe tbody tr th {\n",
       "        vertical-align: top;\n",
       "    }\n",
       "\n",
       "    .dataframe thead th {\n",
       "        text-align: right;\n",
       "    }\n",
       "</style>\n",
       "<table border=\"1\" class=\"dataframe\">\n",
       "  <thead>\n",
       "    <tr style=\"text-align: right;\">\n",
       "      <th></th>\n",
       "      <th>references</th>\n",
       "      <th>inputs</th>\n",
       "      <th>gpt</th>\n",
       "      <th>double_gpt</th>\n",
       "    </tr>\n",
       "  </thead>\n",
       "  <tbody>\n",
       "    <tr>\n",
       "      <th>0</th>\n",
       "      <td>офіцерка</td>\n",
       "      <td>офіцер</td>\n",
       "      <td>офіцерка</td>\n",
       "      <td>офіцер</td>\n",
       "    </tr>\n",
       "    <tr>\n",
       "      <th>1</th>\n",
       "      <td>мільярдер</td>\n",
       "      <td>мільярдерка</td>\n",
       "      <td>мільярдер</td>\n",
       "      <td>мільярдерка</td>\n",
       "    </tr>\n",
       "    <tr>\n",
       "      <th>2</th>\n",
       "      <td>пакистанець</td>\n",
       "      <td>пакистанка</td>\n",
       "      <td>пакистанець</td>\n",
       "      <td>пакистанка</td>\n",
       "    </tr>\n",
       "    <tr>\n",
       "      <th>3</th>\n",
       "      <td>Статутні внески найбільшого розміру не задекла...</td>\n",
       "      <td>Статутні внески найбільшого розміру не задекла...</td>\n",
       "      <td>Статутні внески найбільшого розміру не задекла...</td>\n",
       "      <td>Статутні внески найбільшого розміру не задекла...</td>\n",
       "    </tr>\n",
       "    <tr>\n",
       "      <th>4</th>\n",
       "      <td>отоларингологиня</td>\n",
       "      <td>отоларинголог</td>\n",
       "      <td>отоларингологиня</td>\n",
       "      <td>отоларинголог</td>\n",
       "    </tr>\n",
       "  </tbody>\n",
       "</table>\n",
       "</div>"
      ],
      "text/plain": [
       "                                          references  \\\n",
       "0                                           офіцерка   \n",
       "1                                          мільярдер   \n",
       "2                                        пакистанець   \n",
       "3  Статутні внески найбільшого розміру не задекла...   \n",
       "4                                   отоларингологиня   \n",
       "\n",
       "                                              inputs  \\\n",
       "0                                             офіцер   \n",
       "1                                        мільярдерка   \n",
       "2                                         пакистанка   \n",
       "3  Статутні внески найбільшого розміру не задекла...   \n",
       "4                                      отоларинголог   \n",
       "\n",
       "                                                 gpt  \\\n",
       "0                                           офіцерка   \n",
       "1                                          мільярдер   \n",
       "2                                        пакистанець   \n",
       "3  Статутні внески найбільшого розміру не задекла...   \n",
       "4                                   отоларингологиня   \n",
       "\n",
       "                                          double_gpt  \n",
       "0                                             офіцер  \n",
       "1                                        мільярдерка  \n",
       "2                                         пакистанка  \n",
       "3  Статутні внески найбільшого розміру не задекла...  \n",
       "4                                      отоларинголог  "
      ]
     },
     "execution_count": 39,
     "metadata": {},
     "output_type": "execute_result"
    }
   ],
   "source": [
    "gpt_df.head()"
   ]
  },
  {
   "cell_type": "code",
   "execution_count": null,
   "metadata": {},
   "outputs": [
    {
     "name": "stderr",
     "output_type": "stream",
     "text": [
      "0it [00:00, ?it/s]"
     ]
    },
    {
     "name": "stderr",
     "output_type": "stream",
     "text": [
      "523it [08:08,  1.07it/s]\n"
     ]
    }
   ],
   "source": [
    "swapped_vs_gpt_match = 0\n",
    "orig_and_double_gpt_match = 0\n",
    "eval_gpt_total = 0\n",
    "\n",
    "for x, row in tqdm.tqdm(gpt_df.iterrows()):\n",
    "    swapped = ner_nlp(row['references'])\n",
    "    gpt = ner_nlp(row['gpt'])\n",
    "    orig = ner_nlp(row['inputs'])\n",
    "    double_gpt = ner_nlp(row['double_gpt'])\n",
    "\n",
    "    if len(swapped) == len(gpt):\n",
    "        swapped_vs_gpt_match += 1\n",
    "\n",
    "    if len(orig) == len(double_gpt):\n",
    "        orig_and_double_gpt_match += 1\n",
    "\n",
    "    eval_gpt_total += 1"
   ]
  },
  {
   "cell_type": "code",
   "execution_count": 55,
   "metadata": {},
   "outputs": [
    {
     "name": "stdout",
     "output_type": "stream",
     "text": [
      "Total sentences: 523\n",
      "\n",
      "Metric 1 - Swapped vs GPT token count match: 475 (90.82%)\n",
      "Metric 2 - Orig vs Double GPT token count match: 475 (90.82%)\n"
     ]
    }
   ],
   "source": [
    "print(\"Total sentences:\", eval_gpt_total)\n",
    "print(\"\\nMetric 1 - Swapped vs GPT token count match:\", swapped_vs_gpt_match, f\"({swapped_vs_gpt_match / eval_gpt_total:.2%})\")\n",
    "print(\"Metric 2 - Orig vs Double GPT token count match:\", orig_and_double_gpt_match, f\"({orig_and_double_gpt_match / eval_gpt_total:.2%})\")"
   ]
  },
  {
   "cell_type": "code",
   "execution_count": null,
   "metadata": {},
   "outputs": [],
   "source": [
    "ref_gpt_match_count = 0\n",
    "orig_double_gpt_match_count = 0\n",
    "total_job_ents = 0\n",
    "\n",
    "ref_jobs_c, orig_jobs_c, gpt_jobs_c, double_gpt_jobs_c = 0,0,0,0\n",
    "\n",
    "for _, row in tqdm.tqdm(gpt_df.iterrows()):\n",
    "    swapped = ner_nlp(row['references'])\n",
    "    gpt = ner_nlp(row['gpt'])\n",
    "    orig = ner_nlp(row['inputs'])\n",
    "    double_gpt = ner_nlp(row['double_gpt'])\n",
    "\n",
    "    orig_jobs = extract_job_entities(orig)\n",
    "    ref_jobs = extract_job_entities(swapped)\n",
    "    gpt_jobs = extract_job_entities(gpt)\n",
    "    double_gpt_jobs = extract_job_entities(double_gpt)\n",
    "\n",
    "    ref_jobs_c += len(ref_jobs)\n",
    "    orig_jobs_c += len(orig_jobs)\n",
    "    gpt_jobs_c += len(gpt_jobs)\n",
    "    double_gpt_jobs_c += len(double_gpt_jobs)\n",
    "\n",
    "    len_of_job_list_swapped = min(len(ref_jobs), len(gpt_jobs))\n",
    "    \n",
    "    for n in range(len_of_job_list_swapped):\n",
    "        if ref_jobs[n] == gpt_jobs[n]:\n",
    "            ref_gpt_match_count += 1\n",
    "        else:\n",
    "            print(ref_jobs[n], \"-\", gpt_jobs[n])\n",
    "\n",
    "    len_of_job_list_orig = min(len(orig_jobs), len(double_gpt_jobs))\n",
    "\n",
    "    for n in range(len_of_job_list_orig):\n",
    "        if orig_jobs[n] == double_gpt_jobs[n]:\n",
    "            orig_double_gpt_match_count += 1\n",
    "        else:\n",
    "            print(orig_jobs[n], \"-\", double_gpt_jobs[n])\n"
   ]
  },
  {
   "cell_type": "code",
   "execution_count": null,
   "metadata": {},
   "outputs": [],
   "source": [
    "ref_gpt_match_pct = (ref_gpt_match_count / total_rows) * 100\n",
    "orig_double_gpt_match_pct = (orig_double_gpt_match_count / total_rows) * 100\n",
    "\n",
    "print(f\"Exact JOB match between reference and gpt: {ref_gpt_match_pct:.2f}%\")\n",
    "print(f\"Exact JOB match between original and double-gpt: {orig_double_gpt_match_pct:.2f}%\")"
   ]
  },
  {
   "cell_type": "markdown",
   "metadata": {},
   "source": [
    "## Remove PERS and check exact match metric"
   ]
  },
  {
   "cell_type": "code",
   "execution_count": null,
   "metadata": {},
   "outputs": [],
   "source": [
    "import tqdm\n",
    "\n",
    "def remove_pers_entities(doc):\n",
    "    \"\"\"Remove all PERS entities from the text based on their spans.\"\"\"\n",
    "    tokens = [token.text for token in doc if (token.ent_type_ != \"PERS\" and token.text != \"\\n\")]\n",
    "\n",
    "    return tokens\n",
    "\n",
    "match_count_ref_finetuned = 0\n",
    "match_count_orig_double = 0\n",
    "\n",
    "total_pairs = 0\n",
    "\n",
    "for _, row in tqdm.tqdm(finetuned_df.iterrows()):\n",
    "    # Run NER on all sentence versions\n",
    "    doc_ref = ner_nlp(row['references'])\n",
    "    doc_finetuned = ner_nlp(row['finetuned'])\n",
    "    doc_orig = ner_nlp(row['inputs'])\n",
    "    doc_double = ner_nlp(row['double_finetuned'])\n",
    "\n",
    "    # Remove PERS entities\n",
    "    ref_clean = remove_pers_entities(doc_ref)\n",
    "    finetuned_clean = remove_pers_entities(doc_finetuned)\n",
    "    orig_clean = remove_pers_entities(doc_orig)\n",
    "    double_clean = remove_pers_entities(doc_double)\n",
    "\n",
    "    total_pairs += 1\n",
    "\n",
    "    if ref_clean == finetuned_clean:\n",
    "        match_count_ref_finetuned += 1\n",
    "    else:\n",
    "        print(ref_clean, \"--\", row['references'])\n",
    "        print(finetuned_clean, \"--\", row['finetuned'])\n",
    "        print( \"----\\n\")\n",
    "        print(f\"[REF ≠ FINETUNED]\\n{ref_clean}\\n{finetuned_clean}\\n\")\n",
    "\n",
    "    if orig_clean == double_clean:\n",
    "        match_count_orig_double += 1\n",
    "    else:\n",
    "        print(f\"[ORIG ≠ DOUBLE-FINETUNED]\\n{orig_clean}\\n{double_clean}\\n\")"
   ]
  },
  {
   "cell_type": "code",
   "execution_count": 33,
   "metadata": {},
   "outputs": [
    {
     "name": "stdout",
     "output_type": "stream",
     "text": [
      "\n",
      "[STATISTICS]\n",
      "Exact matches (REF vs FINETUNED): 0.6424474187380497\n",
      "Exact matches (ORIG vs DOUBLE-FINETUNED): 0.739961759082218\n"
     ]
    }
   ],
   "source": [
    "print(f\"\\n[STATISTICS]\")\n",
    "print(f\"Exact matches (REF vs FINETUNED): {match_count_ref_finetuned/total_pairs}\")\n",
    "print(f\"Exact matches (ORIG vs DOUBLE-FINETUNED): {match_count_orig_double/total_pairs}\")"
   ]
  },
  {
   "cell_type": "code",
   "execution_count": null,
   "metadata": {},
   "outputs": [],
   "source": [
    "match_count_ref_gpt = 0\n",
    "match_count_orig_double_gpt = 0\n",
    "total_pairs = 0\n",
    "\n",
    "for _, row in tqdm.tqdm(gpt_df.iterrows()):\n",
    "    swapped = ner_nlp(row['references'])\n",
    "    gpt = ner_nlp(row['gpt'])\n",
    "    orig = ner_nlp(row['inputs'])\n",
    "    double_gpt = ner_nlp(row['double_gpt'])\n",
    "\n",
    "    # Remove PERS entities\n",
    "    ref_clean = remove_pers_entities(swapped)\n",
    "    gpt_clean = remove_pers_entities(gpt)\n",
    "    orig_clean = remove_pers_entities(orig)\n",
    "    double_gpt_clean = remove_pers_entities(double_gpt)\n",
    "\n",
    "    total_pairs += 1\n",
    "\n",
    "    # print(ref_clean, \"--\", row['references'])\n",
    "    # print(gpt_clean, \"--\", row['gpt'])\n",
    "    # print( \"----\\n\")\n",
    "    if ref_clean == gpt_clean:\n",
    "        match_count_ref_gpt += 1\n",
    "    else:\n",
    "        print(f\"[REF ≠ FINETUNED]\\n{ref_clean}\\n{gpt_clean}\\n\")\n",
    "\n",
    "    if orig_clean == double_gpt_clean:\n",
    "        match_count_orig_double_gpt += 1\n",
    "    else:\n",
    "        print(f\"[ORIG ≠ DOUBLE-FINETUNED]\\n{orig_clean}\\n{double_gpt_clean}\\n\")"
   ]
  },
  {
   "cell_type": "code",
   "execution_count": 46,
   "metadata": {},
   "outputs": [
    {
     "name": "stdout",
     "output_type": "stream",
     "text": [
      "\n",
      "[STATISTICS]\n",
      "Exact matches (REF vs GPT): 0.6233269598470363\n",
      "Exact matches (ORIG vs DOUBLE-GPT): 0.7017208413001912\n"
     ]
    }
   ],
   "source": [
    "print(f\"\\n[STATISTICS]\")\n",
    "print(f\"Exact matches (REF vs GPT): {match_count_ref_gpt/total_pairs}\")\n",
    "print(f\"Exact matches (ORIG vs DOUBLE-GPT): {match_count_orig_double_gpt/total_pairs}\")"
   ]
  },
  {
   "cell_type": "code",
   "execution_count": 59,
   "metadata": {},
   "outputs": [
    {
     "name": "stderr",
     "output_type": "stream",
     "text": [
      "0it [00:00, ?it/s]"
     ]
    },
    {
     "name": "stderr",
     "output_type": "stream",
     "text": [
      "523it [07:25,  1.17it/s]\n"
     ]
    }
   ],
   "source": [
    "match_count_ref_original = 0\n",
    "match_count_orig_double_original = 0\n",
    "total_pairs = 0\n",
    "\n",
    "for _, row in tqdm.tqdm(orig_df.iterrows()):\n",
    "    swapped = ner_nlp(row['references'])\n",
    "    original = ner_nlp(row['original'])\n",
    "    orig = ner_nlp(row['inputs'])\n",
    "    double_original = ner_nlp(row['double_original'])\n",
    "\n",
    "    # Remove PERS entities\n",
    "    ref_clean = remove_pers_entities(swapped)\n",
    "    original_clean = remove_pers_entities(original)\n",
    "    orig_clean = remove_pers_entities(orig)\n",
    "    double_original_clean = remove_pers_entities(double_original)\n",
    "\n",
    "    total_pairs += 1\n",
    "\n",
    "    # print(ref_clean, \"--\", row['references'])\n",
    "    # print(original_clean, \"--\", row['original'])\n",
    "    # print( \"----\\n\")\n",
    "    if ref_clean == original_clean:\n",
    "        match_count_ref_original += 1\n",
    "    else:\n",
    "        pass\n",
    "        # print(f\"[REF ≠ FINETUNED]\\n{ref_clean}\\n{original_clean}\\n\")\n",
    "\n",
    "    if orig_clean == double_original_clean:\n",
    "        match_count_orig_double_original += 1\n",
    "    else:\n",
    "        pass\n",
    "        # print(f\"[ORIG ≠ DOUBLE-FINETUNED]\\n{orig_clean}\\n{double_original_clean}\\n\")"
   ]
  },
  {
   "cell_type": "code",
   "execution_count": 60,
   "metadata": {},
   "outputs": [
    {
     "name": "stdout",
     "output_type": "stream",
     "text": [
      "\n",
      "[STATISTICS]\n",
      "Exact matches (REF vs Original Aya-101): 0.22562141491395793\n",
      "Exact matches (ORIG vs DOUBLE-Aya-101): 0.3403441682600382\n"
     ]
    }
   ],
   "source": [
    "print(f\"\\n[STATISTICS]\")\n",
    "print(f\"Exact matches (REF vs Original Aya-101): {match_count_ref_original/total_pairs}\")\n",
    "print(f\"Exact matches (ORIG vs DOUBLE-Aya-101): {match_count_orig_double_original/total_pairs}\")"
   ]
  },
  {
   "cell_type": "code",
   "execution_count": 62,
   "metadata": {},
   "outputs": [
    {
     "ename": "OSError",
     "evalue": "[E050] Can't find model 'linndfors/ner-uk_for_gender-balanced_dataset'. It doesn't seem to be a Python package or a valid path to a data directory.",
     "output_type": "error",
     "traceback": [
      "\u001b[0;31m---------------------------------------------------------------------------\u001b[0m",
      "\u001b[0;31mOSError\u001b[0m                                   Traceback (most recent call last)",
      "Cell \u001b[0;32mIn[62], line 2\u001b[0m\n\u001b[1;32m      1\u001b[0m \u001b[38;5;28;01mimport\u001b[39;00m \u001b[38;5;21;01mspacy\u001b[39;00m\n\u001b[0;32m----> 2\u001b[0m nlp \u001b[38;5;241m=\u001b[39m \u001b[43mspacy\u001b[49m\u001b[38;5;241;43m.\u001b[39;49m\u001b[43mload\u001b[49m\u001b[43m(\u001b[49m\u001b[38;5;124;43m\"\u001b[39;49m\u001b[38;5;124;43mlinndfors/ner-uk_for_gender-balanced_dataset\u001b[39;49m\u001b[38;5;124;43m\"\u001b[39;49m\u001b[43m)\u001b[49m\n",
      "File \u001b[0;32m~/study/diploma/new_venv/lib/python3.10/site-packages/spacy/__init__.py:51\u001b[0m, in \u001b[0;36mload\u001b[0;34m(name, vocab, disable, enable, exclude, config)\u001b[0m\n\u001b[1;32m     27\u001b[0m \u001b[38;5;28;01mdef\u001b[39;00m \u001b[38;5;21mload\u001b[39m(\n\u001b[1;32m     28\u001b[0m     name: Union[\u001b[38;5;28mstr\u001b[39m, Path],\n\u001b[1;32m     29\u001b[0m     \u001b[38;5;241m*\u001b[39m,\n\u001b[0;32m   (...)\u001b[0m\n\u001b[1;32m     34\u001b[0m     config: Union[Dict[\u001b[38;5;28mstr\u001b[39m, Any], Config] \u001b[38;5;241m=\u001b[39m util\u001b[38;5;241m.\u001b[39mSimpleFrozenDict(),\n\u001b[1;32m     35\u001b[0m ) \u001b[38;5;241m-\u001b[39m\u001b[38;5;241m>\u001b[39m Language:\n\u001b[1;32m     36\u001b[0m \u001b[38;5;250m    \u001b[39m\u001b[38;5;124;03m\"\"\"Load a spaCy model from an installed package or a local path.\u001b[39;00m\n\u001b[1;32m     37\u001b[0m \n\u001b[1;32m     38\u001b[0m \u001b[38;5;124;03m    name (str): Package name or model path.\u001b[39;00m\n\u001b[0;32m   (...)\u001b[0m\n\u001b[1;32m     49\u001b[0m \u001b[38;5;124;03m    RETURNS (Language): The loaded nlp object.\u001b[39;00m\n\u001b[1;32m     50\u001b[0m \u001b[38;5;124;03m    \"\"\"\u001b[39;00m\n\u001b[0;32m---> 51\u001b[0m     \u001b[38;5;28;01mreturn\u001b[39;00m \u001b[43mutil\u001b[49m\u001b[38;5;241;43m.\u001b[39;49m\u001b[43mload_model\u001b[49m\u001b[43m(\u001b[49m\n\u001b[1;32m     52\u001b[0m \u001b[43m        \u001b[49m\u001b[43mname\u001b[49m\u001b[43m,\u001b[49m\n\u001b[1;32m     53\u001b[0m \u001b[43m        \u001b[49m\u001b[43mvocab\u001b[49m\u001b[38;5;241;43m=\u001b[39;49m\u001b[43mvocab\u001b[49m\u001b[43m,\u001b[49m\n\u001b[1;32m     54\u001b[0m \u001b[43m        \u001b[49m\u001b[43mdisable\u001b[49m\u001b[38;5;241;43m=\u001b[39;49m\u001b[43mdisable\u001b[49m\u001b[43m,\u001b[49m\n\u001b[1;32m     55\u001b[0m \u001b[43m        \u001b[49m\u001b[43menable\u001b[49m\u001b[38;5;241;43m=\u001b[39;49m\u001b[43menable\u001b[49m\u001b[43m,\u001b[49m\n\u001b[1;32m     56\u001b[0m \u001b[43m        \u001b[49m\u001b[43mexclude\u001b[49m\u001b[38;5;241;43m=\u001b[39;49m\u001b[43mexclude\u001b[49m\u001b[43m,\u001b[49m\n\u001b[1;32m     57\u001b[0m \u001b[43m        \u001b[49m\u001b[43mconfig\u001b[49m\u001b[38;5;241;43m=\u001b[39;49m\u001b[43mconfig\u001b[49m\u001b[43m,\u001b[49m\n\u001b[1;32m     58\u001b[0m \u001b[43m    \u001b[49m\u001b[43m)\u001b[49m\n",
      "File \u001b[0;32m~/study/diploma/new_venv/lib/python3.10/site-packages/spacy/util.py:472\u001b[0m, in \u001b[0;36mload_model\u001b[0;34m(name, vocab, disable, enable, exclude, config)\u001b[0m\n\u001b[1;32m    470\u001b[0m \u001b[38;5;28;01mif\u001b[39;00m name \u001b[38;5;129;01min\u001b[39;00m OLD_MODEL_SHORTCUTS:\n\u001b[1;32m    471\u001b[0m     \u001b[38;5;28;01mraise\u001b[39;00m \u001b[38;5;167;01mIOError\u001b[39;00m(Errors\u001b[38;5;241m.\u001b[39mE941\u001b[38;5;241m.\u001b[39mformat(name\u001b[38;5;241m=\u001b[39mname, full\u001b[38;5;241m=\u001b[39mOLD_MODEL_SHORTCUTS[name]))  \u001b[38;5;66;03m# type: ignore[index]\u001b[39;00m\n\u001b[0;32m--> 472\u001b[0m \u001b[38;5;28;01mraise\u001b[39;00m \u001b[38;5;167;01mIOError\u001b[39;00m(Errors\u001b[38;5;241m.\u001b[39mE050\u001b[38;5;241m.\u001b[39mformat(name\u001b[38;5;241m=\u001b[39mname))\n",
      "\u001b[0;31mOSError\u001b[0m: [E050] Can't find model 'linndfors/ner-uk_for_gender-balanced_dataset'. It doesn't seem to be a Python package or a valid path to a data directory."
     ]
    }
   ],
   "source": [
    "import spacy\n",
    "nlp = spacy.load(\"linndfors/ner-uk_for_gender-balanced_dataset\")"
   ]
  },
  {
   "cell_type": "markdown",
   "metadata": {},
   "source": [
    "### Change split file"
   ]
  },
  {
   "cell_type": "markdown",
   "metadata": {},
   "source": [
    "405 files (texts) : ng = 274, bruk = 131"
   ]
  },
  {
   "cell_type": "code",
   "execution_count": 103,
   "metadata": {},
   "outputs": [
    {
     "name": "stdout",
     "output_type": "stream",
     "text": [
      "Number of .txt files: 131\n"
     ]
    }
   ],
   "source": [
    "import os\n",
    "\n",
    "directory = \"/Users/linndfors/study/diploma/ner_for_fem/data/v2.0-swapped/bruk\"\n",
    "txt_count = sum(1 for f in os.listdir(directory) if f.endswith(\".txt\") and os.path.isfile(os.path.join(directory, f)))\n",
    "\n",
    "print(f\"Number of .txt files: {txt_count}\")"
   ]
  },
  {
   "cell_type": "code",
   "execution_count": 104,
   "metadata": {},
   "outputs": [
    {
     "name": "stdout",
     "output_type": "stream",
     "text": [
      "Number of .txt files: 274\n"
     ]
    }
   ],
   "source": [
    "directory = \"/Users/linndfors/study/diploma/ner_for_fem/data/v2.0-swapped/ng\"\n",
    "txt_count = sum(1 for f in os.listdir(directory) if f.endswith(\".txt\") and os.path.isfile(os.path.join(directory, f)))\n",
    "\n",
    "print(f\"Number of .txt files: {txt_count}\")"
   ]
  },
  {
   "cell_type": "code",
   "execution_count": 105,
   "metadata": {},
   "outputs": [
    {
     "data": {
      "text/plain": [
       "405"
      ]
     },
     "execution_count": 105,
     "metadata": {},
     "output_type": "execute_result"
    }
   ],
   "source": [
    "274+131"
   ]
  },
  {
   "cell_type": "code",
   "execution_count": null,
   "metadata": {},
   "outputs": [],
   "source": [
    "import os\n",
    "\n",
    "# Path to the file that lists the filenames\n",
    "filename_list_path = \"/Users/linndfors/study/diploma/ner_for_fem/data/v2.0-swapped/dev-test-split_copy.txt\"\n",
    "# Path to the directory where the files should be\n",
    "directory_path_ng = \"/Users/linndfors/study/diploma/ner_for_fem/data/v2.0-swapped/ng\"\n",
    "directory_path_bruk = \"/Users/linndfors/study/diploma/ner_for_fem/data/v2.0-swapped/bruk\"\n",
    "\n",
    "# Read lines from the list file\n",
    "with open(filename_list_path, \"r\") as f:\n",
    "    lines = [line.strip() for line in f]\n",
    "\n",
    "# Keep headers like DEV/TEST and only validate lines that aren't those\n",
    "valid_lines = []\n",
    "for line in lines:\n",
    "    if line in [\"DEV\", \"TEST\", \"\", \"\\n\"]:\n",
    "        valid_lines.append(line)\n",
    "    else:\n",
    "        file_to_check_ng = os.path.join(directory_path_ng, f\"{line}.txt\")\n",
    "        file_to_check_bruk = os.path.join(directory_path_bruk, f\"{line}.txt\")\n",
    "        if os.path.exists(file_to_check_ng) or os.path.exists(file_to_check_bruk):\n",
    "            valid_lines.append(line)\n",
    "        else:\n",
    "            print(f\"Removing missing file entry: {line}.txt\")\n",
    "\n",
    "with open(filename_list_path, \"w\") as f:\n",
    "    for line in valid_lines:\n",
    "        f.write(line + \"\\n\")"
   ]
  },
  {
   "cell_type": "code",
   "execution_count": 107,
   "metadata": {},
   "outputs": [
    {
     "name": "stdout",
     "output_type": "stream",
     "text": [
      "Lines under 'DEV': 283\n",
      "Lines under 'TEST': 123\n"
     ]
    }
   ],
   "source": [
    "dev_count = 0\n",
    "test_count = 0\n",
    "\n",
    "# Read the file and process lines\n",
    "with open(filename_list_path, \"r\") as f:\n",
    "    lines = [line.strip() for line in f]\n",
    "\n",
    "# Flags to track the current section\n",
    "in_dev_section = False\n",
    "in_test_section = False\n",
    "\n",
    "# Loop through lines and count the lines under DEV and TEST\n",
    "for line in lines:\n",
    "    if line == \"DEV\":\n",
    "        in_dev_section = True\n",
    "        in_test_section = False\n",
    "    elif line == \"TEST\":\n",
    "        in_test_section = True\n",
    "        in_dev_section = False\n",
    "    elif in_dev_section:\n",
    "        dev_count += 1\n",
    "    elif in_test_section:\n",
    "        test_count += 1\n",
    "\n",
    "# Print out the counts\n",
    "print(f\"Lines under 'DEV': {dev_count}\")\n",
    "print(f\"Lines under 'TEST': {test_count}\")\n"
   ]
  },
  {
   "cell_type": "markdown",
   "metadata": {},
   "source": [
    "## Dictionary terms metric"
   ]
  },
  {
   "cell_type": "code",
   "execution_count": 154,
   "metadata": {},
   "outputs": [],
   "source": [
    "bruk_pairs = pd.read_csv(\"/Users/linndfors/study/diploma/ner_for_fem/data/utils_files/bruk_gender_pairs_from_swapping_by_gender.csv\", index_col = 0)\n",
    "ng_pairs = pd.read_csv(\"/Users/linndfors/study/diploma/ner_for_fem/data/utils_files/ng_gender_pairs_from_swapping_by_gender.csv\", index_col = 0)"
   ]
  },
  {
   "cell_type": "code",
   "execution_count": 113,
   "metadata": {},
   "outputs": [
    {
     "data": {
      "text/plain": [
       "(319, 4)"
      ]
     },
     "execution_count": 113,
     "metadata": {},
     "output_type": "execute_result"
    }
   ],
   "source": [
    "bruk_pairs.shape"
   ]
  },
  {
   "cell_type": "code",
   "execution_count": 114,
   "metadata": {},
   "outputs": [
    {
     "data": {
      "text/plain": [
       "(805, 4)"
      ]
     },
     "execution_count": 114,
     "metadata": {},
     "output_type": "execute_result"
    }
   ],
   "source": [
    "ng_pairs.shape"
   ]
  },
  {
   "cell_type": "code",
   "execution_count": 115,
   "metadata": {},
   "outputs": [
    {
     "data": {
      "text/plain": [
       "1124"
      ]
     },
     "execution_count": 115,
     "metadata": {},
     "output_type": "execute_result"
    }
   ],
   "source": [
    "805+319"
   ]
  },
  {
   "cell_type": "code",
   "execution_count": 116,
   "metadata": {},
   "outputs": [],
   "source": [
    "gender_pers_dict = pd.read_csv(\"/Users/linndfors/study/diploma/uk-gender-word-mapper/gender_pairs_dictionary.csv\")"
   ]
  },
  {
   "cell_type": "code",
   "execution_count": 117,
   "metadata": {},
   "outputs": [
    {
     "data": {
      "text/html": [
       "<div>\n",
       "<style scoped>\n",
       "    .dataframe tbody tr th:only-of-type {\n",
       "        vertical-align: middle;\n",
       "    }\n",
       "\n",
       "    .dataframe tbody tr th {\n",
       "        vertical-align: top;\n",
       "    }\n",
       "\n",
       "    .dataframe thead th {\n",
       "        text-align: right;\n",
       "    }\n",
       "</style>\n",
       "<table border=\"1\" class=\"dataframe\">\n",
       "  <thead>\n",
       "    <tr style=\"text-align: right;\">\n",
       "      <th></th>\n",
       "      <th>male</th>\n",
       "      <th>female</th>\n",
       "    </tr>\n",
       "  </thead>\n",
       "  <tbody>\n",
       "    <tr>\n",
       "      <th>0</th>\n",
       "      <td>абітурієнт</td>\n",
       "      <td>абітурієнтка</td>\n",
       "    </tr>\n",
       "    <tr>\n",
       "      <th>1</th>\n",
       "      <td>абонент</td>\n",
       "      <td>абонентка</td>\n",
       "    </tr>\n",
       "    <tr>\n",
       "      <th>2</th>\n",
       "      <td>абориген</td>\n",
       "      <td>аборигенка</td>\n",
       "    </tr>\n",
       "    <tr>\n",
       "      <th>3</th>\n",
       "      <td>абстракціоніст</td>\n",
       "      <td>абстракціоністка</td>\n",
       "    </tr>\n",
       "    <tr>\n",
       "      <th>4</th>\n",
       "      <td>авантюрист</td>\n",
       "      <td>авантюристка</td>\n",
       "    </tr>\n",
       "  </tbody>\n",
       "</table>\n",
       "</div>"
      ],
      "text/plain": [
       "             male            female\n",
       "0      абітурієнт      абітурієнтка\n",
       "1         абонент         абонентка\n",
       "2        абориген        аборигенка\n",
       "3  абстракціоніст  абстракціоністка\n",
       "4      авантюрист      авантюристка"
      ]
     },
     "execution_count": 117,
     "metadata": {},
     "output_type": "execute_result"
    }
   ],
   "source": [
    "gender_pers_dict.head()"
   ]
  },
  {
   "cell_type": "code",
   "execution_count": 143,
   "metadata": {},
   "outputs": [],
   "source": [
    "with open('/Users/linndfors/study/diploma/uk-gender-word-mapper/common_gender_words_list.txt') as file:\n",
    "    common_gender_words_list = [line.strip() for line in file if line.strip()]"
   ]
  },
  {
   "cell_type": "code",
   "execution_count": 156,
   "metadata": {},
   "outputs": [
    {
     "name": "stdout",
     "output_type": "stream",
     "text": [
      "Dict values: 722\n",
      "Not dict values: 83\n",
      "JOB for NG: dict metric: 0.8968944099378882\n"
     ]
    }
   ],
   "source": [
    "in_dict = 0\n",
    "not_in_dict = 0\n",
    "not_in_dict_list = []\n",
    "\n",
    "for x in ng_pairs['original']:\n",
    "    if x in gender_pers_dict['male'].values or x in gender_pers_dict['female'].values or x in common_gender_words_list:\n",
    "        in_dict += 1\n",
    "    else:\n",
    "        not_in_dict += 1\n",
    "        not_in_dict_list.append(x)\n",
    "\n",
    "print(f\"Dict values: {in_dict}\")\n",
    "print(f\"Not dict values: {not_in_dict}\")\n",
    "print(f\"JOB for NG: dict metric: {in_dict/len(ng_pairs)}\")"
   ]
  },
  {
   "cell_type": "code",
   "execution_count": 157,
   "metadata": {},
   "outputs": [
    {
     "name": "stdout",
     "output_type": "stream",
     "text": [
      "Dict values: 263\n",
      "Not dict values: 56\n",
      "JOB for BRUK: dict metric: 0.8244514106583072\n"
     ]
    }
   ],
   "source": [
    "in_dict = 0\n",
    "not_in_dict = 0\n",
    "not_in_dict_list = []\n",
    "\n",
    "for x in bruk_pairs['original']:\n",
    "    if x in gender_pers_dict['male'].values or x in gender_pers_dict['female'].values or x in common_gender_words_list:\n",
    "        in_dict += 1\n",
    "    else:\n",
    "        not_in_dict += 1\n",
    "        not_in_dict_list.append(x)\n",
    "    \n",
    "print(f\"Dict values: {in_dict}\")\n",
    "print(f\"Not dict values: {not_in_dict}\")\n",
    "print(f\"JOB for BRUK: dict metric: {in_dict/len(bruk_pairs)}\")"
   ]
  },
  {
   "cell_type": "code",
   "execution_count": 152,
   "metadata": {},
   "outputs": [
    {
     "data": {
      "text/plain": [
       "['священик',\n",
       " 'священик',\n",
       " 'кобзар',\n",
       " 'зоолог',\n",
       " 'мовознавець',\n",
       " 'осередок',\n",
       " 'жовнір',\n",
       " 'жовнір',\n",
       " 'жовнір',\n",
       " 'кучер',\n",
       " 'в',\n",
       " 'ботанік',\n",
       " 'мікол',\n",
       " 'беркутівець',\n",
       " 'беркутівець',\n",
       " 'папа',\n",
       " 'священик',\n",
       " 'священик',\n",
       " 'священик',\n",
       " 'прозаїк',\n",
       " 'співець',\n",
       " 'тележурналіст',\n",
       " 'священик',\n",
       " 'охоронець',\n",
       " 'священик',\n",
       " 'священик',\n",
       " 'священик',\n",
       " 'демограф',\n",
       " 'землероб',\n",
       " 'поліцай',\n",
       " 'детектива',\n",
       " 'міліціонер',\n",
       " 'міліціонер',\n",
       " 'міліціонер',\n",
       " 'міліціонер',\n",
       " 'міліціонер',\n",
       " 'пастир',\n",
       " 'пастир',\n",
       " 'пастир',\n",
       " 'лісник',\n",
       " 'комісар',\n",
       " 'комісар',\n",
       " 'мовознавець',\n",
       " 'міліціонер',\n",
       " 'міліціонер',\n",
       " 'комісар',\n",
       " 'служка',\n",
       " 'хроніст',\n",
       " 'нейробіолог',\n",
       " 'рокер',\n",
       " 'корчмаря',\n",
       " 'корчмаря',\n",
       " 'корчмаря',\n",
       " 'священик',\n",
       " 'гетьман',\n",
       " 'чумак']"
      ]
     },
     "execution_count": 152,
     "metadata": {},
     "output_type": "execute_result"
    }
   ],
   "source": [
    "not_in_dict_list"
   ]
  },
  {
   "cell_type": "code",
   "execution_count": 134,
   "metadata": {},
   "outputs": [
    {
     "data": {
      "text/plain": [
       "118"
      ]
     },
     "execution_count": 134,
     "metadata": {},
     "output_type": "execute_result"
    }
   ],
   "source": [
    "not_in_dict"
   ]
  },
  {
   "cell_type": "code",
   "execution_count": 131,
   "metadata": {},
   "outputs": [
    {
     "data": {
      "text/plain": [
       "['голова',\n",
       " 'нардеп',\n",
       " 'в',\n",
       " 'голова',\n",
       " 'митниця',\n",
       " 'страховик',\n",
       " 'технічний',\n",
       " 'нардеп',\n",
       " 'фопа',\n",
       " 'екснардеп',\n",
       " 'нардеп',\n",
       " 'голова',\n",
       " 'голова',\n",
       " 'голова',\n",
       " 'голова',\n",
       " 'голова',\n",
       " 'голова',\n",
       " 'заступниця',\n",
       " 'заступниця',\n",
       " 'голова',\n",
       " 'нардеп',\n",
       " 'генпрокурор',\n",
       " 'комітет',\n",
       " 'суддя',\n",
       " 'суддя',\n",
       " 'голова',\n",
       " 'голова',\n",
       " 'дорожник',\n",
       " 'комунальник',\n",
       " 'голова',\n",
       " 'суддя',\n",
       " 'мера',\n",
       " 'підрядник',\n",
       " 'підрядник',\n",
       " 'голова',\n",
       " 'експертний',\n",
       " 'експертний',\n",
       " 'залізничник',\n",
       " 'замгубернатор',\n",
       " 'комунальник',\n",
       " 'відділ',\n",
       " 'контррозвідка',\n",
       " 'спецслужба',\n",
       " 'голова',\n",
       " 'голова',\n",
       " 'дорожник',\n",
       " 'суддя',\n",
       " 'судді',\n",
       " 'виконуючий',\n",
       " 'голова',\n",
       " 'голова',\n",
       " 'голова',\n",
       " 'рада',\n",
       " 'голова',\n",
       " 'відділ',\n",
       " 'нарколога',\n",
       " 'голова',\n",
       " 'судді',\n",
       " 'судді',\n",
       " 'суддя',\n",
       " 'суддя',\n",
       " 'суддя',\n",
       " 'суддя',\n",
       " 'суддя',\n",
       " 'суддя',\n",
       " 'судді',\n",
       " 'судді',\n",
       " 'суддя',\n",
       " 'суддя',\n",
       " 'суддя',\n",
       " 'суддя',\n",
       " 'судді',\n",
       " 'рітейлер',\n",
       " 'рітейлер',\n",
       " 'рітейлер',\n",
       " 'рітейлер',\n",
       " 'рітейлер',\n",
       " 'суддя',\n",
       " 'суддя',\n",
       " 'судді',\n",
       " 'судді',\n",
       " 'суддя',\n",
       " 'суддя',\n",
       " 'суддя',\n",
       " 'суддя',\n",
       " 'еколога',\n",
       " 'комісія',\n",
       " 'голова',\n",
       " 'голова',\n",
       " 'замдиректор',\n",
       " 'голова',\n",
       " 'нардеп',\n",
       " 'голова',\n",
       " 'голова',\n",
       " 'голова',\n",
       " 'керівництво',\n",
       " 'голова',\n",
       " 'голова',\n",
       " 'голова',\n",
       " 'суддя',\n",
       " 'голова',\n",
       " 'відділ',\n",
       " 'в.',\n",
       " 'антимонопольник',\n",
       " 'антимонопольник',\n",
       " 'фінінспектор',\n",
       " 'суддя',\n",
       " 'суддя',\n",
       " 'мера',\n",
       " 'голова',\n",
       " 'нардеп',\n",
       " 'нардеп',\n",
       " 'менеджера',\n",
       " 'голова',\n",
       " 'нардеп',\n",
       " 'міліціонер',\n",
       " 'міліціонер',\n",
       " 'мера',\n",
       " 'нардеп',\n",
       " 'антимонопольник',\n",
       " 'підприємство',\n",
       " 'суддя',\n",
       " 'судді',\n",
       " 'суддя',\n",
       " 'суддя',\n",
       " 'суддя',\n",
       " 'суддя',\n",
       " 'суддя',\n",
       " 'голова',\n",
       " 'суддя',\n",
       " 'суддя',\n",
       " 'судді',\n",
       " 'судді',\n",
       " 'суддя',\n",
       " 'судді',\n",
       " 'суддя',\n",
       " 'суддя',\n",
       " 'ексочільник',\n",
       " 'залізничник',\n",
       " 'держвиконавець',\n",
       " 'голова',\n",
       " 'голова',\n",
       " 'голова',\n",
       " 'голова',\n",
       " 'антимонопольник',\n",
       " 'антимонопольник',\n",
       " 'залізничник',\n",
       " 'голова',\n",
       " 'голова',\n",
       " 'голова',\n",
       " 'нардеп',\n",
       " 'нардеп',\n",
       " 'нардеп',\n",
       " 'нардеп',\n",
       " 'голова',\n",
       " 'нардеп',\n",
       " 'голова',\n",
       " 'антимонопольник',\n",
       " 'детектив',\n",
       " 'держвиконавець',\n",
       " 'нардеп',\n",
       " 'голова',\n",
       " 'голова',\n",
       " 'голова',\n",
       " 'голова',\n",
       " 'глава',\n",
       " 'глава',\n",
       " 'голова',\n",
       " 'компанія',\n",
       " 'замміністр',\n",
       " 'фоп',\n",
       " 'нардеп',\n",
       " 'голова',\n",
       " 'нардеп',\n",
       " 'голова',\n",
       " 'глава',\n",
       " 'суддя',\n",
       " 'зернотрейдер',\n",
       " 'трейдер',\n",
       " 'трейдер',\n",
       " 'зернотрейдер',\n",
       " 'зернотрейдер',\n",
       " 'голова',\n",
       " 'голова',\n",
       " 'голова',\n",
       " 'голова',\n",
       " 'голова',\n",
       " 'голова',\n",
       " 'нардеп',\n",
       " 'нардеп',\n",
       " 'голова',\n",
       " 'рада',\n",
       " 'підрядник',\n",
       " 'підрядник',\n",
       " 'генпідрядник',\n",
       " 'голова',\n",
       " 'голова',\n",
       " 'судді',\n",
       " 'судді',\n",
       " 'судді',\n",
       " 'судді',\n",
       " 'суддя',\n",
       " 'суддя',\n",
       " 'суддя',\n",
       " 'генпідрядник',\n",
       " 'голова',\n",
       " 'голова',\n",
       " 'голова',\n",
       " 'мера',\n",
       " 'глава',\n",
       " 'держава',\n",
       " 'фоп',\n",
       " 'фоп',\n",
       " 'фоп',\n",
       " 'глава',\n",
       " 'судді',\n",
       " 'судді',\n",
       " 'суддя',\n",
       " 'фоп']"
      ]
     },
     "execution_count": 131,
     "metadata": {},
     "output_type": "execute_result"
    }
   ],
   "source": [
    "not_in_dict_list"
   ]
  }
 ],
 "metadata": {
  "kernelspec": {
   "display_name": "new_venv",
   "language": "python",
   "name": "python3"
  },
  "language_info": {
   "codemirror_mode": {
    "name": "ipython",
    "version": 3
   },
   "file_extension": ".py",
   "mimetype": "text/x-python",
   "name": "python",
   "nbconvert_exporter": "python",
   "pygments_lexer": "ipython3",
   "version": "3.10.16"
  }
 },
 "nbformat": 4,
 "nbformat_minor": 2
}
