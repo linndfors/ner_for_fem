{
 "cells": [
  {
   "cell_type": "code",
   "execution_count": 1,
   "metadata": {},
   "outputs": [],
   "source": [
    "import pandas as pd"
   ]
  },
  {
   "cell_type": "code",
   "execution_count": 2,
   "metadata": {},
   "outputs": [],
   "source": [
    "gender_swapped_df = pd.read_csv(\"/Users/linndfors/study/diploma/ner_for_fem/src/test_swapped_with_ann.csv\", index_col=0)"
   ]
  },
  {
   "cell_type": "code",
   "execution_count": 3,
   "metadata": {},
   "outputs": [
    {
     "data": {
      "text/html": [
       "<div>\n",
       "<style scoped>\n",
       "    .dataframe tbody tr th:only-of-type {\n",
       "        vertical-align: middle;\n",
       "    }\n",
       "\n",
       "    .dataframe tbody tr th {\n",
       "        vertical-align: top;\n",
       "    }\n",
       "\n",
       "    .dataframe thead th {\n",
       "        text-align: right;\n",
       "    }\n",
       "</style>\n",
       "<table border=\"1\" class=\"dataframe\">\n",
       "  <thead>\n",
       "    <tr style=\"text-align: right;\">\n",
       "      <th></th>\n",
       "      <th>original</th>\n",
       "      <th>swapped</th>\n",
       "      <th>annotations</th>\n",
       "    </tr>\n",
       "  </thead>\n",
       "  <tbody>\n",
       "    <tr>\n",
       "      <th>0</th>\n",
       "      <td>Його редактором був поет-символіст Яків Савчен...</td>\n",
       "      <td>Її редакторкою була поетеса-символістка Яна Са...</td>\n",
       "      <td>{'поет-символіст': 'JOB', 'Яків Савченко': 'PE...</td>\n",
       "    </tr>\n",
       "    <tr>\n",
       "      <th>1</th>\n",
       "      <td>Міжпредметні паралелі . Маніфест футуристів ск...</td>\n",
       "      <td>Міжпредметні паралелі . Маніфест футуристок ск...</td>\n",
       "      <td>{'поет': 'JOB', 'Філіппо Марінетті': 'PERS', '...</td>\n",
       "    </tr>\n",
       "    <tr>\n",
       "      <th>2</th>\n",
       "      <td>Помітною була організація « Гарт » ( 1923 — 19...</td>\n",
       "      <td>Помітною була організація « Гарт » ( 1923 — 19...</td>\n",
       "      <td>{'Гарт': 'ORG', 'поет': 'JOB', '1923 — 1925': ...</td>\n",
       "    </tr>\n",
       "    <tr>\n",
       "      <th>3</th>\n",
       "      <td>Її очолив байкар і прозаїк Сергій Пилипенко .</td>\n",
       "      <td>Його очолила байкарка і прозаїка Сергія Пилипе...</td>\n",
       "      <td>{'байкар': 'JOB', 'прозаїк': 'JOB', 'Сергій Пи...</td>\n",
       "    </tr>\n",
       "    <tr>\n",
       "      <th>4</th>\n",
       "      <td>Назва символізує незнищенність і нездоланність...</td>\n",
       "      <td>Назва символізує незнищенність і нездоланність...</td>\n",
       "      <td>{'поет': 'JOB'}</td>\n",
       "    </tr>\n",
       "  </tbody>\n",
       "</table>\n",
       "</div>"
      ],
      "text/plain": [
       "                                            original  \\\n",
       "0  Його редактором був поет-символіст Яків Савчен...   \n",
       "1  Міжпредметні паралелі . Маніфест футуристів ск...   \n",
       "2  Помітною була організація « Гарт » ( 1923 — 19...   \n",
       "3      Її очолив байкар і прозаїк Сергій Пилипенко .   \n",
       "4  Назва символізує незнищенність і нездоланність...   \n",
       "\n",
       "                                             swapped  \\\n",
       "0  Її редакторкою була поетеса-символістка Яна Са...   \n",
       "1  Міжпредметні паралелі . Маніфест футуристок ск...   \n",
       "2  Помітною була організація « Гарт » ( 1923 — 19...   \n",
       "3  Його очолила байкарка і прозаїка Сергія Пилипе...   \n",
       "4  Назва символізує незнищенність і нездоланність...   \n",
       "\n",
       "                                         annotations  \n",
       "0  {'поет-символіст': 'JOB', 'Яків Савченко': 'PE...  \n",
       "1  {'поет': 'JOB', 'Філіппо Марінетті': 'PERS', '...  \n",
       "2  {'Гарт': 'ORG', 'поет': 'JOB', '1923 — 1925': ...  \n",
       "3  {'байкар': 'JOB', 'прозаїк': 'JOB', 'Сергій Пи...  \n",
       "4                                    {'поет': 'JOB'}  "
      ]
     },
     "execution_count": 3,
     "metadata": {},
     "output_type": "execute_result"
    }
   ],
   "source": [
    "gender_swapped_df.head()"
   ]
  },
  {
   "cell_type": "markdown",
   "metadata": {},
   "source": [
    "## How to evaluate the gender-swapper?\n",
    "\n",
    "<b>Qualitative</b>:\n",
    "- manual erros analysis\n",
    "- generated names are dictionary words of the needed gender\n",
    "- generated feminitives are dictionary words \n",
    "- Check for the agreement accuracy (pymorhy lib to check gender to avoid “вона робив”) stanza\n",
    "- Cross similarity (double gender-swapping)\n",
    "- POS consistency (whether words changed their part of speech) stanza\n",
    "\n",
    "<b>Quantitative</b>:\n",
    "- does the n of tokens coincide\n",
    "- BERTScore (BLEU, ROUGE, and METEOR) (measuring how similar the changed text is to the original text) medium_article\n",
    "- Retrain the NER model on the gender-swapped dataset\n",
    "- the variety of feminitive forms generated (Names)\n",
    "- different LLMs results comparison"
   ]
  },
  {
   "cell_type": "code",
   "execution_count": 10,
   "metadata": {},
   "outputs": [
    {
     "data": {
      "text/plain": [
       "'Співвласницею цієї компанії у свою чергу з часткою в 75% є Ірина Плачкова, голова наглядової ради ПАТ «Київенерго», яке і проводило тендер.'"
      ]
     },
     "execution_count": 10,
     "metadata": {},
     "output_type": "execute_result"
    }
   ],
   "source": [
    "gender_swapped_df['swapped'][0]"
   ]
  },
  {
   "cell_type": "markdown",
   "metadata": {},
   "source": [
    "## Check for the agreement accuracy (pymorhy lib to check gender to avoid “вона робив”) stanza"
   ]
  },
  {
   "cell_type": "code",
   "execution_count": 89,
   "metadata": {},
   "outputs": [],
   "source": [
    "# !pip install stanza"
   ]
  },
  {
   "cell_type": "code",
   "execution_count": 8,
   "metadata": {},
   "outputs": [
    {
     "name": "stderr",
     "output_type": "stream",
     "text": [
      "/Users/linndfors/study/diploma/new_venv/lib/python3.10/site-packages/transformers/utils/generic.py:441: UserWarning: torch.utils._pytree._register_pytree_node is deprecated. Please use torch.utils._pytree.register_pytree_node instead.\n",
      "  _torch_pytree._register_pytree_node(\n"
     ]
    },
    {
     "name": "stdout",
     "output_type": "stream",
     "text": [
      "Downloading Ukrainian model...\n"
     ]
    },
    {
     "data": {
      "application/vnd.jupyter.widget-view+json": {
       "model_id": "4a6fc645afb64879b1f1d903e6ff4d00",
       "version_major": 2,
       "version_minor": 0
      },
      "text/plain": [
       "Downloading https://raw.githubusercontent.com/stanfordnlp/stanza-resources/main/resources_1.9.0.json:   0%|   …"
      ]
     },
     "metadata": {},
     "output_type": "display_data"
    },
    {
     "name": "stderr",
     "output_type": "stream",
     "text": [
      "2025-01-14 23:12:54 INFO: Downloaded file to /Users/linndfors/stanza_resources/resources.json\n",
      "2025-01-14 23:12:54 INFO: Downloading default packages for language: uk (Ukrainian) ...\n",
      "2025-01-14 23:12:56 INFO: File exists: /Users/linndfors/stanza_resources/uk/default.zip\n",
      "2025-01-14 23:13:00 INFO: Finished downloading models and saved to /Users/linndfors/stanza_resources\n"
     ]
    }
   ],
   "source": [
    "import stanza\n",
    "\n",
    "print(\"Downloading Ukrainian model...\")\n",
    "stanza.download('uk')"
   ]
  },
  {
   "cell_type": "code",
   "execution_count": 9,
   "metadata": {},
   "outputs": [],
   "source": [
    "# uk_nlp = stanza.Pipeline('uk', processors='tokenize,lemma,pos,depparse', verbose=False, use_gpu=False)\n",
    "uk_nlp = stanza.Pipeline('uk', verbose=False, use_gpu=False)"
   ]
  },
  {
   "cell_type": "code",
   "execution_count": 18,
   "metadata": {},
   "outputs": [
    {
     "name": "stdout",
     "output_type": "stream",
     "text": [
      "<class 'stanza.models.common.doc.Document'>\n"
     ]
    }
   ],
   "source": [
    "uk_doc = uk_nlp('Співвласницею цієї компанії у свою чергу з часткою в 75% є Ірина Плачкова, голова наглядової ради ПАТ «Київенерго», яке і проводило тендер.')\n",
    "print(type(uk_doc))"
   ]
  },
  {
   "cell_type": "code",
   "execution_count": 68,
   "metadata": {},
   "outputs": [
    {
     "name": "stdout",
     "output_type": "stream",
     "text": [
      "[Sentence 1]\n",
      "Співвласницею\tспіввласниця\tNOUN  \t0\tAnimacy=Anim|Case=Ins|Gender=Fem|Number=Sing\n",
      "цієї        \tцей         \tDET   \t3\tCase=Gen|Gender=Fem|Number=Sing|PronType=Dem\n",
      "компанії    \tкомпанія    \tNOUN  \t1\tAnimacy=Inan|Case=Gen|Gender=Fem|Number=Sing\n",
      "у           \tу           \tADP   \t6\tCase=Acc\n",
      "свою        \tсвій        \tDET   \t6\tCase=Acc|Gender=Fem|Number=Sing|Poss=Yes|PronType=Prs|Reflex=Yes\n",
      "чергу       \tчерга       \tNOUN  \t12\tAnimacy=Inan|Case=Acc|Gender=Fem|Number=Sing\n",
      "з           \tз           \tADP   \t8\tCase=Ins\n",
      "часткою     \tчастка      \tNOUN  \t12\tAnimacy=Inan|Case=Ins|Gender=Fem|Number=Sing\n",
      "в           \tв           \tADP   \t11\tCase=Acc\n",
      "75          \t75          \tNUM   \t11\tCase=Gen|NumType=Card|Uninflect=Yes\n",
      "%           \t%           \tNOUN  \t8\tAnimacy=Inan|Case=Gen|Gender=Masc|Number=Plur|Uninflect=Yes\n",
      "є           \tбути        \tVERB  \t1\tAspect=Imp|Mood=Ind|Number=Sing|Person=3|Tense=Pres|VerbForm=Fin\n",
      "Ірина       \tІрина       \tPROPN \t12\tAnimacy=Anim|Case=Nom|Gender=Fem|NameType=Giv|Number=Sing\n",
      "Плачкова    \tПлачков     \tPROPN \t13\tAnimacy=Anim|Case=Nom|Gender=Fem|NameType=Sur|Number=Sing\n"
     ]
    },
    {
     "ename": "TypeError",
     "evalue": "unsupported format string passed to NoneType.__format__",
     "output_type": "error",
     "traceback": [
      "\u001b[0;31m---------------------------------------------------------------------------\u001b[0m",
      "\u001b[0;31mTypeError\u001b[0m                                 Traceback (most recent call last)",
      "Cell \u001b[0;32mIn[68], line 5\u001b[0m\n\u001b[1;32m      2\u001b[0m \u001b[38;5;28mprint\u001b[39m(\u001b[38;5;124m\"\u001b[39m\u001b[38;5;124m[Sentence \u001b[39m\u001b[38;5;132;01m{}\u001b[39;00m\u001b[38;5;124m]\u001b[39m\u001b[38;5;124m\"\u001b[39m\u001b[38;5;241m.\u001b[39mformat(i\u001b[38;5;241m+\u001b[39m\u001b[38;5;241m1\u001b[39m))\n\u001b[1;32m      3\u001b[0m \u001b[38;5;28;01mfor\u001b[39;00m word \u001b[38;5;129;01min\u001b[39;00m sent\u001b[38;5;241m.\u001b[39mwords:\n\u001b[1;32m      4\u001b[0m     \u001b[38;5;66;03m# print(dir(word))\u001b[39;00m\n\u001b[0;32m----> 5\u001b[0m     \u001b[38;5;28mprint\u001b[39m(\u001b[38;5;124;43m\"\u001b[39;49m\u001b[38;5;132;43;01m{:12s}\u001b[39;49;00m\u001b[38;5;130;43;01m\\t\u001b[39;49;00m\u001b[38;5;132;43;01m{:12s}\u001b[39;49;00m\u001b[38;5;130;43;01m\\t\u001b[39;49;00m\u001b[38;5;132;43;01m{:6s}\u001b[39;49;00m\u001b[38;5;130;43;01m\\t\u001b[39;49;00m\u001b[38;5;132;43;01m{:d}\u001b[39;49;00m\u001b[38;5;130;43;01m\\t\u001b[39;49;00m\u001b[38;5;132;43;01m{:s}\u001b[39;49;00m\u001b[38;5;124;43m\"\u001b[39;49m\u001b[38;5;241;43m.\u001b[39;49m\u001b[43mformat\u001b[49m\u001b[43m(\u001b[49m\u001b[43m\\\u001b[49m\n\u001b[1;32m      6\u001b[0m \u001b[43m          \u001b[49m\u001b[43mword\u001b[49m\u001b[38;5;241;43m.\u001b[39;49m\u001b[43mtext\u001b[49m\u001b[43m,\u001b[49m\u001b[43m \u001b[49m\u001b[43mword\u001b[49m\u001b[38;5;241;43m.\u001b[39;49m\u001b[43mlemma\u001b[49m\u001b[43m,\u001b[49m\u001b[43m \u001b[49m\u001b[43mword\u001b[49m\u001b[38;5;241;43m.\u001b[39;49m\u001b[43mpos\u001b[49m\u001b[43m,\u001b[49m\u001b[43m \u001b[49m\u001b[43mword\u001b[49m\u001b[38;5;241;43m.\u001b[39;49m\u001b[43mhead\u001b[49m\u001b[43m,\u001b[49m\u001b[43m \u001b[49m\u001b[43mword\u001b[49m\u001b[38;5;241;43m.\u001b[39;49m\u001b[43mfeats\u001b[49m\u001b[43m)\u001b[49m)\n\u001b[1;32m      7\u001b[0m \u001b[38;5;28mprint\u001b[39m(\u001b[38;5;124m\"\u001b[39m\u001b[38;5;124m\"\u001b[39m)\n",
      "\u001b[0;31mTypeError\u001b[0m: unsupported format string passed to NoneType.__format__"
     ]
    }
   ],
   "source": [
    "for i, sent in enumerate(uk_doc.sentences):\n",
    "    print(\"[Sentence {}]\".format(i+1))\n",
    "    for word in sent.words:\n",
    "        # print(dir(word))\n",
    "        print(\"{:12s}\\t{:12s}\\t{:6s}\\t{:d}\\t{:s}\".format(\\\n",
    "              word.text, word.lemma, word.pos, word.head, word.feats))\n",
    "    print(\"\")"
   ]
  },
  {
   "cell_type": "code",
   "execution_count": 15,
   "metadata": {},
   "outputs": [
    {
     "name": "stdout",
     "output_type": "stream",
     "text": [
      "Mention text\tType\tStart-End\n"
     ]
    }
   ],
   "source": [
    "print(\"Mention text\\tType\\tStart-End\")\n",
    "for ent in uk_doc.ents:\n",
    "    print(\"{}\\t{}\\t{}-{}\".format(ent.text, ent.type, ent.start_char, ent.end_char))"
   ]
  },
  {
   "cell_type": "code",
   "execution_count": 66,
   "metadata": {},
   "outputs": [],
   "source": [
    "def check_gender_agreement_in_sentences(sentences):\n",
    "    for sentence in sentences:\n",
    "        doc = uk_nlp(sentence)\n",
    "        \n",
    "\n",
    "        for sent in doc.sentences:\n",
    "            for word in sent.words:\n",
    "                try:\n",
    "                    if word.deprel in [\"nsubj\", \"nsubj:pass\"] and \"Gender\" in str(word.feats):\n",
    "                        if \"Animacy=Inan\" not in str(word.feats):\n",
    "                            subj_text = word.text\n",
    "                            subj_feats = word.feats\n",
    "                            subj_gender = [feat.split('=')[1] for feat in subj_feats.split('|') if feat.startswith('Gender')][0]\n",
    "                            subj_number = [feat.split('=')[1] for feat in subj_feats.split('|') if feat.startswith('Number')][0]\n",
    "\n",
    "                            head_id = word.head\n",
    "                            if head_id > 0:\n",
    "                                verb = sent.words[head_id - 1]\n",
    "                                if verb.pos == \"VERB\" and \"Gender\" in str(verb.feats):\n",
    "                                    verb_text = verb.text\n",
    "                                    verb_feats = verb.feats\n",
    "                                    verb_gender = [feat.split('=')[1] for feat in verb_feats.split('|') if feat.startswith('Gender')][0]\n",
    "                                    verb_number = [feat.split('=')[1] for feat in verb_feats.split('|') if feat.startswith('Number')][0]\n",
    "\n",
    "                                    if subj_gender == verb_gender and subj_number == verb_number:\n",
    "                                        pass\n",
    "                                        # print(f\"AGREE: {subj_text} ({subj_feats}) і {verb_text} ({verb_feats})\")\n",
    "                                    else:\n",
    "                                        print(\"\\nSentence:\", sentence)\n",
    "                                        print(f\"XXX NOT AGREE XXX: {subj_text} ({subj_feats}) і {verb_text} ({verb_feats})\")\n",
    "                except Exception as e:\n",
    "                    print(f\"Error {e}; in the following sentence: {sentence}\")"
   ]
  },
  {
   "cell_type": "code",
   "execution_count": 67,
   "metadata": {},
   "outputs": [
    {
     "name": "stdout",
     "output_type": "stream",
     "text": [
      "\n",
      "Sentence: Григорія Стерпул стала відомою як бізнес-партнерка президентки регіональної Торгово-промислової палати Миколаївської області Ігоря Катвалюка, який раніше був заступником голови Миколаївської облдержадміністрації.\n",
      "XXX NOT AGREE XXX: Григорія (Animacy=Anim|Case=Nom|Gender=Masc|NameType=Giv|Number=Sing) і стала (Aspect=Perf|Gender=Fem|Mood=Ind|Number=Sing|Tense=Past|VerbForm=Fin)\n",
      "\n",
      "Sentence: Слідча повідомила, що до прокуратури звернулася з заявою голова Громадської ради при виконавчому комітеті Лиманської міськради.\n",
      "XXX NOT AGREE XXX: голова (Animacy=Anim|Case=Nom|Gender=Masc|Number=Sing) і звернулася (Aspect=Perf|Gender=Fem|Mood=Ind|Number=Sing|Tense=Past|VerbForm=Fin)\n",
      "Error list index out of range; in the following sentence: Обидві Колеснікови згадувались як членкині наглядової ради ЗАТ «Енергомережа» до того, як фірму очолила Марина Крючкова, що останні роки представляє інтереси нардепки від БПП Ігоря Кононенка.\n",
      "\n",
      "Sentence: Мати голови правління ПАТ «Херсонська ТЕЦ» в кінці 2015 року придбав 50% ТОВ «Пансіонат «Петровець», де її партнером є власник фірми, якій Херсонська ТЕЦ подарувала 8,78 млн грн. державних коштів.\n",
      "XXX NOT AGREE XXX: Мати (Animacy=Anim|Case=Nom|Gender=Fem|Number=Sing) і придбав (Aspect=Perf|Gender=Masc|Mood=Ind|Number=Sing|Tense=Past|VerbForm=Fin)\n",
      "\n",
      "Sentence: Мати голови правління Херсонської ТЕЦ Марко Педченко став співвласником пансіонату після того, як у травні 2015 р.\n",
      "XXX NOT AGREE XXX: Мати (Animacy=Anim|Case=Nom|Gender=Fem|Number=Sing) і став (Aspect=Perf|Gender=Masc|Mood=Ind|Number=Sing|Tense=Past|VerbForm=Fin)\n",
      "\n",
      "Sentence: За відповідне рішення 24 жовтня проголосувало 68 депутаток.\n",
      "XXX NOT AGREE XXX: депутаток (Animacy=Anim|Case=Gen|Gender=Masc|Number=Plur) і проголосувало (Aspect=Perf|Gender=Neut|Mood=Ind|Number=Sing|Tense=Past|VerbForm=Fin)\n",
      "\n",
      "Sentence: Нардеп Ольга Ляшко називала її «Стефанія Губата», вказуючи на її нібито причетність захоплення ринку брухту у Маріуполі після початку АТО.\n",
      "XXX NOT AGREE XXX: Нардеп (Animacy=Anim|Case=Nom|Gender=Masc|Number=Sing) і називала (Aspect=Imp|Gender=Fem|Mood=Ind|Number=Sing|Tense=Past|VerbForm=Fin)\n",
      "\n",
      "Sentence: В Рахунковій палаті зазвичай визначають це як нецільове використання засобів, пояснила глава Мінфіну і привела приклад, коли відомство «призначені для купівлі столу гроші відправляє на ремонт даху».\n",
      "XXX NOT AGREE XXX: глава (Animacy=Anim|Case=Nom|Gender=Masc|Number=Sing) і пояснила (Aspect=Perf|Gender=Fem|Mood=Ind|Number=Sing|Tense=Past|VerbForm=Fin)\n",
      "\n",
      "Sentence: Журналіст нагадала, що у 2007-2008 рр.\n",
      "XXX NOT AGREE XXX: Журналіст (Animacy=Anim|Case=Nom|Gender=Masc|Number=Sing) і нагадала (Aspect=Perf|Gender=Fem|Mood=Ind|Number=Sing|Tense=Past|VerbForm=Fin)\n",
      "\n",
      "Sentence: Також, слідча суддя зазначила, що з часу вилучення грошей детективки мали достатньо часу для проведення будь-яких слідчих дій щодо з'ясування про те, чи мають вони значення у даному кримінальному провадженні.\n",
      "XXX NOT AGREE XXX: суддя (Animacy=Anim|Case=Nom|Gender=Masc|Number=Sing) і зазначила (Aspect=Perf|Gender=Fem|Mood=Ind|Number=Sing|Tense=Past|VerbForm=Fin)\n"
     ]
    }
   ],
   "source": [
    "check_gender_agreement_in_sentences(list(gender_swapped_df['swapped']))"
   ]
  },
  {
   "cell_type": "markdown",
   "metadata": {},
   "source": [
    "## Tokens count"
   ]
  },
  {
   "cell_type": "code",
   "execution_count": 90,
   "metadata": {},
   "outputs": [
    {
     "name": "stdout",
     "output_type": "stream",
     "text": [
      "> «Це все виконується силами «Запоріжелектротрансу», що мені дуже приємно» – > підкреслив міський голова Володимир Буряк.\n",
      "«Це все виконується силами «Запоріжелектротрансу», що мені дуже приємно» – > підкреслила міська голова Володимира Буряк.\n",
      "Григорій Стерпул відомий як бізнес-партнер президента регіональної Торгово-промислової палати Миколаївської області Ігоря Катвалюка, який раніше був заступником голови Миколаївської облдержадміністрації.\n",
      "Григорія Стерпул стала відомою як бізнес-партнерка президентки регіональної Торгово-промислової палати Миколаївської області Ігоря Катвалюка, який раніше був заступником голови Миколаївської облдержадміністрації.\n",
      "Олена Добича, згідно з останніми даними SMIDA, володіє 10,22% акцій ПрАТ «Бердянський райагропромпостач», головою правління якого Олександр Пономарьов був до свого обрання народним депутатом.\n",
      "Олександра Добич стала володільницею 10,22% акцій ПрАТ «Бердянський райагропромпостач», головою правління якого Олександра Пономарьова була до свого обрання народною депутаткою.\n",
      "Директором «АІС-Полтава» значиться Вадим Вашак.\n",
      "Директоркою «АІС-Полтава» значиться Вадимина Вашак.\n",
      "Одним із найбільших акціонерів КЗЕТ, є Надія Гончаренко -бухгалтер у ТОВ «Річ-М», яке належить головному інженеру «Київпастрансу» Юрію Бомбандьорову.\n",
      "Однією з найбільших акціонерок КЗЕТ є Назарія Гончаренко - бухгалтерка у ТОВ «Річ-М», яке належить головному інженеру «Київпастрансу» Юрію Бомбандьорову.\n",
      "Засновником ТОВ «Едельвейс-Девелопмент» є ТОВ «Едельвейс-Фінанс», засновниками якого є Ярослав Ватаманюк і «Райнер Холдінгс Корп.»\n",
      "Засновницею ТОВ «Едельвейс-Девелопмент» є ТОВ «Едельвейс-Фінанс», засновниками якого є Ярослава Ватаманюк і «Райнер Холдінгс Корп.».\n",
      "Львів», він колишній начальник управління капітального будівництва Львівської облдержадміністрації.\n",
      "«Львів», вона колишня начальниця управління капітального будівництва Львівської облдержадміністрації.\n",
      "За даними черкаської поліції, керівництво «Каштан- Плюс» перебуває у дружніх відносинах з депутатом Черкаської міськради від «Батьківщини» Юрієм Тренкіним, родині якого належить ТОВ «Хлібний Дім – Україна».\n",
      "За даними черкаської поліції, керівництво «Каштан- Плюс» перебуває у дружніх відносинах з депутаткою Черкаської міськради від «Батьківщини» Юлією Тренкіною, родині якої належить ТОВ «Хлібний Дім – Україна».\n",
      "Уважно вивчивши надані документи …, засновником ТОВ «Український Авіаційний Сервіс» який володіє 100% статутного капіталу є громадянин України Ткачук Ігор Борисовичі, який також є одним з засновників ТОВ «Авіаресурс», та володіє 50% статутного …, тобто є пов'язаною особою між ТОВ «авіаресурс» та ТОВ «Український Авіаційний Сервіс», – констатував тендерний комітет міліцейської частини.\n",
      "Уважно вивчивши надані документи …, засновницею ТОВ «Український Авіаційний Сервіс», яка володіє 100% статутного капіталу, є громадянка України Ткачук Ірина Борисівна, яка також є одним з засновниць ТОВ «Авіаресурс», та володіє 50% статутного …, тобто є пов'язаною особою між ТОВ «авіаресурс» та ТОВ «Український Авіаційний Сервіс», – констатував тендерний комітет міліцейської частини.\n",
      "Нагадаємо, 19 серпня арешт на вказані кошти слідчий наклала слідчий суддя Наталія Зубачик.\n",
      "Нагадаємо, 19 серпня арешт на вказані кошти слідча суддя Наталій Зубачик.\n"
     ]
    }
   ],
   "source": [
    "def token_count_match(row):\n",
    "        tokens_1 = len(uk_nlp(row['original']).sentences[0].tokens)\n",
    "        tokens_2 = len(uk_nlp(row['swapped']).sentences[0].tokens)\n",
    "        \n",
    "        if tokens_1 != tokens_2:\n",
    "              print(row['original'])\n",
    "              print(row['swapped'])\n",
    "\n",
    "for i, row in gender_swapped_df.iterrows():\n",
    "    token_count_match(row)"
   ]
  },
  {
   "cell_type": "markdown",
   "metadata": {},
   "source": [
    "## POS comparison"
   ]
  },
  {
   "cell_type": "code",
   "execution_count": 4,
   "metadata": {},
   "outputs": [],
   "source": [
    "from tqdm import tqdm"
   ]
  },
  {
   "cell_type": "code",
   "execution_count": 15,
   "metadata": {},
   "outputs": [],
   "source": [
    "def compare_pos_tags(df):\n",
    "    # results = []\n",
    "\n",
    "    for _, row in tqdm(df.iterrows()):\n",
    "        sent1, sent2 = row['original'], row['swapped']\n",
    "\n",
    "        doc1 = uk_nlp(sent1)\n",
    "        doc2 = uk_nlp(sent2)\n",
    "        error_flag = False\n",
    "\n",
    "        tokens1 = [(word.text, word.upos) for sent in doc1.sentences for word in sent.words]\n",
    "        tokens2 = [(word.text, word.upos) for sent in doc2.sentences for word in sent.words]\n",
    "\n",
    "        for (tok1, pos1), (tok2, pos2) in zip(tokens1, tokens2):\n",
    "            if tok1 != tok2:\n",
    "                if pos1 != pos2:\n",
    "                    error_flag = True\n",
    "                    print(\"XX BAD XX\", (tok1, pos1, tok2, pos2))\n",
    "        if error_flag:\n",
    "            print(sent1)\n",
    "            print(sent2)"
   ]
  },
  {
   "cell_type": "code",
   "execution_count": 16,
   "metadata": {},
   "outputs": [],
   "source": [
    "for_pos_check_gender_swapped_df = gender_swapped_df.copy()"
   ]
  },
  {
   "cell_type": "code",
   "execution_count": 17,
   "metadata": {},
   "outputs": [
    {
     "data": {
      "text/plain": [
       "539"
      ]
     },
     "execution_count": 17,
     "metadata": {},
     "output_type": "execute_result"
    }
   ],
   "source": [
    "len(for_pos_check_gender_swapped_df)"
   ]
  },
  {
   "cell_type": "code",
   "execution_count": 18,
   "metadata": {},
   "outputs": [
    {
     "name": "stderr",
     "output_type": "stream",
     "text": [
      "15it [00:37,  2.46s/it]"
     ]
    },
    {
     "name": "stdout",
     "output_type": "stream",
     "text": [
      "XX BAD XX ('кокетлива', 'NOUN', 'кокетливий', 'ADJ')\n",
      "В часи , коли талановитий драматург досягнув піку слави й популярності , при королівському дворі в Англії користувалася увагою кокетлива й вишукана Емілія Бассано Ланьєр .\n",
      "В часи, коли талановита драматургиня досягла піку слави й популярності, при королівському дворі в Англії користувалася увагою кокетливий й вишуканий Еміль Бассано Ланьєр.\n"
     ]
    },
    {
     "name": "stderr",
     "output_type": "stream",
     "text": [
      "37it [01:27,  4.11s/it]"
     ]
    },
    {
     "name": "stdout",
     "output_type": "stream",
     "text": [
      "XX BAD XX ('свіжому', 'ADJ', 'свіж', 'NOUN')\n",
      "В наших умовах у таких « рольових коконах » продовжували дефілювати партійні ортодокси , лектори ЦК Компартії , які своєю поведінкою дуже нагадували героя Кіфера Сазерленда ( чи то герой « Меланхолії » через двадцять п’ять років наслідує їх ?.. ) , та ще офіцери КҐБ , які єдині тоді мусили бути щасливі , бо їм додалося праці : в кінці травня один такий приходив вербувати й мене ( цей сюжет я потім використала для схожого епізоду в біографії Дарини в « Музеї покинутих секретів » ) , і ми з ним близько трьох годин мужньо блукали вулицями « на свіжому повітрі » , дивуючи нечастих перехожих ( він , правда , запропонував піти до ресторану – на той час гуляти « на свіжому повітрі » вже не рекомендувалося цілком офіційно , – але на це я згодитись не могла : ресторан – то вже , як не крути , « початок угоди » , після якого відмовлятися від « співпраці » було б набагато складніше , і наковтатися трохи зайвих мікрорентґенів – яка вже різниця , кількома більше чи кількома менше ? – було однозначно привабливішою опцією ) .\n",
      "В наших умовах у таких « рольових коконах » продовжували дефілювати партійні ортодоксички , лекторки ЦК Компартії , які своєю поведінкою дуже нагадували героїню Кіфера Сазерленда ( чи то героїня « Меланхолії » через двадцять п’ять років наслідує їх ?.. ) , та ще офіцерки КҐБ , які єдині тоді мусили бути щасливі , бо їм додалося праці : в кінці травня одна така приходила вербувати й мене ( цей сюжет я потім використала для схожого епізоду в біографії Дарини в « Музеї покинутих секретів » ) , і ми з нею близько трьох годин мужньо блукали вулицями « на свіж\n"
     ]
    },
    {
     "name": "stderr",
     "output_type": "stream",
     "text": [
      "45it [01:43,  2.05s/it]"
     ]
    },
    {
     "name": "stdout",
     "output_type": "stream",
     "text": [
      "XX BAD XX ('її', 'DET', 'його', 'PRON')\n",
      "Батько вважав її хорошим педагогом , хоч насправді вона була просто привабливою жінкою , доброю і не надто вимогливою .\n",
      "Мати вважала його хорошою педагогинею, хоч насправді він був просто привабливим чоловіком, добрим і не надто вимогливим.\n"
     ]
    },
    {
     "name": "stderr",
     "output_type": "stream",
     "text": [
      "54it [02:01,  1.74s/it]"
     ]
    },
    {
     "name": "stdout",
     "output_type": "stream",
     "text": [
      "XX BAD XX ('Шеф', 'NOUN', 'Шефа', 'PROPN')\n",
      "Шеф погодився , часто говорив потім , що зробив добре діло , але говорив так , ніби шкодував за вдіяним . « Марік , — звертався він до нового підмайстра , — потрібно завжди шанувати батьків .\n",
      "Шефа погодилась, часто говорила потім, що зробила добре діло, але говорила так, ніби шкодувала за вдіяним. «Марина, — зверталась вона до нової підмайстрині, — потрібно завжди шанувати батьків.\n"
     ]
    },
    {
     "name": "stderr",
     "output_type": "stream",
     "text": [
      "61it [02:12,  1.82s/it]"
     ]
    },
    {
     "name": "stdout",
     "output_type": "stream",
     "text": [
      "XX BAD XX ('-', 'PUNCT', 'мама', 'NOUN')\n",
      "XX BAD XX ('тато', 'NOUN', ',', 'PUNCT')\n",
      "XX BAD XX (',', 'PUNCT', 'інженерка', 'NOUN')\n",
      "XX BAD XX ('інженер', 'NOUN', ',', 'PUNCT')\n",
      "XX BAD XX (',', 'PUNCT', 'Павлов', 'PROPN')\n",
      "XX BAD XX ('Павлова', 'PROPN', '-', 'PUNCT')\n",
      "За радянської влади в будинку жили чотири родини — Коліна родина займала дві кімнати на першому поверсі , поруч із ними жили Павлови — Павлов-тато , інженер , Павлова мама , теж інженер , і їхня донька — істеричка й інтриганка .\n",
      "За радянської влади в будинку жили чотири родини — Коліної родина займала дві кімнати на першому поверсі, поруч із ними жили Павлови — Павлова мама, інженерка, Павлов-тато, теж інженер, і їхня донька — істеричка й інтриганка.\n"
     ]
    },
    {
     "name": "stderr",
     "output_type": "stream",
     "text": [
      "89it [03:04,  1.57s/it]"
     ]
    },
    {
     "name": "stdout",
     "output_type": "stream",
     "text": [
      "XX BAD XX ('отаман', 'NOUN', 'отаманша', 'ADJ')\n",
      "Сотник Станімір ураз виструнчився у військову поставу й суворим командирським голосом сказав , що відмова від виконання наказу карається за всіма законами воєнного часу , тому він , отаман Шуліка , постане перед польовим судом .\n",
      "Сотниця Станіслава ураз виструнчилась у військову поставу й суворим командирським голосом сказала, що відмова від виконання наказу карається за всіма законами воєнного часу, тому вона, отаманша Шуліка, постане перед польовим судом.\n"
     ]
    },
    {
     "name": "stderr",
     "output_type": "stream",
     "text": [
      "92it [03:10,  1.89s/it]"
     ]
    },
    {
     "name": "stdout",
     "output_type": "stream",
     "text": [
      "XX BAD XX ('Станімір', 'NOUN', 'Станіслава', 'PROPN')\n",
      "Станімір із Гірняком теж потяглися до кобур , але тут Шуліка й собі прибрав військову позу , витягся , розправив плечі , розпушив вуса й сказав отаманським голосом :\n",
      "Станіслава із Гірнячкою теж потяглися до кобур , але тут Шуліка й собі прибрала військову позу , витяглася , розправила плечі , розпушила вуса й сказала отаманським голосом :\n"
     ]
    },
    {
     "name": "stderr",
     "output_type": "stream",
     "text": [
      "98it [03:21,  2.16s/it]"
     ]
    },
    {
     "name": "stdout",
     "output_type": "stream",
     "text": [
      "XX BAD XX ('той', 'DET', 'та', 'CCONJ')\n",
      "Щоб довідатися , що це за партизанська хитрість , сотник Станімір послав туди стежу на чолі з поручником Гірняком , але той не знайшов від повстанців і сліду .\n",
      "Щоб довідатися, що це за партизанська хитрість, сотниця Станіслава послала туди стежу на чолі з поручницею Гірняк, але та не знайшла від повстанців і сліду.\n"
     ]
    },
    {
     "name": "stderr",
     "output_type": "stream",
     "text": [
      "159it [05:37,  2.61s/it]"
     ]
    },
    {
     "name": "stdout",
     "output_type": "stream",
     "text": [
      "XX BAD XX ('Інок', 'PROPN', 'Інока', 'NOUN')\n",
      "XX BAD XX ('бувши', 'AUX', 'будучи', 'VERB')\n",
      "Інок не повинен турбуватися про завтрашній день , має сповідатися про свої гріхи , його ж життя має стати богобаченням , він повинен жити цілком « у послушанні монастирському » , не догоджати своїй волі , бувши відреченим од світу , жити не для себе , а для Христа , тобто здійснювати не свою волю .\n",
      "Інока не повинна турбуватися про завтрашній день , має сповідатися про свої гріхи , її ж життя має стати богобаченням , вона повинна жити цілком « у послушанні монастирському » , не догоджати своїй волі , будучи відреченою од світу , жити не для себе , а для Христя , тобто здійснювати не свою волю .\n"
     ]
    },
    {
     "name": "stderr",
     "output_type": "stream",
     "text": [
      "164it [05:46,  1.76s/it]"
     ]
    },
    {
     "name": "stdout",
     "output_type": "stream",
     "text": [
      "XX BAD XX ('інок', 'PRON', 'інока', 'NOUN')\n",
      "Він ніби розвиває думку полеміста , що інок при своєму убогому та повстримному існуванні перебуває в постійній війні зі світовими звабами та в гріховних помислах .\n",
      "Вона ніби розвиває думку полемістки , що інока при своєму убогому та повстримному існуванні перебуває в постійній війні зі світовими звабами та в гріховних помислах .\n"
     ]
    },
    {
     "name": "stderr",
     "output_type": "stream",
     "text": [
      "174it [06:16,  2.88s/it]"
     ]
    },
    {
     "name": "stdout",
     "output_type": "stream",
     "text": [
      "XX BAD XX ('той', 'DET', 'та', 'CCONJ')\n",
      "Деякі речі в « Ляментації » звучать як доноси на ректора : що той , беручи гроші за молебні , молебнів не проводить , або ж , що братія « не часто оббиває церковні пороги » , як і сам ректор .\n",
      "Деякі речі в « Ляментації » звучать як доноси на ректорку : що та, беручи гроші за молебні, молебнів не проводить, або ж, що братія « не часто оббиває церковні пороги », як і сама ректорка .\n"
     ]
    },
    {
     "name": "stderr",
     "output_type": "stream",
     "text": [
      "176it [06:18,  1.95s/it]"
     ]
    },
    {
     "name": "stdout",
     "output_type": "stream",
     "text": [
      "XX BAD XX ('щодо', 'ADP', 'regarding', 'X')\n",
      "Зберігся щодо цього лист В . Ясинського до Л . Барановича , в якому ректор сам вельми уболівав за цю трагедію .\n",
      "Зберігся regarding цього листа В . Ясинської до Л . Барановичa, в якому ректорка сама вельми уболівава за цю трагедію.\n"
     ]
    },
    {
     "name": "stderr",
     "output_type": "stream",
     "text": [
      "198it [06:53,  1.69s/it]"
     ]
    },
    {
     "name": "stdout",
     "output_type": "stream",
     "text": [
      "XX BAD XX ('ченцю', 'ADV', 'ченці', 'NOUN')\n",
      "Отож , голяку-ченцю не легко живеться , як і бідакам у світі , таких і до монастиря неохоче беруть .\n",
      "Отож , голяку-ченці не легко живеться , як і бідакам у світі , таких і до монастиря неохоче беруть .\n"
     ]
    },
    {
     "name": "stderr",
     "output_type": "stream",
     "text": [
      "200it [06:58,  2.19s/it]"
     ]
    },
    {
     "name": "stdout",
     "output_type": "stream",
     "text": [
      "XX BAD XX ('інок', 'PRON', 'інокиня', 'NOUN')\n",
      "В « Безженному іночому житті » говориться , що хоча інок вільний од жінки та дітей , але має потребу в господині , а ще хоче « усяке й багато » , отож мусить , бідака , потерпати .\n",
      "В «Безженному жіночому житті» говориться, що хоча інокиня вільна од чоловіків та дітей, але має потребу в господареві, а ще хоче «усяке й багато», отож мусить, бідака, потерпати.\n"
     ]
    },
    {
     "name": "stderr",
     "output_type": "stream",
     "text": [
      "201it [06:59,  1.86s/it]"
     ]
    },
    {
     "name": "stdout",
     "output_type": "stream",
     "text": [
      "XX BAD XX ('Одружений', 'NOUN', 'Одружена', 'ADJ')\n",
      "XX BAD XX ('Бога', 'NOUN', 'Божої', 'ADJ')\n",
      "Одружений має у скорботах утіху , а ченцеві потіха лише від Бога — твір не без гумору .\n",
      "Одружена має у скорботах утіху, а черниці потіха лише від Божої — твір не без гумору.\n"
     ]
    },
    {
     "name": "stderr",
     "output_type": "stream",
     "text": [
      "209it [07:10,  1.35s/it]"
     ]
    },
    {
     "name": "stdout",
     "output_type": "stream",
     "text": [
      "XX BAD XX ('Великого', 'PROPN', 'Великої', 'ADJ')\n",
      "Уніятські ченці тоді об’єднувались в ордені св . Василія Великого ( василіяни ) , а інші були підлеглі митрополиту ( в Дермані , Дубні та інших місцях ) .\n",
      "Уніятські черниці тоді об’єднувались в ордені св . Василії Великої ( василіянки ) , а інші були підлеглі митрополиту ( в Дермані , Дубні та інших місцях ) .\n"
     ]
    },
    {
     "name": "stderr",
     "output_type": "stream",
     "text": [
      "215it [07:25,  2.13s/it]"
     ]
    },
    {
     "name": "stdout",
     "output_type": "stream",
     "text": [
      "XX BAD XX ('.', 'PUNCT', 'Оповідається', 'VERB')\n",
      "XX BAD XX ('Оповідається', 'VERB', 'історія', 'NOUN')\n",
      "XX BAD XX ('історія', 'NOUN', 'Василіянського', 'ADJ')\n",
      "XX BAD XX ('Василіянського', 'ADJ', 'ордену', 'NOUN')\n",
      "XX BAD XX ('ордену', 'NOUN', '.', 'PUNCT')\n",
      "Однак у римо-католицькій церкві « орденів багато » , тож задля різнорідності звичаїв біскуп не може ними управляти , адже біскупи все-таки належали до білого духовенства ( світського ) . Оповідається історія Василіянського ордену .\n",
      "Однак у римо-католицькій церкві « орденів багато », тож задля різнорідності звичаїв біскупка не може ними управляти, адже біскупки все-таки належали до білого духовенства ( світського ). Оповідається історія Василіянського ордену.\n"
     ]
    },
    {
     "name": "stderr",
     "output_type": "stream",
     "text": [
      "220it [07:33,  1.68s/it]"
     ]
    },
    {
     "name": "stdout",
     "output_type": "stream",
     "text": [
      "XX BAD XX ('Рильського', 'PROPN', 'Рильської', 'ADJ')\n",
      "Тому спроба Рильського перекладати Міцкевича є подвигом ( при тому , що за саму польську барокову метафізичну поезію ніхто з українських перекладачів наразі не брався ) .\n",
      "Тому спроба Рильської перекладати Міцкевич є подвигом ( при тому , що за саму польську барокову метафізичну поезію ніхто з українських перекладачок наразі не брався ) .\n"
     ]
    },
    {
     "name": "stderr",
     "output_type": "stream",
     "text": [
      "282it [09:12,  1.53s/it]"
     ]
    },
    {
     "name": "stdout",
     "output_type": "stream",
     "text": [
      "XX BAD XX (',', 'PUNCT', 'володіє', 'VERB')\n",
      "XX BAD XX ('згідно', 'ADV', '10', 'NUM')\n",
      "XX BAD XX ('з', 'ADP', ',', 'PUNCT')\n",
      "XX BAD XX ('останніми', 'ADJ', '22', 'NUM')\n",
      "XX BAD XX ('SMIDA', 'X', 'акцій', 'NOUN')\n",
      "XX BAD XX (',', 'PUNCT', 'ПрАТ', 'NOUN')\n",
      "XX BAD XX ('володіє', 'VERB', '«', 'PUNCT')\n",
      "XX BAD XX ('10', 'NUM', 'Бердянський', 'ADJ')\n",
      "XX BAD XX (',', 'PUNCT', 'райагропромпостач', 'NOUN')\n",
      "XX BAD XX ('22', 'NUM', '»', 'PUNCT')\n",
      "XX BAD XX ('%', 'NOUN', ',', 'PUNCT')\n",
      "XX BAD XX ('«', 'PUNCT', 'якого', 'DET')\n",
      "XX BAD XX ('Бердянський', 'ADJ', 'Олександр', 'PROPN')\n",
      "XX BAD XX ('райагропромпостач', 'NOUN', 'Пономарьов', 'PROPN')\n",
      "XX BAD XX ('»', 'PUNCT', 'був', 'AUX')\n",
      "XX BAD XX (',', 'PUNCT', 'до', 'ADP')\n",
      "XX BAD XX ('головою', 'NOUN', 'свого', 'DET')\n",
      "XX BAD XX ('якого', 'DET', 'народною', 'ADJ')\n",
      "XX BAD XX ('Олександр', 'PROPN', 'депутаткою', 'NOUN')\n",
      "XX BAD XX ('Пономарьов', 'PROPN', '.', 'PUNCT')\n",
      "Олена Добича, згідно з останніми даними SMIDA, володіє 10,22% акцій ПрАТ «Бердянський райагропромпостач», головою правління якого Олександр Пономарьов був до свого обрання народним депутатом.\n",
      "Олега Добич володіє 10,22% акцій ПрАТ «Бердянський райагропромпостач», головою правління якого Олександр Пономарьов був до свого обрання народною депутаткою.\n"
     ]
    },
    {
     "name": "stderr",
     "output_type": "stream",
     "text": [
      "285it [09:18,  1.91s/it]"
     ]
    },
    {
     "name": "stdout",
     "output_type": "stream",
     "text": [
      "XX BAD XX ('Слідчий', 'NOUN', 'Слідча', 'ADJ')\n",
      "Слідчий повідомив, що до прокуратури звернувся з заявою голова Громадської ради при виконавчому комітеті Лиманської міськради.\n",
      "Слідча повідомила, що до прокуратури звернулася з заявою голова Громадської ради при виконавчому комітеті Лиманської міськради.\n"
     ]
    },
    {
     "name": "stderr",
     "output_type": "stream",
     "text": [
      "287it [09:23,  1.93s/it]"
     ]
    },
    {
     "name": "stdout",
     "output_type": "stream",
     "text": [
      "XX BAD XX ('слідчий', 'NOUN', 'слідча', 'ADJ')\n",
      "В суді слідчий клопотав накласти арешт на вилучені документи і суд це клопотання задовольнив.\n",
      "В суді слідча клопотала накласти арешт на вилучені документи і суд це клопотання задовольнив.\n"
     ]
    },
    {
     "name": "stderr",
     "output_type": "stream",
     "text": [
      "327it [10:24,  1.26s/it]"
     ]
    },
    {
     "name": "stdout",
     "output_type": "stream",
     "text": [
      "XX BAD XX ('АІС', 'NOUN', 'АІС-', 'PROPN')\n",
      "XX BAD XX ('-', 'PUNCT', 'Полтава', 'PROPN')\n",
      "XX BAD XX ('Полтава', 'PROPN', '»', 'PUNCT')\n",
      "XX BAD XX ('»', 'PUNCT', 'значиться', 'VERB')\n",
      "XX BAD XX ('значиться', 'VERB', 'Валентина', 'PROPN')\n",
      "XX BAD XX ('Вашак', 'PROPN', '.', 'PUNCT')\n",
      "Директором «АІС-Полтава» значиться Вадим Вашак.\n",
      "Директоркою «АІС-Полтава» значиться Валентина Вашак.\n"
     ]
    },
    {
     "name": "stderr",
     "output_type": "stream",
     "text": [
      "374it [11:31,  1.64s/it]"
     ]
    },
    {
     "name": "stdout",
     "output_type": "stream",
     "text": [
      "XX BAD XX (',', 'PUNCT', 'є', 'AUX')\n",
      "XX BAD XX ('є', 'VERB', 'Назарія', 'PROPN')\n",
      "XX BAD XX ('Гончаренко', 'PROPN', '-', 'PUNCT')\n",
      "XX BAD XX ('-', 'PUNCT', 'бухгалтерка', 'NOUN')\n",
      "XX BAD XX ('бухгалтер', 'NOUN', 'у', 'ADP')\n",
      "XX BAD XX ('у', 'ADP', 'ТОВ', 'NOUN')\n",
      "XX BAD XX ('ТОВ', 'NOUN', '«', 'PUNCT')\n",
      "XX BAD XX ('«', 'PUNCT', 'Річ', 'NOUN')\n",
      "XX BAD XX ('Річ', 'NOUN', '-', 'PUNCT')\n",
      "XX BAD XX ('-', 'PUNCT', 'М', 'PROPN')\n",
      "XX BAD XX ('М', 'PROPN', '»', 'PUNCT')\n",
      "XX BAD XX (',', 'PUNCT', 'яке', 'DET')\n",
      "XX BAD XX ('яке', 'DET', 'належить', 'VERB')\n",
      "XX BAD XX ('належить', 'VERB', 'головному', 'ADJ')\n",
      "XX BAD XX ('головному', 'ADJ', 'інженерці', 'NOUN')\n",
      "XX BAD XX ('інженеру', 'NOUN', '«', 'PUNCT')\n",
      "XX BAD XX ('«', 'PUNCT', 'Київпастрансу', 'PROPN')\n",
      "XX BAD XX ('Київпастрансу', 'PROPN', '»', 'PUNCT')\n",
      "XX BAD XX ('»', 'PUNCT', 'Юрії', 'PROPN')\n",
      "XX BAD XX ('Бомбандьорову', 'PROPN', '.', 'PUNCT')\n",
      "Одним із найбільших акціонерів КЗЕТ, є Надія Гончаренко -бухгалтер у ТОВ «Річ-М», яке належить головному інженеру «Київпастрансу» Юрію Бомбандьорову.\n",
      "Однією із найбільших акціонерок КЗЕТ є Назарія Гончаренко - бухгалтерка у ТОВ «Річ-М», яке належить головному інженерці «Київпастрансу» Юрії Бомбандьоровій.\n"
     ]
    },
    {
     "name": "stderr",
     "output_type": "stream",
     "text": [
      "432it [13:12,  1.39s/it]"
     ]
    },
    {
     "name": "stdout",
     "output_type": "stream",
     "text": [
      "XX BAD XX ('уповноважена', 'ADJ', 'уповноважений', 'NOUN')\n",
      "Про це повідомила державна уповноважена АМКУ Світлана Панаіотіді.\n",
      "Про це повідомив державний уповноважений АМКУ Сергій Панаіотіді.\n"
     ]
    },
    {
     "name": "stderr",
     "output_type": "stream",
     "text": [
      "438it [13:22,  1.72s/it]"
     ]
    },
    {
     "name": "stdout",
     "output_type": "stream",
     "text": [
      "XX BAD XX (\"прем'єр\", 'ADJ', \"прем'єрка\", 'NOUN')\n",
      "Вдячність свідомим громадянам, що досконально вивчають портал держзакупівель і оприлюднюють підозрілу інформацію, висловив віце-прем'єр – міністр фінансів РФ Олексій Кудрін.\n",
      "Вдячність свідомим громадянам, що досконально вивчають портал держзакупівель і оприлюднюють підозрілу інформацію, висловила віце-прем'єрка – міністерка фінансів РФ Олександра Кудріна.\n"
     ]
    },
    {
     "name": "stderr",
     "output_type": "stream",
     "text": [
      "461it [13:57,  1.73s/it]"
     ]
    },
    {
     "name": "stdout",
     "output_type": "stream",
     "text": [
      "XX BAD XX ('Плюс', 'PROPN', '-', 'PUNCT')\n",
      "XX BAD XX ('»', 'PUNCT', 'Плюс', 'PROPN')\n",
      "XX BAD XX ('перебуває', 'VERB', '»', 'PUNCT')\n",
      "XX BAD XX ('у', 'ADP', 'перебуває', 'VERB')\n",
      "XX BAD XX ('дружніх', 'ADJ', 'у', 'ADP')\n",
      "XX BAD XX ('відносинах', 'NOUN', 'дружніх', 'ADJ')\n",
      "XX BAD XX ('з', 'ADP', 'відносинах', 'NOUN')\n",
      "XX BAD XX ('депутатом', 'NOUN', 'з', 'ADP')\n",
      "XX BAD XX ('Черкаської', 'ADJ', 'депутаткою', 'NOUN')\n",
      "XX BAD XX ('міськради', 'NOUN', 'Черкаської', 'ADJ')\n",
      "XX BAD XX ('від', 'ADP', 'міськради', 'NOUN')\n",
      "XX BAD XX ('«', 'PUNCT', 'від', 'ADP')\n",
      "XX BAD XX ('Батьківщини', 'NOUN', '«', 'PUNCT')\n",
      "XX BAD XX ('»', 'PUNCT', 'Батьківщини', 'NOUN')\n",
      "XX BAD XX ('Юрієм', 'PROPN', '»', 'PUNCT')\n",
      "XX BAD XX (',', 'PUNCT', 'Тренкіною', 'PROPN')\n",
      "XX BAD XX ('родині', 'NOUN', ',', 'PUNCT')\n",
      "XX BAD XX ('якого', 'DET', 'родині', 'NOUN')\n",
      "XX BAD XX ('належить', 'VERB', 'якої', 'DET')\n",
      "XX BAD XX ('ТОВ', 'NOUN', 'належить', 'VERB')\n",
      "XX BAD XX ('«', 'PUNCT', 'ТОВ', 'NOUN')\n",
      "XX BAD XX ('Хлібний', 'ADJ', '«', 'PUNCT')\n",
      "XX BAD XX ('Дім', 'NOUN', 'Хлібний', 'ADJ')\n",
      "XX BAD XX ('–', 'PUNCT', 'Дім', 'NOUN')\n",
      "XX BAD XX ('Україна', 'PROPN', '–', 'PUNCT')\n",
      "XX BAD XX ('»', 'PUNCT', 'Україна', 'PROPN')\n",
      "За даними черкаської поліції, керівництво «Каштан- Плюс» перебуває у дружніх відносинах з депутатом Черкаської міськради від «Батьківщини» Юрієм Тренкіним, родині якого належить ТОВ «Хлібний Дім – Україна».\n",
      "За даними черкаської поліції, керівництво «Каштан- Плюс» перебуває у дружніх відносинах з депутаткою Черкаської міськради від «Батьківщини» Юлією Тренкіною, родині якої належить ТОВ «Хлібний Дім – Україна».\n"
     ]
    },
    {
     "name": "stderr",
     "output_type": "stream",
     "text": [
      "467it [14:06,  1.19s/it]"
     ]
    },
    {
     "name": "stdout",
     "output_type": "stream",
     "text": [
      "XX BAD XX ('цьому', 'PRON', 'цій', 'DET')\n",
      "Завдяки цьому екс-міністр може убезпечити своє майно від арешту.\n",
      "Завдяки цій екс-міністрці може убезпечити своє майно від арешту.\n"
     ]
    },
    {
     "name": "stderr",
     "output_type": "stream",
     "text": [
      "484it [14:29,  1.25s/it]"
     ]
    },
    {
     "name": "stdout",
     "output_type": "stream",
     "text": [
      "XX BAD XX ('фірму', 'NOUN', 'а', 'CCONJ')\n",
      "XX BAD XX ('контролювало', 'VERB', 'фірму', 'NOUN')\n",
      "XX BAD XX ('бізнес', 'NOUN', 'контролювало', 'VERB')\n",
      "XX BAD XX ('-', 'PUNCT', 'бізнес', 'NOUN')\n",
      "XX BAD XX ('середовище', 'NOUN', '-', 'PUNCT')\n",
      "XX BAD XX ('Миколи', 'PROPN', 'екс-міністринь', 'NOUN')\n",
      "XX BAD XX (',', 'PUNCT', 'Присяжнюк', 'PROPN')\n",
      "XX BAD XX ('Едуарда', 'PROPN', ',', 'PUNCT')\n",
      "XX BAD XX ('і', 'CCONJ', 'Ставицької', 'PROPN')\n",
      "XX BAD XX ('колишнього', 'ADJ', 'і', 'CCONJ')\n",
      "XX BAD XX ('депутата', 'NOUN', 'народної', 'ADJ')\n",
      "XX BAD XX ('Юрія', 'PROPN', 'депутатки', 'NOUN')\n",
      "XX BAD XX ('.', 'PUNCT', 'Іванющенко', 'PROPN')\n",
      "За часів Януковича фірму контролювало бізнес-середовище екс-міністрів Миколи Присяжнюка, Едуарда Ставицького і колишнього народного депутата Юрія Іванющенка.\n",
      "За часів Янукович а фірму контролювало бізнес-середовище екс-міністринь Олени Присяжнюк, Еліни Ставицької і колишньої народної депутатки Юлії Іванющенко.\n"
     ]
    },
    {
     "name": "stderr",
     "output_type": "stream",
     "text": [
      "488it [14:35,  1.50s/it]"
     ]
    },
    {
     "name": "stdout",
     "output_type": "stream",
     "text": [
      "XX BAD XX ('призначено', 'VERB', 'призначеною', 'ADJ')\n",
      "Євгена Дихне було призначено в. о. гендиректора держкомпанії «Міжнародний аеропорт «Бориспіль» у вересні 2014.\n",
      "Євгенія Дихна було призначеною в. о. гендиректорки держкомпанії «Міжнародний аеропорт «Бориспіль» у вересні 2014.\n"
     ]
    },
    {
     "name": "stderr",
     "output_type": "stream",
     "text": [
      "502it [14:55,  2.17s/it]"
     ]
    },
    {
     "name": "stdout",
     "output_type": "stream",
     "text": [
      "XX BAD XX ('який', 'DET', ',', 'PUNCT')\n",
      "XX BAD XX ('володіє', 'VERB', 'яка', 'DET')\n",
      "XX BAD XX ('100', 'NUM', 'володіє', 'VERB')\n",
      "XX BAD XX ('%', 'NOUN', '100', 'NUM')\n",
      "XX BAD XX ('статутного', 'ADJ', '%', 'NOUN')\n",
      "XX BAD XX ('капіталу', 'NOUN', 'статутного', 'ADJ')\n",
      "XX BAD XX ('є', 'AUX', 'капіталу', 'NOUN')\n",
      "XX BAD XX ('громадянин', 'NOUN', ',', 'PUNCT')\n",
      "XX BAD XX ('України', 'PROPN', 'є', 'AUX')\n",
      "XX BAD XX ('Ткачук', 'PROPN', 'громадянка', 'NOUN')\n",
      "XX BAD XX (',', 'PUNCT', 'Ірина', 'PROPN')\n",
      "XX BAD XX ('який', 'DET', 'Борисівна', 'PROPN')\n",
      "XX BAD XX ('також', 'ADV', ',', 'PUNCT')\n",
      "XX BAD XX ('є', 'AUX', 'яка', 'DET')\n",
      "XX BAD XX ('одним', 'DET', 'також', 'ADV')\n",
      "XX BAD XX ('з', 'ADP', 'є', 'AUX')\n",
      "XX BAD XX ('засновників', 'NOUN', 'одною', 'DET')\n",
      "XX BAD XX ('ТОВ', 'NOUN', 'з', 'ADP')\n",
      "XX BAD XX ('«', 'PUNCT', 'засновниць', 'NOUN')\n",
      "XX BAD XX ('Авіаресурс', 'PROPN', 'ТОВ', 'NOUN')\n",
      "XX BAD XX (',', 'PUNCT', 'Авіаресурс', 'PROPN')\n",
      "XX BAD XX ('та', 'CCONJ', '»', 'PUNCT')\n",
      "XX BAD XX ('володіє', 'VERB', ',', 'PUNCT')\n",
      "XX BAD XX ('50', 'NUM', 'та', 'CCONJ')\n",
      "XX BAD XX ('%', 'NOUN', 'володіє', 'VERB')\n",
      "XX BAD XX ('статутного', 'ADJ', '50', 'NUM')\n",
      "XX BAD XX ('…', 'PUNCT', '%', 'NOUN')\n",
      "XX BAD XX (',', 'PUNCT', 'статутного', 'ADJ')\n",
      "XX BAD XX ('тобто', 'SCONJ', '…', 'PUNCT')\n",
      "XX BAD XX ('є', 'AUX', ',', 'PUNCT')\n",
      "XX BAD XX (\"пов'язаною\", 'ADJ', 'тобто', 'SCONJ')\n",
      "XX BAD XX ('особою', 'NOUN', 'є', 'AUX')\n",
      "XX BAD XX ('між', 'ADP', \"пов'язаною\", 'ADJ')\n",
      "XX BAD XX ('«', 'PUNCT', 'між', 'ADP')\n",
      "XX BAD XX ('та', 'CCONJ', 'авіаресурс', 'NOUN')\n",
      "XX BAD XX ('ТОВ', 'NOUN', '»', 'PUNCT')\n",
      "XX BAD XX ('«', 'PUNCT', 'та', 'CCONJ')\n",
      "XX BAD XX ('Український', 'ADJ', 'ТОВ', 'NOUN')\n",
      "XX BAD XX ('Авіаційний', 'ADJ', '«', 'PUNCT')\n",
      "XX BAD XX ('Сервіс', 'NOUN', 'Український', 'ADJ')\n",
      "XX BAD XX ('»', 'PUNCT', 'Авіаційний', 'ADJ')\n",
      "XX BAD XX (',', 'PUNCT', 'Сервіс', 'NOUN')\n",
      "XX BAD XX ('констатував', 'VERB', ',', 'PUNCT')\n",
      "XX BAD XX ('тендерний', 'ADJ', '–', 'PUNCT')\n",
      "XX BAD XX ('комітет', 'NOUN', 'констатував', 'VERB')\n",
      "XX BAD XX ('.', 'PUNCT', 'міліцейської', 'ADJ')\n",
      "Уважно вивчивши надані документи …, засновником ТОВ «Український Авіаційний Сервіс» який володіє 100% статутного капіталу є громадянин України Ткачук Ігор Борисовичі, який також є одним з засновників ТОВ «Авіаресурс», та володіє 50% статутного …, тобто є пов'язаною особою між ТОВ «авіаресурс» та ТОВ «Український Авіаційний Сервіс», – констатував тендерний комітет міліцейської частини.\n",
      "Уважно вивчивши надані документи …, засновницею ТОВ «Український Авіаційний Сервіс», яка володіє 100% статутного капіталу, є громадянка України Ткачук Ірина Борисівна, яка також є одною з засновниць ТОВ «Авіаресурс», та володіє 50% статутного …, тобто є пов'язаною особою між ТОВ «авіаресурс» та ТОВ «Український Авіаційний Сервіс», – констатував тендерний комітет міліцейської частини.\n"
     ]
    },
    {
     "name": "stderr",
     "output_type": "stream",
     "text": [
      "513it [15:13,  1.88s/it]"
     ]
    },
    {
     "name": "stdout",
     "output_type": "stream",
     "text": [
      "XX BAD XX ('слідчий', 'NOUN', 'слідча', 'ADJ')\n",
      "XX BAD XX ('наклала', 'VERB', 'суддя', 'NOUN')\n",
      "XX BAD XX ('слідчий', 'ADJ', 'Наталій', 'PROPN')\n",
      "XX BAD XX ('суддя', 'NOUN', 'Зубачик', 'PROPN')\n",
      "XX BAD XX ('Наталія', 'PROPN', '.', 'PUNCT')\n",
      "Нагадаємо, 19 серпня арешт на вказані кошти слідчий наклала слідчий суддя Наталія Зубачик.\n",
      "Нагадаємо, 19 серпня арешт на вказані кошти слідча суддя Наталій Зубачик.\n"
     ]
    },
    {
     "name": "stderr",
     "output_type": "stream",
     "text": [
      "539it [15:53,  1.77s/it]\n"
     ]
    }
   ],
   "source": [
    "compare_pos_tags(for_pos_check_gender_swapped_df)"
   ]
  },
  {
   "cell_type": "code",
   "execution_count": 91,
   "metadata": {},
   "outputs": [],
   "source": [
    "import os\n",
    "import numpy as np\n",
    "import spacy\n",
    "import tqdm\n",
    "from langchain_text_splitters import RecursiveCharacterTextSplitter"
   ]
  },
  {
   "cell_type": "code",
   "execution_count": 92,
   "metadata": {},
   "outputs": [
    {
     "name": "stderr",
     "output_type": "stream",
     "text": [
      "/Users/linndfors/study/diploma/new_venv/lib/python3.10/site-packages/transformers/utils/generic.py:309: UserWarning: torch.utils._pytree._register_pytree_node is deprecated. Please use torch.utils._pytree.register_pytree_node instead.\n",
      "  _torch_pytree._register_pytree_node(\n",
      "/Users/linndfors/study/diploma/new_venv/lib/python3.10/site-packages/spacy_transformers/layers/hf_shim.py:137: UserWarning: Error loading saved torch state_dict with strict=True, likely due to differences between 'transformers' versions. Attempting to load with strict=False as a fallback...\n",
      "\n",
      "If you see errors or degraded performance, download a newer compatible model or retrain your custom model with the current 'transformers' and 'spacy-transformers' versions. For more details and available updates, run: python -m spacy validate\n",
      "  warnings.warn(warn_msg)\n"
     ]
    }
   ],
   "source": [
    "ner_nlp = spacy.load(\"uk_ner_web_trf_13class\")"
   ]
  },
  {
   "cell_type": "code",
   "execution_count": null,
   "metadata": {},
   "outputs": [],
   "source": [
    "import json\n",
    "\n",
    "with open (\"../fem_dictionary.json\") as js:\n",
    "    musc_dict = json.load(js)\n",
    "\n",
    "fem_dict = dict(reversed(list(musc_dict.items())))"
   ]
  },
  {
   "cell_type": "code",
   "execution_count": 129,
   "metadata": {},
   "outputs": [
    {
     "data": {
      "text/plain": [
       "12"
      ]
     },
     "execution_count": 129,
     "metadata": {},
     "output_type": "execute_result"
    }
   ],
   "source": [
    "len(ner_results_swapped)"
   ]
  },
  {
   "cell_type": "code",
   "execution_count": 130,
   "metadata": {},
   "outputs": [
    {
     "data": {
      "text/plain": [
       "spacy.tokens.doc.Doc"
      ]
     },
     "execution_count": 130,
     "metadata": {},
     "output_type": "execute_result"
    }
   ],
   "source": [
    "type(ner_results_swapped)"
   ]
  },
  {
   "cell_type": "code",
   "execution_count": null,
   "metadata": {},
   "outputs": [
    {
     "name": "stdout",
     "output_type": "stream",
     "text": [
      "good example from dict: депутат - депутатка\n",
      "\n",
      "good example from dict: президент - президентка\n",
      "\n",
      "X this pair not from the dict: комунальник - комунальниця\n",
      "\n",
      "X this pair not from the dict: судді - судді\n",
      "\n",
      "X this pair not from the dict: судді - судді\n",
      "\n",
      "X this pair not from the dict: судді - судді\n",
      "\n",
      "X this pair not from the dict: суддя - суддя\n",
      "\n",
      "X this pair not from the dict: суддя - суддя\n",
      "\n",
      "X this pair not from the dict: суддя - суддя\n",
      "\n",
      "X this pair not from the dict: суддя - суддя\n",
      "\n",
      "X this pair not from the dict: суддя - суддя\n",
      "\n",
      "X this pair not from the dict: судді - судді\n",
      "\n",
      "X this pair not from the dict: судді - судді\n",
      "\n",
      "X this pair not from the dict: суддя - суддя\n",
      "\n",
      "X this pair not from the dict: суддя - суддя\n",
      "\n",
      "X this pair not from the dict: суддя - суддя\n",
      "\n",
      "X this pair not from the dict: суддя - суддя\n",
      "\n",
      "X this pair not from the dict: судді - судді\n",
      "\n",
      "good example from dict: директор - директорка\n",
      "\n",
      "good example from dict: чиновник - чиновниця\n",
      "\n",
      "good example from dict: депутат - депутатка\n",
      "\n",
      "X this pair not from the dict: екс - екс\n",
      "\n",
      "X this pair not from the dict: - - -\n",
      "\n",
      "good example from dict: міністр - міністерка\n",
      "\n",
      "relevant feminitive to the депутат would be депутатка, but it is депутаток\n",
      "\n",
      "relevant feminitive to the підприємець would be підприємиця, but it is підприємниця\n",
      "\n",
      "relevant feminitive to the лікар would be лікарка, but it is лікар\n",
      "\n",
      "relevant feminitive to the підприємець would be підприємиця, but it is підприємниця\n",
      "\n",
      "relevant feminitive to the підприємець would be підприємиця, but it is підприємець\n",
      "\n",
      "good example from dict: журналіст - журналістка\n",
      "\n",
      "good example from dict: експерт - експертка\n",
      "\n",
      "relevant feminitive to the підприємець would be підприємиця, but it is підприємниця\n",
      "\n",
      "good example from dict: президент - президентка\n",
      "\n",
      "good example from dict: губернатор - губернаторка\n",
      "\n",
      "good example from dict: засновник - засновниця\n",
      "\n",
      "good example from dict: директор - директорка\n",
      "\n",
      "good example from dict: засновник - засновниця\n",
      "\n",
      "good example from dict: директор - директорка\n",
      "\n",
      "X this pair not from the dict: голова - голова\n",
      "\n",
      "relevant feminitive to the депутат would be депутатка, but it is депутат\n",
      "\n",
      "good example from dict: засновник - засновниця\n",
      "\n",
      "X this pair not from the dict: голова - голова\n",
      "\n",
      "relevant feminitive to the слідчий would be слідча, but it is слідчий\n",
      "\n",
      "X this pair not from the dict: голова - голова\n",
      "\n",
      "relevant feminitive to the слідчий would be слідча, but it is слідчий\n",
      "\n",
      "good example from dict: засновник - засновниця\n",
      "\n",
      "good example from dict: прокурор - прокурорка\n",
      "\n",
      "good example from dict: юрист - юристка\n",
      "\n",
      "X this pair not from the dict: екснардеп - екснардепець\n",
      "\n",
      "good example from dict: керівник - керівниця\n",
      "\n",
      "good example from dict: керівник - керівниця\n",
      "\n",
      "good example from dict: засновник - засновниця\n",
      "\n",
      "X this pair not from the dict: екс - екс\n",
      "\n",
      "X this pair not from the dict: - - -\n",
      "\n",
      "good example from dict: помічник - помічниця\n",
      "\n",
      "X this pair not from the dict: екснардепа - екснардепа\n",
      "\n",
      "X this pair not from the dict: віце - віце\n",
      "\n",
      "X this pair not from the dict: - - -\n",
      "\n",
      "good example from dict: президент - президентка\n",
      "\n",
      "good example from dict: депутат - депутатка\n",
      "\n",
      "good example from dict: депутат - депутатка\n",
      "\n",
      "relevant feminitive to the депутат would be депутатка, but it is депутаток\n",
      "\n",
      "good example from dict: президент - президентка\n",
      "\n",
      "good example from dict: директор - директорка\n",
      "\n",
      "relevant feminitive to the бізнесмен would be бізнесвумен, but it is бізнесменка\n",
      "\n",
      "X this pair not from the dict: нардеп - нардепка\n",
      "\n",
      "good example from dict: керівник - керівниця\n",
      "\n",
      "relevant feminitive to the слідчий would be слідча, but it is слідчий\n",
      "\n",
      "good example from dict: засновник - засновниця\n",
      "\n",
      "good example from dict: керівник - керівниця\n",
      "\n",
      "good example from dict: директор - директорка\n",
      "\n",
      "good example from dict: засновник - засновниця\n",
      "\n",
      "good example from dict: засновник - засновниця\n",
      "\n",
      "good example from dict: директор - директорка\n",
      "\n",
      "good example from dict: журналіст - журналістка\n",
      "\n",
      "X this pair not from the dict: голова - голова\n",
      "\n",
      "X this pair not from the dict: заступниця - заступник\n",
      "\n",
      "X this pair not from the dict: держуповноважен - держуповноважений\n",
      "\n",
      "X this pair not from the dict: нардеп - нардепка\n",
      "\n",
      "X this pair not from the dict: екс - екс\n",
      "\n",
      "X this pair not from the dict: - - -\n",
      "\n",
      "X this pair not from the dict: нардеп - нардепка\n",
      "\n",
      "good example from dict: менеджер - менеджерка\n",
      "\n",
      "good example from dict: прокурор - прокурорка\n",
      "\n",
      "good example from dict: прокурор - прокурорка\n",
      "\n",
      "X this pair not from the dict: екс - екс\n",
      "\n",
      "X this pair not from the dict: - - -\n",
      "\n",
      "X this pair not from the dict: нардеп - нардепка\n",
      "\n",
      "relevant feminitive to the керівник would be керівниця, but it is керівник\n",
      "\n",
      "good example from dict: керівник - керівниця\n",
      "\n",
      "X this pair not from the dict: екс - екс\n",
      "\n",
      "X this pair not from the dict: - - -\n",
      "\n",
      "X this pair not from the dict: голова - голова\n",
      "\n",
      "good example from dict: співзасновник - співзасновниця\n",
      "\n",
      "X this pair not from the dict: гендиректор - гендиректорка\n",
      "\n",
      "X this pair not from the dict: нардеп - нардепка\n",
      "\n",
      "X this pair not from the dict: екс - екс\n",
      "\n",
      "X this pair not from the dict: - - -\n",
      "\n",
      "good example from dict: депутат - депутатка\n",
      "\n",
      "X this pair not from the dict: - - -\n",
      "\n",
      "good example from dict: засновник - засновниця\n",
      "\n",
      "X this pair not from the dict: екс - екс\n",
      "\n",
      "X this pair not from the dict: - - -\n",
      "\n",
      "X this pair not from the dict: генпрокурор - генпрокурорка\n",
      "\n",
      "relevant feminitive to the депутат would be депутатка, but it is депутаток\n",
      "\n",
      "good example from dict: юрист - юристка\n",
      "\n",
      "X this pair not from the dict: мера - мерка\n",
      "\n",
      "good example from dict: забудовник - забудовниця\n",
      "\n",
      "relevant feminitive to the депутат would be депутатка, but it is депутаток\n",
      "\n",
      "good example from dict: керівник - керівниця\n",
      "\n",
      "X this pair not from the dict: детектив - детективка\n",
      "\n",
      "relevant feminitive to the депутат would be депутатка, but it is депутаток\n",
      "\n",
      "X this pair not from the dict: екс - екс\n",
      "\n",
      "X this pair not from the dict: - - -\n",
      "\n",
      "X this pair not from the dict: нардеп - нардепка\n",
      "\n",
      "good example from dict: засновник - засновниця\n",
      "\n",
      "good example from dict: прикордонник - прикордонниця\n",
      "\n",
      "good example from dict: експерт - експертка\n",
      "\n",
      "X this pair not from the dict: залізничник - залізничниця\n",
      "\n",
      "X this pair not from the dict: суддя - суддя\n",
      "\n",
      "relevant feminitive to the слідчий would be слідча, but it is слідчий\n",
      "\n",
      "relevant feminitive to the слідчий would be слідча, but it is слідчий\n",
      "\n",
      "X this pair not from the dict: екс - екс\n",
      "\n",
      "X this pair not from the dict: - - -\n",
      "\n",
      "relevant feminitive to the міністр would be міністерка, but it is міністр\n",
      "\n",
      "good example from dict: журналіст - журналістка\n",
      "\n",
      "good example from dict: директор - директорка\n",
      "\n",
      "X this pair not from the dict: - бухгалтер - бухгалтерка\n",
      "\n",
      "good example from dict: очільник - очільниця\n",
      "\n",
      "good example from dict: керівник - керівниця\n",
      "\n",
      "good example from dict: правоохоронець - правоохоронниця\n",
      "\n",
      "X this pair not from the dict: ексочільник - ексочільниця\n",
      "\n",
      "good example from dict: засновник - засновниця\n",
      "\n",
      "relevant feminitive to the засновник would be засновниця, but it is засновник\n",
      "\n",
      "X this pair not from the dict: антимонопольник - антимонопольниця\n",
      "\n",
      "X this pair not from the dict: антимонопольник - антимонопольниця\n",
      "\n",
      "good example from dict: депутат - депутатка\n",
      "\n",
      "good example from dict: засновник - засновниця\n",
      "\n",
      "good example from dict: засновник - засновниця\n",
      "\n",
      "good example from dict: прокурор - прокурорка\n",
      "\n",
      "good example from dict: прокурор - прокурорка\n",
      "\n",
      "relevant feminitive to the засновник would be засновниця, but it is засновник\n",
      "\n",
      "relevant feminitive to the слідчий would be слідча, but it is слідчий\n",
      "\n",
      "relevant feminitive to the слідчий would be слідча, but it is слідчий\n",
      "\n",
      "X this pair not from the dict: суддя - суддя\n",
      "\n",
      "relevant feminitive to the слідчий would be слідча, but it is слідчий\n",
      "\n",
      "relevant feminitive to the правоохоронець would be правоохоронниця, but it is правоохоронець\n",
      "\n",
      "relevant feminitive to the слідчий would be слідча, but it is слідчий\n",
      "\n",
      "good example from dict: директор - директорка\n",
      "\n",
      "good example from dict: депутат - депутатка\n",
      "\n",
      "good example from dict: засновник - засновниця\n",
      "\n",
      "good example from dict: засновник - засновниця\n",
      "\n",
      "good example from dict: директор - директорка\n",
      "\n",
      "good example from dict: засновник - засновниця\n",
      "\n",
      "good example from dict: директор - директорка\n",
      "\n",
      "good example from dict: директор - директорка\n",
      "\n",
      "X this pair not from the dict: детектив - детективка\n",
      "\n",
      "X this pair not from the dict: держвиконавець - держвиконавиця\n",
      "\n",
      "good example from dict: начальник - начальниця\n",
      "\n",
      "good example from dict: керівник - керівниця\n",
      "\n",
      "good example from dict: співзасновник - співзасновниця\n",
      "\n",
      "X this pair not from the dict: співзасновниця - співзасновник\n",
      "\n",
      "X this pair not from the dict: екс - екс\n",
      "\n",
      "X this pair not from the dict: - - -\n",
      "\n",
      "good example from dict: міністр - міністерка\n",
      "\n",
      "X this pair not from the dict: екс - екс\n",
      "\n",
      "X this pair not from the dict: - - -\n",
      "\n",
      "X this pair not from the dict: нардеп - нардеп\n",
      "\n",
      "X this pair not from the dict: порошенківець - порошенківка\n",
      "\n",
      "X this pair not from the dict: екс - екс\n",
      "\n",
      "X this pair not from the dict: - - -\n",
      "\n",
      "X this pair not from the dict: нардеп - нардепка\n",
      "\n",
      "relevant feminitive to the депутат would be депутатка, but it is депутаток\n",
      "\n",
      "relevant feminitive to the посол would be пані посол, амбасадорка, but it is посолка\n",
      "\n",
      "relevant feminitive to the посол would be пані посол, амбасадорка, but it is посол\n",
      "\n",
      "good example from dict: засновник - засновниця\n",
      "\n",
      "X this pair not from the dict: екс - екс\n",
      "\n",
      "X this pair not from the dict: - - -\n",
      "\n",
      "good example from dict: президент - президентка\n",
      "\n",
      "relevant feminitive to the ревізор would be ревізорка, but it is ревізорок\n",
      "\n",
      "good example from dict: аудитор - аудиторка\n",
      "\n",
      "X this pair not from the dict: дорожник - дорожниця\n",
      "\n",
      "good example from dict: депутат - депутатка\n",
      "\n",
      "good example from dict: підприємець - підприємиця\n",
      "\n",
      "good example from dict: начальник - начальниця\n",
      "\n",
      "X this pair not from the dict: голова - голова\n",
      "\n",
      "good example from dict: директор - директорка\n",
      "\n",
      "X this pair not from the dict: глава - глава\n",
      "\n",
      "X this pair not from the dict: блоггер - блогерка\n",
      "\n",
      "good example from dict: чиновник - чиновниця\n",
      "\n",
      "good example from dict: чиновник - чиновниця\n",
      "\n",
      "good example from dict: президент - президентка\n",
      "\n",
      "X this pair not from the dict: зернотрейдер - зернотрейдерка\n",
      "\n",
      "good example from dict: прокурор - прокурорка\n",
      "\n",
      "good example from dict: прокурор - прокурорка\n",
      "\n",
      "good example from dict: адвокат - адвокатка\n",
      "\n",
      "good example from dict: прокурор - прокурорка\n",
      "\n",
      "good example from dict: прокурор - прокурорка\n",
      "\n",
      "good example from dict: прокурор - прокурорка\n",
      "\n",
      "relevant feminitive to the прокурор would be прокурорка, but it is прокуророк\n",
      "\n",
      "good example from dict: директор - директорка\n",
      "\n",
      "good example from dict: депутат - депутатка\n",
      "\n",
      "good example from dict: директор - директорка\n",
      "\n",
      "X this pair not from the dict: засновниця - засновник\n",
      "\n",
      "good example from dict: керівник - керівниця\n",
      "\n",
      "good example from dict: засновник - засновниця\n",
      "\n",
      "relevant feminitive to the директор would be директорка, but it is директор\n",
      "\n",
      "good example from dict: засновник - засновниця\n",
      "\n",
      "good example from dict: директор - директорка\n",
      "\n",
      "X this pair not from the dict: екс - екс\n",
      "\n",
      "X this pair not from the dict: - - -\n",
      "\n",
      "relevant feminitive to the міністр would be міністерка, but it is міністр\n",
      "\n",
      "good example from dict: співзасновник - співзасновниця\n",
      "\n",
      "X this pair not from the dict: екс - екс\n",
      "\n",
      "X this pair not from the dict: - - -\n",
      "\n",
      "relevant feminitive to the міністр would be міністерка, but it is міністрка\n",
      "\n",
      "X this pair not from the dict: екс - екс\n",
      "\n",
      "X this pair not from the dict: - - -\n",
      "\n",
      "good example from dict: міністр - міністерка\n",
      "\n",
      "good example from dict: журналіст - журналістка\n",
      "\n",
      "good example from dict: юрист - юристка\n",
      "\n",
      "good example from dict: міністр - міністерка\n",
      "\n",
      "good example from dict: засновник - засновниця\n",
      "\n",
      "good example from dict: співзасновник - співзасновниця\n",
      "\n",
      "good example from dict: директор - директорка\n",
      "\n",
      "good example from dict: прем’єр - прем’єрка\n",
      "\n",
      "X this pair not from the dict: голова - голова\n",
      "\n",
      "good example from dict: керівник - керівниця\n",
      "\n",
      "good example from dict: директор - директорка\n",
      "\n",
      "X this pair not from the dict: екс - екс\n",
      "\n",
      "X this pair not from the dict: - - -\n",
      "\n",
      "relevant feminitive to the міністр would be міністерка, but it is міністрина\n",
      "\n",
      "X this pair not from the dict: екс - екс\n",
      "\n",
      "X this pair not from the dict: - - -\n",
      "\n",
      "good example from dict: чиновник - чиновниця\n",
      "\n",
      "good example from dict: керівник - керівниця\n",
      "\n",
      "relevant feminitive to the керівник would be керівниця, but it is керівник\n",
      "\n",
      "good example from dict: директор - директорка\n",
      "\n",
      "good example from dict: керівник - керівниця\n",
      "\n",
      "X this pair not from the dict: екс - екс\n",
      "\n",
      "X this pair not from the dict: - - -\n",
      "\n",
      "X this pair not from the dict: нардеп - нардепка\n",
      "\n",
      "good example from dict: директор - директорка\n",
      "\n",
      "good example from dict: правоохоронець - правоохоронниця\n",
      "\n",
      "good example from dict: засновник - засновниця\n",
      "\n",
      "good example from dict: засновник - засновниця\n",
      "\n",
      "X this pair not from the dict: екс - екс\n",
      "\n",
      "X this pair not from the dict: - - -\n",
      "\n",
      "good example from dict: депутат - депутатка\n",
      "\n",
      "X this pair not from the dict: нардеп - нардепка\n",
      "\n",
      "X this pair not from the dict: судді - судді\n",
      "\n",
      "X this pair not from the dict: суддя - суддя\n",
      "\n",
      "X this pair not from the dict: детектив - детективка\n",
      "\n",
      "X this pair not from the dict: детектив - детективка\n",
      "\n",
      "good example from dict: керівник - керівниця\n",
      "\n",
      "good example from dict: директор - директорка\n",
      "\n",
      "X this pair not from the dict: екс - - екс -\n",
      "\n",
      "relevant feminitive to the бізнесмен would be бізнесвумен, but it is бізнесменка\n",
      "\n",
      "X this pair not from the dict: віце - - віце -\n",
      "\n",
      "relevant feminitive to the прем’єр would be прем’єрка, but it is прем’єр\n",
      "\n",
      "X this pair not from the dict: охоронець - охоронниця\n",
      "\n",
      "X this pair not from the dict: охоронець - охоронець\n",
      "\n",
      "good example from dict: керівник - керівниця\n",
      "\n",
      "good example from dict: працівник - працівниця\n",
      "\n",
      "X this pair not from the dict: охоронець - охоронниця\n",
      "\n",
      "X this pair not from the dict: охоронець - охоронниця\n",
      "\n",
      "X this pair not from the dict: глава - глава\n",
      "\n",
      "good example from dict: президент - президентка\n",
      "\n",
      "good example from dict: директор - директорка\n",
      "\n",
      "good example from dict: засновник - засновниця\n",
      "\n",
      "good example from dict: співзасновник - співзасновниця\n",
      "\n",
      "good example from dict: директор - директорка\n",
      "\n",
      "relevant feminitive to the військовий would be військова, but it is військовий\n",
      "\n",
      "good example from dict: директор - директорка\n",
      "\n"
     ]
    }
   ],
   "source": [
    "dict_samples = 0\n",
    "not_dict_samples = 0\n",
    "total_samples = 0\n",
    "\n",
    "for x, row in gender_swapped_df.iterrows():\n",
    "    ner_results_orig = ner_nlp(row['original'])\n",
    "    ner_results_swapped = ner_nlp(row['swapped'])\n",
    "    if len(ner_results_orig.ents) == len(ner_results_swapped.ents):\n",
    "        for i, _ in enumerate(ner_results_orig.ents):\n",
    "            try:\n",
    "                if ner_results_orig.ents[i].label_ == \"JOB\" and ner_results_swapped.ents[i].label_ == \"JOB\":\n",
    "                    # print(\"lemma:\", ner_results_orig.ents[i].lemma_, \"\\n-------\")\n",
    "                    if \" \" not in ner_results_orig.ents[i].text:\n",
    "                        total_samples += 1\n",
    "                        orig_doc = uk_nlp(ner_results_orig.ents[i].text)\n",
    "                        swapped_doc = uk_nlp(ner_results_swapped.ents[i].text)\n",
    "                        \n",
    "                        orig_nominative = \" \".join([word.lemma for sent in orig_doc.sentences for word in sent.words])\n",
    "                        swapped_nominative = \" \".join([word.lemma for sent in swapped_doc.sentences for word in sent.words])\n",
    "                        \n",
    "                        # print(\"lemma:\", orig_nominative, \",\", swapped_nominative, \"\\n-------------\")\n",
    "                        if orig_nominative in musc_dict.keys():\n",
    "                            if swapped_nominative != musc_dict[orig_nominative]:\n",
    "                                print(f\"relevant feminitive to the {orig_nominative} would be {musc_dict[orig_nominative]}, but it is {swapped_nominative}\")\n",
    "                                not_dict_samples += 1\n",
    "                            else:\n",
    "                                print(f\"good example from dict: {orig_nominative} - {swapped_nominative}\")\n",
    "                                dict_samples += 1\n",
    "                        elif orig_nominative in fem_dict.keys():\n",
    "                            if swapped_nominative != fem_dict[orig_nominative]:\n",
    "                                print(f\"relevant feminitive to the {orig_nominative} would be {fem_dict[orig_nominative]}, but it is {swapped_nominative}\")\n",
    "                                not_dict_samples += 1\n",
    "                            else:\n",
    "                                print(f\"GOOD example from dict: {orig_nominative} - {swapped_nominative}\")\n",
    "                                dict_samples += 1\n",
    "                        else:\n",
    "                            print(f\"X this pair not from the dict: {orig_nominative} - {swapped_nominative}\")\n",
    "                            not_dict_samples += 1\n",
    "                        # print(ner_results_orig.ents[i].label_ , ner_results_orig.ents[i].text)\n",
    "                        # print(ner_results_swapped.ents[i].label_ , ner_results_swapped.ents[i].text)\n",
    "                        print()\n",
    "                    # job_entities_list.append(ent.text)\n",
    "        # return job_entities_list\n",
    "            except Exception as e:\n",
    "                print(e)\n",
    "                print()"
   ]
  },
  {
   "cell_type": "code",
   "execution_count": 134,
   "metadata": {},
   "outputs": [
    {
     "name": "stdout",
     "output_type": "stream",
     "text": [
      "all pairs of JOB entity: 274\n",
      "percentage of dict pairs = 45.25547445255474 %\n",
      "percentage of non dict pairs = 54.74452554744526 %\n"
     ]
    }
   ],
   "source": [
    "print(\"all pairs of JOB entity:\", total_samples)\n",
    "print(\"percentage of dict pairs =\", dict_samples/total_samples * 100, \"%\")\n",
    "print(\"percentage of non dict pairs =\", not_dict_samples/total_samples * 100, \"%\")"
   ]
  }
 ],
 "metadata": {
  "kernelspec": {
   "display_name": "new_venv",
   "language": "python",
   "name": "python3"
  },
  "language_info": {
   "codemirror_mode": {
    "name": "ipython",
    "version": 3
   },
   "file_extension": ".py",
   "mimetype": "text/x-python",
   "name": "python",
   "nbconvert_exporter": "python",
   "pygments_lexer": "ipython3",
   "version": "3.10.16"
  }
 },
 "nbformat": 4,
 "nbformat_minor": 2
}
