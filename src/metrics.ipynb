{
 "cells": [
  {
   "cell_type": "code",
   "execution_count": 1,
   "metadata": {},
   "outputs": [
    {
     "name": "stderr",
     "output_type": "stream",
     "text": [
      "/Users/linndfors/study/diploma/new_venv/lib/python3.10/site-packages/transformers/utils/generic.py:441: UserWarning: torch.utils._pytree._register_pytree_node is deprecated. Please use torch.utils._pytree.register_pytree_node instead.\n",
      "  _torch_pytree._register_pytree_node(\n"
     ]
    }
   ],
   "source": [
    "import pandas as pd\n",
    "import tqdm\n",
    "from collections import Counter\n",
    "import stanza\n"
   ]
  },
  {
   "cell_type": "code",
   "execution_count": 97,
   "metadata": {},
   "outputs": [],
   "source": [
    "def check_annotations(text, ann_file):\n",
    "    # Read the annotations\n",
    "    annotations = []\n",
    "    \n",
    "    with open(ann_file, 'r', encoding='utf-8') as f:\n",
    "        for line in f:\n",
    "            try:\n",
    "                parts = line.strip().split('\\t')\n",
    "                ann_id = parts[0]\n",
    "                label = parts[1]\n",
    "                start_idx = int(parts[2])\n",
    "                end_idx = int(parts[3])\n",
    "                entity = parts[4]\n",
    "                annotations.append((ann_id, label, start_idx, end_idx, entity))\n",
    "            except:\n",
    "                pass\n",
    "                # print()\n",
    "    \n",
    "    \n",
    "    # Check each annotation\n",
    "    errors = set()\n",
    "    for ann_id, label, start_idx, end_idx, entity in annotations:\n",
    "        entity_text = text[start_idx:end_idx]\n",
    "        if entity_text != entity and entity_text != entity+\"\\n\":\n",
    "            # print(f\"Mismatch in {ann_id}: Expected '{entity}' but found '{entity_text}' (Indices: {start_idx}-{end_idx})\")\n",
    "            errors.add(ann_file)\n",
    "    \n",
    "    return errors\n"
   ]
  },
  {
   "cell_type": "code",
   "execution_count": 102,
   "metadata": {},
   "outputs": [
    {
     "name": "stdout",
     "output_type": "stream",
     "text": [
      "{'/Users/linndfors/study/diploma/ner_for_fem/data/data_for_ner_new_balanced/ng_changed/cc9eda5dc1f3_1.ann'}\n",
      "{'/Users/linndfors/study/diploma/ner_for_fem/data/data_for_ner_new_balanced/ng_changed/3b285211209c_1.ann'}\n",
      "{'/Users/linndfors/study/diploma/ner_for_fem/data/data_for_ner_new_balanced/ng_changed/47713afd9490_1.ann'}\n",
      "{'/Users/linndfors/study/diploma/ner_for_fem/data/data_for_ner_new_balanced/ng_changed/8c6db2873e45_1.ann'}\n",
      "{'/Users/linndfors/study/diploma/ner_for_fem/data/data_for_ner_new_balanced/ng_changed/c97bff36f45a_1.ann'}\n",
      "{'/Users/linndfors/study/diploma/ner_for_fem/data/data_for_ner_new_balanced/ng_changed/6350e46219ca_1.ann'}\n",
      "{'/Users/linndfors/study/diploma/ner_for_fem/data/data_for_ner_new_balanced/ng_changed/6dd15465059a_1.ann'}\n",
      "{'/Users/linndfors/study/diploma/ner_for_fem/data/data_for_ner_new_balanced/ng_changed/76b9b07172fb_1.ann'}\n",
      "{'/Users/linndfors/study/diploma/ner_for_fem/data/data_for_ner_new_balanced/ng_changed/996f3a16780e_1.ann'}\n",
      "{'/Users/linndfors/study/diploma/ner_for_fem/data/data_for_ner_new_balanced/ng_changed/a6b3166e4d3b_1.ann'}\n",
      "{'/Users/linndfors/study/diploma/ner_for_fem/data/data_for_ner_new_balanced/ng_changed/ba4204adf371_1.ann'}\n",
      "{'/Users/linndfors/study/diploma/ner_for_fem/data/data_for_ner_new_balanced/ng_changed/7516eb24dae3_1.ann'}\n",
      "{'/Users/linndfors/study/diploma/ner_for_fem/data/data_for_ner_new_balanced/ng_changed/798252fda0ab_1.ann'}\n",
      "{'/Users/linndfors/study/diploma/ner_for_fem/data/data_for_ner_new_balanced/ng_changed/e2e03aba8da3_1.ann'}\n",
      "{'/Users/linndfors/study/diploma/ner_for_fem/data/data_for_ner_new_balanced/ng_changed/ac7d3bf88e39_1.ann'}\n",
      "{'/Users/linndfors/study/diploma/ner_for_fem/data/data_for_ner_new_balanced/ng_changed/41cf54503fc6_1.ann'}\n",
      "{'/Users/linndfors/study/diploma/ner_for_fem/data/data_for_ner_new_balanced/ng_changed/2dfb84287371_1.ann'}\n",
      "{'/Users/linndfors/study/diploma/ner_for_fem/data/data_for_ner_new_balanced/ng_changed/6b71dda907fe_1.ann'}\n",
      "{'/Users/linndfors/study/diploma/ner_for_fem/data/data_for_ner_new_balanced/ng_changed/348b96a54914_1.ann'}\n",
      "{'/Users/linndfors/study/diploma/ner_for_fem/data/data_for_ner_new_balanced/ng_changed/369c3876ae3d_1.ann'}\n",
      "{'/Users/linndfors/study/diploma/ner_for_fem/data/data_for_ner_new_balanced/ng_changed/a04af354c8db_1.ann'}\n",
      "{'/Users/linndfors/study/diploma/ner_for_fem/data/data_for_ner_new_balanced/ng_changed/00b1a798bebf_1.ann'}\n",
      "{'/Users/linndfors/study/diploma/ner_for_fem/data/data_for_ner_new_balanced/ng_changed/c09661af0a89_1.ann'}\n",
      "{'/Users/linndfors/study/diploma/ner_for_fem/data/data_for_ner_new_balanced/ng_changed/540d36b4fe1c_1.ann'}\n",
      "{'/Users/linndfors/study/diploma/ner_for_fem/data/data_for_ner_new_balanced/ng_changed/45ce670b36e1_1.ann'}\n",
      "{'/Users/linndfors/study/diploma/ner_for_fem/data/data_for_ner_new_balanced/ng_changed/eed5beaf4033_1.ann'}\n",
      "{'/Users/linndfors/study/diploma/ner_for_fem/data/data_for_ner_new_balanced/ng_changed/6d47a8c4d755_1.ann'}\n",
      "{'/Users/linndfors/study/diploma/ner_for_fem/data/data_for_ner_new_balanced/ng_changed/3262eb989bd6_1.ann'}\n",
      "{'/Users/linndfors/study/diploma/ner_for_fem/data/data_for_ner_new_balanced/ng_changed/db4996034aa6_1.ann'}\n",
      "{'/Users/linndfors/study/diploma/ner_for_fem/data/data_for_ner_new_balanced/ng_changed/5a4b4498fe83_1.ann'}\n",
      "{'/Users/linndfors/study/diploma/ner_for_fem/data/data_for_ner_new_balanced/ng_changed/02bebf42e010_1.ann'}\n",
      "{'/Users/linndfors/study/diploma/ner_for_fem/data/data_for_ner_new_balanced/ng_changed/7982679365fb_1.ann'}\n",
      "{'/Users/linndfors/study/diploma/ner_for_fem/data/data_for_ner_new_balanced/ng_changed/0e5456794c26_1.ann'}\n",
      "{'/Users/linndfors/study/diploma/ner_for_fem/data/data_for_ner_new_balanced/ng_changed/7eae7aa310d7_1.ann'}\n",
      "{'/Users/linndfors/study/diploma/ner_for_fem/data/data_for_ner_new_balanced/ng_changed/e37120a0aa66_1.ann'}\n",
      "{'/Users/linndfors/study/diploma/ner_for_fem/data/data_for_ner_new_balanced/ng_changed/1c3533ec1df3_1.ann'}\n",
      "{'/Users/linndfors/study/diploma/ner_for_fem/data/data_for_ner_new_balanced/ng_changed/c99d1ad0cc3c_1.ann'}\n"
     ]
    }
   ],
   "source": [
    "import os\n",
    "\n",
    "# Directory path\n",
    "# dir_path = '/Users/linndfors/study/diploma/ner_for_fem/data/orig_data/ng_changed'\n",
    "dir_path = \"/Users/linndfors/study/diploma/ner_for_fem/data/data_for_ner_new_balanced/ng_changed\"\n",
    "\n",
    "# Iterate over all files in the directory\n",
    "for filename in os.listdir(dir_path):\n",
    "    if filename.endswith('.txt'):\n",
    "        file_path = os.path.join(dir_path, filename)\n",
    "        with open(file_path, 'r', encoding='utf-8') as file:\n",
    "            text = file.read()\n",
    "        ann_file = file_path.replace(\".txt\", '.ann')\n",
    "        changed_ann_file = ann_file.replace(\"data_for_ner_new_balanced/\", \"orig_data/\")\n",
    "        if changed_ann_file not in list_of_files_to_ignore:\n",
    "            error = check_annotations(text, ann_file)\n",
    "            if error:\n",
    "                print(error)\n",
    "            # break\n",
    "            # else:\n",
    "            #     print(\"All annotations are correct.\")"
   ]
  },
  {
   "cell_type": "code",
   "execution_count": 80,
   "metadata": {},
   "outputs": [],
   "source": [
    "list_of_files_to_ignore = ['/Users/linndfors/study/diploma/ner_for_fem/data/orig_data/ng_changed/02bebf42e010.ann',\n",
    "                           '/Users/linndfors/study/diploma/ner_for_fem/data/orig_data/ng_changed/8c6db2873e45.ann',\n",
    "                           '/Users/linndfors/study/diploma/ner_for_fem/data/orig_data/ng_changed/3b285211209c.ann',\n",
    "                           '/Users/linndfors/study/diploma/ner_for_fem/data/orig_data/ng_changed/c09661af0a89.ann',\n",
    "                           '/Users/linndfors/study/diploma/ner_for_fem/data/orig_data/ng_changed/db4996034aa6.ann',\n",
    "                           '/Users/linndfors/study/diploma/ner_for_fem/data/orig_data/ng_changed/6dd15465059a.ann',\n",
    "                           '/Users/linndfors/study/diploma/ner_for_fem/data/orig_data/ng_changed/ba4204adf371.ann',\n",
    "                           '/Users/linndfors/study/diploma/ner_for_fem/data/orig_data/ng_changed/7982679365fb.ann',\n",
    "                           '/Users/linndfors/study/diploma/ner_for_fem/data/orig_data/ng_changed/76b9b07172fb.ann',\n",
    "                           '/Users/linndfors/study/diploma/ner_for_fem/data/orig_data/ng_changed/3262eb989bd6.ann',\n",
    "                           '/Users/linndfors/study/diploma/ner_for_fem/data/orig_data/ng_changed/6d47a8c4d755.ann',\n",
    "                           '/Users/linndfors/study/diploma/ner_for_fem/data/orig_data/ng_changed/2dfb84287371.ann',\n",
    "                           '/Users/linndfors/study/diploma/ner_for_fem/data/orig_data/ng_changed/798252fda0ab.ann',\n",
    "                           '/Users/linndfors/study/diploma/ner_for_fem/data/orig_data/ng_changed/45ce670b36e1.ann',\n",
    "                           '/Users/linndfors/study/diploma/ner_for_fem/data/orig_data/ng_changed/5a4b4498fe83.ann',\n",
    "                           '/Users/linndfors/study/diploma/ner_for_fem/data/orig_data/ng_changed/ac7d3bf88e39.ann',\n",
    "                           '/Users/linndfors/study/diploma/ner_for_fem/data/orig_data/ng_changed/1c3533ec1df3.ann',\n",
    "                           '/Users/linndfors/study/diploma/ner_for_fem/data/orig_data/ng_changed/47713afd9490.ann',\n",
    "                           '/Users/linndfors/study/diploma/ner_for_fem/data/orig_data/ng_changed/0e5456794c26.ann',\n",
    "                           '/Users/linndfors/study/diploma/ner_for_fem/data/orig_data/ng_changed/41cf54503fc6.ann',\n",
    "                           '/Users/linndfors/study/diploma/ner_for_fem/data/orig_data/ng_changed/6350e46219ca.ann',\n",
    "                           '/Users/linndfors/study/diploma/ner_for_fem/data/orig_data/ng_changed/7eae7aa310d7.ann',\n",
    "                           '/Users/linndfors/study/diploma/ner_for_fem/data/orig_data/ng_changed/348b96a54914.ann',\n",
    "                           '/Users/linndfors/study/diploma/ner_for_fem/data/orig_data/ng_changed/cc9eda5dc1f3.ann',\n",
    "                           '/Users/linndfors/study/diploma/ner_for_fem/data/orig_data/ng_changed/6b71dda907fe.ann',\n",
    "                           '/Users/linndfors/study/diploma/ner_for_fem/data/orig_data/ng_changed/eed5beaf4033.ann',\n",
    "                           '/Users/linndfors/study/diploma/ner_for_fem/data/orig_data/ng_changed/e37120a0aa66.ann',\n",
    "                           '/Users/linndfors/study/diploma/ner_for_fem/data/orig_data/ng_changed/996f3a16780e.ann',\n",
    "                           '/Users/linndfors/study/diploma/ner_for_fem/data/orig_data/ng_changed/540d36b4fe1c.ann',\n",
    "                           '/Users/linndfors/study/diploma/ner_for_fem/data/orig_data/ng_changed/7516eb24dae3.ann',\n",
    "                           '/Users/linndfors/study/diploma/ner_for_fem/data/orig_data/ng_changed/a6b3166e4d3b.ann',\n",
    "                           '/Users/linndfors/study/diploma/ner_for_fem/data/orig_data/ng_changed/e2e03aba8da3.ann',\n",
    "                           '/Users/linndfors/study/diploma/ner_for_fem/data/orig_data/ng_changed/369c3876ae3d.ann',\n",
    "                           '/Users/linndfors/study/diploma/ner_for_fem/data/orig_data/ng_changed/c97bff36f45a.ann',\n",
    "                           '/Users/linndfors/study/diploma/ner_for_fem/data/orig_data/ng_changed/c99d1ad0cc3c.ann',\n",
    "                           '/Users/linndfors/study/diploma/ner_for_fem/data/orig_data/ng_changed/00b1a798bebf.ann'\n",
    "                           ]"
   ]
  },
  {
   "cell_type": "code",
   "execution_count": null,
   "metadata": {},
   "outputs": [
    {
     "name": "stdout",
     "output_type": "stream",
     "text": [
      "Сергієм Мержинським Сергієм Мержинським\n",
      "Леся Леся\n",
      "Ялти Ялти\n",
      "Мержинському Мержинському\n",
      "Порвалася нескінчена розмова Порвалася нескінчена розмова\n",
      "Леся Леся\n",
      "Ай-Петрі Ай-Петрі\n",
      "Ломикамінь Ломикамінь\n",
      "Леся Леся\n",
      "матері-України матері-України\n",
      "Поет Поет\n",
      "Україна Україна\n",
      "Ялта Ялта\n",
      "поет поет\n",
      "Климента Квітку Климента Квітку\n",
      "1907 р . 1907 р .\n",
      "Крим Крим\n",
      "Климента Квітку Климента Квітку\n",
      "Климент Климент\n",
      "Лесю Лесю\n",
      "9 років 9 років\n",
      "Квітка Квітка\n",
      "Лесю Лесю\n",
      "Крим Крим\n",
      "Леся Леся\n",
      "Кленею Кленею\n",
      "Квітку Квітку\n",
      "37 років 37 років\n",
      "поет поет\n",
      "Квітка Квітка\n",
      "Леся Леся\n",
      "Крим Крим\n",
      "Климент Климент\n",
      "Ялту Ялту\n",
      "Амвросій Метлинський Амвросій Метлинський\n",
      "Степан Руданський Степан Руданський\n",
      "Христя Алчевська Христя Алчевська\n",
      "Дніпрова Чайка Дніпрова Чайка\n",
      "Михайло Коцюбинський Михайло Коцюбинський\n",
      "Микола Чернявський Микола Чернявський\n",
      "Агатангел Кримський Агатангел Кримський\n",
      "Олександр Олесь Олександр Олесь\n",
      "Охріменків Охріменків\n",
      "Ялті Ялті\n",
      "1904 1904\n",
      "1904 до 1918 року 1904 до 1918 року\n",
      "1918 року 1918 року\n",
      "Український театр Український театр\n",
      "Криму Криму\n",
      "Юристка Юристка\n",
      "Квітка Квітка\n",
      "Климент Квітка Климент Квітка\n",
      "Леся Леся\n",
      "1917 року 1917 року\n",
      "Мелодії з голосу Лесі Українки Мелодії з голосу Лесі Українки\n",
      "Лесиного Лесиного\n",
      "Ялті Ялті\n",
      "Климент Васильович Климент Васильович\n",
      "1953 року 1953 року\n",
      "40 років 40 років\n",
      "Ялті Ялті\n",
      "вулиці Літкенса , 8 вулиці Літкенса , 8\n",
      "Лесі Українці Лесі Українці\n",
      "Лесі Українки Лесі Українки\n",
      "All annotations are correct.\n"
     ]
    }
   ],
   "source": [
    "with open('/Users/linndfors/study/diploma/ner_for_fem/data/orig_data/bruk_changed/0b962bee49bc.txt', 'r', encoding='utf-8') as f:\n",
    "   text = f.read()\n",
    "\n"
   ]
  },
  {
   "cell_type": "code",
   "execution_count": null,
   "metadata": {},
   "outputs": [],
   "source": [
    "# test_gender_swapped_df = pd.read_csv(\"/Users/linndfors/study/diploma/ner_for_fem/FOR_ANNOTATION_FINAL/test_swapped_with_ann_with_names_changed.csv\")\n",
    "# dev_gender_swapped_df = pd.read_csv(\"/Users/linndfors/study/diploma/ner_for_fem/FOR_ANNOTATION_FINAL/dev_swapped_with_ann_with_names_changed.csv\")"
   ]
  },
  {
   "cell_type": "markdown",
   "metadata": {},
   "source": [
    "## How to evaluate the gender-swapper?\n",
    "\n",
    "<b>Qualitative</b>:\n",
    "- manual erros analysis - Annotators\n",
    "- generated names are dictionary words of the needed gender\n",
    "- generated feminitives are dictionary words \n",
    "- Check for the agreement accuracy (pymorhy lib to check gender to avoid “вона робив”) stanza - DONE\n",
    "- Cross similarity (double gender-swapping)\n",
    "- POS consistency (whether words changed their part of speech) stanza - No sense\n",
    "- After annotation we can check which words were the reason of mistakes\n",
    "\n",
    "<b>Quantitative</b>:\n",
    "- does the n of tokens coincide\n",
    "- BERTScore (BLEU, ROUGE, and METEOR) (measuring how similar the changed text is to the original text) medium_article\n",
    "- Retrain the NER model on the gender-swapped dataset\n",
    "- the variety of feminitive forms generated (Names)\n",
    "- different LLMs results comparison"
   ]
  },
  {
   "cell_type": "markdown",
   "metadata": {},
   "source": [
    "## Check for the agreement accuracy (pymorhy lib to check gender to avoid “вона робив”) stanza"
   ]
  },
  {
   "cell_type": "code",
   "execution_count": 89,
   "metadata": {},
   "outputs": [],
   "source": [
    "# !pip install stanza"
   ]
  },
  {
   "cell_type": "code",
   "execution_count": null,
   "metadata": {},
   "outputs": [
    {
     "name": "stdout",
     "output_type": "stream",
     "text": [
      "Downloading Ukrainian model...\n"
     ]
    },
    {
     "data": {
      "application/vnd.jupyter.widget-view+json": {
       "model_id": "c5e0f2b728db4dc6914dbaea201fcba7",
       "version_major": 2,
       "version_minor": 0
      },
      "text/plain": [
       "Downloading https://raw.githubusercontent.com/stanfordnlp/stanza-resources/main/resources_1.10.0.json:   0%|  …"
      ]
     },
     "metadata": {},
     "output_type": "display_data"
    },
    {
     "name": "stderr",
     "output_type": "stream",
     "text": [
      "2025-03-04 23:32:55 INFO: Downloaded file to /Users/linndfors/stanza_resources/resources.json\n",
      "2025-03-04 23:32:55 INFO: Downloading default packages for language: uk (Ukrainian) ...\n",
      "2025-03-04 23:32:57 INFO: File exists: /Users/linndfors/stanza_resources/uk/default.zip\n",
      "2025-03-04 23:33:02 INFO: Finished downloading models and saved to /Users/linndfors/stanza_resources\n"
     ]
    }
   ],
   "source": [
    "print(\"Downloading Ukrainian model...\")\n",
    "stanza.download('uk')"
   ]
  },
  {
   "cell_type": "code",
   "execution_count": 65,
   "metadata": {},
   "outputs": [],
   "source": [
    "uk_nlp = stanza.Pipeline('uk', verbose=False, use_gpu=False)"
   ]
  },
  {
   "cell_type": "code",
   "execution_count": 16,
   "metadata": {},
   "outputs": [],
   "source": [
    "def check_gender_agreement_in_sentences(sentences):\n",
    "    results = {}\n",
    "    for sentence in tqdm.tqdm(sentences):\n",
    "        doc = uk_nlp(sentence)\n",
    "        \n",
    "\n",
    "        for sent in doc.sentences:\n",
    "            for word in sent.words:\n",
    "                try:\n",
    "                    if word.deprel in [\"nsubj\", \"nsubj:pass\"] and \"Gender\" in str(word.feats):\n",
    "                        if \"Animacy=Inan\" not in str(word.feats):\n",
    "                            subj_text = word.text\n",
    "                            subj_feats = word.feats\n",
    "                            subj_gender = [feat.split('=')[1] for feat in subj_feats.split('|') if feat.startswith('Gender')][0]\n",
    "                            subj_number = [feat.split('=')[1] for feat in subj_feats.split('|') if feat.startswith('Number')][0]\n",
    "\n",
    "                            head_id = word.head\n",
    "                            if head_id > 0:\n",
    "                                verb = sent.words[head_id - 1]\n",
    "                                if verb.pos == \"VERB\" and \"Gender\" in str(verb.feats):\n",
    "                                    verb_text = verb.text\n",
    "                                    verb_feats = verb.feats\n",
    "                                    verb_gender = [feat.split('=')[1] for feat in verb_feats.split('|') if feat.startswith('Gender')][0]\n",
    "                                    verb_number = [feat.split('=')[1] for feat in verb_feats.split('|') if feat.startswith('Number')][0]\n",
    "\n",
    "                                    if subj_gender == verb_gender and subj_number == verb_number:\n",
    "                                        pass\n",
    "                                        # print(f\"AGREE: {subj_text} ({subj_feats}) і {verb_text} ({verb_feats})\")\n",
    "                                    else:\n",
    "                                        results[sentence] = (subj_text, verb_text)\n",
    "                                        # print(\"\\nSentence:\", sentence)\n",
    "                                        # print(f\"XXX NOT AGREE XXX: {subj_text} ({subj_feats}) і {verb_text} ({verb_feats})\")\n",
    "                except Exception as e:\n",
    "                    print(f\"Error {e}; in the following sentence: {sentence}\")\n",
    "    return results"
   ]
  },
  {
   "cell_type": "code",
   "execution_count": null,
   "metadata": {},
   "outputs": [
    {
     "name": "stderr",
     "output_type": "stream",
     "text": [
      "  0%|          | 0/518 [00:00<?, ?it/s]"
     ]
    },
    {
     "name": "stderr",
     "output_type": "stream",
     "text": [
      "  6%|▌         | 31/518 [00:47<19:03,  2.35s/it]"
     ]
    },
    {
     "name": "stdout",
     "output_type": "stream",
     "text": [
      "Error list index out of range; in the following sentence: В наших умовах у таких «рольових коконах» продовжували дефілювати партійні ортодоксики, лектора ЦК Компартії, які своєю поведінкою дуже нагадували героїню Кіри Сазерленд (чи то героїня «Меланхолії» через двадцять п’ять років наслідує їх?..) , та ще офіцерки КҐБ, які єдині тоді мусили бути щасливі, бо їм додалося праці: в кінці травня одна така приходила вербувати й мене (цей сюжет я потім використала для схожого епізоду в біографії Віктора в «Музеї покинутих секретів»), і ми з нею близько трьох годин мужньо блукали вулицями «на свіжому повітрі», дивуючи нечастих перехожих (вона, правда, запропонувала піти до ресторану – на той час гуляти «на свіжому повітрі» вже не рекомендувалося ц\n"
     ]
    },
    {
     "name": "stderr",
     "output_type": "stream",
     "text": [
      " 56%|█████▌    | 289/518 [05:11<05:30,  1.44s/it]"
     ]
    },
    {
     "name": "stdout",
     "output_type": "stream",
     "text": [
      "Error list index out of range; in the following sentence: Обидві Колеснікови згадувались як членкині наглядової ради ЗАТ «Енергомережа» до того, як фірму очолила Ольга Крючкова, що останні роки представляє інтереси нардепки від БПП Ігоря Кононенка.\n"
     ]
    },
    {
     "name": "stderr",
     "output_type": "stream",
     "text": [
      "100%|██████████| 518/518 [08:57<00:00,  1.04s/it]\n"
     ]
    }
   ],
   "source": [
    "results_of_agreement_test = check_gender_agreement_in_sentences(list(test_gender_swapped_df['swapped']))"
   ]
  },
  {
   "cell_type": "code",
   "execution_count": 101,
   "metadata": {},
   "outputs": [
    {
     "data": {
      "text/plain": [
       "19"
      ]
     },
     "execution_count": 101,
     "metadata": {},
     "output_type": "execute_result"
    }
   ],
   "source": [
    "len(results_of_agreement_test)"
   ]
  },
  {
   "cell_type": "code",
   "execution_count": 66,
   "metadata": {},
   "outputs": [
    {
     "name": "stderr",
     "output_type": "stream",
     "text": [
      "100%|██████████| 1024/1024 [19:01<00:00,  1.11s/it]\n"
     ]
    }
   ],
   "source": [
    "results_of_agreement_dev = check_gender_agreement_in_sentences(list(dev_gender_swapped_df['swapped']))"
   ]
  },
  {
   "cell_type": "code",
   "execution_count": 102,
   "metadata": {},
   "outputs": [
    {
     "data": {
      "text/plain": [
       "45"
      ]
     },
     "execution_count": 102,
     "metadata": {},
     "output_type": "execute_result"
    }
   ],
   "source": [
    "len(results_of_agreement_dev)"
   ]
  },
  {
   "cell_type": "code",
   "execution_count": 106,
   "metadata": {},
   "outputs": [
    {
     "name": "stdout",
     "output_type": "stream",
     "text": [
      "agreement mistake for dev set: 0.0439\n"
     ]
    }
   ],
   "source": [
    "print('agreement mistake for dev set:', \"{:.4f}\".format((len(results_of_agreement_dev) / len(dev_gender_swapped_df['swapped']))))"
   ]
  },
  {
   "cell_type": "code",
   "execution_count": 105,
   "metadata": {},
   "outputs": [
    {
     "name": "stdout",
     "output_type": "stream",
     "text": [
      "agreement mistake for test set: 0.0367\n"
     ]
    }
   ],
   "source": [
    "print('agreement mistake for test set:', \"{:.4f}\".format((len(results_of_agreement_test) / len(test_gender_swapped_df['swapped']))))\n"
   ]
  },
  {
   "cell_type": "code",
   "execution_count": 25,
   "metadata": {},
   "outputs": [],
   "source": [
    "with open('/Users/linndfors/study/diploma/uk-gender-word-mapper/common_gender_words_list.txt', 'r', encoding='utf-8') as file:\n",
    "    common_gender_words_list = file.read().splitlines()"
   ]
  },
  {
   "cell_type": "code",
   "execution_count": 34,
   "metadata": {},
   "outputs": [
    {
     "name": "stdout",
     "output_type": "stream",
     "text": [
      "4 out of 19 agreement mistakes are common gender words\n"
     ]
    }
   ],
   "source": [
    "counter = 0\n",
    "\n",
    "for k, v in results_of_agreement_test.items():\n",
    "    v1, v2 = v\n",
    "    if v1.lower() in common_gender_words_list or v2.lower() in common_gender_words_list:\n",
    "        counter += 1\n",
    "\n",
    "\n",
    "print(f'{counter} out of {len(results_of_agreement_test)} agreement mistakes are common gender words')"
   ]
  },
  {
   "cell_type": "markdown",
   "metadata": {},
   "source": [
    "## Tokens count"
   ]
  },
  {
   "cell_type": "code",
   "execution_count": 38,
   "metadata": {},
   "outputs": [],
   "source": [
    "def token_count_match(df):\n",
    "    result = []\n",
    "\n",
    "    for i, row in tqdm.tqdm(df.iterrows()):\n",
    "        tokens_1 = len(uk_nlp(row['original']).sentences[0].tokens)\n",
    "        tokens_2 = len(uk_nlp(row['swapped']).sentences[0].tokens)\n",
    "        \n",
    "        if tokens_1 != tokens_2:\n",
    "            result.append((row['original'], row['swapped']))\n",
    "    return result"
   ]
  },
  {
   "cell_type": "code",
   "execution_count": 39,
   "metadata": {},
   "outputs": [
    {
     "name": "stderr",
     "output_type": "stream",
     "text": [
      "518it [17:51,  2.07s/it]\n"
     ]
    }
   ],
   "source": [
    "result_of_token_count_matching = token_count_match(test_gender_swapped_df)"
   ]
  },
  {
   "cell_type": "code",
   "execution_count": 41,
   "metadata": {},
   "outputs": [
    {
     "data": {
      "text/plain": [
       "16"
      ]
     },
     "execution_count": 41,
     "metadata": {},
     "output_type": "execute_result"
    }
   ],
   "source": [
    "len(result_of_token_count_matching)"
   ]
  },
  {
   "cell_type": "code",
   "execution_count": 107,
   "metadata": {},
   "outputs": [
    {
     "name": "stdout",
     "output_type": "stream",
     "text": [
      "tokens count mistake for test set: 0.031\n"
     ]
    }
   ],
   "source": [
    "print('tokens count mistake for test set:', \"{:.3f}\".format((len(result_of_token_count_matching) / len(test_gender_swapped_df))))"
   ]
  },
  {
   "cell_type": "markdown",
   "metadata": {},
   "source": [
    "## POS comparison"
   ]
  },
  {
   "cell_type": "code",
   "execution_count": 15,
   "metadata": {},
   "outputs": [],
   "source": [
    "def compare_pos_tags(df):\n",
    "    # results = []\n",
    "\n",
    "    for _, row in tqdm(df.iterrows()):\n",
    "        sent1, sent2 = row['original'], row['swapped']\n",
    "\n",
    "        doc1 = uk_nlp(sent1)\n",
    "        doc2 = uk_nlp(sent2)\n",
    "        error_flag = False\n",
    "\n",
    "        tokens1 = [(word.text, word.upos) for sent in doc1.sentences for word in sent.words]\n",
    "        tokens2 = [(word.text, word.upos) for sent in doc2.sentences for word in sent.words]\n",
    "\n",
    "        for (tok1, pos1), (tok2, pos2) in zip(tokens1, tokens2):\n",
    "            if tok1 != tok2:\n",
    "                if pos1 != pos2:\n",
    "                    error_flag = True\n",
    "                    print(\"XX BAD XX\", (tok1, pos1, tok2, pos2))\n",
    "        if error_flag:\n",
    "            print(sent1)\n",
    "            print(sent2)"
   ]
  },
  {
   "cell_type": "code",
   "execution_count": 16,
   "metadata": {},
   "outputs": [],
   "source": [
    "for_pos_check_gender_swapped_df = gender_swapped_df.copy()"
   ]
  },
  {
   "cell_type": "code",
   "execution_count": 17,
   "metadata": {},
   "outputs": [
    {
     "data": {
      "text/plain": [
       "539"
      ]
     },
     "execution_count": 17,
     "metadata": {},
     "output_type": "execute_result"
    }
   ],
   "source": [
    "len(for_pos_check_gender_swapped_df)"
   ]
  },
  {
   "cell_type": "code",
   "execution_count": 18,
   "metadata": {},
   "outputs": [
    {
     "name": "stderr",
     "output_type": "stream",
     "text": [
      "15it [00:37,  2.46s/it]"
     ]
    },
    {
     "name": "stdout",
     "output_type": "stream",
     "text": [
      "XX BAD XX ('кокетлива', 'NOUN', 'кокетливий', 'ADJ')\n",
      "В часи , коли талановитий драматург досягнув піку слави й популярності , при королівському дворі в Англії користувалася увагою кокетлива й вишукана Емілія Бассано Ланьєр .\n",
      "В часи, коли талановита драматургиня досягла піку слави й популярності, при королівському дворі в Англії користувалася увагою кокетливий й вишуканий Еміль Бассано Ланьєр.\n"
     ]
    },
    {
     "name": "stderr",
     "output_type": "stream",
     "text": [
      "37it [01:27,  4.11s/it]"
     ]
    },
    {
     "name": "stdout",
     "output_type": "stream",
     "text": [
      "XX BAD XX ('свіжому', 'ADJ', 'свіж', 'NOUN')\n",
      "В наших умовах у таких « рольових коконах » продовжували дефілювати партійні ортодокси , лектори ЦК Компартії , які своєю поведінкою дуже нагадували героя Кіфера Сазерленда ( чи то герой « Меланхолії » через двадцять п’ять років наслідує їх ?.. ) , та ще офіцери КҐБ , які єдині тоді мусили бути щасливі , бо їм додалося праці : в кінці травня один такий приходив вербувати й мене ( цей сюжет я потім використала для схожого епізоду в біографії Дарини в « Музеї покинутих секретів » ) , і ми з ним близько трьох годин мужньо блукали вулицями « на свіжому повітрі » , дивуючи нечастих перехожих ( він , правда , запропонував піти до ресторану – на той час гуляти « на свіжому повітрі » вже не рекомендувалося цілком офіційно , – але на це я згодитись не могла : ресторан – то вже , як не крути , « початок угоди » , після якого відмовлятися від « співпраці » було б набагато складніше , і наковтатися трохи зайвих мікрорентґенів – яка вже різниця , кількома більше чи кількома менше ? – було однозначно привабливішою опцією ) .\n",
      "В наших умовах у таких « рольових коконах » продовжували дефілювати партійні ортодоксички , лекторки ЦК Компартії , які своєю поведінкою дуже нагадували героїню Кіфера Сазерленда ( чи то героїня « Меланхолії » через двадцять п’ять років наслідує їх ?.. ) , та ще офіцерки КҐБ , які єдині тоді мусили бути щасливі , бо їм додалося праці : в кінці травня одна така приходила вербувати й мене ( цей сюжет я потім використала для схожого епізоду в біографії Дарини в « Музеї покинутих секретів » ) , і ми з нею близько трьох годин мужньо блукали вулицями « на свіж\n"
     ]
    },
    {
     "name": "stderr",
     "output_type": "stream",
     "text": [
      "45it [01:43,  2.05s/it]"
     ]
    },
    {
     "name": "stdout",
     "output_type": "stream",
     "text": [
      "XX BAD XX ('її', 'DET', 'його', 'PRON')\n",
      "Батько вважав її хорошим педагогом , хоч насправді вона була просто привабливою жінкою , доброю і не надто вимогливою .\n",
      "Мати вважала його хорошою педагогинею, хоч насправді він був просто привабливим чоловіком, добрим і не надто вимогливим.\n"
     ]
    },
    {
     "name": "stderr",
     "output_type": "stream",
     "text": [
      "54it [02:01,  1.74s/it]"
     ]
    },
    {
     "name": "stdout",
     "output_type": "stream",
     "text": [
      "XX BAD XX ('Шеф', 'NOUN', 'Шефа', 'PROPN')\n",
      "Шеф погодився , часто говорив потім , що зробив добре діло , але говорив так , ніби шкодував за вдіяним . « Марік , — звертався він до нового підмайстра , — потрібно завжди шанувати батьків .\n",
      "Шефа погодилась, часто говорила потім, що зробила добре діло, але говорила так, ніби шкодувала за вдіяним. «Марина, — зверталась вона до нової підмайстрині, — потрібно завжди шанувати батьків.\n"
     ]
    },
    {
     "name": "stderr",
     "output_type": "stream",
     "text": [
      "61it [02:12,  1.82s/it]"
     ]
    },
    {
     "name": "stdout",
     "output_type": "stream",
     "text": [
      "XX BAD XX ('-', 'PUNCT', 'мама', 'NOUN')\n",
      "XX BAD XX ('тато', 'NOUN', ',', 'PUNCT')\n",
      "XX BAD XX (',', 'PUNCT', 'інженерка', 'NOUN')\n",
      "XX BAD XX ('інженер', 'NOUN', ',', 'PUNCT')\n",
      "XX BAD XX (',', 'PUNCT', 'Павлов', 'PROPN')\n",
      "XX BAD XX ('Павлова', 'PROPN', '-', 'PUNCT')\n",
      "За радянської влади в будинку жили чотири родини — Коліна родина займала дві кімнати на першому поверсі , поруч із ними жили Павлови — Павлов-тато , інженер , Павлова мама , теж інженер , і їхня донька — істеричка й інтриганка .\n",
      "За радянської влади в будинку жили чотири родини — Коліної родина займала дві кімнати на першому поверсі, поруч із ними жили Павлови — Павлова мама, інженерка, Павлов-тато, теж інженер, і їхня донька — істеричка й інтриганка.\n"
     ]
    },
    {
     "name": "stderr",
     "output_type": "stream",
     "text": [
      "89it [03:04,  1.57s/it]"
     ]
    },
    {
     "name": "stdout",
     "output_type": "stream",
     "text": [
      "XX BAD XX ('отаман', 'NOUN', 'отаманша', 'ADJ')\n",
      "Сотник Станімір ураз виструнчився у військову поставу й суворим командирським голосом сказав , що відмова від виконання наказу карається за всіма законами воєнного часу , тому він , отаман Шуліка , постане перед польовим судом .\n",
      "Сотниця Станіслава ураз виструнчилась у військову поставу й суворим командирським голосом сказала, що відмова від виконання наказу карається за всіма законами воєнного часу, тому вона, отаманша Шуліка, постане перед польовим судом.\n"
     ]
    },
    {
     "name": "stderr",
     "output_type": "stream",
     "text": [
      "92it [03:10,  1.89s/it]"
     ]
    },
    {
     "name": "stdout",
     "output_type": "stream",
     "text": [
      "XX BAD XX ('Станімір', 'NOUN', 'Станіслава', 'PROPN')\n",
      "Станімір із Гірняком теж потяглися до кобур , але тут Шуліка й собі прибрав військову позу , витягся , розправив плечі , розпушив вуса й сказав отаманським голосом :\n",
      "Станіслава із Гірнячкою теж потяглися до кобур , але тут Шуліка й собі прибрала військову позу , витяглася , розправила плечі , розпушила вуса й сказала отаманським голосом :\n"
     ]
    },
    {
     "name": "stderr",
     "output_type": "stream",
     "text": [
      "98it [03:21,  2.16s/it]"
     ]
    },
    {
     "name": "stdout",
     "output_type": "stream",
     "text": [
      "XX BAD XX ('той', 'DET', 'та', 'CCONJ')\n",
      "Щоб довідатися , що це за партизанська хитрість , сотник Станімір послав туди стежу на чолі з поручником Гірняком , але той не знайшов від повстанців і сліду .\n",
      "Щоб довідатися, що це за партизанська хитрість, сотниця Станіслава послала туди стежу на чолі з поручницею Гірняк, але та не знайшла від повстанців і сліду.\n"
     ]
    },
    {
     "name": "stderr",
     "output_type": "stream",
     "text": [
      "159it [05:37,  2.61s/it]"
     ]
    },
    {
     "name": "stdout",
     "output_type": "stream",
     "text": [
      "XX BAD XX ('Інок', 'PROPN', 'Інока', 'NOUN')\n",
      "XX BAD XX ('бувши', 'AUX', 'будучи', 'VERB')\n",
      "Інок не повинен турбуватися про завтрашній день , має сповідатися про свої гріхи , його ж життя має стати богобаченням , він повинен жити цілком « у послушанні монастирському » , не догоджати своїй волі , бувши відреченим од світу , жити не для себе , а для Христа , тобто здійснювати не свою волю .\n",
      "Інока не повинна турбуватися про завтрашній день , має сповідатися про свої гріхи , її ж життя має стати богобаченням , вона повинна жити цілком « у послушанні монастирському » , не догоджати своїй волі , будучи відреченою од світу , жити не для себе , а для Христя , тобто здійснювати не свою волю .\n"
     ]
    },
    {
     "name": "stderr",
     "output_type": "stream",
     "text": [
      "164it [05:46,  1.76s/it]"
     ]
    },
    {
     "name": "stdout",
     "output_type": "stream",
     "text": [
      "XX BAD XX ('інок', 'PRON', 'інока', 'NOUN')\n",
      "Він ніби розвиває думку полеміста , що інок при своєму убогому та повстримному існуванні перебуває в постійній війні зі світовими звабами та в гріховних помислах .\n",
      "Вона ніби розвиває думку полемістки , що інока при своєму убогому та повстримному існуванні перебуває в постійній війні зі світовими звабами та в гріховних помислах .\n"
     ]
    },
    {
     "name": "stderr",
     "output_type": "stream",
     "text": [
      "174it [06:16,  2.88s/it]"
     ]
    },
    {
     "name": "stdout",
     "output_type": "stream",
     "text": [
      "XX BAD XX ('той', 'DET', 'та', 'CCONJ')\n",
      "Деякі речі в « Ляментації » звучать як доноси на ректора : що той , беручи гроші за молебні , молебнів не проводить , або ж , що братія « не часто оббиває церковні пороги » , як і сам ректор .\n",
      "Деякі речі в « Ляментації » звучать як доноси на ректорку : що та, беручи гроші за молебні, молебнів не проводить, або ж, що братія « не часто оббиває церковні пороги », як і сама ректорка .\n"
     ]
    },
    {
     "name": "stderr",
     "output_type": "stream",
     "text": [
      "176it [06:18,  1.95s/it]"
     ]
    },
    {
     "name": "stdout",
     "output_type": "stream",
     "text": [
      "XX BAD XX ('щодо', 'ADP', 'regarding', 'X')\n",
      "Зберігся щодо цього лист В . Ясинського до Л . Барановича , в якому ректор сам вельми уболівав за цю трагедію .\n",
      "Зберігся regarding цього листа В . Ясинської до Л . Барановичa, в якому ректорка сама вельми уболівава за цю трагедію.\n"
     ]
    },
    {
     "name": "stderr",
     "output_type": "stream",
     "text": [
      "198it [06:53,  1.69s/it]"
     ]
    },
    {
     "name": "stdout",
     "output_type": "stream",
     "text": [
      "XX BAD XX ('ченцю', 'ADV', 'ченці', 'NOUN')\n",
      "Отож , голяку-ченцю не легко живеться , як і бідакам у світі , таких і до монастиря неохоче беруть .\n",
      "Отож , голяку-ченці не легко живеться , як і бідакам у світі , таких і до монастиря неохоче беруть .\n"
     ]
    },
    {
     "name": "stderr",
     "output_type": "stream",
     "text": [
      "200it [06:58,  2.19s/it]"
     ]
    },
    {
     "name": "stdout",
     "output_type": "stream",
     "text": [
      "XX BAD XX ('інок', 'PRON', 'інокиня', 'NOUN')\n",
      "В « Безженному іночому житті » говориться , що хоча інок вільний од жінки та дітей , але має потребу в господині , а ще хоче « усяке й багато » , отож мусить , бідака , потерпати .\n",
      "В «Безженному жіночому житті» говориться, що хоча інокиня вільна од чоловіків та дітей, але має потребу в господареві, а ще хоче «усяке й багато», отож мусить, бідака, потерпати.\n"
     ]
    },
    {
     "name": "stderr",
     "output_type": "stream",
     "text": [
      "201it [06:59,  1.86s/it]"
     ]
    },
    {
     "name": "stdout",
     "output_type": "stream",
     "text": [
      "XX BAD XX ('Одружений', 'NOUN', 'Одружена', 'ADJ')\n",
      "XX BAD XX ('Бога', 'NOUN', 'Божої', 'ADJ')\n",
      "Одружений має у скорботах утіху , а ченцеві потіха лише від Бога — твір не без гумору .\n",
      "Одружена має у скорботах утіху, а черниці потіха лише від Божої — твір не без гумору.\n"
     ]
    },
    {
     "name": "stderr",
     "output_type": "stream",
     "text": [
      "209it [07:10,  1.35s/it]"
     ]
    },
    {
     "name": "stdout",
     "output_type": "stream",
     "text": [
      "XX BAD XX ('Великого', 'PROPN', 'Великої', 'ADJ')\n",
      "Уніятські ченці тоді об’єднувались в ордені св . Василія Великого ( василіяни ) , а інші були підлеглі митрополиту ( в Дермані , Дубні та інших місцях ) .\n",
      "Уніятські черниці тоді об’єднувались в ордені св . Василії Великої ( василіянки ) , а інші були підлеглі митрополиту ( в Дермані , Дубні та інших місцях ) .\n"
     ]
    },
    {
     "name": "stderr",
     "output_type": "stream",
     "text": [
      "215it [07:25,  2.13s/it]"
     ]
    },
    {
     "name": "stdout",
     "output_type": "stream",
     "text": [
      "XX BAD XX ('.', 'PUNCT', 'Оповідається', 'VERB')\n",
      "XX BAD XX ('Оповідається', 'VERB', 'історія', 'NOUN')\n",
      "XX BAD XX ('історія', 'NOUN', 'Василіянського', 'ADJ')\n",
      "XX BAD XX ('Василіянського', 'ADJ', 'ордену', 'NOUN')\n",
      "XX BAD XX ('ордену', 'NOUN', '.', 'PUNCT')\n",
      "Однак у римо-католицькій церкві « орденів багато » , тож задля різнорідності звичаїв біскуп не може ними управляти , адже біскупи все-таки належали до білого духовенства ( світського ) . Оповідається історія Василіянського ордену .\n",
      "Однак у римо-католицькій церкві « орденів багато », тож задля різнорідності звичаїв біскупка не може ними управляти, адже біскупки все-таки належали до білого духовенства ( світського ). Оповідається історія Василіянського ордену.\n"
     ]
    },
    {
     "name": "stderr",
     "output_type": "stream",
     "text": [
      "220it [07:33,  1.68s/it]"
     ]
    },
    {
     "name": "stdout",
     "output_type": "stream",
     "text": [
      "XX BAD XX ('Рильського', 'PROPN', 'Рильської', 'ADJ')\n",
      "Тому спроба Рильського перекладати Міцкевича є подвигом ( при тому , що за саму польську барокову метафізичну поезію ніхто з українських перекладачів наразі не брався ) .\n",
      "Тому спроба Рильської перекладати Міцкевич є подвигом ( при тому , що за саму польську барокову метафізичну поезію ніхто з українських перекладачок наразі не брався ) .\n"
     ]
    },
    {
     "name": "stderr",
     "output_type": "stream",
     "text": [
      "282it [09:12,  1.53s/it]"
     ]
    },
    {
     "name": "stdout",
     "output_type": "stream",
     "text": [
      "XX BAD XX (',', 'PUNCT', 'володіє', 'VERB')\n",
      "XX BAD XX ('згідно', 'ADV', '10', 'NUM')\n",
      "XX BAD XX ('з', 'ADP', ',', 'PUNCT')\n",
      "XX BAD XX ('останніми', 'ADJ', '22', 'NUM')\n",
      "XX BAD XX ('SMIDA', 'X', 'акцій', 'NOUN')\n",
      "XX BAD XX (',', 'PUNCT', 'ПрАТ', 'NOUN')\n",
      "XX BAD XX ('володіє', 'VERB', '«', 'PUNCT')\n",
      "XX BAD XX ('10', 'NUM', 'Бердянський', 'ADJ')\n",
      "XX BAD XX (',', 'PUNCT', 'райагропромпостач', 'NOUN')\n",
      "XX BAD XX ('22', 'NUM', '»', 'PUNCT')\n",
      "XX BAD XX ('%', 'NOUN', ',', 'PUNCT')\n",
      "XX BAD XX ('«', 'PUNCT', 'якого', 'DET')\n",
      "XX BAD XX ('Бердянський', 'ADJ', 'Олександр', 'PROPN')\n",
      "XX BAD XX ('райагропромпостач', 'NOUN', 'Пономарьов', 'PROPN')\n",
      "XX BAD XX ('»', 'PUNCT', 'був', 'AUX')\n",
      "XX BAD XX (',', 'PUNCT', 'до', 'ADP')\n",
      "XX BAD XX ('головою', 'NOUN', 'свого', 'DET')\n",
      "XX BAD XX ('якого', 'DET', 'народною', 'ADJ')\n",
      "XX BAD XX ('Олександр', 'PROPN', 'депутаткою', 'NOUN')\n",
      "XX BAD XX ('Пономарьов', 'PROPN', '.', 'PUNCT')\n",
      "Олена Добича, згідно з останніми даними SMIDA, володіє 10,22% акцій ПрАТ «Бердянський райагропромпостач», головою правління якого Олександр Пономарьов був до свого обрання народним депутатом.\n",
      "Олега Добич володіє 10,22% акцій ПрАТ «Бердянський райагропромпостач», головою правління якого Олександр Пономарьов був до свого обрання народною депутаткою.\n"
     ]
    },
    {
     "name": "stderr",
     "output_type": "stream",
     "text": [
      "285it [09:18,  1.91s/it]"
     ]
    },
    {
     "name": "stdout",
     "output_type": "stream",
     "text": [
      "XX BAD XX ('Слідчий', 'NOUN', 'Слідча', 'ADJ')\n",
      "Слідчий повідомив, що до прокуратури звернувся з заявою голова Громадської ради при виконавчому комітеті Лиманської міськради.\n",
      "Слідча повідомила, що до прокуратури звернулася з заявою голова Громадської ради при виконавчому комітеті Лиманської міськради.\n"
     ]
    },
    {
     "name": "stderr",
     "output_type": "stream",
     "text": [
      "287it [09:23,  1.93s/it]"
     ]
    },
    {
     "name": "stdout",
     "output_type": "stream",
     "text": [
      "XX BAD XX ('слідчий', 'NOUN', 'слідча', 'ADJ')\n",
      "В суді слідчий клопотав накласти арешт на вилучені документи і суд це клопотання задовольнив.\n",
      "В суді слідча клопотала накласти арешт на вилучені документи і суд це клопотання задовольнив.\n"
     ]
    },
    {
     "name": "stderr",
     "output_type": "stream",
     "text": [
      "327it [10:24,  1.26s/it]"
     ]
    },
    {
     "name": "stdout",
     "output_type": "stream",
     "text": [
      "XX BAD XX ('АІС', 'NOUN', 'АІС-', 'PROPN')\n",
      "XX BAD XX ('-', 'PUNCT', 'Полтава', 'PROPN')\n",
      "XX BAD XX ('Полтава', 'PROPN', '»', 'PUNCT')\n",
      "XX BAD XX ('»', 'PUNCT', 'значиться', 'VERB')\n",
      "XX BAD XX ('значиться', 'VERB', 'Валентина', 'PROPN')\n",
      "XX BAD XX ('Вашак', 'PROPN', '.', 'PUNCT')\n",
      "Директором «АІС-Полтава» значиться Вадим Вашак.\n",
      "Директоркою «АІС-Полтава» значиться Валентина Вашак.\n"
     ]
    },
    {
     "name": "stderr",
     "output_type": "stream",
     "text": [
      "374it [11:31,  1.64s/it]"
     ]
    },
    {
     "name": "stdout",
     "output_type": "stream",
     "text": [
      "XX BAD XX (',', 'PUNCT', 'є', 'AUX')\n",
      "XX BAD XX ('є', 'VERB', 'Назарія', 'PROPN')\n",
      "XX BAD XX ('Гончаренко', 'PROPN', '-', 'PUNCT')\n",
      "XX BAD XX ('-', 'PUNCT', 'бухгалтерка', 'NOUN')\n",
      "XX BAD XX ('бухгалтер', 'NOUN', 'у', 'ADP')\n",
      "XX BAD XX ('у', 'ADP', 'ТОВ', 'NOUN')\n",
      "XX BAD XX ('ТОВ', 'NOUN', '«', 'PUNCT')\n",
      "XX BAD XX ('«', 'PUNCT', 'Річ', 'NOUN')\n",
      "XX BAD XX ('Річ', 'NOUN', '-', 'PUNCT')\n",
      "XX BAD XX ('-', 'PUNCT', 'М', 'PROPN')\n",
      "XX BAD XX ('М', 'PROPN', '»', 'PUNCT')\n",
      "XX BAD XX (',', 'PUNCT', 'яке', 'DET')\n",
      "XX BAD XX ('яке', 'DET', 'належить', 'VERB')\n",
      "XX BAD XX ('належить', 'VERB', 'головному', 'ADJ')\n",
      "XX BAD XX ('головному', 'ADJ', 'інженерці', 'NOUN')\n",
      "XX BAD XX ('інженеру', 'NOUN', '«', 'PUNCT')\n",
      "XX BAD XX ('«', 'PUNCT', 'Київпастрансу', 'PROPN')\n",
      "XX BAD XX ('Київпастрансу', 'PROPN', '»', 'PUNCT')\n",
      "XX BAD XX ('»', 'PUNCT', 'Юрії', 'PROPN')\n",
      "XX BAD XX ('Бомбандьорову', 'PROPN', '.', 'PUNCT')\n",
      "Одним із найбільших акціонерів КЗЕТ, є Надія Гончаренко -бухгалтер у ТОВ «Річ-М», яке належить головному інженеру «Київпастрансу» Юрію Бомбандьорову.\n",
      "Однією із найбільших акціонерок КЗЕТ є Назарія Гончаренко - бухгалтерка у ТОВ «Річ-М», яке належить головному інженерці «Київпастрансу» Юрії Бомбандьоровій.\n"
     ]
    },
    {
     "name": "stderr",
     "output_type": "stream",
     "text": [
      "432it [13:12,  1.39s/it]"
     ]
    },
    {
     "name": "stdout",
     "output_type": "stream",
     "text": [
      "XX BAD XX ('уповноважена', 'ADJ', 'уповноважений', 'NOUN')\n",
      "Про це повідомила державна уповноважена АМКУ Світлана Панаіотіді.\n",
      "Про це повідомив державний уповноважений АМКУ Сергій Панаіотіді.\n"
     ]
    },
    {
     "name": "stderr",
     "output_type": "stream",
     "text": [
      "438it [13:22,  1.72s/it]"
     ]
    },
    {
     "name": "stdout",
     "output_type": "stream",
     "text": [
      "XX BAD XX (\"прем'єр\", 'ADJ', \"прем'єрка\", 'NOUN')\n",
      "Вдячність свідомим громадянам, що досконально вивчають портал держзакупівель і оприлюднюють підозрілу інформацію, висловив віце-прем'єр – міністр фінансів РФ Олексій Кудрін.\n",
      "Вдячність свідомим громадянам, що досконально вивчають портал держзакупівель і оприлюднюють підозрілу інформацію, висловила віце-прем'єрка – міністерка фінансів РФ Олександра Кудріна.\n"
     ]
    },
    {
     "name": "stderr",
     "output_type": "stream",
     "text": [
      "461it [13:57,  1.73s/it]"
     ]
    },
    {
     "name": "stdout",
     "output_type": "stream",
     "text": [
      "XX BAD XX ('Плюс', 'PROPN', '-', 'PUNCT')\n",
      "XX BAD XX ('»', 'PUNCT', 'Плюс', 'PROPN')\n",
      "XX BAD XX ('перебуває', 'VERB', '»', 'PUNCT')\n",
      "XX BAD XX ('у', 'ADP', 'перебуває', 'VERB')\n",
      "XX BAD XX ('дружніх', 'ADJ', 'у', 'ADP')\n",
      "XX BAD XX ('відносинах', 'NOUN', 'дружніх', 'ADJ')\n",
      "XX BAD XX ('з', 'ADP', 'відносинах', 'NOUN')\n",
      "XX BAD XX ('депутатом', 'NOUN', 'з', 'ADP')\n",
      "XX BAD XX ('Черкаської', 'ADJ', 'депутаткою', 'NOUN')\n",
      "XX BAD XX ('міськради', 'NOUN', 'Черкаської', 'ADJ')\n",
      "XX BAD XX ('від', 'ADP', 'міськради', 'NOUN')\n",
      "XX BAD XX ('«', 'PUNCT', 'від', 'ADP')\n",
      "XX BAD XX ('Батьківщини', 'NOUN', '«', 'PUNCT')\n",
      "XX BAD XX ('»', 'PUNCT', 'Батьківщини', 'NOUN')\n",
      "XX BAD XX ('Юрієм', 'PROPN', '»', 'PUNCT')\n",
      "XX BAD XX (',', 'PUNCT', 'Тренкіною', 'PROPN')\n",
      "XX BAD XX ('родині', 'NOUN', ',', 'PUNCT')\n",
      "XX BAD XX ('якого', 'DET', 'родині', 'NOUN')\n",
      "XX BAD XX ('належить', 'VERB', 'якої', 'DET')\n",
      "XX BAD XX ('ТОВ', 'NOUN', 'належить', 'VERB')\n",
      "XX BAD XX ('«', 'PUNCT', 'ТОВ', 'NOUN')\n",
      "XX BAD XX ('Хлібний', 'ADJ', '«', 'PUNCT')\n",
      "XX BAD XX ('Дім', 'NOUN', 'Хлібний', 'ADJ')\n",
      "XX BAD XX ('–', 'PUNCT', 'Дім', 'NOUN')\n",
      "XX BAD XX ('Україна', 'PROPN', '–', 'PUNCT')\n",
      "XX BAD XX ('»', 'PUNCT', 'Україна', 'PROPN')\n",
      "За даними черкаської поліції, керівництво «Каштан- Плюс» перебуває у дружніх відносинах з депутатом Черкаської міськради від «Батьківщини» Юрієм Тренкіним, родині якого належить ТОВ «Хлібний Дім – Україна».\n",
      "За даними черкаської поліції, керівництво «Каштан- Плюс» перебуває у дружніх відносинах з депутаткою Черкаської міськради від «Батьківщини» Юлією Тренкіною, родині якої належить ТОВ «Хлібний Дім – Україна».\n"
     ]
    },
    {
     "name": "stderr",
     "output_type": "stream",
     "text": [
      "467it [14:06,  1.19s/it]"
     ]
    },
    {
     "name": "stdout",
     "output_type": "stream",
     "text": [
      "XX BAD XX ('цьому', 'PRON', 'цій', 'DET')\n",
      "Завдяки цьому екс-міністр може убезпечити своє майно від арешту.\n",
      "Завдяки цій екс-міністрці може убезпечити своє майно від арешту.\n"
     ]
    },
    {
     "name": "stderr",
     "output_type": "stream",
     "text": [
      "484it [14:29,  1.25s/it]"
     ]
    },
    {
     "name": "stdout",
     "output_type": "stream",
     "text": [
      "XX BAD XX ('фірму', 'NOUN', 'а', 'CCONJ')\n",
      "XX BAD XX ('контролювало', 'VERB', 'фірму', 'NOUN')\n",
      "XX BAD XX ('бізнес', 'NOUN', 'контролювало', 'VERB')\n",
      "XX BAD XX ('-', 'PUNCT', 'бізнес', 'NOUN')\n",
      "XX BAD XX ('середовище', 'NOUN', '-', 'PUNCT')\n",
      "XX BAD XX ('Миколи', 'PROPN', 'екс-міністринь', 'NOUN')\n",
      "XX BAD XX (',', 'PUNCT', 'Присяжнюк', 'PROPN')\n",
      "XX BAD XX ('Едуарда', 'PROPN', ',', 'PUNCT')\n",
      "XX BAD XX ('і', 'CCONJ', 'Ставицької', 'PROPN')\n",
      "XX BAD XX ('колишнього', 'ADJ', 'і', 'CCONJ')\n",
      "XX BAD XX ('депутата', 'NOUN', 'народної', 'ADJ')\n",
      "XX BAD XX ('Юрія', 'PROPN', 'депутатки', 'NOUN')\n",
      "XX BAD XX ('.', 'PUNCT', 'Іванющенко', 'PROPN')\n",
      "За часів Януковича фірму контролювало бізнес-середовище екс-міністрів Миколи Присяжнюка, Едуарда Ставицького і колишнього народного депутата Юрія Іванющенка.\n",
      "За часів Янукович а фірму контролювало бізнес-середовище екс-міністринь Олени Присяжнюк, Еліни Ставицької і колишньої народної депутатки Юлії Іванющенко.\n"
     ]
    },
    {
     "name": "stderr",
     "output_type": "stream",
     "text": [
      "488it [14:35,  1.50s/it]"
     ]
    },
    {
     "name": "stdout",
     "output_type": "stream",
     "text": [
      "XX BAD XX ('призначено', 'VERB', 'призначеною', 'ADJ')\n",
      "Євгена Дихне було призначено в. о. гендиректора держкомпанії «Міжнародний аеропорт «Бориспіль» у вересні 2014.\n",
      "Євгенія Дихна було призначеною в. о. гендиректорки держкомпанії «Міжнародний аеропорт «Бориспіль» у вересні 2014.\n"
     ]
    },
    {
     "name": "stderr",
     "output_type": "stream",
     "text": [
      "502it [14:55,  2.17s/it]"
     ]
    },
    {
     "name": "stdout",
     "output_type": "stream",
     "text": [
      "XX BAD XX ('який', 'DET', ',', 'PUNCT')\n",
      "XX BAD XX ('володіє', 'VERB', 'яка', 'DET')\n",
      "XX BAD XX ('100', 'NUM', 'володіє', 'VERB')\n",
      "XX BAD XX ('%', 'NOUN', '100', 'NUM')\n",
      "XX BAD XX ('статутного', 'ADJ', '%', 'NOUN')\n",
      "XX BAD XX ('капіталу', 'NOUN', 'статутного', 'ADJ')\n",
      "XX BAD XX ('є', 'AUX', 'капіталу', 'NOUN')\n",
      "XX BAD XX ('громадянин', 'NOUN', ',', 'PUNCT')\n",
      "XX BAD XX ('України', 'PROPN', 'є', 'AUX')\n",
      "XX BAD XX ('Ткачук', 'PROPN', 'громадянка', 'NOUN')\n",
      "XX BAD XX (',', 'PUNCT', 'Ірина', 'PROPN')\n",
      "XX BAD XX ('який', 'DET', 'Борисівна', 'PROPN')\n",
      "XX BAD XX ('також', 'ADV', ',', 'PUNCT')\n",
      "XX BAD XX ('є', 'AUX', 'яка', 'DET')\n",
      "XX BAD XX ('одним', 'DET', 'також', 'ADV')\n",
      "XX BAD XX ('з', 'ADP', 'є', 'AUX')\n",
      "XX BAD XX ('засновників', 'NOUN', 'одною', 'DET')\n",
      "XX BAD XX ('ТОВ', 'NOUN', 'з', 'ADP')\n",
      "XX BAD XX ('«', 'PUNCT', 'засновниць', 'NOUN')\n",
      "XX BAD XX ('Авіаресурс', 'PROPN', 'ТОВ', 'NOUN')\n",
      "XX BAD XX (',', 'PUNCT', 'Авіаресурс', 'PROPN')\n",
      "XX BAD XX ('та', 'CCONJ', '»', 'PUNCT')\n",
      "XX BAD XX ('володіє', 'VERB', ',', 'PUNCT')\n",
      "XX BAD XX ('50', 'NUM', 'та', 'CCONJ')\n",
      "XX BAD XX ('%', 'NOUN', 'володіє', 'VERB')\n",
      "XX BAD XX ('статутного', 'ADJ', '50', 'NUM')\n",
      "XX BAD XX ('…', 'PUNCT', '%', 'NOUN')\n",
      "XX BAD XX (',', 'PUNCT', 'статутного', 'ADJ')\n",
      "XX BAD XX ('тобто', 'SCONJ', '…', 'PUNCT')\n",
      "XX BAD XX ('є', 'AUX', ',', 'PUNCT')\n",
      "XX BAD XX (\"пов'язаною\", 'ADJ', 'тобто', 'SCONJ')\n",
      "XX BAD XX ('особою', 'NOUN', 'є', 'AUX')\n",
      "XX BAD XX ('між', 'ADP', \"пов'язаною\", 'ADJ')\n",
      "XX BAD XX ('«', 'PUNCT', 'між', 'ADP')\n",
      "XX BAD XX ('та', 'CCONJ', 'авіаресурс', 'NOUN')\n",
      "XX BAD XX ('ТОВ', 'NOUN', '»', 'PUNCT')\n",
      "XX BAD XX ('«', 'PUNCT', 'та', 'CCONJ')\n",
      "XX BAD XX ('Український', 'ADJ', 'ТОВ', 'NOUN')\n",
      "XX BAD XX ('Авіаційний', 'ADJ', '«', 'PUNCT')\n",
      "XX BAD XX ('Сервіс', 'NOUN', 'Український', 'ADJ')\n",
      "XX BAD XX ('»', 'PUNCT', 'Авіаційний', 'ADJ')\n",
      "XX BAD XX (',', 'PUNCT', 'Сервіс', 'NOUN')\n",
      "XX BAD XX ('констатував', 'VERB', ',', 'PUNCT')\n",
      "XX BAD XX ('тендерний', 'ADJ', '–', 'PUNCT')\n",
      "XX BAD XX ('комітет', 'NOUN', 'констатував', 'VERB')\n",
      "XX BAD XX ('.', 'PUNCT', 'міліцейської', 'ADJ')\n",
      "Уважно вивчивши надані документи …, засновником ТОВ «Український Авіаційний Сервіс» який володіє 100% статутного капіталу є громадянин України Ткачук Ігор Борисовичі, який також є одним з засновників ТОВ «Авіаресурс», та володіє 50% статутного …, тобто є пов'язаною особою між ТОВ «авіаресурс» та ТОВ «Український Авіаційний Сервіс», – констатував тендерний комітет міліцейської частини.\n",
      "Уважно вивчивши надані документи …, засновницею ТОВ «Український Авіаційний Сервіс», яка володіє 100% статутного капіталу, є громадянка України Ткачук Ірина Борисівна, яка також є одною з засновниць ТОВ «Авіаресурс», та володіє 50% статутного …, тобто є пов'язаною особою між ТОВ «авіаресурс» та ТОВ «Український Авіаційний Сервіс», – констатував тендерний комітет міліцейської частини.\n"
     ]
    },
    {
     "name": "stderr",
     "output_type": "stream",
     "text": [
      "513it [15:13,  1.88s/it]"
     ]
    },
    {
     "name": "stdout",
     "output_type": "stream",
     "text": [
      "XX BAD XX ('слідчий', 'NOUN', 'слідча', 'ADJ')\n",
      "XX BAD XX ('наклала', 'VERB', 'суддя', 'NOUN')\n",
      "XX BAD XX ('слідчий', 'ADJ', 'Наталій', 'PROPN')\n",
      "XX BAD XX ('суддя', 'NOUN', 'Зубачик', 'PROPN')\n",
      "XX BAD XX ('Наталія', 'PROPN', '.', 'PUNCT')\n",
      "Нагадаємо, 19 серпня арешт на вказані кошти слідчий наклала слідчий суддя Наталія Зубачик.\n",
      "Нагадаємо, 19 серпня арешт на вказані кошти слідча суддя Наталій Зубачик.\n"
     ]
    },
    {
     "name": "stderr",
     "output_type": "stream",
     "text": [
      "539it [15:53,  1.77s/it]\n"
     ]
    }
   ],
   "source": [
    "compare_pos_tags(for_pos_check_gender_swapped_df)"
   ]
  },
  {
   "cell_type": "code",
   "execution_count": 91,
   "metadata": {},
   "outputs": [],
   "source": [
    "import os\n",
    "import numpy as np\n",
    "import spacy\n",
    "import tqdm\n",
    "from langchain_text_splitters import RecursiveCharacterTextSplitter"
   ]
  },
  {
   "cell_type": "code",
   "execution_count": 92,
   "metadata": {},
   "outputs": [
    {
     "name": "stderr",
     "output_type": "stream",
     "text": [
      "/Users/linndfors/study/diploma/new_venv/lib/python3.10/site-packages/transformers/utils/generic.py:309: UserWarning: torch.utils._pytree._register_pytree_node is deprecated. Please use torch.utils._pytree.register_pytree_node instead.\n",
      "  _torch_pytree._register_pytree_node(\n",
      "/Users/linndfors/study/diploma/new_venv/lib/python3.10/site-packages/spacy_transformers/layers/hf_shim.py:137: UserWarning: Error loading saved torch state_dict with strict=True, likely due to differences between 'transformers' versions. Attempting to load with strict=False as a fallback...\n",
      "\n",
      "If you see errors or degraded performance, download a newer compatible model or retrain your custom model with the current 'transformers' and 'spacy-transformers' versions. For more details and available updates, run: python -m spacy validate\n",
      "  warnings.warn(warn_msg)\n"
     ]
    }
   ],
   "source": [
    "ner_nlp = spacy.load(\"uk_ner_web_trf_13class\")"
   ]
  },
  {
   "cell_type": "code",
   "execution_count": null,
   "metadata": {},
   "outputs": [],
   "source": [
    "import json\n",
    "\n",
    "with open (\"../fem_dictionary.json\") as js:\n",
    "    musc_dict = json.load(js)\n",
    "\n",
    "fem_dict = dict(reversed(list(musc_dict.items())))"
   ]
  },
  {
   "cell_type": "code",
   "execution_count": 129,
   "metadata": {},
   "outputs": [
    {
     "data": {
      "text/plain": [
       "12"
      ]
     },
     "execution_count": 129,
     "metadata": {},
     "output_type": "execute_result"
    }
   ],
   "source": [
    "len(ner_results_swapped)"
   ]
  },
  {
   "cell_type": "code",
   "execution_count": 130,
   "metadata": {},
   "outputs": [
    {
     "data": {
      "text/plain": [
       "spacy.tokens.doc.Doc"
      ]
     },
     "execution_count": 130,
     "metadata": {},
     "output_type": "execute_result"
    }
   ],
   "source": [
    "type(ner_results_swapped)"
   ]
  },
  {
   "cell_type": "code",
   "execution_count": null,
   "metadata": {},
   "outputs": [
    {
     "name": "stdout",
     "output_type": "stream",
     "text": [
      "good example from dict: депутат - депутатка\n",
      "\n",
      "good example from dict: президент - президентка\n",
      "\n",
      "X this pair not from the dict: комунальник - комунальниця\n",
      "\n",
      "X this pair not from the dict: судді - судді\n",
      "\n",
      "X this pair not from the dict: судді - судді\n",
      "\n",
      "X this pair not from the dict: судді - судді\n",
      "\n",
      "X this pair not from the dict: суддя - суддя\n",
      "\n",
      "X this pair not from the dict: суддя - суддя\n",
      "\n",
      "X this pair not from the dict: суддя - суддя\n",
      "\n",
      "X this pair not from the dict: суддя - суддя\n",
      "\n",
      "X this pair not from the dict: суддя - суддя\n",
      "\n",
      "X this pair not from the dict: судді - судді\n",
      "\n",
      "X this pair not from the dict: судді - судді\n",
      "\n",
      "X this pair not from the dict: суддя - суддя\n",
      "\n",
      "X this pair not from the dict: суддя - суддя\n",
      "\n",
      "X this pair not from the dict: суддя - суддя\n",
      "\n",
      "X this pair not from the dict: суддя - суддя\n",
      "\n",
      "X this pair not from the dict: судді - судді\n",
      "\n",
      "good example from dict: директор - директорка\n",
      "\n",
      "good example from dict: чиновник - чиновниця\n",
      "\n",
      "good example from dict: депутат - депутатка\n",
      "\n",
      "X this pair not from the dict: екс - екс\n",
      "\n",
      "X this pair not from the dict: - - -\n",
      "\n",
      "good example from dict: міністр - міністерка\n",
      "\n",
      "relevant feminitive to the депутат would be депутатка, but it is депутаток\n",
      "\n",
      "relevant feminitive to the підприємець would be підприємиця, but it is підприємниця\n",
      "\n",
      "relevant feminitive to the лікар would be лікарка, but it is лікар\n",
      "\n",
      "relevant feminitive to the підприємець would be підприємиця, but it is підприємниця\n",
      "\n",
      "relevant feminitive to the підприємець would be підприємиця, but it is підприємець\n",
      "\n",
      "good example from dict: журналіст - журналістка\n",
      "\n",
      "good example from dict: експерт - експертка\n",
      "\n",
      "relevant feminitive to the підприємець would be підприємиця, but it is підприємниця\n",
      "\n",
      "good example from dict: президент - президентка\n",
      "\n",
      "good example from dict: губернатор - губернаторка\n",
      "\n",
      "good example from dict: засновник - засновниця\n",
      "\n",
      "good example from dict: директор - директорка\n",
      "\n",
      "good example from dict: засновник - засновниця\n",
      "\n",
      "good example from dict: директор - директорка\n",
      "\n",
      "X this pair not from the dict: голова - голова\n",
      "\n",
      "relevant feminitive to the депутат would be депутатка, but it is депутат\n",
      "\n",
      "good example from dict: засновник - засновниця\n",
      "\n",
      "X this pair not from the dict: голова - голова\n",
      "\n",
      "relevant feminitive to the слідчий would be слідча, but it is слідчий\n",
      "\n",
      "X this pair not from the dict: голова - голова\n",
      "\n",
      "relevant feminitive to the слідчий would be слідча, but it is слідчий\n",
      "\n",
      "good example from dict: засновник - засновниця\n",
      "\n",
      "good example from dict: прокурор - прокурорка\n",
      "\n",
      "good example from dict: юрист - юристка\n",
      "\n",
      "X this pair not from the dict: екснардеп - екснардепець\n",
      "\n",
      "good example from dict: керівник - керівниця\n",
      "\n",
      "good example from dict: керівник - керівниця\n",
      "\n",
      "good example from dict: засновник - засновниця\n",
      "\n",
      "X this pair not from the dict: екс - екс\n",
      "\n",
      "X this pair not from the dict: - - -\n",
      "\n",
      "good example from dict: помічник - помічниця\n",
      "\n",
      "X this pair not from the dict: екснардепа - екснардепа\n",
      "\n",
      "X this pair not from the dict: віце - віце\n",
      "\n",
      "X this pair not from the dict: - - -\n",
      "\n",
      "good example from dict: президент - президентка\n",
      "\n",
      "good example from dict: депутат - депутатка\n",
      "\n",
      "good example from dict: депутат - депутатка\n",
      "\n",
      "relevant feminitive to the депутат would be депутатка, but it is депутаток\n",
      "\n",
      "good example from dict: президент - президентка\n",
      "\n",
      "good example from dict: директор - директорка\n",
      "\n",
      "relevant feminitive to the бізнесмен would be бізнесвумен, but it is бізнесменка\n",
      "\n",
      "X this pair not from the dict: нардеп - нардепка\n",
      "\n",
      "good example from dict: керівник - керівниця\n",
      "\n",
      "relevant feminitive to the слідчий would be слідча, but it is слідчий\n",
      "\n",
      "good example from dict: засновник - засновниця\n",
      "\n",
      "good example from dict: керівник - керівниця\n",
      "\n",
      "good example from dict: директор - директорка\n",
      "\n",
      "good example from dict: засновник - засновниця\n",
      "\n",
      "good example from dict: засновник - засновниця\n",
      "\n",
      "good example from dict: директор - директорка\n",
      "\n",
      "good example from dict: журналіст - журналістка\n",
      "\n",
      "X this pair not from the dict: голова - голова\n",
      "\n",
      "X this pair not from the dict: заступниця - заступник\n",
      "\n",
      "X this pair not from the dict: держуповноважен - держуповноважений\n",
      "\n",
      "X this pair not from the dict: нардеп - нардепка\n",
      "\n",
      "X this pair not from the dict: екс - екс\n",
      "\n",
      "X this pair not from the dict: - - -\n",
      "\n",
      "X this pair not from the dict: нардеп - нардепка\n",
      "\n",
      "good example from dict: менеджер - менеджерка\n",
      "\n",
      "good example from dict: прокурор - прокурорка\n",
      "\n",
      "good example from dict: прокурор - прокурорка\n",
      "\n",
      "X this pair not from the dict: екс - екс\n",
      "\n",
      "X this pair not from the dict: - - -\n",
      "\n",
      "X this pair not from the dict: нардеп - нардепка\n",
      "\n",
      "relevant feminitive to the керівник would be керівниця, but it is керівник\n",
      "\n",
      "good example from dict: керівник - керівниця\n",
      "\n",
      "X this pair not from the dict: екс - екс\n",
      "\n",
      "X this pair not from the dict: - - -\n",
      "\n",
      "X this pair not from the dict: голова - голова\n",
      "\n",
      "good example from dict: співзасновник - співзасновниця\n",
      "\n",
      "X this pair not from the dict: гендиректор - гендиректорка\n",
      "\n",
      "X this pair not from the dict: нардеп - нардепка\n",
      "\n",
      "X this pair not from the dict: екс - екс\n",
      "\n",
      "X this pair not from the dict: - - -\n",
      "\n",
      "good example from dict: депутат - депутатка\n",
      "\n",
      "X this pair not from the dict: - - -\n",
      "\n",
      "good example from dict: засновник - засновниця\n",
      "\n",
      "X this pair not from the dict: екс - екс\n",
      "\n",
      "X this pair not from the dict: - - -\n",
      "\n",
      "X this pair not from the dict: генпрокурор - генпрокурорка\n",
      "\n",
      "relevant feminitive to the депутат would be депутатка, but it is депутаток\n",
      "\n",
      "good example from dict: юрист - юристка\n",
      "\n",
      "X this pair not from the dict: мера - мерка\n",
      "\n",
      "good example from dict: забудовник - забудовниця\n",
      "\n",
      "relevant feminitive to the депутат would be депутатка, but it is депутаток\n",
      "\n",
      "good example from dict: керівник - керівниця\n",
      "\n",
      "X this pair not from the dict: детектив - детективка\n",
      "\n",
      "relevant feminitive to the депутат would be депутатка, but it is депутаток\n",
      "\n",
      "X this pair not from the dict: екс - екс\n",
      "\n",
      "X this pair not from the dict: - - -\n",
      "\n",
      "X this pair not from the dict: нардеп - нардепка\n",
      "\n",
      "good example from dict: засновник - засновниця\n",
      "\n",
      "good example from dict: прикордонник - прикордонниця\n",
      "\n",
      "good example from dict: експерт - експертка\n",
      "\n",
      "X this pair not from the dict: залізничник - залізничниця\n",
      "\n",
      "X this pair not from the dict: суддя - суддя\n",
      "\n",
      "relevant feminitive to the слідчий would be слідча, but it is слідчий\n",
      "\n",
      "relevant feminitive to the слідчий would be слідча, but it is слідчий\n",
      "\n",
      "X this pair not from the dict: екс - екс\n",
      "\n",
      "X this pair not from the dict: - - -\n",
      "\n",
      "relevant feminitive to the міністр would be міністерка, but it is міністр\n",
      "\n",
      "good example from dict: журналіст - журналістка\n",
      "\n",
      "good example from dict: директор - директорка\n",
      "\n",
      "X this pair not from the dict: - бухгалтер - бухгалтерка\n",
      "\n",
      "good example from dict: очільник - очільниця\n",
      "\n",
      "good example from dict: керівник - керівниця\n",
      "\n",
      "good example from dict: правоохоронець - правоохоронниця\n",
      "\n",
      "X this pair not from the dict: ексочільник - ексочільниця\n",
      "\n",
      "good example from dict: засновник - засновниця\n",
      "\n",
      "relevant feminitive to the засновник would be засновниця, but it is засновник\n",
      "\n",
      "X this pair not from the dict: антимонопольник - антимонопольниця\n",
      "\n",
      "X this pair not from the dict: антимонопольник - антимонопольниця\n",
      "\n",
      "good example from dict: депутат - депутатка\n",
      "\n",
      "good example from dict: засновник - засновниця\n",
      "\n",
      "good example from dict: засновник - засновниця\n",
      "\n",
      "good example from dict: прокурор - прокурорка\n",
      "\n",
      "good example from dict: прокурор - прокурорка\n",
      "\n",
      "relevant feminitive to the засновник would be засновниця, but it is засновник\n",
      "\n",
      "relevant feminitive to the слідчий would be слідча, but it is слідчий\n",
      "\n",
      "relevant feminitive to the слідчий would be слідча, but it is слідчий\n",
      "\n",
      "X this pair not from the dict: суддя - суддя\n",
      "\n",
      "relevant feminitive to the слідчий would be слідча, but it is слідчий\n",
      "\n",
      "relevant feminitive to the правоохоронець would be правоохоронниця, but it is правоохоронець\n",
      "\n",
      "relevant feminitive to the слідчий would be слідча, but it is слідчий\n",
      "\n",
      "good example from dict: директор - директорка\n",
      "\n",
      "good example from dict: депутат - депутатка\n",
      "\n",
      "good example from dict: засновник - засновниця\n",
      "\n",
      "good example from dict: засновник - засновниця\n",
      "\n",
      "good example from dict: директор - директорка\n",
      "\n",
      "good example from dict: засновник - засновниця\n",
      "\n",
      "good example from dict: директор - директорка\n",
      "\n",
      "good example from dict: директор - директорка\n",
      "\n",
      "X this pair not from the dict: детектив - детективка\n",
      "\n",
      "X this pair not from the dict: держвиконавець - держвиконавиця\n",
      "\n",
      "good example from dict: начальник - начальниця\n",
      "\n",
      "good example from dict: керівник - керівниця\n",
      "\n",
      "good example from dict: співзасновник - співзасновниця\n",
      "\n",
      "X this pair not from the dict: співзасновниця - співзасновник\n",
      "\n",
      "X this pair not from the dict: екс - екс\n",
      "\n",
      "X this pair not from the dict: - - -\n",
      "\n",
      "good example from dict: міністр - міністерка\n",
      "\n",
      "X this pair not from the dict: екс - екс\n",
      "\n",
      "X this pair not from the dict: - - -\n",
      "\n",
      "X this pair not from the dict: нардеп - нардеп\n",
      "\n",
      "X this pair not from the dict: порошенківець - порошенківка\n",
      "\n",
      "X this pair not from the dict: екс - екс\n",
      "\n",
      "X this pair not from the dict: - - -\n",
      "\n",
      "X this pair not from the dict: нардеп - нардепка\n",
      "\n",
      "relevant feminitive to the депутат would be депутатка, but it is депутаток\n",
      "\n",
      "relevant feminitive to the посол would be пані посол, амбасадорка, but it is посолка\n",
      "\n",
      "relevant feminitive to the посол would be пані посол, амбасадорка, but it is посол\n",
      "\n",
      "good example from dict: засновник - засновниця\n",
      "\n",
      "X this pair not from the dict: екс - екс\n",
      "\n",
      "X this pair not from the dict: - - -\n",
      "\n",
      "good example from dict: президент - президентка\n",
      "\n",
      "relevant feminitive to the ревізор would be ревізорка, but it is ревізорок\n",
      "\n",
      "good example from dict: аудитор - аудиторка\n",
      "\n",
      "X this pair not from the dict: дорожник - дорожниця\n",
      "\n",
      "good example from dict: депутат - депутатка\n",
      "\n",
      "good example from dict: підприємець - підприємиця\n",
      "\n",
      "good example from dict: начальник - начальниця\n",
      "\n",
      "X this pair not from the dict: голова - голова\n",
      "\n",
      "good example from dict: директор - директорка\n",
      "\n",
      "X this pair not from the dict: глава - глава\n",
      "\n",
      "X this pair not from the dict: блоггер - блогерка\n",
      "\n",
      "good example from dict: чиновник - чиновниця\n",
      "\n",
      "good example from dict: чиновник - чиновниця\n",
      "\n",
      "good example from dict: президент - президентка\n",
      "\n",
      "X this pair not from the dict: зернотрейдер - зернотрейдерка\n",
      "\n",
      "good example from dict: прокурор - прокурорка\n",
      "\n",
      "good example from dict: прокурор - прокурорка\n",
      "\n",
      "good example from dict: адвокат - адвокатка\n",
      "\n",
      "good example from dict: прокурор - прокурорка\n",
      "\n",
      "good example from dict: прокурор - прокурорка\n",
      "\n",
      "good example from dict: прокурор - прокурорка\n",
      "\n",
      "relevant feminitive to the прокурор would be прокурорка, but it is прокуророк\n",
      "\n",
      "good example from dict: директор - директорка\n",
      "\n",
      "good example from dict: депутат - депутатка\n",
      "\n",
      "good example from dict: директор - директорка\n",
      "\n",
      "X this pair not from the dict: засновниця - засновник\n",
      "\n",
      "good example from dict: керівник - керівниця\n",
      "\n",
      "good example from dict: засновник - засновниця\n",
      "\n",
      "relevant feminitive to the директор would be директорка, but it is директор\n",
      "\n",
      "good example from dict: засновник - засновниця\n",
      "\n",
      "good example from dict: директор - директорка\n",
      "\n",
      "X this pair not from the dict: екс - екс\n",
      "\n",
      "X this pair not from the dict: - - -\n",
      "\n",
      "relevant feminitive to the міністр would be міністерка, but it is міністр\n",
      "\n",
      "good example from dict: співзасновник - співзасновниця\n",
      "\n",
      "X this pair not from the dict: екс - екс\n",
      "\n",
      "X this pair not from the dict: - - -\n",
      "\n",
      "relevant feminitive to the міністр would be міністерка, but it is міністрка\n",
      "\n",
      "X this pair not from the dict: екс - екс\n",
      "\n",
      "X this pair not from the dict: - - -\n",
      "\n",
      "good example from dict: міністр - міністерка\n",
      "\n",
      "good example from dict: журналіст - журналістка\n",
      "\n",
      "good example from dict: юрист - юристка\n",
      "\n",
      "good example from dict: міністр - міністерка\n",
      "\n",
      "good example from dict: засновник - засновниця\n",
      "\n",
      "good example from dict: співзасновник - співзасновниця\n",
      "\n",
      "good example from dict: директор - директорка\n",
      "\n",
      "good example from dict: прем’єр - прем’єрка\n",
      "\n",
      "X this pair not from the dict: голова - голова\n",
      "\n",
      "good example from dict: керівник - керівниця\n",
      "\n",
      "good example from dict: директор - директорка\n",
      "\n",
      "X this pair not from the dict: екс - екс\n",
      "\n",
      "X this pair not from the dict: - - -\n",
      "\n",
      "relevant feminitive to the міністр would be міністерка, but it is міністрина\n",
      "\n",
      "X this pair not from the dict: екс - екс\n",
      "\n",
      "X this pair not from the dict: - - -\n",
      "\n",
      "good example from dict: чиновник - чиновниця\n",
      "\n",
      "good example from dict: керівник - керівниця\n",
      "\n",
      "relevant feminitive to the керівник would be керівниця, but it is керівник\n",
      "\n",
      "good example from dict: директор - директорка\n",
      "\n",
      "good example from dict: керівник - керівниця\n",
      "\n",
      "X this pair not from the dict: екс - екс\n",
      "\n",
      "X this pair not from the dict: - - -\n",
      "\n",
      "X this pair not from the dict: нардеп - нардепка\n",
      "\n",
      "good example from dict: директор - директорка\n",
      "\n",
      "good example from dict: правоохоронець - правоохоронниця\n",
      "\n",
      "good example from dict: засновник - засновниця\n",
      "\n",
      "good example from dict: засновник - засновниця\n",
      "\n",
      "X this pair not from the dict: екс - екс\n",
      "\n",
      "X this pair not from the dict: - - -\n",
      "\n",
      "good example from dict: депутат - депутатка\n",
      "\n",
      "X this pair not from the dict: нардеп - нардепка\n",
      "\n",
      "X this pair not from the dict: судді - судді\n",
      "\n",
      "X this pair not from the dict: суддя - суддя\n",
      "\n",
      "X this pair not from the dict: детектив - детективка\n",
      "\n",
      "X this pair not from the dict: детектив - детективка\n",
      "\n",
      "good example from dict: керівник - керівниця\n",
      "\n",
      "good example from dict: директор - директорка\n",
      "\n",
      "X this pair not from the dict: екс - - екс -\n",
      "\n",
      "relevant feminitive to the бізнесмен would be бізнесвумен, but it is бізнесменка\n",
      "\n",
      "X this pair not from the dict: віце - - віце -\n",
      "\n",
      "relevant feminitive to the прем’єр would be прем’єрка, but it is прем’єр\n",
      "\n",
      "X this pair not from the dict: охоронець - охоронниця\n",
      "\n",
      "X this pair not from the dict: охоронець - охоронець\n",
      "\n",
      "good example from dict: керівник - керівниця\n",
      "\n",
      "good example from dict: працівник - працівниця\n",
      "\n",
      "X this pair not from the dict: охоронець - охоронниця\n",
      "\n",
      "X this pair not from the dict: охоронець - охоронниця\n",
      "\n",
      "X this pair not from the dict: глава - глава\n",
      "\n",
      "good example from dict: президент - президентка\n",
      "\n",
      "good example from dict: директор - директорка\n",
      "\n",
      "good example from dict: засновник - засновниця\n",
      "\n",
      "good example from dict: співзасновник - співзасновниця\n",
      "\n",
      "good example from dict: директор - директорка\n",
      "\n",
      "relevant feminitive to the військовий would be військова, but it is військовий\n",
      "\n",
      "good example from dict: директор - директорка\n",
      "\n"
     ]
    }
   ],
   "source": [
    "dict_samples = 0\n",
    "not_dict_samples = 0\n",
    "total_samples = 0\n",
    "\n",
    "for x, row in gender_swapped_df.iterrows():\n",
    "    ner_results_orig = ner_nlp(row['original'])\n",
    "    ner_results_swapped = ner_nlp(row['swapped'])\n",
    "    if len(ner_results_orig.ents) == len(ner_results_swapped.ents):\n",
    "        for i, _ in enumerate(ner_results_orig.ents):\n",
    "            try:\n",
    "                if ner_results_orig.ents[i].label_ == \"JOB\" and ner_results_swapped.ents[i].label_ == \"JOB\":\n",
    "                    # print(\"lemma:\", ner_results_orig.ents[i].lemma_, \"\\n-------\")\n",
    "                    if \" \" not in ner_results_orig.ents[i].text:\n",
    "                        total_samples += 1\n",
    "                        orig_doc = uk_nlp(ner_results_orig.ents[i].text)\n",
    "                        swapped_doc = uk_nlp(ner_results_swapped.ents[i].text)\n",
    "                        \n",
    "                        orig_nominative = \" \".join([word.lemma for sent in orig_doc.sentences for word in sent.words])\n",
    "                        swapped_nominative = \" \".join([word.lemma for sent in swapped_doc.sentences for word in sent.words])\n",
    "                        \n",
    "                        # print(\"lemma:\", orig_nominative, \",\", swapped_nominative, \"\\n-------------\")\n",
    "                        if orig_nominative in musc_dict.keys():\n",
    "                            if swapped_nominative != musc_dict[orig_nominative]:\n",
    "                                print(f\"relevant feminitive to the {orig_nominative} would be {musc_dict[orig_nominative]}, but it is {swapped_nominative}\")\n",
    "                                not_dict_samples += 1\n",
    "                            else:\n",
    "                                print(f\"good example from dict: {orig_nominative} - {swapped_nominative}\")\n",
    "                                dict_samples += 1\n",
    "                        elif orig_nominative in fem_dict.keys():\n",
    "                            if swapped_nominative != fem_dict[orig_nominative]:\n",
    "                                print(f\"relevant feminitive to the {orig_nominative} would be {fem_dict[orig_nominative]}, but it is {swapped_nominative}\")\n",
    "                                not_dict_samples += 1\n",
    "                            else:\n",
    "                                print(f\"GOOD example from dict: {orig_nominative} - {swapped_nominative}\")\n",
    "                                dict_samples += 1\n",
    "                        else:\n",
    "                            print(f\"X this pair not from the dict: {orig_nominative} - {swapped_nominative}\")\n",
    "                            not_dict_samples += 1\n",
    "                        # print(ner_results_orig.ents[i].label_ , ner_results_orig.ents[i].text)\n",
    "                        # print(ner_results_swapped.ents[i].label_ , ner_results_swapped.ents[i].text)\n",
    "                        print()\n",
    "                    # job_entities_list.append(ent.text)\n",
    "        # return job_entities_list\n",
    "            except Exception as e:\n",
    "                print(e)\n",
    "                print()"
   ]
  },
  {
   "cell_type": "code",
   "execution_count": 134,
   "metadata": {},
   "outputs": [
    {
     "name": "stdout",
     "output_type": "stream",
     "text": [
      "all pairs of JOB entity: 274\n",
      "percentage of dict pairs = 45.25547445255474 %\n",
      "percentage of non dict pairs = 54.74452554744526 %\n"
     ]
    }
   ],
   "source": [
    "print(\"all pairs of JOB entity:\", total_samples)\n",
    "print(\"percentage of dict pairs =\", dict_samples/total_samples * 100, \"%\")\n",
    "print(\"percentage of non dict pairs =\", not_dict_samples/total_samples * 100, \"%\")"
   ]
  },
  {
   "cell_type": "markdown",
   "metadata": {},
   "source": [
    "## NER"
   ]
  },
  {
   "cell_type": "code",
   "execution_count": 19,
   "metadata": {},
   "outputs": [],
   "source": [
    "import spacy"
   ]
  },
  {
   "cell_type": "code",
   "execution_count": 20,
   "metadata": {},
   "outputs": [
    {
     "name": "stderr",
     "output_type": "stream",
     "text": [
      "/Users/linndfors/study/diploma/new_venv/lib/python3.10/site-packages/transformers/utils/generic.py:441: UserWarning: torch.utils._pytree._register_pytree_node is deprecated. Please use torch.utils._pytree.register_pytree_node instead.\n",
      "  _torch_pytree._register_pytree_node(\n",
      "/Users/linndfors/study/diploma/new_venv/lib/python3.10/site-packages/transformers/utils/generic.py:309: UserWarning: torch.utils._pytree._register_pytree_node is deprecated. Please use torch.utils._pytree.register_pytree_node instead.\n",
      "  _torch_pytree._register_pytree_node(\n",
      "/Users/linndfors/study/diploma/new_venv/lib/python3.10/site-packages/spacy_transformers/layers/hf_shim.py:137: UserWarning: Error loading saved torch state_dict with strict=True, likely due to differences between 'transformers' versions. Attempting to load with strict=False as a fallback...\n",
      "\n",
      "If you see errors or degraded performance, download a newer compatible model or retrain your custom model with the current 'transformers' and 'spacy-transformers' versions. For more details and available updates, run: python -m spacy validate\n",
      "  warnings.warn(warn_msg)\n"
     ]
    }
   ],
   "source": [
    "nlp = spacy.load(\"uk_ner_web_trf_13class\")"
   ]
  },
  {
   "cell_type": "markdown",
   "metadata": {},
   "source": [
    "TEST"
   ]
  },
  {
   "cell_type": "code",
   "execution_count": 33,
   "metadata": {},
   "outputs": [],
   "source": [
    "test_swapped = pd.read_csv(\"test_swapped.csv\")\n",
    "dev_swapped = pd.read_csv(\"/Users/linndfors/study/diploma/ner_for_fem/src/dev_swapped.csv\")"
   ]
  },
  {
   "cell_type": "code",
   "execution_count": 34,
   "metadata": {},
   "outputs": [],
   "source": [
    "swapped_df = pd.concat([dev_swapped, test_swapped])  # ignore_index=True - Reset index after concat"
   ]
  },
  {
   "cell_type": "code",
   "execution_count": 35,
   "metadata": {},
   "outputs": [
    {
     "data": {
      "text/html": [
       "<div>\n",
       "<style scoped>\n",
       "    .dataframe tbody tr th:only-of-type {\n",
       "        vertical-align: middle;\n",
       "    }\n",
       "\n",
       "    .dataframe tbody tr th {\n",
       "        vertical-align: top;\n",
       "    }\n",
       "\n",
       "    .dataframe thead th {\n",
       "        text-align: right;\n",
       "    }\n",
       "</style>\n",
       "<table border=\"1\" class=\"dataframe\">\n",
       "  <thead>\n",
       "    <tr style=\"text-align: right;\">\n",
       "      <th></th>\n",
       "      <th>Оригінальне речення</th>\n",
       "      <th>Змінене речення</th>\n",
       "      <th>Анотації</th>\n",
       "      <th>Коректність речення</th>\n",
       "      <th>Виправлене речення</th>\n",
       "      <th>Помічник/ця</th>\n",
       "    </tr>\n",
       "  </thead>\n",
       "  <tbody>\n",
       "    <tr>\n",
       "      <th>0</th>\n",
       "      <td>Виставу за п'єсою російського класика Льва Тол...</td>\n",
       "      <td>Виставу за п'єсою російського класика Льва Тол...</td>\n",
       "      <td>{'Льва Толстого': 'PERS', 'режисера': 'JOB', '...</td>\n",
       "      <td>Містить помилки</td>\n",
       "      <td>Виставу за п'єсою російської класикині Марії Т...</td>\n",
       "      <td>Оля Н</td>\n",
       "    </tr>\n",
       "    <tr>\n",
       "      <th>1</th>\n",
       "      <td>Віртуозні Лесь Задніпровський – князь Абрезков...</td>\n",
       "      <td>Віртуозні Ганна Задніпровська – княгиня Абрезк...</td>\n",
       "      <td>{'Лесь Задніпровський': 'PERS', 'князь': 'JOB'...</td>\n",
       "      <td>Містить помилки</td>\n",
       "      <td>Віртуозні Ганна Задніпровська – княгиня Абрезк...</td>\n",
       "      <td>NaN</td>\n",
       "    </tr>\n",
       "    <tr>\n",
       "      <th>2</th>\n",
       "      <td>Старша в Києві , одружена з військовим , чолов...</td>\n",
       "      <td>Старша в Києві , одружена з військовою , чолов...</td>\n",
       "      <td>{'військовим': 'JOB'}</td>\n",
       "      <td>Містить помилки</td>\n",
       "      <td>Старша в Києві , одружена з військовою , жінка...</td>\n",
       "      <td>NaN</td>\n",
       "    </tr>\n",
       "    <tr>\n",
       "      <th>3</th>\n",
       "      <td>Ні , не так - автор статті , позаштатний корес...</td>\n",
       "      <td>Ні , не так - авторка статті , позаштатна коре...</td>\n",
       "      <td>{'позаштатний кореспондент': 'JOB'}</td>\n",
       "      <td>Правильне</td>\n",
       "      <td>NaN</td>\n",
       "      <td>NaN</td>\n",
       "    </tr>\n",
       "    <tr>\n",
       "      <th>4</th>\n",
       "      <td>І лектори в сірих піджаках із червоними парткв...</td>\n",
       "      <td>І лектори в сірих піджаках із червоними парткв...</td>\n",
       "      <td>{'священиків': 'JOB'}</td>\n",
       "      <td>Правильне</td>\n",
       "      <td>NaN</td>\n",
       "      <td>NaN</td>\n",
       "    </tr>\n",
       "  </tbody>\n",
       "</table>\n",
       "</div>"
      ],
      "text/plain": [
       "                                 Оригінальне речення  \\\n",
       "0  Виставу за п'єсою російського класика Льва Тол...   \n",
       "1  Віртуозні Лесь Задніпровський – князь Абрезков...   \n",
       "2  Старша в Києві , одружена з військовим , чолов...   \n",
       "3  Ні , не так - автор статті , позаштатний корес...   \n",
       "4  І лектори в сірих піджаках із червоними парткв...   \n",
       "\n",
       "                                     Змінене речення  \\\n",
       "0  Виставу за п'єсою російського класика Льва Тол...   \n",
       "1  Віртуозні Ганна Задніпровська – княгиня Абрезк...   \n",
       "2  Старша в Києві , одружена з військовою , чолов...   \n",
       "3  Ні , не так - авторка статті , позаштатна коре...   \n",
       "4  І лектори в сірих піджаках із червоними парткв...   \n",
       "\n",
       "                                            Анотації Коректність речення  \\\n",
       "0  {'Льва Толстого': 'PERS', 'режисера': 'JOB', '...     Містить помилки   \n",
       "1  {'Лесь Задніпровський': 'PERS', 'князь': 'JOB'...     Містить помилки   \n",
       "2                              {'військовим': 'JOB'}     Містить помилки   \n",
       "3                {'позаштатний кореспондент': 'JOB'}           Правильне   \n",
       "4                              {'священиків': 'JOB'}           Правильне   \n",
       "\n",
       "                                  Виправлене речення Помічник/ця  \n",
       "0  Виставу за п'єсою російської класикині Марії Т...       Оля Н  \n",
       "1  Віртуозні Ганна Задніпровська – княгиня Абрезк...         NaN  \n",
       "2  Старша в Києві , одружена з військовою , жінка...         NaN  \n",
       "3                                                NaN         NaN  \n",
       "4                                                NaN         NaN  "
      ]
     },
     "execution_count": 35,
     "metadata": {},
     "output_type": "execute_result"
    }
   ],
   "source": [
    "swapped_df.head()"
   ]
  },
  {
   "cell_type": "code",
   "execution_count": 36,
   "metadata": {},
   "outputs": [],
   "source": [
    "swapped_df['gender-swapped'] = swapped_df.apply(lambda x: x['Виправлене речення'] if x['Виправлене речення'] and x['Коректність речення']=='Містить помилки' else x['Змінене речення'], axis=1)"
   ]
  },
  {
   "cell_type": "code",
   "execution_count": 37,
   "metadata": {},
   "outputs": [],
   "source": [
    "test_swapped_new = swapped_df.loc[test_swapped.index].copy()"
   ]
  },
  {
   "cell_type": "code",
   "execution_count": 38,
   "metadata": {},
   "outputs": [
    {
     "data": {
      "text/html": [
       "<div>\n",
       "<style scoped>\n",
       "    .dataframe tbody tr th:only-of-type {\n",
       "        vertical-align: middle;\n",
       "    }\n",
       "\n",
       "    .dataframe tbody tr th {\n",
       "        vertical-align: top;\n",
       "    }\n",
       "\n",
       "    .dataframe thead th {\n",
       "        text-align: right;\n",
       "    }\n",
       "</style>\n",
       "<table border=\"1\" class=\"dataframe\">\n",
       "  <thead>\n",
       "    <tr style=\"text-align: right;\">\n",
       "      <th></th>\n",
       "      <th>Оригінальне речення</th>\n",
       "      <th>Змінене речення</th>\n",
       "      <th>Анотації</th>\n",
       "      <th>Коректність речення</th>\n",
       "      <th>Виправлене речення</th>\n",
       "      <th>Помічник/ця</th>\n",
       "      <th>gender-swapped</th>\n",
       "    </tr>\n",
       "  </thead>\n",
       "  <tbody>\n",
       "    <tr>\n",
       "      <th>0</th>\n",
       "      <td>Виставу за п'єсою російського класика Льва Тол...</td>\n",
       "      <td>Виставу за п'єсою російського класика Льва Тол...</td>\n",
       "      <td>{'Льва Толстого': 'PERS', 'режисера': 'JOB', '...</td>\n",
       "      <td>Містить помилки</td>\n",
       "      <td>Виставу за п'єсою російської класикині Марії Т...</td>\n",
       "      <td>Оля Н</td>\n",
       "      <td>Виставу за п'єсою російської класикині Марії Т...</td>\n",
       "    </tr>\n",
       "    <tr>\n",
       "      <th>0</th>\n",
       "      <td>Його редактором був поет-символіст Яків Савчен...</td>\n",
       "      <td>Її редакторкою була поетеса-символістка Анжела...</td>\n",
       "      <td>{'поет-символіст': 'JOB', 'Яків Савченко': 'PE...</td>\n",
       "      <td>Містить помилки</td>\n",
       "      <td>Його редакторкою була поетеса-символістка Анже...</td>\n",
       "      <td>Оля Н</td>\n",
       "      <td>Його редакторкою була поетеса-символістка Анже...</td>\n",
       "    </tr>\n",
       "    <tr>\n",
       "      <th>1</th>\n",
       "      <td>Віртуозні Лесь Задніпровський – князь Абрезков...</td>\n",
       "      <td>Віртуозні Ганна Задніпровська – княгиня Абрезк...</td>\n",
       "      <td>{'Лесь Задніпровський': 'PERS', 'князь': 'JOB'...</td>\n",
       "      <td>Містить помилки</td>\n",
       "      <td>Віртуозні Ганна Задніпровська – княгиня Абрезк...</td>\n",
       "      <td>NaN</td>\n",
       "      <td>Віртуозні Ганна Задніпровська – княгиня Абрезк...</td>\n",
       "    </tr>\n",
       "    <tr>\n",
       "      <th>1</th>\n",
       "      <td>Міжпредметні паралелі . Маніфест футуристів ск...</td>\n",
       "      <td>Міжпредметні паралелі . Маніфест футуристок ск...</td>\n",
       "      <td>{'поет': 'JOB', 'Філіппо Марінетті': 'PERS'}</td>\n",
       "      <td>Правильне</td>\n",
       "      <td>NaN</td>\n",
       "      <td>NaN</td>\n",
       "      <td>Міжпредметні паралелі . Маніфест футуристок ск...</td>\n",
       "    </tr>\n",
       "    <tr>\n",
       "      <th>2</th>\n",
       "      <td>Старша в Києві , одружена з військовим , чолов...</td>\n",
       "      <td>Старша в Києві , одружена з військовою , чолов...</td>\n",
       "      <td>{'військовим': 'JOB'}</td>\n",
       "      <td>Містить помилки</td>\n",
       "      <td>Старша в Києві , одружена з військовою , жінка...</td>\n",
       "      <td>NaN</td>\n",
       "      <td>Старша в Києві , одружена з військовою , жінка...</td>\n",
       "    </tr>\n",
       "  </tbody>\n",
       "</table>\n",
       "</div>"
      ],
      "text/plain": [
       "                                 Оригінальне речення  \\\n",
       "0  Виставу за п'єсою російського класика Льва Тол...   \n",
       "0  Його редактором був поет-символіст Яків Савчен...   \n",
       "1  Віртуозні Лесь Задніпровський – князь Абрезков...   \n",
       "1  Міжпредметні паралелі . Маніфест футуристів ск...   \n",
       "2  Старша в Києві , одружена з військовим , чолов...   \n",
       "\n",
       "                                     Змінене речення  \\\n",
       "0  Виставу за п'єсою російського класика Льва Тол...   \n",
       "0  Її редакторкою була поетеса-символістка Анжела...   \n",
       "1  Віртуозні Ганна Задніпровська – княгиня Абрезк...   \n",
       "1  Міжпредметні паралелі . Маніфест футуристок ск...   \n",
       "2  Старша в Києві , одружена з військовою , чолов...   \n",
       "\n",
       "                                            Анотації Коректність речення  \\\n",
       "0  {'Льва Толстого': 'PERS', 'режисера': 'JOB', '...     Містить помилки   \n",
       "0  {'поет-символіст': 'JOB', 'Яків Савченко': 'PE...     Містить помилки   \n",
       "1  {'Лесь Задніпровський': 'PERS', 'князь': 'JOB'...     Містить помилки   \n",
       "1       {'поет': 'JOB', 'Філіппо Марінетті': 'PERS'}           Правильне   \n",
       "2                              {'військовим': 'JOB'}     Містить помилки   \n",
       "\n",
       "                                  Виправлене речення Помічник/ця  \\\n",
       "0  Виставу за п'єсою російської класикині Марії Т...       Оля Н   \n",
       "0  Його редакторкою була поетеса-символістка Анже...       Оля Н   \n",
       "1  Віртуозні Ганна Задніпровська – княгиня Абрезк...         NaN   \n",
       "1                                                NaN         NaN   \n",
       "2  Старша в Києві , одружена з військовою , жінка...         NaN   \n",
       "\n",
       "                                      gender-swapped  \n",
       "0  Виставу за п'єсою російської класикині Марії Т...  \n",
       "0  Його редакторкою була поетеса-символістка Анже...  \n",
       "1  Віртуозні Ганна Задніпровська – княгиня Абрезк...  \n",
       "1  Міжпредметні паралелі . Маніфест футуристок ск...  \n",
       "2  Старша в Києві , одружена з військовою , жінка...  "
      ]
     },
     "execution_count": 38,
     "metadata": {},
     "output_type": "execute_result"
    }
   ],
   "source": [
    "test_swapped_new.head()"
   ]
  },
  {
   "cell_type": "code",
   "execution_count": null,
   "metadata": {},
   "outputs": [
    {
     "name": "stderr",
     "output_type": "stream",
     "text": [
      "  0%|          | 0/518 [00:00<?, ?it/s]"
     ]
    },
    {
     "name": "stderr",
     "output_type": "stream",
     "text": [
      "100%|██████████| 518/518 [14:20<00:00,  1.66s/it]\n"
     ]
    }
   ],
   "source": [
    "actual_counter_JB, actual_counter_PR = 0, 0\n",
    "numb_of_JB, numb_of_PR = 0, 0\n",
    "swapped_jobs, original_jobs = [], []\n",
    "swapped_pers, original_pers = [], []\n",
    "\n",
    "for idx in tqdm.tqdm(range(len(test_swapped_new))):\n",
    "    row = test_swapped_new.iloc[idx]\n",
    "\n",
    "    orig_doc = nlp(row['Оригінальне речення'])\n",
    "    for ent in orig_doc.ents:\n",
    "        if ent.label_ == 'JOB':\n",
    "            numb_of_JB += 1\n",
    "            original_jobs.append(ent.text)\n",
    "        if ent.label_ == 'PERS':\n",
    "            numb_of_PR += 1\n",
    "            original_pers.append(ent.text)\n",
    "\n",
    "    swapped_doc = nlp(row['gender-swapped'])\n",
    "    for ent in swapped_doc.ents:\n",
    "        if ent.label_ == 'JOB':\n",
    "            actual_counter_JB += 1\n",
    "            swapped_jobs.append(ent.text)\n",
    "        if ent.label_ == 'PERS':\n",
    "            actual_counter_PR += 1\n",
    "            swapped_pers.append(ent.text)"
   ]
  },
  {
   "cell_type": "code",
   "execution_count": 175,
   "metadata": {},
   "outputs": [
    {
     "data": {
      "text/plain": [
       "False"
      ]
     },
     "execution_count": 175,
     "metadata": {},
     "output_type": "execute_result"
    }
   ],
   "source": [
    "'-' in job_entities"
   ]
  },
  {
   "cell_type": "code",
   "execution_count": 58,
   "metadata": {},
   "outputs": [
    {
     "name": "stdout",
     "output_type": "stream",
     "text": [
      "5\n"
     ]
    }
   ],
   "source": [
    "# swapped_pers.count(\"-\")\n",
    "print(original_pers.count(\"-\"))"
   ]
  },
  {
   "cell_type": "code",
   "execution_count": null,
   "metadata": {},
   "outputs": [
    {
     "name": "stderr",
     "output_type": "stream",
     "text": [
      "100%|██████████| 1036/1036 [00:00<00:00, 8832.64it/s]\n"
     ]
    }
   ],
   "source": [
    "import ast\n",
    "\n",
    "numb_of_JB_orig, numb_of_PR_orig = 0, 0\n",
    "job_entities = [] \n",
    "pers_entities = []\n",
    "\n",
    "for idx in tqdm.tqdm(range(len(test_swapped_new))):\n",
    "    row = test_swapped_new.iloc[idx]\n",
    "    \n",
    "    annotations = ast.literal_eval(row['Анотації'])\n",
    "    \n",
    "    numb_of_job_ents = list(annotations.values()).count(\"JOB\")\n",
    "    numb_of_JB_orig += numb_of_job_ents\n",
    "    job_entities.extend([key for key, value in annotations.items() if value == \"JOB\"])\n",
    "    \n",
    "    numb_of_pers_ents = list(annotations.values()).count(\"PERS\")\n",
    "    numb_of_PR_orig += numb_of_pers_ents\n",
    "    pers_entities.extend([key for key, value in annotations.items() if value == \"PERS\"])"
   ]
  },
  {
   "cell_type": "code",
   "execution_count": 172,
   "metadata": {},
   "outputs": [
    {
     "name": "stdout",
     "output_type": "stream",
     "text": [
      "Number of JOB entities: 1357\n",
      "Number of PERS entities: 932\n"
     ]
    }
   ],
   "source": [
    "print(f\"Number of JOB entities: {numb_of_JB_orig}\")\n",
    "print(f\"Number of PERS entities: {numb_of_PR_orig}\")"
   ]
  },
  {
   "cell_type": "code",
   "execution_count": 47,
   "metadata": {},
   "outputs": [
    {
     "name": "stdout",
     "output_type": "stream",
     "text": [
      "JOB TITLE entities detected in ORIG dataset: 535. Accuracy: 39.4 %\n",
      "JOB TITLE entities detected in SWAP dataset: 506. Accuracy: 37.3 %\n",
      "\n",
      "**************\n",
      "\n",
      "PERS entities detected in ORIG dataset: 429. Accuracy: 46.0 %\n",
      "PERS entities detected in SWAP dataset: 430. Accuracy: 46.1 %\n"
     ]
    }
   ],
   "source": [
    "print(f\"JOB TITLE entities detected in ORIG dataset: {actual_counter_JB}. Accuracy: {(actual_counter_JB*100/numb_of_JB_orig):.1f} %\")\n",
    "print(f\"JOB TITLE entities detected in SWAP dataset: {numb_of_JB}. Accuracy: {(numb_of_JB*100/numb_of_JB_orig):.1f} %\")\n",
    "\n",
    "print(\"\\n**************\\n\")\n",
    "\n",
    "print(f\"PERS entities detected in ORIG dataset: {actual_counter_PR}. Accuracy: {(actual_counter_PR*100/numb_of_PR_orig):.1f} %\")\n",
    "print(f\"PERS entities detected in SWAP dataset: {numb_of_PR}. Accuracy: {(numb_of_PR*100/numb_of_PR_orig):.1f} %\")"
   ]
  },
  {
   "cell_type": "markdown",
   "metadata": {},
   "source": [
    "### Check JOB TITLES gender using dictionary"
   ]
  },
  {
   "cell_type": "code",
   "execution_count": 122,
   "metadata": {},
   "outputs": [],
   "source": [
    "with open ('/Users/linndfors/study/diploma/uk-gender-word-mapper/common_gender_words_list.txt') as file:\n",
    "    common_gender_words_list = file.read().split(\"\\n\")"
   ]
  },
  {
   "cell_type": "code",
   "execution_count": 97,
   "metadata": {},
   "outputs": [],
   "source": [
    "gender_dict_df = pd.read_csv(\"/Users/linndfors/study/diploma/uk-gender-word-mapper/gender_pairs_dictionary.csv\")"
   ]
  },
  {
   "cell_type": "code",
   "execution_count": 98,
   "metadata": {},
   "outputs": [
    {
     "data": {
      "text/html": [
       "<div>\n",
       "<style scoped>\n",
       "    .dataframe tbody tr th:only-of-type {\n",
       "        vertical-align: middle;\n",
       "    }\n",
       "\n",
       "    .dataframe tbody tr th {\n",
       "        vertical-align: top;\n",
       "    }\n",
       "\n",
       "    .dataframe thead th {\n",
       "        text-align: right;\n",
       "    }\n",
       "</style>\n",
       "<table border=\"1\" class=\"dataframe\">\n",
       "  <thead>\n",
       "    <tr style=\"text-align: right;\">\n",
       "      <th></th>\n",
       "      <th>male</th>\n",
       "      <th>female</th>\n",
       "    </tr>\n",
       "  </thead>\n",
       "  <tbody>\n",
       "    <tr>\n",
       "      <th>0</th>\n",
       "      <td>абітурієнт</td>\n",
       "      <td>абітурієнтка</td>\n",
       "    </tr>\n",
       "    <tr>\n",
       "      <th>1</th>\n",
       "      <td>абонент</td>\n",
       "      <td>абонентка</td>\n",
       "    </tr>\n",
       "    <tr>\n",
       "      <th>2</th>\n",
       "      <td>абориген</td>\n",
       "      <td>аборигенка</td>\n",
       "    </tr>\n",
       "    <tr>\n",
       "      <th>3</th>\n",
       "      <td>абстракціоніст</td>\n",
       "      <td>абстракціоністка</td>\n",
       "    </tr>\n",
       "    <tr>\n",
       "      <th>4</th>\n",
       "      <td>авантюрист</td>\n",
       "      <td>авантюристка</td>\n",
       "    </tr>\n",
       "  </tbody>\n",
       "</table>\n",
       "</div>"
      ],
      "text/plain": [
       "             male            female\n",
       "0      абітурієнт      абітурієнтка\n",
       "1         абонент         абонентка\n",
       "2        абориген        аборигенка\n",
       "3  абстракціоніст  абстракціоністка\n",
       "4      авантюрист      авантюристка"
      ]
     },
     "execution_count": 98,
     "metadata": {},
     "output_type": "execute_result"
    }
   ],
   "source": [
    "gender_dict_df.head()"
   ]
  },
  {
   "cell_type": "code",
   "execution_count": null,
   "metadata": {},
   "outputs": [],
   "source": [
    "gender_dict = {'male': [], 'female': []}\n",
    "\n",
    "for _, row in gender_dict_df.iterrows():\n",
    "    gender_dict['male'].append(row['male'])\n",
    "    female_values = [f.strip() for f in row['female'].split(',')]\n",
    "    gender_dict['female'].extend(female_values)\n",
    "\n",
    "gender_dict['female'] = list(set(gender_dict['female']))"
   ]
  },
  {
   "cell_type": "code",
   "execution_count": 141,
   "metadata": {},
   "outputs": [],
   "source": [
    "def male_female_res(list_of_jobs, gen_dict):\n",
    "    female_counter, male_counter, unknown_counter, common_gender_counter = 0, 0, 0, 0\n",
    "    female_list, male_list, unknown_list, common_gender_list = [], [], [], []\n",
    "    for x in tqdm.tqdm(list_of_jobs):\n",
    "        if x and x != \"-\":\n",
    "            job = uk_nlp(x)\n",
    "            job_lemma = \" \".join([word.lemma for sent in job.sentences for word in sent.words])\n",
    "            # print(x, \" - \", job_lemma)\n",
    "            if (job_lemma in gen_dict['female']) or (x in gen_dict['female']):\n",
    "                female_counter += 1\n",
    "                female_list.append(x)\n",
    "            elif (job_lemma in gen_dict['male']) or (x in gen_dict['male']):\n",
    "                male_counter += 1\n",
    "                male_list.append(x)\n",
    "            elif (job_lemma in common_gender_words_list) or (x in common_gender_words_list):\n",
    "                common_gender_counter += 1\n",
    "                common_gender_list.append(x)\n",
    "            else:\n",
    "                unknown_counter += 1\n",
    "                unknown_list.append(x)\n",
    "    return female_counter, male_counter, female_list, male_list, unknown_counter, unknown_list, common_gender_counter, common_gender_list"
   ]
  },
  {
   "cell_type": "code",
   "execution_count": null,
   "metadata": {},
   "outputs": [],
   "source": [
    "def report_for_results(female_counter, male_counter, female_list, male_list, unknown_counter, unknown_list, common_gender_counter, common_gender_list):\n",
    "    total = female_counter + male_counter + unknown_counter + common_gender_counter\n",
    "\n",
    "    # print(f\"{len(swapped_jobs) - total} - JOB outliers\")\n",
    "\n",
    "    female_perc = (female_counter / total) * 100 if total > 0 else 0\n",
    "    male_perc = (male_counter / total) * 100 if total > 0 else 0\n",
    "    common_perc = (common_gender_counter / total) * 100 if total > 0 else 0\n",
    "    unknown_perc = (unknown_counter / total) * 100 if total > 0 else 0\n",
    "\n",
    "    most_popular_female = Counter(female_list).most_common(1)\n",
    "    most_popular_male = Counter(male_list).most_common(1)\n",
    "    most_popular_unknown = Counter(unknown_list).most_common(1)\n",
    "    most_popular_common = Counter(common_gender_list).most_common(1)\n",
    "\n",
    "    result = (\n",
    "    f\"Total jobs: {total}\\n\"\n",
    "    f\"Female jobs: {female_counter} ({female_perc:.2f}%)\\n\"\n",
    "    f\"Male jobs: {male_counter} ({male_perc:.2f}%)\\n\"\n",
    "    f\"Common gender jobs: {common_gender_counter} ({common_perc:.2f}%)\\n\"\n",
    "    f\"Unknown jobs: {unknown_counter} ({unknown_perc:.2f}%)\\n\"\n",
    "    )\n",
    "\n",
    "    def print_most_popular_entity(most_popular_ent, gender):\n",
    "        if most_popular_ent:\n",
    "            return f\"Most popular {gender} job: {most_popular_ent[0][0]} ({most_popular_ent[0][1]} occurrences)\\n\"\n",
    "        \n",
    "    result += \"\\n\"\n",
    "    result += print_most_popular_entity(most_popular_female, \"female\")\n",
    "    result += print_most_popular_entity(most_popular_male, \"male\")\n",
    "    result += print_most_popular_entity(most_popular_common, \"common\")\n",
    "    result += print_most_popular_entity(most_popular_unknown, \"unknown\")\n",
    "\n",
    "    print(result)\n",
    "\n",
    "    return result"
   ]
  },
  {
   "cell_type": "code",
   "execution_count": null,
   "metadata": {},
   "outputs": [
    {
     "name": "stderr",
     "output_type": "stream",
     "text": [
      "100%|██████████| 535/535 [01:47<00:00,  4.97it/s]"
     ]
    },
    {
     "name": "stdout",
     "output_type": "stream",
     "text": [
      "28 - JOB outliers\n",
      "Total jobs: 507\n",
      "Female jobs: 250 (49.31%)\n",
      "Male jobs: 41 (8.09%)\n",
      "Common gender jobs: 29 (5.72%)\n",
      "Unknown jobs: 187 (36.88%)\n",
      "\n",
      "Most popular female job: директоркою (15 occurrences)\n",
      "Most popular male job: слідчим (4 occurrences)\n",
      "Most popular common job: суддя (10 occurrences)\n",
      "Most popular unknown job: екс (22 occurrences)\n",
      "\n"
     ]
    },
    {
     "name": "stderr",
     "output_type": "stream",
     "text": [
      "\n"
     ]
    }
   ],
   "source": [
    "# статистика по знайдених в свопі\n",
    "female_counter, male_counter, female_list, male_list, unknown_counter, unknown_list, common_gender_counter, common_gender_list = male_female_res(swapped_jobs, gender_dict)\n",
    "swapped_job_stat = report_for_results(female_counter, male_counter, female_list, male_list, unknown_counter, unknown_list, common_gender_counter, common_gender_list)"
   ]
  },
  {
   "cell_type": "code",
   "execution_count": 147,
   "metadata": {},
   "outputs": [
    {
     "name": "stdout",
     "output_type": "stream",
     "text": [
      "{'кандидат філологічних наук', 'наркомкою', 'митрополитки', 'голови правління', 'начальницею управління (квартирно-експлуатаційного)', 'ігумені', 'Луцької міської голови', 'ексочільниці', 'військових прокуророк', 'гендиректоркою', 'слідча суддя', 'священиці', 'глави', 'заступницею голови', 'заступниця голови', 'ієромонахиня', 'скотарі', 'комерційна директорка', 'генеральної директорки', 'демографок', 'перша заступниця голови', 'орнітологині', 'ректорку', 'міністерка палива та енергетики України', 'радниця Президента', 'єпископки', 'законодавців', 'голова наглядової ради', 'парламентська помічниця', 'віце', 'приватної детективки', 'юристки', 'радниця голови', 'зернотрейдерок', 'підмайстрині', 'залізничниці', 'детективками', 'глава', 'Президента України', 'в. о. гендиректорки', 'нардепка', 'народною депутаткою', 'Детективка', '-бухгалтер', 'заступницю мера', 'народних депутаток', 'народна депутатка', 'голова комітету студентського , аматорського та масового футзалу', 'митрополиткою', 'головній інженерці', 'детективки', 'головою правління', 'Головна військова прокурорка', 'культурологині', 'першою заступницею Голови', 'екс', 'мовознавець', 'єпискиня', 'головною редакторкою', 'заступницю керівника', 'екснардепці', 'народній депутатці', 'бізнес', 'няні', 'детективкам', \"Першої віце – прем'єр – міністерки України\", 'детективка', 'держуповноважений', 'силовиць', 'податківцям', 'військової прокурорки', \"заступниця міністра охорони здоров'я\", 'співчиня', 'міністерка фінансів РФ', 'митрополитці', 'Комунальниці', 'старший викладач', 'інженерки геодезистки', 'заступниці Генпрокурора', 'держвиконавиця', 'нардепки', 'детективок', 'міністерка оборони', \"віце-прем'єр міністра\", 'заступниця міністра', 'байкарка', 'державний уповноважений', 'начальником виробничо-технічного відділу', 'нардепкою', 'підприємниця', 'головна суддя', 'трейдерка', 'в. о. управління з виконання політики', 'першою заступницею міської голови', 'стрільчині', 'начальницею відділу', 'учителькам', 'поручницею', 'заступницею директорки', 'екснардепки', 'в . о . голови', 'народним депутатом', 'народної депутатки', 'прокуророк', 'порошенківки', 'мовознавиці', 'землеробки', 'дорожниці', 'ревізорок', 'генпрокурорки', 'режисеркою', 'комісарок', 'сотниця', 'бізнесменки', 'психологині', 'антимонопольниці', 'зернотрейдерка', 'головної інженерки', 'юридична радниця', 'глави держави', 'заступницею гендиректора', 'міністерка економічного розвитку', 'урядовиці', 'судді', 'перша заступниця директорки', 'екс-', 'Головного військового прокурора', '«'}\n",
      "Number of unique unknown words: 128\n"
     ]
    }
   ],
   "source": [
    "unknown_swapped_words = set(unknown_list)\n",
    "print(unknown_swapped_words)\n",
    "print(f\"Number of unique unknown words: {len(unknown_swapped_words)}\")"
   ]
  },
  {
   "cell_type": "code",
   "execution_count": null,
   "metadata": {},
   "outputs": [
    {
     "name": "stderr",
     "output_type": "stream",
     "text": [
      "100%|██████████| 506/506 [01:37<00:00,  5.21it/s]"
     ]
    },
    {
     "name": "stdout",
     "output_type": "stream",
     "text": [
      "53 - JOB outliers\n",
      "Total jobs: 482\n",
      "Female jobs: 12 (2.49%)\n",
      "Male jobs: 248 (51.45%)\n",
      "Common gender jobs: 28 (5.81%)\n",
      "Unknown jobs: 194 (40.25%)\n",
      "\n",
      "Most popular female job: вчителька (2 occurrences)\n",
      "Most popular male job: директором (18 occurrences)\n",
      "Most popular common job: суддя (9 occurrences)\n",
      "Most popular unknown job: екс (22 occurrences)\n",
      "\n"
     ]
    },
    {
     "name": "stderr",
     "output_type": "stream",
     "text": [
      "\n"
     ]
    }
   ],
   "source": [
    "# статистика по знайдених в оригінальному\n",
    "\n",
    "female_counter_orig, male_counter_orig, female_list_orig, male_list_orig, unknown_counter_orig, unknown_list_orig, common_gender_counter_orig, common_gender_list_orig = male_female_res(original_jobs, gender_dict)\n",
    "original_job_stat = report_for_results(female_counter_orig, male_counter_orig, female_list_orig, male_list_orig, unknown_counter_orig, unknown_list_orig, common_gender_counter_orig, common_gender_list_orig)"
   ]
  },
  {
   "cell_type": "code",
   "execution_count": 149,
   "metadata": {},
   "outputs": [
    {
     "name": "stdout",
     "output_type": "stream",
     "text": [
      "{'заступником голови', 'перший заступник директора', 'голови правління', 'антимонопольники', 'начальник цеху', 'народного депутата', 'заступника мера', 'блоггер', 'заступник голови', 'корчмаря', 'Луцького міського голови', 'головний суддя', 'екснардепу', 'народному депутату', 'юридичний радник', 'глави', 'землероби', 'комерційний директор', 'підмайстра', 'заступником гендиректора', 'міністр економічного розвитку', 'педагоги', 'зернотрейдерів', 'детективами', 'ченця', 'міністр оборони', 'нардепом', 'заступника Генпрокурора', 'священика', \"Першого віце – прем'єр – міністра України\", 'скотарі', 'урядовці', 'майстру спорту', 'міністр палива та енергетики України', 'приватним підприємцем', 'військового прокурора', 'членом наглядової ради', 'держуповноважена', 'віце-', 'міського голови', 'актриса', 'законодавців', 'голова наглядової ради', 'віце', 'митрополитом', 'комісарів', 'ексочільника', 'начальником управління (квартирно-експлуатаційного)', 'підполковник поліції', 'генпрокурора', 'залізничники', 'мовознавці', 'лінгвісти', 'заслуженого тренера', 'мера', 'генерального директора', 'глава', 'парламентський помічник', 'Президента України', 'інженера геодезиста', 'Головний військовий прокурор', 'першим заступником Голови', 'радник Президента', 'митрополиту', '-бухгалтер', 'державна уповноважена', 'силовиків', 'няньки', 'головним редактором', 'голова правління', 'нардеп', 'голова комітету студентського , аматорського та масового футзалу', 'заступника керівника департаменту', 'головою правління', 'заступником директора', 'гендиректором', 'екс', 'детективам', 'зернотрейдер', 'охоронця', 'бізнес', 'народних депутатів', 'наркомом', 'військових прокурорів', 'психологи', 'податківцям', 'єпископів', 'екснардепа', 'міський голова', 'радник голови', 'демографів', 'сторожів', 'детектив', 'Комунальники', 'слідчий суддя', \"віце-прем'єр міністра\", 'в. о. гендиректора', 'сотник', 'начальником виробничо-технічного відділу', 'ієромонах', 'першим заступником міського голови', \"заступник міністра охорони здоров'я\", 'менеджера', 'заступник міністра', 'охоронці', 'детективів', 'старша викладачка', 'в. о. управління з виконання політики', 'держвиконавець', 'перший заступник голови', 'дорожники', 'в . о . голови', 'головного інженера', 'митрополита', 'начальником відділу', 'народним депутатом', 'кандидатка філологічних наук', 'порошенківця', 'єпископи', 'нардепа', 'народний депутат', \"прем'єр\", 'мовознавиця', 'охоронців', 'глави держави', 'детективи', 'судді', 'поручником', 'єпископ', 'головному інженеру', 'екс-', 'Головного військового прокурора'}\n",
      "Number of unique unknown words: 132\n"
     ]
    }
   ],
   "source": [
    "unknown_orig_words = set(unknown_list_orig)\n",
    "print(unknown_orig_words)\n",
    "print(f\"Number of unique unknown words: {len(unknown_orig_words)}\")"
   ]
  },
  {
   "cell_type": "code",
   "execution_count": null,
   "metadata": {},
   "outputs": [
    {
     "name": "stderr",
     "output_type": "stream",
     "text": [
      "100%|██████████| 1357/1357 [04:01<00:00,  5.62it/s]"
     ]
    },
    {
     "name": "stdout",
     "output_type": "stream",
     "text": [
      "-822 - JOB outliers\n",
      "Total jobs: 1357\n",
      "Female jobs: 47 (3.46%)\n",
      "Male jobs: 681 (50.18%)\n",
      "Common gender jobs: 62 (4.57%)\n",
      "Unknown jobs: 567 (41.78%)\n",
      "\n",
      "Most popular female job: поетеса (6 occurrences)\n",
      "Most popular male job: директором (26 occurrences)\n",
      "Most popular common job: голова (15 occurrences)\n",
      "Most popular unknown job: судді (20 occurrences)\n",
      "\n"
     ]
    },
    {
     "name": "stderr",
     "output_type": "stream",
     "text": [
      "\n"
     ]
    }
   ],
   "source": [
    "# статистика по проанотованих (оригінал тест)\n",
    "\n",
    "female_counter_test, male_counter_test, female_list_test, male_list_test, unknown_counter_test, unknown_list_test, common_gender_counter_test, common_gender_list_test = male_female_res(job_entities, gender_dict)\n",
    "test_job_stat = report_for_results(female_counter_test, male_counter_test, female_list_test, male_list_test, unknown_counter_test, unknown_list_test, common_gender_counter_test, common_gender_list_test)"
   ]
  },
  {
   "cell_type": "code",
   "execution_count": null,
   "metadata": {},
   "outputs": [
    {
     "name": "stdout",
     "output_type": "stream",
     "text": [
      "Accuracy for detected female JOB titles: 25.53%\n",
      "Accuracy for detected male JOB titles: 36.42%\n",
      "Accuracy for detected common JOB titles: 45.16%\n"
     ]
    }
   ],
   "source": [
    "#  Як ner розпізнає JOB, залежно від статі\n",
    "\n",
    "print(f\"Accuracy for detected female JOB titles: {female_counter_orig*100/female_counter_test:.2f}%\")\n",
    "print(f\"Accuracy for detected male JOB titles: {male_counter_orig*100/male_counter_test:.2f}%\")\n",
    "print(f\"Accuracy for detected common JOB titles: {common_gender_counter_orig*100/common_gender_counter_test:.2f}%\")"
   ]
  },
  {
   "cell_type": "code",
   "execution_count": null,
   "metadata": {},
   "outputs": [
    {
     "name": "stdout",
     "output_type": "stream",
     "text": [
      "Accuracy for male swapped to female: 36.71%\n",
      "Accuracy for female swapped to male: 87.23%\n"
     ]
    }
   ],
   "source": [
    "# Яка якість gender-swap\n",
    "\n",
    "# після свопу мало стати 681 female і 47 male\n",
    "# swapped Female jobs: 250 (49.31%)\n",
    "# swapped Male jobs: 41 (8.09%)\n",
    "\n",
    "print(f\"Accuracy for male swapped to female: {100*250/681:.2f}%\")\n",
    "print(f\"Accuracy for female swapped to male: {100*41/47:.2f}%\")"
   ]
  },
  {
   "cell_type": "code",
   "execution_count": null,
   "metadata": {},
   "outputs": [],
   "source": [
    "# female_counter, male_counter, female_list, male_list, unknown_counter, unknown_list, common_gender_counter, common_gender_list = male_female_res(original_jobs, gender_dict)\n",
    "# balanced_df_job_stat = report_for_results(female_counter, male_counter, female_list, male_list, unknown_counter, unknown_list, common_gender_counter, common_gender_list)"
   ]
  },
  {
   "cell_type": "code",
   "execution_count": 139,
   "metadata": {},
   "outputs": [
    {
     "data": {
      "text/plain": [
       "['байкарка',\n",
       " 'співчиня',\n",
       " 'нардепка',\n",
       " 'Луцької міської голови',\n",
       " 'радниця голови',\n",
       " 'перша заступниця голови',\n",
       " 'народних депутаток',\n",
       " 'режисеркою',\n",
       " 'орнітологині',\n",
       " 'підмайстрині',\n",
       " 'мовознавець',\n",
       " 'кандидат філологічних наук',\n",
       " 'старший викладач',\n",
       " 'заступниця голови',\n",
       " 'демографок',\n",
       " 'землеробки',\n",
       " 'скотарі',\n",
       " 'приватної детективки',\n",
       " 'сотниця',\n",
       " 'поручницею',\n",
       " 'судді',\n",
       " 'голова комітету студентського , аматорського та масового футзалу',\n",
       " 'в . о . голови',\n",
       " 'головна суддя',\n",
       " 'міністерка оборони',\n",
       " 'силовиць',\n",
       " 'Президента України',\n",
       " 'радниця Президента',\n",
       " \"заступниця міністра охорони здоров'я\",\n",
       " 'заступниця міністра',\n",
       " 'стрільчині',\n",
       " 'комісарок',\n",
       " 'наркомкою',\n",
       " 'няні',\n",
       " 'заступниця голови',\n",
       " 'ігумені',\n",
       " 'митрополитки',\n",
       " 'учителькам',\n",
       " 'ректорку',\n",
       " 'ієромонахиня',\n",
       " 'священиці',\n",
       " 'митрополитці',\n",
       " 'єпископки',\n",
       " 'митрополиткою',\n",
       " 'єпискиня',\n",
       " 'юристки',\n",
       " 'законодавців',\n",
       " 'податківцям',\n",
       " 'психологині',\n",
       " 'культурологині',\n",
       " 'мовознавиці',\n",
       " 'урядовиці',\n",
       " 'голова наглядової ради',\n",
       " 'головою правління',\n",
       " 'міністерка палива та енергетики України',\n",
       " 'начальницею відділу',\n",
       " 'головною редакторкою',\n",
       " 'Комунальниці',\n",
       " \"Першої віце – прем'єр – міністерки України\",\n",
       " 'судді',\n",
       " 'судді',\n",
       " 'судді',\n",
       " 'судді',\n",
       " 'судді',\n",
       " 'судді',\n",
       " 'екс',\n",
       " 'підприємниця',\n",
       " 'заступницею голови',\n",
       " \"віце-прем'єр міністра\",\n",
       " 'народна депутатка',\n",
       " 'головою правління',\n",
       " 'народним депутатом',\n",
       " 'начальником виробничо-технічного відділу',\n",
       " 'інженерки геодезистки',\n",
       " 'екснардепці',\n",
       " 'екс',\n",
       " 'екснардепки',\n",
       " 'віце',\n",
       " 'перша заступниця директорки',\n",
       " 'бізнесменки',\n",
       " 'нардепки',\n",
       " 'народної депутатки',\n",
       " 'заступницю керівника',\n",
       " 'держуповноважений',\n",
       " 'нардепкою',\n",
       " 'екс',\n",
       " 'нардепкою',\n",
       " 'екс',\n",
       " 'нардепка',\n",
       " 'парламентська помічниця',\n",
       " 'міністерка економічного розвитку',\n",
       " 'народною депутаткою',\n",
       " 'екс',\n",
       " 'гендиректоркою',\n",
       " 'нардепка',\n",
       " 'екс',\n",
       " 'екс',\n",
       " 'генпрокурорки',\n",
       " 'голови правління',\n",
       " 'голови правління',\n",
       " 'голови правління',\n",
       " 'голови правління',\n",
       " 'детективкам',\n",
       " 'Детективка',\n",
       " 'екс',\n",
       " 'нардепки',\n",
       " 'залізничниці',\n",
       " 'екс',\n",
       " 'головної інженерки',\n",
       " '-бухгалтер',\n",
       " 'головній інженерці',\n",
       " 'ексочільниці',\n",
       " 'заступниці Генпрокурора',\n",
       " 'народною депутаткою',\n",
       " 'антимонопольниці',\n",
       " 'антимонопольниці',\n",
       " 'військової прокурорки',\n",
       " 'першою заступницею міської голови',\n",
       " 'екс',\n",
       " '«',\n",
       " 'перша заступниця директорки',\n",
       " 'комерційна директорка',\n",
       " 'детективок',\n",
       " 'держвиконавиця',\n",
       " 'заступницею гендиректора',\n",
       " 'екс',\n",
       " 'екс',\n",
       " 'нардепки',\n",
       " 'порошенківки',\n",
       " 'екс',\n",
       " 'нардепки',\n",
       " 'народній депутатці',\n",
       " 'екс',\n",
       " 'ревізорок',\n",
       " 'головою правління',\n",
       " 'державний уповноважений',\n",
       " 'дорожниці',\n",
       " 'начальницею управління (квартирно-експлуатаційного)',\n",
       " 'віце',\n",
       " 'міністерка фінансів РФ',\n",
       " 'глава',\n",
       " 'зернотрейдерок',\n",
       " 'трейдерка',\n",
       " 'зернотрейдерка',\n",
       " 'зернотрейдерок',\n",
       " 'Головного військового прокурора',\n",
       " 'прокуророк',\n",
       " 'Головна військова прокурорка',\n",
       " 'військових прокуророк',\n",
       " 'екс',\n",
       " 'екс',\n",
       " 'екс',\n",
       " 'генеральної директорки',\n",
       " 'заступницею директорки',\n",
       " 'екс',\n",
       " 'народної депутатки',\n",
       " 'екс',\n",
       " 'нардепка',\n",
       " 'бізнес',\n",
       " 'екс',\n",
       " 'нардепка',\n",
       " 'в. о. гендиректорки',\n",
       " 'екс',\n",
       " 'нардепки',\n",
       " 'юридична радниця',\n",
       " 'екс',\n",
       " 'нардепки',\n",
       " 'судді',\n",
       " 'детективками',\n",
       " 'судді',\n",
       " 'детективками',\n",
       " 'судді',\n",
       " 'слідча суддя',\n",
       " 'детективки',\n",
       " 'детективка',\n",
       " 'в. о. управління з виконання політики',\n",
       " 'заступницю мера',\n",
       " 'першою заступницею Голови',\n",
       " 'екс-',\n",
       " 'заступниці Генпрокурора',\n",
       " 'бізнесменки',\n",
       " 'віце',\n",
       " 'голови правління',\n",
       " 'голови правління',\n",
       " 'голови правління',\n",
       " 'глави',\n",
       " 'глави держави']"
      ]
     },
     "execution_count": 139,
     "metadata": {},
     "output_type": "execute_result"
    }
   ],
   "source": [
    "unknown_list"
   ]
  },
  {
   "cell_type": "markdown",
   "metadata": {},
   "source": [
    "## After annotation"
   ]
  },
  {
   "cell_type": "code",
   "execution_count": 7,
   "metadata": {},
   "outputs": [],
   "source": [
    "test_swapped = pd.read_csv(\"test_swapped.csv\")\n",
    "dev_swapped = pd.read_csv(\"dev_swapped.csv\")"
   ]
  },
  {
   "cell_type": "code",
   "execution_count": 8,
   "metadata": {},
   "outputs": [
    {
     "data": {
      "text/html": [
       "<div>\n",
       "<style scoped>\n",
       "    .dataframe tbody tr th:only-of-type {\n",
       "        vertical-align: middle;\n",
       "    }\n",
       "\n",
       "    .dataframe tbody tr th {\n",
       "        vertical-align: top;\n",
       "    }\n",
       "\n",
       "    .dataframe thead th {\n",
       "        text-align: right;\n",
       "    }\n",
       "</style>\n",
       "<table border=\"1\" class=\"dataframe\">\n",
       "  <thead>\n",
       "    <tr style=\"text-align: right;\">\n",
       "      <th></th>\n",
       "      <th>Оригінальне речення</th>\n",
       "      <th>Змінене речення</th>\n",
       "      <th>Анотації</th>\n",
       "      <th>Коректність речення</th>\n",
       "      <th>Виправлене речення</th>\n",
       "      <th>Помічник/ця</th>\n",
       "    </tr>\n",
       "  </thead>\n",
       "  <tbody>\n",
       "    <tr>\n",
       "      <th>0</th>\n",
       "      <td>Його редактором був поет-символіст Яків Савчен...</td>\n",
       "      <td>Її редакторкою була поетеса-символістка Анжела...</td>\n",
       "      <td>{'поет-символіст': 'JOB', 'Яків Савченко': 'PE...</td>\n",
       "      <td>Містить помилки</td>\n",
       "      <td>Його редакторкою була поетеса-символістка Анже...</td>\n",
       "      <td>Оля Н</td>\n",
       "    </tr>\n",
       "    <tr>\n",
       "      <th>1</th>\n",
       "      <td>Міжпредметні паралелі . Маніфест футуристів ск...</td>\n",
       "      <td>Міжпредметні паралелі . Маніфест футуристок ск...</td>\n",
       "      <td>{'поет': 'JOB', 'Філіппо Марінетті': 'PERS'}</td>\n",
       "      <td>Правильне</td>\n",
       "      <td>NaN</td>\n",
       "      <td>NaN</td>\n",
       "    </tr>\n",
       "    <tr>\n",
       "      <th>2</th>\n",
       "      <td>Помітною була організація « Гарт » ( 1923 — 19...</td>\n",
       "      <td>Помітною була організація « Гарт » ( 1923 — 19...</td>\n",
       "      <td>{'поет': 'JOB', 'Володимира Винниченка': 'PERS...</td>\n",
       "      <td>Правильне</td>\n",
       "      <td>NaN</td>\n",
       "      <td>NaN</td>\n",
       "    </tr>\n",
       "    <tr>\n",
       "      <th>3</th>\n",
       "      <td>Її очолив байкар і прозаїк Сергій Пилипенко .</td>\n",
       "      <td>Її очолила байкарка і прозаїка Марія Пилипенко .</td>\n",
       "      <td>{'байкар': 'JOB', 'прозаїк': 'JOB', 'Сергій Пи...</td>\n",
       "      <td>Містить помилки</td>\n",
       "      <td>Її очолила байкарка і прозаїкиня Марія Пилипенко.</td>\n",
       "      <td>NaN</td>\n",
       "    </tr>\n",
       "    <tr>\n",
       "      <th>4</th>\n",
       "      <td>У Галицько-Волинському літописі згадується спі...</td>\n",
       "      <td>У Галицько-Волинському літописі згадується спі...</td>\n",
       "      <td>{'Митуса': 'PERS', 'співець': 'JOB'}</td>\n",
       "      <td>Правильне</td>\n",
       "      <td>NaN</td>\n",
       "      <td>NaN</td>\n",
       "    </tr>\n",
       "  </tbody>\n",
       "</table>\n",
       "</div>"
      ],
      "text/plain": [
       "                                 Оригінальне речення  \\\n",
       "0  Його редактором був поет-символіст Яків Савчен...   \n",
       "1  Міжпредметні паралелі . Маніфест футуристів ск...   \n",
       "2  Помітною була організація « Гарт » ( 1923 — 19...   \n",
       "3      Її очолив байкар і прозаїк Сергій Пилипенко .   \n",
       "4  У Галицько-Волинському літописі згадується спі...   \n",
       "\n",
       "                                     Змінене речення  \\\n",
       "0  Її редакторкою була поетеса-символістка Анжела...   \n",
       "1  Міжпредметні паралелі . Маніфест футуристок ск...   \n",
       "2  Помітною була організація « Гарт » ( 1923 — 19...   \n",
       "3   Її очолила байкарка і прозаїка Марія Пилипенко .   \n",
       "4  У Галицько-Волинському літописі згадується спі...   \n",
       "\n",
       "                                            Анотації Коректність речення  \\\n",
       "0  {'поет-символіст': 'JOB', 'Яків Савченко': 'PE...     Містить помилки   \n",
       "1       {'поет': 'JOB', 'Філіппо Марінетті': 'PERS'}           Правильне   \n",
       "2  {'поет': 'JOB', 'Володимира Винниченка': 'PERS...           Правильне   \n",
       "3  {'байкар': 'JOB', 'прозаїк': 'JOB', 'Сергій Пи...     Містить помилки   \n",
       "4               {'Митуса': 'PERS', 'співець': 'JOB'}           Правильне   \n",
       "\n",
       "                                  Виправлене речення Помічник/ця  \n",
       "0  Його редакторкою була поетеса-символістка Анже...       Оля Н  \n",
       "1                                                NaN         NaN  \n",
       "2                                                NaN         NaN  \n",
       "3  Її очолила байкарка і прозаїкиня Марія Пилипенко.         NaN  \n",
       "4                                                NaN         NaN  "
      ]
     },
     "execution_count": 8,
     "metadata": {},
     "output_type": "execute_result"
    }
   ],
   "source": [
    "test_swapped.head()"
   ]
  },
  {
   "cell_type": "code",
   "execution_count": 16,
   "metadata": {},
   "outputs": [
    {
     "name": "stdout",
     "output_type": "stream",
     "text": [
      "Size of TEST dataset: 518\n",
      "\n",
      "Correct sentence: 60.4 %\n",
      "Uncorrect sentence: 34.0%\n",
      "Difficult to determine: 5.4%\n"
     ]
    }
   ],
   "source": [
    "print(f\"Size of TEST dataset: {len(test_swapped)}\\n\")\n",
    "\n",
    "print(f\"Correct sentence: {len(test_swapped[test_swapped['Коректність речення']=='Правильне']) * 100 / len(test_swapped):.1f} %\")\n",
    "print(f\"Uncorrect sentence: {len(test_swapped[test_swapped['Коректність речення']=='Містить помилки']) * 100 / len(test_swapped):.1f}%\")\n",
    "print(f\"Difficult to determine: {len(test_swapped[test_swapped['Коректність речення']=='Важко визначити']) * 100 / len(test_swapped):.1f}%\")"
   ]
  },
  {
   "cell_type": "code",
   "execution_count": 18,
   "metadata": {},
   "outputs": [
    {
     "name": "stdout",
     "output_type": "stream",
     "text": [
      "Size of DEV dataset: 1024\n",
      "\n",
      "Correct sentence: 57.4 %\n",
      "Uncorrect sentence: 39.4%\n",
      "Difficult to determine: 3.0%\n"
     ]
    }
   ],
   "source": [
    "print(f\"Size of DEV dataset: {len(dev_swapped)}\\n\")\n",
    "\n",
    "print(f\"Correct sentence: {len(dev_swapped[dev_swapped['Коректність речення']=='Правильне']) * 100 / len(dev_swapped):.1f} %\")\n",
    "print(f\"Uncorrect sentence: {len(dev_swapped[dev_swapped['Коректність речення']=='Містить помилки']) * 100 / len(dev_swapped):.1f}%\")\n",
    "print(f\"Difficult to determine: {len(dev_swapped[dev_swapped['Коректність речення']=='Важко визначити']) * 100 / len(dev_swapped):.1f}%\")"
   ]
  },
  {
   "cell_type": "markdown",
   "metadata": {},
   "source": [
    "# Testing"
   ]
  },
  {
   "cell_type": "code",
   "execution_count": 104,
   "metadata": {},
   "outputs": [
    {
     "name": "stderr",
     "output_type": "stream",
     "text": [
      "/Users/linndfors/study/diploma/new_venv/lib/python3.10/site-packages/transformers/utils/generic.py:309: UserWarning: torch.utils._pytree._register_pytree_node is deprecated. Please use torch.utils._pytree.register_pytree_node instead.\n",
      "  _torch_pytree._register_pytree_node(\n",
      "/Users/linndfors/study/diploma/new_venv/lib/python3.10/site-packages/spacy_transformers/layers/hf_shim.py:137: UserWarning: Error loading saved torch state_dict with strict=True, likely due to differences between 'transformers' versions. Attempting to load with strict=False as a fallback...\n",
      "\n",
      "If you see errors or degraded performance, download a newer compatible model or retrain your custom model with the current 'transformers' and 'spacy-transformers' versions. For more details and available updates, run: python -m spacy validate\n",
      "  warnings.warn(warn_msg)\n"
     ]
    }
   ],
   "source": [
    "import spacy\n",
    "\n",
    "# Load your model\n",
    "nlp = spacy.load(\"uk_ner_web_trf_13class\")"
   ]
  },
  {
   "cell_type": "code",
   "execution_count": 107,
   "metadata": {},
   "outputs": [],
   "source": [
    "from spacy.training import Example\n",
    "from spacy.tokens import DocBin"
   ]
  },
  {
   "cell_type": "code",
   "execution_count": 108,
   "metadata": {},
   "outputs": [],
   "source": [
    "test_data_path = \"/Users/linndfors/study/diploma/ner_for_fem/data/spacy_files_for_ner/ng_and_bruk_original/test.spacy\"\n",
    "doc_bin = DocBin().from_disk(test_data_path)\n",
    "docs = list(doc_bin.get_docs(nlp.vocab))\n",
    "\n",
    "# Convert docs to Example objects\n",
    "examples = [Example.from_dict(doc, {\"entities\": [(ent.start_char, ent.end_char, ent.label_) for ent in doc.ents]})\n",
    "            for doc in docs]"
   ]
  },
  {
   "cell_type": "code",
   "execution_count": 109,
   "metadata": {},
   "outputs": [
    {
     "name": "stdout",
     "output_type": "stream",
     "text": [
      "{'token_acc': 1.0, 'token_p': 1.0, 'token_r': 1.0, 'token_f': 1.0, 'ents_p': 0.9594309057613748, 'ents_r': 1.0, 'ents_f': 0.979295470884256, 'ents_per_type': {'LOC': {'p': 0.9891172914147521, 'r': 1.0, 'f': 0.9945288753799392}, 'PCT': {'p': 1.0, 'r': 1.0, 'f': 1.0}, 'JOB': {'p': 0.8316455696202532, 'r': 1.0, 'f': 0.9080856945404284}, 'PERS': {'p': 0.9927073837739289, 'r': 1.0, 'f': 0.9963403476669717}, 'PERIOD': {'p': 0.893719806763285, 'r': 1.0, 'f': 0.9438775510204082}, 'ORG': {'p': 0.9840153452685422, 'r': 1.0, 'f': 0.9919432806961006}, 'MISC': {'p': 0.8022598870056498, 'r': 1.0, 'f': 0.8902821316614421}, 'QUANT': {'p': 0.9175257731958762, 'r': 1.0, 'f': 0.956989247311828}, 'DATE': {'p': 0.943502824858757, 'r': 1.0, 'f': 0.9709302325581396}, 'ART': {'p': 0.983402489626556, 'r': 1.0, 'f': 0.9916317991631798}, 'TIME': {'p': 0.9090909090909091, 'r': 1.0, 'f': 0.9523809523809523}, 'DOC': {'p': 0.8888888888888888, 'r': 1.0, 'f': 0.9411764705882353}, 'MON': {'p': 1.0, 'r': 1.0, 'f': 1.0}}, 'speed': 74.70483129488794}\n"
     ]
    }
   ],
   "source": [
    "# Import necessary tools\n",
    "from spacy.training import Example\n",
    "\n",
    "# Path to your test data\n",
    "# test_data_path = \"/Users/linndfors/study/diploma/ner_for_fem/data/spacy_files_for_ner/ng_and_bruk_original/test.spacy\"\n",
    "\n",
    "# Evaluate the model\n",
    "results = nlp.evaluate(examples)\n",
    "\n",
    "# Print the evaluation metrics\n",
    "print(results)\n"
   ]
  }
 ],
 "metadata": {
  "kernelspec": {
   "display_name": "new_venv",
   "language": "python",
   "name": "python3"
  },
  "language_info": {
   "codemirror_mode": {
    "name": "ipython",
    "version": 3
   },
   "file_extension": ".py",
   "mimetype": "text/x-python",
   "name": "python",
   "nbconvert_exporter": "python",
   "pygments_lexer": "ipython3",
   "version": "3.10.16"
  }
 },
 "nbformat": 4,
 "nbformat_minor": 2
}
