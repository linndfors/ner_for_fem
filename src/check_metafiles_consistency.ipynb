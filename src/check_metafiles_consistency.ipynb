{
 "cells": [
  {
   "cell_type": "code",
   "execution_count": null,
   "id": "c27b1ae8",
   "metadata": {},
   "outputs": [],
   "source": [
    "import pandas as pd\n",
    "import os"
   ]
  },
  {
   "cell_type": "code",
   "execution_count": null,
   "id": "b3d555a1",
   "metadata": {},
   "outputs": [],
   "source": [
    "def check_txt_meta_alignment(directory):\n",
    "    mismatches = []\n",
    "\n",
    "    for filename in os.listdir(directory):\n",
    "        if filename.endswith('.txt'):\n",
    "            base_name = os.path.splitext(filename)[0]\n",
    "            txt_path = os.path.join(directory, base_name + '.txt')\n",
    "            meta_path = os.path.join(directory, base_name + '.meta')\n",
    "\n",
    "            if not os.path.exists(meta_path):\n",
    "                print(f\"Missing .meta file for: {txt_path}\")\n",
    "                continue\n",
    "\n",
    "            with open(txt_path, 'r', encoding='utf-8') as txt_file:\n",
    "                txt_sentences = [line for line in txt_file.read().splitlines() if line.strip()]\n",
    "\n",
    "            with open(meta_path, 'r', encoding='utf-8') as meta_file:\n",
    "                meta_lines = meta_file.read().splitlines()\n",
    "\n",
    "            if len(txt_sentences) != len(meta_lines):\n",
    "                mismatches.append((base_name, len(txt_sentences), len(meta_lines)))\n",
    "\n",
    "    if mismatches:\n",
    "        print(\"Mismatched files:\")\n",
    "        for name, txt_count, meta_count in mismatches:\n",
    "            print(f\"{name}: {txt_count} sentences (non-empty), {meta_count} meta lines\")\n",
    "    else:\n",
    "        print(\"All files are correctly aligned.\")"
   ]
  },
  {
   "cell_type": "code",
   "execution_count": 9,
   "id": "71553aff",
   "metadata": {},
   "outputs": [
    {
     "name": "stdout",
     "output_type": "stream",
     "text": [
      "All files are correctly aligned.\n"
     ]
    }
   ],
   "source": [
    "check_txt_meta_alignment(\"/Users/linndfors/study/diploma/ner_for_fem/data/v2.0-swapped_filtering/data/bruk\")"
   ]
  },
  {
   "cell_type": "code",
   "execution_count": 12,
   "id": "bd027979",
   "metadata": {},
   "outputs": [
    {
     "name": "stdout",
     "output_type": "stream",
     "text": [
      "All files are correctly aligned.\n"
     ]
    }
   ],
   "source": [
    "check_txt_meta_alignment(\"/Users/linndfors/study/diploma/ner_for_fem/data/v2.0-swapped_filtering/data/ng\")"
   ]
  }
 ],
 "metadata": {
  "kernelspec": {
   "display_name": "new_venv",
   "language": "python",
   "name": "python3"
  },
  "language_info": {
   "codemirror_mode": {
    "name": "ipython",
    "version": 3
   },
   "file_extension": ".py",
   "mimetype": "text/x-python",
   "name": "python",
   "nbconvert_exporter": "python",
   "pygments_lexer": "ipython3",
   "version": "3.10.16"
  }
 },
 "nbformat": 4,
 "nbformat_minor": 5
}
