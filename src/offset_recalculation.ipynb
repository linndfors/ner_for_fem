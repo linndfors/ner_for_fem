{
 "cells": [
  {
   "cell_type": "code",
   "execution_count": null,
   "metadata": {},
   "outputs": [],
   "source": [
    "import os\n",
    "import pandas as pd\n",
    "import shutil\n",
    "import re"
   ]
  },
  {
   "cell_type": "code",
   "execution_count": null,
   "metadata": {},
   "outputs": [],
   "source": [
    "dir_with_ner_files = \"/Users/linndfors/study/diploma/ner_for_fem/data/data_for_ner/data_for_ner_swapped\""
   ]
  },
  {
   "cell_type": "code",
   "execution_count": null,
   "metadata": {},
   "outputs": [],
   "source": [
    "# source_dir = dir_with_ner_files\n",
    "# destination_dir = \"/Users/linndfors/study/diploma/ner_for_fem/data/data_for_ner/data_for_ner_swapped_sentences_extracted\"\n",
    "\n",
    "# shutil.copytree(source_dir, destination_dir)"
   ]
  },
  {
   "cell_type": "code",
   "execution_count": null,
   "metadata": {},
   "outputs": [],
   "source": [
    "parallel_dataset_bruk_dataset = pd.read_csv(\"/Users/linndfors/study/diploma/ner_for_fem/data/csv_files_with_par_sentences/bruk_parallel.csv\")\n",
    "parallel_dataset_ng_dataset = pd.read_csv(\"/Users/linndfors/study/diploma/ner_for_fem/data/csv_files_with_par_sentences/ng_parallel.csv\")"
   ]
  },
  {
   "cell_type": "code",
   "execution_count": null,
   "metadata": {},
   "outputs": [],
   "source": [
    "parallel_dataset_bruk_dataset.head()"
   ]
  },
  {
   "cell_type": "code",
   "execution_count": null,
   "metadata": {},
   "outputs": [],
   "source": [
    "def read_csv(csv_path, file_name):\n",
    "    \"\"\"Read CSV file and return a list of sentence IDs that need to be kept.\"\"\"\n",
    "    df = pd.read_csv(csv_path)\n",
    "    df = df[df['original_file_name'] == file_name.replace(\"_1.txt\", \".txt\")]\n",
    "    sentence_positions = {row['changed_sent_id']: row['changed_sentence'] for _, row in df.iterrows()}\n",
    "    return sentence_positions\n",
    "\n",
    "\n",
    "def filter_txt(txt_path, sentence_positions):\n",
    "    \"\"\"Filter sentences in the TXT file based on the CSV list and return updated text.\"\"\"\n",
    "    with open(txt_path, \"r\", encoding=\"utf-8\") as f:\n",
    "        sentences = f.readlines()\n",
    "\n",
    "    sentence_map = {}\n",
    "    \n",
    "    start_ind = 0\n",
    "    end_index = 0\n",
    "    for i, sentence in enumerate(sentences):\n",
    "        end_index += len(sentence)\n",
    "        if i in sentence_positions.keys():\n",
    "            selected_sent = sentence_positions[i]\n",
    "\n",
    "            sentence_map[i] = (selected_sent, start_ind, end_index)\n",
    "        start_ind += len(sentence)\n",
    "    return sentence_map\n",
    "\n",
    "def update_ann(ann_path, sentence_map):\n",
    "    \"\"\"Update annotation indices based on the new text mapping.\"\"\"\n",
    "    with open(ann_path, \"r\", encoding=\"utf-8\") as f:\n",
    "        ann_lines = f.readlines()\n",
    "    \n",
    "    updated_ann = []\n",
    "\n",
    "    add_ind_to_this_sent = {}\n",
    "    start_ind_len = 0\n",
    "\n",
    "    for line in ann_lines:\n",
    "        \n",
    "        match = re.match(r\"(T\\d+)\\t(\\w+)\\t(\\d+)\\s(\\d+)\\t(.+)\", line)\n",
    "        if match:\n",
    "            tid, label, start, end, text = match.groups()\n",
    "            start, end = int(start), int(end)\n",
    "\n",
    "            \n",
    "            for sent_ind, indxs in sentence_map.items():\n",
    "                selected_sent, sentence_start_ind, sentence_end_index = indxs\n",
    "                if start >= sentence_start_ind and end <= sentence_end_index:\n",
    "\n",
    "                    if sent_ind not in add_ind_to_this_sent.keys():\n",
    "                        add_ind_to_this_sent[sent_ind] = start_ind_len\n",
    "                        start_ind_len += len(selected_sent)\n",
    "\n",
    "                    updated_start = start - sentence_start_ind + add_ind_to_this_sent[sent_ind]\n",
    "                    updated_end = start - sentence_start_ind + len(text) + add_ind_to_this_sent[sent_ind]\n",
    "                    \n",
    "                    updated_ann.append(f\"{tid}\\t{label}\\t{updated_start} {updated_end}\\t{text}\\n\")\n",
    "\n",
    "    return updated_ann\n",
    "\n",
    "def create_new_txt_and_ann(txt_path, ann_path, sentence_positions):\n",
    "    \"\"\"Create new TXT and ANN files with only the selected sentences and updated annotations.\"\"\"\n",
    "    sentence_map = filter_txt(txt_path, sentence_positions)\n",
    "    updated_ann = update_ann(ann_path, sentence_map)\n",
    "    \n",
    "    new_txt_path = txt_path.replace(\".txt\", \"_filtered.txt\")\n",
    "    new_txt = \"\\n\".join(list(sentence_positions.values()))\n",
    "    if new_txt:\n",
    "        with open(new_txt_path, \"w\", encoding=\"utf-8\") as f:\n",
    "            f.write(new_txt)\n",
    "        \n",
    "        if updated_ann:\n",
    "            new_ann_path = ann_path.replace(\".ann\", \"_filtered.ann\")\n",
    "            with open(new_ann_path, \"w\", encoding=\"utf-8\") as f:\n",
    "                f.writelines(updated_ann)\n",
    "            \n",
    "    # print(f\"New filtered TXT saved at: {new_txt_path}\")\n",
    "    # print(f\"New filtered ANN saved at: {new_ann_path}\")"
   ]
  },
  {
   "cell_type": "code",
   "execution_count": null,
   "metadata": {},
   "outputs": [],
   "source": [
    "# # Example usage:\n",
    "\n",
    "# # /Users/linndfors/study/diploma/ner_for_fem/data/data_for_ner/data_for_ner_swapped_sentences_extracted/bruk_changed/c0c436cc9cb6_1_filtered.txt\n",
    "# # /Users/linndfors/study/diploma/ner_for_fem/data/data_for_ner/data_for_ner_swapped_sentences_extracted/bruk_changed/232be2c6b5c2_1.txt\n",
    "# txt_path = \"/Users/linndfors/study/diploma/ner_for_fem/data/data_for_ner/data_for_ner_swapped_sentences_extracted/bruk_changed/232be2c6b5c2_1.txt\"\n",
    "# ann_path = \"/Users/linndfors/study/diploma/ner_for_fem/data/data_for_ner/data_for_ner_swapped_sentences_extracted/bruk_changed/232be2c6b5c2_1.ann\"\n",
    "# csv_path = \"/Users/linndfors/study/diploma/ner_for_fem/data/csv_files_with_par_sentences/bruk_parallel.csv\"\n",
    "# file_name = Path(txt_path).name\n",
    "\n",
    "# # Read the sentence positions from the CSV file\n",
    "# sentence_positions = read_csv(csv_path, file_name)\n",
    "\n",
    "# # Create the new TXT and ANN files with selected sentences and updated annotations\n",
    "# create_new_txt_and_ann(txt_path, ann_path, sentence_positions)"
   ]
  },
  {
   "cell_type": "code",
   "execution_count": null,
   "metadata": {},
   "outputs": [],
   "source": [
    "import tqdm\n",
    "\n",
    "csv_path = \"/Users/linndfors/study/diploma/ner_for_fem/data/csv_files_with_par_sentences/ng_parallel.csv\"\n",
    "directory_path = '/Users/linndfors/study/diploma/ner_for_fem/data/data_for_ner/data_for_ner_swapped_sentences_extracted/ng_changed'\n",
    "\n",
    "files = [os.path.join(directory_path, f) for f in os.listdir(directory_path) \n",
    "                  if os.path.isfile(os.path.join(directory_path, f)) and \".txt\" in f]"
   ]
  },
  {
   "cell_type": "code",
   "execution_count": null,
   "metadata": {},
   "outputs": [],
   "source": [
    "fd7413336034_1_filtered"
   ]
  },
  {
   "cell_type": "code",
   "execution_count": null,
   "metadata": {},
   "outputs": [],
   "source": [
    "# for txt_path in tqdm.tqdm(files):\n",
    "    \n",
    "#     ann_path = txt_path.replace(\".txt\", \".ann\")\n",
    "#     file_name = Path(txt_path).name\n",
    "\n",
    "#     sentence_positions = read_csv(csv_path, file_name)\n",
    "#     create_new_txt_and_ann(txt_path, ann_path, sentence_positions)"
   ]
  },
  {
   "cell_type": "code",
   "execution_count": null,
   "metadata": {},
   "outputs": [],
   "source": [
    "import re\n",
    "\n",
    "def check_entity_indices(txt_path, ann_path):\n",
    "    bad_line = 0\n",
    "    \"\"\"Check whether entity indices in the .ann file match the text.\"\"\"\n",
    "    with open(txt_path, \"r\", encoding=\"utf-8\") as f:\n",
    "        text = f.read().strip()  # Read the full text and strip extra spaces or newlines\n",
    "\n",
    "    with open(ann_path, \"r\", encoding=\"utf-8\") as f:\n",
    "        ann_lines = f.readlines()\n",
    "\n",
    "    # Process each annotation line\n",
    "    for line in ann_lines:\n",
    "        match = re.match(r\"(T\\d+)\\t(\\w+)\\t(\\d+)\\s(\\d+)\\t(.+)\", line)\n",
    "        if match:\n",
    "            tid, label, start, end, entity_text = match.groups()\n",
    "            start, end = int(start), int(end)\n",
    "\n",
    "            # Extract the corresponding substring from the text\n",
    "            substring = text[start:end]\n",
    "\n",
    "            # Compare extracted substring with the annotation's text\n",
    "            if substring == entity_text:\n",
    "                pass\n",
    "                # print(f\"Annotation {tid} is correct: '{entity_text}' found at indices {start}-{end}\")\n",
    "            else:\n",
    "                # pass\n",
    "                bad_line += 1\n",
    "                print(f\"Annotation {tid} is incorrect: '{entity_text}' not found at indices {start}-{end}. Found '{substring}' instead.\")\n",
    "\n",
    "    if bad_line:\n",
    "        print(txt_path)\n",
    "    return bad_line\n"
   ]
  },
  {
   "cell_type": "code",
   "execution_count": null,
   "metadata": {},
   "outputs": [],
   "source": [
    "# directory_path = '/Users/linndfors/study/diploma/ner_for_fem/data/data_for_ner/data_for_ner_swapped_sentences_extracted/bruk_changed'\n",
    "\n",
    "# files = [os.path.join(directory_path, f) for f in os.listdir(directory_path) \n",
    "#                   if os.path.isfile(os.path.join(directory_path, f)) and \".txt\" in f]"
   ]
  },
  {
   "cell_type": "code",
   "execution_count": null,
   "metadata": {},
   "outputs": [],
   "source": [
    "# for f in os.listdir(directory_path):\n",
    "#     file_path = os.path.join(directory_path, f)\n",
    "    \n",
    "#     # Check if it's a file and contains the word 'filtered' in the name\n",
    "#     if os.path.isfile(file_path) and \"filtered\" in f:\n",
    "#         os.remove(file_path)  # Delete the file\n",
    "#         print(f\"Deleted: {file_path}\")"
   ]
  },
  {
   "cell_type": "code",
   "execution_count": null,
   "metadata": {},
   "outputs": [],
   "source": [
    "directory_path_bruk = '/Users/linndfors/study/diploma/ner_for_fem/data/data_for_ner/data_for_ner_swapped_sentences_extracted/bruk_changed'\n",
    "\n",
    "filtered_files_bruk = [os.path.join(directory_path_bruk, f) for f in os.listdir(directory_path_bruk) \n",
    "                  if os.path.isfile(os.path.join(directory_path_bruk, f)) and \"filtered.txt\" in f]\n"
   ]
  },
  {
   "cell_type": "code",
   "execution_count": null,
   "metadata": {},
   "outputs": [],
   "source": [
    "counter = 0\n",
    "\n",
    "for f in filtered_files_bruk:\n",
    "    bad_file = check_entity_indices(f, f.replace(\".txt\", \".ann\"))\n",
    "    if bad_file:\n",
    "        counter += 1"
   ]
  },
  {
   "cell_type": "code",
   "execution_count": null,
   "metadata": {},
   "outputs": [],
   "source": [
    "counter"
   ]
  },
  {
   "cell_type": "code",
   "execution_count": null,
   "metadata": {},
   "outputs": [],
   "source": [
    "len(\"\"\"Так вважає аналітикиня Любов Жмеренецька ( див . « Українську правду » ) .\n",
    "\n",
    "« Найщиріші бажання поодиноких політичних груп та лідерів покращити ситуацію згасають , стикаючись із фундаментальними принципами старої системи , - підкреслює аналітикиня . - Фрагментарні реформи наштовхуються на саботаж громадян та управлінців , нівелюються шляхом використання розгалуженої системи законодавчих норм , що роками виписувалися для реалізації корупційних схем .\n",
    "\n",
    "Політологиня з РФ Тетяна Чижова зазначає , що « в суспільстві зростає націоналізм , підживлений патріотичною риторикою .\n",
    "\n",
    "Кажуть , для них іконою здатна стати Ольга Гіркіна ( колишня міністерка оборони самопроголошеної ДНР , російська офіцерка . - Ред . ) .\n",
    "\n",
    "Під загрозою весь Північний Кавказ » , - підкреслює політологиня .\n",
    "\n",
    "Насамперед від місцевих чиновниць і силовиць .\n",
    "\n",
    "Радниця Президента України Ірина Медведєва ( посилаємося на ranok . ictv . ua ) нагадує : нещодавно експертки і політики запевняли , що \"\"\")"
   ]
  },
  {
   "cell_type": "code",
   "execution_count": null,
   "metadata": {},
   "outputs": [],
   "source": [
    "len(\"\"\"Камінь , розцяцькований темними крапками , \"\"\")"
   ]
  },
  {
   "cell_type": "markdown",
   "metadata": {},
   "source": [
    "## ng"
   ]
  },
  {
   "cell_type": "markdown",
   "metadata": {},
   "source": [
    "<!-- /Users/linndfors/study/diploma/ner_for_fem/data/data_for_ner_orig/ng/6b71dda907fe.txt -->"
   ]
  },
  {
   "cell_type": "code",
   "execution_count": null,
   "metadata": {},
   "outputs": [],
   "source": [
    "directory_path = '/Users/linndfors/study/diploma/ner_for_fem/data/data_for_ner/data_for_ner_swapped_sentences_extracted/ng_changed'\n",
    "\n",
    "filtered_files = [os.path.join(directory_path, f) for f in os.listdir(directory_path) \n",
    "                  if os.path.isfile(os.path.join(directory_path, f)) and \"filtered.txt\" in f]"
   ]
  },
  {
   "cell_type": "code",
   "execution_count": null,
   "metadata": {},
   "outputs": [],
   "source": [
    "len(filtered_files)"
   ]
  },
  {
   "cell_type": "code",
   "execution_count": 1272,
   "metadata": {},
   "outputs": [],
   "source": [
    "counter = 0\n",
    "avg_bad_lines = 0\n",
    "\n",
    "for f in filtered_files:\n",
    "    bad_line = check_entity_indices(f, f.replace(\".txt\", \".ann\"))\n",
    "    if bad_line:\n",
    "        avg_bad_lines += bad_line\n",
    "        counter += 1"
   ]
  },
  {
   "cell_type": "code",
   "execution_count": 1246,
   "metadata": {},
   "outputs": [
    {
     "data": {
      "text/plain": [
       "49.0"
      ]
     },
     "execution_count": 1246,
     "metadata": {},
     "output_type": "execute_result"
    }
   ],
   "source": [
    "avg_bad_lines/counter"
   ]
  },
  {
   "cell_type": "code",
   "execution_count": 1247,
   "metadata": {},
   "outputs": [
    {
     "data": {
      "text/plain": [
       "1"
      ]
     },
     "execution_count": 1247,
     "metadata": {},
     "output_type": "execute_result"
    }
   ],
   "source": [
    "counter"
   ]
  },
  {
   "cell_type": "code",
   "execution_count": null,
   "metadata": {},
   "outputs": [],
   "source": [
    "len(\"\"\"За словами директорки «Національного туристичного офісу» Олександри Литвяк, німецька сторона запропонувала чотирьом містам України безкоштовну участь у експозиції, виділивши загалом 450 кв м площі.\n",
    "В її підготовці візьмуть участь як державні \"\"\")"
   ]
  },
  {
   "cell_type": "markdown",
   "metadata": {},
   "source": [
    "## T# Nornalization"
   ]
  },
  {
   "cell_type": "markdown",
   "metadata": {},
   "source": [
    "delete all old orig files"
   ]
  },
  {
   "cell_type": "code",
   "execution_count": null,
   "metadata": {},
   "outputs": [],
   "source": [
    "import os\n",
    "\n",
    "def delete_ann_files(directory):\n",
    "    for filename in os.listdir(directory):\n",
    "        if filename.endswith(\"_1.ann\"):\n",
    "            file_path = os.path.join(directory, filename)\n",
    "            os.remove(file_path)\n",
    "            print(f\"Deleted: {filename}\")\n",
    "        elif filename.endswith(\"_1.txt\"):\n",
    "            file_path = os.path.join(directory, filename)\n",
    "            os.remove(file_path)\n",
    "            print(f\"Deleted: {filename}\")\n",
    "\n",
    "\n",
    "# directory = \"/Users/linndfors/study/diploma/data_to_change_T_numbers_NER/bruk_changed\"\n",
    "directory = \"/Users/linndfors/study/diploma/data_to_change_T_numbers_NER/ng_changed\" # копія /Users/linndfors/study/diploma/ner_for_fem/data/data_for_ner/data_for_ner_swapped_sentences_extracted\n",
    "\n",
    "delete_ann_files(directory)"
   ]
  },
  {
   "cell_type": "code",
   "execution_count": null,
   "metadata": {},
   "outputs": [
    {
     "name": "stdout",
     "output_type": "stream",
     "text": [
      "548\n"
     ]
    }
   ],
   "source": [
    "def count_files(directory):\n",
    "    return len([f for f in os.listdir(directory) if os.path.isfile(os.path.join(directory, f))])\n",
    "\n",
    "directory = \"/Users/linndfors/study/diploma/test_change_dir/ng_changed\" # копія /Users/linndfors/study/diploma/data_to_change_T_numbers_NER/ng_changed\n",
    "file_count = count_files(directory)\n",
    "print(file_count)"
   ]
  },
  {
   "cell_type": "markdown",
   "metadata": {},
   "source": [
    "renumbered"
   ]
  },
  {
   "cell_type": "code",
   "execution_count": null,
   "metadata": {},
   "outputs": [],
   "source": [
    "import os\n",
    "import re\n",
    "\n",
    "def renumber_ann_file(file_path):\n",
    "    with open(file_path, \"r\", encoding=\"utf-8\") as f:\n",
    "        lines = f.readlines()\n",
    "    \n",
    "    # Extract and sort T-annotations\n",
    "    t_annotations = [line for line in lines if line.startswith(\"T\")]\n",
    "    others = [line for line in lines if not line.startswith(\"T\")]\n",
    "    \n",
    "    # Renumber T-annotations sequentially\n",
    "    new_t_annotations = []\n",
    "    t_map = {}\n",
    "    for i, line in enumerate(t_annotations, start=1):\n",
    "        old_t_num = re.match(r\"T\\d+\", line).group()\n",
    "        new_t_num = f\"T{i}\"\n",
    "        t_map[old_t_num] = new_t_num\n",
    "        new_t_annotations.append(re.sub(r\"T\\d+\", new_t_num, line, count=1))\n",
    "    \n",
    "    # Replace old T-numbers in other annotation references\n",
    "    new_other_annotations = []\n",
    "    for line in others:\n",
    "        for old_t, new_t in t_map.items():\n",
    "            line = line.replace(old_t, new_t)\n",
    "        new_other_annotations.append(line)\n",
    "    \n",
    "    # Write back to file\n",
    "    with open(file_path, \"w\", encoding=\"utf-8\") as f:\n",
    "        f.writelines(new_t_annotations + new_other_annotations)\n",
    "\n",
    "def renumber_directoy(directory):\n",
    "    for filename in os.listdir(directory):\n",
    "        if filename.endswith(\".ann\"):\n",
    "            file_path = os.path.join(directory, filename)\n",
    "            renumber_ann_file(file_path)\n",
    "            print(f\"Processed: {filename}\")\n",
    "\n",
    "# directory = \"/Users/linndfors/study/diploma/test_change_dir/bruk_changed\"\n",
    "# directory = \"/Users/linndfors/study/diploma/test_change_dir/ng_changed\"\n",
    "\n",
    "# renumber_directoy(directory)"
   ]
  },
  {
   "cell_type": "markdown",
   "metadata": {},
   "source": [
    "## Extract only JOB and PERS"
   ]
  },
  {
   "cell_type": "code",
   "execution_count": 1290,
   "metadata": {},
   "outputs": [
    {
     "name": "stdout",
     "output_type": "stream",
     "text": [
      "Filtered file updated: /Users/linndfors/study/diploma/test_change_dir/bruk_changed/4b1efc986bb8_1_filtered.ann\n",
      "Filtered file updated: /Users/linndfors/study/diploma/test_change_dir/bruk_changed/5e10574a909c_1_filtered.ann\n",
      "Filtered file updated: /Users/linndfors/study/diploma/test_change_dir/bruk_changed/18ec3aea7ed7_1_filtered.ann\n",
      "Filtered file updated: /Users/linndfors/study/diploma/test_change_dir/bruk_changed/ef1b6bd52747_1_filtered.ann\n",
      "Filtered file updated: /Users/linndfors/study/diploma/test_change_dir/bruk_changed/c6807dbff658_1_filtered.ann\n",
      "Filtered file updated: /Users/linndfors/study/diploma/test_change_dir/bruk_changed/5710814a4a84_1_filtered.ann\n",
      "Filtered file updated: /Users/linndfors/study/diploma/test_change_dir/bruk_changed/47eb526780b0_1_filtered.ann\n",
      "Filtered file updated: /Users/linndfors/study/diploma/test_change_dir/bruk_changed/13e0cb95075a_1_filtered.ann\n",
      "Filtered file updated: /Users/linndfors/study/diploma/test_change_dir/bruk_changed/38603af07530_1_filtered.ann\n",
      "Filtered file updated: /Users/linndfors/study/diploma/test_change_dir/bruk_changed/6b5d4229b548_1_filtered.ann\n",
      "Filtered file updated: /Users/linndfors/study/diploma/test_change_dir/bruk_changed/e0493ec8466b_1_filtered.ann\n",
      "Filtered file updated: /Users/linndfors/study/diploma/test_change_dir/bruk_changed/e023d6d6f1a3_1_filtered.ann\n",
      "Filtered file updated: /Users/linndfors/study/diploma/test_change_dir/bruk_changed/164940c99b86_1_filtered.ann\n",
      "Filtered file updated: /Users/linndfors/study/diploma/test_change_dir/bruk_changed/548f66f38090_1_filtered.ann\n",
      "Filtered file updated: /Users/linndfors/study/diploma/test_change_dir/bruk_changed/755c890a06fb_1_filtered.ann\n",
      "Filtered file updated: /Users/linndfors/study/diploma/test_change_dir/bruk_changed/efc2665e4bed_1_filtered.ann\n",
      "Filtered file updated: /Users/linndfors/study/diploma/test_change_dir/bruk_changed/fabc18a7d8fd_1_filtered.ann\n",
      "Filtered file updated: /Users/linndfors/study/diploma/test_change_dir/bruk_changed/326978d2c58c_1_filtered.ann\n",
      "Filtered file updated: /Users/linndfors/study/diploma/test_change_dir/bruk_changed/9df8bcf8e17e_1_filtered.ann\n",
      "Filtered file updated: /Users/linndfors/study/diploma/test_change_dir/bruk_changed/f4ca58272dbf_1_filtered.ann\n",
      "Filtered file updated: /Users/linndfors/study/diploma/test_change_dir/bruk_changed/bc755153f4f7_1_filtered.ann\n",
      "Filtered file updated: /Users/linndfors/study/diploma/test_change_dir/bruk_changed/b987128d15d3_1_filtered.ann\n",
      "Filtered file updated: /Users/linndfors/study/diploma/test_change_dir/bruk_changed/d3669729136c_1_filtered.ann\n",
      "Filtered file updated: /Users/linndfors/study/diploma/test_change_dir/bruk_changed/b84c8a869b51_1_filtered.ann\n",
      "Filtered file updated: /Users/linndfors/study/diploma/test_change_dir/bruk_changed/e21ddb9efb07_1_filtered.ann\n",
      "Filtered file updated: /Users/linndfors/study/diploma/test_change_dir/bruk_changed/d530671576f8_1_filtered.ann\n",
      "Filtered file updated: /Users/linndfors/study/diploma/test_change_dir/bruk_changed/dc1202fd9850_1_filtered.ann\n",
      "Filtered file updated: /Users/linndfors/study/diploma/test_change_dir/bruk_changed/17d3d678df81_1_filtered.ann\n",
      "Filtered file updated: /Users/linndfors/study/diploma/test_change_dir/bruk_changed/92d38b895fa4_1_filtered.ann\n",
      "Filtered file updated: /Users/linndfors/study/diploma/test_change_dir/bruk_changed/232be2c6b5c2_1_filtered.ann\n",
      "Filtered file updated: /Users/linndfors/study/diploma/test_change_dir/bruk_changed/1484f7813550_1_filtered.ann\n",
      "Filtered file updated: /Users/linndfors/study/diploma/test_change_dir/bruk_changed/c28168a23912_1_filtered.ann\n",
      "Filtered file updated: /Users/linndfors/study/diploma/test_change_dir/bruk_changed/66395d7c394b_1_filtered.ann\n",
      "Filtered file updated: /Users/linndfors/study/diploma/test_change_dir/bruk_changed/c375246adb0a_1_filtered.ann\n",
      "Filtered file updated: /Users/linndfors/study/diploma/test_change_dir/bruk_changed/79812f4abec1_1_filtered.ann\n",
      "Filtered file updated: /Users/linndfors/study/diploma/test_change_dir/bruk_changed/a196488351f6_1_filtered.ann\n",
      "Filtered file updated: /Users/linndfors/study/diploma/test_change_dir/bruk_changed/f9a926049262_1_filtered.ann\n",
      "Filtered file updated: /Users/linndfors/study/diploma/test_change_dir/bruk_changed/547ce681ada8_1_filtered.ann\n",
      "Filtered file updated: /Users/linndfors/study/diploma/test_change_dir/bruk_changed/b576ac602665_1_filtered.ann\n",
      "Filtered file updated: /Users/linndfors/study/diploma/test_change_dir/bruk_changed/46ae77c0ec97_1_filtered.ann\n",
      "Filtered file updated: /Users/linndfors/study/diploma/test_change_dir/bruk_changed/561acef3f531_1_filtered.ann\n",
      "Filtered file updated: /Users/linndfors/study/diploma/test_change_dir/bruk_changed/7b7daaeb9d7d_1_filtered.ann\n",
      "Filtered file updated: /Users/linndfors/study/diploma/test_change_dir/bruk_changed/3f4bafb349ae_1_filtered.ann\n",
      "Filtered file updated: /Users/linndfors/study/diploma/test_change_dir/bruk_changed/9fbfe077a27a_1_filtered.ann\n",
      "Filtered file updated: /Users/linndfors/study/diploma/test_change_dir/bruk_changed/132368095bab_1_filtered.ann\n",
      "Filtered file updated: /Users/linndfors/study/diploma/test_change_dir/bruk_changed/647a3f078f3f_1_filtered.ann\n",
      "Filtered file updated: /Users/linndfors/study/diploma/test_change_dir/bruk_changed/b3c847570902_1_filtered.ann\n",
      "Filtered file updated: /Users/linndfors/study/diploma/test_change_dir/bruk_changed/b381bc7842b1_1_filtered.ann\n",
      "Filtered file updated: /Users/linndfors/study/diploma/test_change_dir/bruk_changed/15238b87db03_1_filtered.ann\n",
      "Filtered file updated: /Users/linndfors/study/diploma/test_change_dir/bruk_changed/9d4b90129d10_1_filtered.ann\n",
      "Filtered file updated: /Users/linndfors/study/diploma/test_change_dir/bruk_changed/c0c436cc9cb6_1_filtered.ann\n",
      "Filtered file updated: /Users/linndfors/study/diploma/test_change_dir/bruk_changed/91024fa21059_1_filtered.ann\n",
      "Filtered file updated: /Users/linndfors/study/diploma/test_change_dir/bruk_changed/0ac5140eb732_1_filtered.ann\n",
      "Filtered file updated: /Users/linndfors/study/diploma/test_change_dir/bruk_changed/5a75a46fecdf_1_filtered.ann\n",
      "Filtered file updated: /Users/linndfors/study/diploma/test_change_dir/bruk_changed/bf4968831cc7_1_filtered.ann\n",
      "Filtered file updated: /Users/linndfors/study/diploma/test_change_dir/bruk_changed/dcbb9ddb4aaa_1_filtered.ann\n",
      "Filtered file updated: /Users/linndfors/study/diploma/test_change_dir/bruk_changed/8cc49a8b2d76_1_filtered.ann\n",
      "Filtered file updated: /Users/linndfors/study/diploma/test_change_dir/bruk_changed/a1a77d3d5b33_1_filtered.ann\n",
      "Filtered file updated: /Users/linndfors/study/diploma/test_change_dir/bruk_changed/09d6a57532b6_1_filtered.ann\n",
      "Filtered file updated: /Users/linndfors/study/diploma/test_change_dir/bruk_changed/06d78909a7ab_1_filtered.ann\n",
      "Filtered file updated: /Users/linndfors/study/diploma/test_change_dir/bruk_changed/7b2c9399fee9_1_filtered.ann\n",
      "Filtered file updated: /Users/linndfors/study/diploma/test_change_dir/bruk_changed/27a1722d517c_1_filtered.ann\n",
      "Filtered file updated: /Users/linndfors/study/diploma/test_change_dir/bruk_changed/766e1942f398_1_filtered.ann\n",
      "Filtered file updated: /Users/linndfors/study/diploma/test_change_dir/bruk_changed/f4136bfda19a_1_filtered.ann\n",
      "Filtered file updated: /Users/linndfors/study/diploma/test_change_dir/bruk_changed/52049bc57554_1_filtered.ann\n",
      "Filtered file updated: /Users/linndfors/study/diploma/test_change_dir/bruk_changed/1448663b16b2_1_filtered.ann\n",
      "Filtered file updated: /Users/linndfors/study/diploma/test_change_dir/bruk_changed/2298b6b41bec_1_filtered.ann\n",
      "Filtered file updated: /Users/linndfors/study/diploma/test_change_dir/bruk_changed/ff069c11e13d_1_filtered.ann\n",
      "Filtered file updated: /Users/linndfors/study/diploma/test_change_dir/bruk_changed/5207847a2e1d_1_filtered.ann\n",
      "Filtered file updated: /Users/linndfors/study/diploma/test_change_dir/bruk_changed/0d902430768c_1_filtered.ann\n",
      "Filtered file updated: /Users/linndfors/study/diploma/test_change_dir/bruk_changed/17fbae84faea_1_filtered.ann\n",
      "Filtered file updated: /Users/linndfors/study/diploma/test_change_dir/bruk_changed/ea3fab248fbe_1_filtered.ann\n",
      "Filtered file updated: /Users/linndfors/study/diploma/test_change_dir/bruk_changed/85622bc925dc_1_filtered.ann\n",
      "Filtered file updated: /Users/linndfors/study/diploma/test_change_dir/bruk_changed/0b962bee49bc_1_filtered.ann\n",
      "Filtered file updated: /Users/linndfors/study/diploma/test_change_dir/bruk_changed/6e4853575182_1_filtered.ann\n",
      "Filtered file updated: /Users/linndfors/study/diploma/test_change_dir/bruk_changed/87ae82667e2a_1_filtered.ann\n",
      "Filtered file updated: /Users/linndfors/study/diploma/test_change_dir/bruk_changed/e1dbe335e762_1_filtered.ann\n",
      "Filtered file updated: /Users/linndfors/study/diploma/test_change_dir/bruk_changed/d30e0fb50f0f_1_filtered.ann\n",
      "Filtered file updated: /Users/linndfors/study/diploma/test_change_dir/bruk_changed/710044df1fe0_1_filtered.ann\n",
      "Filtered file updated: /Users/linndfors/study/diploma/test_change_dir/bruk_changed/0046ebeff13e_1_filtered.ann\n",
      "Filtered file updated: /Users/linndfors/study/diploma/test_change_dir/bruk_changed/e9061171da9d_1_filtered.ann\n",
      "Filtered file updated: /Users/linndfors/study/diploma/test_change_dir/bruk_changed/9c0774172f73_1_filtered.ann\n",
      "Filtered file updated: /Users/linndfors/study/diploma/test_change_dir/bruk_changed/6b60e6fb3d78_1_filtered.ann\n",
      "Filtered file updated: /Users/linndfors/study/diploma/test_change_dir/bruk_changed/dc25535e13d7_1_filtered.ann\n",
      "Filtered file updated: /Users/linndfors/study/diploma/test_change_dir/bruk_changed/b87576a7425a_1_filtered.ann\n",
      "Filtered file updated: /Users/linndfors/study/diploma/test_change_dir/bruk_changed/1c325fde9ed4_1_filtered.ann\n",
      "Filtered file updated: /Users/linndfors/study/diploma/test_change_dir/bruk_changed/71a651d2dbec_1_filtered.ann\n",
      "Filtered file updated: /Users/linndfors/study/diploma/test_change_dir/bruk_changed/d08ea0bbac66_1_filtered.ann\n",
      "Filtered file updated: /Users/linndfors/study/diploma/test_change_dir/bruk_changed/5764f733fff2_1_filtered.ann\n",
      "Filtered file updated: /Users/linndfors/study/diploma/test_change_dir/bruk_changed/f958ce8bb461_1_filtered.ann\n",
      "Filtered file updated: /Users/linndfors/study/diploma/test_change_dir/bruk_changed/e010e86e436c_1_filtered.ann\n",
      "Filtered file updated: /Users/linndfors/study/diploma/test_change_dir/bruk_changed/e1d8841dcc68_1_filtered.ann\n",
      "Filtered file updated: /Users/linndfors/study/diploma/test_change_dir/bruk_changed/257fca043205_1_filtered.ann\n",
      "Filtered file updated: /Users/linndfors/study/diploma/test_change_dir/bruk_changed/c3402705f448_1_filtered.ann\n",
      "Filtered file updated: /Users/linndfors/study/diploma/test_change_dir/bruk_changed/e8188caa466c_1_filtered.ann\n",
      "Filtered file updated: /Users/linndfors/study/diploma/test_change_dir/bruk_changed/aad4dce361f1_1_filtered.ann\n",
      "Filtered file updated: /Users/linndfors/study/diploma/test_change_dir/bruk_changed/2846bf1d66a8_1_filtered.ann\n",
      "Filtered file updated: /Users/linndfors/study/diploma/test_change_dir/bruk_changed/a616672f4a8b_1_filtered.ann\n",
      "Filtered file updated: /Users/linndfors/study/diploma/test_change_dir/bruk_changed/1ed3fef56c8f_1_filtered.ann\n",
      "Filtered file updated: /Users/linndfors/study/diploma/test_change_dir/bruk_changed/c0f24f5d70e3_1_filtered.ann\n",
      "Filtered file updated: /Users/linndfors/study/diploma/test_change_dir/bruk_changed/5a0aedfe0f5d_1_filtered.ann\n",
      "Filtered file updated: /Users/linndfors/study/diploma/test_change_dir/bruk_changed/b09a79bafe6c_1_filtered.ann\n",
      "Filtered file updated: /Users/linndfors/study/diploma/test_change_dir/bruk_changed/fc8f156aa82b_1_filtered.ann\n",
      "Filtered file updated: /Users/linndfors/study/diploma/test_change_dir/bruk_changed/1c37d315923c_1_filtered.ann\n",
      "Filtered file updated: /Users/linndfors/study/diploma/test_change_dir/bruk_changed/e5e76a8efa0f_1_filtered.ann\n",
      "Filtered file updated: /Users/linndfors/study/diploma/test_change_dir/bruk_changed/3ba7ca929d68_1_filtered.ann\n",
      "Filtered file updated: /Users/linndfors/study/diploma/test_change_dir/bruk_changed/74a7e2a340dd_1_filtered.ann\n",
      "Filtered file updated: /Users/linndfors/study/diploma/test_change_dir/bruk_changed/d81f996d0ab8_1_filtered.ann\n",
      "Filtered file updated: /Users/linndfors/study/diploma/test_change_dir/bruk_changed/dac0de834f47_1_filtered.ann\n",
      "Filtered file updated: /Users/linndfors/study/diploma/test_change_dir/bruk_changed/b019e9b8d51d_1_filtered.ann\n",
      "Filtered file updated: /Users/linndfors/study/diploma/test_change_dir/bruk_changed/9494fddb0caa_1_filtered.ann\n",
      "Filtered file updated: /Users/linndfors/study/diploma/test_change_dir/bruk_changed/fad2422a7bf3_1_filtered.ann\n",
      "Filtered file updated: /Users/linndfors/study/diploma/test_change_dir/bruk_changed/5085bb95b51a_1_filtered.ann\n",
      "Filtered file updated: /Users/linndfors/study/diploma/test_change_dir/bruk_changed/cee02d4c030f_1_filtered.ann\n",
      "Filtered file updated: /Users/linndfors/study/diploma/test_change_dir/bruk_changed/624df1293f3d_1_filtered.ann\n",
      "Filtered file updated: /Users/linndfors/study/diploma/test_change_dir/bruk_changed/bd86f567c746_1_filtered.ann\n",
      "Filtered file updated: /Users/linndfors/study/diploma/test_change_dir/bruk_changed/2fc890744f7c_1_filtered.ann\n",
      "Filtered file updated: /Users/linndfors/study/diploma/test_change_dir/bruk_changed/d07dfb774c28_1_filtered.ann\n",
      "Filtered file updated: /Users/linndfors/study/diploma/test_change_dir/bruk_changed/e3c7064319e0_1_filtered.ann\n",
      "Filtered file updated: /Users/linndfors/study/diploma/test_change_dir/bruk_changed/2cc21b456aad_1_filtered.ann\n",
      "Filtered file updated: /Users/linndfors/study/diploma/test_change_dir/bruk_changed/bdda872d3ef9_1_filtered.ann\n",
      "Filtered file updated: /Users/linndfors/study/diploma/test_change_dir/bruk_changed/f5bb37569413_1_filtered.ann\n",
      "Filtered file updated: /Users/linndfors/study/diploma/test_change_dir/bruk_changed/f495f41dfa02_1_filtered.ann\n",
      "Filtered file updated: /Users/linndfors/study/diploma/test_change_dir/bruk_changed/cad2484c0cc8_1_filtered.ann\n",
      "Filtered file updated: /Users/linndfors/study/diploma/test_change_dir/bruk_changed/8951230172d0_1_filtered.ann\n",
      "Filtered file updated: /Users/linndfors/study/diploma/test_change_dir/bruk_changed/d3d5522aa52e_1_filtered.ann\n",
      "Filtered file updated: /Users/linndfors/study/diploma/test_change_dir/bruk_changed/937c38344fdf_1_filtered.ann\n",
      "Filtered file updated: /Users/linndfors/study/diploma/test_change_dir/bruk_changed/10a2da5c514c_1_filtered.ann\n",
      "Filtered file updated: /Users/linndfors/study/diploma/test_change_dir/bruk_changed/f161f5134505_1_filtered.ann\n",
      "Filtered file updated: /Users/linndfors/study/diploma/test_change_dir/bruk_changed/066ec5f0dea6_1_filtered.ann\n",
      "Filtered file updated: /Users/linndfors/study/diploma/test_change_dir/bruk_changed/a487d1895726_1_filtered.ann\n"
     ]
    }
   ],
   "source": [
    "def filter_ann_file(file_path):\n",
    "    with open(file_path, \"r\", encoding=\"utf-8\") as f:\n",
    "        lines = f.readlines()\n",
    "    \n",
    "    # Keep only JOB and PERS entities\n",
    "    filtered_lines = [line for line in lines if re.match(r\"T\\d+\\t(JOB|PERS)\\b\", line)]\n",
    "    \n",
    "    # Save filtered content back to the original file\n",
    "    with open(file_path, \"w\", encoding=\"utf-8\") as f:\n",
    "        f.writelines(filtered_lines)\n",
    "    \n",
    "    print(f\"Filtered file updated: {file_path}\")\n",
    "\n",
    "def process_directory(directory):\n",
    "    for filename in os.listdir(directory):\n",
    "        if filename.endswith(\".ann\"):\n",
    "            file_path = os.path.join(directory, filename)\n",
    "            filter_ann_file(file_path)\n",
    "\n",
    "# source_directory = \"/Users/linndfors/study/diploma/test_change_dir/ng_changed\"\n",
    "source_directory = \"/Users/linndfors/study/diploma/test_change_dir/bruk_changed\"\n",
    "\n",
    "process_directory(source_directory)"
   ]
  },
  {
   "cell_type": "code",
   "execution_count": 1291,
   "metadata": {},
   "outputs": [
    {
     "name": "stdout",
     "output_type": "stream",
     "text": [
      "Processed: 4b1efc986bb8_1_filtered.ann\n",
      "Processed: 5e10574a909c_1_filtered.ann\n",
      "Processed: 18ec3aea7ed7_1_filtered.ann\n",
      "Processed: ef1b6bd52747_1_filtered.ann\n",
      "Processed: c6807dbff658_1_filtered.ann\n",
      "Processed: 5710814a4a84_1_filtered.ann\n",
      "Processed: 47eb526780b0_1_filtered.ann\n",
      "Processed: 13e0cb95075a_1_filtered.ann\n",
      "Processed: 38603af07530_1_filtered.ann\n",
      "Processed: 6b5d4229b548_1_filtered.ann\n",
      "Processed: e0493ec8466b_1_filtered.ann\n",
      "Processed: e023d6d6f1a3_1_filtered.ann\n",
      "Processed: 164940c99b86_1_filtered.ann\n",
      "Processed: 548f66f38090_1_filtered.ann\n",
      "Processed: 755c890a06fb_1_filtered.ann\n",
      "Processed: efc2665e4bed_1_filtered.ann\n",
      "Processed: fabc18a7d8fd_1_filtered.ann\n",
      "Processed: 326978d2c58c_1_filtered.ann\n",
      "Processed: 9df8bcf8e17e_1_filtered.ann\n",
      "Processed: f4ca58272dbf_1_filtered.ann\n",
      "Processed: bc755153f4f7_1_filtered.ann\n",
      "Processed: b987128d15d3_1_filtered.ann\n",
      "Processed: d3669729136c_1_filtered.ann\n",
      "Processed: b84c8a869b51_1_filtered.ann\n",
      "Processed: e21ddb9efb07_1_filtered.ann\n",
      "Processed: d530671576f8_1_filtered.ann\n",
      "Processed: dc1202fd9850_1_filtered.ann\n",
      "Processed: 17d3d678df81_1_filtered.ann\n",
      "Processed: 92d38b895fa4_1_filtered.ann\n",
      "Processed: 232be2c6b5c2_1_filtered.ann\n",
      "Processed: 1484f7813550_1_filtered.ann\n",
      "Processed: c28168a23912_1_filtered.ann\n",
      "Processed: 66395d7c394b_1_filtered.ann\n",
      "Processed: c375246adb0a_1_filtered.ann\n",
      "Processed: 79812f4abec1_1_filtered.ann\n",
      "Processed: a196488351f6_1_filtered.ann\n",
      "Processed: f9a926049262_1_filtered.ann\n",
      "Processed: 547ce681ada8_1_filtered.ann\n",
      "Processed: b576ac602665_1_filtered.ann\n",
      "Processed: 46ae77c0ec97_1_filtered.ann\n",
      "Processed: 561acef3f531_1_filtered.ann\n",
      "Processed: 7b7daaeb9d7d_1_filtered.ann\n",
      "Processed: 3f4bafb349ae_1_filtered.ann\n",
      "Processed: 9fbfe077a27a_1_filtered.ann\n",
      "Processed: 132368095bab_1_filtered.ann\n",
      "Processed: 647a3f078f3f_1_filtered.ann\n",
      "Processed: b3c847570902_1_filtered.ann\n",
      "Processed: b381bc7842b1_1_filtered.ann\n",
      "Processed: 15238b87db03_1_filtered.ann\n",
      "Processed: 9d4b90129d10_1_filtered.ann\n",
      "Processed: c0c436cc9cb6_1_filtered.ann\n",
      "Processed: 91024fa21059_1_filtered.ann\n",
      "Processed: 0ac5140eb732_1_filtered.ann\n",
      "Processed: 5a75a46fecdf_1_filtered.ann\n",
      "Processed: bf4968831cc7_1_filtered.ann\n",
      "Processed: dcbb9ddb4aaa_1_filtered.ann\n",
      "Processed: 8cc49a8b2d76_1_filtered.ann\n",
      "Processed: a1a77d3d5b33_1_filtered.ann\n",
      "Processed: 09d6a57532b6_1_filtered.ann\n",
      "Processed: 06d78909a7ab_1_filtered.ann\n",
      "Processed: 7b2c9399fee9_1_filtered.ann\n",
      "Processed: 27a1722d517c_1_filtered.ann\n",
      "Processed: 766e1942f398_1_filtered.ann\n",
      "Processed: f4136bfda19a_1_filtered.ann\n",
      "Processed: 52049bc57554_1_filtered.ann\n",
      "Processed: 1448663b16b2_1_filtered.ann\n",
      "Processed: 2298b6b41bec_1_filtered.ann\n",
      "Processed: ff069c11e13d_1_filtered.ann\n",
      "Processed: 5207847a2e1d_1_filtered.ann\n",
      "Processed: 0d902430768c_1_filtered.ann\n",
      "Processed: 17fbae84faea_1_filtered.ann\n",
      "Processed: ea3fab248fbe_1_filtered.ann\n",
      "Processed: 85622bc925dc_1_filtered.ann\n",
      "Processed: 0b962bee49bc_1_filtered.ann\n",
      "Processed: 6e4853575182_1_filtered.ann\n",
      "Processed: 87ae82667e2a_1_filtered.ann\n",
      "Processed: e1dbe335e762_1_filtered.ann\n",
      "Processed: d30e0fb50f0f_1_filtered.ann\n",
      "Processed: 710044df1fe0_1_filtered.ann\n",
      "Processed: 0046ebeff13e_1_filtered.ann\n",
      "Processed: e9061171da9d_1_filtered.ann\n",
      "Processed: 9c0774172f73_1_filtered.ann\n",
      "Processed: 6b60e6fb3d78_1_filtered.ann\n",
      "Processed: dc25535e13d7_1_filtered.ann\n",
      "Processed: b87576a7425a_1_filtered.ann\n",
      "Processed: 1c325fde9ed4_1_filtered.ann\n",
      "Processed: 71a651d2dbec_1_filtered.ann\n",
      "Processed: d08ea0bbac66_1_filtered.ann\n",
      "Processed: 5764f733fff2_1_filtered.ann\n",
      "Processed: f958ce8bb461_1_filtered.ann\n",
      "Processed: e010e86e436c_1_filtered.ann\n",
      "Processed: e1d8841dcc68_1_filtered.ann\n",
      "Processed: 257fca043205_1_filtered.ann\n",
      "Processed: c3402705f448_1_filtered.ann\n",
      "Processed: e8188caa466c_1_filtered.ann\n",
      "Processed: aad4dce361f1_1_filtered.ann\n",
      "Processed: 2846bf1d66a8_1_filtered.ann\n",
      "Processed: a616672f4a8b_1_filtered.ann\n",
      "Processed: 1ed3fef56c8f_1_filtered.ann\n",
      "Processed: c0f24f5d70e3_1_filtered.ann\n",
      "Processed: 5a0aedfe0f5d_1_filtered.ann\n",
      "Processed: b09a79bafe6c_1_filtered.ann\n",
      "Processed: fc8f156aa82b_1_filtered.ann\n",
      "Processed: 1c37d315923c_1_filtered.ann\n",
      "Processed: e5e76a8efa0f_1_filtered.ann\n",
      "Processed: 3ba7ca929d68_1_filtered.ann\n",
      "Processed: 74a7e2a340dd_1_filtered.ann\n",
      "Processed: d81f996d0ab8_1_filtered.ann\n",
      "Processed: dac0de834f47_1_filtered.ann\n",
      "Processed: b019e9b8d51d_1_filtered.ann\n",
      "Processed: 9494fddb0caa_1_filtered.ann\n",
      "Processed: fad2422a7bf3_1_filtered.ann\n",
      "Processed: 5085bb95b51a_1_filtered.ann\n",
      "Processed: cee02d4c030f_1_filtered.ann\n",
      "Processed: 624df1293f3d_1_filtered.ann\n",
      "Processed: bd86f567c746_1_filtered.ann\n",
      "Processed: 2fc890744f7c_1_filtered.ann\n",
      "Processed: d07dfb774c28_1_filtered.ann\n",
      "Processed: e3c7064319e0_1_filtered.ann\n",
      "Processed: 2cc21b456aad_1_filtered.ann\n",
      "Processed: bdda872d3ef9_1_filtered.ann\n",
      "Processed: f5bb37569413_1_filtered.ann\n",
      "Processed: f495f41dfa02_1_filtered.ann\n",
      "Processed: cad2484c0cc8_1_filtered.ann\n",
      "Processed: 8951230172d0_1_filtered.ann\n",
      "Processed: d3d5522aa52e_1_filtered.ann\n",
      "Processed: 937c38344fdf_1_filtered.ann\n",
      "Processed: 10a2da5c514c_1_filtered.ann\n",
      "Processed: f161f5134505_1_filtered.ann\n",
      "Processed: 066ec5f0dea6_1_filtered.ann\n",
      "Processed: a487d1895726_1_filtered.ann\n"
     ]
    }
   ],
   "source": [
    "renumber_directoy(source_directory)"
   ]
  },
  {
   "cell_type": "markdown",
   "metadata": {},
   "source": [
    "renaming"
   ]
  },
  {
   "cell_type": "code",
   "execution_count": 1294,
   "metadata": {},
   "outputs": [
    {
     "name": "stdout",
     "output_type": "stream",
     "text": [
      "Renamed: c28168a23912_1_filtered.txt -> c28168a23912_1.txt\n",
      "Renamed: 4b1efc986bb8_1_filtered.ann -> 4b1efc986bb8_1.ann\n",
      "Renamed: 5e10574a909c_1_filtered.ann -> 5e10574a909c_1.ann\n",
      "Renamed: 1484f7813550_1_filtered.txt -> 1484f7813550_1.txt\n",
      "Renamed: 232be2c6b5c2_1_filtered.txt -> 232be2c6b5c2_1.txt\n",
      "Renamed: 92d38b895fa4_1_filtered.txt -> 92d38b895fa4_1.txt\n",
      "Renamed: 17d3d678df81_1_filtered.txt -> 17d3d678df81_1.txt\n",
      "Renamed: 18ec3aea7ed7_1_filtered.ann -> 18ec3aea7ed7_1.ann\n",
      "Renamed: ef1b6bd52747_1_filtered.ann -> ef1b6bd52747_1.ann\n",
      "Renamed: dc1202fd9850_1_filtered.txt -> dc1202fd9850_1.txt\n",
      "Renamed: d530671576f8_1_filtered.txt -> d530671576f8_1.txt\n",
      "Renamed: c6807dbff658_1_filtered.ann -> c6807dbff658_1.ann\n",
      "Renamed: e21ddb9efb07_1_filtered.txt -> e21ddb9efb07_1.txt\n",
      "Renamed: b84c8a869b51_1_filtered.txt -> b84c8a869b51_1.txt\n",
      "Renamed: 5710814a4a84_1_filtered.ann -> 5710814a4a84_1.ann\n",
      "Renamed: 47eb526780b0_1_filtered.ann -> 47eb526780b0_1.ann\n",
      "Renamed: d3669729136c_1_filtered.txt -> d3669729136c_1.txt\n",
      "Renamed: b987128d15d3_1_filtered.txt -> b987128d15d3_1.txt\n",
      "Renamed: bc755153f4f7_1_filtered.txt -> bc755153f4f7_1.txt\n",
      "Renamed: 13e0cb95075a_1_filtered.ann -> 13e0cb95075a_1.ann\n",
      "Renamed: 3f4bafb349ae_1_filtered.txt -> 3f4bafb349ae_1.txt\n",
      "Renamed: 9fbfe077a27a_1_filtered.txt -> 9fbfe077a27a_1.txt\n",
      "Renamed: 38603af07530_1_filtered.ann -> 38603af07530_1.ann\n",
      "Renamed: 6b5d4229b548_1_filtered.ann -> 6b5d4229b548_1.ann\n",
      "Renamed: 7b7daaeb9d7d_1_filtered.txt -> 7b7daaeb9d7d_1.txt\n",
      "Renamed: 561acef3f531_1_filtered.txt -> 561acef3f531_1.txt\n",
      "Renamed: e0493ec8466b_1_filtered.ann -> e0493ec8466b_1.ann\n",
      "Renamed: 46ae77c0ec97_1_filtered.txt -> 46ae77c0ec97_1.txt\n",
      "Renamed: b576ac602665_1_filtered.txt -> b576ac602665_1.txt\n",
      "Renamed: e023d6d6f1a3_1_filtered.ann -> e023d6d6f1a3_1.ann\n",
      "Renamed: 164940c99b86_1_filtered.ann -> 164940c99b86_1.ann\n",
      "Renamed: 548f66f38090_1_filtered.ann -> 548f66f38090_1.ann\n",
      "Renamed: 755c890a06fb_1_filtered.ann -> 755c890a06fb_1.ann\n",
      "Renamed: 547ce681ada8_1_filtered.txt -> 547ce681ada8_1.txt\n",
      "Renamed: efc2665e4bed_1_filtered.ann -> efc2665e4bed_1.ann\n",
      "Renamed: fabc18a7d8fd_1_filtered.ann -> fabc18a7d8fd_1.ann\n",
      "Renamed: a196488351f6_1_filtered.txt -> a196488351f6_1.txt\n",
      "Renamed: f9a926049262_1_filtered.txt -> f9a926049262_1.txt\n",
      "Renamed: 79812f4abec1_1_filtered.txt -> 79812f4abec1_1.txt\n",
      "Renamed: c375246adb0a_1_filtered.txt -> c375246adb0a_1.txt\n",
      "Renamed: 326978d2c58c_1_filtered.ann -> 326978d2c58c_1.ann\n",
      "Renamed: 9df8bcf8e17e_1_filtered.ann -> 9df8bcf8e17e_1.ann\n",
      "Renamed: 66395d7c394b_1_filtered.txt -> 66395d7c394b_1.txt\n",
      "Renamed: f4ca58272dbf_1_filtered.ann -> f4ca58272dbf_1.ann\n",
      "Renamed: bc755153f4f7_1_filtered.ann -> bc755153f4f7_1.ann\n",
      "Renamed: 13e0cb95075a_1_filtered.txt -> 13e0cb95075a_1.txt\n",
      "Renamed: b987128d15d3_1_filtered.ann -> b987128d15d3_1.ann\n",
      "Renamed: d3669729136c_1_filtered.ann -> d3669729136c_1.ann\n",
      "Renamed: 5710814a4a84_1_filtered.txt -> 5710814a4a84_1.txt\n",
      "Renamed: 47eb526780b0_1_filtered.txt -> 47eb526780b0_1.txt\n",
      "Renamed: b84c8a869b51_1_filtered.ann -> b84c8a869b51_1.ann\n",
      "Renamed: e21ddb9efb07_1_filtered.ann -> e21ddb9efb07_1.ann\n",
      "Renamed: c6807dbff658_1_filtered.txt -> c6807dbff658_1.txt\n",
      "Renamed: d530671576f8_1_filtered.ann -> d530671576f8_1.ann\n",
      "Renamed: 18ec3aea7ed7_1_filtered.txt -> 18ec3aea7ed7_1.txt\n",
      "Renamed: dc1202fd9850_1_filtered.ann -> dc1202fd9850_1.ann\n",
      "Renamed: ef1b6bd52747_1_filtered.txt -> ef1b6bd52747_1.txt\n",
      "Renamed: 17d3d678df81_1_filtered.ann -> 17d3d678df81_1.ann\n",
      "Renamed: 92d38b895fa4_1_filtered.ann -> 92d38b895fa4_1.ann\n",
      "Renamed: 232be2c6b5c2_1_filtered.ann -> 232be2c6b5c2_1.ann\n",
      "Renamed: 1484f7813550_1_filtered.ann -> 1484f7813550_1.ann\n",
      "Renamed: 5e10574a909c_1_filtered.txt -> 5e10574a909c_1.txt\n",
      "Renamed: 4b1efc986bb8_1_filtered.txt -> 4b1efc986bb8_1.txt\n",
      "Renamed: c28168a23912_1_filtered.ann -> c28168a23912_1.ann\n",
      "Renamed: f4ca58272dbf_1_filtered.txt -> f4ca58272dbf_1.txt\n",
      "Renamed: 326978d2c58c_1_filtered.txt -> 326978d2c58c_1.txt\n",
      "Renamed: 66395d7c394b_1_filtered.ann -> 66395d7c394b_1.ann\n",
      "Renamed: 9df8bcf8e17e_1_filtered.txt -> 9df8bcf8e17e_1.txt\n",
      "Renamed: c375246adb0a_1_filtered.ann -> c375246adb0a_1.ann\n",
      "Renamed: fabc18a7d8fd_1_filtered.txt -> fabc18a7d8fd_1.txt\n",
      "Renamed: 79812f4abec1_1_filtered.ann -> 79812f4abec1_1.ann\n",
      "Renamed: a196488351f6_1_filtered.ann -> a196488351f6_1.ann\n",
      "Renamed: f9a926049262_1_filtered.ann -> f9a926049262_1.ann\n",
      "Renamed: efc2665e4bed_1_filtered.txt -> efc2665e4bed_1.txt\n",
      "Renamed: 547ce681ada8_1_filtered.ann -> 547ce681ada8_1.ann\n",
      "Renamed: 548f66f38090_1_filtered.txt -> 548f66f38090_1.txt\n",
      "Renamed: 755c890a06fb_1_filtered.txt -> 755c890a06fb_1.txt\n",
      "Renamed: 164940c99b86_1_filtered.txt -> 164940c99b86_1.txt\n",
      "Renamed: e023d6d6f1a3_1_filtered.txt -> e023d6d6f1a3_1.txt\n",
      "Renamed: b576ac602665_1_filtered.ann -> b576ac602665_1.ann\n",
      "Renamed: 46ae77c0ec97_1_filtered.ann -> 46ae77c0ec97_1.ann\n",
      "Renamed: 561acef3f531_1_filtered.ann -> 561acef3f531_1.ann\n",
      "Renamed: e0493ec8466b_1_filtered.txt -> e0493ec8466b_1.txt\n",
      "Renamed: 7b7daaeb9d7d_1_filtered.ann -> 7b7daaeb9d7d_1.ann\n",
      "Renamed: 38603af07530_1_filtered.txt -> 38603af07530_1.txt\n",
      "Renamed: 6b5d4229b548_1_filtered.txt -> 6b5d4229b548_1.txt\n",
      "Renamed: 3f4bafb349ae_1_filtered.ann -> 3f4bafb349ae_1.ann\n",
      "Renamed: 9fbfe077a27a_1_filtered.ann -> 9fbfe077a27a_1.ann\n",
      "Renamed: 132368095bab_1_filtered.ann -> 132368095bab_1.ann\n",
      "Renamed: 647a3f078f3f_1_filtered.ann -> 647a3f078f3f_1.ann\n",
      "Renamed: b3c847570902_1_filtered.ann -> b3c847570902_1.ann\n",
      "Renamed: 766e1942f398_1_filtered.txt -> 766e1942f398_1.txt\n",
      "Renamed: b381bc7842b1_1_filtered.ann -> b381bc7842b1_1.ann\n",
      "Renamed: 15238b87db03_1_filtered.ann -> 15238b87db03_1.ann\n",
      "Renamed: 9d4b90129d10_1_filtered.ann -> 9d4b90129d10_1.ann\n",
      "Renamed: c0c436cc9cb6_1_filtered.ann -> c0c436cc9cb6_1.ann\n",
      "Renamed: 91024fa21059_1_filtered.ann -> 91024fa21059_1.ann\n",
      "Renamed: 0ac5140eb732_1_filtered.ann -> 0ac5140eb732_1.ann\n",
      "Renamed: 27a1722d517c_1_filtered.txt -> 27a1722d517c_1.txt\n",
      "Renamed: 7b2c9399fee9_1_filtered.txt -> 7b2c9399fee9_1.txt\n",
      "Renamed: 06d78909a7ab_1_filtered.txt -> 06d78909a7ab_1.txt\n",
      "Renamed: 5a75a46fecdf_1_filtered.ann -> 5a75a46fecdf_1.ann\n",
      "Renamed: bf4968831cc7_1_filtered.ann -> bf4968831cc7_1.ann\n",
      "Renamed: 0b962bee49bc_1_filtered.txt -> 0b962bee49bc_1.txt\n",
      "Renamed: 85622bc925dc_1_filtered.txt -> 85622bc925dc_1.txt\n",
      "Renamed: ea3fab248fbe_1_filtered.txt -> ea3fab248fbe_1.txt\n",
      "Renamed: 17fbae84faea_1_filtered.txt -> 17fbae84faea_1.txt\n",
      "Renamed: 5207847a2e1d_1_filtered.txt -> 5207847a2e1d_1.txt\n",
      "Renamed: 0d902430768c_1_filtered.txt -> 0d902430768c_1.txt\n",
      "Renamed: ff069c11e13d_1_filtered.txt -> ff069c11e13d_1.txt\n",
      "Renamed: 1448663b16b2_1_filtered.txt -> 1448663b16b2_1.txt\n",
      "Renamed: 2298b6b41bec_1_filtered.txt -> 2298b6b41bec_1.txt\n",
      "Renamed: dcbb9ddb4aaa_1_filtered.ann -> dcbb9ddb4aaa_1.ann\n",
      "Renamed: 8cc49a8b2d76_1_filtered.ann -> 8cc49a8b2d76_1.ann\n",
      "Renamed: a1a77d3d5b33_1_filtered.ann -> a1a77d3d5b33_1.ann\n",
      "Renamed: 52049bc57554_1_filtered.txt -> 52049bc57554_1.txt\n",
      "Renamed: f4136bfda19a_1_filtered.txt -> f4136bfda19a_1.txt\n",
      "Renamed: 09d6a57532b6_1_filtered.ann -> 09d6a57532b6_1.ann\n",
      "Renamed: 5a75a46fecdf_1_filtered.txt -> 5a75a46fecdf_1.txt\n",
      "Renamed: bf4968831cc7_1_filtered.txt -> bf4968831cc7_1.txt\n",
      "Renamed: 06d78909a7ab_1_filtered.ann -> 06d78909a7ab_1.ann\n",
      "Renamed: 7b2c9399fee9_1_filtered.ann -> 7b2c9399fee9_1.ann\n",
      "Renamed: 27a1722d517c_1_filtered.ann -> 27a1722d517c_1.ann\n",
      "Renamed: 0ac5140eb732_1_filtered.txt -> 0ac5140eb732_1.txt\n",
      "Renamed: c0c436cc9cb6_1_filtered.txt -> c0c436cc9cb6_1.txt\n",
      "Renamed: 91024fa21059_1_filtered.txt -> 91024fa21059_1.txt\n",
      "Renamed: b381bc7842b1_1_filtered.txt -> b381bc7842b1_1.txt\n",
      "Renamed: 9d4b90129d10_1_filtered.txt -> 9d4b90129d10_1.txt\n",
      "Renamed: 15238b87db03_1_filtered.txt -> 15238b87db03_1.txt\n",
      "Renamed: 766e1942f398_1_filtered.ann -> 766e1942f398_1.ann\n",
      "Renamed: b3c847570902_1_filtered.txt -> b3c847570902_1.txt\n",
      "Renamed: 647a3f078f3f_1_filtered.txt -> 647a3f078f3f_1.txt\n",
      "Renamed: 132368095bab_1_filtered.txt -> 132368095bab_1.txt\n",
      "Renamed: 09d6a57532b6_1_filtered.txt -> 09d6a57532b6_1.txt\n",
      "Renamed: f4136bfda19a_1_filtered.ann -> f4136bfda19a_1.ann\n",
      "Renamed: 52049bc57554_1_filtered.ann -> 52049bc57554_1.ann\n",
      "Renamed: 8cc49a8b2d76_1_filtered.txt -> 8cc49a8b2d76_1.txt\n",
      "Renamed: a1a77d3d5b33_1_filtered.txt -> a1a77d3d5b33_1.txt\n",
      "Renamed: 1448663b16b2_1_filtered.ann -> 1448663b16b2_1.ann\n",
      "Renamed: 2298b6b41bec_1_filtered.ann -> 2298b6b41bec_1.ann\n",
      "Renamed: dcbb9ddb4aaa_1_filtered.txt -> dcbb9ddb4aaa_1.txt\n",
      "Renamed: ff069c11e13d_1_filtered.ann -> ff069c11e13d_1.ann\n",
      "Renamed: 5207847a2e1d_1_filtered.ann -> 5207847a2e1d_1.ann\n",
      "Renamed: 0d902430768c_1_filtered.ann -> 0d902430768c_1.ann\n",
      "Renamed: 17fbae84faea_1_filtered.ann -> 17fbae84faea_1.ann\n",
      "Renamed: ea3fab248fbe_1_filtered.ann -> ea3fab248fbe_1.ann\n",
      "Renamed: 85622bc925dc_1_filtered.ann -> 85622bc925dc_1.ann\n",
      "Renamed: 0b962bee49bc_1_filtered.ann -> 0b962bee49bc_1.ann\n",
      "Renamed: 2846bf1d66a8_1_filtered.txt -> 2846bf1d66a8_1.txt\n",
      "Renamed: aad4dce361f1_1_filtered.txt -> aad4dce361f1_1.txt\n",
      "Renamed: e8188caa466c_1_filtered.txt -> e8188caa466c_1.txt\n",
      "Renamed: 6e4853575182_1_filtered.ann -> 6e4853575182_1.ann\n",
      "Renamed: 87ae82667e2a_1_filtered.ann -> 87ae82667e2a_1.ann\n",
      "Renamed: e1dbe335e762_1_filtered.ann -> e1dbe335e762_1.ann\n",
      "Renamed: c3402705f448_1_filtered.txt -> c3402705f448_1.txt\n",
      "Renamed: 257fca043205_1_filtered.txt -> 257fca043205_1.txt\n",
      "Renamed: e1d8841dcc68_1_filtered.txt -> e1d8841dcc68_1.txt\n",
      "Renamed: d30e0fb50f0f_1_filtered.ann -> d30e0fb50f0f_1.ann\n",
      "Renamed: 710044df1fe0_1_filtered.ann -> 710044df1fe0_1.ann\n",
      "Renamed: 0046ebeff13e_1_filtered.ann -> 0046ebeff13e_1.ann\n",
      "Renamed: e9061171da9d_1_filtered.ann -> e9061171da9d_1.ann\n",
      "Renamed: e010e86e436c_1_filtered.txt -> e010e86e436c_1.txt\n",
      "Renamed: 9c0774172f73_1_filtered.ann -> 9c0774172f73_1.ann\n",
      "Renamed: f958ce8bb461_1_filtered.txt -> f958ce8bb461_1.txt\n",
      "Renamed: fc8f156aa82b_1_filtered.txt -> fc8f156aa82b_1.txt\n",
      "Renamed: b09a79bafe6c_1_filtered.txt -> b09a79bafe6c_1.txt\n",
      "Renamed: 6b60e6fb3d78_1_filtered.ann -> 6b60e6fb3d78_1.ann\n",
      "Renamed: dc25535e13d7_1_filtered.ann -> dc25535e13d7_1.ann\n",
      "Renamed: 5a0aedfe0f5d_1_filtered.txt -> 5a0aedfe0f5d_1.txt\n",
      "Renamed: 1ed3fef56c8f_1_filtered.txt -> 1ed3fef56c8f_1.txt\n",
      "Renamed: c0f24f5d70e3_1_filtered.txt -> c0f24f5d70e3_1.txt\n",
      "Renamed: b87576a7425a_1_filtered.ann -> b87576a7425a_1.ann\n",
      "Renamed: 1c325fde9ed4_1_filtered.ann -> 1c325fde9ed4_1.ann\n",
      "Renamed: a616672f4a8b_1_filtered.txt -> a616672f4a8b_1.txt\n",
      "Renamed: 71a651d2dbec_1_filtered.ann -> 71a651d2dbec_1.ann\n",
      "Renamed: d08ea0bbac66_1_filtered.ann -> d08ea0bbac66_1.ann\n",
      "Renamed: 5764f733fff2_1_filtered.ann -> 5764f733fff2_1.ann\n",
      "Renamed: f958ce8bb461_1_filtered.ann -> f958ce8bb461_1.ann\n",
      "Renamed: 9c0774172f73_1_filtered.txt -> 9c0774172f73_1.txt\n",
      "Renamed: e010e86e436c_1_filtered.ann -> e010e86e436c_1.ann\n",
      "Renamed: e9061171da9d_1_filtered.txt -> e9061171da9d_1.txt\n",
      "Renamed: 0046ebeff13e_1_filtered.txt -> 0046ebeff13e_1.txt\n",
      "Renamed: 710044df1fe0_1_filtered.txt -> 710044df1fe0_1.txt\n",
      "Renamed: d30e0fb50f0f_1_filtered.txt -> d30e0fb50f0f_1.txt\n",
      "Renamed: e1d8841dcc68_1_filtered.ann -> e1d8841dcc68_1.ann\n",
      "Renamed: 257fca043205_1_filtered.ann -> 257fca043205_1.ann\n",
      "Renamed: e1dbe335e762_1_filtered.txt -> e1dbe335e762_1.txt\n",
      "Renamed: c3402705f448_1_filtered.ann -> c3402705f448_1.ann\n",
      "Renamed: 6e4853575182_1_filtered.txt -> 6e4853575182_1.txt\n",
      "Renamed: 87ae82667e2a_1_filtered.txt -> 87ae82667e2a_1.txt\n",
      "Renamed: e8188caa466c_1_filtered.ann -> e8188caa466c_1.ann\n",
      "Renamed: aad4dce361f1_1_filtered.ann -> aad4dce361f1_1.ann\n",
      "Renamed: 2846bf1d66a8_1_filtered.ann -> 2846bf1d66a8_1.ann\n",
      "Renamed: d08ea0bbac66_1_filtered.txt -> d08ea0bbac66_1.txt\n",
      "Renamed: 5764f733fff2_1_filtered.txt -> 5764f733fff2_1.txt\n",
      "Renamed: b87576a7425a_1_filtered.txt -> b87576a7425a_1.txt\n",
      "Renamed: a616672f4a8b_1_filtered.ann -> a616672f4a8b_1.ann\n",
      "Renamed: 71a651d2dbec_1_filtered.txt -> 71a651d2dbec_1.txt\n",
      "Renamed: 1c325fde9ed4_1_filtered.txt -> 1c325fde9ed4_1.txt\n",
      "Renamed: 1ed3fef56c8f_1_filtered.ann -> 1ed3fef56c8f_1.ann\n",
      "Renamed: c0f24f5d70e3_1_filtered.ann -> c0f24f5d70e3_1.ann\n",
      "Renamed: 6b60e6fb3d78_1_filtered.txt -> 6b60e6fb3d78_1.txt\n",
      "Renamed: 5a0aedfe0f5d_1_filtered.ann -> 5a0aedfe0f5d_1.ann\n",
      "Renamed: dc25535e13d7_1_filtered.txt -> dc25535e13d7_1.txt\n",
      "Renamed: b09a79bafe6c_1_filtered.ann -> b09a79bafe6c_1.ann\n",
      "Renamed: fc8f156aa82b_1_filtered.ann -> fc8f156aa82b_1.ann\n",
      "Renamed: 1c37d315923c_1_filtered.ann -> 1c37d315923c_1.ann\n",
      "Renamed: bdda872d3ef9_1_filtered.txt -> bdda872d3ef9_1.txt\n",
      "Renamed: 2cc21b456aad_1_filtered.txt -> 2cc21b456aad_1.txt\n",
      "Renamed: e5e76a8efa0f_1_filtered.ann -> e5e76a8efa0f_1.ann\n",
      "Renamed: e3c7064319e0_1_filtered.txt -> e3c7064319e0_1.txt\n",
      "Renamed: 3ba7ca929d68_1_filtered.ann -> 3ba7ca929d68_1.ann\n",
      "Renamed: 74a7e2a340dd_1_filtered.ann -> 74a7e2a340dd_1.ann\n",
      "Renamed: d07dfb774c28_1_filtered.txt -> d07dfb774c28_1.txt\n",
      "Renamed: 2fc890744f7c_1_filtered.txt -> 2fc890744f7c_1.txt\n",
      "Renamed: d81f996d0ab8_1_filtered.ann -> d81f996d0ab8_1.ann\n",
      "Renamed: dac0de834f47_1_filtered.ann -> dac0de834f47_1.ann\n",
      "Renamed: bd86f567c746_1_filtered.txt -> bd86f567c746_1.txt\n",
      "Renamed: a487d1895726_1_filtered.txt -> a487d1895726_1.txt\n",
      "Renamed: b019e9b8d51d_1_filtered.ann -> b019e9b8d51d_1.ann\n",
      "Renamed: 066ec5f0dea6_1_filtered.txt -> 066ec5f0dea6_1.txt\n",
      "Renamed: f161f5134505_1_filtered.txt -> f161f5134505_1.txt\n",
      "Renamed: 10a2da5c514c_1_filtered.txt -> 10a2da5c514c_1.txt\n",
      "Renamed: 937c38344fdf_1_filtered.txt -> 937c38344fdf_1.txt\n",
      "Renamed: d3d5522aa52e_1_filtered.txt -> d3d5522aa52e_1.txt\n",
      "Renamed: 9494fddb0caa_1_filtered.ann -> 9494fddb0caa_1.ann\n",
      "Renamed: fad2422a7bf3_1_filtered.ann -> fad2422a7bf3_1.ann\n",
      "Renamed: 8951230172d0_1_filtered.txt -> 8951230172d0_1.txt\n",
      "Renamed: 5085bb95b51a_1_filtered.ann -> 5085bb95b51a_1.ann\n",
      "Renamed: cad2484c0cc8_1_filtered.txt -> cad2484c0cc8_1.txt\n",
      "Renamed: f495f41dfa02_1_filtered.txt -> f495f41dfa02_1.txt\n",
      "Renamed: cee02d4c030f_1_filtered.ann -> cee02d4c030f_1.ann\n",
      "Renamed: f5bb37569413_1_filtered.txt -> f5bb37569413_1.txt\n",
      "Renamed: 624df1293f3d_1_filtered.ann -> 624df1293f3d_1.ann\n",
      "Renamed: bd86f567c746_1_filtered.ann -> bd86f567c746_1.ann\n",
      "Renamed: dac0de834f47_1_filtered.txt -> dac0de834f47_1.txt\n",
      "Renamed: 2fc890744f7c_1_filtered.ann -> 2fc890744f7c_1.ann\n",
      "Renamed: d81f996d0ab8_1_filtered.txt -> d81f996d0ab8_1.txt\n",
      "Renamed: d07dfb774c28_1_filtered.ann -> d07dfb774c28_1.ann\n",
      "Renamed: 74a7e2a340dd_1_filtered.txt -> 74a7e2a340dd_1.txt\n",
      "Renamed: e3c7064319e0_1_filtered.ann -> e3c7064319e0_1.ann\n",
      "Renamed: 3ba7ca929d68_1_filtered.txt -> 3ba7ca929d68_1.txt\n",
      "Renamed: e5e76a8efa0f_1_filtered.txt -> e5e76a8efa0f_1.txt\n",
      "Renamed: 2cc21b456aad_1_filtered.ann -> 2cc21b456aad_1.ann\n",
      "Renamed: bdda872d3ef9_1_filtered.ann -> bdda872d3ef9_1.ann\n",
      "Renamed: 1c37d315923c_1_filtered.txt -> 1c37d315923c_1.txt\n",
      "Renamed: cee02d4c030f_1_filtered.txt -> cee02d4c030f_1.txt\n",
      "Renamed: f5bb37569413_1_filtered.ann -> f5bb37569413_1.ann\n",
      "Renamed: 624df1293f3d_1_filtered.txt -> 624df1293f3d_1.txt\n",
      "Renamed: f495f41dfa02_1_filtered.ann -> f495f41dfa02_1.ann\n",
      "Renamed: cad2484c0cc8_1_filtered.ann -> cad2484c0cc8_1.ann\n",
      "Renamed: 5085bb95b51a_1_filtered.txt -> 5085bb95b51a_1.txt\n",
      "Renamed: 8951230172d0_1_filtered.ann -> 8951230172d0_1.ann\n",
      "Renamed: 9494fddb0caa_1_filtered.txt -> 9494fddb0caa_1.txt\n",
      "Renamed: fad2422a7bf3_1_filtered.txt -> fad2422a7bf3_1.txt\n",
      "Renamed: d3d5522aa52e_1_filtered.ann -> d3d5522aa52e_1.ann\n",
      "Renamed: 937c38344fdf_1_filtered.ann -> 937c38344fdf_1.ann\n",
      "Renamed: 10a2da5c514c_1_filtered.ann -> 10a2da5c514c_1.ann\n",
      "Renamed: f161f5134505_1_filtered.ann -> f161f5134505_1.ann\n",
      "Renamed: 066ec5f0dea6_1_filtered.ann -> 066ec5f0dea6_1.ann\n",
      "Renamed: b019e9b8d51d_1_filtered.txt -> b019e9b8d51d_1.txt\n",
      "Renamed: a487d1895726_1_filtered.ann -> a487d1895726_1.ann\n"
     ]
    }
   ],
   "source": [
    "def rename_files(directory):\n",
    "    for filename in os.listdir(directory):\n",
    "        if \"_1_filtered.ann\" in filename:\n",
    "            new_filename = filename.replace(\"_1_filtered.ann\", \"_1.ann\")\n",
    "            old_path = os.path.join(directory, filename)\n",
    "            new_path = os.path.join(directory, new_filename)\n",
    "            os.rename(old_path, new_path)\n",
    "            print(f\"Renamed: {filename} -> {new_filename}\")\n",
    "        elif \"_1_filtered.txt\" in filename:\n",
    "            new_filename = filename.replace(\"_1_filtered.txt\", \"_1.txt\")\n",
    "            old_path = os.path.join(directory, filename)\n",
    "            new_path = os.path.join(directory, new_filename)\n",
    "            os.rename(old_path, new_path)\n",
    "            print(f\"Renamed: {filename} -> {new_filename}\")\n",
    "\n",
    "\n",
    "directory = \"/Users/linndfors/study/diploma/test_change_dir/bruk_changed\"\n",
    "# directory = \"/Users/linndfors/study/diploma/test_change_dir/ng_changed\"\n",
    "\n",
    "\n",
    "rename_files(directory)"
   ]
  },
  {
   "cell_type": "code",
   "execution_count": 1296,
   "metadata": {},
   "outputs": [
    {
     "name": "stdout",
     "output_type": "stream",
     "text": [
      "548\n"
     ]
    }
   ],
   "source": [
    "file_count = count_files(\"/Users/linndfors/study/diploma/test_change_dir/ng_changed\")\n",
    "print(file_count)"
   ]
  },
  {
   "cell_type": "code",
   "execution_count": 1320,
   "metadata": {},
   "outputs": [
    {
     "name": "stdout",
     "output_type": "stream",
     "text": [
      "596\n"
     ]
    }
   ],
   "source": [
    "file_count = count_files(dir)\n",
    "print(file_count)"
   ]
  },
  {
   "cell_type": "code",
   "execution_count": 1321,
   "metadata": {},
   "outputs": [
    {
     "data": {
      "text/plain": [
       "1120"
      ]
     },
     "execution_count": 1321,
     "metadata": {},
     "output_type": "execute_result"
    }
   ],
   "source": [
    "524+596"
   ]
  },
  {
   "cell_type": "code",
   "execution_count": 1316,
   "metadata": {},
   "outputs": [
    {
     "data": {
      "text/plain": [
       "1930"
      ]
     },
     "execution_count": 1316,
     "metadata": {},
     "output_type": "execute_result"
    }
   ],
   "source": [
    "596 + 548 + 524 + 262"
   ]
  },
  {
   "cell_type": "markdown",
   "metadata": {},
   "source": [
    "Check"
   ]
  },
  {
   "cell_type": "code",
   "execution_count": 1322,
   "metadata": {},
   "outputs": [],
   "source": [
    "from pathlib import Path\n",
    "\n",
    "directory_path_bruk = Path(\"/Users/linndfors/study/diploma/ner_for_fem/data/DATA_FOR_BALANCED_NER/bruk\")\n",
    "\n",
    "filenames_bruk = [file.name for file in directory_path_bruk.iterdir() if file.is_file()]\n",
    "\n",
    "directory_path_ng = Path(\"/Users/linndfors/study/diploma/ner_for_fem/data/DATA_FOR_BALANCED_NER/ng\")\n",
    "\n",
    "filenames_ng = [file.name for file in directory_path_bruk.iterdir() if file.is_file()]"
   ]
  },
  {
   "cell_type": "code",
   "execution_count": 1323,
   "metadata": {},
   "outputs": [],
   "source": [
    "ng_and_bruk = filenames_bruk + filenames_ng"
   ]
  },
  {
   "cell_type": "code",
   "execution_count": 1325,
   "metadata": {},
   "outputs": [
    {
     "data": {
      "text/plain": [
       "1048"
      ]
     },
     "execution_count": 1325,
     "metadata": {},
     "output_type": "execute_result"
    }
   ],
   "source": [
    "len(ng_and_bruk)"
   ]
  }
 ],
 "metadata": {
  "kernelspec": {
   "display_name": "new_venv",
   "language": "python",
   "name": "python3"
  },
  "language_info": {
   "codemirror_mode": {
    "name": "ipython",
    "version": 3
   },
   "file_extension": ".py",
   "mimetype": "text/x-python",
   "name": "python",
   "nbconvert_exporter": "python",
   "pygments_lexer": "ipython3",
   "version": "3.10.16"
  }
 },
 "nbformat": 4,
 "nbformat_minor": 2
}
