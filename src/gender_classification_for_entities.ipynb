{
 "cells": [
  {
   "cell_type": "markdown",
   "metadata": {},
   "source": [
    "This script is created for splitting JOB and PERS entities by Gender."
   ]
  },
  {
   "cell_type": "code",
   "execution_count": 1,
   "metadata": {},
   "outputs": [],
   "source": [
    "import pandas as pd\n",
    "import numpy as np\n",
    "import os\n",
    "import re\n",
    "import tqdm\n",
    "from typing import List, Dict\n",
    "import json\n",
    "import shutil"
   ]
  },
  {
   "cell_type": "code",
   "execution_count": 2,
   "metadata": {},
   "outputs": [
    {
     "name": "stderr",
     "output_type": "stream",
     "text": [
      "2025-04-24 14:18:51 INFO: Checking for updates to resources.json in case models have been updated.  Note: this behavior can be turned off with download_method=None or download_method=DownloadMethod.REUSE_RESOURCES\n"
     ]
    },
    {
     "data": {
      "application/vnd.jupyter.widget-view+json": {
       "model_id": "83d153823c104e3eae0e4f9798912367",
       "version_major": 2,
       "version_minor": 0
      },
      "text/plain": [
       "Downloading https://raw.githubusercontent.com/stanfordnlp/stanza-resources/main/resources_1.10.0.json:   0%|  …"
      ]
     },
     "metadata": {},
     "output_type": "display_data"
    },
    {
     "name": "stderr",
     "output_type": "stream",
     "text": [
      "2025-04-24 14:18:51 INFO: Downloaded file to /Users/linndfors/stanza_resources/resources.json\n",
      "2025-04-24 14:18:52 INFO: Loading these models for language: uk (Ukrainian):\n",
      "===========================\n",
      "| Processor | Package     |\n",
      "---------------------------\n",
      "| tokenize  | iu          |\n",
      "| mwt       | iu          |\n",
      "| pos       | iu_charlm   |\n",
      "| lemma     | iu_nocharlm |\n",
      "| depparse  | iu_charlm   |\n",
      "===========================\n",
      "\n",
      "2025-04-24 14:18:52 INFO: Using device: cpu\n",
      "2025-04-24 14:18:52 INFO: Loading: tokenize\n",
      "2025-04-24 14:18:54 INFO: Loading: mwt\n",
      "2025-04-24 14:18:54 INFO: Loading: pos\n",
      "2025-04-24 14:19:00 INFO: Loading: lemma\n",
      "2025-04-24 14:19:01 INFO: Loading: depparse\n",
      "2025-04-24 14:19:01 INFO: Done loading processors!\n"
     ]
    }
   ],
   "source": [
    "import stanza\n",
    "import pymorphy3\n",
    "import pymorphy2\n",
    "\n",
    "nlp = stanza.Pipeline('uk', processors='tokenize,mwt,pos,lemma,depparse')\n",
    "morph = pymorphy3.MorphAnalyzer()\n",
    "\n",
    "\n",
    "# # stanza.download('uk')"
   ]
  },
  {
   "cell_type": "code",
   "execution_count": null,
   "metadata": {},
   "outputs": [],
   "source": [
    "# parallel_dataset_ng_dataset = pd.read_csv(\"/Users/linndfors/study/diploma/ner_for_fem/data/csv_files_with_par_sentences/ng_parallel.csv\")\n",
    "# parallel_dataset_bruk_dataset = pd.read_csv(\"/Users/linndfors/study/diploma/ner_for_fem/data/csv_files_with_par_sentences/bruk_parallel.csv\")"
   ]
  },
  {
   "cell_type": "code",
   "execution_count": null,
   "metadata": {},
   "outputs": [
    {
     "data": {
      "text/html": [
       "<div>\n",
       "<style scoped>\n",
       "    .dataframe tbody tr th:only-of-type {\n",
       "        vertical-align: middle;\n",
       "    }\n",
       "\n",
       "    .dataframe tbody tr th {\n",
       "        vertical-align: top;\n",
       "    }\n",
       "\n",
       "    .dataframe thead th {\n",
       "        text-align: right;\n",
       "    }\n",
       "</style>\n",
       "<table border=\"1\" class=\"dataframe\">\n",
       "  <thead>\n",
       "    <tr style=\"text-align: right;\">\n",
       "      <th></th>\n",
       "      <th>original_sentence</th>\n",
       "      <th>orig_sent_id</th>\n",
       "      <th>changed_sentence</th>\n",
       "      <th>changed_sent_id</th>\n",
       "      <th>original_file_name</th>\n",
       "      <th>orig_ann</th>\n",
       "      <th>changed_ann</th>\n",
       "    </tr>\n",
       "  </thead>\n",
       "  <tbody>\n",
       "    <tr>\n",
       "      <th>0</th>\n",
       "      <td>Його редактором був поет-символіст Яків Савчен...</td>\n",
       "      <td>46</td>\n",
       "      <td>Його редакторкою була поетеса-символістка Анже...</td>\n",
       "      <td>46</td>\n",
       "      <td>e5e76a8efa0f.txt</td>\n",
       "      <td>{'T30': ('поет-символіст', 'JOB')}</td>\n",
       "      <td>{'T30': ('поетеса-символістка', 'JOB')}</td>\n",
       "    </tr>\n",
       "    <tr>\n",
       "      <th>1</th>\n",
       "      <td>Міжпредметні паралелі . Маніфест футуристів ск...</td>\n",
       "      <td>62</td>\n",
       "      <td>Міжпредметні паралелі . Маніфест футуристок ск...</td>\n",
       "      <td>62</td>\n",
       "      <td>e5e76a8efa0f.txt</td>\n",
       "      <td>{'T49': ('поет', 'JOB')}</td>\n",
       "      <td>{'T49': ('поетеса', 'JOB')}</td>\n",
       "    </tr>\n",
       "    <tr>\n",
       "      <th>2</th>\n",
       "      <td>Помітною була організація « Гарт » ( 1923 — 19...</td>\n",
       "      <td>96</td>\n",
       "      <td>Помітною була організація « Гарт » ( 1923 — 19...</td>\n",
       "      <td>96</td>\n",
       "      <td>e5e76a8efa0f.txt</td>\n",
       "      <td>{'T104': ('поет', 'JOB')}</td>\n",
       "      <td>{'T104': ('поетка', 'JOB')}</td>\n",
       "    </tr>\n",
       "    <tr>\n",
       "      <th>3</th>\n",
       "      <td>Її очолив байкар і прозаїк Сергій Пилипенко .</td>\n",
       "      <td>127</td>\n",
       "      <td>Її очолила байкарка і прозаїкиня Марія Пилипен...</td>\n",
       "      <td>127</td>\n",
       "      <td>e5e76a8efa0f.txt</td>\n",
       "      <td>{'T143': ('байкар', 'JOB'), 'T144': ('прозаїк'...</td>\n",
       "      <td>{'T143': ('байкарка', 'JOB'), 'T144': ('прозаї...</td>\n",
       "    </tr>\n",
       "    <tr>\n",
       "      <th>4</th>\n",
       "      <td>У Галицько-Волинському літописі згадується спі...</td>\n",
       "      <td>171</td>\n",
       "      <td>У Галицько-Волинському літописі згадується спі...</td>\n",
       "      <td>171</td>\n",
       "      <td>e5e76a8efa0f.txt</td>\n",
       "      <td>{'T218': ('співець', 'JOB')}</td>\n",
       "      <td>{'T218': ('співчиня', 'JOB')}</td>\n",
       "    </tr>\n",
       "  </tbody>\n",
       "</table>\n",
       "</div>"
      ],
      "text/plain": [
       "                                   original_sentence  orig_sent_id  \\\n",
       "0  Його редактором був поет-символіст Яків Савчен...            46   \n",
       "1  Міжпредметні паралелі . Маніфест футуристів ск...            62   \n",
       "2  Помітною була організація « Гарт » ( 1923 — 19...            96   \n",
       "3      Її очолив байкар і прозаїк Сергій Пилипенко .           127   \n",
       "4  У Галицько-Волинському літописі згадується спі...           171   \n",
       "\n",
       "                                    changed_sentence  changed_sent_id  \\\n",
       "0  Його редакторкою була поетеса-символістка Анже...               46   \n",
       "1  Міжпредметні паралелі . Маніфест футуристок ск...               62   \n",
       "2  Помітною була організація « Гарт » ( 1923 — 19...               96   \n",
       "3  Її очолила байкарка і прозаїкиня Марія Пилипен...              127   \n",
       "4  У Галицько-Волинському літописі згадується спі...              171   \n",
       "\n",
       "  original_file_name                                           orig_ann  \\\n",
       "0   e5e76a8efa0f.txt                 {'T30': ('поет-символіст', 'JOB')}   \n",
       "1   e5e76a8efa0f.txt                           {'T49': ('поет', 'JOB')}   \n",
       "2   e5e76a8efa0f.txt                          {'T104': ('поет', 'JOB')}   \n",
       "3   e5e76a8efa0f.txt  {'T143': ('байкар', 'JOB'), 'T144': ('прозаїк'...   \n",
       "4   e5e76a8efa0f.txt                       {'T218': ('співець', 'JOB')}   \n",
       "\n",
       "                                         changed_ann  \n",
       "0            {'T30': ('поетеса-символістка', 'JOB')}  \n",
       "1                        {'T49': ('поетеса', 'JOB')}  \n",
       "2                        {'T104': ('поетка', 'JOB')}  \n",
       "3  {'T143': ('байкарка', 'JOB'), 'T144': ('прозаї...  \n",
       "4                      {'T218': ('співчиня', 'JOB')}  "
      ]
     },
     "execution_count": 5,
     "metadata": {},
     "output_type": "execute_result"
    }
   ],
   "source": [
    "# parallel_dataset_bruk_dataset.head()"
   ]
  },
  {
   "cell_type": "markdown",
   "metadata": {},
   "source": [
    "## Split: Female, Male, Common genders"
   ]
  },
  {
   "cell_type": "code",
   "execution_count": 3,
   "metadata": {},
   "outputs": [],
   "source": [
    "with open('/Users/linndfors/study/diploma/other github repo/uk-gender-word-mapper/common_gender_words_list.txt') as file:\n",
    "    common_gender_words_list = [line.strip() for line in file if line.strip()]\n",
    "\n",
    "with open('/Users/linndfors/study/diploma/other github repo/uk-gender-word-mapper/male_words_list.txt') as file:\n",
    "    male_list = [line.strip() for line in file if line.strip()]\n",
    "\n",
    "with open('/Users/linndfors/study/diploma/other github repo/uk-gender-word-mapper/female_words_list.txt') as file:\n",
    "    female_list = [line.strip() for line in file if line.strip()]\n",
    "\n",
    "gender_dict_df = pd.read_csv(\"/Users/linndfors/study/diploma/other github repo/uk-gender-word-mapper/gender_pairs_dictionary.csv\")\n",
    "\n",
    "gender_dict = {'male': [], 'female': []}\n",
    "\n",
    "for _, row in gender_dict_df.iterrows():\n",
    "    gender_dict['male'].append(row['male'])\n",
    "    female_values = [f.strip() for f in row['female'].split(',')]\n",
    "    gender_dict['female'].extend(female_values)\n",
    "\n",
    "gender_dict['female'] = list(set(gender_dict['female']))\n",
    "\n",
    "exceptions_common = [\"судді\",  \"глава\", \"голова\", \"керівництво\", \"в. о.\", \"головою\"]\n",
    "exceptions_male = ['ієромонах', 'прокурор', 'віце-премʼєр', 'премʼєр', 'начальник', 'міністр', 'директор', 'підрядник', 'генпідрядник', 'керівник', 'головнокомандувач']\n",
    "exceptions_female = ['премʼєрка', 'докторка', 'докторантка', 'директорка', 'міністерка', 'керівниця', 'начальниця', 'начальницю', 'генпідрядниця', 'прокурорка', 'ректорка']"
   ]
  },
  {
   "cell_type": "code",
   "execution_count": 4,
   "metadata": {},
   "outputs": [],
   "source": [
    "def parse_output(ent):\n",
    "    noun_dict = {\n",
    "        \"хліборобок\": \"хліборобка\",\n",
    "    \"культурологині\": \"культурологиня\",\n",
    "    \"директоркою\": \"директорка\",\n",
    "    \"слідчій\": \"слідча\",\n",
    "    \"прокурорка\": \"прокурорка\",\n",
    "    \"прокурорки\": \"прокурорка\",\n",
    "    \"Прокурорки\": \"прокурорка\",\n",
    "    \"прокуроркою\": \"прокурорка\",\n",
    "    \"прокурорці\": \"прокурорка\",\n",
    "    \"адміністраторок\": \"адміністраторка\",\n",
    "    \"слідчу\": \"слідча\",\n",
    "    \"слідча\": \"слідча\",\n",
    "    \"начальницею\": \"начальниця\",\n",
    "    \"податківка\": \"податківка\",\n",
    "    \"монопольниці\": \"монопольниця\",\n",
    "    \"начальницю\": \"начальниця\",\n",
    "    \"психіатрині\": \"психіатриня\",\n",
    "    \"наркологині\": \"наркологиня\",\n",
    "    \"міністерки\": \"міністерка\",\n",
    "    \"рітейлерками\": \"рітейлерка\",\n",
    "    \"начальниці\": \"начальниця\",\n",
    "    \"екологині\": \"екологиня\",\n",
    "    \"податківчині\": \"податківчиня\",\n",
    "    \"журналісткам\": \"журналістка\",\n",
    "    \"підрядницею\": \"підрядниця\",\n",
    "    \"директорка\": \"директорка\",\n",
    "    \"інженерка\": \"інженерка\",\n",
    "    \"службовиці\": \"службовиця\",\n",
    "    \"інженерці\": \"інженерка\",\n",
    "    \"податківниць\": \"податківниця\",\n",
    "    \"депутатку\": \"депутатка\",\n",
    "    \"керівниця\": \"керівниця\",\n",
    "    \"керівницею\": \"керівниця\",\n",
    "    \"юристок\": \"юристка\",\n",
    "    \"інспекторки\": \"інспекторка\",\n",
    "    \"інженерок\": \"інженерка\",\n",
    "    \"ревізорок\": \"ревізорка\",\n",
    "    \"нардепок\": \"нардепка\",\n",
    "    \"бізнесменок\": \"бізнесменка\",\n",
    "    \"генпідрядниці\": \"генпідрядниця\",\n",
    "    \"прокурор\": \"прокурор\",\n",
    "    \"віце-премʼєра\": \"віце-прем'єр\",\n",
    "    \"премʼєр\": \"прем'єр\",\n",
    "    \"начальника\": \"начальник\",\n",
    "    \"начальником\": \"начальник\",\n",
    "    \"міністра\": \"міністр\",\n",
    "    \"директором\": \"директор\",\n",
    "    \"підрядником\": \"підрядник\",\n",
    "    \"аграрія\": \"аграрій\",\n",
    "    \"депутата\": \"депутат\",\n",
    "    \"генпідрядника\": \"генпідрядник\",\n",
    "    \"генпідрядником\": \"генпідрядник\",\n",
    "    \"начальник\": \"начальник\",\n",
    "    \"керівником\": \"керівник\",\n",
    "    \"керівник\": \"керівник\",\n",
    "    \"судді\": \"суддя\",\n",
    "    \"ченці\": \"чернець\",\n",
    "    \"ченців\": \"чернець\",\n",
    "    \"глави\": \"глава\",\n",
    "    \"голови\": \"голова\",\n",
    "    \"керівництво\": \"керівництво\",\n",
    "    \"головою\": \"голова\",\n",
    "    \"князів\": \"князь\",\n",
    "    \"водія\": \"водій\",\n",
    "    \"хіміка\": \"хімік\",\n",
    "    \"хіміки\": \"хімік\",\n",
    "    \"ведучій\": \"ведуча\",\n",
    "    \"механіка\": \"механік\",\n",
    "    \"інокам\": \"інок\",\n",
    "    \"головнокомандувача\": \"головнокомандувач\",\n",
    "    \"наркологині\": \"наркологиня\",\n",
    "    \"членкині\": \"членкиня\",\n",
    "    \"інженерці\": \"інженерка\",\n",
    "    \"мисливствознавиці\": \"мисливствознавиця\",\n",
    "    \"логопедині\": \"логопединя\",\n",
    "    \"математикині\": \"математикиня\",\n",
    "    \"психологині\": \"психологиня\", \n",
    "    \"філологині\": \"філологиня\",\n",
    "    \"голопедині\": \"голопединя\",\n",
    "    \"урядовицs\": \"урядовиця\",\n",
    "    \"філософині\": \"філософиня\",\n",
    "    \"педагогині\": \"педагогиня\",\n",
    "    \"мера\": \"мер\"\n",
    "    }\n",
    "    if ent in noun_dict.keys():\n",
    "        return noun_dict[ent]\n",
    "    return"
   ]
  },
  {
   "cell_type": "code",
   "execution_count": 35,
   "metadata": {},
   "outputs": [],
   "source": [
    "def extract_main_word(text):\n",
    "    if \"-\" in text:\n",
    "        parts = text.split(\"-\")\n",
    "        main_word = parts[-1]\n",
    "        doc = nlp(main_word)\n",
    "        for sentence in doc.sentences:\n",
    "            for word in sentence.words:\n",
    "                return word.lemma\n",
    "\n",
    "    doc = nlp(text)\n",
    "\n",
    "    for sentence in doc.sentences:\n",
    "        for word in sentence.words:\n",
    "            if word.head == 0:\n",
    "                main_word = word\n",
    "                if main_word.text in {\"рок\", \"анти\", \"псевдо\", \"віце\", \"топ\"}:\n",
    "                    continue\n",
    "                return main_word.lemma\n",
    "    for sentence in doc.sentences:\n",
    "        for word in sentence.words:\n",
    "            return word.lemma\n",
    "        \n",
    "def extract_job_gender(entity):\n",
    "    entity = entity.lower()\n",
    "    job = nlp(entity)\n",
    "    join_sign = \" \" if \" \" in entity else (\"\" if \"-\" in entity else \"\")\n",
    "    job_ent_list = [word.lemma for sent in job.sentences for word in sent.words]\n",
    "    job_lemma = join_sign.join(job_ent_list)\n",
    "\n",
    "    if len(job_ent_list) > 1:\n",
    "        job_lemma = extract_main_word(job_lemma)\n",
    "\n",
    "    words = entity.split()\n",
    "    lemmatized_words = []\n",
    "    for word in words:\n",
    "        parsed_word = morph.parse(word)[0]\n",
    "        if 'plur' in parsed_word.tag:\n",
    "            singular_form = parsed_word.inflect({'sing'}).word if parsed_word.inflect({'sing'}) else parsed_word.normal_form\n",
    "            lemmatized_words.append(singular_form)\n",
    "        else:\n",
    "            lemmatized_words.append(parsed_word.normal_form)\n",
    "            \n",
    "    job_lemma_pymorphy = join_sign.join(lemmatized_words)\n",
    "\n",
    "    if len(job_ent_list) > 1:\n",
    "        job_lemma_pymorphy = extract_main_word(job_lemma_pymorphy)\n",
    "\n",
    "    ent_forms = [entity, job_lemma, job_lemma_pymorphy]\n",
    "\n",
    "    custom_dict_ent_value = parse_output(entity)\n",
    "    if custom_dict_ent_value:\n",
    "        ent_forms.append(custom_dict_ent_value)\n",
    "\n",
    "    for word in words:\n",
    "        for common_word in exceptions_common:\n",
    "            if common_word == word or common_word == parse_output(word):\n",
    "                return \"common\", job_lemma\n",
    "            \n",
    "        for female_word in exceptions_female:\n",
    "            if female_word == word or female_word == parse_output(word):\n",
    "                return \"female\", job_lemma\n",
    "            \n",
    "        for male_word in exceptions_male:\n",
    "            if male_word == word or male_word == parse_output(word):\n",
    "                return \"male\", job_lemma\n",
    "        \n",
    "    for x in ent_forms:\n",
    "        if (x in gender_dict['female']) or (x in female_list) or (\"знавиця\" in x):\n",
    "            return \"female\", job_lemma\n",
    "        elif (x in gender_dict['male']) or (x in male_list) or (\"знавець\" in x) or (x==\"мера\"):\n",
    "            return \"male\", job_lemma\n",
    "        elif x in common_gender_words_list:\n",
    "            return \"common\", job_lemma\n",
    "        \n",
    "    # print(\"unkown for:\", entity, \" - \", job_lemma, \" - \", job_lemma_pymorphy)\n",
    "    return \"unknown_gender\", job_lemma"
   ]
  },
  {
   "cell_type": "code",
   "execution_count": null,
   "metadata": {},
   "outputs": [],
   "source": [
    "import ast\n",
    "\n",
    "def return_gendered_dict(parallel_dataset, annotation_col_name, swapped=0):\n",
    "    file_gender_dict = {\"male\": {}, \"female\": {}, \"common\": {}, \"unknown_gender\": {}}\n",
    "\n",
    "    total_job_counter = 0\n",
    "    job_list = []\n",
    "\n",
    "    for x, row in tqdm.tqdm(parallel_dataset.iterrows()):\n",
    "        filename = row['original_file_name']\n",
    "        if swapped:\n",
    "            filename = filename.replace(\".txt\", \"_1.txt\")\n",
    "        orig_annotation = row[annotation_col_name]\n",
    "\n",
    "        ann_str = orig_annotation.replace(\"'\", '\"')\n",
    "        ann_str = ann_str.replace(\"–\", '-')\n",
    "        json_ann = ast.literal_eval(ann_str)\n",
    "        \n",
    "        try:\n",
    "            for ent, feat in json_ann.items():\n",
    "                if feat[1] == 'JOB':\n",
    "                    total_job_counter += 1\n",
    "                    job_list.append(feat[0])\n",
    "                    gender_value, lemma_word = extract_job_gender(feat[0])\n",
    "                    \n",
    "                    if filename not in file_gender_dict[gender_value]:\n",
    "                        file_gender_dict[gender_value][filename] = [(ent, lemma_word)]\n",
    "                    else:\n",
    "                        file_gender_dict[gender_value][filename].append((ent, lemma_word))\n",
    "                    \n",
    "        except Exception as e:\n",
    "            print(f\"Issue with row: {row} - Error: {e}\")\n",
    "    return file_gender_dict, total_job_counter, job_list"
   ]
  },
  {
   "cell_type": "code",
   "execution_count": 7,
   "metadata": {},
   "outputs": [],
   "source": [
    "from collections import Counter\n",
    "\n",
    "def return_gender_stat(total_job_counter, file_gender_dict):\n",
    "    print(\"total size:\", total_job_counter)\n",
    "\n",
    "    for gender_class, val in file_gender_dict.items():\n",
    "        print(\"================\")\n",
    "        \n",
    "        print(\"gender:\", gender_class)\n",
    "\n",
    "        gender_entities = []\n",
    "\n",
    "        print(\"number of files for the gender:\", len(file_gender_dict[gender_class]))\n",
    "        number_of_ents = 0\n",
    "        for files, ents in file_gender_dict[gender_class].items():\n",
    "            number_of_ents += len(ents)\n",
    "            gender_entities += [pair[1] for pair in ents]\n",
    "            \n",
    "        print(\"number of entities for the gender:\", number_of_ents)\n",
    "        print(\"percentage:\", number_of_ents/total_job_counter)\n",
    "\n",
    "        counter = Counter(gender_entities)\n",
    "\n",
    "        print(\"The most popular entity:\", counter.most_common(1)[0][0])\n",
    "\n",
    "        print(\"================\")"
   ]
  },
  {
   "cell_type": "code",
   "execution_count": 8,
   "metadata": {},
   "outputs": [],
   "source": [
    "def split_files(file_gender_dict, source_dir):\n",
    "    female_files = []\n",
    "    male_files = []\n",
    "    common_files = []\n",
    "\n",
    "    for filename, gen_stat in file_gender_dict.items():\n",
    "        if len(list(gen_stat.keys())) == 1:\n",
    "            full_path = os.path.join(source_dir, filename)\n",
    "            gen = list(gen_stat.keys())[0]\n",
    "            # print(\"gen stat:\", gen_stat)\n",
    "            # print(\"gen:\", gen)\n",
    "            if gen == \"male\":\n",
    "                male_files.append(full_path)\n",
    "                # print(f\"add to {gen}\")\n",
    "            elif gen == \"female\":\n",
    "                female_files.append(full_path)\n",
    "                # print(f\"add to {gen}\")\n",
    "            elif gen == \"common\":\n",
    "                common_files.append(full_path)\n",
    "                # print(f\"add to {gen}\")\n",
    "\n",
    "    return female_files, male_files, common_files"
   ]
  },
  {
   "cell_type": "code",
   "execution_count": 9,
   "metadata": {},
   "outputs": [],
   "source": [
    "def return_gender_file_stat(file_gender_dict):\n",
    "    file_gen_stat_dict = {}\n",
    "\n",
    "    for gen, file_stat in file_gender_dict.items():\n",
    "        for filename, ents in file_stat.items():\n",
    "            if filename not in file_gen_stat_dict:\n",
    "                file_gen_stat_dict[filename] = {}\n",
    "            file_gen_stat_dict[filename][gen] = len(ents)\n",
    "    return file_gen_stat_dict"
   ]
  },
  {
   "cell_type": "markdown",
   "metadata": {},
   "source": [
    "## Classify gender for entities from NER evaluation"
   ]
  },
  {
   "cell_type": "code",
   "execution_count": 22,
   "metadata": {},
   "outputs": [],
   "source": [
    "def read_entities(file_path):\n",
    "    \"\"\"\n",
    "    Reads a text file where each non‐empty line is an entity,\n",
    "    and returns a list of those entities (stripped of whitespace).\n",
    "    \"\"\"\n",
    "    with open(file_path, \"r\", encoding=\"utf-8\") as f:\n",
    "        return [line.strip() for line in f if line.strip()]"
   ]
  },
  {
   "cell_type": "markdown",
   "metadata": {},
   "source": [
    "### Balanced NER model"
   ]
  },
  {
   "cell_type": "code",
   "execution_count": null,
   "metadata": {},
   "outputs": [],
   "source": [
    "fn_list_balanced = read_entities(\"/Users/linndfors/study/diploma/ner_for_fem/data/results_of_evaluation/NER_JOB_class_results/balanced_fn.txt\")\n",
    "tp_list_balanced = read_entities(\"/Users/linndfors/study/diploma/ner_for_fem/data/results_of_evaluation/NER_JOB_class_results/balanced_tp.txt\")"
   ]
  },
  {
   "cell_type": "code",
   "execution_count": null,
   "metadata": {},
   "outputs": [],
   "source": [
    "female_tp, male_tp, common_tp, unknown_tp = [], [], [], []\n",
    "\n",
    "for ent in tqdm.tqdm(tp_list_balanced):\n",
    "    res = extract_job_gender(ent)\n",
    "    job_gender = res[0]\n",
    "    if job_gender == \"female\":\n",
    "        female_tp.append(ent)\n",
    "    elif job_gender == \"male\":\n",
    "        male_tp.append(ent)\n",
    "    elif job_gender == \"common\":\n",
    "        common_tp.append(ent)\n",
    "    else:\n",
    "        unknown_tp.append(ent)"
   ]
  },
  {
   "cell_type": "code",
   "execution_count": null,
   "metadata": {},
   "outputs": [],
   "source": [
    "female_fn, male_fn, common_fn, unknown_fn = [], [], [], []\n",
    "\n",
    "for ent in tqdm.tqdm(fn_list_balanced):\n",
    "    res = extract_job_gender(ent)\n",
    "    job_gender = res[0]\n",
    "    # print(job_gender)\n",
    "    if job_gender == \"female\":\n",
    "        female_fn.append(ent)\n",
    "    elif job_gender == \"male\":\n",
    "        male_fn.append(ent)\n",
    "    elif job_gender == \"common\":\n",
    "        common_fn.append(ent)\n",
    "    else:\n",
    "        unknown_fn.append(ent)\n"
   ]
  },
  {
   "cell_type": "code",
   "execution_count": null,
   "metadata": {},
   "outputs": [
    {
     "name": "stdout",
     "output_type": "stream",
     "text": [
      "Female recall: 0.802439024390244\n",
      "Male recall: 0.5867768595041323\n",
      "Comon recall: 0.873015873015873\n",
      "Unknown recall: 0.3125\n"
     ]
    }
   ],
   "source": [
    "female_recall = len(female_tp) / (len(female_tp) + len(female_fn)) if (len(female_tp) + len(female_fn)) > 0 else 0\n",
    "print(\"Female recall:\", female_recall)\n",
    "male_recall = len(male_tp) / (len(male_tp) + len(male_fn)) if (len(male_tp) + len(male_fn)) > 0 else 0\n",
    "print(\"Male recall:\", male_recall)\n",
    "common_recall = len(common_tp) / (len(common_tp) + len(common_fn)) if (len(common_tp) + len(common_fn)) > 0 else 0\n",
    "print(\"Comon recall:\", common_recall)\n",
    "unknown_recall = len(unknown_tp) / (len(unknown_tp) + len(unknown_fn)) if (len(unknown_tp) + len(unknown_fn)) > 0 else 0\n",
    "print(\"Unknown recall:\", unknown_recall)"
   ]
  },
  {
   "cell_type": "markdown",
   "metadata": {},
   "source": [
    "### Original NER Model"
   ]
  },
  {
   "cell_type": "code",
   "execution_count": null,
   "metadata": {},
   "outputs": [],
   "source": [
    "fn_list_orig = read_entities(\"/Users/linndfors/study/diploma/ner_for_fem/data/results_of_evaluation/NER_JOB_class_results/orig_fn.txt\")\n",
    "tp_list_orig = read_entities(\"/Users/linndfors/study/diploma/ner_for_fem/data/results_of_evaluation/NER_JOB_class_results/orig_tp.txt\")"
   ]
  },
  {
   "cell_type": "code",
   "execution_count": null,
   "metadata": {},
   "outputs": [],
   "source": [
    "orig_female_tp, orig_male_tp, orig_common_tp, orig_unknown_tp = [], [], [], []\n",
    "\n",
    "for ent in tqdm.tqdm(tp_list_orig):\n",
    "    res = extract_job_gender(ent)\n",
    "    job_gender = res[0]\n",
    "    # print(job_gender)\n",
    "    if job_gender == \"female\":\n",
    "        orig_female_tp.append(ent)\n",
    "    elif job_gender == \"male\":\n",
    "        orig_male_tp.append(ent)\n",
    "    elif job_gender == \"common\":\n",
    "        orig_common_tp.append(ent)\n",
    "    else:\n",
    "        orig_unknown_tp.append(ent)"
   ]
  },
  {
   "cell_type": "code",
   "execution_count": null,
   "metadata": {},
   "outputs": [],
   "source": [
    "orig_female_fn, orig_male_fn, orig_common_fn, orig_unknown_fn = [], [], [], []\n",
    "\n",
    "for ent in tqdm.tqdm(fn_list_orig):\n",
    "\n",
    "    res = extract_job_gender(ent)\n",
    "    job_gender = res[0]\n",
    "    # print(job_gender)\n",
    "    if job_gender == \"female\":\n",
    "        orig_female_fn.append(ent)\n",
    "    elif job_gender == \"male\":\n",
    "        orig_male_fn.append(ent)\n",
    "    elif job_gender == \"common\":\n",
    "        orig_common_fn.append(ent)\n",
    "    else:\n",
    "        orig_unknown_fn.append(ent)\n"
   ]
  },
  {
   "cell_type": "code",
   "execution_count": 21,
   "metadata": {},
   "outputs": [
    {
     "data": {
      "text/plain": [
       "226"
      ]
     },
     "execution_count": 21,
     "metadata": {},
     "output_type": "execute_result"
    }
   ],
   "source": [
    "len(orig_male_fn)"
   ]
  },
  {
   "cell_type": "code",
   "execution_count": null,
   "metadata": {},
   "outputs": [
    {
     "name": "stdout",
     "output_type": "stream",
     "text": [
      "Female recall: 0.6899766899766899\n",
      "Male recall: 0.6406995230524642\n",
      "Common recall: 0.8492063492063492\n",
      "Common recall: 0.2037037037037037\n"
     ]
    }
   ],
   "source": [
    "orig_female_recall = len(orig_female_tp) / (len(orig_female_tp) + len(orig_female_fn)) if (len(orig_female_tp) + len(orig_female_fn)) > 0 else 0\n",
    "print(\"Female recall:\", orig_female_recall)\n",
    "orig_male_recall = len(orig_male_tp) / (len(orig_male_tp) + len(orig_male_fn)) if (len(orig_male_tp) + len(orig_male_fn)) > 0 else 0\n",
    "print(\"Male recall:\", orig_male_recall)\n",
    "orig_common_recall = len(orig_common_tp) / (len(orig_common_tp) + len(orig_common_fn)) if (len(orig_common_tp) + len(orig_common_fn)) > 0 else 0\n",
    "print(\"Common recall:\", orig_common_recall)\n",
    "orig_unknown_recall = len(orig_unknown_tp) / (len(orig_unknown_tp) + len(orig_unknown_fn)) if (len(orig_unknown_tp) + len(orig_unknown_fn)) > 0 else 0\n",
    "print(\"Unknown recall:\", orig_unknown_recall)"
   ]
  },
  {
   "cell_type": "markdown",
   "metadata": {},
   "source": [
    "# Gender distribution for JOB entities"
   ]
  },
  {
   "cell_type": "code",
   "execution_count": 13,
   "metadata": {},
   "outputs": [],
   "source": [
    "import os\n",
    "import glob\n",
    "\n",
    "def extract_job_entities(directory):\n",
    "    pers_entities = {}\n",
    "    \n",
    "    ann_files = glob.glob(os.path.join(directory, \"*.ann\"))\n",
    "    print(ann_files)\n",
    "    \n",
    "    for ann_file in ann_files:\n",
    "        with open(ann_file, \"r\", encoding=\"utf-8\") as f:\n",
    "            for line in f:\n",
    "                parts = line.strip().split(\"\\t\")\n",
    "                if len(parts) == 5:\n",
    "                    \n",
    "                    entity_type = parts[1]\n",
    "                    \n",
    "                    if entity_type == \"JOB\":\n",
    "                        entity_text = parts[4]\n",
    "                        if ann_file in pers_entities:\n",
    "                            pers_entities[ann_file].append(entity_text)\n",
    "                        else:\n",
    "                            pers_entities[ann_file] = [entity_text]\n",
    "    \n",
    "    return pers_entities\n",
    "\n",
    "def return_gendered_job_dict(pers_dict):\n",
    "    file_gender_dict = {\"male\": {}, \"female\": {}, \"common\": {}, \"unknown_gender\": {}}\n",
    "\n",
    "    total_pers_counter = 0\n",
    "    pers_list = []\n",
    "\n",
    "    for filename, values in tqdm.tqdm(pers_dict.items()):\n",
    "        filename = filename.replace(\".ann\", \".txt\")\n",
    "        \n",
    "        try:\n",
    "            for ent in values:\n",
    "                total_pers_counter += 1\n",
    "                pers_list.append(ent)\n",
    "\n",
    "                gender_value, lemma_word = extract_job_gender(ent)\n",
    "                \n",
    "                if filename not in file_gender_dict[gender_value]:\n",
    "                    file_gender_dict[gender_value][filename] = [(ent, lemma_word)]\n",
    "                else:\n",
    "                    file_gender_dict[gender_value][filename].append((ent, lemma_word))\n",
    "                    \n",
    "        except Exception as e:\n",
    "            print(f\"Issue with row: {row} - Error: {e}\")\n",
    "    return file_gender_dict, total_pers_counter, pers_list"
   ]
  },
  {
   "cell_type": "markdown",
   "metadata": {},
   "source": [
    "## Gender distribution of JOB entities for Original corpora"
   ]
  },
  {
   "cell_type": "code",
   "execution_count": 21,
   "metadata": {},
   "outputs": [
    {
     "name": "stdout",
     "output_type": "stream",
     "text": [
      "['/Users/linndfors/study/diploma/ner_for_fem/data/v2.0/data/bruk/68f6d1cfc486.ann', '/Users/linndfors/study/diploma/ner_for_fem/data/v2.0/data/bruk/dc25535e13d7.ann', '/Users/linndfors/study/diploma/ner_for_fem/data/v2.0/data/bruk/fad2422a7bf3.ann', '/Users/linndfors/study/diploma/ner_for_fem/data/v2.0/data/bruk/7e1defe0dda2.ann', '/Users/linndfors/study/diploma/ner_for_fem/data/v2.0/data/bruk/87ae82667e2a.ann', '/Users/linndfors/study/diploma/ner_for_fem/data/v2.0/data/bruk/b972a141f2be.ann', '/Users/linndfors/study/diploma/ner_for_fem/data/v2.0/data/bruk/85622bc925dc.ann', '/Users/linndfors/study/diploma/ner_for_fem/data/v2.0/data/bruk/36ac3bc5ed9c.ann', '/Users/linndfors/study/diploma/ner_for_fem/data/v2.0/data/bruk/3d0ab8ae38cf.ann', '/Users/linndfors/study/diploma/ner_for_fem/data/v2.0/data/bruk/ead06d34c49d.ann', '/Users/linndfors/study/diploma/ner_for_fem/data/v2.0/data/bruk/bdda872d3ef9.ann', '/Users/linndfors/study/diploma/ner_for_fem/data/v2.0/data/bruk/9047cfab803a.ann', '/Users/linndfors/study/diploma/ner_for_fem/data/v2.0/data/bruk/b381bc7842b1.ann', '/Users/linndfors/study/diploma/ner_for_fem/data/v2.0/data/bruk/1448663b16b2.ann', '/Users/linndfors/study/diploma/ner_for_fem/data/v2.0/data/bruk/15238b87db03.ann', '/Users/linndfors/study/diploma/ner_for_fem/data/v2.0/data/bruk/224b36fbfbcc.ann', '/Users/linndfors/study/diploma/ner_for_fem/data/v2.0/data/bruk/7b7daaeb9d7d.ann', '/Users/linndfors/study/diploma/ner_for_fem/data/v2.0/data/bruk/dac0de834f47.ann', '/Users/linndfors/study/diploma/ner_for_fem/data/v2.0/data/bruk/547ce681ada8.ann', '/Users/linndfors/study/diploma/ner_for_fem/data/v2.0/data/bruk/d9e8a7cc311c.ann', '/Users/linndfors/study/diploma/ner_for_fem/data/v2.0/data/bruk/dcbb9ddb4aaa.ann', '/Users/linndfors/study/diploma/ner_for_fem/data/v2.0/data/bruk/180138cd9639.ann', '/Users/linndfors/study/diploma/ner_for_fem/data/v2.0/data/bruk/c40c6b1a374b.ann', '/Users/linndfors/study/diploma/ner_for_fem/data/v2.0/data/bruk/34c595e3a367.ann', '/Users/linndfors/study/diploma/ner_for_fem/data/v2.0/data/bruk/072f485824e1.ann', '/Users/linndfors/study/diploma/ner_for_fem/data/v2.0/data/bruk/bf4968831cc7.ann', '/Users/linndfors/study/diploma/ner_for_fem/data/v2.0/data/bruk/e9061171da9d.ann', '/Users/linndfors/study/diploma/ner_for_fem/data/v2.0/data/bruk/5a0aedfe0f5d.ann', '/Users/linndfors/study/diploma/ner_for_fem/data/v2.0/data/bruk/311fe00ee2e4.ann', '/Users/linndfors/study/diploma/ner_for_fem/data/v2.0/data/bruk/db336c963a75.ann', '/Users/linndfors/study/diploma/ner_for_fem/data/v2.0/data/bruk/e3ddcae5caa8.ann', '/Users/linndfors/study/diploma/ner_for_fem/data/v2.0/data/bruk/aad4dce361f1.ann', '/Users/linndfors/study/diploma/ner_for_fem/data/v2.0/data/bruk/d3d5522aa52e.ann', '/Users/linndfors/study/diploma/ner_for_fem/data/v2.0/data/bruk/92d38b895fa4.ann', '/Users/linndfors/study/diploma/ner_for_fem/data/v2.0/data/bruk/e8d4b8d56a07.ann', '/Users/linndfors/study/diploma/ner_for_fem/data/v2.0/data/bruk/61828291f32e.ann', '/Users/linndfors/study/diploma/ner_for_fem/data/v2.0/data/bruk/53c39d8d97c8.ann', '/Users/linndfors/study/diploma/ner_for_fem/data/v2.0/data/bruk/97ff41bd2697.ann', '/Users/linndfors/study/diploma/ner_for_fem/data/v2.0/data/bruk/56937f9aa8ef.ann', '/Users/linndfors/study/diploma/ner_for_fem/data/v2.0/data/bruk/a711fba03583.ann', '/Users/linndfors/study/diploma/ner_for_fem/data/v2.0/data/bruk/0124bf2fdf35.ann', '/Users/linndfors/study/diploma/ner_for_fem/data/v2.0/data/bruk/ed66834dcf5e.ann', '/Users/linndfors/study/diploma/ner_for_fem/data/v2.0/data/bruk/66395d7c394b.ann', '/Users/linndfors/study/diploma/ner_for_fem/data/v2.0/data/bruk/d07dfb774c28.ann', '/Users/linndfors/study/diploma/ner_for_fem/data/v2.0/data/bruk/53332fd5b311.ann', '/Users/linndfors/study/diploma/ner_for_fem/data/v2.0/data/bruk/9ec3c336d10b.ann', '/Users/linndfors/study/diploma/ner_for_fem/data/v2.0/data/bruk/48f4aaf25376.ann', '/Users/linndfors/study/diploma/ner_for_fem/data/v2.0/data/bruk/e5e76a8efa0f.ann', '/Users/linndfors/study/diploma/ner_for_fem/data/v2.0/data/bruk/9c614dee720a.ann', '/Users/linndfors/study/diploma/ner_for_fem/data/v2.0/data/bruk/2298b6b41bec.ann', '/Users/linndfors/study/diploma/ner_for_fem/data/v2.0/data/bruk/d3669729136c.ann', '/Users/linndfors/study/diploma/ner_for_fem/data/v2.0/data/bruk/f161f5134505.ann', '/Users/linndfors/study/diploma/ner_for_fem/data/v2.0/data/bruk/e1dbe335e762.ann', '/Users/linndfors/study/diploma/ner_for_fem/data/v2.0/data/bruk/5f8e43b59919.ann', '/Users/linndfors/study/diploma/ner_for_fem/data/v2.0/data/bruk/755c890a06fb.ann', '/Users/linndfors/study/diploma/ner_for_fem/data/v2.0/data/bruk/d79269090caa.ann', '/Users/linndfors/study/diploma/ner_for_fem/data/v2.0/data/bruk/53aae78351c4.ann', '/Users/linndfors/study/diploma/ner_for_fem/data/v2.0/data/bruk/a2238b6b98a1.ann', '/Users/linndfors/study/diploma/ner_for_fem/data/v2.0/data/bruk/10a2da5c514c.ann', '/Users/linndfors/study/diploma/ner_for_fem/data/v2.0/data/bruk/7b12fd5b62eb.ann', '/Users/linndfors/study/diploma/ner_for_fem/data/v2.0/data/bruk/cee02d4c030f.ann', '/Users/linndfors/study/diploma/ner_for_fem/data/v2.0/data/bruk/1ed3fef56c8f.ann', '/Users/linndfors/study/diploma/ner_for_fem/data/v2.0/data/bruk/3a333ad5757c.ann', '/Users/linndfors/study/diploma/ner_for_fem/data/v2.0/data/bruk/5207847a2e1d.ann', '/Users/linndfors/study/diploma/ner_for_fem/data/v2.0/data/bruk/91752831aab3.ann', '/Users/linndfors/study/diploma/ner_for_fem/data/v2.0/data/bruk/49752e89b7ff.ann', '/Users/linndfors/study/diploma/ner_for_fem/data/v2.0/data/bruk/561acef3f531.ann', '/Users/linndfors/study/diploma/ner_for_fem/data/v2.0/data/bruk/b51682e6ced9.ann', '/Users/linndfors/study/diploma/ner_for_fem/data/v2.0/data/bruk/e0493ec8466b.ann', '/Users/linndfors/study/diploma/ner_for_fem/data/v2.0/data/bruk/7de94608e47e.ann', '/Users/linndfors/study/diploma/ner_for_fem/data/v2.0/data/bruk/c3943538d82d.ann', '/Users/linndfors/study/diploma/ner_for_fem/data/v2.0/data/bruk/d30e0fb50f0f.ann', '/Users/linndfors/study/diploma/ner_for_fem/data/v2.0/data/bruk/605bc326eeaf.ann', '/Users/linndfors/study/diploma/ner_for_fem/data/v2.0/data/bruk/9494fddb0caa.ann', '/Users/linndfors/study/diploma/ner_for_fem/data/v2.0/data/bruk/b09a79bafe6c.ann', '/Users/linndfors/study/diploma/ner_for_fem/data/v2.0/data/bruk/8f009118f3b6.ann', '/Users/linndfors/study/diploma/ner_for_fem/data/v2.0/data/bruk/164940c99b86.ann', '/Users/linndfors/study/diploma/ner_for_fem/data/v2.0/data/bruk/78acebed5a3b.ann', '/Users/linndfors/study/diploma/ner_for_fem/data/v2.0/data/bruk/a858c90660f4.ann', '/Users/linndfors/study/diploma/ner_for_fem/data/v2.0/data/bruk/f03cac92cb80.ann', '/Users/linndfors/study/diploma/ner_for_fem/data/v2.0/data/bruk/2cc21b456aad.ann', '/Users/linndfors/study/diploma/ner_for_fem/data/v2.0/data/bruk/647a3f078f3f.ann', '/Users/linndfors/study/diploma/ner_for_fem/data/v2.0/data/bruk/9df8bcf8e17e.ann', '/Users/linndfors/study/diploma/ner_for_fem/data/v2.0/data/bruk/3f4bafb349ae.ann', '/Users/linndfors/study/diploma/ner_for_fem/data/v2.0/data/bruk/7b791a89bdee.ann', '/Users/linndfors/study/diploma/ner_for_fem/data/v2.0/data/bruk/f334a9c15e7b.ann', '/Users/linndfors/study/diploma/ner_for_fem/data/v2.0/data/bruk/2e4c850037f4.ann', '/Users/linndfors/study/diploma/ner_for_fem/data/v2.0/data/bruk/40f14174262a.ann', '/Users/linndfors/study/diploma/ner_for_fem/data/v2.0/data/bruk/4b1efc986bb8.ann', '/Users/linndfors/study/diploma/ner_for_fem/data/v2.0/data/bruk/f6f948024e96.ann', '/Users/linndfors/study/diploma/ner_for_fem/data/v2.0/data/bruk/1b8aae94e457.ann', '/Users/linndfors/study/diploma/ner_for_fem/data/v2.0/data/bruk/804f1f7b3cba.ann', '/Users/linndfors/study/diploma/ner_for_fem/data/v2.0/data/bruk/54463e60c449.ann', '/Users/linndfors/study/diploma/ner_for_fem/data/v2.0/data/bruk/fabc18a7d8fd.ann', '/Users/linndfors/study/diploma/ner_for_fem/data/v2.0/data/bruk/257fca043205.ann', '/Users/linndfors/study/diploma/ner_for_fem/data/v2.0/data/bruk/8fd32472ba8c.ann', '/Users/linndfors/study/diploma/ner_for_fem/data/v2.0/data/bruk/e21ddb9efb07.ann', '/Users/linndfors/study/diploma/ner_for_fem/data/v2.0/data/bruk/0d902430768c.ann', '/Users/linndfors/study/diploma/ner_for_fem/data/v2.0/data/bruk/e38f3f589599.ann', '/Users/linndfors/study/diploma/ner_for_fem/data/v2.0/data/bruk/47eb526780b0.ann', '/Users/linndfors/study/diploma/ner_for_fem/data/v2.0/data/bruk/9675d79e8807.ann', '/Users/linndfors/study/diploma/ner_for_fem/data/v2.0/data/bruk/7b2c9399fee9.ann', '/Users/linndfors/study/diploma/ner_for_fem/data/v2.0/data/bruk/624df1293f3d.ann', '/Users/linndfors/study/diploma/ner_for_fem/data/v2.0/data/bruk/e010e86e436c.ann', '/Users/linndfors/study/diploma/ner_for_fem/data/v2.0/data/bruk/69d2ba355bb3.ann', '/Users/linndfors/study/diploma/ner_for_fem/data/v2.0/data/bruk/a487d1895726.ann', '/Users/linndfors/study/diploma/ner_for_fem/data/v2.0/data/bruk/54e33e2bc8c9.ann', '/Users/linndfors/study/diploma/ner_for_fem/data/v2.0/data/bruk/efc2665e4bed.ann', '/Users/linndfors/study/diploma/ner_for_fem/data/v2.0/data/bruk/858f4aec5f11.ann', '/Users/linndfors/study/diploma/ner_for_fem/data/v2.0/data/bruk/bf847eb38952.ann', '/Users/linndfors/study/diploma/ner_for_fem/data/v2.0/data/bruk/eb523e7caf23.ann', '/Users/linndfors/study/diploma/ner_for_fem/data/v2.0/data/bruk/c069c0fe5b09.ann', '/Users/linndfors/study/diploma/ner_for_fem/data/v2.0/data/bruk/6b5d4229b548.ann', '/Users/linndfors/study/diploma/ner_for_fem/data/v2.0/data/bruk/ea3fab248fbe.ann', '/Users/linndfors/study/diploma/ner_for_fem/data/v2.0/data/bruk/7c3e231cb1a1.ann', '/Users/linndfors/study/diploma/ner_for_fem/data/v2.0/data/bruk/db8a0528945d.ann', '/Users/linndfors/study/diploma/ner_for_fem/data/v2.0/data/bruk/326978d2c58c.ann', '/Users/linndfors/study/diploma/ner_for_fem/data/v2.0/data/bruk/ed833c6b7cd6.ann', '/Users/linndfors/study/diploma/ner_for_fem/data/v2.0/data/bruk/e09cf46f8336.ann', '/Users/linndfors/study/diploma/ner_for_fem/data/v2.0/data/bruk/8cc49a8b2d76.ann', '/Users/linndfors/study/diploma/ner_for_fem/data/v2.0/data/bruk/f5c129207e1e.ann', '/Users/linndfors/study/diploma/ner_for_fem/data/v2.0/data/bruk/350d55a9cd57.ann', '/Users/linndfors/study/diploma/ner_for_fem/data/v2.0/data/bruk/e0d737d53640.ann', '/Users/linndfors/study/diploma/ner_for_fem/data/v2.0/data/bruk/b48fcd1e4038.ann', '/Users/linndfors/study/diploma/ner_for_fem/data/v2.0/data/bruk/a1040e479610.ann', '/Users/linndfors/study/diploma/ner_for_fem/data/v2.0/data/bruk/7288b7c578ae.ann', '/Users/linndfors/study/diploma/ner_for_fem/data/v2.0/data/bruk/85c4d4a485ec.ann', '/Users/linndfors/study/diploma/ner_for_fem/data/v2.0/data/bruk/74a7e2a340dd.ann', '/Users/linndfors/study/diploma/ner_for_fem/data/v2.0/data/bruk/90150d8555dd.ann', '/Users/linndfors/study/diploma/ner_for_fem/data/v2.0/data/bruk/abb07434ad17.ann', '/Users/linndfors/study/diploma/ner_for_fem/data/v2.0/data/bruk/ef1b6bd52747.ann', '/Users/linndfors/study/diploma/ner_for_fem/data/v2.0/data/bruk/fc8f156aa82b.ann', '/Users/linndfors/study/diploma/ner_for_fem/data/v2.0/data/bruk/209e9f10fc09.ann', '/Users/linndfors/study/diploma/ner_for_fem/data/v2.0/data/bruk/79812f4abec1.ann', '/Users/linndfors/study/diploma/ner_for_fem/data/v2.0/data/bruk/ff069c11e13d.ann', '/Users/linndfors/study/diploma/ner_for_fem/data/v2.0/data/bruk/095a5debd3eb.ann', '/Users/linndfors/study/diploma/ner_for_fem/data/v2.0/data/bruk/d2c0db522075.ann', '/Users/linndfors/study/diploma/ner_for_fem/data/v2.0/data/bruk/6b06f950414e.ann', '/Users/linndfors/study/diploma/ner_for_fem/data/v2.0/data/bruk/1c325fde9ed4.ann', '/Users/linndfors/study/diploma/ner_for_fem/data/v2.0/data/bruk/da7b7891d3ff.ann', '/Users/linndfors/study/diploma/ner_for_fem/data/v2.0/data/bruk/9fbfe077a27a.ann', '/Users/linndfors/study/diploma/ner_for_fem/data/v2.0/data/bruk/13e0cb95075a.ann', '/Users/linndfors/study/diploma/ner_for_fem/data/v2.0/data/bruk/3b3e40997071.ann', '/Users/linndfors/study/diploma/ner_for_fem/data/v2.0/data/bruk/0046ebeff13e.ann', '/Users/linndfors/study/diploma/ner_for_fem/data/v2.0/data/bruk/885fcaa2ed90.ann', '/Users/linndfors/study/diploma/ner_for_fem/data/v2.0/data/bruk/d605697acd36.ann', '/Users/linndfors/study/diploma/ner_for_fem/data/v2.0/data/bruk/dc1202fd9850.ann', '/Users/linndfors/study/diploma/ner_for_fem/data/v2.0/data/bruk/5a75a46fecdf.ann', '/Users/linndfors/study/diploma/ner_for_fem/data/v2.0/data/bruk/71a651d2dbec.ann', '/Users/linndfors/study/diploma/ner_for_fem/data/v2.0/data/bruk/cff8a0408e5d.ann', '/Users/linndfors/study/diploma/ner_for_fem/data/v2.0/data/bruk/11ee9b83c9c2.ann', '/Users/linndfors/study/diploma/ner_for_fem/data/v2.0/data/bruk/38a3cffd4beb.ann', '/Users/linndfors/study/diploma/ner_for_fem/data/v2.0/data/bruk/89117d2e88a0.ann', '/Users/linndfors/study/diploma/ner_for_fem/data/v2.0/data/bruk/1c37d315923c.ann', '/Users/linndfors/study/diploma/ner_for_fem/data/v2.0/data/bruk/bd86f567c746.ann', '/Users/linndfors/study/diploma/ner_for_fem/data/v2.0/data/bruk/8051a5966e78.ann', '/Users/linndfors/study/diploma/ner_for_fem/data/v2.0/data/bruk/52049bc57554.ann', '/Users/linndfors/study/diploma/ner_for_fem/data/v2.0/data/bruk/b3c847570902.ann', '/Users/linndfors/study/diploma/ner_for_fem/data/v2.0/data/bruk/4067c1915516.ann', '/Users/linndfors/study/diploma/ner_for_fem/data/v2.0/data/bruk/f89275b78518.ann', '/Users/linndfors/study/diploma/ner_for_fem/data/v2.0/data/bruk/f579476e6692.ann', '/Users/linndfors/study/diploma/ner_for_fem/data/v2.0/data/bruk/5710814a4a84.ann', '/Users/linndfors/study/diploma/ner_for_fem/data/v2.0/data/bruk/7b5796884bc9.ann', '/Users/linndfors/study/diploma/ner_for_fem/data/v2.0/data/bruk/18ec3aea7ed7.ann', '/Users/linndfors/study/diploma/ner_for_fem/data/v2.0/data/bruk/f495f41dfa02.ann', '/Users/linndfors/study/diploma/ner_for_fem/data/v2.0/data/bruk/e023d6d6f1a3.ann', '/Users/linndfors/study/diploma/ner_for_fem/data/v2.0/data/bruk/f4ca58272dbf.ann', '/Users/linndfors/study/diploma/ner_for_fem/data/v2.0/data/bruk/e3c7064319e0.ann', '/Users/linndfors/study/diploma/ner_for_fem/data/v2.0/data/bruk/5e10574a909c.ann', '/Users/linndfors/study/diploma/ner_for_fem/data/v2.0/data/bruk/c6807dbff658.ann', '/Users/linndfors/study/diploma/ner_for_fem/data/v2.0/data/bruk/8e5453dbd6f4.ann', '/Users/linndfors/study/diploma/ner_for_fem/data/v2.0/data/bruk/5025975880fb.ann', '/Users/linndfors/study/diploma/ner_for_fem/data/v2.0/data/bruk/b019e9b8d51d.ann', '/Users/linndfors/study/diploma/ner_for_fem/data/v2.0/data/bruk/bc755153f4f7.ann', '/Users/linndfors/study/diploma/ner_for_fem/data/v2.0/data/bruk/e053b1d934d3.ann', '/Users/linndfors/study/diploma/ner_for_fem/data/v2.0/data/bruk/6d620fe63e14.ann', '/Users/linndfors/study/diploma/ner_for_fem/data/v2.0/data/bruk/9c0774172f73.ann', '/Users/linndfors/study/diploma/ner_for_fem/data/v2.0/data/bruk/c3402705f448.ann', '/Users/linndfors/study/diploma/ner_for_fem/data/v2.0/data/bruk/6b60e6fb3d78.ann', '/Users/linndfors/study/diploma/ner_for_fem/data/v2.0/data/bruk/38603af07530.ann', '/Users/linndfors/study/diploma/ner_for_fem/data/v2.0/data/bruk/8c7ec62e35ac.ann', '/Users/linndfors/study/diploma/ner_for_fem/data/v2.0/data/bruk/34a0fdd811de.ann', '/Users/linndfors/study/diploma/ner_for_fem/data/v2.0/data/bruk/27a1722d517c.ann', '/Users/linndfors/study/diploma/ner_for_fem/data/v2.0/data/bruk/fe18230930c4.ann', '/Users/linndfors/study/diploma/ner_for_fem/data/v2.0/data/bruk/5d4e6be6d046.ann', '/Users/linndfors/study/diploma/ner_for_fem/data/v2.0/data/bruk/066ec5f0dea6.ann', '/Users/linndfors/study/diploma/ner_for_fem/data/v2.0/data/bruk/f4136bfda19a.ann', '/Users/linndfors/study/diploma/ner_for_fem/data/v2.0/data/bruk/548f66f38090.ann', '/Users/linndfors/study/diploma/ner_for_fem/data/v2.0/data/bruk/63eeded4491d.ann', '/Users/linndfors/study/diploma/ner_for_fem/data/v2.0/data/bruk/17fbae84faea.ann', '/Users/linndfors/study/diploma/ner_for_fem/data/v2.0/data/bruk/facfaebdda53.ann', '/Users/linndfors/study/diploma/ner_for_fem/data/v2.0/data/bruk/937c38344fdf.ann', '/Users/linndfors/study/diploma/ner_for_fem/data/v2.0/data/bruk/835125e08bbe.ann', '/Users/linndfors/study/diploma/ner_for_fem/data/v2.0/data/bruk/3071b42b697b.ann', '/Users/linndfors/study/diploma/ner_for_fem/data/v2.0/data/bruk/b84c8a869b51.ann', '/Users/linndfors/study/diploma/ner_for_fem/data/v2.0/data/bruk/5007c900c375.ann', '/Users/linndfors/study/diploma/ner_for_fem/data/v2.0/data/bruk/b576ac602665.ann', '/Users/linndfors/study/diploma/ner_for_fem/data/v2.0/data/bruk/2936652097f4.ann', '/Users/linndfors/study/diploma/ner_for_fem/data/v2.0/data/bruk/c839868dc209.ann', '/Users/linndfors/study/diploma/ner_for_fem/data/v2.0/data/bruk/0ac5140eb732.ann', '/Users/linndfors/study/diploma/ner_for_fem/data/v2.0/data/bruk/3ba7ca929d68.ann', '/Users/linndfors/study/diploma/ner_for_fem/data/v2.0/data/bruk/2846bf1d66a8.ann', '/Users/linndfors/study/diploma/ner_for_fem/data/v2.0/data/bruk/232be2c6b5c2.ann', '/Users/linndfors/study/diploma/ner_for_fem/data/v2.0/data/bruk/2f18f73184c6.ann', '/Users/linndfors/study/diploma/ner_for_fem/data/v2.0/data/bruk/4b9c4f7467c3.ann', '/Users/linndfors/study/diploma/ner_for_fem/data/v2.0/data/bruk/2043b8e17afd.ann', '/Users/linndfors/study/diploma/ner_for_fem/data/v2.0/data/bruk/06d78909a7ab.ann', '/Users/linndfors/study/diploma/ner_for_fem/data/v2.0/data/bruk/b87576a7425a.ann', '/Users/linndfors/study/diploma/ner_for_fem/data/v2.0/data/bruk/09d6a57532b6.ann', '/Users/linndfors/study/diploma/ner_for_fem/data/v2.0/data/bruk/db78e47ddc2b.ann', '/Users/linndfors/study/diploma/ner_for_fem/data/v2.0/data/bruk/710044df1fe0.ann', '/Users/linndfors/study/diploma/ner_for_fem/data/v2.0/data/bruk/a196488351f6.ann', '/Users/linndfors/study/diploma/ner_for_fem/data/v2.0/data/bruk/a616672f4a8b.ann', '/Users/linndfors/study/diploma/ner_for_fem/data/v2.0/data/bruk/91024fa21059.ann', '/Users/linndfors/study/diploma/ner_for_fem/data/v2.0/data/bruk/ec56de093e26.ann', '/Users/linndfors/study/diploma/ner_for_fem/data/v2.0/data/bruk/1001d3d44d5d.ann', '/Users/linndfors/study/diploma/ner_for_fem/data/v2.0/data/bruk/8319d005221b.ann', '/Users/linndfors/study/diploma/ner_for_fem/data/v2.0/data/bruk/9e763fde7f9d.ann', '/Users/linndfors/study/diploma/ner_for_fem/data/v2.0/data/bruk/b987128d15d3.ann', '/Users/linndfors/study/diploma/ner_for_fem/data/v2.0/data/bruk/d027e35c242d.ann', '/Users/linndfors/study/diploma/ner_for_fem/data/v2.0/data/bruk/c0c436cc9cb6.ann', '/Users/linndfors/study/diploma/ner_for_fem/data/v2.0/data/bruk/ff44a42fbce8.ann', '/Users/linndfors/study/diploma/ner_for_fem/data/v2.0/data/bruk/24dc7f2b8dba.ann', '/Users/linndfors/study/diploma/ner_for_fem/data/v2.0/data/bruk/276b7d4811fe.ann', '/Users/linndfors/study/diploma/ner_for_fem/data/v2.0/data/bruk/0b09727dad40.ann', '/Users/linndfors/study/diploma/ner_for_fem/data/v2.0/data/bruk/09a740046a57.ann', '/Users/linndfors/study/diploma/ner_for_fem/data/v2.0/data/bruk/9d8a2d411738.ann', '/Users/linndfors/study/diploma/ner_for_fem/data/v2.0/data/bruk/85ff05f88182.ann', '/Users/linndfors/study/diploma/ner_for_fem/data/v2.0/data/bruk/5764f733fff2.ann', '/Users/linndfors/study/diploma/ner_for_fem/data/v2.0/data/bruk/c0f24f5d70e3.ann', '/Users/linndfors/study/diploma/ner_for_fem/data/v2.0/data/bruk/0b962bee49bc.ann', '/Users/linndfors/study/diploma/ner_for_fem/data/v2.0/data/bruk/ce0f43ec1ab3.ann', '/Users/linndfors/study/diploma/ner_for_fem/data/v2.0/data/bruk/9289f89ef36f.ann', '/Users/linndfors/study/diploma/ner_for_fem/data/v2.0/data/bruk/2fc890744f7c.ann', '/Users/linndfors/study/diploma/ner_for_fem/data/v2.0/data/bruk/46ae77c0ec97.ann', '/Users/linndfors/study/diploma/ner_for_fem/data/v2.0/data/bruk/f5bb37569413.ann', '/Users/linndfors/study/diploma/ner_for_fem/data/v2.0/data/bruk/f9a926049262.ann', '/Users/linndfors/study/diploma/ner_for_fem/data/v2.0/data/bruk/132368095bab.ann', '/Users/linndfors/study/diploma/ner_for_fem/data/v2.0/data/bruk/9d4b90129d10.ann', '/Users/linndfors/study/diploma/ner_for_fem/data/v2.0/data/bruk/8951230172d0.ann', '/Users/linndfors/study/diploma/ner_for_fem/data/v2.0/data/bruk/5085bb95b51a.ann', '/Users/linndfors/study/diploma/ner_for_fem/data/v2.0/data/bruk/e1d8841dcc68.ann', '/Users/linndfors/study/diploma/ner_for_fem/data/v2.0/data/bruk/6e4853575182.ann', '/Users/linndfors/study/diploma/ner_for_fem/data/v2.0/data/bruk/d81f996d0ab8.ann', '/Users/linndfors/study/diploma/ner_for_fem/data/v2.0/data/bruk/dd433aaa7ea6.ann', '/Users/linndfors/study/diploma/ner_for_fem/data/v2.0/data/bruk/d08ea0bbac66.ann', '/Users/linndfors/study/diploma/ner_for_fem/data/v2.0/data/bruk/6fd76ff76fe1.ann', '/Users/linndfors/study/diploma/ner_for_fem/data/v2.0/data/bruk/f958ce8bb461.ann', '/Users/linndfors/study/diploma/ner_for_fem/data/v2.0/data/bruk/814169a89f24.ann', '/Users/linndfors/study/diploma/ner_for_fem/data/v2.0/data/bruk/a1a77d3d5b33.ann', '/Users/linndfors/study/diploma/ner_for_fem/data/v2.0/data/bruk/d530671576f8.ann', '/Users/linndfors/study/diploma/ner_for_fem/data/v2.0/data/bruk/cf3bc90c93e7.ann', '/Users/linndfors/study/diploma/ner_for_fem/data/v2.0/data/bruk/e622bcc4a6c5.ann', '/Users/linndfors/study/diploma/ner_for_fem/data/v2.0/data/bruk/c375246adb0a.ann', '/Users/linndfors/study/diploma/ner_for_fem/data/v2.0/data/bruk/766e1942f398.ann', '/Users/linndfors/study/diploma/ner_for_fem/data/v2.0/data/bruk/cad2484c0cc8.ann', '/Users/linndfors/study/diploma/ner_for_fem/data/v2.0/data/bruk/c28168a23912.ann', '/Users/linndfors/study/diploma/ner_for_fem/data/v2.0/data/bruk/b6756b05bab3.ann', '/Users/linndfors/study/diploma/ner_for_fem/data/v2.0/data/bruk/17d3d678df81.ann', '/Users/linndfors/study/diploma/ner_for_fem/data/v2.0/data/bruk/3d5cec7abaca.ann', '/Users/linndfors/study/diploma/ner_for_fem/data/v2.0/data/bruk/1484f7813550.ann', '/Users/linndfors/study/diploma/ner_for_fem/data/v2.0/data/bruk/e8188caa466c.ann']\n"
     ]
    },
    {
     "name": "stderr",
     "output_type": "stream",
     "text": [
      "100%|██████████| 131/131 [02:34<00:00,  1.18s/it]\n"
     ]
    }
   ],
   "source": [
    "bruk_orig_job_dict = extract_job_entities(\"/Users/linndfors/study/diploma/ner_for_fem/data/v2.0/data/bruk\")\n",
    "bruk_orig_job_file_gender_dict, bruk_orig_job_total_counter, bruk_orig_job_list = return_gendered_job_dict(bruk_orig_job_dict)"
   ]
  },
  {
   "cell_type": "code",
   "execution_count": null,
   "metadata": {},
   "outputs": [
    {
     "name": "stdout",
     "output_type": "stream",
     "text": [
      "total size: 638\n",
      "================\n",
      "gender: male\n",
      "number of files for the gender: 122\n",
      "number of entities for the gender: 511\n",
      "The most popular entity: поет\n",
      "================\n",
      "================\n",
      "gender: female\n",
      "number of files for the gender: 23\n",
      "number of entities for the gender: 49\n",
      "The most popular entity: вчителька\n",
      "================\n",
      "================\n",
      "gender: common\n",
      "number of files for the gender: 24\n",
      "number of entities for the gender: 53\n",
      "The most popular entity: голова\n",
      "================\n",
      "================\n",
      "gender: unknown_gender\n",
      "number of files for the gender: 14\n",
      "number of entities for the gender: 25\n",
      "The most popular entity: наука\n",
      "================\n"
     ]
    }
   ],
   "source": [
    "return_gender_stat(bruk_orig_job_total_counter, bruk_orig_job_file_gender_dict)"
   ]
  },
  {
   "cell_type": "code",
   "execution_count": 22,
   "metadata": {},
   "outputs": [
    {
     "name": "stdout",
     "output_type": "stream",
     "text": [
      "['/Users/linndfors/study/diploma/ner_for_fem/data/v2.0/data/ng/b4fe41ad2268.ann', '/Users/linndfors/study/diploma/ner_for_fem/data/v2.0/data/ng/150446f83aa2.ann', '/Users/linndfors/study/diploma/ner_for_fem/data/v2.0/data/ng/ee7cde9751a7.ann', '/Users/linndfors/study/diploma/ner_for_fem/data/v2.0/data/ng/3fdf22393022.ann', '/Users/linndfors/study/diploma/ner_for_fem/data/v2.0/data/ng/76b9b07172fb.ann', '/Users/linndfors/study/diploma/ner_for_fem/data/v2.0/data/ng/7982679365fb.ann', '/Users/linndfors/study/diploma/ner_for_fem/data/v2.0/data/ng/003d28360166.ann', '/Users/linndfors/study/diploma/ner_for_fem/data/v2.0/data/ng/02634352df22.ann', '/Users/linndfors/study/diploma/ner_for_fem/data/v2.0/data/ng/a9d2c035032d.ann', '/Users/linndfors/study/diploma/ner_for_fem/data/v2.0/data/ng/3eef4bd7fc75.ann', '/Users/linndfors/study/diploma/ner_for_fem/data/v2.0/data/ng/f342f88df1c8.ann', '/Users/linndfors/study/diploma/ner_for_fem/data/v2.0/data/ng/bed0c1b62024.ann', '/Users/linndfors/study/diploma/ner_for_fem/data/v2.0/data/ng/d7e523681acc.ann', '/Users/linndfors/study/diploma/ner_for_fem/data/v2.0/data/ng/ba4204adf371.ann', '/Users/linndfors/study/diploma/ner_for_fem/data/v2.0/data/ng/cb7958ff386e.ann', '/Users/linndfors/study/diploma/ner_for_fem/data/v2.0/data/ng/6dd15465059a.ann', '/Users/linndfors/study/diploma/ner_for_fem/data/v2.0/data/ng/883e1bd852d8.ann', '/Users/linndfors/study/diploma/ner_for_fem/data/v2.0/data/ng/8806c823dee8.ann', '/Users/linndfors/study/diploma/ner_for_fem/data/v2.0/data/ng/418cf6ff9844.ann', '/Users/linndfors/study/diploma/ner_for_fem/data/v2.0/data/ng/258d2fd0d2fe.ann', '/Users/linndfors/study/diploma/ner_for_fem/data/v2.0/data/ng/357039d66ab7.ann', '/Users/linndfors/study/diploma/ner_for_fem/data/v2.0/data/ng/535022e2bdd2.ann', '/Users/linndfors/study/diploma/ner_for_fem/data/v2.0/data/ng/bbbc95618194.ann', '/Users/linndfors/study/diploma/ner_for_fem/data/v2.0/data/ng/8b3ec884f52d.ann', '/Users/linndfors/study/diploma/ner_for_fem/data/v2.0/data/ng/19ebc4aa5eb5.ann', '/Users/linndfors/study/diploma/ner_for_fem/data/v2.0/data/ng/8e1267225acc.ann', '/Users/linndfors/study/diploma/ner_for_fem/data/v2.0/data/ng/f50037706d0a.ann', '/Users/linndfors/study/diploma/ner_for_fem/data/v2.0/data/ng/7d19fba564ad.ann', '/Users/linndfors/study/diploma/ner_for_fem/data/v2.0/data/ng/46b3a16d4154.ann', '/Users/linndfors/study/diploma/ner_for_fem/data/v2.0/data/ng/e19e41e16752.ann', '/Users/linndfors/study/diploma/ner_for_fem/data/v2.0/data/ng/3262eb989bd6.ann', '/Users/linndfors/study/diploma/ner_for_fem/data/v2.0/data/ng/6d7cbd85036c.ann', '/Users/linndfors/study/diploma/ner_for_fem/data/v2.0/data/ng/757fc6f23e18.ann', '/Users/linndfors/study/diploma/ner_for_fem/data/v2.0/data/ng/d84580a3bacf.ann', '/Users/linndfors/study/diploma/ner_for_fem/data/v2.0/data/ng/517bca22990a.ann', '/Users/linndfors/study/diploma/ner_for_fem/data/v2.0/data/ng/b9ea4aa52bae.ann', '/Users/linndfors/study/diploma/ner_for_fem/data/v2.0/data/ng/605d2142ccad.ann', '/Users/linndfors/study/diploma/ner_for_fem/data/v2.0/data/ng/4fa4b01c6204.ann', '/Users/linndfors/study/diploma/ner_for_fem/data/v2.0/data/ng/63711262f9fb.ann', '/Users/linndfors/study/diploma/ner_for_fem/data/v2.0/data/ng/6f6281133248.ann', '/Users/linndfors/study/diploma/ner_for_fem/data/v2.0/data/ng/02bebf42e010.ann', '/Users/linndfors/study/diploma/ner_for_fem/data/v2.0/data/ng/e0c4e3168c81.ann', '/Users/linndfors/study/diploma/ner_for_fem/data/v2.0/data/ng/7e6a2bdcfd1c.ann', '/Users/linndfors/study/diploma/ner_for_fem/data/v2.0/data/ng/3e21f62b9a2f.ann', '/Users/linndfors/study/diploma/ner_for_fem/data/v2.0/data/ng/a56a7edf7859.ann', '/Users/linndfors/study/diploma/ner_for_fem/data/v2.0/data/ng/a4eee55da896.ann', '/Users/linndfors/study/diploma/ner_for_fem/data/v2.0/data/ng/9c264bd5a100.ann', '/Users/linndfors/study/diploma/ner_for_fem/data/v2.0/data/ng/8098d69d861f.ann', '/Users/linndfors/study/diploma/ner_for_fem/data/v2.0/data/ng/989b35bbc2b6.ann', '/Users/linndfors/study/diploma/ner_for_fem/data/v2.0/data/ng/2980d5c34788.ann', '/Users/linndfors/study/diploma/ner_for_fem/data/v2.0/data/ng/c49d24717658.ann', '/Users/linndfors/study/diploma/ner_for_fem/data/v2.0/data/ng/1d88edf10c84.ann', '/Users/linndfors/study/diploma/ner_for_fem/data/v2.0/data/ng/bbc5330abbdc.ann', '/Users/linndfors/study/diploma/ner_for_fem/data/v2.0/data/ng/c97bff36f45a.ann', '/Users/linndfors/study/diploma/ner_for_fem/data/v2.0/data/ng/605667093f7b.ann', '/Users/linndfors/study/diploma/ner_for_fem/data/v2.0/data/ng/e96b3ae1908b.ann', '/Users/linndfors/study/diploma/ner_for_fem/data/v2.0/data/ng/cbf21c99c504.ann', '/Users/linndfors/study/diploma/ner_for_fem/data/v2.0/data/ng/97c7987b8f9c.ann', '/Users/linndfors/study/diploma/ner_for_fem/data/v2.0/data/ng/104263660695.ann', '/Users/linndfors/study/diploma/ner_for_fem/data/v2.0/data/ng/7faf035614c1.ann', '/Users/linndfors/study/diploma/ner_for_fem/data/v2.0/data/ng/30856acf29fc.ann', '/Users/linndfors/study/diploma/ner_for_fem/data/v2.0/data/ng/f2653a1e387d.ann', '/Users/linndfors/study/diploma/ner_for_fem/data/v2.0/data/ng/db4996034aa6.ann', '/Users/linndfors/study/diploma/ner_for_fem/data/v2.0/data/ng/4671f9337340.ann', '/Users/linndfors/study/diploma/ner_for_fem/data/v2.0/data/ng/36aa8022709f.ann', '/Users/linndfors/study/diploma/ner_for_fem/data/v2.0/data/ng/2ff4fbe3fcc4.ann', '/Users/linndfors/study/diploma/ner_for_fem/data/v2.0/data/ng/c09661af0a89.ann', '/Users/linndfors/study/diploma/ner_for_fem/data/v2.0/data/ng/3b285211209c.ann', '/Users/linndfors/study/diploma/ner_for_fem/data/v2.0/data/ng/35a759d5871f.ann', '/Users/linndfors/study/diploma/ner_for_fem/data/v2.0/data/ng/76cfe1c0a0b6.ann', '/Users/linndfors/study/diploma/ner_for_fem/data/v2.0/data/ng/d1d4639dbadd.ann', '/Users/linndfors/study/diploma/ner_for_fem/data/v2.0/data/ng/037bb6843538.ann', '/Users/linndfors/study/diploma/ner_for_fem/data/v2.0/data/ng/fba30fed0dbd.ann', '/Users/linndfors/study/diploma/ner_for_fem/data/v2.0/data/ng/c446d7d1cea2.ann', '/Users/linndfors/study/diploma/ner_for_fem/data/v2.0/data/ng/cb8dd5ea2542.ann', '/Users/linndfors/study/diploma/ner_for_fem/data/v2.0/data/ng/8c6db2873e45.ann', '/Users/linndfors/study/diploma/ner_for_fem/data/v2.0/data/ng/16fb31bf76b8.ann', '/Users/linndfors/study/diploma/ner_for_fem/data/v2.0/data/ng/73eb785ac9bb.ann', '/Users/linndfors/study/diploma/ner_for_fem/data/v2.0/data/ng/ba4d4c8da29b.ann', '/Users/linndfors/study/diploma/ner_for_fem/data/v2.0/data/ng/9cd323d79912.ann', '/Users/linndfors/study/diploma/ner_for_fem/data/v2.0/data/ng/d080aa19c4bd.ann', '/Users/linndfors/study/diploma/ner_for_fem/data/v2.0/data/ng/ab299615a1ce.ann', '/Users/linndfors/study/diploma/ner_for_fem/data/v2.0/data/ng/0e5456794c26.ann', '/Users/linndfors/study/diploma/ner_for_fem/data/v2.0/data/ng/a04af354c8db.ann', '/Users/linndfors/study/diploma/ner_for_fem/data/v2.0/data/ng/03d075bafb84.ann', '/Users/linndfors/study/diploma/ner_for_fem/data/v2.0/data/ng/c650874a1e16.ann', '/Users/linndfors/study/diploma/ner_for_fem/data/v2.0/data/ng/f5475c5dbfc9.ann', '/Users/linndfors/study/diploma/ner_for_fem/data/v2.0/data/ng/26c531a355cc.ann', '/Users/linndfors/study/diploma/ner_for_fem/data/v2.0/data/ng/7ab185008967.ann', '/Users/linndfors/study/diploma/ner_for_fem/data/v2.0/data/ng/d084adea3ae8.ann', '/Users/linndfors/study/diploma/ner_for_fem/data/v2.0/data/ng/47713afd9490.ann', '/Users/linndfors/study/diploma/ner_for_fem/data/v2.0/data/ng/12ca40b4ecac.ann', '/Users/linndfors/study/diploma/ner_for_fem/data/v2.0/data/ng/7f9631dbc39d.ann', '/Users/linndfors/study/diploma/ner_for_fem/data/v2.0/data/ng/b0163b57e788.ann', '/Users/linndfors/study/diploma/ner_for_fem/data/v2.0/data/ng/bdb88360d4a8.ann', '/Users/linndfors/study/diploma/ner_for_fem/data/v2.0/data/ng/4de429586136.ann', '/Users/linndfors/study/diploma/ner_for_fem/data/v2.0/data/ng/78153c6d7c59.ann', '/Users/linndfors/study/diploma/ner_for_fem/data/v2.0/data/ng/03b52358982b.ann', '/Users/linndfors/study/diploma/ner_for_fem/data/v2.0/data/ng/346183e7b6b1.ann', '/Users/linndfors/study/diploma/ner_for_fem/data/v2.0/data/ng/c9e6ab501a7e.ann', '/Users/linndfors/study/diploma/ner_for_fem/data/v2.0/data/ng/1c3c6180ad96.ann', '/Users/linndfors/study/diploma/ner_for_fem/data/v2.0/data/ng/c99d1ad0cc3c.ann', '/Users/linndfors/study/diploma/ner_for_fem/data/v2.0/data/ng/acabbef68eb1.ann', '/Users/linndfors/study/diploma/ner_for_fem/data/v2.0/data/ng/432e298a1354.ann', '/Users/linndfors/study/diploma/ner_for_fem/data/v2.0/data/ng/b2541ea8cb83.ann', '/Users/linndfors/study/diploma/ner_for_fem/data/v2.0/data/ng/7eae7aa310d7.ann', '/Users/linndfors/study/diploma/ner_for_fem/data/v2.0/data/ng/17f81040ab50.ann', '/Users/linndfors/study/diploma/ner_for_fem/data/v2.0/data/ng/5e407e3ddb68.ann', '/Users/linndfors/study/diploma/ner_for_fem/data/v2.0/data/ng/39c7437146fd.ann', '/Users/linndfors/study/diploma/ner_for_fem/data/v2.0/data/ng/aeabc0bd5724.ann', '/Users/linndfors/study/diploma/ner_for_fem/data/v2.0/data/ng/ca414599779c.ann', '/Users/linndfors/study/diploma/ner_for_fem/data/v2.0/data/ng/510661e4d39d.ann', '/Users/linndfors/study/diploma/ner_for_fem/data/v2.0/data/ng/6350e46219ca.ann', '/Users/linndfors/study/diploma/ner_for_fem/data/v2.0/data/ng/fc3221dac69d.ann', '/Users/linndfors/study/diploma/ner_for_fem/data/v2.0/data/ng/64bbab373f73.ann', '/Users/linndfors/study/diploma/ner_for_fem/data/v2.0/data/ng/39544dbbe184.ann', '/Users/linndfors/study/diploma/ner_for_fem/data/v2.0/data/ng/372677bde8c8.ann', '/Users/linndfors/study/diploma/ner_for_fem/data/v2.0/data/ng/0e6b8eb14491.ann', '/Users/linndfors/study/diploma/ner_for_fem/data/v2.0/data/ng/01cfbeca9827.ann', '/Users/linndfors/study/diploma/ner_for_fem/data/v2.0/data/ng/c3156652dba3.ann', '/Users/linndfors/study/diploma/ner_for_fem/data/v2.0/data/ng/8f5d434373e2.ann', '/Users/linndfors/study/diploma/ner_for_fem/data/v2.0/data/ng/937ae8974dd6.ann', '/Users/linndfors/study/diploma/ner_for_fem/data/v2.0/data/ng/c8944932e85f.ann', '/Users/linndfors/study/diploma/ner_for_fem/data/v2.0/data/ng/4e486c879cf1.ann', '/Users/linndfors/study/diploma/ner_for_fem/data/v2.0/data/ng/2c14409069b7.ann', '/Users/linndfors/study/diploma/ner_for_fem/data/v2.0/data/ng/b3e92d56950f.ann', '/Users/linndfors/study/diploma/ner_for_fem/data/v2.0/data/ng/a767be7c3792.ann', '/Users/linndfors/study/diploma/ner_for_fem/data/v2.0/data/ng/41cf54503fc6.ann', '/Users/linndfors/study/diploma/ner_for_fem/data/v2.0/data/ng/19a1d1f0d66f.ann', '/Users/linndfors/study/diploma/ner_for_fem/data/v2.0/data/ng/5d3d7e0d5bae.ann', '/Users/linndfors/study/diploma/ner_for_fem/data/v2.0/data/ng/fc5b5a35776f.ann', '/Users/linndfors/study/diploma/ner_for_fem/data/v2.0/data/ng/65a4cc6e3723.ann', '/Users/linndfors/study/diploma/ner_for_fem/data/v2.0/data/ng/bf276ac58f0f.ann', '/Users/linndfors/study/diploma/ner_for_fem/data/v2.0/data/ng/5f0dd24186aa.ann', '/Users/linndfors/study/diploma/ner_for_fem/data/v2.0/data/ng/ac13bf912fcb.ann', '/Users/linndfors/study/diploma/ner_for_fem/data/v2.0/data/ng/816a89664813.ann', '/Users/linndfors/study/diploma/ner_for_fem/data/v2.0/data/ng/5a43160b965d.ann', '/Users/linndfors/study/diploma/ner_for_fem/data/v2.0/data/ng/bf6104a5e8cc.ann', '/Users/linndfors/study/diploma/ner_for_fem/data/v2.0/data/ng/798252fda0ab.ann', '/Users/linndfors/study/diploma/ner_for_fem/data/v2.0/data/ng/09e1dccb8839.ann', '/Users/linndfors/study/diploma/ner_for_fem/data/v2.0/data/ng/5de8e21df21b.ann', '/Users/linndfors/study/diploma/ner_for_fem/data/v2.0/data/ng/2dfb84287371.ann', '/Users/linndfors/study/diploma/ner_for_fem/data/v2.0/data/ng/6d47a8c4d755.ann', '/Users/linndfors/study/diploma/ner_for_fem/data/v2.0/data/ng/0f0e96425eed.ann', '/Users/linndfors/study/diploma/ner_for_fem/data/v2.0/data/ng/a9db5c13ade2.ann', '/Users/linndfors/study/diploma/ner_for_fem/data/v2.0/data/ng/64d2d9e1ae2f.ann', '/Users/linndfors/study/diploma/ner_for_fem/data/v2.0/data/ng/1c3533ec1df3.ann', '/Users/linndfors/study/diploma/ner_for_fem/data/v2.0/data/ng/7d59bb5fe9f5.ann', '/Users/linndfors/study/diploma/ner_for_fem/data/v2.0/data/ng/a4bdacf739df.ann', '/Users/linndfors/study/diploma/ner_for_fem/data/v2.0/data/ng/06826af4579d.ann', '/Users/linndfors/study/diploma/ner_for_fem/data/v2.0/data/ng/872cdd84eee4.ann', '/Users/linndfors/study/diploma/ner_for_fem/data/v2.0/data/ng/1b68c2c76541.ann', '/Users/linndfors/study/diploma/ner_for_fem/data/v2.0/data/ng/5d7350e7d539.ann', '/Users/linndfors/study/diploma/ner_for_fem/data/v2.0/data/ng/de4c2d20b24b.ann', '/Users/linndfors/study/diploma/ner_for_fem/data/v2.0/data/ng/00edded01d7f.ann', '/Users/linndfors/study/diploma/ner_for_fem/data/v2.0/data/ng/39c1d99f468f.ann', '/Users/linndfors/study/diploma/ner_for_fem/data/v2.0/data/ng/3d437460799f.ann', '/Users/linndfors/study/diploma/ner_for_fem/data/v2.0/data/ng/18dbbac93012.ann', '/Users/linndfors/study/diploma/ner_for_fem/data/v2.0/data/ng/1c48b2f37af3.ann', '/Users/linndfors/study/diploma/ner_for_fem/data/v2.0/data/ng/75e21fe4f3b7.ann', '/Users/linndfors/study/diploma/ner_for_fem/data/v2.0/data/ng/860e4c9353fc.ann', '/Users/linndfors/study/diploma/ner_for_fem/data/v2.0/data/ng/79ccf625bc94.ann', '/Users/linndfors/study/diploma/ner_for_fem/data/v2.0/data/ng/d15b83fd32bd.ann', '/Users/linndfors/study/diploma/ner_for_fem/data/v2.0/data/ng/ac7d3bf88e39.ann', '/Users/linndfors/study/diploma/ner_for_fem/data/v2.0/data/ng/fe12a985f7cd.ann', '/Users/linndfors/study/diploma/ner_for_fem/data/v2.0/data/ng/8e66b8ea5086.ann', '/Users/linndfors/study/diploma/ner_for_fem/data/v2.0/data/ng/163e835b7aef.ann', '/Users/linndfors/study/diploma/ner_for_fem/data/v2.0/data/ng/0f94c5cc63c3.ann', '/Users/linndfors/study/diploma/ner_for_fem/data/v2.0/data/ng/b991b2d46f85.ann', '/Users/linndfors/study/diploma/ner_for_fem/data/v2.0/data/ng/5a4b4498fe83.ann', '/Users/linndfors/study/diploma/ner_for_fem/data/v2.0/data/ng/d4a86a1591b4.ann', '/Users/linndfors/study/diploma/ner_for_fem/data/v2.0/data/ng/521b5669bca6.ann', '/Users/linndfors/study/diploma/ner_for_fem/data/v2.0/data/ng/45ce670b36e1.ann', '/Users/linndfors/study/diploma/ner_for_fem/data/v2.0/data/ng/f4119f5f8406.ann', '/Users/linndfors/study/diploma/ner_for_fem/data/v2.0/data/ng/e32c3effa79e.ann', '/Users/linndfors/study/diploma/ner_for_fem/data/v2.0/data/ng/6b71dda907fe.ann', '/Users/linndfors/study/diploma/ner_for_fem/data/v2.0/data/ng/7cf7a5aacb51.ann', '/Users/linndfors/study/diploma/ner_for_fem/data/v2.0/data/ng/b72e7e33e081.ann', '/Users/linndfors/study/diploma/ner_for_fem/data/v2.0/data/ng/eed5beaf4033.ann', '/Users/linndfors/study/diploma/ner_for_fem/data/v2.0/data/ng/00b1a798bebf.ann', '/Users/linndfors/study/diploma/ner_for_fem/data/v2.0/data/ng/4ac82fdf4d4d.ann', '/Users/linndfors/study/diploma/ner_for_fem/data/v2.0/data/ng/9690987f7b71.ann', '/Users/linndfors/study/diploma/ner_for_fem/data/v2.0/data/ng/315a7f9491ac.ann', '/Users/linndfors/study/diploma/ner_for_fem/data/v2.0/data/ng/452ba42e97ec.ann', '/Users/linndfors/study/diploma/ner_for_fem/data/v2.0/data/ng/c07e05e53013.ann', '/Users/linndfors/study/diploma/ner_for_fem/data/v2.0/data/ng/67b6f23997c5.ann', '/Users/linndfors/study/diploma/ner_for_fem/data/v2.0/data/ng/9893f2c9cae9.ann', '/Users/linndfors/study/diploma/ner_for_fem/data/v2.0/data/ng/30933a298472.ann', '/Users/linndfors/study/diploma/ner_for_fem/data/v2.0/data/ng/236f916f3d6f.ann', '/Users/linndfors/study/diploma/ner_for_fem/data/v2.0/data/ng/cf79fc17c020.ann', '/Users/linndfors/study/diploma/ner_for_fem/data/v2.0/data/ng/91203928109a.ann', '/Users/linndfors/study/diploma/ner_for_fem/data/v2.0/data/ng/c2a04d86bfb8.ann', '/Users/linndfors/study/diploma/ner_for_fem/data/v2.0/data/ng/996f3a16780e.ann', '/Users/linndfors/study/diploma/ner_for_fem/data/v2.0/data/ng/8936d7a04255.ann', '/Users/linndfors/study/diploma/ner_for_fem/data/v2.0/data/ng/176e63516fab.ann', '/Users/linndfors/study/diploma/ner_for_fem/data/v2.0/data/ng/9452af41a134.ann', '/Users/linndfors/study/diploma/ner_for_fem/data/v2.0/data/ng/1adfefe0e695.ann', '/Users/linndfors/study/diploma/ner_for_fem/data/v2.0/data/ng/e37120a0aa66.ann', '/Users/linndfors/study/diploma/ner_for_fem/data/v2.0/data/ng/54a45ec4929b.ann', '/Users/linndfors/study/diploma/ner_for_fem/data/v2.0/data/ng/4f2aecdde4c8.ann', '/Users/linndfors/study/diploma/ner_for_fem/data/v2.0/data/ng/cdc9c08df7ac.ann', '/Users/linndfors/study/diploma/ner_for_fem/data/v2.0/data/ng/4ea65724096f.ann', '/Users/linndfors/study/diploma/ner_for_fem/data/v2.0/data/ng/fa2b54229991.ann', '/Users/linndfors/study/diploma/ner_for_fem/data/v2.0/data/ng/bfde3140955d.ann', '/Users/linndfors/study/diploma/ner_for_fem/data/v2.0/data/ng/1044724b1e84.ann', '/Users/linndfors/study/diploma/ner_for_fem/data/v2.0/data/ng/06d7009e4925.ann', '/Users/linndfors/study/diploma/ner_for_fem/data/v2.0/data/ng/0e31947e4561.ann', '/Users/linndfors/study/diploma/ner_for_fem/data/v2.0/data/ng/1e8b049462e1.ann', '/Users/linndfors/study/diploma/ner_for_fem/data/v2.0/data/ng/0ed906ef8bab.ann', '/Users/linndfors/study/diploma/ner_for_fem/data/v2.0/data/ng/c1ddc42c47fb.ann', '/Users/linndfors/study/diploma/ner_for_fem/data/v2.0/data/ng/23fed9919583.ann', '/Users/linndfors/study/diploma/ner_for_fem/data/v2.0/data/ng/d509463360e2.ann', '/Users/linndfors/study/diploma/ner_for_fem/data/v2.0/data/ng/cc9eda5dc1f3.ann', '/Users/linndfors/study/diploma/ner_for_fem/data/v2.0/data/ng/348b96a54914.ann', '/Users/linndfors/study/diploma/ner_for_fem/data/v2.0/data/ng/9835fd136cb4.ann', '/Users/linndfors/study/diploma/ner_for_fem/data/v2.0/data/ng/7248ab4edfe9.ann', '/Users/linndfors/study/diploma/ner_for_fem/data/v2.0/data/ng/04b2cf6b449e.ann', '/Users/linndfors/study/diploma/ner_for_fem/data/v2.0/data/ng/e54ada2b9649.ann', '/Users/linndfors/study/diploma/ner_for_fem/data/v2.0/data/ng/87deabcc8f95.ann', '/Users/linndfors/study/diploma/ner_for_fem/data/v2.0/data/ng/5f0403bf5093.ann', '/Users/linndfors/study/diploma/ner_for_fem/data/v2.0/data/ng/05b89d1a90bf.ann', '/Users/linndfors/study/diploma/ner_for_fem/data/v2.0/data/ng/0f9884d8a5e1.ann', '/Users/linndfors/study/diploma/ner_for_fem/data/v2.0/data/ng/1e9389b05e86.ann', '/Users/linndfors/study/diploma/ner_for_fem/data/v2.0/data/ng/d13ee85bbf5c.ann', '/Users/linndfors/study/diploma/ner_for_fem/data/v2.0/data/ng/5ae61df96054.ann', '/Users/linndfors/study/diploma/ner_for_fem/data/v2.0/data/ng/94c633b4d39a.ann', '/Users/linndfors/study/diploma/ner_for_fem/data/v2.0/data/ng/a854e880d075.ann', '/Users/linndfors/study/diploma/ner_for_fem/data/v2.0/data/ng/d81632a877d7.ann', '/Users/linndfors/study/diploma/ner_for_fem/data/v2.0/data/ng/f8ce14d569d1.ann', '/Users/linndfors/study/diploma/ner_for_fem/data/v2.0/data/ng/3e94fe6e9161.ann', '/Users/linndfors/study/diploma/ner_for_fem/data/v2.0/data/ng/789ba2b89a05.ann', '/Users/linndfors/study/diploma/ner_for_fem/data/v2.0/data/ng/1ce0dee84a4d.ann', '/Users/linndfors/study/diploma/ner_for_fem/data/v2.0/data/ng/cffa0e3aa90f.ann', '/Users/linndfors/study/diploma/ner_for_fem/data/v2.0/data/ng/7d5bd98c3363.ann', '/Users/linndfors/study/diploma/ner_for_fem/data/v2.0/data/ng/369c3876ae3d.ann', '/Users/linndfors/study/diploma/ner_for_fem/data/v2.0/data/ng/b060489eff8f.ann', '/Users/linndfors/study/diploma/ner_for_fem/data/v2.0/data/ng/6ada9307320e.ann', '/Users/linndfors/study/diploma/ner_for_fem/data/v2.0/data/ng/f62160cb3ef6.ann', '/Users/linndfors/study/diploma/ner_for_fem/data/v2.0/data/ng/d6ca19c4065e.ann', '/Users/linndfors/study/diploma/ner_for_fem/data/v2.0/data/ng/82e415f0dd48.ann', '/Users/linndfors/study/diploma/ner_for_fem/data/v2.0/data/ng/62127c82f7cd.ann', '/Users/linndfors/study/diploma/ner_for_fem/data/v2.0/data/ng/69dd300fd706.ann', '/Users/linndfors/study/diploma/ner_for_fem/data/v2.0/data/ng/7ff7b6cfbbc2.ann', '/Users/linndfors/study/diploma/ner_for_fem/data/v2.0/data/ng/3dfca2b9b104.ann', '/Users/linndfors/study/diploma/ner_for_fem/data/v2.0/data/ng/e6f68e10e0e4.ann', '/Users/linndfors/study/diploma/ner_for_fem/data/v2.0/data/ng/29ee46b3128e.ann', '/Users/linndfors/study/diploma/ner_for_fem/data/v2.0/data/ng/16a112c13847.ann', '/Users/linndfors/study/diploma/ner_for_fem/data/v2.0/data/ng/2d2e9cf66e5b.ann', '/Users/linndfors/study/diploma/ner_for_fem/data/v2.0/data/ng/fd7413336034.ann', '/Users/linndfors/study/diploma/ner_for_fem/data/v2.0/data/ng/33b6963bc554.ann', '/Users/linndfors/study/diploma/ner_for_fem/data/v2.0/data/ng/ce52c670e720.ann', '/Users/linndfors/study/diploma/ner_for_fem/data/v2.0/data/ng/f82ca27cb935.ann', '/Users/linndfors/study/diploma/ner_for_fem/data/v2.0/data/ng/6920ac746f54.ann', '/Users/linndfors/study/diploma/ner_for_fem/data/v2.0/data/ng/254bbb126618.ann', '/Users/linndfors/study/diploma/ner_for_fem/data/v2.0/data/ng/632545bf4092.ann', '/Users/linndfors/study/diploma/ner_for_fem/data/v2.0/data/ng/b859478153e4.ann', '/Users/linndfors/study/diploma/ner_for_fem/data/v2.0/data/ng/2d37a2344b1e.ann', '/Users/linndfors/study/diploma/ner_for_fem/data/v2.0/data/ng/25df43bd3fc5.ann', '/Users/linndfors/study/diploma/ner_for_fem/data/v2.0/data/ng/19a095d6ed15.ann', '/Users/linndfors/study/diploma/ner_for_fem/data/v2.0/data/ng/07c51f631d18.ann', '/Users/linndfors/study/diploma/ner_for_fem/data/v2.0/data/ng/3b570ac3116b.ann', '/Users/linndfors/study/diploma/ner_for_fem/data/v2.0/data/ng/b217b90e209d.ann', '/Users/linndfors/study/diploma/ner_for_fem/data/v2.0/data/ng/9a51afb8d050.ann', '/Users/linndfors/study/diploma/ner_for_fem/data/v2.0/data/ng/2850ba499aea.ann', '/Users/linndfors/study/diploma/ner_for_fem/data/v2.0/data/ng/d35f629ccc4c.ann', '/Users/linndfors/study/diploma/ner_for_fem/data/v2.0/data/ng/86c78648f86f.ann', '/Users/linndfors/study/diploma/ner_for_fem/data/v2.0/data/ng/290f12765b32.ann', '/Users/linndfors/study/diploma/ner_for_fem/data/v2.0/data/ng/540d36b4fe1c.ann', '/Users/linndfors/study/diploma/ner_for_fem/data/v2.0/data/ng/bf3f1e807703.ann', '/Users/linndfors/study/diploma/ner_for_fem/data/v2.0/data/ng/66f7109b4b72.ann', '/Users/linndfors/study/diploma/ner_for_fem/data/v2.0/data/ng/ff85f24f2204.ann', '/Users/linndfors/study/diploma/ner_for_fem/data/v2.0/data/ng/8ae216cd6d99.ann', '/Users/linndfors/study/diploma/ner_for_fem/data/v2.0/data/ng/1257e7421756.ann', '/Users/linndfors/study/diploma/ner_for_fem/data/v2.0/data/ng/f5e3415a3653.ann', '/Users/linndfors/study/diploma/ner_for_fem/data/v2.0/data/ng/c5930ba45ebe.ann', '/Users/linndfors/study/diploma/ner_for_fem/data/v2.0/data/ng/0050229d8534.ann', '/Users/linndfors/study/diploma/ner_for_fem/data/v2.0/data/ng/3b4ea1813b99.ann', '/Users/linndfors/study/diploma/ner_for_fem/data/v2.0/data/ng/08c0799d889a.ann', '/Users/linndfors/study/diploma/ner_for_fem/data/v2.0/data/ng/5e33850771e3.ann', '/Users/linndfors/study/diploma/ner_for_fem/data/v2.0/data/ng/5111063957b7.ann', '/Users/linndfors/study/diploma/ner_for_fem/data/v2.0/data/ng/b645c9653d72.ann', '/Users/linndfors/study/diploma/ner_for_fem/data/v2.0/data/ng/3889f1eef7a7.ann', '/Users/linndfors/study/diploma/ner_for_fem/data/v2.0/data/ng/61267204736d.ann', '/Users/linndfors/study/diploma/ner_for_fem/data/v2.0/data/ng/e2e03aba8da3.ann', '/Users/linndfors/study/diploma/ner_for_fem/data/v2.0/data/ng/52a055482925.ann', '/Users/linndfors/study/diploma/ner_for_fem/data/v2.0/data/ng/59a9444d5c2d.ann', '/Users/linndfors/study/diploma/ner_for_fem/data/v2.0/data/ng/aae1500a7f12.ann', '/Users/linndfors/study/diploma/ner_for_fem/data/v2.0/data/ng/1a15fc79575f.ann', '/Users/linndfors/study/diploma/ner_for_fem/data/v2.0/data/ng/3aa7c6a81ddd.ann', '/Users/linndfors/study/diploma/ner_for_fem/data/v2.0/data/ng/a6b3166e4d3b.ann', '/Users/linndfors/study/diploma/ner_for_fem/data/v2.0/data/ng/64d0d60bba23.ann', '/Users/linndfors/study/diploma/ner_for_fem/data/v2.0/data/ng/e0c33f29a3ae.ann', '/Users/linndfors/study/diploma/ner_for_fem/data/v2.0/data/ng/ab66959f7440.ann', '/Users/linndfors/study/diploma/ner_for_fem/data/v2.0/data/ng/386f07b6aca3.ann', '/Users/linndfors/study/diploma/ner_for_fem/data/v2.0/data/ng/bd76ed4df58f.ann', '/Users/linndfors/study/diploma/ner_for_fem/data/v2.0/data/ng/5658ff392f11.ann', '/Users/linndfors/study/diploma/ner_for_fem/data/v2.0/data/ng/7516eb24dae3.ann', '/Users/linndfors/study/diploma/ner_for_fem/data/v2.0/data/ng/4bdc94abaa1c.ann']\n"
     ]
    },
    {
     "name": "stderr",
     "output_type": "stream",
     "text": [
      "100%|██████████| 275/275 [07:27<00:00,  1.63s/it]\n"
     ]
    }
   ],
   "source": [
    "ng_orig_job_dict = extract_job_entities(\"/Users/linndfors/study/diploma/ner_for_fem/data/v2.0/data/ng\")\n",
    "ng_orig_job_file_gender_dict, ng_orig_job_total_counter, ng_orig_job_list = return_gendered_job_dict(ng_orig_job_dict)"
   ]
  },
  {
   "cell_type": "code",
   "execution_count": null,
   "metadata": {},
   "outputs": [
    {
     "name": "stdout",
     "output_type": "stream",
     "text": [
      "total size: 1344\n",
      "================\n",
      "gender: male\n",
      "number of files for the gender: 269\n",
      "number of entities for the gender: 1135\n",
      "The most popular entity: директор\n",
      "================\n",
      "================\n",
      "gender: female\n",
      "number of files for the gender: 16\n",
      "number of entities for the gender: 27\n",
      "The most popular entity: підприємиця\n",
      "================\n",
      "================\n",
      "gender: common\n",
      "number of files for the gender: 85\n",
      "number of entities for the gender: 170\n",
      "The most popular entity: голова\n",
      "================\n",
      "================\n",
      "gender: unknown_gender\n",
      "number of files for the gender: 9\n",
      "number of entities for the gender: 12\n",
      "The most popular entity: в\n",
      "================\n"
     ]
    }
   ],
   "source": [
    "return_gender_stat(ng_orig_job_total_counter, ng_orig_job_file_gender_dict)"
   ]
  },
  {
   "cell_type": "markdown",
   "metadata": {},
   "source": [
    "## Gender distribution of JOB entities for Filtered Swapped corpora"
   ]
  },
  {
   "cell_type": "markdown",
   "metadata": {},
   "source": [
    "### Bruk"
   ]
  },
  {
   "cell_type": "code",
   "execution_count": 14,
   "metadata": {},
   "outputs": [
    {
     "name": "stdout",
     "output_type": "stream",
     "text": [
      "['/Users/linndfors/study/diploma/ner_for_fem/data/v2.0-swapped/data/bruk/17d3d678df81-swapped.ann', '/Users/linndfors/study/diploma/ner_for_fem/data/v2.0-swapped/data/bruk/fabc18a7d8fd-swapped.ann', '/Users/linndfors/study/diploma/ner_for_fem/data/v2.0-swapped/data/bruk/85622bc925dc-swapped.ann', '/Users/linndfors/study/diploma/ner_for_fem/data/v2.0-swapped/data/bruk/cee02d4c030f-swapped.ann', '/Users/linndfors/study/diploma/ner_for_fem/data/v2.0-swapped/data/bruk/0b962bee49bc-swapped.ann', '/Users/linndfors/study/diploma/ner_for_fem/data/v2.0-swapped/data/bruk/aad4dce361f1-swapped.ann', '/Users/linndfors/study/diploma/ner_for_fem/data/v2.0-swapped/data/bruk/ea3fab248fbe-swapped.ann', '/Users/linndfors/study/diploma/ner_for_fem/data/v2.0-swapped/data/bruk/326978d2c58c-swapped.ann', '/Users/linndfors/study/diploma/ner_for_fem/data/v2.0-swapped/data/bruk/0d902430768c-swapped.ann', '/Users/linndfors/study/diploma/ner_for_fem/data/v2.0-swapped/data/bruk/a616672f4a8b-swapped.ann', '/Users/linndfors/study/diploma/ner_for_fem/data/v2.0-swapped/data/bruk/7b2c9399fee9-swapped.ann', '/Users/linndfors/study/diploma/ner_for_fem/data/v2.0-swapped/data/bruk/a196488351f6-swapped.ann', '/Users/linndfors/study/diploma/ner_for_fem/data/v2.0-swapped/data/bruk/ef1b6bd52747-swapped.ann', '/Users/linndfors/study/diploma/ner_for_fem/data/v2.0-swapped/data/bruk/755c890a06fb-swapped.ann', '/Users/linndfors/study/diploma/ner_for_fem/data/v2.0-swapped/data/bruk/9494fddb0caa-swapped.ann', '/Users/linndfors/study/diploma/ner_for_fem/data/v2.0-swapped/data/bruk/5e10574a909c-swapped.ann', '/Users/linndfors/study/diploma/ner_for_fem/data/v2.0-swapped/data/bruk/1c37d315923c-swapped.ann', '/Users/linndfors/study/diploma/ner_for_fem/data/v2.0-swapped/data/bruk/b09a79bafe6c-swapped.ann', '/Users/linndfors/study/diploma/ner_for_fem/data/v2.0-swapped/data/bruk/6e4853575182-swapped.ann', '/Users/linndfors/study/diploma/ner_for_fem/data/v2.0-swapped/data/bruk/d530671576f8-swapped.ann', '/Users/linndfors/study/diploma/ner_for_fem/data/v2.0-swapped/data/bruk/cad2484c0cc8-swapped.ann', '/Users/linndfors/study/diploma/ner_for_fem/data/v2.0-swapped/data/bruk/5a75a46fecdf-swapped.ann', '/Users/linndfors/study/diploma/ner_for_fem/data/v2.0-swapped/data/bruk/d3669729136c-swapped.ann', '/Users/linndfors/study/diploma/ner_for_fem/data/v2.0-swapped/data/bruk/f4ca58272dbf-swapped.ann', '/Users/linndfors/study/diploma/ner_for_fem/data/v2.0-swapped/data/bruk/e8188caa466c-swapped.ann', '/Users/linndfors/study/diploma/ner_for_fem/data/v2.0-swapped/data/bruk/15238b87db03-swapped.ann', '/Users/linndfors/study/diploma/ner_for_fem/data/v2.0-swapped/data/bruk/2846bf1d66a8-swapped.ann', '/Users/linndfors/study/diploma/ner_for_fem/data/v2.0-swapped/data/bruk/e9061171da9d-swapped.ann', '/Users/linndfors/study/diploma/ner_for_fem/data/v2.0-swapped/data/bruk/5764f733fff2-swapped.ann', '/Users/linndfors/study/diploma/ner_for_fem/data/v2.0-swapped/data/bruk/8cc49a8b2d76-swapped.ann', '/Users/linndfors/study/diploma/ner_for_fem/data/v2.0-swapped/data/bruk/1c325fde9ed4-swapped.ann', '/Users/linndfors/study/diploma/ner_for_fem/data/v2.0-swapped/data/bruk/4b1efc986bb8-swapped.ann', '/Users/linndfors/study/diploma/ner_for_fem/data/v2.0-swapped/data/bruk/710044df1fe0-swapped.ann', '/Users/linndfors/study/diploma/ner_for_fem/data/v2.0-swapped/data/bruk/dcbb9ddb4aaa-swapped.ann', '/Users/linndfors/study/diploma/ner_for_fem/data/v2.0-swapped/data/bruk/d30e0fb50f0f-swapped.ann', '/Users/linndfors/study/diploma/ner_for_fem/data/v2.0-swapped/data/bruk/09d6a57532b6-swapped.ann', '/Users/linndfors/study/diploma/ner_for_fem/data/v2.0-swapped/data/bruk/f161f5134505-swapped.ann', '/Users/linndfors/study/diploma/ner_for_fem/data/v2.0-swapped/data/bruk/92d38b895fa4-swapped.ann', '/Users/linndfors/study/diploma/ner_for_fem/data/v2.0-swapped/data/bruk/b87576a7425a-swapped.ann', '/Users/linndfors/study/diploma/ner_for_fem/data/v2.0-swapped/data/bruk/bdda872d3ef9-swapped.ann', '/Users/linndfors/study/diploma/ner_for_fem/data/v2.0-swapped/data/bruk/bf4968831cc7-swapped.ann', '/Users/linndfors/study/diploma/ner_for_fem/data/v2.0-swapped/data/bruk/e5e76a8efa0f-swapped.ann', '/Users/linndfors/study/diploma/ner_for_fem/data/v2.0-swapped/data/bruk/efc2665e4bed-swapped.ann', '/Users/linndfors/study/diploma/ner_for_fem/data/v2.0-swapped/data/bruk/0ac5140eb732-swapped.ann', '/Users/linndfors/study/diploma/ner_for_fem/data/v2.0-swapped/data/bruk/547ce681ada8-swapped.ann', '/Users/linndfors/study/diploma/ner_for_fem/data/v2.0-swapped/data/bruk/132368095bab-swapped.ann', '/Users/linndfors/study/diploma/ner_for_fem/data/v2.0-swapped/data/bruk/6b60e6fb3d78-swapped.ann', '/Users/linndfors/study/diploma/ner_for_fem/data/v2.0-swapped/data/bruk/9fbfe077a27a-swapped.ann', '/Users/linndfors/study/diploma/ner_for_fem/data/v2.0-swapped/data/bruk/257fca043205-swapped.ann', '/Users/linndfors/study/diploma/ner_for_fem/data/v2.0-swapped/data/bruk/3f4bafb349ae-swapped.ann', '/Users/linndfors/study/diploma/ner_for_fem/data/v2.0-swapped/data/bruk/f5bb37569413-swapped.ann', '/Users/linndfors/study/diploma/ner_for_fem/data/v2.0-swapped/data/bruk/27a1722d517c-swapped.ann', '/Users/linndfors/study/diploma/ner_for_fem/data/v2.0-swapped/data/bruk/b84c8a869b51-swapped.ann', '/Users/linndfors/study/diploma/ner_for_fem/data/v2.0-swapped/data/bruk/647a3f078f3f-swapped.ann', '/Users/linndfors/study/diploma/ner_for_fem/data/v2.0-swapped/data/bruk/c28168a23912-swapped.ann', '/Users/linndfors/study/diploma/ner_for_fem/data/v2.0-swapped/data/bruk/a1a77d3d5b33-swapped.ann', '/Users/linndfors/study/diploma/ner_for_fem/data/v2.0-swapped/data/bruk/a487d1895726-swapped.ann', '/Users/linndfors/study/diploma/ner_for_fem/data/v2.0-swapped/data/bruk/b576ac602665-swapped.ann', '/Users/linndfors/study/diploma/ner_for_fem/data/v2.0-swapped/data/bruk/e21ddb9efb07-swapped.ann', '/Users/linndfors/study/diploma/ner_for_fem/data/v2.0-swapped/data/bruk/3ba7ca929d68-swapped.ann', '/Users/linndfors/study/diploma/ner_for_fem/data/v2.0-swapped/data/bruk/9d4b90129d10-swapped.ann', '/Users/linndfors/study/diploma/ner_for_fem/data/v2.0-swapped/data/bruk/e1dbe335e762-swapped.ann', '/Users/linndfors/study/diploma/ner_for_fem/data/v2.0-swapped/data/bruk/fad2422a7bf3-swapped.ann', '/Users/linndfors/study/diploma/ner_for_fem/data/v2.0-swapped/data/bruk/f9a926049262-swapped.ann', '/Users/linndfors/study/diploma/ner_for_fem/data/v2.0-swapped/data/bruk/b381bc7842b1-swapped.ann', '/Users/linndfors/study/diploma/ner_for_fem/data/v2.0-swapped/data/bruk/dc25535e13d7-swapped.ann', '/Users/linndfors/study/diploma/ner_for_fem/data/v2.0-swapped/data/bruk/d3d5522aa52e-swapped.ann', '/Users/linndfors/study/diploma/ner_for_fem/data/v2.0-swapped/data/bruk/c0c436cc9cb6-swapped.ann', '/Users/linndfors/study/diploma/ner_for_fem/data/v2.0-swapped/data/bruk/8951230172d0-swapped.ann', '/Users/linndfors/study/diploma/ner_for_fem/data/v2.0-swapped/data/bruk/e023d6d6f1a3-swapped.ann', '/Users/linndfors/study/diploma/ner_for_fem/data/v2.0-swapped/data/bruk/066ec5f0dea6-swapped.ann', '/Users/linndfors/study/diploma/ner_for_fem/data/v2.0-swapped/data/bruk/7b7daaeb9d7d-swapped.ann', '/Users/linndfors/study/diploma/ner_for_fem/data/v2.0-swapped/data/bruk/561acef3f531-swapped.ann', '/Users/linndfors/study/diploma/ner_for_fem/data/v2.0-swapped/data/bruk/5085bb95b51a-swapped.ann', '/Users/linndfors/study/diploma/ner_for_fem/data/v2.0-swapped/data/bruk/f495f41dfa02-swapped.ann', '/Users/linndfors/study/diploma/ner_for_fem/data/v2.0-swapped/data/bruk/e3c7064319e0-swapped.ann', '/Users/linndfors/study/diploma/ner_for_fem/data/v2.0-swapped/data/bruk/232be2c6b5c2-swapped.ann', '/Users/linndfors/study/diploma/ner_for_fem/data/v2.0-swapped/data/bruk/fc8f156aa82b-swapped.ann', '/Users/linndfors/study/diploma/ner_for_fem/data/v2.0-swapped/data/bruk/52049bc57554-swapped.ann', '/Users/linndfors/study/diploma/ner_for_fem/data/v2.0-swapped/data/bruk/06d78909a7ab-swapped.ann', '/Users/linndfors/study/diploma/ner_for_fem/data/v2.0-swapped/data/bruk/e0493ec8466b-swapped.ann', '/Users/linndfors/study/diploma/ner_for_fem/data/v2.0-swapped/data/bruk/10a2da5c514c-swapped.ann', '/Users/linndfors/study/diploma/ner_for_fem/data/v2.0-swapped/data/bruk/ff069c11e13d-swapped.ann', '/Users/linndfors/study/diploma/ner_for_fem/data/v2.0-swapped/data/bruk/bc755153f4f7-swapped.ann', '/Users/linndfors/study/diploma/ner_for_fem/data/v2.0-swapped/data/bruk/13e0cb95075a-swapped.ann', '/Users/linndfors/study/diploma/ner_for_fem/data/v2.0-swapped/data/bruk/79812f4abec1-swapped.ann', '/Users/linndfors/study/diploma/ner_for_fem/data/v2.0-swapped/data/bruk/c0f24f5d70e3-swapped.ann', '/Users/linndfors/study/diploma/ner_for_fem/data/v2.0-swapped/data/bruk/e010e86e436c-swapped.ann', '/Users/linndfors/study/diploma/ner_for_fem/data/v2.0-swapped/data/bruk/2cc21b456aad-swapped.ann', '/Users/linndfors/study/diploma/ner_for_fem/data/v2.0-swapped/data/bruk/5a0aedfe0f5d-swapped.ann', '/Users/linndfors/study/diploma/ner_for_fem/data/v2.0-swapped/data/bruk/9df8bcf8e17e-swapped.ann', '/Users/linndfors/study/diploma/ner_for_fem/data/v2.0-swapped/data/bruk/1448663b16b2-swapped.ann', '/Users/linndfors/study/diploma/ner_for_fem/data/v2.0-swapped/data/bruk/2fc890744f7c-swapped.ann', '/Users/linndfors/study/diploma/ner_for_fem/data/v2.0-swapped/data/bruk/0046ebeff13e-swapped.ann', '/Users/linndfors/study/diploma/ner_for_fem/data/v2.0-swapped/data/bruk/f4136bfda19a-swapped.ann', '/Users/linndfors/study/diploma/ner_for_fem/data/v2.0-swapped/data/bruk/87ae82667e2a-swapped.ann', '/Users/linndfors/study/diploma/ner_for_fem/data/v2.0-swapped/data/bruk/5207847a2e1d-swapped.ann', '/Users/linndfors/study/diploma/ner_for_fem/data/v2.0-swapped/data/bruk/2298b6b41bec-swapped.ann', '/Users/linndfors/study/diploma/ner_for_fem/data/v2.0-swapped/data/bruk/548f66f38090-swapped.ann', '/Users/linndfors/study/diploma/ner_for_fem/data/v2.0-swapped/data/bruk/91024fa21059-swapped.ann', '/Users/linndfors/study/diploma/ner_for_fem/data/v2.0-swapped/data/bruk/46ae77c0ec97-swapped.ann', '/Users/linndfors/study/diploma/ner_for_fem/data/v2.0-swapped/data/bruk/38603af07530-swapped.ann', '/Users/linndfors/study/diploma/ner_for_fem/data/v2.0-swapped/data/bruk/b019e9b8d51d-swapped.ann', '/Users/linndfors/study/diploma/ner_for_fem/data/v2.0-swapped/data/bruk/624df1293f3d-swapped.ann', '/Users/linndfors/study/diploma/ner_for_fem/data/v2.0-swapped/data/bruk/6b5d4229b548-swapped.ann', '/Users/linndfors/study/diploma/ner_for_fem/data/v2.0-swapped/data/bruk/c375246adb0a-swapped.ann', '/Users/linndfors/study/diploma/ner_for_fem/data/v2.0-swapped/data/bruk/b987128d15d3-swapped.ann', '/Users/linndfors/study/diploma/ner_for_fem/data/v2.0-swapped/data/bruk/b3c847570902-swapped.ann', '/Users/linndfors/study/diploma/ner_for_fem/data/v2.0-swapped/data/bruk/66395d7c394b-swapped.ann', '/Users/linndfors/study/diploma/ner_for_fem/data/v2.0-swapped/data/bruk/74a7e2a340dd-swapped.ann', '/Users/linndfors/study/diploma/ner_for_fem/data/v2.0-swapped/data/bruk/766e1942f398-swapped.ann', '/Users/linndfors/study/diploma/ner_for_fem/data/v2.0-swapped/data/bruk/937c38344fdf-swapped.ann', '/Users/linndfors/study/diploma/ner_for_fem/data/v2.0-swapped/data/bruk/bd86f567c746-swapped.ann', '/Users/linndfors/study/diploma/ner_for_fem/data/v2.0-swapped/data/bruk/18ec3aea7ed7-swapped.ann', '/Users/linndfors/study/diploma/ner_for_fem/data/v2.0-swapped/data/bruk/71a651d2dbec-swapped.ann', '/Users/linndfors/study/diploma/ner_for_fem/data/v2.0-swapped/data/bruk/5710814a4a84-swapped.ann', '/Users/linndfors/study/diploma/ner_for_fem/data/v2.0-swapped/data/bruk/d08ea0bbac66-swapped.ann', '/Users/linndfors/study/diploma/ner_for_fem/data/v2.0-swapped/data/bruk/17fbae84faea-swapped.ann', '/Users/linndfors/study/diploma/ner_for_fem/data/v2.0-swapped/data/bruk/c3402705f448-swapped.ann', '/Users/linndfors/study/diploma/ner_for_fem/data/v2.0-swapped/data/bruk/1ed3fef56c8f-swapped.ann', '/Users/linndfors/study/diploma/ner_for_fem/data/v2.0-swapped/data/bruk/dc1202fd9850-swapped.ann', '/Users/linndfors/study/diploma/ner_for_fem/data/v2.0-swapped/data/bruk/47eb526780b0-swapped.ann', '/Users/linndfors/study/diploma/ner_for_fem/data/v2.0-swapped/data/bruk/d81f996d0ab8-swapped.ann', '/Users/linndfors/study/diploma/ner_for_fem/data/v2.0-swapped/data/bruk/164940c99b86-swapped.ann', '/Users/linndfors/study/diploma/ner_for_fem/data/v2.0-swapped/data/bruk/d07dfb774c28-swapped.ann', '/Users/linndfors/study/diploma/ner_for_fem/data/v2.0-swapped/data/bruk/f958ce8bb461-swapped.ann']\n"
     ]
    },
    {
     "name": "stderr",
     "output_type": "stream",
     "text": [
      "100%|██████████| 125/125 [01:31<00:00,  1.37it/s]\n"
     ]
    }
   ],
   "source": [
    "bruk_job_dict = extract_job_entities(\"/Users/linndfors/study/diploma/ner_for_fem/data/v2.0-swapped/data/bruk\")\n",
    "bruk_swapped_job_file_gender_dict, bruk_job_total_counter, bruk_job_list = return_gendered_job_dict(bruk_job_dict)"
   ]
  },
  {
   "cell_type": "code",
   "execution_count": 16,
   "metadata": {},
   "outputs": [],
   "source": [
    "lemma_jobs_bruk_swapped = []\n",
    "for gender, val in bruk_swapped_job_file_gender_dict.items():\n",
    "    for filename, ents in val.items():\n",
    "        for pair_ent in ents:\n",
    "            lemma_jobs_bruk_swapped.append(pair_ent[1])"
   ]
  },
  {
   "cell_type": "code",
   "execution_count": 18,
   "metadata": {},
   "outputs": [],
   "source": [
    "with open(\"../data/job_lists/bruk_job_list_in_swapped_df.txt\", \"w\", encoding=\"utf-8\") as f:\n",
    "    f.write(\"\\n\".join(lemma_jobs_bruk_swapped))"
   ]
  },
  {
   "cell_type": "code",
   "execution_count": null,
   "metadata": {},
   "outputs": [
    {
     "name": "stdout",
     "output_type": "stream",
     "text": [
      "total size: 481\n",
      "================\n",
      "gender: male\n",
      "number of files for the gender: 39\n",
      "number of entities for the gender: 67\n",
      "percentage: 0.1392931392931393\n",
      "The most popular entity: вчитель\n",
      "================\n",
      "================\n",
      "gender: female\n",
      "number of files for the gender: 107\n",
      "number of entities for the gender: 343\n",
      "percentage: 0.7130977130977131\n",
      "The most popular entity: журналістка\n",
      "================\n",
      "================\n",
      "gender: common\n",
      "number of files for the gender: 21\n",
      "number of entities for the gender: 33\n",
      "percentage: 0.06860706860706861\n",
      "The most popular entity: голова\n",
      "================\n",
      "================\n",
      "gender: unknown_gender\n",
      "number of files for the gender: 23\n",
      "number of entities for the gender: 38\n",
      "percentage: 0.079002079002079\n",
      "The most popular entity: наука\n",
      "================\n"
     ]
    }
   ],
   "source": [
    "return_gender_stat(bruk_job_total_counter, bruk_swapped_job_file_gender_dict)"
   ]
  },
  {
   "cell_type": "markdown",
   "metadata": {},
   "source": [
    "### Ng"
   ]
  },
  {
   "cell_type": "code",
   "execution_count": 19,
   "metadata": {},
   "outputs": [
    {
     "name": "stdout",
     "output_type": "stream",
     "text": [
      "['/Users/linndfors/study/diploma/ner_for_fem/data/v2.0-swapped/data/ng/989b35bbc2b6-swapped.ann', '/Users/linndfors/study/diploma/ner_for_fem/data/v2.0-swapped/data/ng/5e33850771e3-swapped.ann', '/Users/linndfors/study/diploma/ner_for_fem/data/v2.0-swapped/data/ng/1c48b2f37af3-swapped.ann', '/Users/linndfors/study/diploma/ner_for_fem/data/v2.0-swapped/data/ng/0050229d8534-swapped.ann', '/Users/linndfors/study/diploma/ner_for_fem/data/v2.0-swapped/data/ng/150446f83aa2-swapped.ann', '/Users/linndfors/study/diploma/ner_for_fem/data/v2.0-swapped/data/ng/00edded01d7f-swapped.ann', '/Users/linndfors/study/diploma/ner_for_fem/data/v2.0-swapped/data/ng/f50037706d0a-swapped.ann', '/Users/linndfors/study/diploma/ner_for_fem/data/v2.0-swapped/data/ng/6d47a8c4d755-swapped.ann', '/Users/linndfors/study/diploma/ner_for_fem/data/v2.0-swapped/data/ng/5e407e3ddb68-swapped.ann', '/Users/linndfors/study/diploma/ner_for_fem/data/v2.0-swapped/data/ng/0e5456794c26-swapped.ann', '/Users/linndfors/study/diploma/ner_for_fem/data/v2.0-swapped/data/ng/cc9eda5dc1f3-swapped.ann', '/Users/linndfors/study/diploma/ner_for_fem/data/v2.0-swapped/data/ng/ac13bf912fcb-swapped.ann', '/Users/linndfors/study/diploma/ner_for_fem/data/v2.0-swapped/data/ng/432e298a1354-swapped.ann', '/Users/linndfors/study/diploma/ner_for_fem/data/v2.0-swapped/data/ng/23fed9919583-swapped.ann', '/Users/linndfors/study/diploma/ner_for_fem/data/v2.0-swapped/data/ng/17f81040ab50-swapped.ann', '/Users/linndfors/study/diploma/ner_for_fem/data/v2.0-swapped/data/ng/176e63516fab-swapped.ann', '/Users/linndfors/study/diploma/ner_for_fem/data/v2.0-swapped/data/ng/c446d7d1cea2-swapped.ann', '/Users/linndfors/study/diploma/ner_for_fem/data/v2.0-swapped/data/ng/f62160cb3ef6-swapped.ann', '/Users/linndfors/study/diploma/ner_for_fem/data/v2.0-swapped/data/ng/8e66b8ea5086-swapped.ann', '/Users/linndfors/study/diploma/ner_for_fem/data/v2.0-swapped/data/ng/f8ce14d569d1-swapped.ann', '/Users/linndfors/study/diploma/ner_for_fem/data/v2.0-swapped/data/ng/4ea65724096f-swapped.ann', '/Users/linndfors/study/diploma/ner_for_fem/data/v2.0-swapped/data/ng/e2e03aba8da3-swapped.ann', '/Users/linndfors/study/diploma/ner_for_fem/data/v2.0-swapped/data/ng/fc3221dac69d-swapped.ann', '/Users/linndfors/study/diploma/ner_for_fem/data/v2.0-swapped/data/ng/1e8b049462e1-swapped.ann', '/Users/linndfors/study/diploma/ner_for_fem/data/v2.0-swapped/data/ng/de4c2d20b24b-swapped.ann', '/Users/linndfors/study/diploma/ner_for_fem/data/v2.0-swapped/data/ng/7982679365fb-swapped.ann', '/Users/linndfors/study/diploma/ner_for_fem/data/v2.0-swapped/data/ng/d81632a877d7-swapped.ann', '/Users/linndfors/study/diploma/ner_for_fem/data/v2.0-swapped/data/ng/d4a86a1591b4-swapped.ann', '/Users/linndfors/study/diploma/ner_for_fem/data/v2.0-swapped/data/ng/1e9389b05e86-swapped.ann', '/Users/linndfors/study/diploma/ner_for_fem/data/v2.0-swapped/data/ng/bdb88360d4a8-swapped.ann', '/Users/linndfors/study/diploma/ner_for_fem/data/v2.0-swapped/data/ng/b3e92d56950f-swapped.ann', '/Users/linndfors/study/diploma/ner_for_fem/data/v2.0-swapped/data/ng/798252fda0ab-swapped.ann', '/Users/linndfors/study/diploma/ner_for_fem/data/v2.0-swapped/data/ng/18dbbac93012-swapped.ann', '/Users/linndfors/study/diploma/ner_for_fem/data/v2.0-swapped/data/ng/db4996034aa6-swapped.ann', '/Users/linndfors/study/diploma/ner_for_fem/data/v2.0-swapped/data/ng/2d37a2344b1e-swapped.ann', '/Users/linndfors/study/diploma/ner_for_fem/data/v2.0-swapped/data/ng/39c7437146fd-swapped.ann', '/Users/linndfors/study/diploma/ner_for_fem/data/v2.0-swapped/data/ng/7248ab4edfe9-swapped.ann', '/Users/linndfors/study/diploma/ner_for_fem/data/v2.0-swapped/data/ng/e0c4e3168c81-swapped.ann', '/Users/linndfors/study/diploma/ner_for_fem/data/v2.0-swapped/data/ng/1ce0dee84a4d-swapped.ann', '/Users/linndfors/study/diploma/ner_for_fem/data/v2.0-swapped/data/ng/3d437460799f-swapped.ann', '/Users/linndfors/study/diploma/ner_for_fem/data/v2.0-swapped/data/ng/9452af41a134-swapped.ann', '/Users/linndfors/study/diploma/ner_for_fem/data/v2.0-swapped/data/ng/c49d24717658-swapped.ann', '/Users/linndfors/study/diploma/ner_for_fem/data/v2.0-swapped/data/ng/03b52358982b-swapped.ann', '/Users/linndfors/study/diploma/ner_for_fem/data/v2.0-swapped/data/ng/39544dbbe184-swapped.ann', '/Users/linndfors/study/diploma/ner_for_fem/data/v2.0-swapped/data/ng/1a15fc79575f-swapped.ann', '/Users/linndfors/study/diploma/ner_for_fem/data/v2.0-swapped/data/ng/8936d7a04255-swapped.ann', '/Users/linndfors/study/diploma/ner_for_fem/data/v2.0-swapped/data/ng/00b1a798bebf-swapped.ann', '/Users/linndfors/study/diploma/ner_for_fem/data/v2.0-swapped/data/ng/b9ea4aa52bae-swapped.ann', '/Users/linndfors/study/diploma/ner_for_fem/data/v2.0-swapped/data/ng/7eae7aa310d7-swapped.ann', '/Users/linndfors/study/diploma/ner_for_fem/data/v2.0-swapped/data/ng/9c264bd5a100-swapped.ann', '/Users/linndfors/study/diploma/ner_for_fem/data/v2.0-swapped/data/ng/fc5b5a35776f-swapped.ann', '/Users/linndfors/study/diploma/ner_for_fem/data/v2.0-swapped/data/ng/872cdd84eee4-swapped.ann', '/Users/linndfors/study/diploma/ner_for_fem/data/v2.0-swapped/data/ng/3e21f62b9a2f-swapped.ann', '/Users/linndfors/study/diploma/ner_for_fem/data/v2.0-swapped/data/ng/4fa4b01c6204-swapped.ann', '/Users/linndfors/study/diploma/ner_for_fem/data/v2.0-swapped/data/ng/fe12a985f7cd-swapped.ann', '/Users/linndfors/study/diploma/ner_for_fem/data/v2.0-swapped/data/ng/517bca22990a-swapped.ann', '/Users/linndfors/study/diploma/ner_for_fem/data/v2.0-swapped/data/ng/a56a7edf7859-swapped.ann', '/Users/linndfors/study/diploma/ner_for_fem/data/v2.0-swapped/data/ng/d84580a3bacf-swapped.ann', '/Users/linndfors/study/diploma/ner_for_fem/data/v2.0-swapped/data/ng/05b89d1a90bf-swapped.ann', '/Users/linndfors/study/diploma/ner_for_fem/data/v2.0-swapped/data/ng/0f0e96425eed-swapped.ann', '/Users/linndfors/study/diploma/ner_for_fem/data/v2.0-swapped/data/ng/6920ac746f54-swapped.ann', '/Users/linndfors/study/diploma/ner_for_fem/data/v2.0-swapped/data/ng/258d2fd0d2fe-swapped.ann', '/Users/linndfors/study/diploma/ner_for_fem/data/v2.0-swapped/data/ng/ba4d4c8da29b-swapped.ann', '/Users/linndfors/study/diploma/ner_for_fem/data/v2.0-swapped/data/ng/e0c33f29a3ae-swapped.ann', '/Users/linndfors/study/diploma/ner_for_fem/data/v2.0-swapped/data/ng/2980d5c34788-swapped.ann', '/Users/linndfors/study/diploma/ner_for_fem/data/v2.0-swapped/data/ng/67b6f23997c5-swapped.ann', '/Users/linndfors/study/diploma/ner_for_fem/data/v2.0-swapped/data/ng/a4eee55da896-swapped.ann', '/Users/linndfors/study/diploma/ner_for_fem/data/v2.0-swapped/data/ng/8ae216cd6d99-swapped.ann', '/Users/linndfors/study/diploma/ner_for_fem/data/v2.0-swapped/data/ng/5a4b4498fe83-swapped.ann', '/Users/linndfors/study/diploma/ner_for_fem/data/v2.0-swapped/data/ng/12ca40b4ecac-swapped.ann', '/Users/linndfors/study/diploma/ner_for_fem/data/v2.0-swapped/data/ng/f5e3415a3653-swapped.ann', '/Users/linndfors/study/diploma/ner_for_fem/data/v2.0-swapped/data/ng/b060489eff8f-swapped.ann', '/Users/linndfors/study/diploma/ner_for_fem/data/v2.0-swapped/data/ng/4f2aecdde4c8-swapped.ann', '/Users/linndfors/study/diploma/ner_for_fem/data/v2.0-swapped/data/ng/76b9b07172fb-swapped.ann', '/Users/linndfors/study/diploma/ner_for_fem/data/v2.0-swapped/data/ng/9835fd136cb4-swapped.ann', '/Users/linndfors/study/diploma/ner_for_fem/data/v2.0-swapped/data/ng/76cfe1c0a0b6-swapped.ann', '/Users/linndfors/study/diploma/ner_for_fem/data/v2.0-swapped/data/ng/f2653a1e387d-swapped.ann', '/Users/linndfors/study/diploma/ner_for_fem/data/v2.0-swapped/data/ng/c9e6ab501a7e-swapped.ann', '/Users/linndfors/study/diploma/ner_for_fem/data/v2.0-swapped/data/ng/0f9884d8a5e1-swapped.ann', '/Users/linndfors/study/diploma/ner_for_fem/data/v2.0-swapped/data/ng/c3156652dba3-swapped.ann', '/Users/linndfors/study/diploma/ner_for_fem/data/v2.0-swapped/data/ng/ba4204adf371-swapped.ann', '/Users/linndfors/study/diploma/ner_for_fem/data/v2.0-swapped/data/ng/65a4cc6e3723-swapped.ann', '/Users/linndfors/study/diploma/ner_for_fem/data/v2.0-swapped/data/ng/1c3533ec1df3-swapped.ann', '/Users/linndfors/study/diploma/ner_for_fem/data/v2.0-swapped/data/ng/510661e4d39d-swapped.ann', '/Users/linndfors/study/diploma/ner_for_fem/data/v2.0-swapped/data/ng/e6f68e10e0e4-swapped.ann', '/Users/linndfors/study/diploma/ner_for_fem/data/v2.0-swapped/data/ng/0e31947e4561-swapped.ann', '/Users/linndfors/study/diploma/ner_for_fem/data/v2.0-swapped/data/ng/19a095d6ed15-swapped.ann', '/Users/linndfors/study/diploma/ner_for_fem/data/v2.0-swapped/data/ng/73eb785ac9bb-swapped.ann', '/Users/linndfors/study/diploma/ner_for_fem/data/v2.0-swapped/data/ng/35a759d5871f-swapped.ann', '/Users/linndfors/study/diploma/ner_for_fem/data/v2.0-swapped/data/ng/8806c823dee8-swapped.ann', '/Users/linndfors/study/diploma/ner_for_fem/data/v2.0-swapped/data/ng/a6b3166e4d3b-swapped.ann', '/Users/linndfors/study/diploma/ner_for_fem/data/v2.0-swapped/data/ng/1257e7421756-swapped.ann', '/Users/linndfors/study/diploma/ner_for_fem/data/v2.0-swapped/data/ng/52a055482925-swapped.ann', '/Users/linndfors/study/diploma/ner_for_fem/data/v2.0-swapped/data/ng/a4bdacf739df-swapped.ann', '/Users/linndfors/study/diploma/ner_for_fem/data/v2.0-swapped/data/ng/0e6b8eb14491-swapped.ann', '/Users/linndfors/study/diploma/ner_for_fem/data/v2.0-swapped/data/ng/36aa8022709f-swapped.ann', '/Users/linndfors/study/diploma/ner_for_fem/data/v2.0-swapped/data/ng/bf276ac58f0f-swapped.ann', '/Users/linndfors/study/diploma/ner_for_fem/data/v2.0-swapped/data/ng/c8944932e85f-swapped.ann', '/Users/linndfors/study/diploma/ner_for_fem/data/v2.0-swapped/data/ng/6350e46219ca-swapped.ann', '/Users/linndfors/study/diploma/ner_for_fem/data/v2.0-swapped/data/ng/4ac82fdf4d4d-swapped.ann', '/Users/linndfors/study/diploma/ner_for_fem/data/v2.0-swapped/data/ng/e19e41e16752-swapped.ann', '/Users/linndfors/study/diploma/ner_for_fem/data/v2.0-swapped/data/ng/c650874a1e16-swapped.ann', '/Users/linndfors/study/diploma/ner_for_fem/data/v2.0-swapped/data/ng/29ee46b3128e-swapped.ann', '/Users/linndfors/study/diploma/ner_for_fem/data/v2.0-swapped/data/ng/b2541ea8cb83-swapped.ann', '/Users/linndfors/study/diploma/ner_for_fem/data/v2.0-swapped/data/ng/b991b2d46f85-swapped.ann', '/Users/linndfors/study/diploma/ner_for_fem/data/v2.0-swapped/data/ng/97c7987b8f9c-swapped.ann', '/Users/linndfors/study/diploma/ner_for_fem/data/v2.0-swapped/data/ng/bed0c1b62024-swapped.ann', '/Users/linndfors/study/diploma/ner_for_fem/data/v2.0-swapped/data/ng/f4119f5f8406-swapped.ann', '/Users/linndfors/study/diploma/ner_for_fem/data/v2.0-swapped/data/ng/a9d2c035032d-swapped.ann', '/Users/linndfors/study/diploma/ner_for_fem/data/v2.0-swapped/data/ng/104263660695-swapped.ann', '/Users/linndfors/study/diploma/ner_for_fem/data/v2.0-swapped/data/ng/fd7413336034-swapped.ann', '/Users/linndfors/study/diploma/ner_for_fem/data/v2.0-swapped/data/ng/1adfefe0e695-swapped.ann', '/Users/linndfors/study/diploma/ner_for_fem/data/v2.0-swapped/data/ng/7d19fba564ad-swapped.ann', '/Users/linndfors/study/diploma/ner_for_fem/data/v2.0-swapped/data/ng/f82ca27cb935-swapped.ann', '/Users/linndfors/study/diploma/ner_for_fem/data/v2.0-swapped/data/ng/82e415f0dd48-swapped.ann', '/Users/linndfors/study/diploma/ner_for_fem/data/v2.0-swapped/data/ng/02bebf42e010-swapped.ann', '/Users/linndfors/study/diploma/ner_for_fem/data/v2.0-swapped/data/ng/e37120a0aa66-swapped.ann', '/Users/linndfors/study/diploma/ner_for_fem/data/v2.0-swapped/data/ng/9a51afb8d050-swapped.ann', '/Users/linndfors/study/diploma/ner_for_fem/data/v2.0-swapped/data/ng/5f0dd24186aa-swapped.ann', '/Users/linndfors/study/diploma/ner_for_fem/data/v2.0-swapped/data/ng/7f9631dbc39d-swapped.ann', '/Users/linndfors/study/diploma/ner_for_fem/data/v2.0-swapped/data/ng/372677bde8c8-swapped.ann', '/Users/linndfors/study/diploma/ner_for_fem/data/v2.0-swapped/data/ng/c5930ba45ebe-swapped.ann', '/Users/linndfors/study/diploma/ner_for_fem/data/v2.0-swapped/data/ng/605d2142ccad-swapped.ann', '/Users/linndfors/study/diploma/ner_for_fem/data/v2.0-swapped/data/ng/46b3a16d4154-swapped.ann', '/Users/linndfors/study/diploma/ner_for_fem/data/v2.0-swapped/data/ng/1044724b1e84-swapped.ann', '/Users/linndfors/study/diploma/ner_for_fem/data/v2.0-swapped/data/ng/d7e523681acc-swapped.ann', '/Users/linndfors/study/diploma/ner_for_fem/data/v2.0-swapped/data/ng/bd76ed4df58f-swapped.ann', '/Users/linndfors/study/diploma/ner_for_fem/data/v2.0-swapped/data/ng/41cf54503fc6-swapped.ann', '/Users/linndfors/study/diploma/ner_for_fem/data/v2.0-swapped/data/ng/521b5669bca6-swapped.ann', '/Users/linndfors/study/diploma/ner_for_fem/data/v2.0-swapped/data/ng/aeabc0bd5724-swapped.ann', '/Users/linndfors/study/diploma/ner_for_fem/data/v2.0-swapped/data/ng/b72e7e33e081-swapped.ann', '/Users/linndfors/study/diploma/ner_for_fem/data/v2.0-swapped/data/ng/ce52c670e720-swapped.ann', '/Users/linndfors/study/diploma/ner_for_fem/data/v2.0-swapped/data/ng/16fb31bf76b8-swapped.ann', '/Users/linndfors/study/diploma/ner_for_fem/data/v2.0-swapped/data/ng/9690987f7b71-swapped.ann', '/Users/linndfors/study/diploma/ner_for_fem/data/v2.0-swapped/data/ng/3fdf22393022-swapped.ann', '/Users/linndfors/study/diploma/ner_for_fem/data/v2.0-swapped/data/ng/c1ddc42c47fb-swapped.ann', '/Users/linndfors/study/diploma/ner_for_fem/data/v2.0-swapped/data/ng/78153c6d7c59-swapped.ann', '/Users/linndfors/study/diploma/ner_for_fem/data/v2.0-swapped/data/ng/4e486c879cf1-swapped.ann', '/Users/linndfors/study/diploma/ner_for_fem/data/v2.0-swapped/data/ng/39c1d99f468f-swapped.ann', '/Users/linndfors/study/diploma/ner_for_fem/data/v2.0-swapped/data/ng/06d7009e4925-swapped.ann', '/Users/linndfors/study/diploma/ner_for_fem/data/v2.0-swapped/data/ng/19ebc4aa5eb5-swapped.ann', '/Users/linndfors/study/diploma/ner_for_fem/data/v2.0-swapped/data/ng/037bb6843538-swapped.ann', '/Users/linndfors/study/diploma/ner_for_fem/data/v2.0-swapped/data/ng/6f6281133248-swapped.ann', '/Users/linndfors/study/diploma/ner_for_fem/data/v2.0-swapped/data/ng/ca414599779c-swapped.ann', '/Users/linndfors/study/diploma/ner_for_fem/data/v2.0-swapped/data/ng/cdc9c08df7ac-swapped.ann', '/Users/linndfors/study/diploma/ner_for_fem/data/v2.0-swapped/data/ng/07c51f631d18-swapped.ann', '/Users/linndfors/study/diploma/ner_for_fem/data/v2.0-swapped/data/ng/7e6a2bdcfd1c-swapped.ann', '/Users/linndfors/study/diploma/ner_for_fem/data/v2.0-swapped/data/ng/d6ca19c4065e-swapped.ann', '/Users/linndfors/study/diploma/ner_for_fem/data/v2.0-swapped/data/ng/4671f9337340-swapped.ann', '/Users/linndfors/study/diploma/ner_for_fem/data/v2.0-swapped/data/ng/6ada9307320e-swapped.ann', '/Users/linndfors/study/diploma/ner_for_fem/data/v2.0-swapped/data/ng/9893f2c9cae9-swapped.ann', '/Users/linndfors/study/diploma/ner_for_fem/data/v2.0-swapped/data/ng/33b6963bc554-swapped.ann', '/Users/linndfors/study/diploma/ner_for_fem/data/v2.0-swapped/data/ng/535022e2bdd2-swapped.ann', '/Users/linndfors/study/diploma/ner_for_fem/data/v2.0-swapped/data/ng/d15b83fd32bd-swapped.ann', '/Users/linndfors/study/diploma/ner_for_fem/data/v2.0-swapped/data/ng/fa2b54229991-swapped.ann', '/Users/linndfors/study/diploma/ner_for_fem/data/v2.0-swapped/data/ng/3b570ac3116b-swapped.ann', '/Users/linndfors/study/diploma/ner_for_fem/data/v2.0-swapped/data/ng/8098d69d861f-swapped.ann', '/Users/linndfors/study/diploma/ner_for_fem/data/v2.0-swapped/data/ng/236f916f3d6f-swapped.ann', '/Users/linndfors/study/diploma/ner_for_fem/data/v2.0-swapped/data/ng/7cf7a5aacb51-swapped.ann', '/Users/linndfors/study/diploma/ner_for_fem/data/v2.0-swapped/data/ng/30856acf29fc-swapped.ann', '/Users/linndfors/study/diploma/ner_for_fem/data/v2.0-swapped/data/ng/2850ba499aea-swapped.ann', '/Users/linndfors/study/diploma/ner_for_fem/data/v2.0-swapped/data/ng/163e835b7aef-swapped.ann', '/Users/linndfors/study/diploma/ner_for_fem/data/v2.0-swapped/data/ng/69dd300fd706-swapped.ann', '/Users/linndfors/study/diploma/ner_for_fem/data/v2.0-swapped/data/ng/47713afd9490-swapped.ann', '/Users/linndfors/study/diploma/ner_for_fem/data/v2.0-swapped/data/ng/348b96a54914-swapped.ann', '/Users/linndfors/study/diploma/ner_for_fem/data/v2.0-swapped/data/ng/605667093f7b-swapped.ann', '/Users/linndfors/study/diploma/ner_for_fem/data/v2.0-swapped/data/ng/ab66959f7440-swapped.ann', '/Users/linndfors/study/diploma/ner_for_fem/data/v2.0-swapped/data/ng/789ba2b89a05-swapped.ann', '/Users/linndfors/study/diploma/ner_for_fem/data/v2.0-swapped/data/ng/937ae8974dd6-swapped.ann', '/Users/linndfors/study/diploma/ner_for_fem/data/v2.0-swapped/data/ng/66f7109b4b72-swapped.ann', '/Users/linndfors/study/diploma/ner_for_fem/data/v2.0-swapped/data/ng/5111063957b7-swapped.ann', '/Users/linndfors/study/diploma/ner_for_fem/data/v2.0-swapped/data/ng/cbf21c99c504-swapped.ann', '/Users/linndfors/study/diploma/ner_for_fem/data/v2.0-swapped/data/ng/3eef4bd7fc75-swapped.ann', '/Users/linndfors/study/diploma/ner_for_fem/data/v2.0-swapped/data/ng/f5475c5dbfc9-swapped.ann', '/Users/linndfors/study/diploma/ner_for_fem/data/v2.0-swapped/data/ng/2c14409069b7-swapped.ann', '/Users/linndfors/study/diploma/ner_for_fem/data/v2.0-swapped/data/ng/01cfbeca9827-swapped.ann', '/Users/linndfors/study/diploma/ner_for_fem/data/v2.0-swapped/data/ng/996f3a16780e-swapped.ann', '/Users/linndfors/study/diploma/ner_for_fem/data/v2.0-swapped/data/ng/357039d66ab7-swapped.ann', '/Users/linndfors/study/diploma/ner_for_fem/data/v2.0-swapped/data/ng/1c3c6180ad96-swapped.ann', '/Users/linndfors/study/diploma/ner_for_fem/data/v2.0-swapped/data/ng/bf6104a5e8cc-swapped.ann', '/Users/linndfors/study/diploma/ner_for_fem/data/v2.0-swapped/data/ng/63711262f9fb-swapped.ann', '/Users/linndfors/study/diploma/ner_for_fem/data/v2.0-swapped/data/ng/c2a04d86bfb8-swapped.ann', '/Users/linndfors/study/diploma/ner_for_fem/data/v2.0-swapped/data/ng/b859478153e4-swapped.ann', '/Users/linndfors/study/diploma/ner_for_fem/data/v2.0-swapped/data/ng/26c531a355cc-swapped.ann', '/Users/linndfors/study/diploma/ner_for_fem/data/v2.0-swapped/data/ng/cffa0e3aa90f-swapped.ann', '/Users/linndfors/study/diploma/ner_for_fem/data/v2.0-swapped/data/ng/b4fe41ad2268-swapped.ann', '/Users/linndfors/study/diploma/ner_for_fem/data/v2.0-swapped/data/ng/7ff7b6cfbbc2-swapped.ann', '/Users/linndfors/study/diploma/ner_for_fem/data/v2.0-swapped/data/ng/c09661af0a89-swapped.ann', '/Users/linndfors/study/diploma/ner_for_fem/data/v2.0-swapped/data/ng/d1d4639dbadd-swapped.ann', '/Users/linndfors/study/diploma/ner_for_fem/data/v2.0-swapped/data/ng/7faf035614c1-swapped.ann', '/Users/linndfors/study/diploma/ner_for_fem/data/v2.0-swapped/data/ng/08c0799d889a-swapped.ann', '/Users/linndfors/study/diploma/ner_for_fem/data/v2.0-swapped/data/ng/eed5beaf4033-swapped.ann', '/Users/linndfors/study/diploma/ner_for_fem/data/v2.0-swapped/data/ng/a04af354c8db-swapped.ann', '/Users/linndfors/study/diploma/ner_for_fem/data/v2.0-swapped/data/ng/3dfca2b9b104-swapped.ann', '/Users/linndfors/study/diploma/ner_for_fem/data/v2.0-swapped/data/ng/e54ada2b9649-swapped.ann', '/Users/linndfors/study/diploma/ner_for_fem/data/v2.0-swapped/data/ng/5de8e21df21b-swapped.ann', '/Users/linndfors/study/diploma/ner_for_fem/data/v2.0-swapped/data/ng/b217b90e209d-swapped.ann', '/Users/linndfors/study/diploma/ner_for_fem/data/v2.0-swapped/data/ng/3e94fe6e9161-swapped.ann', '/Users/linndfors/study/diploma/ner_for_fem/data/v2.0-swapped/data/ng/0f94c5cc63c3-swapped.ann', '/Users/linndfors/study/diploma/ner_for_fem/data/v2.0-swapped/data/ng/bf3f1e807703-swapped.ann', '/Users/linndfors/study/diploma/ner_for_fem/data/v2.0-swapped/data/ng/cb8dd5ea2542-swapped.ann', '/Users/linndfors/study/diploma/ner_for_fem/data/v2.0-swapped/data/ng/ac7d3bf88e39-swapped.ann', '/Users/linndfors/study/diploma/ner_for_fem/data/v2.0-swapped/data/ng/7d59bb5fe9f5-swapped.ann', '/Users/linndfors/study/diploma/ner_for_fem/data/v2.0-swapped/data/ng/290f12765b32-swapped.ann', '/Users/linndfors/study/diploma/ner_for_fem/data/v2.0-swapped/data/ng/79ccf625bc94-swapped.ann', '/Users/linndfors/study/diploma/ner_for_fem/data/v2.0-swapped/data/ng/540d36b4fe1c-swapped.ann', '/Users/linndfors/study/diploma/ner_for_fem/data/v2.0-swapped/data/ng/25df43bd3fc5-swapped.ann', '/Users/linndfors/study/diploma/ner_for_fem/data/v2.0-swapped/data/ng/386f07b6aca3-swapped.ann', '/Users/linndfors/study/diploma/ner_for_fem/data/v2.0-swapped/data/ng/3aa7c6a81ddd-swapped.ann', '/Users/linndfors/study/diploma/ner_for_fem/data/v2.0-swapped/data/ng/4bdc94abaa1c-swapped.ann', '/Users/linndfors/study/diploma/ner_for_fem/data/v2.0-swapped/data/ng/883e1bd852d8-swapped.ann', '/Users/linndfors/study/diploma/ner_for_fem/data/v2.0-swapped/data/ng/5658ff392f11-swapped.ann', '/Users/linndfors/study/diploma/ner_for_fem/data/v2.0-swapped/data/ng/d509463360e2-swapped.ann', '/Users/linndfors/study/diploma/ner_for_fem/data/v2.0-swapped/data/ng/54a45ec4929b-swapped.ann', '/Users/linndfors/study/diploma/ner_for_fem/data/v2.0-swapped/data/ng/860e4c9353fc-swapped.ann', '/Users/linndfors/study/diploma/ner_for_fem/data/v2.0-swapped/data/ng/e32c3effa79e-swapped.ann', '/Users/linndfors/study/diploma/ner_for_fem/data/v2.0-swapped/data/ng/64d0d60bba23-swapped.ann', '/Users/linndfors/study/diploma/ner_for_fem/data/v2.0-swapped/data/ng/ab299615a1ce-swapped.ann', '/Users/linndfors/study/diploma/ner_for_fem/data/v2.0-swapped/data/ng/5d3d7e0d5bae-swapped.ann', '/Users/linndfors/study/diploma/ner_for_fem/data/v2.0-swapped/data/ng/aae1500a7f12-swapped.ann', '/Users/linndfors/study/diploma/ner_for_fem/data/v2.0-swapped/data/ng/5d7350e7d539-swapped.ann', '/Users/linndfors/study/diploma/ner_for_fem/data/v2.0-swapped/data/ng/2ff4fbe3fcc4-swapped.ann', '/Users/linndfors/study/diploma/ner_for_fem/data/v2.0-swapped/data/ng/3b285211209c-swapped.ann', '/Users/linndfors/study/diploma/ner_for_fem/data/v2.0-swapped/data/ng/452ba42e97ec-swapped.ann', '/Users/linndfors/study/diploma/ner_for_fem/data/v2.0-swapped/data/ng/cf79fc17c020-swapped.ann', '/Users/linndfors/study/diploma/ner_for_fem/data/v2.0-swapped/data/ng/d084adea3ae8-swapped.ann', '/Users/linndfors/study/diploma/ner_for_fem/data/v2.0-swapped/data/ng/b645c9653d72-swapped.ann', '/Users/linndfors/study/diploma/ner_for_fem/data/v2.0-swapped/data/ng/04b2cf6b449e-swapped.ann', '/Users/linndfors/study/diploma/ner_for_fem/data/v2.0-swapped/data/ng/bbc5330abbdc-swapped.ann', '/Users/linndfors/study/diploma/ner_for_fem/data/v2.0-swapped/data/ng/86c78648f86f-swapped.ann', '/Users/linndfors/study/diploma/ner_for_fem/data/v2.0-swapped/data/ng/16a112c13847-swapped.ann', '/Users/linndfors/study/diploma/ner_for_fem/data/v2.0-swapped/data/ng/94c633b4d39a-swapped.ann', '/Users/linndfors/study/diploma/ner_for_fem/data/v2.0-swapped/data/ng/3b4ea1813b99-swapped.ann', '/Users/linndfors/study/diploma/ner_for_fem/data/v2.0-swapped/data/ng/c97bff36f45a-swapped.ann', '/Users/linndfors/study/diploma/ner_for_fem/data/v2.0-swapped/data/ng/7d5bd98c3363-swapped.ann', '/Users/linndfors/study/diploma/ner_for_fem/data/v2.0-swapped/data/ng/61267204736d-swapped.ann', '/Users/linndfors/study/diploma/ner_for_fem/data/v2.0-swapped/data/ng/8e1267225acc-swapped.ann', '/Users/linndfors/study/diploma/ner_for_fem/data/v2.0-swapped/data/ng/59a9444d5c2d-swapped.ann', '/Users/linndfors/study/diploma/ner_for_fem/data/v2.0-swapped/data/ng/ff85f24f2204-swapped.ann', '/Users/linndfors/study/diploma/ner_for_fem/data/v2.0-swapped/data/ng/816a89664813-swapped.ann', '/Users/linndfors/study/diploma/ner_for_fem/data/v2.0-swapped/data/ng/87deabcc8f95-swapped.ann', '/Users/linndfors/study/diploma/ner_for_fem/data/v2.0-swapped/data/ng/2d2e9cf66e5b-swapped.ann', '/Users/linndfors/study/diploma/ner_for_fem/data/v2.0-swapped/data/ng/757fc6f23e18-swapped.ann', '/Users/linndfors/study/diploma/ner_for_fem/data/v2.0-swapped/data/ng/1b68c2c76541-swapped.ann', '/Users/linndfors/study/diploma/ner_for_fem/data/v2.0-swapped/data/ng/06826af4579d-swapped.ann', '/Users/linndfors/study/diploma/ner_for_fem/data/v2.0-swapped/data/ng/e96b3ae1908b-swapped.ann', '/Users/linndfors/study/diploma/ner_for_fem/data/v2.0-swapped/data/ng/f342f88df1c8-swapped.ann', '/Users/linndfors/study/diploma/ner_for_fem/data/v2.0-swapped/data/ng/7ab185008967-swapped.ann', '/Users/linndfors/study/diploma/ner_for_fem/data/v2.0-swapped/data/ng/369c3876ae3d-swapped.ann', '/Users/linndfors/study/diploma/ner_for_fem/data/v2.0-swapped/data/ng/02634352df22-swapped.ann', '/Users/linndfors/study/diploma/ner_for_fem/data/v2.0-swapped/data/ng/62127c82f7cd-swapped.ann', '/Users/linndfors/study/diploma/ner_for_fem/data/v2.0-swapped/data/ng/d080aa19c4bd-swapped.ann', '/Users/linndfors/study/diploma/ner_for_fem/data/v2.0-swapped/data/ng/a854e880d075-swapped.ann', '/Users/linndfors/study/diploma/ner_for_fem/data/v2.0-swapped/data/ng/c99d1ad0cc3c-swapped.ann', '/Users/linndfors/study/diploma/ner_for_fem/data/v2.0-swapped/data/ng/09e1dccb8839-swapped.ann', '/Users/linndfors/study/diploma/ner_for_fem/data/v2.0-swapped/data/ng/03d075bafb84-swapped.ann', '/Users/linndfors/study/diploma/ner_for_fem/data/v2.0-swapped/data/ng/cb7958ff386e-swapped.ann', '/Users/linndfors/study/diploma/ner_for_fem/data/v2.0-swapped/data/ng/30933a298472-swapped.ann', '/Users/linndfors/study/diploma/ner_for_fem/data/v2.0-swapped/data/ng/8c6db2873e45-swapped.ann', '/Users/linndfors/study/diploma/ner_for_fem/data/v2.0-swapped/data/ng/c07e05e53013-swapped.ann', '/Users/linndfors/study/diploma/ner_for_fem/data/v2.0-swapped/data/ng/8f5d434373e2-swapped.ann', '/Users/linndfors/study/diploma/ner_for_fem/data/v2.0-swapped/data/ng/d13ee85bbf5c-swapped.ann', '/Users/linndfors/study/diploma/ner_for_fem/data/v2.0-swapped/data/ng/003d28360166-swapped.ann', '/Users/linndfors/study/diploma/ner_for_fem/data/v2.0-swapped/data/ng/8b3ec884f52d-swapped.ann', '/Users/linndfors/study/diploma/ner_for_fem/data/v2.0-swapped/data/ng/5ae61df96054-swapped.ann', '/Users/linndfors/study/diploma/ner_for_fem/data/v2.0-swapped/data/ng/64bbab373f73-swapped.ann', '/Users/linndfors/study/diploma/ner_for_fem/data/v2.0-swapped/data/ng/315a7f9491ac-swapped.ann', '/Users/linndfors/study/diploma/ner_for_fem/data/v2.0-swapped/data/ng/75e21fe4f3b7-swapped.ann', '/Users/linndfors/study/diploma/ner_for_fem/data/v2.0-swapped/data/ng/a767be7c3792-swapped.ann']\n"
     ]
    },
    {
     "name": "stderr",
     "output_type": "stream",
     "text": [
      "100%|██████████| 269/269 [06:13<00:00,  1.39s/it]\n"
     ]
    }
   ],
   "source": [
    "ng_job_dict = extract_job_entities(\"/Users/linndfors/study/diploma/ner_for_fem/data/v2.0-swapped/data/ng\")\n",
    "ng_swapped_job_file_gender_dict, ng_job_total_counter, ng_job_list = return_gendered_job_dict(ng_job_dict)"
   ]
  },
  {
   "cell_type": "code",
   "execution_count": 21,
   "metadata": {},
   "outputs": [],
   "source": [
    "lemma_jobs_ng_swapped = []\n",
    "for gender, val in ng_swapped_job_file_gender_dict.items():\n",
    "    for filename, ents in val.items():\n",
    "        for pair_ent in ents:\n",
    "            lemma_jobs_ng_swapped.append(pair_ent[1])"
   ]
  },
  {
   "cell_type": "code",
   "execution_count": 23,
   "metadata": {},
   "outputs": [],
   "source": [
    "with open(\"../data/job_lists/ng_job_list_in_swapped_df.txt\", \"w\", encoding=\"utf-8\") as f:\n",
    "    f.write(\"\\n\".join(lemma_jobs_ng_swapped))"
   ]
  },
  {
   "cell_type": "code",
   "execution_count": null,
   "metadata": {},
   "outputs": [
    {
     "name": "stdout",
     "output_type": "stream",
     "text": [
      "total size: 1248\n",
      "================\n",
      "gender: male\n",
      "number of files for the gender: 71\n",
      "number of entities for the gender: 114\n",
      "percentage: 0.09134615384615384\n",
      "The most popular entity: засновник\n",
      "================\n",
      "================\n",
      "gender: female\n",
      "number of files for the gender: 257\n",
      "number of entities for the gender: 972\n",
      "percentage: 0.7788461538461539\n",
      "The most popular entity: директорка\n",
      "================\n",
      "================\n",
      "gender: common\n",
      "number of files for the gender: 78\n",
      "number of entities for the gender: 135\n",
      "percentage: 0.10817307692307693\n",
      "The most popular entity: голова\n",
      "================\n",
      "================\n",
      "gender: unknown_gender\n",
      "number of files for the gender: 26\n",
      "number of entities for the gender: 27\n",
      "percentage: 0.021634615384615384\n",
      "The most popular entity: в\n",
      "================\n"
     ]
    }
   ],
   "source": [
    "return_gender_stat(ng_job_total_counter, ng_swapped_job_file_gender_dict)"
   ]
  },
  {
   "cell_type": "markdown",
   "metadata": {},
   "source": [
    "### Total"
   ]
  },
  {
   "cell_type": "code",
   "execution_count": 79,
   "metadata": {},
   "outputs": [
    {
     "name": "stdout",
     "output_type": "stream",
     "text": [
      "total: 1733\n",
      "male: 182\n",
      "female: 1316\n",
      "common: 170\n",
      "unknown: 65\n"
     ]
    }
   ],
   "source": [
    "print(\"total:\", 483 + 1250)\n",
    "print(\"male:\", 67 + 115)\n",
    "print(\"female:\", 345 + 971)\n",
    "print(\"common:\", 35 + 135)\n",
    "print(\"unknown:\", 38 + 27)"
   ]
  },
  {
   "cell_type": "markdown",
   "metadata": {},
   "source": [
    "## Create pairs df"
   ]
  },
  {
   "cell_type": "code",
   "execution_count": 26,
   "metadata": {},
   "outputs": [],
   "source": [
    "import re\n",
    "\n",
    "def normalize_filename(name):\n",
    "    \"\"\"Remove '_1.txt' suffix to align with original filename\"\"\"\n",
    "    return re.sub(r'-swapped(?=\\.txt$)', '', name)\n",
    "\n",
    "def flatten_all_gender_dicts(gender_dict):\n",
    "    \"\"\"Flatten a nested gender-based dict into a flat filename -> items dict\"\"\"\n",
    "    flat = {}\n",
    "    for gender in ['male', 'female', 'common']:\n",
    "        if gender in gender_dict:\n",
    "            for fname, items in gender_dict[gender].items():\n",
    "                flat[fname] = items\n",
    "    return flat"
   ]
  },
  {
   "cell_type": "code",
   "execution_count": 27,
   "metadata": {},
   "outputs": [],
   "source": [
    "def create_pairs_df(aligned_pairs):\n",
    "    rows = []\n",
    "    for filename, entity_dict in aligned_pairs.items():\n",
    "        for tid, (orig_text, swapped_text) in entity_dict.items():\n",
    "            rows.append({\n",
    "                \"filename\": filename,\n",
    "                \"entity_id\": tid,\n",
    "                \"original\": orig_text,\n",
    "                \"swapped\": swapped_text\n",
    "            })\n",
    "\n",
    "    df = pd.DataFrame(rows)\n",
    "    return df"
   ]
  },
  {
   "cell_type": "code",
   "execution_count": null,
   "metadata": {},
   "outputs": [],
   "source": [
    "aligned_pairs = {}\n",
    "\n",
    "original_flat = flatten_all_gender_dicts(ng_orig_job_file_gender_dict)\n",
    "swapped_flat = flatten_all_gender_dicts(ng_swapped_job_file_gender_dict)\n",
    "\n",
    "for swapped_fname, swapped_ents in swapped_flat.items():\n",
    "    orig_fname = normalize_filename(swapped_fname)\n",
    "    if orig_fname in original_flat:\n",
    "        orig_ents = dict(original_flat[orig_fname])\n",
    "        swapped_ents_dict = dict(swapped_ents)\n",
    "        paired = {\n",
    "            tid: (orig_ents[tid], swapped_ents_dict[tid])\n",
    "            for tid in orig_ents\n",
    "            if tid in swapped_ents_dict\n",
    "        }\n",
    "        if paired:\n",
    "            aligned_pairs[orig_fname] = paired\n",
    "\n",
    "ng_df = create_pairs_df(aligned_pairs)\n",
    "ng_df.to_csv(\"ng_gender_pairs_from_swapping.csv\")"
   ]
  },
  {
   "cell_type": "code",
   "execution_count": null,
   "metadata": {},
   "outputs": [],
   "source": [
    "aligned_pairs = {}\n",
    "\n",
    "original_flat = flatten_all_gender_dicts(bruk_orig_job_file_gender_dict)\n",
    "swapped_flat = flatten_all_gender_dicts(bruk_swapped_job_file_gender_dict)\n",
    "\n",
    "for swapped_fname, swapped_ents in swapped_flat.items():\n",
    "    orig_fname = normalize_filename(swapped_fname)\n",
    "    if orig_fname in original_flat:\n",
    "        orig_ents = dict(original_flat[orig_fname])\n",
    "        swapped_ents_dict = dict(swapped_ents)\n",
    "        paired = {\n",
    "            tid: (orig_ents[tid], swapped_ents_dict[tid])\n",
    "            for tid in orig_ents\n",
    "            if tid in swapped_ents_dict\n",
    "        }\n",
    "        if paired:\n",
    "            aligned_pairs[orig_fname] = paired\n",
    "\n",
    "bruk_df = create_pairs_df(aligned_pairs)\n",
    "bruk_df.to_csv(\"bruk_gender_pairs_from_swapping.csv\")"
   ]
  },
  {
   "cell_type": "markdown",
   "metadata": {},
   "source": [
    "# Gender distribution of PERS entities"
   ]
  },
  {
   "cell_type": "code",
   "execution_count": null,
   "metadata": {},
   "outputs": [],
   "source": [
    "female_names = pd.read_csv(\"/Users/linndfors/study/diploma/ner_for_fem/src/female_fname_freq_dict.csv\")\n",
    "male_names = pd.read_csv(\"/Users/linndfors/study/diploma/ner_for_fem/src/male_fname_freq_dict.csv\")"
   ]
  },
  {
   "cell_type": "code",
   "execution_count": null,
   "metadata": {},
   "outputs": [],
   "source": [
    "female_names_list = female_names['name'].values\n",
    "male_names_list = male_names['name'].values"
   ]
  },
  {
   "cell_type": "code",
   "execution_count": null,
   "metadata": {},
   "outputs": [],
   "source": [
    "dict_df = pd.read_csv('/Users/linndfors/study/diploma/dict_uk/out/dict_corp_lt.txt', delimiter=' ', header=None, names=['word', 'lemma', 'grammar'])"
   ]
  },
  {
   "cell_type": "code",
   "execution_count": null,
   "metadata": {},
   "outputs": [],
   "source": [
    "def define_sex(name):\n",
    "    try:\n",
    "        filtered_df = dict_df[(dict_df['lemma'] == name) & (dict_df['word'] == name)]\n",
    "        if not filtered_df.empty:\n",
    "            grammar_pers = filtered_df['grammar'].iloc[0]\n",
    "\n",
    "            if re.search(r'fname', grammar_pers):\n",
    "                if re.search(r'\\bf\\b', grammar_pers):\n",
    "                    return \"F\"\n",
    "                elif re.search(r'\\bm\\b', grammar_pers):\n",
    "                    return \"M\"\n",
    "                else:\n",
    "                    return \"U\"\n",
    "            elif re.search(r'lname', grammar_pers):\n",
    "                return \"U\"\n",
    "            else:\n",
    "                return \"U\"\n",
    "        else:\n",
    "            # print(\"No matches found for:\", name)\n",
    "            return \"U\"\n",
    "    except Exception as e:\n",
    "        # print(\"error\", e)\n",
    "        return \"U\""
   ]
  },
  {
   "cell_type": "code",
   "execution_count": null,
   "metadata": {},
   "outputs": [],
   "source": [
    "import os\n",
    "import glob\n",
    "\n",
    "def extract_gender(entity):\n",
    "\n",
    "    pers_parts = entity.split(\" \")\n",
    "    for i in pers_parts:\n",
    "        if define_sex(i) == \"F\":\n",
    "            return \"female\", i\n",
    "        elif define_sex(i) == \"M\":\n",
    "            return \"male\", i\n",
    "                \n",
    "    doc = nlp(entity)\n",
    "    \n",
    "    words = {word.lemma for sentence in doc.sentences for word in sentence.words}\n",
    "    words.update(entity.split(\" \"))\n",
    "\n",
    "    for x in words:\n",
    "        if x in female_names_list:\n",
    "            return \"female\", x\n",
    "        if x in male_names_list:\n",
    "            return \"male\", x\n",
    "        \n",
    "    # print(\"unkown for:\", entity)\n",
    "    return \"unknown_gender\", entity"
   ]
  },
  {
   "cell_type": "code",
   "execution_count": null,
   "metadata": {},
   "outputs": [],
   "source": [
    "def extract_pers_entities(directory):\n",
    "    pers_entities = {}\n",
    "    \n",
    "    ann_files = glob.glob(os.path.join(directory, \"*.ann\"))\n",
    "    print(ann_files)\n",
    "    \n",
    "    for ann_file in ann_files:\n",
    "        with open(ann_file, \"r\", encoding=\"utf-8\") as f:\n",
    "            for line in f:\n",
    "                parts = line.strip().split(\"\\t\")\n",
    "                if len(parts) == 5:\n",
    "                    \n",
    "                    entity_type = parts[1]\n",
    "                    \n",
    "                    if entity_type == \"PERS\":\n",
    "                        entity_text = parts[4]\n",
    "                        if ann_file in pers_entities:\n",
    "                            pers_entities[ann_file].append(entity_text)\n",
    "                        else:\n",
    "                            pers_entities[ann_file] = [entity_text]\n",
    "    \n",
    "    return pers_entities\n",
    "\n",
    "def return_gendered_PERS_dict(pers_dict):\n",
    "    file_gender_dict = {\"male\": {}, \"female\": {}, \"unknown_gender\": {}}\n",
    "\n",
    "    total_pers_counter = 0\n",
    "    pers_list = []\n",
    "\n",
    "    for filename, values in tqdm.tqdm(pers_dict.items()):\n",
    "        filename = filename.replace(\".ann\", \".txt\")\n",
    "        \n",
    "        try:\n",
    "            for ent in values:\n",
    "                total_pers_counter += 1\n",
    "                pers_list.append(ent)\n",
    "                if len(ent.split(' ')) > 1:\n",
    "                    ent = ent.split(' ')[0]\n",
    "                gender_value, lemma_word = extract_gender(ent)\n",
    "                # print(gender_value, lemma_word)\n",
    "                \n",
    "                if filename not in file_gender_dict[gender_value]:\n",
    "                    file_gender_dict[gender_value][filename] = [(ent, lemma_word)]\n",
    "                else:\n",
    "                    file_gender_dict[gender_value][filename].append((ent, lemma_word))\n",
    "                    \n",
    "        except Exception as e:\n",
    "            print(f\"Issue with row: {row} - Error: {e}\")\n",
    "    return file_gender_dict, total_pers_counter, pers_list"
   ]
  },
  {
   "cell_type": "markdown",
   "metadata": {},
   "source": [
    "## Gender distribution of PERS entities for Original corpora"
   ]
  },
  {
   "cell_type": "markdown",
   "metadata": {},
   "source": [
    "BRUK"
   ]
  },
  {
   "cell_type": "code",
   "execution_count": null,
   "metadata": {},
   "outputs": [],
   "source": [
    "bruk_orig_pers_dict = extract_job_entities(\"/Users/linndfors/study/diploma/ner_for_fem/data/v2.0/data/bruk\")\n",
    "bruk_orig_file_gender_pers_dict, bruk_orig_total_pers_counter, bruk_orig_pers_list = return_gendered_job_dict(bruk_orig_pers_dict)"
   ]
  },
  {
   "cell_type": "code",
   "execution_count": null,
   "metadata": {},
   "outputs": [
    {
     "name": "stdout",
     "output_type": "stream",
     "text": [
      "total size: 326\n",
      "================\n",
      "gender: male\n",
      "number of files for the gender: 97\n",
      "number of entities for the gender: 141\n",
      "The most popular entity: Андрій\n",
      "================\n",
      "================\n",
      "gender: female\n",
      "number of files for the gender: 42\n",
      "number of entities for the gender: 51\n",
      "The most popular entity: Аліна\n",
      "================\n",
      "================\n",
      "gender: unknown_gender\n",
      "number of files for the gender: 118\n",
      "number of entities for the gender: 134\n",
      "================\n"
     ]
    }
   ],
   "source": [
    "return_gender_stat(bruk_orig_total_pers_counter, bruk_orig_file_gender_pers_dict)"
   ]
  },
  {
   "cell_type": "markdown",
   "metadata": {},
   "source": [
    "Ng"
   ]
  },
  {
   "cell_type": "code",
   "execution_count": null,
   "metadata": {},
   "outputs": [],
   "source": [
    "ng_orig_pers_dict = extract_pers_entities(\"/Users/linndfors/study/diploma/ner_for_fem/data/v2.0/data/ng\")\n",
    "ng_orig_file_gender_pers_dict, ng_orig_total_pers_counter, ng_orig_pers_list = return_gendered_PERS_dict(ng_orig_pers_dict)"
   ]
  },
  {
   "cell_type": "code",
   "execution_count": null,
   "metadata": {},
   "outputs": [
    {
     "name": "stdout",
     "output_type": "stream",
     "text": [
      "total size: 1058\n",
      "================\n",
      "gender: male\n",
      "number of files for the gender: 374\n",
      "number of entities for the gender: 526\n",
      "The most popular entity: Сергій\n",
      "================\n",
      "================\n",
      "gender: female\n",
      "number of files for the gender: 140\n",
      "number of entities for the gender: 180\n",
      "The most popular entity: Олена\n",
      "================\n",
      "================\n",
      "gender: unknown_gender\n",
      "number of files for the gender: 192\n",
      "number of entities for the gender: 352\n",
      "================\n"
     ]
    }
   ],
   "source": [
    "return_gender_stat(ng_orig_total_pers_counter, ng_orig_file_gender_pers_dict)"
   ]
  },
  {
   "cell_type": "markdown",
   "metadata": {},
   "source": [
    "## Gender distribution of PERS entities for Filtered Swapped corpora"
   ]
  },
  {
   "cell_type": "markdown",
   "metadata": {},
   "source": [
    "### Ng"
   ]
  },
  {
   "cell_type": "code",
   "execution_count": null,
   "metadata": {},
   "outputs": [],
   "source": [
    "ng_pers_dict = extract_pers_entities(\"/Users/linndfors/study/diploma/ner_for_fem/data/v2.0-swapped_filtering/data/ng\")\n",
    "ng_file_gender_pers_dict, ng_total_pers_counter, ng_pers_list = return_gendered_PERS_dict(ng_pers_dict)"
   ]
  },
  {
   "cell_type": "code",
   "execution_count": 60,
   "metadata": {},
   "outputs": [
    {
     "name": "stdout",
     "output_type": "stream",
     "text": [
      "total size: 1003\n",
      "================\n",
      "gender: male\n",
      "number of files for the gender: 80\n",
      "number of entities for the gender: 126\n",
      "percentage: 0.12562313060817548\n",
      "The most popular entity: Олександр\n",
      "================\n",
      "================\n",
      "gender: female\n",
      "number of files for the gender: 223\n",
      "number of entities for the gender: 604\n",
      "percentage: 0.6021934197407777\n",
      "The most popular entity: Олена\n",
      "================\n",
      "================\n",
      "gender: unknown_gender\n",
      "number of files for the gender: 139\n",
      "number of entities for the gender: 273\n",
      "percentage: 0.27218344965104685\n",
      "The most popular entity: Юлії\n",
      "================\n"
     ]
    }
   ],
   "source": [
    "return_gender_stat(ng_total_pers_counter, ng_file_gender_pers_dict)"
   ]
  },
  {
   "cell_type": "markdown",
   "metadata": {},
   "source": [
    "### Bruk"
   ]
  },
  {
   "cell_type": "code",
   "execution_count": 64,
   "metadata": {},
   "outputs": [
    {
     "name": "stdout",
     "output_type": "stream",
     "text": [
      "['/Users/linndfors/study/diploma/ner_for_fem/data/v2.0-swapped_filtering/data/bruk/17d3d678df81-swapped.ann', '/Users/linndfors/study/diploma/ner_for_fem/data/v2.0-swapped_filtering/data/bruk/fabc18a7d8fd-swapped.ann', '/Users/linndfors/study/diploma/ner_for_fem/data/v2.0-swapped_filtering/data/bruk/85622bc925dc-swapped.ann', '/Users/linndfors/study/diploma/ner_for_fem/data/v2.0-swapped_filtering/data/bruk/cee02d4c030f-swapped.ann', '/Users/linndfors/study/diploma/ner_for_fem/data/v2.0-swapped_filtering/data/bruk/0b962bee49bc-swapped.ann', '/Users/linndfors/study/diploma/ner_for_fem/data/v2.0-swapped_filtering/data/bruk/aad4dce361f1-swapped.ann', '/Users/linndfors/study/diploma/ner_for_fem/data/v2.0-swapped_filtering/data/bruk/ea3fab248fbe-swapped.ann', '/Users/linndfors/study/diploma/ner_for_fem/data/v2.0-swapped_filtering/data/bruk/326978d2c58c-swapped.ann', '/Users/linndfors/study/diploma/ner_for_fem/data/v2.0-swapped_filtering/data/bruk/0d902430768c-swapped.ann', '/Users/linndfors/study/diploma/ner_for_fem/data/v2.0-swapped_filtering/data/bruk/a616672f4a8b-swapped.ann', '/Users/linndfors/study/diploma/ner_for_fem/data/v2.0-swapped_filtering/data/bruk/7b2c9399fee9-swapped.ann', '/Users/linndfors/study/diploma/ner_for_fem/data/v2.0-swapped_filtering/data/bruk/a196488351f6-swapped.ann', '/Users/linndfors/study/diploma/ner_for_fem/data/v2.0-swapped_filtering/data/bruk/ef1b6bd52747-swapped.ann', '/Users/linndfors/study/diploma/ner_for_fem/data/v2.0-swapped_filtering/data/bruk/755c890a06fb-swapped.ann', '/Users/linndfors/study/diploma/ner_for_fem/data/v2.0-swapped_filtering/data/bruk/9494fddb0caa-swapped.ann', '/Users/linndfors/study/diploma/ner_for_fem/data/v2.0-swapped_filtering/data/bruk/5e10574a909c-swapped.ann', '/Users/linndfors/study/diploma/ner_for_fem/data/v2.0-swapped_filtering/data/bruk/1c37d315923c-swapped.ann', '/Users/linndfors/study/diploma/ner_for_fem/data/v2.0-swapped_filtering/data/bruk/b09a79bafe6c-swapped.ann', '/Users/linndfors/study/diploma/ner_for_fem/data/v2.0-swapped_filtering/data/bruk/6e4853575182-swapped.ann', '/Users/linndfors/study/diploma/ner_for_fem/data/v2.0-swapped_filtering/data/bruk/d530671576f8-swapped.ann', '/Users/linndfors/study/diploma/ner_for_fem/data/v2.0-swapped_filtering/data/bruk/cad2484c0cc8-swapped.ann', '/Users/linndfors/study/diploma/ner_for_fem/data/v2.0-swapped_filtering/data/bruk/5a75a46fecdf-swapped.ann', '/Users/linndfors/study/diploma/ner_for_fem/data/v2.0-swapped_filtering/data/bruk/d3669729136c-swapped.ann', '/Users/linndfors/study/diploma/ner_for_fem/data/v2.0-swapped_filtering/data/bruk/f4ca58272dbf-swapped.ann', '/Users/linndfors/study/diploma/ner_for_fem/data/v2.0-swapped_filtering/data/bruk/e8188caa466c-swapped.ann', '/Users/linndfors/study/diploma/ner_for_fem/data/v2.0-swapped_filtering/data/bruk/15238b87db03-swapped.ann', '/Users/linndfors/study/diploma/ner_for_fem/data/v2.0-swapped_filtering/data/bruk/2846bf1d66a8-swapped.ann', '/Users/linndfors/study/diploma/ner_for_fem/data/v2.0-swapped_filtering/data/bruk/e9061171da9d-swapped.ann', '/Users/linndfors/study/diploma/ner_for_fem/data/v2.0-swapped_filtering/data/bruk/5764f733fff2-swapped.ann', '/Users/linndfors/study/diploma/ner_for_fem/data/v2.0-swapped_filtering/data/bruk/8cc49a8b2d76-swapped.ann', '/Users/linndfors/study/diploma/ner_for_fem/data/v2.0-swapped_filtering/data/bruk/1c325fde9ed4-swapped.ann', '/Users/linndfors/study/diploma/ner_for_fem/data/v2.0-swapped_filtering/data/bruk/4b1efc986bb8-swapped.ann', '/Users/linndfors/study/diploma/ner_for_fem/data/v2.0-swapped_filtering/data/bruk/710044df1fe0-swapped.ann', '/Users/linndfors/study/diploma/ner_for_fem/data/v2.0-swapped_filtering/data/bruk/dcbb9ddb4aaa-swapped.ann', '/Users/linndfors/study/diploma/ner_for_fem/data/v2.0-swapped_filtering/data/bruk/d30e0fb50f0f-swapped.ann', '/Users/linndfors/study/diploma/ner_for_fem/data/v2.0-swapped_filtering/data/bruk/09d6a57532b6-swapped.ann', '/Users/linndfors/study/diploma/ner_for_fem/data/v2.0-swapped_filtering/data/bruk/f161f5134505-swapped.ann', '/Users/linndfors/study/diploma/ner_for_fem/data/v2.0-swapped_filtering/data/bruk/92d38b895fa4-swapped.ann', '/Users/linndfors/study/diploma/ner_for_fem/data/v2.0-swapped_filtering/data/bruk/b87576a7425a-swapped.ann', '/Users/linndfors/study/diploma/ner_for_fem/data/v2.0-swapped_filtering/data/bruk/bdda872d3ef9-swapped.ann', '/Users/linndfors/study/diploma/ner_for_fem/data/v2.0-swapped_filtering/data/bruk/bf4968831cc7-swapped.ann', '/Users/linndfors/study/diploma/ner_for_fem/data/v2.0-swapped_filtering/data/bruk/e5e76a8efa0f-swapped.ann', '/Users/linndfors/study/diploma/ner_for_fem/data/v2.0-swapped_filtering/data/bruk/efc2665e4bed-swapped.ann', '/Users/linndfors/study/diploma/ner_for_fem/data/v2.0-swapped_filtering/data/bruk/0ac5140eb732-swapped.ann', '/Users/linndfors/study/diploma/ner_for_fem/data/v2.0-swapped_filtering/data/bruk/547ce681ada8-swapped.ann', '/Users/linndfors/study/diploma/ner_for_fem/data/v2.0-swapped_filtering/data/bruk/132368095bab-swapped.ann', '/Users/linndfors/study/diploma/ner_for_fem/data/v2.0-swapped_filtering/data/bruk/6b60e6fb3d78-swapped.ann', '/Users/linndfors/study/diploma/ner_for_fem/data/v2.0-swapped_filtering/data/bruk/9fbfe077a27a-swapped.ann', '/Users/linndfors/study/diploma/ner_for_fem/data/v2.0-swapped_filtering/data/bruk/257fca043205-swapped.ann', '/Users/linndfors/study/diploma/ner_for_fem/data/v2.0-swapped_filtering/data/bruk/3f4bafb349ae-swapped.ann', '/Users/linndfors/study/diploma/ner_for_fem/data/v2.0-swapped_filtering/data/bruk/f5bb37569413-swapped.ann', '/Users/linndfors/study/diploma/ner_for_fem/data/v2.0-swapped_filtering/data/bruk/27a1722d517c-swapped.ann', '/Users/linndfors/study/diploma/ner_for_fem/data/v2.0-swapped_filtering/data/bruk/b84c8a869b51-swapped.ann', '/Users/linndfors/study/diploma/ner_for_fem/data/v2.0-swapped_filtering/data/bruk/647a3f078f3f-swapped.ann', '/Users/linndfors/study/diploma/ner_for_fem/data/v2.0-swapped_filtering/data/bruk/c28168a23912-swapped.ann', '/Users/linndfors/study/diploma/ner_for_fem/data/v2.0-swapped_filtering/data/bruk/a1a77d3d5b33-swapped.ann', '/Users/linndfors/study/diploma/ner_for_fem/data/v2.0-swapped_filtering/data/bruk/a487d1895726-swapped.ann', '/Users/linndfors/study/diploma/ner_for_fem/data/v2.0-swapped_filtering/data/bruk/b576ac602665-swapped.ann', '/Users/linndfors/study/diploma/ner_for_fem/data/v2.0-swapped_filtering/data/bruk/e21ddb9efb07-swapped.ann', '/Users/linndfors/study/diploma/ner_for_fem/data/v2.0-swapped_filtering/data/bruk/3ba7ca929d68-swapped.ann', '/Users/linndfors/study/diploma/ner_for_fem/data/v2.0-swapped_filtering/data/bruk/9d4b90129d10-swapped.ann', '/Users/linndfors/study/diploma/ner_for_fem/data/v2.0-swapped_filtering/data/bruk/e1dbe335e762-swapped.ann', '/Users/linndfors/study/diploma/ner_for_fem/data/v2.0-swapped_filtering/data/bruk/fad2422a7bf3-swapped.ann', '/Users/linndfors/study/diploma/ner_for_fem/data/v2.0-swapped_filtering/data/bruk/f9a926049262-swapped.ann', '/Users/linndfors/study/diploma/ner_for_fem/data/v2.0-swapped_filtering/data/bruk/b381bc7842b1-swapped.ann', '/Users/linndfors/study/diploma/ner_for_fem/data/v2.0-swapped_filtering/data/bruk/dc25535e13d7-swapped.ann', '/Users/linndfors/study/diploma/ner_for_fem/data/v2.0-swapped_filtering/data/bruk/d3d5522aa52e-swapped.ann', '/Users/linndfors/study/diploma/ner_for_fem/data/v2.0-swapped_filtering/data/bruk/c0c436cc9cb6-swapped.ann', '/Users/linndfors/study/diploma/ner_for_fem/data/v2.0-swapped_filtering/data/bruk/8951230172d0-swapped.ann', '/Users/linndfors/study/diploma/ner_for_fem/data/v2.0-swapped_filtering/data/bruk/e023d6d6f1a3-swapped.ann', '/Users/linndfors/study/diploma/ner_for_fem/data/v2.0-swapped_filtering/data/bruk/066ec5f0dea6-swapped.ann', '/Users/linndfors/study/diploma/ner_for_fem/data/v2.0-swapped_filtering/data/bruk/7b7daaeb9d7d-swapped.ann', '/Users/linndfors/study/diploma/ner_for_fem/data/v2.0-swapped_filtering/data/bruk/561acef3f531-swapped.ann', '/Users/linndfors/study/diploma/ner_for_fem/data/v2.0-swapped_filtering/data/bruk/5085bb95b51a-swapped.ann', '/Users/linndfors/study/diploma/ner_for_fem/data/v2.0-swapped_filtering/data/bruk/f495f41dfa02-swapped.ann', '/Users/linndfors/study/diploma/ner_for_fem/data/v2.0-swapped_filtering/data/bruk/e3c7064319e0-swapped.ann', '/Users/linndfors/study/diploma/ner_for_fem/data/v2.0-swapped_filtering/data/bruk/232be2c6b5c2-swapped.ann', '/Users/linndfors/study/diploma/ner_for_fem/data/v2.0-swapped_filtering/data/bruk/fc8f156aa82b-swapped.ann', '/Users/linndfors/study/diploma/ner_for_fem/data/v2.0-swapped_filtering/data/bruk/52049bc57554-swapped.ann', '/Users/linndfors/study/diploma/ner_for_fem/data/v2.0-swapped_filtering/data/bruk/06d78909a7ab-swapped.ann', '/Users/linndfors/study/diploma/ner_for_fem/data/v2.0-swapped_filtering/data/bruk/e0493ec8466b-swapped.ann', '/Users/linndfors/study/diploma/ner_for_fem/data/v2.0-swapped_filtering/data/bruk/10a2da5c514c-swapped.ann', '/Users/linndfors/study/diploma/ner_for_fem/data/v2.0-swapped_filtering/data/bruk/ff069c11e13d-swapped.ann', '/Users/linndfors/study/diploma/ner_for_fem/data/v2.0-swapped_filtering/data/bruk/bc755153f4f7-swapped.ann', '/Users/linndfors/study/diploma/ner_for_fem/data/v2.0-swapped_filtering/data/bruk/13e0cb95075a-swapped.ann', '/Users/linndfors/study/diploma/ner_for_fem/data/v2.0-swapped_filtering/data/bruk/79812f4abec1-swapped.ann', '/Users/linndfors/study/diploma/ner_for_fem/data/v2.0-swapped_filtering/data/bruk/c0f24f5d70e3-swapped.ann', '/Users/linndfors/study/diploma/ner_for_fem/data/v2.0-swapped_filtering/data/bruk/e010e86e436c-swapped.ann', '/Users/linndfors/study/diploma/ner_for_fem/data/v2.0-swapped_filtering/data/bruk/2cc21b456aad-swapped.ann', '/Users/linndfors/study/diploma/ner_for_fem/data/v2.0-swapped_filtering/data/bruk/5a0aedfe0f5d-swapped.ann', '/Users/linndfors/study/diploma/ner_for_fem/data/v2.0-swapped_filtering/data/bruk/9df8bcf8e17e-swapped.ann', '/Users/linndfors/study/diploma/ner_for_fem/data/v2.0-swapped_filtering/data/bruk/1448663b16b2-swapped.ann', '/Users/linndfors/study/diploma/ner_for_fem/data/v2.0-swapped_filtering/data/bruk/2fc890744f7c-swapped.ann', '/Users/linndfors/study/diploma/ner_for_fem/data/v2.0-swapped_filtering/data/bruk/0046ebeff13e-swapped.ann', '/Users/linndfors/study/diploma/ner_for_fem/data/v2.0-swapped_filtering/data/bruk/f4136bfda19a-swapped.ann', '/Users/linndfors/study/diploma/ner_for_fem/data/v2.0-swapped_filtering/data/bruk/87ae82667e2a-swapped.ann', '/Users/linndfors/study/diploma/ner_for_fem/data/v2.0-swapped_filtering/data/bruk/5207847a2e1d-swapped.ann', '/Users/linndfors/study/diploma/ner_for_fem/data/v2.0-swapped_filtering/data/bruk/2298b6b41bec-swapped.ann', '/Users/linndfors/study/diploma/ner_for_fem/data/v2.0-swapped_filtering/data/bruk/548f66f38090-swapped.ann', '/Users/linndfors/study/diploma/ner_for_fem/data/v2.0-swapped_filtering/data/bruk/91024fa21059-swapped.ann', '/Users/linndfors/study/diploma/ner_for_fem/data/v2.0-swapped_filtering/data/bruk/46ae77c0ec97-swapped.ann', '/Users/linndfors/study/diploma/ner_for_fem/data/v2.0-swapped_filtering/data/bruk/38603af07530-swapped.ann', '/Users/linndfors/study/diploma/ner_for_fem/data/v2.0-swapped_filtering/data/bruk/b019e9b8d51d-swapped.ann', '/Users/linndfors/study/diploma/ner_for_fem/data/v2.0-swapped_filtering/data/bruk/624df1293f3d-swapped.ann', '/Users/linndfors/study/diploma/ner_for_fem/data/v2.0-swapped_filtering/data/bruk/6b5d4229b548-swapped.ann', '/Users/linndfors/study/diploma/ner_for_fem/data/v2.0-swapped_filtering/data/bruk/c375246adb0a-swapped.ann', '/Users/linndfors/study/diploma/ner_for_fem/data/v2.0-swapped_filtering/data/bruk/b987128d15d3-swapped.ann', '/Users/linndfors/study/diploma/ner_for_fem/data/v2.0-swapped_filtering/data/bruk/b3c847570902-swapped.ann', '/Users/linndfors/study/diploma/ner_for_fem/data/v2.0-swapped_filtering/data/bruk/66395d7c394b-swapped.ann', '/Users/linndfors/study/diploma/ner_for_fem/data/v2.0-swapped_filtering/data/bruk/74a7e2a340dd-swapped.ann', '/Users/linndfors/study/diploma/ner_for_fem/data/v2.0-swapped_filtering/data/bruk/766e1942f398-swapped.ann', '/Users/linndfors/study/diploma/ner_for_fem/data/v2.0-swapped_filtering/data/bruk/937c38344fdf-swapped.ann', '/Users/linndfors/study/diploma/ner_for_fem/data/v2.0-swapped_filtering/data/bruk/bd86f567c746-swapped.ann', '/Users/linndfors/study/diploma/ner_for_fem/data/v2.0-swapped_filtering/data/bruk/18ec3aea7ed7-swapped.ann', '/Users/linndfors/study/diploma/ner_for_fem/data/v2.0-swapped_filtering/data/bruk/71a651d2dbec-swapped.ann', '/Users/linndfors/study/diploma/ner_for_fem/data/v2.0-swapped_filtering/data/bruk/5710814a4a84-swapped.ann', '/Users/linndfors/study/diploma/ner_for_fem/data/v2.0-swapped_filtering/data/bruk/d08ea0bbac66-swapped.ann', '/Users/linndfors/study/diploma/ner_for_fem/data/v2.0-swapped_filtering/data/bruk/17fbae84faea-swapped.ann', '/Users/linndfors/study/diploma/ner_for_fem/data/v2.0-swapped_filtering/data/bruk/c3402705f448-swapped.ann', '/Users/linndfors/study/diploma/ner_for_fem/data/v2.0-swapped_filtering/data/bruk/1ed3fef56c8f-swapped.ann', '/Users/linndfors/study/diploma/ner_for_fem/data/v2.0-swapped_filtering/data/bruk/dc1202fd9850-swapped.ann', '/Users/linndfors/study/diploma/ner_for_fem/data/v2.0-swapped_filtering/data/bruk/47eb526780b0-swapped.ann', '/Users/linndfors/study/diploma/ner_for_fem/data/v2.0-swapped_filtering/data/bruk/d81f996d0ab8-swapped.ann', '/Users/linndfors/study/diploma/ner_for_fem/data/v2.0-swapped_filtering/data/bruk/164940c99b86-swapped.ann', '/Users/linndfors/study/diploma/ner_for_fem/data/v2.0-swapped_filtering/data/bruk/d07dfb774c28-swapped.ann', '/Users/linndfors/study/diploma/ner_for_fem/data/v2.0-swapped_filtering/data/bruk/f958ce8bb461-swapped.ann']\n"
     ]
    },
    {
     "name": "stderr",
     "output_type": "stream",
     "text": [
      "100%|██████████| 91/91 [09:49<00:00,  6.48s/it]\n"
     ]
    }
   ],
   "source": [
    "bruk_pers_dict = extract_pers_entities(\"/Users/linndfors/study/diploma/ner_for_fem/data/v2.0-swapped_filtering/data/bruk\")\n",
    "bruk_file_gender_pers_dict, bruk_total_pers_counter, bruk_pers_list = return_gendered_PERS_dict(bruk_pers_dict)"
   ]
  },
  {
   "cell_type": "code",
   "execution_count": 65,
   "metadata": {},
   "outputs": [
    {
     "name": "stdout",
     "output_type": "stream",
     "text": [
      "total size: 279\n",
      "================\n",
      "gender: male\n",
      "number of files for the gender: 25\n",
      "number of entities for the gender: 30\n",
      "percentage: 0.10752688172043011\n",
      "The most popular entity: Василь\n",
      "================\n",
      "================\n",
      "gender: female\n",
      "number of files for the gender: 65\n",
      "number of entities for the gender: 126\n",
      "percentage: 0.45161290322580644\n",
      "The most popular entity: Олександра\n",
      "================\n",
      "================\n",
      "gender: unknown_gender\n",
      "number of files for the gender: 46\n",
      "number of entities for the gender: 123\n",
      "percentage: 0.44086021505376344\n",
      "The most popular entity: Т\n",
      "================\n"
     ]
    }
   ],
   "source": [
    "return_gender_stat(bruk_total_pers_counter, bruk_file_gender_pers_dict)"
   ]
  },
  {
   "cell_type": "markdown",
   "metadata": {},
   "source": [
    "### Total"
   ]
  },
  {
   "cell_type": "code",
   "execution_count": 71,
   "metadata": {},
   "outputs": [
    {
     "name": "stdout",
     "output_type": "stream",
     "text": [
      "total: 1282\n",
      "male: 156\n",
      "female: 730\n",
      "unknown: 396\n"
     ]
    }
   ],
   "source": [
    "print(\"total:\", 1282)\n",
    "print(\"male:\", 126 + 30)\n",
    "print(\"female:\", 604 + 126)\n",
    "print(\"unknown:\", 123 + 273)"
   ]
  }
 ],
 "metadata": {
  "kernelspec": {
   "display_name": "new_venv",
   "language": "python",
   "name": "python3"
  },
  "language_info": {
   "codemirror_mode": {
    "name": "ipython",
    "version": 3
   },
   "file_extension": ".py",
   "mimetype": "text/x-python",
   "name": "python",
   "nbconvert_exporter": "python",
   "pygments_lexer": "ipython3",
   "version": "3.10.16"
  }
 },
 "nbformat": 4,
 "nbformat_minor": 2
}
