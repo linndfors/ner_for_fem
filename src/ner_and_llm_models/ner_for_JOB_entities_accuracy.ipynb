{
  "cells": [
    {
      "cell_type": "code",
      "execution_count": 2,
      "metadata": {
        "colab": {
          "base_uri": "https://localhost:8080/"
        },
        "id": "IwTJdOnHfMqk",
        "outputId": "a1db163c-e4a4-401b-d225-b6496654bbbf"
      },
      "outputs": [],
      "source": [
        "# !pip install -U spacy-transformers"
      ]
    },
    {
      "cell_type": "code",
      "execution_count": null,
      "metadata": {
        "id": "_RPhpx0AgP0K"
      },
      "outputs": [],
      "source": [
        "import spacy\n",
        "from spacy.tokens import DocBin\n",
        "from spacy.training import Example\n",
        "from spacy.scorer import Scorer\n",
        "import tqdm\n",
        "\n",
        "nlp = spacy.load(\"/content/drive/MyDrive/filtered_balanced_ner\")\n",
        "\n",
        "doc_bin = DocBin().from_disk(\"/content/drive/MyDrive/spacy_files_for_ner/balanced_ner/test.spacy\")\n",
        "gold_docs = list(doc_bin.get_docs(nlp.vocab))\n",
        "\n",
        "tp, fp, fn = [], [], []"
      ]
    },
    {
      "cell_type": "code",
      "execution_count": null,
      "metadata": {
        "colab": {
          "base_uri": "https://localhost:8080/"
        },
        "id": "_bc7LNiofYZG",
        "outputId": "98d4c414-4d23-4259-b9be-f06e44be7f19"
      },
      "outputs": [
        {
          "name": "stderr",
          "output_type": "stream",
          "text": [
            "100%|██████████| 5308/5308 [42:49<00:00,  2.07it/s]\n"
          ]
        }
      ],
      "source": [
        "for gold_doc in tqdm.tqdm(gold_docs):\n",
        "    pred_doc = nlp(gold_doc.text)\n",
        "    ex = Example(pred_doc, gold_doc)\n",
        "\n",
        "    gold_ents = {(ent.start_char, ent.end_char, ent.label_) for ent in ex.reference.ents if ent.label_ == \"JOB\"}\n",
        "    pred_ents = {(ent.start_char, ent.end_char, ent.label_) for ent in ex.predicted.ents if ent.label_ == \"JOB\"}\n",
        "\n",
        "\n",
        "    matched = gold_ents & pred_ents\n",
        "    missed = gold_ents - pred_ents\n",
        "    spurious = pred_ents - gold_ents\n",
        "\n",
        "    # print(\"Matched:\", matched)\n",
        "    # print(\"Missed:\", missed)\n",
        "    # print(\"Spurious:\", spurious)\n",
        "\n",
        "    tp.extend([ent for ent in ex.predicted.ents if (ent.start_char, ent.end_char, ent.label_) in matched])\n",
        "    fn.extend([ent for ent in ex.reference.ents if (ent.start_char, ent.end_char, ent.label_) in missed])\n",
        "    fp.extend([ent for ent in ex.predicted.ents if (ent.start_char, ent.end_char, ent.label_) in spurious])"
      ]
    },
    {
      "cell_type": "code",
      "execution_count": null,
      "metadata": {
        "id": "xyjtWU1_iZ3V"
      },
      "outputs": [],
      "source": [
        "def save_entities(spans, out_path):\n",
        "    with open(out_path, \"w\", encoding=\"utf-8\") as fw:\n",
        "        for span in spans:\n",
        "            fw.write(span.text + \"\\n\")"
      ]
    },
    {
      "cell_type": "code",
      "execution_count": null,
      "metadata": {
        "colab": {
          "base_uri": "https://localhost:8080/"
        },
        "id": "B3sF081tibyN",
        "outputId": "80ef9106-220c-47f1-fb5c-a21eee8e153f"
      },
      "outputs": [
        {
          "name": "stdout",
          "output_type": "stream",
          "text": [
            "Saved:\n",
            "  • True Positives → tp.txt\n",
            "  • False Negatives → fn.txt\n",
            "  • False Positives → fp.txt\n"
          ]
        }
      ],
      "source": [
        "save_entities(tp, \"/content/drive/MyDrive/evaluation_results/balanced_tp.txt\")\n",
        "save_entities(fn, \"/content/drive/MyDrive/evaluation_results/balanced_fn.txt\")\n",
        "save_entities(fp, \"/content/drive/MyDrive/evaluation_results/balanced_fp.txt\")\n",
        "\n",
        "print(\"True Positives → tp.txt\")\n",
        "print(\"False Negatives → fn.txt\")\n",
        "print(\"False Positives → fp.txt\")"
      ]
    },
    {
      "cell_type": "code",
      "execution_count": null,
      "metadata": {
        "colab": {
          "base_uri": "https://localhost:8080/",
          "height": 635
        },
        "id": "QiEcDLIFvZWh",
        "outputId": "748e2207-beb6-47bb-d481-93e039c0f7a4"
      },
      "outputs": [],
      "source": [
        "import spacy\n",
        "import spacy_transformers\n",
        "from spacy.tokens import DocBin\n",
        "from spacy.training import Example\n",
        "from spacy.scorer import Scorer\n",
        "import tqdm\n",
        "\n",
        "nlp = spacy.load(\"/content/drive/MyDrive/retrained_ner_origin\")\n",
        "\n",
        "doc_bin = DocBin().from_disk(\"/content/drive/MyDrive/spacy_files_for_ner/balanced_ner/test.spacy\")\n",
        "gold_docs = list(doc_bin.get_docs(nlp.vocab))\n",
        "\n",
        "tp, fp, fn = [], [], []"
      ]
    },
    {
      "cell_type": "code",
      "execution_count": null,
      "metadata": {
        "id": "mjcqyV3gvWCw"
      },
      "outputs": [],
      "source": [
        "for gold_doc in tqdm.tqdm(gold_docs):\n",
        "    pred_doc = nlp(gold_doc.text)\n",
        "    ex = Example(pred_doc, gold_doc)\n",
        "\n",
        "    gold_ents = {(ent.start_char, ent.end_char, ent.label_) for ent in ex.reference.ents if ent.label_ == \"JOB\"}\n",
        "    pred_ents = {(ent.start_char, ent.end_char, ent.label_) for ent in ex.predicted.ents if ent.label_ == \"JOB\"}\n",
        "\n",
        "    matched = gold_ents & pred_ents\n",
        "    missed = gold_ents - pred_ents\n",
        "    spurious = pred_ents - gold_ents\n",
        "\n",
        "    tp.extend([ent for ent in ex.predicted.ents if (ent.start_char, ent.end_char, ent.label_) in matched])\n",
        "    fn.extend([ent for ent in ex.reference.ents if (ent.start_char, ent.end_char, ent.label_) in missed])\n",
        "    fp.extend([ent for ent in ex.predicted.ents if (ent.start_char, ent.end_char, ent.label_) in spurious])"
      ]
    },
    {
      "cell_type": "code",
      "execution_count": null,
      "metadata": {
        "id": "Mz7grQuh5Mwi"
      },
      "outputs": [],
      "source": [
        "save_entities(tp, \"/content/drive/MyDrive/evaluation_results/orig_tp.txt\")\n",
        "save_entities(fn, \"/content/drive/MyDrive/evaluation_results/orig_fn.txt\")\n",
        "save_entities(fp, \"/content/drive/MyDrive/evaluation_results/orig_fp.txt\")"
      ]
    }
  ],
  "metadata": {
    "accelerator": "GPU",
    "colab": {
      "gpuType": "T4",
      "provenance": []
    },
    "kernelspec": {
      "display_name": "new_venv",
      "language": "python",
      "name": "python3"
    },
    "language_info": {
      "codemirror_mode": {
        "name": "ipython",
        "version": 3
      },
      "file_extension": ".py",
      "mimetype": "text/x-python",
      "name": "python",
      "nbconvert_exporter": "python",
      "pygments_lexer": "ipython3",
      "version": "3.10.16"
    }
  },
  "nbformat": 4,
  "nbformat_minor": 0
}
