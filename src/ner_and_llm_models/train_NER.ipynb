{
  "cells": [
    {
      "cell_type": "code",
      "execution_count": 1,
      "metadata": {
        "colab": {
          "base_uri": "https://localhost:8080/"
        },
        "id": "Orh1NXklYoJU",
        "outputId": "c70a7301-295b-4811-d1d8-a01f6b8ddadf"
      },
      "outputs": [],
      "source": [
        "# !pip install spacy-transformers"
      ]
    },
    {
      "cell_type": "markdown",
      "metadata": {
        "id": "T0dZX7grlQ3N"
      },
      "source": [
        "## Training"
      ]
    },
    {
      "cell_type": "code",
      "execution_count": null,
      "metadata": {
        "colab": {
          "base_uri": "https://localhost:8080/"
        },
        "id": "XenDrTe7lSa7",
        "outputId": "4ca00167-7928-43cf-f00f-a825d9ff7a7c"
      },
      "outputs": [
        {
          "name": "stdout",
          "output_type": "stream",
          "text": [
            "\u001b[38;5;2m✔ Created output directory: balanced_NER_trained\u001b[0m\n",
            "\u001b[38;5;4mℹ Saving to output directory: balanced_NER_trained\u001b[0m\n",
            "\u001b[38;5;4mℹ Using GPU: 0\u001b[0m\n",
            "\u001b[1m\n",
            "=========================== Initializing pipeline ===========================\u001b[0m\n",
            "tokenizer_config.json: 100% 466/466 [00:00<00:00, 3.77MB/s]\n",
            "vocab.json: 100% 1.72M/1.72M [00:00<00:00, 6.88MB/s]\n",
            "merges.txt: 100% 1.38M/1.38M [00:00<00:00, 42.1MB/s]\n",
            "tokenizer.json: 100% 3.95M/3.95M [00:00<00:00, 26.3MB/s]\n",
            "special_tokens_map.json: 100% 239/239 [00:00<00:00, 1.86MB/s]\n",
            "config.json: 100% 682/682 [00:00<00:00, 4.13MB/s]\n",
            "2025-04-21 14:34:56.692506: E external/local_xla/xla/stream_executor/cuda/cuda_fft.cc:477] Unable to register cuFFT factory: Attempting to register factory for plugin cuFFT when one has already been registered\n",
            "WARNING: All log messages before absl::InitializeLog() is called are written to STDERR\n",
            "E0000 00:00:1745246097.032231    2419 cuda_dnn.cc:8310] Unable to register cuDNN factory: Attempting to register factory for plugin cuDNN when one has already been registered\n",
            "E0000 00:00:1745246097.127756    2419 cuda_blas.cc:1418] Unable to register cuBLAS factory: Attempting to register factory for plugin cuBLAS when one has already been registered\n",
            "2025-04-21 14:34:57.868070: I tensorflow/core/platform/cpu_feature_guard.cc:210] This TensorFlow binary is optimized to use available CPU instructions in performance-critical operations.\n",
            "To enable the following instructions: AVX2 FMA, in other operations, rebuild TensorFlow with the appropriate compiler flags.\n",
            "model.safetensors: 100% 1.42G/1.42G [00:24<00:00, 57.8MB/s]\n",
            "Some weights of RobertaModel were not initialized from the model checkpoint at benjamin/roberta-large-wechsel-ukrainian and are newly initialized: ['roberta.pooler.dense.bias', 'roberta.pooler.dense.weight']\n",
            "You should probably TRAIN this model on a down-stream task to be able to use it for predictions and inference.\n",
            "\u001b[38;5;2m✔ Initialized pipeline\u001b[0m\n",
            "\u001b[1m\n",
            "============================= Training pipeline =============================\u001b[0m\n",
            "\u001b[38;5;4mℹ Pipeline: ['transformer', 'ner']\u001b[0m\n",
            "\u001b[38;5;4mℹ Initial learn rate: 1e-05\u001b[0m\n",
            "E    #       LOSS TRANS...  LOSS NER  ENTS_F  ENTS_P  ENTS_R  SCORE \n",
            "---  ------  -------------  --------  ------  ------  ------  ------\n",
            "  0       0         123.65    103.50    0.21    0.13    0.74    0.00\n",
            "  1     200      114229.25  37176.78   74.76   75.94   73.61    0.75\n",
            "  2     400        9501.97   7840.34   86.26   86.58   85.94    0.86\n",
            "  3     600        7358.34   4788.50   88.96   90.22   87.72    0.89\n",
            "  4     800        4111.24   3578.21   89.51   90.32   88.71    0.90\n",
            "  5    1000        2482.47   2733.65   90.02   89.37   90.69    0.90\n",
            "  6    1200        2365.79   2318.82   91.31   91.29   91.34    0.91\n",
            "  8    1400        1824.40   1972.53   90.72   90.66   90.79    0.91\n",
            "  9    1600        1400.21   1388.81   90.64   90.89   90.40    0.91\n",
            " 10    1800        1574.47   1287.20   91.34   91.55   91.14    0.91\n",
            " 11    2000        1259.88   1020.83   90.75   89.94   91.58    0.91\n",
            " 12    2200        1082.75    836.41   91.51   91.49   91.53    0.92\n",
            " 13    2400         778.66    732.40   91.45   90.54   92.38    0.91\n",
            " 14    2600         843.03    701.10   91.44   90.90   91.98    0.91\n",
            " 16    2800         993.00    666.81   91.71   92.54   90.89    0.92\n",
            " 17    3000         578.05    514.48   91.77   91.87   91.68    0.92\n",
            " 18    3200         852.65    508.59   92.08   93.25   90.94    0.92\n",
            " 19    3400         426.27    395.42   91.74   91.90   91.58    0.92\n",
            "^C\n"
          ]
        }
      ],
      "source": [
        "!python -m spacy train config.cfg --output ./balanced_NER_trained --gpu-id 0"
      ]
    },
    {
      "cell_type": "code",
      "execution_count": null,
      "metadata": {
        "colab": {
          "base_uri": "https://localhost:8080/"
        },
        "id": "t9mRYo_mxDb7",
        "outputId": "eb7bb8af-153b-40a5-fc34-6fd7a7d9a50b"
      },
      "outputs": [
        {
          "name": "stdout",
          "output_type": "stream",
          "text": [
            "  adding: balanced_NER_trained/ (stored 0%)\n",
            "  adding: balanced_NER_trained/model-last/ (stored 0%)\n",
            "  adding: balanced_NER_trained/model-last/vocab/ (stored 0%)\n",
            "  adding: balanced_NER_trained/model-last/vocab/key2row (stored 0%)\n",
            "  adding: balanced_NER_trained/model-last/vocab/strings.json (deflated 91%)\n",
            "  adding: balanced_NER_trained/model-last/vocab/vectors.cfg (stored 0%)\n",
            "  adding: balanced_NER_trained/model-last/vocab/vectors (deflated 45%)\n",
            "  adding: balanced_NER_trained/model-last/vocab/lookups.bin (stored 0%)\n",
            "  adding: balanced_NER_trained/model-last/config.cfg (deflated 61%)\n",
            "  adding: balanced_NER_trained/model-last/tokenizer (deflated 88%)\n",
            "  adding: balanced_NER_trained/model-last/ner/ (stored 0%)\n",
            "  adding: balanced_NER_trained/model-last/ner/moves (deflated 72%)\n",
            "  adding: balanced_NER_trained/model-last/ner/cfg (deflated 33%)\n",
            "  adding: balanced_NER_trained/model-last/ner/model (deflated 8%)\n",
            "  adding: balanced_NER_trained/model-last/transformer/ (stored 0%)\n",
            "  adding: balanced_NER_trained/model-last/transformer/cfg (stored 0%)\n",
            "  adding: balanced_NER_trained/model-last/transformer/model (deflated 7%)\n",
            "  adding: balanced_NER_trained/model-last/meta.json (deflated 67%)\n",
            "  adding: balanced_NER_trained/model-best/ (stored 0%)\n",
            "  adding: balanced_NER_trained/model-best/vocab/ (stored 0%)\n",
            "  adding: balanced_NER_trained/model-best/vocab/key2row (stored 0%)\n",
            "  adding: balanced_NER_trained/model-best/vocab/strings.json (deflated 91%)\n",
            "  adding: balanced_NER_trained/model-best/vocab/vectors.cfg (stored 0%)\n",
            "  adding: balanced_NER_trained/model-best/vocab/vectors (deflated 45%)\n",
            "  adding: balanced_NER_trained/model-best/vocab/lookups.bin (stored 0%)\n",
            "  adding: balanced_NER_trained/model-best/config.cfg (deflated 61%)\n",
            "  adding: balanced_NER_trained/model-best/tokenizer (deflated 88%)\n",
            "  adding: balanced_NER_trained/model-best/ner/ (stored 0%)\n",
            "  adding: balanced_NER_trained/model-best/ner/moves (deflated 72%)\n",
            "  adding: balanced_NER_trained/model-best/ner/cfg (deflated 33%)\n",
            "  adding: balanced_NER_trained/model-best/ner/model (deflated 8%)\n",
            "  adding: balanced_NER_trained/model-best/transformer/ (stored 0%)\n",
            "  adding: balanced_NER_trained/model-best/transformer/cfg (stored 0%)\n",
            "  adding: balanced_NER_trained/model-best/transformer/model (deflated 8%)\n",
            "  adding: balanced_NER_trained/model-best/meta.json (deflated 67%)\n"
          ]
        }
      ],
      "source": [
        "!zip -r balanced_NER_trained_21_04.zip ./balanced_NER_trained"
      ]
    },
    {
      "cell_type": "code",
      "execution_count": null,
      "metadata": {
        "colab": {
          "base_uri": "https://localhost:8080/",
          "height": 17
        },
        "id": "nWJnYE0hxFmr",
        "outputId": "07628b48-8f20-4b81-8f15-f0748d0931a0"
      },
      "outputs": [
        {
          "data": {
            "application/javascript": "\n    async function download(id, filename, size) {\n      if (!google.colab.kernel.accessAllowed) {\n        return;\n      }\n      const div = document.createElement('div');\n      const label = document.createElement('label');\n      label.textContent = `Downloading \"${filename}\": `;\n      div.appendChild(label);\n      const progress = document.createElement('progress');\n      progress.max = size;\n      div.appendChild(progress);\n      document.body.appendChild(div);\n\n      const buffers = [];\n      let downloaded = 0;\n\n      const channel = await google.colab.kernel.comms.open(id);\n      // Send a message to notify the kernel that we're ready.\n      channel.send({})\n\n      for await (const message of channel.messages) {\n        // Send a message to notify the kernel that we're ready.\n        channel.send({})\n        if (message.buffers) {\n          for (const buffer of message.buffers) {\n            buffers.push(buffer);\n            downloaded += buffer.byteLength;\n            progress.value = downloaded;\n          }\n        }\n      }\n      const blob = new Blob(buffers, {type: 'application/binary'});\n      const a = document.createElement('a');\n      a.href = window.URL.createObjectURL(blob);\n      a.download = filename;\n      div.appendChild(a);\n      a.click();\n      div.remove();\n    }\n  ",
            "text/plain": [
              "<IPython.core.display.Javascript object>"
            ]
          },
          "metadata": {},
          "output_type": "display_data"
        },
        {
          "data": {
            "application/javascript": "download(\"download_eeae7f43-c472-4664-8089-c2044e0c13a4\", \"file.zip\", 2642094468)",
            "text/plain": [
              "<IPython.core.display.Javascript object>"
            ]
          },
          "metadata": {},
          "output_type": "display_data"
        }
      ],
      "source": [
        "from google.colab import files\n",
        "files.download(\"file.zip\")"
      ]
    },
    {
      "cell_type": "markdown",
      "metadata": {
        "id": "0nMWRv2rlPSS"
      },
      "source": [
        "# Evaluating"
      ]
    },
    {
      "cell_type": "markdown",
      "metadata": {
        "id": "MFvIH5VYex1k"
      },
      "source": [
        "## Balanced NER"
      ]
    },
    {
      "cell_type": "code",
      "execution_count": null,
      "metadata": {
        "colab": {
          "base_uri": "https://localhost:8080/"
        },
        "id": "PoNlpiQFT2IP",
        "outputId": "de15fbb2-6583-4f82-d888-d51cd0a8a50c"
      },
      "outputs": [
        {
          "name": "stdout",
          "output_type": "stream",
          "text": [
            "\u001b[38;5;4mℹ Using GPU: 0\u001b[0m\n",
            "2025-04-22 10:39:08.372208: E external/local_xla/xla/stream_executor/cuda/cuda_fft.cc:477] Unable to register cuFFT factory: Attempting to register factory for plugin cuFFT when one has already been registered\n",
            "WARNING: All log messages before absl::InitializeLog() is called are written to STDERR\n",
            "E0000 00:00:1745318348.653643    1171 cuda_dnn.cc:8310] Unable to register cuDNN factory: Attempting to register factory for plugin cuDNN when one has already been registered\n",
            "E0000 00:00:1745318348.722018    1171 cuda_blas.cc:1418] Unable to register cuBLAS factory: Attempting to register factory for plugin cuBLAS when one has already been registered\n",
            "2025-04-22 10:39:09.352323: I tensorflow/core/platform/cpu_feature_guard.cc:210] This TensorFlow binary is optimized to use available CPU instructions in performance-critical operations.\n",
            "To enable the following instructions: AVX2 FMA, in other operations, rebuild TensorFlow with the appropriate compiler flags.\n",
            "\u001b[1m\n",
            "================================== Results ==================================\u001b[0m\n",
            "\n",
            "TOK     100.00\n",
            "NER P   91.31 \n",
            "NER R   86.60 \n",
            "NER F   88.89 \n",
            "SPEED   1651  \n",
            "\n",
            "\u001b[1m\n",
            "=============================== NER (per type) ===============================\u001b[0m\n",
            "\n",
            "              P       R       F\n",
            "JOB       82.51   68.43   74.81\n",
            "PERS      97.15   95.62   96.38\n",
            "LOC       92.42   88.36   90.35\n",
            "PCT      100.00   99.08   99.54\n",
            "PERIOD    78.80   71.43   74.94\n",
            "ORG       93.17   90.66   91.90\n",
            "DOC       57.89   48.89   53.01\n",
            "MISC      49.49   32.03   38.89\n",
            "QUANT     90.32   86.60   88.42\n",
            "DATE      92.86   87.69   90.20\n",
            "ART       69.34   79.60   74.12\n",
            "TIME      70.00   63.64   66.67\n",
            "MON       97.36   92.74   94.99\n",
            "\n",
            "\u001b[38;5;2m✔ Saved results to\n",
            "/content/drive/MyDrive/NER_evaluation_results/balanced_ner_results/balanced.json\u001b[0m\n"
          ]
        }
      ],
      "source": [
        "!python -m spacy evaluate /content/drive/MyDrive/filtered_balanced_ner /content/drive/MyDrive/spacy_files_for_ner/balanced_ner/test.spacy --output /content/drive/MyDrive/NER_evaluation_results/balanced_ner_results/balanced.json --gpu-id 0"
      ]
    },
    {
      "cell_type": "code",
      "execution_count": null,
      "metadata": {
        "colab": {
          "base_uri": "https://localhost:8080/"
        },
        "id": "uzdqAVqSfUO8",
        "outputId": "3bae9019-b93d-40db-c3c3-9eab84b766b6"
      },
      "outputs": [
        {
          "name": "stdout",
          "output_type": "stream",
          "text": [
            "\u001b[38;5;4mℹ Using GPU: 0\u001b[0m\n",
            "2025-04-22 10:45:54.345599: E external/local_xla/xla/stream_executor/cuda/cuda_fft.cc:477] Unable to register cuFFT factory: Attempting to register factory for plugin cuFFT when one has already been registered\n",
            "WARNING: All log messages before absl::InitializeLog() is called are written to STDERR\n",
            "E0000 00:00:1745318754.377178    3080 cuda_dnn.cc:8310] Unable to register cuDNN factory: Attempting to register factory for plugin cuDNN when one has already been registered\n",
            "E0000 00:00:1745318754.387561    3080 cuda_blas.cc:1418] Unable to register cuBLAS factory: Attempting to register factory for plugin cuBLAS when one has already been registered\n",
            "2025-04-22 10:45:54.424901: I tensorflow/core/platform/cpu_feature_guard.cc:210] This TensorFlow binary is optimized to use available CPU instructions in performance-critical operations.\n",
            "To enable the following instructions: AVX2 FMA, in other operations, rebuild TensorFlow with the appropriate compiler flags.\n",
            "\u001b[1m\n",
            "================================== Results ==================================\u001b[0m\n",
            "\n",
            "TOK     100.00\n",
            "NER P   90.89 \n",
            "NER R   86.08 \n",
            "NER F   88.42 \n",
            "SPEED   1837  \n",
            "\n",
            "\u001b[1m\n",
            "=============================== NER (per type) ===============================\u001b[0m\n",
            "\n",
            "              P       R       F\n",
            "LOC       92.19   88.02   90.06\n",
            "PCT      100.00   98.89   99.44\n",
            "JOB       75.05   59.06   66.10\n",
            "PERS      97.01   95.18   96.08\n",
            "PERIOD    80.25   70.27   74.93\n",
            "ORG       92.89   89.93   91.38\n",
            "DOC       63.64   52.50   57.53\n",
            "MISC      48.42   32.39   38.82\n",
            "QUANT     89.66   87.64   88.64\n",
            "DATE      92.65   88.02   90.28\n",
            "ART       70.52   79.75   74.85\n",
            "TIME      66.67   60.00   63.16\n",
            "MON       97.07   91.69   94.30\n",
            "\n",
            "\u001b[38;5;2m✔ Saved results to\n",
            "/content/drive/MyDrive/NER_evaluation_results/balanced_ner_results/orig.json\u001b[0m\n"
          ]
        }
      ],
      "source": [
        "!python -m spacy evaluate /content/drive/MyDrive/filtered_balanced_ner /content/drive/MyDrive/spacy_files_for_ner/orig_ner/test.spacy --output /content/drive/MyDrive/NER_evaluation_results/balanced_ner_results/orig.json --gpu-id 0"
      ]
    },
    {
      "cell_type": "code",
      "execution_count": null,
      "metadata": {
        "colab": {
          "base_uri": "https://localhost:8080/"
        },
        "id": "ZJSNvTvhfaT-",
        "outputId": "846e1271-8073-4805-8a42-28eb5ebc3617"
      },
      "outputs": [
        {
          "name": "stdout",
          "output_type": "stream",
          "text": [
            "\u001b[38;5;4mℹ Using GPU: 0\u001b[0m\n",
            "2025-04-22 10:47:35.656580: E external/local_xla/xla/stream_executor/cuda/cuda_fft.cc:477] Unable to register cuFFT factory: Attempting to register factory for plugin cuFFT when one has already been registered\n",
            "WARNING: All log messages before absl::InitializeLog() is called are written to STDERR\n",
            "E0000 00:00:1745318855.676272    3538 cuda_dnn.cc:8310] Unable to register cuDNN factory: Attempting to register factory for plugin cuDNN when one has already been registered\n",
            "E0000 00:00:1745318855.682698    3538 cuda_blas.cc:1418] Unable to register cuBLAS factory: Attempting to register factory for plugin cuBLAS when one has already been registered\n",
            "2025-04-22 10:47:35.706824: I tensorflow/core/platform/cpu_feature_guard.cc:210] This TensorFlow binary is optimized to use available CPU instructions in performance-critical operations.\n",
            "To enable the following instructions: AVX2 FMA, in other operations, rebuild TensorFlow with the appropriate compiler flags.\n",
            "\u001b[1m\n",
            "================================== Results ==================================\u001b[0m\n",
            "\n",
            "TOK     100.00\n",
            "NER P   93.33 \n",
            "NER R   89.16 \n",
            "NER F   91.20 \n",
            "SPEED   1618  \n",
            "\n",
            "\u001b[1m\n",
            "=============================== NER (per type) ===============================\u001b[0m\n",
            "\n",
            "              P        R        F\n",
            "JOB       90.63    80.78    85.42\n",
            "PERS      98.60    98.88    98.74\n",
            "LOC       92.31    90.32    91.30\n",
            "QUANT    100.00    75.00    85.71\n",
            "DATE      94.19    88.04    91.01\n",
            "MISC      80.00    36.36    50.00\n",
            "ORG       95.70    93.56    94.62\n",
            "DOC       20.00    20.00    20.00\n",
            "TIME     100.00   100.00   100.00\n",
            "PERIOD    65.22    83.33    73.17\n",
            "ART       52.63    76.92    62.50\n",
            "PCT      100.00   100.00   100.00\n",
            "MON      100.00   100.00   100.00\n",
            "\n",
            "\u001b[38;5;2m✔ Saved results to\n",
            "/content/drive/MyDrive/NER_evaluation_results/balanced_ner_results/swapped.json\u001b[0m\n"
          ]
        }
      ],
      "source": [
        "!python -m spacy evaluate /content/drive/MyDrive/filtered_balanced_ner /content/drive/MyDrive/spacy_files_for_ner/swapped_ner/test.spacy --output /content/drive/MyDrive/NER_evaluation_results/balanced_ner_results/swapped.json --gpu-id 0"
      ]
    },
    {
      "cell_type": "markdown",
      "metadata": {
        "id": "kyoMNYLdl3lt"
      },
      "source": [
        "## Original NER model"
      ]
    },
    {
      "cell_type": "code",
      "execution_count": null,
      "metadata": {
        "colab": {
          "base_uri": "https://localhost:8080/"
        },
        "id": "jS6D5Tk2gcdr",
        "outputId": "e7a93ad5-aa59-4e55-b624-32a390eb0ce9"
      },
      "outputs": [
        {
          "name": "stdout",
          "output_type": "stream",
          "text": [
            "\u001b[38;5;4mℹ Using GPU: 0\u001b[0m\n",
            "2025-04-22 10:48:15.198232: E external/local_xla/xla/stream_executor/cuda/cuda_fft.cc:477] Unable to register cuFFT factory: Attempting to register factory for plugin cuFFT when one has already been registered\n",
            "WARNING: All log messages before absl::InitializeLog() is called are written to STDERR\n",
            "E0000 00:00:1745318895.228753    3728 cuda_dnn.cc:8310] Unable to register cuDNN factory: Attempting to register factory for plugin cuDNN when one has already been registered\n",
            "E0000 00:00:1745318895.240320    3728 cuda_blas.cc:1418] Unable to register cuBLAS factory: Attempting to register factory for plugin cuBLAS when one has already been registered\n",
            "2025-04-22 10:48:15.278622: I tensorflow/core/platform/cpu_feature_guard.cc:210] This TensorFlow binary is optimized to use available CPU instructions in performance-critical operations.\n",
            "To enable the following instructions: AVX2 FMA, in other operations, rebuild TensorFlow with the appropriate compiler flags.\n",
            "\u001b[1m\n",
            "================================== Results ==================================\u001b[0m\n",
            "\n",
            "TOK     100.00\n",
            "NER P   89.76 \n",
            "NER R   86.97 \n",
            "NER F   88.34 \n",
            "SPEED   1858  \n",
            "\n",
            "\u001b[1m\n",
            "=============================== NER (per type) ===============================\u001b[0m\n",
            "\n",
            "             P       R       F\n",
            "JOB      80.53   67.75   73.59\n",
            "PERS     96.58   97.00   96.79\n",
            "LOC      93.65   89.02   91.28\n",
            "PCT      96.43   99.08   97.74\n",
            "PERIOD   77.42   70.94   74.04\n",
            "ORG      91.34   91.19   91.26\n",
            "DOC      61.29   42.22   50.00\n",
            "MISC     36.59   29.41   32.61\n",
            "QUANT    81.31   89.69   85.29\n",
            "DATE     86.10   91.91   88.91\n",
            "ART      72.69   69.20   70.90\n",
            "TIME     60.00   54.55   57.14\n",
            "MON      95.34   91.34   93.30\n",
            "\n",
            "\u001b[38;5;2m✔ Saved results to\n",
            "/content/drive/MyDrive/NER_evaluation_results/orig_ner_results/balanced.json\u001b[0m\n"
          ]
        }
      ],
      "source": [
        "!python -m spacy evaluate /content/drive/MyDrive/retrained_ner_origin /content/drive/MyDrive/spacy_files_for_ner/balanced_ner/test.spacy --output /content/drive/MyDrive/NER_evaluation_results/orig_ner_results/balanced.json --gpu-id 0"
      ]
    },
    {
      "cell_type": "code",
      "execution_count": null,
      "metadata": {
        "colab": {
          "base_uri": "https://localhost:8080/"
        },
        "id": "QNJbwHsZgTj5",
        "outputId": "99855c0f-27a3-45d8-c450-2be9764ffb76"
      },
      "outputs": [
        {
          "name": "stdout",
          "output_type": "stream",
          "text": [
            "\u001b[38;5;4mℹ Using GPU: 0\u001b[0m\n",
            "2025-04-22 10:53:28.945494: E external/local_xla/xla/stream_executor/cuda/cuda_fft.cc:477] Unable to register cuFFT factory: Attempting to register factory for plugin cuFFT when one has already been registered\n",
            "WARNING: All log messages before absl::InitializeLog() is called are written to STDERR\n",
            "E0000 00:00:1745319208.974617    5080 cuda_dnn.cc:8310] Unable to register cuDNN factory: Attempting to register factory for plugin cuDNN when one has already been registered\n",
            "E0000 00:00:1745319208.984980    5080 cuda_blas.cc:1418] Unable to register cuBLAS factory: Attempting to register factory for plugin cuBLAS when one has already been registered\n",
            "2025-04-22 10:53:29.022756: I tensorflow/core/platform/cpu_feature_guard.cc:210] This TensorFlow binary is optimized to use available CPU instructions in performance-critical operations.\n",
            "To enable the following instructions: AVX2 FMA, in other operations, rebuild TensorFlow with the appropriate compiler flags.\n",
            "\u001b[1m\n",
            "================================== Results ==================================\u001b[0m\n",
            "\n",
            "TOK     100.00\n",
            "NER P   89.12 \n",
            "NER R   87.17 \n",
            "NER F   88.13 \n",
            "SPEED   1905  \n",
            "\n",
            "\u001b[1m\n",
            "=============================== NER (per type) ===============================\u001b[0m\n",
            "\n",
            "             P       R       F\n",
            "LOC      93.27   88.14   90.63\n",
            "PCT      95.70   98.89   97.27\n",
            "JOB      74.39   65.45   69.64\n",
            "PERS     96.20   96.60   96.40\n",
            "PERIOD   76.92   70.27   73.45\n",
            "ORG      90.89   90.71   90.80\n",
            "DOC      64.29   45.00   52.94\n",
            "MISC     36.13   30.28   32.95\n",
            "QUANT    81.00   91.01   85.71\n",
            "DATE     85.32   91.62   88.35\n",
            "ART      73.87   69.20   71.46\n",
            "TIME     66.67   60.00   63.16\n",
            "MON      95.48   91.08   93.23\n",
            "\n",
            "\u001b[38;5;2m✔ Saved results to\n",
            "/content/drive/MyDrive/NER_evaluation_results/orig_ner_results/orig.json\u001b[0m\n"
          ]
        }
      ],
      "source": [
        "!python -m spacy evaluate /content/drive/MyDrive/retrained_ner_origin /content/drive/MyDrive/spacy_files_for_ner/orig_ner/test.spacy --output /content/drive/MyDrive/NER_evaluation_results/orig_ner_results/orig.json --gpu-id 0"
      ]
    },
    {
      "cell_type": "code",
      "execution_count": null,
      "metadata": {
        "colab": {
          "base_uri": "https://localhost:8080/"
        },
        "id": "kOdtuNcKgO9U",
        "outputId": "720a75b5-2bd2-4060-8d28-65d802538f9f"
      },
      "outputs": [
        {
          "name": "stdout",
          "output_type": "stream",
          "text": [
            "\u001b[38;5;4mℹ Using GPU: 0\u001b[0m\n",
            "2025-04-22 10:50:01.213239: E external/local_xla/xla/stream_executor/cuda/cuda_fft.cc:477] Unable to register cuFFT factory: Attempting to register factory for plugin cuFFT when one has already been registered\n",
            "WARNING: All log messages before absl::InitializeLog() is called are written to STDERR\n",
            "E0000 00:00:1745319001.233156    4205 cuda_dnn.cc:8310] Unable to register cuDNN factory: Attempting to register factory for plugin cuDNN when one has already been registered\n",
            "E0000 00:00:1745319001.239728    4205 cuda_blas.cc:1418] Unable to register cuBLAS factory: Attempting to register factory for plugin cuBLAS when one has already been registered\n",
            "2025-04-22 10:50:01.261975: I tensorflow/core/platform/cpu_feature_guard.cc:210] This TensorFlow binary is optimized to use available CPU instructions in performance-critical operations.\n",
            "To enable the following instructions: AVX2 FMA, in other operations, rebuild TensorFlow with the appropriate compiler flags.\n",
            "\u001b[1m\n",
            "================================== Results ==================================\u001b[0m\n",
            "\n",
            "TOK     100.00\n",
            "NER P   92.17 \n",
            "NER R   85.81 \n",
            "NER F   88.87 \n",
            "SPEED   1580  \n",
            "\n",
            "\u001b[1m\n",
            "=============================== NER (per type) ===============================\u001b[0m\n",
            "\n",
            "              P        R        F\n",
            "JOB       89.08    71.26    79.18\n",
            "PERS      98.60    98.60    98.60\n",
            "LOC       90.53    92.47    91.49\n",
            "QUANT     85.71    75.00    80.00\n",
            "DATE      92.47    93.48    92.97\n",
            "ORG       92.76    93.28    93.02\n",
            "MISC      33.33     9.09    14.29\n",
            "DOC       33.33    20.00    25.00\n",
            "TIME       0.00     0.00     0.00\n",
            "PERIOD    75.00    83.33    78.95\n",
            "ART       53.33    61.54    57.14\n",
            "PCT      100.00   100.00   100.00\n",
            "MON       96.97    96.97    96.97\n",
            "\n",
            "\u001b[38;5;2m✔ Saved results to\n",
            "/content/drive/MyDrive/NER_evaluation_results/orig_ner_results/swapped.json\u001b[0m\n"
          ]
        }
      ],
      "source": [
        "!python -m spacy evaluate /content/drive/MyDrive/retrained_ner_origin /content/drive/MyDrive/spacy_files_for_ner/swapped_ner/test.spacy --output /content/drive/MyDrive/NER_evaluation_results/orig_ner_results/swapped.json --gpu-id 0"
      ]
    },
    {
      "cell_type": "markdown",
      "metadata": {
        "id": "eYSK0kp3FhCl"
      },
      "source": [
        "# Load into HF repo"
      ]
    },
    {
      "cell_type": "code",
      "execution_count": null,
      "metadata": {
        "colab": {
          "base_uri": "https://localhost:8080/"
        },
        "id": "T4vVm21TGM_8",
        "outputId": "db4bd6ce-44cf-4ce8-cbdd-d19060d542f6"
      },
      "outputs": [
        {
          "name": "stdout",
          "output_type": "stream",
          "text": [
            "\u001b[38;5;3m⚠ Generating packages without the 'build' package is deprecated and\n",
            "will not be supported in the future. To install 'build': pip install build\u001b[0m\n",
            "\u001b[38;5;4mℹ Building package artifacts: wheel\u001b[0m\n",
            "2025-04-22 10:50:42.073004: E external/local_xla/xla/stream_executor/cuda/cuda_fft.cc:477] Unable to register cuFFT factory: Attempting to register factory for plugin cuFFT when one has already been registered\n",
            "WARNING: All log messages before absl::InitializeLog() is called are written to STDERR\n",
            "E0000 00:00:1745319042.092820    4373 cuda_dnn.cc:8310] Unable to register cuDNN factory: Attempting to register factory for plugin cuDNN when one has already been registered\n",
            "E0000 00:00:1745319042.099390    4373 cuda_blas.cc:1418] Unable to register cuBLAS factory: Attempting to register factory for plugin cuBLAS when one has already been registered\n",
            "2025-04-22 10:50:42.126198: I tensorflow/core/platform/cpu_feature_guard.cc:210] This TensorFlow binary is optimized to use available CPU instructions in performance-critical operations.\n",
            "To enable the following instructions: AVX2 FMA, in other operations, rebuild TensorFlow with the appropriate compiler flags.\n",
            "\u001b[38;5;2m✔ Including 2 package requirement(s) from meta and config\u001b[0m\n",
            "spacy-transformers>=1.3.8,<1.4.0, spacy>=3.8.5,<3.9.0\n",
            "\u001b[38;5;2m✔ Loaded meta.json from file\u001b[0m\n",
            "/content/drive/MyDrive/filtered_balanced_ner/meta.json\n",
            "\u001b[38;5;2m✔ Generated README.md from meta.json\u001b[0m\n",
            "\u001b[38;5;2m✔ Successfully created package directory\n",
            "'uk_ner_uk_gender_balanced-1.0.0'\u001b[0m\n",
            "uk_ner_uk_gender_balanced-1.0.0\n",
            "/usr/bin/python3: No module named build\n",
            "\u001b[38;5;3m⚠ Creating wheel with 'python -m build' failed. Falling back to\n",
            "deprecated use of 'wheel' with 'python setup.py bdist_wheel'\u001b[0m\n",
            "running bdist_wheel\n",
            "running build\n",
            "running build_py\n",
            "creating build/lib/uk_ner_uk_gender_balanced\n",
            "copying uk_ner_uk_gender_balanced/__init__.py -> build/lib/uk_ner_uk_gender_balanced\n",
            "creating build/lib/uk_ner_uk_gender_balanced/uk_ner_uk_gender_balanced-1.0.0\n",
            "copying uk_ner_uk_gender_balanced/uk_ner_uk_gender_balanced-1.0.0/README.md -> build/lib/uk_ner_uk_gender_balanced/uk_ner_uk_gender_balanced-1.0.0\n",
            "copying uk_ner_uk_gender_balanced/uk_ner_uk_gender_balanced-1.0.0/config.cfg -> build/lib/uk_ner_uk_gender_balanced/uk_ner_uk_gender_balanced-1.0.0\n",
            "copying uk_ner_uk_gender_balanced/uk_ner_uk_gender_balanced-1.0.0/tokenizer -> build/lib/uk_ner_uk_gender_balanced/uk_ner_uk_gender_balanced-1.0.0\n",
            "copying uk_ner_uk_gender_balanced/uk_ner_uk_gender_balanced-1.0.0/meta.json -> build/lib/uk_ner_uk_gender_balanced/uk_ner_uk_gender_balanced-1.0.0\n",
            "creating build/lib/uk_ner_uk_gender_balanced/uk_ner_uk_gender_balanced-1.0.0/vocab\n",
            "copying uk_ner_uk_gender_balanced/uk_ner_uk_gender_balanced-1.0.0/vocab/key2row -> build/lib/uk_ner_uk_gender_balanced/uk_ner_uk_gender_balanced-1.0.0/vocab\n",
            "copying uk_ner_uk_gender_balanced/uk_ner_uk_gender_balanced-1.0.0/vocab/strings.json -> build/lib/uk_ner_uk_gender_balanced/uk_ner_uk_gender_balanced-1.0.0/vocab\n",
            "copying uk_ner_uk_gender_balanced/uk_ner_uk_gender_balanced-1.0.0/vocab/vectors.cfg -> build/lib/uk_ner_uk_gender_balanced/uk_ner_uk_gender_balanced-1.0.0/vocab\n",
            "copying uk_ner_uk_gender_balanced/uk_ner_uk_gender_balanced-1.0.0/vocab/vectors -> build/lib/uk_ner_uk_gender_balanced/uk_ner_uk_gender_balanced-1.0.0/vocab\n",
            "copying uk_ner_uk_gender_balanced/uk_ner_uk_gender_balanced-1.0.0/vocab/lookups.bin -> build/lib/uk_ner_uk_gender_balanced/uk_ner_uk_gender_balanced-1.0.0/vocab\n",
            "creating build/lib/uk_ner_uk_gender_balanced/uk_ner_uk_gender_balanced-1.0.0/ner\n",
            "copying uk_ner_uk_gender_balanced/uk_ner_uk_gender_balanced-1.0.0/ner/moves -> build/lib/uk_ner_uk_gender_balanced/uk_ner_uk_gender_balanced-1.0.0/ner\n",
            "copying uk_ner_uk_gender_balanced/uk_ner_uk_gender_balanced-1.0.0/ner/cfg -> build/lib/uk_ner_uk_gender_balanced/uk_ner_uk_gender_balanced-1.0.0/ner\n",
            "copying uk_ner_uk_gender_balanced/uk_ner_uk_gender_balanced-1.0.0/ner/model -> build/lib/uk_ner_uk_gender_balanced/uk_ner_uk_gender_balanced-1.0.0/ner\n",
            "creating build/lib/uk_ner_uk_gender_balanced/uk_ner_uk_gender_balanced-1.0.0/transformer\n",
            "copying uk_ner_uk_gender_balanced/uk_ner_uk_gender_balanced-1.0.0/transformer/cfg -> build/lib/uk_ner_uk_gender_balanced/uk_ner_uk_gender_balanced-1.0.0/transformer\n",
            "copying uk_ner_uk_gender_balanced/uk_ner_uk_gender_balanced-1.0.0/transformer/model -> build/lib/uk_ner_uk_gender_balanced/uk_ner_uk_gender_balanced-1.0.0/transformer\n",
            "copying uk_ner_uk_gender_balanced/meta.json -> build/lib/uk_ner_uk_gender_balanced\n",
            "/usr/local/lib/python3.11/dist-packages/setuptools/_distutils/cmd.py:66: SetuptoolsDeprecationWarning: setup.py install is deprecated.\n",
            "!!\n",
            "\n",
            "        ********************************************************************************\n",
            "        Please avoid running ``setup.py`` directly.\n",
            "        Instead, use pypa/build, pypa/installer or other\n",
            "        standards-based tools.\n",
            "\n",
            "        See https://blog.ganssle.io/articles/2021/10/setup-py-deprecated.html for details.\n",
            "        ********************************************************************************\n",
            "\n",
            "!!\n",
            "  self.initialize_options()\n",
            "installing to build/bdist.linux-x86_64/wheel\n",
            "running install\n",
            "running install_lib\n",
            "creating build/bdist.linux-x86_64/wheel\n",
            "creating build/bdist.linux-x86_64/wheel/uk_ner_uk_gender_balanced\n",
            "creating build/bdist.linux-x86_64/wheel/uk_ner_uk_gender_balanced/uk_ner_uk_gender_balanced-1.0.0\n",
            "creating build/bdist.linux-x86_64/wheel/uk_ner_uk_gender_balanced/uk_ner_uk_gender_balanced-1.0.0/vocab\n",
            "copying build/lib/uk_ner_uk_gender_balanced/uk_ner_uk_gender_balanced-1.0.0/vocab/key2row -> build/bdist.linux-x86_64/wheel/./uk_ner_uk_gender_balanced/uk_ner_uk_gender_balanced-1.0.0/vocab\n",
            "copying build/lib/uk_ner_uk_gender_balanced/uk_ner_uk_gender_balanced-1.0.0/vocab/strings.json -> build/bdist.linux-x86_64/wheel/./uk_ner_uk_gender_balanced/uk_ner_uk_gender_balanced-1.0.0/vocab\n",
            "copying build/lib/uk_ner_uk_gender_balanced/uk_ner_uk_gender_balanced-1.0.0/vocab/vectors.cfg -> build/bdist.linux-x86_64/wheel/./uk_ner_uk_gender_balanced/uk_ner_uk_gender_balanced-1.0.0/vocab\n",
            "copying build/lib/uk_ner_uk_gender_balanced/uk_ner_uk_gender_balanced-1.0.0/vocab/vectors -> build/bdist.linux-x86_64/wheel/./uk_ner_uk_gender_balanced/uk_ner_uk_gender_balanced-1.0.0/vocab\n",
            "copying build/lib/uk_ner_uk_gender_balanced/uk_ner_uk_gender_balanced-1.0.0/vocab/lookups.bin -> build/bdist.linux-x86_64/wheel/./uk_ner_uk_gender_balanced/uk_ner_uk_gender_balanced-1.0.0/vocab\n",
            "copying build/lib/uk_ner_uk_gender_balanced/uk_ner_uk_gender_balanced-1.0.0/README.md -> build/bdist.linux-x86_64/wheel/./uk_ner_uk_gender_balanced/uk_ner_uk_gender_balanced-1.0.0\n",
            "copying build/lib/uk_ner_uk_gender_balanced/uk_ner_uk_gender_balanced-1.0.0/config.cfg -> build/bdist.linux-x86_64/wheel/./uk_ner_uk_gender_balanced/uk_ner_uk_gender_balanced-1.0.0\n",
            "copying build/lib/uk_ner_uk_gender_balanced/uk_ner_uk_gender_balanced-1.0.0/tokenizer -> build/bdist.linux-x86_64/wheel/./uk_ner_uk_gender_balanced/uk_ner_uk_gender_balanced-1.0.0\n",
            "creating build/bdist.linux-x86_64/wheel/uk_ner_uk_gender_balanced/uk_ner_uk_gender_balanced-1.0.0/ner\n",
            "copying build/lib/uk_ner_uk_gender_balanced/uk_ner_uk_gender_balanced-1.0.0/ner/moves -> build/bdist.linux-x86_64/wheel/./uk_ner_uk_gender_balanced/uk_ner_uk_gender_balanced-1.0.0/ner\n",
            "copying build/lib/uk_ner_uk_gender_balanced/uk_ner_uk_gender_balanced-1.0.0/ner/cfg -> build/bdist.linux-x86_64/wheel/./uk_ner_uk_gender_balanced/uk_ner_uk_gender_balanced-1.0.0/ner\n",
            "copying build/lib/uk_ner_uk_gender_balanced/uk_ner_uk_gender_balanced-1.0.0/ner/model -> build/bdist.linux-x86_64/wheel/./uk_ner_uk_gender_balanced/uk_ner_uk_gender_balanced-1.0.0/ner\n",
            "creating build/bdist.linux-x86_64/wheel/uk_ner_uk_gender_balanced/uk_ner_uk_gender_balanced-1.0.0/transformer\n",
            "copying build/lib/uk_ner_uk_gender_balanced/uk_ner_uk_gender_balanced-1.0.0/transformer/cfg -> build/bdist.linux-x86_64/wheel/./uk_ner_uk_gender_balanced/uk_ner_uk_gender_balanced-1.0.0/transformer\n",
            "copying build/lib/uk_ner_uk_gender_balanced/uk_ner_uk_gender_balanced-1.0.0/transformer/model -> build/bdist.linux-x86_64/wheel/./uk_ner_uk_gender_balanced/uk_ner_uk_gender_balanced-1.0.0/transformer\n",
            "copying build/lib/uk_ner_uk_gender_balanced/uk_ner_uk_gender_balanced-1.0.0/meta.json -> build/bdist.linux-x86_64/wheel/./uk_ner_uk_gender_balanced/uk_ner_uk_gender_balanced-1.0.0\n",
            "copying build/lib/uk_ner_uk_gender_balanced/meta.json -> build/bdist.linux-x86_64/wheel/./uk_ner_uk_gender_balanced\n",
            "copying build/lib/uk_ner_uk_gender_balanced/__init__.py -> build/bdist.linux-x86_64/wheel/./uk_ner_uk_gender_balanced\n",
            "running install_egg_info\n",
            "running egg_info\n",
            "creating uk_ner_uk_gender_balanced.egg-info\n",
            "writing uk_ner_uk_gender_balanced.egg-info/PKG-INFO\n",
            "writing dependency_links to uk_ner_uk_gender_balanced.egg-info/dependency_links.txt\n",
            "writing entry points to uk_ner_uk_gender_balanced.egg-info/entry_points.txt\n",
            "writing requirements to uk_ner_uk_gender_balanced.egg-info/requires.txt\n",
            "writing top-level names to uk_ner_uk_gender_balanced.egg-info/top_level.txt\n",
            "writing manifest file 'uk_ner_uk_gender_balanced.egg-info/SOURCES.txt'\n",
            "reading manifest file 'uk_ner_uk_gender_balanced.egg-info/SOURCES.txt'\n",
            "reading manifest template 'MANIFEST.in'\n",
            "warning: no files found matching 'LICENSE'\n",
            "warning: no files found matching 'LICENSES_SOURCES'\n",
            "writing manifest file 'uk_ner_uk_gender_balanced.egg-info/SOURCES.txt'\n",
            "Copying uk_ner_uk_gender_balanced.egg-info to build/bdist.linux-x86_64/wheel/./uk_ner_uk_gender_balanced-1.0.0-py3.11.egg-info\n",
            "running install_scripts\n",
            "creating build/bdist.linux-x86_64/wheel/uk_ner_uk_gender_balanced-1.0.0.dist-info/WHEEL\n",
            "creating 'dist/uk_ner_uk_gender_balanced-1.0.0-py3-none-any.whl' and adding 'build/bdist.linux-x86_64/wheel' to it\n",
            "adding 'uk_ner_uk_gender_balanced/__init__.py'\n",
            "adding 'uk_ner_uk_gender_balanced/meta.json'\n",
            "adding 'uk_ner_uk_gender_balanced/uk_ner_uk_gender_balanced-1.0.0/README.md'\n",
            "adding 'uk_ner_uk_gender_balanced/uk_ner_uk_gender_balanced-1.0.0/config.cfg'\n",
            "adding 'uk_ner_uk_gender_balanced/uk_ner_uk_gender_balanced-1.0.0/meta.json'\n",
            "adding 'uk_ner_uk_gender_balanced/uk_ner_uk_gender_balanced-1.0.0/tokenizer'\n",
            "adding 'uk_ner_uk_gender_balanced/uk_ner_uk_gender_balanced-1.0.0/ner/cfg'\n",
            "adding 'uk_ner_uk_gender_balanced/uk_ner_uk_gender_balanced-1.0.0/ner/model'\n",
            "adding 'uk_ner_uk_gender_balanced/uk_ner_uk_gender_balanced-1.0.0/ner/moves'\n",
            "adding 'uk_ner_uk_gender_balanced/uk_ner_uk_gender_balanced-1.0.0/transformer/cfg'\n",
            "adding 'uk_ner_uk_gender_balanced/uk_ner_uk_gender_balanced-1.0.0/transformer/model'\n",
            "adding 'uk_ner_uk_gender_balanced/uk_ner_uk_gender_balanced-1.0.0/vocab/key2row'\n",
            "adding 'uk_ner_uk_gender_balanced/uk_ner_uk_gender_balanced-1.0.0/vocab/lookups.bin'\n",
            "adding 'uk_ner_uk_gender_balanced/uk_ner_uk_gender_balanced-1.0.0/vocab/strings.json'\n",
            "adding 'uk_ner_uk_gender_balanced/uk_ner_uk_gender_balanced-1.0.0/vocab/vectors'\n",
            "adding 'uk_ner_uk_gender_balanced/uk_ner_uk_gender_balanced-1.0.0/vocab/vectors.cfg'\n",
            "adding 'uk_ner_uk_gender_balanced-1.0.0.dist-info/METADATA'\n",
            "adding 'uk_ner_uk_gender_balanced-1.0.0.dist-info/WHEEL'\n",
            "adding 'uk_ner_uk_gender_balanced-1.0.0.dist-info/entry_points.txt'\n",
            "adding 'uk_ner_uk_gender_balanced-1.0.0.dist-info/top_level.txt'\n",
            "adding 'uk_ner_uk_gender_balanced-1.0.0.dist-info/RECORD'\n",
            "removing build/bdist.linux-x86_64/wheel\n",
            "\u001b[38;5;2m✔ Successfully created binary wheel\u001b[0m\n",
            "uk_ner_uk_gender_balanced-1.0.0/dist/uk_ner_uk_gender_balanced-1.0.0-py3-none-any.whl\n"
          ]
        }
      ],
      "source": [
        "!python -m spacy package /content/drive/MyDrive/filtered_balanced_ner ./ --build wheel --name ner_uk_gender_balanced --version 1.0.0"
      ]
    },
    {
      "cell_type": "code",
      "execution_count": null,
      "metadata": {
        "colab": {
          "base_uri": "https://localhost:8080/"
        },
        "id": "CDW2Nr-lG5uO",
        "outputId": "e7ade9bf-8fbf-4926-b3fe-1edaa46b3acf"
      },
      "outputs": [],
      "source": [
        "!huggingface-cli login"
      ]
    },
    {
      "cell_type": "code",
      "execution_count": null,
      "metadata": {
        "colab": {
          "base_uri": "https://localhost:8080/"
        },
        "id": "_uPlA6ewJEA5",
        "outputId": "94acc7a7-e881-491a-b49f-b74d651c80b0"
      },
      "outputs": [],
      "source": [
        "!huggingface-cli repo create uk_ner_gender-balanced --type model"
      ]
    },
    {
      "cell_type": "code",
      "execution_count": null,
      "metadata": {
        "colab": {
          "base_uri": "https://localhost:8080/",
          "height": 216,
          "referenced_widgets": [
            "b99f0c02a30c424d9faa94aa286e94fc",
            "efeb1d7e038f40858643aeaf3d80f191",
            "51f9a04c39294d85b67490231c7d1089",
            "71848fc8a900439f9b939561c4d31663",
            "2276893e12f043dd803eb66ae3f3b5ef",
            "b3a48d7262464ae1853fae6003d6aa6f",
            "1d124fc3966249cda79070ba7128fad1",
            "cc4755eb0fd74abeab2ca0a1b922dd95",
            "fca822890f7943e5a07e08cc51148823",
            "0902c3066d404a2fa46a79247bbde0e5",
            "d9df6cf5bc11433980abab2452c1de44",
            "77b9c8d25cb146c382aa61e12a80a1f3",
            "30e043ad3bde4c899576e250f6273681",
            "940ae558eab241c3af877dd8873bc179",
            "2117b6f5fb6041dda39990368e2b8c97",
            "117871687b6241798cdb9d624787dee0",
            "324ff80f8b2b46afb24721fb654c31b3",
            "578005c3cf3c44db834c947e76704bbd",
            "c5c4cca099344a8683773cfc39233f04",
            "1c78bcd9ea9b4044afc16dc9781cf84d",
            "b9b4235c6615408e84a5f4a94f5a2dc2",
            "cdeec8bef4cd49ecbd8bbd3470efd224",
            "8733c31386f147169f2e716c138dca9d",
            "30571e14167f490ab215adc59cab050e",
            "a968908876984401b2c4b439548c47d5",
            "8bec7f2a02b7469fa6b596738a7b3d27",
            "958b3287f0bf4f68a569171b9e416c2f",
            "6d8f334efb9946d2802269dcb5e4c58a",
            "13fa3b8b481948388b43d44fc9d59a8d",
            "8f369c7025924dd78f5a54b3b8f630f4",
            "d54642c8218d4381a4ed8c7a425b8444",
            "bdafa019958f4a58995f6fff302bfeb8",
            "8881d2b3e8e94db8bd029c54fad8073d",
            "f42f7fe82b7149c9ada16063431a5fde",
            "eddd373dbe7d4449a3c4c84d189b9dc9",
            "f241d4e48fc7492eaf7852df0689608c",
            "989027d8f7fe44a7b471ec3d11024c3a",
            "f0fc365b97df4a8a852abe13bcc52293",
            "469e8386f04845cab194a87421e4a7f7",
            "e859f4b21d1544c7908c1694efa5492f",
            "dd63e13c2e81465ab388f072267ea1bb",
            "e295bd2d4e434847a6d74fd5760c2d40",
            "fb96e772c8df4cfea72466c67898e02f",
            "97f92596e30e4d14901452e57fb148e6"
          ]
        },
        "id": "Vbal8DFQG-Ci",
        "outputId": "a63e357c-73f7-430d-bc2b-b7bf0a290bf4"
      },
      "outputs": [
        {
          "data": {
            "application/vnd.jupyter.widget-view+json": {
              "model_id": "b99f0c02a30c424d9faa94aa286e94fc",
              "version_major": 2,
              "version_minor": 0
            },
            "text/plain": [
              "Upload 3 LFS files:   0%|          | 0/3 [00:00<?, ?it/s]"
            ]
          },
          "metadata": {},
          "output_type": "display_data"
        },
        {
          "data": {
            "application/vnd.jupyter.widget-view+json": {
              "model_id": "77b9c8d25cb146c382aa61e12a80a1f3",
              "version_major": 2,
              "version_minor": 0
            },
            "text/plain": [
              "lookups.bin:   0%|          | 0.00/1.00 [00:00<?, ?B/s]"
            ]
          },
          "metadata": {},
          "output_type": "display_data"
        },
        {
          "data": {
            "application/vnd.jupyter.widget-view+json": {
              "model_id": "8733c31386f147169f2e716c138dca9d",
              "version_major": 2,
              "version_minor": 0
            },
            "text/plain": [
              "model:   0%|          | 0.00/1.04M [00:00<?, ?B/s]"
            ]
          },
          "metadata": {},
          "output_type": "display_data"
        },
        {
          "data": {
            "application/vnd.jupyter.widget-view+json": {
              "model_id": "f42f7fe82b7149c9ada16063431a5fde",
              "version_major": 2,
              "version_minor": 0
            },
            "text/plain": [
              "model:   0%|          | 0.00/1.43G [00:00<?, ?B/s]"
            ]
          },
          "metadata": {},
          "output_type": "display_data"
        },
        {
          "data": {
            "application/vnd.google.colaboratory.intrinsic+json": {
              "type": "string"
            },
            "text/plain": [
              "CommitInfo(commit_url='https://huggingface.co/linndfors/uk_ner_gender-balanced/commit/aec4de537476e37efbad0ed142073e67a8331203', commit_message='Upload folder using huggingface_hub', commit_description='', oid='aec4de537476e37efbad0ed142073e67a8331203', pr_url=None, repo_url=RepoUrl('https://huggingface.co/linndfors/uk_ner_gender-balanced', endpoint='https://huggingface.co', repo_type='model', repo_id='linndfors/uk_ner_gender-balanced'), pr_revision=None, pr_num=None)"
            ]
          },
          "execution_count": 22,
          "metadata": {},
          "output_type": "execute_result"
        }
      ],
      "source": [
        "from huggingface_hub import upload_folder\n",
        "\n",
        "upload_folder(\n",
        "    folder_path=\"/content/drive/MyDrive/filtered_balanced_ner\",\n",
        "    repo_id=\"linndfors/uk_ner_gender-balanced\",\n",
        "    path_in_repo=\"\",\n",
        ")"
      ]
    },
    {
      "cell_type": "code",
      "execution_count": null,
      "metadata": {
        "colab": {
          "base_uri": "https://localhost:8080/"
        },
        "id": "0_TlZ2yhgBTL",
        "outputId": "634d6791-9e86-4fcb-b4a1-d3ca24b83abc"
      },
      "outputs": [],
      "source": [
        "!pip install https://huggingface.co/linndfors/uk_ner_gender-balanced/resolve/main/uk_ner_uk_gender_balanced-1.0.0-py3-none-any.whl"
      ]
    },
    {
      "cell_type": "code",
      "execution_count": null,
      "metadata": {
        "id": "Jg9q1rlQgEVd"
      },
      "outputs": [],
      "source": [
        "import spacy\n",
        "nlp = spacy.load(\"uk_ner_uk_gender_balanced\")"
      ]
    },
    {
      "cell_type": "code",
      "execution_count": null,
      "metadata": {
        "id": "qkIaRMrdgZfC"
      },
      "outputs": [],
      "source": [
        "doc = nlp(\"На вул. Липинського стояла президентка Оксана і розмовляла з протестувальниками\")"
      ]
    },
    {
      "cell_type": "code",
      "execution_count": null,
      "metadata": {
        "colab": {
          "base_uri": "https://localhost:8080/"
        },
        "id": "hXjwgu8NggyH",
        "outputId": "a204cf3e-649a-477c-9fa3-562ce54f3d83"
      },
      "outputs": [
        {
          "data": {
            "text/plain": [
              "(вул. Липинського, президентка, Оксана)"
            ]
          },
          "execution_count": 49,
          "metadata": {},
          "output_type": "execute_result"
        }
      ],
      "source": [
        "doc.ents"
      ]
    }
  ],
  "metadata": {
    "accelerator": "GPU",
    "colab": {
      "gpuType": "T4",
      "provenance": []
    },
    "kernelspec": {
      "display_name": "new_venv",
      "language": "python",
      "name": "python3"
    },
    "language_info": {
      "codemirror_mode": {
        "name": "ipython",
        "version": 3
      },
      "file_extension": ".py",
      "mimetype": "text/x-python",
      "name": "python",
      "nbconvert_exporter": "python",
      "pygments_lexer": "ipython3",
      "version": "3.10.16"
    }
  },
  "nbformat": 4,
  "nbformat_minor": 0
}
